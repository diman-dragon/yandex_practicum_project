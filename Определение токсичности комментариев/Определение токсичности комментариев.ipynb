{
 "cells": [
  {
   "cell_type": "markdown",
   "metadata": {},
   "source": [
    "# Проект для «Викишоп»"
   ]
  },
  {
   "cell_type": "markdown",
   "metadata": {},
   "source": [
    "Интернет-магазин «Викишоп» запускает новый сервис. Теперь пользователи могут редактировать и дополнять описания товаров, как в вики-сообществах. То есть клиенты предлагают свои правки и комментируют изменения других. Магазину нужен инструмент, который будет искать токсичные комментарии и отправлять их на модерацию. \n",
    "\n",
    "Обучите модель классифицировать комментарии на позитивные и негативные. В вашем распоряжении набор данных с разметкой о токсичности правок.\n",
    "\n",
    "Постройте модель со значением метрики качества *F1* не меньше 0.75. \n",
    "\n",
    "**Инструкция по выполнению проекта**\n",
    "\n",
    "1. Загрузите и подготовьте данные.\n",
    "2. Обучите разные модели. \n",
    "3. Сделайте выводы.\n",
    "\n",
    "Для выполнения проекта применять *BERT* необязательно, но вы можете попробовать.\n",
    "\n",
    "**Описание данных**\n",
    "\n",
    "Данные находятся в файле `toxic_comments.csv`. Столбец *text* в нём содержит текст комментария, а *toxic* — целевой признак."
   ]
  },
  {
   "cell_type": "markdown",
   "metadata": {},
   "source": [
    "# План проекта:\n",
    "1. Загрузим и изучим данные. \n",
    "2. Проанализируем данные, подготовим их к обучению моделей.\n",
    "3. Подготовим выборки для обучения моделей.\n",
    "4. Обучим разные модели: линейную регрессию, SGDClassifier, библиотеку градиентного бустинга CatBoost.\n",
    "5. Для каждой модели попробуем разные гиперпараметры.\n",
    "6. Проанализируем качество моделей.\n",
    "7. Выберем лучшую модель."
   ]
  },
  {
   "cell_type": "markdown",
   "metadata": {},
   "source": [
    "## Подготовка"
   ]
  },
  {
   "cell_type": "code",
   "execution_count": 1,
   "metadata": {
    "scrolled": true
   },
   "outputs": [],
   "source": [
    "import pandas as pd\n",
    "import numpy as np\n",
    "import nltk\n",
    "import re\n",
    "import matplotlib.pyplot as plt\n",
    "\n",
    "import spacy\n",
    "\n",
    "from numpy.random import RandomState\n",
    "state = np.random.RandomState(12345)\n",
    "\n",
    "from sklearn.metrics import f1_score\n",
    "from sklearn.model_selection import train_test_split, GridSearchCV\n",
    "\n",
    "from sklearn.linear_model import LogisticRegression, SGDClassifier\n",
    "from catboost import CatBoostClassifier\n",
    "\n",
    "from sklearn.feature_extraction.text import CountVectorizer \n",
    "\n",
    "# from nltk.tokenize import RegexpTokenizer\n",
    "from nltk.corpus import stopwords\n",
    "# from nltk.stem import WordNetLemmatizer \n",
    "\n",
    "from sklearn.dummy import DummyClassifier\n",
    "\n",
    "from tqdm import notebook\n",
    "from tqdm.notebook import tqdm\n",
    "\n",
    "import warnings\n",
    "warnings.filterwarnings(\"ignore\")\n",
    "\n",
    "pd.set_option('display.max_colwidth', 1000)"
   ]
  },
  {
   "cell_type": "code",
   "execution_count": 2,
   "metadata": {
    "scrolled": true
   },
   "outputs": [
    {
     "name": "stderr",
     "output_type": "stream",
     "text": [
      "[nltk_data] Downloading package stopwords to /home/jovyan/nltk_data...\n",
      "[nltk_data]   Package stopwords is already up-to-date!\n"
     ]
    }
   ],
   "source": [
    "nltk.download('stopwords')\n",
    "stop_words = stopwords.words('english')"
   ]
  },
  {
   "cell_type": "code",
   "execution_count": 3,
   "metadata": {},
   "outputs": [],
   "source": [
    "toxic_comments = pd.read_csv('/datasets/toxic_comments.csv')"
   ]
  },
  {
   "cell_type": "code",
   "execution_count": 4,
   "metadata": {},
   "outputs": [
    {
     "data": {
      "text/html": [
       "<div>\n",
       "<style scoped>\n",
       "    .dataframe tbody tr th:only-of-type {\n",
       "        vertical-align: middle;\n",
       "    }\n",
       "\n",
       "    .dataframe tbody tr th {\n",
       "        vertical-align: top;\n",
       "    }\n",
       "\n",
       "    .dataframe thead th {\n",
       "        text-align: right;\n",
       "    }\n",
       "</style>\n",
       "<table border=\"1\" class=\"dataframe\">\n",
       "  <thead>\n",
       "    <tr style=\"text-align: right;\">\n",
       "      <th></th>\n",
       "      <th>Unnamed: 0</th>\n",
       "      <th>text</th>\n",
       "      <th>toxic</th>\n",
       "    </tr>\n",
       "  </thead>\n",
       "  <tbody>\n",
       "    <tr>\n",
       "      <th>0</th>\n",
       "      <td>0</td>\n",
       "      <td>Explanation\\nWhy the edits made under my username Hardcore Metallica Fan were reverted? They weren't vandalisms, just closure on some GAs after I voted at New York Dolls FAC. And please don't remove the template from the talk page since I'm retired now.89.205.38.27</td>\n",
       "      <td>0</td>\n",
       "    </tr>\n",
       "    <tr>\n",
       "      <th>1</th>\n",
       "      <td>1</td>\n",
       "      <td>D'aww! He matches this background colour I'm seemingly stuck with. Thanks.  (talk) 21:51, January 11, 2016 (UTC)</td>\n",
       "      <td>0</td>\n",
       "    </tr>\n",
       "    <tr>\n",
       "      <th>2</th>\n",
       "      <td>2</td>\n",
       "      <td>Hey man, I'm really not trying to edit war. It's just that this guy is constantly removing relevant information and talking to me through edits instead of my talk page. He seems to care more about the formatting than the actual info.</td>\n",
       "      <td>0</td>\n",
       "    </tr>\n",
       "    <tr>\n",
       "      <th>3</th>\n",
       "      <td>3</td>\n",
       "      <td>\"\\nMore\\nI can't make any real suggestions on improvement - I wondered if the section statistics should be later on, or a subsection of \"\"types of accidents\"\"  -I think the references may need tidying so that they are all in the exact same format ie date format etc. I can do that later on, if no-one else does first - if you have any preferences for formatting style on references or want to do it yourself please let me know.\\n\\nThere appears to be a backlog on articles for review so I guess there may be a delay until a reviewer turns up. It's listed in the relevant form eg Wikipedia:Good_article_nominations#Transport  \"</td>\n",
       "      <td>0</td>\n",
       "    </tr>\n",
       "    <tr>\n",
       "      <th>4</th>\n",
       "      <td>4</td>\n",
       "      <td>You, sir, are my hero. Any chance you remember what page that's on?</td>\n",
       "      <td>0</td>\n",
       "    </tr>\n",
       "  </tbody>\n",
       "</table>\n",
       "</div>"
      ],
      "text/plain": [
       "   Unnamed: 0  \\\n",
       "0           0   \n",
       "1           1   \n",
       "2           2   \n",
       "3           3   \n",
       "4           4   \n",
       "\n",
       "                                                                                                                                                                                                                                                                                                                                                                                                                                                                                                                                                                                                                                                 text  \\\n",
       "0                                                                                                                                                                                                                                                                                                                                                                           Explanation\\nWhy the edits made under my username Hardcore Metallica Fan were reverted? They weren't vandalisms, just closure on some GAs after I voted at New York Dolls FAC. And please don't remove the template from the talk page since I'm retired now.89.205.38.27   \n",
       "1                                                                                                                                                                                                                                                                                                                                                                                                                                                                                                                                    D'aww! He matches this background colour I'm seemingly stuck with. Thanks.  (talk) 21:51, January 11, 2016 (UTC)   \n",
       "2                                                                                                                                                                                                                                                                                                                                                                                                           Hey man, I'm really not trying to edit war. It's just that this guy is constantly removing relevant information and talking to me through edits instead of my talk page. He seems to care more about the formatting than the actual info.   \n",
       "3  \"\\nMore\\nI can't make any real suggestions on improvement - I wondered if the section statistics should be later on, or a subsection of \"\"types of accidents\"\"  -I think the references may need tidying so that they are all in the exact same format ie date format etc. I can do that later on, if no-one else does first - if you have any preferences for formatting style on references or want to do it yourself please let me know.\\n\\nThere appears to be a backlog on articles for review so I guess there may be a delay until a reviewer turns up. It's listed in the relevant form eg Wikipedia:Good_article_nominations#Transport  \"   \n",
       "4                                                                                                                                                                                                                                                                                                                                                                                                                                                                                                                                                                                 You, sir, are my hero. Any chance you remember what page that's on?   \n",
       "\n",
       "   toxic  \n",
       "0      0  \n",
       "1      0  \n",
       "2      0  \n",
       "3      0  \n",
       "4      0  "
      ]
     },
     "execution_count": 4,
     "metadata": {},
     "output_type": "execute_result"
    }
   ],
   "source": [
    "toxic_comments.head()"
   ]
  },
  {
   "cell_type": "code",
   "execution_count": 5,
   "metadata": {
    "scrolled": true
   },
   "outputs": [
    {
     "name": "stdout",
     "output_type": "stream",
     "text": [
      "<class 'pandas.core.frame.DataFrame'>\n",
      "RangeIndex: 159292 entries, 0 to 159291\n",
      "Data columns (total 3 columns):\n",
      " #   Column      Non-Null Count   Dtype \n",
      "---  ------      --------------   ----- \n",
      " 0   Unnamed: 0  159292 non-null  int64 \n",
      " 1   text        159292 non-null  object\n",
      " 2   toxic       159292 non-null  int64 \n",
      "dtypes: int64(2), object(1)\n",
      "memory usage: 3.6+ MB\n"
     ]
    }
   ],
   "source": [
    "toxic_comments.info()"
   ]
  },
  {
   "cell_type": "code",
   "execution_count": 6,
   "metadata": {},
   "outputs": [
    {
     "data": {
      "image/png": "[encoded data removed]",
      "text/plain": [
       "<Figure size 432x288 with 1 Axes>"
      ]
     },
     "metadata": {
      "needs_background": "light"
     },
     "output_type": "display_data"
    }
   ],
   "source": [
    "toxic_comments['toxic'].value_counts().plot(kind='bar')\n",
    "plt.legend()\n",
    "plt.title('Распределение токсичных комментариев')\n",
    "plt.show()"
   ]
  },
  {
   "cell_type": "code",
   "execution_count": 7,
   "metadata": {},
   "outputs": [
    {
     "name": "stdout",
     "output_type": "stream",
     "text": [
      "Процент объектов класса 1 к общему объёму датасета: 10%\n"
     ]
    }
   ],
   "source": [
    "print(f\"Процент объектов класса 1 к общему объёму датасета: {(sum(toxic_comments['toxic']) / len(toxic_comments) * 100):.0f}%\")"
   ]
  },
  {
   "cell_type": "markdown",
   "metadata": {},
   "source": [
    "Изначально в данных существенный дисбаланс классов. Учтем это в дальнейшем."
   ]
  },
  {
   "cell_type": "markdown",
   "metadata": {},
   "source": [
    "Очистим наши данные:\\\n",
    "Удалим все нерелевантные символы (например, любые символы, не относящиеся к цифро-буквенным).\\\n",
    "Переведем все символы в нижний регистр.\\\n",
    "Токенизируем текст, разделив его на индивидуальные слова.\\\n",
    "Проведем лемматизацию."
   ]
  },
  {
   "cell_type": "code",
   "execution_count": 8,
   "metadata": {},
   "outputs": [],
   "source": [
    "# lemmatizer = WordNetLemmatizer()\n",
    "def standardize_text(text):\n",
    "    text = re.sub(r'[^a-zA-z ]', ' ', text)\n",
    "    text = text.lower()\n",
    "    token = nltk.word_tokenize(text)\n",
    "    text = [word for word in token if word not in stop_words]\n",
    "#     text = [lemmatizer.lemmatize(word) for word in text]\n",
    "    text = ' '.join(text)\n",
    "    return text"
   ]
  },
  {
   "cell_type": "code",
   "execution_count": 9,
   "metadata": {},
   "outputs": [
    {
     "data": {
      "application/vnd.jupyter.widget-view+json": {
       "model_id": "5a6d3f75724447eea03edb2f687b4267",
       "version_major": 2,
       "version_minor": 0
      },
      "text/plain": [
       "  0%|          | 0/159292 [00:00<?, ?it/s]"
      ]
     },
     "metadata": {},
     "output_type": "display_data"
    }
   ],
   "source": [
    "tqdm.pandas()\n",
    "\n",
    "toxic_comments['standardize_text'] = toxic_comments['text'].progress_apply(standardize_text)"
   ]
  },
  {
   "cell_type": "code",
   "execution_count": 10,
   "metadata": {},
   "outputs": [],
   "source": [
    "# Проведем лемматизацию\n",
    "nlp = spacy.load('en_core_web_sm')\n",
    "\n",
    "def lemmatize(text):\n",
    "    doc = nlp(text)\n",
    "    return ' '.join([word.lemma_ for word in doc])"
   ]
  },
  {
   "cell_type": "code",
   "execution_count": 11,
   "metadata": {},
   "outputs": [
    {
     "data": {
      "application/vnd.jupyter.widget-view+json": {
       "model_id": "3506bc8fd4a54fcbb8e7fb33e7a064b2",
       "version_major": 2,
       "version_minor": 0
      },
      "text/plain": [
       "  0%|          | 0/159292 [00:00<?, ?it/s]"
      ]
     },
     "metadata": {},
     "output_type": "display_data"
    }
   ],
   "source": [
    "tqdm.pandas()\n",
    "\n",
    "toxic_comments['standardize_text'] = toxic_comments['standardize_text'].progress_apply(lemmatize)"
   ]
  },
  {
   "cell_type": "code",
   "execution_count": 12,
   "metadata": {},
   "outputs": [
    {
     "data": {
      "text/html": [
       "<div>\n",
       "<style scoped>\n",
       "    .dataframe tbody tr th:only-of-type {\n",
       "        vertical-align: middle;\n",
       "    }\n",
       "\n",
       "    .dataframe tbody tr th {\n",
       "        vertical-align: top;\n",
       "    }\n",
       "\n",
       "    .dataframe thead th {\n",
       "        text-align: right;\n",
       "    }\n",
       "</style>\n",
       "<table border=\"1\" class=\"dataframe\">\n",
       "  <thead>\n",
       "    <tr style=\"text-align: right;\">\n",
       "      <th></th>\n",
       "      <th>Unnamed: 0</th>\n",
       "      <th>text</th>\n",
       "      <th>toxic</th>\n",
       "      <th>standardize_text</th>\n",
       "    </tr>\n",
       "  </thead>\n",
       "  <tbody>\n",
       "    <tr>\n",
       "      <th>0</th>\n",
       "      <td>0</td>\n",
       "      <td>Explanation\\nWhy the edits made under my username Hardcore Metallica Fan were reverted? They weren't vandalisms, just closure on some GAs after I voted at New York Dolls FAC. And please don't remove the template from the talk page since I'm retired now.89.205.38.27</td>\n",
       "      <td>0</td>\n",
       "      <td>explanation edit make username hardcore metallica fan revert vandalism closure gas vote new york doll fac please remove template talk page since retire</td>\n",
       "    </tr>\n",
       "    <tr>\n",
       "      <th>1</th>\n",
       "      <td>1</td>\n",
       "      <td>D'aww! He matches this background colour I'm seemingly stuck with. Thanks.  (talk) 21:51, January 11, 2016 (UTC)</td>\n",
       "      <td>0</td>\n",
       "      <td>aww match background colour seemingly stick thank talk january utc</td>\n",
       "    </tr>\n",
       "    <tr>\n",
       "      <th>2</th>\n",
       "      <td>2</td>\n",
       "      <td>Hey man, I'm really not trying to edit war. It's just that this guy is constantly removing relevant information and talking to me through edits instead of my talk page. He seems to care more about the formatting than the actual info.</td>\n",
       "      <td>0</td>\n",
       "      <td>hey man really try edit war guy constantly remove relevant information talk edit instead talk page seem care format actual info</td>\n",
       "    </tr>\n",
       "    <tr>\n",
       "      <th>3</th>\n",
       "      <td>3</td>\n",
       "      <td>\"\\nMore\\nI can't make any real suggestions on improvement - I wondered if the section statistics should be later on, or a subsection of \"\"types of accidents\"\"  -I think the references may need tidying so that they are all in the exact same format ie date format etc. I can do that later on, if no-one else does first - if you have any preferences for formatting style on references or want to do it yourself please let me know.\\n\\nThere appears to be a backlog on articles for review so I guess there may be a delay until a reviewer turns up. It's listed in the relevant form eg Wikipedia:Good_article_nominations#Transport  \"</td>\n",
       "      <td>0</td>\n",
       "      <td>make real suggestion improvement wonder section statistic later subsection type accident think reference may need tidy exact format ie date format etc later one else first preference format style reference want please let know appear backlog article review guess may delay reviewer turn list relevant form eg wikipedia good_article_nomination transport</td>\n",
       "    </tr>\n",
       "    <tr>\n",
       "      <th>4</th>\n",
       "      <td>4</td>\n",
       "      <td>You, sir, are my hero. Any chance you remember what page that's on?</td>\n",
       "      <td>0</td>\n",
       "      <td>sir hero chance remember page</td>\n",
       "    </tr>\n",
       "  </tbody>\n",
       "</table>\n",
       "</div>"
      ],
      "text/plain": [
       "   Unnamed: 0  \\\n",
       "0           0   \n",
       "1           1   \n",
       "2           2   \n",
       "3           3   \n",
       "4           4   \n",
       "\n",
       "                                                                                                                                                                                                                                                                                                                                                                                                                                                                                                                                                                                                                                                 text  \\\n",
       "0                                                                                                                                                                                                                                                                                                                                                                           Explanation\\nWhy the edits made under my username Hardcore Metallica Fan were reverted? They weren't vandalisms, just closure on some GAs after I voted at New York Dolls FAC. And please don't remove the template from the talk page since I'm retired now.89.205.38.27   \n",
       "1                                                                                                                                                                                                                                                                                                                                                                                                                                                                                                                                    D'aww! He matches this background colour I'm seemingly stuck with. Thanks.  (talk) 21:51, January 11, 2016 (UTC)   \n",
       "2                                                                                                                                                                                                                                                                                                                                                                                                           Hey man, I'm really not trying to edit war. It's just that this guy is constantly removing relevant information and talking to me through edits instead of my talk page. He seems to care more about the formatting than the actual info.   \n",
       "3  \"\\nMore\\nI can't make any real suggestions on improvement - I wondered if the section statistics should be later on, or a subsection of \"\"types of accidents\"\"  -I think the references may need tidying so that they are all in the exact same format ie date format etc. I can do that later on, if no-one else does first - if you have any preferences for formatting style on references or want to do it yourself please let me know.\\n\\nThere appears to be a backlog on articles for review so I guess there may be a delay until a reviewer turns up. It's listed in the relevant form eg Wikipedia:Good_article_nominations#Transport  \"   \n",
       "4                                                                                                                                                                                                                                                                                                                                                                                                                                                                                                                                                                                 You, sir, are my hero. Any chance you remember what page that's on?   \n",
       "\n",
       "   toxic  \\\n",
       "0      0   \n",
       "1      0   \n",
       "2      0   \n",
       "3      0   \n",
       "4      0   \n",
       "\n",
       "                                                                                                                                                                                                                                                                                                                                                   standardize_text  \n",
       "0                                                                                                                                                                                                           explanation edit make username hardcore metallica fan revert vandalism closure gas vote new york doll fac please remove template talk page since retire  \n",
       "1                                                                                                                                                                                                                                                                                                aww match background colour seemingly stick thank talk january utc  \n",
       "2                                                                                                                                                                                                                                   hey man really try edit war guy constantly remove relevant information talk edit instead talk page seem care format actual info  \n",
       "3  make real suggestion improvement wonder section statistic later subsection type accident think reference may need tidy exact format ie date format etc later one else first preference format style reference want please let know appear backlog article review guess may delay reviewer turn list relevant form eg wikipedia good_article_nomination transport  \n",
       "4                                                                                                                                                                                                                                                                                                                                     sir hero chance remember page  "
      ]
     },
     "execution_count": 12,
     "metadata": {},
     "output_type": "execute_result"
    }
   ],
   "source": [
    "toxic_comments.head()"
   ]
  },
  {
   "cell_type": "code",
   "execution_count": 13,
   "metadata": {},
   "outputs": [],
   "source": [
    "# Разделим текст на тренировочную и тестовую выборки\n",
    "\n",
    "X = toxic_comments['standardize_text']\n",
    "y = toxic_comments['toxic']\n",
    "\n",
    "X_train, X_test, y_train, y_test = train_test_split(X, y, test_size=0.1, random_state=state)"
   ]
  },
  {
   "cell_type": "code",
   "execution_count": 14,
   "metadata": {},
   "outputs": [],
   "source": [
    "count_vectorizer = CountVectorizer(stop_words=stop_words)\n",
    "\n",
    "X_train_counts = count_vectorizer.fit_transform(X_train)\n",
    "X_test_counts = count_vectorizer.transform(X_test)"
   ]
  },
  {
   "cell_type": "markdown",
   "metadata": {},
   "source": [
    "Вывод по этапу 1.\n",
    "Данные очищены, подготовлены для обучения моделей."
   ]
  },
  {
   "cell_type": "markdown",
   "metadata": {},
   "source": [
    "## Обучение"
   ]
  },
  {
   "cell_type": "markdown",
   "metadata": {},
   "source": [
    "### Логистическая регрессия"
   ]
  },
  {
   "cell_type": "code",
   "execution_count": 15,
   "metadata": {},
   "outputs": [
    {
     "name": "stdout",
     "output_type": "stream",
     "text": [
      "Fitting 5 folds for each of 6 candidates, totalling 30 fits\n",
      "CPU times: user 4min 43s, sys: 9min 12s, total: 13min 55s\n",
      "Wall time: 13min 56s\n"
     ]
    }
   ],
   "source": [
    "%%time\n",
    "\n",
    "param_grid = {'C' : [0.1, 1.0, 10.0], 'penalty' : ['l1', 'l2']}\n",
    "            \n",
    "clf = GridSearchCV(LogisticRegression(random_state=state, class_weight='balanced'), \n",
    "                   param_grid, \n",
    "                   scoring='f1',\n",
    "                   verbose=True,\n",
    "                   cv=5, \n",
    "                   n_jobs = -1)\n",
    "clf.fit(X_train_counts, y_train)\n",
    "clf_best_score = clf.best_score_\n",
    "clf_best_params = clf.best_params_\n",
    "# predictions_clf = clf.predict(X_test_counts)"
   ]
  },
  {
   "cell_type": "code",
   "execution_count": 16,
   "metadata": {
    "scrolled": true
   },
   "outputs": [],
   "source": [
    "# f1_clf = f1_score(y_test, predictions_clf)\n",
    "# print(\"f1 логистической регрессии = %.3f\" % (f1_clf))"
   ]
  },
  {
   "cell_type": "markdown",
   "metadata": {},
   "source": [
    "### Модель SGDClassifier"
   ]
  },
  {
   "cell_type": "code",
   "execution_count": 17,
   "metadata": {},
   "outputs": [
    {
     "name": "stdout",
     "output_type": "stream",
     "text": [
      "CPU times: user 32min 49s, sys: 1min 28s, total: 34min 18s\n",
      "Wall time: 34min 19s\n"
     ]
    }
   ],
   "source": [
    "%%time\n",
    "model_sgd = SGDClassifier(random_state=state, class_weight='balanced')\n",
    "hyperparams = [{'loss':['hinge', 'log', 'modified_huber'],\n",
    "                'learning_rate':['constant', 'optimal', 'invscaling', 'adaptive'],\n",
    "                'eta0':[0.01, 0.05, 0.1, 0.2, 0.3, 0.5]}]\n",
    "\n",
    "model_sgd = GridSearchCV(model_sgd, \n",
    "                         hyperparams, \n",
    "                         scoring='f1', \n",
    "                         cv=5, \n",
    "                         n_jobs = -1)\n",
    "model_sgd.fit(X_train_counts, y_train)\n",
    "# predictions_sgd = model_sgd.predict(X_test_counts)\n",
    "model_sgd.fit(X_train_counts, y_train)\n",
    "model_sgd_best_score = model_sgd.best_score_\n",
    "model_sgd_best_params = model_sgd.best_params_"
   ]
  },
  {
   "cell_type": "code",
   "execution_count": 18,
   "metadata": {},
   "outputs": [],
   "source": [
    "# f1_sgd = f1_score(y_test, predictions_sgd)\n",
    "# print(\"f1 SGDClassifier = %.3f\" % (f1_sgd))"
   ]
  },
  {
   "cell_type": "markdown",
   "metadata": {},
   "source": [
    "### Модель CatBoostClassifier"
   ]
  },
  {
   "cell_type": "code",
   "execution_count": 19,
   "metadata": {
    "scrolled": false
   },
   "outputs": [
    {
     "name": "stdout",
     "output_type": "stream",
     "text": [
      "0:\tlearn: 0.6625291\ttotal: 1.26s\tremaining: 11.4s\n",
      "1:\tlearn: 0.6335477\ttotal: 2.39s\tremaining: 9.57s\n",
      "2:\tlearn: 0.6055700\ttotal: 3.62s\tremaining: 8.44s\n",
      "3:\tlearn: 0.5790274\ttotal: 5.08s\tremaining: 7.63s\n",
      "4:\tlearn: 0.5558776\ttotal: 6.31s\tremaining: 6.31s\n",
      "5:\tlearn: 0.5341097\ttotal: 7.51s\tremaining: 5s\n",
      "6:\tlearn: 0.5127512\ttotal: 8.77s\tremaining: 3.76s\n",
      "7:\tlearn: 0.4934942\ttotal: 10s\tremaining: 2.51s\n",
      "8:\tlearn: 0.4753940\ttotal: 11.2s\tremaining: 1.25s\n",
      "9:\tlearn: 0.4589874\ttotal: 12.4s\tremaining: 0us\n",
      "0:\tlearn: 0.6617616\ttotal: 1.75s\tremaining: 15.8s\n",
      "1:\tlearn: 0.6326570\ttotal: 2.94s\tremaining: 11.8s\n",
      "2:\tlearn: 0.6057378\ttotal: 4.15s\tremaining: 9.69s\n",
      "3:\tlearn: 0.5801161\ttotal: 5.34s\tremaining: 8.01s\n",
      "4:\tlearn: 0.5560953\ttotal: 6.52s\tremaining: 6.52s\n",
      "5:\tlearn: 0.5348210\ttotal: 7.74s\tremaining: 5.16s\n",
      "6:\tlearn: 0.5141173\ttotal: 8.97s\tremaining: 3.84s\n",
      "7:\tlearn: 0.4948486\ttotal: 10.2s\tremaining: 2.54s\n",
      "8:\tlearn: 0.4761676\ttotal: 11.4s\tremaining: 1.27s\n",
      "9:\tlearn: 0.4591507\ttotal: 12.8s\tremaining: 0us\n",
      "0:\tlearn: 0.6617195\ttotal: 1.27s\tremaining: 11.4s\n",
      "1:\tlearn: 0.6317902\ttotal: 2.47s\tremaining: 9.87s\n",
      "2:\tlearn: 0.6039520\ttotal: 3.71s\tremaining: 8.65s\n",
      "3:\tlearn: 0.5784163\ttotal: 5.08s\tremaining: 7.62s\n",
      "4:\tlearn: 0.5548051\ttotal: 6.5s\tremaining: 6.5s\n",
      "5:\tlearn: 0.5329510\ttotal: 8.01s\tremaining: 5.34s\n",
      "6:\tlearn: 0.5114658\ttotal: 9.28s\tremaining: 3.98s\n",
      "7:\tlearn: 0.4922671\ttotal: 10.6s\tremaining: 2.66s\n",
      "8:\tlearn: 0.4746402\ttotal: 11.9s\tremaining: 1.32s\n",
      "9:\tlearn: 0.4591626\ttotal: 13.1s\tremaining: 0us\n",
      "0:\tlearn: 0.6616885\ttotal: 1.15s\tremaining: 10.4s\n",
      "1:\tlearn: 0.6325919\ttotal: 2.33s\tremaining: 9.34s\n",
      "2:\tlearn: 0.6055754\ttotal: 3.51s\tremaining: 8.18s\n",
      "3:\tlearn: 0.5803485\ttotal: 4.65s\tremaining: 6.98s\n",
      "4:\tlearn: 0.5570417\ttotal: 5.8s\tremaining: 5.8s\n",
      "5:\tlearn: 0.5350588\ttotal: 7.01s\tremaining: 4.67s\n",
      "6:\tlearn: 0.5140846\ttotal: 8.21s\tremaining: 3.52s\n",
      "7:\tlearn: 0.4950193\ttotal: 9.34s\tremaining: 2.34s\n",
      "8:\tlearn: 0.4776697\ttotal: 10.5s\tremaining: 1.17s\n",
      "9:\tlearn: 0.4613423\ttotal: 11.7s\tremaining: 0us\n",
      "0:\tlearn: 0.6610219\ttotal: 1.22s\tremaining: 10.9s\n",
      "1:\tlearn: 0.6317667\ttotal: 2.42s\tremaining: 9.67s\n",
      "2:\tlearn: 0.6047237\ttotal: 3.6s\tremaining: 8.39s\n",
      "3:\tlearn: 0.5788608\ttotal: 4.78s\tremaining: 7.17s\n",
      "4:\tlearn: 0.5551201\ttotal: 6.05s\tremaining: 6.05s\n",
      "5:\tlearn: 0.5330409\ttotal: 7.27s\tremaining: 4.85s\n",
      "6:\tlearn: 0.5117969\ttotal: 8.52s\tremaining: 3.65s\n",
      "7:\tlearn: 0.4931780\ttotal: 9.73s\tremaining: 2.43s\n",
      "8:\tlearn: 0.4750627\ttotal: 11s\tremaining: 1.22s\n",
      "9:\tlearn: 0.4581572\ttotal: 12.2s\tremaining: 0us\n",
      "0:\tlearn: 0.5964981\ttotal: 1.87s\tremaining: 16.8s\n",
      "1:\tlearn: 0.5185509\ttotal: 3.1s\tremaining: 12.4s\n",
      "2:\tlearn: 0.4582991\ttotal: 4.36s\tremaining: 10.2s\n",
      "3:\tlearn: 0.4086526\ttotal: 5.62s\tremaining: 8.44s\n",
      "4:\tlearn: 0.3721961\ttotal: 6.9s\tremaining: 6.9s\n",
      "5:\tlearn: 0.3424071\ttotal: 8.2s\tremaining: 5.46s\n",
      "6:\tlearn: 0.3178614\ttotal: 9.5s\tremaining: 4.07s\n",
      "7:\tlearn: 0.3001574\ttotal: 10.8s\tremaining: 2.7s\n",
      "8:\tlearn: 0.2858340\ttotal: 12.2s\tremaining: 1.36s\n",
      "9:\tlearn: 0.2746400\ttotal: 13.5s\tremaining: 0us\n",
      "0:\tlearn: 0.5944784\ttotal: 1.25s\tremaining: 11.3s\n",
      "1:\tlearn: 0.5150952\ttotal: 2.47s\tremaining: 9.88s\n",
      "2:\tlearn: 0.4557048\ttotal: 3.74s\tremaining: 8.74s\n",
      "3:\tlearn: 0.4062989\ttotal: 4.99s\tremaining: 7.49s\n",
      "4:\tlearn: 0.3681246\ttotal: 6.27s\tremaining: 6.27s\n",
      "5:\tlearn: 0.3395314\ttotal: 7.52s\tremaining: 5.01s\n",
      "6:\tlearn: 0.3167668\ttotal: 8.78s\tremaining: 3.76s\n",
      "7:\tlearn: 0.2972120\ttotal: 10.2s\tremaining: 2.55s\n",
      "8:\tlearn: 0.2830557\ttotal: 11.5s\tremaining: 1.27s\n",
      "9:\tlearn: 0.2722667\ttotal: 12.7s\tremaining: 0us\n",
      "0:\tlearn: 0.5942202\ttotal: 1.24s\tremaining: 11.2s\n",
      "1:\tlearn: 0.5157644\ttotal: 2.52s\tremaining: 10.1s\n",
      "2:\tlearn: 0.4541821\ttotal: 3.76s\tremaining: 8.78s\n",
      "3:\tlearn: 0.4073224\ttotal: 4.97s\tremaining: 7.46s\n",
      "4:\tlearn: 0.3701701\ttotal: 6.22s\tremaining: 6.22s\n",
      "5:\tlearn: 0.3411916\ttotal: 7.6s\tremaining: 5.07s\n",
      "6:\tlearn: 0.3186133\ttotal: 8.88s\tremaining: 3.81s\n",
      "7:\tlearn: 0.3008277\ttotal: 10.2s\tremaining: 2.54s\n",
      "8:\tlearn: 0.2844766\ttotal: 11.5s\tremaining: 1.28s\n",
      "9:\tlearn: 0.2726906\ttotal: 12.9s\tremaining: 0us\n",
      "0:\tlearn: 0.5936615\ttotal: 1.19s\tremaining: 10.8s\n",
      "1:\tlearn: 0.5159122\ttotal: 2.4s\tremaining: 9.62s\n",
      "2:\tlearn: 0.4539244\ttotal: 3.68s\tremaining: 8.58s\n",
      "3:\tlearn: 0.4096816\ttotal: 4.88s\tremaining: 7.31s\n",
      "4:\tlearn: 0.3725368\ttotal: 6.13s\tremaining: 6.13s\n",
      "5:\tlearn: 0.3428505\ttotal: 7.37s\tremaining: 4.91s\n",
      "6:\tlearn: 0.3203077\ttotal: 8.67s\tremaining: 3.72s\n",
      "7:\tlearn: 0.2997985\ttotal: 9.92s\tremaining: 2.48s\n",
      "8:\tlearn: 0.2858844\ttotal: 11.2s\tremaining: 1.24s\n",
      "9:\tlearn: 0.2744444\ttotal: 12.4s\tremaining: 0us\n",
      "0:\tlearn: 0.5918366\ttotal: 1.18s\tremaining: 10.7s\n",
      "1:\tlearn: 0.5135840\ttotal: 2.41s\tremaining: 9.63s\n",
      "2:\tlearn: 0.4515824\ttotal: 3.67s\tremaining: 8.57s\n",
      "3:\tlearn: 0.4057826\ttotal: 4.84s\tremaining: 7.27s\n",
      "4:\tlearn: 0.3689984\ttotal: 6.15s\tremaining: 6.15s\n",
      "5:\tlearn: 0.3402460\ttotal: 7.39s\tremaining: 4.93s\n",
      "6:\tlearn: 0.3172705\ttotal: 8.62s\tremaining: 3.69s\n",
      "7:\tlearn: 0.2981108\ttotal: 9.86s\tremaining: 2.46s\n",
      "8:\tlearn: 0.2844005\ttotal: 11.1s\tremaining: 1.24s\n",
      "9:\tlearn: 0.2727865\ttotal: 12.4s\tremaining: 0us\n",
      "0:\tlearn: 0.6616382\ttotal: 5.79s\tremaining: 52.1s\n",
      "1:\tlearn: 0.6316672\ttotal: 8.23s\tremaining: 32.9s\n",
      "2:\tlearn: 0.6034038\ttotal: 10.8s\tremaining: 25.2s\n",
      "3:\tlearn: 0.5784982\ttotal: 13.3s\tremaining: 19.9s\n",
      "4:\tlearn: 0.5537474\ttotal: 15.7s\tremaining: 15.7s\n",
      "5:\tlearn: 0.5318843\ttotal: 18.2s\tremaining: 12.1s\n",
      "6:\tlearn: 0.5108620\ttotal: 20.7s\tremaining: 8.88s\n",
      "7:\tlearn: 0.4915959\ttotal: 23.2s\tremaining: 5.8s\n",
      "8:\tlearn: 0.4735437\ttotal: 25.7s\tremaining: 2.86s\n",
      "9:\tlearn: 0.4566196\ttotal: 28.3s\tremaining: 0us\n",
      "0:\tlearn: 0.6617641\ttotal: 2.28s\tremaining: 20.5s\n",
      "1:\tlearn: 0.6315446\ttotal: 4.65s\tremaining: 18.6s\n",
      "2:\tlearn: 0.6045024\ttotal: 7.04s\tremaining: 16.4s\n",
      "3:\tlearn: 0.5791039\ttotal: 9.42s\tremaining: 14.1s\n",
      "4:\tlearn: 0.5556867\ttotal: 11.8s\tremaining: 11.8s\n",
      "5:\tlearn: 0.5321390\ttotal: 14.2s\tremaining: 9.48s\n",
      "6:\tlearn: 0.5114734\ttotal: 16.7s\tremaining: 7.15s\n",
      "7:\tlearn: 0.4918308\ttotal: 19.1s\tremaining: 4.77s\n",
      "8:\tlearn: 0.4740722\ttotal: 21.6s\tremaining: 2.39s\n",
      "9:\tlearn: 0.4568658\ttotal: 24s\tremaining: 0us\n",
      "0:\tlearn: 0.6617194\ttotal: 2.3s\tremaining: 20.7s\n",
      "1:\tlearn: 0.6317851\ttotal: 4.66s\tremaining: 18.6s\n",
      "2:\tlearn: 0.6035612\ttotal: 7.12s\tremaining: 16.6s\n",
      "3:\tlearn: 0.5776374\ttotal: 9.52s\tremaining: 14.3s\n",
      "4:\tlearn: 0.5532380\ttotal: 12s\tremaining: 12s\n",
      "5:\tlearn: 0.5306761\ttotal: 14.4s\tremaining: 9.63s\n",
      "6:\tlearn: 0.5099033\ttotal: 17.1s\tremaining: 7.31s\n",
      "7:\tlearn: 0.4913900\ttotal: 19.5s\tremaining: 4.87s\n",
      "8:\tlearn: 0.4741291\ttotal: 21.9s\tremaining: 2.43s\n",
      "9:\tlearn: 0.4566734\ttotal: 24.4s\tremaining: 0us\n",
      "0:\tlearn: 0.6616890\ttotal: 2.26s\tremaining: 20.3s\n",
      "1:\tlearn: 0.6311001\ttotal: 4.66s\tremaining: 18.6s\n",
      "2:\tlearn: 0.6043373\ttotal: 7.01s\tremaining: 16.4s\n",
      "3:\tlearn: 0.5775285\ttotal: 9.49s\tremaining: 14.2s\n",
      "4:\tlearn: 0.5529995\ttotal: 11.9s\tremaining: 11.9s\n",
      "5:\tlearn: 0.5319747\ttotal: 14.3s\tremaining: 9.51s\n",
      "6:\tlearn: 0.5107340\ttotal: 16.8s\tremaining: 7.18s\n",
      "7:\tlearn: 0.4916319\ttotal: 19.3s\tremaining: 4.82s\n",
      "8:\tlearn: 0.4737303\ttotal: 21.7s\tremaining: 2.41s\n",
      "9:\tlearn: 0.4578184\ttotal: 24.1s\tremaining: 0us\n",
      "0:\tlearn: 0.6610242\ttotal: 2.29s\tremaining: 20.6s\n",
      "1:\tlearn: 0.6309224\ttotal: 4.76s\tremaining: 19s\n",
      "2:\tlearn: 0.6037359\ttotal: 7.1s\tremaining: 16.6s\n",
      "3:\tlearn: 0.5771792\ttotal: 9.68s\tremaining: 14.5s\n",
      "4:\tlearn: 0.5537858\ttotal: 12.1s\tremaining: 12.1s\n",
      "5:\tlearn: 0.5318332\ttotal: 14.6s\tremaining: 9.7s\n",
      "6:\tlearn: 0.5109171\ttotal: 17s\tremaining: 7.28s\n",
      "7:\tlearn: 0.4916209\ttotal: 19.5s\tremaining: 4.87s\n",
      "8:\tlearn: 0.4735726\ttotal: 21.9s\tremaining: 2.43s\n",
      "9:\tlearn: 0.4569881\ttotal: 24.3s\tremaining: 0us\n",
      "0:\tlearn: 0.5933806\ttotal: 2.22s\tremaining: 20s\n",
      "1:\tlearn: 0.5160562\ttotal: 4.55s\tremaining: 18.2s\n",
      "2:\tlearn: 0.4526468\ttotal: 7s\tremaining: 16.3s\n",
      "3:\tlearn: 0.4072703\ttotal: 9.32s\tremaining: 14s\n",
      "4:\tlearn: 0.3680852\ttotal: 11.8s\tremaining: 11.8s\n",
      "5:\tlearn: 0.3368764\ttotal: 14.3s\tremaining: 9.53s\n",
      "6:\tlearn: 0.3112683\ttotal: 16.8s\tremaining: 7.21s\n",
      "7:\tlearn: 0.2926507\ttotal: 19.3s\tremaining: 4.83s\n",
      "8:\tlearn: 0.2772153\ttotal: 21.8s\tremaining: 2.43s\n",
      "9:\tlearn: 0.2657250\ttotal: 24.3s\tremaining: 0us\n",
      "0:\tlearn: 0.5943981\ttotal: 2.37s\tremaining: 21.4s\n",
      "1:\tlearn: 0.5150709\ttotal: 4.8s\tremaining: 19.2s\n",
      "2:\tlearn: 0.4550199\ttotal: 7.22s\tremaining: 16.8s\n",
      "3:\tlearn: 0.4041840\ttotal: 9.73s\tremaining: 14.6s\n",
      "4:\tlearn: 0.3669501\ttotal: 12.3s\tremaining: 12.3s\n",
      "5:\tlearn: 0.3361608\ttotal: 14.8s\tremaining: 9.88s\n",
      "6:\tlearn: 0.3105053\ttotal: 17.5s\tremaining: 7.48s\n",
      "7:\tlearn: 0.2917898\ttotal: 19.9s\tremaining: 4.98s\n",
      "8:\tlearn: 0.2772544\ttotal: 22.5s\tremaining: 2.5s\n",
      "9:\tlearn: 0.2656977\ttotal: 25s\tremaining: 0us\n",
      "0:\tlearn: 0.5942219\ttotal: 2.29s\tremaining: 20.6s\n",
      "1:\tlearn: 0.5157612\ttotal: 4.64s\tremaining: 18.6s\n",
      "2:\tlearn: 0.4526646\ttotal: 7.14s\tremaining: 16.7s\n",
      "3:\tlearn: 0.4040735\ttotal: 9.57s\tremaining: 14.4s\n",
      "4:\tlearn: 0.3649504\ttotal: 12.1s\tremaining: 12.1s\n",
      "5:\tlearn: 0.3357356\ttotal: 14.6s\tremaining: 9.74s\n",
      "6:\tlearn: 0.3115403\ttotal: 17s\tremaining: 7.3s\n",
      "7:\tlearn: 0.2916454\ttotal: 19.5s\tremaining: 4.87s\n",
      "8:\tlearn: 0.2774923\ttotal: 22.1s\tremaining: 2.45s\n",
      "9:\tlearn: 0.2666947\ttotal: 24.6s\tremaining: 0us\n",
      "0:\tlearn: 0.5936631\ttotal: 2.27s\tremaining: 20.4s\n",
      "1:\tlearn: 0.5137832\ttotal: 4.69s\tremaining: 18.8s\n",
      "2:\tlearn: 0.4517334\ttotal: 7.05s\tremaining: 16.4s\n",
      "3:\tlearn: 0.4050974\ttotal: 9.46s\tremaining: 14.2s\n",
      "4:\tlearn: 0.3671049\ttotal: 11.9s\tremaining: 11.9s\n",
      "5:\tlearn: 0.3381061\ttotal: 14.4s\tremaining: 9.57s\n",
      "6:\tlearn: 0.3145478\ttotal: 16.9s\tremaining: 7.26s\n",
      "7:\tlearn: 0.2963855\ttotal: 19.4s\tremaining: 4.85s\n",
      "8:\tlearn: 0.2796207\ttotal: 22s\tremaining: 2.44s\n",
      "9:\tlearn: 0.2681214\ttotal: 24.6s\tremaining: 0us\n",
      "0:\tlearn: 0.5918378\ttotal: 2.27s\tremaining: 20.4s\n",
      "1:\tlearn: 0.5147505\ttotal: 4.72s\tremaining: 18.9s\n",
      "2:\tlearn: 0.4527706\ttotal: 7.07s\tremaining: 16.5s\n",
      "3:\tlearn: 0.4030140\ttotal: 9.55s\tremaining: 14.3s\n",
      "4:\tlearn: 0.3658852\ttotal: 12s\tremaining: 12s\n",
      "5:\tlearn: 0.3366331\ttotal: 14.5s\tremaining: 9.69s\n",
      "6:\tlearn: 0.3119779\ttotal: 17s\tremaining: 7.3s\n",
      "7:\tlearn: 0.2935850\ttotal: 19.6s\tremaining: 4.89s\n",
      "8:\tlearn: 0.2784044\ttotal: 22s\tremaining: 2.45s\n",
      "9:\tlearn: 0.2664844\ttotal: 24.6s\tremaining: 0us\n",
      "0:\tlearn: 0.5884437\ttotal: 2.9s\tremaining: 26.1s\n",
      "1:\tlearn: 0.5121483\ttotal: 5.23s\tremaining: 20.9s\n",
      "2:\tlearn: 0.4482710\ttotal: 7.6s\tremaining: 17.7s\n",
      "3:\tlearn: 0.3999145\ttotal: 9.89s\tremaining: 14.8s\n",
      "4:\tlearn: 0.3630567\ttotal: 12.3s\tremaining: 12.3s\n",
      "5:\tlearn: 0.3328633\ttotal: 14.7s\tremaining: 9.79s\n",
      "6:\tlearn: 0.3094576\ttotal: 17.1s\tremaining: 7.32s\n",
      "7:\tlearn: 0.2898296\ttotal: 19.6s\tremaining: 4.89s\n",
      "8:\tlearn: 0.2756918\ttotal: 22s\tremaining: 2.45s\n",
      "9:\tlearn: 0.2643410\ttotal: 24.5s\tremaining: 0us\n",
      "CPU times: user 17min 32s, sys: 1min 17s, total: 18min 49s\n",
      "Wall time: 19min 5s\n"
     ]
    }
   ],
   "source": [
    "%%time\n",
    "\n",
    "\n",
    "model_cbc = CatBoostClassifier()\n",
    "\n",
    "parameters_cbc = {'iterations': [10],\n",
    "        'learning_rate': [0.03, 0.1],\n",
    "        'depth': [6, 8],\n",
    "              }\n",
    "model_cbc = GridSearchCV(model_cbc, \n",
    "                        parameters_cbc, \n",
    "                        cv=5, \n",
    "                         scoring='f1',\n",
    "                        verbose=False,\n",
    "                        n_jobs=-1).fit(X_train_counts, y_train)\n",
    "model_cbc_best_score = model_cbc.best_score_\n",
    "model_cbc_best_params = model_sgd.best_params_\n",
    "# predictions_cbc = model_cbc.predict(X_test_counts)"
   ]
  },
  {
   "cell_type": "code",
   "execution_count": 20,
   "metadata": {
    "scrolled": false
   },
   "outputs": [],
   "source": [
    "# f1_cbc = f1_score(y_test, predictions_cbc)\n",
    "# print(\"f1 CatBoostClassifier = %.3f\" % (f1_cbc))"
   ]
  },
  {
   "cell_type": "code",
   "execution_count": 21,
   "metadata": {},
   "outputs": [
    {
     "data": {
      "text/html": [
       "<style  type=\"text/css\" >\n",
       "#T_664e9_row0_col0{\n",
       "            background-color:  yellow;\n",
       "        }</style><table id=\"T_664e9_\" ><thead>    <tr>        <th class=\"blank level0\" ></th>        <th class=\"col_heading level0 col0\" >F1_score</th>        <th class=\"col_heading level0 col1\" >Достижение целевого показателя</th>    </tr></thead><tbody>\n",
       "                <tr>\n",
       "                        <th id=\"T_664e9_level0_row0\" class=\"row_heading level0 row0\" >LogisticRegression</th>\n",
       "                        <td id=\"T_664e9_row0_col0\" class=\"data row0 col0\" >0.760441</td>\n",
       "                        <td id=\"T_664e9_row0_col1\" class=\"data row0 col1\" >True</td>\n",
       "            </tr>\n",
       "            <tr>\n",
       "                        <th id=\"T_664e9_level0_row1\" class=\"row_heading level0 row1\" >SGDClassifier</th>\n",
       "                        <td id=\"T_664e9_row1_col0\" class=\"data row1 col0\" >0.757399</td>\n",
       "                        <td id=\"T_664e9_row1_col1\" class=\"data row1 col1\" >True</td>\n",
       "            </tr>\n",
       "            <tr>\n",
       "                        <th id=\"T_664e9_level0_row2\" class=\"row_heading level0 row2\" >CatBoostClassifier</th>\n",
       "                        <td id=\"T_664e9_row2_col0\" class=\"data row2 col0\" >0.497551</td>\n",
       "                        <td id=\"T_664e9_row2_col1\" class=\"data row2 col1\" >False</td>\n",
       "            </tr>\n",
       "    </tbody></table>"
      ],
      "text/plain": [
       "<pandas.io.formats.style.Styler at 0x7f4dde98bd90>"
      ]
     },
     "execution_count": 21,
     "metadata": {},
     "output_type": "execute_result"
    }
   ],
   "source": [
    "index = ['LogisticRegression',\n",
    "         'SGDClassifier',\n",
    "         'CatBoostClassifier']\n",
    "data = {'F1_score':[clf_best_score, \n",
    "              model_sgd_best_score, \n",
    "              model_cbc_best_score]}\n",
    "        \n",
    "\n",
    "data_analys = pd.DataFrame(data=data, index=index)\n",
    "data_analys['Достижение целевого показателя'] = data_analys['F1_score'] > 0.75\n",
    "data_analys.style.highlight_max(color=\"yellow\")"
   ]
  },
  {
   "cell_type": "markdown",
   "metadata": {},
   "source": [
    "По результатам проверки лучшей моделью признаем модель LogisticRegression. SGDClassifier отстает совсем ненамного, целевой показатель также выполняет. "
   ]
  },
  {
   "cell_type": "code",
   "execution_count": 25,
   "metadata": {},
   "outputs": [
    {
     "name": "stdout",
     "output_type": "stream",
     "text": [
      "F1 score на тестовой выборке лучшей модели 0.7584097859327217\n"
     ]
    }
   ],
   "source": [
    "f1_lr_final = f1_score(y_test, clf.best_estimator_.predict(X_test_counts))\n",
    "print('F1 score на тестовой выборке лучшей модели', f1_lr_final)"
   ]
  },
  {
   "cell_type": "code",
   "execution_count": 26,
   "metadata": {},
   "outputs": [
    {
     "name": "stdout",
     "output_type": "stream",
     "text": [
      "f1 DummyClassifier = 0.164\n"
     ]
    }
   ],
   "source": [
    "# Проверим модель на адекватность\n",
    "dummy = DummyClassifier( strategy='uniform').fit(X_train_counts, y_train)\n",
    "dummy_pred = dummy.predict(X_test_counts)\n",
    "f1_dumme = f1_score(y_test, dummy_pred)\n",
    "print(\"f1 DummyClassifier = %.3f\" % (f1_dumme))"
   ]
  },
  {
   "cell_type": "markdown",
   "metadata": {},
   "source": [
    "## Выводы"
   ]
  },
  {
   "cell_type": "markdown",
   "metadata": {},
   "source": [
    "### Общий вывод по проекту.\n",
    "Загрузили, изучили и подготовили данные к исследованию. \\\n",
    "Подготовили данные для обучения моделей с учетом требований моделей.\\\n",
    "Обучили разные модели: 'LinearRegression', 'SGDRegressor', 'CatBoostRegressor'\\\n",
    "Для каждой модели попробовали разные гиперпараметры.\\\n",
    "Занесли данные в таблицу, визуализировали результаты.\\\n",
    "Выбрали лучшую модель. В данном задании лучшие результаты показывают простые линейные модели.\\\n",
    "Тестовое задание лучшая модель выполнила.\\\n",
    "Проверили модель на адекватность.\n"
   ]
  }
 ],
 "metadata": {
  "ExecuteTimeLog": [
   {
    "duration": 7456,
    "start_time": "2023-04-20T13:34:12.982Z"
   },
   {
    "duration": 255,
    "start_time": "2023-04-20T13:35:29.053Z"
   },
   {
    "duration": 151,
    "start_time": "2023-04-20T13:35:32.949Z"
   },
   {
    "duration": 40,
    "start_time": "2023-04-20T13:35:33.244Z"
   },
   {
    "duration": 8621,
    "start_time": "2023-04-20T13:36:16.191Z"
   },
   {
    "duration": 24,
    "start_time": "2023-04-20T13:36:24.818Z"
   },
   {
    "duration": 22,
    "start_time": "2023-04-20T13:36:44.333Z"
   },
   {
    "duration": 21,
    "start_time": "2023-04-20T13:37:03.789Z"
   },
   {
    "duration": 8,
    "start_time": "2023-04-20T13:37:40.889Z"
   },
   {
    "duration": 68,
    "start_time": "2023-04-20T13:37:45.334Z"
   },
   {
    "duration": 61,
    "start_time": "2023-04-20T13:39:06.427Z"
   },
   {
    "duration": 2618,
    "start_time": "2023-04-20T13:43:39.605Z"
   },
   {
    "duration": 122971,
    "start_time": "2023-04-20T13:45:25.593Z"
   },
   {
    "duration": 44,
    "start_time": "2023-04-20T13:54:55.704Z"
   },
   {
    "duration": 41,
    "start_time": "2023-04-20T13:55:01.400Z"
   },
   {
    "duration": 175715,
    "start_time": "2023-04-20T13:55:05.422Z"
   },
   {
    "duration": 0,
    "start_time": "2023-04-20T13:58:01.146Z"
   },
   {
    "duration": 303,
    "start_time": "2023-04-20T14:01:06.293Z"
   },
   {
    "duration": 73,
    "start_time": "2023-04-20T14:01:19.501Z"
   },
   {
    "duration": 48,
    "start_time": "2023-04-20T14:01:49.657Z"
   },
   {
    "duration": 61,
    "start_time": "2023-04-20T14:01:53.229Z"
   },
   {
    "duration": 66,
    "start_time": "2023-04-20T14:02:06.290Z"
   },
   {
    "duration": 199,
    "start_time": "2023-04-20T14:02:37.031Z"
   },
   {
    "duration": 185460,
    "start_time": "2023-04-20T14:02:57.257Z"
   },
   {
    "duration": 20443,
    "start_time": "2023-04-20T14:06:56.422Z"
   },
   {
    "duration": 471,
    "start_time": "2023-04-20T14:08:42.613Z"
   },
   {
    "duration": 448,
    "start_time": "2023-04-20T14:09:12.018Z"
   },
   {
    "duration": 163782,
    "start_time": "2023-04-20T14:09:47.101Z"
   },
   {
    "duration": 5,
    "start_time": "2023-04-20T14:12:30.891Z"
   },
   {
    "duration": 285,
    "start_time": "2023-04-20T14:12:30.904Z"
   },
   {
    "duration": 145083,
    "start_time": "2023-04-20T14:15:44.301Z"
   },
   {
    "duration": 145442,
    "start_time": "2023-04-20T14:19:33.784Z"
   },
   {
    "duration": 66,
    "start_time": "2023-04-20T14:21:59.232Z"
   },
   {
    "duration": 43,
    "start_time": "2023-04-20T14:27:21.657Z"
   },
   {
    "duration": 321,
    "start_time": "2023-04-20T14:27:37.017Z"
   },
   {
    "duration": 40,
    "start_time": "2023-04-20T14:27:48.208Z"
   },
   {
    "duration": 18395,
    "start_time": "2023-04-20T14:28:10.218Z"
   },
   {
    "duration": 5096,
    "start_time": "2023-04-20T14:28:28.616Z"
   },
   {
    "duration": 18,
    "start_time": "2023-04-20T14:28:33.714Z"
   },
   {
    "duration": 124,
    "start_time": "2023-04-20T14:28:33.737Z"
   },
   {
    "duration": 50,
    "start_time": "2023-04-20T14:28:33.864Z"
   },
   {
    "duration": 3048,
    "start_time": "2023-04-20T14:28:53.508Z"
   },
   {
    "duration": 31,
    "start_time": "2023-04-20T14:29:37.313Z"
   },
   {
    "duration": 22,
    "start_time": "2023-04-20T14:30:04.115Z"
   },
   {
    "duration": 5094,
    "start_time": "2023-04-20T14:33:05.325Z"
   },
   {
    "duration": 1440,
    "start_time": "2023-04-20T14:33:10.422Z"
   },
   {
    "duration": 28,
    "start_time": "2023-04-20T14:33:11.865Z"
   },
   {
    "duration": 57,
    "start_time": "2023-04-20T14:33:11.896Z"
   },
   {
    "duration": 30,
    "start_time": "2023-04-20T14:33:11.956Z"
   },
   {
    "duration": 79,
    "start_time": "2023-04-20T14:33:11.989Z"
   },
   {
    "duration": 33133,
    "start_time": "2023-04-20T14:33:12.070Z"
   },
   {
    "duration": 0,
    "start_time": "2023-04-20T14:33:45.209Z"
   },
   {
    "duration": 0,
    "start_time": "2023-04-20T14:33:45.211Z"
   },
   {
    "duration": 4902,
    "start_time": "2023-04-20T14:34:15.185Z"
   },
   {
    "duration": 1320,
    "start_time": "2023-04-20T14:34:20.089Z"
   },
   {
    "duration": 31,
    "start_time": "2023-04-20T14:34:21.411Z"
   },
   {
    "duration": 54,
    "start_time": "2023-04-20T14:34:21.449Z"
   },
   {
    "duration": 14,
    "start_time": "2023-04-20T14:34:21.508Z"
   },
   {
    "duration": 56,
    "start_time": "2023-04-20T14:34:21.525Z"
   },
   {
    "duration": 5943,
    "start_time": "2023-04-20T14:47:55.457Z"
   },
   {
    "duration": 1319,
    "start_time": "2023-04-20T14:48:01.404Z"
   },
   {
    "duration": 47,
    "start_time": "2023-04-20T14:48:02.725Z"
   },
   {
    "duration": 74,
    "start_time": "2023-04-20T14:48:02.788Z"
   },
   {
    "duration": 66,
    "start_time": "2023-04-20T14:48:02.865Z"
   },
   {
    "duration": 90,
    "start_time": "2023-04-20T14:48:02.933Z"
   },
   {
    "duration": 148749,
    "start_time": "2023-04-20T14:49:46.795Z"
   },
   {
    "duration": 97,
    "start_time": "2023-04-20T14:54:17.081Z"
   },
   {
    "duration": 5,
    "start_time": "2023-04-20T14:54:24.023Z"
   },
   {
    "duration": 671338,
    "start_time": "2023-04-20T14:54:25.918Z"
   },
   {
    "duration": 0,
    "start_time": "2023-04-20T15:05:37.269Z"
   },
   {
    "duration": 54123,
    "start_time": "2023-04-20T15:05:49.932Z"
   },
   {
    "duration": 8169,
    "start_time": "2023-04-20T15:07:32.868Z"
   },
   {
    "duration": 5961,
    "start_time": "2023-04-20T15:08:10.542Z"
   },
   {
    "duration": 1277,
    "start_time": "2023-04-20T15:08:16.509Z"
   },
   {
    "duration": 17,
    "start_time": "2023-04-20T15:08:17.793Z"
   },
   {
    "duration": 101,
    "start_time": "2023-04-20T15:08:17.813Z"
   },
   {
    "duration": 10,
    "start_time": "2023-04-20T15:08:17.916Z"
   },
   {
    "duration": 6937,
    "start_time": "2023-04-20T15:08:17.927Z"
   },
   {
    "duration": 2298,
    "start_time": "2023-04-20T15:09:06.017Z"
   },
   {
    "duration": 6,
    "start_time": "2023-04-20T15:10:39.214Z"
   },
   {
    "duration": 8,
    "start_time": "2023-04-20T15:11:09.160Z"
   },
   {
    "duration": 40,
    "start_time": "2023-04-20T15:11:31.235Z"
   },
   {
    "duration": 13,
    "start_time": "2023-04-20T15:11:32.226Z"
   },
   {
    "duration": 4073,
    "start_time": "2023-04-20T15:12:09.513Z"
   },
   {
    "duration": 1162,
    "start_time": "2023-04-20T15:12:13.589Z"
   },
   {
    "duration": 14,
    "start_time": "2023-04-20T15:12:14.755Z"
   },
   {
    "duration": 66,
    "start_time": "2023-04-20T15:12:14.776Z"
   },
   {
    "duration": 70,
    "start_time": "2023-04-20T15:12:14.846Z"
   },
   {
    "duration": 4604,
    "start_time": "2023-04-20T15:12:14.918Z"
   },
   {
    "duration": 22,
    "start_time": "2023-04-20T15:12:19.524Z"
   },
   {
    "duration": 2796,
    "start_time": "2023-04-20T15:12:44.400Z"
   },
   {
    "duration": 12,
    "start_time": "2023-04-20T15:12:58.460Z"
   },
   {
    "duration": 1579,
    "start_time": "2023-04-20T15:13:24.986Z"
   },
   {
    "duration": 40,
    "start_time": "2023-04-20T15:13:51.857Z"
   },
   {
    "duration": 28,
    "start_time": "2023-04-20T15:16:57.300Z"
   },
   {
    "duration": 25,
    "start_time": "2023-04-20T15:21:30.588Z"
   },
   {
    "duration": 10,
    "start_time": "2023-04-20T15:21:52.674Z"
   },
   {
    "duration": 35,
    "start_time": "2023-04-20T15:22:03.661Z"
   },
   {
    "duration": 3993,
    "start_time": "2023-04-20T15:22:19.714Z"
   },
   {
    "duration": 1329,
    "start_time": "2023-04-20T15:22:23.713Z"
   },
   {
    "duration": 19,
    "start_time": "2023-04-20T15:22:25.044Z"
   },
   {
    "duration": 122,
    "start_time": "2023-04-20T15:22:25.065Z"
   },
   {
    "duration": 55,
    "start_time": "2023-04-20T15:22:25.193Z"
   },
   {
    "duration": 113,
    "start_time": "2023-04-20T15:22:25.252Z"
   },
   {
    "duration": 376,
    "start_time": "2023-04-20T15:22:25.366Z"
   },
   {
    "duration": 0,
    "start_time": "2023-04-20T15:22:25.744Z"
   },
   {
    "duration": 34,
    "start_time": "2023-04-20T15:25:28.881Z"
   },
   {
    "duration": 27,
    "start_time": "2023-04-20T15:25:50.058Z"
   },
   {
    "duration": 12,
    "start_time": "2023-04-20T15:26:00.357Z"
   },
   {
    "duration": 13,
    "start_time": "2023-04-20T15:26:04.410Z"
   },
   {
    "duration": 4085,
    "start_time": "2023-04-20T15:26:50.363Z"
   },
   {
    "duration": 1396,
    "start_time": "2023-04-20T15:26:54.459Z"
   },
   {
    "duration": 27,
    "start_time": "2023-04-20T15:26:55.864Z"
   },
   {
    "duration": 65,
    "start_time": "2023-04-20T15:26:55.895Z"
   },
   {
    "duration": 44,
    "start_time": "2023-04-20T15:26:55.976Z"
   },
   {
    "duration": 59,
    "start_time": "2023-04-20T15:26:56.023Z"
   },
   {
    "duration": 6060,
    "start_time": "2023-04-20T15:26:56.088Z"
   },
   {
    "duration": 12,
    "start_time": "2023-04-20T15:31:46.118Z"
   },
   {
    "duration": 5871,
    "start_time": "2023-04-20T15:32:29.618Z"
   },
   {
    "duration": 20298,
    "start_time": "2023-04-20T15:33:46.050Z"
   },
   {
    "duration": 2041,
    "start_time": "2023-04-20T15:34:31.616Z"
   },
   {
    "duration": 973,
    "start_time": "2023-04-20T15:34:40.437Z"
   },
   {
    "duration": 1935,
    "start_time": "2023-04-20T15:36:02.796Z"
   },
   {
    "duration": 13491,
    "start_time": "2023-04-20T15:36:31.596Z"
   },
   {
    "duration": 8946,
    "start_time": "2023-04-20T15:37:19.764Z"
   },
   {
    "duration": 6693,
    "start_time": "2023-04-20T15:43:20.690Z"
   },
   {
    "duration": 1275,
    "start_time": "2023-04-20T15:43:27.389Z"
   },
   {
    "duration": 22,
    "start_time": "2023-04-20T15:43:28.666Z"
   },
   {
    "duration": 71,
    "start_time": "2023-04-20T15:43:28.691Z"
   },
   {
    "duration": 51,
    "start_time": "2023-04-20T15:43:28.766Z"
   },
   {
    "duration": 25,
    "start_time": "2023-04-20T15:43:28.822Z"
   },
   {
    "duration": 5978,
    "start_time": "2023-04-20T15:43:28.849Z"
   },
   {
    "duration": 5577,
    "start_time": "2023-04-20T15:43:34.829Z"
   },
   {
    "duration": 1912,
    "start_time": "2023-04-20T15:43:40.408Z"
   },
   {
    "duration": 1266,
    "start_time": "2023-04-20T15:43:42.323Z"
   },
   {
    "duration": 12754,
    "start_time": "2023-04-20T15:43:43.594Z"
   },
   {
    "duration": 9811,
    "start_time": "2023-04-20T15:43:56.367Z"
   },
   {
    "duration": 557924,
    "start_time": "2023-04-20T15:44:06.180Z"
   },
   {
    "duration": 111,
    "start_time": "2023-04-20T15:53:24.112Z"
   },
   {
    "duration": 5846,
    "start_time": "2023-04-20T15:59:31.302Z"
   },
   {
    "duration": 1248,
    "start_time": "2023-04-20T15:59:37.153Z"
   },
   {
    "duration": 15,
    "start_time": "2023-04-20T15:59:38.403Z"
   },
   {
    "duration": 60,
    "start_time": "2023-04-20T15:59:38.421Z"
   },
   {
    "duration": 24,
    "start_time": "2023-04-20T15:59:38.491Z"
   },
   {
    "duration": 75,
    "start_time": "2023-04-20T15:59:38.517Z"
   },
   {
    "duration": 4900,
    "start_time": "2023-04-20T15:59:39.188Z"
   },
   {
    "duration": 5310,
    "start_time": "2023-04-20T15:59:48.394Z"
   },
   {
    "duration": 3557,
    "start_time": "2023-04-20T17:08:11.765Z"
   },
   {
    "duration": 223,
    "start_time": "2023-04-20T17:08:15.324Z"
   },
   {
    "duration": 8,
    "start_time": "2023-04-20T17:08:34.873Z"
   },
   {
    "duration": 5,
    "start_time": "2023-04-20T17:08:35.362Z"
   },
   {
    "duration": 999,
    "start_time": "2023-04-20T17:08:40.285Z"
   },
   {
    "duration": 16,
    "start_time": "2023-04-20T17:08:42.325Z"
   },
   {
    "duration": 42,
    "start_time": "2023-04-20T17:08:47.917Z"
   },
   {
    "duration": 11,
    "start_time": "2023-04-20T17:09:13.965Z"
   },
   {
    "duration": 5215,
    "start_time": "2023-04-20T17:09:44.874Z"
   },
   {
    "duration": 4049,
    "start_time": "2023-04-20T17:14:38.726Z"
   },
   {
    "duration": 3,
    "start_time": "2023-04-20T17:14:42.778Z"
   },
   {
    "duration": 504,
    "start_time": "2023-04-20T17:25:05.656Z"
   },
   {
    "duration": 174,
    "start_time": "2023-04-20T17:25:25.420Z"
   },
   {
    "duration": 634,
    "start_time": "2023-04-20T17:25:59.884Z"
   },
   {
    "duration": 134,
    "start_time": "2023-04-20T17:26:22.557Z"
   },
   {
    "duration": 153,
    "start_time": "2023-04-20T17:26:36.360Z"
   },
   {
    "duration": 70,
    "start_time": "2023-04-20T17:29:16.553Z"
   },
   {
    "duration": 13906,
    "start_time": "2023-04-20T17:29:35.188Z"
   },
   {
    "duration": 168,
    "start_time": "2023-04-20T17:29:49.096Z"
   },
   {
    "duration": 2804,
    "start_time": "2023-04-20T17:29:49.267Z"
   },
   {
    "duration": 16,
    "start_time": "2023-04-20T17:29:52.074Z"
   },
   {
    "duration": 37,
    "start_time": "2023-04-20T17:29:52.092Z"
   },
   {
    "duration": 43,
    "start_time": "2023-04-20T17:29:52.132Z"
   },
   {
    "duration": 3619,
    "start_time": "2023-04-20T17:29:52.177Z"
   },
   {
    "duration": 4615,
    "start_time": "2023-04-20T17:29:55.798Z"
   },
   {
    "duration": 1398,
    "start_time": "2023-04-20T17:30:00.415Z"
   },
   {
    "duration": 0,
    "start_time": "2023-04-20T17:30:01.816Z"
   },
   {
    "duration": 2,
    "start_time": "2023-04-20T17:31:16.586Z"
   },
   {
    "duration": 1036,
    "start_time": "2023-04-20T17:33:02.665Z"
   },
   {
    "duration": 6,
    "start_time": "2023-04-20T17:33:11.629Z"
   },
   {
    "duration": 713,
    "start_time": "2023-04-20T17:33:56.266Z"
   },
   {
    "duration": 3071,
    "start_time": "2023-04-20T17:34:15.774Z"
   },
   {
    "duration": 213,
    "start_time": "2023-04-20T17:34:18.847Z"
   },
   {
    "duration": 826,
    "start_time": "2023-04-20T17:34:19.062Z"
   },
   {
    "duration": 12,
    "start_time": "2023-04-20T17:34:19.890Z"
   },
   {
    "duration": 45,
    "start_time": "2023-04-20T17:34:19.904Z"
   },
   {
    "duration": 10,
    "start_time": "2023-04-20T17:34:19.951Z"
   },
   {
    "duration": 3133,
    "start_time": "2023-04-20T17:34:19.963Z"
   },
   {
    "duration": 3604,
    "start_time": "2023-04-20T17:34:23.098Z"
   },
   {
    "duration": 787,
    "start_time": "2023-04-20T17:34:26.704Z"
   },
   {
    "duration": 731,
    "start_time": "2023-04-20T17:34:41.192Z"
   },
   {
    "duration": 265,
    "start_time": "2023-04-20T17:37:24.978Z"
   },
   {
    "duration": 3075,
    "start_time": "2023-04-20T17:37:41.356Z"
   },
   {
    "duration": 116,
    "start_time": "2023-04-20T17:37:44.433Z"
   },
   {
    "duration": 837,
    "start_time": "2023-04-20T17:37:44.551Z"
   },
   {
    "duration": 14,
    "start_time": "2023-04-20T17:37:45.390Z"
   },
   {
    "duration": 44,
    "start_time": "2023-04-20T17:37:45.406Z"
   },
   {
    "duration": 16,
    "start_time": "2023-04-20T17:37:45.452Z"
   },
   {
    "duration": 3296,
    "start_time": "2023-04-20T17:37:45.469Z"
   },
   {
    "duration": 3712,
    "start_time": "2023-04-20T17:37:48.767Z"
   },
   {
    "duration": 288,
    "start_time": "2023-04-20T17:37:52.480Z"
   },
   {
    "duration": 0,
    "start_time": "2023-04-20T17:37:52.770Z"
   },
   {
    "duration": 0,
    "start_time": "2023-04-20T17:37:52.771Z"
   },
   {
    "duration": 0,
    "start_time": "2023-04-20T17:37:52.772Z"
   },
   {
    "duration": 0,
    "start_time": "2023-04-20T17:37:52.773Z"
   },
   {
    "duration": 0,
    "start_time": "2023-04-20T17:37:52.774Z"
   },
   {
    "duration": 148,
    "start_time": "2023-04-20T17:38:12.053Z"
   },
   {
    "duration": 6851,
    "start_time": "2023-04-20T17:38:13.897Z"
   },
   {
    "duration": 45,
    "start_time": "2023-04-20T17:38:36.155Z"
   },
   {
    "duration": 4,
    "start_time": "2023-04-20T17:39:20.673Z"
   },
   {
    "duration": 3,
    "start_time": "2023-04-20T17:39:28.813Z"
   },
   {
    "duration": 141554,
    "start_time": "2023-04-20T17:39:31.005Z"
   },
   {
    "duration": 57,
    "start_time": "2023-04-20T17:41:52.561Z"
   },
   {
    "duration": 3369,
    "start_time": "2023-04-20T17:46:35.281Z"
   },
   {
    "duration": 130,
    "start_time": "2023-04-20T17:46:38.652Z"
   },
   {
    "duration": 860,
    "start_time": "2023-04-20T17:46:38.784Z"
   },
   {
    "duration": 15,
    "start_time": "2023-04-20T17:46:39.651Z"
   },
   {
    "duration": 43,
    "start_time": "2023-04-20T17:46:39.669Z"
   },
   {
    "duration": 16,
    "start_time": "2023-04-20T17:46:39.714Z"
   },
   {
    "duration": 3412,
    "start_time": "2023-04-20T17:46:39.732Z"
   },
   {
    "duration": 3826,
    "start_time": "2023-04-20T17:46:43.152Z"
   },
   {
    "duration": 163,
    "start_time": "2023-04-20T17:46:46.980Z"
   },
   {
    "duration": 7124,
    "start_time": "2023-04-20T17:46:47.150Z"
   },
   {
    "duration": 3,
    "start_time": "2023-04-20T17:46:54.275Z"
   },
   {
    "duration": 170086,
    "start_time": "2023-04-20T17:46:54.280Z"
   },
   {
    "duration": 281,
    "start_time": "2023-04-20T17:49:44.368Z"
   },
   {
    "duration": 3207,
    "start_time": "2023-04-20T17:58:10.354Z"
   },
   {
    "duration": 198,
    "start_time": "2023-04-20T17:58:13.563Z"
   },
   {
    "duration": 895,
    "start_time": "2023-04-20T17:58:13.763Z"
   },
   {
    "duration": 13,
    "start_time": "2023-04-20T17:58:14.660Z"
   },
   {
    "duration": 37,
    "start_time": "2023-04-20T17:58:14.676Z"
   },
   {
    "duration": 3477,
    "start_time": "2023-04-20T17:58:14.715Z"
   },
   {
    "duration": 3867,
    "start_time": "2023-04-20T17:58:18.193Z"
   },
   {
    "duration": 125,
    "start_time": "2023-04-20T17:58:22.062Z"
   },
   {
    "duration": 7126,
    "start_time": "2023-04-20T17:58:22.188Z"
   },
   {
    "duration": 4,
    "start_time": "2023-04-20T17:58:29.315Z"
   },
   {
    "duration": 3337,
    "start_time": "2023-04-20T18:18:25.441Z"
   },
   {
    "duration": 207,
    "start_time": "2023-04-20T18:18:28.780Z"
   },
   {
    "duration": 877,
    "start_time": "2023-04-20T18:18:28.989Z"
   },
   {
    "duration": 11,
    "start_time": "2023-04-20T18:18:29.868Z"
   },
   {
    "duration": 34,
    "start_time": "2023-04-20T18:18:29.881Z"
   },
   {
    "duration": 3737,
    "start_time": "2023-04-20T18:18:29.917Z"
   },
   {
    "duration": 4317,
    "start_time": "2023-04-20T18:18:33.656Z"
   },
   {
    "duration": 139,
    "start_time": "2023-04-20T18:18:37.974Z"
   },
   {
    "duration": 7899,
    "start_time": "2023-04-20T18:18:38.115Z"
   },
   {
    "duration": 4,
    "start_time": "2023-04-20T18:18:46.016Z"
   },
   {
    "duration": 3979,
    "start_time": "2023-04-20T18:41:38.664Z"
   },
   {
    "duration": 138,
    "start_time": "2023-04-20T18:41:42.647Z"
   },
   {
    "duration": 1136,
    "start_time": "2023-04-20T18:41:42.788Z"
   },
   {
    "duration": 20,
    "start_time": "2023-04-20T18:41:43.926Z"
   },
   {
    "duration": 47,
    "start_time": "2023-04-20T18:41:43.949Z"
   },
   {
    "duration": 4187,
    "start_time": "2023-04-20T18:41:45.199Z"
   },
   {
    "duration": 5131,
    "start_time": "2023-04-20T18:41:49.389Z"
   },
   {
    "duration": 2532,
    "start_time": "2023-04-20T18:41:54.523Z"
   },
   {
    "duration": 1358,
    "start_time": "2023-04-20T18:42:06.042Z"
   },
   {
    "duration": 181,
    "start_time": "2023-04-20T18:42:16.446Z"
   },
   {
    "duration": 9703,
    "start_time": "2023-04-20T18:42:18.273Z"
   },
   {
    "duration": 436,
    "start_time": "2023-04-20T18:42:27.979Z"
   },
   {
    "duration": 3404,
    "start_time": "2023-04-20T18:44:38.612Z"
   },
   {
    "duration": 156,
    "start_time": "2023-04-20T18:44:42.018Z"
   },
   {
    "duration": 883,
    "start_time": "2023-04-20T18:44:42.176Z"
   },
   {
    "duration": 18,
    "start_time": "2023-04-20T18:44:43.062Z"
   },
   {
    "duration": 51,
    "start_time": "2023-04-20T18:44:43.082Z"
   },
   {
    "duration": 3343,
    "start_time": "2023-04-20T18:44:43.136Z"
   },
   {
    "duration": 3976,
    "start_time": "2023-04-20T18:44:46.481Z"
   },
   {
    "duration": 1841,
    "start_time": "2023-04-20T18:44:50.460Z"
   },
   {
    "duration": 380,
    "start_time": "2023-04-20T18:44:52.304Z"
   },
   {
    "duration": 0,
    "start_time": "2023-04-20T18:44:52.686Z"
   },
   {
    "duration": 617,
    "start_time": "2023-04-20T18:45:37.487Z"
   },
   {
    "duration": 675,
    "start_time": "2023-04-20T18:45:41.799Z"
   },
   {
    "duration": 206,
    "start_time": "2023-04-20T18:45:45.078Z"
   },
   {
    "duration": 7815,
    "start_time": "2023-04-20T18:45:45.929Z"
   },
   {
    "duration": 4391,
    "start_time": "2023-04-20T18:45:53.746Z"
   },
   {
    "duration": 1789,
    "start_time": "2023-04-20T18:47:11.592Z"
   },
   {
    "duration": 233,
    "start_time": "2023-04-20T18:47:13.386Z"
   },
   {
    "duration": 1014,
    "start_time": "2023-04-20T18:47:13.621Z"
   },
   {
    "duration": 15,
    "start_time": "2023-04-20T18:47:14.638Z"
   },
   {
    "duration": 40,
    "start_time": "2023-04-20T18:47:14.655Z"
   },
   {
    "duration": 3788,
    "start_time": "2023-04-20T18:47:14.698Z"
   },
   {
    "duration": 3834,
    "start_time": "2023-04-20T18:47:18.488Z"
   },
   {
    "duration": 176,
    "start_time": "2023-04-20T18:47:22.324Z"
   },
   {
    "duration": 8843,
    "start_time": "2023-04-20T18:47:22.503Z"
   },
   {
    "duration": 3,
    "start_time": "2023-04-20T18:47:31.349Z"
   },
   {
    "duration": 21099,
    "start_time": "2023-04-20T18:47:31.354Z"
   },
   {
    "duration": 21,
    "start_time": "2023-04-20T18:47:52.455Z"
   },
   {
    "duration": 0,
    "start_time": "2023-04-20T18:47:52.479Z"
   },
   {
    "duration": 0,
    "start_time": "2023-04-20T18:47:52.481Z"
   },
   {
    "duration": 0,
    "start_time": "2023-04-20T18:47:52.482Z"
   },
   {
    "duration": 0,
    "start_time": "2023-04-20T18:47:52.483Z"
   },
   {
    "duration": 158347,
    "start_time": "2023-04-20T18:48:29.496Z"
   },
   {
    "duration": 104,
    "start_time": "2023-04-20T18:51:07.846Z"
   },
   {
    "duration": 0,
    "start_time": "2023-04-20T18:51:07.952Z"
   },
   {
    "duration": 0,
    "start_time": "2023-04-20T18:51:07.954Z"
   },
   {
    "duration": 0,
    "start_time": "2023-04-20T18:51:07.955Z"
   },
   {
    "duration": 0,
    "start_time": "2023-04-20T18:51:07.956Z"
   },
   {
    "duration": 57,
    "start_time": "2023-04-20T18:52:54.870Z"
   },
   {
    "duration": 1885,
    "start_time": "2023-04-20T18:55:22.588Z"
   },
   {
    "duration": 301,
    "start_time": "2023-04-20T18:55:24.475Z"
   },
   {
    "duration": 960,
    "start_time": "2023-04-20T18:55:24.778Z"
   },
   {
    "duration": 16,
    "start_time": "2023-04-20T18:55:25.740Z"
   },
   {
    "duration": 41,
    "start_time": "2023-04-20T18:55:25.759Z"
   },
   {
    "duration": 3880,
    "start_time": "2023-04-20T18:55:25.802Z"
   },
   {
    "duration": 3880,
    "start_time": "2023-04-20T18:55:29.684Z"
   },
   {
    "duration": 97,
    "start_time": "2023-04-20T18:55:33.566Z"
   },
   {
    "duration": 7552,
    "start_time": "2023-04-20T18:55:33.665Z"
   },
   {
    "duration": 222830,
    "start_time": "2023-04-20T18:55:41.219Z"
   },
   {
    "duration": 44,
    "start_time": "2023-04-20T18:59:24.051Z"
   },
   {
    "duration": 941677,
    "start_time": "2023-04-20T18:59:24.097Z"
   },
   {
    "duration": 21,
    "start_time": "2023-04-20T19:15:05.776Z"
   },
   {
    "duration": 51559,
    "start_time": "2023-04-20T19:15:05.800Z"
   },
   {
    "duration": 124,
    "start_time": "2023-04-20T19:15:57.360Z"
   },
   {
    "duration": 232613,
    "start_time": "2023-04-20T19:16:36.566Z"
   },
   {
    "duration": 24,
    "start_time": "2023-04-20T19:20:29.181Z"
   },
   {
    "duration": 53677,
    "start_time": "2023-04-20T19:20:51.318Z"
   },
   {
    "duration": 156,
    "start_time": "2023-04-20T19:21:44.997Z"
   },
   {
    "duration": 6572,
    "start_time": "2023-04-20T19:37:47.786Z"
   },
   {
    "duration": 53,
    "start_time": "2023-04-20T19:39:10.228Z"
   },
   {
    "duration": 8,
    "start_time": "2023-04-20T19:43:31.990Z"
   },
   {
    "duration": 2098,
    "start_time": "2023-04-20T19:43:42.138Z"
   },
   {
    "duration": 205,
    "start_time": "2023-04-20T19:43:44.239Z"
   },
   {
    "duration": 2178,
    "start_time": "2023-04-20T19:43:44.445Z"
   },
   {
    "duration": 16,
    "start_time": "2023-04-20T19:43:46.626Z"
   },
   {
    "duration": 38,
    "start_time": "2023-04-20T19:43:46.644Z"
   },
   {
    "duration": 3151,
    "start_time": "2023-04-20T19:43:46.685Z"
   },
   {
    "duration": 769,
    "start_time": "2023-04-20T19:43:49.838Z"
   },
   {
    "duration": 0,
    "start_time": "2023-04-20T19:43:50.609Z"
   },
   {
    "duration": 0,
    "start_time": "2023-04-20T19:43:50.611Z"
   },
   {
    "duration": 0,
    "start_time": "2023-04-20T19:43:50.612Z"
   },
   {
    "duration": 0,
    "start_time": "2023-04-20T19:43:50.613Z"
   },
   {
    "duration": 0,
    "start_time": "2023-04-20T19:43:50.614Z"
   },
   {
    "duration": 3228,
    "start_time": "2023-04-20T19:43:59.568Z"
   },
   {
    "duration": 89,
    "start_time": "2023-04-20T19:44:02.798Z"
   },
   {
    "duration": 6885,
    "start_time": "2023-04-20T19:44:06.103Z"
   },
   {
    "duration": 89,
    "start_time": "2023-04-20T19:45:10.655Z"
   },
   {
    "duration": 4863,
    "start_time": "2023-04-20T19:45:47.741Z"
   },
   {
    "duration": 7179,
    "start_time": "2023-04-20T19:48:14.584Z"
   },
   {
    "duration": 22504,
    "start_time": "2023-04-20T19:48:42.117Z"
   },
   {
    "duration": 22,
    "start_time": "2023-04-20T19:49:04.623Z"
   },
   {
    "duration": 58,
    "start_time": "2023-04-20T19:51:34.463Z"
   },
   {
    "duration": 22,
    "start_time": "2023-04-20T19:51:37.787Z"
   },
   {
    "duration": 5,
    "start_time": "2023-04-20T19:51:50.315Z"
   },
   {
    "duration": 8290,
    "start_time": "2023-04-20T19:52:02.174Z"
   },
   {
    "duration": 205468,
    "start_time": "2023-04-20T19:52:10.466Z"
   },
   {
    "duration": 120,
    "start_time": "2023-04-20T19:55:35.936Z"
   },
   {
    "duration": 24993,
    "start_time": "2023-04-20T19:55:36.059Z"
   },
   {
    "duration": 34,
    "start_time": "2023-04-20T19:56:01.054Z"
   },
   {
    "duration": 1909,
    "start_time": "2023-04-21T06:01:48.015Z"
   },
   {
    "duration": 225,
    "start_time": "2023-04-21T06:01:49.926Z"
   },
   {
    "duration": 3199,
    "start_time": "2023-04-21T06:01:50.153Z"
   },
   {
    "duration": 11,
    "start_time": "2023-04-21T06:01:53.354Z"
   },
   {
    "duration": 39,
    "start_time": "2023-04-21T06:01:53.367Z"
   },
   {
    "duration": 3129,
    "start_time": "2023-04-21T06:01:53.408Z"
   },
   {
    "duration": 3486,
    "start_time": "2023-04-21T06:01:56.539Z"
   },
   {
    "duration": 86,
    "start_time": "2023-04-21T06:02:00.026Z"
   },
   {
    "duration": 7533,
    "start_time": "2023-04-21T06:02:00.113Z"
   },
   {
    "duration": 8053,
    "start_time": "2023-04-21T06:02:07.648Z"
   },
   {
    "duration": 208084,
    "start_time": "2023-04-21T06:02:15.703Z"
   },
   {
    "duration": 23,
    "start_time": "2023-04-21T06:05:43.789Z"
   },
   {
    "duration": 212273,
    "start_time": "2023-04-21T06:05:43.814Z"
   },
   {
    "duration": 109,
    "start_time": "2023-04-21T06:09:16.093Z"
   },
   {
    "duration": 25755,
    "start_time": "2023-04-21T06:09:16.204Z"
   },
   {
    "duration": 28,
    "start_time": "2023-04-21T06:09:41.960Z"
   },
   {
    "duration": 23090,
    "start_time": "2023-04-21T06:09:41.990Z"
   },
   {
    "duration": 25,
    "start_time": "2023-04-21T06:10:05.081Z"
   },
   {
    "duration": 5779,
    "start_time": "2023-04-21T06:10:05.107Z"
   },
   {
    "duration": 0,
    "start_time": "2023-04-21T06:10:10.889Z"
   },
   {
    "duration": 0,
    "start_time": "2023-04-21T06:10:10.890Z"
   },
   {
    "duration": 6,
    "start_time": "2023-04-21T06:14:56.004Z"
   },
   {
    "duration": 18,
    "start_time": "2023-04-21T06:17:27.473Z"
   },
   {
    "duration": 15,
    "start_time": "2023-04-21T06:17:49.641Z"
   },
   {
    "duration": 240648,
    "start_time": "2023-04-21T06:18:05.048Z"
   },
   {
    "duration": 24,
    "start_time": "2023-04-21T06:22:05.698Z"
   },
   {
    "duration": 11,
    "start_time": "2023-04-21T06:44:10.119Z"
   },
   {
    "duration": 5,
    "start_time": "2023-04-21T06:44:40.140Z"
   },
   {
    "duration": 3,
    "start_time": "2023-04-21T06:44:43.652Z"
   },
   {
    "duration": 85383,
    "start_time": "2023-04-21T06:44:46.180Z"
   },
   {
    "duration": 1690,
    "start_time": "2023-04-21T06:48:16.029Z"
   },
   {
    "duration": 142,
    "start_time": "2023-04-21T06:48:17.721Z"
   },
   {
    "duration": 948,
    "start_time": "2023-04-21T06:48:17.864Z"
   },
   {
    "duration": 11,
    "start_time": "2023-04-21T06:48:18.814Z"
   },
   {
    "duration": 34,
    "start_time": "2023-04-21T06:48:21.880Z"
   },
   {
    "duration": 8,
    "start_time": "2023-04-21T06:48:24.080Z"
   },
   {
    "duration": 86373,
    "start_time": "2023-04-21T06:48:24.879Z"
   },
   {
    "duration": 8,
    "start_time": "2023-04-21T06:49:51.254Z"
   },
   {
    "duration": 131,
    "start_time": "2023-04-21T06:50:40.123Z"
   },
   {
    "duration": 90293,
    "start_time": "2023-04-21T06:54:59.042Z"
   },
   {
    "duration": 9,
    "start_time": "2023-04-21T06:56:29.337Z"
   },
   {
    "duration": 32,
    "start_time": "2023-04-21T06:57:12.351Z"
   },
   {
    "duration": 5101,
    "start_time": "2023-04-21T06:58:06.054Z"
   },
   {
    "duration": 196346,
    "start_time": "2023-04-21T06:58:21.542Z"
   },
   {
    "duration": 13,
    "start_time": "2023-04-21T07:01:37.890Z"
   },
   {
    "duration": 229211,
    "start_time": "2023-04-21T07:01:50.620Z"
   },
   {
    "duration": 13,
    "start_time": "2023-04-21T07:05:39.833Z"
   },
   {
    "duration": 1508,
    "start_time": "2023-04-21T07:05:48.327Z"
   },
   {
    "duration": 169,
    "start_time": "2023-04-21T07:05:49.836Z"
   },
   {
    "duration": 957,
    "start_time": "2023-04-21T07:06:05.758Z"
   },
   {
    "duration": 11,
    "start_time": "2023-04-21T07:06:06.717Z"
   },
   {
    "duration": 36,
    "start_time": "2023-04-21T07:06:06.729Z"
   },
   {
    "duration": 4,
    "start_time": "2023-04-21T07:06:10.414Z"
   },
   {
    "duration": 88978,
    "start_time": "2023-04-21T07:06:12.182Z"
   },
   {
    "duration": 8,
    "start_time": "2023-04-21T07:07:41.162Z"
   },
   {
    "duration": 32,
    "start_time": "2023-04-21T07:08:27.980Z"
   },
   {
    "duration": 4946,
    "start_time": "2023-04-21T07:08:28.347Z"
   },
   {
    "duration": 796518,
    "start_time": "2023-04-21T07:10:56.374Z"
   },
   {
    "duration": 11,
    "start_time": "2023-04-21T07:24:12.894Z"
   },
   {
    "duration": 482546,
    "start_time": "2023-04-21T07:24:12.907Z"
   },
   {
    "duration": 12,
    "start_time": "2023-04-21T07:32:15.455Z"
   },
   {
    "duration": 151,
    "start_time": "2023-04-21T07:32:15.469Z"
   },
   {
    "duration": 6930,
    "start_time": "2023-04-21T07:32:26.504Z"
   },
   {
    "duration": 24,
    "start_time": "2023-04-21T07:32:33.437Z"
   },
   {
    "duration": 254,
    "start_time": "2023-04-21T07:33:16.375Z"
   },
   {
    "duration": 6791,
    "start_time": "2023-04-21T07:33:37.510Z"
   },
   {
    "duration": 98,
    "start_time": "2023-04-21T07:34:06.704Z"
   },
   {
    "duration": 89,
    "start_time": "2023-04-21T07:34:11.981Z"
   },
   {
    "duration": 6882,
    "start_time": "2023-04-21T07:34:30.755Z"
   },
   {
    "duration": 68951,
    "start_time": "2023-04-21T07:34:50.503Z"
   },
   {
    "duration": 888565,
    "start_time": "2023-04-21T07:36:01.501Z"
   },
   {
    "duration": 27,
    "start_time": "2023-04-21T07:50:50.068Z"
   },
   {
    "duration": 9641,
    "start_time": "2023-04-21T07:51:00.595Z"
   },
   {
    "duration": 460716,
    "start_time": "2023-04-21T07:51:30.345Z"
   },
   {
    "duration": 13,
    "start_time": "2023-04-21T07:59:11.063Z"
   },
   {
    "duration": 27,
    "start_time": "2023-04-21T07:59:11.085Z"
   },
   {
    "duration": 0,
    "start_time": "2023-04-21T07:59:11.114Z"
   },
   {
    "duration": 68,
    "start_time": "2023-04-21T07:59:35.379Z"
   },
   {
    "duration": 1072690,
    "start_time": "2023-04-21T08:02:52.401Z"
   },
   {
    "duration": 17,
    "start_time": "2023-04-21T08:20:45.093Z"
   },
   {
    "duration": 8,
    "start_time": "2023-04-21T08:21:00.504Z"
   },
   {
    "duration": 1486,
    "start_time": "2023-04-21T08:22:31.457Z"
   },
   {
    "duration": 154,
    "start_time": "2023-04-21T08:22:32.945Z"
   },
   {
    "duration": 972,
    "start_time": "2023-04-21T08:22:33.101Z"
   },
   {
    "duration": 24,
    "start_time": "2023-04-21T08:22:34.075Z"
   },
   {
    "duration": 39,
    "start_time": "2023-04-21T08:22:34.102Z"
   },
   {
    "duration": 5,
    "start_time": "2023-04-21T08:22:34.144Z"
   },
   {
    "duration": 89075,
    "start_time": "2023-04-21T08:22:34.150Z"
   },
   {
    "duration": 9,
    "start_time": "2023-04-21T08:24:03.227Z"
   },
   {
    "duration": 129,
    "start_time": "2023-04-21T08:24:03.237Z"
   },
   {
    "duration": 0,
    "start_time": "2023-04-21T08:24:03.367Z"
   },
   {
    "duration": 0,
    "start_time": "2023-04-21T08:24:03.369Z"
   },
   {
    "duration": 0,
    "start_time": "2023-04-21T08:24:03.370Z"
   },
   {
    "duration": 0,
    "start_time": "2023-04-21T08:24:03.372Z"
   },
   {
    "duration": 0,
    "start_time": "2023-04-21T08:24:03.385Z"
   },
   {
    "duration": 0,
    "start_time": "2023-04-21T08:24:03.387Z"
   },
   {
    "duration": 0,
    "start_time": "2023-04-21T08:24:03.389Z"
   },
   {
    "duration": 0,
    "start_time": "2023-04-21T08:24:03.390Z"
   },
   {
    "duration": 0,
    "start_time": "2023-04-21T08:24:03.392Z"
   },
   {
    "duration": 1498,
    "start_time": "2023-04-21T08:25:43.958Z"
   },
   {
    "duration": 248,
    "start_time": "2023-04-21T08:25:45.458Z"
   },
   {
    "duration": 970,
    "start_time": "2023-04-21T08:25:45.707Z"
   },
   {
    "duration": 17,
    "start_time": "2023-04-21T08:25:46.679Z"
   },
   {
    "duration": 154,
    "start_time": "2023-04-21T08:25:46.698Z"
   },
   {
    "duration": 5,
    "start_time": "2023-04-21T08:25:46.854Z"
   },
   {
    "duration": 88159,
    "start_time": "2023-04-21T08:25:46.861Z"
   },
   {
    "duration": 8,
    "start_time": "2023-04-21T08:27:15.022Z"
   },
   {
    "duration": 42,
    "start_time": "2023-04-21T08:27:15.032Z"
   },
   {
    "duration": 4821,
    "start_time": "2023-04-21T08:27:15.076Z"
   },
   {
    "duration": 1436,
    "start_time": "2023-04-21T08:29:38.430Z"
   },
   {
    "duration": 188,
    "start_time": "2023-04-21T08:29:39.868Z"
   },
   {
    "duration": 939,
    "start_time": "2023-04-21T08:29:40.058Z"
   },
   {
    "duration": 14,
    "start_time": "2023-04-21T08:29:40.998Z"
   },
   {
    "duration": 33,
    "start_time": "2023-04-21T08:29:41.014Z"
   },
   {
    "duration": 11,
    "start_time": "2023-04-21T08:29:41.048Z"
   },
   {
    "duration": 85857,
    "start_time": "2023-04-21T08:29:41.061Z"
   },
   {
    "duration": 8,
    "start_time": "2023-04-21T08:31:06.920Z"
   },
   {
    "duration": 38,
    "start_time": "2023-04-21T08:31:06.930Z"
   },
   {
    "duration": 5576,
    "start_time": "2023-04-21T08:31:06.970Z"
   },
   {
    "duration": 823253,
    "start_time": "2023-04-21T08:31:12.549Z"
   },
   {
    "duration": 88,
    "start_time": "2023-04-21T08:44:55.805Z"
   },
   {
    "duration": 469053,
    "start_time": "2023-04-21T08:44:55.895Z"
   },
   {
    "duration": 13,
    "start_time": "2023-04-21T08:52:44.953Z"
   },
   {
    "duration": 451659,
    "start_time": "2023-04-21T08:52:44.968Z"
   },
   {
    "duration": 12,
    "start_time": "2023-04-21T09:00:16.629Z"
   },
   {
    "duration": 304,
    "start_time": "2023-04-21T09:00:16.642Z"
   },
   {
    "duration": 123,
    "start_time": "2023-04-21T09:00:16.948Z"
   },
   {
    "duration": 8,
    "start_time": "2023-04-21T09:06:04.530Z"
   },
   {
    "duration": 23,
    "start_time": "2023-04-21T09:06:10.243Z"
   },
   {
    "duration": 17,
    "start_time": "2023-04-21T09:06:40.025Z"
   },
   {
    "duration": 15,
    "start_time": "2023-04-21T09:07:30.799Z"
   },
   {
    "duration": 5,
    "start_time": "2023-04-21T09:07:53.926Z"
   },
   {
    "duration": 4,
    "start_time": "2023-04-21T09:08:07.462Z"
   },
   {
    "duration": 22,
    "start_time": "2023-04-21T09:09:00.694Z"
   },
   {
    "duration": 6,
    "start_time": "2023-04-21T09:09:05.037Z"
   },
   {
    "duration": 18,
    "start_time": "2023-04-21T09:09:59.397Z"
   },
   {
    "duration": 3,
    "start_time": "2023-04-21T09:11:10.235Z"
   },
   {
    "duration": 13,
    "start_time": "2023-04-21T09:11:10.684Z"
   },
   {
    "duration": 17,
    "start_time": "2023-04-21T09:11:29.988Z"
   },
   {
    "duration": 4,
    "start_time": "2023-04-21T09:11:35.691Z"
   },
   {
    "duration": 1368,
    "start_time": "2023-04-22T11:46:25.995Z"
   },
   {
    "duration": 223,
    "start_time": "2023-04-22T11:46:27.512Z"
   },
   {
    "duration": 3677,
    "start_time": "2023-04-22T11:46:27.856Z"
   },
   {
    "duration": 13,
    "start_time": "2023-04-22T11:46:31.535Z"
   },
   {
    "duration": 51,
    "start_time": "2023-04-22T11:46:31.550Z"
   },
   {
    "duration": 10,
    "start_time": "2023-04-22T11:46:31.603Z"
   },
   {
    "duration": 74431,
    "start_time": "2023-04-22T11:46:33.313Z"
   },
   {
    "duration": 4502,
    "start_time": "2023-04-23T17:16:36.752Z"
   },
   {
    "duration": 0,
    "start_time": "2023-04-23T17:16:41.255Z"
   },
   {
    "duration": 693,
    "start_time": "2023-04-23T17:17:20.757Z"
   },
   {
    "duration": 200,
    "start_time": "2023-04-23T17:17:24.552Z"
   },
   {
    "duration": 2299,
    "start_time": "2023-04-23T17:17:25.657Z"
   },
   {
    "duration": 16,
    "start_time": "2023-04-23T17:17:27.958Z"
   },
   {
    "duration": 35,
    "start_time": "2023-04-23T17:17:27.976Z"
   },
   {
    "duration": 3,
    "start_time": "2023-04-23T17:18:49.706Z"
   },
   {
    "duration": 85484,
    "start_time": "2023-04-23T17:18:51.199Z"
   },
   {
    "duration": 8,
    "start_time": "2023-04-23T17:21:45.410Z"
   },
   {
    "duration": 32,
    "start_time": "2023-04-23T17:21:46.174Z"
   },
   {
    "duration": 59,
    "start_time": "2023-04-23T17:24:21.089Z"
   },
   {
    "duration": 440,
    "start_time": "2023-04-23T17:24:47.303Z"
   },
   {
    "duration": 6785,
    "start_time": "2023-04-24T06:13:39.910Z"
   },
   {
    "duration": 214,
    "start_time": "2023-04-24T06:13:46.697Z"
   },
   {
    "duration": 2454,
    "start_time": "2023-04-24T06:13:46.914Z"
   },
   {
    "duration": 19,
    "start_time": "2023-04-24T06:13:49.370Z"
   },
   {
    "duration": 38,
    "start_time": "2023-04-24T06:13:49.391Z"
   },
   {
    "duration": 14,
    "start_time": "2023-04-24T06:13:49.431Z"
   },
   {
    "duration": 338,
    "start_time": "2023-04-24T06:13:49.447Z"
   },
   {
    "duration": 17,
    "start_time": "2023-04-24T06:14:05.958Z"
   },
   {
    "duration": 13,
    "start_time": "2023-04-24T06:14:33.997Z"
   },
   {
    "duration": 531,
    "start_time": "2023-04-24T06:15:24.484Z"
   },
   {
    "duration": 5,
    "start_time": "2023-04-24T06:20:20.455Z"
   },
   {
    "duration": 61458,
    "start_time": "2023-04-24T06:20:24.903Z"
   },
   {
    "duration": 594,
    "start_time": "2023-04-24T06:22:18.078Z"
   },
   {
    "duration": 63094,
    "start_time": "2023-04-24T06:22:19.606Z"
   },
   {
    "duration": 1236974,
    "start_time": "2023-04-24T06:23:40.325Z"
   },
   {
    "duration": 5188,
    "start_time": "2023-04-24T06:44:27.734Z"
   },
   {
    "duration": 211,
    "start_time": "2023-04-24T06:44:32.925Z"
   },
   {
    "duration": 851,
    "start_time": "2023-04-24T06:44:33.138Z"
   },
   {
    "duration": 21,
    "start_time": "2023-04-24T06:44:33.991Z"
   },
   {
    "duration": 50,
    "start_time": "2023-04-24T06:44:34.014Z"
   },
   {
    "duration": 319,
    "start_time": "2023-04-24T06:45:40.078Z"
   },
   {
    "duration": 14,
    "start_time": "2023-04-24T06:45:42.398Z"
   },
   {
    "duration": 4,
    "start_time": "2023-04-24T06:45:45.934Z"
   },
   {
    "duration": 343,
    "start_time": "2023-04-24T06:45:50.711Z"
   },
   {
    "duration": 513,
    "start_time": "2023-04-24T06:46:25.509Z"
   },
   {
    "duration": 53,
    "start_time": "2023-04-24T06:46:33.013Z"
   },
   {
    "duration": 60,
    "start_time": "2023-04-24T06:47:00.785Z"
   },
   {
    "duration": 49,
    "start_time": "2023-04-24T06:47:46.133Z"
   },
   {
    "duration": 4,
    "start_time": "2023-04-24T06:48:05.148Z"
   },
   {
    "duration": 120183,
    "start_time": "2023-04-24T06:48:38.820Z"
   },
   {
    "duration": 30704,
    "start_time": "2023-04-24T06:50:44.866Z"
   },
   {
    "duration": 5176,
    "start_time": "2023-04-24T06:51:24.497Z"
   },
   {
    "duration": 114,
    "start_time": "2023-04-24T06:51:29.675Z"
   },
   {
    "duration": 813,
    "start_time": "2023-04-24T06:51:29.791Z"
   },
   {
    "duration": 18,
    "start_time": "2023-04-24T06:51:30.607Z"
   },
   {
    "duration": 86,
    "start_time": "2023-04-24T06:51:30.627Z"
   },
   {
    "duration": 374,
    "start_time": "2023-04-24T06:51:30.715Z"
   },
   {
    "duration": 14,
    "start_time": "2023-04-24T06:51:31.091Z"
   },
   {
    "duration": 4,
    "start_time": "2023-04-24T06:51:34.280Z"
   },
   {
    "duration": 68397,
    "start_time": "2023-04-24T06:51:44.688Z"
   },
   {
    "duration": 487,
    "start_time": "2023-04-24T06:52:53.088Z"
   },
   {
    "duration": 1422712,
    "start_time": "2023-04-24T06:52:53.577Z"
   },
   {
    "duration": 42,
    "start_time": "2023-04-24T07:16:41.134Z"
   },
   {
    "duration": 9,
    "start_time": "2023-04-24T07:16:59.871Z"
   },
   {
    "duration": 43,
    "start_time": "2023-04-24T07:17:32.965Z"
   },
   {
    "duration": 5826,
    "start_time": "2023-04-24T07:17:34.495Z"
   },
   {
    "duration": 848087,
    "start_time": "2023-04-24T07:17:43.366Z"
   },
   {
    "duration": 12,
    "start_time": "2023-04-24T07:31:51.463Z"
   },
   {
    "duration": 1565267,
    "start_time": "2023-04-24T07:34:26.657Z"
   },
   {
    "duration": 642002,
    "start_time": "2023-04-24T08:00:31.927Z"
   },
   {
    "duration": 3,
    "start_time": "2023-04-24T08:11:13.931Z"
   },
   {
    "duration": 389,
    "start_time": "2023-04-24T08:11:13.942Z"
   },
   {
    "duration": 41,
    "start_time": "2023-04-24T08:12:52.403Z"
   },
   {
    "duration": 297,
    "start_time": "2023-04-24T08:14:33.973Z"
   },
   {
    "duration": 286,
    "start_time": "2023-04-24T08:14:44.090Z"
   },
   {
    "duration": 10,
    "start_time": "2023-04-24T08:15:00.000Z"
   },
   {
    "duration": 111,
    "start_time": "2023-04-24T08:16:35.752Z"
   },
   {
    "duration": 640451,
    "start_time": "2023-04-24T08:16:56.800Z"
   },
   {
    "duration": 13,
    "start_time": "2023-04-24T08:29:28.075Z"
   },
   {
    "duration": 40,
    "start_time": "2023-04-24T08:33:06.336Z"
   },
   {
    "duration": 34,
    "start_time": "2023-04-24T08:33:25.007Z"
   },
   {
    "duration": 5,
    "start_time": "2023-04-24T08:33:40.086Z"
   },
   {
    "duration": 65,
    "start_time": "2023-04-24T08:34:07.771Z"
   },
   {
    "duration": 105,
    "start_time": "2023-04-24T08:34:53.141Z"
   },
   {
    "duration": 215,
    "start_time": "2023-04-24T08:35:33.901Z"
   },
   {
    "duration": 479,
    "start_time": "2023-04-24T08:39:07.050Z"
   },
   {
    "duration": 165,
    "start_time": "2023-04-24T08:39:07.531Z"
   },
   {
    "duration": 864,
    "start_time": "2023-04-24T08:39:07.699Z"
   },
   {
    "duration": 19,
    "start_time": "2023-04-24T08:39:08.566Z"
   },
   {
    "duration": 57,
    "start_time": "2023-04-24T08:39:08.588Z"
   },
   {
    "duration": 400,
    "start_time": "2023-04-24T08:39:08.648Z"
   },
   {
    "duration": 14,
    "start_time": "2023-04-24T08:39:09.051Z"
   },
   {
    "duration": 59,
    "start_time": "2023-04-24T08:39:09.068Z"
   },
   {
    "duration": 71922,
    "start_time": "2023-04-24T08:39:09.131Z"
   },
   {
    "duration": 658,
    "start_time": "2023-04-24T08:40:21.055Z"
   },
   {
    "duration": 1600808,
    "start_time": "2023-04-24T08:40:21.715Z"
   },
   {
    "duration": 67,
    "start_time": "2023-04-24T09:07:02.525Z"
   },
   {
    "duration": 135,
    "start_time": "2023-04-24T09:07:02.594Z"
   },
   {
    "duration": 7495,
    "start_time": "2023-04-24T09:07:02.731Z"
   },
   {
    "duration": 983719,
    "start_time": "2023-04-24T09:07:10.230Z"
   },
   {
    "duration": 9,
    "start_time": "2023-04-24T09:23:33.952Z"
   },
   {
    "duration": 115,
    "start_time": "2023-04-24T09:23:33.964Z"
   },
   {
    "duration": 0,
    "start_time": "2023-04-24T09:23:34.081Z"
   },
   {
    "duration": 0,
    "start_time": "2023-04-24T09:23:34.083Z"
   },
   {
    "duration": 6647,
    "start_time": "2023-04-24T09:49:16.318Z"
   },
   {
    "duration": 210,
    "start_time": "2023-04-24T09:49:22.969Z"
   },
   {
    "duration": 1003,
    "start_time": "2023-04-24T09:49:23.180Z"
   },
   {
    "duration": 26,
    "start_time": "2023-04-24T09:49:24.186Z"
   },
   {
    "duration": 71,
    "start_time": "2023-04-24T09:49:24.217Z"
   },
   {
    "duration": 429,
    "start_time": "2023-04-24T09:49:24.292Z"
   },
   {
    "duration": 47,
    "start_time": "2023-04-24T09:49:24.723Z"
   },
   {
    "duration": 12,
    "start_time": "2023-04-24T09:49:24.773Z"
   },
   {
    "duration": 93835,
    "start_time": "2023-04-24T09:49:24.788Z"
   },
   {
    "duration": 666,
    "start_time": "2023-04-24T09:50:58.627Z"
   },
   {
    "duration": 1166511,
    "start_time": "2023-04-24T09:50:59.296Z"
   },
   {
    "duration": 0,
    "start_time": "2023-04-24T10:10:25.812Z"
   },
   {
    "duration": 0,
    "start_time": "2023-04-24T10:10:25.813Z"
   },
   {
    "duration": 0,
    "start_time": "2023-04-24T10:10:25.818Z"
   },
   {
    "duration": 233,
    "start_time": "2023-04-24T10:20:15.560Z"
   },
   {
    "duration": 19,
    "start_time": "2023-04-24T10:20:36.182Z"
   },
   {
    "duration": 7945,
    "start_time": "2023-04-24T10:22:42.630Z"
   },
   {
    "duration": 241,
    "start_time": "2023-04-24T10:22:50.580Z"
   },
   {
    "duration": 1357,
    "start_time": "2023-04-24T10:22:50.824Z"
   },
   {
    "duration": 32,
    "start_time": "2023-04-24T10:22:52.185Z"
   },
   {
    "duration": 91,
    "start_time": "2023-04-24T10:22:52.220Z"
   },
   {
    "duration": 241,
    "start_time": "2023-04-24T10:22:58.360Z"
   },
   {
    "duration": 32,
    "start_time": "2023-04-24T10:23:07.980Z"
   },
   {
    "duration": 9,
    "start_time": "2023-04-24T10:23:37.668Z"
   },
   {
    "duration": 124920,
    "start_time": "2023-04-24T10:23:43.122Z"
   },
   {
    "duration": 26,
    "start_time": "2023-04-24T10:25:52.570Z"
   },
   {
    "duration": 510,
    "start_time": "2023-04-24T10:26:35.393Z"
   },
   {
    "duration": 1020,
    "start_time": "2023-04-24T10:26:38.718Z"
   },
   {
    "duration": 2778956,
    "start_time": "2023-04-24T10:26:40.771Z"
   },
   {
    "duration": 52,
    "start_time": "2023-04-24T11:12:59.740Z"
   },
   {
    "duration": 90,
    "start_time": "2023-04-24T11:12:59.795Z"
   },
   {
    "duration": 7449,
    "start_time": "2023-04-24T11:12:59.888Z"
   },
   {
    "duration": 976932,
    "start_time": "2023-04-24T11:13:07.349Z"
   },
   {
    "duration": 4,
    "start_time": "2023-04-24T11:29:24.347Z"
   },
   {
    "duration": 2383279,
    "start_time": "2023-04-24T11:29:24.358Z"
   },
   {
    "duration": 3,
    "start_time": "2023-04-24T12:09:07.641Z"
   },
   {
    "duration": 168,
    "start_time": "2023-04-24T12:09:07.647Z"
   },
   {
    "duration": 4,
    "start_time": "2023-04-24T12:09:07.818Z"
   },
   {
    "duration": 55,
    "start_time": "2023-04-24T12:09:07.824Z"
   },
   {
    "duration": 0,
    "start_time": "2023-04-24T12:09:07.887Z"
   },
   {
    "duration": 0,
    "start_time": "2023-04-24T12:09:07.891Z"
   },
   {
    "duration": 0,
    "start_time": "2023-04-24T12:09:07.893Z"
   },
   {
    "duration": 673543,
    "start_time": "2023-04-24T12:28:44.035Z"
   },
   {
    "duration": 68,
    "start_time": "2023-04-24T12:40:18.329Z"
   },
   {
    "duration": 10,
    "start_time": "2023-04-24T12:40:25.921Z"
   },
   {
    "duration": 19,
    "start_time": "2023-04-24T12:40:41.572Z"
   },
   {
    "duration": 14,
    "start_time": "2023-04-24T12:43:24.381Z"
   },
   {
    "duration": 19,
    "start_time": "2023-04-24T12:44:03.220Z"
   },
   {
    "duration": 10,
    "start_time": "2023-04-24T12:57:15.519Z"
   },
   {
    "duration": 39976,
    "start_time": "2023-04-24T13:14:33.864Z"
   },
   {
    "duration": 244,
    "start_time": "2023-04-24T13:15:13.848Z"
   },
   {
    "duration": 3424,
    "start_time": "2023-04-24T13:15:14.095Z"
   },
   {
    "duration": 15,
    "start_time": "2023-04-24T13:15:17.522Z"
   },
   {
    "duration": 81,
    "start_time": "2023-04-24T13:15:17.540Z"
   },
   {
    "duration": 234,
    "start_time": "2023-04-24T13:15:17.623Z"
   },
   {
    "duration": 28,
    "start_time": "2023-04-24T13:15:17.859Z"
   },
   {
    "duration": 6,
    "start_time": "2023-04-24T13:15:37.026Z"
   },
   {
    "duration": 40075,
    "start_time": "2023-04-24T13:15:41.166Z"
   },
   {
    "duration": 0,
    "start_time": "2023-04-24T13:16:21.253Z"
   },
   {
    "duration": 0,
    "start_time": "2023-04-24T13:16:21.258Z"
   },
   {
    "duration": 19934,
    "start_time": "2023-04-24T14:08:46.722Z"
   },
   {
    "duration": 224,
    "start_time": "2023-04-24T14:09:06.658Z"
   },
   {
    "duration": 2365,
    "start_time": "2023-04-24T14:09:06.884Z"
   },
   {
    "duration": 14,
    "start_time": "2023-04-24T14:09:09.252Z"
   },
   {
    "duration": 62,
    "start_time": "2023-04-24T14:09:09.270Z"
   },
   {
    "duration": 166,
    "start_time": "2023-04-24T14:09:09.334Z"
   },
   {
    "duration": 15,
    "start_time": "2023-04-24T14:09:09.502Z"
   },
   {
    "duration": 60,
    "start_time": "2023-04-24T14:09:09.519Z"
   },
   {
    "duration": 74080,
    "start_time": "2023-04-24T14:09:09.582Z"
   },
   {
    "duration": 895,
    "start_time": "2023-04-24T14:10:23.665Z"
   },
   {
    "duration": 2116222,
    "start_time": "2023-04-24T14:10:24.562Z"
   },
   {
    "duration": 10,
    "start_time": "2023-04-24T14:45:40.787Z"
   },
   {
    "duration": 63,
    "start_time": "2023-04-24T14:45:40.799Z"
   },
   {
    "duration": 5683,
    "start_time": "2023-04-24T14:45:40.866Z"
   },
   {
    "duration": 531791,
    "start_time": "2023-04-24T14:45:46.552Z"
   },
   {
    "duration": 88,
    "start_time": "2023-04-24T14:54:38.354Z"
   },
   {
    "duration": 1562591,
    "start_time": "2023-04-24T14:54:38.444Z"
   },
   {
    "duration": 16,
    "start_time": "2023-04-24T15:20:41.037Z"
   },
   {
    "duration": 607459,
    "start_time": "2023-04-24T15:20:41.058Z"
   },
   {
    "duration": 3,
    "start_time": "2023-04-24T15:30:48.519Z"
   },
   {
    "duration": 60,
    "start_time": "2023-04-24T15:30:48.524Z"
   },
   {
    "duration": 13,
    "start_time": "2023-04-24T15:30:48.586Z"
   },
   {
    "duration": 28,
    "start_time": "2023-04-24T15:30:48.600Z"
   },
   {
    "duration": 5359,
    "start_time": "2023-04-24T15:33:44.303Z"
   },
   {
    "duration": 148,
    "start_time": "2023-04-24T15:33:49.665Z"
   },
   {
    "duration": 949,
    "start_time": "2023-04-24T15:33:49.815Z"
   },
   {
    "duration": 15,
    "start_time": "2023-04-24T15:33:50.766Z"
   },
   {
    "duration": 69,
    "start_time": "2023-04-24T15:33:50.784Z"
   },
   {
    "duration": 175,
    "start_time": "2023-04-24T15:33:50.857Z"
   },
   {
    "duration": 27,
    "start_time": "2023-04-24T15:33:51.034Z"
   },
   {
    "duration": 17,
    "start_time": "2023-04-24T15:33:51.064Z"
   },
   {
    "duration": 80107,
    "start_time": "2023-04-24T15:33:51.084Z"
   },
   {
    "duration": 740,
    "start_time": "2023-04-24T15:35:11.194Z"
   },
   {
    "duration": 2150605,
    "start_time": "2023-04-24T15:35:11.936Z"
   },
   {
    "duration": 11,
    "start_time": "2023-04-24T16:11:02.544Z"
   },
   {
    "duration": 115,
    "start_time": "2023-04-24T16:11:02.558Z"
   },
   {
    "duration": 6209,
    "start_time": "2023-04-24T16:11:02.678Z"
   },
   {
    "duration": 836656,
    "start_time": "2023-04-24T16:11:08.890Z"
   },
   {
    "duration": 7,
    "start_time": "2023-04-24T16:25:05.548Z"
   },
   {
    "duration": 2059686,
    "start_time": "2023-04-24T16:25:05.557Z"
   },
   {
    "duration": 3,
    "start_time": "2023-04-24T16:59:25.245Z"
   },
   {
    "duration": 1145215,
    "start_time": "2023-04-24T16:59:25.251Z"
   },
   {
    "duration": 3,
    "start_time": "2023-04-24T17:18:30.468Z"
   },
   {
    "duration": 127,
    "start_time": "2023-04-24T17:18:30.474Z"
   },
   {
    "duration": 30,
    "start_time": "2023-04-24T17:18:30.603Z"
   },
   {
    "duration": 128,
    "start_time": "2023-04-24T17:18:30.636Z"
   },
   {
    "duration": 13,
    "start_time": "2023-04-24T19:27:49.285Z"
   },
   {
    "duration": 13,
    "start_time": "2023-04-24T19:28:49.757Z"
   },
   {
    "duration": 15,
    "start_time": "2023-04-24T19:28:56.933Z"
   }
  ],
  "kernelspec": {
   "display_name": "Python 3 (ipykernel)",
   "language": "python",
   "name": "python3"
  },
  "language_info": {
   "codemirror_mode": {
    "name": "ipython",
    "version": 3
   },
   "file_extension": ".py",
   "mimetype": "text/x-python",
   "name": "python",
   "nbconvert_exporter": "python",
   "pygments_lexer": "ipython3",
   "version": "3.11.4"
  },
  "toc": {
   "base_numbering": 1,
   "nav_menu": {},
   "number_sections": true,
   "sideBar": true,
   "skip_h1_title": true,
   "title_cell": "Содержание",
   "title_sidebar": "Contents",
   "toc_cell": true,
   "toc_position": {
    "height": "calc(100% - 180px)",
    "left": "10px",
    "top": "150px",
    "width": "302.391px"
   },
   "toc_section_display": true,
   "toc_window_display": false
  }
 },
 "nbformat": 4,
 "nbformat_minor": 2
}
