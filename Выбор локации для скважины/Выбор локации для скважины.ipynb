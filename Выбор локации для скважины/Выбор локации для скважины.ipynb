{
 "cells": [
  {
   "cell_type": "markdown",
   "metadata": {},
   "source": [
    "# Выбор локации для скважины"
   ]
  },
  {
   "cell_type": "markdown",
   "metadata": {},
   "source": [
    "Допустим, вы работаете в добывающей компании «ГлавРосГосНефть». Нужно решить, где бурить новую скважину.\n",
    "\n",
    "Вам предоставлены пробы нефти в трёх регионах: в каждом 10 000 месторождений, где измерили качество нефти и объём её запасов. Постройте модель машинного обучения, которая поможет определить регион, где добыча принесёт наибольшую прибыль. Проанализируйте возможную прибыль и риски техникой *Bootstrap.*\n",
    "\n",
    "Шаги для выбора локации:\n",
    "\n",
    "- В избранном регионе ищут месторождения, для каждого определяют значения признаков;\n",
    "- Строят модель и оценивают объём запасов;\n",
    "- Выбирают месторождения с самым высокими оценками значений. Количество месторождений зависит от бюджета компании и стоимости разработки одной скважины;\n",
    "- Прибыль равна суммарной прибыли отобранных месторождений."
   ]
  },
  {
   "cell_type": "markdown",
   "metadata": {},
   "source": [
    "# Описание проекта"
   ]
  },
  {
   "cell_type": "markdown",
   "metadata": {},
   "source": [
    "Допустим, вы работаете в добывающей компании «ГлавРосГосНефть». Нужно решить, где бурить новую скважину. \n",
    "Шаги для выбора локации обычно такие:\n",
    "В избранном регионе собирают характеристики для скважин: качество нефти и объём её запасов;\n",
    "Строят модель для предсказания объёма запасов в новых скважинах;\n",
    "Выбирают скважины с самыми высокими оценками значений;\n",
    "Определяют регион с максимальной суммарной прибылью отобранных скважин.\n",
    "Вам предоставлены пробы нефти в трёх регионах. Характеристики для каждой скважины в регионе уже известны. Постройте модель для определения региона, где добыча принесёт наибольшую прибыль. Проанализируйте возможную прибыль и риски техникой Bootstrap."
   ]
  },
  {
   "cell_type": "markdown",
   "metadata": {},
   "source": [
    "Условия задачи:\n",
    "Для обучения модели подходит только линейная регрессия (остальные — недостаточно предсказуемые).\n",
    "При разведке региона исследуют 500 точек, из которых с помощью машинного обучения выбирают 200 лучших для разработки.\n",
    "Бюджет на разработку скважин в регионе — 10 млрд рублей.\n",
    "При нынешних ценах один баррель сырья приносит 450 рублей дохода. Доход с каждой единицы продукта составляет 450 тыс. рублей, поскольку объём указан в тысячах баррелей.\n",
    "После оценки рисков нужно оставить лишь те регионы, в которых вероятность убытков меньше 2.5%. Среди них выбирают регион с наибольшей средней прибылью.\n",
    "Данные синтетические: детали контрактов и характеристики месторождений не разглашаются."
   ]
  },
  {
   "cell_type": "markdown",
   "metadata": {},
   "source": [
    "План проекта:\n",
    "1. Необходимо загрузить и подготовить данные для анализа.\n",
    "2. Обучим и проверим модель для каждого региона:\\\n",
    " 2.1. Разбить данные на обучающую и валидационную выборки в соотношении 75:25.\\\n",
    " 2.2. Обучить модель и сделать предсказания на валидационной выборке.\\\n",
    " 2.3. Сохранить предсказания и правильные ответы на валидационной выборке.\\\n",
    " 2.4. Напечатать на экране средний запас предсказанного сырья и RMSE модели.\\\n",
    " 2.5. Проанализировать результаты.\n",
    "3. Подготовиться к расчёту прибыли:\\\n",
    " 3.1. Все ключевые значения для расчётов сохранить в отдельных переменных.\\\n",
    " 3.2. Рассчитать достаточный объём сырья для безубыточной разработки новой скважины. Сравнить полученный объём сырья со средним запасом в каждом регионе. \\\n",
    " 3.3. Сделать выводы по этапу подготовки расчёта прибыли.\n",
    "4. Написать функцию для расчёта прибыли по выбранным скважинам и предсказаниям модели:\\\n",
    " 4.1. Выбрать скважины с максимальными значениями предсказаний. \\\n",
    " 4.2. Просуммировать целевое значение объёма сырья, соответствующее этим предсказаниям.\\\n",
    " 4.3. Рассчитать прибыль для полученного объёма сырья.\n",
    "5. Посчитать риски и прибыль для каждого региона:\\\n",
    " 5.1. Применить технику Bootstrap с 1000 выборок, чтобы найти распределение прибыли.\\\n",
    " 5.2. Найти среднюю прибыль, 95%-й доверительный интервал и риск убытков. Убыток — это отрицательная прибыль.\\\n",
    " 5.3. Сделать общие выводы: предложите регион для разработки скважин и обоснуйте выбор."
   ]
  },
  {
   "cell_type": "markdown",
   "metadata": {},
   "source": [
    "## Загрузка и подготовка данных"
   ]
  },
  {
   "cell_type": "markdown",
   "metadata": {},
   "source": [
    "### Импортируем необходимые библиотеки"
   ]
  },
  {
   "cell_type": "code",
   "execution_count": 1,
   "metadata": {},
   "outputs": [],
   "source": [
    "import pandas as pd\n",
    "import numpy as np\n",
    "import matplotlib.pyplot as plt\n",
    "from sklearn.model_selection import train_test_split\n",
    "from sklearn.linear_model import LinearRegression\n",
    "from sklearn.metrics import mean_squared_error\n",
    "from scipy import stats as st\n",
    "from numpy.random import RandomState"
   ]
  },
  {
   "cell_type": "code",
   "execution_count": 2,
   "metadata": {},
   "outputs": [],
   "source": [
    "state = np.random.RandomState(12345)"
   ]
  },
  {
   "cell_type": "markdown",
   "metadata": {},
   "source": [
    "### Прочитаем файлы данных"
   ]
  },
  {
   "cell_type": "code",
   "execution_count": 3,
   "metadata": {},
   "outputs": [],
   "source": [
    "data_0 = pd.read_csv('datasets/geo_data_0.csv')\n",
    "data_1 = pd.read_csv('datasets/geo_data_1.csv')\n",
    "data_2 = pd.read_csv('datasets/geo_data_2.csv')"
   ]
  },
  {
   "cell_type": "markdown",
   "metadata": {},
   "source": [
    "### Исследуем данные"
   ]
  },
  {
   "cell_type": "code",
   "execution_count": 4,
   "metadata": {},
   "outputs": [
    {
     "name": "stdout",
     "output_type": "stream",
     "text": [
      "Регион 0\n",
      "<class 'pandas.core.frame.DataFrame'>\n",
      "RangeIndex: 100000 entries, 0 to 99999\n",
      "Data columns (total 5 columns):\n",
      " #   Column   Non-Null Count   Dtype  \n",
      "---  ------   --------------   -----  \n",
      " 0   id       100000 non-null  object \n",
      " 1   f0       100000 non-null  float64\n",
      " 2   f1       100000 non-null  float64\n",
      " 3   f2       100000 non-null  float64\n",
      " 4   product  100000 non-null  float64\n",
      "dtypes: float64(4), object(1)\n",
      "memory usage: 3.8+ MB\n",
      "None\n",
      "\n",
      "Регион 1\n",
      "<class 'pandas.core.frame.DataFrame'>\n",
      "RangeIndex: 100000 entries, 0 to 99999\n",
      "Data columns (total 5 columns):\n",
      " #   Column   Non-Null Count   Dtype  \n",
      "---  ------   --------------   -----  \n",
      " 0   id       100000 non-null  object \n",
      " 1   f0       100000 non-null  float64\n",
      " 2   f1       100000 non-null  float64\n",
      " 3   f2       100000 non-null  float64\n",
      " 4   product  100000 non-null  float64\n",
      "dtypes: float64(4), object(1)\n",
      "memory usage: 3.8+ MB\n",
      "None\n",
      "\n",
      "Регион 2\n",
      "<class 'pandas.core.frame.DataFrame'>\n",
      "RangeIndex: 100000 entries, 0 to 99999\n",
      "Data columns (total 5 columns):\n",
      " #   Column   Non-Null Count   Dtype  \n",
      "---  ------   --------------   -----  \n",
      " 0   id       100000 non-null  object \n",
      " 1   f0       100000 non-null  float64\n",
      " 2   f1       100000 non-null  float64\n",
      " 3   f2       100000 non-null  float64\n",
      " 4   product  100000 non-null  float64\n",
      "dtypes: float64(4), object(1)\n",
      "memory usage: 3.8+ MB\n",
      "None\n"
     ]
    }
   ],
   "source": [
    "print('Регион 0')\n",
    "print(data_0.info())\n",
    "print()\n",
    "print('Регион 1')\n",
    "print(data_1.info())\n",
    "print()\n",
    "print('Регион 2')\n",
    "print(data_2.info())"
   ]
  },
  {
   "cell_type": "code",
   "execution_count": 5,
   "metadata": {
    "scrolled": true
   },
   "outputs": [
    {
     "name": "stdout",
     "output_type": "stream",
     "text": [
      "Регион 0 (100000, 5)\n",
      "\n",
      "Регион 1 (100000, 5)\n",
      "\n",
      "Регион 2 (100000, 5)\n"
     ]
    }
   ],
   "source": [
    "print('Регион 0', data_0.shape)\n",
    "print()\n",
    "print('Регион 1', data_1.shape)\n",
    "print()\n",
    "print('Регион 2', data_2.shape)"
   ]
  },
  {
   "cell_type": "code",
   "execution_count": 6,
   "metadata": {
    "scrolled": true
   },
   "outputs": [
    {
     "name": "stdout",
     "output_type": "stream",
     "text": [
      "Регион 0\n"
     ]
    },
    {
     "data": {
      "text/html": [
       "<div>\n",
       "<style scoped>\n",
       "    .dataframe tbody tr th:only-of-type {\n",
       "        vertical-align: middle;\n",
       "    }\n",
       "\n",
       "    .dataframe tbody tr th {\n",
       "        vertical-align: top;\n",
       "    }\n",
       "\n",
       "    .dataframe thead th {\n",
       "        text-align: right;\n",
       "    }\n",
       "</style>\n",
       "<table border=\"1\" class=\"dataframe\">\n",
       "  <thead>\n",
       "    <tr style=\"text-align: right;\">\n",
       "      <th></th>\n",
       "      <th>id</th>\n",
       "      <th>f0</th>\n",
       "      <th>f1</th>\n",
       "      <th>f2</th>\n",
       "      <th>product</th>\n",
       "    </tr>\n",
       "  </thead>\n",
       "  <tbody>\n",
       "    <tr>\n",
       "      <th>0</th>\n",
       "      <td>txEyH</td>\n",
       "      <td>0.705745</td>\n",
       "      <td>-0.497823</td>\n",
       "      <td>1.221170</td>\n",
       "      <td>105.280062</td>\n",
       "    </tr>\n",
       "    <tr>\n",
       "      <th>1</th>\n",
       "      <td>2acmU</td>\n",
       "      <td>1.334711</td>\n",
       "      <td>-0.340164</td>\n",
       "      <td>4.365080</td>\n",
       "      <td>73.037750</td>\n",
       "    </tr>\n",
       "    <tr>\n",
       "      <th>2</th>\n",
       "      <td>409Wp</td>\n",
       "      <td>1.022732</td>\n",
       "      <td>0.151990</td>\n",
       "      <td>1.419926</td>\n",
       "      <td>85.265647</td>\n",
       "    </tr>\n",
       "    <tr>\n",
       "      <th>3</th>\n",
       "      <td>iJLyR</td>\n",
       "      <td>-0.032172</td>\n",
       "      <td>0.139033</td>\n",
       "      <td>2.978566</td>\n",
       "      <td>168.620776</td>\n",
       "    </tr>\n",
       "    <tr>\n",
       "      <th>4</th>\n",
       "      <td>Xdl7t</td>\n",
       "      <td>1.988431</td>\n",
       "      <td>0.155413</td>\n",
       "      <td>4.751769</td>\n",
       "      <td>154.036647</td>\n",
       "    </tr>\n",
       "  </tbody>\n",
       "</table>\n",
       "</div>"
      ],
      "text/plain": [
       "      id        f0        f1        f2     product\n",
       "0  txEyH  0.705745 -0.497823  1.221170  105.280062\n",
       "1  2acmU  1.334711 -0.340164  4.365080   73.037750\n",
       "2  409Wp  1.022732  0.151990  1.419926   85.265647\n",
       "3  iJLyR -0.032172  0.139033  2.978566  168.620776\n",
       "4  Xdl7t  1.988431  0.155413  4.751769  154.036647"
      ]
     },
     "metadata": {},
     "output_type": "display_data"
    }
   ],
   "source": [
    "print('Регион 0')\n",
    "display(data_0.head())"
   ]
  },
  {
   "cell_type": "code",
   "execution_count": 7,
   "metadata": {},
   "outputs": [
    {
     "name": "stdout",
     "output_type": "stream",
     "text": [
      "Регион 1\n"
     ]
    },
    {
     "data": {
      "text/html": [
       "<div>\n",
       "<style scoped>\n",
       "    .dataframe tbody tr th:only-of-type {\n",
       "        vertical-align: middle;\n",
       "    }\n",
       "\n",
       "    .dataframe tbody tr th {\n",
       "        vertical-align: top;\n",
       "    }\n",
       "\n",
       "    .dataframe thead th {\n",
       "        text-align: right;\n",
       "    }\n",
       "</style>\n",
       "<table border=\"1\" class=\"dataframe\">\n",
       "  <thead>\n",
       "    <tr style=\"text-align: right;\">\n",
       "      <th></th>\n",
       "      <th>id</th>\n",
       "      <th>f0</th>\n",
       "      <th>f1</th>\n",
       "      <th>f2</th>\n",
       "      <th>product</th>\n",
       "    </tr>\n",
       "  </thead>\n",
       "  <tbody>\n",
       "    <tr>\n",
       "      <th>0</th>\n",
       "      <td>kBEdx</td>\n",
       "      <td>-15.001348</td>\n",
       "      <td>-8.276000</td>\n",
       "      <td>-0.005876</td>\n",
       "      <td>3.179103</td>\n",
       "    </tr>\n",
       "    <tr>\n",
       "      <th>1</th>\n",
       "      <td>62mP7</td>\n",
       "      <td>14.272088</td>\n",
       "      <td>-3.475083</td>\n",
       "      <td>0.999183</td>\n",
       "      <td>26.953261</td>\n",
       "    </tr>\n",
       "    <tr>\n",
       "      <th>2</th>\n",
       "      <td>vyE1P</td>\n",
       "      <td>6.263187</td>\n",
       "      <td>-5.948386</td>\n",
       "      <td>5.001160</td>\n",
       "      <td>134.766305</td>\n",
       "    </tr>\n",
       "    <tr>\n",
       "      <th>3</th>\n",
       "      <td>KcrkZ</td>\n",
       "      <td>-13.081196</td>\n",
       "      <td>-11.506057</td>\n",
       "      <td>4.999415</td>\n",
       "      <td>137.945408</td>\n",
       "    </tr>\n",
       "    <tr>\n",
       "      <th>4</th>\n",
       "      <td>AHL4O</td>\n",
       "      <td>12.702195</td>\n",
       "      <td>-8.147433</td>\n",
       "      <td>5.004363</td>\n",
       "      <td>134.766305</td>\n",
       "    </tr>\n",
       "  </tbody>\n",
       "</table>\n",
       "</div>"
      ],
      "text/plain": [
       "      id         f0         f1        f2     product\n",
       "0  kBEdx -15.001348  -8.276000 -0.005876    3.179103\n",
       "1  62mP7  14.272088  -3.475083  0.999183   26.953261\n",
       "2  vyE1P   6.263187  -5.948386  5.001160  134.766305\n",
       "3  KcrkZ -13.081196 -11.506057  4.999415  137.945408\n",
       "4  AHL4O  12.702195  -8.147433  5.004363  134.766305"
      ]
     },
     "metadata": {},
     "output_type": "display_data"
    }
   ],
   "source": [
    "print('Регион 1')\n",
    "display(data_1.head())"
   ]
  },
  {
   "cell_type": "code",
   "execution_count": 8,
   "metadata": {},
   "outputs": [
    {
     "name": "stdout",
     "output_type": "stream",
     "text": [
      "Регион 2\n"
     ]
    },
    {
     "data": {
      "text/html": [
       "<div>\n",
       "<style scoped>\n",
       "    .dataframe tbody tr th:only-of-type {\n",
       "        vertical-align: middle;\n",
       "    }\n",
       "\n",
       "    .dataframe tbody tr th {\n",
       "        vertical-align: top;\n",
       "    }\n",
       "\n",
       "    .dataframe thead th {\n",
       "        text-align: right;\n",
       "    }\n",
       "</style>\n",
       "<table border=\"1\" class=\"dataframe\">\n",
       "  <thead>\n",
       "    <tr style=\"text-align: right;\">\n",
       "      <th></th>\n",
       "      <th>id</th>\n",
       "      <th>f0</th>\n",
       "      <th>f1</th>\n",
       "      <th>f2</th>\n",
       "      <th>product</th>\n",
       "    </tr>\n",
       "  </thead>\n",
       "  <tbody>\n",
       "    <tr>\n",
       "      <th>0</th>\n",
       "      <td>fwXo0</td>\n",
       "      <td>-1.146987</td>\n",
       "      <td>0.963328</td>\n",
       "      <td>-0.828965</td>\n",
       "      <td>27.758673</td>\n",
       "    </tr>\n",
       "    <tr>\n",
       "      <th>1</th>\n",
       "      <td>WJtFt</td>\n",
       "      <td>0.262778</td>\n",
       "      <td>0.269839</td>\n",
       "      <td>-2.530187</td>\n",
       "      <td>56.069697</td>\n",
       "    </tr>\n",
       "    <tr>\n",
       "      <th>2</th>\n",
       "      <td>ovLUW</td>\n",
       "      <td>0.194587</td>\n",
       "      <td>0.289035</td>\n",
       "      <td>-5.586433</td>\n",
       "      <td>62.871910</td>\n",
       "    </tr>\n",
       "    <tr>\n",
       "      <th>3</th>\n",
       "      <td>q6cA6</td>\n",
       "      <td>2.236060</td>\n",
       "      <td>-0.553760</td>\n",
       "      <td>0.930038</td>\n",
       "      <td>114.572842</td>\n",
       "    </tr>\n",
       "    <tr>\n",
       "      <th>4</th>\n",
       "      <td>WPMUX</td>\n",
       "      <td>-0.515993</td>\n",
       "      <td>1.716266</td>\n",
       "      <td>5.899011</td>\n",
       "      <td>149.600746</td>\n",
       "    </tr>\n",
       "  </tbody>\n",
       "</table>\n",
       "</div>"
      ],
      "text/plain": [
       "      id        f0        f1        f2     product\n",
       "0  fwXo0 -1.146987  0.963328 -0.828965   27.758673\n",
       "1  WJtFt  0.262778  0.269839 -2.530187   56.069697\n",
       "2  ovLUW  0.194587  0.289035 -5.586433   62.871910\n",
       "3  q6cA6  2.236060 -0.553760  0.930038  114.572842\n",
       "4  WPMUX -0.515993  1.716266  5.899011  149.600746"
      ]
     },
     "metadata": {},
     "output_type": "display_data"
    }
   ],
   "source": [
    "print('Регион 2')\n",
    "display(data_2.head())"
   ]
  },
  {
   "cell_type": "code",
   "execution_count": 9,
   "metadata": {},
   "outputs": [
    {
     "name": "stdout",
     "output_type": "stream",
     "text": [
      "Регион 0\n"
     ]
    },
    {
     "data": {
      "text/html": [
       "<div>\n",
       "<style scoped>\n",
       "    .dataframe tbody tr th:only-of-type {\n",
       "        vertical-align: middle;\n",
       "    }\n",
       "\n",
       "    .dataframe tbody tr th {\n",
       "        vertical-align: top;\n",
       "    }\n",
       "\n",
       "    .dataframe thead th {\n",
       "        text-align: right;\n",
       "    }\n",
       "</style>\n",
       "<table border=\"1\" class=\"dataframe\">\n",
       "  <thead>\n",
       "    <tr style=\"text-align: right;\">\n",
       "      <th></th>\n",
       "      <th>f0</th>\n",
       "      <th>f1</th>\n",
       "      <th>f2</th>\n",
       "      <th>product</th>\n",
       "    </tr>\n",
       "  </thead>\n",
       "  <tbody>\n",
       "    <tr>\n",
       "      <th>count</th>\n",
       "      <td>100000.000000</td>\n",
       "      <td>100000.000000</td>\n",
       "      <td>100000.000000</td>\n",
       "      <td>100000.000000</td>\n",
       "    </tr>\n",
       "    <tr>\n",
       "      <th>mean</th>\n",
       "      <td>0.500419</td>\n",
       "      <td>0.250143</td>\n",
       "      <td>2.502647</td>\n",
       "      <td>92.500000</td>\n",
       "    </tr>\n",
       "    <tr>\n",
       "      <th>std</th>\n",
       "      <td>0.871832</td>\n",
       "      <td>0.504433</td>\n",
       "      <td>3.248248</td>\n",
       "      <td>44.288691</td>\n",
       "    </tr>\n",
       "    <tr>\n",
       "      <th>min</th>\n",
       "      <td>-1.408605</td>\n",
       "      <td>-0.848218</td>\n",
       "      <td>-12.088328</td>\n",
       "      <td>0.000000</td>\n",
       "    </tr>\n",
       "    <tr>\n",
       "      <th>25%</th>\n",
       "      <td>-0.072580</td>\n",
       "      <td>-0.200881</td>\n",
       "      <td>0.287748</td>\n",
       "      <td>56.497507</td>\n",
       "    </tr>\n",
       "    <tr>\n",
       "      <th>50%</th>\n",
       "      <td>0.502360</td>\n",
       "      <td>0.250252</td>\n",
       "      <td>2.515969</td>\n",
       "      <td>91.849972</td>\n",
       "    </tr>\n",
       "    <tr>\n",
       "      <th>75%</th>\n",
       "      <td>1.073581</td>\n",
       "      <td>0.700646</td>\n",
       "      <td>4.715088</td>\n",
       "      <td>128.564089</td>\n",
       "    </tr>\n",
       "    <tr>\n",
       "      <th>max</th>\n",
       "      <td>2.362331</td>\n",
       "      <td>1.343769</td>\n",
       "      <td>16.003790</td>\n",
       "      <td>185.364347</td>\n",
       "    </tr>\n",
       "  </tbody>\n",
       "</table>\n",
       "</div>"
      ],
      "text/plain": [
       "                  f0             f1             f2        product\n",
       "count  100000.000000  100000.000000  100000.000000  100000.000000\n",
       "mean        0.500419       0.250143       2.502647      92.500000\n",
       "std         0.871832       0.504433       3.248248      44.288691\n",
       "min        -1.408605      -0.848218     -12.088328       0.000000\n",
       "25%        -0.072580      -0.200881       0.287748      56.497507\n",
       "50%         0.502360       0.250252       2.515969      91.849972\n",
       "75%         1.073581       0.700646       4.715088     128.564089\n",
       "max         2.362331       1.343769      16.003790     185.364347"
      ]
     },
     "metadata": {},
     "output_type": "display_data"
    },
    {
     "name": "stdout",
     "output_type": "stream",
     "text": [
      "\n",
      "Регион 1\n"
     ]
    },
    {
     "data": {
      "text/html": [
       "<div>\n",
       "<style scoped>\n",
       "    .dataframe tbody tr th:only-of-type {\n",
       "        vertical-align: middle;\n",
       "    }\n",
       "\n",
       "    .dataframe tbody tr th {\n",
       "        vertical-align: top;\n",
       "    }\n",
       "\n",
       "    .dataframe thead th {\n",
       "        text-align: right;\n",
       "    }\n",
       "</style>\n",
       "<table border=\"1\" class=\"dataframe\">\n",
       "  <thead>\n",
       "    <tr style=\"text-align: right;\">\n",
       "      <th></th>\n",
       "      <th>f0</th>\n",
       "      <th>f1</th>\n",
       "      <th>f2</th>\n",
       "      <th>product</th>\n",
       "    </tr>\n",
       "  </thead>\n",
       "  <tbody>\n",
       "    <tr>\n",
       "      <th>count</th>\n",
       "      <td>100000.000000</td>\n",
       "      <td>100000.000000</td>\n",
       "      <td>100000.000000</td>\n",
       "      <td>100000.000000</td>\n",
       "    </tr>\n",
       "    <tr>\n",
       "      <th>mean</th>\n",
       "      <td>1.141296</td>\n",
       "      <td>-4.796579</td>\n",
       "      <td>2.494541</td>\n",
       "      <td>68.825000</td>\n",
       "    </tr>\n",
       "    <tr>\n",
       "      <th>std</th>\n",
       "      <td>8.965932</td>\n",
       "      <td>5.119872</td>\n",
       "      <td>1.703572</td>\n",
       "      <td>45.944423</td>\n",
       "    </tr>\n",
       "    <tr>\n",
       "      <th>min</th>\n",
       "      <td>-31.609576</td>\n",
       "      <td>-26.358598</td>\n",
       "      <td>-0.018144</td>\n",
       "      <td>0.000000</td>\n",
       "    </tr>\n",
       "    <tr>\n",
       "      <th>25%</th>\n",
       "      <td>-6.298551</td>\n",
       "      <td>-8.267985</td>\n",
       "      <td>1.000021</td>\n",
       "      <td>26.953261</td>\n",
       "    </tr>\n",
       "    <tr>\n",
       "      <th>50%</th>\n",
       "      <td>1.153055</td>\n",
       "      <td>-4.813172</td>\n",
       "      <td>2.011479</td>\n",
       "      <td>57.085625</td>\n",
       "    </tr>\n",
       "    <tr>\n",
       "      <th>75%</th>\n",
       "      <td>8.621015</td>\n",
       "      <td>-1.332816</td>\n",
       "      <td>3.999904</td>\n",
       "      <td>107.813044</td>\n",
       "    </tr>\n",
       "    <tr>\n",
       "      <th>max</th>\n",
       "      <td>29.421755</td>\n",
       "      <td>18.734063</td>\n",
       "      <td>5.019721</td>\n",
       "      <td>137.945408</td>\n",
       "    </tr>\n",
       "  </tbody>\n",
       "</table>\n",
       "</div>"
      ],
      "text/plain": [
       "                  f0             f1             f2        product\n",
       "count  100000.000000  100000.000000  100000.000000  100000.000000\n",
       "mean        1.141296      -4.796579       2.494541      68.825000\n",
       "std         8.965932       5.119872       1.703572      45.944423\n",
       "min       -31.609576     -26.358598      -0.018144       0.000000\n",
       "25%        -6.298551      -8.267985       1.000021      26.953261\n",
       "50%         1.153055      -4.813172       2.011479      57.085625\n",
       "75%         8.621015      -1.332816       3.999904     107.813044\n",
       "max        29.421755      18.734063       5.019721     137.945408"
      ]
     },
     "metadata": {},
     "output_type": "display_data"
    },
    {
     "name": "stdout",
     "output_type": "stream",
     "text": [
      "\n",
      "Регион 2\n"
     ]
    },
    {
     "data": {
      "text/html": [
       "<div>\n",
       "<style scoped>\n",
       "    .dataframe tbody tr th:only-of-type {\n",
       "        vertical-align: middle;\n",
       "    }\n",
       "\n",
       "    .dataframe tbody tr th {\n",
       "        vertical-align: top;\n",
       "    }\n",
       "\n",
       "    .dataframe thead th {\n",
       "        text-align: right;\n",
       "    }\n",
       "</style>\n",
       "<table border=\"1\" class=\"dataframe\">\n",
       "  <thead>\n",
       "    <tr style=\"text-align: right;\">\n",
       "      <th></th>\n",
       "      <th>f0</th>\n",
       "      <th>f1</th>\n",
       "      <th>f2</th>\n",
       "      <th>product</th>\n",
       "    </tr>\n",
       "  </thead>\n",
       "  <tbody>\n",
       "    <tr>\n",
       "      <th>count</th>\n",
       "      <td>100000.000000</td>\n",
       "      <td>100000.000000</td>\n",
       "      <td>100000.000000</td>\n",
       "      <td>100000.000000</td>\n",
       "    </tr>\n",
       "    <tr>\n",
       "      <th>mean</th>\n",
       "      <td>0.002023</td>\n",
       "      <td>-0.002081</td>\n",
       "      <td>2.495128</td>\n",
       "      <td>95.000000</td>\n",
       "    </tr>\n",
       "    <tr>\n",
       "      <th>std</th>\n",
       "      <td>1.732045</td>\n",
       "      <td>1.730417</td>\n",
       "      <td>3.473445</td>\n",
       "      <td>44.749921</td>\n",
       "    </tr>\n",
       "    <tr>\n",
       "      <th>min</th>\n",
       "      <td>-8.760004</td>\n",
       "      <td>-7.084020</td>\n",
       "      <td>-11.970335</td>\n",
       "      <td>0.000000</td>\n",
       "    </tr>\n",
       "    <tr>\n",
       "      <th>25%</th>\n",
       "      <td>-1.162288</td>\n",
       "      <td>-1.174820</td>\n",
       "      <td>0.130359</td>\n",
       "      <td>59.450441</td>\n",
       "    </tr>\n",
       "    <tr>\n",
       "      <th>50%</th>\n",
       "      <td>0.009424</td>\n",
       "      <td>-0.009482</td>\n",
       "      <td>2.484236</td>\n",
       "      <td>94.925613</td>\n",
       "    </tr>\n",
       "    <tr>\n",
       "      <th>75%</th>\n",
       "      <td>1.158535</td>\n",
       "      <td>1.163678</td>\n",
       "      <td>4.858794</td>\n",
       "      <td>130.595027</td>\n",
       "    </tr>\n",
       "    <tr>\n",
       "      <th>max</th>\n",
       "      <td>7.238262</td>\n",
       "      <td>7.844801</td>\n",
       "      <td>16.739402</td>\n",
       "      <td>190.029838</td>\n",
       "    </tr>\n",
       "  </tbody>\n",
       "</table>\n",
       "</div>"
      ],
      "text/plain": [
       "                  f0             f1             f2        product\n",
       "count  100000.000000  100000.000000  100000.000000  100000.000000\n",
       "mean        0.002023      -0.002081       2.495128      95.000000\n",
       "std         1.732045       1.730417       3.473445      44.749921\n",
       "min        -8.760004      -7.084020     -11.970335       0.000000\n",
       "25%        -1.162288      -1.174820       0.130359      59.450441\n",
       "50%         0.009424      -0.009482       2.484236      94.925613\n",
       "75%         1.158535       1.163678       4.858794     130.595027\n",
       "max         7.238262       7.844801      16.739402     190.029838"
      ]
     },
     "metadata": {},
     "output_type": "display_data"
    }
   ],
   "source": [
    "print('Регион 0')\n",
    "display(data_0.describe())\n",
    "print()\n",
    "print('Регион 1')\n",
    "display(data_1.describe())\n",
    "print()\n",
    "print('Регион 2')\n",
    "display(data_2.describe())"
   ]
  },
  {
   "cell_type": "code",
   "execution_count": 10,
   "metadata": {
    "scrolled": true
   },
   "outputs": [
    {
     "name": "stdout",
     "output_type": "stream",
     "text": [
      "Регион 0\n",
      "0\n",
      "\n",
      "Регион 1\n",
      "0\n",
      "\n",
      "Регион 2\n",
      "0\n"
     ]
    }
   ],
   "source": [
    "print('Регион 0')\n",
    "print(data_0.duplicated().sum())\n",
    "print()\n",
    "print('Регион 1')\n",
    "print(data_1.duplicated().sum())\n",
    "print()\n",
    "print('Регион 2')\n",
    "print(data_2.duplicated().sum())"
   ]
  },
  {
   "cell_type": "code",
   "execution_count": 11,
   "metadata": {
    "scrolled": true
   },
   "outputs": [],
   "source": [
    "# # Проверим корреляцию между признаками\n",
    "\n",
    "# display('Регион 0')\n",
    "# display(data_0.corr())"
   ]
  },
  {
   "cell_type": "code",
   "execution_count": 12,
   "metadata": {},
   "outputs": [],
   "source": [
    "# display('Регион 1')\n",
    "# display(data_1.corr())"
   ]
  },
  {
   "cell_type": "code",
   "execution_count": 13,
   "metadata": {},
   "outputs": [],
   "source": [
    "# display('Регион 2')\n",
    "# display(data_2.corr())"
   ]
  },
  {
   "cell_type": "markdown",
   "metadata": {},
   "source": [
    "В  Регионе 1 очень высокая корреляция между f2 и product. Признак f2 следует удалить."
   ]
  },
  {
   "cell_type": "code",
   "execution_count": 14,
   "metadata": {},
   "outputs": [],
   "source": [
    "# data_1 = data_1.drop(['f2'],axis = 1)"
   ]
  },
  {
   "cell_type": "markdown",
   "metadata": {},
   "source": [
    "Вывод по результатам анализа данных:\n",
    "\n",
    "1. Пропуски - отсутствуют\n",
    "2. Типы данных - корректны\n",
    "3. Названия столбцов - корректны\n",
    "4. Дубликаты - отсутствуют\n",
    "5. Объем запасов - положительный\n",
    "6. Коррелирующие признаки - учтены"
   ]
  },
  {
   "cell_type": "markdown",
   "metadata": {},
   "source": [
    "## Обучение и проверка модели"
   ]
  },
  {
   "cell_type": "code",
   "execution_count": 15,
   "metadata": {},
   "outputs": [],
   "source": [
    "# Создадим функцию для расчета предсказанных средних запасов и RMSE\n",
    "\n",
    "def model_score(data):\n",
    "    features = data.drop(['id','product'], axis = 1)\n",
    "    target = data['product']\n",
    "    \n",
    "    features_train, features_valid, target_train, target_valid = train_test_split(features, \n",
    "                                                                                  target, \n",
    "                                                                                  test_size=0.25, \n",
    "                                                                                  random_state=state)\n",
    "    \n",
    "    model = LinearRegression()\n",
    "    model.fit(features_train, target_train)\n",
    "    predictions_valid = model.predict(features_valid)\n",
    "    \n",
    "# Упорядочим индексы в таргете и предсказаниях\n",
    "    predictions_valid = pd.Series(predictions_valid).reset_index(drop=True)\n",
    "    target_valid = pd.Series(target_valid).reset_index(drop=True)\n",
    "    \n",
    "    average_stock = predictions_valid.mean()\n",
    "    rmse = mean_squared_error(target_valid, predictions_valid)**0.5\n",
    "    \n",
    "    return average_stock, rmse, predictions_valid, target_valid"
   ]
  },
  {
   "cell_type": "code",
   "execution_count": 16,
   "metadata": {
    "scrolled": true
   },
   "outputs": [
    {
     "name": "stdout",
     "output_type": "stream",
     "text": [
      "Регион 0\n",
      "Средний запас: 92.59256778438035\n",
      "RMSE модели: 37.5794217150813\n"
     ]
    }
   ],
   "source": [
    "model_data_0 = model_score(data_0)\n",
    "print('Регион 0')\n",
    "print('Средний запас:', model_data_0[0])\n",
    "print('RMSE модели:', model_data_0[1])"
   ]
  },
  {
   "cell_type": "code",
   "execution_count": 17,
   "metadata": {},
   "outputs": [
    {
     "name": "stdout",
     "output_type": "stream",
     "text": [
      "Регион 1\n",
      "Средний запас: 68.76995145799754\n",
      "RMSE модели: 0.889736773768065\n"
     ]
    }
   ],
   "source": [
    "model_data_1 = model_score(data_1)\n",
    "print('Регион 1')\n",
    "print('Средний запас:', model_data_1[0])\n",
    "print('RMSE модели:', model_data_1[1])"
   ]
  },
  {
   "cell_type": "code",
   "execution_count": 18,
   "metadata": {},
   "outputs": [
    {
     "name": "stdout",
     "output_type": "stream",
     "text": [
      "Регион 2\n",
      "Средний запас: 95.087528122523\n",
      "RMSE модели: 39.958042459521614\n"
     ]
    }
   ],
   "source": [
    "model_data_2 = model_score(data_2)\n",
    "print('Регион 2')\n",
    "print('Средний запас:', model_data_2[0])\n",
    "print('RMSE модели:', model_data_2[1])"
   ]
  },
  {
   "cell_type": "markdown",
   "metadata": {},
   "source": [
    "Выводы:\\\n",
    "Запасы в Регионе 0 и Регионе 2 приблизительно равны, ошибка также невелика.\\\n",
    "Запасы в Регионе 1 наименьшие, c учетом корреляции призака и таргета ошибка совсем невелика."
   ]
  },
  {
   "cell_type": "markdown",
   "metadata": {},
   "source": [
    "## Подготовка к расчёту прибыли"
   ]
  },
  {
   "cell_type": "code",
   "execution_count": 19,
   "metadata": {},
   "outputs": [],
   "source": [
    "# Все ключевые значения для расчётов сохраняем в отдельных переменных.\n",
    "budget_per_region = 10_000_000_000 # Бюджет на разработку скважин в регионе\n",
    "research_points = 500 # Исследуемые при разработке региона точки\n",
    "best_research_points = 200 # Выбранные машинным обучением точки для разработки\n",
    "income_per_barrel = 450_000 # Доход с каждой единицы продукта\n",
    "damage_threshold =  0.025 # Критическая вероятность убытков\n",
    "break_even = (budget_per_region)/(income_per_barrel*best_research_points) # Достаточный объем добычи для безубыточной разработки"
   ]
  },
  {
   "cell_type": "code",
   "execution_count": 20,
   "metadata": {
    "scrolled": true
   },
   "outputs": [
    {
     "name": "stdout",
     "output_type": "stream",
     "text": [
      "Достаточный объем добычи для безубыточной разработки 111 тыс.баррелей\n"
     ]
    }
   ],
   "source": [
    "print('Достаточный объем добычи для безубыточной разработки', round(break_even), 'тыс.баррелей')"
   ]
  },
  {
   "cell_type": "code",
   "execution_count": 21,
   "metadata": {},
   "outputs": [
    {
     "name": "stdout",
     "output_type": "stream",
     "text": [
      "Количество скважин в Регионе 0, имеющих запас выше точки безубыточности: 36676\n",
      "Процентное соотношение скважин, имеющих запас выше точки безубыточности:  37%\n"
     ]
    }
   ],
   "source": [
    "break_even_count = data_0['product'][data_0['product'] > round(break_even)].count()\n",
    "print('Количество скважин в Регионе 0, имеющих запас выше точки безубыточности:', \n",
    "      break_even_count)\n",
    "print(f'Процентное соотношение скважин, имеющих запас выше точки безубыточности: {break_even_count / 100000 : .0%}')"
   ]
  },
  {
   "cell_type": "code",
   "execution_count": 22,
   "metadata": {},
   "outputs": [
    {
     "name": "stdout",
     "output_type": "stream",
     "text": [
      "Количество скважин в Регионе 1, имеющих запас выше точки безубыточности: 16537\n",
      "Процентное соотношение скважин, имеющих запас выше точки безубыточности:  17%\n"
     ]
    }
   ],
   "source": [
    "break_even_count = data_1['product'][data_1['product'] > round(break_even)].count()\n",
    "print('Количество скважин в Регионе 1, имеющих запас выше точки безубыточности:', \n",
    "      break_even_count)\n",
    "print(f'Процентное соотношение скважин, имеющих запас выше точки безубыточности: {break_even_count / 100000 : .0%}')"
   ]
  },
  {
   "cell_type": "code",
   "execution_count": 23,
   "metadata": {
    "scrolled": true
   },
   "outputs": [
    {
     "name": "stdout",
     "output_type": "stream",
     "text": [
      "Количество скважин в Регионе 2, имеющих запас выше точки безубыточности: 38278\n",
      "Процентное соотношение скважин, имеющих запас выше точки безубыточности:  38%\n"
     ]
    }
   ],
   "source": [
    "break_even_count = data_2['product'][data_2['product'] > round(break_even)].count()\n",
    "print('Количество скважин в Регионе 2, имеющих запас выше точки безубыточности:', \n",
    "      break_even_count)\n",
    "print(f'Процентное соотношение скважин, имеющих запас выше точки безубыточности: {break_even_count / 100000 : .0%}')"
   ]
  },
  {
   "cell_type": "markdown",
   "metadata": {},
   "source": [
    "Вывод:\n",
    "Средний объем запасов по всем регионам меньше точки безубыточности, однако учтем тот факт, что в Регионе 0 и Регионе 1 37-38 процентов скважин имеют запас выше точки безубыточности. С учетом того, что разрабатывать будут всего 200 скважин, запасов сырья должно хватить для окупаемости проекта во всех регионах."
   ]
  },
  {
   "cell_type": "markdown",
   "metadata": {},
   "source": [
    "## Расчёт прибыли и рисков "
   ]
  },
  {
   "cell_type": "code",
   "execution_count": 24,
   "metadata": {},
   "outputs": [],
   "source": [
    "# Напишем функцию для расчёта прибыли по выбранным скважинам и предсказаниям модели\n",
    "\n",
    "def incom (data, predictions):\n",
    "    top_200 = pd.Series(predictions).sort_values(ascending=False)[:200]\n",
    "    max_pred_well = pd.Series(data[top_200.index])\n",
    "    return round((max_pred_well * income_per_barrel).sum() - budget_per_region)"
   ]
  },
  {
   "cell_type": "code",
   "execution_count": 25,
   "metadata": {},
   "outputs": [
    {
     "name": "stdout",
     "output_type": "stream",
     "text": [
      "Прибыль с 200 лучших скважин Региона 0: 3320.826043 млн рублей\n",
      "\n",
      "Прибыль с 200 лучших скважин Региона 1: 2415.086697 млн рублей\n",
      "\n",
      "Прибыль с 200 лучших скважин Региона 2: 2539.915946 млн рублей\n",
      "\n"
     ]
    }
   ],
   "source": [
    "print('Прибыль с 200 лучших скважин Региона 0:', incom(model_data_0[3], model_data_0[2]) / 10**6, 'млн рублей')\n",
    "print()\n",
    "print('Прибыль с 200 лучших скважин Региона 1:', incom(model_data_1[3], model_data_1[2]) / 10**6, 'млн рублей')\n",
    "print()\n",
    "print('Прибыль с 200 лучших скважин Региона 2:', incom(model_data_2[3], model_data_2[2]) / 10**6, 'млн рублей')\n",
    "print()"
   ]
  },
  {
   "cell_type": "code",
   "execution_count": 26,
   "metadata": {},
   "outputs": [],
   "source": [
    "# Создадим функцию по расчету средней прибыли, 95%-й доверительного интервала и риска убытков. \n",
    "\n",
    "def risks_profits(data, prediction):\n",
    "     \n",
    "    values = []\n",
    "    for i in range(1000):\n",
    "        data = data.reset_index(drop=True)\n",
    "        prediction = prediction.reset_index(drop=True)\n",
    "        prediction_subsample = pd.Series(prediction).sample(n=500, replace=True, random_state=state)\n",
    "#         top_200 = pd.Series(data_subsample).sort_values(ascending=False)[:200]\n",
    "#         max_pred_well = pd.Series(data[top_200.index])\n",
    "#         values.append((max_pred_well * income_per_barrel).sum() - budget_per_region)\n",
    "        values.append(incom(data, prediction_subsample))\n",
    "    values = pd.Series(values) \n",
    "\n",
    "    mean = values.mean()\n",
    "    lower = values.quantile(0.05)\n",
    "    upper = values.quantile(0.95)\n",
    "    risk_of_loss = (values[values < 0].count()) / (values.count())\n",
    "    \n",
    "        \n",
    "    return mean, lower, upper, risk_of_loss"
   ]
  },
  {
   "cell_type": "code",
   "execution_count": 27,
   "metadata": {},
   "outputs": [
    {
     "name": "stdout",
     "output_type": "stream",
     "text": [
      "Средняя прибыль:  394.28 млн руб.\n",
      "Доверительный интервал: -10.75 -  842.51 млн руб.\n",
      "Риск убытков составляет  6.10%\n"
     ]
    }
   ],
   "source": [
    "# Подсчитываем среднюю прибыли, 95%-й доверительного интервала и риска убытков для Региона 0\n",
    "\n",
    "risk_region_0 = risks_profits(model_data_0[3], model_data_0[2])\n",
    "print(f'Средняя прибыль: {risk_region_0[0] / 10**6 : .2f} млн руб.')\n",
    "print(f'Доверительный интервал: {risk_region_0[1] / 10**6 : .2f} - {risk_region_0[2]  / 10**6: .2f} млн руб.')\n",
    "print(f'Риск убытков составляет {risk_region_0[3] : .2%}')"
   ]
  },
  {
   "cell_type": "code",
   "execution_count": 28,
   "metadata": {},
   "outputs": [
    {
     "name": "stdout",
     "output_type": "stream",
     "text": [
      "Средняя прибыль:  454.74 млн руб.\n",
      "Доверительный интервал:  111.60 -  793.18 млн руб.\n",
      "Риск убытков составляет  0.70%\n"
     ]
    }
   ],
   "source": [
    "# Подсчитываем среднюю прибыли, 95%-й доверительного интервала и риска убытков для Региона 1\n",
    "\n",
    "risk_region_1 = risks_profits(model_data_1[3], model_data_1[2])\n",
    "print(f'Средняя прибыль: {risk_region_1[0] / 10**6 : .2f} млн руб.')\n",
    "print(f'Доверительный интервал: {risk_region_1[1] / 10**6  : .2f} - {risk_region_1[2]  / 10**6 : .2f} млн руб.')\n",
    "print(f'Риск убытков составляет {risk_region_1[3] : .2%}')"
   ]
  },
  {
   "cell_type": "code",
   "execution_count": 29,
   "metadata": {
    "scrolled": true
   },
   "outputs": [
    {
     "name": "stdout",
     "output_type": "stream",
     "text": [
      "Средняя прибыль:  353.66 млн руб.\n",
      "Доверительный интервал: -57.42 -  764.14 млн руб.\n",
      "Риск убытков составляет  7.60%\n"
     ]
    }
   ],
   "source": [
    "# Подсчитываем среднюю прибыли, 95%-й доверительного интервала и риска убытков для Региона 2\n",
    "\n",
    "risk_region_2 = risks_profits(model_data_2[3], model_data_2[2])\n",
    "print(f'Средняя прибыль: {risk_region_2[0] / 10**6 : .2f} млн руб.')\n",
    "print(f'Доверительный интервал: {risk_region_2[1] / 10**6 : .2f} - {risk_region_2[2]  / 10**6 : .2f} млн руб.')\n",
    "print(f'Риск убытков составляет {risk_region_2[3] : .2%}')"
   ]
  },
  {
   "cell_type": "markdown",
   "metadata": {},
   "source": [
    "Общий вывод по проекту:\\\n",
    "Получены и подготовлены данные для анализа.\\\n",
    "Подготовлена, обучена и проверена модель.\\\n",
    "Определена точка безубыточности для разработки скважин.\\\n",
    "\n",
    "По результатам проведенного исследования сформированы следующие рекомендации:\\\n",
    "Во всех регионах средняя концентрация продукта слишком низкая, чтобы выбирать точки случайно, поэтому нужен хороший механизм для отбора.\\\n",
    "Регион 0 и Регион 2 не подходят для разработки скважин: регионы показывают высокие риски - выше целевого значения. \\\n",
    "Регион 1 подходит для разработки скважин - скважины в среднем показывают прибыль, риски ниже целевого значения.\\\n",
    "Точкой безубыточности по представленным данным является 111 тыс.баррелей. \\\n",
    "По результатам исследования рекомендуем сосредоточиться на разработке скважин в Регионе 1. \\\n",
    "Однако нужно иметь в виду, что 37-38 процентов скважин в Регионах 0 и 2, и 17 процентов - в Регионе 1, имеют запас выше точки безубыточности. С учетом того, что разрабатывать будут всего 200 скважин, запасов сырья должно хватить для окупаемости проекта во всех регионах."
   ]
  },
  {
   "cell_type": "code",
   "execution_count": null,
   "metadata": {},
   "outputs": [],
   "source": []
  }
 ],
 "metadata": {
  "ExecuteTimeLog": [
   {
    "duration": 769,
    "start_time": "2023-02-16T07:04:21.599Z"
   },
   {
    "duration": 67,
    "start_time": "2023-02-16T07:07:21.673Z"
   },
   {
    "duration": 8,
    "start_time": "2023-02-16T07:07:49.602Z"
   },
   {
    "duration": 1451,
    "start_time": "2023-02-16T07:07:53.897Z"
   },
   {
    "duration": 6,
    "start_time": "2023-02-16T07:07:55.352Z"
   },
   {
    "duration": 5,
    "start_time": "2023-02-16T07:08:08.648Z"
   },
   {
    "duration": 4,
    "start_time": "2023-02-16T07:08:27.192Z"
   },
   {
    "duration": 4,
    "start_time": "2023-02-16T07:08:40.023Z"
   },
   {
    "duration": 4,
    "start_time": "2023-02-16T07:08:48.135Z"
   },
   {
    "duration": 5,
    "start_time": "2023-02-16T07:14:41.129Z"
   },
   {
    "duration": 8,
    "start_time": "2023-02-16T07:15:43.288Z"
   },
   {
    "duration": 347,
    "start_time": "2023-02-16T07:15:46.815Z"
   },
   {
    "duration": 5,
    "start_time": "2023-02-16T07:15:47.831Z"
   },
   {
    "duration": 8,
    "start_time": "2023-02-16T07:15:49.239Z"
   },
   {
    "duration": 6,
    "start_time": "2023-02-16T07:18:49.148Z"
   },
   {
    "duration": 7,
    "start_time": "2023-02-16T07:18:49.924Z"
   },
   {
    "duration": 36,
    "start_time": "2023-02-16T07:19:03.995Z"
   },
   {
    "duration": 14,
    "start_time": "2023-02-16T07:54:42.320Z"
   },
   {
    "duration": 12,
    "start_time": "2023-02-16T07:55:13.103Z"
   },
   {
    "duration": 12,
    "start_time": "2023-02-16T07:56:25.373Z"
   },
   {
    "duration": 12,
    "start_time": "2023-02-16T07:56:36.877Z"
   },
   {
    "duration": 91,
    "start_time": "2023-02-16T07:57:13.783Z"
   },
   {
    "duration": 8,
    "start_time": "2023-02-16T08:03:42.839Z"
   },
   {
    "duration": 14,
    "start_time": "2023-02-16T08:04:21.206Z"
   },
   {
    "duration": 35,
    "start_time": "2023-02-16T08:05:05.844Z"
   },
   {
    "duration": 128,
    "start_time": "2023-02-16T08:05:57.564Z"
   },
   {
    "duration": 31,
    "start_time": "2023-02-16T08:07:35.922Z"
   },
   {
    "duration": 28,
    "start_time": "2023-02-16T08:08:14.969Z"
   },
   {
    "duration": 6,
    "start_time": "2023-02-16T08:13:24.948Z"
   },
   {
    "duration": 1208,
    "start_time": "2023-02-16T08:14:07.811Z"
   },
   {
    "duration": 2,
    "start_time": "2023-02-16T08:15:17.267Z"
   },
   {
    "duration": 7,
    "start_time": "2023-02-16T08:15:31.274Z"
   },
   {
    "duration": 1719,
    "start_time": "2023-02-16T12:32:13.552Z"
   },
   {
    "duration": 1035,
    "start_time": "2023-02-16T12:32:15.273Z"
   },
   {
    "duration": 44,
    "start_time": "2023-02-16T12:32:21.044Z"
   },
   {
    "duration": 6,
    "start_time": "2023-02-16T12:32:22.021Z"
   },
   {
    "duration": 25,
    "start_time": "2023-02-16T12:32:22.708Z"
   },
   {
    "duration": 116,
    "start_time": "2023-02-16T12:32:25.015Z"
   },
   {
    "duration": 168,
    "start_time": "2023-02-16T12:32:26.760Z"
   },
   {
    "duration": 29,
    "start_time": "2023-02-16T12:32:27.845Z"
   },
   {
    "duration": 6,
    "start_time": "2023-02-16T12:32:30.409Z"
   },
   {
    "duration": 86,
    "start_time": "2023-02-16T12:32:34.630Z"
   },
   {
    "duration": 4,
    "start_time": "2023-02-16T12:32:54.027Z"
   },
   {
    "duration": 75,
    "start_time": "2023-02-16T12:40:53.483Z"
   },
   {
    "duration": 70,
    "start_time": "2023-02-16T12:41:48.431Z"
   },
   {
    "duration": 4,
    "start_time": "2023-02-16T12:41:55.479Z"
   },
   {
    "duration": 4,
    "start_time": "2023-02-16T12:42:08.815Z"
   },
   {
    "duration": 3,
    "start_time": "2023-02-16T12:42:37.171Z"
   },
   {
    "duration": 57,
    "start_time": "2023-02-16T12:42:52.340Z"
   },
   {
    "duration": 258,
    "start_time": "2023-02-16T12:45:15.550Z"
   },
   {
    "duration": 5,
    "start_time": "2023-02-16T12:45:25.867Z"
   },
   {
    "duration": 165,
    "start_time": "2023-02-16T12:45:28.033Z"
   },
   {
    "duration": 30,
    "start_time": "2023-02-16T12:51:41.263Z"
   },
   {
    "duration": 25,
    "start_time": "2023-02-16T12:52:29.082Z"
   },
   {
    "duration": 35,
    "start_time": "2023-02-16T12:53:29.567Z"
   },
   {
    "duration": 37,
    "start_time": "2023-02-16T12:53:31.271Z"
   },
   {
    "duration": 35,
    "start_time": "2023-02-16T12:53:33.265Z"
   },
   {
    "duration": 139,
    "start_time": "2023-02-16T12:56:36.655Z"
   },
   {
    "duration": 21,
    "start_time": "2023-02-16T12:56:58.864Z"
   },
   {
    "duration": 1372,
    "start_time": "2023-02-16T12:57:15.994Z"
   },
   {
    "duration": 509,
    "start_time": "2023-02-16T12:57:17.368Z"
   },
   {
    "duration": 46,
    "start_time": "2023-02-16T12:57:17.881Z"
   },
   {
    "duration": 4,
    "start_time": "2023-02-16T12:57:17.930Z"
   },
   {
    "duration": 35,
    "start_time": "2023-02-16T12:57:17.935Z"
   },
   {
    "duration": 98,
    "start_time": "2023-02-16T12:57:17.971Z"
   },
   {
    "duration": 155,
    "start_time": "2023-02-16T12:57:18.071Z"
   },
   {
    "duration": 33,
    "start_time": "2023-02-16T12:57:18.227Z"
   },
   {
    "duration": 8,
    "start_time": "2023-02-16T12:57:18.262Z"
   },
   {
    "duration": 23,
    "start_time": "2023-02-16T12:57:18.272Z"
   },
   {
    "duration": 45,
    "start_time": "2023-02-16T12:57:18.297Z"
   },
   {
    "duration": 238,
    "start_time": "2023-02-16T12:57:18.345Z"
   },
   {
    "duration": 0,
    "start_time": "2023-02-16T12:57:18.595Z"
   },
   {
    "duration": 9,
    "start_time": "2023-02-16T13:09:55.312Z"
   },
   {
    "duration": 9,
    "start_time": "2023-02-16T13:10:21.662Z"
   },
   {
    "duration": 24,
    "start_time": "2023-02-16T13:10:38.407Z"
   },
   {
    "duration": 29,
    "start_time": "2023-02-16T13:10:41.289Z"
   },
   {
    "duration": 9,
    "start_time": "2023-02-16T13:31:48.185Z"
   },
   {
    "duration": 9,
    "start_time": "2023-02-16T13:35:20.850Z"
   },
   {
    "duration": 4,
    "start_time": "2023-02-16T13:35:33.821Z"
   },
   {
    "duration": 5,
    "start_time": "2023-02-16T13:36:11.496Z"
   },
   {
    "duration": 4,
    "start_time": "2023-02-16T13:36:23.923Z"
   },
   {
    "duration": 3,
    "start_time": "2023-02-16T13:36:24.414Z"
   },
   {
    "duration": 5,
    "start_time": "2023-02-16T13:38:07.485Z"
   },
   {
    "duration": 4,
    "start_time": "2023-02-16T13:38:26.560Z"
   },
   {
    "duration": 10,
    "start_time": "2023-02-16T13:43:24.145Z"
   },
   {
    "duration": 9,
    "start_time": "2023-02-16T13:44:23.571Z"
   },
   {
    "duration": 13,
    "start_time": "2023-02-16T13:44:41.011Z"
   },
   {
    "duration": 11,
    "start_time": "2023-02-16T13:45:22.186Z"
   },
   {
    "duration": 13,
    "start_time": "2023-02-16T13:45:29.154Z"
   },
   {
    "duration": 16,
    "start_time": "2023-02-16T13:46:06.657Z"
   },
   {
    "duration": 13,
    "start_time": "2023-02-16T13:46:24.870Z"
   },
   {
    "duration": 6,
    "start_time": "2023-02-16T13:46:57.306Z"
   },
   {
    "duration": 68,
    "start_time": "2023-02-16T13:47:48.656Z"
   },
   {
    "duration": 6,
    "start_time": "2023-02-16T13:47:53.819Z"
   },
   {
    "duration": 5,
    "start_time": "2023-02-16T13:48:27.521Z"
   },
   {
    "duration": 6,
    "start_time": "2023-02-16T13:48:34.561Z"
   },
   {
    "duration": 6,
    "start_time": "2023-02-16T13:49:35.912Z"
   },
   {
    "duration": 5,
    "start_time": "2023-02-16T13:49:36.535Z"
   },
   {
    "duration": 5,
    "start_time": "2023-02-16T13:49:38.376Z"
   },
   {
    "duration": 73,
    "start_time": "2023-02-16T13:53:00.364Z"
   },
   {
    "duration": 77,
    "start_time": "2023-02-16T13:53:05.827Z"
   },
   {
    "duration": 9,
    "start_time": "2023-02-16T13:53:18.921Z"
   },
   {
    "duration": 9,
    "start_time": "2023-02-16T13:53:45.787Z"
   },
   {
    "duration": 5,
    "start_time": "2023-02-16T13:54:04.952Z"
   },
   {
    "duration": 9,
    "start_time": "2023-02-16T13:54:11.496Z"
   },
   {
    "duration": 81,
    "start_time": "2023-02-16T13:59:07.545Z"
   },
   {
    "duration": 65,
    "start_time": "2023-02-16T13:59:25.790Z"
   },
   {
    "duration": 70,
    "start_time": "2023-02-16T14:00:30.929Z"
   },
   {
    "duration": 67,
    "start_time": "2023-02-16T14:00:53.787Z"
   },
   {
    "duration": 6,
    "start_time": "2023-02-16T14:01:01.423Z"
   },
   {
    "duration": 75,
    "start_time": "2023-02-16T14:01:32.580Z"
   },
   {
    "duration": 73,
    "start_time": "2023-02-16T14:01:44.941Z"
   },
   {
    "duration": 78,
    "start_time": "2023-02-16T14:01:54.168Z"
   },
   {
    "duration": 92,
    "start_time": "2023-02-16T14:02:10.087Z"
   },
   {
    "duration": 6,
    "start_time": "2023-02-16T14:03:31.272Z"
   },
   {
    "duration": 7,
    "start_time": "2023-02-16T14:04:15.999Z"
   },
   {
    "duration": 5,
    "start_time": "2023-02-16T14:04:17.322Z"
   },
   {
    "duration": 6,
    "start_time": "2023-02-16T14:04:18.556Z"
   },
   {
    "duration": 7,
    "start_time": "2023-02-16T14:04:43.869Z"
   },
   {
    "duration": 7,
    "start_time": "2023-02-16T14:04:44.372Z"
   },
   {
    "duration": 6,
    "start_time": "2023-02-16T14:04:44.936Z"
   },
   {
    "duration": 3,
    "start_time": "2023-02-16T14:19:27.442Z"
   },
   {
    "duration": 9,
    "start_time": "2023-02-16T14:20:47.870Z"
   },
   {
    "duration": 10,
    "start_time": "2023-02-16T14:21:16.534Z"
   },
   {
    "duration": 3,
    "start_time": "2023-02-16T14:21:26.277Z"
   },
   {
    "duration": 9,
    "start_time": "2023-02-16T14:21:26.819Z"
   },
   {
    "duration": 46,
    "start_time": "2023-02-16T14:40:22.856Z"
   },
   {
    "duration": 5,
    "start_time": "2023-02-16T14:40:30.074Z"
   },
   {
    "duration": 33,
    "start_time": "2023-02-16T14:40:31.435Z"
   },
   {
    "duration": 75,
    "start_time": "2023-02-16T14:43:26.452Z"
   },
   {
    "duration": 9,
    "start_time": "2023-02-16T14:43:32.748Z"
   },
   {
    "duration": 8,
    "start_time": "2023-02-16T14:44:07.303Z"
   },
   {
    "duration": 5,
    "start_time": "2023-02-16T14:44:15.927Z"
   },
   {
    "duration": 10,
    "start_time": "2023-02-16T14:44:30.333Z"
   },
   {
    "duration": 132,
    "start_time": "2023-02-16T14:45:18.465Z"
   },
   {
    "duration": 5,
    "start_time": "2023-02-16T14:46:24.492Z"
   },
   {
    "duration": 46,
    "start_time": "2023-02-16T14:46:25.254Z"
   },
   {
    "duration": 12,
    "start_time": "2023-02-16T14:46:30.455Z"
   },
   {
    "duration": 4,
    "start_time": "2023-02-16T14:47:25.707Z"
   },
   {
    "duration": 6,
    "start_time": "2023-02-16T14:47:26.859Z"
   },
   {
    "duration": 8,
    "start_time": "2023-02-16T14:47:31.447Z"
   },
   {
    "duration": 4,
    "start_time": "2023-02-16T14:48:11.611Z"
   },
   {
    "duration": 7,
    "start_time": "2023-02-16T14:48:13.559Z"
   },
   {
    "duration": 3,
    "start_time": "2023-02-16T14:48:27.541Z"
   },
   {
    "duration": 7,
    "start_time": "2023-02-16T14:48:27.943Z"
   },
   {
    "duration": 3,
    "start_time": "2023-02-16T14:48:41.669Z"
   },
   {
    "duration": 3,
    "start_time": "2023-02-16T14:49:42.399Z"
   },
   {
    "duration": 8,
    "start_time": "2023-02-16T14:49:42.962Z"
   },
   {
    "duration": 4,
    "start_time": "2023-02-16T14:50:08.584Z"
   },
   {
    "duration": 8,
    "start_time": "2023-02-16T14:50:10.485Z"
   },
   {
    "duration": 76,
    "start_time": "2023-02-16T14:51:01.655Z"
   },
   {
    "duration": 7,
    "start_time": "2023-02-16T14:51:09.947Z"
   },
   {
    "duration": 14,
    "start_time": "2023-02-16T14:52:42.538Z"
   },
   {
    "duration": 4,
    "start_time": "2023-02-16T14:52:49.917Z"
   },
   {
    "duration": 107,
    "start_time": "2023-02-16T14:52:51.095Z"
   },
   {
    "duration": 102,
    "start_time": "2023-02-16T14:52:52.096Z"
   },
   {
    "duration": 23,
    "start_time": "2023-02-16T14:52:53.353Z"
   },
   {
    "duration": 5,
    "start_time": "2023-02-16T14:52:55.875Z"
   },
   {
    "duration": 4,
    "start_time": "2023-02-16T14:52:56.353Z"
   },
   {
    "duration": 7,
    "start_time": "2023-02-16T14:52:56.980Z"
   },
   {
    "duration": 6,
    "start_time": "2023-02-16T14:52:57.840Z"
   },
   {
    "duration": 8,
    "start_time": "2023-02-16T14:52:58.623Z"
   },
   {
    "duration": 4,
    "start_time": "2023-02-16T14:53:00.971Z"
   },
   {
    "duration": 15,
    "start_time": "2023-02-16T14:53:02.157Z"
   },
   {
    "duration": 42,
    "start_time": "2023-02-16T14:59:33.088Z"
   },
   {
    "duration": 5,
    "start_time": "2023-02-16T15:12:05.018Z"
   },
   {
    "duration": 88,
    "start_time": "2023-02-16T15:12:23.310Z"
   },
   {
    "duration": 3,
    "start_time": "2023-02-16T15:13:38.835Z"
   },
   {
    "duration": 9,
    "start_time": "2023-02-16T15:14:26.803Z"
   },
   {
    "duration": 11,
    "start_time": "2023-02-16T15:16:41.615Z"
   },
   {
    "duration": 6,
    "start_time": "2023-02-16T15:22:00.869Z"
   },
   {
    "duration": 4,
    "start_time": "2023-02-16T15:22:09.805Z"
   },
   {
    "duration": 15,
    "start_time": "2023-02-16T15:22:35.276Z"
   },
   {
    "duration": 6,
    "start_time": "2023-02-16T15:22:47.349Z"
   },
   {
    "duration": 11,
    "start_time": "2023-02-16T15:23:26.535Z"
   },
   {
    "duration": 14,
    "start_time": "2023-02-16T15:24:46.449Z"
   },
   {
    "duration": 11,
    "start_time": "2023-02-16T15:25:53.390Z"
   },
   {
    "duration": 15,
    "start_time": "2023-02-16T15:26:12.510Z"
   },
   {
    "duration": 16,
    "start_time": "2023-02-16T15:26:30.401Z"
   },
   {
    "duration": 10,
    "start_time": "2023-02-16T15:26:45.461Z"
   },
   {
    "duration": 8,
    "start_time": "2023-02-16T15:57:16.077Z"
   },
   {
    "duration": 4,
    "start_time": "2023-02-16T15:57:19.938Z"
   },
   {
    "duration": 12,
    "start_time": "2023-02-16T15:57:20.532Z"
   },
   {
    "duration": 11,
    "start_time": "2023-02-16T15:58:12.348Z"
   },
   {
    "duration": 4,
    "start_time": "2023-02-16T15:58:19.798Z"
   },
   {
    "duration": 16,
    "start_time": "2023-02-16T15:58:20.838Z"
   },
   {
    "duration": 9,
    "start_time": "2023-02-16T15:58:44.701Z"
   },
   {
    "duration": 3,
    "start_time": "2023-02-16T15:58:50.268Z"
   },
   {
    "duration": 3,
    "start_time": "2023-02-16T15:59:05.325Z"
   },
   {
    "duration": 3,
    "start_time": "2023-02-16T15:59:05.691Z"
   },
   {
    "duration": 4,
    "start_time": "2023-02-16T15:59:11.577Z"
   },
   {
    "duration": 12,
    "start_time": "2023-02-16T15:59:12.449Z"
   },
   {
    "duration": 4,
    "start_time": "2023-02-16T15:59:44.716Z"
   },
   {
    "duration": 216,
    "start_time": "2023-02-16T15:59:45.353Z"
   },
   {
    "duration": 4,
    "start_time": "2023-02-16T16:02:09.188Z"
   },
   {
    "duration": 511,
    "start_time": "2023-02-16T16:02:11.223Z"
   },
   {
    "duration": 487,
    "start_time": "2023-02-16T16:02:16.820Z"
   },
   {
    "duration": 3,
    "start_time": "2023-02-16T16:03:09.541Z"
   },
   {
    "duration": 524,
    "start_time": "2023-02-16T16:03:10.347Z"
   },
   {
    "duration": 4,
    "start_time": "2023-02-16T16:07:00.144Z"
   },
   {
    "duration": 3466,
    "start_time": "2023-02-16T16:07:01.450Z"
   },
   {
    "duration": 4,
    "start_time": "2023-02-16T16:07:27.260Z"
   },
   {
    "duration": 3389,
    "start_time": "2023-02-16T16:07:28.491Z"
   },
   {
    "duration": 4,
    "start_time": "2023-02-16T16:12:51.962Z"
   },
   {
    "duration": 14,
    "start_time": "2023-02-16T16:12:54.613Z"
   },
   {
    "duration": 4,
    "start_time": "2023-02-16T16:16:59.842Z"
   },
   {
    "duration": 587,
    "start_time": "2023-02-16T16:17:01.666Z"
   },
   {
    "duration": 4,
    "start_time": "2023-02-16T16:18:59.422Z"
   },
   {
    "duration": 607,
    "start_time": "2023-02-16T16:18:59.995Z"
   },
   {
    "duration": 4,
    "start_time": "2023-02-16T16:20:13.593Z"
   },
   {
    "duration": 15,
    "start_time": "2023-02-16T16:20:14.026Z"
   },
   {
    "duration": 4,
    "start_time": "2023-02-16T16:24:09.451Z"
   },
   {
    "duration": 13,
    "start_time": "2023-02-16T16:25:44.361Z"
   },
   {
    "duration": 13,
    "start_time": "2023-02-16T16:26:18.148Z"
   },
   {
    "duration": 632,
    "start_time": "2023-02-16T16:30:29.794Z"
   },
   {
    "duration": 4,
    "start_time": "2023-02-16T16:30:53.088Z"
   },
   {
    "duration": 18,
    "start_time": "2023-02-16T16:30:54.873Z"
   },
   {
    "duration": 4,
    "start_time": "2023-02-16T16:31:10.018Z"
   },
   {
    "duration": 18,
    "start_time": "2023-02-16T16:31:10.960Z"
   },
   {
    "duration": 4,
    "start_time": "2023-02-16T16:31:26.112Z"
   },
   {
    "duration": 19,
    "start_time": "2023-02-16T16:31:26.931Z"
   },
   {
    "duration": 1133,
    "start_time": "2023-02-16T16:31:40.858Z"
   },
   {
    "duration": 3,
    "start_time": "2023-02-16T16:31:41.993Z"
   },
   {
    "duration": 465,
    "start_time": "2023-02-16T16:31:41.998Z"
   },
   {
    "duration": 41,
    "start_time": "2023-02-16T16:31:42.465Z"
   },
   {
    "duration": 4,
    "start_time": "2023-02-16T16:31:42.508Z"
   },
   {
    "duration": 17,
    "start_time": "2023-02-16T16:31:42.513Z"
   },
   {
    "duration": 108,
    "start_time": "2023-02-16T16:31:42.531Z"
   },
   {
    "duration": 154,
    "start_time": "2023-02-16T16:31:42.641Z"
   },
   {
    "duration": 32,
    "start_time": "2023-02-16T16:31:42.796Z"
   },
   {
    "duration": 5,
    "start_time": "2023-02-16T16:31:42.831Z"
   },
   {
    "duration": 5,
    "start_time": "2023-02-16T16:31:42.838Z"
   },
   {
    "duration": 52,
    "start_time": "2023-02-16T16:31:42.846Z"
   },
   {
    "duration": 193,
    "start_time": "2023-02-16T16:31:42.904Z"
   },
   {
    "duration": 115,
    "start_time": "2023-02-16T16:31:43.099Z"
   },
   {
    "duration": 82,
    "start_time": "2023-02-16T16:31:43.216Z"
   },
   {
    "duration": 99,
    "start_time": "2023-02-16T16:31:43.305Z"
   },
   {
    "duration": 12,
    "start_time": "2023-02-16T16:31:43.406Z"
   },
   {
    "duration": 7,
    "start_time": "2023-02-16T16:31:43.419Z"
   },
   {
    "duration": 6,
    "start_time": "2023-02-16T16:31:43.427Z"
   },
   {
    "duration": 9,
    "start_time": "2023-02-16T16:31:43.434Z"
   },
   {
    "duration": 16,
    "start_time": "2023-02-16T16:31:43.444Z"
   },
   {
    "duration": 4,
    "start_time": "2023-02-16T16:31:43.462Z"
   },
   {
    "duration": 129,
    "start_time": "2023-02-16T16:31:43.467Z"
   },
   {
    "duration": 4,
    "start_time": "2023-02-16T16:34:09.038Z"
   },
   {
    "duration": 22,
    "start_time": "2023-02-16T16:34:10.772Z"
   },
   {
    "duration": 4,
    "start_time": "2023-02-16T16:35:30.511Z"
   },
   {
    "duration": 18,
    "start_time": "2023-02-16T16:35:32.260Z"
   },
   {
    "duration": 16,
    "start_time": "2023-02-16T16:44:25.688Z"
   },
   {
    "duration": 3047,
    "start_time": "2023-02-16T16:46:22.379Z"
   },
   {
    "duration": 3127,
    "start_time": "2023-02-16T16:47:01.872Z"
   },
   {
    "duration": 3133,
    "start_time": "2023-02-16T16:47:14.182Z"
   },
   {
    "duration": 3051,
    "start_time": "2023-02-16T16:47:41.969Z"
   },
   {
    "duration": 3014,
    "start_time": "2023-02-16T16:48:11.898Z"
   },
   {
    "duration": 3042,
    "start_time": "2023-02-16T16:48:48.383Z"
   },
   {
    "duration": 1083,
    "start_time": "2023-02-16T16:49:18.481Z"
   },
   {
    "duration": 15,
    "start_time": "2023-02-16T16:49:37.611Z"
   },
   {
    "duration": 613,
    "start_time": "2023-02-16T16:50:13.958Z"
   },
   {
    "duration": 580,
    "start_time": "2023-02-16T16:50:23.749Z"
   },
   {
    "duration": 609,
    "start_time": "2023-02-16T16:50:50.290Z"
   },
   {
    "duration": 597,
    "start_time": "2023-02-16T16:51:01.822Z"
   },
   {
    "duration": 67,
    "start_time": "2023-02-16T16:51:29.546Z"
   },
   {
    "duration": 14,
    "start_time": "2023-02-16T16:51:36.785Z"
   },
   {
    "duration": 3,
    "start_time": "2023-02-16T16:51:39.714Z"
   },
   {
    "duration": 17,
    "start_time": "2023-02-16T16:51:45.227Z"
   },
   {
    "duration": 15,
    "start_time": "2023-02-16T16:51:51.656Z"
   },
   {
    "duration": 14,
    "start_time": "2023-02-16T16:52:07.634Z"
   },
   {
    "duration": 15,
    "start_time": "2023-02-16T16:53:02.931Z"
   },
   {
    "duration": 12,
    "start_time": "2023-02-16T16:54:07.214Z"
   },
   {
    "duration": 14,
    "start_time": "2023-02-16T16:54:20.891Z"
   },
   {
    "duration": 13,
    "start_time": "2023-02-16T16:54:36.534Z"
   },
   {
    "duration": 365,
    "start_time": "2023-02-16T16:54:49.605Z"
   },
   {
    "duration": 16,
    "start_time": "2023-02-16T16:57:00.747Z"
   },
   {
    "duration": 12,
    "start_time": "2023-02-16T16:58:08.329Z"
   },
   {
    "duration": 675,
    "start_time": "2023-02-16T16:58:28.424Z"
   },
   {
    "duration": 688,
    "start_time": "2023-02-16T16:58:45.021Z"
   },
   {
    "duration": 5,
    "start_time": "2023-02-16T17:00:03.380Z"
   },
   {
    "duration": 14,
    "start_time": "2023-02-16T17:00:06.072Z"
   },
   {
    "duration": 4,
    "start_time": "2023-02-16T17:00:22.774Z"
   },
   {
    "duration": 14,
    "start_time": "2023-02-16T17:00:24.274Z"
   },
   {
    "duration": 695,
    "start_time": "2023-02-16T17:01:16.092Z"
   },
   {
    "duration": 722,
    "start_time": "2023-02-16T17:01:33.970Z"
   },
   {
    "duration": 685,
    "start_time": "2023-02-16T17:02:01.141Z"
   },
   {
    "duration": 4,
    "start_time": "2023-02-16T17:07:49.044Z"
   },
   {
    "duration": 688,
    "start_time": "2023-02-16T17:07:49.594Z"
   },
   {
    "duration": 688,
    "start_time": "2023-02-16T17:08:04.866Z"
   },
   {
    "duration": 10,
    "start_time": "2023-02-16T17:08:33.520Z"
   },
   {
    "duration": 706,
    "start_time": "2023-02-16T17:08:38.676Z"
   },
   {
    "duration": 681,
    "start_time": "2023-02-16T17:14:53.190Z"
   },
   {
    "duration": 764,
    "start_time": "2023-02-16T17:16:30.563Z"
   },
   {
    "duration": 689,
    "start_time": "2023-02-16T17:16:57.324Z"
   },
   {
    "duration": 688,
    "start_time": "2023-02-16T17:17:29.444Z"
   },
   {
    "duration": 696,
    "start_time": "2023-02-16T17:18:42.307Z"
   },
   {
    "duration": 85,
    "start_time": "2023-02-16T17:20:19.041Z"
   },
   {
    "duration": 89,
    "start_time": "2023-02-16T17:21:36.594Z"
   },
   {
    "duration": 70,
    "start_time": "2023-02-16T17:22:28.587Z"
   },
   {
    "duration": 71,
    "start_time": "2023-02-16T17:22:49.776Z"
   },
   {
    "duration": 712,
    "start_time": "2023-02-16T17:23:08.159Z"
   },
   {
    "duration": 714,
    "start_time": "2023-02-16T17:24:31.214Z"
   },
   {
    "duration": 687,
    "start_time": "2023-02-16T17:24:52.722Z"
   },
   {
    "duration": 714,
    "start_time": "2023-02-16T17:25:07.125Z"
   },
   {
    "duration": 692,
    "start_time": "2023-02-16T17:27:40.880Z"
   },
   {
    "duration": 694,
    "start_time": "2023-02-16T17:28:36.875Z"
   },
   {
    "duration": 712,
    "start_time": "2023-02-16T17:29:25.602Z"
   },
   {
    "duration": 5,
    "start_time": "2023-02-16T17:49:08.783Z"
   },
   {
    "duration": 705,
    "start_time": "2023-02-16T17:49:11.291Z"
   },
   {
    "duration": 5,
    "start_time": "2023-02-16T17:49:41.925Z"
   },
   {
    "duration": 682,
    "start_time": "2023-02-16T17:49:42.458Z"
   },
   {
    "duration": 5,
    "start_time": "2023-02-16T17:50:37.555Z"
   },
   {
    "duration": 680,
    "start_time": "2023-02-16T17:50:39.217Z"
   },
   {
    "duration": 665,
    "start_time": "2023-02-16T17:50:49.527Z"
   },
   {
    "duration": 648,
    "start_time": "2023-02-16T17:50:53.422Z"
   },
   {
    "duration": 685,
    "start_time": "2023-02-16T17:51:24.783Z"
   },
   {
    "duration": 681,
    "start_time": "2023-02-16T17:51:36.554Z"
   },
   {
    "duration": 711,
    "start_time": "2023-02-16T17:51:44.218Z"
   },
   {
    "duration": 671,
    "start_time": "2023-02-16T17:52:13.843Z"
   },
   {
    "duration": 669,
    "start_time": "2023-02-16T17:52:23.674Z"
   },
   {
    "duration": 682,
    "start_time": "2023-02-16T17:52:27.394Z"
   },
   {
    "duration": 689,
    "start_time": "2023-02-16T17:52:43.164Z"
   },
   {
    "duration": 692,
    "start_time": "2023-02-16T17:52:46.414Z"
   },
   {
    "duration": 701,
    "start_time": "2023-02-16T17:52:49.153Z"
   },
   {
    "duration": 688,
    "start_time": "2023-02-16T17:52:52.948Z"
   },
   {
    "duration": 665,
    "start_time": "2023-02-16T17:52:56.745Z"
   },
   {
    "duration": 661,
    "start_time": "2023-02-16T17:53:31.918Z"
   },
   {
    "duration": 672,
    "start_time": "2023-02-16T17:53:34.973Z"
   },
   {
    "duration": 662,
    "start_time": "2023-02-16T17:53:45.761Z"
   },
   {
    "duration": 682,
    "start_time": "2023-02-16T17:53:49.452Z"
   },
   {
    "duration": 1077,
    "start_time": "2023-02-16T17:56:16.701Z"
   },
   {
    "duration": 3,
    "start_time": "2023-02-16T17:56:17.780Z"
   },
   {
    "duration": 383,
    "start_time": "2023-02-16T17:56:17.784Z"
   },
   {
    "duration": 45,
    "start_time": "2023-02-16T17:56:18.169Z"
   },
   {
    "duration": 5,
    "start_time": "2023-02-16T17:56:18.216Z"
   },
   {
    "duration": 31,
    "start_time": "2023-02-16T17:56:18.222Z"
   },
   {
    "duration": 95,
    "start_time": "2023-02-16T17:56:18.255Z"
   },
   {
    "duration": 155,
    "start_time": "2023-02-16T17:56:18.351Z"
   },
   {
    "duration": 28,
    "start_time": "2023-02-16T17:56:18.507Z"
   },
   {
    "duration": 5,
    "start_time": "2023-02-16T17:56:18.537Z"
   },
   {
    "duration": 11,
    "start_time": "2023-02-16T17:56:18.543Z"
   },
   {
    "duration": 47,
    "start_time": "2023-02-16T17:56:18.555Z"
   },
   {
    "duration": 117,
    "start_time": "2023-02-16T17:56:18.695Z"
   },
   {
    "duration": 195,
    "start_time": "2023-02-16T17:56:18.817Z"
   },
   {
    "duration": 86,
    "start_time": "2023-02-16T17:56:19.014Z"
   },
   {
    "duration": 107,
    "start_time": "2023-02-16T17:56:19.105Z"
   },
   {
    "duration": 9,
    "start_time": "2023-02-16T17:56:19.214Z"
   },
   {
    "duration": 6,
    "start_time": "2023-02-16T17:56:19.224Z"
   },
   {
    "duration": 7,
    "start_time": "2023-02-16T17:56:19.232Z"
   },
   {
    "duration": 3,
    "start_time": "2023-02-16T17:56:19.241Z"
   },
   {
    "duration": 18,
    "start_time": "2023-02-16T17:56:19.246Z"
   },
   {
    "duration": 30,
    "start_time": "2023-02-16T17:56:19.266Z"
   },
   {
    "duration": 692,
    "start_time": "2023-02-16T17:56:19.298Z"
   },
   {
    "duration": 689,
    "start_time": "2023-02-16T17:56:19.991Z"
   },
   {
    "duration": 719,
    "start_time": "2023-02-16T17:56:20.682Z"
   },
   {
    "duration": 1075,
    "start_time": "2023-02-16T17:56:44.751Z"
   },
   {
    "duration": 4,
    "start_time": "2023-02-16T17:56:45.827Z"
   },
   {
    "duration": 405,
    "start_time": "2023-02-16T17:56:45.832Z"
   },
   {
    "duration": 38,
    "start_time": "2023-02-16T17:56:46.238Z"
   },
   {
    "duration": 5,
    "start_time": "2023-02-16T17:56:46.278Z"
   },
   {
    "duration": 24,
    "start_time": "2023-02-16T17:56:46.295Z"
   },
   {
    "duration": 101,
    "start_time": "2023-02-16T17:56:46.321Z"
   },
   {
    "duration": 141,
    "start_time": "2023-02-16T17:56:46.424Z"
   },
   {
    "duration": 42,
    "start_time": "2023-02-16T17:56:46.567Z"
   },
   {
    "duration": 6,
    "start_time": "2023-02-16T17:56:46.611Z"
   },
   {
    "duration": 10,
    "start_time": "2023-02-16T17:56:46.618Z"
   },
   {
    "duration": 69,
    "start_time": "2023-02-16T17:56:46.630Z"
   },
   {
    "duration": 118,
    "start_time": "2023-02-16T17:56:46.701Z"
   },
   {
    "duration": 193,
    "start_time": "2023-02-16T17:56:46.823Z"
   },
   {
    "duration": 80,
    "start_time": "2023-02-16T17:56:47.018Z"
   },
   {
    "duration": 100,
    "start_time": "2023-02-16T17:56:47.101Z"
   },
   {
    "duration": 11,
    "start_time": "2023-02-16T17:56:47.202Z"
   },
   {
    "duration": 5,
    "start_time": "2023-02-16T17:56:47.216Z"
   },
   {
    "duration": 7,
    "start_time": "2023-02-16T17:56:47.223Z"
   },
   {
    "duration": 3,
    "start_time": "2023-02-16T17:56:47.232Z"
   },
   {
    "duration": 19,
    "start_time": "2023-02-16T17:56:47.237Z"
   },
   {
    "duration": 4,
    "start_time": "2023-02-16T17:56:47.257Z"
   },
   {
    "duration": 694,
    "start_time": "2023-02-16T17:56:47.263Z"
   },
   {
    "duration": 664,
    "start_time": "2023-02-16T17:56:47.959Z"
   },
   {
    "duration": 688,
    "start_time": "2023-02-16T17:56:48.624Z"
   },
   {
    "duration": 1067,
    "start_time": "2023-02-16T17:57:02.513Z"
   },
   {
    "duration": 2,
    "start_time": "2023-02-16T17:57:03.582Z"
   },
   {
    "duration": 386,
    "start_time": "2023-02-16T17:57:03.586Z"
   },
   {
    "duration": 41,
    "start_time": "2023-02-16T17:57:03.973Z"
   },
   {
    "duration": 5,
    "start_time": "2023-02-16T17:57:04.017Z"
   },
   {
    "duration": 24,
    "start_time": "2023-02-16T17:57:04.023Z"
   },
   {
    "duration": 107,
    "start_time": "2023-02-16T17:57:04.049Z"
   },
   {
    "duration": 148,
    "start_time": "2023-02-16T17:57:04.158Z"
   },
   {
    "duration": 31,
    "start_time": "2023-02-16T17:57:04.308Z"
   },
   {
    "duration": 6,
    "start_time": "2023-02-16T17:57:04.341Z"
   },
   {
    "duration": 4,
    "start_time": "2023-02-16T17:57:04.349Z"
   },
   {
    "duration": 48,
    "start_time": "2023-02-16T17:57:04.355Z"
   },
   {
    "duration": 118,
    "start_time": "2023-02-16T17:57:04.494Z"
   },
   {
    "duration": 191,
    "start_time": "2023-02-16T17:57:04.616Z"
   },
   {
    "duration": 87,
    "start_time": "2023-02-16T17:57:04.810Z"
   },
   {
    "duration": 105,
    "start_time": "2023-02-16T17:57:04.900Z"
   },
   {
    "duration": 9,
    "start_time": "2023-02-16T17:57:05.007Z"
   },
   {
    "duration": 9,
    "start_time": "2023-02-16T17:57:05.018Z"
   },
   {
    "duration": 14,
    "start_time": "2023-02-16T17:57:05.028Z"
   },
   {
    "duration": 8,
    "start_time": "2023-02-16T17:57:05.044Z"
   },
   {
    "duration": 18,
    "start_time": "2023-02-16T17:57:05.054Z"
   },
   {
    "duration": 4,
    "start_time": "2023-02-16T17:57:05.074Z"
   },
   {
    "duration": 722,
    "start_time": "2023-02-16T17:57:05.080Z"
   },
   {
    "duration": 679,
    "start_time": "2023-02-16T17:57:05.803Z"
   },
   {
    "duration": 680,
    "start_time": "2023-02-16T17:57:06.483Z"
   },
   {
    "duration": 1078,
    "start_time": "2023-02-16T17:58:35.514Z"
   },
   {
    "duration": 3,
    "start_time": "2023-02-16T17:58:36.594Z"
   },
   {
    "duration": 376,
    "start_time": "2023-02-16T17:58:36.599Z"
   },
   {
    "duration": 38,
    "start_time": "2023-02-16T17:58:36.977Z"
   },
   {
    "duration": 5,
    "start_time": "2023-02-16T17:58:37.017Z"
   },
   {
    "duration": 18,
    "start_time": "2023-02-16T17:58:37.023Z"
   },
   {
    "duration": 103,
    "start_time": "2023-02-16T17:58:37.042Z"
   },
   {
    "duration": 131,
    "start_time": "2023-02-16T17:58:37.147Z"
   },
   {
    "duration": 41,
    "start_time": "2023-02-16T17:58:37.279Z"
   },
   {
    "duration": 5,
    "start_time": "2023-02-16T17:58:37.322Z"
   },
   {
    "duration": 6,
    "start_time": "2023-02-16T17:58:37.328Z"
   },
   {
    "duration": 63,
    "start_time": "2023-02-16T17:58:37.336Z"
   },
   {
    "duration": 191,
    "start_time": "2023-02-16T17:58:37.404Z"
   },
   {
    "duration": 195,
    "start_time": "2023-02-16T17:58:37.600Z"
   },
   {
    "duration": 4,
    "start_time": "2023-02-16T17:58:37.799Z"
   },
   {
    "duration": 102,
    "start_time": "2023-02-16T17:58:37.805Z"
   },
   {
    "duration": 17,
    "start_time": "2023-02-16T17:58:37.909Z"
   },
   {
    "duration": 10,
    "start_time": "2023-02-16T17:58:37.927Z"
   },
   {
    "duration": 15,
    "start_time": "2023-02-16T17:58:37.939Z"
   },
   {
    "duration": 11,
    "start_time": "2023-02-16T17:58:37.956Z"
   },
   {
    "duration": 33,
    "start_time": "2023-02-16T17:58:37.969Z"
   },
   {
    "duration": 5,
    "start_time": "2023-02-16T17:58:38.004Z"
   },
   {
    "duration": 713,
    "start_time": "2023-02-16T17:58:38.010Z"
   },
   {
    "duration": 709,
    "start_time": "2023-02-16T17:58:38.724Z"
   },
   {
    "duration": 676,
    "start_time": "2023-02-16T17:58:39.435Z"
   },
   {
    "duration": 1141,
    "start_time": "2023-02-16T18:03:35.073Z"
   },
   {
    "duration": 3,
    "start_time": "2023-02-16T18:03:36.216Z"
   },
   {
    "duration": 388,
    "start_time": "2023-02-16T18:03:36.221Z"
   },
   {
    "duration": 36,
    "start_time": "2023-02-16T18:03:36.611Z"
   },
   {
    "duration": 4,
    "start_time": "2023-02-16T18:03:36.649Z"
   },
   {
    "duration": 15,
    "start_time": "2023-02-16T18:03:36.654Z"
   },
   {
    "duration": 113,
    "start_time": "2023-02-16T18:03:36.670Z"
   },
   {
    "duration": 145,
    "start_time": "2023-02-16T18:03:36.785Z"
   },
   {
    "duration": 31,
    "start_time": "2023-02-16T18:03:36.932Z"
   },
   {
    "duration": 5,
    "start_time": "2023-02-16T18:03:36.964Z"
   },
   {
    "duration": 27,
    "start_time": "2023-02-16T18:03:36.971Z"
   },
   {
    "duration": 37,
    "start_time": "2023-02-16T18:03:37.000Z"
   },
   {
    "duration": 119,
    "start_time": "2023-02-16T18:03:37.098Z"
   },
   {
    "duration": 192,
    "start_time": "2023-02-16T18:03:37.221Z"
   },
   {
    "duration": 92,
    "start_time": "2023-02-16T18:03:37.416Z"
   },
   {
    "duration": 11,
    "start_time": "2023-02-16T18:03:37.596Z"
   },
   {
    "duration": 14,
    "start_time": "2023-02-16T18:03:37.609Z"
   },
   {
    "duration": 7,
    "start_time": "2023-02-16T18:03:37.625Z"
   },
   {
    "duration": 6,
    "start_time": "2023-02-16T18:03:37.634Z"
   },
   {
    "duration": 7,
    "start_time": "2023-02-16T18:03:37.642Z"
   },
   {
    "duration": 19,
    "start_time": "2023-02-16T18:03:37.650Z"
   },
   {
    "duration": 25,
    "start_time": "2023-02-16T18:03:37.670Z"
   },
   {
    "duration": 750,
    "start_time": "2023-02-16T18:03:37.697Z"
   },
   {
    "duration": 707,
    "start_time": "2023-02-16T18:03:38.449Z"
   },
   {
    "duration": 700,
    "start_time": "2023-02-16T18:03:39.158Z"
   },
   {
    "duration": 1047,
    "start_time": "2023-02-16T18:05:11.326Z"
   },
   {
    "duration": 3,
    "start_time": "2023-02-16T18:05:12.374Z"
   },
   {
    "duration": 399,
    "start_time": "2023-02-16T18:05:12.379Z"
   },
   {
    "duration": 44,
    "start_time": "2023-02-16T18:05:12.780Z"
   },
   {
    "duration": 4,
    "start_time": "2023-02-16T18:05:12.826Z"
   },
   {
    "duration": 18,
    "start_time": "2023-02-16T18:05:12.832Z"
   },
   {
    "duration": 120,
    "start_time": "2023-02-16T18:05:12.852Z"
   },
   {
    "duration": 155,
    "start_time": "2023-02-16T18:05:12.974Z"
   },
   {
    "duration": 28,
    "start_time": "2023-02-16T18:05:13.131Z"
   },
   {
    "duration": 5,
    "start_time": "2023-02-16T18:05:13.161Z"
   },
   {
    "duration": 29,
    "start_time": "2023-02-16T18:05:13.167Z"
   },
   {
    "duration": 97,
    "start_time": "2023-02-16T18:05:13.197Z"
   },
   {
    "duration": 121,
    "start_time": "2023-02-16T18:05:13.297Z"
   },
   {
    "duration": 189,
    "start_time": "2023-02-16T18:05:13.422Z"
   },
   {
    "duration": 84,
    "start_time": "2023-02-16T18:05:13.614Z"
   },
   {
    "duration": 9,
    "start_time": "2023-02-16T18:05:13.794Z"
   },
   {
    "duration": 10,
    "start_time": "2023-02-16T18:05:13.805Z"
   },
   {
    "duration": 13,
    "start_time": "2023-02-16T18:05:13.817Z"
   },
   {
    "duration": 9,
    "start_time": "2023-02-16T18:05:13.832Z"
   },
   {
    "duration": 4,
    "start_time": "2023-02-16T18:05:13.843Z"
   },
   {
    "duration": 26,
    "start_time": "2023-02-16T18:05:13.848Z"
   },
   {
    "duration": 5,
    "start_time": "2023-02-16T18:05:13.895Z"
   },
   {
    "duration": 723,
    "start_time": "2023-02-16T18:05:13.902Z"
   },
   {
    "duration": 714,
    "start_time": "2023-02-16T18:05:14.627Z"
   },
   {
    "duration": 760,
    "start_time": "2023-02-16T18:05:15.343Z"
   },
   {
    "duration": 1098,
    "start_time": "2023-02-16T18:05:40.706Z"
   },
   {
    "duration": 3,
    "start_time": "2023-02-16T18:05:41.807Z"
   },
   {
    "duration": 391,
    "start_time": "2023-02-16T18:05:41.812Z"
   },
   {
    "duration": 39,
    "start_time": "2023-02-16T18:05:42.205Z"
   },
   {
    "duration": 4,
    "start_time": "2023-02-16T18:05:42.247Z"
   },
   {
    "duration": 19,
    "start_time": "2023-02-16T18:05:42.252Z"
   },
   {
    "duration": 114,
    "start_time": "2023-02-16T18:05:42.272Z"
   },
   {
    "duration": 153,
    "start_time": "2023-02-16T18:05:42.387Z"
   },
   {
    "duration": 33,
    "start_time": "2023-02-16T18:05:42.541Z"
   },
   {
    "duration": 21,
    "start_time": "2023-02-16T18:05:42.575Z"
   },
   {
    "duration": 6,
    "start_time": "2023-02-16T18:05:42.597Z"
   },
   {
    "duration": 197,
    "start_time": "2023-02-16T18:05:42.605Z"
   },
   {
    "duration": 117,
    "start_time": "2023-02-16T18:05:42.895Z"
   },
   {
    "duration": 192,
    "start_time": "2023-02-16T18:05:43.016Z"
   },
   {
    "duration": 87,
    "start_time": "2023-02-16T18:05:43.210Z"
   },
   {
    "duration": 106,
    "start_time": "2023-02-16T18:05:43.299Z"
   },
   {
    "duration": 8,
    "start_time": "2023-02-16T18:05:43.406Z"
   },
   {
    "duration": 6,
    "start_time": "2023-02-16T18:05:43.415Z"
   },
   {
    "duration": 5,
    "start_time": "2023-02-16T18:05:43.423Z"
   },
   {
    "duration": 7,
    "start_time": "2023-02-16T18:05:43.430Z"
   },
   {
    "duration": 16,
    "start_time": "2023-02-16T18:05:43.439Z"
   },
   {
    "duration": 4,
    "start_time": "2023-02-16T18:05:43.456Z"
   },
   {
    "duration": 715,
    "start_time": "2023-02-16T18:05:43.462Z"
   },
   {
    "duration": 743,
    "start_time": "2023-02-16T18:05:44.179Z"
   },
   {
    "duration": 672,
    "start_time": "2023-02-16T18:05:44.924Z"
   },
   {
    "duration": 1181,
    "start_time": "2023-02-16T18:06:14.019Z"
   },
   {
    "duration": 3,
    "start_time": "2023-02-16T18:06:15.202Z"
   },
   {
    "duration": 396,
    "start_time": "2023-02-16T18:06:15.206Z"
   },
   {
    "duration": 38,
    "start_time": "2023-02-16T18:06:15.604Z"
   },
   {
    "duration": 3,
    "start_time": "2023-02-16T18:06:15.644Z"
   },
   {
    "duration": 20,
    "start_time": "2023-02-16T18:06:15.649Z"
   },
   {
    "duration": 114,
    "start_time": "2023-02-16T18:06:15.670Z"
   },
   {
    "duration": 152,
    "start_time": "2023-02-16T18:06:15.786Z"
   },
   {
    "duration": 31,
    "start_time": "2023-02-16T18:06:15.940Z"
   },
   {
    "duration": 22,
    "start_time": "2023-02-16T18:06:15.973Z"
   },
   {
    "duration": 8,
    "start_time": "2023-02-16T18:06:15.997Z"
   },
   {
    "duration": 87,
    "start_time": "2023-02-16T18:06:16.007Z"
   },
   {
    "duration": 112,
    "start_time": "2023-02-16T18:06:16.098Z"
   },
   {
    "duration": 197,
    "start_time": "2023-02-16T18:06:16.214Z"
   },
   {
    "duration": 86,
    "start_time": "2023-02-16T18:06:16.413Z"
   },
   {
    "duration": 101,
    "start_time": "2023-02-16T18:06:16.501Z"
   },
   {
    "duration": 9,
    "start_time": "2023-02-16T18:06:16.603Z"
   },
   {
    "duration": 5,
    "start_time": "2023-02-16T18:06:16.614Z"
   },
   {
    "duration": 12,
    "start_time": "2023-02-16T18:06:16.621Z"
   },
   {
    "duration": 4,
    "start_time": "2023-02-16T18:06:16.635Z"
   },
   {
    "duration": 27,
    "start_time": "2023-02-16T18:06:16.641Z"
   },
   {
    "duration": 28,
    "start_time": "2023-02-16T18:06:16.671Z"
   },
   {
    "duration": 718,
    "start_time": "2023-02-16T18:06:16.701Z"
   },
   {
    "duration": 705,
    "start_time": "2023-02-16T18:06:17.421Z"
   },
   {
    "duration": 859,
    "start_time": "2023-02-16T18:06:18.128Z"
   },
   {
    "duration": 4,
    "start_time": "2023-02-16T18:11:09.302Z"
   },
   {
    "duration": 31,
    "start_time": "2023-02-16T18:11:09.767Z"
   },
   {
    "duration": 5,
    "start_time": "2023-02-16T18:11:21.425Z"
   },
   {
    "duration": 33,
    "start_time": "2023-02-16T18:11:23.479Z"
   },
   {
    "duration": 25,
    "start_time": "2023-02-16T18:11:27.917Z"
   },
   {
    "duration": 26,
    "start_time": "2023-02-16T18:11:30.235Z"
   },
   {
    "duration": 4,
    "start_time": "2023-02-16T18:11:41.850Z"
   },
   {
    "duration": 28,
    "start_time": "2023-02-16T18:11:42.250Z"
   },
   {
    "duration": 25,
    "start_time": "2023-02-16T18:11:43.094Z"
   },
   {
    "duration": 31,
    "start_time": "2023-02-16T18:11:44.115Z"
   },
   {
    "duration": 10,
    "start_time": "2023-02-16T18:13:48.315Z"
   },
   {
    "duration": 4,
    "start_time": "2023-02-16T18:14:14.050Z"
   },
   {
    "duration": 5,
    "start_time": "2023-02-16T18:14:23.813Z"
   },
   {
    "duration": 1098,
    "start_time": "2023-02-16T18:14:37.397Z"
   },
   {
    "duration": 4,
    "start_time": "2023-02-16T18:14:38.498Z"
   },
   {
    "duration": 409,
    "start_time": "2023-02-16T18:14:38.504Z"
   },
   {
    "duration": 40,
    "start_time": "2023-02-16T18:14:38.915Z"
   },
   {
    "duration": 4,
    "start_time": "2023-02-16T18:14:38.958Z"
   },
   {
    "duration": 37,
    "start_time": "2023-02-16T18:14:38.963Z"
   },
   {
    "duration": 109,
    "start_time": "2023-02-16T18:14:39.002Z"
   },
   {
    "duration": 164,
    "start_time": "2023-02-16T18:14:39.113Z"
   },
   {
    "duration": 42,
    "start_time": "2023-02-16T18:14:39.279Z"
   },
   {
    "duration": 5,
    "start_time": "2023-02-16T18:14:39.323Z"
   },
   {
    "duration": 7,
    "start_time": "2023-02-16T18:14:39.329Z"
   },
   {
    "duration": 61,
    "start_time": "2023-02-16T18:14:39.338Z"
   },
   {
    "duration": 109,
    "start_time": "2023-02-16T18:14:39.405Z"
   },
   {
    "duration": 188,
    "start_time": "2023-02-16T18:14:39.518Z"
   },
   {
    "duration": 97,
    "start_time": "2023-02-16T18:14:39.709Z"
   },
   {
    "duration": 89,
    "start_time": "2023-02-16T18:14:39.809Z"
   },
   {
    "duration": 11,
    "start_time": "2023-02-16T18:14:39.899Z"
   },
   {
    "duration": 7,
    "start_time": "2023-02-16T18:14:39.912Z"
   },
   {
    "duration": 14,
    "start_time": "2023-02-16T18:14:39.920Z"
   },
   {
    "duration": 4,
    "start_time": "2023-02-16T18:14:39.936Z"
   },
   {
    "duration": 25,
    "start_time": "2023-02-16T18:14:39.941Z"
   },
   {
    "duration": 5,
    "start_time": "2023-02-16T18:14:39.967Z"
   },
   {
    "duration": 701,
    "start_time": "2023-02-16T18:14:39.995Z"
   },
   {
    "duration": 709,
    "start_time": "2023-02-16T18:14:40.698Z"
   },
   {
    "duration": 705,
    "start_time": "2023-02-16T18:14:41.409Z"
   },
   {
    "duration": 1166,
    "start_time": "2023-02-16T18:15:37.868Z"
   },
   {
    "duration": 3,
    "start_time": "2023-02-16T18:15:39.036Z"
   },
   {
    "duration": 392,
    "start_time": "2023-02-16T18:15:39.040Z"
   },
   {
    "duration": 38,
    "start_time": "2023-02-16T18:15:39.434Z"
   },
   {
    "duration": 4,
    "start_time": "2023-02-16T18:15:39.474Z"
   },
   {
    "duration": 22,
    "start_time": "2023-02-16T18:15:39.479Z"
   },
   {
    "duration": 104,
    "start_time": "2023-02-16T18:15:39.503Z"
   },
   {
    "duration": 149,
    "start_time": "2023-02-16T18:15:39.609Z"
   },
   {
    "duration": 42,
    "start_time": "2023-02-16T18:15:39.760Z"
   },
   {
    "duration": 5,
    "start_time": "2023-02-16T18:15:39.804Z"
   },
   {
    "duration": 7,
    "start_time": "2023-02-16T18:15:39.811Z"
   },
   {
    "duration": 79,
    "start_time": "2023-02-16T18:15:39.819Z"
   },
   {
    "duration": 117,
    "start_time": "2023-02-16T18:15:39.900Z"
   },
   {
    "duration": 189,
    "start_time": "2023-02-16T18:15:40.022Z"
   },
   {
    "duration": 5,
    "start_time": "2023-02-16T18:15:40.295Z"
   },
   {
    "duration": 95,
    "start_time": "2023-02-16T18:15:40.303Z"
   },
   {
    "duration": 11,
    "start_time": "2023-02-16T18:15:40.400Z"
   },
   {
    "duration": 7,
    "start_time": "2023-02-16T18:15:40.413Z"
   },
   {
    "duration": 7,
    "start_time": "2023-02-16T18:15:40.421Z"
   },
   {
    "duration": 6,
    "start_time": "2023-02-16T18:15:40.430Z"
   },
   {
    "duration": 19,
    "start_time": "2023-02-16T18:15:40.438Z"
   },
   {
    "duration": 36,
    "start_time": "2023-02-16T18:15:40.459Z"
   },
   {
    "duration": 746,
    "start_time": "2023-02-16T18:15:40.497Z"
   },
   {
    "duration": 677,
    "start_time": "2023-02-16T18:15:41.244Z"
   },
   {
    "duration": 680,
    "start_time": "2023-02-16T18:15:41.923Z"
   },
   {
    "duration": 97,
    "start_time": "2023-02-16T18:17:13.665Z"
   },
   {
    "duration": 702,
    "start_time": "2023-02-16T18:18:28.103Z"
   },
   {
    "duration": 5,
    "start_time": "2023-02-16T18:18:51.435Z"
   },
   {
    "duration": 689,
    "start_time": "2023-02-16T18:18:51.991Z"
   },
   {
    "duration": 5,
    "start_time": "2023-02-16T18:19:13.048Z"
   },
   {
    "duration": 730,
    "start_time": "2023-02-16T18:19:14.226Z"
   },
   {
    "duration": 77,
    "start_time": "2023-02-16T18:19:33.467Z"
   },
   {
    "duration": 672,
    "start_time": "2023-02-16T18:19:52.068Z"
   },
   {
    "duration": 5,
    "start_time": "2023-02-16T18:19:56.858Z"
   },
   {
    "duration": 664,
    "start_time": "2023-02-16T18:19:57.255Z"
   },
   {
    "duration": 1044,
    "start_time": "2023-02-16T18:20:06.139Z"
   },
   {
    "duration": 3,
    "start_time": "2023-02-16T18:20:07.185Z"
   },
   {
    "duration": 414,
    "start_time": "2023-02-16T18:20:07.189Z"
   },
   {
    "duration": 41,
    "start_time": "2023-02-16T18:20:07.605Z"
   },
   {
    "duration": 4,
    "start_time": "2023-02-16T18:20:07.648Z"
   },
   {
    "duration": 16,
    "start_time": "2023-02-16T18:20:07.654Z"
   },
   {
    "duration": 125,
    "start_time": "2023-02-16T18:20:07.672Z"
   },
   {
    "duration": 146,
    "start_time": "2023-02-16T18:20:07.799Z"
   },
   {
    "duration": 31,
    "start_time": "2023-02-16T18:20:07.947Z"
   },
   {
    "duration": 6,
    "start_time": "2023-02-16T18:20:07.995Z"
   },
   {
    "duration": 9,
    "start_time": "2023-02-16T18:20:08.002Z"
   },
   {
    "duration": 81,
    "start_time": "2023-02-16T18:20:08.013Z"
   },
   {
    "duration": 117,
    "start_time": "2023-02-16T18:20:08.101Z"
   },
   {
    "duration": 119,
    "start_time": "2023-02-16T18:20:08.294Z"
   },
   {
    "duration": 6,
    "start_time": "2023-02-16T18:20:08.495Z"
   },
   {
    "duration": 99,
    "start_time": "2023-02-16T18:20:08.505Z"
   },
   {
    "duration": 11,
    "start_time": "2023-02-16T18:20:08.606Z"
   },
   {
    "duration": 10,
    "start_time": "2023-02-16T18:20:08.619Z"
   },
   {
    "duration": 9,
    "start_time": "2023-02-16T18:20:08.630Z"
   },
   {
    "duration": 3,
    "start_time": "2023-02-16T18:20:08.641Z"
   },
   {
    "duration": 18,
    "start_time": "2023-02-16T18:20:08.646Z"
   },
   {
    "duration": 33,
    "start_time": "2023-02-16T18:20:08.665Z"
   },
   {
    "duration": 712,
    "start_time": "2023-02-16T18:20:08.700Z"
   },
   {
    "duration": 683,
    "start_time": "2023-02-16T18:20:09.414Z"
   },
   {
    "duration": 715,
    "start_time": "2023-02-16T18:20:10.099Z"
   },
   {
    "duration": 1113,
    "start_time": "2023-02-16T18:20:43.078Z"
   },
   {
    "duration": 3,
    "start_time": "2023-02-16T18:20:44.193Z"
   },
   {
    "duration": 412,
    "start_time": "2023-02-16T18:20:44.198Z"
   },
   {
    "duration": 42,
    "start_time": "2023-02-16T18:20:44.612Z"
   },
   {
    "duration": 4,
    "start_time": "2023-02-16T18:20:44.656Z"
   },
   {
    "duration": 15,
    "start_time": "2023-02-16T18:20:44.662Z"
   },
   {
    "duration": 106,
    "start_time": "2023-02-16T18:20:44.695Z"
   },
   {
    "duration": 142,
    "start_time": "2023-02-16T18:20:44.803Z"
   },
   {
    "duration": 32,
    "start_time": "2023-02-16T18:20:44.947Z"
   },
   {
    "duration": 6,
    "start_time": "2023-02-16T18:20:44.994Z"
   },
   {
    "duration": 32,
    "start_time": "2023-02-16T18:20:45.002Z"
   },
   {
    "duration": 60,
    "start_time": "2023-02-16T18:20:45.036Z"
   },
   {
    "duration": 119,
    "start_time": "2023-02-16T18:20:45.098Z"
   },
   {
    "duration": 113,
    "start_time": "2023-02-16T18:20:45.299Z"
   },
   {
    "duration": 82,
    "start_time": "2023-02-16T18:20:45.415Z"
   },
   {
    "duration": 103,
    "start_time": "2023-02-16T18:20:45.499Z"
   },
   {
    "duration": 12,
    "start_time": "2023-02-16T18:20:45.604Z"
   },
   {
    "duration": 9,
    "start_time": "2023-02-16T18:20:45.618Z"
   },
   {
    "duration": 9,
    "start_time": "2023-02-16T18:20:45.629Z"
   },
   {
    "duration": 3,
    "start_time": "2023-02-16T18:20:45.639Z"
   },
   {
    "duration": 19,
    "start_time": "2023-02-16T18:20:45.644Z"
   },
   {
    "duration": 5,
    "start_time": "2023-02-16T18:20:45.664Z"
   },
   {
    "duration": 693,
    "start_time": "2023-02-16T18:20:45.671Z"
   },
   {
    "duration": 709,
    "start_time": "2023-02-16T18:20:46.365Z"
   },
   {
    "duration": 679,
    "start_time": "2023-02-16T18:20:47.076Z"
   },
   {
    "duration": 103,
    "start_time": "2023-02-16T18:21:19.596Z"
   },
   {
    "duration": 1097,
    "start_time": "2023-02-16T18:21:25.705Z"
   },
   {
    "duration": 104,
    "start_time": "2023-02-16T18:21:26.804Z"
   },
   {
    "duration": 0,
    "start_time": "2023-02-16T18:21:26.910Z"
   },
   {
    "duration": 0,
    "start_time": "2023-02-16T18:21:26.911Z"
   },
   {
    "duration": 0,
    "start_time": "2023-02-16T18:21:26.912Z"
   },
   {
    "duration": 0,
    "start_time": "2023-02-16T18:21:26.913Z"
   },
   {
    "duration": 0,
    "start_time": "2023-02-16T18:21:26.914Z"
   },
   {
    "duration": 0,
    "start_time": "2023-02-16T18:21:26.916Z"
   },
   {
    "duration": 0,
    "start_time": "2023-02-16T18:21:26.918Z"
   },
   {
    "duration": 0,
    "start_time": "2023-02-16T18:21:26.919Z"
   },
   {
    "duration": 0,
    "start_time": "2023-02-16T18:21:26.920Z"
   },
   {
    "duration": 0,
    "start_time": "2023-02-16T18:21:26.921Z"
   },
   {
    "duration": 0,
    "start_time": "2023-02-16T18:21:26.922Z"
   },
   {
    "duration": 0,
    "start_time": "2023-02-16T18:21:26.922Z"
   },
   {
    "duration": 0,
    "start_time": "2023-02-16T18:21:26.923Z"
   },
   {
    "duration": 0,
    "start_time": "2023-02-16T18:21:26.925Z"
   },
   {
    "duration": 0,
    "start_time": "2023-02-16T18:21:26.925Z"
   },
   {
    "duration": 0,
    "start_time": "2023-02-16T18:21:26.926Z"
   },
   {
    "duration": 0,
    "start_time": "2023-02-16T18:21:26.927Z"
   },
   {
    "duration": 0,
    "start_time": "2023-02-16T18:21:26.928Z"
   },
   {
    "duration": 0,
    "start_time": "2023-02-16T18:21:26.929Z"
   },
   {
    "duration": 0,
    "start_time": "2023-02-16T18:21:26.930Z"
   },
   {
    "duration": 0,
    "start_time": "2023-02-16T18:21:26.931Z"
   },
   {
    "duration": 0,
    "start_time": "2023-02-16T18:21:26.932Z"
   },
   {
    "duration": 0,
    "start_time": "2023-02-16T18:21:26.932Z"
   },
   {
    "duration": 1172,
    "start_time": "2023-02-16T18:21:54.494Z"
   },
   {
    "duration": 1089,
    "start_time": "2023-02-16T18:22:08.322Z"
   },
   {
    "duration": 4,
    "start_time": "2023-02-16T18:22:09.413Z"
   },
   {
    "duration": 391,
    "start_time": "2023-02-16T18:22:09.418Z"
   },
   {
    "duration": 39,
    "start_time": "2023-02-16T18:22:09.811Z"
   },
   {
    "duration": 5,
    "start_time": "2023-02-16T18:22:09.851Z"
   },
   {
    "duration": 21,
    "start_time": "2023-02-16T18:22:09.858Z"
   },
   {
    "duration": 91,
    "start_time": "2023-02-16T18:22:09.895Z"
   },
   {
    "duration": 144,
    "start_time": "2023-02-16T18:22:09.996Z"
   },
   {
    "duration": 31,
    "start_time": "2023-02-16T18:22:10.142Z"
   },
   {
    "duration": 21,
    "start_time": "2023-02-16T18:22:10.175Z"
   },
   {
    "duration": 6,
    "start_time": "2023-02-16T18:22:10.198Z"
   },
   {
    "duration": 94,
    "start_time": "2023-02-16T18:22:10.206Z"
   },
   {
    "duration": 111,
    "start_time": "2023-02-16T18:22:10.303Z"
   },
   {
    "duration": 200,
    "start_time": "2023-02-16T18:22:10.416Z"
   },
   {
    "duration": 80,
    "start_time": "2023-02-16T18:22:10.618Z"
   },
   {
    "duration": 108,
    "start_time": "2023-02-16T18:22:10.703Z"
   },
   {
    "duration": 20,
    "start_time": "2023-02-16T18:22:10.813Z"
   },
   {
    "duration": 7,
    "start_time": "2023-02-16T18:22:10.835Z"
   },
   {
    "duration": 8,
    "start_time": "2023-02-16T18:22:10.843Z"
   },
   {
    "duration": 13,
    "start_time": "2023-02-16T18:22:10.853Z"
   },
   {
    "duration": 17,
    "start_time": "2023-02-16T18:22:10.867Z"
   },
   {
    "duration": 10,
    "start_time": "2023-02-16T18:22:10.885Z"
   },
   {
    "duration": 740,
    "start_time": "2023-02-16T18:22:10.897Z"
   },
   {
    "duration": 686,
    "start_time": "2023-02-16T18:22:11.639Z"
   },
   {
    "duration": 708,
    "start_time": "2023-02-16T18:22:12.326Z"
   },
   {
    "duration": 1065,
    "start_time": "2023-02-16T18:23:43.439Z"
   },
   {
    "duration": 4,
    "start_time": "2023-02-16T18:23:44.506Z"
   },
   {
    "duration": 409,
    "start_time": "2023-02-16T18:23:44.511Z"
   },
   {
    "duration": 42,
    "start_time": "2023-02-16T18:23:44.922Z"
   },
   {
    "duration": 4,
    "start_time": "2023-02-16T18:23:44.968Z"
   },
   {
    "duration": 35,
    "start_time": "2023-02-16T18:23:44.974Z"
   },
   {
    "duration": 121,
    "start_time": "2023-02-16T18:23:45.010Z"
   },
   {
    "duration": 156,
    "start_time": "2023-02-16T18:23:45.133Z"
   },
   {
    "duration": 31,
    "start_time": "2023-02-16T18:23:45.295Z"
   },
   {
    "duration": 5,
    "start_time": "2023-02-16T18:23:45.328Z"
   },
   {
    "duration": 11,
    "start_time": "2023-02-16T18:23:45.334Z"
   },
   {
    "duration": 53,
    "start_time": "2023-02-16T18:23:45.347Z"
   },
   {
    "duration": 191,
    "start_time": "2023-02-16T18:23:45.405Z"
   },
   {
    "duration": 113,
    "start_time": "2023-02-16T18:23:45.600Z"
   },
   {
    "duration": 83,
    "start_time": "2023-02-16T18:23:45.715Z"
   },
   {
    "duration": 120,
    "start_time": "2023-02-16T18:23:45.800Z"
   },
   {
    "duration": 12,
    "start_time": "2023-02-16T18:23:45.922Z"
   },
   {
    "duration": 6,
    "start_time": "2023-02-16T18:23:45.935Z"
   },
   {
    "duration": 8,
    "start_time": "2023-02-16T18:23:45.943Z"
   },
   {
    "duration": 4,
    "start_time": "2023-02-16T18:23:45.953Z"
   },
   {
    "duration": 17,
    "start_time": "2023-02-16T18:23:45.959Z"
   },
   {
    "duration": 5,
    "start_time": "2023-02-16T18:23:45.977Z"
   },
   {
    "duration": 707,
    "start_time": "2023-02-16T18:23:45.984Z"
   },
   {
    "duration": 696,
    "start_time": "2023-02-16T18:23:46.695Z"
   },
   {
    "duration": 692,
    "start_time": "2023-02-16T18:23:47.392Z"
   },
   {
    "duration": 54,
    "start_time": "2023-02-16T20:24:41.528Z"
   },
   {
    "duration": 1101,
    "start_time": "2023-02-16T20:24:54.373Z"
   },
   {
    "duration": 3,
    "start_time": "2023-02-16T20:24:55.476Z"
   },
   {
    "duration": 836,
    "start_time": "2023-02-16T20:24:55.480Z"
   },
   {
    "duration": 41,
    "start_time": "2023-02-16T20:24:56.318Z"
   },
   {
    "duration": 5,
    "start_time": "2023-02-16T20:24:56.362Z"
   },
   {
    "duration": 38,
    "start_time": "2023-02-16T20:24:56.369Z"
   },
   {
    "duration": 105,
    "start_time": "2023-02-16T20:24:56.408Z"
   },
   {
    "duration": 139,
    "start_time": "2023-02-16T20:24:56.514Z"
   },
   {
    "duration": 51,
    "start_time": "2023-02-16T20:24:56.655Z"
   },
   {
    "duration": 2,
    "start_time": "2023-02-16T20:24:56.708Z"
   },
   {
    "duration": 8,
    "start_time": "2023-02-16T20:24:56.712Z"
   },
   {
    "duration": 81,
    "start_time": "2023-02-16T20:24:56.721Z"
   },
   {
    "duration": 117,
    "start_time": "2023-02-16T20:24:56.804Z"
   },
   {
    "duration": 111,
    "start_time": "2023-02-16T20:24:57.002Z"
   },
   {
    "duration": 85,
    "start_time": "2023-02-16T20:24:57.116Z"
   },
   {
    "duration": 98,
    "start_time": "2023-02-16T20:24:57.203Z"
   },
   {
    "duration": 12,
    "start_time": "2023-02-16T20:24:57.302Z"
   },
   {
    "duration": 6,
    "start_time": "2023-02-16T20:24:57.315Z"
   },
   {
    "duration": 10,
    "start_time": "2023-02-16T20:24:57.323Z"
   },
   {
    "duration": 5,
    "start_time": "2023-02-16T20:24:57.335Z"
   },
   {
    "duration": 121,
    "start_time": "2023-02-16T20:24:57.342Z"
   },
   {
    "duration": 0,
    "start_time": "2023-02-16T20:24:57.465Z"
   },
   {
    "duration": 0,
    "start_time": "2023-02-16T20:24:57.466Z"
   },
   {
    "duration": 0,
    "start_time": "2023-02-16T20:24:57.466Z"
   },
   {
    "duration": 0,
    "start_time": "2023-02-16T20:24:57.468Z"
   },
   {
    "duration": 50,
    "start_time": "2023-02-16T20:25:42.493Z"
   },
   {
    "duration": 104,
    "start_time": "2023-02-16T20:27:48.156Z"
   },
   {
    "duration": 115,
    "start_time": "2023-02-16T20:34:00.027Z"
   },
   {
    "duration": 1637,
    "start_time": "2023-02-16T20:36:54.871Z"
   },
   {
    "duration": 4,
    "start_time": "2023-02-16T20:36:56.510Z"
   },
   {
    "duration": 380,
    "start_time": "2023-02-16T20:36:56.515Z"
   },
   {
    "duration": 52,
    "start_time": "2023-02-16T20:36:56.898Z"
   },
   {
    "duration": 6,
    "start_time": "2023-02-16T20:36:56.954Z"
   },
   {
    "duration": 53,
    "start_time": "2023-02-16T20:36:56.961Z"
   },
   {
    "duration": 144,
    "start_time": "2023-02-16T20:36:57.016Z"
   },
   {
    "duration": 221,
    "start_time": "2023-02-16T20:36:57.164Z"
   },
   {
    "duration": 51,
    "start_time": "2023-02-16T20:36:57.388Z"
   },
   {
    "duration": 3,
    "start_time": "2023-02-16T20:36:57.441Z"
   },
   {
    "duration": 11,
    "start_time": "2023-02-16T20:36:57.446Z"
   },
   {
    "duration": 58,
    "start_time": "2023-02-16T20:36:57.458Z"
   },
   {
    "duration": 200,
    "start_time": "2023-02-16T20:36:57.599Z"
   },
   {
    "duration": 122,
    "start_time": "2023-02-16T20:36:57.802Z"
   },
   {
    "duration": 71,
    "start_time": "2023-02-16T20:36:57.927Z"
   },
   {
    "duration": 105,
    "start_time": "2023-02-16T20:36:58.001Z"
   },
   {
    "duration": 10,
    "start_time": "2023-02-16T20:36:58.109Z"
   },
   {
    "duration": 7,
    "start_time": "2023-02-16T20:36:58.121Z"
   },
   {
    "duration": 13,
    "start_time": "2023-02-16T20:36:58.130Z"
   },
   {
    "duration": 5,
    "start_time": "2023-02-16T20:36:58.145Z"
   },
   {
    "duration": 125,
    "start_time": "2023-02-16T20:36:58.151Z"
   },
   {
    "duration": 0,
    "start_time": "2023-02-16T20:36:58.277Z"
   },
   {
    "duration": 0,
    "start_time": "2023-02-16T20:36:58.278Z"
   },
   {
    "duration": 0,
    "start_time": "2023-02-16T20:36:58.279Z"
   },
   {
    "duration": 0,
    "start_time": "2023-02-16T20:36:58.281Z"
   },
   {
    "duration": 35,
    "start_time": "2023-02-16T20:37:47.785Z"
   },
   {
    "duration": 42,
    "start_time": "2023-02-16T20:40:56.467Z"
   },
   {
    "duration": 483,
    "start_time": "2023-02-16T20:41:37.090Z"
   },
   {
    "duration": 46,
    "start_time": "2023-02-16T20:42:06.452Z"
   },
   {
    "duration": 31,
    "start_time": "2023-02-16T20:42:40.724Z"
   },
   {
    "duration": 69,
    "start_time": "2023-02-16T20:43:46.908Z"
   },
   {
    "duration": 67,
    "start_time": "2023-02-16T20:44:34.454Z"
   },
   {
    "duration": 50,
    "start_time": "2023-02-16T20:49:40.851Z"
   },
   {
    "duration": 25,
    "start_time": "2023-02-16T20:52:08.779Z"
   },
   {
    "duration": 40,
    "start_time": "2023-02-16T20:52:45.380Z"
   },
   {
    "duration": 3,
    "start_time": "2023-02-16T21:01:38.068Z"
   },
   {
    "duration": 11,
    "start_time": "2023-02-16T21:02:57.681Z"
   },
   {
    "duration": 1287,
    "start_time": "2023-02-16T21:03:24.711Z"
   },
   {
    "duration": 3,
    "start_time": "2023-02-16T21:03:26.000Z"
   },
   {
    "duration": 336,
    "start_time": "2023-02-16T21:03:26.005Z"
   },
   {
    "duration": 43,
    "start_time": "2023-02-16T21:03:26.343Z"
   },
   {
    "duration": 13,
    "start_time": "2023-02-16T21:03:26.388Z"
   },
   {
    "duration": 33,
    "start_time": "2023-02-16T21:03:26.403Z"
   },
   {
    "duration": 134,
    "start_time": "2023-02-16T21:03:26.438Z"
   },
   {
    "duration": 151,
    "start_time": "2023-02-16T21:03:26.573Z"
   },
   {
    "duration": 43,
    "start_time": "2023-02-16T21:03:26.726Z"
   },
   {
    "duration": 3,
    "start_time": "2023-02-16T21:03:26.770Z"
   },
   {
    "duration": 5,
    "start_time": "2023-02-16T21:03:26.798Z"
   },
   {
    "duration": 94,
    "start_time": "2023-02-16T21:03:26.804Z"
   },
   {
    "duration": 110,
    "start_time": "2023-02-16T21:03:26.900Z"
   },
   {
    "duration": 213,
    "start_time": "2023-02-16T21:03:27.013Z"
   },
   {
    "duration": 6,
    "start_time": "2023-02-16T21:03:27.302Z"
   },
   {
    "duration": 10,
    "start_time": "2023-02-16T21:03:27.400Z"
   },
   {
    "duration": 13,
    "start_time": "2023-02-16T21:03:27.411Z"
   },
   {
    "duration": 8,
    "start_time": "2023-02-16T21:03:27.426Z"
   },
   {
    "duration": 20,
    "start_time": "2023-02-16T21:03:27.436Z"
   },
   {
    "duration": 5,
    "start_time": "2023-02-16T21:03:27.458Z"
   },
   {
    "duration": 129,
    "start_time": "2023-02-16T21:03:27.464Z"
   },
   {
    "duration": 0,
    "start_time": "2023-02-16T21:03:27.595Z"
   },
   {
    "duration": 0,
    "start_time": "2023-02-16T21:03:27.599Z"
   },
   {
    "duration": 0,
    "start_time": "2023-02-16T21:03:27.601Z"
   },
   {
    "duration": 1,
    "start_time": "2023-02-16T21:03:27.602Z"
   },
   {
    "duration": 20,
    "start_time": "2023-02-16T21:04:10.253Z"
   },
   {
    "duration": 4,
    "start_time": "2023-02-16T21:04:34.951Z"
   },
   {
    "duration": 23,
    "start_time": "2023-02-16T21:04:36.349Z"
   },
   {
    "duration": 4,
    "start_time": "2023-02-16T21:06:42.665Z"
   },
   {
    "duration": 23,
    "start_time": "2023-02-16T21:06:44.850Z"
   },
   {
    "duration": 1468,
    "start_time": "2023-02-16T21:07:39.181Z"
   },
   {
    "duration": 3,
    "start_time": "2023-02-16T21:07:40.652Z"
   },
   {
    "duration": 377,
    "start_time": "2023-02-16T21:07:40.657Z"
   },
   {
    "duration": 44,
    "start_time": "2023-02-16T21:07:41.036Z"
   },
   {
    "duration": 17,
    "start_time": "2023-02-16T21:07:41.082Z"
   },
   {
    "duration": 30,
    "start_time": "2023-02-16T21:07:41.101Z"
   },
   {
    "duration": 138,
    "start_time": "2023-02-16T21:07:41.133Z"
   },
   {
    "duration": 154,
    "start_time": "2023-02-16T21:07:41.273Z"
   },
   {
    "duration": 45,
    "start_time": "2023-02-16T21:07:41.429Z"
   },
   {
    "duration": 4,
    "start_time": "2023-02-16T21:07:41.499Z"
   },
   {
    "duration": 7,
    "start_time": "2023-02-16T21:07:41.504Z"
   },
   {
    "duration": 90,
    "start_time": "2023-02-16T21:07:41.513Z"
   },
   {
    "duration": 122,
    "start_time": "2023-02-16T21:07:41.606Z"
   },
   {
    "duration": 184,
    "start_time": "2023-02-16T21:07:41.730Z"
   },
   {
    "duration": 84,
    "start_time": "2023-02-16T21:07:41.916Z"
   },
   {
    "duration": 99,
    "start_time": "2023-02-16T21:07:42.002Z"
   },
   {
    "duration": 12,
    "start_time": "2023-02-16T21:07:42.103Z"
   },
   {
    "duration": 6,
    "start_time": "2023-02-16T21:07:42.117Z"
   },
   {
    "duration": 12,
    "start_time": "2023-02-16T21:07:42.124Z"
   },
   {
    "duration": 6,
    "start_time": "2023-02-16T21:07:42.138Z"
   },
   {
    "duration": 21,
    "start_time": "2023-02-16T21:07:42.146Z"
   },
   {
    "duration": 6,
    "start_time": "2023-02-16T21:07:42.199Z"
   },
   {
    "duration": 751,
    "start_time": "2023-02-16T21:07:42.206Z"
   },
   {
    "duration": 115,
    "start_time": "2023-02-16T21:07:42.959Z"
   },
   {
    "duration": 0,
    "start_time": "2023-02-16T21:07:43.076Z"
   },
   {
    "duration": 711,
    "start_time": "2023-02-16T21:09:07.569Z"
   },
   {
    "duration": 654,
    "start_time": "2023-02-16T21:09:14.566Z"
   },
   {
    "duration": 722,
    "start_time": "2023-02-16T21:10:10.323Z"
   },
   {
    "duration": 653,
    "start_time": "2023-02-16T21:11:11.286Z"
   },
   {
    "duration": 683,
    "start_time": "2023-02-16T21:11:13.112Z"
   },
   {
    "duration": 643,
    "start_time": "2023-02-16T21:11:14.663Z"
   },
   {
    "duration": 69,
    "start_time": "2023-02-17T06:03:11.737Z"
   },
   {
    "duration": 2050,
    "start_time": "2023-02-17T06:10:38.225Z"
   },
   {
    "duration": 4,
    "start_time": "2023-02-17T06:10:40.277Z"
   },
   {
    "duration": 1225,
    "start_time": "2023-02-17T06:10:40.283Z"
   },
   {
    "duration": 75,
    "start_time": "2023-02-17T06:10:41.510Z"
   },
   {
    "duration": 7,
    "start_time": "2023-02-17T06:10:41.592Z"
   },
   {
    "duration": 27,
    "start_time": "2023-02-17T06:10:41.601Z"
   },
   {
    "duration": 28,
    "start_time": "2023-02-17T06:10:41.630Z"
   },
   {
    "duration": 37,
    "start_time": "2023-02-17T06:10:41.659Z"
   },
   {
    "duration": 136,
    "start_time": "2023-02-17T06:10:41.699Z"
   },
   {
    "duration": 211,
    "start_time": "2023-02-17T06:10:41.855Z"
   },
   {
    "duration": 19,
    "start_time": "2023-02-17T06:10:42.075Z"
   },
   {
    "duration": 20,
    "start_time": "2023-02-17T06:10:42.096Z"
   },
   {
    "duration": 26,
    "start_time": "2023-02-17T06:10:42.118Z"
   },
   {
    "duration": 4,
    "start_time": "2023-02-17T06:10:42.159Z"
   },
   {
    "duration": 20,
    "start_time": "2023-02-17T06:10:42.167Z"
   },
   {
    "duration": 70,
    "start_time": "2023-02-17T06:10:42.189Z"
   },
   {
    "duration": 124,
    "start_time": "2023-02-17T06:10:42.261Z"
   },
   {
    "duration": 272,
    "start_time": "2023-02-17T06:10:42.388Z"
   },
   {
    "duration": 13,
    "start_time": "2023-02-17T06:10:42.664Z"
   },
   {
    "duration": 98,
    "start_time": "2023-02-17T06:10:42.683Z"
   },
   {
    "duration": 21,
    "start_time": "2023-02-17T06:10:42.784Z"
   },
   {
    "duration": 9,
    "start_time": "2023-02-17T06:10:42.807Z"
   },
   {
    "duration": 9,
    "start_time": "2023-02-17T06:10:42.818Z"
   },
   {
    "duration": 12,
    "start_time": "2023-02-17T06:10:42.829Z"
   },
   {
    "duration": 25,
    "start_time": "2023-02-17T06:10:42.843Z"
   },
   {
    "duration": 15,
    "start_time": "2023-02-17T06:10:42.875Z"
   },
   {
    "duration": 1034,
    "start_time": "2023-02-17T06:10:42.892Z"
   },
   {
    "duration": 855,
    "start_time": "2023-02-17T06:10:43.929Z"
   },
   {
    "duration": 837,
    "start_time": "2023-02-17T06:10:44.787Z"
   },
   {
    "duration": 765,
    "start_time": "2023-02-17T06:26:06.203Z"
   },
   {
    "duration": 792,
    "start_time": "2023-02-17T06:26:28.242Z"
   },
   {
    "duration": 791,
    "start_time": "2023-02-17T06:26:29.985Z"
   },
   {
    "duration": 747,
    "start_time": "2023-02-17T06:26:34.070Z"
   },
   {
    "duration": 802,
    "start_time": "2023-02-17T06:26:49.298Z"
   },
   {
    "duration": 797,
    "start_time": "2023-02-17T06:27:00.945Z"
   },
   {
    "duration": 882,
    "start_time": "2023-02-17T06:27:03.324Z"
   },
   {
    "duration": 817,
    "start_time": "2023-02-17T06:27:05.553Z"
   },
   {
    "duration": 4,
    "start_time": "2023-02-17T08:14:18.913Z"
   },
   {
    "duration": 18,
    "start_time": "2023-02-17T08:14:21.564Z"
   },
   {
    "duration": 16,
    "start_time": "2023-02-17T08:15:01.942Z"
   },
   {
    "duration": 18,
    "start_time": "2023-02-17T08:15:26.907Z"
   },
   {
    "duration": 4,
    "start_time": "2023-02-17T08:17:35.282Z"
   },
   {
    "duration": 17,
    "start_time": "2023-02-17T08:17:38.498Z"
   },
   {
    "duration": 5,
    "start_time": "2023-02-17T08:17:41.042Z"
   },
   {
    "duration": 723,
    "start_time": "2023-02-17T08:17:44.970Z"
   },
   {
    "duration": 821,
    "start_time": "2023-02-17T08:17:46.867Z"
   },
   {
    "duration": 731,
    "start_time": "2023-02-17T08:17:48.675Z"
   },
   {
    "duration": 4,
    "start_time": "2023-02-17T08:18:46.668Z"
   },
   {
    "duration": 42,
    "start_time": "2023-02-17T08:18:47.561Z"
   },
   {
    "duration": 5,
    "start_time": "2023-02-17T08:19:26.522Z"
   },
   {
    "duration": 706,
    "start_time": "2023-02-17T08:19:28.208Z"
   },
   {
    "duration": 731,
    "start_time": "2023-02-17T08:19:30.841Z"
   },
   {
    "duration": 723,
    "start_time": "2023-02-17T08:19:33.345Z"
   },
   {
    "duration": 4,
    "start_time": "2023-02-17T08:20:20.922Z"
   },
   {
    "duration": 123,
    "start_time": "2023-02-17T08:20:23.473Z"
   },
   {
    "duration": 7,
    "start_time": "2023-02-17T08:21:06.361Z"
   },
   {
    "duration": 741,
    "start_time": "2023-02-17T08:21:07.840Z"
   },
   {
    "duration": 699,
    "start_time": "2023-02-17T08:21:10.272Z"
   },
   {
    "duration": 696,
    "start_time": "2023-02-17T08:21:12.208Z"
   },
   {
    "duration": 13,
    "start_time": "2023-02-17T08:24:31.903Z"
   },
   {
    "duration": 12,
    "start_time": "2023-02-17T08:25:16.806Z"
   },
   {
    "duration": 10,
    "start_time": "2023-02-17T08:25:34.997Z"
   },
   {
    "duration": 12,
    "start_time": "2023-02-17T08:26:00.925Z"
   },
   {
    "duration": 12,
    "start_time": "2023-02-17T08:26:29.959Z"
   },
   {
    "duration": 20,
    "start_time": "2023-02-17T08:26:38.027Z"
   },
   {
    "duration": 19,
    "start_time": "2023-02-17T08:27:07.148Z"
   },
   {
    "duration": 29,
    "start_time": "2023-02-17T08:27:15.836Z"
   },
   {
    "duration": 10,
    "start_time": "2023-02-17T08:27:48.002Z"
   },
   {
    "duration": 11,
    "start_time": "2023-02-17T08:28:06.411Z"
   },
   {
    "duration": 71,
    "start_time": "2023-02-17T08:29:05.563Z"
   },
   {
    "duration": 78,
    "start_time": "2023-02-17T08:29:30.402Z"
   },
   {
    "duration": 12,
    "start_time": "2023-02-17T08:29:45.049Z"
   },
   {
    "duration": 18,
    "start_time": "2023-02-17T08:30:26.649Z"
   },
   {
    "duration": 4,
    "start_time": "2023-02-17T09:13:46.421Z"
   },
   {
    "duration": 40,
    "start_time": "2023-02-17T09:13:51.581Z"
   },
   {
    "duration": 3,
    "start_time": "2023-02-17T09:14:10.901Z"
   },
   {
    "duration": 18,
    "start_time": "2023-02-17T09:14:12.781Z"
   },
   {
    "duration": 1480,
    "start_time": "2023-02-17T09:17:07.996Z"
   },
   {
    "duration": 4,
    "start_time": "2023-02-17T09:17:09.478Z"
   },
   {
    "duration": 512,
    "start_time": "2023-02-17T09:17:09.484Z"
   },
   {
    "duration": 78,
    "start_time": "2023-02-17T09:17:09.999Z"
   },
   {
    "duration": 6,
    "start_time": "2023-02-17T09:17:10.079Z"
   },
   {
    "duration": 20,
    "start_time": "2023-02-17T09:17:10.086Z"
   },
   {
    "duration": 11,
    "start_time": "2023-02-17T09:17:10.108Z"
   },
   {
    "duration": 46,
    "start_time": "2023-02-17T09:17:10.121Z"
   },
   {
    "duration": 138,
    "start_time": "2023-02-17T09:17:10.169Z"
   },
   {
    "duration": 166,
    "start_time": "2023-02-17T09:17:10.310Z"
   },
   {
    "duration": 16,
    "start_time": "2023-02-17T09:17:10.478Z"
   },
   {
    "duration": 23,
    "start_time": "2023-02-17T09:17:10.496Z"
   },
   {
    "duration": 54,
    "start_time": "2023-02-17T09:17:10.521Z"
   },
   {
    "duration": 27,
    "start_time": "2023-02-17T09:17:10.576Z"
   },
   {
    "duration": 21,
    "start_time": "2023-02-17T09:17:10.605Z"
   },
   {
    "duration": 50,
    "start_time": "2023-02-17T09:17:10.628Z"
   },
   {
    "duration": 200,
    "start_time": "2023-02-17T09:17:10.680Z"
   },
   {
    "duration": 200,
    "start_time": "2023-02-17T09:17:10.886Z"
   },
   {
    "duration": 75,
    "start_time": "2023-02-17T09:17:11.088Z"
   },
   {
    "duration": 116,
    "start_time": "2023-02-17T09:17:11.165Z"
   },
   {
    "duration": 12,
    "start_time": "2023-02-17T09:17:11.284Z"
   },
   {
    "duration": 6,
    "start_time": "2023-02-17T09:17:11.298Z"
   },
   {
    "duration": 9,
    "start_time": "2023-02-17T09:17:11.305Z"
   },
   {
    "duration": 30,
    "start_time": "2023-02-17T09:17:11.316Z"
   },
   {
    "duration": 12,
    "start_time": "2023-02-17T09:17:11.348Z"
   },
   {
    "duration": 38,
    "start_time": "2023-02-17T09:17:11.362Z"
   },
   {
    "duration": 5,
    "start_time": "2023-02-17T09:17:11.402Z"
   },
   {
    "duration": 810,
    "start_time": "2023-02-17T09:17:11.410Z"
   },
   {
    "duration": 787,
    "start_time": "2023-02-17T09:17:12.222Z"
   },
   {
    "duration": 776,
    "start_time": "2023-02-17T09:17:13.011Z"
   },
   {
    "duration": 10,
    "start_time": "2023-02-17T09:18:18.530Z"
   },
   {
    "duration": 11,
    "start_time": "2023-02-17T09:18:39.262Z"
   },
   {
    "duration": 4,
    "start_time": "2023-02-17T09:19:25.048Z"
   },
   {
    "duration": 25,
    "start_time": "2023-02-17T09:19:27.481Z"
   },
   {
    "duration": 8,
    "start_time": "2023-02-17T09:19:43.823Z"
   },
   {
    "duration": 775,
    "start_time": "2023-02-17T09:19:45.369Z"
   },
   {
    "duration": 870,
    "start_time": "2023-02-17T09:19:47.643Z"
   },
   {
    "duration": 7,
    "start_time": "2023-02-17T09:20:14.017Z"
   },
   {
    "duration": 34,
    "start_time": "2023-02-17T09:20:15.174Z"
   },
   {
    "duration": 1756,
    "start_time": "2023-02-17T09:22:28.482Z"
   },
   {
    "duration": 4,
    "start_time": "2023-02-17T09:22:30.240Z"
   },
   {
    "duration": 527,
    "start_time": "2023-02-17T09:22:30.246Z"
   },
   {
    "duration": 63,
    "start_time": "2023-02-17T09:22:30.775Z"
   },
   {
    "duration": 17,
    "start_time": "2023-02-17T09:22:30.840Z"
   },
   {
    "duration": 51,
    "start_time": "2023-02-17T09:22:30.859Z"
   },
   {
    "duration": 24,
    "start_time": "2023-02-17T09:22:30.912Z"
   },
   {
    "duration": 44,
    "start_time": "2023-02-17T09:22:30.938Z"
   },
   {
    "duration": 205,
    "start_time": "2023-02-17T09:22:30.984Z"
   },
   {
    "duration": 207,
    "start_time": "2023-02-17T09:22:31.193Z"
   },
   {
    "duration": 19,
    "start_time": "2023-02-17T09:22:31.403Z"
   },
   {
    "duration": 38,
    "start_time": "2023-02-17T09:22:31.424Z"
   },
   {
    "duration": 42,
    "start_time": "2023-02-17T09:22:31.464Z"
   },
   {
    "duration": 47,
    "start_time": "2023-02-17T09:22:31.509Z"
   },
   {
    "duration": 48,
    "start_time": "2023-02-17T09:22:31.562Z"
   },
   {
    "duration": 89,
    "start_time": "2023-02-17T09:22:31.614Z"
   },
   {
    "duration": 142,
    "start_time": "2023-02-17T09:22:31.772Z"
   },
   {
    "duration": 123,
    "start_time": "2023-02-17T09:22:31.968Z"
   },
   {
    "duration": 67,
    "start_time": "2023-02-17T09:22:32.095Z"
   },
   {
    "duration": 116,
    "start_time": "2023-02-17T09:22:32.168Z"
   },
   {
    "duration": 17,
    "start_time": "2023-02-17T09:22:32.287Z"
   },
   {
    "duration": 19,
    "start_time": "2023-02-17T09:22:32.306Z"
   },
   {
    "duration": 8,
    "start_time": "2023-02-17T09:22:32.328Z"
   },
   {
    "duration": 7,
    "start_time": "2023-02-17T09:22:32.339Z"
   },
   {
    "duration": 63,
    "start_time": "2023-02-17T09:22:32.349Z"
   },
   {
    "duration": 7,
    "start_time": "2023-02-17T09:22:32.414Z"
   },
   {
    "duration": 932,
    "start_time": "2023-02-17T09:22:32.422Z"
   },
   {
    "duration": 840,
    "start_time": "2023-02-17T09:22:33.356Z"
   },
   {
    "duration": 849,
    "start_time": "2023-02-17T09:22:34.198Z"
   },
   {
    "duration": 1733,
    "start_time": "2023-02-17T09:24:50.266Z"
   },
   {
    "duration": 5,
    "start_time": "2023-02-17T09:24:52.002Z"
   },
   {
    "duration": 513,
    "start_time": "2023-02-17T09:24:52.010Z"
   },
   {
    "duration": 73,
    "start_time": "2023-02-17T09:24:52.525Z"
   },
   {
    "duration": 4,
    "start_time": "2023-02-17T09:24:52.601Z"
   },
   {
    "duration": 30,
    "start_time": "2023-02-17T09:24:52.607Z"
   },
   {
    "duration": 24,
    "start_time": "2023-02-17T09:24:52.639Z"
   },
   {
    "duration": 25,
    "start_time": "2023-02-17T09:24:52.665Z"
   },
   {
    "duration": 136,
    "start_time": "2023-02-17T09:24:52.692Z"
   },
   {
    "duration": 235,
    "start_time": "2023-02-17T09:24:52.830Z"
   },
   {
    "duration": 26,
    "start_time": "2023-02-17T09:24:53.067Z"
   },
   {
    "duration": 20,
    "start_time": "2023-02-17T09:24:53.095Z"
   },
   {
    "duration": 43,
    "start_time": "2023-02-17T09:24:53.117Z"
   },
   {
    "duration": 3,
    "start_time": "2023-02-17T09:24:53.163Z"
   },
   {
    "duration": 9,
    "start_time": "2023-02-17T09:24:53.168Z"
   },
   {
    "duration": 180,
    "start_time": "2023-02-17T09:24:53.178Z"
   },
   {
    "duration": 120,
    "start_time": "2023-02-17T09:24:53.360Z"
   },
   {
    "duration": 122,
    "start_time": "2023-02-17T09:24:53.558Z"
   },
   {
    "duration": 4,
    "start_time": "2023-02-17T09:24:53.683Z"
   },
   {
    "duration": 167,
    "start_time": "2023-02-17T09:24:53.689Z"
   },
   {
    "duration": 16,
    "start_time": "2023-02-17T09:24:53.859Z"
   },
   {
    "duration": 9,
    "start_time": "2023-02-17T09:24:53.877Z"
   },
   {
    "duration": 16,
    "start_time": "2023-02-17T09:24:53.889Z"
   },
   {
    "duration": 12,
    "start_time": "2023-02-17T09:24:53.908Z"
   },
   {
    "duration": 48,
    "start_time": "2023-02-17T09:24:53.923Z"
   },
   {
    "duration": 7,
    "start_time": "2023-02-17T09:24:53.974Z"
   },
   {
    "duration": 1019,
    "start_time": "2023-02-17T09:24:53.984Z"
   },
   {
    "duration": 1038,
    "start_time": "2023-02-17T09:24:55.005Z"
   },
   {
    "duration": 873,
    "start_time": "2023-02-17T09:24:56.046Z"
   },
   {
    "duration": 13,
    "start_time": "2023-02-17T09:32:17.532Z"
   },
   {
    "duration": 16,
    "start_time": "2023-02-17T09:32:34.156Z"
   },
   {
    "duration": 124,
    "start_time": "2023-02-17T09:32:51.875Z"
   },
   {
    "duration": 17,
    "start_time": "2023-02-17T09:33:02.650Z"
   },
   {
    "duration": 11,
    "start_time": "2023-02-17T09:34:56.836Z"
   },
   {
    "duration": 28,
    "start_time": "2023-02-17T09:35:26.074Z"
   },
   {
    "duration": 14,
    "start_time": "2023-02-17T09:35:46.165Z"
   },
   {
    "duration": 11,
    "start_time": "2023-02-17T09:36:04.675Z"
   },
   {
    "duration": 12,
    "start_time": "2023-02-17T09:36:34.319Z"
   },
   {
    "duration": 16,
    "start_time": "2023-02-17T09:37:00.086Z"
   },
   {
    "duration": 12,
    "start_time": "2023-02-17T09:39:10.733Z"
   },
   {
    "duration": 19,
    "start_time": "2023-02-17T09:40:29.187Z"
   },
   {
    "duration": 6,
    "start_time": "2023-02-17T09:40:35.883Z"
   },
   {
    "duration": 764,
    "start_time": "2023-02-17T09:40:40.138Z"
   },
   {
    "duration": 780,
    "start_time": "2023-02-17T09:40:43.127Z"
   },
   {
    "duration": 1476,
    "start_time": "2023-02-17T09:40:50.975Z"
   },
   {
    "duration": 11,
    "start_time": "2023-02-17T09:40:52.453Z"
   },
   {
    "duration": 427,
    "start_time": "2023-02-17T09:40:52.466Z"
   },
   {
    "duration": 40,
    "start_time": "2023-02-17T09:40:52.895Z"
   },
   {
    "duration": 27,
    "start_time": "2023-02-17T09:40:52.938Z"
   },
   {
    "duration": 27,
    "start_time": "2023-02-17T09:40:52.967Z"
   },
   {
    "duration": 38,
    "start_time": "2023-02-17T09:40:52.995Z"
   },
   {
    "duration": 20,
    "start_time": "2023-02-17T09:40:53.035Z"
   },
   {
    "duration": 171,
    "start_time": "2023-02-17T09:40:53.069Z"
   },
   {
    "duration": 167,
    "start_time": "2023-02-17T09:40:53.242Z"
   },
   {
    "duration": 19,
    "start_time": "2023-02-17T09:40:53.410Z"
   },
   {
    "duration": 41,
    "start_time": "2023-02-17T09:40:53.431Z"
   },
   {
    "duration": 22,
    "start_time": "2023-02-17T09:40:53.474Z"
   },
   {
    "duration": 4,
    "start_time": "2023-02-17T09:40:53.498Z"
   },
   {
    "duration": 27,
    "start_time": "2023-02-17T09:40:53.504Z"
   },
   {
    "duration": 222,
    "start_time": "2023-02-17T09:40:53.533Z"
   },
   {
    "duration": 44,
    "start_time": "2023-02-17T09:40:53.762Z"
   },
   {
    "duration": 116,
    "start_time": "2023-02-17T09:40:53.854Z"
   },
   {
    "duration": 82,
    "start_time": "2023-02-17T09:40:53.978Z"
   },
   {
    "duration": 127,
    "start_time": "2023-02-17T09:40:54.062Z"
   },
   {
    "duration": 25,
    "start_time": "2023-02-17T09:40:54.191Z"
   },
   {
    "duration": 12,
    "start_time": "2023-02-17T09:40:54.218Z"
   },
   {
    "duration": 12,
    "start_time": "2023-02-17T09:40:54.232Z"
   },
   {
    "duration": 147,
    "start_time": "2023-02-17T09:40:54.246Z"
   },
   {
    "duration": 0,
    "start_time": "2023-02-17T09:40:54.395Z"
   },
   {
    "duration": 0,
    "start_time": "2023-02-17T09:40:54.397Z"
   },
   {
    "duration": 0,
    "start_time": "2023-02-17T09:40:54.399Z"
   },
   {
    "duration": 0,
    "start_time": "2023-02-17T09:40:54.401Z"
   },
   {
    "duration": 0,
    "start_time": "2023-02-17T09:40:54.402Z"
   },
   {
    "duration": 0,
    "start_time": "2023-02-17T09:40:54.404Z"
   },
   {
    "duration": 13,
    "start_time": "2023-02-17T09:41:28.283Z"
   },
   {
    "duration": 1546,
    "start_time": "2023-02-17T09:41:34.973Z"
   },
   {
    "duration": 4,
    "start_time": "2023-02-17T09:41:36.522Z"
   },
   {
    "duration": 507,
    "start_time": "2023-02-17T09:41:36.528Z"
   },
   {
    "duration": 67,
    "start_time": "2023-02-17T09:41:37.037Z"
   },
   {
    "duration": 5,
    "start_time": "2023-02-17T09:41:37.107Z"
   },
   {
    "duration": 47,
    "start_time": "2023-02-17T09:41:37.114Z"
   },
   {
    "duration": 17,
    "start_time": "2023-02-17T09:41:37.170Z"
   },
   {
    "duration": 12,
    "start_time": "2023-02-17T09:41:37.189Z"
   },
   {
    "duration": 169,
    "start_time": "2023-02-17T09:41:37.203Z"
   },
   {
    "duration": 206,
    "start_time": "2023-02-17T09:41:37.377Z"
   },
   {
    "duration": 25,
    "start_time": "2023-02-17T09:41:37.586Z"
   },
   {
    "duration": 24,
    "start_time": "2023-02-17T09:41:37.612Z"
   },
   {
    "duration": 46,
    "start_time": "2023-02-17T09:41:37.637Z"
   },
   {
    "duration": 17,
    "start_time": "2023-02-17T09:41:37.688Z"
   },
   {
    "duration": 25,
    "start_time": "2023-02-17T09:41:37.707Z"
   },
   {
    "duration": 121,
    "start_time": "2023-02-17T09:41:37.734Z"
   },
   {
    "duration": 198,
    "start_time": "2023-02-17T09:41:37.863Z"
   },
   {
    "duration": 131,
    "start_time": "2023-02-17T09:41:38.066Z"
   },
   {
    "duration": 58,
    "start_time": "2023-02-17T09:41:38.201Z"
   },
   {
    "duration": 117,
    "start_time": "2023-02-17T09:41:38.262Z"
   },
   {
    "duration": 9,
    "start_time": "2023-02-17T09:41:38.381Z"
   },
   {
    "duration": 7,
    "start_time": "2023-02-17T09:41:38.391Z"
   },
   {
    "duration": 7,
    "start_time": "2023-02-17T09:41:38.400Z"
   },
   {
    "duration": 14,
    "start_time": "2023-02-17T09:41:38.408Z"
   },
   {
    "duration": 4,
    "start_time": "2023-02-17T09:41:38.424Z"
   },
   {
    "duration": 37,
    "start_time": "2023-02-17T09:41:38.429Z"
   },
   {
    "duration": 7,
    "start_time": "2023-02-17T09:41:38.473Z"
   },
   {
    "duration": 792,
    "start_time": "2023-02-17T09:41:38.482Z"
   },
   {
    "duration": 796,
    "start_time": "2023-02-17T09:41:39.276Z"
   },
   {
    "duration": 732,
    "start_time": "2023-02-17T09:41:40.076Z"
   },
   {
    "duration": 1569,
    "start_time": "2023-02-17T09:43:55.724Z"
   },
   {
    "duration": 5,
    "start_time": "2023-02-17T09:43:57.295Z"
   },
   {
    "duration": 507,
    "start_time": "2023-02-17T09:43:57.301Z"
   },
   {
    "duration": 76,
    "start_time": "2023-02-17T09:43:57.812Z"
   },
   {
    "duration": 5,
    "start_time": "2023-02-17T09:43:57.891Z"
   },
   {
    "duration": 29,
    "start_time": "2023-02-17T09:43:57.898Z"
   },
   {
    "duration": 34,
    "start_time": "2023-02-17T09:43:57.929Z"
   },
   {
    "duration": 34,
    "start_time": "2023-02-17T09:43:57.967Z"
   },
   {
    "duration": 179,
    "start_time": "2023-02-17T09:43:58.003Z"
   },
   {
    "duration": 201,
    "start_time": "2023-02-17T09:43:58.185Z"
   },
   {
    "duration": 21,
    "start_time": "2023-02-17T09:43:58.389Z"
   },
   {
    "duration": 21,
    "start_time": "2023-02-17T09:43:58.412Z"
   },
   {
    "duration": 54,
    "start_time": "2023-02-17T09:43:58.435Z"
   },
   {
    "duration": 7,
    "start_time": "2023-02-17T09:43:58.492Z"
   },
   {
    "duration": 5,
    "start_time": "2023-02-17T09:43:58.501Z"
   },
   {
    "duration": 55,
    "start_time": "2023-02-17T09:43:58.508Z"
   },
   {
    "duration": 194,
    "start_time": "2023-02-17T09:43:58.565Z"
   },
   {
    "duration": 118,
    "start_time": "2023-02-17T09:43:58.762Z"
   },
   {
    "duration": 77,
    "start_time": "2023-02-17T09:43:58.882Z"
   },
   {
    "duration": 121,
    "start_time": "2023-02-17T09:43:58.961Z"
   },
   {
    "duration": 24,
    "start_time": "2023-02-17T09:43:59.084Z"
   },
   {
    "duration": 10,
    "start_time": "2023-02-17T09:43:59.110Z"
   },
   {
    "duration": 15,
    "start_time": "2023-02-17T09:43:59.121Z"
   },
   {
    "duration": 10,
    "start_time": "2023-02-17T09:43:59.138Z"
   },
   {
    "duration": 27,
    "start_time": "2023-02-17T09:43:59.151Z"
   },
   {
    "duration": 23,
    "start_time": "2023-02-17T09:43:59.181Z"
   },
   {
    "duration": 6,
    "start_time": "2023-02-17T09:43:59.206Z"
   },
   {
    "duration": 816,
    "start_time": "2023-02-17T09:43:59.216Z"
   },
   {
    "duration": 771,
    "start_time": "2023-02-17T09:44:00.034Z"
   },
   {
    "duration": 789,
    "start_time": "2023-02-17T09:44:00.807Z"
   },
   {
    "duration": 137,
    "start_time": "2023-02-17T09:44:44.094Z"
   },
   {
    "duration": 19,
    "start_time": "2023-02-17T09:44:51.374Z"
   },
   {
    "duration": 7,
    "start_time": "2023-02-17T09:45:00.135Z"
   },
   {
    "duration": 1504,
    "start_time": "2023-02-17T09:45:05.467Z"
   },
   {
    "duration": 4,
    "start_time": "2023-02-17T09:45:06.973Z"
   },
   {
    "duration": 435,
    "start_time": "2023-02-17T09:45:06.979Z"
   },
   {
    "duration": 56,
    "start_time": "2023-02-17T09:45:07.416Z"
   },
   {
    "duration": 7,
    "start_time": "2023-02-17T09:45:07.475Z"
   },
   {
    "duration": 33,
    "start_time": "2023-02-17T09:45:07.484Z"
   },
   {
    "duration": 14,
    "start_time": "2023-02-17T09:45:07.519Z"
   },
   {
    "duration": 28,
    "start_time": "2023-02-17T09:45:07.536Z"
   },
   {
    "duration": 171,
    "start_time": "2023-02-17T09:45:07.572Z"
   },
   {
    "duration": 215,
    "start_time": "2023-02-17T09:45:07.745Z"
   },
   {
    "duration": 31,
    "start_time": "2023-02-17T09:45:07.962Z"
   },
   {
    "duration": 18,
    "start_time": "2023-02-17T09:45:07.996Z"
   },
   {
    "duration": 18,
    "start_time": "2023-02-17T09:45:08.016Z"
   },
   {
    "duration": 11,
    "start_time": "2023-02-17T09:45:08.052Z"
   },
   {
    "duration": 15,
    "start_time": "2023-02-17T09:45:08.069Z"
   },
   {
    "duration": 79,
    "start_time": "2023-02-17T09:45:08.086Z"
   },
   {
    "duration": 109,
    "start_time": "2023-02-17T09:45:08.166Z"
   },
   {
    "duration": 30,
    "start_time": "2023-02-17T09:45:08.277Z"
   },
   {
    "duration": 5,
    "start_time": "2023-02-17T09:45:08.355Z"
   },
   {
    "duration": 101,
    "start_time": "2023-02-17T09:45:08.362Z"
   },
   {
    "duration": 27,
    "start_time": "2023-02-17T09:45:08.470Z"
   },
   {
    "duration": 8,
    "start_time": "2023-02-17T09:45:08.499Z"
   },
   {
    "duration": 12,
    "start_time": "2023-02-17T09:45:08.509Z"
   },
   {
    "duration": 43,
    "start_time": "2023-02-17T09:45:08.524Z"
   },
   {
    "duration": 12,
    "start_time": "2023-02-17T09:45:08.570Z"
   },
   {
    "duration": 24,
    "start_time": "2023-02-17T09:45:08.584Z"
   },
   {
    "duration": 6,
    "start_time": "2023-02-17T09:45:08.610Z"
   },
   {
    "duration": 775,
    "start_time": "2023-02-17T09:45:08.618Z"
   },
   {
    "duration": 789,
    "start_time": "2023-02-17T09:45:09.395Z"
   },
   {
    "duration": 740,
    "start_time": "2023-02-17T09:45:10.186Z"
   },
   {
    "duration": 1551,
    "start_time": "2023-02-17T09:45:56.395Z"
   },
   {
    "duration": 15,
    "start_time": "2023-02-17T09:45:57.948Z"
   },
   {
    "duration": 478,
    "start_time": "2023-02-17T09:45:57.966Z"
   },
   {
    "duration": 54,
    "start_time": "2023-02-17T09:45:58.446Z"
   },
   {
    "duration": 6,
    "start_time": "2023-02-17T09:45:58.502Z"
   },
   {
    "duration": 49,
    "start_time": "2023-02-17T09:45:58.510Z"
   },
   {
    "duration": 13,
    "start_time": "2023-02-17T09:45:58.565Z"
   },
   {
    "duration": 22,
    "start_time": "2023-02-17T09:45:58.581Z"
   },
   {
    "duration": 128,
    "start_time": "2023-02-17T09:45:58.605Z"
   },
   {
    "duration": 181,
    "start_time": "2023-02-17T09:45:58.736Z"
   },
   {
    "duration": 37,
    "start_time": "2023-02-17T09:45:58.919Z"
   },
   {
    "duration": 25,
    "start_time": "2023-02-17T09:45:58.958Z"
   },
   {
    "duration": 33,
    "start_time": "2023-02-17T09:45:58.986Z"
   },
   {
    "duration": 3,
    "start_time": "2023-02-17T09:45:59.021Z"
   },
   {
    "duration": 9,
    "start_time": "2023-02-17T09:45:59.026Z"
   },
   {
    "duration": 218,
    "start_time": "2023-02-17T09:45:59.037Z"
   },
   {
    "duration": 202,
    "start_time": "2023-02-17T09:45:59.258Z"
   },
   {
    "duration": 198,
    "start_time": "2023-02-17T09:45:59.463Z"
   },
   {
    "duration": 5,
    "start_time": "2023-02-17T09:45:59.670Z"
   },
   {
    "duration": 13,
    "start_time": "2023-02-17T09:45:59.679Z"
   },
   {
    "duration": 65,
    "start_time": "2023-02-17T09:45:59.694Z"
   },
   {
    "duration": 13,
    "start_time": "2023-02-17T09:45:59.762Z"
   },
   {
    "duration": 28,
    "start_time": "2023-02-17T09:45:59.780Z"
   },
   {
    "duration": 15,
    "start_time": "2023-02-17T09:45:59.810Z"
   },
   {
    "duration": 8,
    "start_time": "2023-02-17T09:45:59.827Z"
   },
   {
    "duration": 26,
    "start_time": "2023-02-17T09:45:59.837Z"
   },
   {
    "duration": 7,
    "start_time": "2023-02-17T09:45:59.868Z"
   },
   {
    "duration": 798,
    "start_time": "2023-02-17T09:45:59.878Z"
   },
   {
    "duration": 800,
    "start_time": "2023-02-17T09:46:00.678Z"
   },
   {
    "duration": 790,
    "start_time": "2023-02-17T09:46:01.480Z"
   },
   {
    "duration": 55,
    "start_time": "2023-02-18T06:01:30.205Z"
   },
   {
    "duration": 1749,
    "start_time": "2023-02-18T06:01:36.162Z"
   },
   {
    "duration": 4,
    "start_time": "2023-02-18T06:01:37.913Z"
   },
   {
    "duration": 1126,
    "start_time": "2023-02-18T06:01:37.919Z"
   },
   {
    "duration": 45,
    "start_time": "2023-02-18T06:01:39.047Z"
   },
   {
    "duration": 5,
    "start_time": "2023-02-18T06:01:39.095Z"
   },
   {
    "duration": 26,
    "start_time": "2023-02-18T06:01:39.102Z"
   },
   {
    "duration": 29,
    "start_time": "2023-02-18T06:01:39.130Z"
   },
   {
    "duration": 13,
    "start_time": "2023-02-18T06:01:39.161Z"
   },
   {
    "duration": 179,
    "start_time": "2023-02-18T06:01:39.176Z"
   },
   {
    "duration": 171,
    "start_time": "2023-02-18T06:01:39.357Z"
   },
   {
    "duration": 36,
    "start_time": "2023-02-18T06:01:39.530Z"
   },
   {
    "duration": 18,
    "start_time": "2023-02-18T06:01:39.568Z"
   },
   {
    "duration": 18,
    "start_time": "2023-02-18T06:01:39.588Z"
   },
   {
    "duration": 4,
    "start_time": "2023-02-18T06:01:39.610Z"
   },
   {
    "duration": 38,
    "start_time": "2023-02-18T06:01:39.616Z"
   },
   {
    "duration": 99,
    "start_time": "2023-02-18T06:01:39.656Z"
   },
   {
    "duration": 113,
    "start_time": "2023-02-18T06:01:39.765Z"
   },
   {
    "duration": 276,
    "start_time": "2023-02-18T06:01:39.883Z"
   },
   {
    "duration": 89,
    "start_time": "2023-02-18T06:01:40.164Z"
   },
   {
    "duration": 10,
    "start_time": "2023-02-18T06:01:40.255Z"
   },
   {
    "duration": 13,
    "start_time": "2023-02-18T06:01:40.267Z"
   },
   {
    "duration": 6,
    "start_time": "2023-02-18T06:01:40.282Z"
   },
   {
    "duration": 10,
    "start_time": "2023-02-18T06:01:40.290Z"
   },
   {
    "duration": 10,
    "start_time": "2023-02-18T06:01:40.302Z"
   },
   {
    "duration": 9,
    "start_time": "2023-02-18T06:01:40.314Z"
   },
   {
    "duration": 43,
    "start_time": "2023-02-18T06:01:40.325Z"
   },
   {
    "duration": 6,
    "start_time": "2023-02-18T06:01:40.370Z"
   },
   {
    "duration": 756,
    "start_time": "2023-02-18T06:01:40.377Z"
   },
   {
    "duration": 746,
    "start_time": "2023-02-18T06:01:41.135Z"
   },
   {
    "duration": 752,
    "start_time": "2023-02-18T06:01:41.883Z"
   },
   {
    "duration": 11,
    "start_time": "2023-02-18T06:03:12.222Z"
   },
   {
    "duration": 10,
    "start_time": "2023-02-18T06:03:24.279Z"
   },
   {
    "duration": 11,
    "start_time": "2023-02-18T06:03:47.216Z"
   },
   {
    "duration": 25,
    "start_time": "2023-02-18T06:04:17.502Z"
   },
   {
    "duration": 124,
    "start_time": "2023-02-18T06:04:36.814Z"
   },
   {
    "duration": 13,
    "start_time": "2023-02-18T06:04:55.875Z"
   },
   {
    "duration": 15,
    "start_time": "2023-02-18T06:05:16.375Z"
   },
   {
    "duration": 21,
    "start_time": "2023-02-18T06:05:45.564Z"
   },
   {
    "duration": 29,
    "start_time": "2023-02-18T06:05:54.905Z"
   },
   {
    "duration": 902,
    "start_time": "2023-02-18T06:58:21.191Z"
   },
   {
    "duration": 10,
    "start_time": "2023-02-18T06:58:52.293Z"
   },
   {
    "duration": 81,
    "start_time": "2023-02-18T06:59:33.564Z"
   },
   {
    "duration": 9,
    "start_time": "2023-02-18T06:59:45.671Z"
   },
   {
    "duration": 10,
    "start_time": "2023-02-18T07:16:50.043Z"
   },
   {
    "duration": 13,
    "start_time": "2023-02-18T07:18:20.986Z"
   },
   {
    "duration": 10,
    "start_time": "2023-02-18T07:18:46.483Z"
   },
   {
    "duration": 13,
    "start_time": "2023-02-18T07:27:26.517Z"
   },
   {
    "duration": 13,
    "start_time": "2023-02-18T07:27:34.949Z"
   },
   {
    "duration": 5,
    "start_time": "2023-02-18T07:28:20.853Z"
   },
   {
    "duration": 4,
    "start_time": "2023-02-18T07:29:09.787Z"
   },
   {
    "duration": 4,
    "start_time": "2023-02-18T07:29:26.134Z"
   },
   {
    "duration": 9,
    "start_time": "2023-02-18T07:29:42.356Z"
   },
   {
    "duration": 76,
    "start_time": "2023-02-18T07:29:55.547Z"
   },
   {
    "duration": 9,
    "start_time": "2023-02-18T07:29:59.222Z"
   },
   {
    "duration": 8,
    "start_time": "2023-02-18T07:30:10.226Z"
   },
   {
    "duration": 5,
    "start_time": "2023-02-18T07:30:35.620Z"
   },
   {
    "duration": 4,
    "start_time": "2023-02-18T08:22:47.325Z"
   },
   {
    "duration": 12,
    "start_time": "2023-02-18T08:22:48.543Z"
   },
   {
    "duration": 5,
    "start_time": "2023-02-18T08:23:37.802Z"
   },
   {
    "duration": 4,
    "start_time": "2023-02-18T08:23:48.669Z"
   },
   {
    "duration": 21,
    "start_time": "2023-02-18T08:23:50.338Z"
   },
   {
    "duration": 5,
    "start_time": "2023-02-18T08:24:12.473Z"
   },
   {
    "duration": 28,
    "start_time": "2023-02-18T08:24:12.918Z"
   },
   {
    "duration": 83,
    "start_time": "2023-02-18T08:26:21.605Z"
   },
   {
    "duration": 9,
    "start_time": "2023-02-18T08:26:26.139Z"
   },
   {
    "duration": 9,
    "start_time": "2023-02-18T08:26:32.981Z"
   },
   {
    "duration": 10,
    "start_time": "2023-02-18T08:26:53.020Z"
   },
   {
    "duration": 14,
    "start_time": "2023-02-18T08:27:08.627Z"
   },
   {
    "duration": 6,
    "start_time": "2023-02-18T08:30:11.016Z"
   },
   {
    "duration": 78,
    "start_time": "2023-02-18T08:30:11.686Z"
   },
   {
    "duration": 4,
    "start_time": "2023-02-18T08:30:34.804Z"
   },
   {
    "duration": 33,
    "start_time": "2023-02-18T08:30:35.438Z"
   },
   {
    "duration": 3,
    "start_time": "2023-02-18T08:30:44.965Z"
   },
   {
    "duration": 20,
    "start_time": "2023-02-18T08:30:47.723Z"
   },
   {
    "duration": 14,
    "start_time": "2023-02-18T08:31:18.486Z"
   },
   {
    "duration": 8,
    "start_time": "2023-02-18T08:31:27.322Z"
   },
   {
    "duration": 5,
    "start_time": "2023-02-18T08:33:06.884Z"
   },
   {
    "duration": 44,
    "start_time": "2023-02-18T08:33:07.333Z"
   },
   {
    "duration": 27,
    "start_time": "2023-02-18T08:33:09.267Z"
   },
   {
    "duration": 32,
    "start_time": "2023-02-18T08:33:10.367Z"
   },
   {
    "duration": 8,
    "start_time": "2023-02-18T08:33:20.531Z"
   },
   {
    "duration": 4,
    "start_time": "2023-02-18T08:33:39.367Z"
   },
   {
    "duration": 25,
    "start_time": "2023-02-18T08:33:41.648Z"
   },
   {
    "duration": 11,
    "start_time": "2023-02-18T08:33:47.952Z"
   },
   {
    "duration": 1407,
    "start_time": "2023-02-18T08:35:52.979Z"
   },
   {
    "duration": 4,
    "start_time": "2023-02-18T08:35:54.388Z"
   },
   {
    "duration": 408,
    "start_time": "2023-02-18T08:35:54.394Z"
   },
   {
    "duration": 60,
    "start_time": "2023-02-18T08:35:54.804Z"
   },
   {
    "duration": 4,
    "start_time": "2023-02-18T08:35:54.867Z"
   },
   {
    "duration": 18,
    "start_time": "2023-02-18T08:35:54.873Z"
   },
   {
    "duration": 10,
    "start_time": "2023-02-18T08:35:54.893Z"
   },
   {
    "duration": 30,
    "start_time": "2023-02-18T08:35:54.904Z"
   },
   {
    "duration": 135,
    "start_time": "2023-02-18T08:35:54.936Z"
   },
   {
    "duration": 154,
    "start_time": "2023-02-18T08:35:55.073Z"
   },
   {
    "duration": 38,
    "start_time": "2023-02-18T08:35:55.229Z"
   },
   {
    "duration": 18,
    "start_time": "2023-02-18T08:35:55.269Z"
   },
   {
    "duration": 16,
    "start_time": "2023-02-18T08:35:55.289Z"
   },
   {
    "duration": 11,
    "start_time": "2023-02-18T08:35:55.308Z"
   },
   {
    "duration": 12,
    "start_time": "2023-02-18T08:35:55.320Z"
   },
   {
    "duration": 45,
    "start_time": "2023-02-18T08:35:55.333Z"
   },
   {
    "duration": 135,
    "start_time": "2023-02-18T08:35:55.453Z"
   },
   {
    "duration": 115,
    "start_time": "2023-02-18T08:35:55.659Z"
   },
   {
    "duration": 84,
    "start_time": "2023-02-18T08:35:55.777Z"
   },
   {
    "duration": 96,
    "start_time": "2023-02-18T08:35:55.864Z"
   },
   {
    "duration": 14,
    "start_time": "2023-02-18T08:35:55.963Z"
   },
   {
    "duration": 7,
    "start_time": "2023-02-18T08:35:55.979Z"
   },
   {
    "duration": 7,
    "start_time": "2023-02-18T08:35:55.989Z"
   },
   {
    "duration": 40,
    "start_time": "2023-02-18T08:35:55.998Z"
   },
   {
    "duration": 4,
    "start_time": "2023-02-18T08:35:56.041Z"
   },
   {
    "duration": 25,
    "start_time": "2023-02-18T08:35:56.047Z"
   },
   {
    "duration": 7,
    "start_time": "2023-02-18T08:35:56.074Z"
   },
   {
    "duration": 725,
    "start_time": "2023-02-18T08:35:56.083Z"
   },
   {
    "duration": 730,
    "start_time": "2023-02-18T08:35:56.810Z"
   },
   {
    "duration": 653,
    "start_time": "2023-02-18T08:35:57.542Z"
   },
   {
    "duration": 10,
    "start_time": "2023-02-18T08:36:41.065Z"
   },
   {
    "duration": 11,
    "start_time": "2023-02-18T08:37:55.312Z"
   },
   {
    "duration": 1423,
    "start_time": "2023-02-18T08:38:38.227Z"
   },
   {
    "duration": 13,
    "start_time": "2023-02-18T08:38:39.652Z"
   },
   {
    "duration": 423,
    "start_time": "2023-02-18T08:38:39.667Z"
   },
   {
    "duration": 39,
    "start_time": "2023-02-18T08:38:40.092Z"
   },
   {
    "duration": 4,
    "start_time": "2023-02-18T08:38:40.134Z"
   },
   {
    "duration": 31,
    "start_time": "2023-02-18T08:38:40.140Z"
   },
   {
    "duration": 17,
    "start_time": "2023-02-18T08:38:40.173Z"
   },
   {
    "duration": 23,
    "start_time": "2023-02-18T08:38:40.191Z"
   },
   {
    "duration": 123,
    "start_time": "2023-02-18T08:38:40.215Z"
   },
   {
    "duration": 153,
    "start_time": "2023-02-18T08:38:40.340Z"
   },
   {
    "duration": 17,
    "start_time": "2023-02-18T08:38:40.494Z"
   },
   {
    "duration": 16,
    "start_time": "2023-02-18T08:38:40.513Z"
   },
   {
    "duration": 43,
    "start_time": "2023-02-18T08:38:40.531Z"
   },
   {
    "duration": 3,
    "start_time": "2023-02-18T08:38:40.577Z"
   },
   {
    "duration": 6,
    "start_time": "2023-02-18T08:38:40.581Z"
   },
   {
    "duration": 79,
    "start_time": "2023-02-18T08:38:40.589Z"
   },
   {
    "duration": 193,
    "start_time": "2023-02-18T08:38:40.670Z"
   },
   {
    "duration": 108,
    "start_time": "2023-02-18T08:38:40.873Z"
   },
   {
    "duration": 101,
    "start_time": "2023-02-18T08:38:41.054Z"
   },
   {
    "duration": 19,
    "start_time": "2023-02-18T08:38:41.157Z"
   },
   {
    "duration": 10,
    "start_time": "2023-02-18T08:38:41.178Z"
   },
   {
    "duration": 10,
    "start_time": "2023-02-18T08:38:41.190Z"
   },
   {
    "duration": 7,
    "start_time": "2023-02-18T08:38:41.201Z"
   },
   {
    "duration": 20,
    "start_time": "2023-02-18T08:38:41.210Z"
   },
   {
    "duration": 11,
    "start_time": "2023-02-18T08:38:41.231Z"
   },
   {
    "duration": 20,
    "start_time": "2023-02-18T08:38:41.244Z"
   },
   {
    "duration": 9,
    "start_time": "2023-02-18T08:38:41.266Z"
   },
   {
    "duration": 693,
    "start_time": "2023-02-18T08:38:41.276Z"
   },
   {
    "duration": 694,
    "start_time": "2023-02-18T08:38:41.971Z"
   },
   {
    "duration": 667,
    "start_time": "2023-02-18T08:38:42.667Z"
   },
   {
    "duration": 1471,
    "start_time": "2023-02-18T08:44:35.327Z"
   },
   {
    "duration": 3,
    "start_time": "2023-02-18T08:44:36.800Z"
   },
   {
    "duration": 443,
    "start_time": "2023-02-18T08:44:36.805Z"
   },
   {
    "duration": 55,
    "start_time": "2023-02-18T08:44:37.251Z"
   },
   {
    "duration": 5,
    "start_time": "2023-02-18T08:44:37.309Z"
   },
   {
    "duration": 45,
    "start_time": "2023-02-18T08:44:37.315Z"
   },
   {
    "duration": 22,
    "start_time": "2023-02-18T08:44:37.369Z"
   },
   {
    "duration": 27,
    "start_time": "2023-02-18T08:44:37.393Z"
   },
   {
    "duration": 167,
    "start_time": "2023-02-18T08:44:37.422Z"
   },
   {
    "duration": 168,
    "start_time": "2023-02-18T08:44:37.592Z"
   },
   {
    "duration": 19,
    "start_time": "2023-02-18T08:44:37.764Z"
   },
   {
    "duration": 17,
    "start_time": "2023-02-18T08:44:37.785Z"
   },
   {
    "duration": 27,
    "start_time": "2023-02-18T08:44:37.803Z"
   },
   {
    "duration": 8,
    "start_time": "2023-02-18T08:44:37.832Z"
   },
   {
    "duration": 15,
    "start_time": "2023-02-18T08:44:37.852Z"
   },
   {
    "duration": 96,
    "start_time": "2023-02-18T08:44:37.869Z"
   },
   {
    "duration": 112,
    "start_time": "2023-02-18T08:44:37.967Z"
   },
   {
    "duration": 120,
    "start_time": "2023-02-18T08:44:38.154Z"
   },
   {
    "duration": 78,
    "start_time": "2023-02-18T08:44:38.277Z"
   },
   {
    "duration": 98,
    "start_time": "2023-02-18T08:44:38.357Z"
   },
   {
    "duration": 12,
    "start_time": "2023-02-18T08:44:38.456Z"
   },
   {
    "duration": 16,
    "start_time": "2023-02-18T08:44:38.470Z"
   },
   {
    "duration": 20,
    "start_time": "2023-02-18T08:44:38.488Z"
   },
   {
    "duration": 21,
    "start_time": "2023-02-18T08:44:38.510Z"
   },
   {
    "duration": 5,
    "start_time": "2023-02-18T08:44:38.533Z"
   },
   {
    "duration": 21,
    "start_time": "2023-02-18T08:44:38.540Z"
   },
   {
    "duration": 6,
    "start_time": "2023-02-18T08:44:38.562Z"
   },
   {
    "duration": 673,
    "start_time": "2023-02-18T08:44:38.571Z"
   },
   {
    "duration": 704,
    "start_time": "2023-02-18T08:44:39.245Z"
   },
   {
    "duration": 662,
    "start_time": "2023-02-18T08:44:39.953Z"
   },
   {
    "duration": 127,
    "start_time": "2023-02-18T08:47:07.332Z"
   },
   {
    "duration": 6,
    "start_time": "2023-02-18T08:47:47.399Z"
   },
   {
    "duration": 118,
    "start_time": "2023-02-18T08:47:49.342Z"
   },
   {
    "duration": 10,
    "start_time": "2023-02-18T08:47:51.029Z"
   },
   {
    "duration": 4,
    "start_time": "2023-02-18T08:48:00.140Z"
   },
   {
    "duration": 10,
    "start_time": "2023-02-18T08:48:02.633Z"
   },
   {
    "duration": 13,
    "start_time": "2023-02-18T08:55:41.780Z"
   },
   {
    "duration": 7,
    "start_time": "2023-02-18T08:56:21.137Z"
   },
   {
    "duration": 15,
    "start_time": "2023-02-18T08:57:05.044Z"
   },
   {
    "duration": 8,
    "start_time": "2023-02-18T08:57:13.514Z"
   },
   {
    "duration": 17,
    "start_time": "2023-02-18T08:57:49.986Z"
   },
   {
    "duration": 1469,
    "start_time": "2023-02-18T08:58:24.724Z"
   },
   {
    "duration": 3,
    "start_time": "2023-02-18T08:58:26.195Z"
   },
   {
    "duration": 408,
    "start_time": "2023-02-18T08:58:26.199Z"
   },
   {
    "duration": 48,
    "start_time": "2023-02-18T08:58:26.609Z"
   },
   {
    "duration": 4,
    "start_time": "2023-02-18T08:58:26.660Z"
   },
   {
    "duration": 16,
    "start_time": "2023-02-18T08:58:26.666Z"
   },
   {
    "duration": 10,
    "start_time": "2023-02-18T08:58:26.684Z"
   },
   {
    "duration": 10,
    "start_time": "2023-02-18T08:58:26.695Z"
   },
   {
    "duration": 153,
    "start_time": "2023-02-18T08:58:26.706Z"
   },
   {
    "duration": 130,
    "start_time": "2023-02-18T08:58:26.861Z"
   },
   {
    "duration": 16,
    "start_time": "2023-02-18T08:58:26.993Z"
   },
   {
    "duration": 15,
    "start_time": "2023-02-18T08:58:27.010Z"
   },
   {
    "duration": 39,
    "start_time": "2023-02-18T08:58:27.027Z"
   },
   {
    "duration": 3,
    "start_time": "2023-02-18T08:58:27.069Z"
   },
   {
    "duration": 8,
    "start_time": "2023-02-18T08:58:27.073Z"
   },
   {
    "duration": 73,
    "start_time": "2023-02-18T08:58:27.082Z"
   },
   {
    "duration": 122,
    "start_time": "2023-02-18T08:58:27.157Z"
   },
   {
    "duration": 125,
    "start_time": "2023-02-18T08:58:27.355Z"
   },
   {
    "duration": 71,
    "start_time": "2023-02-18T08:58:27.482Z"
   },
   {
    "duration": 4,
    "start_time": "2023-02-18T08:58:27.556Z"
   },
   {
    "duration": 99,
    "start_time": "2023-02-18T08:58:27.562Z"
   },
   {
    "duration": 20,
    "start_time": "2023-02-18T08:58:27.663Z"
   },
   {
    "duration": 9,
    "start_time": "2023-02-18T08:58:27.684Z"
   },
   {
    "duration": 18,
    "start_time": "2023-02-18T08:58:27.694Z"
   },
   {
    "duration": 3,
    "start_time": "2023-02-18T08:58:27.714Z"
   },
   {
    "duration": 21,
    "start_time": "2023-02-18T08:58:27.719Z"
   },
   {
    "duration": 7,
    "start_time": "2023-02-18T08:58:27.754Z"
   },
   {
    "duration": 770,
    "start_time": "2023-02-18T08:58:27.764Z"
   },
   {
    "duration": 628,
    "start_time": "2023-02-18T08:58:28.536Z"
   },
   {
    "duration": 717,
    "start_time": "2023-02-18T08:58:29.167Z"
   },
   {
    "duration": 9,
    "start_time": "2023-02-18T08:59:30.445Z"
   },
   {
    "duration": 17,
    "start_time": "2023-02-18T08:59:52.366Z"
   },
   {
    "duration": 9,
    "start_time": "2023-02-18T09:00:33.999Z"
   },
   {
    "duration": 9,
    "start_time": "2023-02-18T09:00:53.499Z"
   },
   {
    "duration": 9,
    "start_time": "2023-02-18T09:01:11.502Z"
   },
   {
    "duration": 10,
    "start_time": "2023-02-18T09:01:29.458Z"
   },
   {
    "duration": 1398,
    "start_time": "2023-02-18T09:01:40.507Z"
   },
   {
    "duration": 4,
    "start_time": "2023-02-18T09:01:41.908Z"
   },
   {
    "duration": 425,
    "start_time": "2023-02-18T09:01:41.914Z"
   },
   {
    "duration": 46,
    "start_time": "2023-02-18T09:01:42.341Z"
   },
   {
    "duration": 5,
    "start_time": "2023-02-18T09:01:42.389Z"
   },
   {
    "duration": 17,
    "start_time": "2023-02-18T09:01:42.395Z"
   },
   {
    "duration": 10,
    "start_time": "2023-02-18T09:01:42.414Z"
   },
   {
    "duration": 10,
    "start_time": "2023-02-18T09:01:42.453Z"
   },
   {
    "duration": 133,
    "start_time": "2023-02-18T09:01:42.465Z"
   },
   {
    "duration": 156,
    "start_time": "2023-02-18T09:01:42.600Z"
   },
   {
    "duration": 18,
    "start_time": "2023-02-18T09:01:42.758Z"
   },
   {
    "duration": 18,
    "start_time": "2023-02-18T09:01:42.778Z"
   },
   {
    "duration": 17,
    "start_time": "2023-02-18T09:01:42.798Z"
   },
   {
    "duration": 35,
    "start_time": "2023-02-18T09:01:42.818Z"
   },
   {
    "duration": 5,
    "start_time": "2023-02-18T09:01:42.855Z"
   },
   {
    "duration": 93,
    "start_time": "2023-02-18T09:01:42.862Z"
   },
   {
    "duration": 194,
    "start_time": "2023-02-18T09:01:42.958Z"
   },
   {
    "duration": 123,
    "start_time": "2023-02-18T09:01:43.155Z"
   },
   {
    "duration": 78,
    "start_time": "2023-02-18T09:01:43.281Z"
   },
   {
    "duration": 108,
    "start_time": "2023-02-18T09:01:43.361Z"
   },
   {
    "duration": 12,
    "start_time": "2023-02-18T09:01:43.471Z"
   },
   {
    "duration": 6,
    "start_time": "2023-02-18T09:01:43.485Z"
   },
   {
    "duration": 10,
    "start_time": "2023-02-18T09:01:43.493Z"
   },
   {
    "duration": 14,
    "start_time": "2023-02-18T09:01:43.505Z"
   },
   {
    "duration": 3,
    "start_time": "2023-02-18T09:01:43.521Z"
   },
   {
    "duration": 34,
    "start_time": "2023-02-18T09:01:43.526Z"
   },
   {
    "duration": 4,
    "start_time": "2023-02-18T09:01:43.562Z"
   },
   {
    "duration": 671,
    "start_time": "2023-02-18T09:01:43.568Z"
   },
   {
    "duration": 656,
    "start_time": "2023-02-18T09:01:44.241Z"
   },
   {
    "duration": 673,
    "start_time": "2023-02-18T09:01:44.899Z"
   },
   {
    "duration": 5,
    "start_time": "2023-02-18T09:03:09.635Z"
   },
   {
    "duration": 6,
    "start_time": "2023-02-18T09:03:41.030Z"
   },
   {
    "duration": 9,
    "start_time": "2023-02-18T09:04:24.890Z"
   },
   {
    "duration": 8,
    "start_time": "2023-02-18T09:04:38.641Z"
   },
   {
    "duration": 5,
    "start_time": "2023-02-18T09:04:50.634Z"
   },
   {
    "duration": 106,
    "start_time": "2023-02-18T09:04:51.246Z"
   },
   {
    "duration": 8,
    "start_time": "2023-02-18T09:04:52.724Z"
   },
   {
    "duration": 8,
    "start_time": "2023-02-18T09:04:56.927Z"
   },
   {
    "duration": 1446,
    "start_time": "2023-02-18T09:08:49.774Z"
   },
   {
    "duration": 3,
    "start_time": "2023-02-18T09:08:51.222Z"
   },
   {
    "duration": 420,
    "start_time": "2023-02-18T09:08:51.226Z"
   },
   {
    "duration": 45,
    "start_time": "2023-02-18T09:08:51.649Z"
   },
   {
    "duration": 5,
    "start_time": "2023-02-18T09:08:51.696Z"
   },
   {
    "duration": 27,
    "start_time": "2023-02-18T09:08:51.703Z"
   },
   {
    "duration": 23,
    "start_time": "2023-02-18T09:08:51.733Z"
   },
   {
    "duration": 14,
    "start_time": "2023-02-18T09:08:51.758Z"
   },
   {
    "duration": 144,
    "start_time": "2023-02-18T09:08:51.775Z"
   },
   {
    "duration": 172,
    "start_time": "2023-02-18T09:08:51.921Z"
   },
   {
    "duration": 23,
    "start_time": "2023-02-18T09:08:52.095Z"
   },
   {
    "duration": 40,
    "start_time": "2023-02-18T09:08:52.121Z"
   },
   {
    "duration": 20,
    "start_time": "2023-02-18T09:08:52.163Z"
   },
   {
    "duration": 3,
    "start_time": "2023-02-18T09:08:52.186Z"
   },
   {
    "duration": 6,
    "start_time": "2023-02-18T09:08:52.191Z"
   },
   {
    "duration": 60,
    "start_time": "2023-02-18T09:08:52.199Z"
   },
   {
    "duration": 103,
    "start_time": "2023-02-18T09:08:52.261Z"
   },
   {
    "duration": 8,
    "start_time": "2023-02-18T09:08:52.366Z"
   },
   {
    "duration": 176,
    "start_time": "2023-02-18T09:08:52.376Z"
   },
   {
    "duration": 98,
    "start_time": "2023-02-18T09:08:52.555Z"
   },
   {
    "duration": 5,
    "start_time": "2023-02-18T09:08:52.656Z"
   },
   {
    "duration": 112,
    "start_time": "2023-02-18T09:08:52.664Z"
   },
   {
    "duration": 18,
    "start_time": "2023-02-18T09:08:52.778Z"
   },
   {
    "duration": 7,
    "start_time": "2023-02-18T09:08:52.797Z"
   },
   {
    "duration": 7,
    "start_time": "2023-02-18T09:08:52.806Z"
   },
   {
    "duration": 138,
    "start_time": "2023-02-18T09:08:52.815Z"
   },
   {
    "duration": 0,
    "start_time": "2023-02-18T09:08:52.955Z"
   },
   {
    "duration": 0,
    "start_time": "2023-02-18T09:08:52.956Z"
   },
   {
    "duration": 0,
    "start_time": "2023-02-18T09:08:52.957Z"
   },
   {
    "duration": 0,
    "start_time": "2023-02-18T09:08:52.958Z"
   },
   {
    "duration": 0,
    "start_time": "2023-02-18T09:08:52.959Z"
   },
   {
    "duration": 0,
    "start_time": "2023-02-18T09:08:52.961Z"
   },
   {
    "duration": 1461,
    "start_time": "2023-02-18T09:09:16.985Z"
   },
   {
    "duration": 3,
    "start_time": "2023-02-18T09:09:18.448Z"
   },
   {
    "duration": 396,
    "start_time": "2023-02-18T09:09:18.453Z"
   },
   {
    "duration": 41,
    "start_time": "2023-02-18T09:09:18.854Z"
   },
   {
    "duration": 4,
    "start_time": "2023-02-18T09:09:18.897Z"
   },
   {
    "duration": 16,
    "start_time": "2023-02-18T09:09:18.902Z"
   },
   {
    "duration": 35,
    "start_time": "2023-02-18T09:09:18.920Z"
   },
   {
    "duration": 13,
    "start_time": "2023-02-18T09:09:18.957Z"
   },
   {
    "duration": 131,
    "start_time": "2023-02-18T09:09:18.971Z"
   },
   {
    "duration": 150,
    "start_time": "2023-02-18T09:09:19.104Z"
   },
   {
    "duration": 18,
    "start_time": "2023-02-18T09:09:19.256Z"
   },
   {
    "duration": 16,
    "start_time": "2023-02-18T09:09:19.275Z"
   },
   {
    "duration": 17,
    "start_time": "2023-02-18T09:09:19.292Z"
   },
   {
    "duration": 2,
    "start_time": "2023-02-18T09:09:19.312Z"
   },
   {
    "duration": 41,
    "start_time": "2023-02-18T09:09:19.315Z"
   },
   {
    "duration": 99,
    "start_time": "2023-02-18T09:09:19.358Z"
   },
   {
    "duration": 99,
    "start_time": "2023-02-18T09:09:19.459Z"
   },
   {
    "duration": 9,
    "start_time": "2023-02-18T09:09:19.560Z"
   },
   {
    "duration": 85,
    "start_time": "2023-02-18T09:09:19.571Z"
   },
   {
    "duration": 122,
    "start_time": "2023-02-18T09:09:19.658Z"
   },
   {
    "duration": 5,
    "start_time": "2023-02-18T09:09:19.853Z"
   },
   {
    "duration": 95,
    "start_time": "2023-02-18T09:09:19.860Z"
   },
   {
    "duration": 11,
    "start_time": "2023-02-18T09:09:19.957Z"
   },
   {
    "duration": 16,
    "start_time": "2023-02-18T09:09:19.970Z"
   },
   {
    "duration": 7,
    "start_time": "2023-02-18T09:09:19.988Z"
   },
   {
    "duration": 15,
    "start_time": "2023-02-18T09:09:19.997Z"
   },
   {
    "duration": 7,
    "start_time": "2023-02-18T09:09:20.014Z"
   },
   {
    "duration": 135,
    "start_time": "2023-02-18T09:09:20.023Z"
   },
   {
    "duration": 0,
    "start_time": "2023-02-18T09:09:20.160Z"
   },
   {
    "duration": 0,
    "start_time": "2023-02-18T09:09:20.161Z"
   },
   {
    "duration": 0,
    "start_time": "2023-02-18T09:09:20.162Z"
   },
   {
    "duration": 0,
    "start_time": "2023-02-18T09:09:20.163Z"
   },
   {
    "duration": 1486,
    "start_time": "2023-02-18T09:11:05.125Z"
   },
   {
    "duration": 3,
    "start_time": "2023-02-18T09:11:06.613Z"
   },
   {
    "duration": 423,
    "start_time": "2023-02-18T09:11:06.618Z"
   },
   {
    "duration": 46,
    "start_time": "2023-02-18T09:11:07.042Z"
   },
   {
    "duration": 5,
    "start_time": "2023-02-18T09:11:07.091Z"
   },
   {
    "duration": 24,
    "start_time": "2023-02-18T09:11:07.098Z"
   },
   {
    "duration": 31,
    "start_time": "2023-02-18T09:11:07.124Z"
   },
   {
    "duration": 11,
    "start_time": "2023-02-18T09:11:07.157Z"
   },
   {
    "duration": 131,
    "start_time": "2023-02-18T09:11:07.169Z"
   },
   {
    "duration": 135,
    "start_time": "2023-02-18T09:11:07.302Z"
   },
   {
    "duration": 27,
    "start_time": "2023-02-18T09:11:07.439Z"
   },
   {
    "duration": 17,
    "start_time": "2023-02-18T09:11:07.468Z"
   },
   {
    "duration": 19,
    "start_time": "2023-02-18T09:11:07.487Z"
   },
   {
    "duration": 5,
    "start_time": "2023-02-18T09:11:07.510Z"
   },
   {
    "duration": 13,
    "start_time": "2023-02-18T09:11:07.517Z"
   },
   {
    "duration": 100,
    "start_time": "2023-02-18T09:11:07.554Z"
   },
   {
    "duration": 99,
    "start_time": "2023-02-18T09:11:07.657Z"
   },
   {
    "duration": 9,
    "start_time": "2023-02-18T09:11:07.758Z"
   },
   {
    "duration": 87,
    "start_time": "2023-02-18T09:11:07.768Z"
   },
   {
    "duration": 118,
    "start_time": "2023-02-18T09:11:07.857Z"
   },
   {
    "duration": 78,
    "start_time": "2023-02-18T09:11:07.978Z"
   },
   {
    "duration": 101,
    "start_time": "2023-02-18T09:11:08.059Z"
   },
   {
    "duration": 16,
    "start_time": "2023-02-18T09:11:08.162Z"
   },
   {
    "duration": 7,
    "start_time": "2023-02-18T09:11:08.180Z"
   },
   {
    "duration": 14,
    "start_time": "2023-02-18T09:11:08.189Z"
   },
   {
    "duration": 10,
    "start_time": "2023-02-18T09:11:08.204Z"
   },
   {
    "duration": 9,
    "start_time": "2023-02-18T09:11:08.217Z"
   },
   {
    "duration": 32,
    "start_time": "2023-02-18T09:11:08.227Z"
   },
   {
    "duration": 6,
    "start_time": "2023-02-18T09:11:08.261Z"
   },
   {
    "duration": 645,
    "start_time": "2023-02-18T09:11:08.269Z"
   },
   {
    "duration": 612,
    "start_time": "2023-02-18T09:11:08.915Z"
   },
   {
    "duration": 652,
    "start_time": "2023-02-18T09:11:09.529Z"
   },
   {
    "duration": 10,
    "start_time": "2023-02-18T09:12:03.070Z"
   },
   {
    "duration": 1362,
    "start_time": "2023-02-18T09:12:22.091Z"
   },
   {
    "duration": 3,
    "start_time": "2023-02-18T09:12:23.455Z"
   },
   {
    "duration": 393,
    "start_time": "2023-02-18T09:12:23.460Z"
   },
   {
    "duration": 39,
    "start_time": "2023-02-18T09:12:23.855Z"
   },
   {
    "duration": 4,
    "start_time": "2023-02-18T09:12:23.897Z"
   },
   {
    "duration": 18,
    "start_time": "2023-02-18T09:12:23.902Z"
   },
   {
    "duration": 9,
    "start_time": "2023-02-18T09:12:23.921Z"
   },
   {
    "duration": 9,
    "start_time": "2023-02-18T09:12:23.953Z"
   },
   {
    "duration": 125,
    "start_time": "2023-02-18T09:12:23.964Z"
   },
   {
    "duration": 134,
    "start_time": "2023-02-18T09:12:24.090Z"
   },
   {
    "duration": 28,
    "start_time": "2023-02-18T09:12:24.226Z"
   },
   {
    "duration": 17,
    "start_time": "2023-02-18T09:12:24.256Z"
   },
   {
    "duration": 16,
    "start_time": "2023-02-18T09:12:24.274Z"
   },
   {
    "duration": 2,
    "start_time": "2023-02-18T09:12:24.293Z"
   },
   {
    "duration": 6,
    "start_time": "2023-02-18T09:12:24.296Z"
   },
   {
    "duration": 153,
    "start_time": "2023-02-18T09:12:24.304Z"
   },
   {
    "duration": 96,
    "start_time": "2023-02-18T09:12:24.461Z"
   },
   {
    "duration": 9,
    "start_time": "2023-02-18T09:12:24.559Z"
   },
   {
    "duration": 93,
    "start_time": "2023-02-18T09:12:24.570Z"
   },
   {
    "duration": 186,
    "start_time": "2023-02-18T09:12:24.667Z"
   },
   {
    "duration": 6,
    "start_time": "2023-02-18T09:12:24.856Z"
   },
   {
    "duration": 6,
    "start_time": "2023-02-18T09:12:24.954Z"
   },
   {
    "duration": 14,
    "start_time": "2023-02-18T09:12:24.964Z"
   },
   {
    "duration": 15,
    "start_time": "2023-02-18T09:12:24.979Z"
   },
   {
    "duration": 13,
    "start_time": "2023-02-18T09:12:24.996Z"
   },
   {
    "duration": 27,
    "start_time": "2023-02-18T09:12:25.011Z"
   },
   {
    "duration": 3,
    "start_time": "2023-02-18T09:12:25.040Z"
   },
   {
    "duration": 17,
    "start_time": "2023-02-18T09:12:25.045Z"
   },
   {
    "duration": 5,
    "start_time": "2023-02-18T09:12:25.064Z"
   },
   {
    "duration": 673,
    "start_time": "2023-02-18T09:12:25.071Z"
   },
   {
    "duration": 636,
    "start_time": "2023-02-18T09:12:25.745Z"
   },
   {
    "duration": 634,
    "start_time": "2023-02-18T09:12:26.383Z"
   },
   {
    "duration": 10,
    "start_time": "2023-02-18T09:12:55.446Z"
   },
   {
    "duration": 9,
    "start_time": "2023-02-18T09:13:06.774Z"
   },
   {
    "duration": 11,
    "start_time": "2023-02-18T09:13:25.523Z"
   },
   {
    "duration": 10,
    "start_time": "2023-02-18T09:13:38.565Z"
   },
   {
    "duration": 5,
    "start_time": "2023-02-18T09:18:55.226Z"
   },
   {
    "duration": 54,
    "start_time": "2023-02-18T09:18:56.402Z"
   },
   {
    "duration": 9,
    "start_time": "2023-02-18T09:18:57.756Z"
   },
   {
    "duration": 106,
    "start_time": "2023-02-18T09:18:59.001Z"
   },
   {
    "duration": 1450,
    "start_time": "2023-02-18T09:19:11.227Z"
   },
   {
    "duration": 3,
    "start_time": "2023-02-18T09:19:12.679Z"
   },
   {
    "duration": 397,
    "start_time": "2023-02-18T09:19:12.683Z"
   },
   {
    "duration": 40,
    "start_time": "2023-02-18T09:19:13.082Z"
   },
   {
    "duration": 4,
    "start_time": "2023-02-18T09:19:13.125Z"
   },
   {
    "duration": 31,
    "start_time": "2023-02-18T09:19:13.131Z"
   },
   {
    "duration": 9,
    "start_time": "2023-02-18T09:19:13.164Z"
   },
   {
    "duration": 12,
    "start_time": "2023-02-18T09:19:13.174Z"
   },
   {
    "duration": 131,
    "start_time": "2023-02-18T09:19:13.188Z"
   },
   {
    "duration": 152,
    "start_time": "2023-02-18T09:19:13.320Z"
   },
   {
    "duration": 25,
    "start_time": "2023-02-18T09:19:13.473Z"
   },
   {
    "duration": 17,
    "start_time": "2023-02-18T09:19:13.500Z"
   },
   {
    "duration": 40,
    "start_time": "2023-02-18T09:19:13.519Z"
   },
   {
    "duration": 3,
    "start_time": "2023-02-18T09:19:13.561Z"
   },
   {
    "duration": 7,
    "start_time": "2023-02-18T09:19:13.565Z"
   },
   {
    "duration": 30,
    "start_time": "2023-02-18T09:19:13.573Z"
   },
   {
    "duration": 103,
    "start_time": "2023-02-18T09:19:13.655Z"
   },
   {
    "duration": 121,
    "start_time": "2023-02-18T09:19:13.760Z"
   },
   {
    "duration": 0,
    "start_time": "2023-02-18T09:19:13.883Z"
   },
   {
    "duration": 0,
    "start_time": "2023-02-18T09:19:13.884Z"
   },
   {
    "duration": 0,
    "start_time": "2023-02-18T09:19:13.886Z"
   },
   {
    "duration": 0,
    "start_time": "2023-02-18T09:19:13.888Z"
   },
   {
    "duration": 0,
    "start_time": "2023-02-18T09:19:13.889Z"
   },
   {
    "duration": 0,
    "start_time": "2023-02-18T09:19:13.890Z"
   },
   {
    "duration": 0,
    "start_time": "2023-02-18T09:19:13.891Z"
   },
   {
    "duration": 0,
    "start_time": "2023-02-18T09:19:13.892Z"
   },
   {
    "duration": 0,
    "start_time": "2023-02-18T09:19:13.893Z"
   },
   {
    "duration": 1,
    "start_time": "2023-02-18T09:19:13.894Z"
   },
   {
    "duration": 0,
    "start_time": "2023-02-18T09:19:13.895Z"
   },
   {
    "duration": 1,
    "start_time": "2023-02-18T09:19:13.896Z"
   },
   {
    "duration": 0,
    "start_time": "2023-02-18T09:19:13.897Z"
   },
   {
    "duration": 5,
    "start_time": "2023-02-18T09:20:53.241Z"
   },
   {
    "duration": 29,
    "start_time": "2023-02-18T09:20:53.633Z"
   },
   {
    "duration": 8,
    "start_time": "2023-02-18T09:20:54.854Z"
   },
   {
    "duration": 8,
    "start_time": "2023-02-18T09:20:57.157Z"
   },
   {
    "duration": 6,
    "start_time": "2023-02-18T09:22:32.626Z"
   },
   {
    "duration": 9,
    "start_time": "2023-02-18T09:22:53.838Z"
   },
   {
    "duration": 10,
    "start_time": "2023-02-18T09:23:24.849Z"
   },
   {
    "duration": 11,
    "start_time": "2023-02-18T09:23:26.677Z"
   },
   {
    "duration": 1448,
    "start_time": "2023-02-18T09:23:34.444Z"
   },
   {
    "duration": 4,
    "start_time": "2023-02-18T09:23:35.894Z"
   },
   {
    "duration": 425,
    "start_time": "2023-02-18T09:23:35.899Z"
   },
   {
    "duration": 52,
    "start_time": "2023-02-18T09:23:36.326Z"
   },
   {
    "duration": 4,
    "start_time": "2023-02-18T09:23:36.381Z"
   },
   {
    "duration": 17,
    "start_time": "2023-02-18T09:23:36.386Z"
   },
   {
    "duration": 11,
    "start_time": "2023-02-18T09:23:36.404Z"
   },
   {
    "duration": 39,
    "start_time": "2023-02-18T09:23:36.416Z"
   },
   {
    "duration": 135,
    "start_time": "2023-02-18T09:23:36.456Z"
   },
   {
    "duration": 161,
    "start_time": "2023-02-18T09:23:36.593Z"
   },
   {
    "duration": 17,
    "start_time": "2023-02-18T09:23:36.756Z"
   },
   {
    "duration": 16,
    "start_time": "2023-02-18T09:23:36.774Z"
   },
   {
    "duration": 16,
    "start_time": "2023-02-18T09:23:36.792Z"
   },
   {
    "duration": 3,
    "start_time": "2023-02-18T09:23:36.811Z"
   },
   {
    "duration": 38,
    "start_time": "2023-02-18T09:23:36.815Z"
   },
   {
    "duration": 101,
    "start_time": "2023-02-18T09:23:36.855Z"
   },
   {
    "duration": 212,
    "start_time": "2023-02-18T09:23:36.959Z"
   },
   {
    "duration": 0,
    "start_time": "2023-02-18T09:23:37.173Z"
   },
   {
    "duration": 0,
    "start_time": "2023-02-18T09:23:37.174Z"
   },
   {
    "duration": 0,
    "start_time": "2023-02-18T09:23:37.175Z"
   },
   {
    "duration": 0,
    "start_time": "2023-02-18T09:23:37.177Z"
   },
   {
    "duration": 0,
    "start_time": "2023-02-18T09:23:37.178Z"
   },
   {
    "duration": 0,
    "start_time": "2023-02-18T09:23:37.179Z"
   },
   {
    "duration": 0,
    "start_time": "2023-02-18T09:23:37.181Z"
   },
   {
    "duration": 0,
    "start_time": "2023-02-18T09:23:37.182Z"
   },
   {
    "duration": 0,
    "start_time": "2023-02-18T09:23:37.183Z"
   },
   {
    "duration": 0,
    "start_time": "2023-02-18T09:23:37.184Z"
   },
   {
    "duration": 0,
    "start_time": "2023-02-18T09:23:37.185Z"
   },
   {
    "duration": 0,
    "start_time": "2023-02-18T09:23:37.187Z"
   },
   {
    "duration": 0,
    "start_time": "2023-02-18T09:23:37.188Z"
   },
   {
    "duration": 0,
    "start_time": "2023-02-18T09:23:37.189Z"
   },
   {
    "duration": 1404,
    "start_time": "2023-02-18T09:24:08.394Z"
   },
   {
    "duration": 3,
    "start_time": "2023-02-18T09:24:09.801Z"
   },
   {
    "duration": 401,
    "start_time": "2023-02-18T09:24:09.805Z"
   },
   {
    "duration": 50,
    "start_time": "2023-02-18T09:24:10.208Z"
   },
   {
    "duration": 5,
    "start_time": "2023-02-18T09:24:10.262Z"
   },
   {
    "duration": 16,
    "start_time": "2023-02-18T09:24:10.268Z"
   },
   {
    "duration": 9,
    "start_time": "2023-02-18T09:24:10.286Z"
   },
   {
    "duration": 13,
    "start_time": "2023-02-18T09:24:10.297Z"
   },
   {
    "duration": 170,
    "start_time": "2023-02-18T09:24:10.312Z"
   },
   {
    "duration": 157,
    "start_time": "2023-02-18T09:24:10.483Z"
   },
   {
    "duration": 20,
    "start_time": "2023-02-18T09:24:10.652Z"
   },
   {
    "duration": 22,
    "start_time": "2023-02-18T09:24:10.674Z"
   },
   {
    "duration": 23,
    "start_time": "2023-02-18T09:24:10.698Z"
   },
   {
    "duration": 3,
    "start_time": "2023-02-18T09:24:10.754Z"
   },
   {
    "duration": 7,
    "start_time": "2023-02-18T09:24:10.759Z"
   },
   {
    "duration": 89,
    "start_time": "2023-02-18T09:24:10.768Z"
   },
   {
    "duration": 95,
    "start_time": "2023-02-18T09:24:10.859Z"
   },
   {
    "duration": 20,
    "start_time": "2023-02-18T09:24:10.957Z"
   },
   {
    "duration": 85,
    "start_time": "2023-02-18T09:24:10.979Z"
   },
   {
    "duration": 200,
    "start_time": "2023-02-18T09:24:11.067Z"
   },
   {
    "duration": 4,
    "start_time": "2023-02-18T09:24:11.355Z"
   },
   {
    "duration": 12,
    "start_time": "2023-02-18T09:24:11.361Z"
   },
   {
    "duration": 11,
    "start_time": "2023-02-18T09:24:11.375Z"
   },
   {
    "duration": 6,
    "start_time": "2023-02-18T09:24:11.388Z"
   },
   {
    "duration": 58,
    "start_time": "2023-02-18T09:24:11.395Z"
   },
   {
    "duration": 9,
    "start_time": "2023-02-18T09:24:11.455Z"
   },
   {
    "duration": 21,
    "start_time": "2023-02-18T09:24:11.466Z"
   },
   {
    "duration": 5,
    "start_time": "2023-02-18T09:24:11.489Z"
   },
   {
    "duration": 669,
    "start_time": "2023-02-18T09:24:11.497Z"
   },
   {
    "duration": 641,
    "start_time": "2023-02-18T09:24:12.167Z"
   },
   {
    "duration": 624,
    "start_time": "2023-02-18T09:24:12.809Z"
   },
   {
    "duration": 6,
    "start_time": "2023-02-18T09:26:35.139Z"
   },
   {
    "duration": 9,
    "start_time": "2023-02-18T09:27:13.841Z"
   },
   {
    "duration": 7,
    "start_time": "2023-02-18T09:27:18.962Z"
   },
   {
    "duration": 8,
    "start_time": "2023-02-18T09:27:34.853Z"
   },
   {
    "duration": 10,
    "start_time": "2023-02-18T09:27:52.856Z"
   },
   {
    "duration": 12,
    "start_time": "2023-02-18T09:28:03.173Z"
   },
   {
    "duration": 7,
    "start_time": "2023-02-18T09:28:04.731Z"
   },
   {
    "duration": 1420,
    "start_time": "2023-02-18T09:28:44.975Z"
   },
   {
    "duration": 3,
    "start_time": "2023-02-18T09:28:46.397Z"
   },
   {
    "duration": 424,
    "start_time": "2023-02-18T09:28:46.401Z"
   },
   {
    "duration": 50,
    "start_time": "2023-02-18T09:28:46.826Z"
   },
   {
    "duration": 4,
    "start_time": "2023-02-18T09:28:46.878Z"
   },
   {
    "duration": 20,
    "start_time": "2023-02-18T09:28:46.884Z"
   },
   {
    "duration": 9,
    "start_time": "2023-02-18T09:28:46.906Z"
   },
   {
    "duration": 47,
    "start_time": "2023-02-18T09:28:46.916Z"
   },
   {
    "duration": 138,
    "start_time": "2023-02-18T09:28:46.968Z"
   },
   {
    "duration": 163,
    "start_time": "2023-02-18T09:28:47.108Z"
   },
   {
    "duration": 26,
    "start_time": "2023-02-18T09:28:47.274Z"
   },
   {
    "duration": 27,
    "start_time": "2023-02-18T09:28:47.303Z"
   },
   {
    "duration": 47,
    "start_time": "2023-02-18T09:28:47.332Z"
   },
   {
    "duration": 13,
    "start_time": "2023-02-18T09:28:47.383Z"
   },
   {
    "duration": 28,
    "start_time": "2023-02-18T09:28:47.399Z"
   },
   {
    "duration": 57,
    "start_time": "2023-02-18T09:28:47.430Z"
   },
   {
    "duration": 141,
    "start_time": "2023-02-18T09:28:47.555Z"
   },
   {
    "duration": 202,
    "start_time": "2023-02-18T09:28:47.752Z"
   },
   {
    "duration": 95,
    "start_time": "2023-02-18T09:28:47.959Z"
   },
   {
    "duration": 19,
    "start_time": "2023-02-18T09:28:48.058Z"
   },
   {
    "duration": 10,
    "start_time": "2023-02-18T09:28:48.079Z"
   },
   {
    "duration": 6,
    "start_time": "2023-02-18T09:28:48.090Z"
   },
   {
    "duration": 9,
    "start_time": "2023-02-18T09:28:48.098Z"
   },
   {
    "duration": 4,
    "start_time": "2023-02-18T09:28:48.108Z"
   },
   {
    "duration": 25,
    "start_time": "2023-02-18T09:28:48.113Z"
   },
   {
    "duration": 14,
    "start_time": "2023-02-18T09:28:48.154Z"
   },
   {
    "duration": 712,
    "start_time": "2023-02-18T09:28:48.170Z"
   },
   {
    "duration": 687,
    "start_time": "2023-02-18T09:28:48.884Z"
   },
   {
    "duration": 694,
    "start_time": "2023-02-18T09:28:49.573Z"
   },
   {
    "duration": 14,
    "start_time": "2023-02-18T09:30:43.635Z"
   },
   {
    "duration": 13,
    "start_time": "2023-02-18T09:31:00.289Z"
   },
   {
    "duration": 12,
    "start_time": "2023-02-18T09:31:20.499Z"
   },
   {
    "duration": 11,
    "start_time": "2023-02-18T09:31:35.827Z"
   },
   {
    "duration": 11,
    "start_time": "2023-02-18T09:31:49.087Z"
   },
   {
    "duration": 16,
    "start_time": "2023-02-18T09:32:15.977Z"
   },
   {
    "duration": 1438,
    "start_time": "2023-02-18T09:33:05.156Z"
   },
   {
    "duration": 4,
    "start_time": "2023-02-18T09:33:06.596Z"
   },
   {
    "duration": 386,
    "start_time": "2023-02-18T09:33:06.602Z"
   },
   {
    "duration": 63,
    "start_time": "2023-02-18T09:33:06.990Z"
   },
   {
    "duration": 5,
    "start_time": "2023-02-18T09:33:07.055Z"
   },
   {
    "duration": 31,
    "start_time": "2023-02-18T09:33:07.062Z"
   },
   {
    "duration": 22,
    "start_time": "2023-02-18T09:33:07.095Z"
   },
   {
    "duration": 36,
    "start_time": "2023-02-18T09:33:07.119Z"
   },
   {
    "duration": 152,
    "start_time": "2023-02-18T09:33:07.157Z"
   },
   {
    "duration": 175,
    "start_time": "2023-02-18T09:33:07.312Z"
   },
   {
    "duration": 27,
    "start_time": "2023-02-18T09:33:07.490Z"
   },
   {
    "duration": 47,
    "start_time": "2023-02-18T09:33:07.520Z"
   },
   {
    "duration": 23,
    "start_time": "2023-02-18T09:33:07.569Z"
   },
   {
    "duration": 7,
    "start_time": "2023-02-18T09:33:07.594Z"
   },
   {
    "duration": 18,
    "start_time": "2023-02-18T09:33:07.603Z"
   },
   {
    "duration": 57,
    "start_time": "2023-02-18T09:33:07.623Z"
   },
   {
    "duration": 197,
    "start_time": "2023-02-18T09:33:07.682Z"
   },
   {
    "duration": 272,
    "start_time": "2023-02-18T09:33:07.882Z"
   },
   {
    "duration": 5,
    "start_time": "2023-02-18T09:33:08.156Z"
   },
   {
    "duration": 109,
    "start_time": "2023-02-18T09:33:08.164Z"
   },
   {
    "duration": 26,
    "start_time": "2023-02-18T09:33:08.275Z"
   },
   {
    "duration": 8,
    "start_time": "2023-02-18T09:33:08.303Z"
   },
   {
    "duration": 8,
    "start_time": "2023-02-18T09:33:08.312Z"
   },
   {
    "duration": 31,
    "start_time": "2023-02-18T09:33:08.322Z"
   },
   {
    "duration": 30,
    "start_time": "2023-02-18T09:33:08.355Z"
   },
   {
    "duration": 5,
    "start_time": "2023-02-18T09:33:08.387Z"
   },
   {
    "duration": 712,
    "start_time": "2023-02-18T09:33:08.394Z"
   },
   {
    "duration": 753,
    "start_time": "2023-02-18T09:33:09.110Z"
   },
   {
    "duration": 652,
    "start_time": "2023-02-18T09:33:09.866Z"
   },
   {
    "duration": 963,
    "start_time": "2023-02-18T09:33:40.282Z"
   },
   {
    "duration": 3,
    "start_time": "2023-02-18T09:33:49.952Z"
   },
   {
    "duration": 1490,
    "start_time": "2023-02-18T09:33:56.941Z"
   },
   {
    "duration": 3,
    "start_time": "2023-02-18T09:33:58.433Z"
   },
   {
    "duration": 389,
    "start_time": "2023-02-18T09:33:58.438Z"
   },
   {
    "duration": 53,
    "start_time": "2023-02-18T09:33:58.829Z"
   },
   {
    "duration": 4,
    "start_time": "2023-02-18T09:33:58.884Z"
   },
   {
    "duration": 49,
    "start_time": "2023-02-18T09:33:58.890Z"
   },
   {
    "duration": 10,
    "start_time": "2023-02-18T09:33:58.941Z"
   },
   {
    "duration": 18,
    "start_time": "2023-02-18T09:33:58.952Z"
   },
   {
    "duration": 146,
    "start_time": "2023-02-18T09:33:58.971Z"
   },
   {
    "duration": 161,
    "start_time": "2023-02-18T09:33:59.119Z"
   },
   {
    "duration": 20,
    "start_time": "2023-02-18T09:33:59.281Z"
   },
   {
    "duration": 24,
    "start_time": "2023-02-18T09:33:59.303Z"
   },
   {
    "duration": 38,
    "start_time": "2023-02-18T09:33:59.329Z"
   },
   {
    "duration": 2,
    "start_time": "2023-02-18T09:33:59.370Z"
   },
   {
    "duration": 8,
    "start_time": "2023-02-18T09:33:59.374Z"
   },
   {
    "duration": 175,
    "start_time": "2023-02-18T09:33:59.384Z"
   },
   {
    "duration": 98,
    "start_time": "2023-02-18T09:33:59.561Z"
   },
   {
    "duration": 118,
    "start_time": "2023-02-18T09:33:59.661Z"
   },
   {
    "duration": 73,
    "start_time": "2023-02-18T09:33:59.781Z"
   },
   {
    "duration": 5,
    "start_time": "2023-02-18T09:33:59.857Z"
   },
   {
    "duration": 100,
    "start_time": "2023-02-18T09:33:59.866Z"
   },
   {
    "duration": 6,
    "start_time": "2023-02-18T09:33:59.968Z"
   },
   {
    "duration": 7,
    "start_time": "2023-02-18T09:33:59.976Z"
   },
   {
    "duration": 6,
    "start_time": "2023-02-18T09:33:59.985Z"
   },
   {
    "duration": 18,
    "start_time": "2023-02-18T09:33:59.993Z"
   },
   {
    "duration": 5,
    "start_time": "2023-02-18T09:34:00.013Z"
   },
   {
    "duration": 734,
    "start_time": "2023-02-18T09:34:00.019Z"
   },
   {
    "duration": 685,
    "start_time": "2023-02-18T09:34:00.754Z"
   },
   {
    "duration": 662,
    "start_time": "2023-02-18T09:34:01.441Z"
   },
   {
    "duration": 1457,
    "start_time": "2023-02-18T09:34:30.825Z"
   },
   {
    "duration": 3,
    "start_time": "2023-02-18T09:34:32.284Z"
   },
   {
    "duration": 399,
    "start_time": "2023-02-18T09:34:32.289Z"
   },
   {
    "duration": 41,
    "start_time": "2023-02-18T09:34:32.690Z"
   },
   {
    "duration": 21,
    "start_time": "2023-02-18T09:34:32.734Z"
   },
   {
    "duration": 16,
    "start_time": "2023-02-18T09:34:32.757Z"
   },
   {
    "duration": 9,
    "start_time": "2023-02-18T09:34:32.775Z"
   },
   {
    "duration": 15,
    "start_time": "2023-02-18T09:34:32.786Z"
   },
   {
    "duration": 133,
    "start_time": "2023-02-18T09:34:32.803Z"
   },
   {
    "duration": 148,
    "start_time": "2023-02-18T09:34:32.937Z"
   },
   {
    "duration": 18,
    "start_time": "2023-02-18T09:34:33.086Z"
   },
   {
    "duration": 18,
    "start_time": "2023-02-18T09:34:33.106Z"
   },
   {
    "duration": 41,
    "start_time": "2023-02-18T09:34:33.126Z"
   },
   {
    "duration": 2,
    "start_time": "2023-02-18T09:34:33.170Z"
   },
   {
    "duration": 11,
    "start_time": "2023-02-18T09:34:33.174Z"
   },
   {
    "duration": 70,
    "start_time": "2023-02-18T09:34:33.187Z"
   },
   {
    "duration": 201,
    "start_time": "2023-02-18T09:34:33.259Z"
   },
   {
    "duration": 102,
    "start_time": "2023-02-18T09:34:33.553Z"
   },
   {
    "duration": 5,
    "start_time": "2023-02-18T09:34:33.658Z"
   },
   {
    "duration": 8,
    "start_time": "2023-02-18T09:34:33.754Z"
   },
   {
    "duration": 10,
    "start_time": "2023-02-18T09:34:33.763Z"
   },
   {
    "duration": 6,
    "start_time": "2023-02-18T09:34:33.774Z"
   },
   {
    "duration": 6,
    "start_time": "2023-02-18T09:34:33.782Z"
   },
   {
    "duration": 4,
    "start_time": "2023-02-18T09:34:33.790Z"
   },
   {
    "duration": 18,
    "start_time": "2023-02-18T09:34:33.796Z"
   },
   {
    "duration": 5,
    "start_time": "2023-02-18T09:34:33.815Z"
   },
   {
    "duration": 802,
    "start_time": "2023-02-18T09:34:33.822Z"
   },
   {
    "duration": 632,
    "start_time": "2023-02-18T09:34:34.626Z"
   },
   {
    "duration": 661,
    "start_time": "2023-02-18T09:34:35.260Z"
   },
   {
    "duration": 650,
    "start_time": "2023-02-18T09:34:54.042Z"
   },
   {
    "duration": 1684,
    "start_time": "2023-02-18T09:35:16.939Z"
   },
   {
    "duration": 3,
    "start_time": "2023-02-18T09:35:18.626Z"
   },
   {
    "duration": 397,
    "start_time": "2023-02-18T09:35:18.631Z"
   },
   {
    "duration": 63,
    "start_time": "2023-02-18T09:35:19.030Z"
   },
   {
    "duration": 9,
    "start_time": "2023-02-18T09:35:19.096Z"
   },
   {
    "duration": 18,
    "start_time": "2023-02-18T09:35:19.107Z"
   },
   {
    "duration": 31,
    "start_time": "2023-02-18T09:35:19.127Z"
   },
   {
    "duration": 13,
    "start_time": "2023-02-18T09:35:19.160Z"
   },
   {
    "duration": 130,
    "start_time": "2023-02-18T09:35:19.174Z"
   },
   {
    "duration": 156,
    "start_time": "2023-02-18T09:35:19.306Z"
   },
   {
    "duration": 19,
    "start_time": "2023-02-18T09:35:19.465Z"
   },
   {
    "duration": 18,
    "start_time": "2023-02-18T09:35:19.486Z"
   },
   {
    "duration": 50,
    "start_time": "2023-02-18T09:35:19.507Z"
   },
   {
    "duration": 4,
    "start_time": "2023-02-18T09:35:19.562Z"
   },
   {
    "duration": 6,
    "start_time": "2023-02-18T09:35:19.567Z"
   },
   {
    "duration": 186,
    "start_time": "2023-02-18T09:35:19.574Z"
   },
   {
    "duration": 102,
    "start_time": "2023-02-18T09:35:19.763Z"
   },
   {
    "duration": 188,
    "start_time": "2023-02-18T09:35:19.867Z"
   },
   {
    "duration": 97,
    "start_time": "2023-02-18T09:35:20.057Z"
   },
   {
    "duration": 10,
    "start_time": "2023-02-18T09:35:20.155Z"
   },
   {
    "duration": 9,
    "start_time": "2023-02-18T09:35:20.167Z"
   },
   {
    "duration": 5,
    "start_time": "2023-02-18T09:35:20.177Z"
   },
   {
    "duration": 8,
    "start_time": "2023-02-18T09:35:20.184Z"
   },
   {
    "duration": 3,
    "start_time": "2023-02-18T09:35:20.194Z"
   },
   {
    "duration": 55,
    "start_time": "2023-02-18T09:35:20.199Z"
   },
   {
    "duration": 4,
    "start_time": "2023-02-18T09:35:20.256Z"
   },
   {
    "duration": 703,
    "start_time": "2023-02-18T09:35:20.262Z"
   },
   {
    "duration": 646,
    "start_time": "2023-02-18T09:35:20.967Z"
   },
   {
    "duration": 626,
    "start_time": "2023-02-18T09:35:21.615Z"
   },
   {
    "duration": 1440,
    "start_time": "2023-02-18T09:46:36.102Z"
   },
   {
    "duration": 3,
    "start_time": "2023-02-18T09:46:37.544Z"
   },
   {
    "duration": 442,
    "start_time": "2023-02-18T09:46:37.549Z"
   },
   {
    "duration": 63,
    "start_time": "2023-02-18T09:46:37.995Z"
   },
   {
    "duration": 7,
    "start_time": "2023-02-18T09:46:38.060Z"
   },
   {
    "duration": 30,
    "start_time": "2023-02-18T09:46:38.069Z"
   },
   {
    "duration": 14,
    "start_time": "2023-02-18T09:46:38.101Z"
   },
   {
    "duration": 16,
    "start_time": "2023-02-18T09:46:38.117Z"
   },
   {
    "duration": 128,
    "start_time": "2023-02-18T09:46:38.154Z"
   },
   {
    "duration": 131,
    "start_time": "2023-02-18T09:46:38.284Z"
   },
   {
    "duration": 19,
    "start_time": "2023-02-18T09:46:38.417Z"
   },
   {
    "duration": 17,
    "start_time": "2023-02-18T09:46:38.453Z"
   },
   {
    "duration": 17,
    "start_time": "2023-02-18T09:46:38.471Z"
   },
   {
    "duration": 2,
    "start_time": "2023-02-18T09:46:38.490Z"
   },
   {
    "duration": 7,
    "start_time": "2023-02-18T09:46:38.494Z"
   },
   {
    "duration": 64,
    "start_time": "2023-02-18T09:46:38.502Z"
   },
   {
    "duration": 200,
    "start_time": "2023-02-18T09:46:38.655Z"
   },
   {
    "duration": 30,
    "start_time": "2023-02-18T09:46:38.952Z"
   },
   {
    "duration": 71,
    "start_time": "2023-02-18T09:46:38.984Z"
   },
   {
    "duration": 106,
    "start_time": "2023-02-18T09:46:39.058Z"
   },
   {
    "duration": 11,
    "start_time": "2023-02-18T09:46:39.165Z"
   },
   {
    "duration": 11,
    "start_time": "2023-02-18T09:46:39.177Z"
   },
   {
    "duration": 7,
    "start_time": "2023-02-18T09:46:39.190Z"
   },
   {
    "duration": 9,
    "start_time": "2023-02-18T09:46:39.199Z"
   },
   {
    "duration": 18,
    "start_time": "2023-02-18T09:46:39.209Z"
   },
   {
    "duration": 5,
    "start_time": "2023-02-18T09:46:39.229Z"
   },
   {
    "duration": 659,
    "start_time": "2023-02-18T09:46:39.253Z"
   },
   {
    "duration": 633,
    "start_time": "2023-02-18T09:46:39.915Z"
   },
   {
    "duration": 626,
    "start_time": "2023-02-18T09:46:40.550Z"
   },
   {
    "duration": 1452,
    "start_time": "2023-02-18T09:58:14.841Z"
   },
   {
    "duration": 3,
    "start_time": "2023-02-18T09:58:16.295Z"
   },
   {
    "duration": 407,
    "start_time": "2023-02-18T09:58:16.300Z"
   },
   {
    "duration": 50,
    "start_time": "2023-02-18T09:58:16.709Z"
   },
   {
    "duration": 5,
    "start_time": "2023-02-18T09:58:16.761Z"
   },
   {
    "duration": 15,
    "start_time": "2023-02-18T09:58:16.768Z"
   },
   {
    "duration": 10,
    "start_time": "2023-02-18T09:58:16.784Z"
   },
   {
    "duration": 10,
    "start_time": "2023-02-18T09:58:16.796Z"
   },
   {
    "duration": 151,
    "start_time": "2023-02-18T09:58:16.807Z"
   },
   {
    "duration": 141,
    "start_time": "2023-02-18T09:58:16.959Z"
   },
   {
    "duration": 17,
    "start_time": "2023-02-18T09:58:17.102Z"
   },
   {
    "duration": 38,
    "start_time": "2023-02-18T09:58:17.121Z"
   },
   {
    "duration": 25,
    "start_time": "2023-02-18T09:58:17.160Z"
   },
   {
    "duration": 16,
    "start_time": "2023-02-18T09:58:17.190Z"
   },
   {
    "duration": 7,
    "start_time": "2023-02-18T09:58:17.208Z"
   },
   {
    "duration": 39,
    "start_time": "2023-02-18T09:58:17.217Z"
   },
   {
    "duration": 223,
    "start_time": "2023-02-18T09:58:17.258Z"
   },
   {
    "duration": 125,
    "start_time": "2023-02-18T09:58:17.555Z"
   },
   {
    "duration": 5,
    "start_time": "2023-02-18T09:58:17.755Z"
   },
   {
    "duration": 92,
    "start_time": "2023-02-18T09:58:17.762Z"
   },
   {
    "duration": 13,
    "start_time": "2023-02-18T09:58:17.856Z"
   },
   {
    "duration": 6,
    "start_time": "2023-02-18T09:58:17.870Z"
   },
   {
    "duration": 6,
    "start_time": "2023-02-18T09:58:17.877Z"
   },
   {
    "duration": 11,
    "start_time": "2023-02-18T09:58:17.885Z"
   },
   {
    "duration": 18,
    "start_time": "2023-02-18T09:58:17.898Z"
   },
   {
    "duration": 5,
    "start_time": "2023-02-18T09:58:17.917Z"
   },
   {
    "duration": 678,
    "start_time": "2023-02-18T09:58:17.923Z"
   },
   {
    "duration": 630,
    "start_time": "2023-02-18T09:58:18.602Z"
   },
   {
    "duration": 665,
    "start_time": "2023-02-18T09:58:19.234Z"
   },
   {
    "duration": 1727,
    "start_time": "2023-02-19T08:11:00.959Z"
   },
   {
    "duration": 5,
    "start_time": "2023-02-19T08:11:02.689Z"
   },
   {
    "duration": 1528,
    "start_time": "2023-02-19T08:11:02.696Z"
   },
   {
    "duration": 59,
    "start_time": "2023-02-19T08:11:04.226Z"
   },
   {
    "duration": 5,
    "start_time": "2023-02-19T08:11:04.288Z"
   },
   {
    "duration": 21,
    "start_time": "2023-02-19T08:11:04.295Z"
   },
   {
    "duration": 30,
    "start_time": "2023-02-19T08:11:04.318Z"
   },
   {
    "duration": 20,
    "start_time": "2023-02-19T08:11:04.351Z"
   },
   {
    "duration": 143,
    "start_time": "2023-02-19T08:11:04.373Z"
   },
   {
    "duration": 212,
    "start_time": "2023-02-19T08:11:04.518Z"
   },
   {
    "duration": 18,
    "start_time": "2023-02-19T08:11:04.739Z"
   },
   {
    "duration": 17,
    "start_time": "2023-02-19T08:11:04.760Z"
   },
   {
    "duration": 18,
    "start_time": "2023-02-19T08:11:04.780Z"
   },
   {
    "duration": 37,
    "start_time": "2023-02-19T08:11:04.801Z"
   },
   {
    "duration": 27,
    "start_time": "2023-02-19T08:11:04.841Z"
   },
   {
    "duration": 70,
    "start_time": "2023-02-19T08:11:04.870Z"
   },
   {
    "duration": 121,
    "start_time": "2023-02-19T08:11:04.943Z"
   },
   {
    "duration": 178,
    "start_time": "2023-02-19T08:11:05.066Z"
   },
   {
    "duration": 97,
    "start_time": "2023-02-19T08:11:05.246Z"
   },
   {
    "duration": 109,
    "start_time": "2023-02-19T08:11:05.346Z"
   },
   {
    "duration": 17,
    "start_time": "2023-02-19T08:11:05.456Z"
   },
   {
    "duration": 21,
    "start_time": "2023-02-19T08:11:05.475Z"
   },
   {
    "duration": 8,
    "start_time": "2023-02-19T08:11:05.498Z"
   },
   {
    "duration": 32,
    "start_time": "2023-02-19T08:11:05.508Z"
   },
   {
    "duration": 36,
    "start_time": "2023-02-19T08:11:05.542Z"
   },
   {
    "duration": 8,
    "start_time": "2023-02-19T08:11:05.580Z"
   },
   {
    "duration": 151,
    "start_time": "2023-02-19T08:11:05.590Z"
   },
   {
    "duration": 0,
    "start_time": "2023-02-19T08:11:05.744Z"
   },
   {
    "duration": 0,
    "start_time": "2023-02-19T08:11:05.746Z"
   },
   {
    "duration": 1418,
    "start_time": "2023-02-19T08:12:17.555Z"
   },
   {
    "duration": 3,
    "start_time": "2023-02-19T08:12:18.975Z"
   },
   {
    "duration": 417,
    "start_time": "2023-02-19T08:12:18.980Z"
   },
   {
    "duration": 56,
    "start_time": "2023-02-19T08:12:19.399Z"
   },
   {
    "duration": 5,
    "start_time": "2023-02-19T08:12:19.459Z"
   },
   {
    "duration": 18,
    "start_time": "2023-02-19T08:12:19.466Z"
   },
   {
    "duration": 11,
    "start_time": "2023-02-19T08:12:19.486Z"
   },
   {
    "duration": 45,
    "start_time": "2023-02-19T08:12:19.499Z"
   },
   {
    "duration": 136,
    "start_time": "2023-02-19T08:12:19.546Z"
   },
   {
    "duration": 159,
    "start_time": "2023-02-19T08:12:19.684Z"
   },
   {
    "duration": 18,
    "start_time": "2023-02-19T08:12:19.845Z"
   },
   {
    "duration": 18,
    "start_time": "2023-02-19T08:12:19.864Z"
   },
   {
    "duration": 29,
    "start_time": "2023-02-19T08:12:19.884Z"
   },
   {
    "duration": 3,
    "start_time": "2023-02-19T08:12:19.940Z"
   },
   {
    "duration": 35,
    "start_time": "2023-02-19T08:12:19.945Z"
   },
   {
    "duration": 54,
    "start_time": "2023-02-19T08:12:19.982Z"
   },
   {
    "duration": 216,
    "start_time": "2023-02-19T08:12:20.038Z"
   },
   {
    "duration": 196,
    "start_time": "2023-02-19T08:12:20.256Z"
   },
   {
    "duration": 89,
    "start_time": "2023-02-19T08:12:20.456Z"
   },
   {
    "duration": 138,
    "start_time": "2023-02-19T08:12:20.547Z"
   },
   {
    "duration": 16,
    "start_time": "2023-02-19T08:12:20.688Z"
   },
   {
    "duration": 13,
    "start_time": "2023-02-19T08:12:20.706Z"
   },
   {
    "duration": 6,
    "start_time": "2023-02-19T08:12:20.721Z"
   },
   {
    "duration": 6,
    "start_time": "2023-02-19T08:12:20.729Z"
   },
   {
    "duration": 19,
    "start_time": "2023-02-19T08:12:20.737Z"
   },
   {
    "duration": 6,
    "start_time": "2023-02-19T08:12:20.758Z"
   },
   {
    "duration": 3706,
    "start_time": "2023-02-19T08:12:20.765Z"
   },
   {
    "duration": 3588,
    "start_time": "2023-02-19T08:12:24.473Z"
   },
   {
    "duration": 3580,
    "start_time": "2023-02-19T08:12:28.063Z"
   },
   {
    "duration": 1512,
    "start_time": "2023-02-19T08:13:50.476Z"
   },
   {
    "duration": 4,
    "start_time": "2023-02-19T08:13:51.990Z"
   },
   {
    "duration": 513,
    "start_time": "2023-02-19T08:13:51.996Z"
   },
   {
    "duration": 78,
    "start_time": "2023-02-19T08:13:52.512Z"
   },
   {
    "duration": 6,
    "start_time": "2023-02-19T08:13:52.594Z"
   },
   {
    "duration": 58,
    "start_time": "2023-02-19T08:13:52.602Z"
   },
   {
    "duration": 57,
    "start_time": "2023-02-19T08:13:52.662Z"
   },
   {
    "duration": 49,
    "start_time": "2023-02-19T08:13:52.722Z"
   },
   {
    "duration": 154,
    "start_time": "2023-02-19T08:13:52.773Z"
   },
   {
    "duration": 206,
    "start_time": "2023-02-19T08:13:52.938Z"
   },
   {
    "duration": 21,
    "start_time": "2023-02-19T08:13:53.147Z"
   },
   {
    "duration": 30,
    "start_time": "2023-02-19T08:13:53.170Z"
   },
   {
    "duration": 42,
    "start_time": "2023-02-19T08:13:53.202Z"
   },
   {
    "duration": 3,
    "start_time": "2023-02-19T08:13:53.248Z"
   },
   {
    "duration": 7,
    "start_time": "2023-02-19T08:13:53.253Z"
   },
   {
    "duration": 178,
    "start_time": "2023-02-19T08:13:53.262Z"
   },
   {
    "duration": 198,
    "start_time": "2023-02-19T08:13:53.445Z"
   },
   {
    "duration": 209,
    "start_time": "2023-02-19T08:13:53.646Z"
   },
   {
    "duration": 80,
    "start_time": "2023-02-19T08:13:53.858Z"
   },
   {
    "duration": 17,
    "start_time": "2023-02-19T08:13:53.941Z"
   },
   {
    "duration": 18,
    "start_time": "2023-02-19T08:13:53.961Z"
   },
   {
    "duration": 27,
    "start_time": "2023-02-19T08:13:53.981Z"
   },
   {
    "duration": 35,
    "start_time": "2023-02-19T08:13:54.010Z"
   },
   {
    "duration": 16,
    "start_time": "2023-02-19T08:13:54.047Z"
   },
   {
    "duration": 36,
    "start_time": "2023-02-19T08:13:54.065Z"
   },
   {
    "duration": 6,
    "start_time": "2023-02-19T08:13:54.104Z"
   },
   {
    "duration": 1379,
    "start_time": "2023-02-19T08:13:54.112Z"
   },
   {
    "duration": 1406,
    "start_time": "2023-02-19T08:13:55.493Z"
   },
   {
    "duration": 1419,
    "start_time": "2023-02-19T08:13:56.902Z"
   },
   {
    "duration": 1457,
    "start_time": "2023-02-19T08:18:04.904Z"
   },
   {
    "duration": 5,
    "start_time": "2023-02-19T08:18:06.363Z"
   },
   {
    "duration": 424,
    "start_time": "2023-02-19T08:18:06.370Z"
   },
   {
    "duration": 50,
    "start_time": "2023-02-19T08:18:06.796Z"
   },
   {
    "duration": 5,
    "start_time": "2023-02-19T08:18:06.850Z"
   },
   {
    "duration": 26,
    "start_time": "2023-02-19T08:18:06.857Z"
   },
   {
    "duration": 20,
    "start_time": "2023-02-19T08:18:06.885Z"
   },
   {
    "duration": 32,
    "start_time": "2023-02-19T08:18:06.907Z"
   },
   {
    "duration": 143,
    "start_time": "2023-02-19T08:18:06.941Z"
   },
   {
    "duration": 165,
    "start_time": "2023-02-19T08:18:07.086Z"
   },
   {
    "duration": 21,
    "start_time": "2023-02-19T08:18:07.253Z"
   },
   {
    "duration": 21,
    "start_time": "2023-02-19T08:18:07.276Z"
   },
   {
    "duration": 54,
    "start_time": "2023-02-19T08:18:07.300Z"
   },
   {
    "duration": 7,
    "start_time": "2023-02-19T08:18:07.356Z"
   },
   {
    "duration": 13,
    "start_time": "2023-02-19T08:18:07.365Z"
   },
   {
    "duration": 166,
    "start_time": "2023-02-19T08:18:07.380Z"
   },
   {
    "duration": 103,
    "start_time": "2023-02-19T08:18:07.548Z"
   },
   {
    "duration": 101,
    "start_time": "2023-02-19T08:18:07.738Z"
   },
   {
    "duration": 5,
    "start_time": "2023-02-19T08:18:07.841Z"
   },
   {
    "duration": 105,
    "start_time": "2023-02-19T08:18:07.849Z"
   },
   {
    "duration": 13,
    "start_time": "2023-02-19T08:18:07.956Z"
   },
   {
    "duration": 10,
    "start_time": "2023-02-19T08:18:07.971Z"
   },
   {
    "duration": 13,
    "start_time": "2023-02-19T08:18:07.983Z"
   },
   {
    "duration": 7,
    "start_time": "2023-02-19T08:18:07.998Z"
   },
   {
    "duration": 31,
    "start_time": "2023-02-19T08:18:08.007Z"
   },
   {
    "duration": 5,
    "start_time": "2023-02-19T08:18:08.040Z"
   },
   {
    "duration": 1378,
    "start_time": "2023-02-19T08:18:08.047Z"
   },
   {
    "duration": 1305,
    "start_time": "2023-02-19T08:18:09.427Z"
   },
   {
    "duration": 1333,
    "start_time": "2023-02-19T08:18:10.737Z"
   },
   {
    "duration": 1440,
    "start_time": "2023-02-19T08:20:44.156Z"
   },
   {
    "duration": 3,
    "start_time": "2023-02-19T08:20:45.598Z"
   },
   {
    "duration": 396,
    "start_time": "2023-02-19T08:20:45.603Z"
   },
   {
    "duration": 50,
    "start_time": "2023-02-19T08:20:46.002Z"
   },
   {
    "duration": 5,
    "start_time": "2023-02-19T08:20:46.053Z"
   },
   {
    "duration": 16,
    "start_time": "2023-02-19T08:20:46.060Z"
   },
   {
    "duration": 11,
    "start_time": "2023-02-19T08:20:46.077Z"
   },
   {
    "duration": 14,
    "start_time": "2023-02-19T08:20:46.090Z"
   },
   {
    "duration": 163,
    "start_time": "2023-02-19T08:20:46.106Z"
   },
   {
    "duration": 146,
    "start_time": "2023-02-19T08:20:46.272Z"
   },
   {
    "duration": 34,
    "start_time": "2023-02-19T08:20:46.420Z"
   },
   {
    "duration": 18,
    "start_time": "2023-02-19T08:20:46.456Z"
   },
   {
    "duration": 17,
    "start_time": "2023-02-19T08:20:46.476Z"
   },
   {
    "duration": 3,
    "start_time": "2023-02-19T08:20:46.494Z"
   },
   {
    "duration": 6,
    "start_time": "2023-02-19T08:20:46.499Z"
   },
   {
    "duration": 31,
    "start_time": "2023-02-19T08:20:46.537Z"
   },
   {
    "duration": 188,
    "start_time": "2023-02-19T08:20:46.569Z"
   },
   {
    "duration": 198,
    "start_time": "2023-02-19T08:20:46.759Z"
   },
   {
    "duration": 79,
    "start_time": "2023-02-19T08:20:46.960Z"
   },
   {
    "duration": 129,
    "start_time": "2023-02-19T08:20:47.042Z"
   },
   {
    "duration": 12,
    "start_time": "2023-02-19T08:20:47.174Z"
   },
   {
    "duration": 10,
    "start_time": "2023-02-19T08:20:47.188Z"
   },
   {
    "duration": 12,
    "start_time": "2023-02-19T08:20:47.201Z"
   },
   {
    "duration": 5,
    "start_time": "2023-02-19T08:20:47.215Z"
   },
   {
    "duration": 27,
    "start_time": "2023-02-19T08:20:47.222Z"
   },
   {
    "duration": 6,
    "start_time": "2023-02-19T08:20:47.252Z"
   },
   {
    "duration": 1264,
    "start_time": "2023-02-19T08:20:47.260Z"
   },
   {
    "duration": 1233,
    "start_time": "2023-02-19T08:20:48.528Z"
   },
   {
    "duration": 1485,
    "start_time": "2023-02-19T08:20:49.763Z"
   },
   {
    "duration": 1495,
    "start_time": "2023-02-19T08:21:20.501Z"
   },
   {
    "duration": 4,
    "start_time": "2023-02-19T08:21:21.999Z"
   },
   {
    "duration": 489,
    "start_time": "2023-02-19T08:21:22.004Z"
   },
   {
    "duration": 74,
    "start_time": "2023-02-19T08:21:22.496Z"
   },
   {
    "duration": 6,
    "start_time": "2023-02-19T08:21:22.574Z"
   },
   {
    "duration": 35,
    "start_time": "2023-02-19T08:21:22.583Z"
   },
   {
    "duration": 47,
    "start_time": "2023-02-19T08:21:22.620Z"
   },
   {
    "duration": 51,
    "start_time": "2023-02-19T08:21:22.670Z"
   },
   {
    "duration": 142,
    "start_time": "2023-02-19T08:21:22.723Z"
   },
   {
    "duration": 170,
    "start_time": "2023-02-19T08:21:22.871Z"
   },
   {
    "duration": 21,
    "start_time": "2023-02-19T08:21:23.043Z"
   },
   {
    "duration": 25,
    "start_time": "2023-02-19T08:21:23.066Z"
   },
   {
    "duration": 54,
    "start_time": "2023-02-19T08:21:23.093Z"
   },
   {
    "duration": 3,
    "start_time": "2023-02-19T08:21:23.152Z"
   },
   {
    "duration": 18,
    "start_time": "2023-02-19T08:21:23.157Z"
   },
   {
    "duration": 63,
    "start_time": "2023-02-19T08:21:23.177Z"
   },
   {
    "duration": 122,
    "start_time": "2023-02-19T08:21:23.243Z"
   },
   {
    "duration": 131,
    "start_time": "2023-02-19T08:21:23.442Z"
   },
   {
    "duration": 6,
    "start_time": "2023-02-19T08:21:23.640Z"
   },
   {
    "duration": 126,
    "start_time": "2023-02-19T08:21:23.648Z"
   },
   {
    "duration": 39,
    "start_time": "2023-02-19T08:21:23.776Z"
   },
   {
    "duration": 17,
    "start_time": "2023-02-19T08:21:23.818Z"
   },
   {
    "duration": 21,
    "start_time": "2023-02-19T08:21:23.836Z"
   },
   {
    "duration": 6,
    "start_time": "2023-02-19T08:21:23.859Z"
   },
   {
    "duration": 32,
    "start_time": "2023-02-19T08:21:23.867Z"
   },
   {
    "duration": 5,
    "start_time": "2023-02-19T08:21:23.901Z"
   },
   {
    "duration": 1423,
    "start_time": "2023-02-19T08:21:23.908Z"
   },
   {
    "duration": 1395,
    "start_time": "2023-02-19T08:21:25.333Z"
   },
   {
    "duration": 1404,
    "start_time": "2023-02-19T08:21:26.730Z"
   },
   {
    "duration": 1464,
    "start_time": "2023-02-19T08:35:23.536Z"
   },
   {
    "duration": 4,
    "start_time": "2023-02-19T08:35:25.002Z"
   },
   {
    "duration": 439,
    "start_time": "2023-02-19T08:35:25.008Z"
   },
   {
    "duration": 64,
    "start_time": "2023-02-19T08:35:25.449Z"
   },
   {
    "duration": 22,
    "start_time": "2023-02-19T08:35:25.516Z"
   },
   {
    "duration": 32,
    "start_time": "2023-02-19T08:35:25.540Z"
   },
   {
    "duration": 27,
    "start_time": "2023-02-19T08:35:25.574Z"
   },
   {
    "duration": 44,
    "start_time": "2023-02-19T08:35:25.604Z"
   },
   {
    "duration": 161,
    "start_time": "2023-02-19T08:35:25.650Z"
   },
   {
    "duration": 170,
    "start_time": "2023-02-19T08:35:25.813Z"
   },
   {
    "duration": 17,
    "start_time": "2023-02-19T08:35:25.985Z"
   },
   {
    "duration": 44,
    "start_time": "2023-02-19T08:35:26.003Z"
   },
   {
    "duration": 24,
    "start_time": "2023-02-19T08:35:26.049Z"
   },
   {
    "duration": 24,
    "start_time": "2023-02-19T08:35:26.076Z"
   },
   {
    "duration": 44,
    "start_time": "2023-02-19T08:35:26.101Z"
   },
   {
    "duration": 54,
    "start_time": "2023-02-19T08:35:26.147Z"
   },
   {
    "duration": 125,
    "start_time": "2023-02-19T08:35:26.240Z"
   },
   {
    "duration": 198,
    "start_time": "2023-02-19T08:35:26.368Z"
   },
   {
    "duration": 171,
    "start_time": "2023-02-19T08:35:26.569Z"
   },
   {
    "duration": 25,
    "start_time": "2023-02-19T08:35:26.742Z"
   },
   {
    "duration": 33,
    "start_time": "2023-02-19T08:35:26.769Z"
   },
   {
    "duration": 24,
    "start_time": "2023-02-19T08:35:26.804Z"
   },
   {
    "duration": 44,
    "start_time": "2023-02-19T08:35:26.830Z"
   },
   {
    "duration": 26,
    "start_time": "2023-02-19T08:35:26.876Z"
   },
   {
    "duration": 40,
    "start_time": "2023-02-19T08:35:26.905Z"
   },
   {
    "duration": 5,
    "start_time": "2023-02-19T08:35:26.947Z"
   },
   {
    "duration": 1376,
    "start_time": "2023-02-19T08:35:26.954Z"
   },
   {
    "duration": 1329,
    "start_time": "2023-02-19T08:35:28.332Z"
   },
   {
    "duration": 1330,
    "start_time": "2023-02-19T08:35:29.663Z"
   },
   {
    "duration": 1490,
    "start_time": "2023-02-19T08:36:02.439Z"
   },
   {
    "duration": 3,
    "start_time": "2023-02-19T08:36:03.932Z"
   },
   {
    "duration": 426,
    "start_time": "2023-02-19T08:36:03.937Z"
   },
   {
    "duration": 50,
    "start_time": "2023-02-19T08:36:04.365Z"
   },
   {
    "duration": 22,
    "start_time": "2023-02-19T08:36:04.418Z"
   },
   {
    "duration": 27,
    "start_time": "2023-02-19T08:36:04.442Z"
   },
   {
    "duration": 28,
    "start_time": "2023-02-19T08:36:04.471Z"
   },
   {
    "duration": 32,
    "start_time": "2023-02-19T08:36:04.501Z"
   },
   {
    "duration": 154,
    "start_time": "2023-02-19T08:36:04.535Z"
   },
   {
    "duration": 164,
    "start_time": "2023-02-19T08:36:04.692Z"
   },
   {
    "duration": 20,
    "start_time": "2023-02-19T08:36:04.858Z"
   },
   {
    "duration": 33,
    "start_time": "2023-02-19T08:36:04.881Z"
   },
   {
    "duration": 38,
    "start_time": "2023-02-19T08:36:04.917Z"
   },
   {
    "duration": 3,
    "start_time": "2023-02-19T08:36:04.958Z"
   },
   {
    "duration": 21,
    "start_time": "2023-02-19T08:36:04.963Z"
   },
   {
    "duration": 57,
    "start_time": "2023-02-19T08:36:04.986Z"
   },
   {
    "duration": 201,
    "start_time": "2023-02-19T08:36:05.045Z"
   },
   {
    "duration": 186,
    "start_time": "2023-02-19T08:36:05.253Z"
   },
   {
    "duration": 5,
    "start_time": "2023-02-19T08:36:05.441Z"
   },
   {
    "duration": 92,
    "start_time": "2023-02-19T08:36:05.448Z"
   },
   {
    "duration": 23,
    "start_time": "2023-02-19T08:36:05.542Z"
   },
   {
    "duration": 18,
    "start_time": "2023-02-19T08:36:05.567Z"
   },
   {
    "duration": 19,
    "start_time": "2023-02-19T08:36:05.587Z"
   },
   {
    "duration": 9,
    "start_time": "2023-02-19T08:36:05.608Z"
   },
   {
    "duration": 33,
    "start_time": "2023-02-19T08:36:05.619Z"
   },
   {
    "duration": 5,
    "start_time": "2023-02-19T08:36:05.654Z"
   },
   {
    "duration": 1386,
    "start_time": "2023-02-19T08:36:05.661Z"
   },
   {
    "duration": 1433,
    "start_time": "2023-02-19T08:36:07.049Z"
   },
   {
    "duration": 1317,
    "start_time": "2023-02-19T08:36:08.484Z"
   },
   {
    "duration": 1635,
    "start_time": "2023-02-19T08:36:34.782Z"
   },
   {
    "duration": 5,
    "start_time": "2023-02-19T08:36:36.420Z"
   },
   {
    "duration": 455,
    "start_time": "2023-02-19T08:36:36.427Z"
   },
   {
    "duration": 53,
    "start_time": "2023-02-19T08:36:36.885Z"
   },
   {
    "duration": 6,
    "start_time": "2023-02-19T08:36:36.940Z"
   },
   {
    "duration": 31,
    "start_time": "2023-02-19T08:36:36.949Z"
   },
   {
    "duration": 24,
    "start_time": "2023-02-19T08:36:36.982Z"
   },
   {
    "duration": 15,
    "start_time": "2023-02-19T08:36:37.008Z"
   },
   {
    "duration": 154,
    "start_time": "2023-02-19T08:36:37.025Z"
   },
   {
    "duration": 172,
    "start_time": "2023-02-19T08:36:37.183Z"
   },
   {
    "duration": 25,
    "start_time": "2023-02-19T08:36:37.357Z"
   },
   {
    "duration": 22,
    "start_time": "2023-02-19T08:36:37.384Z"
   },
   {
    "duration": 57,
    "start_time": "2023-02-19T08:36:37.408Z"
   },
   {
    "duration": 3,
    "start_time": "2023-02-19T08:36:37.467Z"
   },
   {
    "duration": 24,
    "start_time": "2023-02-19T08:36:37.472Z"
   },
   {
    "duration": 42,
    "start_time": "2023-02-19T08:36:37.498Z"
   },
   {
    "duration": 203,
    "start_time": "2023-02-19T08:36:37.542Z"
   },
   {
    "duration": 205,
    "start_time": "2023-02-19T08:36:37.748Z"
   },
   {
    "duration": 6,
    "start_time": "2023-02-19T08:36:38.039Z"
   },
   {
    "duration": 26,
    "start_time": "2023-02-19T08:36:38.047Z"
   },
   {
    "duration": 31,
    "start_time": "2023-02-19T08:36:38.076Z"
   },
   {
    "duration": 19,
    "start_time": "2023-02-19T08:36:38.109Z"
   },
   {
    "duration": 32,
    "start_time": "2023-02-19T08:36:38.139Z"
   },
   {
    "duration": 17,
    "start_time": "2023-02-19T08:36:38.174Z"
   },
   {
    "duration": 50,
    "start_time": "2023-02-19T08:36:38.193Z"
   },
   {
    "duration": 17,
    "start_time": "2023-02-19T08:36:38.246Z"
   },
   {
    "duration": 1407,
    "start_time": "2023-02-19T08:36:38.266Z"
   },
   {
    "duration": 1353,
    "start_time": "2023-02-19T08:36:39.677Z"
   },
   {
    "duration": 1382,
    "start_time": "2023-02-19T08:36:41.032Z"
   },
   {
    "duration": 1438,
    "start_time": "2023-02-19T08:37:33.352Z"
   },
   {
    "duration": 4,
    "start_time": "2023-02-19T08:37:34.792Z"
   },
   {
    "duration": 425,
    "start_time": "2023-02-19T08:37:34.798Z"
   },
   {
    "duration": 46,
    "start_time": "2023-02-19T08:37:35.225Z"
   },
   {
    "duration": 5,
    "start_time": "2023-02-19T08:37:35.274Z"
   },
   {
    "duration": 19,
    "start_time": "2023-02-19T08:37:35.281Z"
   },
   {
    "duration": 37,
    "start_time": "2023-02-19T08:37:35.303Z"
   },
   {
    "duration": 19,
    "start_time": "2023-02-19T08:37:35.343Z"
   },
   {
    "duration": 159,
    "start_time": "2023-02-19T08:37:35.364Z"
   },
   {
    "duration": 180,
    "start_time": "2023-02-19T08:37:35.525Z"
   },
   {
    "duration": 43,
    "start_time": "2023-02-19T08:37:35.707Z"
   },
   {
    "duration": 24,
    "start_time": "2023-02-19T08:37:35.753Z"
   },
   {
    "duration": 19,
    "start_time": "2023-02-19T08:37:35.780Z"
   },
   {
    "duration": 34,
    "start_time": "2023-02-19T08:37:35.804Z"
   },
   {
    "duration": 7,
    "start_time": "2023-02-19T08:37:35.840Z"
   },
   {
    "duration": 94,
    "start_time": "2023-02-19T08:37:35.849Z"
   },
   {
    "duration": 114,
    "start_time": "2023-02-19T08:37:35.945Z"
   },
   {
    "duration": 182,
    "start_time": "2023-02-19T08:37:36.061Z"
   },
   {
    "duration": 5,
    "start_time": "2023-02-19T08:37:36.245Z"
   },
   {
    "duration": 182,
    "start_time": "2023-02-19T08:37:36.255Z"
   },
   {
    "duration": 12,
    "start_time": "2023-02-19T08:37:36.440Z"
   },
   {
    "duration": 6,
    "start_time": "2023-02-19T08:37:36.455Z"
   },
   {
    "duration": 13,
    "start_time": "2023-02-19T08:37:36.462Z"
   },
   {
    "duration": 10,
    "start_time": "2023-02-19T08:37:36.477Z"
   },
   {
    "duration": 21,
    "start_time": "2023-02-19T08:37:36.489Z"
   },
   {
    "duration": 8,
    "start_time": "2023-02-19T08:37:36.538Z"
   },
   {
    "duration": 1278,
    "start_time": "2023-02-19T08:37:36.548Z"
   },
   {
    "duration": 1234,
    "start_time": "2023-02-19T08:37:37.828Z"
   },
   {
    "duration": 1219,
    "start_time": "2023-02-19T08:37:39.064Z"
   },
   {
    "duration": 1498,
    "start_time": "2023-02-19T08:38:24.498Z"
   },
   {
    "duration": 4,
    "start_time": "2023-02-19T08:38:25.999Z"
   },
   {
    "duration": 432,
    "start_time": "2023-02-19T08:38:26.005Z"
   },
   {
    "duration": 45,
    "start_time": "2023-02-19T08:38:26.439Z"
   },
   {
    "duration": 5,
    "start_time": "2023-02-19T08:38:26.487Z"
   },
   {
    "duration": 44,
    "start_time": "2023-02-19T08:38:26.494Z"
   },
   {
    "duration": 13,
    "start_time": "2023-02-19T08:38:26.540Z"
   },
   {
    "duration": 29,
    "start_time": "2023-02-19T08:38:26.555Z"
   },
   {
    "duration": 167,
    "start_time": "2023-02-19T08:38:26.588Z"
   },
   {
    "duration": 157,
    "start_time": "2023-02-19T08:38:26.756Z"
   },
   {
    "duration": 36,
    "start_time": "2023-02-19T08:38:26.916Z"
   },
   {
    "duration": 20,
    "start_time": "2023-02-19T08:38:26.954Z"
   },
   {
    "duration": 53,
    "start_time": "2023-02-19T08:38:26.977Z"
   },
   {
    "duration": 23,
    "start_time": "2023-02-19T08:38:27.034Z"
   },
   {
    "duration": 38,
    "start_time": "2023-02-19T08:38:27.059Z"
   },
   {
    "duration": 69,
    "start_time": "2023-02-19T08:38:27.100Z"
   },
   {
    "duration": 187,
    "start_time": "2023-02-19T08:38:27.171Z"
   },
   {
    "duration": 85,
    "start_time": "2023-02-19T08:38:27.360Z"
   },
   {
    "duration": 92,
    "start_time": "2023-02-19T08:38:27.447Z"
   },
   {
    "duration": 16,
    "start_time": "2023-02-19T08:38:27.541Z"
   },
   {
    "duration": 10,
    "start_time": "2023-02-19T08:38:27.560Z"
   },
   {
    "duration": 18,
    "start_time": "2023-02-19T08:38:27.571Z"
   },
   {
    "duration": 52,
    "start_time": "2023-02-19T08:38:27.591Z"
   },
   {
    "duration": 4,
    "start_time": "2023-02-19T08:38:27.645Z"
   },
   {
    "duration": 35,
    "start_time": "2023-02-19T08:38:27.651Z"
   },
   {
    "duration": 6,
    "start_time": "2023-02-19T08:38:27.688Z"
   },
   {
    "duration": 1342,
    "start_time": "2023-02-19T08:38:27.695Z"
   },
   {
    "duration": 1326,
    "start_time": "2023-02-19T08:38:29.040Z"
   },
   {
    "duration": 1322,
    "start_time": "2023-02-19T08:38:30.368Z"
   },
   {
    "duration": 1417,
    "start_time": "2023-02-19T08:39:00.377Z"
   },
   {
    "duration": 4,
    "start_time": "2023-02-19T08:39:01.796Z"
   },
   {
    "duration": 431,
    "start_time": "2023-02-19T08:39:01.801Z"
   },
   {
    "duration": 45,
    "start_time": "2023-02-19T08:39:02.234Z"
   },
   {
    "duration": 10,
    "start_time": "2023-02-19T08:39:02.282Z"
   },
   {
    "duration": 43,
    "start_time": "2023-02-19T08:39:02.293Z"
   },
   {
    "duration": 20,
    "start_time": "2023-02-19T08:39:02.338Z"
   },
   {
    "duration": 34,
    "start_time": "2023-02-19T08:39:02.360Z"
   },
   {
    "duration": 176,
    "start_time": "2023-02-19T08:39:02.396Z"
   },
   {
    "duration": 197,
    "start_time": "2023-02-19T08:39:02.574Z"
   },
   {
    "duration": 18,
    "start_time": "2023-02-19T08:39:02.773Z"
   },
   {
    "duration": 24,
    "start_time": "2023-02-19T08:39:02.794Z"
   },
   {
    "duration": 18,
    "start_time": "2023-02-19T08:39:02.838Z"
   },
   {
    "duration": 4,
    "start_time": "2023-02-19T08:39:02.860Z"
   },
   {
    "duration": 10,
    "start_time": "2023-02-19T08:39:02.865Z"
   },
   {
    "duration": 77,
    "start_time": "2023-02-19T08:39:02.876Z"
   },
   {
    "duration": 192,
    "start_time": "2023-02-19T08:39:03.047Z"
   },
   {
    "duration": 205,
    "start_time": "2023-02-19T08:39:03.241Z"
   },
   {
    "duration": 101,
    "start_time": "2023-02-19T08:39:03.449Z"
   },
   {
    "duration": 45,
    "start_time": "2023-02-19T08:39:03.552Z"
   },
   {
    "duration": 98,
    "start_time": "2023-02-19T08:39:03.600Z"
   },
   {
    "duration": 35,
    "start_time": "2023-02-19T08:39:03.700Z"
   },
   {
    "duration": 65,
    "start_time": "2023-02-19T08:39:03.737Z"
   },
   {
    "duration": 69,
    "start_time": "2023-02-19T08:39:03.804Z"
   },
   {
    "duration": 71,
    "start_time": "2023-02-19T08:39:03.875Z"
   },
   {
    "duration": 14,
    "start_time": "2023-02-19T08:39:03.947Z"
   },
   {
    "duration": 1453,
    "start_time": "2023-02-19T08:39:03.963Z"
   },
   {
    "duration": 1334,
    "start_time": "2023-02-19T08:39:05.418Z"
   },
   {
    "duration": 1269,
    "start_time": "2023-02-19T08:39:06.754Z"
   },
   {
    "duration": 1480,
    "start_time": "2023-02-19T08:45:13.322Z"
   },
   {
    "duration": 4,
    "start_time": "2023-02-19T08:45:14.804Z"
   },
   {
    "duration": 407,
    "start_time": "2023-02-19T08:45:14.810Z"
   },
   {
    "duration": 66,
    "start_time": "2023-02-19T08:45:15.219Z"
   },
   {
    "duration": 5,
    "start_time": "2023-02-19T08:45:15.287Z"
   },
   {
    "duration": 23,
    "start_time": "2023-02-19T08:45:15.294Z"
   },
   {
    "duration": 11,
    "start_time": "2023-02-19T08:45:15.338Z"
   },
   {
    "duration": 19,
    "start_time": "2023-02-19T08:45:15.351Z"
   },
   {
    "duration": 157,
    "start_time": "2023-02-19T08:45:15.371Z"
   },
   {
    "duration": 164,
    "start_time": "2023-02-19T08:45:15.538Z"
   },
   {
    "duration": 35,
    "start_time": "2023-02-19T08:45:15.704Z"
   },
   {
    "duration": 17,
    "start_time": "2023-02-19T08:45:15.741Z"
   },
   {
    "duration": 19,
    "start_time": "2023-02-19T08:45:15.760Z"
   },
   {
    "duration": 2,
    "start_time": "2023-02-19T08:45:15.783Z"
   },
   {
    "duration": 22,
    "start_time": "2023-02-19T08:45:15.787Z"
   },
   {
    "duration": 62,
    "start_time": "2023-02-19T08:45:15.811Z"
   },
   {
    "duration": 264,
    "start_time": "2023-02-19T08:45:15.875Z"
   },
   {
    "duration": 199,
    "start_time": "2023-02-19T08:45:16.141Z"
   },
   {
    "duration": 7,
    "start_time": "2023-02-19T08:45:16.342Z"
   },
   {
    "duration": 101,
    "start_time": "2023-02-19T08:45:16.351Z"
   },
   {
    "duration": 15,
    "start_time": "2023-02-19T08:45:16.453Z"
   },
   {
    "duration": 9,
    "start_time": "2023-02-19T08:45:16.470Z"
   },
   {
    "duration": 20,
    "start_time": "2023-02-19T08:45:16.481Z"
   },
   {
    "duration": 8,
    "start_time": "2023-02-19T08:45:16.503Z"
   },
   {
    "duration": 37,
    "start_time": "2023-02-19T08:45:16.512Z"
   },
   {
    "duration": 6,
    "start_time": "2023-02-19T08:45:16.552Z"
   },
   {
    "duration": 1296,
    "start_time": "2023-02-19T08:45:16.560Z"
   },
   {
    "duration": 1311,
    "start_time": "2023-02-19T08:45:17.858Z"
   },
   {
    "duration": 1310,
    "start_time": "2023-02-19T08:45:19.171Z"
   },
   {
    "duration": 1621,
    "start_time": "2023-02-20T04:02:12.540Z"
   },
   {
    "duration": 4,
    "start_time": "2023-02-20T04:02:14.163Z"
   },
   {
    "duration": 1483,
    "start_time": "2023-02-20T04:02:14.168Z"
   },
   {
    "duration": 35,
    "start_time": "2023-02-20T04:02:15.653Z"
   },
   {
    "duration": 4,
    "start_time": "2023-02-20T04:02:15.691Z"
   },
   {
    "duration": 31,
    "start_time": "2023-02-20T04:02:15.697Z"
   },
   {
    "duration": 14,
    "start_time": "2023-02-20T04:02:15.730Z"
   },
   {
    "duration": 17,
    "start_time": "2023-02-20T04:02:15.746Z"
   },
   {
    "duration": 115,
    "start_time": "2023-02-20T04:02:15.764Z"
   },
   {
    "duration": 112,
    "start_time": "2023-02-20T04:02:15.880Z"
   },
   {
    "duration": 14,
    "start_time": "2023-02-20T04:02:15.994Z"
   },
   {
    "duration": 14,
    "start_time": "2023-02-20T04:02:16.010Z"
   },
   {
    "duration": 33,
    "start_time": "2023-02-20T04:02:16.026Z"
   },
   {
    "duration": 9,
    "start_time": "2023-02-20T04:02:16.062Z"
   },
   {
    "duration": 17,
    "start_time": "2023-02-20T04:02:16.073Z"
   },
   {
    "duration": 60,
    "start_time": "2023-02-20T04:02:16.091Z"
   },
   {
    "duration": 116,
    "start_time": "2023-02-20T04:02:16.153Z"
   },
   {
    "duration": 192,
    "start_time": "2023-02-20T04:02:16.271Z"
   },
   {
    "duration": 82,
    "start_time": "2023-02-20T04:02:16.465Z"
   },
   {
    "duration": 100,
    "start_time": "2023-02-20T04:02:16.550Z"
   },
   {
    "duration": 26,
    "start_time": "2023-02-20T04:02:16.651Z"
   },
   {
    "duration": 19,
    "start_time": "2023-02-20T04:02:16.678Z"
   },
   {
    "duration": 27,
    "start_time": "2023-02-20T04:02:16.699Z"
   },
   {
    "duration": 15,
    "start_time": "2023-02-20T04:02:16.727Z"
   },
   {
    "duration": 26,
    "start_time": "2023-02-20T04:02:16.743Z"
   },
   {
    "duration": 22,
    "start_time": "2023-02-20T04:02:16.770Z"
   },
   {
    "duration": 1126,
    "start_time": "2023-02-20T04:02:16.793Z"
   },
   {
    "duration": 1090,
    "start_time": "2023-02-20T04:02:17.920Z"
   },
   {
    "duration": 1107,
    "start_time": "2023-02-20T04:02:19.012Z"
   },
   {
    "duration": 1063,
    "start_time": "2023-02-20T04:03:43.099Z"
   }
  ],
  "kernelspec": {
   "display_name": "Python 3 (ipykernel)",
   "language": "python",
   "name": "python3"
  },
  "language_info": {
   "codemirror_mode": {
    "name": "ipython",
    "version": 3
   },
   "file_extension": ".py",
   "mimetype": "text/x-python",
   "name": "python",
   "nbconvert_exporter": "python",
   "pygments_lexer": "ipython3",
   "version": "3.9.5"
  },
  "toc": {
   "base_numbering": 1,
   "nav_menu": {},
   "number_sections": true,
   "sideBar": true,
   "skip_h1_title": true,
   "title_cell": "Table of Contents",
   "title_sidebar": "Contents",
   "toc_cell": false,
   "toc_position": {
    "height": "calc(100% - 180px)",
    "left": "10px",
    "top": "150px",
    "width": "286.05px"
   },
   "toc_section_display": true,
   "toc_window_display": true
  }
 },
 "nbformat": 4,
 "nbformat_minor": 2
}
