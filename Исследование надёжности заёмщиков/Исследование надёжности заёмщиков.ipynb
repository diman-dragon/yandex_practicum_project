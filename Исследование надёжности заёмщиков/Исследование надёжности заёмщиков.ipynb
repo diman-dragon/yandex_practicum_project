{
 "cells": [
  {
   "cell_type": "markdown",
   "id": "dc8999b8",
   "metadata": {
    "deletable": false,
    "editable": false,
    "id": "c81daeeb"
   },
   "source": [
    "# Исследование надежности заемщиков\n"
   ]
  },
  {
   "cell_type": "markdown",
   "id": "84f604ca",
   "metadata": {
    "deletable": false,
    "editable": false,
    "id": "827c20bf"
   },
   "source": [
    "Во второй части проекта вы выполните шаги 3 и 4. Их вручную проверит ревьюер.\n",
    "Чтобы вам не пришлось писать код заново для шагов 1 и 2, мы добавили авторские решения в ячейки с кодом. \n",
    "\n"
   ]
  },
  {
   "cell_type": "markdown",
   "id": "36486126",
   "metadata": {
    "deletable": false,
    "editable": false,
    "id": "744d7639"
   },
   "source": [
    "## Откройте таблицу и изучите общую информацию о данных"
   ]
  },
  {
   "cell_type": "markdown",
   "id": "b5aadaa2",
   "metadata": {
    "deletable": false,
    "editable": false,
    "id": "e7a14c31"
   },
   "source": [
    "**Задание 1. Импортируйте библиотеку pandas. Считайте данные из csv-файла в датафрейм и сохраните в переменную `data`. Путь к файлу:**\n",
    "\n",
    "`/datasets/data.csv`"
   ]
  },
  {
   "cell_type": "code",
   "execution_count": 1,
   "id": "2a6750ff",
   "metadata": {
    "deletable": false,
    "id": "7bcf75c9"
   },
   "outputs": [],
   "source": [
    "import pandas as pd\n",
    "\n",
    "try:\n",
    "    data = pd.read_csv('/datasets/data.csv')\n",
    "except:\n",
    "    data = pd.read_csv('https://code.s3.yandex.net/datasets/data.csv')"
   ]
  },
  {
   "cell_type": "markdown",
   "id": "cbe950b5",
   "metadata": {
    "deletable": false,
    "editable": false,
    "id": "b8038fe3"
   },
   "source": [
    "**Задание 2. Выведите первые 20 строчек датафрейма `data` на экран.**"
   ]
  },
  {
   "cell_type": "code",
   "execution_count": 2,
   "id": "ca0a6863",
   "metadata": {
    "deletable": false,
    "id": "2a7cab99",
    "outputId": "1a8f3ef2-d323-4ec2-ddf7-89670b5944c4"
   },
   "outputs": [
    {
     "data": {
      "text/html": [
       "<div>\n",
       "<style scoped>\n",
       "    .dataframe tbody tr th:only-of-type {\n",
       "        vertical-align: middle;\n",
       "    }\n",
       "\n",
       "    .dataframe tbody tr th {\n",
       "        vertical-align: top;\n",
       "    }\n",
       "\n",
       "    .dataframe thead th {\n",
       "        text-align: right;\n",
       "    }\n",
       "</style>\n",
       "<table border=\"1\" class=\"dataframe\">\n",
       "  <thead>\n",
       "    <tr style=\"text-align: right;\">\n",
       "      <th></th>\n",
       "      <th>children</th>\n",
       "      <th>days_employed</th>\n",
       "      <th>dob_years</th>\n",
       "      <th>education</th>\n",
       "      <th>education_id</th>\n",
       "      <th>family_status</th>\n",
       "      <th>family_status_id</th>\n",
       "      <th>gender</th>\n",
       "      <th>income_type</th>\n",
       "      <th>debt</th>\n",
       "      <th>total_income</th>\n",
       "      <th>purpose</th>\n",
       "    </tr>\n",
       "  </thead>\n",
       "  <tbody>\n",
       "    <tr>\n",
       "      <th>0</th>\n",
       "      <td>1</td>\n",
       "      <td>-8437.673028</td>\n",
       "      <td>42</td>\n",
       "      <td>высшее</td>\n",
       "      <td>0</td>\n",
       "      <td>женат / замужем</td>\n",
       "      <td>0</td>\n",
       "      <td>F</td>\n",
       "      <td>сотрудник</td>\n",
       "      <td>0</td>\n",
       "      <td>253875.639453</td>\n",
       "      <td>покупка жилья</td>\n",
       "    </tr>\n",
       "    <tr>\n",
       "      <th>1</th>\n",
       "      <td>1</td>\n",
       "      <td>-4024.803754</td>\n",
       "      <td>36</td>\n",
       "      <td>среднее</td>\n",
       "      <td>1</td>\n",
       "      <td>женат / замужем</td>\n",
       "      <td>0</td>\n",
       "      <td>F</td>\n",
       "      <td>сотрудник</td>\n",
       "      <td>0</td>\n",
       "      <td>112080.014102</td>\n",
       "      <td>приобретение автомобиля</td>\n",
       "    </tr>\n",
       "    <tr>\n",
       "      <th>2</th>\n",
       "      <td>0</td>\n",
       "      <td>-5623.422610</td>\n",
       "      <td>33</td>\n",
       "      <td>Среднее</td>\n",
       "      <td>1</td>\n",
       "      <td>женат / замужем</td>\n",
       "      <td>0</td>\n",
       "      <td>M</td>\n",
       "      <td>сотрудник</td>\n",
       "      <td>0</td>\n",
       "      <td>145885.952297</td>\n",
       "      <td>покупка жилья</td>\n",
       "    </tr>\n",
       "    <tr>\n",
       "      <th>3</th>\n",
       "      <td>3</td>\n",
       "      <td>-4124.747207</td>\n",
       "      <td>32</td>\n",
       "      <td>среднее</td>\n",
       "      <td>1</td>\n",
       "      <td>женат / замужем</td>\n",
       "      <td>0</td>\n",
       "      <td>M</td>\n",
       "      <td>сотрудник</td>\n",
       "      <td>0</td>\n",
       "      <td>267628.550329</td>\n",
       "      <td>дополнительное образование</td>\n",
       "    </tr>\n",
       "    <tr>\n",
       "      <th>4</th>\n",
       "      <td>0</td>\n",
       "      <td>340266.072047</td>\n",
       "      <td>53</td>\n",
       "      <td>среднее</td>\n",
       "      <td>1</td>\n",
       "      <td>гражданский брак</td>\n",
       "      <td>1</td>\n",
       "      <td>F</td>\n",
       "      <td>пенсионер</td>\n",
       "      <td>0</td>\n",
       "      <td>158616.077870</td>\n",
       "      <td>сыграть свадьбу</td>\n",
       "    </tr>\n",
       "    <tr>\n",
       "      <th>5</th>\n",
       "      <td>0</td>\n",
       "      <td>-926.185831</td>\n",
       "      <td>27</td>\n",
       "      <td>высшее</td>\n",
       "      <td>0</td>\n",
       "      <td>гражданский брак</td>\n",
       "      <td>1</td>\n",
       "      <td>M</td>\n",
       "      <td>компаньон</td>\n",
       "      <td>0</td>\n",
       "      <td>255763.565419</td>\n",
       "      <td>покупка жилья</td>\n",
       "    </tr>\n",
       "    <tr>\n",
       "      <th>6</th>\n",
       "      <td>0</td>\n",
       "      <td>-2879.202052</td>\n",
       "      <td>43</td>\n",
       "      <td>высшее</td>\n",
       "      <td>0</td>\n",
       "      <td>женат / замужем</td>\n",
       "      <td>0</td>\n",
       "      <td>F</td>\n",
       "      <td>компаньон</td>\n",
       "      <td>0</td>\n",
       "      <td>240525.971920</td>\n",
       "      <td>операции с жильем</td>\n",
       "    </tr>\n",
       "    <tr>\n",
       "      <th>7</th>\n",
       "      <td>0</td>\n",
       "      <td>-152.779569</td>\n",
       "      <td>50</td>\n",
       "      <td>СРЕДНЕЕ</td>\n",
       "      <td>1</td>\n",
       "      <td>женат / замужем</td>\n",
       "      <td>0</td>\n",
       "      <td>M</td>\n",
       "      <td>сотрудник</td>\n",
       "      <td>0</td>\n",
       "      <td>135823.934197</td>\n",
       "      <td>образование</td>\n",
       "    </tr>\n",
       "    <tr>\n",
       "      <th>8</th>\n",
       "      <td>2</td>\n",
       "      <td>-6929.865299</td>\n",
       "      <td>35</td>\n",
       "      <td>ВЫСШЕЕ</td>\n",
       "      <td>0</td>\n",
       "      <td>гражданский брак</td>\n",
       "      <td>1</td>\n",
       "      <td>F</td>\n",
       "      <td>сотрудник</td>\n",
       "      <td>0</td>\n",
       "      <td>95856.832424</td>\n",
       "      <td>на проведение свадьбы</td>\n",
       "    </tr>\n",
       "    <tr>\n",
       "      <th>9</th>\n",
       "      <td>0</td>\n",
       "      <td>-2188.756445</td>\n",
       "      <td>41</td>\n",
       "      <td>среднее</td>\n",
       "      <td>1</td>\n",
       "      <td>женат / замужем</td>\n",
       "      <td>0</td>\n",
       "      <td>M</td>\n",
       "      <td>сотрудник</td>\n",
       "      <td>0</td>\n",
       "      <td>144425.938277</td>\n",
       "      <td>покупка жилья для семьи</td>\n",
       "    </tr>\n",
       "    <tr>\n",
       "      <th>10</th>\n",
       "      <td>2</td>\n",
       "      <td>-4171.483647</td>\n",
       "      <td>36</td>\n",
       "      <td>высшее</td>\n",
       "      <td>0</td>\n",
       "      <td>женат / замужем</td>\n",
       "      <td>0</td>\n",
       "      <td>M</td>\n",
       "      <td>компаньон</td>\n",
       "      <td>0</td>\n",
       "      <td>113943.491460</td>\n",
       "      <td>покупка недвижимости</td>\n",
       "    </tr>\n",
       "    <tr>\n",
       "      <th>11</th>\n",
       "      <td>0</td>\n",
       "      <td>-792.701887</td>\n",
       "      <td>40</td>\n",
       "      <td>среднее</td>\n",
       "      <td>1</td>\n",
       "      <td>женат / замужем</td>\n",
       "      <td>0</td>\n",
       "      <td>F</td>\n",
       "      <td>сотрудник</td>\n",
       "      <td>0</td>\n",
       "      <td>77069.234271</td>\n",
       "      <td>покупка коммерческой недвижимости</td>\n",
       "    </tr>\n",
       "    <tr>\n",
       "      <th>12</th>\n",
       "      <td>0</td>\n",
       "      <td>NaN</td>\n",
       "      <td>65</td>\n",
       "      <td>среднее</td>\n",
       "      <td>1</td>\n",
       "      <td>гражданский брак</td>\n",
       "      <td>1</td>\n",
       "      <td>M</td>\n",
       "      <td>пенсионер</td>\n",
       "      <td>0</td>\n",
       "      <td>NaN</td>\n",
       "      <td>сыграть свадьбу</td>\n",
       "    </tr>\n",
       "    <tr>\n",
       "      <th>13</th>\n",
       "      <td>0</td>\n",
       "      <td>-1846.641941</td>\n",
       "      <td>54</td>\n",
       "      <td>неоконченное высшее</td>\n",
       "      <td>2</td>\n",
       "      <td>женат / замужем</td>\n",
       "      <td>0</td>\n",
       "      <td>F</td>\n",
       "      <td>сотрудник</td>\n",
       "      <td>0</td>\n",
       "      <td>130458.228857</td>\n",
       "      <td>приобретение автомобиля</td>\n",
       "    </tr>\n",
       "    <tr>\n",
       "      <th>14</th>\n",
       "      <td>0</td>\n",
       "      <td>-1844.956182</td>\n",
       "      <td>56</td>\n",
       "      <td>высшее</td>\n",
       "      <td>0</td>\n",
       "      <td>гражданский брак</td>\n",
       "      <td>1</td>\n",
       "      <td>F</td>\n",
       "      <td>компаньон</td>\n",
       "      <td>1</td>\n",
       "      <td>165127.911772</td>\n",
       "      <td>покупка жилой недвижимости</td>\n",
       "    </tr>\n",
       "    <tr>\n",
       "      <th>15</th>\n",
       "      <td>1</td>\n",
       "      <td>-972.364419</td>\n",
       "      <td>26</td>\n",
       "      <td>среднее</td>\n",
       "      <td>1</td>\n",
       "      <td>женат / замужем</td>\n",
       "      <td>0</td>\n",
       "      <td>F</td>\n",
       "      <td>сотрудник</td>\n",
       "      <td>0</td>\n",
       "      <td>116820.904450</td>\n",
       "      <td>строительство собственной недвижимости</td>\n",
       "    </tr>\n",
       "    <tr>\n",
       "      <th>16</th>\n",
       "      <td>0</td>\n",
       "      <td>-1719.934226</td>\n",
       "      <td>35</td>\n",
       "      <td>среднее</td>\n",
       "      <td>1</td>\n",
       "      <td>женат / замужем</td>\n",
       "      <td>0</td>\n",
       "      <td>F</td>\n",
       "      <td>сотрудник</td>\n",
       "      <td>0</td>\n",
       "      <td>289202.704229</td>\n",
       "      <td>недвижимость</td>\n",
       "    </tr>\n",
       "    <tr>\n",
       "      <th>17</th>\n",
       "      <td>0</td>\n",
       "      <td>-2369.999720</td>\n",
       "      <td>33</td>\n",
       "      <td>высшее</td>\n",
       "      <td>0</td>\n",
       "      <td>гражданский брак</td>\n",
       "      <td>1</td>\n",
       "      <td>M</td>\n",
       "      <td>сотрудник</td>\n",
       "      <td>0</td>\n",
       "      <td>90410.586745</td>\n",
       "      <td>строительство недвижимости</td>\n",
       "    </tr>\n",
       "    <tr>\n",
       "      <th>18</th>\n",
       "      <td>0</td>\n",
       "      <td>400281.136913</td>\n",
       "      <td>53</td>\n",
       "      <td>среднее</td>\n",
       "      <td>1</td>\n",
       "      <td>вдовец / вдова</td>\n",
       "      <td>2</td>\n",
       "      <td>F</td>\n",
       "      <td>пенсионер</td>\n",
       "      <td>0</td>\n",
       "      <td>56823.777243</td>\n",
       "      <td>на покупку подержанного автомобиля</td>\n",
       "    </tr>\n",
       "    <tr>\n",
       "      <th>19</th>\n",
       "      <td>0</td>\n",
       "      <td>-10038.818549</td>\n",
       "      <td>48</td>\n",
       "      <td>СРЕДНЕЕ</td>\n",
       "      <td>1</td>\n",
       "      <td>в разводе</td>\n",
       "      <td>3</td>\n",
       "      <td>F</td>\n",
       "      <td>сотрудник</td>\n",
       "      <td>0</td>\n",
       "      <td>242831.107982</td>\n",
       "      <td>на покупку своего автомобиля</td>\n",
       "    </tr>\n",
       "  </tbody>\n",
       "</table>\n",
       "</div>"
      ],
      "text/plain": [
       "    children  days_employed  dob_years            education  education_id  \\\n",
       "0          1   -8437.673028         42               высшее             0   \n",
       "1          1   -4024.803754         36              среднее             1   \n",
       "2          0   -5623.422610         33              Среднее             1   \n",
       "3          3   -4124.747207         32              среднее             1   \n",
       "4          0  340266.072047         53              среднее             1   \n",
       "5          0    -926.185831         27               высшее             0   \n",
       "6          0   -2879.202052         43               высшее             0   \n",
       "7          0    -152.779569         50              СРЕДНЕЕ             1   \n",
       "8          2   -6929.865299         35               ВЫСШЕЕ             0   \n",
       "9          0   -2188.756445         41              среднее             1   \n",
       "10         2   -4171.483647         36               высшее             0   \n",
       "11         0    -792.701887         40              среднее             1   \n",
       "12         0            NaN         65              среднее             1   \n",
       "13         0   -1846.641941         54  неоконченное высшее             2   \n",
       "14         0   -1844.956182         56               высшее             0   \n",
       "15         1    -972.364419         26              среднее             1   \n",
       "16         0   -1719.934226         35              среднее             1   \n",
       "17         0   -2369.999720         33               высшее             0   \n",
       "18         0  400281.136913         53              среднее             1   \n",
       "19         0  -10038.818549         48              СРЕДНЕЕ             1   \n",
       "\n",
       "       family_status  family_status_id gender income_type  debt  \\\n",
       "0    женат / замужем                 0      F   сотрудник     0   \n",
       "1    женат / замужем                 0      F   сотрудник     0   \n",
       "2    женат / замужем                 0      M   сотрудник     0   \n",
       "3    женат / замужем                 0      M   сотрудник     0   \n",
       "4   гражданский брак                 1      F   пенсионер     0   \n",
       "5   гражданский брак                 1      M   компаньон     0   \n",
       "6    женат / замужем                 0      F   компаньон     0   \n",
       "7    женат / замужем                 0      M   сотрудник     0   \n",
       "8   гражданский брак                 1      F   сотрудник     0   \n",
       "9    женат / замужем                 0      M   сотрудник     0   \n",
       "10   женат / замужем                 0      M   компаньон     0   \n",
       "11   женат / замужем                 0      F   сотрудник     0   \n",
       "12  гражданский брак                 1      M   пенсионер     0   \n",
       "13   женат / замужем                 0      F   сотрудник     0   \n",
       "14  гражданский брак                 1      F   компаньон     1   \n",
       "15   женат / замужем                 0      F   сотрудник     0   \n",
       "16   женат / замужем                 0      F   сотрудник     0   \n",
       "17  гражданский брак                 1      M   сотрудник     0   \n",
       "18    вдовец / вдова                 2      F   пенсионер     0   \n",
       "19         в разводе                 3      F   сотрудник     0   \n",
       "\n",
       "     total_income                                 purpose  \n",
       "0   253875.639453                           покупка жилья  \n",
       "1   112080.014102                 приобретение автомобиля  \n",
       "2   145885.952297                           покупка жилья  \n",
       "3   267628.550329              дополнительное образование  \n",
       "4   158616.077870                         сыграть свадьбу  \n",
       "5   255763.565419                           покупка жилья  \n",
       "6   240525.971920                       операции с жильем  \n",
       "7   135823.934197                             образование  \n",
       "8    95856.832424                   на проведение свадьбы  \n",
       "9   144425.938277                 покупка жилья для семьи  \n",
       "10  113943.491460                    покупка недвижимости  \n",
       "11   77069.234271       покупка коммерческой недвижимости  \n",
       "12            NaN                         сыграть свадьбу  \n",
       "13  130458.228857                 приобретение автомобиля  \n",
       "14  165127.911772              покупка жилой недвижимости  \n",
       "15  116820.904450  строительство собственной недвижимости  \n",
       "16  289202.704229                            недвижимость  \n",
       "17   90410.586745              строительство недвижимости  \n",
       "18   56823.777243      на покупку подержанного автомобиля  \n",
       "19  242831.107982            на покупку своего автомобиля  "
      ]
     },
     "execution_count": 2,
     "metadata": {},
     "output_type": "execute_result"
    }
   ],
   "source": [
    "data.head(20)"
   ]
  },
  {
   "cell_type": "markdown",
   "id": "6aa9f25e",
   "metadata": {
    "deletable": false,
    "editable": false,
    "id": "1c12e233"
   },
   "source": [
    "**Задание 3. Выведите основную информацию о датафрейме с помощью метода `info()`.**"
   ]
  },
  {
   "cell_type": "code",
   "execution_count": 3,
   "id": "87b77f1b",
   "metadata": {
    "deletable": false,
    "id": "2b757bca",
    "outputId": "15376089-8dad-46c9-b520-c05248d43158"
   },
   "outputs": [
    {
     "name": "stdout",
     "output_type": "stream",
     "text": [
      "<class 'pandas.core.frame.DataFrame'>\n",
      "RangeIndex: 21525 entries, 0 to 21524\n",
      "Data columns (total 12 columns):\n",
      " #   Column            Non-Null Count  Dtype  \n",
      "---  ------            --------------  -----  \n",
      " 0   children          21525 non-null  int64  \n",
      " 1   days_employed     19351 non-null  float64\n",
      " 2   dob_years         21525 non-null  int64  \n",
      " 3   education         21525 non-null  object \n",
      " 4   education_id      21525 non-null  int64  \n",
      " 5   family_status     21525 non-null  object \n",
      " 6   family_status_id  21525 non-null  int64  \n",
      " 7   gender            21525 non-null  object \n",
      " 8   income_type       21525 non-null  object \n",
      " 9   debt              21525 non-null  int64  \n",
      " 10  total_income      19351 non-null  float64\n",
      " 11  purpose           21525 non-null  object \n",
      "dtypes: float64(2), int64(5), object(5)\n",
      "memory usage: 2.0+ MB\n"
     ]
    }
   ],
   "source": [
    "data.info()"
   ]
  },
  {
   "cell_type": "markdown",
   "id": "808c7e99",
   "metadata": {
    "deletable": false,
    "editable": false,
    "id": "333ec665"
   },
   "source": [
    "## Предобработка данных"
   ]
  },
  {
   "cell_type": "markdown",
   "id": "906d0772",
   "metadata": {
    "deletable": false,
    "editable": false,
    "id": "02d92d53"
   },
   "source": [
    "### Удаление пропусков"
   ]
  },
  {
   "cell_type": "markdown",
   "id": "638e5d50",
   "metadata": {
    "deletable": false,
    "editable": false,
    "id": "cd84967c"
   },
   "source": [
    "**Задание 4. Выведите количество пропущенных значений для каждого столбца. Используйте комбинацию двух методов.**"
   ]
  },
  {
   "cell_type": "code",
   "execution_count": 4,
   "id": "9c0e040c",
   "metadata": {
    "deletable": false,
    "id": "7f9b2309",
    "outputId": "81f4d817-781c-465c-ed15-91ce4446810d"
   },
   "outputs": [
    {
     "data": {
      "text/plain": [
       "children               0\n",
       "days_employed       2174\n",
       "dob_years              0\n",
       "education              0\n",
       "education_id           0\n",
       "family_status          0\n",
       "family_status_id       0\n",
       "gender                 0\n",
       "income_type            0\n",
       "debt                   0\n",
       "total_income        2174\n",
       "purpose                0\n",
       "dtype: int64"
      ]
     },
     "execution_count": 4,
     "metadata": {},
     "output_type": "execute_result"
    }
   ],
   "source": [
    "data.isna().sum()"
   ]
  },
  {
   "cell_type": "markdown",
   "id": "c5d37fb3",
   "metadata": {
    "deletable": false,
    "editable": false,
    "id": "db86e27b"
   },
   "source": [
    "**Задание 5. В двух столбцах есть пропущенные значения. Один из них — `days_employed`. Пропуски в этом столбце вы обработаете на следующем этапе. Другой столбец с пропущенными значениями — `total_income` — хранит данные о доходах. На сумму дохода сильнее всего влияет тип занятости, поэтому заполнить пропуски в этом столбце нужно медианным значением по каждому типу из столбца `income_type`. Например, у человека с типом занятости `сотрудник` пропуск в столбце `total_income` должен быть заполнен медианным доходом среди всех записей с тем же типом.**"
   ]
  },
  {
   "cell_type": "code",
   "execution_count": 5,
   "id": "8c794850",
   "metadata": {
    "deletable": false,
    "id": "42006a93"
   },
   "outputs": [],
   "source": [
    "for t in data['income_type'].unique():\n",
    "    data.loc[(data['income_type'] == t) & (data['total_income'].isna()), 'total_income'] = \\\n",
    "    data.loc[(data['income_type'] == t), 'total_income'].median()"
   ]
  },
  {
   "cell_type": "markdown",
   "id": "948185da",
   "metadata": {
    "deletable": false,
    "editable": false,
    "id": "89da5ece"
   },
   "source": [
    "### Обработка аномальных значений"
   ]
  },
  {
   "cell_type": "markdown",
   "id": "d80865d2",
   "metadata": {
    "deletable": false,
    "editable": false,
    "id": "57964554"
   },
   "source": [
    "**Задание 6. В данных могут встречаться артефакты (аномалии) — значения, которые не отражают действительность и появились по какой-то ошибке. таким артефактом будет отрицательное количество дней трудового стажа в столбце `days_employed`. Для реальных данных это нормально. Обработайте значения в этом столбце: замените все отрицательные значения положительными с помощью метода `abs()`.**"
   ]
  },
  {
   "cell_type": "code",
   "execution_count": 6,
   "id": "9e288f79",
   "metadata": {
    "deletable": false,
    "id": "f6f055bf"
   },
   "outputs": [],
   "source": [
    "data['days_employed'] = data['days_employed'].abs()"
   ]
  },
  {
   "cell_type": "markdown",
   "id": "3a86b4db",
   "metadata": {
    "deletable": false,
    "editable": false,
    "id": "6107dd2f"
   },
   "source": [
    "**Задание 7. Для каждого типа занятости выведите медианное значение трудового стажа `days_employed` в днях.**"
   ]
  },
  {
   "cell_type": "code",
   "execution_count": 7,
   "id": "1d43c6cb",
   "metadata": {
    "deletable": false,
    "id": "85a5faf6",
    "outputId": "801ef80e-522b-4668-f34e-565af7432bcf"
   },
   "outputs": [
    {
     "data": {
      "text/plain": [
       "income_type\n",
       "безработный        366413.652744\n",
       "в декрете            3296.759962\n",
       "госслужащий          2689.368353\n",
       "компаньон            1547.382223\n",
       "пенсионер          365213.306266\n",
       "предприниматель       520.848083\n",
       "сотрудник            1574.202821\n",
       "студент               578.751554\n",
       "Name: days_employed, dtype: float64"
      ]
     },
     "execution_count": 7,
     "metadata": {},
     "output_type": "execute_result"
    }
   ],
   "source": [
    "data.groupby('income_type')['days_employed'].agg('median')"
   ]
  },
  {
   "cell_type": "markdown",
   "id": "24767719",
   "metadata": {
    "deletable": false,
    "editable": false,
    "id": "38d1a030"
   },
   "source": [
    "У двух типов (безработные и пенсионеры) получатся аномально большие значения. Исправить такие значения сложно, поэтому оставьте их как есть. Тем более этот столбец не понадобится вам для исследования."
   ]
  },
  {
   "cell_type": "markdown",
   "id": "5bd4edba",
   "metadata": {
    "deletable": false,
    "editable": false,
    "id": "d8a9f147"
   },
   "source": [
    "**Задание 8. Выведите перечень уникальных значений столбца `children`.**"
   ]
  },
  {
   "cell_type": "code",
   "execution_count": 8,
   "id": "ec9a0627",
   "metadata": {
    "deletable": false,
    "id": "ef5056eb",
    "outputId": "6975b15c-7f95-4697-d16d-a0c79b657b03"
   },
   "outputs": [
    {
     "data": {
      "text/plain": [
       "array([ 1,  0,  3,  2, -1,  4, 20,  5])"
      ]
     },
     "execution_count": 8,
     "metadata": {},
     "output_type": "execute_result"
    }
   ],
   "source": [
    "data['children'].unique()"
   ]
  },
  {
   "cell_type": "markdown",
   "id": "8991f1f2",
   "metadata": {
    "deletable": false,
    "editable": false,
    "id": "40b9ebf2"
   },
   "source": [
    "**Задание 9. В столбце `children` есть два аномальных значения. Удалите строки, в которых встречаются такие аномальные значения из датафрейма `data`.**"
   ]
  },
  {
   "cell_type": "code",
   "execution_count": 9,
   "id": "e8f782d4",
   "metadata": {
    "deletable": false,
    "id": "3ff9801d"
   },
   "outputs": [],
   "source": [
    "data = data[(data['children'] != -1) & (data['children'] != 20)]"
   ]
  },
  {
   "cell_type": "markdown",
   "id": "83d30722",
   "metadata": {
    "deletable": false,
    "editable": false,
    "id": "bbc4d0ce"
   },
   "source": [
    "**Задание 10. Ещё раз выведите перечень уникальных значений столбца `children`, чтобы убедиться, что артефакты удалены.**"
   ]
  },
  {
   "cell_type": "code",
   "execution_count": 10,
   "id": "701b18cd",
   "metadata": {
    "deletable": false,
    "id": "ad4fa8b7",
    "outputId": "b2097101-d49d-44d9-901b-32a65c9463d1"
   },
   "outputs": [
    {
     "data": {
      "text/plain": [
       "array([1, 0, 3, 2, 4, 5])"
      ]
     },
     "execution_count": 10,
     "metadata": {},
     "output_type": "execute_result"
    }
   ],
   "source": [
    "data['children'].unique()"
   ]
  },
  {
   "cell_type": "markdown",
   "id": "30c767fb",
   "metadata": {
    "deletable": false,
    "editable": false,
    "id": "75440b63"
   },
   "source": [
    "### Удаление пропусков (продолжение)"
   ]
  },
  {
   "cell_type": "markdown",
   "id": "b71e0d84",
   "metadata": {
    "deletable": false,
    "editable": false,
    "id": "f4ea573f"
   },
   "source": [
    "**Задание 11. Заполните пропуски в столбце `days_employed` медианными значениями по каждого типа занятости `income_type`.**"
   ]
  },
  {
   "cell_type": "code",
   "execution_count": 11,
   "id": "07f00dd6",
   "metadata": {
    "deletable": false,
    "id": "af6b1a7e"
   },
   "outputs": [],
   "source": [
    "for t in data['income_type'].unique():\n",
    "    data.loc[(data['income_type'] == t) & (data['days_employed'].isna()), 'days_employed'] = \\\n",
    "    data.loc[(data['income_type'] == t), 'days_employed'].median()"
   ]
  },
  {
   "cell_type": "markdown",
   "id": "4e395239",
   "metadata": {
    "deletable": false,
    "editable": false,
    "id": "2753f40d"
   },
   "source": [
    "**Задание 12. Убедитесь, что все пропуски заполнены. Проверьте себя и ещё раз выведите количество пропущенных значений для каждого столбца с помощью двух методов.**"
   ]
  },
  {
   "cell_type": "code",
   "execution_count": 12,
   "id": "b47ac50c",
   "metadata": {
    "deletable": false,
    "id": "55f78bc2",
    "outputId": "8da1e4e1-358e-4e87-98c9-f261bce0a7b2"
   },
   "outputs": [
    {
     "data": {
      "text/plain": [
       "children            0\n",
       "days_employed       0\n",
       "dob_years           0\n",
       "education           0\n",
       "education_id        0\n",
       "family_status       0\n",
       "family_status_id    0\n",
       "gender              0\n",
       "income_type         0\n",
       "debt                0\n",
       "total_income        0\n",
       "purpose             0\n",
       "dtype: int64"
      ]
     },
     "execution_count": 12,
     "metadata": {},
     "output_type": "execute_result"
    }
   ],
   "source": [
    "data.isna().sum()"
   ]
  },
  {
   "cell_type": "markdown",
   "id": "b2032812",
   "metadata": {
    "deletable": false,
    "editable": false,
    "id": "ddc81e43"
   },
   "source": [
    "### Изменение типов данных"
   ]
  },
  {
   "cell_type": "markdown",
   "id": "e9af930e",
   "metadata": {
    "deletable": false,
    "editable": false,
    "id": "42d19d24"
   },
   "source": [
    "**Задание 13. Замените вещественный тип данных в столбце `total_income` на целочисленный с помощью метода `astype()`.**"
   ]
  },
  {
   "cell_type": "code",
   "execution_count": 13,
   "id": "dfebab81",
   "metadata": {
    "deletable": false,
    "id": "920b65ad"
   },
   "outputs": [],
   "source": [
    "data['total_income'] = data['total_income'].astype(int)"
   ]
  },
  {
   "cell_type": "markdown",
   "id": "9d582bce",
   "metadata": {
    "deletable": false,
    "editable": false,
    "id": "80c420ba"
   },
   "source": [
    "### Обработка дубликатов"
   ]
  },
  {
   "cell_type": "markdown",
   "id": "1319af72",
   "metadata": {
    "deletable": false,
    "editable": false
   },
   "source": [
    "**Задание 14. Обработайте неявные дубликаты в столбце `education`. В этом столбце есть одни и те же значения, но записанные по-разному: с использованием заглавных и строчных букв. Приведите их к нижнему регистру. Проверьте остальные столбцы.**"
   ]
  },
  {
   "cell_type": "code",
   "execution_count": 14,
   "id": "502f7f8e",
   "metadata": {
    "deletable": false
   },
   "outputs": [],
   "source": [
    "data['education'] = data['education'].str.lower()"
   ]
  },
  {
   "cell_type": "markdown",
   "id": "27570281",
   "metadata": {
    "deletable": false,
    "editable": false,
    "id": "dc587695"
   },
   "source": [
    "**Задание 15. Выведите на экран количество строк-дубликатов в данных. Если такие строки присутствуют, удалите их.**"
   ]
  },
  {
   "cell_type": "code",
   "execution_count": 15,
   "id": "e0084de3",
   "metadata": {
    "deletable": false,
    "id": "3ee445e4",
    "outputId": "9684deba-1934-42d1-99e1-cda61740f822"
   },
   "outputs": [
    {
     "data": {
      "text/plain": [
       "71"
      ]
     },
     "execution_count": 15,
     "metadata": {},
     "output_type": "execute_result"
    }
   ],
   "source": [
    "data.duplicated().sum()"
   ]
  },
  {
   "cell_type": "code",
   "execution_count": 16,
   "id": "0642b547",
   "metadata": {
    "deletable": false,
    "id": "8575fe05"
   },
   "outputs": [],
   "source": [
    "data = data.drop_duplicates()"
   ]
  },
  {
   "cell_type": "markdown",
   "id": "af53a575",
   "metadata": {
    "deletable": false,
    "editable": false,
    "id": "9904cf55"
   },
   "source": [
    "### Категоризация данных"
   ]
  },
  {
   "cell_type": "markdown",
   "id": "aaf81165",
   "metadata": {
    "deletable": false,
    "editable": false,
    "id": "72fcc8a2"
   },
   "source": [
    "**Задание 16. На основании диапазонов, указанных ниже, создайте в датафрейме `data` столбец `total_income_category` с категориями:**\n",
    "\n",
    "- 0–30000 — `'E'`;\n",
    "- 30001–50000 — `'D'`;\n",
    "- 50001–200000 — `'C'`;\n",
    "- 200001–1000000 — `'B'`;\n",
    "- 1000001 и выше — `'A'`.\n",
    "\n",
    "\n",
    "**Например, кредитополучателю с доходом 25000 нужно назначить категорию `'E'`, а клиенту, получающему 235000, — `'B'`. Используйте собственную функцию с именем `categorize_income()` и метод `apply()`.**"
   ]
  },
  {
   "cell_type": "code",
   "execution_count": 17,
   "id": "84cfdeb8",
   "metadata": {
    "deletable": false,
    "id": "e1771346"
   },
   "outputs": [],
   "source": [
    "def categorize_income(income):\n",
    "    try:\n",
    "        if 0 <= income <= 30000:\n",
    "            return 'E'\n",
    "        elif 30001 <= income <= 50000:\n",
    "            return 'D'\n",
    "        elif 50001 <= income <= 200000:\n",
    "            return 'C'\n",
    "        elif 200001 <= income <= 1000000:\n",
    "            return 'B'\n",
    "        elif income >= 1000001:\n",
    "            return 'A'\n",
    "    except:\n",
    "        pass"
   ]
  },
  {
   "cell_type": "code",
   "execution_count": 18,
   "id": "fabc37aa",
   "metadata": {
    "deletable": false,
    "id": "d5f3586d"
   },
   "outputs": [],
   "source": [
    "data['total_income_category'] = data['total_income'].apply(categorize_income)"
   ]
  },
  {
   "cell_type": "markdown",
   "id": "3d9306fc",
   "metadata": {
    "deletable": false,
    "editable": false,
    "id": "dde49b5c"
   },
   "source": [
    "**Задание 17. Выведите на экран перечень уникальных целей взятия кредита из столбца `purpose`.**"
   ]
  },
  {
   "cell_type": "code",
   "execution_count": 19,
   "id": "bfbb5e98",
   "metadata": {
    "deletable": false,
    "id": "f67ce9b3",
    "outputId": "673c12d9-7d7e-4ae0-9812-c622c89dd244"
   },
   "outputs": [
    {
     "data": {
      "text/plain": [
       "array(['покупка жилья', 'приобретение автомобиля',\n",
       "       'дополнительное образование', 'сыграть свадьбу',\n",
       "       'операции с жильем', 'образование', 'на проведение свадьбы',\n",
       "       'покупка жилья для семьи', 'покупка недвижимости',\n",
       "       'покупка коммерческой недвижимости', 'покупка жилой недвижимости',\n",
       "       'строительство собственной недвижимости', 'недвижимость',\n",
       "       'строительство недвижимости', 'на покупку подержанного автомобиля',\n",
       "       'на покупку своего автомобиля',\n",
       "       'операции с коммерческой недвижимостью',\n",
       "       'строительство жилой недвижимости', 'жилье',\n",
       "       'операции со своей недвижимостью', 'автомобили',\n",
       "       'заняться образованием', 'сделка с подержанным автомобилем',\n",
       "       'получение образования', 'автомобиль', 'свадьба',\n",
       "       'получение дополнительного образования', 'покупка своего жилья',\n",
       "       'операции с недвижимостью', 'получение высшего образования',\n",
       "       'свой автомобиль', 'сделка с автомобилем',\n",
       "       'профильное образование', 'высшее образование',\n",
       "       'покупка жилья для сдачи', 'на покупку автомобиля', 'ремонт жилью',\n",
       "       'заняться высшим образованием'], dtype=object)"
      ]
     },
     "execution_count": 19,
     "metadata": {},
     "output_type": "execute_result"
    }
   ],
   "source": [
    "data['purpose'].unique()"
   ]
  },
  {
   "cell_type": "markdown",
   "id": "d60bd554",
   "metadata": {
    "deletable": false,
    "editable": false,
    "id": "85d0aef0"
   },
   "source": [
    "**Задание 18. Создайте функцию, которая на основании данных из столбца `purpose` сформирует новый столбец `purpose_category`, в который войдут следующие категории:**\n",
    "\n",
    "- `'операции с автомобилем'`,\n",
    "- `'операции с недвижимостью'`,\n",
    "- `'проведение свадьбы'`,\n",
    "- `'получение образования'`.\n",
    "\n",
    "**Например, если в столбце `purpose` находится подстрока `'на покупку автомобиля'`, то в столбце `purpose_category` должна появиться строка `'операции с автомобилем'`.**\n",
    "\n",
    "**Используйте собственную функцию с именем `categorize_purpose()` и метод `apply()`. Изучите данные в столбце `purpose` и определите, какие подстроки помогут вам правильно определить категорию.**"
   ]
  },
  {
   "cell_type": "code",
   "execution_count": 20,
   "id": "0ca3b49a",
   "metadata": {
    "deletable": false,
    "id": "e149fab4"
   },
   "outputs": [],
   "source": [
    "def categorize_purpose(row):\n",
    "    try:\n",
    "        if 'автом' in row:\n",
    "            return 'операции с автомобилем'\n",
    "        elif 'жил' in row or 'недвиж' in row:\n",
    "            return 'операции с недвижимостью'\n",
    "        elif 'свад' in row:\n",
    "            return 'проведение свадьбы'\n",
    "        elif 'образов' in row:\n",
    "            return 'получение образования'\n",
    "    except:\n",
    "        return 'нет категории'"
   ]
  },
  {
   "cell_type": "code",
   "execution_count": 21,
   "id": "f12aa2ce",
   "metadata": {
    "deletable": false,
    "id": "bf36e69b"
   },
   "outputs": [],
   "source": [
    "data['purpose_category'] = data['purpose'].apply(categorize_purpose)"
   ]
  },
  {
   "cell_type": "markdown",
   "id": "9d57cef0",
   "metadata": {
    "deletable": false,
    "editable": false,
    "id": "09b242bf"
   },
   "source": [
    "### Шаг 3. Исследуйте данные и ответьте на вопросы"
   ]
  },
  {
   "cell_type": "markdown",
   "id": "88631155",
   "metadata": {
    "deletable": false,
    "editable": false,
    "id": "c5d66278"
   },
   "source": [
    "#### 3.1 Есть ли зависимость между количеством детей и возвратом кредита в срок?"
   ]
  },
  {
   "cell_type": "code",
   "execution_count": 22,
   "id": "b4415833",
   "metadata": {},
   "outputs": [],
   "source": [
    "# Инициализируем переменную\n",
    "\n",
    "debt_from_children = pd.DataFrame()"
   ]
  },
  {
   "cell_type": "code",
   "execution_count": 23,
   "id": "d3a2fb4b",
   "metadata": {
    "deletable": false,
    "id": "2cacfc4a"
   },
   "outputs": [],
   "source": [
    "# Выясняем количество заемщиков, допустивших просрочку\n",
    "\n",
    "debt_from_children['sum_children'] = data.groupby('children')['debt'].sum()"
   ]
  },
  {
   "cell_type": "code",
   "execution_count": 24,
   "id": "cd8ab2b4",
   "metadata": {},
   "outputs": [],
   "source": [
    "# Выясняем общее количество заемщиков\n",
    "\n",
    "debt_from_children['count_children'] = data.groupby('children')['debt'].count()"
   ]
  },
  {
   "cell_type": "code",
   "execution_count": 25,
   "id": "f08c5582",
   "metadata": {},
   "outputs": [],
   "source": [
    "# Выясняем долю заемщиков, допустивших просрочку \n",
    "\n",
    "debt_from_children['result_children'] = (\n",
    "    debt_from_children['sum_children'] / debt_from_children['count_children'] * 100\n",
    "    )"
   ]
  },
  {
   "cell_type": "code",
   "execution_count": 26,
   "id": "6a5cf88f",
   "metadata": {},
   "outputs": [
    {
     "data": {
      "text/html": [
       "<div>\n",
       "<style scoped>\n",
       "    .dataframe tbody tr th:only-of-type {\n",
       "        vertical-align: middle;\n",
       "    }\n",
       "\n",
       "    .dataframe tbody tr th {\n",
       "        vertical-align: top;\n",
       "    }\n",
       "\n",
       "    .dataframe thead th {\n",
       "        text-align: right;\n",
       "    }\n",
       "</style>\n",
       "<table border=\"1\" class=\"dataframe\">\n",
       "  <thead>\n",
       "    <tr style=\"text-align: right;\">\n",
       "      <th></th>\n",
       "      <th>sum_children</th>\n",
       "      <th>count_children</th>\n",
       "      <th>result_children</th>\n",
       "    </tr>\n",
       "    <tr>\n",
       "      <th>children</th>\n",
       "      <th></th>\n",
       "      <th></th>\n",
       "      <th></th>\n",
       "    </tr>\n",
       "  </thead>\n",
       "  <tbody>\n",
       "    <tr>\n",
       "      <th>5</th>\n",
       "      <td>0</td>\n",
       "      <td>9</td>\n",
       "      <td>0.000000</td>\n",
       "    </tr>\n",
       "    <tr>\n",
       "      <th>0</th>\n",
       "      <td>1063</td>\n",
       "      <td>14091</td>\n",
       "      <td>7.543822</td>\n",
       "    </tr>\n",
       "    <tr>\n",
       "      <th>3</th>\n",
       "      <td>27</td>\n",
       "      <td>330</td>\n",
       "      <td>8.181818</td>\n",
       "    </tr>\n",
       "    <tr>\n",
       "      <th>1</th>\n",
       "      <td>444</td>\n",
       "      <td>4808</td>\n",
       "      <td>9.234609</td>\n",
       "    </tr>\n",
       "    <tr>\n",
       "      <th>2</th>\n",
       "      <td>194</td>\n",
       "      <td>2052</td>\n",
       "      <td>9.454191</td>\n",
       "    </tr>\n",
       "    <tr>\n",
       "      <th>4</th>\n",
       "      <td>4</td>\n",
       "      <td>41</td>\n",
       "      <td>9.756098</td>\n",
       "    </tr>\n",
       "  </tbody>\n",
       "</table>\n",
       "</div>"
      ],
      "text/plain": [
       "          sum_children  count_children  result_children\n",
       "children                                               \n",
       "5                    0               9         0.000000\n",
       "0                 1063           14091         7.543822\n",
       "3                   27             330         8.181818\n",
       "1                  444            4808         9.234609\n",
       "2                  194            2052         9.454191\n",
       "4                    4              41         9.756098"
      ]
     },
     "execution_count": 26,
     "metadata": {},
     "output_type": "execute_result"
    }
   ],
   "source": [
    "# Выводим результат для анализа\n",
    "\n",
    "debt_from_children.sort_values('result_children')"
   ]
  },
  {
   "cell_type": "code",
   "execution_count": 27,
   "id": "901b6fa8",
   "metadata": {},
   "outputs": [
    {
     "data": {
      "text/html": [
       "<div>\n",
       "<style scoped>\n",
       "    .dataframe tbody tr th:only-of-type {\n",
       "        vertical-align: middle;\n",
       "    }\n",
       "\n",
       "    .dataframe tbody tr th {\n",
       "        vertical-align: top;\n",
       "    }\n",
       "\n",
       "    .dataframe thead th {\n",
       "        text-align: right;\n",
       "    }\n",
       "</style>\n",
       "<table border=\"1\" class=\"dataframe\">\n",
       "  <thead>\n",
       "    <tr style=\"text-align: right;\">\n",
       "      <th></th>\n",
       "      <th>sum</th>\n",
       "      <th>count</th>\n",
       "      <th>mean</th>\n",
       "    </tr>\n",
       "    <tr>\n",
       "      <th>children</th>\n",
       "      <th></th>\n",
       "      <th></th>\n",
       "      <th></th>\n",
       "    </tr>\n",
       "  </thead>\n",
       "  <tbody>\n",
       "    <tr>\n",
       "      <th>0</th>\n",
       "      <td>1063</td>\n",
       "      <td>14091</td>\n",
       "      <td>0.075438</td>\n",
       "    </tr>\n",
       "    <tr>\n",
       "      <th>1</th>\n",
       "      <td>444</td>\n",
       "      <td>4808</td>\n",
       "      <td>0.092346</td>\n",
       "    </tr>\n",
       "    <tr>\n",
       "      <th>2</th>\n",
       "      <td>194</td>\n",
       "      <td>2052</td>\n",
       "      <td>0.094542</td>\n",
       "    </tr>\n",
       "    <tr>\n",
       "      <th>3</th>\n",
       "      <td>27</td>\n",
       "      <td>330</td>\n",
       "      <td>0.081818</td>\n",
       "    </tr>\n",
       "    <tr>\n",
       "      <th>4</th>\n",
       "      <td>4</td>\n",
       "      <td>41</td>\n",
       "      <td>0.097561</td>\n",
       "    </tr>\n",
       "    <tr>\n",
       "      <th>5</th>\n",
       "      <td>0</td>\n",
       "      <td>9</td>\n",
       "      <td>0.000000</td>\n",
       "    </tr>\n",
       "  </tbody>\n",
       "</table>\n",
       "</div>"
      ],
      "text/plain": [
       "           sum  count      mean\n",
       "children                       \n",
       "0         1063  14091  0.075438\n",
       "1          444   4808  0.092346\n",
       "2          194   2052  0.094542\n",
       "3           27    330  0.081818\n",
       "4            4     41  0.097561\n",
       "5            0      9  0.000000"
      ]
     },
     "execution_count": 27,
     "metadata": {},
     "output_type": "execute_result"
    }
   ],
   "source": [
    "# я бы так написал\n",
    "\n",
    "debt_from_children = data.groupby('children')['debt'].agg(['sum', 'count', 'mean'])\n",
    "\n",
    "debt_from_children"
   ]
  },
  {
   "cell_type": "code",
   "execution_count": 28,
   "id": "6e0ec5ad",
   "metadata": {},
   "outputs": [
    {
     "data": {
      "text/html": [
       "<div>\n",
       "<style scoped>\n",
       "    .dataframe tbody tr th:only-of-type {\n",
       "        vertical-align: middle;\n",
       "    }\n",
       "\n",
       "    .dataframe tbody tr th {\n",
       "        vertical-align: top;\n",
       "    }\n",
       "\n",
       "    .dataframe thead th {\n",
       "        text-align: right;\n",
       "    }\n",
       "</style>\n",
       "<table border=\"1\" class=\"dataframe\">\n",
       "  <thead>\n",
       "    <tr style=\"text-align: right;\">\n",
       "      <th></th>\n",
       "      <th>sum</th>\n",
       "      <th>count</th>\n",
       "    </tr>\n",
       "    <tr>\n",
       "      <th>children</th>\n",
       "      <th></th>\n",
       "      <th></th>\n",
       "    </tr>\n",
       "  </thead>\n",
       "  <tbody>\n",
       "    <tr>\n",
       "      <th>0</th>\n",
       "      <td>1063</td>\n",
       "      <td>14091</td>\n",
       "    </tr>\n",
       "    <tr>\n",
       "      <th>1</th>\n",
       "      <td>444</td>\n",
       "      <td>4808</td>\n",
       "    </tr>\n",
       "    <tr>\n",
       "      <th>2</th>\n",
       "      <td>194</td>\n",
       "      <td>2052</td>\n",
       "    </tr>\n",
       "    <tr>\n",
       "      <th>3</th>\n",
       "      <td>27</td>\n",
       "      <td>330</td>\n",
       "    </tr>\n",
       "    <tr>\n",
       "      <th>4</th>\n",
       "      <td>4</td>\n",
       "      <td>41</td>\n",
       "    </tr>\n",
       "    <tr>\n",
       "      <th>5</th>\n",
       "      <td>0</td>\n",
       "      <td>9</td>\n",
       "    </tr>\n",
       "  </tbody>\n",
       "</table>\n",
       "</div>"
      ],
      "text/plain": [
       "           sum  count\n",
       "children             \n",
       "0         1063  14091\n",
       "1          444   4808\n",
       "2          194   2052\n",
       "3           27    330\n",
       "4            4     41\n",
       "5            0      9"
      ]
     },
     "execution_count": 28,
     "metadata": {},
     "output_type": "execute_result"
    }
   ],
   "source": [
    "# Выясняем количество заемщиков, допустивших просрочку\n",
    "# Выясняем общее количество заемщиков\n",
    "\n",
    "debt_from_children= data.groupby('children')['debt'].agg(['sum', 'count'])\n",
    "\n",
    "debt_from_children"
   ]
  },
  {
   "cell_type": "code",
   "execution_count": 29,
   "id": "8c9061a2",
   "metadata": {},
   "outputs": [],
   "source": [
    "# Выясняем долю заемщиков, допустивших просрочку \n",
    "\n",
    "debt_from_children['result_children'] = (debt_from_children['sum'] / debt_from_children['count'])"
   ]
  },
  {
   "cell_type": "code",
   "execution_count": 30,
   "id": "9cb50f40",
   "metadata": {},
   "outputs": [
    {
     "data": {
      "text/html": [
       "<div>\n",
       "<style scoped>\n",
       "    .dataframe tbody tr th:only-of-type {\n",
       "        vertical-align: middle;\n",
       "    }\n",
       "\n",
       "    .dataframe tbody tr th {\n",
       "        vertical-align: top;\n",
       "    }\n",
       "\n",
       "    .dataframe thead th {\n",
       "        text-align: right;\n",
       "    }\n",
       "</style>\n",
       "<table border=\"1\" class=\"dataframe\">\n",
       "  <thead>\n",
       "    <tr style=\"text-align: right;\">\n",
       "      <th></th>\n",
       "      <th>sum</th>\n",
       "      <th>count</th>\n",
       "      <th>result_children</th>\n",
       "    </tr>\n",
       "    <tr>\n",
       "      <th>children</th>\n",
       "      <th></th>\n",
       "      <th></th>\n",
       "      <th></th>\n",
       "    </tr>\n",
       "  </thead>\n",
       "  <tbody>\n",
       "    <tr>\n",
       "      <th>5</th>\n",
       "      <td>0</td>\n",
       "      <td>9</td>\n",
       "      <td>0.000000</td>\n",
       "    </tr>\n",
       "    <tr>\n",
       "      <th>0</th>\n",
       "      <td>1063</td>\n",
       "      <td>14091</td>\n",
       "      <td>0.075438</td>\n",
       "    </tr>\n",
       "    <tr>\n",
       "      <th>3</th>\n",
       "      <td>27</td>\n",
       "      <td>330</td>\n",
       "      <td>0.081818</td>\n",
       "    </tr>\n",
       "    <tr>\n",
       "      <th>1</th>\n",
       "      <td>444</td>\n",
       "      <td>4808</td>\n",
       "      <td>0.092346</td>\n",
       "    </tr>\n",
       "    <tr>\n",
       "      <th>2</th>\n",
       "      <td>194</td>\n",
       "      <td>2052</td>\n",
       "      <td>0.094542</td>\n",
       "    </tr>\n",
       "    <tr>\n",
       "      <th>4</th>\n",
       "      <td>4</td>\n",
       "      <td>41</td>\n",
       "      <td>0.097561</td>\n",
       "    </tr>\n",
       "  </tbody>\n",
       "</table>\n",
       "</div>"
      ],
      "text/plain": [
       "           sum  count  result_children\n",
       "children                              \n",
       "5            0      9         0.000000\n",
       "0         1063  14091         0.075438\n",
       "3           27    330         0.081818\n",
       "1          444   4808         0.092346\n",
       "2          194   2052         0.094542\n",
       "4            4     41         0.097561"
      ]
     },
     "execution_count": 30,
     "metadata": {},
     "output_type": "execute_result"
    }
   ],
   "source": [
    "# Выводим результат для анализа\n",
    "\n",
    "debt_from_children.sort_values('result_children')"
   ]
  },
  {
   "cell_type": "markdown",
   "id": "b693cd3b",
   "metadata": {
    "deletable": false,
    "id": "3a6b99ec"
   },
   "source": [
    "**Вывод:** Увеличение количества детей свидетельствует об увеличении риска просрочки по кредиту (фактически разница с бездетными составляет почти 2 %). Несколько выбивается из общей тенденции семьи с 3 детьми, однако выборка мала, возможно, потребуется запросить более расширенную выборку."
   ]
  },
  {
   "cell_type": "markdown",
   "id": "bd5c5241",
   "metadata": {
    "deletable": false,
    "editable": false,
    "id": "97be82ca"
   },
   "source": [
    "#### 3.2 Есть ли зависимость между семейным положением и возвратом кредита в срок?"
   ]
  },
  {
   "cell_type": "code",
   "execution_count": 31,
   "id": "138726ca",
   "metadata": {},
   "outputs": [],
   "source": [
    "# Инициализируем переменную\n",
    "\n",
    "debt_from_family_status = pd.DataFrame()"
   ]
  },
  {
   "cell_type": "code",
   "execution_count": 32,
   "id": "fc710670",
   "metadata": {
    "deletable": false,
    "id": "dc3f7ee8"
   },
   "outputs": [],
   "source": [
    "# Выясняем количество заемщиков, допустивших просрочку\n",
    "\n",
    "debt_from_family_status['sum_family_status'] = data.groupby('family_status')['debt'].sum()"
   ]
  },
  {
   "cell_type": "code",
   "execution_count": 33,
   "id": "58cb521d",
   "metadata": {},
   "outputs": [],
   "source": [
    "# Выясняем общее количество заемщиков\n",
    "\n",
    "debt_from_family_status['count_family_status'] = data.groupby('family_status')['debt'].count()"
   ]
  },
  {
   "cell_type": "code",
   "execution_count": 34,
   "id": "a6a66e26",
   "metadata": {},
   "outputs": [],
   "source": [
    "# Выясняем долю заемщиков, допустивших просрочку \n",
    "\n",
    "debt_from_family_status['result_family_status'] = (\n",
    "    debt_from_family_status['sum_family_status'] / \n",
    "    debt_from_family_status['count_family_status'] \n",
    "    )"
   ]
  },
  {
   "cell_type": "code",
   "execution_count": 35,
   "id": "416628dc",
   "metadata": {},
   "outputs": [
    {
     "data": {
      "text/html": [
       "<div>\n",
       "<style scoped>\n",
       "    .dataframe tbody tr th:only-of-type {\n",
       "        vertical-align: middle;\n",
       "    }\n",
       "\n",
       "    .dataframe tbody tr th {\n",
       "        vertical-align: top;\n",
       "    }\n",
       "\n",
       "    .dataframe thead th {\n",
       "        text-align: right;\n",
       "    }\n",
       "</style>\n",
       "<table border=\"1\" class=\"dataframe\">\n",
       "  <thead>\n",
       "    <tr style=\"text-align: right;\">\n",
       "      <th></th>\n",
       "      <th>sum_family_status</th>\n",
       "      <th>count_family_status</th>\n",
       "      <th>result_family_status</th>\n",
       "    </tr>\n",
       "    <tr>\n",
       "      <th>family_status</th>\n",
       "      <th></th>\n",
       "      <th></th>\n",
       "      <th></th>\n",
       "    </tr>\n",
       "  </thead>\n",
       "  <tbody>\n",
       "    <tr>\n",
       "      <th>вдовец / вдова</th>\n",
       "      <td>63</td>\n",
       "      <td>951</td>\n",
       "      <td>0.066246</td>\n",
       "    </tr>\n",
       "    <tr>\n",
       "      <th>в разводе</th>\n",
       "      <td>84</td>\n",
       "      <td>1189</td>\n",
       "      <td>0.070648</td>\n",
       "    </tr>\n",
       "    <tr>\n",
       "      <th>женат / замужем</th>\n",
       "      <td>927</td>\n",
       "      <td>12261</td>\n",
       "      <td>0.075606</td>\n",
       "    </tr>\n",
       "    <tr>\n",
       "      <th>гражданский брак</th>\n",
       "      <td>385</td>\n",
       "      <td>4134</td>\n",
       "      <td>0.093130</td>\n",
       "    </tr>\n",
       "    <tr>\n",
       "      <th>Не женат / не замужем</th>\n",
       "      <td>273</td>\n",
       "      <td>2796</td>\n",
       "      <td>0.097639</td>\n",
       "    </tr>\n",
       "  </tbody>\n",
       "</table>\n",
       "</div>"
      ],
      "text/plain": [
       "                       sum_family_status  count_family_status  \\\n",
       "family_status                                                   \n",
       "вдовец / вдова                        63                  951   \n",
       "в разводе                             84                 1189   \n",
       "женат / замужем                      927                12261   \n",
       "гражданский брак                     385                 4134   \n",
       "Не женат / не замужем                273                 2796   \n",
       "\n",
       "                       result_family_status  \n",
       "family_status                                \n",
       "вдовец / вдова                     0.066246  \n",
       "в разводе                          0.070648  \n",
       "женат / замужем                    0.075606  \n",
       "гражданский брак                   0.093130  \n",
       "Не женат / не замужем              0.097639  "
      ]
     },
     "execution_count": 35,
     "metadata": {},
     "output_type": "execute_result"
    }
   ],
   "source": [
    "# Выводим результат для анализа\n",
    "\n",
    "debt_from_family_status.sort_values('result_family_status')"
   ]
  },
  {
   "cell_type": "markdown",
   "id": "2dfd9868",
   "metadata": {
    "deletable": false,
    "id": "1cef7837"
   },
   "source": [
    "**Вывод:** Как ни странно, но вдовцы и разведенные более ответственно подходят к вопросу возврата кредитов. Худшая платежная дисциплина - у не женатых и состоящих в гражданском браке. "
   ]
  },
  {
   "cell_type": "markdown",
   "id": "af9a3c6b",
   "metadata": {
    "deletable": false,
    "editable": false,
    "id": "1e8b2fca"
   },
   "source": [
    "#### 3.3 Есть ли зависимость между уровнем дохода и возвратом кредита в срок?"
   ]
  },
  {
   "cell_type": "code",
   "execution_count": 36,
   "id": "e28b8d37",
   "metadata": {},
   "outputs": [],
   "source": [
    "# Инициализируем переменную\n",
    "\n",
    "debt_from_total_income = pd.DataFrame()"
   ]
  },
  {
   "cell_type": "code",
   "execution_count": 37,
   "id": "9ba927ba",
   "metadata": {
    "deletable": false,
    "id": "cd7e3720"
   },
   "outputs": [],
   "source": [
    "# Выясняем количество заемщиков, допустивших просрочку\n",
    "\n",
    "debt_from_total_income['sum'] = data.groupby('total_income_category')['debt'].sum()"
   ]
  },
  {
   "cell_type": "code",
   "execution_count": 38,
   "id": "d45c7191",
   "metadata": {},
   "outputs": [],
   "source": [
    "# Выясняем общее количество заемщиков\n",
    "\n",
    "debt_from_total_income['count'] = data.groupby('total_income_category')['debt'].count()"
   ]
  },
  {
   "cell_type": "code",
   "execution_count": 39,
   "id": "44b61049",
   "metadata": {},
   "outputs": [],
   "source": [
    "# Выясняем долю заемщиков, допустивших просрочку\n",
    "\n",
    "debt_from_total_income['conversion'] = debt_from_total_income['sum'] / debt_from_total_income['count']"
   ]
  },
  {
   "cell_type": "code",
   "execution_count": 40,
   "id": "95ee0123",
   "metadata": {},
   "outputs": [
    {
     "data": {
      "text/html": [
       "<div>\n",
       "<style scoped>\n",
       "    .dataframe tbody tr th:only-of-type {\n",
       "        vertical-align: middle;\n",
       "    }\n",
       "\n",
       "    .dataframe tbody tr th {\n",
       "        vertical-align: top;\n",
       "    }\n",
       "\n",
       "    .dataframe thead th {\n",
       "        text-align: right;\n",
       "    }\n",
       "</style>\n",
       "<table border=\"1\" class=\"dataframe\">\n",
       "  <thead>\n",
       "    <tr style=\"text-align: right;\">\n",
       "      <th></th>\n",
       "      <th>sum</th>\n",
       "      <th>count</th>\n",
       "      <th>conversion</th>\n",
       "    </tr>\n",
       "    <tr>\n",
       "      <th>total_income_category</th>\n",
       "      <th></th>\n",
       "      <th></th>\n",
       "      <th></th>\n",
       "    </tr>\n",
       "  </thead>\n",
       "  <tbody>\n",
       "    <tr>\n",
       "      <th>D</th>\n",
       "      <td>21</td>\n",
       "      <td>349</td>\n",
       "      <td>0.060172</td>\n",
       "    </tr>\n",
       "    <tr>\n",
       "      <th>B</th>\n",
       "      <td>354</td>\n",
       "      <td>5014</td>\n",
       "      <td>0.070602</td>\n",
       "    </tr>\n",
       "    <tr>\n",
       "      <th>A</th>\n",
       "      <td>2</td>\n",
       "      <td>25</td>\n",
       "      <td>0.080000</td>\n",
       "    </tr>\n",
       "    <tr>\n",
       "      <th>C</th>\n",
       "      <td>1353</td>\n",
       "      <td>15921</td>\n",
       "      <td>0.084982</td>\n",
       "    </tr>\n",
       "    <tr>\n",
       "      <th>E</th>\n",
       "      <td>2</td>\n",
       "      <td>22</td>\n",
       "      <td>0.090909</td>\n",
       "    </tr>\n",
       "  </tbody>\n",
       "</table>\n",
       "</div>"
      ],
      "text/plain": [
       "                        sum  count  conversion\n",
       "total_income_category                         \n",
       "D                        21    349    0.060172\n",
       "B                       354   5014    0.070602\n",
       "A                         2     25    0.080000\n",
       "C                      1353  15921    0.084982\n",
       "E                         2     22    0.090909"
      ]
     },
     "execution_count": 40,
     "metadata": {},
     "output_type": "execute_result"
    }
   ],
   "source": [
    "# Выводим результат для анализа\n",
    "\n",
    "debt_from_total_income.sort_values('conversion')"
   ]
  },
  {
   "cell_type": "markdown",
   "id": "ba84a30a",
   "metadata": {
    "deletable": false,
    "id": "e8593def"
   },
   "source": [
    "**Вывод:** Уровень дохода также влияет на вероятнось невозврата кредита в срок. Минимальный риск невозврата кредита имеют заемщики, имеющие доход от 30 001 до 50 000 рублей. Объясняется это просто: имеющиеся свободные средства, оставшиеся от уплаты обязательных платежей и критическая зависимость от получения следующих кредитов. Максимальный риск - у заемщиков с доходом от 0 до 30 000 рублей. Причина в принципе проста - в случае низкого дохода у заемщика каждый срок оплаты кредита - это проблема выбора: оплата кредита или текущие платежи с неясным конкретным выбором. Высокий доход подразумевает наличие возможностей по уклонению от возврата кредита, а также определенная независимость от кредитной истории в связи с отсутствием потребности в получении новых кредитов. Однако нужно учитывать, что выборка по самому высокому и самому низкому доходу очень мала, поэтому необходимо либо исключить их из анализа, либо запросить дополнительные данные."
   ]
  },
  {
   "cell_type": "markdown",
   "id": "5f716283",
   "metadata": {
    "deletable": false,
    "editable": false,
    "id": "99ecbd1f"
   },
   "source": [
    "#### 3.4 Как разные цели кредита влияют на его возврат в срок?"
   ]
  },
  {
   "cell_type": "code",
   "execution_count": 41,
   "id": "d09b374c",
   "metadata": {},
   "outputs": [],
   "source": [
    "# Инициализируем переменную\n",
    "\n",
    "debt_from_purpose_category = pd.DataFrame()"
   ]
  },
  {
   "cell_type": "code",
   "execution_count": 42,
   "id": "6d4ee764",
   "metadata": {
    "deletable": false,
    "id": "2b687290"
   },
   "outputs": [],
   "source": [
    "# Выясняем количество заемщиков, допустивших просрочку\n",
    "\n",
    "debt_from_purpose_category['sum_purpose_category'] = data.groupby('purpose_category')['debt'].sum()"
   ]
  },
  {
   "cell_type": "code",
   "execution_count": 43,
   "id": "e270e3f4",
   "metadata": {},
   "outputs": [],
   "source": [
    "# Выясняем общее количество заемщиков\n",
    "\n",
    "debt_from_purpose_category['count_purpose_category'] = data.groupby('purpose_category')['debt'].count()"
   ]
  },
  {
   "cell_type": "code",
   "execution_count": 44,
   "id": "d0c60b9d",
   "metadata": {},
   "outputs": [],
   "source": [
    "# Выясняем долю заемщиков, допустивших просрочку\n",
    "\n",
    "debt_from_purpose_category['result_purpose_category'] = (\n",
    "    debt_from_purpose_category['sum_purpose_category'] / \n",
    "    debt_from_purpose_category['count_purpose_category'] \n",
    ")"
   ]
  },
  {
   "cell_type": "code",
   "execution_count": 45,
   "id": "0f573fd1",
   "metadata": {},
   "outputs": [
    {
     "data": {
      "text/html": [
       "<div>\n",
       "<style scoped>\n",
       "    .dataframe tbody tr th:only-of-type {\n",
       "        vertical-align: middle;\n",
       "    }\n",
       "\n",
       "    .dataframe tbody tr th {\n",
       "        vertical-align: top;\n",
       "    }\n",
       "\n",
       "    .dataframe thead th {\n",
       "        text-align: right;\n",
       "    }\n",
       "</style>\n",
       "<table border=\"1\" class=\"dataframe\">\n",
       "  <thead>\n",
       "    <tr style=\"text-align: right;\">\n",
       "      <th></th>\n",
       "      <th>sum_purpose_category</th>\n",
       "      <th>count_purpose_category</th>\n",
       "      <th>result_purpose_category</th>\n",
       "    </tr>\n",
       "    <tr>\n",
       "      <th>purpose_category</th>\n",
       "      <th></th>\n",
       "      <th></th>\n",
       "      <th></th>\n",
       "    </tr>\n",
       "  </thead>\n",
       "  <tbody>\n",
       "    <tr>\n",
       "      <th>операции с недвижимостью</th>\n",
       "      <td>780</td>\n",
       "      <td>10751</td>\n",
       "      <td>0.072551</td>\n",
       "    </tr>\n",
       "    <tr>\n",
       "      <th>проведение свадьбы</th>\n",
       "      <td>183</td>\n",
       "      <td>2313</td>\n",
       "      <td>0.079118</td>\n",
       "    </tr>\n",
       "    <tr>\n",
       "      <th>получение образования</th>\n",
       "      <td>369</td>\n",
       "      <td>3988</td>\n",
       "      <td>0.092528</td>\n",
       "    </tr>\n",
       "    <tr>\n",
       "      <th>операции с автомобилем</th>\n",
       "      <td>400</td>\n",
       "      <td>4279</td>\n",
       "      <td>0.093480</td>\n",
       "    </tr>\n",
       "  </tbody>\n",
       "</table>\n",
       "</div>"
      ],
      "text/plain": [
       "                          sum_purpose_category  count_purpose_category  \\\n",
       "purpose_category                                                         \n",
       "операции с недвижимостью                   780                   10751   \n",
       "проведение свадьбы                         183                    2313   \n",
       "получение образования                      369                    3988   \n",
       "операции с автомобилем                     400                    4279   \n",
       "\n",
       "                          result_purpose_category  \n",
       "purpose_category                                   \n",
       "операции с недвижимостью                 0.072551  \n",
       "проведение свадьбы                       0.079118  \n",
       "получение образования                    0.092528  \n",
       "операции с автомобилем                   0.093480  "
      ]
     },
     "execution_count": 45,
     "metadata": {},
     "output_type": "execute_result"
    }
   ],
   "source": [
    "# Выводим результат для анализа\n",
    "\n",
    "debt_from_purpose_category.sort_values('result_purpose_category')"
   ]
  },
  {
   "cell_type": "markdown",
   "id": "87faf896",
   "metadata": {
    "deletable": false,
    "id": "b4bb2ce6"
   },
   "source": [
    "**Вывод:** Цели кредита влияют на вероятность возврата кредита. Наименьший риск у заемщиков по ипотечным кредитам, наибольший - в операциях с автомобилем и получением образования. Видимо, это связано с наличием залога, который дисциплинирует заемщика. Кредит на проведение свадьбы приблизительно равен кредиту на недвижимость."
   ]
  },
  {
   "cell_type": "markdown",
   "id": "95b714db",
   "metadata": {
    "deletable": false,
    "editable": false,
    "id": "09c3ac4c"
   },
   "source": [
    "#### 3.5 Приведите возможные причины появления пропусков в исходных данных."
   ]
  },
  {
   "cell_type": "code",
   "execution_count": 46,
   "id": "10300b59",
   "metadata": {},
   "outputs": [
    {
     "data": {
      "text/html": [
       "<div>\n",
       "<style scoped>\n",
       "    .dataframe tbody tr th:only-of-type {\n",
       "        vertical-align: middle;\n",
       "    }\n",
       "\n",
       "    .dataframe tbody tr th {\n",
       "        vertical-align: top;\n",
       "    }\n",
       "\n",
       "    .dataframe thead th {\n",
       "        text-align: right;\n",
       "    }\n",
       "</style>\n",
       "<table border=\"1\" class=\"dataframe\">\n",
       "  <thead>\n",
       "    <tr style=\"text-align: right;\">\n",
       "      <th></th>\n",
       "      <th>children</th>\n",
       "      <th>days_employed</th>\n",
       "      <th>dob_years</th>\n",
       "      <th>education</th>\n",
       "      <th>education_id</th>\n",
       "      <th>family_status</th>\n",
       "      <th>family_status_id</th>\n",
       "      <th>gender</th>\n",
       "      <th>income_type</th>\n",
       "      <th>debt</th>\n",
       "      <th>total_income</th>\n",
       "      <th>purpose</th>\n",
       "    </tr>\n",
       "  </thead>\n",
       "  <tbody>\n",
       "    <tr>\n",
       "      <th>12</th>\n",
       "      <td>0</td>\n",
       "      <td>NaN</td>\n",
       "      <td>65</td>\n",
       "      <td>среднее</td>\n",
       "      <td>1</td>\n",
       "      <td>гражданский брак</td>\n",
       "      <td>1</td>\n",
       "      <td>M</td>\n",
       "      <td>пенсионер</td>\n",
       "      <td>0</td>\n",
       "      <td>NaN</td>\n",
       "      <td>сыграть свадьбу</td>\n",
       "    </tr>\n",
       "    <tr>\n",
       "      <th>26</th>\n",
       "      <td>0</td>\n",
       "      <td>NaN</td>\n",
       "      <td>41</td>\n",
       "      <td>среднее</td>\n",
       "      <td>1</td>\n",
       "      <td>женат / замужем</td>\n",
       "      <td>0</td>\n",
       "      <td>M</td>\n",
       "      <td>госслужащий</td>\n",
       "      <td>0</td>\n",
       "      <td>NaN</td>\n",
       "      <td>образование</td>\n",
       "    </tr>\n",
       "    <tr>\n",
       "      <th>29</th>\n",
       "      <td>0</td>\n",
       "      <td>NaN</td>\n",
       "      <td>63</td>\n",
       "      <td>среднее</td>\n",
       "      <td>1</td>\n",
       "      <td>Не женат / не замужем</td>\n",
       "      <td>4</td>\n",
       "      <td>F</td>\n",
       "      <td>пенсионер</td>\n",
       "      <td>0</td>\n",
       "      <td>NaN</td>\n",
       "      <td>строительство жилой недвижимости</td>\n",
       "    </tr>\n",
       "    <tr>\n",
       "      <th>41</th>\n",
       "      <td>0</td>\n",
       "      <td>NaN</td>\n",
       "      <td>50</td>\n",
       "      <td>среднее</td>\n",
       "      <td>1</td>\n",
       "      <td>женат / замужем</td>\n",
       "      <td>0</td>\n",
       "      <td>F</td>\n",
       "      <td>госслужащий</td>\n",
       "      <td>0</td>\n",
       "      <td>NaN</td>\n",
       "      <td>сделка с подержанным автомобилем</td>\n",
       "    </tr>\n",
       "    <tr>\n",
       "      <th>55</th>\n",
       "      <td>0</td>\n",
       "      <td>NaN</td>\n",
       "      <td>54</td>\n",
       "      <td>среднее</td>\n",
       "      <td>1</td>\n",
       "      <td>гражданский брак</td>\n",
       "      <td>1</td>\n",
       "      <td>F</td>\n",
       "      <td>пенсионер</td>\n",
       "      <td>1</td>\n",
       "      <td>NaN</td>\n",
       "      <td>сыграть свадьбу</td>\n",
       "    </tr>\n",
       "    <tr>\n",
       "      <th>65</th>\n",
       "      <td>0</td>\n",
       "      <td>NaN</td>\n",
       "      <td>21</td>\n",
       "      <td>среднее</td>\n",
       "      <td>1</td>\n",
       "      <td>Не женат / не замужем</td>\n",
       "      <td>4</td>\n",
       "      <td>M</td>\n",
       "      <td>компаньон</td>\n",
       "      <td>0</td>\n",
       "      <td>NaN</td>\n",
       "      <td>операции с коммерческой недвижимостью</td>\n",
       "    </tr>\n",
       "    <tr>\n",
       "      <th>67</th>\n",
       "      <td>0</td>\n",
       "      <td>NaN</td>\n",
       "      <td>52</td>\n",
       "      <td>высшее</td>\n",
       "      <td>0</td>\n",
       "      <td>женат / замужем</td>\n",
       "      <td>0</td>\n",
       "      <td>F</td>\n",
       "      <td>пенсионер</td>\n",
       "      <td>0</td>\n",
       "      <td>NaN</td>\n",
       "      <td>покупка жилья для семьи</td>\n",
       "    </tr>\n",
       "    <tr>\n",
       "      <th>72</th>\n",
       "      <td>1</td>\n",
       "      <td>NaN</td>\n",
       "      <td>32</td>\n",
       "      <td>высшее</td>\n",
       "      <td>0</td>\n",
       "      <td>женат / замужем</td>\n",
       "      <td>0</td>\n",
       "      <td>M</td>\n",
       "      <td>госслужащий</td>\n",
       "      <td>0</td>\n",
       "      <td>NaN</td>\n",
       "      <td>операции с коммерческой недвижимостью</td>\n",
       "    </tr>\n",
       "    <tr>\n",
       "      <th>82</th>\n",
       "      <td>2</td>\n",
       "      <td>NaN</td>\n",
       "      <td>50</td>\n",
       "      <td>высшее</td>\n",
       "      <td>0</td>\n",
       "      <td>женат / замужем</td>\n",
       "      <td>0</td>\n",
       "      <td>F</td>\n",
       "      <td>сотрудник</td>\n",
       "      <td>0</td>\n",
       "      <td>NaN</td>\n",
       "      <td>жилье</td>\n",
       "    </tr>\n",
       "    <tr>\n",
       "      <th>83</th>\n",
       "      <td>0</td>\n",
       "      <td>NaN</td>\n",
       "      <td>52</td>\n",
       "      <td>среднее</td>\n",
       "      <td>1</td>\n",
       "      <td>женат / замужем</td>\n",
       "      <td>0</td>\n",
       "      <td>M</td>\n",
       "      <td>сотрудник</td>\n",
       "      <td>0</td>\n",
       "      <td>NaN</td>\n",
       "      <td>жилье</td>\n",
       "    </tr>\n",
       "  </tbody>\n",
       "</table>\n",
       "</div>"
      ],
      "text/plain": [
       "    children  days_employed  dob_years education  education_id  \\\n",
       "12         0            NaN         65   среднее             1   \n",
       "26         0            NaN         41   среднее             1   \n",
       "29         0            NaN         63   среднее             1   \n",
       "41         0            NaN         50   среднее             1   \n",
       "55         0            NaN         54   среднее             1   \n",
       "65         0            NaN         21   среднее             1   \n",
       "67         0            NaN         52    высшее             0   \n",
       "72         1            NaN         32    высшее             0   \n",
       "82         2            NaN         50    высшее             0   \n",
       "83         0            NaN         52   среднее             1   \n",
       "\n",
       "            family_status  family_status_id gender  income_type  debt  \\\n",
       "12       гражданский брак                 1      M    пенсионер     0   \n",
       "26        женат / замужем                 0      M  госслужащий     0   \n",
       "29  Не женат / не замужем                 4      F    пенсионер     0   \n",
       "41        женат / замужем                 0      F  госслужащий     0   \n",
       "55       гражданский брак                 1      F    пенсионер     1   \n",
       "65  Не женат / не замужем                 4      M    компаньон     0   \n",
       "67        женат / замужем                 0      F    пенсионер     0   \n",
       "72        женат / замужем                 0      M  госслужащий     0   \n",
       "82        женат / замужем                 0      F    сотрудник     0   \n",
       "83        женат / замужем                 0      M    сотрудник     0   \n",
       "\n",
       "    total_income                                purpose  \n",
       "12           NaN                        сыграть свадьбу  \n",
       "26           NaN                            образование  \n",
       "29           NaN       строительство жилой недвижимости  \n",
       "41           NaN       сделка с подержанным автомобилем  \n",
       "55           NaN                        сыграть свадьбу  \n",
       "65           NaN  операции с коммерческой недвижимостью  \n",
       "67           NaN                покупка жилья для семьи  \n",
       "72           NaN  операции с коммерческой недвижимостью  \n",
       "82           NaN                                  жилье  \n",
       "83           NaN                                  жилье  "
      ]
     },
     "execution_count": 46,
     "metadata": {},
     "output_type": "execute_result"
    }
   ],
   "source": [
    "# Посмотрим изначальный датасет, отфильтровав его по пропускам значений \n",
    "\n",
    "try:\n",
    "    data = pd.read_csv('/datasets/data.csv')\n",
    "except:\n",
    "    data = pd.read_csv('https://code.s3.yandex.net/datasets/data.csv')\n",
    "data[data.isna().any(1)].head(10)"
   ]
  },
  {
   "cell_type": "markdown",
   "id": "5f05f950",
   "metadata": {
    "deletable": false,
    "id": "9da2ceda"
   },
   "source": [
    "*Ответ:* Пропуски в исходных данных возникают по разным причинам. Я предполагаю, что их можно разбить на 2 большие группы: технические и связанные с человеческим фактором. \n",
    "Технические причины - это сбой систем, собирающих данные, ошибки при передаче, записывании и т.д., проблемы с оборудованием и программным обеспечением, в том числе при трансформации типов данных друг в друга, потеря или ограничение доступа к информации и другие. \n",
    "Человеческий фактор связан как с ошибками сборщика данных - описки, опечатки, забывчивость в вопросах внесения данных, так и поведением вине респондента из-за 1. социально – психологических характеристик; некомпетентности в теме исследования; неконтактности; не желания отвечать.\n",
    "Применительно к нашему набору данных: данные пропущены в графах \"стаж работы\" и \"доход заемщика\" одновременно. Пропуски данных никак не связаны с иными графами датасета. Это позволяет предположить, что причиной пропуска данных является нежелание заемщика указывать данные. Опять же вопрос, как были получены эти данные. Просто при заполнении заявки на кредитование заполнение этих граф анкеты обязательно, поэтому пропуски значений в таких количествах маловероятны."
   ]
  },
  {
   "cell_type": "markdown",
   "id": "455b3abe",
   "metadata": {
    "deletable": false,
    "editable": false,
    "id": "7b0487d6"
   },
   "source": [
    "#### 3.6 Объясните, почему заполнить пропуски медианным значением — лучшее решение для количественных переменных."
   ]
  },
  {
   "cell_type": "markdown",
   "id": "5aad72d4",
   "metadata": {
    "deletable": false,
    "id": "7ecf2b8e"
   },
   "source": [
    "*Ответ:* Медианное значение почти не подвержено \"выбросам\" - аномальным значениям набора данных. Таким образом, медианное значение поможет найти именно тот показатель, который ближе всего к истинно среднему. На неё не влияют выбивающиеся из общей массы числа, поэтому она считается одним из самых надёжных и устойчивых показателей. С помощью медианы можно получить более точные данные и правильнее интерпретировать статистику."
   ]
  },
  {
   "cell_type": "markdown",
   "id": "8ea9c9fa",
   "metadata": {
    "deletable": false,
    "editable": false,
    "id": "6db5255a"
   },
   "source": [
    "### Шаг 4: общий вывод."
   ]
  },
  {
   "cell_type": "markdown",
   "id": "f167dba6",
   "metadata": {
    "deletable": false,
    "id": "bad65432"
   },
   "source": [
    "Было проведено исследование, определяющее вероятность добросовестность заемщика в зависимости от различных факторов. Входные данные для исследования - данные клиентов - заемщиков и статистика возврата кредитов. \n",
    "В процессе проведения исследования были сформулированы 4 гипотезы:\n",
    "1. Есть ли зависимость между количеством детей и возвратом кредита в срок?\n",
    "2. Есть ли зависимость между семейным положением и возвратом кредита в срок?\n",
    "3. Есть ли зависимость между уровнем дохода и возвратом кредита в срок?\n",
    "4. Как разные цели кредита влияют на его возврат в срок?\n",
    "\n",
    "В результате исследования некоторые зависимости были выявлены.\n",
    "\n",
    "Гипотеза 1. Частично подтверждена. Увеличение количества детей свидетельствует об увеличении риска просрочки по кредиту (фактически разница с бездетными составляет почти 2 %). Однако по некоторым категориям заемщиков выборка критически мала, что, возможно, может повлиять на результаты исследования.\n",
    "Рекомендация: провести дополнительные исследования на значительно большей выборке.\n",
    "\n",
    "Гипотеза 2. Подтверждена. Семейные люди более ответственны в финансовых вопросах. \n",
    "Рекомендация: при принятии решения наделять этой зависимости высокий вес.\n",
    "\n",
    "Гипотеза 3. Подтверждена частично. Низкий уровень риска невозврата кредитов имеют заемщики, чей доход составляет от 30 001 до 50 000 рублей. Объясняется это просто: имеющиеся свободные средства, оставшиеся от уплаты обязательных платежей и критическая зависимость от получения следующих кредитов. При повышении уровня доходов тенденция к улучшению финансовой дисциплины не прослеживается. Причиной может быть как маленький размер выборки, так и иные причины (к примеру, заемщики с доходом > 1 000 000 рублей врядли будут брать потребительский кредит на товары первой необходимости). В общем, зависимости от уровня дохода не прослеживается.\n",
    "Рекомендация: провести дополнительные исследования на значительно большей выборке.\n",
    "\n",
    "Гипотеза 4. Подтверждена в полном объеме. Минимальный риск - у ипотечных заемщиков. \n",
    "Рекомендация: при принятии решения наделять этой зависимости высокий вес.\n",
    "\n",
    "Общие рекомендации:\n",
    "1. Специалистам, которые занимаются построением моделей скоринга, можно использовать зависимости второй и четвертой гипотез.\n",
    "2. Для проверки первой и третьей гипотез необходима более обширная выборка по всем категориям заемщиков."
   ]
  }
 ],
 "metadata": {
  "ExecuteTimeLog": [
   {
    "duration": 492,
    "start_time": "2022-11-18T14:26:27.146Z"
   },
   {
    "duration": 22,
    "start_time": "2022-11-18T14:26:27.640Z"
   },
   {
    "duration": 14,
    "start_time": "2022-11-18T14:26:27.664Z"
   },
   {
    "duration": 25,
    "start_time": "2022-11-18T14:26:27.680Z"
   },
   {
    "duration": 33,
    "start_time": "2022-11-18T14:26:27.707Z"
   },
   {
    "duration": 4,
    "start_time": "2022-11-18T14:26:27.741Z"
   },
   {
    "duration": 12,
    "start_time": "2022-11-18T14:26:27.746Z"
   },
   {
    "duration": 7,
    "start_time": "2022-11-18T14:26:27.759Z"
   },
   {
    "duration": 9,
    "start_time": "2022-11-18T14:26:27.767Z"
   },
   {
    "duration": 28,
    "start_time": "2022-11-18T14:26:27.779Z"
   },
   {
    "duration": 33,
    "start_time": "2022-11-18T14:26:27.809Z"
   },
   {
    "duration": 8,
    "start_time": "2022-11-18T14:26:27.844Z"
   },
   {
    "duration": 8,
    "start_time": "2022-11-18T14:26:27.853Z"
   },
   {
    "duration": 13,
    "start_time": "2022-11-18T14:26:27.862Z"
   },
   {
    "duration": 28,
    "start_time": "2022-11-18T14:26:27.877Z"
   },
   {
    "duration": 17,
    "start_time": "2022-11-18T14:26:27.906Z"
   },
   {
    "duration": 9,
    "start_time": "2022-11-18T14:26:27.924Z"
   },
   {
    "duration": 12,
    "start_time": "2022-11-18T14:26:27.934Z"
   },
   {
    "duration": 17,
    "start_time": "2022-11-18T14:26:27.948Z"
   },
   {
    "duration": 9,
    "start_time": "2022-11-18T14:26:27.967Z"
   },
   {
    "duration": 18,
    "start_time": "2022-11-18T14:26:27.977Z"
   },
   {
    "duration": 2,
    "start_time": "2022-11-18T14:26:27.996Z"
   },
   {
    "duration": 10,
    "start_time": "2022-11-18T14:26:28.000Z"
   },
   {
    "duration": 6,
    "start_time": "2022-11-18T14:26:28.011Z"
   },
   {
    "duration": 5,
    "start_time": "2022-11-18T14:26:28.019Z"
   },
   {
    "duration": 62,
    "start_time": "2022-11-18T14:37:12.636Z"
   },
   {
    "duration": 18,
    "start_time": "2022-11-18T14:37:23.167Z"
   },
   {
    "duration": 30,
    "start_time": "2022-11-18T14:37:37.315Z"
   },
   {
    "duration": 8,
    "start_time": "2022-11-18T14:38:55.983Z"
   },
   {
    "duration": 13,
    "start_time": "2022-11-18T14:39:13.609Z"
   },
   {
    "duration": 72,
    "start_time": "2022-11-18T14:45:16.138Z"
   },
   {
    "duration": 72,
    "start_time": "2022-11-18T14:45:22.207Z"
   },
   {
    "duration": 8,
    "start_time": "2022-11-18T14:45:54.259Z"
   },
   {
    "duration": 11,
    "start_time": "2022-11-18T14:46:09.749Z"
   },
   {
    "duration": 12,
    "start_time": "2022-11-18T14:46:31.392Z"
   },
   {
    "duration": 9,
    "start_time": "2022-11-18T14:46:42.550Z"
   },
   {
    "duration": 82,
    "start_time": "2022-11-18T14:47:44.301Z"
   },
   {
    "duration": 8,
    "start_time": "2022-11-18T14:48:51.770Z"
   },
   {
    "duration": 72,
    "start_time": "2022-11-18T14:49:14.464Z"
   },
   {
    "duration": 13,
    "start_time": "2022-11-18T14:49:46.533Z"
   },
   {
    "duration": 110,
    "start_time": "2022-11-18T14:50:44.989Z"
   },
   {
    "duration": 1166,
    "start_time": "2022-11-18T14:52:21.726Z"
   },
   {
    "duration": 8,
    "start_time": "2022-11-18T14:52:47.757Z"
   },
   {
    "duration": 12,
    "start_time": "2022-11-18T14:53:08.566Z"
   },
   {
    "duration": 15,
    "start_time": "2022-11-18T14:54:25.754Z"
   },
   {
    "duration": 13,
    "start_time": "2022-11-18T15:01:07.132Z"
   },
   {
    "duration": 11,
    "start_time": "2022-11-18T15:04:29.548Z"
   },
   {
    "duration": 8,
    "start_time": "2022-11-18T15:04:33.265Z"
   },
   {
    "duration": 16,
    "start_time": "2022-11-18T15:04:51.077Z"
   },
   {
    "duration": 15,
    "start_time": "2022-11-18T15:05:26.264Z"
   },
   {
    "duration": 12,
    "start_time": "2022-11-18T15:20:22.553Z"
   },
   {
    "duration": 8,
    "start_time": "2022-11-18T15:21:07.793Z"
   },
   {
    "duration": 11,
    "start_time": "2022-11-18T15:21:19.313Z"
   },
   {
    "duration": 13,
    "start_time": "2022-11-18T15:21:42.734Z"
   },
   {
    "duration": 23,
    "start_time": "2022-11-18T15:21:57.255Z"
   },
   {
    "duration": 31,
    "start_time": "2022-11-18T15:22:45.982Z"
   },
   {
    "duration": 47,
    "start_time": "2022-11-19T09:40:49.372Z"
   },
   {
    "duration": 8,
    "start_time": "2022-11-19T09:41:21.641Z"
   },
   {
    "duration": 680,
    "start_time": "2022-11-19T09:41:33.766Z"
   },
   {
    "duration": 21,
    "start_time": "2022-11-19T09:41:34.448Z"
   },
   {
    "duration": 15,
    "start_time": "2022-11-19T09:41:34.471Z"
   },
   {
    "duration": 10,
    "start_time": "2022-11-19T09:41:34.488Z"
   },
   {
    "duration": 42,
    "start_time": "2022-11-19T09:41:34.500Z"
   },
   {
    "duration": 3,
    "start_time": "2022-11-19T09:41:34.544Z"
   },
   {
    "duration": 10,
    "start_time": "2022-11-19T09:41:34.549Z"
   },
   {
    "duration": 4,
    "start_time": "2022-11-19T09:41:34.561Z"
   },
   {
    "duration": 10,
    "start_time": "2022-11-19T09:41:34.566Z"
   },
   {
    "duration": 8,
    "start_time": "2022-11-19T09:41:34.578Z"
   },
   {
    "duration": 55,
    "start_time": "2022-11-19T09:41:34.588Z"
   },
   {
    "duration": 11,
    "start_time": "2022-11-19T09:41:34.644Z"
   },
   {
    "duration": 3,
    "start_time": "2022-11-19T09:41:34.657Z"
   },
   {
    "duration": 14,
    "start_time": "2022-11-19T09:41:34.662Z"
   },
   {
    "duration": 49,
    "start_time": "2022-11-19T09:41:34.678Z"
   },
   {
    "duration": 16,
    "start_time": "2022-11-19T09:41:34.728Z"
   },
   {
    "duration": 3,
    "start_time": "2022-11-19T09:41:34.746Z"
   },
   {
    "duration": 14,
    "start_time": "2022-11-19T09:41:34.750Z"
   },
   {
    "duration": 5,
    "start_time": "2022-11-19T09:41:34.766Z"
   },
   {
    "duration": 3,
    "start_time": "2022-11-19T09:41:34.773Z"
   },
   {
    "duration": 39,
    "start_time": "2022-11-19T09:41:34.777Z"
   },
   {
    "duration": 13,
    "start_time": "2022-11-19T09:41:34.818Z"
   },
   {
    "duration": 15,
    "start_time": "2022-11-19T09:41:34.832Z"
   },
   {
    "duration": 30,
    "start_time": "2022-11-19T09:41:34.849Z"
   },
   {
    "duration": 34,
    "start_time": "2022-11-19T09:41:34.881Z"
   },
   {
    "duration": 1016,
    "start_time": "2022-11-19T09:42:18.567Z"
   },
   {
    "duration": 13,
    "start_time": "2022-11-19T09:42:44.946Z"
   },
   {
    "duration": 16,
    "start_time": "2022-11-19T09:43:19.043Z"
   },
   {
    "duration": 14,
    "start_time": "2022-11-19T09:44:05.536Z"
   },
   {
    "duration": 9,
    "start_time": "2022-11-19T09:46:22.721Z"
   },
   {
    "duration": 13,
    "start_time": "2022-11-19T09:46:43.934Z"
   },
   {
    "duration": 16,
    "start_time": "2022-11-19T09:47:39.079Z"
   },
   {
    "duration": 15,
    "start_time": "2022-11-19T09:52:18.666Z"
   },
   {
    "duration": 47,
    "start_time": "2022-11-19T09:56:12.479Z"
   },
   {
    "duration": 15,
    "start_time": "2022-11-19T09:56:33.553Z"
   },
   {
    "duration": 436,
    "start_time": "2022-11-19T09:56:48.153Z"
   },
   {
    "duration": 22,
    "start_time": "2022-11-19T09:56:48.591Z"
   },
   {
    "duration": 16,
    "start_time": "2022-11-19T09:56:48.619Z"
   },
   {
    "duration": 10,
    "start_time": "2022-11-19T09:56:48.636Z"
   },
   {
    "duration": 38,
    "start_time": "2022-11-19T09:56:48.648Z"
   },
   {
    "duration": 3,
    "start_time": "2022-11-19T09:56:48.688Z"
   },
   {
    "duration": 8,
    "start_time": "2022-11-19T09:56:48.716Z"
   },
   {
    "duration": 4,
    "start_time": "2022-11-19T09:56:48.725Z"
   },
   {
    "duration": 7,
    "start_time": "2022-11-19T09:56:48.732Z"
   },
   {
    "duration": 4,
    "start_time": "2022-11-19T09:56:48.741Z"
   },
   {
    "duration": 35,
    "start_time": "2022-11-19T09:56:48.746Z"
   },
   {
    "duration": 40,
    "start_time": "2022-11-19T09:56:48.783Z"
   },
   {
    "duration": 3,
    "start_time": "2022-11-19T09:56:48.825Z"
   },
   {
    "duration": 15,
    "start_time": "2022-11-19T09:56:48.830Z"
   },
   {
    "duration": 21,
    "start_time": "2022-11-19T09:56:48.847Z"
   },
   {
    "duration": 15,
    "start_time": "2022-11-19T09:56:48.870Z"
   },
   {
    "duration": 4,
    "start_time": "2022-11-19T09:56:48.886Z"
   },
   {
    "duration": 33,
    "start_time": "2022-11-19T09:56:48.891Z"
   },
   {
    "duration": 10,
    "start_time": "2022-11-19T09:56:48.925Z"
   },
   {
    "duration": 4,
    "start_time": "2022-11-19T09:56:48.937Z"
   },
   {
    "duration": 10,
    "start_time": "2022-11-19T09:56:48.943Z"
   },
   {
    "duration": 16,
    "start_time": "2022-11-19T09:56:48.955Z"
   },
   {
    "duration": 98,
    "start_time": "2022-11-19T09:56:48.973Z"
   },
   {
    "duration": 0,
    "start_time": "2022-11-19T09:56:49.073Z"
   },
   {
    "duration": 0,
    "start_time": "2022-11-19T09:56:49.074Z"
   },
   {
    "duration": 17,
    "start_time": "2022-11-19T09:57:31.582Z"
   },
   {
    "duration": 15,
    "start_time": "2022-11-19T09:58:34.551Z"
   },
   {
    "duration": 14,
    "start_time": "2022-11-19T09:59:09.260Z"
   },
   {
    "duration": 786,
    "start_time": "2022-11-19T09:59:51.541Z"
   },
   {
    "duration": 15,
    "start_time": "2022-11-19T09:59:58.182Z"
   },
   {
    "duration": 8,
    "start_time": "2022-11-19T10:00:42.801Z"
   },
   {
    "duration": 15,
    "start_time": "2022-11-19T10:00:55.810Z"
   },
   {
    "duration": 13,
    "start_time": "2022-11-19T10:02:51.528Z"
   },
   {
    "duration": 16,
    "start_time": "2022-11-19T10:04:00.646Z"
   },
   {
    "duration": 511,
    "start_time": "2022-11-19T10:49:30.322Z"
   },
   {
    "duration": 28,
    "start_time": "2022-11-19T10:49:30.835Z"
   },
   {
    "duration": 36,
    "start_time": "2022-11-19T10:49:30.870Z"
   },
   {
    "duration": 21,
    "start_time": "2022-11-19T10:49:30.908Z"
   },
   {
    "duration": 86,
    "start_time": "2022-11-19T10:49:30.931Z"
   },
   {
    "duration": 3,
    "start_time": "2022-11-19T10:49:31.019Z"
   },
   {
    "duration": 24,
    "start_time": "2022-11-19T10:49:31.024Z"
   },
   {
    "duration": 34,
    "start_time": "2022-11-19T10:49:31.050Z"
   },
   {
    "duration": 33,
    "start_time": "2022-11-19T10:49:31.085Z"
   },
   {
    "duration": 20,
    "start_time": "2022-11-19T10:49:31.120Z"
   },
   {
    "duration": 72,
    "start_time": "2022-11-19T10:49:31.142Z"
   },
   {
    "duration": 9,
    "start_time": "2022-11-19T10:49:31.216Z"
   },
   {
    "duration": 17,
    "start_time": "2022-11-19T10:49:31.227Z"
   },
   {
    "duration": 46,
    "start_time": "2022-11-19T10:49:31.246Z"
   },
   {
    "duration": 33,
    "start_time": "2022-11-19T10:49:31.294Z"
   },
   {
    "duration": 29,
    "start_time": "2022-11-19T10:49:31.328Z"
   },
   {
    "duration": 9,
    "start_time": "2022-11-19T10:49:31.360Z"
   },
   {
    "duration": 34,
    "start_time": "2022-11-19T10:49:31.371Z"
   },
   {
    "duration": 23,
    "start_time": "2022-11-19T10:49:31.406Z"
   },
   {
    "duration": 14,
    "start_time": "2022-11-19T10:49:31.430Z"
   },
   {
    "duration": 47,
    "start_time": "2022-11-19T10:49:31.445Z"
   },
   {
    "duration": 41,
    "start_time": "2022-11-19T10:49:31.493Z"
   },
   {
    "duration": 16,
    "start_time": "2022-11-19T10:49:31.536Z"
   },
   {
    "duration": 57,
    "start_time": "2022-11-19T10:49:31.553Z"
   },
   {
    "duration": 25,
    "start_time": "2022-11-19T10:49:31.612Z"
   },
   {
    "duration": 13,
    "start_time": "2022-11-19T11:15:52.398Z"
   },
   {
    "duration": 12,
    "start_time": "2022-11-19T13:39:58.272Z"
   },
   {
    "duration": 14,
    "start_time": "2022-11-19T13:42:05.926Z"
   },
   {
    "duration": 5,
    "start_time": "2022-11-19T13:47:44.411Z"
   },
   {
    "duration": 4,
    "start_time": "2022-11-19T13:47:45.555Z"
   },
   {
    "duration": 5,
    "start_time": "2022-11-19T13:47:46.546Z"
   },
   {
    "duration": 3,
    "start_time": "2022-11-19T13:47:47.691Z"
   },
   {
    "duration": 8,
    "start_time": "2022-11-19T13:47:50.069Z"
   },
   {
    "duration": 7,
    "start_time": "2022-11-19T13:49:53.680Z"
   },
   {
    "duration": 5,
    "start_time": "2022-11-19T13:49:54.490Z"
   },
   {
    "duration": 3,
    "start_time": "2022-11-19T13:49:55.047Z"
   },
   {
    "duration": 8,
    "start_time": "2022-11-19T13:49:55.648Z"
   },
   {
    "duration": 4,
    "start_time": "2022-11-19T13:50:37.086Z"
   },
   {
    "duration": 7,
    "start_time": "2022-11-19T13:55:50.852Z"
   },
   {
    "duration": 6,
    "start_time": "2022-11-19T13:55:51.531Z"
   },
   {
    "duration": 4,
    "start_time": "2022-11-19T13:55:52.035Z"
   },
   {
    "duration": 8,
    "start_time": "2022-11-19T13:55:52.564Z"
   },
   {
    "duration": 10,
    "start_time": "2022-11-19T13:57:19.468Z"
   },
   {
    "duration": 8,
    "start_time": "2022-11-19T13:57:54.468Z"
   },
   {
    "duration": 6,
    "start_time": "2022-11-19T14:00:14.907Z"
   },
   {
    "duration": 6,
    "start_time": "2022-11-19T14:00:15.542Z"
   },
   {
    "duration": 5,
    "start_time": "2022-11-19T14:00:16.057Z"
   },
   {
    "duration": 8,
    "start_time": "2022-11-19T14:00:16.655Z"
   },
   {
    "duration": 3,
    "start_time": "2022-11-19T14:15:26.569Z"
   },
   {
    "duration": 4,
    "start_time": "2022-11-19T14:15:48.539Z"
   },
   {
    "duration": 50,
    "start_time": "2022-11-19T14:17:25.658Z"
   },
   {
    "duration": 5,
    "start_time": "2022-11-19T14:17:30.743Z"
   },
   {
    "duration": 4,
    "start_time": "2022-11-19T14:17:54.242Z"
   },
   {
    "duration": 8,
    "start_time": "2022-11-19T14:18:41.812Z"
   },
   {
    "duration": 4,
    "start_time": "2022-11-19T14:18:59.251Z"
   },
   {
    "duration": 4,
    "start_time": "2022-11-19T14:21:19.567Z"
   },
   {
    "duration": 88,
    "start_time": "2022-11-19T14:22:04.536Z"
   },
   {
    "duration": 75,
    "start_time": "2022-11-19T14:22:27.106Z"
   },
   {
    "duration": 83,
    "start_time": "2022-11-19T14:23:41.512Z"
   },
   {
    "duration": 480,
    "start_time": "2022-11-19T14:29:06.346Z"
   },
   {
    "duration": 21,
    "start_time": "2022-11-19T14:29:06.828Z"
   },
   {
    "duration": 14,
    "start_time": "2022-11-19T14:29:06.850Z"
   },
   {
    "duration": 9,
    "start_time": "2022-11-19T14:29:06.866Z"
   },
   {
    "duration": 52,
    "start_time": "2022-11-19T14:29:06.876Z"
   },
   {
    "duration": 3,
    "start_time": "2022-11-19T14:29:06.929Z"
   },
   {
    "duration": 9,
    "start_time": "2022-11-19T14:29:06.934Z"
   },
   {
    "duration": 4,
    "start_time": "2022-11-19T14:29:06.945Z"
   },
   {
    "duration": 8,
    "start_time": "2022-11-19T14:29:06.950Z"
   },
   {
    "duration": 3,
    "start_time": "2022-11-19T14:29:06.961Z"
   },
   {
    "duration": 63,
    "start_time": "2022-11-19T14:29:06.966Z"
   },
   {
    "duration": 10,
    "start_time": "2022-11-19T14:29:07.031Z"
   },
   {
    "duration": 3,
    "start_time": "2022-11-19T14:29:07.042Z"
   },
   {
    "duration": 12,
    "start_time": "2022-11-19T14:29:07.047Z"
   },
   {
    "duration": 22,
    "start_time": "2022-11-19T14:29:07.060Z"
   },
   {
    "duration": 38,
    "start_time": "2022-11-19T14:29:07.083Z"
   },
   {
    "duration": 4,
    "start_time": "2022-11-19T14:29:07.122Z"
   },
   {
    "duration": 13,
    "start_time": "2022-11-19T14:29:07.127Z"
   },
   {
    "duration": 5,
    "start_time": "2022-11-19T14:29:07.141Z"
   },
   {
    "duration": 4,
    "start_time": "2022-11-19T14:29:07.147Z"
   },
   {
    "duration": 11,
    "start_time": "2022-11-19T14:29:07.152Z"
   },
   {
    "duration": 86,
    "start_time": "2022-11-19T14:29:07.164Z"
   },
   {
    "duration": 0,
    "start_time": "2022-11-19T14:29:07.252Z"
   },
   {
    "duration": 0,
    "start_time": "2022-11-19T14:29:07.253Z"
   },
   {
    "duration": 0,
    "start_time": "2022-11-19T14:29:07.254Z"
   },
   {
    "duration": 0,
    "start_time": "2022-11-19T14:29:07.255Z"
   },
   {
    "duration": 0,
    "start_time": "2022-11-19T14:29:07.256Z"
   },
   {
    "duration": 0,
    "start_time": "2022-11-19T14:29:07.257Z"
   },
   {
    "duration": 1,
    "start_time": "2022-11-19T14:29:07.258Z"
   },
   {
    "duration": 0,
    "start_time": "2022-11-19T14:29:07.259Z"
   },
   {
    "duration": 0,
    "start_time": "2022-11-19T14:29:07.261Z"
   },
   {
    "duration": 0,
    "start_time": "2022-11-19T14:29:07.262Z"
   },
   {
    "duration": 0,
    "start_time": "2022-11-19T14:29:07.263Z"
   },
   {
    "duration": 0,
    "start_time": "2022-11-19T14:29:07.265Z"
   },
   {
    "duration": 0,
    "start_time": "2022-11-19T14:29:07.266Z"
   },
   {
    "duration": 0,
    "start_time": "2022-11-19T14:29:07.267Z"
   },
   {
    "duration": 0,
    "start_time": "2022-11-19T14:29:07.269Z"
   },
   {
    "duration": 0,
    "start_time": "2022-11-19T14:29:07.270Z"
   },
   {
    "duration": 10,
    "start_time": "2022-11-19T14:31:00.282Z"
   },
   {
    "duration": 9,
    "start_time": "2022-11-19T14:31:02.445Z"
   },
   {
    "duration": 7,
    "start_time": "2022-11-19T14:31:13.285Z"
   },
   {
    "duration": 10,
    "start_time": "2022-11-19T14:31:20.343Z"
   },
   {
    "duration": 4,
    "start_time": "2022-11-19T14:55:04.891Z"
   },
   {
    "duration": 5,
    "start_time": "2022-11-19T14:55:05.529Z"
   },
   {
    "duration": 6,
    "start_time": "2022-11-19T14:55:06.425Z"
   },
   {
    "duration": 771,
    "start_time": "2022-11-19T14:55:07.180Z"
   },
   {
    "duration": 9,
    "start_time": "2022-11-19T14:55:07.971Z"
   },
   {
    "duration": 3,
    "start_time": "2022-11-19T14:56:14.634Z"
   },
   {
    "duration": 5,
    "start_time": "2022-11-19T14:56:15.452Z"
   },
   {
    "duration": 6,
    "start_time": "2022-11-19T14:56:16.277Z"
   },
   {
    "duration": 4,
    "start_time": "2022-11-19T14:56:16.899Z"
   },
   {
    "duration": 3,
    "start_time": "2022-11-19T14:56:18.527Z"
   },
   {
    "duration": 8,
    "start_time": "2022-11-19T14:56:20.347Z"
   },
   {
    "duration": 3,
    "start_time": "2022-11-19T15:01:10.323Z"
   },
   {
    "duration": 44,
    "start_time": "2022-11-19T15:01:10.838Z"
   },
   {
    "duration": 478,
    "start_time": "2022-11-19T15:01:19.934Z"
   },
   {
    "duration": 21,
    "start_time": "2022-11-19T15:01:20.414Z"
   },
   {
    "duration": 14,
    "start_time": "2022-11-19T15:01:20.437Z"
   },
   {
    "duration": 10,
    "start_time": "2022-11-19T15:01:20.453Z"
   },
   {
    "duration": 52,
    "start_time": "2022-11-19T15:01:20.464Z"
   },
   {
    "duration": 3,
    "start_time": "2022-11-19T15:01:20.518Z"
   },
   {
    "duration": 19,
    "start_time": "2022-11-19T15:01:20.522Z"
   },
   {
    "duration": 10,
    "start_time": "2022-11-19T15:01:20.542Z"
   },
   {
    "duration": 13,
    "start_time": "2022-11-19T15:01:20.554Z"
   },
   {
    "duration": 8,
    "start_time": "2022-11-19T15:01:20.569Z"
   },
   {
    "duration": 42,
    "start_time": "2022-11-19T15:01:20.579Z"
   },
   {
    "duration": 9,
    "start_time": "2022-11-19T15:01:20.623Z"
   },
   {
    "duration": 8,
    "start_time": "2022-11-19T15:01:20.633Z"
   },
   {
    "duration": 14,
    "start_time": "2022-11-19T15:01:20.642Z"
   },
   {
    "duration": 19,
    "start_time": "2022-11-19T15:01:20.657Z"
   },
   {
    "duration": 16,
    "start_time": "2022-11-19T15:01:20.678Z"
   },
   {
    "duration": 20,
    "start_time": "2022-11-19T15:01:20.696Z"
   },
   {
    "duration": 20,
    "start_time": "2022-11-19T15:01:20.718Z"
   },
   {
    "duration": 10,
    "start_time": "2022-11-19T15:01:20.739Z"
   },
   {
    "duration": 3,
    "start_time": "2022-11-19T15:01:20.751Z"
   },
   {
    "duration": 14,
    "start_time": "2022-11-19T15:01:20.756Z"
   },
   {
    "duration": 9,
    "start_time": "2022-11-19T15:01:20.771Z"
   },
   {
    "duration": 70,
    "start_time": "2022-11-19T15:01:20.781Z"
   },
   {
    "duration": 0,
    "start_time": "2022-11-19T15:01:20.853Z"
   },
   {
    "duration": 0,
    "start_time": "2022-11-19T15:01:20.854Z"
   },
   {
    "duration": 0,
    "start_time": "2022-11-19T15:01:20.855Z"
   },
   {
    "duration": 0,
    "start_time": "2022-11-19T15:01:20.856Z"
   },
   {
    "duration": 0,
    "start_time": "2022-11-19T15:01:20.856Z"
   },
   {
    "duration": 0,
    "start_time": "2022-11-19T15:01:20.857Z"
   },
   {
    "duration": 0,
    "start_time": "2022-11-19T15:01:20.858Z"
   },
   {
    "duration": 0,
    "start_time": "2022-11-19T15:01:20.859Z"
   },
   {
    "duration": 0,
    "start_time": "2022-11-19T15:01:20.860Z"
   },
   {
    "duration": 0,
    "start_time": "2022-11-19T15:01:20.861Z"
   },
   {
    "duration": 0,
    "start_time": "2022-11-19T15:01:20.862Z"
   },
   {
    "duration": 0,
    "start_time": "2022-11-19T15:01:20.863Z"
   },
   {
    "duration": 0,
    "start_time": "2022-11-19T15:01:20.864Z"
   },
   {
    "duration": 0,
    "start_time": "2022-11-19T15:01:20.865Z"
   },
   {
    "duration": 0,
    "start_time": "2022-11-19T15:01:20.866Z"
   },
   {
    "duration": 0,
    "start_time": "2022-11-19T15:01:20.867Z"
   },
   {
    "duration": 10,
    "start_time": "2022-11-19T15:02:10.389Z"
   },
   {
    "duration": 9,
    "start_time": "2022-11-19T15:02:10.942Z"
   },
   {
    "duration": 3,
    "start_time": "2022-11-19T15:04:12.467Z"
   },
   {
    "duration": 6,
    "start_time": "2022-11-19T15:04:13.014Z"
   },
   {
    "duration": 6,
    "start_time": "2022-11-19T15:04:13.815Z"
   },
   {
    "duration": 3,
    "start_time": "2022-11-19T15:04:14.996Z"
   },
   {
    "duration": 8,
    "start_time": "2022-11-19T15:04:16.744Z"
   },
   {
    "duration": 3,
    "start_time": "2022-11-19T15:04:43.349Z"
   },
   {
    "duration": 7,
    "start_time": "2022-11-19T15:04:43.833Z"
   },
   {
    "duration": 6,
    "start_time": "2022-11-19T15:04:44.281Z"
   },
   {
    "duration": 4,
    "start_time": "2022-11-19T15:04:44.791Z"
   },
   {
    "duration": 8,
    "start_time": "2022-11-19T15:04:45.313Z"
   },
   {
    "duration": 3,
    "start_time": "2022-11-19T15:05:12.782Z"
   },
   {
    "duration": 7,
    "start_time": "2022-11-19T15:05:13.188Z"
   },
   {
    "duration": 6,
    "start_time": "2022-11-19T15:05:13.649Z"
   },
   {
    "duration": 3,
    "start_time": "2022-11-19T15:05:14.180Z"
   },
   {
    "duration": 8,
    "start_time": "2022-11-19T15:05:15.241Z"
   },
   {
    "duration": 10,
    "start_time": "2022-11-19T17:16:37.474Z"
   },
   {
    "duration": 4,
    "start_time": "2022-11-19T17:16:42.390Z"
   },
   {
    "duration": 6,
    "start_time": "2022-11-19T17:16:42.924Z"
   },
   {
    "duration": 78,
    "start_time": "2022-11-19T17:22:22.457Z"
   },
   {
    "duration": 469,
    "start_time": "2022-11-19T17:22:51.482Z"
   },
   {
    "duration": 22,
    "start_time": "2022-11-19T17:22:51.952Z"
   },
   {
    "duration": 28,
    "start_time": "2022-11-19T17:22:51.976Z"
   },
   {
    "duration": 30,
    "start_time": "2022-11-19T17:22:52.007Z"
   },
   {
    "duration": 43,
    "start_time": "2022-11-19T17:22:52.040Z"
   },
   {
    "duration": 4,
    "start_time": "2022-11-19T17:22:52.085Z"
   },
   {
    "duration": 29,
    "start_time": "2022-11-19T17:22:52.090Z"
   },
   {
    "duration": 15,
    "start_time": "2022-11-19T17:22:52.121Z"
   },
   {
    "duration": 11,
    "start_time": "2022-11-19T17:22:52.137Z"
   },
   {
    "duration": 5,
    "start_time": "2022-11-19T17:22:52.153Z"
   },
   {
    "duration": 35,
    "start_time": "2022-11-19T17:22:52.160Z"
   },
   {
    "duration": 22,
    "start_time": "2022-11-19T17:22:52.197Z"
   },
   {
    "duration": 5,
    "start_time": "2022-11-19T17:22:52.220Z"
   },
   {
    "duration": 14,
    "start_time": "2022-11-19T17:22:52.226Z"
   },
   {
    "duration": 19,
    "start_time": "2022-11-19T17:22:52.241Z"
   },
   {
    "duration": 17,
    "start_time": "2022-11-19T17:22:52.262Z"
   },
   {
    "duration": 4,
    "start_time": "2022-11-19T17:22:52.280Z"
   },
   {
    "duration": 40,
    "start_time": "2022-11-19T17:22:52.285Z"
   },
   {
    "duration": 9,
    "start_time": "2022-11-19T17:22:52.327Z"
   },
   {
    "duration": 4,
    "start_time": "2022-11-19T17:22:52.337Z"
   },
   {
    "duration": 9,
    "start_time": "2022-11-19T17:22:52.343Z"
   },
   {
    "duration": 5,
    "start_time": "2022-11-19T17:22:52.354Z"
   },
   {
    "duration": 7,
    "start_time": "2022-11-19T17:22:52.360Z"
   },
   {
    "duration": 6,
    "start_time": "2022-11-19T17:22:52.369Z"
   },
   {
    "duration": 7,
    "start_time": "2022-11-19T17:22:52.376Z"
   },
   {
    "duration": 33,
    "start_time": "2022-11-19T17:22:52.384Z"
   },
   {
    "duration": 39,
    "start_time": "2022-11-19T17:22:52.420Z"
   },
   {
    "duration": 3,
    "start_time": "2022-11-19T17:22:52.463Z"
   },
   {
    "duration": 13,
    "start_time": "2022-11-19T17:22:52.467Z"
   },
   {
    "duration": 6,
    "start_time": "2022-11-19T17:22:52.482Z"
   },
   {
    "duration": 9,
    "start_time": "2022-11-19T17:22:52.489Z"
   },
   {
    "duration": 13,
    "start_time": "2022-11-19T17:22:52.499Z"
   },
   {
    "duration": 8,
    "start_time": "2022-11-19T17:22:52.513Z"
   },
   {
    "duration": 13,
    "start_time": "2022-11-19T17:22:52.523Z"
   },
   {
    "duration": 6,
    "start_time": "2022-11-19T17:22:52.537Z"
   },
   {
    "duration": 10,
    "start_time": "2022-11-19T17:22:52.545Z"
   },
   {
    "duration": 9,
    "start_time": "2022-11-19T17:22:52.557Z"
   },
   {
    "duration": 9,
    "start_time": "2022-11-19T17:22:52.568Z"
   },
   {
    "duration": 11,
    "start_time": "2022-11-19T17:22:52.578Z"
   },
   {
    "duration": 7,
    "start_time": "2022-11-19T17:22:52.591Z"
   },
   {
    "duration": 4,
    "start_time": "2022-11-19T17:22:52.599Z"
   },
   {
    "duration": 17,
    "start_time": "2022-11-19T17:22:52.605Z"
   },
   {
    "duration": 60,
    "start_time": "2022-11-19T17:22:52.624Z"
   },
   {
    "duration": 79,
    "start_time": "2022-11-19T17:23:49.191Z"
   },
   {
    "duration": 80,
    "start_time": "2022-11-19T17:24:01.960Z"
   },
   {
    "duration": 4,
    "start_time": "2022-11-19T17:26:03.205Z"
   },
   {
    "duration": 143,
    "start_time": "2022-11-19T17:26:15.536Z"
   },
   {
    "duration": 69,
    "start_time": "2022-11-19T17:26:34.103Z"
   },
   {
    "duration": 70,
    "start_time": "2022-11-19T17:32:49.495Z"
   },
   {
    "duration": 90,
    "start_time": "2022-11-19T17:35:03.794Z"
   },
   {
    "duration": 105,
    "start_time": "2022-11-19T17:35:15.276Z"
   },
   {
    "duration": 80,
    "start_time": "2022-11-19T17:35:57.591Z"
   },
   {
    "duration": 112,
    "start_time": "2022-11-19T17:39:59.703Z"
   },
   {
    "duration": 88,
    "start_time": "2022-11-19T17:40:17.971Z"
   },
   {
    "duration": 44,
    "start_time": "2022-11-19T17:41:09.918Z"
   },
   {
    "duration": 92,
    "start_time": "2022-11-19T17:41:18.745Z"
   },
   {
    "duration": 710,
    "start_time": "2022-11-19T17:41:32.991Z"
   },
   {
    "duration": 84,
    "start_time": "2022-11-19T17:41:50.078Z"
   },
   {
    "duration": 538,
    "start_time": "2022-11-19T17:42:16.203Z"
   },
   {
    "duration": 21,
    "start_time": "2022-11-19T17:42:16.743Z"
   },
   {
    "duration": 17,
    "start_time": "2022-11-19T17:42:16.765Z"
   },
   {
    "duration": 9,
    "start_time": "2022-11-19T17:42:16.784Z"
   },
   {
    "duration": 54,
    "start_time": "2022-11-19T17:42:16.794Z"
   },
   {
    "duration": 3,
    "start_time": "2022-11-19T17:42:16.849Z"
   },
   {
    "duration": 11,
    "start_time": "2022-11-19T17:42:16.854Z"
   },
   {
    "duration": 6,
    "start_time": "2022-11-19T17:42:16.866Z"
   },
   {
    "duration": 8,
    "start_time": "2022-11-19T17:42:16.873Z"
   },
   {
    "duration": 9,
    "start_time": "2022-11-19T17:42:16.885Z"
   },
   {
    "duration": 52,
    "start_time": "2022-11-19T17:42:16.895Z"
   },
   {
    "duration": 9,
    "start_time": "2022-11-19T17:42:16.949Z"
   },
   {
    "duration": 5,
    "start_time": "2022-11-19T17:42:16.960Z"
   },
   {
    "duration": 13,
    "start_time": "2022-11-19T17:42:16.967Z"
   },
   {
    "duration": 42,
    "start_time": "2022-11-19T17:42:16.982Z"
   },
   {
    "duration": 17,
    "start_time": "2022-11-19T17:42:17.025Z"
   },
   {
    "duration": 4,
    "start_time": "2022-11-19T17:42:17.043Z"
   },
   {
    "duration": 14,
    "start_time": "2022-11-19T17:42:17.049Z"
   },
   {
    "duration": 6,
    "start_time": "2022-11-19T17:42:17.065Z"
   },
   {
    "duration": 5,
    "start_time": "2022-11-19T17:42:17.073Z"
   },
   {
    "duration": 40,
    "start_time": "2022-11-19T17:42:17.079Z"
   },
   {
    "duration": 2,
    "start_time": "2022-11-19T17:42:17.121Z"
   },
   {
    "duration": 10,
    "start_time": "2022-11-19T17:42:17.125Z"
   },
   {
    "duration": 13,
    "start_time": "2022-11-19T17:42:17.137Z"
   },
   {
    "duration": 21,
    "start_time": "2022-11-19T17:42:17.152Z"
   },
   {
    "duration": 13,
    "start_time": "2022-11-19T17:42:17.175Z"
   },
   {
    "duration": 15,
    "start_time": "2022-11-19T17:42:17.190Z"
   },
   {
    "duration": 17,
    "start_time": "2022-11-19T17:42:17.208Z"
   },
   {
    "duration": 10,
    "start_time": "2022-11-19T17:42:17.226Z"
   },
   {
    "duration": 10,
    "start_time": "2022-11-19T17:42:17.238Z"
   },
   {
    "duration": 11,
    "start_time": "2022-11-19T17:42:17.249Z"
   },
   {
    "duration": 29,
    "start_time": "2022-11-19T17:42:17.262Z"
   },
   {
    "duration": 13,
    "start_time": "2022-11-19T17:42:17.293Z"
   },
   {
    "duration": 17,
    "start_time": "2022-11-19T17:42:17.308Z"
   },
   {
    "duration": 10,
    "start_time": "2022-11-19T17:42:17.327Z"
   },
   {
    "duration": 8,
    "start_time": "2022-11-19T17:42:17.339Z"
   },
   {
    "duration": 28,
    "start_time": "2022-11-19T17:42:17.349Z"
   },
   {
    "duration": 6,
    "start_time": "2022-11-19T17:42:17.378Z"
   },
   {
    "duration": 14,
    "start_time": "2022-11-19T17:42:17.386Z"
   },
   {
    "duration": 6,
    "start_time": "2022-11-19T17:42:17.401Z"
   },
   {
    "duration": 4,
    "start_time": "2022-11-19T17:42:17.409Z"
   },
   {
    "duration": 20,
    "start_time": "2022-11-19T17:42:17.414Z"
   },
   {
    "duration": 121,
    "start_time": "2022-11-19T17:42:17.435Z"
   },
   {
    "duration": 85,
    "start_time": "2022-11-19T17:42:47.604Z"
   },
   {
    "duration": 92,
    "start_time": "2022-11-19T17:44:03.592Z"
   },
   {
    "duration": 86,
    "start_time": "2022-11-19T17:44:53.084Z"
   },
   {
    "duration": 61,
    "start_time": "2022-11-19T18:03:22.040Z"
   },
   {
    "duration": 423,
    "start_time": "2022-11-19T18:30:59.071Z"
   },
   {
    "duration": 20,
    "start_time": "2022-11-19T18:30:59.496Z"
   },
   {
    "duration": 23,
    "start_time": "2022-11-19T18:30:59.520Z"
   },
   {
    "duration": 8,
    "start_time": "2022-11-19T18:30:59.545Z"
   },
   {
    "duration": 41,
    "start_time": "2022-11-19T18:30:59.555Z"
   },
   {
    "duration": 5,
    "start_time": "2022-11-19T18:30:59.597Z"
   },
   {
    "duration": 25,
    "start_time": "2022-11-19T18:30:59.604Z"
   },
   {
    "duration": 17,
    "start_time": "2022-11-19T18:30:59.630Z"
   },
   {
    "duration": 26,
    "start_time": "2022-11-19T18:30:59.651Z"
   },
   {
    "duration": 10,
    "start_time": "2022-11-19T18:30:59.679Z"
   },
   {
    "duration": 47,
    "start_time": "2022-11-19T18:30:59.690Z"
   },
   {
    "duration": 9,
    "start_time": "2022-11-19T18:30:59.739Z"
   },
   {
    "duration": 11,
    "start_time": "2022-11-19T18:30:59.749Z"
   },
   {
    "duration": 20,
    "start_time": "2022-11-19T18:30:59.762Z"
   },
   {
    "duration": 26,
    "start_time": "2022-11-19T18:30:59.784Z"
   },
   {
    "duration": 21,
    "start_time": "2022-11-19T18:30:59.812Z"
   },
   {
    "duration": 19,
    "start_time": "2022-11-19T18:30:59.834Z"
   },
   {
    "duration": 33,
    "start_time": "2022-11-19T18:30:59.855Z"
   },
   {
    "duration": 35,
    "start_time": "2022-11-19T18:30:59.890Z"
   },
   {
    "duration": 21,
    "start_time": "2022-11-19T18:30:59.926Z"
   },
   {
    "duration": 27,
    "start_time": "2022-11-19T18:30:59.948Z"
   },
   {
    "duration": 48,
    "start_time": "2022-11-19T18:30:59.976Z"
   },
   {
    "duration": 33,
    "start_time": "2022-11-19T18:31:00.026Z"
   },
   {
    "duration": 36,
    "start_time": "2022-11-19T18:31:00.060Z"
   },
   {
    "duration": 22,
    "start_time": "2022-11-19T18:31:00.098Z"
   },
   {
    "duration": 30,
    "start_time": "2022-11-19T18:31:00.122Z"
   },
   {
    "duration": 36,
    "start_time": "2022-11-19T18:31:00.156Z"
   },
   {
    "duration": 39,
    "start_time": "2022-11-19T18:31:00.194Z"
   },
   {
    "duration": 32,
    "start_time": "2022-11-19T18:31:00.235Z"
   },
   {
    "duration": 32,
    "start_time": "2022-11-19T18:31:00.269Z"
   },
   {
    "duration": 20,
    "start_time": "2022-11-19T18:31:00.303Z"
   },
   {
    "duration": 43,
    "start_time": "2022-11-19T18:31:00.325Z"
   },
   {
    "duration": 22,
    "start_time": "2022-11-19T18:31:00.370Z"
   },
   {
    "duration": 32,
    "start_time": "2022-11-19T18:31:00.393Z"
   },
   {
    "duration": 22,
    "start_time": "2022-11-19T18:31:00.426Z"
   },
   {
    "duration": 40,
    "start_time": "2022-11-19T18:31:00.450Z"
   },
   {
    "duration": 37,
    "start_time": "2022-11-19T18:31:00.492Z"
   },
   {
    "duration": 28,
    "start_time": "2022-11-19T18:31:00.531Z"
   },
   {
    "duration": 38,
    "start_time": "2022-11-19T18:31:00.561Z"
   },
   {
    "duration": 25,
    "start_time": "2022-11-19T18:31:00.600Z"
   },
   {
    "duration": 25,
    "start_time": "2022-11-19T18:31:00.627Z"
   },
   {
    "duration": 24,
    "start_time": "2022-11-19T18:31:00.655Z"
   },
   {
    "duration": 117,
    "start_time": "2022-11-19T18:31:00.680Z"
   },
   {
    "duration": 791,
    "start_time": "2022-11-20T10:05:54.314Z"
   },
   {
    "duration": 30,
    "start_time": "2022-11-20T10:05:55.108Z"
   },
   {
    "duration": 26,
    "start_time": "2022-11-20T10:05:55.140Z"
   },
   {
    "duration": 31,
    "start_time": "2022-11-20T10:05:55.168Z"
   },
   {
    "duration": 43,
    "start_time": "2022-11-20T10:05:55.203Z"
   },
   {
    "duration": 4,
    "start_time": "2022-11-20T10:05:55.248Z"
   },
   {
    "duration": 26,
    "start_time": "2022-11-20T10:05:55.257Z"
   },
   {
    "duration": 24,
    "start_time": "2022-11-20T10:05:55.285Z"
   },
   {
    "duration": 18,
    "start_time": "2022-11-20T10:05:55.311Z"
   },
   {
    "duration": 28,
    "start_time": "2022-11-20T10:05:55.331Z"
   },
   {
    "duration": 60,
    "start_time": "2022-11-20T10:05:55.360Z"
   },
   {
    "duration": 11,
    "start_time": "2022-11-20T10:05:55.422Z"
   },
   {
    "duration": 9,
    "start_time": "2022-11-20T10:05:55.435Z"
   },
   {
    "duration": 16,
    "start_time": "2022-11-20T10:05:55.448Z"
   },
   {
    "duration": 38,
    "start_time": "2022-11-20T10:05:55.465Z"
   },
   {
    "duration": 20,
    "start_time": "2022-11-20T10:05:55.504Z"
   },
   {
    "duration": 4,
    "start_time": "2022-11-20T10:05:55.526Z"
   },
   {
    "duration": 27,
    "start_time": "2022-11-20T10:05:55.532Z"
   },
   {
    "duration": 7,
    "start_time": "2022-11-20T10:05:55.567Z"
   },
   {
    "duration": 4,
    "start_time": "2022-11-20T10:05:55.576Z"
   },
   {
    "duration": 15,
    "start_time": "2022-11-20T10:05:55.582Z"
   },
   {
    "duration": 6,
    "start_time": "2022-11-20T10:05:55.599Z"
   },
   {
    "duration": 10,
    "start_time": "2022-11-20T10:05:55.606Z"
   },
   {
    "duration": 5,
    "start_time": "2022-11-20T10:05:55.617Z"
   },
   {
    "duration": 6,
    "start_time": "2022-11-20T10:05:55.624Z"
   },
   {
    "duration": 38,
    "start_time": "2022-11-20T10:05:55.632Z"
   },
   {
    "duration": 24,
    "start_time": "2022-11-20T10:05:55.671Z"
   },
   {
    "duration": 11,
    "start_time": "2022-11-20T10:05:55.697Z"
   },
   {
    "duration": 9,
    "start_time": "2022-11-20T10:05:55.710Z"
   },
   {
    "duration": 8,
    "start_time": "2022-11-20T10:05:55.721Z"
   },
   {
    "duration": 4,
    "start_time": "2022-11-20T10:05:55.732Z"
   },
   {
    "duration": 31,
    "start_time": "2022-11-20T10:05:55.739Z"
   },
   {
    "duration": 10,
    "start_time": "2022-11-20T10:05:55.772Z"
   },
   {
    "duration": 11,
    "start_time": "2022-11-20T10:05:55.783Z"
   },
   {
    "duration": 11,
    "start_time": "2022-11-20T10:05:55.796Z"
   },
   {
    "duration": 8,
    "start_time": "2022-11-20T10:05:55.809Z"
   },
   {
    "duration": 13,
    "start_time": "2022-11-20T10:05:55.819Z"
   },
   {
    "duration": 6,
    "start_time": "2022-11-20T10:05:55.833Z"
   },
   {
    "duration": 24,
    "start_time": "2022-11-20T10:05:55.841Z"
   },
   {
    "duration": 16,
    "start_time": "2022-11-20T10:05:55.867Z"
   },
   {
    "duration": 4,
    "start_time": "2022-11-20T10:05:55.887Z"
   },
   {
    "duration": 12,
    "start_time": "2022-11-20T10:05:55.892Z"
   },
   {
    "duration": 133,
    "start_time": "2022-11-20T10:05:55.906Z"
   },
   {
    "duration": 11,
    "start_time": "2022-11-20T10:09:55.035Z"
   },
   {
    "duration": 503,
    "start_time": "2022-11-20T10:11:17.222Z"
   },
   {
    "duration": 47,
    "start_time": "2022-11-20T10:11:17.727Z"
   },
   {
    "duration": 18,
    "start_time": "2022-11-20T10:11:17.780Z"
   },
   {
    "duration": 12,
    "start_time": "2022-11-20T10:11:17.801Z"
   },
   {
    "duration": 63,
    "start_time": "2022-11-20T10:11:17.817Z"
   },
   {
    "duration": 5,
    "start_time": "2022-11-20T10:11:17.885Z"
   },
   {
    "duration": 12,
    "start_time": "2022-11-20T10:11:17.892Z"
   },
   {
    "duration": 6,
    "start_time": "2022-11-20T10:11:17.907Z"
   },
   {
    "duration": 13,
    "start_time": "2022-11-20T10:11:17.915Z"
   },
   {
    "duration": 36,
    "start_time": "2022-11-20T10:11:17.930Z"
   },
   {
    "duration": 57,
    "start_time": "2022-11-20T10:11:17.967Z"
   },
   {
    "duration": 12,
    "start_time": "2022-11-20T10:11:18.026Z"
   },
   {
    "duration": 29,
    "start_time": "2022-11-20T10:11:18.040Z"
   },
   {
    "duration": 22,
    "start_time": "2022-11-20T10:11:18.080Z"
   },
   {
    "duration": 36,
    "start_time": "2022-11-20T10:11:18.106Z"
   },
   {
    "duration": 39,
    "start_time": "2022-11-20T10:11:18.144Z"
   },
   {
    "duration": 5,
    "start_time": "2022-11-20T10:11:18.185Z"
   },
   {
    "duration": 30,
    "start_time": "2022-11-20T10:11:18.192Z"
   },
   {
    "duration": 9,
    "start_time": "2022-11-20T10:11:18.224Z"
   },
   {
    "duration": 5,
    "start_time": "2022-11-20T10:11:18.234Z"
   },
   {
    "duration": 24,
    "start_time": "2022-11-20T10:11:18.264Z"
   },
   {
    "duration": 6,
    "start_time": "2022-11-20T10:11:18.291Z"
   },
   {
    "duration": 8,
    "start_time": "2022-11-20T10:11:18.299Z"
   },
   {
    "duration": 11,
    "start_time": "2022-11-20T10:11:18.309Z"
   },
   {
    "duration": 14,
    "start_time": "2022-11-20T10:11:18.321Z"
   },
   {
    "duration": 17,
    "start_time": "2022-11-20T10:11:18.337Z"
   },
   {
    "duration": 31,
    "start_time": "2022-11-20T10:11:18.360Z"
   },
   {
    "duration": 17,
    "start_time": "2022-11-20T10:11:18.393Z"
   },
   {
    "duration": 9,
    "start_time": "2022-11-20T10:11:18.413Z"
   },
   {
    "duration": 16,
    "start_time": "2022-11-20T10:11:18.423Z"
   },
   {
    "duration": 8,
    "start_time": "2022-11-20T10:11:18.441Z"
   },
   {
    "duration": 41,
    "start_time": "2022-11-20T10:11:18.451Z"
   },
   {
    "duration": 12,
    "start_time": "2022-11-20T10:11:18.494Z"
   },
   {
    "duration": 9,
    "start_time": "2022-11-20T10:11:18.508Z"
   },
   {
    "duration": 12,
    "start_time": "2022-11-20T10:11:18.520Z"
   },
   {
    "duration": 5,
    "start_time": "2022-11-20T10:11:18.534Z"
   },
   {
    "duration": 22,
    "start_time": "2022-11-20T10:11:18.541Z"
   },
   {
    "duration": 26,
    "start_time": "2022-11-20T10:11:18.567Z"
   },
   {
    "duration": 5,
    "start_time": "2022-11-20T10:11:18.598Z"
   },
   {
    "duration": 14,
    "start_time": "2022-11-20T10:11:18.606Z"
   },
   {
    "duration": 4,
    "start_time": "2022-11-20T10:11:18.627Z"
   },
   {
    "duration": 11,
    "start_time": "2022-11-20T10:11:18.634Z"
   },
   {
    "duration": 16,
    "start_time": "2022-11-20T10:11:18.646Z"
   },
   {
    "duration": 21,
    "start_time": "2022-11-20T10:11:18.672Z"
   },
   {
    "duration": 14,
    "start_time": "2022-11-20T10:11:18.701Z"
   },
   {
    "duration": 132,
    "start_time": "2022-11-20T10:11:18.718Z"
   },
   {
    "duration": 507,
    "start_time": "2022-11-20T10:14:06.915Z"
   },
   {
    "duration": 23,
    "start_time": "2022-11-20T10:14:07.424Z"
   },
   {
    "duration": 22,
    "start_time": "2022-11-20T10:14:07.449Z"
   },
   {
    "duration": 20,
    "start_time": "2022-11-20T10:14:07.473Z"
   },
   {
    "duration": 45,
    "start_time": "2022-11-20T10:14:07.495Z"
   },
   {
    "duration": 5,
    "start_time": "2022-11-20T10:14:07.542Z"
   },
   {
    "duration": 17,
    "start_time": "2022-11-20T10:14:07.549Z"
   },
   {
    "duration": 10,
    "start_time": "2022-11-20T10:14:07.574Z"
   },
   {
    "duration": 9,
    "start_time": "2022-11-20T10:14:07.586Z"
   },
   {
    "duration": 4,
    "start_time": "2022-11-20T10:14:07.597Z"
   },
   {
    "duration": 60,
    "start_time": "2022-11-20T10:14:07.602Z"
   },
   {
    "duration": 11,
    "start_time": "2022-11-20T10:14:07.671Z"
   },
   {
    "duration": 5,
    "start_time": "2022-11-20T10:14:07.684Z"
   },
   {
    "duration": 14,
    "start_time": "2022-11-20T10:14:07.692Z"
   },
   {
    "duration": 23,
    "start_time": "2022-11-20T10:14:07.708Z"
   },
   {
    "duration": 36,
    "start_time": "2022-11-20T10:14:07.733Z"
   },
   {
    "duration": 4,
    "start_time": "2022-11-20T10:14:07.771Z"
   },
   {
    "duration": 14,
    "start_time": "2022-11-20T10:14:07.776Z"
   },
   {
    "duration": 6,
    "start_time": "2022-11-20T10:14:07.791Z"
   },
   {
    "duration": 4,
    "start_time": "2022-11-20T10:14:07.799Z"
   },
   {
    "duration": 19,
    "start_time": "2022-11-20T10:14:07.806Z"
   },
   {
    "duration": 4,
    "start_time": "2022-11-20T10:14:07.827Z"
   },
   {
    "duration": 17,
    "start_time": "2022-11-20T10:14:07.855Z"
   },
   {
    "duration": 12,
    "start_time": "2022-11-20T10:14:07.873Z"
   },
   {
    "duration": 6,
    "start_time": "2022-11-20T10:14:07.886Z"
   },
   {
    "duration": 17,
    "start_time": "2022-11-20T10:14:07.894Z"
   },
   {
    "duration": 27,
    "start_time": "2022-11-20T10:14:07.913Z"
   },
   {
    "duration": 10,
    "start_time": "2022-11-20T10:14:07.942Z"
   },
   {
    "duration": 22,
    "start_time": "2022-11-20T10:14:07.955Z"
   },
   {
    "duration": 12,
    "start_time": "2022-11-20T10:14:07.979Z"
   },
   {
    "duration": 8,
    "start_time": "2022-11-20T10:14:07.994Z"
   },
   {
    "duration": 10,
    "start_time": "2022-11-20T10:14:08.004Z"
   },
   {
    "duration": 6,
    "start_time": "2022-11-20T10:14:08.016Z"
   },
   {
    "duration": 11,
    "start_time": "2022-11-20T10:14:08.024Z"
   },
   {
    "duration": 25,
    "start_time": "2022-11-20T10:14:08.036Z"
   },
   {
    "duration": 22,
    "start_time": "2022-11-20T10:14:08.062Z"
   },
   {
    "duration": 11,
    "start_time": "2022-11-20T10:14:08.086Z"
   },
   {
    "duration": 7,
    "start_time": "2022-11-20T10:14:08.098Z"
   },
   {
    "duration": 9,
    "start_time": "2022-11-20T10:14:08.107Z"
   },
   {
    "duration": 12,
    "start_time": "2022-11-20T10:14:08.118Z"
   },
   {
    "duration": 3,
    "start_time": "2022-11-20T10:14:08.134Z"
   },
   {
    "duration": 52,
    "start_time": "2022-11-20T10:14:08.139Z"
   },
   {
    "duration": 18,
    "start_time": "2022-11-20T10:14:08.193Z"
   },
   {
    "duration": 5,
    "start_time": "2022-11-20T10:14:08.213Z"
   },
   {
    "duration": 24,
    "start_time": "2022-11-20T10:14:08.220Z"
   },
   {
    "duration": 140,
    "start_time": "2022-11-20T10:14:08.247Z"
   },
   {
    "duration": 43,
    "start_time": "2022-11-20T17:23:00.544Z"
   },
   {
    "duration": 542,
    "start_time": "2022-11-20T17:23:07.390Z"
   },
   {
    "duration": 22,
    "start_time": "2022-11-20T17:23:07.934Z"
   },
   {
    "duration": 14,
    "start_time": "2022-11-20T17:23:07.957Z"
   },
   {
    "duration": 8,
    "start_time": "2022-11-20T17:23:07.973Z"
   },
   {
    "duration": 35,
    "start_time": "2022-11-20T17:23:07.983Z"
   },
   {
    "duration": 3,
    "start_time": "2022-11-20T17:23:08.019Z"
   },
   {
    "duration": 11,
    "start_time": "2022-11-20T17:23:08.024Z"
   },
   {
    "duration": 5,
    "start_time": "2022-11-20T17:23:08.037Z"
   },
   {
    "duration": 12,
    "start_time": "2022-11-20T17:23:08.044Z"
   },
   {
    "duration": 5,
    "start_time": "2022-11-20T17:23:08.061Z"
   },
   {
    "duration": 58,
    "start_time": "2022-11-20T17:23:08.068Z"
   },
   {
    "duration": 8,
    "start_time": "2022-11-20T17:23:08.128Z"
   },
   {
    "duration": 4,
    "start_time": "2022-11-20T17:23:08.138Z"
   },
   {
    "duration": 11,
    "start_time": "2022-11-20T17:23:08.144Z"
   },
   {
    "duration": 17,
    "start_time": "2022-11-20T17:23:08.157Z"
   },
   {
    "duration": 41,
    "start_time": "2022-11-20T17:23:08.175Z"
   },
   {
    "duration": 3,
    "start_time": "2022-11-20T17:23:08.218Z"
   },
   {
    "duration": 12,
    "start_time": "2022-11-20T17:23:08.222Z"
   },
   {
    "duration": 6,
    "start_time": "2022-11-20T17:23:08.236Z"
   },
   {
    "duration": 4,
    "start_time": "2022-11-20T17:23:08.243Z"
   },
   {
    "duration": 14,
    "start_time": "2022-11-20T17:23:08.248Z"
   },
   {
    "duration": 5,
    "start_time": "2022-11-20T17:23:08.264Z"
   },
   {
    "duration": 16,
    "start_time": "2022-11-20T17:23:08.270Z"
   },
   {
    "duration": 8,
    "start_time": "2022-11-20T17:23:08.287Z"
   },
   {
    "duration": 4,
    "start_time": "2022-11-20T17:23:08.313Z"
   },
   {
    "duration": 9,
    "start_time": "2022-11-20T17:23:08.319Z"
   },
   {
    "duration": 12,
    "start_time": "2022-11-20T17:23:08.330Z"
   },
   {
    "duration": 8,
    "start_time": "2022-11-20T17:23:08.344Z"
   },
   {
    "duration": 3,
    "start_time": "2022-11-20T17:23:08.354Z"
   },
   {
    "duration": 11,
    "start_time": "2022-11-20T17:23:08.358Z"
   },
   {
    "duration": 4,
    "start_time": "2022-11-20T17:23:08.370Z"
   },
   {
    "duration": 42,
    "start_time": "2022-11-20T17:23:08.376Z"
   },
   {
    "duration": 7,
    "start_time": "2022-11-20T17:23:08.419Z"
   },
   {
    "duration": 6,
    "start_time": "2022-11-20T17:23:08.428Z"
   },
   {
    "duration": 13,
    "start_time": "2022-11-20T17:23:08.435Z"
   },
   {
    "duration": 6,
    "start_time": "2022-11-20T17:23:08.449Z"
   },
   {
    "duration": 8,
    "start_time": "2022-11-20T17:23:08.456Z"
   },
   {
    "duration": 8,
    "start_time": "2022-11-20T17:23:08.466Z"
   },
   {
    "duration": 5,
    "start_time": "2022-11-20T17:23:08.476Z"
   },
   {
    "duration": 10,
    "start_time": "2022-11-20T17:23:08.482Z"
   },
   {
    "duration": 3,
    "start_time": "2022-11-20T17:23:08.513Z"
   },
   {
    "duration": 8,
    "start_time": "2022-11-20T17:23:08.518Z"
   },
   {
    "duration": 13,
    "start_time": "2022-11-20T17:23:08.528Z"
   },
   {
    "duration": 8,
    "start_time": "2022-11-20T17:23:08.542Z"
   },
   {
    "duration": 19,
    "start_time": "2022-11-20T17:23:08.551Z"
   },
   {
    "duration": 61,
    "start_time": "2022-11-20T17:23:08.572Z"
   }
  ],
  "colab": {
   "name": "dpp_template_part2.ipynb",
   "provenance": []
  },
  "kernelspec": {
   "display_name": "Python 3 (ipykernel)",
   "language": "python",
   "name": "python3"
  },
  "language_info": {
   "codemirror_mode": {
    "name": "ipython",
    "version": 3
   },
   "file_extension": ".py",
   "mimetype": "text/x-python",
   "name": "python",
   "nbconvert_exporter": "python",
   "pygments_lexer": "ipython3",
   "version": "3.9.5"
  },
  "toc": {
   "base_numbering": 1,
   "nav_menu": {},
   "number_sections": true,
   "sideBar": true,
   "skip_h1_title": true,
   "title_cell": "Table of Contents",
   "title_sidebar": "Contents",
   "toc_cell": false,
   "toc_position": {},
   "toc_section_display": true,
   "toc_window_display": true
  }
 },
 "nbformat": 4,
 "nbformat_minor": 5
}
