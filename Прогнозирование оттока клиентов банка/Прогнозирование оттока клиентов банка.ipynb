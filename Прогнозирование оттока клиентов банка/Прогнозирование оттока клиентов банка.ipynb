{
 "cells": [
  {
   "cell_type": "markdown",
   "metadata": {},
   "source": [
    "# Отток клиентов"
   ]
  },
  {
   "cell_type": "markdown",
   "metadata": {},
   "source": [
    "Из «Бета-Банка» стали уходить клиенты. Каждый месяц. Немного, но заметно. Банковские маркетологи посчитали: сохранять текущих клиентов дешевле, чем привлекать новых.\n",
    "\n",
    "Нужно спрогнозировать, уйдёт клиент из банка в ближайшее время или нет. Вам предоставлены исторические данные о поведении клиентов и расторжении договоров с банком. \n",
    "\n",
    "Постройте модель с предельно большим значением *F1*-меры. Чтобы сдать проект успешно, нужно довести метрику до 0.59. Проверьте *F1*-меру на тестовой выборке самостоятельно.\n",
    "\n",
    "Дополнительно измеряйте *AUC-ROC*, сравнивайте её значение с *F1*-мерой.\n",
    "\n",
    "Источник данных: [https://www.kaggle.com/barelydedicated/bank-customer-churn-modeling](https://www.kaggle.com/barelydedicated/bank-customer-churn-modeling)\n",
    "\n",
    "План проекта:\\\n",
    "Изучить файл с данными.\\\n",
    "Загрузить и подготовить данные для обучения модели.\\\n",
    "Разбить данные на три выборки: обучающая, валидационная и тестовая.\\\n",
    "Исследовать три модели классификации: Решающее дерево, Случайный лес и Логистическая регрессия.\\\n",
    "Найти оптимальные параметры для каждой модели и выбрать одну из них для обучения модели.\\\n",
    "Оценить точность обученной модели.\\\n",
    "Довести целевой показатель F1-меры до 0.59.\\\n",
    "Провести тестирование модели.\\\n",
    "Измерять AUC-ROC."
   ]
  },
  {
   "cell_type": "markdown",
   "metadata": {},
   "source": [
    "## Подготовка данных"
   ]
  },
  {
   "cell_type": "markdown",
   "metadata": {},
   "source": [
    "### Импортируем необходимые библиотеки"
   ]
  },
  {
   "cell_type": "code",
   "execution_count": 3,
   "metadata": {},
   "outputs": [],
   "source": [
    "import pandas as pd\n",
    "import matplotlib.pyplot as plt\n",
    "from sklearn.model_selection import train_test_split \n",
    "from sklearn.utils import shuffle\n",
    "from sklearn.tree import DecisionTreeClassifier\n",
    "from sklearn.ensemble import RandomForestClassifier\n",
    "from sklearn.linear_model import LogisticRegression\n",
    "from sklearn.preprocessing import StandardScaler \n",
    "from sklearn.dummy import DummyClassifier\n",
    "from sklearn.metrics import roc_curve, roc_auc_score, precision_score, recall_score, f1_score"
   ]
  },
  {
   "cell_type": "markdown",
   "metadata": {},
   "source": [
    "### Прочитаем файл данных"
   ]
  },
  {
   "cell_type": "code",
   "execution_count": 4,
   "metadata": {},
   "outputs": [],
   "source": [
    "data = pd.read_csv('Churn.csv')"
   ]
  },
  {
   "cell_type": "markdown",
   "metadata": {},
   "source": [
    "### Исследуем данные"
   ]
  },
  {
   "cell_type": "code",
   "execution_count": 5,
   "metadata": {},
   "outputs": [
    {
     "data": {
      "text/plain": [
       "(10000, 14)"
      ]
     },
     "execution_count": 5,
     "metadata": {},
     "output_type": "execute_result"
    }
   ],
   "source": [
    "data.shape"
   ]
  },
  {
   "cell_type": "code",
   "execution_count": 6,
   "metadata": {},
   "outputs": [
    {
     "data": {
      "text/html": [
       "<div>\n",
       "<style scoped>\n",
       "    .dataframe tbody tr th:only-of-type {\n",
       "        vertical-align: middle;\n",
       "    }\n",
       "\n",
       "    .dataframe tbody tr th {\n",
       "        vertical-align: top;\n",
       "    }\n",
       "\n",
       "    .dataframe thead th {\n",
       "        text-align: right;\n",
       "    }\n",
       "</style>\n",
       "<table border=\"1\" class=\"dataframe\">\n",
       "  <thead>\n",
       "    <tr style=\"text-align: right;\">\n",
       "      <th></th>\n",
       "      <th>RowNumber</th>\n",
       "      <th>CustomerId</th>\n",
       "      <th>Surname</th>\n",
       "      <th>CreditScore</th>\n",
       "      <th>Geography</th>\n",
       "      <th>Gender</th>\n",
       "      <th>Age</th>\n",
       "      <th>Tenure</th>\n",
       "      <th>Balance</th>\n",
       "      <th>NumOfProducts</th>\n",
       "      <th>HasCrCard</th>\n",
       "      <th>IsActiveMember</th>\n",
       "      <th>EstimatedSalary</th>\n",
       "      <th>Exited</th>\n",
       "    </tr>\n",
       "  </thead>\n",
       "  <tbody>\n",
       "    <tr>\n",
       "      <th>0</th>\n",
       "      <td>1</td>\n",
       "      <td>15634602</td>\n",
       "      <td>Hargrave</td>\n",
       "      <td>619</td>\n",
       "      <td>France</td>\n",
       "      <td>Female</td>\n",
       "      <td>42</td>\n",
       "      <td>2.0</td>\n",
       "      <td>0.00</td>\n",
       "      <td>1</td>\n",
       "      <td>1</td>\n",
       "      <td>1</td>\n",
       "      <td>101348.88</td>\n",
       "      <td>1</td>\n",
       "    </tr>\n",
       "    <tr>\n",
       "      <th>1</th>\n",
       "      <td>2</td>\n",
       "      <td>15647311</td>\n",
       "      <td>Hill</td>\n",
       "      <td>608</td>\n",
       "      <td>Spain</td>\n",
       "      <td>Female</td>\n",
       "      <td>41</td>\n",
       "      <td>1.0</td>\n",
       "      <td>83807.86</td>\n",
       "      <td>1</td>\n",
       "      <td>0</td>\n",
       "      <td>1</td>\n",
       "      <td>112542.58</td>\n",
       "      <td>0</td>\n",
       "    </tr>\n",
       "    <tr>\n",
       "      <th>2</th>\n",
       "      <td>3</td>\n",
       "      <td>15619304</td>\n",
       "      <td>Onio</td>\n",
       "      <td>502</td>\n",
       "      <td>France</td>\n",
       "      <td>Female</td>\n",
       "      <td>42</td>\n",
       "      <td>8.0</td>\n",
       "      <td>159660.80</td>\n",
       "      <td>3</td>\n",
       "      <td>1</td>\n",
       "      <td>0</td>\n",
       "      <td>113931.57</td>\n",
       "      <td>1</td>\n",
       "    </tr>\n",
       "    <tr>\n",
       "      <th>3</th>\n",
       "      <td>4</td>\n",
       "      <td>15701354</td>\n",
       "      <td>Boni</td>\n",
       "      <td>699</td>\n",
       "      <td>France</td>\n",
       "      <td>Female</td>\n",
       "      <td>39</td>\n",
       "      <td>1.0</td>\n",
       "      <td>0.00</td>\n",
       "      <td>2</td>\n",
       "      <td>0</td>\n",
       "      <td>0</td>\n",
       "      <td>93826.63</td>\n",
       "      <td>0</td>\n",
       "    </tr>\n",
       "    <tr>\n",
       "      <th>4</th>\n",
       "      <td>5</td>\n",
       "      <td>15737888</td>\n",
       "      <td>Mitchell</td>\n",
       "      <td>850</td>\n",
       "      <td>Spain</td>\n",
       "      <td>Female</td>\n",
       "      <td>43</td>\n",
       "      <td>2.0</td>\n",
       "      <td>125510.82</td>\n",
       "      <td>1</td>\n",
       "      <td>1</td>\n",
       "      <td>1</td>\n",
       "      <td>79084.10</td>\n",
       "      <td>0</td>\n",
       "    </tr>\n",
       "    <tr>\n",
       "      <th>5</th>\n",
       "      <td>6</td>\n",
       "      <td>15574012</td>\n",
       "      <td>Chu</td>\n",
       "      <td>645</td>\n",
       "      <td>Spain</td>\n",
       "      <td>Male</td>\n",
       "      <td>44</td>\n",
       "      <td>8.0</td>\n",
       "      <td>113755.78</td>\n",
       "      <td>2</td>\n",
       "      <td>1</td>\n",
       "      <td>0</td>\n",
       "      <td>149756.71</td>\n",
       "      <td>1</td>\n",
       "    </tr>\n",
       "    <tr>\n",
       "      <th>6</th>\n",
       "      <td>7</td>\n",
       "      <td>15592531</td>\n",
       "      <td>Bartlett</td>\n",
       "      <td>822</td>\n",
       "      <td>France</td>\n",
       "      <td>Male</td>\n",
       "      <td>50</td>\n",
       "      <td>7.0</td>\n",
       "      <td>0.00</td>\n",
       "      <td>2</td>\n",
       "      <td>1</td>\n",
       "      <td>1</td>\n",
       "      <td>10062.80</td>\n",
       "      <td>0</td>\n",
       "    </tr>\n",
       "    <tr>\n",
       "      <th>7</th>\n",
       "      <td>8</td>\n",
       "      <td>15656148</td>\n",
       "      <td>Obinna</td>\n",
       "      <td>376</td>\n",
       "      <td>Germany</td>\n",
       "      <td>Female</td>\n",
       "      <td>29</td>\n",
       "      <td>4.0</td>\n",
       "      <td>115046.74</td>\n",
       "      <td>4</td>\n",
       "      <td>1</td>\n",
       "      <td>0</td>\n",
       "      <td>119346.88</td>\n",
       "      <td>1</td>\n",
       "    </tr>\n",
       "    <tr>\n",
       "      <th>8</th>\n",
       "      <td>9</td>\n",
       "      <td>15792365</td>\n",
       "      <td>He</td>\n",
       "      <td>501</td>\n",
       "      <td>France</td>\n",
       "      <td>Male</td>\n",
       "      <td>44</td>\n",
       "      <td>4.0</td>\n",
       "      <td>142051.07</td>\n",
       "      <td>2</td>\n",
       "      <td>0</td>\n",
       "      <td>1</td>\n",
       "      <td>74940.50</td>\n",
       "      <td>0</td>\n",
       "    </tr>\n",
       "    <tr>\n",
       "      <th>9</th>\n",
       "      <td>10</td>\n",
       "      <td>15592389</td>\n",
       "      <td>H?</td>\n",
       "      <td>684</td>\n",
       "      <td>France</td>\n",
       "      <td>Male</td>\n",
       "      <td>27</td>\n",
       "      <td>2.0</td>\n",
       "      <td>134603.88</td>\n",
       "      <td>1</td>\n",
       "      <td>1</td>\n",
       "      <td>1</td>\n",
       "      <td>71725.73</td>\n",
       "      <td>0</td>\n",
       "    </tr>\n",
       "  </tbody>\n",
       "</table>\n",
       "</div>"
      ],
      "text/plain": [
       "   RowNumber  CustomerId   Surname  CreditScore Geography  Gender  Age  \\\n",
       "0          1    15634602  Hargrave          619    France  Female   42   \n",
       "1          2    15647311      Hill          608     Spain  Female   41   \n",
       "2          3    15619304      Onio          502    France  Female   42   \n",
       "3          4    15701354      Boni          699    France  Female   39   \n",
       "4          5    15737888  Mitchell          850     Spain  Female   43   \n",
       "5          6    15574012       Chu          645     Spain    Male   44   \n",
       "6          7    15592531  Bartlett          822    France    Male   50   \n",
       "7          8    15656148    Obinna          376   Germany  Female   29   \n",
       "8          9    15792365        He          501    France    Male   44   \n",
       "9         10    15592389        H?          684    France    Male   27   \n",
       "\n",
       "   Tenure    Balance  NumOfProducts  HasCrCard  IsActiveMember  \\\n",
       "0     2.0       0.00              1          1               1   \n",
       "1     1.0   83807.86              1          0               1   \n",
       "2     8.0  159660.80              3          1               0   \n",
       "3     1.0       0.00              2          0               0   \n",
       "4     2.0  125510.82              1          1               1   \n",
       "5     8.0  113755.78              2          1               0   \n",
       "6     7.0       0.00              2          1               1   \n",
       "7     4.0  115046.74              4          1               0   \n",
       "8     4.0  142051.07              2          0               1   \n",
       "9     2.0  134603.88              1          1               1   \n",
       "\n",
       "   EstimatedSalary  Exited  \n",
       "0        101348.88       1  \n",
       "1        112542.58       0  \n",
       "2        113931.57       1  \n",
       "3         93826.63       0  \n",
       "4         79084.10       0  \n",
       "5        149756.71       1  \n",
       "6         10062.80       0  \n",
       "7        119346.88       1  \n",
       "8         74940.50       0  \n",
       "9         71725.73       0  "
      ]
     },
     "execution_count": 6,
     "metadata": {},
     "output_type": "execute_result"
    }
   ],
   "source": [
    "data.head(10)"
   ]
  },
  {
   "cell_type": "code",
   "execution_count": 7,
   "metadata": {},
   "outputs": [
    {
     "data": {
      "text/html": [
       "<div>\n",
       "<style scoped>\n",
       "    .dataframe tbody tr th:only-of-type {\n",
       "        vertical-align: middle;\n",
       "    }\n",
       "\n",
       "    .dataframe tbody tr th {\n",
       "        vertical-align: top;\n",
       "    }\n",
       "\n",
       "    .dataframe thead th {\n",
       "        text-align: right;\n",
       "    }\n",
       "</style>\n",
       "<table border=\"1\" class=\"dataframe\">\n",
       "  <thead>\n",
       "    <tr style=\"text-align: right;\">\n",
       "      <th></th>\n",
       "      <th>RowNumber</th>\n",
       "      <th>CustomerId</th>\n",
       "      <th>CreditScore</th>\n",
       "      <th>Age</th>\n",
       "      <th>Tenure</th>\n",
       "      <th>Balance</th>\n",
       "      <th>NumOfProducts</th>\n",
       "      <th>HasCrCard</th>\n",
       "      <th>IsActiveMember</th>\n",
       "      <th>EstimatedSalary</th>\n",
       "      <th>Exited</th>\n",
       "    </tr>\n",
       "  </thead>\n",
       "  <tbody>\n",
       "    <tr>\n",
       "      <th>count</th>\n",
       "      <td>10000.00000</td>\n",
       "      <td>1.000000e+04</td>\n",
       "      <td>10000.000000</td>\n",
       "      <td>10000.000000</td>\n",
       "      <td>9091.000000</td>\n",
       "      <td>10000.000000</td>\n",
       "      <td>10000.000000</td>\n",
       "      <td>10000.00000</td>\n",
       "      <td>10000.000000</td>\n",
       "      <td>10000.000000</td>\n",
       "      <td>10000.000000</td>\n",
       "    </tr>\n",
       "    <tr>\n",
       "      <th>mean</th>\n",
       "      <td>5000.50000</td>\n",
       "      <td>1.569094e+07</td>\n",
       "      <td>650.528800</td>\n",
       "      <td>38.921800</td>\n",
       "      <td>4.997690</td>\n",
       "      <td>76485.889288</td>\n",
       "      <td>1.530200</td>\n",
       "      <td>0.70550</td>\n",
       "      <td>0.515100</td>\n",
       "      <td>100090.239881</td>\n",
       "      <td>0.203700</td>\n",
       "    </tr>\n",
       "    <tr>\n",
       "      <th>std</th>\n",
       "      <td>2886.89568</td>\n",
       "      <td>7.193619e+04</td>\n",
       "      <td>96.653299</td>\n",
       "      <td>10.487806</td>\n",
       "      <td>2.894723</td>\n",
       "      <td>62397.405202</td>\n",
       "      <td>0.581654</td>\n",
       "      <td>0.45584</td>\n",
       "      <td>0.499797</td>\n",
       "      <td>57510.492818</td>\n",
       "      <td>0.402769</td>\n",
       "    </tr>\n",
       "    <tr>\n",
       "      <th>min</th>\n",
       "      <td>1.00000</td>\n",
       "      <td>1.556570e+07</td>\n",
       "      <td>350.000000</td>\n",
       "      <td>18.000000</td>\n",
       "      <td>0.000000</td>\n",
       "      <td>0.000000</td>\n",
       "      <td>1.000000</td>\n",
       "      <td>0.00000</td>\n",
       "      <td>0.000000</td>\n",
       "      <td>11.580000</td>\n",
       "      <td>0.000000</td>\n",
       "    </tr>\n",
       "    <tr>\n",
       "      <th>25%</th>\n",
       "      <td>2500.75000</td>\n",
       "      <td>1.562853e+07</td>\n",
       "      <td>584.000000</td>\n",
       "      <td>32.000000</td>\n",
       "      <td>2.000000</td>\n",
       "      <td>0.000000</td>\n",
       "      <td>1.000000</td>\n",
       "      <td>0.00000</td>\n",
       "      <td>0.000000</td>\n",
       "      <td>51002.110000</td>\n",
       "      <td>0.000000</td>\n",
       "    </tr>\n",
       "    <tr>\n",
       "      <th>50%</th>\n",
       "      <td>5000.50000</td>\n",
       "      <td>1.569074e+07</td>\n",
       "      <td>652.000000</td>\n",
       "      <td>37.000000</td>\n",
       "      <td>5.000000</td>\n",
       "      <td>97198.540000</td>\n",
       "      <td>1.000000</td>\n",
       "      <td>1.00000</td>\n",
       "      <td>1.000000</td>\n",
       "      <td>100193.915000</td>\n",
       "      <td>0.000000</td>\n",
       "    </tr>\n",
       "    <tr>\n",
       "      <th>75%</th>\n",
       "      <td>7500.25000</td>\n",
       "      <td>1.575323e+07</td>\n",
       "      <td>718.000000</td>\n",
       "      <td>44.000000</td>\n",
       "      <td>7.000000</td>\n",
       "      <td>127644.240000</td>\n",
       "      <td>2.000000</td>\n",
       "      <td>1.00000</td>\n",
       "      <td>1.000000</td>\n",
       "      <td>149388.247500</td>\n",
       "      <td>0.000000</td>\n",
       "    </tr>\n",
       "    <tr>\n",
       "      <th>max</th>\n",
       "      <td>10000.00000</td>\n",
       "      <td>1.581569e+07</td>\n",
       "      <td>850.000000</td>\n",
       "      <td>92.000000</td>\n",
       "      <td>10.000000</td>\n",
       "      <td>250898.090000</td>\n",
       "      <td>4.000000</td>\n",
       "      <td>1.00000</td>\n",
       "      <td>1.000000</td>\n",
       "      <td>199992.480000</td>\n",
       "      <td>1.000000</td>\n",
       "    </tr>\n",
       "  </tbody>\n",
       "</table>\n",
       "</div>"
      ],
      "text/plain": [
       "         RowNumber    CustomerId   CreditScore           Age       Tenure  \\\n",
       "count  10000.00000  1.000000e+04  10000.000000  10000.000000  9091.000000   \n",
       "mean    5000.50000  1.569094e+07    650.528800     38.921800     4.997690   \n",
       "std     2886.89568  7.193619e+04     96.653299     10.487806     2.894723   \n",
       "min        1.00000  1.556570e+07    350.000000     18.000000     0.000000   \n",
       "25%     2500.75000  1.562853e+07    584.000000     32.000000     2.000000   \n",
       "50%     5000.50000  1.569074e+07    652.000000     37.000000     5.000000   \n",
       "75%     7500.25000  1.575323e+07    718.000000     44.000000     7.000000   \n",
       "max    10000.00000  1.581569e+07    850.000000     92.000000    10.000000   \n",
       "\n",
       "             Balance  NumOfProducts    HasCrCard  IsActiveMember  \\\n",
       "count   10000.000000   10000.000000  10000.00000    10000.000000   \n",
       "mean    76485.889288       1.530200      0.70550        0.515100   \n",
       "std     62397.405202       0.581654      0.45584        0.499797   \n",
       "min         0.000000       1.000000      0.00000        0.000000   \n",
       "25%         0.000000       1.000000      0.00000        0.000000   \n",
       "50%     97198.540000       1.000000      1.00000        1.000000   \n",
       "75%    127644.240000       2.000000      1.00000        1.000000   \n",
       "max    250898.090000       4.000000      1.00000        1.000000   \n",
       "\n",
       "       EstimatedSalary        Exited  \n",
       "count     10000.000000  10000.000000  \n",
       "mean     100090.239881      0.203700  \n",
       "std       57510.492818      0.402769  \n",
       "min          11.580000      0.000000  \n",
       "25%       51002.110000      0.000000  \n",
       "50%      100193.915000      0.000000  \n",
       "75%      149388.247500      0.000000  \n",
       "max      199992.480000      1.000000  "
      ]
     },
     "execution_count": 7,
     "metadata": {},
     "output_type": "execute_result"
    }
   ],
   "source": [
    "data.describe()"
   ]
  },
  {
   "cell_type": "code",
   "execution_count": 8,
   "metadata": {
    "scrolled": true
   },
   "outputs": [
    {
     "data": {
      "text/plain": [
       "0"
      ]
     },
     "execution_count": 8,
     "metadata": {},
     "output_type": "execute_result"
    }
   ],
   "source": [
    "data.duplicated().sum()"
   ]
  },
  {
   "cell_type": "code",
   "execution_count": 9,
   "metadata": {},
   "outputs": [
    {
     "data": {
      "text/plain": [
       "2932"
      ]
     },
     "execution_count": 9,
     "metadata": {},
     "output_type": "execute_result"
    }
   ],
   "source": [
    "len(data['Surname'].unique())"
   ]
  },
  {
   "cell_type": "code",
   "execution_count": 10,
   "metadata": {},
   "outputs": [
    {
     "data": {
      "text/plain": [
       "array(['France', 'Spain', 'Germany'], dtype=object)"
      ]
     },
     "execution_count": 10,
     "metadata": {},
     "output_type": "execute_result"
    }
   ],
   "source": [
    "data['Geography'].unique()"
   ]
  },
  {
   "cell_type": "code",
   "execution_count": 11,
   "metadata": {
    "scrolled": false
   },
   "outputs": [
    {
     "name": "stdout",
     "output_type": "stream",
     "text": [
      "<class 'pandas.core.frame.DataFrame'>\n",
      "RangeIndex: 10000 entries, 0 to 9999\n",
      "Data columns (total 14 columns):\n",
      " #   Column           Non-Null Count  Dtype  \n",
      "---  ------           --------------  -----  \n",
      " 0   RowNumber        10000 non-null  int64  \n",
      " 1   CustomerId       10000 non-null  int64  \n",
      " 2   Surname          10000 non-null  object \n",
      " 3   CreditScore      10000 non-null  int64  \n",
      " 4   Geography        10000 non-null  object \n",
      " 5   Gender           10000 non-null  object \n",
      " 6   Age              10000 non-null  int64  \n",
      " 7   Tenure           9091 non-null   float64\n",
      " 8   Balance          10000 non-null  float64\n",
      " 9   NumOfProducts    10000 non-null  int64  \n",
      " 10  HasCrCard        10000 non-null  int64  \n",
      " 11  IsActiveMember   10000 non-null  int64  \n",
      " 12  EstimatedSalary  10000 non-null  float64\n",
      " 13  Exited           10000 non-null  int64  \n",
      "dtypes: float64(3), int64(8), object(3)\n",
      "memory usage: 1.1+ MB\n"
     ]
    }
   ],
   "source": [
    "data.info()"
   ]
  },
  {
   "cell_type": "markdown",
   "metadata": {},
   "source": [
    "Файл данных содержит 10000 строк.\\\n",
    "Дупликатов не обнаружено.\\\n",
    "Признаки:\\\n",
    "RowNumber — индекс строки в данных\\\n",
    "CustomerId — уникальный идентификатор клиента\\\n",
    "Surname — фамилия\\\n",
    "CreditScore — кредитный рейтинг\\\n",
    "Geography — страна проживания\\\n",
    "Gender — пол\\\n",
    "Age — возраст\\\n",
    "Tenure — сколько лет человек является клиентом банка\\\n",
    "Balance — баланс на счёте\\\n",
    "NumOfProducts — количество продуктов банка, используемых клиентом\\\n",
    "HasCrCard — наличие кредитной карты\\\n",
    "IsActiveMember — активность клиента\\\n",
    "EstimatedSalary — предполагаемая зарплата\\\n",
    "Целевой признак:\\\n",
    "Exited — факт ухода клиента\\\n",
    "\\\n",
    "Требуемые изменения:\\\n",
    "RowNumber — нумерация пользователей по порядку. Столбец не несет информации для обучения модели. Поэтому столбец можно удалить.\\\n",
    "CustomerId — является идентификатором пользователя — столбец также можно удалить.\\\n",
    "Surname — является идентифицирующей пользователя информацией, содержит 2932 уникальных значений, что сильно усложняет задачу, но не несет ценности для качества будущей модели — столбец можно удалить.\\\n",
    "CreditScore — сохранить данный столбец.\\\n",
    "Geography — всего 3 уникальных значения 'France', 'Spain', 'Germany' — значение преобразовать техникой прямого кодирования, или отображения (англ. One-Hot Encoding, OHE).\\\n",
    "Gender — выполнить преобразование техникой прямого кодирования, или отображения (англ. One-Hot Encoding, OHE)\\\n",
    "Переименуем названия столбцов в соответствии с PEP8. Для целей исследования не важно, но будем придерживаться стандартов."
   ]
  },
  {
   "cell_type": "code",
   "execution_count": 12,
   "metadata": {},
   "outputs": [],
   "source": [
    "#Удаляем ненужные столбцы\n",
    "data = data.drop(['RowNumber', 'CustomerId', 'Surname'], axis=1)"
   ]
  },
  {
   "cell_type": "code",
   "execution_count": 13,
   "metadata": {},
   "outputs": [],
   "source": [
    "# Заменим названия столбцов\n",
    "data.columns=['credit_score', 'geography', 'gender', 'age', 'tenure', 'balance',\n",
    "       'num_of_products', 'has_cr_card', 'is_active_member', 'estimated_salary',\n",
    "       'exited']"
   ]
  },
  {
   "cell_type": "code",
   "execution_count": 14,
   "metadata": {
    "scrolled": false
   },
   "outputs": [],
   "source": [
    "# заменяем значения медианными\n",
    "data['tenure'] = data['tenure'].fillna(data['tenure'].median())"
   ]
  },
  {
   "cell_type": "code",
   "execution_count": 15,
   "metadata": {
    "scrolled": false
   },
   "outputs": [],
   "source": [
    "# преобразовываем категориальные признаки в численные\n",
    "# data['gender'] = pd.get_dummies(data['gender'], drop_first=True)"
   ]
  },
  {
   "cell_type": "code",
   "execution_count": 16,
   "metadata": {
    "scrolled": true
   },
   "outputs": [],
   "source": [
    "# преобразовываем категориальные признаки в численные техникой прямого кодирования,\n",
    "# или отображения (англ. One-Hot Encoding, OHE)\n",
    "# Чтобы не попасть в дамми-ловушку, применяем аргумент drop_first функции pd.get_dummies() \n",
    "data_ohe = pd.get_dummies(data, drop_first=True)"
   ]
  },
  {
   "cell_type": "code",
   "execution_count": 17,
   "metadata": {},
   "outputs": [],
   "source": [
    "# Переведем названия вновь образованных колонок в нижний регистр \n",
    "data_ohe.columns = data_ohe.columns.str.lower()"
   ]
  },
  {
   "cell_type": "code",
   "execution_count": 18,
   "metadata": {},
   "outputs": [],
   "source": [
    "# encoder = OrdinalEncoder() \n",
    "# data = pd.DataFrame(encoder.fit_transform(data), columns=data.columns)"
   ]
  },
  {
   "cell_type": "markdown",
   "metadata": {},
   "source": [
    "### Проверим правильность подготовки данных"
   ]
  },
  {
   "cell_type": "code",
   "execution_count": 19,
   "metadata": {
    "scrolled": true
   },
   "outputs": [
    {
     "name": "stdout",
     "output_type": "stream",
     "text": [
      "<class 'pandas.core.frame.DataFrame'>\n",
      "RangeIndex: 10000 entries, 0 to 9999\n",
      "Data columns (total 12 columns):\n",
      " #   Column             Non-Null Count  Dtype  \n",
      "---  ------             --------------  -----  \n",
      " 0   credit_score       10000 non-null  int64  \n",
      " 1   age                10000 non-null  int64  \n",
      " 2   tenure             10000 non-null  float64\n",
      " 3   balance            10000 non-null  float64\n",
      " 4   num_of_products    10000 non-null  int64  \n",
      " 5   has_cr_card        10000 non-null  int64  \n",
      " 6   is_active_member   10000 non-null  int64  \n",
      " 7   estimated_salary   10000 non-null  float64\n",
      " 8   exited             10000 non-null  int64  \n",
      " 9   geography_germany  10000 non-null  bool   \n",
      " 10  geography_spain    10000 non-null  bool   \n",
      " 11  gender_male        10000 non-null  bool   \n",
      "dtypes: bool(3), float64(3), int64(6)\n",
      "memory usage: 732.6 KB\n"
     ]
    }
   ],
   "source": [
    "data_ohe.info()"
   ]
  },
  {
   "cell_type": "code",
   "execution_count": 20,
   "metadata": {},
   "outputs": [
    {
     "data": {
      "text/html": [
       "<div>\n",
       "<style scoped>\n",
       "    .dataframe tbody tr th:only-of-type {\n",
       "        vertical-align: middle;\n",
       "    }\n",
       "\n",
       "    .dataframe tbody tr th {\n",
       "        vertical-align: top;\n",
       "    }\n",
       "\n",
       "    .dataframe thead th {\n",
       "        text-align: right;\n",
       "    }\n",
       "</style>\n",
       "<table border=\"1\" class=\"dataframe\">\n",
       "  <thead>\n",
       "    <tr style=\"text-align: right;\">\n",
       "      <th></th>\n",
       "      <th>credit_score</th>\n",
       "      <th>age</th>\n",
       "      <th>tenure</th>\n",
       "      <th>balance</th>\n",
       "      <th>num_of_products</th>\n",
       "      <th>has_cr_card</th>\n",
       "      <th>is_active_member</th>\n",
       "      <th>estimated_salary</th>\n",
       "      <th>exited</th>\n",
       "      <th>geography_germany</th>\n",
       "      <th>geography_spain</th>\n",
       "      <th>gender_male</th>\n",
       "    </tr>\n",
       "  </thead>\n",
       "  <tbody>\n",
       "    <tr>\n",
       "      <th>0</th>\n",
       "      <td>619</td>\n",
       "      <td>42</td>\n",
       "      <td>2.0</td>\n",
       "      <td>0.00</td>\n",
       "      <td>1</td>\n",
       "      <td>1</td>\n",
       "      <td>1</td>\n",
       "      <td>101348.88</td>\n",
       "      <td>1</td>\n",
       "      <td>False</td>\n",
       "      <td>False</td>\n",
       "      <td>False</td>\n",
       "    </tr>\n",
       "    <tr>\n",
       "      <th>1</th>\n",
       "      <td>608</td>\n",
       "      <td>41</td>\n",
       "      <td>1.0</td>\n",
       "      <td>83807.86</td>\n",
       "      <td>1</td>\n",
       "      <td>0</td>\n",
       "      <td>1</td>\n",
       "      <td>112542.58</td>\n",
       "      <td>0</td>\n",
       "      <td>False</td>\n",
       "      <td>True</td>\n",
       "      <td>False</td>\n",
       "    </tr>\n",
       "    <tr>\n",
       "      <th>2</th>\n",
       "      <td>502</td>\n",
       "      <td>42</td>\n",
       "      <td>8.0</td>\n",
       "      <td>159660.80</td>\n",
       "      <td>3</td>\n",
       "      <td>1</td>\n",
       "      <td>0</td>\n",
       "      <td>113931.57</td>\n",
       "      <td>1</td>\n",
       "      <td>False</td>\n",
       "      <td>False</td>\n",
       "      <td>False</td>\n",
       "    </tr>\n",
       "    <tr>\n",
       "      <th>3</th>\n",
       "      <td>699</td>\n",
       "      <td>39</td>\n",
       "      <td>1.0</td>\n",
       "      <td>0.00</td>\n",
       "      <td>2</td>\n",
       "      <td>0</td>\n",
       "      <td>0</td>\n",
       "      <td>93826.63</td>\n",
       "      <td>0</td>\n",
       "      <td>False</td>\n",
       "      <td>False</td>\n",
       "      <td>False</td>\n",
       "    </tr>\n",
       "    <tr>\n",
       "      <th>4</th>\n",
       "      <td>850</td>\n",
       "      <td>43</td>\n",
       "      <td>2.0</td>\n",
       "      <td>125510.82</td>\n",
       "      <td>1</td>\n",
       "      <td>1</td>\n",
       "      <td>1</td>\n",
       "      <td>79084.10</td>\n",
       "      <td>0</td>\n",
       "      <td>False</td>\n",
       "      <td>True</td>\n",
       "      <td>False</td>\n",
       "    </tr>\n",
       "    <tr>\n",
       "      <th>5</th>\n",
       "      <td>645</td>\n",
       "      <td>44</td>\n",
       "      <td>8.0</td>\n",
       "      <td>113755.78</td>\n",
       "      <td>2</td>\n",
       "      <td>1</td>\n",
       "      <td>0</td>\n",
       "      <td>149756.71</td>\n",
       "      <td>1</td>\n",
       "      <td>False</td>\n",
       "      <td>True</td>\n",
       "      <td>True</td>\n",
       "    </tr>\n",
       "    <tr>\n",
       "      <th>6</th>\n",
       "      <td>822</td>\n",
       "      <td>50</td>\n",
       "      <td>7.0</td>\n",
       "      <td>0.00</td>\n",
       "      <td>2</td>\n",
       "      <td>1</td>\n",
       "      <td>1</td>\n",
       "      <td>10062.80</td>\n",
       "      <td>0</td>\n",
       "      <td>False</td>\n",
       "      <td>False</td>\n",
       "      <td>True</td>\n",
       "    </tr>\n",
       "    <tr>\n",
       "      <th>7</th>\n",
       "      <td>376</td>\n",
       "      <td>29</td>\n",
       "      <td>4.0</td>\n",
       "      <td>115046.74</td>\n",
       "      <td>4</td>\n",
       "      <td>1</td>\n",
       "      <td>0</td>\n",
       "      <td>119346.88</td>\n",
       "      <td>1</td>\n",
       "      <td>True</td>\n",
       "      <td>False</td>\n",
       "      <td>False</td>\n",
       "    </tr>\n",
       "    <tr>\n",
       "      <th>8</th>\n",
       "      <td>501</td>\n",
       "      <td>44</td>\n",
       "      <td>4.0</td>\n",
       "      <td>142051.07</td>\n",
       "      <td>2</td>\n",
       "      <td>0</td>\n",
       "      <td>1</td>\n",
       "      <td>74940.50</td>\n",
       "      <td>0</td>\n",
       "      <td>False</td>\n",
       "      <td>False</td>\n",
       "      <td>True</td>\n",
       "    </tr>\n",
       "    <tr>\n",
       "      <th>9</th>\n",
       "      <td>684</td>\n",
       "      <td>27</td>\n",
       "      <td>2.0</td>\n",
       "      <td>134603.88</td>\n",
       "      <td>1</td>\n",
       "      <td>1</td>\n",
       "      <td>1</td>\n",
       "      <td>71725.73</td>\n",
       "      <td>0</td>\n",
       "      <td>False</td>\n",
       "      <td>False</td>\n",
       "      <td>True</td>\n",
       "    </tr>\n",
       "  </tbody>\n",
       "</table>\n",
       "</div>"
      ],
      "text/plain": [
       "   credit_score  age  tenure    balance  num_of_products  has_cr_card  \\\n",
       "0           619   42     2.0       0.00                1            1   \n",
       "1           608   41     1.0   83807.86                1            0   \n",
       "2           502   42     8.0  159660.80                3            1   \n",
       "3           699   39     1.0       0.00                2            0   \n",
       "4           850   43     2.0  125510.82                1            1   \n",
       "5           645   44     8.0  113755.78                2            1   \n",
       "6           822   50     7.0       0.00                2            1   \n",
       "7           376   29     4.0  115046.74                4            1   \n",
       "8           501   44     4.0  142051.07                2            0   \n",
       "9           684   27     2.0  134603.88                1            1   \n",
       "\n",
       "   is_active_member  estimated_salary  exited  geography_germany  \\\n",
       "0                 1         101348.88       1              False   \n",
       "1                 1         112542.58       0              False   \n",
       "2                 0         113931.57       1              False   \n",
       "3                 0          93826.63       0              False   \n",
       "4                 1          79084.10       0              False   \n",
       "5                 0         149756.71       1              False   \n",
       "6                 1          10062.80       0              False   \n",
       "7                 0         119346.88       1               True   \n",
       "8                 1          74940.50       0              False   \n",
       "9                 1          71725.73       0              False   \n",
       "\n",
       "   geography_spain  gender_male  \n",
       "0            False        False  \n",
       "1             True        False  \n",
       "2            False        False  \n",
       "3            False        False  \n",
       "4             True        False  \n",
       "5             True         True  \n",
       "6            False         True  \n",
       "7            False        False  \n",
       "8            False         True  \n",
       "9            False         True  "
      ]
     },
     "execution_count": 20,
     "metadata": {},
     "output_type": "execute_result"
    }
   ],
   "source": [
    "data_ohe.head(10)"
   ]
  },
  {
   "cell_type": "markdown",
   "metadata": {},
   "source": [
    "## Исследование задачи"
   ]
  },
  {
   "cell_type": "code",
   "execution_count": 21,
   "metadata": {
    "scrolled": true
   },
   "outputs": [],
   "source": [
    "# data['exited'].sum() / len(data)"
   ]
  },
  {
   "cell_type": "code",
   "execution_count": 22,
   "metadata": {
    "scrolled": true
   },
   "outputs": [],
   "source": [
    "# 1 - data['exited'].sum() / len(data)"
   ]
  },
  {
   "cell_type": "code",
   "execution_count": 23,
   "metadata": {
    "scrolled": true
   },
   "outputs": [
    {
     "name": "stdout",
     "output_type": "stream",
     "text": [
      "exited\n",
      "0    7963\n",
      "1    2037\n",
      "Name: count, dtype: int64\n"
     ]
    },
    {
     "data": {
      "image/png": "[encoded data removed]",
      "text/plain": [
       "<Figure size 640x480 with 1 Axes>"
      ]
     },
     "metadata": {},
     "output_type": "display_data"
    }
   ],
   "source": [
    "# Посмотрим дисбаланс в данных\n",
    "print(data_ohe['exited'].value_counts())\n",
    "data_ohe['exited'].value_counts().plot(kind='bar')\n",
    "plt.show()"
   ]
  },
  {
   "cell_type": "code",
   "execution_count": 24,
   "metadata": {},
   "outputs": [
    {
     "data": {
      "text/plain": [
       "4"
      ]
     },
     "execution_count": 24,
     "metadata": {},
     "output_type": "execute_result"
    }
   ],
   "source": [
    "# Вычислим коэффициент дисбаланса, он нам понадобится в дальнейшем.\n",
    "imbalance_ratio = round((1 - data_ohe['exited'].sum() / len(data_ohe)) / (data_ohe['exited'].sum() / len(data_ohe)))\n",
    "imbalance_ratio"
   ]
  },
  {
   "cell_type": "markdown",
   "metadata": {},
   "source": [
    "Имеется существенный дисбаланс - доля объектов отрицательного класса выше почти в 4 раза."
   ]
  },
  {
   "cell_type": "markdown",
   "metadata": {},
   "source": [
    "## Обучим модели без учета дисбаланса"
   ]
  },
  {
   "cell_type": "markdown",
   "metadata": {},
   "source": [
    "### Делим выборку на данные на обучающую, валидационную и тестовую выборки в соотношении 60\\20\\20"
   ]
  },
  {
   "cell_type": "code",
   "execution_count": 25,
   "metadata": {},
   "outputs": [],
   "source": [
    "data_train, aux_data = train_test_split(data_ohe, test_size=0.4, random_state=54321, stratify=data_ohe['exited'])\n",
    "data_valid, data_test = train_test_split(aux_data, test_size=0.5, random_state=54321, stratify=aux_data['exited'])"
   ]
  },
  {
   "cell_type": "code",
   "execution_count": 26,
   "metadata": {
    "scrolled": true
   },
   "outputs": [
    {
     "name": "stdout",
     "output_type": "stream",
     "text": [
      "Размер обучающей выборки 6000\n",
      "Размер валидационной выборки 2000\n",
      "Размер тестовой выборки 2000\n"
     ]
    }
   ],
   "source": [
    "print('Размер обучающей выборки', data_train.shape[0])\n",
    "print('Размер валидационной выборки', data_valid.shape[0])\n",
    "print('Размер тестовой выборки', data_test.shape[0])"
   ]
  },
  {
   "cell_type": "markdown",
   "metadata": {},
   "source": [
    "### Создаем отдельные переменные для признаков "
   ]
  },
  {
   "cell_type": "code",
   "execution_count": 27,
   "metadata": {},
   "outputs": [],
   "source": [
    "features_train = data_train.drop(['exited'], axis=1)\n",
    "target_train = data_train['exited']\n",
    "features_valid = data_valid.drop(['exited'], axis=1)\n",
    "target_valid = data_valid['exited']\n",
    "features_test = data_test.drop(['exited'], axis=1)\n",
    "target_test = data_test['exited']"
   ]
  },
  {
   "cell_type": "markdown",
   "metadata": {},
   "source": [
    "Проверим дисбаланс после разделения"
   ]
  },
  {
   "cell_type": "code",
   "execution_count": 28,
   "metadata": {
    "scrolled": true
   },
   "outputs": [
    {
     "name": "stdout",
     "output_type": "stream",
     "text": [
      "exited\n",
      "0    4778\n",
      "1    1222\n",
      "Name: count, dtype: int64\n"
     ]
    },
    {
     "data": {
      "image/png": "[encoded data removed]",
      "text/plain": [
       "<Figure size 640x480 with 1 Axes>"
      ]
     },
     "metadata": {},
     "output_type": "display_data"
    }
   ],
   "source": [
    "print(target_train.value_counts())\n",
    "target_train.value_counts().plot(kind='bar')\n",
    "plt.show()"
   ]
  },
  {
   "cell_type": "code",
   "execution_count": 29,
   "metadata": {},
   "outputs": [
    {
     "name": "stdout",
     "output_type": "stream",
     "text": [
      "exited\n",
      "0    1593\n",
      "1     407\n",
      "Name: count, dtype: int64\n"
     ]
    },
    {
     "data": {
      "image/png": "[encoded data removed]",
      "text/plain": [
       "<Figure size 640x480 with 1 Axes>"
      ]
     },
     "metadata": {},
     "output_type": "display_data"
    }
   ],
   "source": [
    "print(target_valid.value_counts())\n",
    "target_valid.value_counts().plot(kind='bar')\n",
    "plt.show()"
   ]
  },
  {
   "cell_type": "code",
   "execution_count": 30,
   "metadata": {
    "scrolled": true
   },
   "outputs": [
    {
     "name": "stdout",
     "output_type": "stream",
     "text": [
      "exited\n",
      "0    1592\n",
      "1     408\n",
      "Name: count, dtype: int64\n"
     ]
    },
    {
     "data": {
      "image/png": "[encoded data removed]",
      "text/plain": [
       "<Figure size 640x480 with 1 Axes>"
      ]
     },
     "metadata": {},
     "output_type": "display_data"
    }
   ],
   "source": [
    "print(target_test.value_counts())\n",
    "target_test.value_counts().plot(kind='bar')\n",
    "plt.show()"
   ]
  },
  {
   "cell_type": "markdown",
   "metadata": {},
   "source": [
    "Дисбаланс сохранился при разделении выборки"
   ]
  },
  {
   "cell_type": "markdown",
   "metadata": {},
   "source": [
    "Масштабируем признаки в колонках 'credit_score', 'age',\t'tenure',\t'balance', 'estimated_salary'"
   ]
  },
  {
   "cell_type": "code",
   "execution_count": 31,
   "metadata": {},
   "outputs": [],
   "source": [
    "numeric = ['credit_score', 'age', 'tenure', 'balance', 'estimated_salary']\n",
    "scaler = StandardScaler()\n",
    "scaler.fit(features_train[numeric]) \n",
    "features_train[numeric] = scaler.transform(features_train[numeric])\n",
    "features_valid[numeric] = scaler.transform(features_valid[numeric])"
   ]
  },
  {
   "cell_type": "code",
   "execution_count": 32,
   "metadata": {
    "scrolled": true
   },
   "outputs": [
    {
     "data": {
      "text/html": [
       "<div>\n",
       "<style scoped>\n",
       "    .dataframe tbody tr th:only-of-type {\n",
       "        vertical-align: middle;\n",
       "    }\n",
       "\n",
       "    .dataframe tbody tr th {\n",
       "        vertical-align: top;\n",
       "    }\n",
       "\n",
       "    .dataframe thead th {\n",
       "        text-align: right;\n",
       "    }\n",
       "</style>\n",
       "<table border=\"1\" class=\"dataframe\">\n",
       "  <thead>\n",
       "    <tr style=\"text-align: right;\">\n",
       "      <th></th>\n",
       "      <th>credit_score</th>\n",
       "      <th>age</th>\n",
       "      <th>tenure</th>\n",
       "      <th>balance</th>\n",
       "      <th>num_of_products</th>\n",
       "      <th>has_cr_card</th>\n",
       "      <th>is_active_member</th>\n",
       "      <th>estimated_salary</th>\n",
       "      <th>geography_germany</th>\n",
       "      <th>geography_spain</th>\n",
       "      <th>gender_male</th>\n",
       "    </tr>\n",
       "  </thead>\n",
       "  <tbody>\n",
       "    <tr>\n",
       "      <th>2515</th>\n",
       "      <td>-0.900864</td>\n",
       "      <td>0.110931</td>\n",
       "      <td>-0.372657</td>\n",
       "      <td>-1.235027</td>\n",
       "      <td>1</td>\n",
       "      <td>1</td>\n",
       "      <td>0</td>\n",
       "      <td>-0.243834</td>\n",
       "      <td>False</td>\n",
       "      <td>False</td>\n",
       "      <td>True</td>\n",
       "    </tr>\n",
       "    <tr>\n",
       "      <th>4669</th>\n",
       "      <td>-2.158606</td>\n",
       "      <td>1.070682</td>\n",
       "      <td>-0.735575</td>\n",
       "      <td>0.646583</td>\n",
       "      <td>1</td>\n",
       "      <td>1</td>\n",
       "      <td>0</td>\n",
       "      <td>-0.986220</td>\n",
       "      <td>True</td>\n",
       "      <td>False</td>\n",
       "      <td>True</td>\n",
       "    </tr>\n",
       "    <tr>\n",
       "      <th>5568</th>\n",
       "      <td>0.440035</td>\n",
       "      <td>-0.081019</td>\n",
       "      <td>-0.009738</td>\n",
       "      <td>1.949070</td>\n",
       "      <td>2</td>\n",
       "      <td>1</td>\n",
       "      <td>1</td>\n",
       "      <td>-1.483786</td>\n",
       "      <td>False</td>\n",
       "      <td>False</td>\n",
       "      <td>True</td>\n",
       "    </tr>\n",
       "    <tr>\n",
       "      <th>6237</th>\n",
       "      <td>-0.214823</td>\n",
       "      <td>-1.040770</td>\n",
       "      <td>-0.009738</td>\n",
       "      <td>-1.235027</td>\n",
       "      <td>2</td>\n",
       "      <td>1</td>\n",
       "      <td>1</td>\n",
       "      <td>0.589081</td>\n",
       "      <td>False</td>\n",
       "      <td>False</td>\n",
       "      <td>False</td>\n",
       "    </tr>\n",
       "    <tr>\n",
       "      <th>2386</th>\n",
       "      <td>-1.139939</td>\n",
       "      <td>0.686782</td>\n",
       "      <td>-0.372657</td>\n",
       "      <td>0.764431</td>\n",
       "      <td>2</td>\n",
       "      <td>1</td>\n",
       "      <td>0</td>\n",
       "      <td>-0.086293</td>\n",
       "      <td>False</td>\n",
       "      <td>False</td>\n",
       "      <td>True</td>\n",
       "    </tr>\n",
       "  </tbody>\n",
       "</table>\n",
       "</div>"
      ],
      "text/plain": [
       "      credit_score       age    tenure   balance  num_of_products  \\\n",
       "2515     -0.900864  0.110931 -0.372657 -1.235027                1   \n",
       "4669     -2.158606  1.070682 -0.735575  0.646583                1   \n",
       "5568      0.440035 -0.081019 -0.009738  1.949070                2   \n",
       "6237     -0.214823 -1.040770 -0.009738 -1.235027                2   \n",
       "2386     -1.139939  0.686782 -0.372657  0.764431                2   \n",
       "\n",
       "      has_cr_card  is_active_member  estimated_salary  geography_germany  \\\n",
       "2515            1                 0         -0.243834              False   \n",
       "4669            1                 0         -0.986220               True   \n",
       "5568            1                 1         -1.483786              False   \n",
       "6237            1                 1          0.589081              False   \n",
       "2386            1                 0         -0.086293              False   \n",
       "\n",
       "      geography_spain  gender_male  \n",
       "2515            False         True  \n",
       "4669            False         True  \n",
       "5568            False         True  \n",
       "6237            False        False  \n",
       "2386            False         True  "
      ]
     },
     "execution_count": 32,
     "metadata": {},
     "output_type": "execute_result"
    }
   ],
   "source": [
    "features_train.head()"
   ]
  },
  {
   "cell_type": "code",
   "execution_count": 33,
   "metadata": {
    "scrolled": true
   },
   "outputs": [
    {
     "data": {
      "text/html": [
       "<div>\n",
       "<style scoped>\n",
       "    .dataframe tbody tr th:only-of-type {\n",
       "        vertical-align: middle;\n",
       "    }\n",
       "\n",
       "    .dataframe tbody tr th {\n",
       "        vertical-align: top;\n",
       "    }\n",
       "\n",
       "    .dataframe thead th {\n",
       "        text-align: right;\n",
       "    }\n",
       "</style>\n",
       "<table border=\"1\" class=\"dataframe\">\n",
       "  <thead>\n",
       "    <tr style=\"text-align: right;\">\n",
       "      <th></th>\n",
       "      <th>credit_score</th>\n",
       "      <th>age</th>\n",
       "      <th>tenure</th>\n",
       "      <th>balance</th>\n",
       "      <th>num_of_products</th>\n",
       "      <th>has_cr_card</th>\n",
       "      <th>is_active_member</th>\n",
       "      <th>estimated_salary</th>\n",
       "      <th>geography_germany</th>\n",
       "      <th>geography_spain</th>\n",
       "      <th>gender_male</th>\n",
       "    </tr>\n",
       "  </thead>\n",
       "  <tbody>\n",
       "    <tr>\n",
       "      <th>6907</th>\n",
       "      <td>-1.368619</td>\n",
       "      <td>-0.464919</td>\n",
       "      <td>-0.009738</td>\n",
       "      <td>-1.235027</td>\n",
       "      <td>1</td>\n",
       "      <td>1</td>\n",
       "      <td>0</td>\n",
       "      <td>-0.539566</td>\n",
       "      <td>False</td>\n",
       "      <td>False</td>\n",
       "      <td>True</td>\n",
       "    </tr>\n",
       "    <tr>\n",
       "      <th>6968</th>\n",
       "      <td>-1.462171</td>\n",
       "      <td>1.070682</td>\n",
       "      <td>0.716099</td>\n",
       "      <td>0.754629</td>\n",
       "      <td>1</td>\n",
       "      <td>1</td>\n",
       "      <td>1</td>\n",
       "      <td>-1.318468</td>\n",
       "      <td>True</td>\n",
       "      <td>False</td>\n",
       "      <td>False</td>\n",
       "    </tr>\n",
       "    <tr>\n",
       "      <th>3224</th>\n",
       "      <td>-0.058904</td>\n",
       "      <td>0.206906</td>\n",
       "      <td>-1.098494</td>\n",
       "      <td>0.994545</td>\n",
       "      <td>1</td>\n",
       "      <td>1</td>\n",
       "      <td>0</td>\n",
       "      <td>0.531049</td>\n",
       "      <td>True</td>\n",
       "      <td>False</td>\n",
       "      <td>False</td>\n",
       "    </tr>\n",
       "    <tr>\n",
       "      <th>9597</th>\n",
       "      <td>-1.472565</td>\n",
       "      <td>-1.232720</td>\n",
       "      <td>1.804854</td>\n",
       "      <td>-1.235027</td>\n",
       "      <td>2</td>\n",
       "      <td>1</td>\n",
       "      <td>1</td>\n",
       "      <td>-1.624899</td>\n",
       "      <td>False</td>\n",
       "      <td>False</td>\n",
       "      <td>True</td>\n",
       "    </tr>\n",
       "    <tr>\n",
       "      <th>812</th>\n",
       "      <td>-1.399803</td>\n",
       "      <td>-0.560895</td>\n",
       "      <td>-0.735575</td>\n",
       "      <td>-1.235027</td>\n",
       "      <td>2</td>\n",
       "      <td>1</td>\n",
       "      <td>1</td>\n",
       "      <td>-0.710184</td>\n",
       "      <td>False</td>\n",
       "      <td>True</td>\n",
       "      <td>False</td>\n",
       "    </tr>\n",
       "  </tbody>\n",
       "</table>\n",
       "</div>"
      ],
      "text/plain": [
       "      credit_score       age    tenure   balance  num_of_products  \\\n",
       "6907     -1.368619 -0.464919 -0.009738 -1.235027                1   \n",
       "6968     -1.462171  1.070682  0.716099  0.754629                1   \n",
       "3224     -0.058904  0.206906 -1.098494  0.994545                1   \n",
       "9597     -1.472565 -1.232720  1.804854 -1.235027                2   \n",
       "812      -1.399803 -0.560895 -0.735575 -1.235027                2   \n",
       "\n",
       "      has_cr_card  is_active_member  estimated_salary  geography_germany  \\\n",
       "6907            1                 0         -0.539566              False   \n",
       "6968            1                 1         -1.318468               True   \n",
       "3224            1                 0          0.531049               True   \n",
       "9597            1                 1         -1.624899              False   \n",
       "812             1                 1         -0.710184              False   \n",
       "\n",
       "      geography_spain  gender_male  \n",
       "6907            False         True  \n",
       "6968            False        False  \n",
       "3224            False        False  \n",
       "9597            False         True  \n",
       "812              True        False  "
      ]
     },
     "execution_count": 33,
     "metadata": {},
     "output_type": "execute_result"
    }
   ],
   "source": [
    "features_valid.head()"
   ]
  },
  {
   "cell_type": "code",
   "execution_count": 34,
   "metadata": {},
   "outputs": [
    {
     "data": {
      "text/html": [
       "<div>\n",
       "<style scoped>\n",
       "    .dataframe tbody tr th:only-of-type {\n",
       "        vertical-align: middle;\n",
       "    }\n",
       "\n",
       "    .dataframe tbody tr th {\n",
       "        vertical-align: top;\n",
       "    }\n",
       "\n",
       "    .dataframe thead th {\n",
       "        text-align: right;\n",
       "    }\n",
       "</style>\n",
       "<table border=\"1\" class=\"dataframe\">\n",
       "  <thead>\n",
       "    <tr style=\"text-align: right;\">\n",
       "      <th></th>\n",
       "      <th>credit_score</th>\n",
       "      <th>age</th>\n",
       "      <th>tenure</th>\n",
       "      <th>balance</th>\n",
       "      <th>num_of_products</th>\n",
       "      <th>has_cr_card</th>\n",
       "      <th>is_active_member</th>\n",
       "      <th>estimated_salary</th>\n",
       "      <th>geography_germany</th>\n",
       "      <th>geography_spain</th>\n",
       "      <th>gender_male</th>\n",
       "    </tr>\n",
       "  </thead>\n",
       "  <tbody>\n",
       "    <tr>\n",
       "      <th>7179</th>\n",
       "      <td>613</td>\n",
       "      <td>42</td>\n",
       "      <td>7.0</td>\n",
       "      <td>115076.06</td>\n",
       "      <td>1</td>\n",
       "      <td>1</td>\n",
       "      <td>1</td>\n",
       "      <td>79323.61</td>\n",
       "      <td>False</td>\n",
       "      <td>False</td>\n",
       "      <td>True</td>\n",
       "    </tr>\n",
       "    <tr>\n",
       "      <th>1062</th>\n",
       "      <td>613</td>\n",
       "      <td>38</td>\n",
       "      <td>9.0</td>\n",
       "      <td>67111.65</td>\n",
       "      <td>1</td>\n",
       "      <td>1</td>\n",
       "      <td>0</td>\n",
       "      <td>78566.64</td>\n",
       "      <td>True</td>\n",
       "      <td>False</td>\n",
       "      <td>True</td>\n",
       "    </tr>\n",
       "    <tr>\n",
       "      <th>2531</th>\n",
       "      <td>607</td>\n",
       "      <td>47</td>\n",
       "      <td>4.0</td>\n",
       "      <td>148826.32</td>\n",
       "      <td>1</td>\n",
       "      <td>1</td>\n",
       "      <td>1</td>\n",
       "      <td>79450.61</td>\n",
       "      <td>True</td>\n",
       "      <td>False</td>\n",
       "      <td>True</td>\n",
       "    </tr>\n",
       "    <tr>\n",
       "      <th>2537</th>\n",
       "      <td>573</td>\n",
       "      <td>33</td>\n",
       "      <td>5.0</td>\n",
       "      <td>90124.64</td>\n",
       "      <td>1</td>\n",
       "      <td>1</td>\n",
       "      <td>0</td>\n",
       "      <td>137476.71</td>\n",
       "      <td>False</td>\n",
       "      <td>False</td>\n",
       "      <td>False</td>\n",
       "    </tr>\n",
       "    <tr>\n",
       "      <th>7273</th>\n",
       "      <td>660</td>\n",
       "      <td>38</td>\n",
       "      <td>6.0</td>\n",
       "      <td>109869.32</td>\n",
       "      <td>1</td>\n",
       "      <td>1</td>\n",
       "      <td>1</td>\n",
       "      <td>154641.91</td>\n",
       "      <td>False</td>\n",
       "      <td>True</td>\n",
       "      <td>True</td>\n",
       "    </tr>\n",
       "  </tbody>\n",
       "</table>\n",
       "</div>"
      ],
      "text/plain": [
       "      credit_score  age  tenure    balance  num_of_products  has_cr_card  \\\n",
       "7179           613   42     7.0  115076.06                1            1   \n",
       "1062           613   38     9.0   67111.65                1            1   \n",
       "2531           607   47     4.0  148826.32                1            1   \n",
       "2537           573   33     5.0   90124.64                1            1   \n",
       "7273           660   38     6.0  109869.32                1            1   \n",
       "\n",
       "      is_active_member  estimated_salary  geography_germany  geography_spain  \\\n",
       "7179                 1          79323.61              False            False   \n",
       "1062                 0          78566.64               True            False   \n",
       "2531                 1          79450.61               True            False   \n",
       "2537                 0         137476.71              False            False   \n",
       "7273                 1         154641.91              False             True   \n",
       "\n",
       "      gender_male  \n",
       "7179         True  \n",
       "1062         True  \n",
       "2531         True  \n",
       "2537        False  \n",
       "7273         True  "
      ]
     },
     "execution_count": 34,
     "metadata": {},
     "output_type": "execute_result"
    }
   ],
   "source": [
    "features_test.head()"
   ]
  },
  {
   "cell_type": "markdown",
   "metadata": {},
   "source": [
    "### Проведем обучение различных моделей без учета дисбаланса"
   ]
  },
  {
   "cell_type": "markdown",
   "metadata": {},
   "source": [
    "#### Решающее дерево"
   ]
  },
  {
   "cell_type": "code",
   "execution_count": 35,
   "metadata": {
    "scrolled": true
   },
   "outputs": [
    {
     "name": "stdout",
     "output_type": "stream",
     "text": [
      "Модель: DecisionTreeClassifier(max_depth=9, random_state=54321) F1-мера лучшей модели решающего дерева: 0.5795454545454546\n",
      "AUC-ROC лучшей модели решающего дерева: 0.8105956495787005\n",
      "CPU times: total: 672 ms\n",
      "Wall time: 769 ms\n"
     ]
    }
   ],
   "source": [
    "%%time\n",
    "\n",
    "best_model_tree = None\n",
    "best_result_tree = 0\n",
    "\n",
    "for depth in range(1, 25):\n",
    "    model_tree = DecisionTreeClassifier(random_state=54321, max_depth=depth) \n",
    "    model_tree.fit(features_train, target_train) \n",
    "    predictions_tree = model_tree.predict(features_valid) \n",
    "    result = f1_score(target_valid, predictions_tree) \n",
    "#     print(depth, result)\n",
    "    if result > best_result_tree:\n",
    "        best_model_tree = model_tree\n",
    "        best_result_tree = result\n",
    "\n",
    "probabilities_valid = best_model_tree.predict_proba(features_valid)\n",
    "probabilities_one_valid = probabilities_valid[:, 1]\n",
    "\n",
    "print(\"Модель:\", best_model_tree, \"F1-мера лучшей модели решающего дерева:\", best_result_tree)\n",
    "print('AUC-ROC лучшей модели решающего дерева:', roc_auc_score(target_valid, probabilities_one_valid))"
   ]
  },
  {
   "cell_type": "markdown",
   "metadata": {},
   "source": [
    "#### Модель - случайный лес"
   ]
  },
  {
   "cell_type": "code",
   "execution_count": 36,
   "metadata": {
    "scrolled": false
   },
   "outputs": [
    {
     "name": "stdout",
     "output_type": "stream",
     "text": [
      "Количество решающих деревьев: 78\n",
      "Уровень (глубина)  дерева лучшей модели случайного леса 11\n",
      "F1-мера лучшей модели случайного леса: 0.6158536585365854\n",
      "AUC-ROC лучшей модели случайного леса: 0.8516544279256143\n",
      "CPU times: total: 8min 52s\n",
      "Wall time: 9min 40s\n"
     ]
    }
   ],
   "source": [
    "%%time\n",
    "est_e = 0\n",
    "depth_e = 0\n",
    "best_model_forest = None\n",
    "best_result_forest = 0\n",
    "for depth in range(1, 25, 5):\n",
    "    for est in range(50, 250, 2):\n",
    "        model_forest = RandomForestClassifier(random_state=54321, n_estimators=est, max_depth=depth) \n",
    "        model_forest.fit(features_train, target_train) \n",
    "        predictions_forest = model_forest.predict(features_valid) \n",
    "        result = f1_score(target_valid, predictions_forest) \n",
    "#         print(\"Количество решающих деревьев:\", est)\n",
    "#         print('Уровень (глубина) каждого дерева', depth)\n",
    "#         print(\"F1-мера:\", result) \n",
    "#         print()\n",
    "        if result > best_result_forest:\n",
    "            est_e = est\n",
    "            depth_e = depth\n",
    "            best_model_forest = model_forest\n",
    "            best_result_forest = result\n",
    "print(\"Количество решающих деревьев:\", est_e)\n",
    "print('Уровень (глубина)  дерева лучшей модели случайного леса', depth_e)\n",
    "\n",
    "probabilities_valid = best_model_forest.predict_proba(features_valid)\n",
    "probabilities_one_valid = probabilities_valid[:, 1]\n",
    "\n",
    "print(\"F1-мера лучшей модели случайного леса:\", best_result_forest) \n",
    "print('AUC-ROC лучшей модели случайного леса:', roc_auc_score(target_valid, probabilities_one_valid))"
   ]
  },
  {
   "cell_type": "markdown",
   "metadata": {},
   "source": [
    "#### Модель - логистическая регрессия "
   ]
  },
  {
   "cell_type": "code",
   "execution_count": 37,
   "metadata": {},
   "outputs": [
    {
     "name": "stdout",
     "output_type": "stream",
     "text": [
      "F1-мера модели логистической регрессии: 0.31672597864768687\n",
      "AUC-ROC 0.7737197906689431\n",
      "CPU times: total: 0 ns\n",
      "Wall time: 17.8 ms\n"
     ]
    }
   ],
   "source": [
    "%%time\n",
    "\n",
    "model_regression = LogisticRegression(random_state=54321, max_iter=1000)\n",
    "model_regression.fit(features_train, target_train) \n",
    "predictions_regression = model_regression.predict(features_valid)\n",
    "result = f1_score(target_valid, predictions_regression)\n",
    "\n",
    "probabilities_valid = model_regression.predict_proba(features_valid)\n",
    "probabilities_one_valid = probabilities_valid[:, 1]\n",
    "\n",
    "print(\"F1-мера модели логистической регрессии:\", result)\n",
    "print('AUC-ROC', roc_auc_score(target_valid, probabilities_one_valid))"
   ]
  },
  {
   "cell_type": "markdown",
   "metadata": {},
   "source": [
    "По результатам проверки лучшие значения F1-меры показывает модель случайного леса."
   ]
  },
  {
   "cell_type": "markdown",
   "metadata": {},
   "source": [
    "## Борьба с дисбалансом"
   ]
  },
  {
   "cell_type": "markdown",
   "metadata": {},
   "source": [
    "Борьба с дисбалансом может проводиться разными способами:"
   ]
  },
  {
   "cell_type": "markdown",
   "metadata": {},
   "source": [
    "### Взвешивание классов\n",
    "Придадим объектам редкого класса больший вес."
   ]
  },
  {
   "cell_type": "code",
   "execution_count": 38,
   "metadata": {},
   "outputs": [
    {
     "name": "stdout",
     "output_type": "stream",
     "text": [
      "F1-мера 0.6310299869621905\n",
      "AUC-ROC 0.8552265670909739\n"
     ]
    }
   ],
   "source": [
    "# Модель - случайный лес\n",
    "\n",
    "model_forest = RandomForestClassifier(random_state=54321, \n",
    "            n_estimators=est_e,\n",
    "            max_depth = depth_e, \n",
    "            class_weight='balanced') \n",
    "model_forest.fit(features_train, target_train) \n",
    "predictions = model_forest.predict(features_valid) \n",
    "result = f1_score(target_valid, predictions) \n",
    "\n",
    "probabilities_valid = model_forest.predict_proba(features_valid)\n",
    "probabilities_one_valid = probabilities_valid[:, 1]\n",
    "\n",
    "print('F1-мера', result)\n",
    "print('AUC-ROC', roc_auc_score(target_valid, probabilities_one_valid))"
   ]
  },
  {
   "cell_type": "code",
   "execution_count": 39,
   "metadata": {},
   "outputs": [
    {
     "name": "stdout",
     "output_type": "stream",
     "text": [
      "F1-мера модели логистической регрессии: 0.5004359197907585\n",
      "AUC-ROC 0.774813334135368\n"
     ]
    }
   ],
   "source": [
    "# Модель - логистическая регрессия\n",
    "\n",
    "model_regression = LogisticRegression(random_state=54321, max_iter=1000, class_weight='balanced')\n",
    "model_regression.fit(features_train, target_train) \n",
    "predictions_regression = model_regression.predict(features_valid)\n",
    "result = f1_score(target_valid, predictions_regression) \n",
    "\n",
    "probabilities_valid = model_regression.predict_proba(features_valid)\n",
    "probabilities_one_valid = probabilities_valid[:, 1]\n",
    "\n",
    "print(\"F1-мера модели логистической регрессии:\", result)\n",
    "print('AUC-ROC', roc_auc_score(target_valid, probabilities_one_valid))"
   ]
  },
  {
   "cell_type": "markdown",
   "metadata": {},
   "source": [
    "Результат случайного леса улучшился, целевое значение F1-меры достигнуто. Модель логистической регрессии показала резкое улучшение качества предсказания."
   ]
  },
  {
   "cell_type": "markdown",
   "metadata": {},
   "source": [
    "### Увеличение выборки"
   ]
  },
  {
   "cell_type": "code",
   "execution_count": 40,
   "metadata": {},
   "outputs": [
    {
     "name": "stdout",
     "output_type": "stream",
     "text": [
      "F1-мера 0.6143187066974596\n",
      "AUC-ROC 0.8544738883721935\n"
     ]
    }
   ],
   "source": [
    "# Модель - случайный лес\n",
    "\n",
    "def upsample(features, target, repeat):\n",
    "    features_zeros = features[target == 0]\n",
    "    features_ones = features[target == 1]\n",
    "    target_zeros = target[target == 0]\n",
    "    target_ones = target[target == 1]\n",
    "\n",
    "    features_upsampled = pd.concat([features_zeros] + [features_ones] * repeat)\n",
    "    target_upsampled = pd.concat([target_zeros] + [target_ones] * repeat)\n",
    "    \n",
    "    features_upsampled, target_upsampled = shuffle(\n",
    "        features_upsampled, target_upsampled, random_state=54321)\n",
    "    \n",
    "    return features_upsampled, target_upsampled\n",
    "\n",
    "features_upsampled, target_upsampled = upsample(features_train, target_train, imbalance_ratio)\n",
    "\n",
    "model_forest = RandomForestClassifier(random_state=54321, n_estimators=est_e, max_depth = depth_e) \n",
    "model_forest.fit(features_upsampled, target_upsampled) \n",
    "predictions = model_forest.predict(features_valid) \n",
    "result = f1_score(target_valid, predictions) \n",
    "    \n",
    "probabilities_valid = model_forest.predict_proba(features_valid)\n",
    "probabilities_one_valid = probabilities_valid[:, 1]\n",
    "\n",
    "print('F1-мера', result)\n",
    "print('AUC-ROC', roc_auc_score(target_valid, probabilities_one_valid))"
   ]
  },
  {
   "cell_type": "code",
   "execution_count": 41,
   "metadata": {},
   "outputs": [
    {
     "name": "stdout",
     "output_type": "stream",
     "text": [
      "F1-мера модели логистической регрессии: 0.4974182444061962\n",
      "AUC-ROC 0.7748009951399781\n"
     ]
    }
   ],
   "source": [
    "# Модель - логистическая регрессия\n",
    "\n",
    "model_regression = LogisticRegression(random_state=54321, max_iter=1000)\n",
    "model_regression.fit(features_upsampled, target_upsampled) \n",
    "predictions_regression = model_regression.predict(features_valid)\n",
    "result = f1_score(target_valid, predictions_regression) \n",
    "\n",
    "probabilities_valid = model_regression.predict_proba(features_valid)\n",
    "probabilities_one_valid = probabilities_valid[:, 1]\n",
    "\n",
    "print(\"F1-мера модели логистической регрессии:\", result)\n",
    "print('AUC-ROC', roc_auc_score(target_valid, probabilities_one_valid))"
   ]
  },
  {
   "cell_type": "code",
   "execution_count": 42,
   "metadata": {},
   "outputs": [
    {
     "data": {
      "text/plain": [
       "exited\n",
       "1    0.50569\n",
       "0    0.49431\n",
       "Name: proportion, dtype: float64"
      ]
     },
     "execution_count": 42,
     "metadata": {},
     "output_type": "execute_result"
    }
   ],
   "source": [
    "# Проверим на дисбаланс\n",
    "target_upsampled.value_counts(normalize=True)"
   ]
  },
  {
   "cell_type": "markdown",
   "metadata": {},
   "source": [
    "Целевой показатель F1-меры достигнут."
   ]
  },
  {
   "cell_type": "markdown",
   "metadata": {},
   "source": [
    "### Уменьшение выборки"
   ]
  },
  {
   "cell_type": "code",
   "execution_count": 43,
   "metadata": {},
   "outputs": [
    {
     "name": "stdout",
     "output_type": "stream",
     "text": [
      "F1-мера 0.5855513307984791\n",
      "AUC-ROC 0.8462391513238972\n"
     ]
    }
   ],
   "source": [
    "# Модель - случайный лес\n",
    "\n",
    "def downsample(features, target, fraction):\n",
    "    features_zeros = features[target == 0]\n",
    "    features_ones = features[target == 1]\n",
    "    target_zeros = target[target == 0]\n",
    "    target_ones = target[target == 1]\n",
    "\n",
    "    features_downsampled = pd.concat(\n",
    "        [features_zeros.sample(frac=fraction, random_state=54321)] + [features_ones])\n",
    "    target_downsampled = pd.concat(\n",
    "        [target_zeros.sample(frac=fraction, random_state=54321)] + [target_ones])\n",
    "    \n",
    "    features_downsampled, target_downsampled = shuffle(\n",
    "        features_downsampled, target_downsampled, random_state=54321)\n",
    "    \n",
    "    return features_downsampled, target_downsampled\n",
    "\n",
    "features_downsampled, target_downsampled = downsample(features_train, target_train, 1/imbalance_ratio)\n",
    "\n",
    "model_forest = RandomForestClassifier(random_state=54321, n_estimators=est_e, max_depth = depth_e) \n",
    "model_forest.fit(features_downsampled, target_downsampled) \n",
    "predicted_valid = model_forest.predict(features_valid)\n",
    "result = f1_score(target_valid, predicted_valid) \n",
    "\n",
    "probabilities_valid = model_forest.predict_proba(features_valid)\n",
    "probabilities_one_valid = probabilities_valid[:, 1]\n",
    "\n",
    "print('F1-мера', result)\n",
    "print('AUC-ROC', roc_auc_score(target_valid, probabilities_one_valid))"
   ]
  },
  {
   "cell_type": "code",
   "execution_count": 44,
   "metadata": {},
   "outputs": [
    {
     "name": "stdout",
     "output_type": "stream",
     "text": [
      "F1-мера модели логистической регрессии: 0.504704875962361\n",
      "AUC-ROC 0.774023638430418\n"
     ]
    }
   ],
   "source": [
    "# Модель - логистическая регрессия\n",
    "\n",
    "model_regression = LogisticRegression(random_state=54321, max_iter=1000)\n",
    "model_regression.fit(features_downsampled, target_downsampled) \n",
    "predictions_regression = model_regression.predict(features_valid)\n",
    "result = f1_score(target_valid, predictions_regression) \n",
    "\n",
    "probabilities_valid = model_regression.predict_proba(features_valid)\n",
    "probabilities_one_valid = probabilities_valid[:, 1]\n",
    "\n",
    "print(\"F1-мера модели логистической регрессии:\", result)\n",
    "print('AUC-ROC', roc_auc_score(target_valid, probabilities_one_valid))"
   ]
  },
  {
   "cell_type": "code",
   "execution_count": 45,
   "metadata": {},
   "outputs": [
    {
     "data": {
      "text/plain": [
       "exited\n",
       "1    0.505795\n",
       "0    0.494205\n",
       "Name: proportion, dtype: float64"
      ]
     },
     "execution_count": 45,
     "metadata": {},
     "output_type": "execute_result"
    }
   ],
   "source": [
    "# Проверим на дисбаланс\n",
    "target_downsampled.value_counts(normalize=True)"
   ]
  },
  {
   "cell_type": "markdown",
   "metadata": {},
   "source": [
    "### После проведения манипуляций с данными повторим поиск лучшей модели и подберем гиперпараметры лучшей модели. "
   ]
  },
  {
   "cell_type": "code",
   "execution_count": 46,
   "metadata": {},
   "outputs": [
    {
     "name": "stdout",
     "output_type": "stream",
     "text": [
      "Модель: DecisionTreeClassifier(max_depth=6, random_state=54321) F1-мера лучшей модели решающего дерева: 0.5711645101663586\n",
      "AUC-ROC лучшей модели решающего дерева: 0.8269895473285305\n",
      "CPU times: total: 797 ms\n",
      "Wall time: 951 ms\n"
     ]
    }
   ],
   "source": [
    "%%time\n",
    "# Модель - решающее дерево\n",
    "# Увеличенная выборка \n",
    "\n",
    "best_model_tree = None\n",
    "best_result_tree = 0\n",
    "\n",
    "for depth in range(1, 25):\n",
    "    model_tree = DecisionTreeClassifier(random_state=54321, max_depth=depth) \n",
    "    model_tree.fit(features_upsampled, target_upsampled) \n",
    "    predictions_tree = model_tree.predict(features_valid) \n",
    "    result = f1_score(target_valid, predictions_tree) \n",
    "#     print(depth, result)\n",
    "    if result > best_result_tree:\n",
    "        best_model_tree = model_tree\n",
    "        best_result_tree = result\n",
    "\n",
    "probabilities_valid = best_model_tree.predict_proba(features_valid)\n",
    "probabilities_one_valid = probabilities_valid[:, 1]\n",
    "\n",
    "print(\"Модель:\", best_model_tree, \"F1-мера лучшей модели решающего дерева:\", best_result_tree)\n",
    "print('AUC-ROC лучшей модели решающего дерева:', roc_auc_score(target_valid, probabilities_one_valid))"
   ]
  },
  {
   "cell_type": "code",
   "execution_count": 47,
   "metadata": {},
   "outputs": [
    {
     "name": "stdout",
     "output_type": "stream",
     "text": [
      "Модель: DecisionTreeClassifier(class_weight='balanced', max_depth=6, random_state=54321) F1-мера лучшей модели решающего дерева: 0.5716928769657724\n",
      "AUC-ROC лучшей модели решающего дерева: 0.8275802767328191\n",
      "CPU times: total: 875 ms\n",
      "Wall time: 1.1 s\n"
     ]
    }
   ],
   "source": [
    "%%time\n",
    "# Модель - решающее дерево\n",
    "# Увеличенная выборка с балансировкой классов\n",
    "\n",
    "best_model_tree = None\n",
    "best_result_tree = 0\n",
    "\n",
    "for depth in range(1, 25):\n",
    "    model_tree = DecisionTreeClassifier(random_state=54321, max_depth=depth, class_weight='balanced') \n",
    "    model_tree.fit(features_upsampled, target_upsampled) \n",
    "    predictions_tree = model_tree.predict(features_valid) \n",
    "    result = f1_score(target_valid, predictions_tree) \n",
    "#     print(depth, result)\n",
    "    if result > best_result_tree:\n",
    "        best_model_tree = model_tree\n",
    "        best_result_tree = result\n",
    "\n",
    "probabilities_valid = best_model_tree.predict_proba(features_valid)\n",
    "probabilities_one_valid = probabilities_valid[:, 1]\n",
    "\n",
    "print(\"Модель:\", best_model_tree, \"F1-мера лучшей модели решающего дерева:\", best_result_tree)\n",
    "print('AUC-ROC лучшей модели решающего дерева:', roc_auc_score(target_valid, probabilities_one_valid))"
   ]
  },
  {
   "cell_type": "code",
   "execution_count": 48,
   "metadata": {},
   "outputs": [
    {
     "name": "stdout",
     "output_type": "stream",
     "text": [
      "Модель: DecisionTreeClassifier(class_weight='balanced', max_depth=4, random_state=54321) F1-мера лучшей модели решающего дерева: 0.567926455566905\n",
      "AUC-ROC лучшей модели решающего дерева: 0.812422592083609\n",
      "CPU times: total: 328 ms\n",
      "Wall time: 434 ms\n"
     ]
    }
   ],
   "source": [
    "%%time\n",
    "# Модель - решающее дерево\n",
    "# Уменьшенная выборка с балансировкой классов\n",
    "\n",
    "best_model_tree = None\n",
    "best_result_tree = 0\n",
    "\n",
    "for depth in range(1, 25):\n",
    "    model_tree = DecisionTreeClassifier(random_state=54321, max_depth=depth, class_weight='balanced') \n",
    "    model_tree.fit(features_downsampled, target_downsampled) \n",
    "    predictions_tree = model_tree.predict(features_valid) \n",
    "    result = f1_score(target_valid, predictions_tree) \n",
    "#     print(depth, result)\n",
    "    if result > best_result_tree:\n",
    "        best_model_tree = model_tree\n",
    "        best_result_tree = result\n",
    "\n",
    "probabilities_valid = best_model_tree.predict_proba(features_valid)\n",
    "probabilities_one_valid = probabilities_valid[:, 1]\n",
    "\n",
    "print(\"Модель:\", best_model_tree, \"F1-мера лучшей модели решающего дерева:\", best_result_tree)\n",
    "print('AUC-ROC лучшей модели решающего дерева:', roc_auc_score(target_valid, probabilities_one_valid))"
   ]
  },
  {
   "cell_type": "code",
   "execution_count": 49,
   "metadata": {},
   "outputs": [
    {
     "name": "stdout",
     "output_type": "stream",
     "text": [
      "Модель: DecisionTreeClassifier(max_depth=4, random_state=54321) F1-мера лучшей модели решающего дерева: 0.567926455566905\n",
      "AUC-ROC лучшей модели решающего дерева: 0.812422592083609\n",
      "CPU times: total: 312 ms\n",
      "Wall time: 380 ms\n"
     ]
    }
   ],
   "source": [
    "%%time\n",
    "# Модель - решающее дерево\n",
    "# Уменьшенная выборка \n",
    "\n",
    "best_model_tree = None\n",
    "best_result_tree = 0\n",
    "\n",
    "for depth in range(1, 25):\n",
    "    model_tree = DecisionTreeClassifier(random_state=54321, max_depth=depth) \n",
    "    model_tree.fit(features_downsampled, target_downsampled) \n",
    "    predictions_tree = model_tree.predict(features_valid) \n",
    "    result = f1_score(target_valid, predictions_tree) \n",
    "#     print(depth, result)\n",
    "    if result > best_result_tree:\n",
    "        best_model_tree = model_tree\n",
    "        best_result_tree = result\n",
    "\n",
    "probabilities_valid = best_model_tree.predict_proba(features_valid)\n",
    "probabilities_one_valid = probabilities_valid[:, 1]\n",
    "\n",
    "print(\"Модель:\", best_model_tree, \"F1-мера лучшей модели решающего дерева:\", best_result_tree)\n",
    "print('AUC-ROC лучшей модели решающего дерева:', roc_auc_score(target_valid, probabilities_one_valid))"
   ]
  },
  {
   "cell_type": "code",
   "execution_count": 50,
   "metadata": {},
   "outputs": [
    {
     "name": "stdout",
     "output_type": "stream",
     "text": [
      "Количество решающих деревьев: 92\n",
      "Уровень (глубина)  дерева лучшей модели случайного леса 16\n",
      "F1-мера лучшей модели случайного леса: 0.6385224274406333\n",
      "AUC-ROC лучшей модели случайного леса: 0.8551733551733551\n",
      "CPU times: total: 11min 42s\n",
      "Wall time: 13min 22s\n"
     ]
    }
   ],
   "source": [
    "%%time\n",
    "# Модель - случайный лес\n",
    "# Увеличение выборки с балансировкой классов\n",
    "\n",
    "est_e = 0\n",
    "depth_e = 0\n",
    "best_model_forest = None\n",
    "best_result_forest = 0\n",
    "for depth in range(1, 25, 5):\n",
    "    for est in range(50, 250, 2):\n",
    "        model_forest = RandomForestClassifier(random_state=54321, n_estimators=est, max_depth=depth, class_weight='balanced') \n",
    "        model_forest.fit(features_upsampled, target_upsampled) \n",
    "        predictions_forest = model_forest.predict(features_valid) \n",
    "        result = f1_score(target_valid, predictions_forest) \n",
    "#         print(\"Количество решающих деревьев:\", est)\n",
    "#         print('Уровень (глубина) каждого дерева', depth)\n",
    "#         print(\"F1-мера:\", result) \n",
    "#         print()\n",
    "        if result > best_result_forest:\n",
    "            est_e = est\n",
    "            depth_e = depth\n",
    "            best_model_forest = model_forest\n",
    "            best_result_forest = result\n",
    "print(\"Количество решающих деревьев:\", est_e)\n",
    "print('Уровень (глубина)  дерева лучшей модели случайного леса', depth_e)\n",
    "\n",
    "probabilities_valid = best_model_forest.predict_proba(features_valid)\n",
    "probabilities_one_valid = probabilities_valid[:, 1]\n",
    "\n",
    "print(\"F1-мера лучшей модели случайного леса:\", best_result_forest) \n",
    "print('AUC-ROC лучшей модели случайного леса:', roc_auc_score(target_valid, probabilities_one_valid))"
   ]
  },
  {
   "cell_type": "code",
   "execution_count": 51,
   "metadata": {},
   "outputs": [
    {
     "name": "stdout",
     "output_type": "stream",
     "text": [
      "Количество решающих деревьев: 248\n",
      "Уровень (глубина)  дерева лучшей модели случайного леса 16\n",
      "F1-мера лучшей модели случайного леса: 0.6333771353482259\n",
      "AUC-ROC лучшей модели случайного леса: 0.8527094120314459\n",
      "CPU times: total: 11min 48s\n",
      "Wall time: 13min 31s\n"
     ]
    }
   ],
   "source": [
    "%%time\n",
    "# Модель - случайный лес\n",
    "# Увеличение выборки\n",
    "\n",
    "est_e = 0\n",
    "depth_e = 0\n",
    "best_model_forest = None\n",
    "best_result_forest = 0\n",
    "for depth in range(1, 25, 5):\n",
    "    for est in range(50, 250, 2):\n",
    "        model_forest = RandomForestClassifier(random_state=54321, n_estimators=est, max_depth=depth) \n",
    "        model_forest.fit(features_upsampled, target_upsampled) \n",
    "        predictions_forest = model_forest.predict(features_valid) \n",
    "        result = f1_score(target_valid, predictions_forest) \n",
    "#         print(\"Количество решающих деревьев:\", est)\n",
    "#         print('Уровень (глубина) каждого дерева', depth)\n",
    "#         print(\"F1-мера:\", result) \n",
    "#         print()\n",
    "        if result > best_result_forest:\n",
    "            est_e = est\n",
    "            depth_e = depth\n",
    "            best_model_forest = model_forest\n",
    "            best_result_forest = result\n",
    "print(\"Количество решающих деревьев:\", est_e)\n",
    "print('Уровень (глубина)  дерева лучшей модели случайного леса', depth_e)\n",
    "\n",
    "probabilities_valid = best_model_forest.predict_proba(features_valid)\n",
    "probabilities_one_valid = probabilities_valid[:, 1]\n",
    "\n",
    "print(\"F1-мера лучшей модели случайного леса:\", best_result_forest) \n",
    "print('AUC-ROC лучшей модели случайного леса:', roc_auc_score(target_valid, probabilities_one_valid))"
   ]
  },
  {
   "cell_type": "code",
   "execution_count": 52,
   "metadata": {},
   "outputs": [
    {
     "name": "stdout",
     "output_type": "stream",
     "text": [
      "Количество решающих деревьев: 156\n",
      "Уровень (глубина)  дерева лучшей модели случайного леса 16\n",
      "F1-мера лучшей модели случайного леса: 0.5859154929577465\n",
      "AUC-ROC лучшей модели случайного леса: 0.8479049157015258\n",
      "CPU times: total: 4min 7s\n",
      "Wall time: 4min 19s\n"
     ]
    }
   ],
   "source": [
    "%%time\n",
    "# Модель - случайный лес\n",
    "# Уменьшение выборки с балансировкой классов\n",
    "\n",
    "est_e = 0\n",
    "depth_e = 0\n",
    "best_model_forest = None\n",
    "best_result_forest = 0\n",
    "for depth in range(1, 25, 5):\n",
    "    for est in range(50, 250, 2):\n",
    "        model_forest = RandomForestClassifier(random_state=54321, n_estimators=est, max_depth=depth, class_weight='balanced') \n",
    "        model_forest.fit(features_downsampled, target_downsampled) \n",
    "        predictions_forest = model_forest.predict(features_valid) \n",
    "        result = f1_score(target_valid, predictions_forest) \n",
    "#         print(\"Количество решающих деревьев:\", est)\n",
    "#         print('Уровень (глубина) каждого дерева', depth)\n",
    "#         print(\"F1-мера:\", result) \n",
    "#         print()\n",
    "        if result > best_result_forest:\n",
    "            est_e = est\n",
    "            depth_e = depth\n",
    "            best_model_forest = model_forest\n",
    "            best_result_forest = result\n",
    "print(\"Количество решающих деревьев:\", est_e)\n",
    "print('Уровень (глубина)  дерева лучшей модели случайного леса', depth_e)\n",
    "\n",
    "probabilities_valid = best_model_forest.predict_proba(features_valid)\n",
    "probabilities_one_valid = probabilities_valid[:, 1]\n",
    "\n",
    "print(\"F1-мера лучшей модели случайного леса:\", best_result_forest) \n",
    "print('AUC-ROC лучшей модели случайного леса:', roc_auc_score(target_valid, probabilities_one_valid))"
   ]
  },
  {
   "cell_type": "code",
   "execution_count": 53,
   "metadata": {},
   "outputs": [
    {
     "name": "stdout",
     "output_type": "stream",
     "text": [
      "Количество решающих деревьев: 54\n",
      "Уровень (глубина)  дерева лучшей модели случайного леса 11\n",
      "F1-мера лучшей модели случайного леса: 0.5931558935361216\n",
      "AUC-ROC лучшей модели случайного леса: 0.8437574708761149\n",
      "CPU times: total: 4min 21s\n",
      "Wall time: 4min 37s\n"
     ]
    }
   ],
   "source": [
    "%%time\n",
    "# Модель - случайный лес\n",
    "# Уменьшение выборки\n",
    "\n",
    "est_e = 0\n",
    "depth_e = 0\n",
    "best_model_forest = None\n",
    "best_result_forest = 0\n",
    "for depth in range(1, 25, 5):\n",
    "    for est in range(50, 250, 2):\n",
    "        model_forest = RandomForestClassifier(random_state=54321, n_estimators=est, max_depth=depth) \n",
    "        model_forest.fit(features_downsampled, target_downsampled) \n",
    "        predictions_forest = model_forest.predict(features_valid) \n",
    "        result = f1_score(target_valid, predictions_forest) \n",
    "#         print(\"Количество решающих деревьев:\", est)\n",
    "#         print('Уровень (глубина) каждого дерева', depth)\n",
    "#         print(\"F1-мера:\", result) \n",
    "#         print()\n",
    "        if result > best_result_forest:\n",
    "            est_e = est\n",
    "            depth_e = depth\n",
    "            best_model_forest = model_forest\n",
    "            best_result_forest = result\n",
    "print(\"Количество решающих деревьев:\", est_e)\n",
    "print('Уровень (глубина)  дерева лучшей модели случайного леса', depth_e)\n",
    "\n",
    "probabilities_valid = best_model_forest.predict_proba(features_valid)\n",
    "probabilities_one_valid = probabilities_valid[:, 1]\n",
    "\n",
    "print(\"F1-мера лучшей модели случайного леса:\", best_result_forest) \n",
    "print('AUC-ROC лучшей модели случайного леса:', roc_auc_score(target_valid, probabilities_one_valid))"
   ]
  },
  {
   "cell_type": "code",
   "execution_count": 54,
   "metadata": {},
   "outputs": [
    {
     "name": "stdout",
     "output_type": "stream",
     "text": [
      "F1-мера модели логистической регрессии: 0.5008726003490401\n",
      "AUC-ROC 0.7748195036330631\n",
      "CPU times: total: 0 ns\n",
      "Wall time: 28.5 ms\n"
     ]
    }
   ],
   "source": [
    "%%time\n",
    "# Модель логистической регрессии\n",
    "# Увеличение выборки с балансировкой классов\n",
    "\n",
    "model_regression_balanced = LogisticRegression(random_state=54321, max_iter=1000, class_weight='balanced')\n",
    "model_regression_balanced.fit(features_upsampled, target_upsampled) \n",
    "predictions_regression = model_regression_balanced.predict(features_valid)\n",
    "result = f1_score(target_valid, predictions_regression)\n",
    "\n",
    "probabilities_valid = model_regression_balanced.predict_proba(features_valid)\n",
    "probabilities_one_valid = probabilities_valid[:, 1]\n",
    "\n",
    "print(\"F1-мера модели логистической регрессии:\", result)\n",
    "print('AUC-ROC', roc_auc_score(target_valid, probabilities_one_valid))"
   ]
  },
  {
   "cell_type": "code",
   "execution_count": 55,
   "metadata": {},
   "outputs": [
    {
     "name": "stdout",
     "output_type": "stream",
     "text": [
      "F1-мера модели логистической регрессии: 0.4974182444061962\n",
      "AUC-ROC 0.7748009951399781\n",
      "CPU times: total: 31.2 ms\n",
      "Wall time: 28.2 ms\n"
     ]
    }
   ],
   "source": [
    "%%time\n",
    "# Модель логистической регрессии\n",
    "# Увеличение выборки\n",
    "\n",
    "model_regression = LogisticRegression(random_state=54321, max_iter=1000)\n",
    "model_regression.fit(features_upsampled, target_upsampled) \n",
    "predictions_regression = model_regression.predict(features_valid)\n",
    "result = f1_score(target_valid, predictions_regression)\n",
    "\n",
    "probabilities_valid = model_regression.predict_proba(features_valid)\n",
    "probabilities_one_valid = probabilities_valid[:, 1]\n",
    "\n",
    "print(\"F1-мера модели логистической регрессии:\", result)\n",
    "print('AUC-ROC', roc_auc_score(target_valid, probabilities_one_valid))"
   ]
  },
  {
   "cell_type": "code",
   "execution_count": 56,
   "metadata": {},
   "outputs": [
    {
     "name": "stdout",
     "output_type": "stream",
     "text": [
      "F1-мера модели логистической регрессии: 0.5051724137931034\n",
      "AUC-ROC 0.7740282655536893\n",
      "CPU times: total: 0 ns\n",
      "Wall time: 12.5 ms\n"
     ]
    }
   ],
   "source": [
    "%%time\n",
    "# Модель логистической регрессии\n",
    "# Уменьшение выборки с балансировкой классов\n",
    "\n",
    "model_regression_balanced = LogisticRegression(random_state=54321, max_iter=1000, class_weight='balanced')\n",
    "model_regression_balanced.fit(features_downsampled, target_downsampled) \n",
    "predictions_regression = model_regression_balanced.predict(features_valid)\n",
    "result = f1_score(target_valid, predictions_regression)\n",
    "\n",
    "probabilities_valid = model_regression_balanced.predict_proba(features_valid)\n",
    "probabilities_one_valid = probabilities_valid[:, 1]\n",
    "\n",
    "print(\"F1-мера модели логистической регрессии:\", result)\n",
    "print('AUC-ROC', roc_auc_score(target_valid, probabilities_one_valid))"
   ]
  },
  {
   "cell_type": "code",
   "execution_count": 57,
   "metadata": {},
   "outputs": [
    {
     "name": "stdout",
     "output_type": "stream",
     "text": [
      "F1-мера модели логистической регрессии: 0.504704875962361\n",
      "AUC-ROC 0.774023638430418\n",
      "CPU times: total: 15.6 ms\n",
      "Wall time: 25.7 ms\n"
     ]
    }
   ],
   "source": [
    "%%time\n",
    "# Модель логистической регрессии\n",
    "# Уменьшение выборки\n",
    "\n",
    "model_regression = LogisticRegression(random_state=54321, max_iter=1000)\n",
    "model_regression.fit(features_downsampled, target_downsampled) \n",
    "predictions_regression = model_regression.predict(features_valid)\n",
    "result = f1_score(target_valid, predictions_regression)\n",
    "\n",
    "probabilities_valid = model_regression.predict_proba(features_valid)\n",
    "probabilities_one_valid = probabilities_valid[:, 1]\n",
    "\n",
    "print(\"F1-мера модели логистической регрессии:\", result)\n",
    "print('AUC-ROC', roc_auc_score(target_valid, probabilities_one_valid))"
   ]
  },
  {
   "cell_type": "markdown",
   "metadata": {},
   "source": [
    "По результатам проверки лучшие результаты показывает модель решающего леса с параметрами: техника борьбы с дисбалансом upsampling, количество решающих деревьев: 248, уровень (глубина)  дерева лучшей модели случайного леса 16. Ее мы и отправим на тестирование."
   ]
  },
  {
   "cell_type": "markdown",
   "metadata": {},
   "source": [
    "## Тестирование модели"
   ]
  },
  {
   "cell_type": "code",
   "execution_count": 58,
   "metadata": {},
   "outputs": [],
   "source": [
    "# Масштабируем тестовую выборку\n",
    "features_test[numeric] = scaler.transform(features_test[numeric])"
   ]
  },
  {
   "cell_type": "code",
   "execution_count": 59,
   "metadata": {},
   "outputs": [
    {
     "name": "stdout",
     "output_type": "stream",
     "text": [
      "Тестовое значение F1-меры =  0.6050198150594451\n",
      "AUC-ROC 0.851525550546852\n",
      "CPU times: total: 1.88 s\n",
      "Wall time: 2.03 s\n"
     ]
    }
   ],
   "source": [
    "%%time\n",
    "# Модель - случайный лес \n",
    "\n",
    "model_forest = RandomForestClassifier(random_state=54321, n_estimators=148, max_depth = 16, class_weight='balanced') \n",
    "model_forest.fit(features_upsampled, target_upsampled) \n",
    "predictions = model_forest.predict(features_test) \n",
    "result_test = f1_score(target_test, predictions) \n",
    "\n",
    "probabilities_test = model_forest.predict_proba(features_test)\n",
    "probabilities_one_test = probabilities_test[:, 1]\n",
    "\n",
    "print('Тестовое значение F1-меры = ', result_test)\n",
    "print('AUC-ROC', roc_auc_score(target_test, probabilities_one_test))"
   ]
  },
  {
   "cell_type": "markdown",
   "metadata": {},
   "source": [
    "На всякий случай проверим лучшую модель на адекватность."
   ]
  },
  {
   "cell_type": "code",
   "execution_count": 60,
   "metadata": {},
   "outputs": [
    {
     "name": "stdout",
     "output_type": "stream",
     "text": [
      "F1-мера адекватности: 0.3121951219512195\n"
     ]
    }
   ],
   "source": [
    "dummy_clf = DummyClassifier(strategy=\"stratified\")\n",
    "dummy_clf.fit(features_upsampled, target_upsampled)\n",
    "predictions_adequacy_test = dummy_clf.predict(features_test)\n",
    "result = f1_score(target_test, predictions_adequacy_test)\n",
    "print(\"F1-мера адекватности:\", result)"
   ]
  },
  {
   "cell_type": "markdown",
   "metadata": {},
   "source": [
    "Вывод: Целевой показатель F1-меры достигнут."
   ]
  },
  {
   "cell_type": "markdown",
   "metadata": {},
   "source": [
    "## Общий вывод"
   ]
  },
  {
   "cell_type": "markdown",
   "metadata": {},
   "source": [
    "В ходе выполнения проекта:\n",
    "\n",
    "Изучен файл с данными.\\\n",
    "Данные подготовлены для обучения модели\\\n",
    "Разбиты данные на три выборки: обучающая, валидационная и тестовая.\\\n",
    "Исследованы три модели классификации: Решающее дерево, Случайный лес и Логистическая регрессия.\\\n",
    "Найдены оптимальные параметры для каждой модели и выбрана одна из них для обучения модели.\\\n",
    "Оценена точность обученной модели.\\\n",
    "Целевой показатель F1-меры достигнут.\\\n",
    "Проведено тестирование модели."
   ]
  }
 ],
 "metadata": {
  "ExecuteTimeLog": [
   {
    "duration": 1103,
    "start_time": "2023-02-01T07:28:52.838Z"
   },
   {
    "duration": 72,
    "start_time": "2023-02-01T07:28:53.943Z"
   },
   {
    "duration": 24,
    "start_time": "2023-02-01T07:28:54.017Z"
   },
   {
    "duration": 112,
    "start_time": "2023-02-01T07:32:28.017Z"
   },
   {
    "duration": 8,
    "start_time": "2023-02-01T07:54:09.881Z"
   },
   {
    "duration": 17,
    "start_time": "2023-02-01T07:54:19.198Z"
   },
   {
    "duration": 116,
    "start_time": "2023-02-01T07:57:09.392Z"
   },
   {
    "duration": 9,
    "start_time": "2023-02-01T07:57:13.926Z"
   },
   {
    "duration": 15,
    "start_time": "2023-02-01T07:58:08.508Z"
   },
   {
    "duration": 45,
    "start_time": "2023-02-01T08:00:05.477Z"
   },
   {
    "duration": 53,
    "start_time": "2023-02-01T08:00:58.570Z"
   },
   {
    "duration": 19,
    "start_time": "2023-02-01T08:01:55.629Z"
   },
   {
    "duration": 15,
    "start_time": "2023-02-01T08:03:15.144Z"
   },
   {
    "duration": 19,
    "start_time": "2023-02-01T08:04:17.725Z"
   },
   {
    "duration": 9,
    "start_time": "2023-02-01T08:04:39.366Z"
   },
   {
    "duration": 11,
    "start_time": "2023-02-01T08:04:55.446Z"
   },
   {
    "duration": 3,
    "start_time": "2023-02-01T08:08:42.121Z"
   },
   {
    "duration": 13,
    "start_time": "2023-02-01T08:08:55.826Z"
   },
   {
    "duration": 37,
    "start_time": "2023-02-01T08:09:07.587Z"
   },
   {
    "duration": 3,
    "start_time": "2023-02-01T08:09:07.963Z"
   },
   {
    "duration": 12,
    "start_time": "2023-02-01T08:09:08.578Z"
   },
   {
    "duration": 19,
    "start_time": "2023-02-01T08:11:48.096Z"
   },
   {
    "duration": 20,
    "start_time": "2023-02-01T08:12:03.875Z"
   },
   {
    "duration": 4,
    "start_time": "2023-02-01T08:14:10.046Z"
   },
   {
    "duration": 5,
    "start_time": "2023-02-01T08:14:26.185Z"
   },
   {
    "duration": 4,
    "start_time": "2023-02-01T08:16:11.493Z"
   },
   {
    "duration": 4,
    "start_time": "2023-02-01T08:17:52.824Z"
   },
   {
    "duration": 4,
    "start_time": "2023-02-01T08:18:05.516Z"
   },
   {
    "duration": 19,
    "start_time": "2023-02-01T08:18:06.105Z"
   },
   {
    "duration": 37,
    "start_time": "2023-02-01T08:18:10.448Z"
   },
   {
    "duration": 4,
    "start_time": "2023-02-01T08:18:13.547Z"
   },
   {
    "duration": 12,
    "start_time": "2023-02-01T08:18:15.636Z"
   },
   {
    "duration": 3,
    "start_time": "2023-02-01T08:18:20.869Z"
   },
   {
    "duration": 1150,
    "start_time": "2023-02-01T08:18:31.988Z"
   },
   {
    "duration": 114,
    "start_time": "2023-02-01T08:18:33.140Z"
   },
   {
    "duration": 0,
    "start_time": "2023-02-01T08:18:33.256Z"
   },
   {
    "duration": 0,
    "start_time": "2023-02-01T08:18:33.256Z"
   },
   {
    "duration": 0,
    "start_time": "2023-02-01T08:18:33.257Z"
   },
   {
    "duration": 0,
    "start_time": "2023-02-01T08:18:33.258Z"
   },
   {
    "duration": 0,
    "start_time": "2023-02-01T08:18:33.259Z"
   },
   {
    "duration": 0,
    "start_time": "2023-02-01T08:18:33.260Z"
   },
   {
    "duration": 45,
    "start_time": "2023-02-01T08:18:48.147Z"
   },
   {
    "duration": 1110,
    "start_time": "2023-02-01T08:18:55.857Z"
   },
   {
    "duration": 44,
    "start_time": "2023-02-01T08:18:56.969Z"
   },
   {
    "duration": 8,
    "start_time": "2023-02-01T08:18:57.015Z"
   },
   {
    "duration": 15,
    "start_time": "2023-02-01T08:18:57.025Z"
   },
   {
    "duration": 4,
    "start_time": "2023-02-01T08:18:57.041Z"
   },
   {
    "duration": 16,
    "start_time": "2023-02-01T08:18:57.046Z"
   },
   {
    "duration": 67,
    "start_time": "2023-02-01T08:18:57.063Z"
   },
   {
    "duration": 4,
    "start_time": "2023-02-01T08:20:37.241Z"
   },
   {
    "duration": 107,
    "start_time": "2023-02-01T08:20:57.713Z"
   },
   {
    "duration": 10,
    "start_time": "2023-02-01T08:21:21.258Z"
   },
   {
    "duration": 22,
    "start_time": "2023-02-01T08:22:59.775Z"
   },
   {
    "duration": 11,
    "start_time": "2023-02-01T08:24:08.686Z"
   },
   {
    "duration": 8,
    "start_time": "2023-02-01T08:27:21.292Z"
   },
   {
    "duration": 18,
    "start_time": "2023-02-01T08:27:28.507Z"
   },
   {
    "duration": 8,
    "start_time": "2023-02-01T08:27:42.323Z"
   },
   {
    "duration": 12,
    "start_time": "2023-02-01T08:28:08.642Z"
   },
   {
    "duration": 13,
    "start_time": "2023-02-01T08:28:31.067Z"
   },
   {
    "duration": 7,
    "start_time": "2023-02-01T08:28:52.955Z"
   },
   {
    "duration": 21,
    "start_time": "2023-02-01T08:29:09.833Z"
   },
   {
    "duration": 9,
    "start_time": "2023-02-01T08:30:17.074Z"
   },
   {
    "duration": 23,
    "start_time": "2023-02-01T08:30:25.360Z"
   },
   {
    "duration": 20,
    "start_time": "2023-02-01T08:31:02.209Z"
   },
   {
    "duration": 6,
    "start_time": "2023-02-01T08:33:39.190Z"
   },
   {
    "duration": 1198,
    "start_time": "2023-02-01T08:34:01.870Z"
   },
   {
    "duration": 68,
    "start_time": "2023-02-01T08:34:11.885Z"
   },
   {
    "duration": 7,
    "start_time": "2023-02-01T08:34:19.077Z"
   },
   {
    "duration": 10,
    "start_time": "2023-02-01T08:34:41.229Z"
   },
   {
    "duration": 17,
    "start_time": "2023-02-01T08:55:57.844Z"
   },
   {
    "duration": 4,
    "start_time": "2023-02-01T08:56:31.426Z"
   },
   {
    "duration": 15,
    "start_time": "2023-02-01T08:56:37.041Z"
   },
   {
    "duration": 36,
    "start_time": "2023-02-01T08:56:39.753Z"
   },
   {
    "duration": 14,
    "start_time": "2023-02-01T08:56:50.512Z"
   },
   {
    "duration": 3,
    "start_time": "2023-02-01T08:58:48.199Z"
   },
   {
    "duration": 36,
    "start_time": "2023-02-01T08:58:49.320Z"
   },
   {
    "duration": 3,
    "start_time": "2023-02-01T08:58:50.464Z"
   },
   {
    "duration": 11,
    "start_time": "2023-02-01T08:58:51.527Z"
   },
   {
    "duration": 16,
    "start_time": "2023-02-01T09:00:36.262Z"
   },
   {
    "duration": 4,
    "start_time": "2023-02-01T09:08:34.647Z"
   },
   {
    "duration": 15,
    "start_time": "2023-02-01T09:08:56.910Z"
   },
   {
    "duration": 12,
    "start_time": "2023-02-01T09:12:10.914Z"
   },
   {
    "duration": 36,
    "start_time": "2023-02-01T09:12:27.232Z"
   },
   {
    "duration": 7,
    "start_time": "2023-02-01T09:13:23.239Z"
   },
   {
    "duration": 9,
    "start_time": "2023-02-01T09:13:37.262Z"
   },
   {
    "duration": 12,
    "start_time": "2023-02-01T09:13:48.518Z"
   },
   {
    "duration": 6,
    "start_time": "2023-02-01T09:15:31.443Z"
   },
   {
    "duration": 10,
    "start_time": "2023-02-01T09:15:40.443Z"
   },
   {
    "duration": 11,
    "start_time": "2023-02-01T09:15:44.714Z"
   },
   {
    "duration": 10,
    "start_time": "2023-02-01T09:16:03.817Z"
   },
   {
    "duration": 5,
    "start_time": "2023-02-01T09:16:34.088Z"
   },
   {
    "duration": 5,
    "start_time": "2023-02-01T09:22:46.990Z"
   },
   {
    "duration": 14,
    "start_time": "2023-02-01T09:31:29.563Z"
   },
   {
    "duration": 21,
    "start_time": "2023-02-01T09:31:42.939Z"
   },
   {
    "duration": 586,
    "start_time": "2023-02-01T09:41:36.088Z"
   },
   {
    "duration": 20,
    "start_time": "2023-02-01T09:42:01.295Z"
   },
   {
    "duration": 1150,
    "start_time": "2023-02-01T09:42:10.215Z"
   },
   {
    "duration": 1107,
    "start_time": "2023-02-01T09:42:23.687Z"
   },
   {
    "duration": 6,
    "start_time": "2023-02-01T09:42:36.822Z"
   },
   {
    "duration": 8,
    "start_time": "2023-02-01T09:43:02.518Z"
   },
   {
    "duration": 20,
    "start_time": "2023-02-01T09:43:10.387Z"
   },
   {
    "duration": 4,
    "start_time": "2023-02-01T09:45:36.036Z"
   },
   {
    "duration": 3,
    "start_time": "2023-02-01T09:46:19.755Z"
   },
   {
    "duration": 36,
    "start_time": "2023-02-01T09:46:20.635Z"
   },
   {
    "duration": 1165,
    "start_time": "2023-02-01T09:46:26.865Z"
   },
   {
    "duration": 43,
    "start_time": "2023-02-01T09:46:28.033Z"
   },
   {
    "duration": 12,
    "start_time": "2023-02-01T09:46:28.077Z"
   },
   {
    "duration": 26,
    "start_time": "2023-02-01T09:46:28.091Z"
   },
   {
    "duration": 40,
    "start_time": "2023-02-01T09:46:28.120Z"
   },
   {
    "duration": 17,
    "start_time": "2023-02-01T09:46:28.163Z"
   },
   {
    "duration": 29,
    "start_time": "2023-02-01T09:46:28.182Z"
   },
   {
    "duration": 5,
    "start_time": "2023-02-01T09:46:28.213Z"
   },
   {
    "duration": 33,
    "start_time": "2023-02-01T09:46:28.219Z"
   },
   {
    "duration": 25,
    "start_time": "2023-02-01T09:46:28.254Z"
   },
   {
    "duration": 7,
    "start_time": "2023-02-01T09:46:28.281Z"
   },
   {
    "duration": 14,
    "start_time": "2023-02-01T09:46:28.289Z"
   },
   {
    "duration": 11,
    "start_time": "2023-02-01T09:46:28.305Z"
   },
   {
    "duration": 398,
    "start_time": "2023-02-01T09:46:28.319Z"
   },
   {
    "duration": 5,
    "start_time": "2023-02-01T09:46:49.222Z"
   },
   {
    "duration": 4,
    "start_time": "2023-02-01T09:46:57.051Z"
   },
   {
    "duration": 3,
    "start_time": "2023-02-01T09:48:31.947Z"
   },
   {
    "duration": 13,
    "start_time": "2023-02-01T09:52:45.228Z"
   },
   {
    "duration": 11,
    "start_time": "2023-02-01T09:53:06.391Z"
   },
   {
    "duration": 13,
    "start_time": "2023-02-01T09:53:53.142Z"
   },
   {
    "duration": 35,
    "start_time": "2023-02-01T09:54:31.112Z"
   },
   {
    "duration": 1514,
    "start_time": "2023-02-01T09:54:41.756Z"
   },
   {
    "duration": 59,
    "start_time": "2023-02-01T09:54:43.272Z"
   },
   {
    "duration": 8,
    "start_time": "2023-02-01T09:54:43.333Z"
   },
   {
    "duration": 23,
    "start_time": "2023-02-01T09:54:43.344Z"
   },
   {
    "duration": 48,
    "start_time": "2023-02-01T09:54:43.369Z"
   },
   {
    "duration": 15,
    "start_time": "2023-02-01T09:54:43.419Z"
   },
   {
    "duration": 23,
    "start_time": "2023-02-01T09:54:43.436Z"
   },
   {
    "duration": 39,
    "start_time": "2023-02-01T09:54:43.461Z"
   },
   {
    "duration": 21,
    "start_time": "2023-02-01T09:54:43.502Z"
   },
   {
    "duration": 6,
    "start_time": "2023-02-01T09:54:43.527Z"
   },
   {
    "duration": 7,
    "start_time": "2023-02-01T09:54:43.535Z"
   },
   {
    "duration": 62,
    "start_time": "2023-02-01T09:54:43.544Z"
   },
   {
    "duration": 23,
    "start_time": "2023-02-01T09:54:43.608Z"
   },
   {
    "duration": 21,
    "start_time": "2023-02-01T09:54:43.633Z"
   },
   {
    "duration": 20,
    "start_time": "2023-02-01T09:54:43.656Z"
   },
   {
    "duration": 1102,
    "start_time": "2023-02-01T09:55:29.147Z"
   },
   {
    "duration": 39,
    "start_time": "2023-02-01T09:55:30.251Z"
   },
   {
    "duration": 9,
    "start_time": "2023-02-01T09:55:30.292Z"
   },
   {
    "duration": 52,
    "start_time": "2023-02-01T09:55:30.304Z"
   },
   {
    "duration": 64,
    "start_time": "2023-02-01T09:55:30.358Z"
   },
   {
    "duration": 14,
    "start_time": "2023-02-01T09:55:30.425Z"
   },
   {
    "duration": 43,
    "start_time": "2023-02-01T09:55:30.441Z"
   },
   {
    "duration": 42,
    "start_time": "2023-02-01T09:55:30.486Z"
   },
   {
    "duration": 112,
    "start_time": "2023-02-01T09:55:30.530Z"
   },
   {
    "duration": 24,
    "start_time": "2023-02-01T09:55:30.644Z"
   },
   {
    "duration": 54,
    "start_time": "2023-02-01T09:55:30.669Z"
   },
   {
    "duration": 22,
    "start_time": "2023-02-01T09:55:30.728Z"
   },
   {
    "duration": 15,
    "start_time": "2023-02-01T09:55:30.752Z"
   },
   {
    "duration": 38,
    "start_time": "2023-02-01T09:55:30.768Z"
   },
   {
    "duration": 60,
    "start_time": "2023-02-01T09:55:30.808Z"
   },
   {
    "duration": 1360,
    "start_time": "2023-02-01T09:56:29.740Z"
   },
   {
    "duration": 1102,
    "start_time": "2023-02-01T09:57:17.851Z"
   },
   {
    "duration": 54,
    "start_time": "2023-02-01T09:57:20.491Z"
   },
   {
    "duration": 11,
    "start_time": "2023-02-01T09:57:27.267Z"
   },
   {
    "duration": 51,
    "start_time": "2023-02-01T09:57:27.280Z"
   },
   {
    "duration": 67,
    "start_time": "2023-02-01T09:57:27.332Z"
   },
   {
    "duration": 29,
    "start_time": "2023-02-01T09:57:27.401Z"
   },
   {
    "duration": 35,
    "start_time": "2023-02-01T09:57:27.434Z"
   },
   {
    "duration": 15,
    "start_time": "2023-02-01T09:57:27.471Z"
   },
   {
    "duration": 37,
    "start_time": "2023-02-01T09:57:27.488Z"
   },
   {
    "duration": 19,
    "start_time": "2023-02-01T09:57:27.528Z"
   },
   {
    "duration": 7,
    "start_time": "2023-02-01T09:57:27.548Z"
   },
   {
    "duration": 24,
    "start_time": "2023-02-01T09:57:27.557Z"
   },
   {
    "duration": 3,
    "start_time": "2023-02-01T09:57:32.979Z"
   },
   {
    "duration": 10,
    "start_time": "2023-02-01T09:57:34.779Z"
   },
   {
    "duration": 12,
    "start_time": "2023-02-01T09:57:38.179Z"
   },
   {
    "duration": 4,
    "start_time": "2023-02-01T09:58:42.794Z"
   },
   {
    "duration": 1170,
    "start_time": "2023-02-01T10:00:12.166Z"
   },
   {
    "duration": 39,
    "start_time": "2023-02-01T10:00:13.338Z"
   },
   {
    "duration": 12,
    "start_time": "2023-02-01T10:00:13.378Z"
   },
   {
    "duration": 30,
    "start_time": "2023-02-01T10:00:13.393Z"
   },
   {
    "duration": 47,
    "start_time": "2023-02-01T10:00:13.424Z"
   },
   {
    "duration": 12,
    "start_time": "2023-02-01T10:00:13.473Z"
   },
   {
    "duration": 5,
    "start_time": "2023-02-01T10:00:13.487Z"
   },
   {
    "duration": 31,
    "start_time": "2023-02-01T10:00:13.494Z"
   },
   {
    "duration": 108,
    "start_time": "2023-02-01T10:00:13.526Z"
   },
   {
    "duration": 11,
    "start_time": "2023-02-01T10:00:13.637Z"
   },
   {
    "duration": 22,
    "start_time": "2023-02-01T10:00:13.649Z"
   },
   {
    "duration": 11,
    "start_time": "2023-02-01T10:00:13.673Z"
   },
   {
    "duration": 142,
    "start_time": "2023-02-01T10:00:13.686Z"
   },
   {
    "duration": 0,
    "start_time": "2023-02-01T10:00:13.830Z"
   },
   {
    "duration": 0,
    "start_time": "2023-02-01T10:00:13.831Z"
   },
   {
    "duration": 0,
    "start_time": "2023-02-01T10:00:13.831Z"
   },
   {
    "duration": 17,
    "start_time": "2023-02-01T10:02:09.760Z"
   },
   {
    "duration": 27,
    "start_time": "2023-02-01T10:02:27.724Z"
   },
   {
    "duration": 3,
    "start_time": "2023-02-01T10:02:31.695Z"
   },
   {
    "duration": 12,
    "start_time": "2023-02-01T10:02:32.543Z"
   },
   {
    "duration": 18,
    "start_time": "2023-02-01T10:02:32.870Z"
   },
   {
    "duration": 1097,
    "start_time": "2023-02-01T10:05:07.037Z"
   },
   {
    "duration": 38,
    "start_time": "2023-02-01T10:05:08.136Z"
   },
   {
    "duration": 10,
    "start_time": "2023-02-01T10:05:08.176Z"
   },
   {
    "duration": 38,
    "start_time": "2023-02-01T10:05:08.187Z"
   },
   {
    "duration": 52,
    "start_time": "2023-02-01T10:05:08.226Z"
   },
   {
    "duration": 11,
    "start_time": "2023-02-01T10:05:08.280Z"
   },
   {
    "duration": 8,
    "start_time": "2023-02-01T10:05:08.293Z"
   },
   {
    "duration": 24,
    "start_time": "2023-02-01T10:05:08.302Z"
   },
   {
    "duration": 12,
    "start_time": "2023-02-01T10:05:08.328Z"
   },
   {
    "duration": 4,
    "start_time": "2023-02-01T10:05:08.343Z"
   },
   {
    "duration": 7,
    "start_time": "2023-02-01T10:05:08.349Z"
   },
   {
    "duration": 11,
    "start_time": "2023-02-01T10:05:08.357Z"
   },
   {
    "duration": 26,
    "start_time": "2023-02-01T10:05:08.370Z"
   },
   {
    "duration": 21,
    "start_time": "2023-02-01T10:05:08.398Z"
   },
   {
    "duration": 20,
    "start_time": "2023-02-01T10:05:08.420Z"
   },
   {
    "duration": 16,
    "start_time": "2023-02-01T10:05:08.442Z"
   },
   {
    "duration": 139,
    "start_time": "2023-02-01T10:12:14.709Z"
   },
   {
    "duration": 4,
    "start_time": "2023-02-01T10:12:23.285Z"
   },
   {
    "duration": 3,
    "start_time": "2023-02-01T10:13:00.086Z"
   },
   {
    "duration": 8,
    "start_time": "2023-02-01T10:13:06.293Z"
   },
   {
    "duration": 6,
    "start_time": "2023-02-01T10:15:05.786Z"
   },
   {
    "duration": 9,
    "start_time": "2023-02-01T10:15:06.562Z"
   },
   {
    "duration": 46,
    "start_time": "2023-02-01T10:15:23.634Z"
   },
   {
    "duration": 6,
    "start_time": "2023-02-01T10:15:51.738Z"
   },
   {
    "duration": 38,
    "start_time": "2023-02-01T10:15:52.355Z"
   },
   {
    "duration": 11,
    "start_time": "2023-02-01T10:15:53.474Z"
   },
   {
    "duration": 12,
    "start_time": "2023-02-01T10:16:05.851Z"
   },
   {
    "duration": 9,
    "start_time": "2023-02-01T10:16:17.002Z"
   },
   {
    "duration": 1168,
    "start_time": "2023-02-01T10:30:56.578Z"
   },
   {
    "duration": 41,
    "start_time": "2023-02-01T10:30:57.749Z"
   },
   {
    "duration": 12,
    "start_time": "2023-02-01T10:30:57.792Z"
   },
   {
    "duration": 39,
    "start_time": "2023-02-01T10:30:57.807Z"
   },
   {
    "duration": 58,
    "start_time": "2023-02-01T10:30:57.848Z"
   },
   {
    "duration": 14,
    "start_time": "2023-02-01T10:30:57.908Z"
   },
   {
    "duration": 9,
    "start_time": "2023-02-01T10:30:57.924Z"
   },
   {
    "duration": 21,
    "start_time": "2023-02-01T10:30:57.935Z"
   },
   {
    "duration": 36,
    "start_time": "2023-02-01T10:30:57.957Z"
   },
   {
    "duration": 21,
    "start_time": "2023-02-01T10:30:57.996Z"
   },
   {
    "duration": 20,
    "start_time": "2023-02-01T10:30:58.018Z"
   },
   {
    "duration": 20,
    "start_time": "2023-02-01T10:30:58.040Z"
   },
   {
    "duration": 396,
    "start_time": "2023-02-01T10:30:58.062Z"
   },
   {
    "duration": 0,
    "start_time": "2023-02-01T10:30:58.460Z"
   },
   {
    "duration": 0,
    "start_time": "2023-02-01T10:30:58.461Z"
   },
   {
    "duration": 0,
    "start_time": "2023-02-01T10:30:58.462Z"
   },
   {
    "duration": 0,
    "start_time": "2023-02-01T10:30:58.463Z"
   },
   {
    "duration": 0,
    "start_time": "2023-02-01T10:30:58.464Z"
   },
   {
    "duration": 0,
    "start_time": "2023-02-01T10:30:58.465Z"
   },
   {
    "duration": 1138,
    "start_time": "2023-02-01T10:31:55.487Z"
   },
   {
    "duration": 45,
    "start_time": "2023-02-01T10:31:56.627Z"
   },
   {
    "duration": 11,
    "start_time": "2023-02-01T10:31:56.675Z"
   },
   {
    "duration": 41,
    "start_time": "2023-02-01T10:31:56.688Z"
   },
   {
    "duration": 73,
    "start_time": "2023-02-01T10:31:56.731Z"
   },
   {
    "duration": 13,
    "start_time": "2023-02-01T10:31:56.806Z"
   },
   {
    "duration": 19,
    "start_time": "2023-02-01T10:31:56.821Z"
   },
   {
    "duration": 20,
    "start_time": "2023-02-01T10:31:56.842Z"
   },
   {
    "duration": 23,
    "start_time": "2023-02-01T10:31:56.864Z"
   },
   {
    "duration": 25,
    "start_time": "2023-02-01T10:31:56.889Z"
   },
   {
    "duration": 12,
    "start_time": "2023-02-01T10:31:56.917Z"
   },
   {
    "duration": 1275,
    "start_time": "2023-02-01T10:31:56.931Z"
   },
   {
    "duration": 0,
    "start_time": "2023-02-01T10:31:58.208Z"
   },
   {
    "duration": 0,
    "start_time": "2023-02-01T10:31:58.209Z"
   },
   {
    "duration": 0,
    "start_time": "2023-02-01T10:31:58.211Z"
   },
   {
    "duration": 0,
    "start_time": "2023-02-01T10:31:58.212Z"
   },
   {
    "duration": 0,
    "start_time": "2023-02-01T10:31:58.213Z"
   },
   {
    "duration": 0,
    "start_time": "2023-02-01T10:31:58.215Z"
   },
   {
    "duration": 0,
    "start_time": "2023-02-01T10:31:58.216Z"
   },
   {
    "duration": 0,
    "start_time": "2023-02-01T10:31:58.217Z"
   },
   {
    "duration": 5,
    "start_time": "2023-02-01T10:32:17.026Z"
   },
   {
    "duration": 10,
    "start_time": "2023-02-01T10:32:20.705Z"
   },
   {
    "duration": 15,
    "start_time": "2023-02-01T10:32:30.674Z"
   },
   {
    "duration": 13,
    "start_time": "2023-02-01T10:32:32.632Z"
   },
   {
    "duration": 1198,
    "start_time": "2023-02-01T10:33:22.277Z"
   },
   {
    "duration": 40,
    "start_time": "2023-02-01T10:33:23.476Z"
   },
   {
    "duration": 12,
    "start_time": "2023-02-01T10:33:23.518Z"
   },
   {
    "duration": 32,
    "start_time": "2023-02-01T10:33:23.532Z"
   },
   {
    "duration": 56,
    "start_time": "2023-02-01T10:33:23.567Z"
   },
   {
    "duration": 12,
    "start_time": "2023-02-01T10:33:23.625Z"
   },
   {
    "duration": 8,
    "start_time": "2023-02-01T10:33:23.639Z"
   },
   {
    "duration": 6,
    "start_time": "2023-02-01T10:33:23.649Z"
   },
   {
    "duration": 17,
    "start_time": "2023-02-01T10:33:23.656Z"
   },
   {
    "duration": 13,
    "start_time": "2023-02-01T10:33:23.674Z"
   },
   {
    "duration": 11,
    "start_time": "2023-02-01T10:33:23.689Z"
   },
   {
    "duration": 10,
    "start_time": "2023-02-01T10:33:23.710Z"
   },
   {
    "duration": 8,
    "start_time": "2023-02-01T10:33:23.722Z"
   },
   {
    "duration": 49,
    "start_time": "2023-02-01T10:33:23.732Z"
   },
   {
    "duration": 10,
    "start_time": "2023-02-01T10:33:23.783Z"
   },
   {
    "duration": 17,
    "start_time": "2023-02-01T10:33:23.795Z"
   },
   {
    "duration": 23,
    "start_time": "2023-02-01T10:33:23.814Z"
   },
   {
    "duration": 12,
    "start_time": "2023-02-01T10:33:23.839Z"
   },
   {
    "duration": 49,
    "start_time": "2023-02-01T10:33:23.853Z"
   },
   {
    "duration": 6,
    "start_time": "2023-02-01T10:33:23.904Z"
   },
   {
    "duration": 48,
    "start_time": "2023-02-01T15:00:58.816Z"
   },
   {
    "duration": 6,
    "start_time": "2023-02-01T15:01:20.295Z"
   },
   {
    "duration": 1131,
    "start_time": "2023-02-01T15:01:44.431Z"
   },
   {
    "duration": 390,
    "start_time": "2023-02-01T15:01:45.564Z"
   },
   {
    "duration": 7,
    "start_time": "2023-02-01T15:01:45.956Z"
   },
   {
    "duration": 28,
    "start_time": "2023-02-01T15:01:45.965Z"
   },
   {
    "duration": 40,
    "start_time": "2023-02-01T15:01:45.995Z"
   },
   {
    "duration": 12,
    "start_time": "2023-02-01T15:01:46.037Z"
   },
   {
    "duration": 5,
    "start_time": "2023-02-01T15:01:46.050Z"
   },
   {
    "duration": 9,
    "start_time": "2023-02-01T15:01:46.056Z"
   },
   {
    "duration": 14,
    "start_time": "2023-02-01T15:01:46.066Z"
   },
   {
    "duration": 3,
    "start_time": "2023-02-01T15:01:46.082Z"
   },
   {
    "duration": 7,
    "start_time": "2023-02-01T15:01:46.087Z"
   },
   {
    "duration": 27,
    "start_time": "2023-02-01T15:01:46.095Z"
   },
   {
    "duration": 5,
    "start_time": "2023-02-01T15:01:46.124Z"
   },
   {
    "duration": 28,
    "start_time": "2023-02-01T15:01:46.131Z"
   },
   {
    "duration": 9,
    "start_time": "2023-02-01T15:01:46.161Z"
   },
   {
    "duration": 18,
    "start_time": "2023-02-01T15:01:46.172Z"
   },
   {
    "duration": 30,
    "start_time": "2023-02-01T15:01:46.191Z"
   },
   {
    "duration": 3,
    "start_time": "2023-02-01T15:01:46.223Z"
   },
   {
    "duration": 9,
    "start_time": "2023-02-01T15:01:46.228Z"
   },
   {
    "duration": 35,
    "start_time": "2023-02-01T15:01:46.238Z"
   },
   {
    "duration": 7,
    "start_time": "2023-02-01T15:01:46.275Z"
   },
   {
    "duration": 7,
    "start_time": "2023-02-01T15:02:08.004Z"
   },
   {
    "duration": 5,
    "start_time": "2023-02-01T15:02:17.033Z"
   },
   {
    "duration": 99,
    "start_time": "2023-02-01T15:03:25.998Z"
   },
   {
    "duration": 5,
    "start_time": "2023-02-01T15:03:32.858Z"
   },
   {
    "duration": 5,
    "start_time": "2023-02-01T15:03:49.903Z"
   },
   {
    "duration": 5,
    "start_time": "2023-02-01T15:04:11.093Z"
   },
   {
    "duration": 5,
    "start_time": "2023-02-01T15:16:37.779Z"
   },
   {
    "duration": 10,
    "start_time": "2023-02-01T15:16:38.980Z"
   },
   {
    "duration": 12,
    "start_time": "2023-02-01T15:16:48.243Z"
   },
   {
    "duration": 5,
    "start_time": "2023-02-01T15:16:50.989Z"
   },
   {
    "duration": 8,
    "start_time": "2023-02-01T15:19:28.306Z"
   },
   {
    "duration": 13,
    "start_time": "2023-02-01T15:22:07.996Z"
   },
   {
    "duration": 5,
    "start_time": "2023-02-01T15:22:49.159Z"
   },
   {
    "duration": 673,
    "start_time": "2023-02-01T15:22:55.461Z"
   },
   {
    "duration": 18,
    "start_time": "2023-02-01T15:26:55.253Z"
   },
   {
    "duration": 4,
    "start_time": "2023-02-01T15:27:21.353Z"
   },
   {
    "duration": 40,
    "start_time": "2023-02-01T15:27:27.010Z"
   },
   {
    "duration": 708,
    "start_time": "2023-02-01T15:27:53.863Z"
   },
   {
    "duration": 699,
    "start_time": "2023-02-01T15:28:23.806Z"
   },
   {
    "duration": 10211,
    "start_time": "2023-02-01T15:30:06.559Z"
   },
   {
    "duration": 9740,
    "start_time": "2023-02-01T15:30:59.656Z"
   },
   {
    "duration": 2293,
    "start_time": "2023-02-01T15:34:14.939Z"
   },
   {
    "duration": 10558,
    "start_time": "2023-02-01T15:36:12.543Z"
   },
   {
    "duration": 10173,
    "start_time": "2023-02-01T15:37:36.012Z"
   },
   {
    "duration": 2310,
    "start_time": "2023-02-01T15:38:09.216Z"
   },
   {
    "duration": 2421,
    "start_time": "2023-02-01T15:38:34.203Z"
   },
   {
    "duration": 1152,
    "start_time": "2023-02-01T15:40:16.055Z"
   },
   {
    "duration": 54,
    "start_time": "2023-02-01T15:40:17.209Z"
   },
   {
    "duration": 8,
    "start_time": "2023-02-01T15:40:17.266Z"
   },
   {
    "duration": 21,
    "start_time": "2023-02-01T15:40:17.277Z"
   },
   {
    "duration": 48,
    "start_time": "2023-02-01T15:40:17.300Z"
   },
   {
    "duration": 13,
    "start_time": "2023-02-01T15:40:17.350Z"
   },
   {
    "duration": 5,
    "start_time": "2023-02-01T15:40:17.365Z"
   },
   {
    "duration": 12,
    "start_time": "2023-02-01T15:40:17.373Z"
   },
   {
    "duration": 38,
    "start_time": "2023-02-01T15:40:17.386Z"
   },
   {
    "duration": 8,
    "start_time": "2023-02-01T15:40:17.428Z"
   },
   {
    "duration": 6,
    "start_time": "2023-02-01T15:40:17.438Z"
   },
   {
    "duration": 7,
    "start_time": "2023-02-01T15:40:17.446Z"
   },
   {
    "duration": 6,
    "start_time": "2023-02-01T15:40:17.454Z"
   },
   {
    "duration": 31,
    "start_time": "2023-02-01T15:40:17.462Z"
   },
   {
    "duration": 30,
    "start_time": "2023-02-01T15:40:17.495Z"
   },
   {
    "duration": 31,
    "start_time": "2023-02-01T15:40:17.526Z"
   },
   {
    "duration": 4,
    "start_time": "2023-02-01T15:40:17.559Z"
   },
   {
    "duration": 6,
    "start_time": "2023-02-01T15:40:17.565Z"
   },
   {
    "duration": 8,
    "start_time": "2023-02-01T15:40:17.573Z"
   },
   {
    "duration": 4,
    "start_time": "2023-02-01T15:40:17.583Z"
   },
   {
    "duration": 45,
    "start_time": "2023-02-01T15:40:17.588Z"
   },
   {
    "duration": 703,
    "start_time": "2023-02-01T15:40:17.634Z"
   },
   {
    "duration": 10425,
    "start_time": "2023-02-01T15:40:18.345Z"
   },
   {
    "duration": 2866,
    "start_time": "2023-02-01T15:40:28.771Z"
   },
   {
    "duration": 131,
    "start_time": "2023-02-01T15:51:24.561Z"
   },
   {
    "duration": 58,
    "start_time": "2023-02-01T15:52:33.553Z"
   },
   {
    "duration": 47,
    "start_time": "2023-02-01T15:53:12.505Z"
   },
   {
    "duration": 67,
    "start_time": "2023-02-01T15:53:24.752Z"
   },
   {
    "duration": 64,
    "start_time": "2023-02-01T15:53:30.838Z"
   },
   {
    "duration": 12,
    "start_time": "2023-02-01T15:53:49.693Z"
   },
   {
    "duration": 809,
    "start_time": "2023-02-01T15:54:12.941Z"
   },
   {
    "duration": 11,
    "start_time": "2023-02-01T15:54:29.892Z"
   },
   {
    "duration": 19,
    "start_time": "2023-02-01T15:54:42.335Z"
   },
   {
    "duration": 18,
    "start_time": "2023-02-01T15:55:42.111Z"
   },
   {
    "duration": 12,
    "start_time": "2023-02-01T15:55:57.353Z"
   },
   {
    "duration": 24,
    "start_time": "2023-02-01T15:56:23.443Z"
   },
   {
    "duration": 12,
    "start_time": "2023-02-01T15:56:51.603Z"
   },
   {
    "duration": 35,
    "start_time": "2023-02-01T16:00:46.217Z"
   },
   {
    "duration": 36,
    "start_time": "2023-02-01T16:01:01.997Z"
   },
   {
    "duration": 72,
    "start_time": "2023-02-01T16:02:49.501Z"
   },
   {
    "duration": 1111,
    "start_time": "2023-02-01T16:03:47.421Z"
   },
   {
    "duration": 42,
    "start_time": "2023-02-01T16:03:48.534Z"
   },
   {
    "duration": 10,
    "start_time": "2023-02-01T16:03:48.577Z"
   },
   {
    "duration": 25,
    "start_time": "2023-02-01T16:03:48.589Z"
   },
   {
    "duration": 45,
    "start_time": "2023-02-01T16:03:48.617Z"
   },
   {
    "duration": 14,
    "start_time": "2023-02-01T16:03:48.664Z"
   },
   {
    "duration": 5,
    "start_time": "2023-02-01T16:03:48.680Z"
   },
   {
    "duration": 34,
    "start_time": "2023-02-01T16:03:48.687Z"
   },
   {
    "duration": 14,
    "start_time": "2023-02-01T16:03:48.723Z"
   },
   {
    "duration": 4,
    "start_time": "2023-02-01T16:03:48.739Z"
   },
   {
    "duration": 6,
    "start_time": "2023-02-01T16:03:48.745Z"
   },
   {
    "duration": 8,
    "start_time": "2023-02-01T16:03:48.753Z"
   },
   {
    "duration": 5,
    "start_time": "2023-02-01T16:03:48.763Z"
   },
   {
    "duration": 51,
    "start_time": "2023-02-01T16:03:48.770Z"
   },
   {
    "duration": 10,
    "start_time": "2023-02-01T16:03:48.822Z"
   },
   {
    "duration": 21,
    "start_time": "2023-02-01T16:03:48.833Z"
   },
   {
    "duration": 12,
    "start_time": "2023-02-01T16:03:48.856Z"
   },
   {
    "duration": 9,
    "start_time": "2023-02-01T16:03:48.870Z"
   },
   {
    "duration": 9,
    "start_time": "2023-02-01T16:03:48.880Z"
   },
   {
    "duration": 31,
    "start_time": "2023-02-01T16:03:48.890Z"
   },
   {
    "duration": 6,
    "start_time": "2023-02-01T16:03:48.924Z"
   },
   {
    "duration": 676,
    "start_time": "2023-02-01T16:03:48.932Z"
   },
   {
    "duration": 9866,
    "start_time": "2023-02-01T16:03:49.610Z"
   },
   {
    "duration": 1453,
    "start_time": "2023-02-01T16:03:59.478Z"
   },
   {
    "duration": 102,
    "start_time": "2023-02-01T16:04:01.021Z"
   },
   {
    "duration": 83,
    "start_time": "2023-02-01T16:04:01.125Z"
   },
   {
    "duration": 36,
    "start_time": "2023-02-01T16:04:01.210Z"
   },
   {
    "duration": 10,
    "start_time": "2023-02-01T16:04:28.456Z"
   },
   {
    "duration": 71,
    "start_time": "2023-02-01T16:04:30.397Z"
   },
   {
    "duration": 50,
    "start_time": "2023-02-01T16:06:25.317Z"
   },
   {
    "duration": 178,
    "start_time": "2023-02-01T16:06:32.644Z"
   },
   {
    "duration": 48,
    "start_time": "2023-02-01T16:07:11.847Z"
   },
   {
    "duration": 78,
    "start_time": "2023-02-01T16:07:21.998Z"
   },
   {
    "duration": 108,
    "start_time": "2023-02-01T16:07:45.158Z"
   },
   {
    "duration": 90,
    "start_time": "2023-02-01T16:07:52.269Z"
   },
   {
    "duration": 59,
    "start_time": "2023-02-01T16:07:56.423Z"
   },
   {
    "duration": 70,
    "start_time": "2023-02-01T16:08:01.321Z"
   },
   {
    "duration": 81,
    "start_time": "2023-02-01T16:09:34.649Z"
   },
   {
    "duration": 114,
    "start_time": "2023-02-01T16:11:29.034Z"
   },
   {
    "duration": 4,
    "start_time": "2023-02-01T16:11:52.644Z"
   },
   {
    "duration": 159,
    "start_time": "2023-02-01T16:12:01.166Z"
   },
   {
    "duration": 69,
    "start_time": "2023-02-01T16:13:02.043Z"
   },
   {
    "duration": 53,
    "start_time": "2023-02-01T16:13:10.697Z"
   },
   {
    "duration": 71,
    "start_time": "2023-02-01T16:13:18.815Z"
   },
   {
    "duration": 70,
    "start_time": "2023-02-01T16:13:25.810Z"
   },
   {
    "duration": 39,
    "start_time": "2023-02-01T16:16:11.511Z"
   },
   {
    "duration": 116,
    "start_time": "2023-02-01T16:16:47.304Z"
   },
   {
    "duration": 70,
    "start_time": "2023-02-01T16:19:23.355Z"
   },
   {
    "duration": 125,
    "start_time": "2023-02-01T16:19:59.930Z"
   },
   {
    "duration": 39,
    "start_time": "2023-02-01T16:20:09.949Z"
   },
   {
    "duration": 40,
    "start_time": "2023-02-01T16:20:56.349Z"
   },
   {
    "duration": 1325,
    "start_time": "2023-02-01T16:21:24.917Z"
   },
   {
    "duration": 45,
    "start_time": "2023-02-01T16:21:26.244Z"
   },
   {
    "duration": 9,
    "start_time": "2023-02-01T16:21:26.292Z"
   },
   {
    "duration": 36,
    "start_time": "2023-02-01T16:21:26.303Z"
   },
   {
    "duration": 60,
    "start_time": "2023-02-01T16:21:26.343Z"
   },
   {
    "duration": 32,
    "start_time": "2023-02-01T16:21:26.405Z"
   },
   {
    "duration": 18,
    "start_time": "2023-02-01T16:21:26.439Z"
   },
   {
    "duration": 9,
    "start_time": "2023-02-01T16:21:26.459Z"
   },
   {
    "duration": 20,
    "start_time": "2023-02-01T16:21:26.470Z"
   },
   {
    "duration": 5,
    "start_time": "2023-02-01T16:21:26.492Z"
   },
   {
    "duration": 5,
    "start_time": "2023-02-01T16:21:26.521Z"
   },
   {
    "duration": 11,
    "start_time": "2023-02-01T16:21:26.528Z"
   },
   {
    "duration": 7,
    "start_time": "2023-02-01T16:21:26.541Z"
   },
   {
    "duration": 40,
    "start_time": "2023-02-01T16:21:26.553Z"
   },
   {
    "duration": 36,
    "start_time": "2023-02-01T16:21:26.595Z"
   },
   {
    "duration": 32,
    "start_time": "2023-02-01T16:21:26.633Z"
   },
   {
    "duration": 8,
    "start_time": "2023-02-01T16:21:26.669Z"
   },
   {
    "duration": 9,
    "start_time": "2023-02-01T16:21:26.679Z"
   },
   {
    "duration": 34,
    "start_time": "2023-02-01T16:21:26.691Z"
   },
   {
    "duration": 8,
    "start_time": "2023-02-01T16:21:26.727Z"
   },
   {
    "duration": 12,
    "start_time": "2023-02-01T16:21:26.737Z"
   },
   {
    "duration": 787,
    "start_time": "2023-02-01T16:21:26.751Z"
   },
   {
    "duration": 10338,
    "start_time": "2023-02-01T16:21:27.540Z"
   },
   {
    "duration": 2644,
    "start_time": "2023-02-01T16:21:37.880Z"
   },
   {
    "duration": 155,
    "start_time": "2023-02-01T16:21:40.527Z"
   },
   {
    "duration": 131,
    "start_time": "2023-02-01T16:21:40.684Z"
   },
   {
    "duration": 41,
    "start_time": "2023-02-01T16:21:40.817Z"
   },
   {
    "duration": 35,
    "start_time": "2023-02-01T16:21:40.859Z"
   },
   {
    "duration": 13,
    "start_time": "2023-02-01T16:22:51.054Z"
   },
   {
    "duration": 1164,
    "start_time": "2023-02-01T16:22:57.089Z"
   },
   {
    "duration": 49,
    "start_time": "2023-02-01T16:22:58.256Z"
   },
   {
    "duration": 12,
    "start_time": "2023-02-01T16:22:58.307Z"
   },
   {
    "duration": 21,
    "start_time": "2023-02-01T16:22:58.322Z"
   },
   {
    "duration": 50,
    "start_time": "2023-02-01T16:22:58.346Z"
   },
   {
    "duration": 36,
    "start_time": "2023-02-01T16:22:58.398Z"
   },
   {
    "duration": 5,
    "start_time": "2023-02-01T16:22:58.435Z"
   },
   {
    "duration": 6,
    "start_time": "2023-02-01T16:22:58.442Z"
   },
   {
    "duration": 19,
    "start_time": "2023-02-01T16:22:58.450Z"
   },
   {
    "duration": 5,
    "start_time": "2023-02-01T16:22:58.471Z"
   },
   {
    "duration": 7,
    "start_time": "2023-02-01T16:22:58.478Z"
   },
   {
    "duration": 36,
    "start_time": "2023-02-01T16:22:58.487Z"
   },
   {
    "duration": 5,
    "start_time": "2023-02-01T16:22:58.525Z"
   },
   {
    "duration": 27,
    "start_time": "2023-02-01T16:22:58.532Z"
   },
   {
    "duration": 11,
    "start_time": "2023-02-01T16:22:58.561Z"
   },
   {
    "duration": 53,
    "start_time": "2023-02-01T16:22:58.574Z"
   },
   {
    "duration": 9,
    "start_time": "2023-02-01T16:22:58.633Z"
   },
   {
    "duration": 7,
    "start_time": "2023-02-01T16:22:58.644Z"
   },
   {
    "duration": 15,
    "start_time": "2023-02-01T16:22:58.653Z"
   },
   {
    "duration": 5,
    "start_time": "2023-02-01T16:22:58.670Z"
   },
   {
    "duration": 13,
    "start_time": "2023-02-01T16:22:58.677Z"
   },
   {
    "duration": 714,
    "start_time": "2023-02-01T16:22:58.692Z"
   },
   {
    "duration": 10233,
    "start_time": "2023-02-01T16:22:59.408Z"
   },
   {
    "duration": 785,
    "start_time": "2023-02-01T16:23:09.642Z"
   },
   {
    "duration": 148,
    "start_time": "2023-02-01T16:23:10.429Z"
   },
   {
    "duration": 142,
    "start_time": "2023-02-01T16:23:10.579Z"
   },
   {
    "duration": 39,
    "start_time": "2023-02-01T16:23:10.723Z"
   },
   {
    "duration": 35,
    "start_time": "2023-02-01T16:23:10.764Z"
   },
   {
    "duration": 489,
    "start_time": "2023-02-01T16:24:37.117Z"
   },
   {
    "duration": 116,
    "start_time": "2023-02-01T16:24:47.420Z"
   },
   {
    "duration": 116,
    "start_time": "2023-02-01T16:24:53.643Z"
   },
   {
    "duration": 296,
    "start_time": "2023-02-01T16:25:25.018Z"
   },
   {
    "duration": 3168,
    "start_time": "2023-02-01T16:27:36.869Z"
   },
   {
    "duration": 481,
    "start_time": "2023-02-01T16:27:52.190Z"
   },
   {
    "duration": 483,
    "start_time": "2023-02-01T16:27:58.243Z"
   },
   {
    "duration": 560,
    "start_time": "2023-02-01T16:28:05.166Z"
   },
   {
    "duration": 1191,
    "start_time": "2023-02-01T16:28:35.503Z"
   },
   {
    "duration": 57,
    "start_time": "2023-02-01T16:28:36.696Z"
   },
   {
    "duration": 9,
    "start_time": "2023-02-01T16:28:36.755Z"
   },
   {
    "duration": 21,
    "start_time": "2023-02-01T16:28:36.765Z"
   },
   {
    "duration": 54,
    "start_time": "2023-02-01T16:28:36.788Z"
   },
   {
    "duration": 16,
    "start_time": "2023-02-01T16:28:36.844Z"
   },
   {
    "duration": 13,
    "start_time": "2023-02-01T16:28:36.862Z"
   },
   {
    "duration": 7,
    "start_time": "2023-02-01T16:28:36.877Z"
   },
   {
    "duration": 45,
    "start_time": "2023-02-01T16:28:36.887Z"
   },
   {
    "duration": 5,
    "start_time": "2023-02-01T16:28:36.939Z"
   },
   {
    "duration": 6,
    "start_time": "2023-02-01T16:28:36.946Z"
   },
   {
    "duration": 7,
    "start_time": "2023-02-01T16:28:36.954Z"
   },
   {
    "duration": 6,
    "start_time": "2023-02-01T16:28:36.963Z"
   },
   {
    "duration": 28,
    "start_time": "2023-02-01T16:28:36.972Z"
   },
   {
    "duration": 28,
    "start_time": "2023-02-01T16:28:37.002Z"
   },
   {
    "duration": 23,
    "start_time": "2023-02-01T16:28:37.034Z"
   },
   {
    "duration": 9,
    "start_time": "2023-02-01T16:28:37.060Z"
   },
   {
    "duration": 8,
    "start_time": "2023-02-01T16:28:37.071Z"
   },
   {
    "duration": 9,
    "start_time": "2023-02-01T16:28:37.081Z"
   },
   {
    "duration": 36,
    "start_time": "2023-02-01T16:28:37.091Z"
   },
   {
    "duration": 26,
    "start_time": "2023-02-01T16:28:37.128Z"
   },
   {
    "duration": 726,
    "start_time": "2023-02-01T16:28:37.156Z"
   },
   {
    "duration": 10686,
    "start_time": "2023-02-01T16:28:37.884Z"
   },
   {
    "duration": 2856,
    "start_time": "2023-02-01T16:28:48.572Z"
   },
   {
    "duration": 150,
    "start_time": "2023-02-01T16:28:51.432Z"
   },
   {
    "duration": 528,
    "start_time": "2023-02-01T16:28:51.584Z"
   },
   {
    "duration": 129,
    "start_time": "2023-02-01T16:28:52.113Z"
   },
   {
    "duration": 294,
    "start_time": "2023-02-01T16:28:52.244Z"
   },
   {
    "duration": 624,
    "start_time": "2023-02-01T16:30:04.205Z"
   },
   {
    "duration": 1315,
    "start_time": "2023-02-01T16:30:13.416Z"
   },
   {
    "duration": 52,
    "start_time": "2023-02-01T16:30:14.738Z"
   },
   {
    "duration": 14,
    "start_time": "2023-02-01T16:30:14.792Z"
   },
   {
    "duration": 35,
    "start_time": "2023-02-01T16:30:14.808Z"
   },
   {
    "duration": 66,
    "start_time": "2023-02-01T16:30:14.848Z"
   },
   {
    "duration": 22,
    "start_time": "2023-02-01T16:30:14.916Z"
   },
   {
    "duration": 24,
    "start_time": "2023-02-01T16:30:14.949Z"
   },
   {
    "duration": 28,
    "start_time": "2023-02-01T16:30:14.976Z"
   },
   {
    "duration": 56,
    "start_time": "2023-02-01T16:30:15.006Z"
   },
   {
    "duration": 6,
    "start_time": "2023-02-01T16:30:15.064Z"
   },
   {
    "duration": 9,
    "start_time": "2023-02-01T16:30:15.072Z"
   },
   {
    "duration": 11,
    "start_time": "2023-02-01T16:30:15.085Z"
   },
   {
    "duration": 17,
    "start_time": "2023-02-01T16:30:15.099Z"
   },
   {
    "duration": 59,
    "start_time": "2023-02-01T16:30:15.120Z"
   },
   {
    "duration": 14,
    "start_time": "2023-02-01T16:30:15.181Z"
   },
   {
    "duration": 39,
    "start_time": "2023-02-01T16:30:15.198Z"
   },
   {
    "duration": 15,
    "start_time": "2023-02-01T16:30:15.239Z"
   },
   {
    "duration": 10,
    "start_time": "2023-02-01T16:30:15.256Z"
   },
   {
    "duration": 10,
    "start_time": "2023-02-01T16:30:15.268Z"
   },
   {
    "duration": 8,
    "start_time": "2023-02-01T16:30:15.280Z"
   },
   {
    "duration": 25,
    "start_time": "2023-02-01T16:30:15.290Z"
   },
   {
    "duration": 765,
    "start_time": "2023-02-01T16:30:15.316Z"
   },
   {
    "duration": 10959,
    "start_time": "2023-02-01T16:30:16.084Z"
   },
   {
    "duration": 2986,
    "start_time": "2023-02-01T16:30:27.045Z"
   },
   {
    "duration": 221,
    "start_time": "2023-02-01T16:30:30.033Z"
   },
   {
    "duration": 619,
    "start_time": "2023-02-01T16:30:30.256Z"
   },
   {
    "duration": 133,
    "start_time": "2023-02-01T16:30:30.877Z"
   },
   {
    "duration": 297,
    "start_time": "2023-02-01T16:30:31.012Z"
   },
   {
    "duration": 1214,
    "start_time": "2023-02-01T16:31:16.642Z"
   },
   {
    "duration": 45,
    "start_time": "2023-02-01T16:31:17.859Z"
   },
   {
    "duration": 9,
    "start_time": "2023-02-01T16:31:17.906Z"
   },
   {
    "duration": 32,
    "start_time": "2023-02-01T16:31:17.916Z"
   },
   {
    "duration": 63,
    "start_time": "2023-02-01T16:31:17.951Z"
   },
   {
    "duration": 17,
    "start_time": "2023-02-01T16:31:18.025Z"
   },
   {
    "duration": 12,
    "start_time": "2023-02-01T16:31:18.044Z"
   },
   {
    "duration": 9,
    "start_time": "2023-02-01T16:31:18.057Z"
   },
   {
    "duration": 22,
    "start_time": "2023-02-01T16:31:18.068Z"
   },
   {
    "duration": 6,
    "start_time": "2023-02-01T16:31:18.091Z"
   },
   {
    "duration": 17,
    "start_time": "2023-02-01T16:31:18.099Z"
   },
   {
    "duration": 30,
    "start_time": "2023-02-01T16:31:18.118Z"
   },
   {
    "duration": 8,
    "start_time": "2023-02-01T16:31:18.150Z"
   },
   {
    "duration": 28,
    "start_time": "2023-02-01T16:31:18.161Z"
   },
   {
    "duration": 10,
    "start_time": "2023-02-01T16:31:18.191Z"
   },
   {
    "duration": 27,
    "start_time": "2023-02-01T16:31:18.203Z"
   },
   {
    "duration": 22,
    "start_time": "2023-02-01T16:31:18.232Z"
   },
   {
    "duration": 26,
    "start_time": "2023-02-01T16:31:18.256Z"
   },
   {
    "duration": 17,
    "start_time": "2023-02-01T16:31:18.285Z"
   },
   {
    "duration": 31,
    "start_time": "2023-02-01T16:31:18.305Z"
   },
   {
    "duration": 31,
    "start_time": "2023-02-01T16:31:18.340Z"
   },
   {
    "duration": 680,
    "start_time": "2023-02-01T16:31:18.373Z"
   },
   {
    "duration": 10379,
    "start_time": "2023-02-01T16:31:19.054Z"
   },
   {
    "duration": 3608,
    "start_time": "2023-02-01T16:31:29.440Z"
   },
   {
    "duration": 222,
    "start_time": "2023-02-01T16:31:33.050Z"
   },
   {
    "duration": 534,
    "start_time": "2023-02-01T16:31:33.274Z"
   },
   {
    "duration": 134,
    "start_time": "2023-02-01T16:31:33.809Z"
   },
   {
    "duration": 287,
    "start_time": "2023-02-01T16:31:33.946Z"
   },
   {
    "duration": 174,
    "start_time": "2023-02-01T16:34:39.900Z"
   },
   {
    "duration": 6,
    "start_time": "2023-02-01T16:34:58.397Z"
   },
   {
    "duration": 1291,
    "start_time": "2023-02-01T16:35:04.885Z"
   },
   {
    "duration": 52,
    "start_time": "2023-02-01T16:35:06.178Z"
   },
   {
    "duration": 11,
    "start_time": "2023-02-01T16:35:06.232Z"
   },
   {
    "duration": 28,
    "start_time": "2023-02-01T16:35:06.245Z"
   },
   {
    "duration": 64,
    "start_time": "2023-02-01T16:35:06.276Z"
   },
   {
    "duration": 17,
    "start_time": "2023-02-01T16:35:06.343Z"
   },
   {
    "duration": 7,
    "start_time": "2023-02-01T16:35:06.362Z"
   },
   {
    "duration": 13,
    "start_time": "2023-02-01T16:35:06.371Z"
   },
   {
    "duration": 30,
    "start_time": "2023-02-01T16:35:06.386Z"
   },
   {
    "duration": 25,
    "start_time": "2023-02-01T16:35:06.418Z"
   },
   {
    "duration": 18,
    "start_time": "2023-02-01T16:35:06.446Z"
   },
   {
    "duration": 15,
    "start_time": "2023-02-01T16:35:06.466Z"
   },
   {
    "duration": 13,
    "start_time": "2023-02-01T16:35:06.483Z"
   },
   {
    "duration": 60,
    "start_time": "2023-02-01T16:35:06.499Z"
   },
   {
    "duration": 11,
    "start_time": "2023-02-01T16:35:06.561Z"
   },
   {
    "duration": 22,
    "start_time": "2023-02-01T16:35:06.574Z"
   },
   {
    "duration": 18,
    "start_time": "2023-02-01T16:35:06.598Z"
   },
   {
    "duration": 26,
    "start_time": "2023-02-01T16:35:06.618Z"
   },
   {
    "duration": 15,
    "start_time": "2023-02-01T16:35:06.647Z"
   },
   {
    "duration": 7,
    "start_time": "2023-02-01T16:35:06.664Z"
   },
   {
    "duration": 27,
    "start_time": "2023-02-01T16:35:06.673Z"
   },
   {
    "duration": 695,
    "start_time": "2023-02-01T16:35:06.702Z"
   },
   {
    "duration": 10800,
    "start_time": "2023-02-01T16:35:07.399Z"
   },
   {
    "duration": 2023,
    "start_time": "2023-02-01T16:35:18.201Z"
   },
   {
    "duration": 162,
    "start_time": "2023-02-01T16:35:20.230Z"
   },
   {
    "duration": 561,
    "start_time": "2023-02-01T16:35:20.394Z"
   },
   {
    "duration": 128,
    "start_time": "2023-02-01T16:35:20.957Z"
   },
   {
    "duration": 278,
    "start_time": "2023-02-01T16:35:21.086Z"
   },
   {
    "duration": 132,
    "start_time": "2023-02-01T16:35:21.366Z"
   },
   {
    "duration": 1650,
    "start_time": "2023-02-01T16:35:49.839Z"
   },
   {
    "duration": 56,
    "start_time": "2023-02-01T16:35:51.491Z"
   },
   {
    "duration": 6,
    "start_time": "2023-02-01T16:35:51.549Z"
   },
   {
    "duration": 18,
    "start_time": "2023-02-01T16:35:51.557Z"
   },
   {
    "duration": 61,
    "start_time": "2023-02-01T16:35:51.578Z"
   },
   {
    "duration": 14,
    "start_time": "2023-02-01T16:35:51.641Z"
   },
   {
    "duration": 6,
    "start_time": "2023-02-01T16:35:51.656Z"
   },
   {
    "duration": 8,
    "start_time": "2023-02-01T16:35:51.664Z"
   },
   {
    "duration": 15,
    "start_time": "2023-02-01T16:35:51.675Z"
   },
   {
    "duration": 35,
    "start_time": "2023-02-01T16:35:51.691Z"
   },
   {
    "duration": 19,
    "start_time": "2023-02-01T16:35:51.728Z"
   },
   {
    "duration": 10,
    "start_time": "2023-02-01T16:35:51.749Z"
   },
   {
    "duration": 11,
    "start_time": "2023-02-01T16:35:51.760Z"
   },
   {
    "duration": 30,
    "start_time": "2023-02-01T16:35:51.774Z"
   },
   {
    "duration": 12,
    "start_time": "2023-02-01T16:35:51.806Z"
   },
   {
    "duration": 36,
    "start_time": "2023-02-01T16:35:51.820Z"
   },
   {
    "duration": 7,
    "start_time": "2023-02-01T16:35:51.858Z"
   },
   {
    "duration": 8,
    "start_time": "2023-02-01T16:35:51.867Z"
   },
   {
    "duration": 15,
    "start_time": "2023-02-01T16:35:51.877Z"
   },
   {
    "duration": 4,
    "start_time": "2023-02-01T16:35:51.894Z"
   },
   {
    "duration": 28,
    "start_time": "2023-02-01T16:35:51.900Z"
   },
   {
    "duration": 700,
    "start_time": "2023-02-01T16:35:51.931Z"
   },
   {
    "duration": 10593,
    "start_time": "2023-02-01T16:35:52.635Z"
   },
   {
    "duration": 2314,
    "start_time": "2023-02-01T16:36:03.229Z"
   },
   {
    "duration": 225,
    "start_time": "2023-02-01T16:36:05.545Z"
   },
   {
    "duration": 541,
    "start_time": "2023-02-01T16:36:05.773Z"
   },
   {
    "duration": 152,
    "start_time": "2023-02-01T16:36:06.316Z"
   },
   {
    "duration": 292,
    "start_time": "2023-02-01T16:36:06.469Z"
   },
   {
    "duration": 169,
    "start_time": "2023-02-01T16:36:06.762Z"
   },
   {
    "duration": 111,
    "start_time": "2023-02-01T16:36:49.082Z"
   },
   {
    "duration": 1449,
    "start_time": "2023-02-01T16:37:17.617Z"
   },
   {
    "duration": 42,
    "start_time": "2023-02-01T16:37:19.068Z"
   },
   {
    "duration": 5,
    "start_time": "2023-02-01T16:37:19.112Z"
   },
   {
    "duration": 37,
    "start_time": "2023-02-01T16:37:19.120Z"
   },
   {
    "duration": 41,
    "start_time": "2023-02-01T16:37:19.158Z"
   },
   {
    "duration": 11,
    "start_time": "2023-02-01T16:37:19.201Z"
   },
   {
    "duration": 10,
    "start_time": "2023-02-01T16:37:19.214Z"
   },
   {
    "duration": 11,
    "start_time": "2023-02-01T16:37:19.232Z"
   },
   {
    "duration": 13,
    "start_time": "2023-02-01T16:37:19.244Z"
   },
   {
    "duration": 4,
    "start_time": "2023-02-01T16:37:19.259Z"
   },
   {
    "duration": 6,
    "start_time": "2023-02-01T16:37:19.265Z"
   },
   {
    "duration": 9,
    "start_time": "2023-02-01T16:37:19.272Z"
   },
   {
    "duration": 6,
    "start_time": "2023-02-01T16:37:19.283Z"
   },
   {
    "duration": 50,
    "start_time": "2023-02-01T16:37:19.290Z"
   },
   {
    "duration": 12,
    "start_time": "2023-02-01T16:37:19.342Z"
   },
   {
    "duration": 26,
    "start_time": "2023-02-01T16:37:19.356Z"
   },
   {
    "duration": 6,
    "start_time": "2023-02-01T16:37:19.384Z"
   },
   {
    "duration": 7,
    "start_time": "2023-02-01T16:37:19.391Z"
   },
   {
    "duration": 17,
    "start_time": "2023-02-01T16:37:19.421Z"
   },
   {
    "duration": 5,
    "start_time": "2023-02-01T16:37:19.440Z"
   },
   {
    "duration": 7,
    "start_time": "2023-02-01T16:37:19.446Z"
   },
   {
    "duration": 676,
    "start_time": "2023-02-01T16:37:19.455Z"
   },
   {
    "duration": 9970,
    "start_time": "2023-02-01T16:37:20.133Z"
   },
   {
    "duration": 1634,
    "start_time": "2023-02-01T16:37:30.105Z"
   },
   {
    "duration": 139,
    "start_time": "2023-02-01T16:37:31.742Z"
   },
   {
    "duration": 549,
    "start_time": "2023-02-01T16:37:31.883Z"
   },
   {
    "duration": 115,
    "start_time": "2023-02-01T16:37:32.434Z"
   },
   {
    "duration": 265,
    "start_time": "2023-02-01T16:37:32.553Z"
   },
   {
    "duration": 153,
    "start_time": "2023-02-01T16:37:32.821Z"
   },
   {
    "duration": 7,
    "start_time": "2023-02-01T16:37:32.976Z"
   },
   {
    "duration": 1434,
    "start_time": "2023-02-01T16:45:27.912Z"
   },
   {
    "duration": 42,
    "start_time": "2023-02-01T16:45:29.348Z"
   },
   {
    "duration": 6,
    "start_time": "2023-02-01T16:45:29.394Z"
   },
   {
    "duration": 32,
    "start_time": "2023-02-01T16:45:29.401Z"
   },
   {
    "duration": 44,
    "start_time": "2023-02-01T16:45:29.436Z"
   },
   {
    "duration": 15,
    "start_time": "2023-02-01T16:45:29.482Z"
   },
   {
    "duration": 6,
    "start_time": "2023-02-01T16:45:29.500Z"
   },
   {
    "duration": 30,
    "start_time": "2023-02-01T16:45:29.508Z"
   },
   {
    "duration": 17,
    "start_time": "2023-02-01T16:45:29.542Z"
   },
   {
    "duration": 5,
    "start_time": "2023-02-01T16:45:29.561Z"
   },
   {
    "duration": 5,
    "start_time": "2023-02-01T16:45:29.568Z"
   },
   {
    "duration": 10,
    "start_time": "2023-02-01T16:45:29.576Z"
   },
   {
    "duration": 12,
    "start_time": "2023-02-01T16:45:29.588Z"
   },
   {
    "duration": 48,
    "start_time": "2023-02-01T16:45:29.602Z"
   },
   {
    "duration": 10,
    "start_time": "2023-02-01T16:45:29.652Z"
   },
   {
    "duration": 24,
    "start_time": "2023-02-01T16:45:29.664Z"
   },
   {
    "duration": 8,
    "start_time": "2023-02-01T16:45:29.690Z"
   },
   {
    "duration": 14,
    "start_time": "2023-02-01T16:45:29.720Z"
   },
   {
    "duration": 18,
    "start_time": "2023-02-01T16:45:29.735Z"
   },
   {
    "duration": 5,
    "start_time": "2023-02-01T16:45:29.755Z"
   },
   {
    "duration": 9,
    "start_time": "2023-02-01T16:45:29.762Z"
   },
   {
    "duration": 734,
    "start_time": "2023-02-01T16:45:29.773Z"
   },
   {
    "duration": 10263,
    "start_time": "2023-02-01T16:45:30.509Z"
   },
   {
    "duration": 1061,
    "start_time": "2023-02-01T16:45:40.773Z"
   },
   {
    "duration": 205,
    "start_time": "2023-02-01T16:45:41.839Z"
   },
   {
    "duration": 550,
    "start_time": "2023-02-01T16:45:42.045Z"
   },
   {
    "duration": 146,
    "start_time": "2023-02-01T16:45:42.598Z"
   },
   {
    "duration": 278,
    "start_time": "2023-02-01T16:45:42.746Z"
   },
   {
    "duration": 163,
    "start_time": "2023-02-01T16:45:43.027Z"
   },
   {
    "duration": 7,
    "start_time": "2023-02-01T16:45:43.192Z"
   },
   {
    "duration": 1472,
    "start_time": "2023-02-01T16:46:08.618Z"
   },
   {
    "duration": 50,
    "start_time": "2023-02-01T16:46:10.093Z"
   },
   {
    "duration": 6,
    "start_time": "2023-02-01T16:46:10.145Z"
   },
   {
    "duration": 38,
    "start_time": "2023-02-01T16:46:10.152Z"
   },
   {
    "duration": 54,
    "start_time": "2023-02-01T16:46:10.193Z"
   },
   {
    "duration": 13,
    "start_time": "2023-02-01T16:46:10.249Z"
   },
   {
    "duration": 8,
    "start_time": "2023-02-01T16:46:10.264Z"
   },
   {
    "duration": 9,
    "start_time": "2023-02-01T16:46:10.274Z"
   },
   {
    "duration": 35,
    "start_time": "2023-02-01T16:46:10.285Z"
   },
   {
    "duration": 5,
    "start_time": "2023-02-01T16:46:10.323Z"
   },
   {
    "duration": 18,
    "start_time": "2023-02-01T16:46:10.329Z"
   },
   {
    "duration": 8,
    "start_time": "2023-02-01T16:46:10.349Z"
   },
   {
    "duration": 9,
    "start_time": "2023-02-01T16:46:10.360Z"
   },
   {
    "duration": 43,
    "start_time": "2023-02-01T16:46:10.372Z"
   },
   {
    "duration": 12,
    "start_time": "2023-02-01T16:46:10.416Z"
   },
   {
    "duration": 32,
    "start_time": "2023-02-01T16:46:10.429Z"
   },
   {
    "duration": 7,
    "start_time": "2023-02-01T16:46:10.463Z"
   },
   {
    "duration": 6,
    "start_time": "2023-02-01T16:46:10.472Z"
   },
   {
    "duration": 11,
    "start_time": "2023-02-01T16:46:10.479Z"
   },
   {
    "duration": 4,
    "start_time": "2023-02-01T16:46:10.492Z"
   },
   {
    "duration": 38,
    "start_time": "2023-02-01T16:46:10.498Z"
   },
   {
    "duration": 665,
    "start_time": "2023-02-01T16:46:10.537Z"
   },
   {
    "duration": 10403,
    "start_time": "2023-02-01T16:46:11.204Z"
   },
   {
    "duration": 915,
    "start_time": "2023-02-01T16:46:21.608Z"
   },
   {
    "duration": 160,
    "start_time": "2023-02-01T16:46:22.525Z"
   },
   {
    "duration": 537,
    "start_time": "2023-02-01T16:46:22.686Z"
   },
   {
    "duration": 133,
    "start_time": "2023-02-01T16:46:23.228Z"
   },
   {
    "duration": 277,
    "start_time": "2023-02-01T16:46:23.363Z"
   },
   {
    "duration": 188,
    "start_time": "2023-02-01T16:46:23.641Z"
   },
   {
    "duration": 11,
    "start_time": "2023-02-01T16:46:23.831Z"
   },
   {
    "duration": 1426,
    "start_time": "2023-02-01T16:46:50.435Z"
   },
   {
    "duration": 46,
    "start_time": "2023-02-01T16:46:51.863Z"
   },
   {
    "duration": 6,
    "start_time": "2023-02-01T16:46:51.910Z"
   },
   {
    "duration": 26,
    "start_time": "2023-02-01T16:46:51.918Z"
   },
   {
    "duration": 47,
    "start_time": "2023-02-01T16:46:51.946Z"
   },
   {
    "duration": 13,
    "start_time": "2023-02-01T16:46:51.995Z"
   },
   {
    "duration": 16,
    "start_time": "2023-02-01T16:46:52.010Z"
   },
   {
    "duration": 15,
    "start_time": "2023-02-01T16:46:52.029Z"
   },
   {
    "duration": 16,
    "start_time": "2023-02-01T16:46:52.047Z"
   },
   {
    "duration": 11,
    "start_time": "2023-02-01T16:46:52.065Z"
   },
   {
    "duration": 5,
    "start_time": "2023-02-01T16:46:52.078Z"
   },
   {
    "duration": 6,
    "start_time": "2023-02-01T16:46:52.085Z"
   },
   {
    "duration": 7,
    "start_time": "2023-02-01T16:46:52.093Z"
   },
   {
    "duration": 46,
    "start_time": "2023-02-01T16:46:52.103Z"
   },
   {
    "duration": 10,
    "start_time": "2023-02-01T16:46:52.151Z"
   },
   {
    "duration": 39,
    "start_time": "2023-02-01T16:46:52.162Z"
   },
   {
    "duration": 31,
    "start_time": "2023-02-01T16:46:52.202Z"
   },
   {
    "duration": 20,
    "start_time": "2023-02-01T16:46:52.234Z"
   },
   {
    "duration": 16,
    "start_time": "2023-02-01T16:46:52.256Z"
   },
   {
    "duration": 20,
    "start_time": "2023-02-01T16:46:52.274Z"
   },
   {
    "duration": 21,
    "start_time": "2023-02-01T16:46:52.295Z"
   },
   {
    "duration": 744,
    "start_time": "2023-02-01T16:46:52.318Z"
   },
   {
    "duration": 10391,
    "start_time": "2023-02-01T16:46:53.064Z"
   },
   {
    "duration": 4177,
    "start_time": "2023-02-01T16:47:03.457Z"
   },
   {
    "duration": 149,
    "start_time": "2023-02-01T16:47:07.636Z"
   },
   {
    "duration": 661,
    "start_time": "2023-02-01T16:47:07.788Z"
   },
   {
    "duration": 126,
    "start_time": "2023-02-01T16:47:08.451Z"
   },
   {
    "duration": 278,
    "start_time": "2023-02-01T16:47:08.578Z"
   },
   {
    "duration": 162,
    "start_time": "2023-02-01T16:47:08.857Z"
   },
   {
    "duration": 16,
    "start_time": "2023-02-01T16:47:09.021Z"
   },
   {
    "duration": 1383,
    "start_time": "2023-02-01T16:48:02.217Z"
   },
   {
    "duration": 43,
    "start_time": "2023-02-01T16:48:03.602Z"
   },
   {
    "duration": 6,
    "start_time": "2023-02-01T16:48:03.647Z"
   },
   {
    "duration": 20,
    "start_time": "2023-02-01T16:48:03.654Z"
   },
   {
    "duration": 51,
    "start_time": "2023-02-01T16:48:03.676Z"
   },
   {
    "duration": 13,
    "start_time": "2023-02-01T16:48:03.729Z"
   },
   {
    "duration": 5,
    "start_time": "2023-02-01T16:48:03.743Z"
   },
   {
    "duration": 7,
    "start_time": "2023-02-01T16:48:03.750Z"
   },
   {
    "duration": 14,
    "start_time": "2023-02-01T16:48:03.758Z"
   },
   {
    "duration": 3,
    "start_time": "2023-02-01T16:48:03.774Z"
   },
   {
    "duration": 6,
    "start_time": "2023-02-01T16:48:03.779Z"
   },
   {
    "duration": 40,
    "start_time": "2023-02-01T16:48:03.786Z"
   },
   {
    "duration": 9,
    "start_time": "2023-02-01T16:48:03.827Z"
   },
   {
    "duration": 121,
    "start_time": "2023-02-01T16:48:03.839Z"
   },
   {
    "duration": 0,
    "start_time": "2023-02-01T16:48:03.962Z"
   },
   {
    "duration": 0,
    "start_time": "2023-02-01T16:48:03.963Z"
   },
   {
    "duration": 0,
    "start_time": "2023-02-01T16:48:03.964Z"
   },
   {
    "duration": 0,
    "start_time": "2023-02-01T16:48:03.966Z"
   },
   {
    "duration": 0,
    "start_time": "2023-02-01T16:48:03.968Z"
   },
   {
    "duration": 0,
    "start_time": "2023-02-01T16:48:03.970Z"
   },
   {
    "duration": 0,
    "start_time": "2023-02-01T16:48:03.971Z"
   },
   {
    "duration": 0,
    "start_time": "2023-02-01T16:48:03.972Z"
   },
   {
    "duration": 0,
    "start_time": "2023-02-01T16:48:03.974Z"
   },
   {
    "duration": 0,
    "start_time": "2023-02-01T16:48:03.975Z"
   },
   {
    "duration": 0,
    "start_time": "2023-02-01T16:48:03.976Z"
   },
   {
    "duration": 0,
    "start_time": "2023-02-01T16:48:03.979Z"
   },
   {
    "duration": 0,
    "start_time": "2023-02-01T16:48:03.980Z"
   },
   {
    "duration": 0,
    "start_time": "2023-02-01T16:48:03.981Z"
   },
   {
    "duration": 0,
    "start_time": "2023-02-01T16:48:03.982Z"
   },
   {
    "duration": 0,
    "start_time": "2023-02-01T16:48:04.021Z"
   },
   {
    "duration": 1473,
    "start_time": "2023-02-01T16:50:24.894Z"
   },
   {
    "duration": 43,
    "start_time": "2023-02-01T16:50:26.370Z"
   },
   {
    "duration": 5,
    "start_time": "2023-02-01T16:50:26.415Z"
   },
   {
    "duration": 20,
    "start_time": "2023-02-01T16:50:26.423Z"
   },
   {
    "duration": 44,
    "start_time": "2023-02-01T16:50:26.445Z"
   },
   {
    "duration": 35,
    "start_time": "2023-02-01T16:50:26.491Z"
   },
   {
    "duration": 6,
    "start_time": "2023-02-01T16:50:26.527Z"
   },
   {
    "duration": 9,
    "start_time": "2023-02-01T16:50:26.536Z"
   },
   {
    "duration": 19,
    "start_time": "2023-02-01T16:50:26.547Z"
   },
   {
    "duration": 3,
    "start_time": "2023-02-01T16:50:26.569Z"
   },
   {
    "duration": 8,
    "start_time": "2023-02-01T16:50:26.574Z"
   },
   {
    "duration": 11,
    "start_time": "2023-02-01T16:50:26.584Z"
   },
   {
    "duration": 7,
    "start_time": "2023-02-01T16:50:26.621Z"
   },
   {
    "duration": 46,
    "start_time": "2023-02-01T16:50:26.629Z"
   },
   {
    "duration": 10,
    "start_time": "2023-02-01T16:50:26.677Z"
   },
   {
    "duration": 34,
    "start_time": "2023-02-01T16:50:26.689Z"
   },
   {
    "duration": 6,
    "start_time": "2023-02-01T16:50:26.725Z"
   },
   {
    "duration": 7,
    "start_time": "2023-02-01T16:50:26.732Z"
   },
   {
    "duration": 22,
    "start_time": "2023-02-01T16:50:26.741Z"
   },
   {
    "duration": 6,
    "start_time": "2023-02-01T16:50:26.764Z"
   },
   {
    "duration": 8,
    "start_time": "2023-02-01T16:50:26.772Z"
   },
   {
    "duration": 695,
    "start_time": "2023-02-01T16:50:26.781Z"
   },
   {
    "duration": 9855,
    "start_time": "2023-02-01T16:50:27.477Z"
   },
   {
    "duration": 787,
    "start_time": "2023-02-01T16:50:37.334Z"
   },
   {
    "duration": 156,
    "start_time": "2023-02-01T16:50:38.123Z"
   },
   {
    "duration": 573,
    "start_time": "2023-02-01T16:50:38.281Z"
   },
   {
    "duration": 134,
    "start_time": "2023-02-01T16:50:38.856Z"
   },
   {
    "duration": 270,
    "start_time": "2023-02-01T16:50:38.994Z"
   },
   {
    "duration": 155,
    "start_time": "2023-02-01T16:50:39.266Z"
   },
   {
    "duration": 6,
    "start_time": "2023-02-01T16:50:39.423Z"
   },
   {
    "duration": 119,
    "start_time": "2023-02-01T17:01:00.886Z"
   },
   {
    "duration": 1468,
    "start_time": "2023-02-01T17:02:58.009Z"
   },
   {
    "duration": 52,
    "start_time": "2023-02-01T17:02:59.479Z"
   },
   {
    "duration": 6,
    "start_time": "2023-02-01T17:02:59.536Z"
   },
   {
    "duration": 17,
    "start_time": "2023-02-01T17:02:59.545Z"
   },
   {
    "duration": 42,
    "start_time": "2023-02-01T17:02:59.564Z"
   },
   {
    "duration": 18,
    "start_time": "2023-02-01T17:02:59.620Z"
   },
   {
    "duration": 9,
    "start_time": "2023-02-01T17:02:59.640Z"
   },
   {
    "duration": 6,
    "start_time": "2023-02-01T17:02:59.651Z"
   },
   {
    "duration": 15,
    "start_time": "2023-02-01T17:02:59.659Z"
   },
   {
    "duration": 5,
    "start_time": "2023-02-01T17:02:59.677Z"
   },
   {
    "duration": 10,
    "start_time": "2023-02-01T17:02:59.684Z"
   },
   {
    "duration": 26,
    "start_time": "2023-02-01T17:02:59.696Z"
   },
   {
    "duration": 18,
    "start_time": "2023-02-01T17:02:59.724Z"
   },
   {
    "duration": 32,
    "start_time": "2023-02-01T17:02:59.744Z"
   },
   {
    "duration": 12,
    "start_time": "2023-02-01T17:02:59.778Z"
   },
   {
    "duration": 42,
    "start_time": "2023-02-01T17:02:59.792Z"
   },
   {
    "duration": 10,
    "start_time": "2023-02-01T17:02:59.840Z"
   },
   {
    "duration": 7,
    "start_time": "2023-02-01T17:02:59.852Z"
   },
   {
    "duration": 13,
    "start_time": "2023-02-01T17:02:59.860Z"
   },
   {
    "duration": 5,
    "start_time": "2023-02-01T17:02:59.875Z"
   },
   {
    "duration": 8,
    "start_time": "2023-02-01T17:02:59.882Z"
   },
   {
    "duration": 773,
    "start_time": "2023-02-01T17:02:59.892Z"
   },
   {
    "duration": 10322,
    "start_time": "2023-02-01T17:03:00.667Z"
   },
   {
    "duration": 2659,
    "start_time": "2023-02-01T17:03:10.990Z"
   },
   {
    "duration": 67,
    "start_time": "2023-02-01T17:03:13.652Z"
   },
   {
    "duration": 535,
    "start_time": "2023-02-01T17:03:13.727Z"
   },
   {
    "duration": 137,
    "start_time": "2023-02-01T17:03:14.264Z"
   },
   {
    "duration": 304,
    "start_time": "2023-02-01T17:03:14.405Z"
   },
   {
    "duration": 1519,
    "start_time": "2023-02-01T17:03:53.793Z"
   },
   {
    "duration": 45,
    "start_time": "2023-02-01T17:03:55.314Z"
   },
   {
    "duration": 6,
    "start_time": "2023-02-01T17:03:55.360Z"
   },
   {
    "duration": 23,
    "start_time": "2023-02-01T17:03:55.368Z"
   },
   {
    "duration": 46,
    "start_time": "2023-02-01T17:03:55.393Z"
   },
   {
    "duration": 12,
    "start_time": "2023-02-01T17:03:55.441Z"
   },
   {
    "duration": 5,
    "start_time": "2023-02-01T17:03:55.455Z"
   },
   {
    "duration": 8,
    "start_time": "2023-02-01T17:03:55.461Z"
   },
   {
    "duration": 15,
    "start_time": "2023-02-01T17:03:55.471Z"
   },
   {
    "duration": 4,
    "start_time": "2023-02-01T17:03:55.489Z"
   },
   {
    "duration": 31,
    "start_time": "2023-02-01T17:03:55.495Z"
   },
   {
    "duration": 8,
    "start_time": "2023-02-01T17:03:55.527Z"
   },
   {
    "duration": 9,
    "start_time": "2023-02-01T17:03:55.537Z"
   },
   {
    "duration": 35,
    "start_time": "2023-02-01T17:03:55.548Z"
   },
   {
    "duration": 11,
    "start_time": "2023-02-01T17:03:55.584Z"
   },
   {
    "duration": 43,
    "start_time": "2023-02-01T17:03:55.597Z"
   },
   {
    "duration": 6,
    "start_time": "2023-02-01T17:03:55.642Z"
   },
   {
    "duration": 7,
    "start_time": "2023-02-01T17:03:55.650Z"
   },
   {
    "duration": 11,
    "start_time": "2023-02-01T17:03:55.659Z"
   },
   {
    "duration": 4,
    "start_time": "2023-02-01T17:03:55.672Z"
   },
   {
    "duration": 8,
    "start_time": "2023-02-01T17:03:55.679Z"
   },
   {
    "duration": 721,
    "start_time": "2023-02-01T17:03:55.688Z"
   },
   {
    "duration": 10274,
    "start_time": "2023-02-01T17:03:56.410Z"
   },
   {
    "duration": 2233,
    "start_time": "2023-02-01T17:04:06.686Z"
   },
   {
    "duration": 75,
    "start_time": "2023-02-01T17:04:08.920Z"
   },
   {
    "duration": 542,
    "start_time": "2023-02-01T17:04:08.997Z"
   },
   {
    "duration": 126,
    "start_time": "2023-02-01T17:04:09.541Z"
   },
   {
    "duration": 272,
    "start_time": "2023-02-01T17:04:09.670Z"
   },
   {
    "duration": 2781,
    "start_time": "2023-02-01T17:04:52.445Z"
   },
   {
    "duration": 262,
    "start_time": "2023-02-01T17:08:38.294Z"
   },
   {
    "duration": 523,
    "start_time": "2023-02-01T17:09:02.260Z"
   },
   {
    "duration": 65,
    "start_time": "2023-02-01T17:10:27.094Z"
   },
   {
    "duration": 125,
    "start_time": "2023-02-01T17:10:35.837Z"
   },
   {
    "duration": 1435,
    "start_time": "2023-02-01T17:11:57.547Z"
   },
   {
    "duration": 57,
    "start_time": "2023-02-01T17:11:58.985Z"
   },
   {
    "duration": 6,
    "start_time": "2023-02-01T17:11:59.045Z"
   },
   {
    "duration": 25,
    "start_time": "2023-02-01T17:11:59.053Z"
   },
   {
    "duration": 58,
    "start_time": "2023-02-01T17:11:59.081Z"
   },
   {
    "duration": 13,
    "start_time": "2023-02-01T17:11:59.141Z"
   },
   {
    "duration": 4,
    "start_time": "2023-02-01T17:11:59.156Z"
   },
   {
    "duration": 9,
    "start_time": "2023-02-01T17:11:59.162Z"
   },
   {
    "duration": 14,
    "start_time": "2023-02-01T17:11:59.172Z"
   },
   {
    "duration": 4,
    "start_time": "2023-02-01T17:11:59.187Z"
   },
   {
    "duration": 30,
    "start_time": "2023-02-01T17:11:59.193Z"
   },
   {
    "duration": 13,
    "start_time": "2023-02-01T17:11:59.233Z"
   },
   {
    "duration": 5,
    "start_time": "2023-02-01T17:11:59.248Z"
   },
   {
    "duration": 29,
    "start_time": "2023-02-01T17:11:59.256Z"
   },
   {
    "duration": 12,
    "start_time": "2023-02-01T17:11:59.287Z"
   },
   {
    "duration": 41,
    "start_time": "2023-02-01T17:11:59.301Z"
   },
   {
    "duration": 6,
    "start_time": "2023-02-01T17:11:59.344Z"
   },
   {
    "duration": 8,
    "start_time": "2023-02-01T17:11:59.352Z"
   },
   {
    "duration": 11,
    "start_time": "2023-02-01T17:11:59.361Z"
   },
   {
    "duration": 4,
    "start_time": "2023-02-01T17:11:59.374Z"
   },
   {
    "duration": 11,
    "start_time": "2023-02-01T17:11:59.380Z"
   },
   {
    "duration": 708,
    "start_time": "2023-02-01T17:11:59.393Z"
   },
   {
    "duration": 10634,
    "start_time": "2023-02-01T17:12:00.102Z"
   },
   {
    "duration": 2588,
    "start_time": "2023-02-01T17:12:10.740Z"
   },
   {
    "duration": 370,
    "start_time": "2023-02-01T17:12:13.329Z"
   },
   {
    "duration": 536,
    "start_time": "2023-02-01T17:12:13.701Z"
   },
   {
    "duration": 129,
    "start_time": "2023-02-01T17:12:14.239Z"
   },
   {
    "duration": 319,
    "start_time": "2023-02-01T17:12:14.369Z"
   },
   {
    "duration": 1526,
    "start_time": "2023-02-02T06:33:34.183Z"
   },
   {
    "duration": 86,
    "start_time": "2023-02-02T06:33:35.713Z"
   },
   {
    "duration": 7,
    "start_time": "2023-02-02T06:33:35.802Z"
   },
   {
    "duration": 36,
    "start_time": "2023-02-02T06:33:35.812Z"
   },
   {
    "duration": 78,
    "start_time": "2023-02-02T06:33:35.849Z"
   },
   {
    "duration": 12,
    "start_time": "2023-02-02T06:33:35.929Z"
   },
   {
    "duration": 4,
    "start_time": "2023-02-02T06:33:35.943Z"
   },
   {
    "duration": 27,
    "start_time": "2023-02-02T06:33:35.948Z"
   },
   {
    "duration": 27,
    "start_time": "2023-02-02T06:33:35.977Z"
   },
   {
    "duration": 7,
    "start_time": "2023-02-02T06:33:36.007Z"
   },
   {
    "duration": 28,
    "start_time": "2023-02-02T06:33:36.016Z"
   },
   {
    "duration": 16,
    "start_time": "2023-02-02T06:33:36.045Z"
   },
   {
    "duration": 6,
    "start_time": "2023-02-02T06:33:36.062Z"
   },
   {
    "duration": 31,
    "start_time": "2023-02-02T06:33:36.069Z"
   },
   {
    "duration": 12,
    "start_time": "2023-02-02T06:33:36.102Z"
   },
   {
    "duration": 33,
    "start_time": "2023-02-02T06:33:36.116Z"
   },
   {
    "duration": 9,
    "start_time": "2023-02-02T06:33:36.151Z"
   },
   {
    "duration": 6,
    "start_time": "2023-02-02T06:33:36.162Z"
   },
   {
    "duration": 37,
    "start_time": "2023-02-02T06:33:36.170Z"
   },
   {
    "duration": 20,
    "start_time": "2023-02-02T06:33:36.208Z"
   },
   {
    "duration": 12,
    "start_time": "2023-02-02T06:33:36.230Z"
   },
   {
    "duration": 687,
    "start_time": "2023-02-02T06:33:36.244Z"
   },
   {
    "duration": 14844,
    "start_time": "2023-02-02T06:33:36.933Z"
   },
   {
    "duration": 2506,
    "start_time": "2023-02-02T06:33:51.779Z"
   },
   {
    "duration": 381,
    "start_time": "2023-02-02T06:33:54.287Z"
   },
   {
    "duration": 566,
    "start_time": "2023-02-02T06:33:54.670Z"
   },
   {
    "duration": 134,
    "start_time": "2023-02-02T06:33:55.238Z"
   },
   {
    "duration": 302,
    "start_time": "2023-02-02T06:33:55.375Z"
   },
   {
    "duration": 1996,
    "start_time": "2023-02-02T07:33:54.791Z"
   },
   {
    "duration": 199,
    "start_time": "2023-02-02T07:33:56.789Z"
   },
   {
    "duration": 8,
    "start_time": "2023-02-02T07:33:56.990Z"
   },
   {
    "duration": 25,
    "start_time": "2023-02-02T07:33:57.000Z"
   },
   {
    "duration": 41,
    "start_time": "2023-02-02T07:33:57.027Z"
   },
   {
    "duration": 25,
    "start_time": "2023-02-02T07:33:57.091Z"
   },
   {
    "duration": 7,
    "start_time": "2023-02-02T07:33:57.118Z"
   },
   {
    "duration": 13,
    "start_time": "2023-02-02T07:33:57.127Z"
   },
   {
    "duration": 28,
    "start_time": "2023-02-02T07:33:57.142Z"
   },
   {
    "duration": 5,
    "start_time": "2023-02-02T07:33:57.172Z"
   },
   {
    "duration": 44,
    "start_time": "2023-02-02T07:33:57.179Z"
   },
   {
    "duration": 9,
    "start_time": "2023-02-02T07:33:57.225Z"
   },
   {
    "duration": 14,
    "start_time": "2023-02-02T07:33:57.236Z"
   },
   {
    "duration": 30,
    "start_time": "2023-02-02T07:33:57.254Z"
   },
   {
    "duration": 18,
    "start_time": "2023-02-02T07:33:57.286Z"
   },
   {
    "duration": 47,
    "start_time": "2023-02-02T07:33:57.306Z"
   },
   {
    "duration": 21,
    "start_time": "2023-02-02T07:33:57.355Z"
   },
   {
    "duration": 19,
    "start_time": "2023-02-02T07:33:57.378Z"
   },
   {
    "duration": 55,
    "start_time": "2023-02-02T07:33:57.401Z"
   },
   {
    "duration": 0,
    "start_time": "2023-02-02T07:33:57.458Z"
   },
   {
    "duration": 0,
    "start_time": "2023-02-02T07:33:57.459Z"
   },
   {
    "duration": 0,
    "start_time": "2023-02-02T07:33:57.460Z"
   },
   {
    "duration": 0,
    "start_time": "2023-02-02T07:33:57.461Z"
   },
   {
    "duration": 0,
    "start_time": "2023-02-02T07:33:57.463Z"
   },
   {
    "duration": 0,
    "start_time": "2023-02-02T07:33:57.464Z"
   },
   {
    "duration": 0,
    "start_time": "2023-02-02T07:33:57.465Z"
   },
   {
    "duration": 0,
    "start_time": "2023-02-02T07:33:57.466Z"
   },
   {
    "duration": 0,
    "start_time": "2023-02-02T07:33:57.467Z"
   },
   {
    "duration": 166,
    "start_time": "2023-02-02T07:34:12.436Z"
   },
   {
    "duration": 21,
    "start_time": "2023-02-02T07:34:26.995Z"
   },
   {
    "duration": 5,
    "start_time": "2023-02-02T07:34:30.522Z"
   },
   {
    "duration": 1558,
    "start_time": "2023-02-02T07:34:36.317Z"
   },
   {
    "duration": 51,
    "start_time": "2023-02-02T07:34:37.877Z"
   },
   {
    "duration": 10,
    "start_time": "2023-02-02T07:34:37.930Z"
   },
   {
    "duration": 27,
    "start_time": "2023-02-02T07:34:37.943Z"
   },
   {
    "duration": 52,
    "start_time": "2023-02-02T07:34:37.972Z"
   },
   {
    "duration": 14,
    "start_time": "2023-02-02T07:34:38.026Z"
   },
   {
    "duration": 6,
    "start_time": "2023-02-02T07:34:38.042Z"
   },
   {
    "duration": 19,
    "start_time": "2023-02-02T07:34:38.050Z"
   },
   {
    "duration": 29,
    "start_time": "2023-02-02T07:34:38.071Z"
   },
   {
    "duration": 4,
    "start_time": "2023-02-02T07:34:38.104Z"
   },
   {
    "duration": 18,
    "start_time": "2023-02-02T07:34:38.110Z"
   },
   {
    "duration": 7,
    "start_time": "2023-02-02T07:34:38.130Z"
   },
   {
    "duration": 8,
    "start_time": "2023-02-02T07:34:38.139Z"
   },
   {
    "duration": 30,
    "start_time": "2023-02-02T07:34:38.149Z"
   },
   {
    "duration": 21,
    "start_time": "2023-02-02T07:34:38.193Z"
   },
   {
    "duration": 24,
    "start_time": "2023-02-02T07:34:38.221Z"
   },
   {
    "duration": 14,
    "start_time": "2023-02-02T07:34:38.247Z"
   },
   {
    "duration": 11,
    "start_time": "2023-02-02T07:34:38.264Z"
   },
   {
    "duration": 22,
    "start_time": "2023-02-02T07:34:38.277Z"
   },
   {
    "duration": 9,
    "start_time": "2023-02-02T07:34:38.301Z"
   },
   {
    "duration": 16,
    "start_time": "2023-02-02T07:34:38.312Z"
   },
   {
    "duration": 690,
    "start_time": "2023-02-02T07:34:38.330Z"
   },
   {
    "duration": 10706,
    "start_time": "2023-02-02T07:34:39.021Z"
   },
   {
    "duration": 4474,
    "start_time": "2023-02-02T07:34:49.729Z"
   },
   {
    "duration": 373,
    "start_time": "2023-02-02T07:34:54.209Z"
   },
   {
    "duration": 580,
    "start_time": "2023-02-02T07:34:54.584Z"
   },
   {
    "duration": 152,
    "start_time": "2023-02-02T07:34:55.166Z"
   },
   {
    "duration": 295,
    "start_time": "2023-02-02T07:34:55.322Z"
   },
   {
    "duration": 117248,
    "start_time": "2023-02-02T07:35:17.082Z"
   },
   {
    "duration": 1429,
    "start_time": "2023-02-02T07:38:13.213Z"
   },
   {
    "duration": 44,
    "start_time": "2023-02-02T07:38:14.644Z"
   },
   {
    "duration": 18,
    "start_time": "2023-02-02T07:38:14.690Z"
   },
   {
    "duration": 20,
    "start_time": "2023-02-02T07:38:14.710Z"
   },
   {
    "duration": 44,
    "start_time": "2023-02-02T07:38:14.733Z"
   },
   {
    "duration": 32,
    "start_time": "2023-02-02T07:38:14.779Z"
   },
   {
    "duration": 9,
    "start_time": "2023-02-02T07:38:14.813Z"
   },
   {
    "duration": 33,
    "start_time": "2023-02-02T07:38:14.824Z"
   },
   {
    "duration": 23,
    "start_time": "2023-02-02T07:38:14.858Z"
   },
   {
    "duration": 27,
    "start_time": "2023-02-02T07:38:14.883Z"
   },
   {
    "duration": 20,
    "start_time": "2023-02-02T07:38:14.913Z"
   },
   {
    "duration": 21,
    "start_time": "2023-02-02T07:38:14.934Z"
   },
   {
    "duration": 27,
    "start_time": "2023-02-02T07:38:14.956Z"
   },
   {
    "duration": 47,
    "start_time": "2023-02-02T07:38:14.986Z"
   },
   {
    "duration": 23,
    "start_time": "2023-02-02T07:38:15.034Z"
   },
   {
    "duration": 22,
    "start_time": "2023-02-02T07:38:15.058Z"
   },
   {
    "duration": 10,
    "start_time": "2023-02-02T07:38:15.082Z"
   },
   {
    "duration": 29,
    "start_time": "2023-02-02T07:38:15.093Z"
   },
   {
    "duration": 12,
    "start_time": "2023-02-02T07:38:15.123Z"
   },
   {
    "duration": 3,
    "start_time": "2023-02-02T07:38:15.137Z"
   },
   {
    "duration": 9,
    "start_time": "2023-02-02T07:38:15.142Z"
   },
   {
    "duration": 679,
    "start_time": "2023-02-02T07:38:15.153Z"
   },
   {
    "duration": 119677,
    "start_time": "2023-02-02T07:38:15.834Z"
   },
   {
    "duration": 781,
    "start_time": "2023-02-02T07:40:15.513Z"
   },
   {
    "duration": 366,
    "start_time": "2023-02-02T07:40:16.296Z"
   },
   {
    "duration": 522,
    "start_time": "2023-02-02T07:40:16.664Z"
   },
   {
    "duration": 152,
    "start_time": "2023-02-02T07:40:17.193Z"
   },
   {
    "duration": 268,
    "start_time": "2023-02-02T07:40:17.348Z"
   },
   {
    "duration": 24,
    "start_time": "2023-02-02T07:43:44.601Z"
   },
   {
    "duration": 51,
    "start_time": "2023-02-03T17:41:30.492Z"
   },
   {
    "duration": 7,
    "start_time": "2023-02-03T17:48:51.034Z"
   },
   {
    "duration": 1721,
    "start_time": "2023-02-03T17:48:59.987Z"
   },
   {
    "duration": 88,
    "start_time": "2023-02-03T17:49:01.710Z"
   },
   {
    "duration": 6,
    "start_time": "2023-02-03T17:49:01.800Z"
   },
   {
    "duration": 57,
    "start_time": "2023-02-03T17:49:01.808Z"
   },
   {
    "duration": 65,
    "start_time": "2023-02-03T17:49:01.866Z"
   },
   {
    "duration": 14,
    "start_time": "2023-02-03T17:49:01.933Z"
   },
   {
    "duration": 15,
    "start_time": "2023-02-03T17:49:01.949Z"
   },
   {
    "duration": 27,
    "start_time": "2023-02-03T17:49:01.966Z"
   },
   {
    "duration": 33,
    "start_time": "2023-02-03T17:49:01.995Z"
   },
   {
    "duration": 5,
    "start_time": "2023-02-03T17:49:02.032Z"
   },
   {
    "duration": 38,
    "start_time": "2023-02-03T17:49:02.040Z"
   },
   {
    "duration": 24,
    "start_time": "2023-02-03T17:49:02.080Z"
   },
   {
    "duration": 41,
    "start_time": "2023-02-03T17:49:02.106Z"
   },
   {
    "duration": 15,
    "start_time": "2023-02-03T17:49:02.149Z"
   },
   {
    "duration": 34,
    "start_time": "2023-02-03T17:49:02.166Z"
   },
   {
    "duration": 42,
    "start_time": "2023-02-03T17:49:02.202Z"
   },
   {
    "duration": 26,
    "start_time": "2023-02-03T17:49:02.246Z"
   },
   {
    "duration": 12,
    "start_time": "2023-02-03T17:49:02.274Z"
   },
   {
    "duration": 20,
    "start_time": "2023-02-03T17:49:02.287Z"
   },
   {
    "duration": 9,
    "start_time": "2023-02-03T17:49:02.308Z"
   },
   {
    "duration": 32,
    "start_time": "2023-02-03T17:49:02.319Z"
   },
   {
    "duration": 208,
    "start_time": "2023-02-03T17:49:02.353Z"
   },
   {
    "duration": 87,
    "start_time": "2023-02-03T17:49:02.562Z"
   },
   {
    "duration": 81,
    "start_time": "2023-02-03T17:49:02.651Z"
   },
   {
    "duration": 18,
    "start_time": "2023-02-03T17:49:02.734Z"
   },
   {
    "duration": 0,
    "start_time": "2023-02-03T17:49:02.753Z"
   },
   {
    "duration": 0,
    "start_time": "2023-02-03T17:49:02.754Z"
   },
   {
    "duration": 0,
    "start_time": "2023-02-03T17:49:02.755Z"
   },
   {
    "duration": 19,
    "start_time": "2023-02-03T18:13:13.223Z"
   },
   {
    "duration": 17,
    "start_time": "2023-02-03T18:19:16.102Z"
   },
   {
    "duration": 4,
    "start_time": "2023-02-03T18:19:44.965Z"
   },
   {
    "duration": 26,
    "start_time": "2023-02-03T18:25:54.642Z"
   },
   {
    "duration": 138,
    "start_time": "2023-02-03T18:26:43.122Z"
   },
   {
    "duration": 140,
    "start_time": "2023-02-03T18:28:41.496Z"
   },
   {
    "duration": 123,
    "start_time": "2023-02-03T18:29:31.475Z"
   },
   {
    "duration": 118,
    "start_time": "2023-02-03T18:29:34.356Z"
   },
   {
    "duration": 86,
    "start_time": "2023-02-03T18:31:24.388Z"
   },
   {
    "duration": 1394,
    "start_time": "2023-02-03T18:33:51.051Z"
   },
   {
    "duration": 39,
    "start_time": "2023-02-03T18:33:52.447Z"
   },
   {
    "duration": 5,
    "start_time": "2023-02-03T18:33:52.488Z"
   },
   {
    "duration": 24,
    "start_time": "2023-02-03T18:33:52.495Z"
   },
   {
    "duration": 42,
    "start_time": "2023-02-03T18:33:52.520Z"
   },
   {
    "duration": 32,
    "start_time": "2023-02-03T18:33:52.564Z"
   },
   {
    "duration": 15,
    "start_time": "2023-02-03T18:33:52.598Z"
   },
   {
    "duration": 6,
    "start_time": "2023-02-03T18:33:52.615Z"
   },
   {
    "duration": 16,
    "start_time": "2023-02-03T18:33:52.623Z"
   },
   {
    "duration": 4,
    "start_time": "2023-02-03T18:33:52.644Z"
   },
   {
    "duration": 7,
    "start_time": "2023-02-03T18:33:52.650Z"
   },
   {
    "duration": 6,
    "start_time": "2023-02-03T18:33:52.684Z"
   },
   {
    "duration": 7,
    "start_time": "2023-02-03T18:33:52.692Z"
   },
   {
    "duration": 122,
    "start_time": "2023-02-03T18:33:52.701Z"
   },
   {
    "duration": 0,
    "start_time": "2023-02-03T18:33:52.825Z"
   },
   {
    "duration": 0,
    "start_time": "2023-02-03T18:33:52.827Z"
   },
   {
    "duration": 0,
    "start_time": "2023-02-03T18:33:52.828Z"
   },
   {
    "duration": 0,
    "start_time": "2023-02-03T18:33:52.830Z"
   },
   {
    "duration": 0,
    "start_time": "2023-02-03T18:33:52.832Z"
   },
   {
    "duration": 0,
    "start_time": "2023-02-03T18:33:52.833Z"
   },
   {
    "duration": 0,
    "start_time": "2023-02-03T18:33:52.834Z"
   },
   {
    "duration": 0,
    "start_time": "2023-02-03T18:33:52.836Z"
   },
   {
    "duration": 0,
    "start_time": "2023-02-03T18:33:52.839Z"
   },
   {
    "duration": 0,
    "start_time": "2023-02-03T18:33:52.841Z"
   },
   {
    "duration": 0,
    "start_time": "2023-02-03T18:33:52.842Z"
   },
   {
    "duration": 0,
    "start_time": "2023-02-03T18:33:52.844Z"
   },
   {
    "duration": 0,
    "start_time": "2023-02-03T18:33:52.845Z"
   },
   {
    "duration": 0,
    "start_time": "2023-02-03T18:33:52.885Z"
   },
   {
    "duration": 0,
    "start_time": "2023-02-03T18:33:52.886Z"
   },
   {
    "duration": 0,
    "start_time": "2023-02-03T18:33:52.888Z"
   },
   {
    "duration": 0,
    "start_time": "2023-02-03T18:33:52.889Z"
   },
   {
    "duration": 0,
    "start_time": "2023-02-03T18:33:52.891Z"
   },
   {
    "duration": 0,
    "start_time": "2023-02-03T18:33:52.892Z"
   },
   {
    "duration": 0,
    "start_time": "2023-02-03T18:33:52.894Z"
   },
   {
    "duration": 21,
    "start_time": "2023-02-03T18:34:57.862Z"
   },
   {
    "duration": 313,
    "start_time": "2023-02-03T18:35:00.212Z"
   },
   {
    "duration": 4,
    "start_time": "2023-02-03T18:35:10.582Z"
   },
   {
    "duration": 2,
    "start_time": "2023-02-03T18:35:40.436Z"
   },
   {
    "duration": 13,
    "start_time": "2023-02-03T18:35:43.732Z"
   },
   {
    "duration": 16,
    "start_time": "2023-02-03T18:35:52.427Z"
   },
   {
    "duration": 12,
    "start_time": "2023-02-03T18:36:06.544Z"
   },
   {
    "duration": 18,
    "start_time": "2023-02-03T18:36:14.026Z"
   },
   {
    "duration": 1497,
    "start_time": "2023-02-03T18:36:30.030Z"
   },
   {
    "duration": 40,
    "start_time": "2023-02-03T18:36:31.529Z"
   },
   {
    "duration": 6,
    "start_time": "2023-02-03T18:36:31.571Z"
   },
   {
    "duration": 31,
    "start_time": "2023-02-03T18:36:31.579Z"
   },
   {
    "duration": 53,
    "start_time": "2023-02-03T18:36:31.613Z"
   },
   {
    "duration": 13,
    "start_time": "2023-02-03T18:36:31.668Z"
   },
   {
    "duration": 18,
    "start_time": "2023-02-03T18:36:31.683Z"
   },
   {
    "duration": 24,
    "start_time": "2023-02-03T18:36:31.703Z"
   },
   {
    "duration": 32,
    "start_time": "2023-02-03T18:36:31.729Z"
   },
   {
    "duration": 10,
    "start_time": "2023-02-03T18:36:31.763Z"
   },
   {
    "duration": 20,
    "start_time": "2023-02-03T18:36:31.775Z"
   },
   {
    "duration": 14,
    "start_time": "2023-02-03T18:36:31.797Z"
   },
   {
    "duration": 20,
    "start_time": "2023-02-03T18:36:31.813Z"
   },
   {
    "duration": 32,
    "start_time": "2023-02-03T18:36:31.837Z"
   },
   {
    "duration": 16,
    "start_time": "2023-02-03T18:36:31.871Z"
   },
   {
    "duration": 27,
    "start_time": "2023-02-03T18:36:31.889Z"
   },
   {
    "duration": 31,
    "start_time": "2023-02-03T18:36:31.918Z"
   },
   {
    "duration": 17,
    "start_time": "2023-02-03T18:36:31.950Z"
   },
   {
    "duration": 13,
    "start_time": "2023-02-03T18:36:31.969Z"
   },
   {
    "duration": 6,
    "start_time": "2023-02-03T18:36:31.985Z"
   },
   {
    "duration": 156,
    "start_time": "2023-02-03T18:36:31.992Z"
   },
   {
    "duration": 12,
    "start_time": "2023-02-03T18:36:32.150Z"
   },
   {
    "duration": 20,
    "start_time": "2023-02-03T18:36:32.164Z"
   },
   {
    "duration": 8,
    "start_time": "2023-02-03T18:36:32.186Z"
   },
   {
    "duration": 129,
    "start_time": "2023-02-03T18:36:32.195Z"
   },
   {
    "duration": 125,
    "start_time": "2023-02-03T18:36:32.326Z"
   },
   {
    "duration": 131,
    "start_time": "2023-02-03T18:36:32.453Z"
   },
   {
    "duration": 197,
    "start_time": "2023-02-03T18:36:32.585Z"
   },
   {
    "duration": 192,
    "start_time": "2023-02-03T18:36:32.784Z"
   },
   {
    "duration": 86,
    "start_time": "2023-02-03T18:36:32.978Z"
   },
   {
    "duration": 21,
    "start_time": "2023-02-03T18:36:33.066Z"
   },
   {
    "duration": 0,
    "start_time": "2023-02-03T18:36:33.089Z"
   },
   {
    "duration": 0,
    "start_time": "2023-02-03T18:36:33.090Z"
   },
   {
    "duration": 0,
    "start_time": "2023-02-03T18:36:33.091Z"
   },
   {
    "duration": 121,
    "start_time": "2023-02-03T18:36:46.272Z"
   },
   {
    "duration": 14,
    "start_time": "2023-02-03T18:37:17.186Z"
   },
   {
    "duration": 5,
    "start_time": "2023-02-03T18:37:17.854Z"
   },
   {
    "duration": 89,
    "start_time": "2023-02-03T18:37:51.664Z"
   },
   {
    "duration": 19,
    "start_time": "2023-02-03T18:39:04.824Z"
   },
   {
    "duration": 11,
    "start_time": "2023-02-03T18:39:25.253Z"
   },
   {
    "duration": 5,
    "start_time": "2023-02-03T18:39:26.015Z"
   },
   {
    "duration": 8,
    "start_time": "2023-02-03T18:39:28.499Z"
   },
   {
    "duration": 145,
    "start_time": "2023-02-03T18:39:29.646Z"
   },
   {
    "duration": 117,
    "start_time": "2023-02-03T18:39:31.059Z"
   },
   {
    "duration": 120,
    "start_time": "2023-02-03T18:39:31.674Z"
   },
   {
    "duration": 18,
    "start_time": "2023-02-03T18:39:35.312Z"
   },
   {
    "duration": 716,
    "start_time": "2023-02-03T18:39:40.740Z"
   },
   {
    "duration": 1455,
    "start_time": "2023-02-03T18:40:21.608Z"
   },
   {
    "duration": 40,
    "start_time": "2023-02-03T18:40:23.065Z"
   },
   {
    "duration": 6,
    "start_time": "2023-02-03T18:40:23.106Z"
   },
   {
    "duration": 29,
    "start_time": "2023-02-03T18:40:23.113Z"
   },
   {
    "duration": 49,
    "start_time": "2023-02-03T18:40:23.144Z"
   },
   {
    "duration": 13,
    "start_time": "2023-02-03T18:40:23.194Z"
   },
   {
    "duration": 5,
    "start_time": "2023-02-03T18:40:23.209Z"
   },
   {
    "duration": 13,
    "start_time": "2023-02-03T18:40:23.215Z"
   },
   {
    "duration": 18,
    "start_time": "2023-02-03T18:40:23.230Z"
   },
   {
    "duration": 6,
    "start_time": "2023-02-03T18:40:23.249Z"
   },
   {
    "duration": 14,
    "start_time": "2023-02-03T18:40:23.257Z"
   },
   {
    "duration": 7,
    "start_time": "2023-02-03T18:40:23.284Z"
   },
   {
    "duration": 6,
    "start_time": "2023-02-03T18:40:23.293Z"
   },
   {
    "duration": 17,
    "start_time": "2023-02-03T18:40:23.302Z"
   },
   {
    "duration": 5,
    "start_time": "2023-02-03T18:40:23.321Z"
   },
   {
    "duration": 8,
    "start_time": "2023-02-03T18:40:23.328Z"
   },
   {
    "duration": 16,
    "start_time": "2023-02-03T18:40:23.337Z"
   },
   {
    "duration": 15,
    "start_time": "2023-02-03T18:40:23.355Z"
   },
   {
    "duration": 13,
    "start_time": "2023-02-03T18:40:23.372Z"
   },
   {
    "duration": 6,
    "start_time": "2023-02-03T18:40:23.387Z"
   },
   {
    "duration": 143,
    "start_time": "2023-02-03T18:40:23.395Z"
   },
   {
    "duration": 13,
    "start_time": "2023-02-03T18:40:23.540Z"
   },
   {
    "duration": 5,
    "start_time": "2023-02-03T18:40:23.555Z"
   },
   {
    "duration": 26,
    "start_time": "2023-02-03T18:40:23.561Z"
   },
   {
    "duration": 139,
    "start_time": "2023-02-03T18:40:23.589Z"
   },
   {
    "duration": 131,
    "start_time": "2023-02-03T18:40:23.730Z"
   },
   {
    "duration": 135,
    "start_time": "2023-02-03T18:40:23.863Z"
   },
   {
    "duration": 716,
    "start_time": "2023-02-03T18:40:24.000Z"
   },
   {
    "duration": 113024,
    "start_time": "2023-02-03T18:40:24.718Z"
   },
   {
    "duration": 648,
    "start_time": "2023-02-03T18:42:17.744Z"
   },
   {
    "duration": 401,
    "start_time": "2023-02-03T18:42:18.394Z"
   },
   {
    "duration": 505,
    "start_time": "2023-02-03T18:42:18.797Z"
   },
   {
    "duration": 128,
    "start_time": "2023-02-03T18:42:19.304Z"
   },
   {
    "duration": 311,
    "start_time": "2023-02-03T18:42:19.434Z"
   },
   {
    "duration": 820,
    "start_time": "2023-02-03T18:46:03.757Z"
   },
   {
    "duration": 1591,
    "start_time": "2023-02-03T18:48:29.764Z"
   },
   {
    "duration": 129700,
    "start_time": "2023-02-03T18:50:30.410Z"
   },
   {
    "duration": 1559,
    "start_time": "2023-02-03T18:55:28.667Z"
   },
   {
    "duration": 40,
    "start_time": "2023-02-03T18:55:30.228Z"
   },
   {
    "duration": 5,
    "start_time": "2023-02-03T18:55:30.270Z"
   },
   {
    "duration": 38,
    "start_time": "2023-02-03T18:55:30.278Z"
   },
   {
    "duration": 71,
    "start_time": "2023-02-03T18:55:30.318Z"
   },
   {
    "duration": 24,
    "start_time": "2023-02-03T18:55:30.390Z"
   },
   {
    "duration": 51,
    "start_time": "2023-02-03T18:55:30.416Z"
   },
   {
    "duration": 38,
    "start_time": "2023-02-03T18:55:30.469Z"
   },
   {
    "duration": 70,
    "start_time": "2023-02-03T18:55:30.509Z"
   },
   {
    "duration": 50,
    "start_time": "2023-02-03T18:55:30.582Z"
   },
   {
    "duration": 30,
    "start_time": "2023-02-03T18:55:30.635Z"
   },
   {
    "duration": 48,
    "start_time": "2023-02-03T18:55:30.667Z"
   },
   {
    "duration": 54,
    "start_time": "2023-02-03T18:55:30.717Z"
   },
   {
    "duration": 49,
    "start_time": "2023-02-03T18:55:30.774Z"
   },
   {
    "duration": 26,
    "start_time": "2023-02-03T18:55:30.825Z"
   },
   {
    "duration": 38,
    "start_time": "2023-02-03T18:55:30.852Z"
   },
   {
    "duration": 32,
    "start_time": "2023-02-03T18:55:30.892Z"
   },
   {
    "duration": 41,
    "start_time": "2023-02-03T18:55:30.926Z"
   },
   {
    "duration": 35,
    "start_time": "2023-02-03T18:55:30.968Z"
   },
   {
    "duration": 27,
    "start_time": "2023-02-03T18:55:31.005Z"
   },
   {
    "duration": 185,
    "start_time": "2023-02-03T18:55:31.034Z"
   },
   {
    "duration": 15,
    "start_time": "2023-02-03T18:55:31.221Z"
   },
   {
    "duration": 85,
    "start_time": "2023-02-03T18:55:31.237Z"
   },
   {
    "duration": 46,
    "start_time": "2023-02-03T18:55:31.324Z"
   },
   {
    "duration": 172,
    "start_time": "2023-02-03T18:55:31.372Z"
   },
   {
    "duration": 123,
    "start_time": "2023-02-03T18:55:31.546Z"
   },
   {
    "duration": 133,
    "start_time": "2023-02-03T18:55:31.670Z"
   },
   {
    "duration": 731,
    "start_time": "2023-02-03T18:55:31.806Z"
   },
   {
    "duration": 113115,
    "start_time": "2023-02-03T18:55:32.539Z"
   },
   {
    "duration": 441,
    "start_time": "2023-02-03T18:57:25.656Z"
   },
   {
    "duration": 876,
    "start_time": "2023-02-03T18:57:26.186Z"
   },
   {
    "duration": 130267,
    "start_time": "2023-02-03T18:57:27.064Z"
   },
   {
    "duration": 127,
    "start_time": "2023-02-03T18:59:37.332Z"
   },
   {
    "duration": 7649,
    "start_time": "2023-02-03T18:59:37.460Z"
   },
   {
    "duration": 1514,
    "start_time": "2023-02-03T19:11:23.390Z"
   },
   {
    "duration": 42,
    "start_time": "2023-02-03T19:11:24.907Z"
   },
   {
    "duration": 7,
    "start_time": "2023-02-03T19:11:24.951Z"
   },
   {
    "duration": 44,
    "start_time": "2023-02-03T19:11:24.960Z"
   },
   {
    "duration": 54,
    "start_time": "2023-02-03T19:11:25.006Z"
   },
   {
    "duration": 28,
    "start_time": "2023-02-03T19:11:25.062Z"
   },
   {
    "duration": 7,
    "start_time": "2023-02-03T19:11:25.092Z"
   },
   {
    "duration": 28,
    "start_time": "2023-02-03T19:11:25.102Z"
   },
   {
    "duration": 18,
    "start_time": "2023-02-03T19:11:25.132Z"
   },
   {
    "duration": 5,
    "start_time": "2023-02-03T19:11:25.154Z"
   },
   {
    "duration": 9,
    "start_time": "2023-02-03T19:11:25.161Z"
   },
   {
    "duration": 14,
    "start_time": "2023-02-03T19:11:25.173Z"
   },
   {
    "duration": 17,
    "start_time": "2023-02-03T19:11:25.189Z"
   },
   {
    "duration": 17,
    "start_time": "2023-02-03T19:11:25.208Z"
   },
   {
    "duration": 6,
    "start_time": "2023-02-03T19:11:25.228Z"
   },
   {
    "duration": 15,
    "start_time": "2023-02-03T19:11:25.236Z"
   },
   {
    "duration": 18,
    "start_time": "2023-02-03T19:11:25.253Z"
   },
   {
    "duration": 29,
    "start_time": "2023-02-03T19:11:25.273Z"
   },
   {
    "duration": 15,
    "start_time": "2023-02-03T19:11:25.304Z"
   },
   {
    "duration": 9,
    "start_time": "2023-02-03T19:11:25.322Z"
   },
   {
    "duration": 147,
    "start_time": "2023-02-03T19:11:25.333Z"
   },
   {
    "duration": 20,
    "start_time": "2023-02-03T19:11:25.483Z"
   },
   {
    "duration": 13,
    "start_time": "2023-02-03T19:11:25.505Z"
   },
   {
    "duration": 14,
    "start_time": "2023-02-03T19:11:25.520Z"
   },
   {
    "duration": 147,
    "start_time": "2023-02-03T19:11:25.536Z"
   },
   {
    "duration": 147,
    "start_time": "2023-02-03T19:11:25.686Z"
   },
   {
    "duration": 129,
    "start_time": "2023-02-03T19:11:25.835Z"
   },
   {
    "duration": 798,
    "start_time": "2023-02-03T19:11:25.967Z"
   },
   {
    "duration": 123413,
    "start_time": "2023-02-03T19:11:26.767Z"
   },
   {
    "duration": 1301,
    "start_time": "2023-02-03T19:13:30.184Z"
   },
   {
    "duration": 970,
    "start_time": "2023-02-03T19:13:31.488Z"
   },
   {
    "duration": 139480,
    "start_time": "2023-02-03T19:13:32.459Z"
   },
   {
    "duration": 141,
    "start_time": "2023-02-03T19:15:51.941Z"
   },
   {
    "duration": 8992,
    "start_time": "2023-02-03T19:15:52.085Z"
   },
   {
    "duration": 126,
    "start_time": "2023-02-03T19:16:13.434Z"
   },
   {
    "duration": 130,
    "start_time": "2023-02-03T19:16:52.786Z"
   },
   {
    "duration": 9,
    "start_time": "2023-02-03T19:20:22.114Z"
   },
   {
    "duration": 1255,
    "start_time": "2023-02-03T19:20:54.143Z"
   },
   {
    "duration": 7,
    "start_time": "2023-02-03T19:20:58.136Z"
   },
   {
    "duration": 1169,
    "start_time": "2023-02-03T19:21:42.432Z"
   },
   {
    "duration": 8,
    "start_time": "2023-02-03T19:21:49.651Z"
   },
   {
    "duration": 447,
    "start_time": "2023-02-03T19:22:04.043Z"
   },
   {
    "duration": 6,
    "start_time": "2023-02-03T19:22:11.726Z"
   },
   {
    "duration": 117,
    "start_time": "2023-02-03T19:22:56.105Z"
   },
   {
    "duration": 6,
    "start_time": "2023-02-03T19:24:12.557Z"
   },
   {
    "duration": 6,
    "start_time": "2023-02-03T19:24:48.038Z"
   },
   {
    "duration": 5,
    "start_time": "2023-02-03T19:26:11.936Z"
   },
   {
    "duration": 259,
    "start_time": "2023-02-03T19:27:19.250Z"
   },
   {
    "duration": 1611,
    "start_time": "2023-02-03T19:27:32.256Z"
   },
   {
    "duration": 41,
    "start_time": "2023-02-03T19:27:33.870Z"
   },
   {
    "duration": 8,
    "start_time": "2023-02-03T19:27:33.914Z"
   },
   {
    "duration": 31,
    "start_time": "2023-02-03T19:27:33.925Z"
   },
   {
    "duration": 70,
    "start_time": "2023-02-03T19:27:33.958Z"
   },
   {
    "duration": 17,
    "start_time": "2023-02-03T19:27:34.031Z"
   },
   {
    "duration": 5,
    "start_time": "2023-02-03T19:27:34.050Z"
   },
   {
    "duration": 61,
    "start_time": "2023-02-03T19:27:34.057Z"
   },
   {
    "duration": 19,
    "start_time": "2023-02-03T19:27:34.120Z"
   },
   {
    "duration": 5,
    "start_time": "2023-02-03T19:27:34.143Z"
   },
   {
    "duration": 7,
    "start_time": "2023-02-03T19:27:34.150Z"
   },
   {
    "duration": 9,
    "start_time": "2023-02-03T19:27:34.159Z"
   },
   {
    "duration": 9,
    "start_time": "2023-02-03T19:27:34.170Z"
   },
   {
    "duration": 28,
    "start_time": "2023-02-03T19:27:34.181Z"
   },
   {
    "duration": 8,
    "start_time": "2023-02-03T19:27:34.212Z"
   },
   {
    "duration": 17,
    "start_time": "2023-02-03T19:27:34.222Z"
   },
   {
    "duration": 31,
    "start_time": "2023-02-03T19:27:34.241Z"
   },
   {
    "duration": 16,
    "start_time": "2023-02-03T19:27:34.274Z"
   },
   {
    "duration": 12,
    "start_time": "2023-02-03T19:27:34.292Z"
   },
   {
    "duration": 7,
    "start_time": "2023-02-03T19:27:34.306Z"
   },
   {
    "duration": 170,
    "start_time": "2023-02-03T19:27:34.315Z"
   },
   {
    "duration": 5,
    "start_time": "2023-02-03T19:27:34.487Z"
   },
   {
    "duration": 20,
    "start_time": "2023-02-03T19:27:34.494Z"
   },
   {
    "duration": 5,
    "start_time": "2023-02-03T19:27:34.516Z"
   },
   {
    "duration": 14,
    "start_time": "2023-02-03T19:27:34.522Z"
   },
   {
    "duration": 148,
    "start_time": "2023-02-03T19:27:34.538Z"
   },
   {
    "duration": 138,
    "start_time": "2023-02-03T19:27:34.688Z"
   },
   {
    "duration": 132,
    "start_time": "2023-02-03T19:27:34.830Z"
   },
   {
    "duration": 779,
    "start_time": "2023-02-03T19:27:34.963Z"
   },
   {
    "duration": 121780,
    "start_time": "2023-02-03T19:27:35.744Z"
   },
   {
    "duration": 859,
    "start_time": "2023-02-03T19:29:37.525Z"
   },
   {
    "duration": 962,
    "start_time": "2023-02-03T19:29:38.387Z"
   },
   {
    "duration": 351,
    "start_time": "2023-02-03T19:29:39.351Z"
   },
   {
    "duration": 14,
    "start_time": "2023-02-03T19:29:39.705Z"
   },
   {
    "duration": 0,
    "start_time": "2023-02-03T19:29:39.721Z"
   },
   {
    "duration": 0,
    "start_time": "2023-02-03T19:29:39.723Z"
   },
   {
    "duration": 0,
    "start_time": "2023-02-03T19:29:39.725Z"
   },
   {
    "duration": 572,
    "start_time": "2023-02-03T19:30:02.914Z"
   },
   {
    "duration": 182,
    "start_time": "2023-02-03T19:30:24.030Z"
   },
   {
    "duration": 1550,
    "start_time": "2023-02-03T19:32:15.896Z"
   },
   {
    "duration": 41,
    "start_time": "2023-02-03T19:32:17.449Z"
   },
   {
    "duration": 6,
    "start_time": "2023-02-03T19:32:17.492Z"
   },
   {
    "duration": 21,
    "start_time": "2023-02-03T19:32:17.500Z"
   },
   {
    "duration": 62,
    "start_time": "2023-02-03T19:32:17.523Z"
   },
   {
    "duration": 20,
    "start_time": "2023-02-03T19:32:17.588Z"
   },
   {
    "duration": 5,
    "start_time": "2023-02-03T19:32:17.610Z"
   },
   {
    "duration": 16,
    "start_time": "2023-02-03T19:32:17.617Z"
   },
   {
    "duration": 35,
    "start_time": "2023-02-03T19:32:17.635Z"
   },
   {
    "duration": 5,
    "start_time": "2023-02-03T19:32:17.686Z"
   },
   {
    "duration": 9,
    "start_time": "2023-02-03T19:32:17.694Z"
   },
   {
    "duration": 9,
    "start_time": "2023-02-03T19:32:17.705Z"
   },
   {
    "duration": 3,
    "start_time": "2023-02-03T19:32:17.717Z"
   },
   {
    "duration": 13,
    "start_time": "2023-02-03T19:32:17.723Z"
   },
   {
    "duration": 4,
    "start_time": "2023-02-03T19:32:17.738Z"
   },
   {
    "duration": 9,
    "start_time": "2023-02-03T19:32:17.744Z"
   },
   {
    "duration": 41,
    "start_time": "2023-02-03T19:32:17.755Z"
   },
   {
    "duration": 14,
    "start_time": "2023-02-03T19:32:17.797Z"
   },
   {
    "duration": 5,
    "start_time": "2023-02-03T19:32:17.812Z"
   },
   {
    "duration": 6,
    "start_time": "2023-02-03T19:32:17.819Z"
   },
   {
    "duration": 183,
    "start_time": "2023-02-03T19:32:17.827Z"
   },
   {
    "duration": 6,
    "start_time": "2023-02-03T19:32:18.011Z"
   },
   {
    "duration": 20,
    "start_time": "2023-02-03T19:32:18.020Z"
   },
   {
    "duration": 5,
    "start_time": "2023-02-03T19:32:18.043Z"
   },
   {
    "duration": 39,
    "start_time": "2023-02-03T19:32:18.050Z"
   },
   {
    "duration": 156,
    "start_time": "2023-02-03T19:32:18.091Z"
   },
   {
    "duration": 138,
    "start_time": "2023-02-03T19:32:18.249Z"
   },
   {
    "duration": 145,
    "start_time": "2023-02-03T19:32:18.391Z"
   },
   {
    "duration": 766,
    "start_time": "2023-02-03T19:32:18.538Z"
   },
   {
    "duration": 2325,
    "start_time": "2023-02-03T19:32:19.306Z"
   },
   {
    "duration": 1054,
    "start_time": "2023-02-03T19:32:21.633Z"
   },
   {
    "duration": 926,
    "start_time": "2023-02-03T19:32:22.690Z"
   },
   {
    "duration": 666,
    "start_time": "2023-02-03T19:32:23.618Z"
   },
   {
    "duration": 359,
    "start_time": "2023-02-03T19:32:24.287Z"
   },
   {
    "duration": 14,
    "start_time": "2023-02-03T19:32:24.649Z"
   },
   {
    "duration": 0,
    "start_time": "2023-02-03T19:32:24.665Z"
   },
   {
    "duration": 0,
    "start_time": "2023-02-03T19:32:24.667Z"
   },
   {
    "duration": 0,
    "start_time": "2023-02-03T19:32:24.668Z"
   },
   {
    "duration": 7,
    "start_time": "2023-02-03T19:33:46.020Z"
   },
   {
    "duration": 4,
    "start_time": "2023-02-03T19:34:05.952Z"
   },
   {
    "duration": 4,
    "start_time": "2023-02-03T19:34:10.431Z"
   },
   {
    "duration": 6,
    "start_time": "2023-02-03T19:34:23.833Z"
   },
   {
    "duration": 5,
    "start_time": "2023-02-03T19:34:34.779Z"
   },
   {
    "duration": 6,
    "start_time": "2023-02-03T19:35:20.465Z"
   },
   {
    "duration": 1456,
    "start_time": "2023-02-03T19:35:32.987Z"
   },
   {
    "duration": 39,
    "start_time": "2023-02-03T19:35:34.446Z"
   },
   {
    "duration": 6,
    "start_time": "2023-02-03T19:35:34.487Z"
   },
   {
    "duration": 34,
    "start_time": "2023-02-03T19:35:34.496Z"
   },
   {
    "duration": 42,
    "start_time": "2023-02-03T19:35:34.532Z"
   },
   {
    "duration": 22,
    "start_time": "2023-02-03T19:35:34.575Z"
   },
   {
    "duration": 5,
    "start_time": "2023-02-03T19:35:34.598Z"
   },
   {
    "duration": 14,
    "start_time": "2023-02-03T19:35:34.605Z"
   },
   {
    "duration": 17,
    "start_time": "2023-02-03T19:35:34.621Z"
   },
   {
    "duration": 4,
    "start_time": "2023-02-03T19:35:34.642Z"
   },
   {
    "duration": 36,
    "start_time": "2023-02-03T19:35:34.649Z"
   },
   {
    "duration": 10,
    "start_time": "2023-02-03T19:35:34.687Z"
   },
   {
    "duration": 4,
    "start_time": "2023-02-03T19:35:34.699Z"
   },
   {
    "duration": 22,
    "start_time": "2023-02-03T19:35:34.705Z"
   },
   {
    "duration": 15,
    "start_time": "2023-02-03T19:35:34.729Z"
   },
   {
    "duration": 28,
    "start_time": "2023-02-03T19:35:34.746Z"
   },
   {
    "duration": 19,
    "start_time": "2023-02-03T19:35:34.776Z"
   },
   {
    "duration": 14,
    "start_time": "2023-02-03T19:35:34.797Z"
   },
   {
    "duration": 9,
    "start_time": "2023-02-03T19:35:34.814Z"
   },
   {
    "duration": 10,
    "start_time": "2023-02-03T19:35:34.825Z"
   },
   {
    "duration": 148,
    "start_time": "2023-02-03T19:35:34.837Z"
   },
   {
    "duration": 6,
    "start_time": "2023-02-03T19:35:34.987Z"
   },
   {
    "duration": 16,
    "start_time": "2023-02-03T19:35:34.995Z"
   },
   {
    "duration": 5,
    "start_time": "2023-02-03T19:35:35.013Z"
   },
   {
    "duration": 12,
    "start_time": "2023-02-03T19:35:35.020Z"
   },
   {
    "duration": 153,
    "start_time": "2023-02-03T19:35:35.034Z"
   },
   {
    "duration": 135,
    "start_time": "2023-02-03T19:35:35.190Z"
   },
   {
    "duration": 134,
    "start_time": "2023-02-03T19:35:35.328Z"
   },
   {
    "duration": 739,
    "start_time": "2023-02-03T19:35:35.463Z"
   },
   {
    "duration": 2223,
    "start_time": "2023-02-03T19:35:36.203Z"
   },
   {
    "duration": 864,
    "start_time": "2023-02-03T19:35:38.428Z"
   },
   {
    "duration": 1024,
    "start_time": "2023-02-03T19:35:39.296Z"
   },
   {
    "duration": 1061,
    "start_time": "2023-02-03T19:35:40.323Z"
   },
   {
    "duration": 1295,
    "start_time": "2023-02-03T19:35:41.388Z"
   },
   {
    "duration": 8,
    "start_time": "2023-02-03T19:35:42.688Z"
   },
   {
    "duration": 469,
    "start_time": "2023-02-03T19:35:42.698Z"
   },
   {
    "duration": 14,
    "start_time": "2023-02-03T19:35:43.169Z"
   },
   {
    "duration": 1181,
    "start_time": "2023-02-03T19:35:43.186Z"
   },
   {
    "duration": 620,
    "start_time": "2023-02-03T19:36:13.359Z"
   },
   {
    "duration": 438,
    "start_time": "2023-02-03T19:38:13.641Z"
   },
   {
    "duration": 977,
    "start_time": "2023-02-03T19:39:23.111Z"
   },
   {
    "duration": 226,
    "start_time": "2023-02-03T19:39:26.659Z"
   },
   {
    "duration": 912,
    "start_time": "2023-02-03T19:40:38.692Z"
   },
   {
    "duration": 723,
    "start_time": "2023-02-03T19:40:41.073Z"
   },
   {
    "duration": 923,
    "start_time": "2023-02-03T19:43:27.091Z"
   },
   {
    "duration": 393,
    "start_time": "2023-02-03T19:43:41.381Z"
   },
   {
    "duration": 114,
    "start_time": "2023-02-03T19:48:55.271Z"
   },
   {
    "duration": 5,
    "start_time": "2023-02-03T19:49:26.351Z"
   },
   {
    "duration": 7,
    "start_time": "2023-02-03T19:49:33.314Z"
   },
   {
    "duration": 10,
    "start_time": "2023-02-03T19:50:13.517Z"
   },
   {
    "duration": 13,
    "start_time": "2023-02-03T19:59:26.570Z"
   },
   {
    "duration": 12,
    "start_time": "2023-02-03T19:59:34.106Z"
   },
   {
    "duration": 1401,
    "start_time": "2023-02-03T19:59:51.433Z"
   },
   {
    "duration": 49,
    "start_time": "2023-02-03T19:59:52.836Z"
   },
   {
    "duration": 8,
    "start_time": "2023-02-03T19:59:52.887Z"
   },
   {
    "duration": 35,
    "start_time": "2023-02-03T19:59:52.898Z"
   },
   {
    "duration": 51,
    "start_time": "2023-02-03T19:59:52.935Z"
   },
   {
    "duration": 12,
    "start_time": "2023-02-03T19:59:52.988Z"
   },
   {
    "duration": 4,
    "start_time": "2023-02-03T19:59:53.002Z"
   },
   {
    "duration": 15,
    "start_time": "2023-02-03T19:59:53.008Z"
   },
   {
    "duration": 17,
    "start_time": "2023-02-03T19:59:53.025Z"
   },
   {
    "duration": 16,
    "start_time": "2023-02-03T19:59:53.045Z"
   },
   {
    "duration": 38,
    "start_time": "2023-02-03T19:59:53.063Z"
   },
   {
    "duration": 12,
    "start_time": "2023-02-03T19:59:53.103Z"
   },
   {
    "duration": 13,
    "start_time": "2023-02-03T19:59:53.117Z"
   },
   {
    "duration": 14,
    "start_time": "2023-02-03T19:59:53.132Z"
   },
   {
    "duration": 5,
    "start_time": "2023-02-03T19:59:53.148Z"
   },
   {
    "duration": 8,
    "start_time": "2023-02-03T19:59:53.154Z"
   },
   {
    "duration": 24,
    "start_time": "2023-02-03T19:59:53.163Z"
   },
   {
    "duration": 13,
    "start_time": "2023-02-03T19:59:53.189Z"
   },
   {
    "duration": 15,
    "start_time": "2023-02-03T19:59:53.204Z"
   },
   {
    "duration": 7,
    "start_time": "2023-02-03T19:59:53.221Z"
   },
   {
    "duration": 147,
    "start_time": "2023-02-03T19:59:53.230Z"
   },
   {
    "duration": 5,
    "start_time": "2023-02-03T19:59:53.385Z"
   },
   {
    "duration": 18,
    "start_time": "2023-02-03T19:59:53.392Z"
   },
   {
    "duration": 5,
    "start_time": "2023-02-03T19:59:53.411Z"
   },
   {
    "duration": 20,
    "start_time": "2023-02-03T19:59:53.417Z"
   },
   {
    "duration": 128,
    "start_time": "2023-02-03T19:59:53.439Z"
   },
   {
    "duration": 0,
    "start_time": "2023-02-03T19:59:53.569Z"
   },
   {
    "duration": 0,
    "start_time": "2023-02-03T19:59:53.572Z"
   },
   {
    "duration": 0,
    "start_time": "2023-02-03T19:59:53.573Z"
   },
   {
    "duration": 0,
    "start_time": "2023-02-03T19:59:53.585Z"
   },
   {
    "duration": 0,
    "start_time": "2023-02-03T19:59:53.587Z"
   },
   {
    "duration": 0,
    "start_time": "2023-02-03T19:59:53.588Z"
   },
   {
    "duration": 0,
    "start_time": "2023-02-03T19:59:53.590Z"
   },
   {
    "duration": 0,
    "start_time": "2023-02-03T19:59:53.591Z"
   },
   {
    "duration": 0,
    "start_time": "2023-02-03T19:59:53.592Z"
   },
   {
    "duration": 0,
    "start_time": "2023-02-03T19:59:53.594Z"
   },
   {
    "duration": 0,
    "start_time": "2023-02-03T19:59:53.595Z"
   },
   {
    "duration": 0,
    "start_time": "2023-02-03T19:59:53.597Z"
   },
   {
    "duration": 0,
    "start_time": "2023-02-03T19:59:53.598Z"
   },
   {
    "duration": 0,
    "start_time": "2023-02-03T19:59:53.599Z"
   },
   {
    "duration": 0,
    "start_time": "2023-02-03T19:59:53.600Z"
   },
   {
    "duration": 0,
    "start_time": "2023-02-03T19:59:53.601Z"
   },
   {
    "duration": 76,
    "start_time": "2023-02-03T20:00:22.518Z"
   },
   {
    "duration": 124,
    "start_time": "2023-02-03T20:00:30.536Z"
   },
   {
    "duration": 12,
    "start_time": "2023-02-03T20:00:41.249Z"
   },
   {
    "duration": 126,
    "start_time": "2023-02-03T20:00:48.051Z"
   },
   {
    "duration": 126,
    "start_time": "2023-02-03T20:01:27.118Z"
   },
   {
    "duration": 209,
    "start_time": "2023-02-03T20:01:53.141Z"
   },
   {
    "duration": 121,
    "start_time": "2023-02-03T20:02:06.565Z"
   },
   {
    "duration": 127,
    "start_time": "2023-02-03T20:02:44.743Z"
   },
   {
    "duration": 105,
    "start_time": "2023-02-03T20:02:58.618Z"
   },
   {
    "duration": 118,
    "start_time": "2023-02-03T20:03:02.799Z"
   },
   {
    "duration": 122,
    "start_time": "2023-02-03T20:03:07.440Z"
   },
   {
    "duration": 3880,
    "start_time": "2023-02-03T20:07:57.122Z"
   },
   {
    "duration": 251,
    "start_time": "2023-02-03T20:09:33.089Z"
   },
   {
    "duration": 224,
    "start_time": "2023-02-03T20:09:45.539Z"
   },
   {
    "duration": 3525,
    "start_time": "2023-02-03T20:09:59.291Z"
   },
   {
    "duration": 3478,
    "start_time": "2023-02-03T20:10:11.570Z"
   },
   {
    "duration": 41304,
    "start_time": "2023-02-03T20:10:38.691Z"
   },
   {
    "duration": 1516,
    "start_time": "2023-02-03T20:14:58.894Z"
   },
   {
    "duration": 42,
    "start_time": "2023-02-03T20:15:00.412Z"
   },
   {
    "duration": 7,
    "start_time": "2023-02-03T20:15:00.455Z"
   },
   {
    "duration": 56,
    "start_time": "2023-02-03T20:15:00.463Z"
   },
   {
    "duration": 84,
    "start_time": "2023-02-03T20:15:00.521Z"
   },
   {
    "duration": 40,
    "start_time": "2023-02-03T20:15:00.607Z"
   },
   {
    "duration": 19,
    "start_time": "2023-02-03T20:15:00.650Z"
   },
   {
    "duration": 27,
    "start_time": "2023-02-03T20:15:00.672Z"
   },
   {
    "duration": 35,
    "start_time": "2023-02-03T20:15:00.701Z"
   },
   {
    "duration": 15,
    "start_time": "2023-02-03T20:15:00.738Z"
   },
   {
    "duration": 50,
    "start_time": "2023-02-03T20:15:00.755Z"
   },
   {
    "duration": 55,
    "start_time": "2023-02-03T20:15:00.807Z"
   },
   {
    "duration": 19,
    "start_time": "2023-02-03T20:15:00.864Z"
   },
   {
    "duration": 44,
    "start_time": "2023-02-03T20:15:00.886Z"
   },
   {
    "duration": 29,
    "start_time": "2023-02-03T20:15:00.931Z"
   },
   {
    "duration": 32,
    "start_time": "2023-02-03T20:15:00.962Z"
   },
   {
    "duration": 52,
    "start_time": "2023-02-03T20:15:00.996Z"
   },
   {
    "duration": 59,
    "start_time": "2023-02-03T20:15:01.049Z"
   },
   {
    "duration": 73,
    "start_time": "2023-02-03T20:15:01.110Z"
   },
   {
    "duration": 42,
    "start_time": "2023-02-03T20:15:01.185Z"
   },
   {
    "duration": 174,
    "start_time": "2023-02-03T20:15:01.229Z"
   },
   {
    "duration": 6,
    "start_time": "2023-02-03T20:15:01.405Z"
   },
   {
    "duration": 40,
    "start_time": "2023-02-03T20:15:01.413Z"
   },
   {
    "duration": 31,
    "start_time": "2023-02-03T20:15:01.455Z"
   },
   {
    "duration": 56,
    "start_time": "2023-02-03T20:15:01.487Z"
   },
   {
    "duration": 155,
    "start_time": "2023-02-03T20:15:01.545Z"
   },
   {
    "duration": 137,
    "start_time": "2023-02-03T20:15:01.702Z"
   },
   {
    "duration": 133,
    "start_time": "2023-02-03T20:15:01.840Z"
   },
   {
    "duration": 759,
    "start_time": "2023-02-03T20:15:01.975Z"
   },
   {
    "duration": 2242922,
    "start_time": "2023-02-03T20:15:02.735Z"
   },
   {
    "duration": 445,
    "start_time": "2023-02-03T20:52:25.658Z"
   },
   {
    "duration": 1052,
    "start_time": "2023-02-03T20:52:26.108Z"
   },
   {
    "duration": 327,
    "start_time": "2023-02-03T20:52:27.162Z"
   },
   {
    "duration": 1347,
    "start_time": "2023-02-03T20:52:27.491Z"
   },
   {
    "duration": 7,
    "start_time": "2023-02-03T20:52:28.839Z"
   },
   {
    "duration": 483,
    "start_time": "2023-02-03T20:52:28.847Z"
   },
   {
    "duration": 6,
    "start_time": "2023-02-03T20:52:29.332Z"
   },
   {
    "duration": 1067,
    "start_time": "2023-02-03T20:52:29.340Z"
   },
   {
    "duration": 450,
    "start_time": "2023-02-03T20:52:30.409Z"
   },
   {
    "duration": 536,
    "start_time": "2023-02-03T20:52:30.861Z"
   },
   {
    "duration": 391,
    "start_time": "2023-02-03T20:52:31.412Z"
   },
   {
    "duration": 82,
    "start_time": "2023-02-03T20:52:31.805Z"
   },
   {
    "duration": 486,
    "start_time": "2023-02-03T20:55:47.970Z"
   },
   {
    "duration": 669,
    "start_time": "2023-02-03T20:56:14.757Z"
   },
   {
    "duration": 266,
    "start_time": "2023-02-03T20:56:30.554Z"
   },
   {
    "duration": 671,
    "start_time": "2023-02-03T20:56:43.947Z"
   },
   {
    "duration": 235,
    "start_time": "2023-02-03T20:57:01.755Z"
   },
   {
    "duration": 900,
    "start_time": "2023-02-03T20:57:15.086Z"
   },
   {
    "duration": 313,
    "start_time": "2023-02-03T20:57:20.982Z"
   },
   {
    "duration": 8,
    "start_time": "2023-02-03T20:57:27.396Z"
   },
   {
    "duration": 1389,
    "start_time": "2023-02-04T06:12:22.645Z"
   },
   {
    "duration": 176,
    "start_time": "2023-02-04T06:12:24.036Z"
   },
   {
    "duration": 5,
    "start_time": "2023-02-04T06:12:24.214Z"
   },
   {
    "duration": 19,
    "start_time": "2023-02-04T06:12:24.220Z"
   },
   {
    "duration": 38,
    "start_time": "2023-02-04T06:12:24.242Z"
   },
   {
    "duration": 20,
    "start_time": "2023-02-04T06:12:24.281Z"
   },
   {
    "duration": 5,
    "start_time": "2023-02-04T06:12:24.303Z"
   },
   {
    "duration": 7,
    "start_time": "2023-02-04T06:12:24.310Z"
   },
   {
    "duration": 12,
    "start_time": "2023-02-04T06:12:24.319Z"
   },
   {
    "duration": 5,
    "start_time": "2023-02-04T06:12:24.333Z"
   },
   {
    "duration": 5,
    "start_time": "2023-02-04T06:12:24.339Z"
   },
   {
    "duration": 6,
    "start_time": "2023-02-04T06:12:24.346Z"
   },
   {
    "duration": 38,
    "start_time": "2023-02-04T06:12:24.354Z"
   },
   {
    "duration": 11,
    "start_time": "2023-02-04T06:12:24.396Z"
   },
   {
    "duration": 2,
    "start_time": "2023-02-04T06:12:24.409Z"
   },
   {
    "duration": 4,
    "start_time": "2023-02-04T06:12:24.413Z"
   },
   {
    "duration": 14,
    "start_time": "2023-02-04T06:12:24.419Z"
   },
   {
    "duration": 12,
    "start_time": "2023-02-04T06:12:24.434Z"
   },
   {
    "duration": 5,
    "start_time": "2023-02-04T06:12:24.447Z"
   },
   {
    "duration": 5,
    "start_time": "2023-02-04T06:12:24.453Z"
   },
   {
    "duration": 140,
    "start_time": "2023-02-04T06:12:24.459Z"
   },
   {
    "duration": 5,
    "start_time": "2023-02-04T06:12:24.600Z"
   },
   {
    "duration": 12,
    "start_time": "2023-02-04T06:12:24.607Z"
   },
   {
    "duration": 5,
    "start_time": "2023-02-04T06:12:24.620Z"
   },
   {
    "duration": 14,
    "start_time": "2023-02-04T06:12:24.627Z"
   },
   {
    "duration": 111,
    "start_time": "2023-02-04T06:12:24.642Z"
   },
   {
    "duration": 106,
    "start_time": "2023-02-04T06:12:24.755Z"
   },
   {
    "duration": 112,
    "start_time": "2023-02-04T06:12:24.862Z"
   },
   {
    "duration": 640,
    "start_time": "2023-02-04T06:12:24.975Z"
   },
   {
    "duration": 72554,
    "start_time": "2023-02-04T06:12:25.616Z"
   },
   {
    "duration": 522,
    "start_time": "2023-02-04T06:13:38.172Z"
   },
   {
    "duration": 481,
    "start_time": "2023-02-04T06:13:38.698Z"
   },
   {
    "duration": 414,
    "start_time": "2023-02-04T06:13:39.181Z"
   },
   {
    "duration": 660,
    "start_time": "2023-02-04T06:13:39.596Z"
   },
   {
    "duration": 6,
    "start_time": "2023-02-04T06:13:40.258Z"
   },
   {
    "duration": 239,
    "start_time": "2023-02-04T06:13:40.265Z"
   },
   {
    "duration": 5,
    "start_time": "2023-02-04T06:13:40.506Z"
   },
   {
    "duration": 561,
    "start_time": "2023-02-04T06:13:40.513Z"
   },
   {
    "duration": 224,
    "start_time": "2023-02-04T06:13:41.076Z"
   },
   {
    "duration": 591,
    "start_time": "2023-02-04T06:13:41.302Z"
   },
   {
    "duration": 305,
    "start_time": "2023-02-04T06:13:41.897Z"
   },
   {
    "duration": 99,
    "start_time": "2023-02-04T06:13:42.293Z"
   },
   {
    "duration": 463,
    "start_time": "2023-02-04T06:17:22.435Z"
   },
   {
    "duration": 439,
    "start_time": "2023-02-04T06:17:28.820Z"
   },
   {
    "duration": 506,
    "start_time": "2023-02-04T06:17:33.775Z"
   },
   {
    "duration": 508,
    "start_time": "2023-02-04T06:17:38.202Z"
   },
   {
    "duration": 830,
    "start_time": "2023-02-04T06:17:45.862Z"
   },
   {
    "duration": 801,
    "start_time": "2023-02-04T06:17:51.904Z"
   },
   {
    "duration": 829,
    "start_time": "2023-02-04T06:19:44.480Z"
   },
   {
    "duration": 330,
    "start_time": "2023-02-04T06:19:57.404Z"
   },
   {
    "duration": 353,
    "start_time": "2023-02-04T06:20:05.312Z"
   },
   {
    "duration": 359,
    "start_time": "2023-02-04T06:20:10.085Z"
   },
   {
    "duration": 325,
    "start_time": "2023-02-04T06:20:14.682Z"
   },
   {
    "duration": 1392,
    "start_time": "2023-02-04T06:55:02.928Z"
   },
   {
    "duration": 42,
    "start_time": "2023-02-04T06:55:04.323Z"
   },
   {
    "duration": 6,
    "start_time": "2023-02-04T06:55:04.366Z"
   },
   {
    "duration": 32,
    "start_time": "2023-02-04T06:55:04.374Z"
   },
   {
    "duration": 44,
    "start_time": "2023-02-04T06:55:04.408Z"
   },
   {
    "duration": 12,
    "start_time": "2023-02-04T06:55:04.454Z"
   },
   {
    "duration": 4,
    "start_time": "2023-02-04T06:55:04.467Z"
   },
   {
    "duration": 5,
    "start_time": "2023-02-04T06:55:04.493Z"
   },
   {
    "duration": 19,
    "start_time": "2023-02-04T06:55:04.499Z"
   },
   {
    "duration": 6,
    "start_time": "2023-02-04T06:55:04.520Z"
   },
   {
    "duration": 7,
    "start_time": "2023-02-04T06:55:04.528Z"
   },
   {
    "duration": 9,
    "start_time": "2023-02-04T06:55:04.537Z"
   },
   {
    "duration": 3,
    "start_time": "2023-02-04T06:55:04.548Z"
   },
   {
    "duration": 14,
    "start_time": "2023-02-04T06:55:04.554Z"
   },
   {
    "duration": 23,
    "start_time": "2023-02-04T06:55:04.569Z"
   },
   {
    "duration": 3,
    "start_time": "2023-02-04T06:55:04.594Z"
   },
   {
    "duration": 20,
    "start_time": "2023-02-04T06:55:04.598Z"
   },
   {
    "duration": 15,
    "start_time": "2023-02-04T06:55:04.620Z"
   },
   {
    "duration": 6,
    "start_time": "2023-02-04T06:55:04.637Z"
   },
   {
    "duration": 6,
    "start_time": "2023-02-04T06:55:04.645Z"
   },
   {
    "duration": 156,
    "start_time": "2023-02-04T06:55:04.653Z"
   },
   {
    "duration": 4,
    "start_time": "2023-02-04T06:55:04.811Z"
   },
   {
    "duration": 21,
    "start_time": "2023-02-04T06:55:04.817Z"
   },
   {
    "duration": 4,
    "start_time": "2023-02-04T06:55:04.840Z"
   },
   {
    "duration": 16,
    "start_time": "2023-02-04T06:55:04.846Z"
   },
   {
    "duration": 119,
    "start_time": "2023-02-04T06:55:04.865Z"
   },
   {
    "duration": 128,
    "start_time": "2023-02-04T06:55:04.992Z"
   },
   {
    "duration": 118,
    "start_time": "2023-02-04T06:55:05.121Z"
   },
   {
    "duration": 125,
    "start_time": "2023-02-04T06:55:05.241Z"
   },
   {
    "duration": 0,
    "start_time": "2023-02-04T06:55:05.368Z"
   },
   {
    "duration": 1,
    "start_time": "2023-02-04T06:55:05.369Z"
   },
   {
    "duration": 0,
    "start_time": "2023-02-04T06:55:05.370Z"
   },
   {
    "duration": 0,
    "start_time": "2023-02-04T06:55:05.372Z"
   },
   {
    "duration": 0,
    "start_time": "2023-02-04T06:55:05.373Z"
   },
   {
    "duration": 0,
    "start_time": "2023-02-04T06:55:05.374Z"
   },
   {
    "duration": 0,
    "start_time": "2023-02-04T06:55:05.375Z"
   },
   {
    "duration": 0,
    "start_time": "2023-02-04T06:55:05.392Z"
   },
   {
    "duration": 0,
    "start_time": "2023-02-04T06:55:05.393Z"
   },
   {
    "duration": 0,
    "start_time": "2023-02-04T06:55:05.395Z"
   },
   {
    "duration": 0,
    "start_time": "2023-02-04T06:55:05.396Z"
   },
   {
    "duration": 0,
    "start_time": "2023-02-04T06:55:05.397Z"
   },
   {
    "duration": 0,
    "start_time": "2023-02-04T06:55:05.398Z"
   },
   {
    "duration": 0,
    "start_time": "2023-02-04T06:55:05.399Z"
   },
   {
    "duration": 1265,
    "start_time": "2023-02-04T06:55:51.208Z"
   },
   {
    "duration": 40,
    "start_time": "2023-02-04T06:55:52.475Z"
   },
   {
    "duration": 6,
    "start_time": "2023-02-04T06:55:52.516Z"
   },
   {
    "duration": 18,
    "start_time": "2023-02-04T06:55:52.523Z"
   },
   {
    "duration": 40,
    "start_time": "2023-02-04T06:55:52.543Z"
   },
   {
    "duration": 14,
    "start_time": "2023-02-04T06:55:52.592Z"
   },
   {
    "duration": 4,
    "start_time": "2023-02-04T06:55:52.608Z"
   },
   {
    "duration": 6,
    "start_time": "2023-02-04T06:55:52.614Z"
   },
   {
    "duration": 14,
    "start_time": "2023-02-04T06:55:52.621Z"
   },
   {
    "duration": 4,
    "start_time": "2023-02-04T06:55:52.637Z"
   },
   {
    "duration": 4,
    "start_time": "2023-02-04T06:55:52.643Z"
   },
   {
    "duration": 7,
    "start_time": "2023-02-04T06:55:52.648Z"
   },
   {
    "duration": 5,
    "start_time": "2023-02-04T06:55:52.656Z"
   },
   {
    "duration": 10,
    "start_time": "2023-02-04T06:55:52.693Z"
   },
   {
    "duration": 3,
    "start_time": "2023-02-04T06:55:52.705Z"
   },
   {
    "duration": 4,
    "start_time": "2023-02-04T06:55:52.710Z"
   },
   {
    "duration": 15,
    "start_time": "2023-02-04T06:55:52.716Z"
   },
   {
    "duration": 12,
    "start_time": "2023-02-04T06:55:52.733Z"
   },
   {
    "duration": 4,
    "start_time": "2023-02-04T06:55:52.746Z"
   },
   {
    "duration": 7,
    "start_time": "2023-02-04T06:55:52.751Z"
   },
   {
    "duration": 138,
    "start_time": "2023-02-04T06:55:52.759Z"
   },
   {
    "duration": 5,
    "start_time": "2023-02-04T06:55:52.898Z"
   },
   {
    "duration": 12,
    "start_time": "2023-02-04T06:55:52.905Z"
   },
   {
    "duration": 3,
    "start_time": "2023-02-04T06:55:52.919Z"
   },
   {
    "duration": 8,
    "start_time": "2023-02-04T06:55:52.924Z"
   },
   {
    "duration": 119,
    "start_time": "2023-02-04T06:55:52.933Z"
   },
   {
    "duration": 111,
    "start_time": "2023-02-04T06:55:53.054Z"
   },
   {
    "duration": 113,
    "start_time": "2023-02-04T06:55:53.167Z"
   },
   {
    "duration": 26,
    "start_time": "2023-02-04T06:55:53.282Z"
   },
   {
    "duration": 640,
    "start_time": "2023-02-04T06:55:53.309Z"
   },
   {
    "duration": 72360,
    "start_time": "2023-02-04T06:55:53.950Z"
   },
   {
    "duration": 383,
    "start_time": "2023-02-04T06:57:06.312Z"
   },
   {
    "duration": 579,
    "start_time": "2023-02-04T06:57:06.698Z"
   },
   {
    "duration": 213,
    "start_time": "2023-02-04T06:57:07.279Z"
   },
   {
    "duration": 644,
    "start_time": "2023-02-04T06:57:07.495Z"
   },
   {
    "duration": 5,
    "start_time": "2023-02-04T06:57:08.141Z"
   },
   {
    "duration": 241,
    "start_time": "2023-02-04T06:57:08.148Z"
   },
   {
    "duration": 5,
    "start_time": "2023-02-04T06:57:08.391Z"
   },
   {
    "duration": 773,
    "start_time": "2023-02-04T06:57:08.398Z"
   },
   {
    "duration": 315,
    "start_time": "2023-02-04T06:57:09.172Z"
   },
   {
    "duration": 200,
    "start_time": "2023-02-04T06:57:09.494Z"
   },
   {
    "duration": 202,
    "start_time": "2023-02-04T06:57:09.695Z"
   },
   {
    "duration": 97,
    "start_time": "2023-02-04T06:57:09.899Z"
   },
   {
    "duration": 1329,
    "start_time": "2023-02-04T06:57:41.971Z"
   },
   {
    "duration": 1874,
    "start_time": "2023-02-04T06:58:03.532Z"
   },
   {
    "duration": 246,
    "start_time": "2023-02-04T06:58:13.773Z"
   },
   {
    "duration": 756,
    "start_time": "2023-02-04T06:58:22.730Z"
   },
   {
    "duration": 1854,
    "start_time": "2023-02-04T06:58:36.431Z"
   },
   {
    "duration": 300,
    "start_time": "2023-02-04T06:58:47.731Z"
   },
   {
    "duration": 182,
    "start_time": "2023-02-04T06:58:49.413Z"
   },
   {
    "duration": 44,
    "start_time": "2023-02-04T06:58:52.951Z"
   },
   {
    "duration": 6,
    "start_time": "2023-02-04T06:58:54.496Z"
   },
   {
    "duration": 679,
    "start_time": "2023-02-04T06:59:33.913Z"
   },
   {
    "duration": 16,
    "start_time": "2023-02-04T07:03:07.620Z"
   },
   {
    "duration": 619,
    "start_time": "2023-02-04T07:04:39.725Z"
   },
   {
    "duration": 877,
    "start_time": "2023-02-04T07:04:55.960Z"
   },
   {
    "duration": 6,
    "start_time": "2023-02-04T07:05:03.082Z"
   },
   {
    "duration": 360,
    "start_time": "2023-02-04T07:05:17.226Z"
   },
   {
    "duration": 811,
    "start_time": "2023-02-04T07:05:26.958Z"
   },
   {
    "duration": 322,
    "start_time": "2023-02-04T07:05:47.723Z"
   },
   {
    "duration": 203,
    "start_time": "2023-02-04T07:05:57.800Z"
   },
   {
    "duration": 104,
    "start_time": "2023-02-04T07:06:00.592Z"
   },
   {
    "duration": 1316,
    "start_time": "2023-02-04T07:06:41.656Z"
   },
   {
    "duration": 41,
    "start_time": "2023-02-04T07:06:42.973Z"
   },
   {
    "duration": 5,
    "start_time": "2023-02-04T07:06:43.016Z"
   },
   {
    "duration": 22,
    "start_time": "2023-02-04T07:06:43.023Z"
   },
   {
    "duration": 41,
    "start_time": "2023-02-04T07:06:43.046Z"
   },
   {
    "duration": 11,
    "start_time": "2023-02-04T07:06:43.092Z"
   },
   {
    "duration": 4,
    "start_time": "2023-02-04T07:06:43.105Z"
   },
   {
    "duration": 7,
    "start_time": "2023-02-04T07:06:43.110Z"
   },
   {
    "duration": 19,
    "start_time": "2023-02-04T07:06:43.118Z"
   },
   {
    "duration": 3,
    "start_time": "2023-02-04T07:06:43.140Z"
   },
   {
    "duration": 4,
    "start_time": "2023-02-04T07:06:43.145Z"
   },
   {
    "duration": 6,
    "start_time": "2023-02-04T07:06:43.151Z"
   },
   {
    "duration": 33,
    "start_time": "2023-02-04T07:06:43.159Z"
   },
   {
    "duration": 11,
    "start_time": "2023-02-04T07:06:43.194Z"
   },
   {
    "duration": 22,
    "start_time": "2023-02-04T07:06:43.207Z"
   },
   {
    "duration": 8,
    "start_time": "2023-02-04T07:06:43.230Z"
   },
   {
    "duration": 18,
    "start_time": "2023-02-04T07:06:43.239Z"
   },
   {
    "duration": 14,
    "start_time": "2023-02-04T07:06:43.259Z"
   },
   {
    "duration": 3,
    "start_time": "2023-02-04T07:06:43.275Z"
   },
   {
    "duration": 12,
    "start_time": "2023-02-04T07:06:43.280Z"
   },
   {
    "duration": 132,
    "start_time": "2023-02-04T07:06:43.293Z"
   },
   {
    "duration": 6,
    "start_time": "2023-02-04T07:06:43.426Z"
   },
   {
    "duration": 15,
    "start_time": "2023-02-04T07:06:43.434Z"
   },
   {
    "duration": 5,
    "start_time": "2023-02-04T07:06:43.450Z"
   },
   {
    "duration": 35,
    "start_time": "2023-02-04T07:06:43.457Z"
   },
   {
    "duration": 103,
    "start_time": "2023-02-04T07:06:43.494Z"
   },
   {
    "duration": 135,
    "start_time": "2023-02-04T07:06:43.599Z"
   },
   {
    "duration": 115,
    "start_time": "2023-02-04T07:06:43.737Z"
   },
   {
    "duration": 2,
    "start_time": "2023-02-04T07:06:43.854Z"
   },
   {
    "duration": 21,
    "start_time": "2023-02-04T07:06:43.857Z"
   },
   {
    "duration": 644,
    "start_time": "2023-02-04T07:06:43.880Z"
   },
   {
    "duration": 72966,
    "start_time": "2023-02-04T07:06:44.526Z"
   },
   {
    "duration": 405,
    "start_time": "2023-02-04T07:07:57.494Z"
   },
   {
    "duration": 653,
    "start_time": "2023-02-04T07:07:57.991Z"
   },
   {
    "duration": 449,
    "start_time": "2023-02-04T07:07:58.646Z"
   },
   {
    "duration": 933,
    "start_time": "2023-02-04T07:07:59.098Z"
   },
   {
    "duration": 5,
    "start_time": "2023-02-04T07:08:00.033Z"
   },
   {
    "duration": 363,
    "start_time": "2023-02-04T07:08:00.041Z"
   },
   {
    "duration": 7,
    "start_time": "2023-02-04T07:08:00.406Z"
   },
   {
    "duration": 833,
    "start_time": "2023-02-04T07:08:00.414Z"
   },
   {
    "duration": 331,
    "start_time": "2023-02-04T07:08:01.249Z"
   },
   {
    "duration": 617,
    "start_time": "2023-02-04T07:08:01.582Z"
   },
   {
    "duration": 394,
    "start_time": "2023-02-04T07:08:02.201Z"
   },
   {
    "duration": 95,
    "start_time": "2023-02-04T07:08:02.598Z"
   },
   {
    "duration": 1638,
    "start_time": "2023-02-04T07:10:06.484Z"
   },
   {
    "duration": 626,
    "start_time": "2023-02-04T07:10:20.093Z"
   },
   {
    "duration": 1595,
    "start_time": "2023-02-04T07:10:29.194Z"
   },
   {
    "duration": 871,
    "start_time": "2023-02-04T07:11:08.129Z"
   },
   {
    "duration": 20,
    "start_time": "2023-02-04T07:18:20.010Z"
   },
   {
    "duration": 17,
    "start_time": "2023-02-04T07:18:20.765Z"
   },
   {
    "duration": 568,
    "start_time": "2023-02-04T07:18:52.099Z"
   },
   {
    "duration": 170,
    "start_time": "2023-02-04T07:18:57.527Z"
   },
   {
    "duration": 179,
    "start_time": "2023-02-04T07:19:05.413Z"
   },
   {
    "duration": 493,
    "start_time": "2023-02-04T07:59:35.839Z"
   },
   {
    "duration": 75449,
    "start_time": "2023-02-04T08:00:29.301Z"
   },
   {
    "duration": 676,
    "start_time": "2023-02-04T08:01:44.752Z"
   },
   {
    "duration": 1280,
    "start_time": "2023-02-04T08:06:12.422Z"
   },
   {
    "duration": 42,
    "start_time": "2023-02-04T08:06:13.704Z"
   },
   {
    "duration": 5,
    "start_time": "2023-02-04T08:06:13.748Z"
   },
   {
    "duration": 19,
    "start_time": "2023-02-04T08:06:13.754Z"
   },
   {
    "duration": 40,
    "start_time": "2023-02-04T08:06:13.775Z"
   },
   {
    "duration": 12,
    "start_time": "2023-02-04T08:06:13.817Z"
   },
   {
    "duration": 4,
    "start_time": "2023-02-04T08:06:13.830Z"
   },
   {
    "duration": 6,
    "start_time": "2023-02-04T08:06:13.835Z"
   },
   {
    "duration": 13,
    "start_time": "2023-02-04T08:06:13.843Z"
   },
   {
    "duration": 3,
    "start_time": "2023-02-04T08:06:13.858Z"
   },
   {
    "duration": 6,
    "start_time": "2023-02-04T08:06:13.863Z"
   },
   {
    "duration": 25,
    "start_time": "2023-02-04T08:06:13.871Z"
   },
   {
    "duration": 6,
    "start_time": "2023-02-04T08:06:13.897Z"
   },
   {
    "duration": 20,
    "start_time": "2023-02-04T08:06:13.906Z"
   },
   {
    "duration": 3,
    "start_time": "2023-02-04T08:06:13.928Z"
   },
   {
    "duration": 7,
    "start_time": "2023-02-04T08:06:13.933Z"
   },
   {
    "duration": 17,
    "start_time": "2023-02-04T08:06:13.941Z"
   },
   {
    "duration": 12,
    "start_time": "2023-02-04T08:06:13.960Z"
   },
   {
    "duration": 3,
    "start_time": "2023-02-04T08:06:13.992Z"
   },
   {
    "duration": 6,
    "start_time": "2023-02-04T08:06:13.997Z"
   },
   {
    "duration": 131,
    "start_time": "2023-02-04T08:06:14.005Z"
   },
   {
    "duration": 5,
    "start_time": "2023-02-04T08:06:14.137Z"
   },
   {
    "duration": 18,
    "start_time": "2023-02-04T08:06:14.144Z"
   },
   {
    "duration": 4,
    "start_time": "2023-02-04T08:06:14.164Z"
   },
   {
    "duration": 23,
    "start_time": "2023-02-04T08:06:14.169Z"
   },
   {
    "duration": 108,
    "start_time": "2023-02-04T08:06:14.194Z"
   },
   {
    "duration": 123,
    "start_time": "2023-02-04T08:06:14.304Z"
   },
   {
    "duration": 122,
    "start_time": "2023-02-04T08:06:14.429Z"
   },
   {
    "duration": 19,
    "start_time": "2023-02-04T08:06:14.553Z"
   },
   {
    "duration": 30,
    "start_time": "2023-02-04T08:06:14.574Z"
   },
   {
    "duration": 801,
    "start_time": "2023-02-04T08:06:14.605Z"
   },
   {
    "duration": 73955,
    "start_time": "2023-02-04T08:06:15.408Z"
   },
   {
    "duration": 332,
    "start_time": "2023-02-04T08:07:29.364Z"
   },
   {
    "duration": 623,
    "start_time": "2023-02-04T08:07:29.698Z"
   },
   {
    "duration": 491,
    "start_time": "2023-02-04T08:07:30.323Z"
   },
   {
    "duration": 885,
    "start_time": "2023-02-04T08:07:30.816Z"
   },
   {
    "duration": 6,
    "start_time": "2023-02-04T08:07:31.702Z"
   },
   {
    "duration": 396,
    "start_time": "2023-02-04T08:07:31.710Z"
   },
   {
    "duration": 6,
    "start_time": "2023-02-04T08:07:32.108Z"
   },
   {
    "duration": 856,
    "start_time": "2023-02-04T08:07:32.115Z"
   },
   {
    "duration": 384,
    "start_time": "2023-02-04T08:07:32.975Z"
   },
   {
    "duration": 461,
    "start_time": "2023-02-04T08:07:33.361Z"
   },
   {
    "duration": 300,
    "start_time": "2023-02-04T08:07:33.824Z"
   },
   {
    "duration": 6,
    "start_time": "2023-02-04T08:07:34.126Z"
   },
   {
    "duration": 891,
    "start_time": "2023-02-04T08:09:46.306Z"
   },
   {
    "duration": 507,
    "start_time": "2023-02-04T08:12:31.686Z"
   },
   {
    "duration": 1459,
    "start_time": "2023-02-04T08:12:38.969Z"
   },
   {
    "duration": 42,
    "start_time": "2023-02-04T08:12:40.431Z"
   },
   {
    "duration": 5,
    "start_time": "2023-02-04T08:12:40.475Z"
   },
   {
    "duration": 20,
    "start_time": "2023-02-04T08:12:40.482Z"
   },
   {
    "duration": 40,
    "start_time": "2023-02-04T08:12:40.504Z"
   },
   {
    "duration": 12,
    "start_time": "2023-02-04T08:12:40.546Z"
   },
   {
    "duration": 5,
    "start_time": "2023-02-04T08:12:40.560Z"
   },
   {
    "duration": 28,
    "start_time": "2023-02-04T08:12:40.567Z"
   },
   {
    "duration": 23,
    "start_time": "2023-02-04T08:12:40.597Z"
   },
   {
    "duration": 3,
    "start_time": "2023-02-04T08:12:40.622Z"
   },
   {
    "duration": 9,
    "start_time": "2023-02-04T08:12:40.627Z"
   },
   {
    "duration": 12,
    "start_time": "2023-02-04T08:12:40.637Z"
   },
   {
    "duration": 6,
    "start_time": "2023-02-04T08:12:40.650Z"
   },
   {
    "duration": 49,
    "start_time": "2023-02-04T08:12:40.659Z"
   },
   {
    "duration": 16,
    "start_time": "2023-02-04T08:12:40.709Z"
   },
   {
    "duration": 18,
    "start_time": "2023-02-04T08:12:40.727Z"
   },
   {
    "duration": 26,
    "start_time": "2023-02-04T08:12:40.747Z"
   },
   {
    "duration": 18,
    "start_time": "2023-02-04T08:12:40.775Z"
   },
   {
    "duration": 9,
    "start_time": "2023-02-04T08:12:40.794Z"
   },
   {
    "duration": 5,
    "start_time": "2023-02-04T08:12:40.805Z"
   },
   {
    "duration": 135,
    "start_time": "2023-02-04T08:12:40.812Z"
   },
   {
    "duration": 5,
    "start_time": "2023-02-04T08:12:40.949Z"
   },
   {
    "duration": 16,
    "start_time": "2023-02-04T08:12:40.956Z"
   },
   {
    "duration": 17,
    "start_time": "2023-02-04T08:12:40.974Z"
   },
   {
    "duration": 8,
    "start_time": "2023-02-04T08:12:40.993Z"
   },
   {
    "duration": 124,
    "start_time": "2023-02-04T08:12:41.002Z"
   },
   {
    "duration": 127,
    "start_time": "2023-02-04T08:12:41.128Z"
   },
   {
    "duration": 123,
    "start_time": "2023-02-04T08:12:41.257Z"
   },
   {
    "duration": 26,
    "start_time": "2023-02-04T08:12:41.382Z"
   },
   {
    "duration": 19,
    "start_time": "2023-02-04T08:12:41.410Z"
   },
   {
    "duration": 714,
    "start_time": "2023-02-04T08:12:41.431Z"
   },
   {
    "duration": 74908,
    "start_time": "2023-02-04T08:12:42.147Z"
   },
   {
    "duration": 236,
    "start_time": "2023-02-04T08:13:57.057Z"
   },
   {
    "duration": 721,
    "start_time": "2023-02-04T08:13:57.295Z"
   },
   {
    "duration": 182,
    "start_time": "2023-02-04T08:13:58.018Z"
   },
   {
    "duration": 1015,
    "start_time": "2023-02-04T08:13:58.202Z"
   },
   {
    "duration": 6,
    "start_time": "2023-02-04T08:13:59.219Z"
   },
   {
    "duration": 401,
    "start_time": "2023-02-04T08:13:59.227Z"
   },
   {
    "duration": 6,
    "start_time": "2023-02-04T08:13:59.629Z"
   },
   {
    "duration": 833,
    "start_time": "2023-02-04T08:13:59.636Z"
   },
   {
    "duration": 390,
    "start_time": "2023-02-04T08:14:00.473Z"
   },
   {
    "duration": 443,
    "start_time": "2023-02-04T08:14:00.865Z"
   },
   {
    "duration": 320,
    "start_time": "2023-02-04T08:14:01.309Z"
   },
   {
    "duration": 8,
    "start_time": "2023-02-04T08:14:01.631Z"
   },
   {
    "duration": 1310,
    "start_time": "2023-02-04T08:15:46.310Z"
   },
   {
    "duration": 41,
    "start_time": "2023-02-04T08:15:47.622Z"
   },
   {
    "duration": 5,
    "start_time": "2023-02-04T08:15:47.665Z"
   },
   {
    "duration": 16,
    "start_time": "2023-02-04T08:15:47.671Z"
   },
   {
    "duration": 39,
    "start_time": "2023-02-04T08:15:47.689Z"
   },
   {
    "duration": 11,
    "start_time": "2023-02-04T08:15:47.730Z"
   },
   {
    "duration": 4,
    "start_time": "2023-02-04T08:15:47.742Z"
   },
   {
    "duration": 5,
    "start_time": "2023-02-04T08:15:47.748Z"
   },
   {
    "duration": 40,
    "start_time": "2023-02-04T08:15:47.755Z"
   },
   {
    "duration": 4,
    "start_time": "2023-02-04T08:15:47.796Z"
   },
   {
    "duration": 8,
    "start_time": "2023-02-04T08:15:47.801Z"
   },
   {
    "duration": 18,
    "start_time": "2023-02-04T08:15:47.810Z"
   },
   {
    "duration": 20,
    "start_time": "2023-02-04T08:15:47.830Z"
   },
   {
    "duration": 15,
    "start_time": "2023-02-04T08:15:47.853Z"
   },
   {
    "duration": 4,
    "start_time": "2023-02-04T08:15:47.870Z"
   },
   {
    "duration": 5,
    "start_time": "2023-02-04T08:15:47.875Z"
   },
   {
    "duration": 15,
    "start_time": "2023-02-04T08:15:47.882Z"
   },
   {
    "duration": 12,
    "start_time": "2023-02-04T08:15:47.899Z"
   },
   {
    "duration": 6,
    "start_time": "2023-02-04T08:15:47.912Z"
   },
   {
    "duration": 5,
    "start_time": "2023-02-04T08:15:47.919Z"
   },
   {
    "duration": 128,
    "start_time": "2023-02-04T08:15:47.926Z"
   },
   {
    "duration": 5,
    "start_time": "2023-02-04T08:15:48.056Z"
   },
   {
    "duration": 27,
    "start_time": "2023-02-04T08:15:48.063Z"
   },
   {
    "duration": 4,
    "start_time": "2023-02-04T08:15:48.092Z"
   },
   {
    "duration": 8,
    "start_time": "2023-02-04T08:15:48.097Z"
   },
   {
    "duration": 116,
    "start_time": "2023-02-04T08:15:48.107Z"
   },
   {
    "duration": 110,
    "start_time": "2023-02-04T08:15:48.225Z"
   },
   {
    "duration": 115,
    "start_time": "2023-02-04T08:15:48.337Z"
   },
   {
    "duration": 2,
    "start_time": "2023-02-04T08:15:48.454Z"
   },
   {
    "duration": 35,
    "start_time": "2023-02-04T08:15:48.458Z"
   },
   {
    "duration": 671,
    "start_time": "2023-02-04T08:15:48.495Z"
   },
   {
    "duration": 73742,
    "start_time": "2023-02-04T08:15:49.168Z"
   },
   {
    "duration": 681,
    "start_time": "2023-02-04T08:17:02.912Z"
   },
   {
    "duration": 728,
    "start_time": "2023-02-04T08:17:03.595Z"
   },
   {
    "duration": 476,
    "start_time": "2023-02-04T08:17:04.325Z"
   },
   {
    "duration": 940,
    "start_time": "2023-02-04T08:17:04.893Z"
   },
   {
    "duration": 6,
    "start_time": "2023-02-04T08:17:05.836Z"
   },
   {
    "duration": 458,
    "start_time": "2023-02-04T08:17:05.844Z"
   },
   {
    "duration": 7,
    "start_time": "2023-02-04T08:17:06.304Z"
   },
   {
    "duration": 839,
    "start_time": "2023-02-04T08:17:06.312Z"
   },
   {
    "duration": 396,
    "start_time": "2023-02-04T08:17:07.154Z"
   },
   {
    "duration": 774,
    "start_time": "2023-02-04T08:17:07.552Z"
   },
   {
    "duration": 426,
    "start_time": "2023-02-04T08:17:08.393Z"
   },
   {
    "duration": 6,
    "start_time": "2023-02-04T08:17:08.821Z"
   },
   {
    "duration": 1247,
    "start_time": "2023-02-04T08:23:27.842Z"
   },
   {
    "duration": 597,
    "start_time": "2023-02-04T08:26:52.160Z"
   },
   {
    "duration": 837,
    "start_time": "2023-02-04T08:30:14.170Z"
   },
   {
    "duration": 102,
    "start_time": "2023-02-04T10:47:54.509Z"
   },
   {
    "duration": 1339,
    "start_time": "2023-02-04T10:48:03.895Z"
   },
   {
    "duration": 42,
    "start_time": "2023-02-04T10:48:05.236Z"
   },
   {
    "duration": 5,
    "start_time": "2023-02-04T10:48:05.279Z"
   },
   {
    "duration": 21,
    "start_time": "2023-02-04T10:48:05.286Z"
   },
   {
    "duration": 40,
    "start_time": "2023-02-04T10:48:05.308Z"
   },
   {
    "duration": 15,
    "start_time": "2023-02-04T10:48:05.350Z"
   },
   {
    "duration": 4,
    "start_time": "2023-02-04T10:48:05.367Z"
   },
   {
    "duration": 5,
    "start_time": "2023-02-04T10:48:05.393Z"
   },
   {
    "duration": 15,
    "start_time": "2023-02-04T10:48:05.400Z"
   },
   {
    "duration": 5,
    "start_time": "2023-02-04T10:48:05.418Z"
   },
   {
    "duration": 7,
    "start_time": "2023-02-04T10:48:05.424Z"
   },
   {
    "duration": 7,
    "start_time": "2023-02-04T10:48:05.432Z"
   },
   {
    "duration": 3,
    "start_time": "2023-02-04T10:48:05.440Z"
   },
   {
    "duration": 17,
    "start_time": "2023-02-04T10:48:05.444Z"
   },
   {
    "duration": 4,
    "start_time": "2023-02-04T10:48:05.491Z"
   },
   {
    "duration": 4,
    "start_time": "2023-02-04T10:48:05.497Z"
   },
   {
    "duration": 19,
    "start_time": "2023-02-04T10:48:05.502Z"
   },
   {
    "duration": 15,
    "start_time": "2023-02-04T10:48:05.522Z"
   },
   {
    "duration": 5,
    "start_time": "2023-02-04T10:48:05.538Z"
   },
   {
    "duration": 4,
    "start_time": "2023-02-04T10:48:05.545Z"
   },
   {
    "duration": 150,
    "start_time": "2023-02-04T10:48:05.550Z"
   },
   {
    "duration": 6,
    "start_time": "2023-02-04T10:48:05.701Z"
   },
   {
    "duration": 17,
    "start_time": "2023-02-04T10:48:05.708Z"
   },
   {
    "duration": 5,
    "start_time": "2023-02-04T10:48:05.726Z"
   },
   {
    "duration": 8,
    "start_time": "2023-02-04T10:48:05.733Z"
   },
   {
    "duration": 122,
    "start_time": "2023-02-04T10:48:05.743Z"
   },
   {
    "duration": 151,
    "start_time": "2023-02-04T10:48:05.866Z"
   },
   {
    "duration": 145,
    "start_time": "2023-02-04T10:48:06.022Z"
   },
   {
    "duration": 40,
    "start_time": "2023-02-04T10:48:06.168Z"
   },
   {
    "duration": 20,
    "start_time": "2023-02-04T10:48:06.210Z"
   },
   {
    "duration": 672,
    "start_time": "2023-02-04T10:48:06.232Z"
   },
   {
    "duration": 74303,
    "start_time": "2023-02-04T10:48:06.906Z"
   },
   {
    "duration": 194,
    "start_time": "2023-02-04T10:49:21.211Z"
   },
   {
    "duration": 820,
    "start_time": "2023-02-04T10:49:21.406Z"
   },
   {
    "duration": 166,
    "start_time": "2023-02-04T10:49:22.228Z"
   },
   {
    "duration": 979,
    "start_time": "2023-02-04T10:49:22.396Z"
   },
   {
    "duration": 6,
    "start_time": "2023-02-04T10:49:23.377Z"
   },
   {
    "duration": 420,
    "start_time": "2023-02-04T10:49:23.392Z"
   },
   {
    "duration": 6,
    "start_time": "2023-02-04T10:49:23.813Z"
   },
   {
    "duration": 11,
    "start_time": "2023-02-04T10:49:23.821Z"
   },
   {
    "duration": 900,
    "start_time": "2023-02-04T10:49:23.833Z"
   },
   {
    "duration": 411,
    "start_time": "2023-02-04T10:49:24.735Z"
   },
   {
    "duration": 474,
    "start_time": "2023-02-04T10:49:25.148Z"
   },
   {
    "duration": 291,
    "start_time": "2023-02-04T10:49:25.625Z"
   },
   {
    "duration": 8,
    "start_time": "2023-02-04T10:49:25.918Z"
   },
   {
    "duration": 1963,
    "start_time": "2023-02-04T10:50:50.544Z"
   },
   {
    "duration": 849,
    "start_time": "2023-02-04T10:51:02.269Z"
   },
   {
    "duration": 832,
    "start_time": "2023-02-04T10:51:16.460Z"
   },
   {
    "duration": 381,
    "start_time": "2023-02-04T10:51:28.635Z"
   },
   {
    "duration": 102146,
    "start_time": "2023-02-04T10:53:37.464Z"
   },
   {
    "duration": 1975,
    "start_time": "2023-02-04T10:55:53.941Z"
   },
   {
    "duration": 1820,
    "start_time": "2023-02-04T10:56:10.315Z"
   },
   {
    "duration": 426,
    "start_time": "2023-02-04T10:56:31.140Z"
   },
   {
    "duration": 854,
    "start_time": "2023-02-04T10:56:42.899Z"
   },
   {
    "duration": 126,
    "start_time": "2023-02-04T10:56:58.370Z"
   },
   {
    "duration": 216,
    "start_time": "2023-02-04T10:57:27.282Z"
   },
   {
    "duration": 144,
    "start_time": "2023-02-04T10:57:37.750Z"
   },
   {
    "duration": 613,
    "start_time": "2023-02-04T10:57:43.850Z"
   },
   {
    "duration": 138,
    "start_time": "2023-02-04T10:57:51.355Z"
   },
   {
    "duration": 1297,
    "start_time": "2023-02-04T11:03:54.264Z"
   },
   {
    "duration": 1424,
    "start_time": "2023-02-04T11:04:08.303Z"
   },
   {
    "duration": 1349,
    "start_time": "2023-02-04T11:04:22.989Z"
   },
   {
    "duration": 1394,
    "start_time": "2023-02-04T11:04:31.188Z"
   },
   {
    "duration": 15,
    "start_time": "2023-02-04T11:11:13.016Z"
   },
   {
    "duration": 16,
    "start_time": "2023-02-04T11:11:33.435Z"
   },
   {
    "duration": 1272,
    "start_time": "2023-02-04T11:11:49.520Z"
   },
   {
    "duration": 40,
    "start_time": "2023-02-04T11:11:50.794Z"
   },
   {
    "duration": 19,
    "start_time": "2023-02-04T11:11:50.836Z"
   },
   {
    "duration": 26,
    "start_time": "2023-02-04T11:11:50.857Z"
   },
   {
    "duration": 41,
    "start_time": "2023-02-04T11:11:50.885Z"
   },
   {
    "duration": 12,
    "start_time": "2023-02-04T11:11:50.928Z"
   },
   {
    "duration": 4,
    "start_time": "2023-02-04T11:11:50.941Z"
   },
   {
    "duration": 5,
    "start_time": "2023-02-04T11:11:50.947Z"
   },
   {
    "duration": 14,
    "start_time": "2023-02-04T11:11:50.954Z"
   },
   {
    "duration": 7,
    "start_time": "2023-02-04T11:11:50.991Z"
   },
   {
    "duration": 6,
    "start_time": "2023-02-04T11:11:50.999Z"
   },
   {
    "duration": 8,
    "start_time": "2023-02-04T11:11:51.007Z"
   },
   {
    "duration": 3,
    "start_time": "2023-02-04T11:11:51.017Z"
   },
   {
    "duration": 12,
    "start_time": "2023-02-04T11:11:51.022Z"
   },
   {
    "duration": 3,
    "start_time": "2023-02-04T11:11:51.036Z"
   },
   {
    "duration": 16,
    "start_time": "2023-02-04T11:11:51.040Z"
   },
   {
    "duration": 29,
    "start_time": "2023-02-04T11:11:51.057Z"
   },
   {
    "duration": 11,
    "start_time": "2023-02-04T11:11:51.088Z"
   },
   {
    "duration": 6,
    "start_time": "2023-02-04T11:11:51.101Z"
   },
   {
    "duration": 6,
    "start_time": "2023-02-04T11:11:51.109Z"
   },
   {
    "duration": 132,
    "start_time": "2023-02-04T11:11:51.116Z"
   },
   {
    "duration": 5,
    "start_time": "2023-02-04T11:11:51.249Z"
   },
   {
    "duration": 15,
    "start_time": "2023-02-04T11:11:51.256Z"
   },
   {
    "duration": 4,
    "start_time": "2023-02-04T11:11:51.272Z"
   },
   {
    "duration": 7,
    "start_time": "2023-02-04T11:11:51.292Z"
   },
   {
    "duration": 104,
    "start_time": "2023-02-04T11:11:51.301Z"
   },
   {
    "duration": 116,
    "start_time": "2023-02-04T11:11:51.407Z"
   },
   {
    "duration": 131,
    "start_time": "2023-02-04T11:11:51.526Z"
   },
   {
    "duration": 37,
    "start_time": "2023-02-04T11:11:51.659Z"
   },
   {
    "duration": 17,
    "start_time": "2023-02-04T11:11:51.698Z"
   },
   {
    "duration": 14,
    "start_time": "2023-02-04T11:11:51.717Z"
   },
   {
    "duration": 18,
    "start_time": "2023-02-04T11:11:51.733Z"
   },
   {
    "duration": 679,
    "start_time": "2023-02-04T11:11:51.753Z"
   },
   {
    "duration": 74540,
    "start_time": "2023-02-04T11:11:52.434Z"
   },
   {
    "duration": 528,
    "start_time": "2023-02-04T11:13:06.975Z"
   },
   {
    "duration": 1420,
    "start_time": "2023-02-04T11:13:07.505Z"
   },
   {
    "duration": 174,
    "start_time": "2023-02-04T11:13:08.927Z"
   },
   {
    "duration": 929,
    "start_time": "2023-02-04T11:13:09.191Z"
   },
   {
    "duration": 6,
    "start_time": "2023-02-04T11:13:10.122Z"
   },
   {
    "duration": 398,
    "start_time": "2023-02-04T11:13:10.129Z"
   },
   {
    "duration": 6,
    "start_time": "2023-02-04T11:13:10.528Z"
   },
   {
    "duration": 10,
    "start_time": "2023-02-04T11:13:10.535Z"
   },
   {
    "duration": 1757,
    "start_time": "2023-02-04T11:13:10.547Z"
   },
   {
    "duration": 100637,
    "start_time": "2023-02-04T11:13:12.306Z"
   },
   {
    "duration": 401,
    "start_time": "2023-02-04T11:14:52.944Z"
   },
   {
    "duration": 574,
    "start_time": "2023-02-04T11:14:53.349Z"
   },
   {
    "duration": 301,
    "start_time": "2023-02-04T11:14:53.925Z"
   },
   {
    "duration": 6,
    "start_time": "2023-02-04T11:14:54.228Z"
   },
   {
    "duration": 1653,
    "start_time": "2023-02-04T11:19:27.798Z"
   },
   {
    "duration": 211,
    "start_time": "2023-02-04T11:20:54.083Z"
   },
   {
    "duration": 82,
    "start_time": "2023-02-04T11:21:44.018Z"
   },
   {
    "duration": 99408,
    "start_time": "2023-02-04T11:26:35.766Z"
   },
   {
    "duration": 1717,
    "start_time": "2023-02-04T11:28:41.016Z"
   },
   {
    "duration": 831,
    "start_time": "2023-02-04T11:30:15.414Z"
   },
   {
    "duration": 781,
    "start_time": "2023-02-04T11:30:42.221Z"
   },
   {
    "duration": 813,
    "start_time": "2023-02-04T11:30:57.088Z"
   },
   {
    "duration": 284,
    "start_time": "2023-02-04T11:31:46.976Z"
   },
   {
    "duration": 608,
    "start_time": "2023-02-04T11:35:31.585Z"
   },
   {
    "duration": 125,
    "start_time": "2023-02-04T11:37:15.841Z"
   },
   {
    "duration": 139,
    "start_time": "2023-02-04T11:40:27.155Z"
   },
   {
    "duration": 111,
    "start_time": "2023-02-04T11:40:34.719Z"
   },
   {
    "duration": 1999,
    "start_time": "2023-02-04T14:09:51.943Z"
   },
   {
    "duration": 1268,
    "start_time": "2023-02-04T14:13:11.947Z"
   },
   {
    "duration": 41,
    "start_time": "2023-02-04T14:13:13.217Z"
   },
   {
    "duration": 6,
    "start_time": "2023-02-04T14:13:13.260Z"
   },
   {
    "duration": 18,
    "start_time": "2023-02-04T14:13:13.268Z"
   },
   {
    "duration": 39,
    "start_time": "2023-02-04T14:13:13.288Z"
   },
   {
    "duration": 12,
    "start_time": "2023-02-04T14:13:13.329Z"
   },
   {
    "duration": 5,
    "start_time": "2023-02-04T14:13:13.342Z"
   },
   {
    "duration": 5,
    "start_time": "2023-02-04T14:13:13.348Z"
   },
   {
    "duration": 12,
    "start_time": "2023-02-04T14:13:13.354Z"
   },
   {
    "duration": 26,
    "start_time": "2023-02-04T14:13:13.368Z"
   },
   {
    "duration": 7,
    "start_time": "2023-02-04T14:13:13.395Z"
   },
   {
    "duration": 6,
    "start_time": "2023-02-04T14:13:13.403Z"
   },
   {
    "duration": 5,
    "start_time": "2023-02-04T14:13:13.411Z"
   },
   {
    "duration": 12,
    "start_time": "2023-02-04T14:13:13.419Z"
   },
   {
    "duration": 2,
    "start_time": "2023-02-04T14:13:13.433Z"
   },
   {
    "duration": 8,
    "start_time": "2023-02-04T14:13:13.437Z"
   },
   {
    "duration": 23,
    "start_time": "2023-02-04T14:13:13.446Z"
   },
   {
    "duration": 22,
    "start_time": "2023-02-04T14:13:13.471Z"
   },
   {
    "duration": 3,
    "start_time": "2023-02-04T14:13:13.494Z"
   },
   {
    "duration": 6,
    "start_time": "2023-02-04T14:13:13.499Z"
   },
   {
    "duration": 135,
    "start_time": "2023-02-04T14:13:13.506Z"
   },
   {
    "duration": 6,
    "start_time": "2023-02-04T14:13:13.643Z"
   },
   {
    "duration": 18,
    "start_time": "2023-02-04T14:13:13.651Z"
   },
   {
    "duration": 5,
    "start_time": "2023-02-04T14:13:13.671Z"
   },
   {
    "duration": 7,
    "start_time": "2023-02-04T14:13:13.691Z"
   },
   {
    "duration": 105,
    "start_time": "2023-02-04T14:13:13.699Z"
   },
   {
    "duration": 113,
    "start_time": "2023-02-04T14:13:13.805Z"
   },
   {
    "duration": 135,
    "start_time": "2023-02-04T14:13:13.919Z"
   },
   {
    "duration": 24,
    "start_time": "2023-02-04T14:13:14.056Z"
   },
   {
    "duration": 19,
    "start_time": "2023-02-04T14:13:14.082Z"
   },
   {
    "duration": 17,
    "start_time": "2023-02-04T14:13:14.102Z"
   },
   {
    "duration": 36,
    "start_time": "2023-02-04T14:13:14.121Z"
   },
   {
    "duration": 732,
    "start_time": "2023-02-04T14:13:14.158Z"
   },
   {
    "duration": 1914566,
    "start_time": "2023-02-04T14:13:14.892Z"
   },
   {
    "duration": 232,
    "start_time": "2023-02-04T14:45:09.460Z"
   },
   {
    "duration": 1345,
    "start_time": "2023-02-04T14:45:09.694Z"
   },
   {
    "duration": 156,
    "start_time": "2023-02-04T14:45:11.041Z"
   },
   {
    "duration": 1879,
    "start_time": "2023-02-04T14:45:11.199Z"
   },
   {
    "duration": 313,
    "start_time": "2023-02-04T14:45:13.080Z"
   },
   {
    "duration": 8,
    "start_time": "2023-02-04T14:45:13.395Z"
   },
   {
    "duration": 387,
    "start_time": "2023-02-04T14:45:13.495Z"
   },
   {
    "duration": 113,
    "start_time": "2023-02-04T14:45:13.884Z"
   },
   {
    "duration": 98,
    "start_time": "2023-02-04T14:45:13.999Z"
   },
   {
    "duration": 98,
    "start_time": "2023-02-04T14:45:14.099Z"
   },
   {
    "duration": 2095,
    "start_time": "2023-02-04T14:45:14.199Z"
   },
   {
    "duration": 149,
    "start_time": "2023-02-04T14:45:16.296Z"
   },
   {
    "duration": 3,
    "start_time": "2023-02-04T14:45:16.447Z"
   },
   {
    "duration": 448,
    "start_time": "2023-02-04T14:45:16.452Z"
   },
   {
    "duration": 7,
    "start_time": "2023-02-04T14:45:16.901Z"
   },
   {
    "duration": 1303,
    "start_time": "2023-02-04T17:13:14.815Z"
   },
   {
    "duration": 41,
    "start_time": "2023-02-04T17:13:16.120Z"
   },
   {
    "duration": 5,
    "start_time": "2023-02-04T17:13:16.163Z"
   },
   {
    "duration": 24,
    "start_time": "2023-02-04T17:13:16.169Z"
   },
   {
    "duration": 39,
    "start_time": "2023-02-04T17:13:16.195Z"
   },
   {
    "duration": 11,
    "start_time": "2023-02-04T17:13:16.235Z"
   },
   {
    "duration": 4,
    "start_time": "2023-02-04T17:13:16.248Z"
   },
   {
    "duration": 8,
    "start_time": "2023-02-04T17:13:16.253Z"
   },
   {
    "duration": 38,
    "start_time": "2023-02-04T17:13:16.263Z"
   },
   {
    "duration": 4,
    "start_time": "2023-02-04T17:13:16.303Z"
   },
   {
    "duration": 5,
    "start_time": "2023-02-04T17:13:16.308Z"
   },
   {
    "duration": 7,
    "start_time": "2023-02-04T17:13:16.315Z"
   },
   {
    "duration": 7,
    "start_time": "2023-02-04T17:13:16.324Z"
   },
   {
    "duration": 14,
    "start_time": "2023-02-04T17:13:16.334Z"
   },
   {
    "duration": 7,
    "start_time": "2023-02-04T17:13:16.350Z"
   },
   {
    "duration": 6,
    "start_time": "2023-02-04T17:13:16.358Z"
   },
   {
    "duration": 28,
    "start_time": "2023-02-04T17:13:16.365Z"
   },
   {
    "duration": 12,
    "start_time": "2023-02-04T17:13:16.395Z"
   },
   {
    "duration": 4,
    "start_time": "2023-02-04T17:13:16.409Z"
   },
   {
    "duration": 5,
    "start_time": "2023-02-04T17:13:16.415Z"
   },
   {
    "duration": 143,
    "start_time": "2023-02-04T17:13:16.422Z"
   },
   {
    "duration": 5,
    "start_time": "2023-02-04T17:13:16.567Z"
   },
   {
    "duration": 25,
    "start_time": "2023-02-04T17:13:16.573Z"
   },
   {
    "duration": 4,
    "start_time": "2023-02-04T17:13:16.599Z"
   },
   {
    "duration": 7,
    "start_time": "2023-02-04T17:13:16.605Z"
   },
   {
    "duration": 106,
    "start_time": "2023-02-04T17:13:16.614Z"
   },
   {
    "duration": 109,
    "start_time": "2023-02-04T17:13:16.721Z"
   },
   {
    "duration": 113,
    "start_time": "2023-02-04T17:13:16.832Z"
   },
   {
    "duration": 20,
    "start_time": "2023-02-04T17:13:16.947Z"
   },
   {
    "duration": 10,
    "start_time": "2023-02-04T17:13:16.968Z"
   },
   {
    "duration": 11,
    "start_time": "2023-02-04T17:13:16.992Z"
   },
   {
    "duration": 11,
    "start_time": "2023-02-04T17:13:17.005Z"
   },
   {
    "duration": 647,
    "start_time": "2023-02-04T17:13:17.018Z"
   },
   {
    "duration": 70702,
    "start_time": "2023-02-04T17:13:17.667Z"
   },
   {
    "duration": 323,
    "start_time": "2023-02-04T17:14:28.370Z"
   },
   {
    "duration": 1304,
    "start_time": "2023-02-04T17:14:28.695Z"
   },
   {
    "duration": 199,
    "start_time": "2023-02-04T17:14:30.001Z"
   },
   {
    "duration": 1878,
    "start_time": "2023-02-04T17:14:30.202Z"
   },
   {
    "duration": 220,
    "start_time": "2023-02-04T17:14:32.082Z"
   },
   {
    "duration": 7,
    "start_time": "2023-02-04T17:14:32.393Z"
   },
   {
    "duration": 441,
    "start_time": "2023-02-04T17:14:32.493Z"
   },
   {
    "duration": 165,
    "start_time": "2023-02-04T17:14:32.936Z"
   },
   {
    "duration": 103,
    "start_time": "2023-02-04T17:14:33.193Z"
   },
   {
    "duration": 11,
    "start_time": "2023-02-04T17:14:33.298Z"
   },
   {
    "duration": 1671,
    "start_time": "2023-02-04T17:14:33.311Z"
   },
   {
    "duration": 129,
    "start_time": "2023-02-04T17:14:34.984Z"
   },
   {
    "duration": 3,
    "start_time": "2023-02-04T17:14:35.115Z"
   },
   {
    "duration": 439,
    "start_time": "2023-02-04T17:14:35.119Z"
   },
   {
    "duration": 6,
    "start_time": "2023-02-04T17:14:35.559Z"
   },
   {
    "duration": 4,
    "start_time": "2023-02-04T17:16:49.242Z"
   },
   {
    "duration": 1308,
    "start_time": "2023-02-04T17:20:53.354Z"
   },
   {
    "duration": 42,
    "start_time": "2023-02-04T17:20:54.664Z"
   },
   {
    "duration": 5,
    "start_time": "2023-02-04T17:20:54.708Z"
   },
   {
    "duration": 19,
    "start_time": "2023-02-04T17:20:54.715Z"
   },
   {
    "duration": 57,
    "start_time": "2023-02-04T17:20:54.736Z"
   },
   {
    "duration": 12,
    "start_time": "2023-02-04T17:20:54.794Z"
   },
   {
    "duration": 4,
    "start_time": "2023-02-04T17:20:54.808Z"
   },
   {
    "duration": 8,
    "start_time": "2023-02-04T17:20:54.813Z"
   },
   {
    "duration": 16,
    "start_time": "2023-02-04T17:20:54.823Z"
   },
   {
    "duration": 4,
    "start_time": "2023-02-04T17:20:54.840Z"
   },
   {
    "duration": 11,
    "start_time": "2023-02-04T17:20:54.846Z"
   },
   {
    "duration": 12,
    "start_time": "2023-02-04T17:20:54.858Z"
   },
   {
    "duration": 25,
    "start_time": "2023-02-04T17:20:54.872Z"
   },
   {
    "duration": 16,
    "start_time": "2023-02-04T17:20:54.900Z"
   },
   {
    "duration": 4,
    "start_time": "2023-02-04T17:20:54.918Z"
   },
   {
    "duration": 7,
    "start_time": "2023-02-04T17:20:54.924Z"
   },
   {
    "duration": 15,
    "start_time": "2023-02-04T17:20:54.933Z"
   },
   {
    "duration": 13,
    "start_time": "2023-02-04T17:20:54.950Z"
   },
   {
    "duration": 16,
    "start_time": "2023-02-04T17:20:54.964Z"
   },
   {
    "duration": 6,
    "start_time": "2023-02-04T17:20:54.992Z"
   },
   {
    "duration": 134,
    "start_time": "2023-02-04T17:20:54.999Z"
   },
   {
    "duration": 5,
    "start_time": "2023-02-04T17:20:55.134Z"
   },
   {
    "duration": 14,
    "start_time": "2023-02-04T17:20:55.141Z"
   },
   {
    "duration": 4,
    "start_time": "2023-02-04T17:20:55.157Z"
   },
   {
    "duration": 11,
    "start_time": "2023-02-04T17:20:55.163Z"
   },
   {
    "duration": 120,
    "start_time": "2023-02-04T17:20:55.176Z"
   },
   {
    "duration": 117,
    "start_time": "2023-02-04T17:20:55.298Z"
   },
   {
    "duration": 126,
    "start_time": "2023-02-04T17:20:55.417Z"
   },
   {
    "duration": 21,
    "start_time": "2023-02-04T17:20:55.544Z"
   },
   {
    "duration": 26,
    "start_time": "2023-02-04T17:20:55.566Z"
   },
   {
    "duration": 11,
    "start_time": "2023-02-04T17:20:55.594Z"
   },
   {
    "duration": 14,
    "start_time": "2023-02-04T17:20:55.607Z"
   },
   {
    "duration": 705,
    "start_time": "2023-02-04T17:20:55.622Z"
   },
   {
    "duration": 71255,
    "start_time": "2023-02-04T17:20:56.329Z"
   },
   {
    "duration": 205,
    "start_time": "2023-02-04T17:22:07.591Z"
   },
   {
    "duration": 1390,
    "start_time": "2023-02-04T17:22:07.798Z"
   },
   {
    "duration": 206,
    "start_time": "2023-02-04T17:22:09.191Z"
   },
   {
    "duration": 1844,
    "start_time": "2023-02-04T17:22:09.400Z"
   },
   {
    "duration": 255,
    "start_time": "2023-02-04T17:22:11.246Z"
   },
   {
    "duration": 101,
    "start_time": "2023-02-04T17:22:11.592Z"
   },
   {
    "duration": 379,
    "start_time": "2023-02-04T17:22:11.696Z"
   },
   {
    "duration": 123,
    "start_time": "2023-02-04T17:22:12.077Z"
   },
   {
    "duration": 7,
    "start_time": "2023-02-04T17:22:12.292Z"
   },
   {
    "duration": 101,
    "start_time": "2023-02-04T17:22:12.301Z"
   },
   {
    "duration": 1702,
    "start_time": "2023-02-04T17:22:12.403Z"
   },
   {
    "duration": 130,
    "start_time": "2023-02-04T17:22:14.107Z"
   },
   {
    "duration": 3,
    "start_time": "2023-02-04T17:22:14.239Z"
   },
   {
    "duration": 521,
    "start_time": "2023-02-04T17:22:14.243Z"
   },
   {
    "duration": 6,
    "start_time": "2023-02-04T17:22:14.766Z"
   },
   {
    "duration": 1096,
    "start_time": "2023-02-04T17:23:53.437Z"
   },
   {
    "duration": 1477,
    "start_time": "2023-02-04T17:24:11.769Z"
   },
   {
    "duration": 626,
    "start_time": "2023-02-04T17:24:40.554Z"
   },
   {
    "duration": 1638,
    "start_time": "2023-02-04T17:24:55.937Z"
   },
   {
    "duration": 1275,
    "start_time": "2023-02-04T17:32:58.221Z"
   },
   {
    "duration": 40,
    "start_time": "2023-02-04T17:32:59.499Z"
   },
   {
    "duration": 6,
    "start_time": "2023-02-04T17:32:59.541Z"
   },
   {
    "duration": 19,
    "start_time": "2023-02-04T17:32:59.548Z"
   },
   {
    "duration": 40,
    "start_time": "2023-02-04T17:32:59.569Z"
   },
   {
    "duration": 12,
    "start_time": "2023-02-04T17:32:59.610Z"
   },
   {
    "duration": 4,
    "start_time": "2023-02-04T17:32:59.623Z"
   },
   {
    "duration": 7,
    "start_time": "2023-02-04T17:32:59.629Z"
   },
   {
    "duration": 14,
    "start_time": "2023-02-04T17:32:59.637Z"
   },
   {
    "duration": 3,
    "start_time": "2023-02-04T17:32:59.654Z"
   },
   {
    "duration": 33,
    "start_time": "2023-02-04T17:32:59.659Z"
   },
   {
    "duration": 7,
    "start_time": "2023-02-04T17:32:59.694Z"
   },
   {
    "duration": 4,
    "start_time": "2023-02-04T17:32:59.703Z"
   },
   {
    "duration": 13,
    "start_time": "2023-02-04T17:32:59.709Z"
   },
   {
    "duration": 3,
    "start_time": "2023-02-04T17:32:59.723Z"
   },
   {
    "duration": 6,
    "start_time": "2023-02-04T17:32:59.728Z"
   },
   {
    "duration": 17,
    "start_time": "2023-02-04T17:32:59.735Z"
   },
   {
    "duration": 12,
    "start_time": "2023-02-04T17:32:59.754Z"
   },
   {
    "duration": 5,
    "start_time": "2023-02-04T17:32:59.767Z"
   },
   {
    "duration": 2,
    "start_time": "2023-02-04T17:32:59.792Z"
   },
   {
    "duration": 137,
    "start_time": "2023-02-04T17:32:59.795Z"
   },
   {
    "duration": 5,
    "start_time": "2023-02-04T17:32:59.933Z"
   },
   {
    "duration": 15,
    "start_time": "2023-02-04T17:32:59.939Z"
   },
   {
    "duration": 4,
    "start_time": "2023-02-04T17:32:59.955Z"
   },
   {
    "duration": 7,
    "start_time": "2023-02-04T17:32:59.961Z"
   },
   {
    "duration": 148,
    "start_time": "2023-02-04T17:32:59.969Z"
   },
   {
    "duration": 131,
    "start_time": "2023-02-04T17:33:00.119Z"
   },
   {
    "duration": 124,
    "start_time": "2023-02-04T17:33:00.254Z"
   },
   {
    "duration": 29,
    "start_time": "2023-02-04T17:33:00.380Z"
   },
   {
    "duration": 19,
    "start_time": "2023-02-04T17:33:00.411Z"
   },
   {
    "duration": 34,
    "start_time": "2023-02-04T17:33:00.432Z"
   },
   {
    "duration": 29,
    "start_time": "2023-02-04T17:33:00.468Z"
   },
   {
    "duration": 666,
    "start_time": "2023-02-04T17:33:00.498Z"
   },
   {
    "duration": 368474,
    "start_time": "2023-02-04T17:33:01.166Z"
   },
   {
    "duration": 259,
    "start_time": "2023-02-04T17:39:09.641Z"
   },
   {
    "duration": 1265,
    "start_time": "2023-02-04T17:39:09.902Z"
   },
   {
    "duration": 227,
    "start_time": "2023-02-04T17:39:11.169Z"
   },
   {
    "duration": 1623,
    "start_time": "2023-02-04T17:39:11.398Z"
   },
   {
    "duration": 271,
    "start_time": "2023-02-04T17:39:13.022Z"
   },
   {
    "duration": 6,
    "start_time": "2023-02-04T17:39:13.295Z"
   },
   {
    "duration": 736,
    "start_time": "2023-02-04T17:39:13.302Z"
   },
   {
    "duration": 255,
    "start_time": "2023-02-04T17:39:14.040Z"
   },
   {
    "duration": 7,
    "start_time": "2023-02-04T17:39:14.297Z"
   },
   {
    "duration": 10,
    "start_time": "2023-02-04T17:39:14.392Z"
   },
   {
    "duration": 1537,
    "start_time": "2023-02-04T17:39:14.404Z"
   },
   {
    "duration": 117,
    "start_time": "2023-02-04T17:39:15.942Z"
   },
   {
    "duration": 619,
    "start_time": "2023-02-04T17:39:16.061Z"
   },
   {
    "duration": 14,
    "start_time": "2023-02-04T17:39:16.682Z"
   },
   {
    "duration": 473,
    "start_time": "2023-02-04T17:41:17.425Z"
   },
   {
    "duration": 637,
    "start_time": "2023-02-04T17:41:30.429Z"
   },
   {
    "duration": 317,
    "start_time": "2023-02-04T17:41:43.451Z"
   },
   {
    "duration": 680,
    "start_time": "2023-02-04T17:42:00.337Z"
   },
   {
    "duration": 1314,
    "start_time": "2023-02-04T17:44:24.289Z"
   },
   {
    "duration": 42,
    "start_time": "2023-02-04T17:44:25.605Z"
   },
   {
    "duration": 6,
    "start_time": "2023-02-04T17:44:25.648Z"
   },
   {
    "duration": 22,
    "start_time": "2023-02-04T17:44:25.656Z"
   },
   {
    "duration": 39,
    "start_time": "2023-02-04T17:44:25.679Z"
   },
   {
    "duration": 12,
    "start_time": "2023-02-04T17:44:25.719Z"
   },
   {
    "duration": 4,
    "start_time": "2023-02-04T17:44:25.732Z"
   },
   {
    "duration": 7,
    "start_time": "2023-02-04T17:44:25.737Z"
   },
   {
    "duration": 13,
    "start_time": "2023-02-04T17:44:25.745Z"
   },
   {
    "duration": 4,
    "start_time": "2023-02-04T17:44:25.760Z"
   },
   {
    "duration": 4,
    "start_time": "2023-02-04T17:44:25.791Z"
   },
   {
    "duration": 6,
    "start_time": "2023-02-04T17:44:25.797Z"
   },
   {
    "duration": 3,
    "start_time": "2023-02-04T17:44:25.805Z"
   },
   {
    "duration": 12,
    "start_time": "2023-02-04T17:44:25.809Z"
   },
   {
    "duration": 3,
    "start_time": "2023-02-04T17:44:25.822Z"
   },
   {
    "duration": 18,
    "start_time": "2023-02-04T17:44:25.826Z"
   },
   {
    "duration": 27,
    "start_time": "2023-02-04T17:44:25.846Z"
   },
   {
    "duration": 13,
    "start_time": "2023-02-04T17:44:25.875Z"
   },
   {
    "duration": 10,
    "start_time": "2023-02-04T17:44:25.889Z"
   },
   {
    "duration": 5,
    "start_time": "2023-02-04T17:44:25.901Z"
   },
   {
    "duration": 183,
    "start_time": "2023-02-04T17:44:25.908Z"
   },
   {
    "duration": 7,
    "start_time": "2023-02-04T17:44:26.093Z"
   },
   {
    "duration": 19,
    "start_time": "2023-02-04T17:44:26.102Z"
   },
   {
    "duration": 8,
    "start_time": "2023-02-04T17:44:26.124Z"
   },
   {
    "duration": 12,
    "start_time": "2023-02-04T17:44:26.134Z"
   },
   {
    "duration": 114,
    "start_time": "2023-02-04T17:44:26.148Z"
   },
   {
    "duration": 120,
    "start_time": "2023-02-04T17:44:26.263Z"
   },
   {
    "duration": 125,
    "start_time": "2023-02-04T17:44:26.386Z"
   },
   {
    "duration": 20,
    "start_time": "2023-02-04T17:44:26.514Z"
   },
   {
    "duration": 11,
    "start_time": "2023-02-04T17:44:26.536Z"
   },
   {
    "duration": 15,
    "start_time": "2023-02-04T17:44:26.549Z"
   },
   {
    "duration": 33,
    "start_time": "2023-02-04T17:44:26.565Z"
   },
   {
    "duration": 653,
    "start_time": "2023-02-04T17:44:26.600Z"
   },
   {
    "duration": 367226,
    "start_time": "2023-02-04T17:44:27.254Z"
   },
   {
    "duration": 214,
    "start_time": "2023-02-04T17:50:34.482Z"
   },
   {
    "duration": 654,
    "start_time": "2023-02-04T17:50:34.698Z"
   },
   {
    "duration": 242,
    "start_time": "2023-02-04T17:50:35.354Z"
   },
   {
    "duration": 771,
    "start_time": "2023-02-04T17:50:35.598Z"
   },
   {
    "duration": 226,
    "start_time": "2023-02-04T17:50:36.370Z"
   },
   {
    "duration": 101,
    "start_time": "2023-02-04T17:50:36.598Z"
   },
   {
    "duration": 394,
    "start_time": "2023-02-04T17:50:36.700Z"
   },
   {
    "duration": 104,
    "start_time": "2023-02-04T17:50:37.096Z"
   },
   {
    "duration": 192,
    "start_time": "2023-02-04T17:50:37.201Z"
   },
   {
    "duration": 10,
    "start_time": "2023-02-04T17:50:37.395Z"
   },
   {
    "duration": 646,
    "start_time": "2023-02-04T17:50:37.406Z"
   },
   {
    "duration": 78,
    "start_time": "2023-02-04T17:50:38.054Z"
   },
   {
    "duration": 377,
    "start_time": "2023-02-04T17:50:38.134Z"
   },
   {
    "duration": 7,
    "start_time": "2023-02-04T17:50:38.513Z"
   },
   {
    "duration": 68,
    "start_time": "2023-02-04T17:54:52.802Z"
   },
   {
    "duration": 278,
    "start_time": "2023-02-04T17:55:10.433Z"
   },
   {
    "duration": 127,
    "start_time": "2023-02-04T17:55:47.071Z"
   },
   {
    "duration": 41,
    "start_time": "2023-02-04T17:56:41.254Z"
   },
   {
    "duration": 625,
    "start_time": "2023-02-04T17:57:31.761Z"
   },
   {
    "duration": 288,
    "start_time": "2023-02-04T17:58:53.587Z"
   },
   {
    "duration": 630,
    "start_time": "2023-02-04T17:59:39.752Z"
   },
   {
    "duration": 476,
    "start_time": "2023-02-04T18:00:02.365Z"
   },
   {
    "duration": 505,
    "start_time": "2023-02-04T18:03:38.032Z"
   },
   {
    "duration": 1264,
    "start_time": "2023-02-04T18:04:07.344Z"
   },
   {
    "duration": 41,
    "start_time": "2023-02-04T18:04:08.610Z"
   },
   {
    "duration": 5,
    "start_time": "2023-02-04T18:04:08.653Z"
   },
   {
    "duration": 19,
    "start_time": "2023-02-04T18:04:08.659Z"
   },
   {
    "duration": 40,
    "start_time": "2023-02-04T18:04:08.680Z"
   },
   {
    "duration": 12,
    "start_time": "2023-02-04T18:04:08.722Z"
   },
   {
    "duration": 5,
    "start_time": "2023-02-04T18:04:08.735Z"
   },
   {
    "duration": 10,
    "start_time": "2023-02-04T18:04:08.742Z"
   },
   {
    "duration": 14,
    "start_time": "2023-02-04T18:04:08.753Z"
   },
   {
    "duration": 26,
    "start_time": "2023-02-04T18:04:08.769Z"
   },
   {
    "duration": 4,
    "start_time": "2023-02-04T18:04:08.797Z"
   },
   {
    "duration": 8,
    "start_time": "2023-02-04T18:04:08.803Z"
   },
   {
    "duration": 4,
    "start_time": "2023-02-04T18:04:08.812Z"
   },
   {
    "duration": 12,
    "start_time": "2023-02-04T18:04:08.819Z"
   },
   {
    "duration": 8,
    "start_time": "2023-02-04T18:04:08.833Z"
   },
   {
    "duration": 12,
    "start_time": "2023-02-04T18:04:08.842Z"
   },
   {
    "duration": 15,
    "start_time": "2023-02-04T18:04:08.855Z"
   },
   {
    "duration": 24,
    "start_time": "2023-02-04T18:04:08.872Z"
   },
   {
    "duration": 11,
    "start_time": "2023-02-04T18:04:08.898Z"
   },
   {
    "duration": 5,
    "start_time": "2023-02-04T18:04:08.911Z"
   },
   {
    "duration": 128,
    "start_time": "2023-02-04T18:04:08.918Z"
   },
   {
    "duration": 4,
    "start_time": "2023-02-04T18:04:09.048Z"
   },
   {
    "duration": 23,
    "start_time": "2023-02-04T18:04:09.054Z"
   },
   {
    "duration": 14,
    "start_time": "2023-02-04T18:04:09.078Z"
   },
   {
    "duration": 8,
    "start_time": "2023-02-04T18:04:09.093Z"
   },
   {
    "duration": 108,
    "start_time": "2023-02-04T18:04:09.103Z"
   },
   {
    "duration": 119,
    "start_time": "2023-02-04T18:04:09.213Z"
   },
   {
    "duration": 124,
    "start_time": "2023-02-04T18:04:09.334Z"
   },
   {
    "duration": 31,
    "start_time": "2023-02-04T18:04:09.461Z"
   },
   {
    "duration": 16,
    "start_time": "2023-02-04T18:04:09.495Z"
   },
   {
    "duration": 12,
    "start_time": "2023-02-04T18:04:09.513Z"
   },
   {
    "duration": 13,
    "start_time": "2023-02-04T18:04:09.526Z"
   },
   {
    "duration": 630,
    "start_time": "2023-02-04T18:04:09.540Z"
   },
   {
    "duration": 362763,
    "start_time": "2023-02-04T18:04:10.172Z"
   },
   {
    "duration": 163,
    "start_time": "2023-02-04T18:10:12.937Z"
   },
   {
    "duration": 612,
    "start_time": "2023-02-04T18:10:13.191Z"
   },
   {
    "duration": 196,
    "start_time": "2023-02-04T18:10:13.805Z"
   },
   {
    "duration": 856,
    "start_time": "2023-02-04T18:10:14.002Z"
   },
   {
    "duration": 235,
    "start_time": "2023-02-04T18:10:14.859Z"
   },
   {
    "duration": 7,
    "start_time": "2023-02-04T18:10:15.095Z"
   },
   {
    "duration": 317,
    "start_time": "2023-02-04T18:10:15.194Z"
   },
   {
    "duration": 184,
    "start_time": "2023-02-04T18:10:15.513Z"
   },
   {
    "duration": 99,
    "start_time": "2023-02-04T18:10:15.699Z"
   },
   {
    "duration": 106,
    "start_time": "2023-02-04T18:10:15.800Z"
   },
   {
    "duration": 692,
    "start_time": "2023-02-04T18:10:15.908Z"
   },
   {
    "duration": 36,
    "start_time": "2023-02-04T18:10:16.602Z"
   },
   {
    "duration": 257,
    "start_time": "2023-02-04T18:10:16.640Z"
   },
   {
    "duration": 98,
    "start_time": "2023-02-04T18:10:16.899Z"
   },
   {
    "duration": 1329,
    "start_time": "2023-02-05T16:42:29.732Z"
   },
   {
    "duration": 165,
    "start_time": "2023-02-05T16:42:31.063Z"
   },
   {
    "duration": 6,
    "start_time": "2023-02-05T16:42:31.229Z"
   },
   {
    "duration": 19,
    "start_time": "2023-02-05T16:42:31.237Z"
   },
   {
    "duration": 39,
    "start_time": "2023-02-05T16:42:31.258Z"
   },
   {
    "duration": 11,
    "start_time": "2023-02-05T16:42:31.298Z"
   },
   {
    "duration": 4,
    "start_time": "2023-02-05T16:42:31.310Z"
   },
   {
    "duration": 29,
    "start_time": "2023-02-05T16:42:31.315Z"
   },
   {
    "duration": 11,
    "start_time": "2023-02-05T16:42:31.345Z"
   },
   {
    "duration": 3,
    "start_time": "2023-02-05T16:42:31.360Z"
   },
   {
    "duration": 8,
    "start_time": "2023-02-05T16:42:31.365Z"
   },
   {
    "duration": 15,
    "start_time": "2023-02-05T16:42:31.374Z"
   },
   {
    "duration": 4,
    "start_time": "2023-02-05T16:42:31.391Z"
   },
   {
    "duration": 12,
    "start_time": "2023-02-05T16:42:31.397Z"
   },
   {
    "duration": 3,
    "start_time": "2023-02-05T16:42:31.410Z"
   },
   {
    "duration": 8,
    "start_time": "2023-02-05T16:42:31.414Z"
   },
   {
    "duration": 22,
    "start_time": "2023-02-05T16:42:31.423Z"
   },
   {
    "duration": 10,
    "start_time": "2023-02-05T16:42:31.447Z"
   },
   {
    "duration": 4,
    "start_time": "2023-02-05T16:42:31.458Z"
   },
   {
    "duration": 8,
    "start_time": "2023-02-05T16:42:31.463Z"
   },
   {
    "duration": 119,
    "start_time": "2023-02-05T16:42:31.472Z"
   },
   {
    "duration": 4,
    "start_time": "2023-02-05T16:42:31.593Z"
   },
   {
    "duration": 19,
    "start_time": "2023-02-05T16:42:31.598Z"
   },
   {
    "duration": 4,
    "start_time": "2023-02-05T16:42:31.618Z"
   },
   {
    "duration": 21,
    "start_time": "2023-02-05T16:42:31.623Z"
   },
   {
    "duration": 106,
    "start_time": "2023-02-05T16:42:31.645Z"
   },
   {
    "duration": 115,
    "start_time": "2023-02-05T16:42:31.754Z"
   },
   {
    "duration": 111,
    "start_time": "2023-02-05T16:42:31.873Z"
   },
   {
    "duration": 19,
    "start_time": "2023-02-05T16:42:31.986Z"
   },
   {
    "duration": 10,
    "start_time": "2023-02-05T16:42:32.007Z"
   },
   {
    "duration": 33,
    "start_time": "2023-02-05T16:42:32.018Z"
   },
   {
    "duration": 13,
    "start_time": "2023-02-05T16:42:32.053Z"
   },
   {
    "duration": 610,
    "start_time": "2023-02-05T16:42:32.067Z"
   },
   {
    "duration": 369346,
    "start_time": "2023-02-05T16:42:32.679Z"
   },
   {
    "duration": 425,
    "start_time": "2023-02-05T16:48:42.027Z"
   },
   {
    "duration": 657,
    "start_time": "2023-02-05T16:48:42.454Z"
   },
   {
    "duration": 537,
    "start_time": "2023-02-05T16:48:43.112Z"
   },
   {
    "duration": 746,
    "start_time": "2023-02-05T16:48:43.654Z"
   },
   {
    "duration": 742,
    "start_time": "2023-02-05T16:48:44.403Z"
   },
   {
    "duration": 93,
    "start_time": "2023-02-05T16:48:45.152Z"
   },
   {
    "duration": 327,
    "start_time": "2023-02-05T16:48:45.247Z"
   },
   {
    "duration": 484,
    "start_time": "2023-02-05T16:48:45.576Z"
   },
   {
    "duration": 85,
    "start_time": "2023-02-05T16:48:46.064Z"
   },
   {
    "duration": 117,
    "start_time": "2023-02-05T16:48:46.150Z"
   },
   {
    "duration": 646,
    "start_time": "2023-02-05T16:48:46.269Z"
   },
   {
    "duration": 46,
    "start_time": "2023-02-05T16:48:46.917Z"
   },
   {
    "duration": 590,
    "start_time": "2023-02-05T16:48:46.964Z"
   },
   {
    "duration": 102,
    "start_time": "2023-02-05T16:48:47.560Z"
   },
   {
    "duration": 16,
    "start_time": "2023-02-05T16:58:59.621Z"
   },
   {
    "duration": 45,
    "start_time": "2023-02-05T17:11:23.320Z"
   },
   {
    "duration": 119,
    "start_time": "2023-02-05T17:44:13.624Z"
   },
   {
    "duration": 1393,
    "start_time": "2023-02-05T17:45:36.175Z"
   },
   {
    "duration": 185,
    "start_time": "2023-02-05T17:45:37.570Z"
   },
   {
    "duration": 5,
    "start_time": "2023-02-05T17:45:37.756Z"
   },
   {
    "duration": 20,
    "start_time": "2023-02-05T17:45:37.763Z"
   },
   {
    "duration": 35,
    "start_time": "2023-02-05T17:45:37.785Z"
   },
   {
    "duration": 27,
    "start_time": "2023-02-05T17:45:37.822Z"
   },
   {
    "duration": 5,
    "start_time": "2023-02-05T17:45:37.850Z"
   },
   {
    "duration": 8,
    "start_time": "2023-02-05T17:45:37.857Z"
   },
   {
    "duration": 22,
    "start_time": "2023-02-05T17:45:37.866Z"
   },
   {
    "duration": 4,
    "start_time": "2023-02-05T17:45:37.890Z"
   },
   {
    "duration": 5,
    "start_time": "2023-02-05T17:45:37.896Z"
   },
   {
    "duration": 12,
    "start_time": "2023-02-05T17:45:37.902Z"
   },
   {
    "duration": 10,
    "start_time": "2023-02-05T17:45:37.916Z"
   },
   {
    "duration": 21,
    "start_time": "2023-02-05T17:45:37.929Z"
   },
   {
    "duration": 3,
    "start_time": "2023-02-05T17:45:37.952Z"
   },
   {
    "duration": 6,
    "start_time": "2023-02-05T17:45:37.957Z"
   },
   {
    "duration": 14,
    "start_time": "2023-02-05T17:45:37.964Z"
   },
   {
    "duration": 12,
    "start_time": "2023-02-05T17:45:37.980Z"
   },
   {
    "duration": 4,
    "start_time": "2023-02-05T17:45:37.994Z"
   },
   {
    "duration": 5,
    "start_time": "2023-02-05T17:45:38.000Z"
   },
   {
    "duration": 144,
    "start_time": "2023-02-05T17:45:38.006Z"
   },
   {
    "duration": 4,
    "start_time": "2023-02-05T17:45:38.152Z"
   },
   {
    "duration": 13,
    "start_time": "2023-02-05T17:45:38.158Z"
   },
   {
    "duration": 4,
    "start_time": "2023-02-05T17:45:38.172Z"
   },
   {
    "duration": 8,
    "start_time": "2023-02-05T17:45:38.178Z"
   },
   {
    "duration": 106,
    "start_time": "2023-02-05T17:45:38.187Z"
   },
   {
    "duration": 104,
    "start_time": "2023-02-05T17:45:38.295Z"
   },
   {
    "duration": 176,
    "start_time": "2023-02-05T17:45:38.400Z"
   },
   {
    "duration": 17,
    "start_time": "2023-02-05T17:45:38.578Z"
   },
   {
    "duration": 10,
    "start_time": "2023-02-05T17:45:38.597Z"
   },
   {
    "duration": 11,
    "start_time": "2023-02-05T17:45:38.609Z"
   },
   {
    "duration": 32,
    "start_time": "2023-02-05T17:45:38.621Z"
   },
   {
    "duration": 533,
    "start_time": "2023-02-05T17:45:38.655Z"
   },
   {
    "duration": 358415,
    "start_time": "2023-02-05T17:45:39.190Z"
   },
   {
    "duration": 342,
    "start_time": "2023-02-05T17:51:37.606Z"
   },
   {
    "duration": 550,
    "start_time": "2023-02-05T17:51:37.950Z"
   },
   {
    "duration": 252,
    "start_time": "2023-02-05T17:51:38.501Z"
   },
   {
    "duration": 790,
    "start_time": "2023-02-05T17:51:38.755Z"
   },
   {
    "duration": 303,
    "start_time": "2023-02-05T17:51:39.548Z"
   },
   {
    "duration": 96,
    "start_time": "2023-02-05T17:51:39.855Z"
   },
   {
    "duration": 292,
    "start_time": "2023-02-05T17:51:39.954Z"
   },
   {
    "duration": 206,
    "start_time": "2023-02-05T17:51:40.247Z"
   },
   {
    "duration": 101,
    "start_time": "2023-02-05T17:51:40.455Z"
   },
   {
    "duration": 480663,
    "start_time": "2023-02-05T17:51:40.558Z"
   },
   {
    "duration": 8,
    "start_time": "2023-02-05T17:59:41.223Z"
   },
   {
    "duration": 2265,
    "start_time": "2023-02-05T17:59:41.233Z"
   },
   {
    "duration": 3,
    "start_time": "2023-02-05T17:59:43.500Z"
   },
   {
    "duration": 18,
    "start_time": "2023-02-05T17:59:43.505Z"
   },
   {
    "duration": 17,
    "start_time": "2023-02-05T17:59:43.524Z"
   },
   {
    "duration": 37,
    "start_time": "2023-02-05T18:03:08.015Z"
   },
   {
    "duration": 253,
    "start_time": "2023-02-05T18:03:21.996Z"
   },
   {
    "duration": 2199,
    "start_time": "2023-02-05T18:05:07.383Z"
   },
   {
    "duration": 2177,
    "start_time": "2023-02-05T18:05:19.254Z"
   },
   {
    "duration": 55,
    "start_time": "2023-02-05T18:12:45.571Z"
   },
   {
    "duration": 5,
    "start_time": "2023-02-05T18:13:00.362Z"
   },
   {
    "duration": 613,
    "start_time": "2023-02-05T18:17:39.661Z"
   },
   {
    "duration": 2199,
    "start_time": "2023-02-05T18:18:27.992Z"
   },
   {
    "duration": 11,
    "start_time": "2023-02-06T06:49:59.187Z"
   },
   {
    "duration": 1521,
    "start_time": "2023-02-06T06:54:22.261Z"
   },
   {
    "duration": 160,
    "start_time": "2023-02-06T06:54:23.784Z"
   },
   {
    "duration": 7,
    "start_time": "2023-02-06T06:54:23.945Z"
   },
   {
    "duration": 17,
    "start_time": "2023-02-06T06:54:23.954Z"
   },
   {
    "duration": 42,
    "start_time": "2023-02-06T06:54:23.973Z"
   },
   {
    "duration": 15,
    "start_time": "2023-02-06T06:54:24.017Z"
   },
   {
    "duration": 6,
    "start_time": "2023-02-06T06:54:24.034Z"
   },
   {
    "duration": 7,
    "start_time": "2023-02-06T06:54:24.041Z"
   },
   {
    "duration": 54,
    "start_time": "2023-02-06T06:54:24.050Z"
   },
   {
    "duration": 4,
    "start_time": "2023-02-06T06:54:24.108Z"
   },
   {
    "duration": 8,
    "start_time": "2023-02-06T06:54:24.114Z"
   },
   {
    "duration": 12,
    "start_time": "2023-02-06T06:54:24.124Z"
   },
   {
    "duration": 42,
    "start_time": "2023-02-06T06:54:24.138Z"
   },
   {
    "duration": 14,
    "start_time": "2023-02-06T06:54:24.182Z"
   },
   {
    "duration": 4,
    "start_time": "2023-02-06T06:54:24.198Z"
   },
   {
    "duration": 6,
    "start_time": "2023-02-06T06:54:24.204Z"
   },
   {
    "duration": 16,
    "start_time": "2023-02-06T06:54:24.211Z"
   },
   {
    "duration": 14,
    "start_time": "2023-02-06T06:54:24.229Z"
   },
   {
    "duration": 6,
    "start_time": "2023-02-06T06:54:24.245Z"
   },
   {
    "duration": 5,
    "start_time": "2023-02-06T06:54:24.253Z"
   },
   {
    "duration": 137,
    "start_time": "2023-02-06T06:54:24.259Z"
   },
   {
    "duration": 8,
    "start_time": "2023-02-06T06:54:24.398Z"
   },
   {
    "duration": 13,
    "start_time": "2023-02-06T06:54:24.407Z"
   },
   {
    "duration": 4,
    "start_time": "2023-02-06T06:54:24.421Z"
   },
   {
    "duration": 9,
    "start_time": "2023-02-06T06:54:24.427Z"
   },
   {
    "duration": 129,
    "start_time": "2023-02-06T06:54:24.437Z"
   },
   {
    "duration": 113,
    "start_time": "2023-02-06T06:54:24.568Z"
   },
   {
    "duration": 124,
    "start_time": "2023-02-06T06:54:24.684Z"
   },
   {
    "duration": 25,
    "start_time": "2023-02-06T06:54:24.810Z"
   },
   {
    "duration": 16,
    "start_time": "2023-02-06T06:54:24.837Z"
   },
   {
    "duration": 13,
    "start_time": "2023-02-06T06:54:24.854Z"
   },
   {
    "duration": 37,
    "start_time": "2023-02-06T06:54:24.869Z"
   },
   {
    "duration": 663,
    "start_time": "2023-02-06T06:54:24.908Z"
   },
   {
    "duration": 386977,
    "start_time": "2023-02-06T06:54:25.573Z"
   },
   {
    "duration": 361,
    "start_time": "2023-02-06T07:00:52.551Z"
   },
   {
    "duration": 674,
    "start_time": "2023-02-06T07:00:52.914Z"
   },
   {
    "duration": 219,
    "start_time": "2023-02-06T07:00:53.590Z"
   },
   {
    "duration": 797,
    "start_time": "2023-02-06T07:00:53.811Z"
   },
   {
    "duration": 194,
    "start_time": "2023-02-06T07:00:54.610Z"
   },
   {
    "duration": 9,
    "start_time": "2023-02-06T07:00:54.806Z"
   },
   {
    "duration": 422,
    "start_time": "2023-02-06T07:00:54.817Z"
   },
   {
    "duration": 265,
    "start_time": "2023-02-06T07:00:55.241Z"
   },
   {
    "duration": 100,
    "start_time": "2023-02-06T07:00:55.510Z"
   },
   {
    "duration": 760,
    "start_time": "2023-02-06T07:00:55.612Z"
   },
   {
    "duration": 6,
    "start_time": "2023-02-06T07:00:56.374Z"
   },
   {
    "duration": 0,
    "start_time": "2023-02-06T07:00:56.382Z"
   },
   {
    "duration": 0,
    "start_time": "2023-02-06T07:00:56.383Z"
   },
   {
    "duration": 1,
    "start_time": "2023-02-06T07:00:56.384Z"
   },
   {
    "duration": 1,
    "start_time": "2023-02-06T07:00:56.385Z"
   },
   {
    "duration": 0,
    "start_time": "2023-02-06T07:00:56.387Z"
   },
   {
    "duration": 0,
    "start_time": "2023-02-06T07:00:56.404Z"
   },
   {
    "duration": 0,
    "start_time": "2023-02-06T07:00:56.406Z"
   },
   {
    "duration": 0,
    "start_time": "2023-02-06T07:00:56.408Z"
   },
   {
    "duration": 0,
    "start_time": "2023-02-06T07:00:56.410Z"
   },
   {
    "duration": 300,
    "start_time": "2023-02-06T07:04:14.563Z"
   },
   {
    "duration": 1344,
    "start_time": "2023-02-06T07:04:32.961Z"
   },
   {
    "duration": 40,
    "start_time": "2023-02-06T07:04:34.307Z"
   },
   {
    "duration": 5,
    "start_time": "2023-02-06T07:04:34.349Z"
   },
   {
    "duration": 20,
    "start_time": "2023-02-06T07:04:34.356Z"
   },
   {
    "duration": 38,
    "start_time": "2023-02-06T07:04:34.378Z"
   },
   {
    "duration": 11,
    "start_time": "2023-02-06T07:04:34.418Z"
   },
   {
    "duration": 5,
    "start_time": "2023-02-06T07:04:34.430Z"
   },
   {
    "duration": 8,
    "start_time": "2023-02-06T07:04:34.436Z"
   },
   {
    "duration": 12,
    "start_time": "2023-02-06T07:04:34.445Z"
   },
   {
    "duration": 4,
    "start_time": "2023-02-06T07:04:34.459Z"
   },
   {
    "duration": 40,
    "start_time": "2023-02-06T07:04:34.464Z"
   },
   {
    "duration": 5,
    "start_time": "2023-02-06T07:04:34.505Z"
   },
   {
    "duration": 6,
    "start_time": "2023-02-06T07:04:34.512Z"
   },
   {
    "duration": 13,
    "start_time": "2023-02-06T07:04:34.520Z"
   },
   {
    "duration": 3,
    "start_time": "2023-02-06T07:04:34.534Z"
   },
   {
    "duration": 8,
    "start_time": "2023-02-06T07:04:34.539Z"
   },
   {
    "duration": 15,
    "start_time": "2023-02-06T07:04:34.549Z"
   },
   {
    "duration": 12,
    "start_time": "2023-02-06T07:04:34.566Z"
   },
   {
    "duration": 2,
    "start_time": "2023-02-06T07:04:34.607Z"
   },
   {
    "duration": 7,
    "start_time": "2023-02-06T07:04:34.611Z"
   },
   {
    "duration": 135,
    "start_time": "2023-02-06T07:04:34.619Z"
   },
   {
    "duration": 5,
    "start_time": "2023-02-06T07:04:34.756Z"
   },
   {
    "duration": 18,
    "start_time": "2023-02-06T07:04:34.763Z"
   },
   {
    "duration": 4,
    "start_time": "2023-02-06T07:04:34.782Z"
   },
   {
    "duration": 20,
    "start_time": "2023-02-06T07:04:34.788Z"
   },
   {
    "duration": 106,
    "start_time": "2023-02-06T07:04:34.809Z"
   },
   {
    "duration": 117,
    "start_time": "2023-02-06T07:04:34.916Z"
   },
   {
    "duration": 149,
    "start_time": "2023-02-06T07:04:35.038Z"
   },
   {
    "duration": 34,
    "start_time": "2023-02-06T07:04:35.189Z"
   },
   {
    "duration": 14,
    "start_time": "2023-02-06T07:04:35.224Z"
   },
   {
    "duration": 19,
    "start_time": "2023-02-06T07:04:35.240Z"
   },
   {
    "duration": 13,
    "start_time": "2023-02-06T07:04:35.261Z"
   },
   {
    "duration": 692,
    "start_time": "2023-02-06T07:04:35.276Z"
   },
   {
    "duration": 383392,
    "start_time": "2023-02-06T07:04:35.969Z"
   },
   {
    "duration": 342,
    "start_time": "2023-02-06T07:10:59.363Z"
   },
   {
    "duration": 584,
    "start_time": "2023-02-06T07:10:59.707Z"
   },
   {
    "duration": 314,
    "start_time": "2023-02-06T07:11:00.293Z"
   },
   {
    "duration": 782,
    "start_time": "2023-02-06T07:11:00.612Z"
   },
   {
    "duration": 313,
    "start_time": "2023-02-06T07:11:01.395Z"
   },
   {
    "duration": 97,
    "start_time": "2023-02-06T07:11:01.710Z"
   },
   {
    "duration": 313,
    "start_time": "2023-02-06T07:11:01.808Z"
   },
   {
    "duration": 282,
    "start_time": "2023-02-06T07:11:02.122Z"
   },
   {
    "duration": 102,
    "start_time": "2023-02-06T07:11:02.406Z"
   },
   {
    "duration": 716,
    "start_time": "2023-02-06T07:11:02.509Z"
   },
   {
    "duration": 284,
    "start_time": "2023-02-06T07:11:03.226Z"
   },
   {
    "duration": 524674,
    "start_time": "2023-02-06T07:11:03.511Z"
   },
   {
    "duration": 227644,
    "start_time": "2023-02-06T07:19:48.186Z"
   },
   {
    "duration": 276,
    "start_time": "2023-02-06T07:23:35.832Z"
   },
   {
    "duration": 296,
    "start_time": "2023-02-06T07:23:36.110Z"
   },
   {
    "duration": 106,
    "start_time": "2023-02-06T07:23:36.411Z"
   },
   {
    "duration": 534,
    "start_time": "2023-02-06T07:23:36.519Z"
   },
   {
    "duration": 3,
    "start_time": "2023-02-06T07:23:37.055Z"
   },
   {
    "duration": 6,
    "start_time": "2023-02-06T07:23:37.060Z"
   },
   {
    "duration": 10,
    "start_time": "2023-02-06T07:23:37.068Z"
   },
   {
    "duration": 528,
    "start_time": "2023-02-06T07:26:44.980Z"
   },
   {
    "duration": 51,
    "start_time": "2023-02-08T15:57:00.255Z"
   },
   {
    "duration": 1619,
    "start_time": "2023-02-08T15:57:09.355Z"
   },
   {
    "duration": 87,
    "start_time": "2023-02-08T15:57:10.976Z"
   },
   {
    "duration": 5,
    "start_time": "2023-02-08T15:57:11.065Z"
   },
   {
    "duration": 24,
    "start_time": "2023-02-08T15:57:11.071Z"
   },
   {
    "duration": 41,
    "start_time": "2023-02-08T15:57:11.098Z"
   },
   {
    "duration": 13,
    "start_time": "2023-02-08T15:57:11.140Z"
   },
   {
    "duration": 5,
    "start_time": "2023-02-08T15:57:11.154Z"
   },
   {
    "duration": 7,
    "start_time": "2023-02-08T15:57:11.161Z"
   },
   {
    "duration": 14,
    "start_time": "2023-02-08T15:57:11.170Z"
   },
   {
    "duration": 4,
    "start_time": "2023-02-08T15:57:11.185Z"
   },
   {
    "duration": 13,
    "start_time": "2023-02-08T15:57:11.190Z"
   },
   {
    "duration": 23,
    "start_time": "2023-02-08T15:57:11.205Z"
   },
   {
    "duration": 2,
    "start_time": "2023-02-08T15:57:11.230Z"
   },
   {
    "duration": 13,
    "start_time": "2023-02-08T15:57:11.235Z"
   },
   {
    "duration": 5,
    "start_time": "2023-02-08T15:57:11.250Z"
   },
   {
    "duration": 4,
    "start_time": "2023-02-08T15:57:11.256Z"
   },
   {
    "duration": 16,
    "start_time": "2023-02-08T15:57:11.262Z"
   },
   {
    "duration": 18,
    "start_time": "2023-02-08T15:57:11.280Z"
   },
   {
    "duration": 33,
    "start_time": "2023-02-08T15:57:11.300Z"
   },
   {
    "duration": 5,
    "start_time": "2023-02-08T15:57:11.335Z"
   },
   {
    "duration": 133,
    "start_time": "2023-02-08T15:57:11.342Z"
   },
   {
    "duration": 6,
    "start_time": "2023-02-08T15:57:11.476Z"
   },
   {
    "duration": 13,
    "start_time": "2023-02-08T15:57:11.483Z"
   },
   {
    "duration": 4,
    "start_time": "2023-02-08T15:57:11.498Z"
   },
   {
    "duration": 27,
    "start_time": "2023-02-08T15:57:11.504Z"
   },
   {
    "duration": 116,
    "start_time": "2023-02-08T15:57:11.533Z"
   },
   {
    "duration": 134,
    "start_time": "2023-02-08T15:57:11.651Z"
   },
   {
    "duration": 174,
    "start_time": "2023-02-08T15:57:11.786Z"
   },
   {
    "duration": 19,
    "start_time": "2023-02-08T15:57:11.962Z"
   },
   {
    "duration": 12,
    "start_time": "2023-02-08T15:57:11.983Z"
   },
   {
    "duration": 32,
    "start_time": "2023-02-08T15:57:11.997Z"
   },
   {
    "duration": 11,
    "start_time": "2023-02-08T15:57:12.031Z"
   },
   {
    "duration": 557,
    "start_time": "2023-02-08T15:57:12.044Z"
   },
   {
    "duration": 383672,
    "start_time": "2023-02-08T15:57:12.603Z"
   },
   {
    "duration": 354,
    "start_time": "2023-02-08T16:03:36.277Z"
   },
   {
    "duration": 605,
    "start_time": "2023-02-08T16:03:36.632Z"
   },
   {
    "duration": 197,
    "start_time": "2023-02-08T16:03:37.239Z"
   },
   {
    "duration": 859,
    "start_time": "2023-02-08T16:03:37.438Z"
   },
   {
    "duration": 236,
    "start_time": "2023-02-08T16:03:38.299Z"
   },
   {
    "duration": 7,
    "start_time": "2023-02-08T16:03:38.627Z"
   },
   {
    "duration": 393,
    "start_time": "2023-02-08T16:03:38.638Z"
   },
   {
    "duration": 104,
    "start_time": "2023-02-08T16:03:39.033Z"
   },
   {
    "duration": 99,
    "start_time": "2023-02-08T16:03:39.228Z"
   },
   {
    "duration": 725,
    "start_time": "2023-02-08T16:03:39.329Z"
   },
   {
    "duration": 334,
    "start_time": "2023-02-08T16:03:40.056Z"
   },
   {
    "duration": 521985,
    "start_time": "2023-02-08T16:03:40.392Z"
   },
   {
    "duration": 219292,
    "start_time": "2023-02-08T16:12:22.379Z"
   },
   {
    "duration": 256,
    "start_time": "2023-02-08T16:16:01.673Z"
   },
   {
    "duration": 205,
    "start_time": "2023-02-08T16:16:01.931Z"
   },
   {
    "duration": 189,
    "start_time": "2023-02-08T16:16:02.138Z"
   },
   {
    "duration": 483,
    "start_time": "2023-02-08T16:16:02.329Z"
   },
   {
    "duration": 3,
    "start_time": "2023-02-08T16:16:02.814Z"
   },
   {
    "duration": 3,
    "start_time": "2023-02-08T16:16:02.826Z"
   },
   {
    "duration": 10,
    "start_time": "2023-02-08T16:16:02.830Z"
   },
   {
    "duration": 687,
    "start_time": "2023-02-08T16:16:02.843Z"
   },
   {
    "duration": 1570,
    "start_time": "2023-02-09T06:14:34.987Z"
   },
   {
    "duration": 180,
    "start_time": "2023-02-09T06:14:36.559Z"
   },
   {
    "duration": 9,
    "start_time": "2023-02-09T06:14:36.741Z"
   },
   {
    "duration": 24,
    "start_time": "2023-02-09T06:14:36.752Z"
   },
   {
    "duration": 41,
    "start_time": "2023-02-09T06:14:36.778Z"
   },
   {
    "duration": 34,
    "start_time": "2023-02-09T06:14:36.821Z"
   },
   {
    "duration": 5,
    "start_time": "2023-02-09T06:14:36.857Z"
   },
   {
    "duration": 7,
    "start_time": "2023-02-09T06:14:36.863Z"
   },
   {
    "duration": 13,
    "start_time": "2023-02-09T06:14:36.871Z"
   },
   {
    "duration": 4,
    "start_time": "2023-02-09T06:14:36.886Z"
   },
   {
    "duration": 5,
    "start_time": "2023-02-09T06:14:36.891Z"
   },
   {
    "duration": 7,
    "start_time": "2023-02-09T06:14:36.898Z"
   },
   {
    "duration": 3,
    "start_time": "2023-02-09T06:14:36.937Z"
   },
   {
    "duration": 15,
    "start_time": "2023-02-09T06:14:36.941Z"
   },
   {
    "duration": 6,
    "start_time": "2023-02-09T06:14:36.957Z"
   },
   {
    "duration": 12,
    "start_time": "2023-02-09T06:14:36.965Z"
   },
   {
    "duration": 24,
    "start_time": "2023-02-09T06:14:36.979Z"
   },
   {
    "duration": 13,
    "start_time": "2023-02-09T06:14:37.006Z"
   },
   {
    "duration": 5,
    "start_time": "2023-02-09T06:14:37.020Z"
   },
   {
    "duration": 15,
    "start_time": "2023-02-09T06:14:37.027Z"
   },
   {
    "duration": 150,
    "start_time": "2023-02-09T06:14:37.045Z"
   },
   {
    "duration": 5,
    "start_time": "2023-02-09T06:14:37.196Z"
   },
   {
    "duration": 26,
    "start_time": "2023-02-09T06:14:37.203Z"
   },
   {
    "duration": 4,
    "start_time": "2023-02-09T06:14:37.231Z"
   },
   {
    "duration": 13,
    "start_time": "2023-02-09T06:14:37.236Z"
   },
   {
    "duration": 103,
    "start_time": "2023-02-09T06:14:37.250Z"
   },
   {
    "duration": 123,
    "start_time": "2023-02-09T06:14:37.354Z"
   },
   {
    "duration": 114,
    "start_time": "2023-02-09T06:14:37.480Z"
   },
   {
    "duration": 21,
    "start_time": "2023-02-09T06:14:37.596Z"
   },
   {
    "duration": 31,
    "start_time": "2023-02-09T06:14:37.619Z"
   },
   {
    "duration": 14,
    "start_time": "2023-02-09T06:14:37.652Z"
   },
   {
    "duration": 22,
    "start_time": "2023-02-09T06:14:37.667Z"
   },
   {
    "duration": 696,
    "start_time": "2023-02-09T06:14:37.690Z"
   },
   {
    "duration": 442265,
    "start_time": "2023-02-09T06:14:38.388Z"
   },
   {
    "duration": 189,
    "start_time": "2023-02-09T06:22:00.655Z"
   },
   {
    "duration": 617,
    "start_time": "2023-02-09T06:22:00.849Z"
   },
   {
    "duration": 471,
    "start_time": "2023-02-09T06:22:01.468Z"
   },
   {
    "duration": 892,
    "start_time": "2023-02-09T06:22:01.941Z"
   },
   {
    "duration": 507,
    "start_time": "2023-02-09T06:22:02.838Z"
   },
   {
    "duration": 95,
    "start_time": "2023-02-09T06:22:03.348Z"
   },
   {
    "duration": 435,
    "start_time": "2023-02-09T06:22:03.445Z"
   },
   {
    "duration": 362,
    "start_time": "2023-02-09T06:22:03.882Z"
   },
   {
    "duration": 93,
    "start_time": "2023-02-09T06:22:04.248Z"
   },
   {
    "duration": 790,
    "start_time": "2023-02-09T06:22:04.343Z"
   },
   {
    "duration": 868,
    "start_time": "2023-02-09T06:22:05.137Z"
   },
   {
    "duration": 361,
    "start_time": "2023-02-09T06:22:06.007Z"
   },
   {
    "duration": 324,
    "start_time": "2023-02-09T06:22:06.370Z"
   },
   {
    "duration": 580313,
    "start_time": "2023-02-09T06:22:06.695Z"
   },
   {
    "duration": 584941,
    "start_time": "2023-02-09T06:31:47.010Z"
   },
   {
    "duration": 238306,
    "start_time": "2023-02-09T06:41:31.953Z"
   },
   {
    "duration": 237935,
    "start_time": "2023-02-09T06:45:30.261Z"
   },
   {
    "duration": 546,
    "start_time": "2023-02-09T06:49:28.198Z"
   },
   {
    "duration": 293,
    "start_time": "2023-02-09T06:49:28.746Z"
   },
   {
    "duration": 309,
    "start_time": "2023-02-09T06:49:29.041Z"
   },
   {
    "duration": 389,
    "start_time": "2023-02-09T06:49:29.354Z"
   },
   {
    "duration": 100,
    "start_time": "2023-02-09T06:49:29.746Z"
   },
   {
    "duration": 521,
    "start_time": "2023-02-09T06:49:29.848Z"
   },
   {
    "duration": 4,
    "start_time": "2023-02-09T06:49:30.371Z"
   },
   {
    "duration": 53,
    "start_time": "2023-02-09T06:49:30.377Z"
   },
   {
    "duration": 52,
    "start_time": "2023-02-09T06:49:30.433Z"
   },
   {
    "duration": 1677,
    "start_time": "2023-02-09T06:54:25.397Z"
   }
  ],
  "kernelspec": {
   "display_name": "Python 3 (ipykernel)",
   "language": "python",
   "name": "python3"
  },
  "language_info": {
   "codemirror_mode": {
    "name": "ipython",
    "version": 3
   },
   "file_extension": ".py",
   "mimetype": "text/x-python",
   "name": "python",
   "nbconvert_exporter": "python",
   "pygments_lexer": "ipython3",
   "version": "3.11.4"
  },
  "toc": {
   "base_numbering": 1,
   "nav_menu": {},
   "number_sections": true,
   "sideBar": true,
   "skip_h1_title": true,
   "title_cell": "Содержание",
   "title_sidebar": "Contents",
   "toc_cell": true,
   "toc_position": {},
   "toc_section_display": true,
   "toc_window_display": true
  }
 },
 "nbformat": 4,
 "nbformat_minor": 2
}
