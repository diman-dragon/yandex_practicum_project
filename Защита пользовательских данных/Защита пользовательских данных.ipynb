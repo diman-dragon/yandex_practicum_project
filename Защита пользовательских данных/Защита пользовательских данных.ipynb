{
 "cells": [
  {
   "cell_type": "markdown",
   "metadata": {},
   "source": [
    "# Защита персональных данных клиентов"
   ]
  },
  {
   "cell_type": "markdown",
   "metadata": {},
   "source": [
    "Вам нужно защитить данные клиентов страховой компании «Хоть потоп». Разработайте такой метод преобразования данных, чтобы по ним было сложно восстановить персональную информацию. Обоснуйте корректность его работы.\n",
    "\n",
    "Нужно защитить данные, чтобы при преобразовании качество моделей машинного обучения не ухудшилось. Подбирать наилучшую модель не требуется."
   ]
  },
  {
   "cell_type": "markdown",
   "metadata": {},
   "source": [
    "# Описание проекта.\n",
    "1. Загрузим и изучим данные. При необходимости проведем предобработку данных.\n",
    "2. Признаки умножают на обратимую матрицу. Проверим, изменится ли качество линейной регрессии? \n",
    "3. Предложим алгоритм преобразования данных для решения задачи. \n",
    "4. Запрограммируем этот алгоритм, применив матричные операции. Проверим, что качество линейной регрессии из sklearn не отличается до и после преобразования. Для проверки применим метрику R2.\n",
    "\n",
    "Описание данных\n",
    "\n",
    "Набор данных находится в файле /datasets/insurance.csv. \\\n",
    "Скачать датасет.\\\n",
    "Признаки: пол, возраст и зарплата застрахованного, количество членов его семьи.\\\n",
    "Целевой признак: количество страховых выплат клиенту за последние 5 лет.\n"
   ]
  },
  {
   "cell_type": "markdown",
   "metadata": {},
   "source": [
    "## Загрузка данных"
   ]
  },
  {
   "cell_type": "code",
   "execution_count": 1,
   "metadata": {},
   "outputs": [],
   "source": [
    "import pandas as pd\n",
    "import numpy as np\n",
    "\n",
    "from sklearn.linear_model import LinearRegression\n",
    "from sklearn.metrics import r2_score\n",
    "from sklearn.model_selection import train_test_split\n",
    "\n",
    "import matplotlib.pyplot as plt\n",
    "\n",
    "import warnings\n",
    "warnings.filterwarnings('ignore')\n",
    "\n",
    "state = np.random.RandomState(12345)\n"
   ]
  },
  {
   "cell_type": "code",
   "execution_count": 2,
   "metadata": {},
   "outputs": [],
   "source": [
    "basic_df = pd.read_csv('insurance.csv')"
   ]
  },
  {
   "cell_type": "code",
   "execution_count": 3,
   "metadata": {
    "scrolled": false
   },
   "outputs": [
    {
     "name": "stdout",
     "output_type": "stream",
     "text": [
      "Количество стобцов: 5\n",
      "Количество строк: 5000\n",
      "Количество дупликатов 153\n"
     ]
    },
    {
     "data": {
      "text/html": [
       "<div>\n",
       "<style scoped>\n",
       "    .dataframe tbody tr th:only-of-type {\n",
       "        vertical-align: middle;\n",
       "    }\n",
       "\n",
       "    .dataframe tbody tr th {\n",
       "        vertical-align: top;\n",
       "    }\n",
       "\n",
       "    .dataframe thead th {\n",
       "        text-align: right;\n",
       "    }\n",
       "</style>\n",
       "<table border=\"1\" class=\"dataframe\">\n",
       "  <thead>\n",
       "    <tr style=\"text-align: right;\">\n",
       "      <th></th>\n",
       "      <th>Пол</th>\n",
       "      <th>Возраст</th>\n",
       "      <th>Зарплата</th>\n",
       "      <th>Члены семьи</th>\n",
       "      <th>Страховые выплаты</th>\n",
       "    </tr>\n",
       "  </thead>\n",
       "  <tbody>\n",
       "    <tr>\n",
       "      <th>0</th>\n",
       "      <td>1</td>\n",
       "      <td>41.0</td>\n",
       "      <td>49600.0</td>\n",
       "      <td>1</td>\n",
       "      <td>0</td>\n",
       "    </tr>\n",
       "    <tr>\n",
       "      <th>1</th>\n",
       "      <td>0</td>\n",
       "      <td>46.0</td>\n",
       "      <td>38000.0</td>\n",
       "      <td>1</td>\n",
       "      <td>1</td>\n",
       "    </tr>\n",
       "    <tr>\n",
       "      <th>2</th>\n",
       "      <td>0</td>\n",
       "      <td>29.0</td>\n",
       "      <td>21000.0</td>\n",
       "      <td>0</td>\n",
       "      <td>0</td>\n",
       "    </tr>\n",
       "    <tr>\n",
       "      <th>3</th>\n",
       "      <td>0</td>\n",
       "      <td>21.0</td>\n",
       "      <td>41700.0</td>\n",
       "      <td>2</td>\n",
       "      <td>0</td>\n",
       "    </tr>\n",
       "    <tr>\n",
       "      <th>4</th>\n",
       "      <td>1</td>\n",
       "      <td>28.0</td>\n",
       "      <td>26100.0</td>\n",
       "      <td>0</td>\n",
       "      <td>0</td>\n",
       "    </tr>\n",
       "  </tbody>\n",
       "</table>\n",
       "</div>"
      ],
      "text/plain": [
       "   Пол  Возраст  Зарплата  Члены семьи  Страховые выплаты\n",
       "0    1     41.0   49600.0            1                  0\n",
       "1    0     46.0   38000.0            1                  1\n",
       "2    0     29.0   21000.0            0                  0\n",
       "3    0     21.0   41700.0            2                  0\n",
       "4    1     28.0   26100.0            0                  0"
      ]
     },
     "metadata": {},
     "output_type": "display_data"
    },
    {
     "data": {
      "text/html": [
       "<div>\n",
       "<style scoped>\n",
       "    .dataframe tbody tr th:only-of-type {\n",
       "        vertical-align: middle;\n",
       "    }\n",
       "\n",
       "    .dataframe tbody tr th {\n",
       "        vertical-align: top;\n",
       "    }\n",
       "\n",
       "    .dataframe thead th {\n",
       "        text-align: right;\n",
       "    }\n",
       "</style>\n",
       "<table border=\"1\" class=\"dataframe\">\n",
       "  <thead>\n",
       "    <tr style=\"text-align: right;\">\n",
       "      <th></th>\n",
       "      <th>Пол</th>\n",
       "      <th>Возраст</th>\n",
       "      <th>Зарплата</th>\n",
       "      <th>Члены семьи</th>\n",
       "      <th>Страховые выплаты</th>\n",
       "    </tr>\n",
       "  </thead>\n",
       "  <tbody>\n",
       "    <tr>\n",
       "      <th>count</th>\n",
       "      <td>5000.000000</td>\n",
       "      <td>5000.000000</td>\n",
       "      <td>5000.000000</td>\n",
       "      <td>5000.000000</td>\n",
       "      <td>5000.000000</td>\n",
       "    </tr>\n",
       "    <tr>\n",
       "      <th>mean</th>\n",
       "      <td>0.499000</td>\n",
       "      <td>30.952800</td>\n",
       "      <td>39916.360000</td>\n",
       "      <td>1.194200</td>\n",
       "      <td>0.148000</td>\n",
       "    </tr>\n",
       "    <tr>\n",
       "      <th>std</th>\n",
       "      <td>0.500049</td>\n",
       "      <td>8.440807</td>\n",
       "      <td>9900.083569</td>\n",
       "      <td>1.091387</td>\n",
       "      <td>0.463183</td>\n",
       "    </tr>\n",
       "    <tr>\n",
       "      <th>min</th>\n",
       "      <td>0.000000</td>\n",
       "      <td>18.000000</td>\n",
       "      <td>5300.000000</td>\n",
       "      <td>0.000000</td>\n",
       "      <td>0.000000</td>\n",
       "    </tr>\n",
       "    <tr>\n",
       "      <th>25%</th>\n",
       "      <td>0.000000</td>\n",
       "      <td>24.000000</td>\n",
       "      <td>33300.000000</td>\n",
       "      <td>0.000000</td>\n",
       "      <td>0.000000</td>\n",
       "    </tr>\n",
       "    <tr>\n",
       "      <th>50%</th>\n",
       "      <td>0.000000</td>\n",
       "      <td>30.000000</td>\n",
       "      <td>40200.000000</td>\n",
       "      <td>1.000000</td>\n",
       "      <td>0.000000</td>\n",
       "    </tr>\n",
       "    <tr>\n",
       "      <th>75%</th>\n",
       "      <td>1.000000</td>\n",
       "      <td>37.000000</td>\n",
       "      <td>46600.000000</td>\n",
       "      <td>2.000000</td>\n",
       "      <td>0.000000</td>\n",
       "    </tr>\n",
       "    <tr>\n",
       "      <th>max</th>\n",
       "      <td>1.000000</td>\n",
       "      <td>65.000000</td>\n",
       "      <td>79000.000000</td>\n",
       "      <td>6.000000</td>\n",
       "      <td>5.000000</td>\n",
       "    </tr>\n",
       "  </tbody>\n",
       "</table>\n",
       "</div>"
      ],
      "text/plain": [
       "               Пол      Возраст      Зарплата  Члены семьи  Страховые выплаты\n",
       "count  5000.000000  5000.000000   5000.000000  5000.000000        5000.000000\n",
       "mean      0.499000    30.952800  39916.360000     1.194200           0.148000\n",
       "std       0.500049     8.440807   9900.083569     1.091387           0.463183\n",
       "min       0.000000    18.000000   5300.000000     0.000000           0.000000\n",
       "25%       0.000000    24.000000  33300.000000     0.000000           0.000000\n",
       "50%       0.000000    30.000000  40200.000000     1.000000           0.000000\n",
       "75%       1.000000    37.000000  46600.000000     2.000000           0.000000\n",
       "max       1.000000    65.000000  79000.000000     6.000000           5.000000"
      ]
     },
     "metadata": {},
     "output_type": "display_data"
    },
    {
     "name": "stdout",
     "output_type": "stream",
     "text": [
      "<class 'pandas.core.frame.DataFrame'>\n",
      "RangeIndex: 5000 entries, 0 to 4999\n",
      "Data columns (total 5 columns):\n",
      " #   Column             Non-Null Count  Dtype  \n",
      "---  ------             --------------  -----  \n",
      " 0   Пол                5000 non-null   int64  \n",
      " 1   Возраст            5000 non-null   float64\n",
      " 2   Зарплата           5000 non-null   float64\n",
      " 3   Члены семьи        5000 non-null   int64  \n",
      " 4   Страховые выплаты  5000 non-null   int64  \n",
      "dtypes: float64(2), int64(3)\n",
      "memory usage: 195.4 KB\n"
     ]
    }
   ],
   "source": [
    "basic_df.shape\n",
    "print('Количество стобцов:', basic_df.shape[1])\n",
    "print('Количество строк:', basic_df.shape[0])\n",
    "print('Количество дупликатов', basic_df.duplicated().sum())\n",
    "display(basic_df.head())\n",
    "display(basic_df.describe())\n",
    "basic_df.info()"
   ]
  },
  {
   "cell_type": "code",
   "execution_count": 4,
   "metadata": {},
   "outputs": [
    {
     "name": "stdout",
     "output_type": "stream",
     "text": [
      "Количество пропусков\n"
     ]
    },
    {
     "data": {
      "text/plain": [
       "Пол                  0\n",
       "Возраст              0\n",
       "Зарплата             0\n",
       "Члены семьи          0\n",
       "Страховые выплаты    0\n",
       "dtype: int64"
      ]
     },
     "execution_count": 4,
     "metadata": {},
     "output_type": "execute_result"
    }
   ],
   "source": [
    "print('Количество пропусков')\n",
    "basic_df.isna().sum()"
   ]
  },
  {
   "cell_type": "code",
   "execution_count": 5,
   "metadata": {
    "scrolled": true
   },
   "outputs": [],
   "source": [
    "# В принципе, в данных нет признаков которые \n",
    "# могли бы явно идентифицировать клиента, \n",
    "# скорее всего просто совпадение данных. \n",
    "# В общем, можно сказать, что в этом проекте EDA второстепенен.\n",
    "# Оставим так как есть\n",
    "# Удалим дубликаты из данных\n",
    "# basic_df = basic_df.drop_duplicates(keep='first')\n",
    "# basic_df.reset_index(drop= True , inplace= True )"
   ]
  },
  {
   "cell_type": "code",
   "execution_count": 6,
   "metadata": {},
   "outputs": [],
   "source": [
    "# print('Количество дупликатов', basic_df.duplicated().sum())"
   ]
  },
  {
   "cell_type": "markdown",
   "metadata": {},
   "source": [
    "Преобразуем данные столбцов \"Зарплата\" и \"Возраст\" в целочисленные "
   ]
  },
  {
   "cell_type": "code",
   "execution_count": 7,
   "metadata": {},
   "outputs": [],
   "source": [
    "basic_df['Зарплата'] = basic_df['Зарплата'].astype('int')\n",
    "basic_df['Возраст'] = basic_df['Возраст'].astype('int')"
   ]
  },
  {
   "cell_type": "code",
   "execution_count": 8,
   "metadata": {
    "scrolled": true
   },
   "outputs": [
    {
     "name": "stdout",
     "output_type": "stream",
     "text": [
      "<class 'pandas.core.frame.DataFrame'>\n",
      "RangeIndex: 5000 entries, 0 to 4999\n",
      "Data columns (total 5 columns):\n",
      " #   Column             Non-Null Count  Dtype\n",
      "---  ------             --------------  -----\n",
      " 0   Пол                5000 non-null   int64\n",
      " 1   Возраст            5000 non-null   int32\n",
      " 2   Зарплата           5000 non-null   int32\n",
      " 3   Члены семьи        5000 non-null   int64\n",
      " 4   Страховые выплаты  5000 non-null   int64\n",
      "dtypes: int32(2), int64(3)\n",
      "memory usage: 156.4 KB\n"
     ]
    }
   ],
   "source": [
    "basic_df.info()"
   ]
  },
  {
   "cell_type": "code",
   "execution_count": 9,
   "metadata": {
    "scrolled": true
   },
   "outputs": [
    {
     "data": {
      "image/png": "[encoded data removed]",
      "text/plain": [
       "<Figure size 640x480 with 1 Axes>"
      ]
     },
     "metadata": {},
     "output_type": "display_data"
    }
   ],
   "source": [
    "basic_df['Страховые выплаты'].hist()\n",
    "plt.show()"
   ]
  },
  {
   "cell_type": "markdown",
   "metadata": {},
   "source": [
    "Данные загружены и изучены. Проведена подготовка данных для выполнения задания. Аномалий не выявлено."
   ]
  },
  {
   "cell_type": "markdown",
   "metadata": {},
   "source": [
    "## Признаки умножаем на обратимую матрицу. Изменится ли качество линейной регрессии? "
   ]
  },
  {
   "cell_type": "code",
   "execution_count": 10,
   "metadata": {},
   "outputs": [],
   "source": [
    "# Создадим функцию по расчету r2 для матрицы признаков и измененной матрицы\n",
    "def r2_score_train(x, y):\n",
    "    model = LinearRegression()\n",
    "    model.fit(x, y)\n",
    "    r2 = model.score(x, y)\n",
    "    return r2"
   ]
  },
  {
   "cell_type": "code",
   "execution_count": 11,
   "metadata": {},
   "outputs": [
    {
     "data": {
      "text/plain": [
       "((5000, 4), (5000,))"
      ]
     },
     "execution_count": 11,
     "metadata": {},
     "output_type": "execute_result"
    }
   ],
   "source": [
    "# Выделим признаки и целевой признак\n",
    "X = basic_df.drop('Страховые выплаты',axis=1)\n",
    "y = basic_df['Страховые выплаты']\n",
    "X.shape, y.shape"
   ]
  },
  {
   "cell_type": "code",
   "execution_count": 12,
   "metadata": {
    "scrolled": true
   },
   "outputs": [],
   "source": [
    "# Вычислим r2 для матрицы признаков\n",
    "r2_score_original = r2_score_train(X, y)"
   ]
  },
  {
   "cell_type": "markdown",
   "metadata": {},
   "source": [
    "Необратимые матрицы встречаются редко. Если сгенерировать случайную матрицу, вероятность получить необратимую матрицу близка к нулю. Однако проверим сгенерируемую матрицу на обратимость, т.к. в случае необратимости мы не сможем произвести обратное преобразование (дешифровку). Для того чтобы квадратная матрица А порядка n имела обратную, необходимо и достаточно, чтобы детерминант (определитель матрицы) detА ≠ 0."
   ]
  },
  {
   "cell_type": "code",
   "execution_count": 13,
   "metadata": {},
   "outputs": [
    {
     "name": "stdout",
     "output_type": "stream",
     "text": [
      "Матрица обратима, можем продолжать исследование\n"
     ]
    }
   ],
   "source": [
    "# Создадим случайную обратимую матрицу, проверим ее на обратимость\n",
    "while True:\n",
    "    random_matrix = np.random.randint(1, 100, size = (4, 4))\n",
    "    determinant = np.linalg.det(random_matrix)\n",
    "\n",
    "    if determinant == 0:\n",
    "        continue\n",
    "    else:\n",
    "        print('Матрица обратима, можем продолжать исследование')\n",
    "        break        "
   ]
  },
  {
   "cell_type": "code",
   "execution_count": 14,
   "metadata": {},
   "outputs": [
    {
     "data": {
      "text/plain": [
       "array([[41, 96, 41, 80],\n",
       "       [89, 53, 50, 42],\n",
       "       [45, 65, 65, 54],\n",
       "       [86, 29, 76, 83]])"
      ]
     },
     "execution_count": 14,
     "metadata": {},
     "output_type": "execute_result"
    }
   ],
   "source": [
    "random_matrix"
   ]
  },
  {
   "cell_type": "code",
   "execution_count": 15,
   "metadata": {
    "scrolled": true
   },
   "outputs": [
    {
     "data": {
      "text/plain": [
       "array([[-0.00045265,  0.01810818, -0.01437597,  0.00062615],\n",
       "       [ 0.00592982,  0.0071457 ,  0.00699345, -0.01388134],\n",
       "       [-0.01790606, -0.00844349,  0.03342706, -0.00021626],\n",
       "       [ 0.01479306, -0.01352799, -0.01815582,  0.01644754]])"
      ]
     },
     "execution_count": 15,
     "metadata": {},
     "output_type": "execute_result"
    }
   ],
   "source": [
    "# Дополнительная проверка обратимости матрицы.\n",
    "# В случае вырожденной матрицы код будет падать с ошибкой LinAlgError: Singular matrix.\n",
    "np.linalg.inv(random_matrix)"
   ]
  },
  {
   "cell_type": "code",
   "execution_count": 16,
   "metadata": {},
   "outputs": [],
   "source": [
    "X_inv = X @ random_matrix"
   ]
  },
  {
   "cell_type": "code",
   "execution_count": 17,
   "metadata": {
    "scrolled": true
   },
   "outputs": [],
   "source": [
    "# Вычислим r2 для получившийся матрицы\n",
    "r2_score_change = r2_score_train(X_inv, y)"
   ]
  },
  {
   "cell_type": "code",
   "execution_count": 18,
   "metadata": {},
   "outputs": [
    {
     "data": {
      "text/html": [
       "<div>\n",
       "<style scoped>\n",
       "    .dataframe tbody tr th:only-of-type {\n",
       "        vertical-align: middle;\n",
       "    }\n",
       "\n",
       "    .dataframe tbody tr th {\n",
       "        vertical-align: top;\n",
       "    }\n",
       "\n",
       "    .dataframe thead th {\n",
       "        text-align: right;\n",
       "    }\n",
       "</style>\n",
       "<table border=\"1\" class=\"dataframe\">\n",
       "  <thead>\n",
       "    <tr style=\"text-align: right;\">\n",
       "      <th></th>\n",
       "      <th>Метрика r2</th>\n",
       "    </tr>\n",
       "  </thead>\n",
       "  <tbody>\n",
       "    <tr>\n",
       "      <th>Оригинальные данные</th>\n",
       "      <td>0.424946</td>\n",
       "    </tr>\n",
       "    <tr>\n",
       "      <th>Измененные данные</th>\n",
       "      <td>0.424946</td>\n",
       "    </tr>\n",
       "  </tbody>\n",
       "</table>\n",
       "</div>"
      ],
      "text/plain": [
       "                     Метрика r2\n",
       "Оригинальные данные    0.424946\n",
       "Измененные данные      0.424946"
      ]
     },
     "execution_count": 18,
     "metadata": {},
     "output_type": "execute_result"
    }
   ],
   "source": [
    "r2_score_data = pd.DataFrame(data=[r2_score_change, r2_score_original], \n",
    "                             columns=['Метрика r2'], \n",
    "                             index=['Оригинальные данные', \n",
    "                                    'Измененные данные']\n",
    "                            )\n",
    "r2_score_data"
   ]
  },
  {
   "cell_type": "markdown",
   "metadata": {},
   "source": [
    "Как видно, значение предсказания линейной регрессии не меняется, если умножать матрицу признаков на обратимую матрицу."
   ]
  },
  {
   "cell_type": "markdown",
   "metadata": {},
   "source": [
    "## Предложим алгоритм преобразования данных для решения задачи. "
   ]
  },
  {
   "cell_type": "markdown",
   "metadata": {},
   "source": [
    "Обозначения:\n",
    "\n",
    "- $X$ — матрица признаков (нулевой столбец состоит из единиц)\n",
    "\n",
    "- $y$ — вектор целевого признака\n",
    "\n",
    "- $P$ — матрица, на которую умножаются признаки\n",
    "\n",
    "- $w$ — вектор весов линейной регрессии (нулевой элемент равен сдвигу)"
   ]
  },
  {
   "cell_type": "markdown",
   "metadata": {},
   "source": [
    "Предсказания:\n",
    "\n",
    "$$\n",
    "a = Xw\n",
    "$$\n",
    "\n",
    "Задача обучения:\n",
    "\n",
    "$$\n",
    "w = \\arg\\min_w MSE(Xw, y)\n",
    "$$\n",
    "\n",
    "Формула обучения:\n",
    "\n",
    "$$\n",
    "w = (X^T X)^{-1} X^T y\n",
    "$$"
   ]
  },
  {
   "cell_type": "markdown",
   "metadata": {},
   "source": [
    "**Ответ:** Для защиты данных клиентов предложим преобразовать матрицу признаков - умножить ее на случайную матрицу.\n",
    "\n",
    "**Обоснование:**   \n",
    "\n",
    "Предположим, что измененная матрица $X_1 = XP$\n",
    "\n",
    "Тогда $w_1 = (X_1^TX_1)^{-1} X_1^Ty = ((XP)^T(XP))^{-1} (XP)^Ty = P^{-1}((XP)^{T}X)^{-1} (XP)^Ty =$\n",
    "\n",
    "$= P^{-1}((XP)^{T}X)^{-1} P^TX^Ty = P^{-1}(P^TX^TX)^{-1} P^TX^Ty =$\n",
    "\n",
    "$= P^{-1}(X^TX)^{-1}(P^T)^{-1} P^TX^Ty$\n",
    "\n",
    "Сократим $(P^{T})^{-1} P^T $  \n",
    "\n",
    "$w_1 = P^{-1}(X^TX)^{-1} X^Ty$\n",
    "\n",
    "\n",
    "Подставим для $X_1$ и $w_1$ в формулу для расчета $a_1$:\n",
    "\n",
    "$a_1=X_1P^{-1}(X^TX)^{-1} X^Ty$\n",
    "\n",
    "$(X^TX)^{-1} X^Ty = w$   \n",
    " \n",
    "Окончательно формула выглядит так: $ a_1 = XPP^{-1}w = Xw = a$\n",
    "\n",
    "Таким образом, мы видим, что после умножения выражения равны."
   ]
  },
  {
   "cell_type": "markdown",
   "metadata": {},
   "source": [
    "$$\n",
    "a = Xw = XEw = XPP^{-1}w = (XP)P^{-1}w = (XP)w'\n",
    "$$\n",
    "\n",
    "$$\n",
    "w' = ((XP)^T XP)^{-1} (XP)^T y\n",
    "$$\n",
    "$$\n",
    "w' = (P^T (X^T X) P)^{-1} (XP)^T y\n",
    "$$\n",
    "$$\n",
    "....\n",
    "$$\n",
    "$$\n",
    "....\n",
    "$$"
   ]
  },
  {
   "cell_type": "markdown",
   "metadata": {},
   "source": [
    "## Алгоритм преобразования"
   ]
  },
  {
   "cell_type": "markdown",
   "metadata": {},
   "source": [
    "**Алгоритм**\n",
    "\n",
    "1. Создание отдельных переменных с признаками и целевым признаком\n",
    "2. Обучение модели без преобразования\n",
    "3. Получение метрики R2 на модели без преобразования\n",
    "4. Создание случайной матрицы\n",
    "5. Умножение случайной матрицы на матрицу признаков\n",
    "6. Обучение модели на преобразованых данных\n",
    "7. Получение метрики R2 на преобразованых данных"
   ]
  },
  {
   "cell_type": "markdown",
   "metadata": {},
   "source": [
    "**Обоснование**\n",
    "Умножим нашу матрицу признаков на случайную матрицу и сравним значения метрики r2"
   ]
  },
  {
   "cell_type": "markdown",
   "metadata": {},
   "source": [
    "## Проверка алгоритма"
   ]
  },
  {
   "cell_type": "code",
   "execution_count": 19,
   "metadata": {},
   "outputs": [],
   "source": [
    "# Создаем отдельные переменные для признаков и целевого признака\n",
    "features = basic_df.drop('Страховые выплаты', axis=1)\n",
    "target = basic_df['Страховые выплаты']"
   ]
  },
  {
   "cell_type": "code",
   "execution_count": 20,
   "metadata": {},
   "outputs": [],
   "source": [
    "# Делим выборку\n",
    "features_train, features_test, target_train, target_test = train_test_split(features, target,\n",
    "                                                                            test_size=0.4, random_state=state)"
   ]
  },
  {
   "cell_type": "code",
   "execution_count": 21,
   "metadata": {},
   "outputs": [],
   "source": [
    "# Получаем предсказания для оригинальной выборки\n",
    "model = LinearRegression().fit(features_train, target_train)\n",
    "predictions = model.predict(features_test)"
   ]
  },
  {
   "cell_type": "code",
   "execution_count": 22,
   "metadata": {},
   "outputs": [],
   "source": [
    "# Вычисляем метрику r2 для оригинальной выборки\n",
    "r2_score_original_test = r2_score(target_test, predictions)"
   ]
  },
  {
   "cell_type": "code",
   "execution_count": 23,
   "metadata": {},
   "outputs": [
    {
     "name": "stdout",
     "output_type": "stream",
     "text": [
      "Матрица обратима, можем продолжать проверку алгоритма\n"
     ]
    }
   ],
   "source": [
    "# Создадим случайную обратимую матрицу, проверим ее на обратимость\n",
    "while True:\n",
    "    random_matrix_test = np.random.randint(1, 100, size = (4, 4))\n",
    "    determinant = np.linalg.det(random_matrix_test)\n",
    "\n",
    "    if determinant == 0:\n",
    "        continue\n",
    "    else:\n",
    "        print('Матрица обратима, можем продолжать проверку алгоритма')\n",
    "        break        "
   ]
  },
  {
   "cell_type": "code",
   "execution_count": 24,
   "metadata": {},
   "outputs": [
    {
     "data": {
      "text/plain": [
       "array([[47, 17, 91, 85],\n",
       "       [83, 80,  6, 30],\n",
       "       [10, 31, 79, 12],\n",
       "       [23, 10, 59, 20]])"
      ]
     },
     "execution_count": 24,
     "metadata": {},
     "output_type": "execute_result"
    }
   ],
   "source": [
    "random_matrix_test"
   ]
  },
  {
   "cell_type": "code",
   "execution_count": 25,
   "metadata": {
    "scrolled": true
   },
   "outputs": [
    {
     "data": {
      "text/plain": [
       "array([[-0.01123761,  0.00661416, -0.02865917,  0.05503409],\n",
       "       [ 0.00413358,  0.00647141,  0.02739059, -0.04370916],\n",
       "       [-0.00334959, -0.00313421,  0.00473235,  0.01609767],\n",
       "       [ 0.02073776, -0.00159608,  0.00530232, -0.03892276]])"
      ]
     },
     "execution_count": 25,
     "metadata": {},
     "output_type": "execute_result"
    }
   ],
   "source": [
    "# Дополнительная проверка обратимости матрицы.\n",
    "# В случае вырожденной матрицы код будет падать с ошибкой LinAlgError: Singular matrix.\n",
    "np.linalg.inv(random_matrix_test)"
   ]
  },
  {
   "cell_type": "code",
   "execution_count": 26,
   "metadata": {},
   "outputs": [],
   "source": [
    "features_inv = features @ random_matrix_test"
   ]
  },
  {
   "cell_type": "code",
   "execution_count": 27,
   "metadata": {},
   "outputs": [],
   "source": [
    "# Делим выборку с измененными признаками\n",
    "features_train_inv, features_test_inv, target_train_inv, target_test_inv = train_test_split(features_inv, target,\n",
    "                                                                            test_size=0.4, random_state=12345)"
   ]
  },
  {
   "cell_type": "code",
   "execution_count": 28,
   "metadata": {},
   "outputs": [],
   "source": [
    "# Получаем предсказания для измененной выборки\n",
    "model = LinearRegression().fit(features_train_inv, target_train_inv)\n",
    "predictions = model.predict(features_test_inv)"
   ]
  },
  {
   "cell_type": "code",
   "execution_count": 29,
   "metadata": {},
   "outputs": [],
   "source": [
    "# Вычисляем метрику r2 для измененной выборки\n",
    "r2_score_change_test = r2_score(target_test_inv, predictions)"
   ]
  },
  {
   "cell_type": "code",
   "execution_count": 30,
   "metadata": {
    "scrolled": true
   },
   "outputs": [
    {
     "data": {
      "text/html": [
       "<div>\n",
       "<style scoped>\n",
       "    .dataframe tbody tr th:only-of-type {\n",
       "        vertical-align: middle;\n",
       "    }\n",
       "\n",
       "    .dataframe tbody tr th {\n",
       "        vertical-align: top;\n",
       "    }\n",
       "\n",
       "    .dataframe thead th {\n",
       "        text-align: right;\n",
       "    }\n",
       "</style>\n",
       "<table border=\"1\" class=\"dataframe\">\n",
       "  <thead>\n",
       "    <tr style=\"text-align: right;\">\n",
       "      <th></th>\n",
       "      <th>Метрика r2</th>\n",
       "    </tr>\n",
       "  </thead>\n",
       "  <tbody>\n",
       "    <tr>\n",
       "      <th>Оригинальные данные</th>\n",
       "      <td>0.423752</td>\n",
       "    </tr>\n",
       "    <tr>\n",
       "      <th>Измененные данные</th>\n",
       "      <td>0.423752</td>\n",
       "    </tr>\n",
       "  </tbody>\n",
       "</table>\n",
       "</div>"
      ],
      "text/plain": [
       "                     Метрика r2\n",
       "Оригинальные данные    0.423752\n",
       "Измененные данные      0.423752"
      ]
     },
     "execution_count": 30,
     "metadata": {},
     "output_type": "execute_result"
    }
   ],
   "source": [
    "r2_score_data = pd.DataFrame(data=[r2_score_change_test, r2_score_original_test], \n",
    "                             columns=['Метрика r2'], \n",
    "                             index=['Оригинальные данные', \n",
    "                                    'Измененные данные']\n",
    "                            )\n",
    "r2_score_data"
   ]
  },
  {
   "cell_type": "markdown",
   "metadata": {},
   "source": [
    "Мы видим, что метрика r2 не изменилась при умножении матриц"
   ]
  },
  {
   "cell_type": "markdown",
   "metadata": {},
   "source": [
    "Общий вывод по проекту:\n",
    "1. Загрузили и изучили данные.\n",
    "2. Умножили признаки на обратимую матрицу. Качество линейной регрессии при умножении не изменилось.\n",
    "3. В качестве алгоритма преобразования данных для защиты данных клиентов страховой компании «Хоть потоп» предложили умножение матрицы признаков на случайную обратимую матрицу.\n",
    "3. Запрограммировали этот алгоритм, применив матричные операции. \n",
    "5. Убедились, что качество линейной регрессии не отличается до и после преобразования. Для проверки применили метрику R2.\n",
    "6. Таким образом, с матрицами признаков можно выполнять любые опреации без потери качества линейной регрессии."
   ]
  }
 ],
 "metadata": {
  "ExecuteTimeLog": [
   {
    "duration": 50,
    "start_time": "2023-03-17T11:59:06.228Z"
   },
   {
    "duration": 1105,
    "start_time": "2023-03-17T11:59:09.816Z"
   },
   {
    "duration": 71,
    "start_time": "2023-03-17T11:59:10.923Z"
   },
   {
    "duration": 15,
    "start_time": "2023-03-17T11:59:10.996Z"
   },
   {
    "duration": 13,
    "start_time": "2023-03-17T11:59:32.808Z"
   },
   {
    "duration": 16,
    "start_time": "2023-03-17T12:00:01.632Z"
   },
   {
    "duration": 4,
    "start_time": "2023-03-17T12:04:18.599Z"
   },
   {
    "duration": 40,
    "start_time": "2023-03-17T12:04:19.027Z"
   },
   {
    "duration": 102,
    "start_time": "2023-03-17T12:04:19.435Z"
   },
   {
    "duration": 48,
    "start_time": "2023-03-17T12:04:29.347Z"
   },
   {
    "duration": 24,
    "start_time": "2023-03-17T12:05:32.780Z"
   },
   {
    "duration": 8,
    "start_time": "2023-03-17T12:05:38.227Z"
   },
   {
    "duration": 10,
    "start_time": "2023-03-17T12:05:50.452Z"
   },
   {
    "duration": 12,
    "start_time": "2023-03-17T12:07:10.608Z"
   },
   {
    "duration": 12,
    "start_time": "2023-03-17T12:07:38.440Z"
   },
   {
    "duration": 9,
    "start_time": "2023-03-17T12:09:27.209Z"
   },
   {
    "duration": 11,
    "start_time": "2023-03-17T12:09:38.534Z"
   },
   {
    "duration": 12,
    "start_time": "2023-03-17T12:11:35.061Z"
   },
   {
    "duration": 6,
    "start_time": "2023-03-17T12:13:40.347Z"
   },
   {
    "duration": 6,
    "start_time": "2023-03-17T12:13:51.458Z"
   },
   {
    "duration": 1657,
    "start_time": "2023-03-17T12:14:03.986Z"
   },
   {
    "duration": 29,
    "start_time": "2023-03-17T12:14:05.645Z"
   },
   {
    "duration": 74,
    "start_time": "2023-03-17T12:14:05.676Z"
   },
   {
    "duration": 7,
    "start_time": "2023-03-17T12:14:05.752Z"
   },
   {
    "duration": 12,
    "start_time": "2023-03-17T12:14:05.761Z"
   },
   {
    "duration": 7,
    "start_time": "2023-03-17T12:14:46.529Z"
   },
   {
    "duration": 14,
    "start_time": "2023-03-17T12:14:47.984Z"
   },
   {
    "duration": 1218,
    "start_time": "2023-03-17T12:14:55.649Z"
   },
   {
    "duration": 37,
    "start_time": "2023-03-17T12:14:56.869Z"
   },
   {
    "duration": 53,
    "start_time": "2023-03-17T12:14:56.907Z"
   },
   {
    "duration": 7,
    "start_time": "2023-03-17T12:14:56.963Z"
   },
   {
    "duration": 48,
    "start_time": "2023-03-17T12:14:56.972Z"
   },
   {
    "duration": 48,
    "start_time": "2023-03-17T12:15:54.344Z"
   },
   {
    "duration": 51,
    "start_time": "2023-03-17T12:16:13.503Z"
   },
   {
    "duration": 44,
    "start_time": "2023-03-17T12:16:42.608Z"
   },
   {
    "duration": 1205,
    "start_time": "2023-03-17T12:17:02.353Z"
   },
   {
    "duration": 32,
    "start_time": "2023-03-17T12:17:03.561Z"
   },
   {
    "duration": 64,
    "start_time": "2023-03-17T12:17:03.595Z"
   },
   {
    "duration": 7,
    "start_time": "2023-03-17T12:17:03.662Z"
   },
   {
    "duration": 30,
    "start_time": "2023-03-17T12:17:03.672Z"
   },
   {
    "duration": 4,
    "start_time": "2023-03-17T12:19:20.637Z"
   },
   {
    "duration": 17,
    "start_time": "2023-03-17T12:19:21.332Z"
   },
   {
    "duration": 52,
    "start_time": "2023-03-18T13:44:40.421Z"
   },
   {
    "duration": 1036,
    "start_time": "2023-03-18T13:44:46.541Z"
   },
   {
    "duration": 72,
    "start_time": "2023-03-18T13:44:47.579Z"
   },
   {
    "duration": 1090,
    "start_time": "2023-03-18T13:44:54.910Z"
   },
   {
    "duration": 28,
    "start_time": "2023-03-18T13:44:56.002Z"
   },
   {
    "duration": 55,
    "start_time": "2023-03-18T13:44:56.032Z"
   },
   {
    "duration": 5,
    "start_time": "2023-03-18T13:44:56.088Z"
   },
   {
    "duration": 23,
    "start_time": "2023-03-18T13:44:56.095Z"
   },
   {
    "duration": 11,
    "start_time": "2023-03-18T13:44:56.120Z"
   },
   {
    "duration": 19,
    "start_time": "2023-03-18T13:44:56.133Z"
   },
   {
    "duration": 43,
    "start_time": "2023-03-18T13:44:56.154Z"
   },
   {
    "duration": 10,
    "start_time": "2023-03-18T13:45:22.848Z"
   },
   {
    "duration": 99,
    "start_time": "2023-03-18T13:47:47.558Z"
   },
   {
    "duration": 478,
    "start_time": "2023-03-18T13:48:15.810Z"
   },
   {
    "duration": 228,
    "start_time": "2023-03-18T13:48:21.817Z"
   },
   {
    "duration": 4,
    "start_time": "2023-03-18T13:51:00.735Z"
   },
   {
    "duration": 224,
    "start_time": "2023-03-18T13:51:05.788Z"
   },
   {
    "duration": 4,
    "start_time": "2023-03-18T13:51:25.090Z"
   },
   {
    "duration": 28,
    "start_time": "2023-03-18T13:51:25.898Z"
   },
   {
    "duration": 208,
    "start_time": "2023-03-18T13:51:30.377Z"
   },
   {
    "duration": 9,
    "start_time": "2023-03-18T14:22:12.688Z"
   },
   {
    "duration": 6,
    "start_time": "2023-03-18T14:22:13.015Z"
   },
   {
    "duration": 58,
    "start_time": "2023-03-18T14:22:13.518Z"
   },
   {
    "duration": 13,
    "start_time": "2023-03-18T14:22:49.429Z"
   },
   {
    "duration": 3,
    "start_time": "2023-03-18T14:23:10.285Z"
   },
   {
    "duration": 5,
    "start_time": "2023-03-18T14:23:57.241Z"
   },
   {
    "duration": 21,
    "start_time": "2023-03-18T14:24:48.800Z"
   },
   {
    "duration": 6,
    "start_time": "2023-03-18T14:25:37.953Z"
   },
   {
    "duration": 8,
    "start_time": "2023-03-18T14:32:22.117Z"
   },
   {
    "duration": 5,
    "start_time": "2023-03-18T14:32:38.498Z"
   },
   {
    "duration": 7,
    "start_time": "2023-03-18T14:32:42.768Z"
   },
   {
    "duration": 1484,
    "start_time": "2023-03-18T14:35:43.163Z"
   },
   {
    "duration": 29,
    "start_time": "2023-03-18T14:35:44.650Z"
   },
   {
    "duration": 49,
    "start_time": "2023-03-18T14:35:44.681Z"
   },
   {
    "duration": 7,
    "start_time": "2023-03-18T14:35:44.732Z"
   },
   {
    "duration": 5,
    "start_time": "2023-03-18T14:35:44.742Z"
   },
   {
    "duration": 13,
    "start_time": "2023-03-18T14:35:44.748Z"
   },
   {
    "duration": 9,
    "start_time": "2023-03-18T14:35:44.762Z"
   },
   {
    "duration": 50,
    "start_time": "2023-03-18T14:35:44.774Z"
   },
   {
    "duration": 230,
    "start_time": "2023-03-18T14:35:44.826Z"
   },
   {
    "duration": 4,
    "start_time": "2023-03-18T14:35:45.058Z"
   },
   {
    "duration": 8,
    "start_time": "2023-03-18T14:35:45.065Z"
   },
   {
    "duration": 36,
    "start_time": "2023-03-18T14:35:45.074Z"
   },
   {
    "duration": 117,
    "start_time": "2023-03-18T14:35:45.190Z"
   },
   {
    "duration": 10,
    "start_time": "2023-03-18T14:35:45.310Z"
   },
   {
    "duration": 3,
    "start_time": "2023-03-18T14:42:03.562Z"
   },
   {
    "duration": 5,
    "start_time": "2023-03-18T14:42:05.321Z"
   },
   {
    "duration": 17,
    "start_time": "2023-03-18T14:42:06.025Z"
   },
   {
    "duration": 4,
    "start_time": "2023-03-18T14:42:07.161Z"
   },
   {
    "duration": 14,
    "start_time": "2023-03-18T14:42:08.060Z"
   },
   {
    "duration": 3,
    "start_time": "2023-03-18T14:48:21.100Z"
   },
   {
    "duration": 121,
    "start_time": "2023-03-18T14:55:21.793Z"
   },
   {
    "duration": 4,
    "start_time": "2023-03-18T14:56:00.104Z"
   },
   {
    "duration": 10,
    "start_time": "2023-03-18T14:56:00.374Z"
   },
   {
    "duration": 1640,
    "start_time": "2023-03-18T14:56:15.212Z"
   },
   {
    "duration": 0,
    "start_time": "2023-03-18T14:56:16.855Z"
   },
   {
    "duration": 0,
    "start_time": "2023-03-18T14:56:16.857Z"
   },
   {
    "duration": 0,
    "start_time": "2023-03-18T14:56:16.857Z"
   },
   {
    "duration": 0,
    "start_time": "2023-03-18T14:56:16.859Z"
   },
   {
    "duration": 0,
    "start_time": "2023-03-18T14:56:16.860Z"
   },
   {
    "duration": 0,
    "start_time": "2023-03-18T14:56:16.861Z"
   },
   {
    "duration": 0,
    "start_time": "2023-03-18T14:56:16.862Z"
   },
   {
    "duration": 0,
    "start_time": "2023-03-18T14:56:16.864Z"
   },
   {
    "duration": 0,
    "start_time": "2023-03-18T14:56:16.865Z"
   },
   {
    "duration": 0,
    "start_time": "2023-03-18T14:56:16.866Z"
   },
   {
    "duration": 0,
    "start_time": "2023-03-18T14:56:16.867Z"
   },
   {
    "duration": 0,
    "start_time": "2023-03-18T14:56:16.868Z"
   },
   {
    "duration": 0,
    "start_time": "2023-03-18T14:56:16.869Z"
   },
   {
    "duration": 0,
    "start_time": "2023-03-18T14:56:16.890Z"
   },
   {
    "duration": 0,
    "start_time": "2023-03-18T14:56:16.891Z"
   },
   {
    "duration": 0,
    "start_time": "2023-03-18T14:56:16.893Z"
   },
   {
    "duration": 1427,
    "start_time": "2023-03-18T14:56:59.850Z"
   },
   {
    "duration": 30,
    "start_time": "2023-03-18T14:57:01.279Z"
   },
   {
    "duration": 51,
    "start_time": "2023-03-18T14:57:01.311Z"
   },
   {
    "duration": 9,
    "start_time": "2023-03-18T14:57:01.364Z"
   },
   {
    "duration": 44,
    "start_time": "2023-03-18T14:57:01.374Z"
   },
   {
    "duration": 64,
    "start_time": "2023-03-18T14:57:01.420Z"
   },
   {
    "duration": 50,
    "start_time": "2023-03-18T14:57:01.486Z"
   },
   {
    "duration": 52,
    "start_time": "2023-03-18T14:57:01.538Z"
   },
   {
    "duration": 247,
    "start_time": "2023-03-18T14:57:01.591Z"
   },
   {
    "duration": 2,
    "start_time": "2023-03-18T14:57:01.841Z"
   },
   {
    "duration": 36,
    "start_time": "2023-03-18T14:57:01.845Z"
   },
   {
    "duration": 50,
    "start_time": "2023-03-18T14:57:01.882Z"
   },
   {
    "duration": 166,
    "start_time": "2023-03-18T14:57:01.935Z"
   },
   {
    "duration": 37,
    "start_time": "2023-03-18T14:57:02.103Z"
   },
   {
    "duration": 55,
    "start_time": "2023-03-18T14:57:02.142Z"
   },
   {
    "duration": 93,
    "start_time": "2023-03-18T14:57:02.200Z"
   },
   {
    "duration": 128,
    "start_time": "2023-03-18T14:57:02.294Z"
   },
   {
    "duration": 11,
    "start_time": "2023-03-18T14:58:12.700Z"
   },
   {
    "duration": 50,
    "start_time": "2023-03-18T15:00:21.897Z"
   },
   {
    "duration": 8,
    "start_time": "2023-03-18T15:00:26.464Z"
   },
   {
    "duration": 10,
    "start_time": "2023-03-18T15:02:38.457Z"
   },
   {
    "duration": 4,
    "start_time": "2023-03-18T15:03:05.104Z"
   },
   {
    "duration": 23,
    "start_time": "2023-03-18T15:03:47.414Z"
   },
   {
    "duration": 14,
    "start_time": "2023-03-18T15:04:25.819Z"
   },
   {
    "duration": 14,
    "start_time": "2023-03-18T15:05:02.029Z"
   },
   {
    "duration": 10,
    "start_time": "2023-03-18T15:06:06.444Z"
   },
   {
    "duration": 21,
    "start_time": "2023-03-18T15:07:42.929Z"
   },
   {
    "duration": 9,
    "start_time": "2023-03-18T15:16:43.372Z"
   },
   {
    "duration": 1495,
    "start_time": "2023-03-18T15:16:58.640Z"
   },
   {
    "duration": 30,
    "start_time": "2023-03-18T15:17:00.137Z"
   },
   {
    "duration": 64,
    "start_time": "2023-03-18T15:17:00.169Z"
   },
   {
    "duration": 9,
    "start_time": "2023-03-18T15:17:00.235Z"
   },
   {
    "duration": 22,
    "start_time": "2023-03-18T15:17:00.246Z"
   },
   {
    "duration": 21,
    "start_time": "2023-03-18T15:17:00.270Z"
   },
   {
    "duration": 19,
    "start_time": "2023-03-18T15:17:00.293Z"
   },
   {
    "duration": 21,
    "start_time": "2023-03-18T15:17:00.314Z"
   },
   {
    "duration": 344,
    "start_time": "2023-03-18T15:17:00.337Z"
   },
   {
    "duration": 8,
    "start_time": "2023-03-18T15:17:00.683Z"
   },
   {
    "duration": 37,
    "start_time": "2023-03-18T15:17:00.692Z"
   },
   {
    "duration": 75,
    "start_time": "2023-03-18T15:17:00.732Z"
   },
   {
    "duration": 188,
    "start_time": "2023-03-18T15:17:00.810Z"
   },
   {
    "duration": 32,
    "start_time": "2023-03-18T15:17:01.001Z"
   },
   {
    "duration": 156,
    "start_time": "2023-03-18T15:17:01.036Z"
   },
   {
    "duration": 28,
    "start_time": "2023-03-18T15:17:01.194Z"
   },
   {
    "duration": 15,
    "start_time": "2023-03-18T15:17:01.223Z"
   },
   {
    "duration": 34,
    "start_time": "2023-03-18T15:17:01.240Z"
   },
   {
    "duration": 62,
    "start_time": "2023-03-18T15:17:01.276Z"
   },
   {
    "duration": 160,
    "start_time": "2023-03-18T15:17:01.341Z"
   },
   {
    "duration": 0,
    "start_time": "2023-03-18T15:17:01.503Z"
   },
   {
    "duration": 10,
    "start_time": "2023-03-18T15:17:45.701Z"
   },
   {
    "duration": 7,
    "start_time": "2023-03-18T15:19:21.617Z"
   },
   {
    "duration": 7,
    "start_time": "2023-03-18T15:19:29.604Z"
   },
   {
    "duration": 7,
    "start_time": "2023-03-18T15:19:31.604Z"
   },
   {
    "duration": 16,
    "start_time": "2023-03-18T15:23:01.006Z"
   },
   {
    "duration": 20,
    "start_time": "2023-03-18T15:23:46.507Z"
   },
   {
    "duration": 14,
    "start_time": "2023-03-18T15:24:36.353Z"
   },
   {
    "duration": 1553,
    "start_time": "2023-03-18T15:24:42.645Z"
   },
   {
    "duration": 34,
    "start_time": "2023-03-18T15:24:44.200Z"
   },
   {
    "duration": 59,
    "start_time": "2023-03-18T15:24:44.236Z"
   },
   {
    "duration": 9,
    "start_time": "2023-03-18T15:24:44.298Z"
   },
   {
    "duration": 3,
    "start_time": "2023-03-18T15:24:44.311Z"
   },
   {
    "duration": 8,
    "start_time": "2023-03-18T15:24:44.316Z"
   },
   {
    "duration": 7,
    "start_time": "2023-03-18T15:24:44.326Z"
   },
   {
    "duration": 13,
    "start_time": "2023-03-18T15:24:44.335Z"
   },
   {
    "duration": 277,
    "start_time": "2023-03-18T15:24:44.350Z"
   },
   {
    "duration": 5,
    "start_time": "2023-03-18T15:24:44.629Z"
   },
   {
    "duration": 16,
    "start_time": "2023-03-18T15:24:44.636Z"
   },
   {
    "duration": 38,
    "start_time": "2023-03-18T15:24:44.654Z"
   },
   {
    "duration": 96,
    "start_time": "2023-03-18T15:24:44.694Z"
   },
   {
    "duration": 100,
    "start_time": "2023-03-18T15:24:44.794Z"
   },
   {
    "duration": 98,
    "start_time": "2023-03-18T15:24:44.897Z"
   },
   {
    "duration": 17,
    "start_time": "2023-03-18T15:24:44.997Z"
   },
   {
    "duration": 295,
    "start_time": "2023-03-18T15:24:45.016Z"
   },
   {
    "duration": 0,
    "start_time": "2023-03-18T15:24:45.313Z"
   },
   {
    "duration": 0,
    "start_time": "2023-03-18T15:24:45.314Z"
   },
   {
    "duration": 0,
    "start_time": "2023-03-18T15:24:45.316Z"
   },
   {
    "duration": 0,
    "start_time": "2023-03-18T15:24:45.317Z"
   },
   {
    "duration": 15,
    "start_time": "2023-03-18T15:25:07.932Z"
   },
   {
    "duration": 91,
    "start_time": "2023-03-18T15:25:16.802Z"
   },
   {
    "duration": 14,
    "start_time": "2023-03-18T15:25:44.220Z"
   },
   {
    "duration": 16,
    "start_time": "2023-03-18T15:26:00.104Z"
   },
   {
    "duration": 1501,
    "start_time": "2023-03-18T15:26:09.405Z"
   },
   {
    "duration": 33,
    "start_time": "2023-03-18T15:26:10.908Z"
   },
   {
    "duration": 61,
    "start_time": "2023-03-18T15:26:10.943Z"
   },
   {
    "duration": 7,
    "start_time": "2023-03-18T15:26:11.006Z"
   },
   {
    "duration": 7,
    "start_time": "2023-03-18T15:26:11.016Z"
   },
   {
    "duration": 20,
    "start_time": "2023-03-18T15:26:11.025Z"
   },
   {
    "duration": 8,
    "start_time": "2023-03-18T15:26:11.048Z"
   },
   {
    "duration": 11,
    "start_time": "2023-03-18T15:26:11.059Z"
   },
   {
    "duration": 238,
    "start_time": "2023-03-18T15:26:11.072Z"
   },
   {
    "duration": 4,
    "start_time": "2023-03-18T15:26:11.313Z"
   },
   {
    "duration": 11,
    "start_time": "2023-03-18T15:26:11.319Z"
   },
   {
    "duration": 18,
    "start_time": "2023-03-18T15:26:11.332Z"
   },
   {
    "duration": 140,
    "start_time": "2023-03-18T15:26:11.352Z"
   },
   {
    "duration": 16,
    "start_time": "2023-03-18T15:26:11.495Z"
   },
   {
    "duration": 181,
    "start_time": "2023-03-18T15:26:11.513Z"
   },
   {
    "duration": 12,
    "start_time": "2023-03-18T15:26:11.696Z"
   },
   {
    "duration": 15,
    "start_time": "2023-03-18T15:26:11.710Z"
   },
   {
    "duration": 174,
    "start_time": "2023-03-18T15:26:11.727Z"
   },
   {
    "duration": 22,
    "start_time": "2023-03-18T15:26:11.904Z"
   },
   {
    "duration": 17,
    "start_time": "2023-03-18T15:26:11.928Z"
   },
   {
    "duration": 97,
    "start_time": "2023-03-18T15:26:11.995Z"
   },
   {
    "duration": 179,
    "start_time": "2023-03-18T15:26:12.095Z"
   },
   {
    "duration": 0,
    "start_time": "2023-03-18T15:26:12.276Z"
   },
   {
    "duration": 15,
    "start_time": "2023-03-18T15:28:24.277Z"
   },
   {
    "duration": 4,
    "start_time": "2023-03-18T15:28:49.217Z"
   },
   {
    "duration": 50,
    "start_time": "2023-03-18T15:30:25.149Z"
   },
   {
    "duration": 11,
    "start_time": "2023-03-18T15:30:39.699Z"
   },
   {
    "duration": 19,
    "start_time": "2023-03-18T15:31:11.462Z"
   },
   {
    "duration": 7,
    "start_time": "2023-03-18T15:34:58.554Z"
   },
   {
    "duration": 269,
    "start_time": "2023-03-18T15:35:01.730Z"
   },
   {
    "duration": 4,
    "start_time": "2023-03-18T15:35:18.304Z"
   },
   {
    "duration": 5,
    "start_time": "2023-03-18T15:35:19.140Z"
   },
   {
    "duration": 8,
    "start_time": "2023-03-18T15:35:19.702Z"
   },
   {
    "duration": 6,
    "start_time": "2023-03-18T15:35:59.640Z"
   },
   {
    "duration": 4,
    "start_time": "2023-03-18T15:47:17.913Z"
   },
   {
    "duration": 11,
    "start_time": "2023-03-18T15:47:18.227Z"
   },
   {
    "duration": 4,
    "start_time": "2023-03-18T15:49:15.258Z"
   },
   {
    "duration": 5,
    "start_time": "2023-03-18T15:49:15.941Z"
   },
   {
    "duration": 28,
    "start_time": "2023-03-18T15:49:54.101Z"
   },
   {
    "duration": 4,
    "start_time": "2023-03-18T15:50:16.364Z"
   },
   {
    "duration": 5,
    "start_time": "2023-03-18T15:50:16.714Z"
   },
   {
    "duration": 5,
    "start_time": "2023-03-18T15:50:17.108Z"
   },
   {
    "duration": 32,
    "start_time": "2023-03-18T15:51:23.453Z"
   },
   {
    "duration": 23,
    "start_time": "2023-03-18T15:52:14.419Z"
   },
   {
    "duration": 10,
    "start_time": "2023-03-18T15:52:55.859Z"
   },
   {
    "duration": 9,
    "start_time": "2023-03-18T15:53:03.617Z"
   },
   {
    "duration": 12,
    "start_time": "2023-03-18T15:53:55.346Z"
   },
   {
    "duration": 10,
    "start_time": "2023-03-18T15:54:03.826Z"
   },
   {
    "duration": 16,
    "start_time": "2023-03-18T15:54:11.610Z"
   },
   {
    "duration": 11,
    "start_time": "2023-03-18T15:54:35.107Z"
   },
   {
    "duration": 23,
    "start_time": "2023-03-18T15:58:45.104Z"
   },
   {
    "duration": 22,
    "start_time": "2023-03-18T16:00:46.819Z"
   },
   {
    "duration": 3,
    "start_time": "2023-03-18T16:02:58.422Z"
   },
   {
    "duration": 6,
    "start_time": "2023-03-18T16:03:01.124Z"
   },
   {
    "duration": 11,
    "start_time": "2023-03-18T16:03:09.649Z"
   },
   {
    "duration": 10,
    "start_time": "2023-03-18T16:03:16.013Z"
   },
   {
    "duration": 1444,
    "start_time": "2023-03-18T16:03:24.155Z"
   },
   {
    "duration": 36,
    "start_time": "2023-03-18T16:03:25.605Z"
   },
   {
    "duration": 44,
    "start_time": "2023-03-18T16:03:25.642Z"
   },
   {
    "duration": 15,
    "start_time": "2023-03-18T16:03:25.688Z"
   },
   {
    "duration": 21,
    "start_time": "2023-03-18T16:03:25.710Z"
   },
   {
    "duration": 5,
    "start_time": "2023-03-18T16:03:25.732Z"
   },
   {
    "duration": 9,
    "start_time": "2023-03-18T16:03:25.739Z"
   },
   {
    "duration": 12,
    "start_time": "2023-03-18T16:03:25.750Z"
   },
   {
    "duration": 252,
    "start_time": "2023-03-18T16:03:25.764Z"
   },
   {
    "duration": 4,
    "start_time": "2023-03-18T16:03:26.019Z"
   },
   {
    "duration": 10,
    "start_time": "2023-03-18T16:03:26.025Z"
   },
   {
    "duration": 141,
    "start_time": "2023-03-18T16:03:26.037Z"
   },
   {
    "duration": 0,
    "start_time": "2023-03-18T16:03:26.180Z"
   },
   {
    "duration": 0,
    "start_time": "2023-03-18T16:03:26.181Z"
   },
   {
    "duration": 0,
    "start_time": "2023-03-18T16:03:26.182Z"
   },
   {
    "duration": 0,
    "start_time": "2023-03-18T16:03:26.183Z"
   },
   {
    "duration": 0,
    "start_time": "2023-03-18T16:03:26.184Z"
   },
   {
    "duration": 0,
    "start_time": "2023-03-18T16:03:26.185Z"
   },
   {
    "duration": 0,
    "start_time": "2023-03-18T16:03:26.186Z"
   },
   {
    "duration": 0,
    "start_time": "2023-03-18T16:03:26.187Z"
   },
   {
    "duration": 0,
    "start_time": "2023-03-18T16:03:26.189Z"
   },
   {
    "duration": 4,
    "start_time": "2023-03-18T16:03:56.933Z"
   },
   {
    "duration": 14,
    "start_time": "2023-03-18T16:03:57.531Z"
   },
   {
    "duration": 3,
    "start_time": "2023-03-18T16:04:31.321Z"
   },
   {
    "duration": 5,
    "start_time": "2023-03-18T16:04:31.722Z"
   },
   {
    "duration": 19,
    "start_time": "2023-03-18T16:04:32.629Z"
   },
   {
    "duration": 3,
    "start_time": "2023-03-18T16:04:44.051Z"
   },
   {
    "duration": 6,
    "start_time": "2023-03-18T16:04:44.521Z"
   },
   {
    "duration": 77,
    "start_time": "2023-03-18T16:04:45.517Z"
   },
   {
    "duration": 4,
    "start_time": "2023-03-18T16:04:47.416Z"
   },
   {
    "duration": 11,
    "start_time": "2023-03-18T16:04:49.144Z"
   },
   {
    "duration": 5,
    "start_time": "2023-03-18T16:09:25.811Z"
   },
   {
    "duration": 3,
    "start_time": "2023-03-18T16:09:27.436Z"
   },
   {
    "duration": 6,
    "start_time": "2023-03-18T16:09:28.524Z"
   },
   {
    "duration": 9,
    "start_time": "2023-03-18T16:10:08.117Z"
   },
   {
    "duration": 9,
    "start_time": "2023-03-18T16:11:33.410Z"
   },
   {
    "duration": 4,
    "start_time": "2023-03-18T16:11:37.524Z"
   },
   {
    "duration": 15,
    "start_time": "2023-03-18T16:11:39.134Z"
   },
   {
    "duration": 5,
    "start_time": "2023-03-18T16:11:49.649Z"
   },
   {
    "duration": 9,
    "start_time": "2023-03-18T16:12:10.574Z"
   },
   {
    "duration": 1378,
    "start_time": "2023-03-18T16:12:41.606Z"
   },
   {
    "duration": 33,
    "start_time": "2023-03-18T16:12:42.987Z"
   },
   {
    "duration": 44,
    "start_time": "2023-03-18T16:12:43.021Z"
   },
   {
    "duration": 6,
    "start_time": "2023-03-18T16:12:43.066Z"
   },
   {
    "duration": 6,
    "start_time": "2023-03-18T16:12:43.074Z"
   },
   {
    "duration": 7,
    "start_time": "2023-03-18T16:12:43.081Z"
   },
   {
    "duration": 24,
    "start_time": "2023-03-18T16:12:43.089Z"
   },
   {
    "duration": 17,
    "start_time": "2023-03-18T16:12:43.114Z"
   },
   {
    "duration": 241,
    "start_time": "2023-03-18T16:12:43.133Z"
   },
   {
    "duration": 3,
    "start_time": "2023-03-18T16:12:43.376Z"
   },
   {
    "duration": 19,
    "start_time": "2023-03-18T16:12:43.381Z"
   },
   {
    "duration": 18,
    "start_time": "2023-03-18T16:12:43.401Z"
   },
   {
    "duration": 175,
    "start_time": "2023-03-18T16:12:43.421Z"
   },
   {
    "duration": 23,
    "start_time": "2023-03-18T16:12:43.599Z"
   },
   {
    "duration": 186,
    "start_time": "2023-03-18T16:12:43.625Z"
   },
   {
    "duration": 8,
    "start_time": "2023-03-18T16:12:43.813Z"
   },
   {
    "duration": 7,
    "start_time": "2023-03-18T16:12:43.823Z"
   },
   {
    "duration": 9,
    "start_time": "2023-03-18T16:12:43.832Z"
   },
   {
    "duration": 6,
    "start_time": "2023-03-18T16:12:43.843Z"
   },
   {
    "duration": 8,
    "start_time": "2023-03-18T16:12:43.850Z"
   },
   {
    "duration": 12,
    "start_time": "2023-03-18T16:12:43.860Z"
   },
   {
    "duration": 9,
    "start_time": "2023-03-18T16:12:43.874Z"
   },
   {
    "duration": 122,
    "start_time": "2023-03-18T16:12:43.885Z"
   },
   {
    "duration": 16,
    "start_time": "2023-03-18T16:13:42.024Z"
   },
   {
    "duration": 7,
    "start_time": "2023-03-18T16:17:38.306Z"
   },
   {
    "duration": 8,
    "start_time": "2023-03-18T16:19:43.405Z"
   },
   {
    "duration": 7,
    "start_time": "2023-03-18T16:19:43.806Z"
   },
   {
    "duration": 9,
    "start_time": "2023-03-18T16:19:44.221Z"
   },
   {
    "duration": 7,
    "start_time": "2023-03-18T16:22:33.134Z"
   },
   {
    "duration": 18,
    "start_time": "2023-03-18T16:22:33.705Z"
   },
   {
    "duration": 14,
    "start_time": "2023-03-18T16:22:52.803Z"
   },
   {
    "duration": 21,
    "start_time": "2023-03-18T16:23:58.086Z"
   },
   {
    "duration": 7,
    "start_time": "2023-03-18T16:24:00.197Z"
   },
   {
    "duration": 7,
    "start_time": "2023-03-18T16:24:00.708Z"
   },
   {
    "duration": 12,
    "start_time": "2023-03-18T16:24:05.045Z"
   },
   {
    "duration": 15,
    "start_time": "2023-03-18T16:24:27.554Z"
   },
   {
    "duration": 4,
    "start_time": "2023-03-18T16:32:20.329Z"
   },
   {
    "duration": 14,
    "start_time": "2023-03-18T16:32:22.007Z"
   },
   {
    "duration": 23,
    "start_time": "2023-03-18T16:32:35.632Z"
   },
   {
    "duration": 11,
    "start_time": "2023-03-18T16:33:53.112Z"
   },
   {
    "duration": 12,
    "start_time": "2023-03-18T16:34:08.438Z"
   },
   {
    "duration": 5,
    "start_time": "2023-03-18T16:38:55.716Z"
   },
   {
    "duration": 11,
    "start_time": "2023-03-18T16:38:56.217Z"
   },
   {
    "duration": 5,
    "start_time": "2023-03-18T16:39:07.778Z"
   },
   {
    "duration": 6,
    "start_time": "2023-03-18T16:41:02.430Z"
   },
   {
    "duration": 6,
    "start_time": "2023-03-18T16:42:29.969Z"
   },
   {
    "duration": 9,
    "start_time": "2023-03-18T16:43:07.625Z"
   },
   {
    "duration": 1504,
    "start_time": "2023-03-18T16:44:20.638Z"
   },
   {
    "duration": 30,
    "start_time": "2023-03-18T16:44:22.144Z"
   },
   {
    "duration": 57,
    "start_time": "2023-03-18T16:44:22.176Z"
   },
   {
    "duration": 8,
    "start_time": "2023-03-18T16:44:22.242Z"
   },
   {
    "duration": 2,
    "start_time": "2023-03-18T16:44:22.253Z"
   },
   {
    "duration": 7,
    "start_time": "2023-03-18T16:44:22.257Z"
   },
   {
    "duration": 17,
    "start_time": "2023-03-18T16:44:22.266Z"
   },
   {
    "duration": 17,
    "start_time": "2023-03-18T16:44:22.284Z"
   },
   {
    "duration": 284,
    "start_time": "2023-03-18T16:44:22.303Z"
   },
   {
    "duration": 2,
    "start_time": "2023-03-18T16:44:22.590Z"
   },
   {
    "duration": 43,
    "start_time": "2023-03-18T16:44:22.602Z"
   },
   {
    "duration": 12,
    "start_time": "2023-03-18T16:44:22.647Z"
   },
   {
    "duration": 39,
    "start_time": "2023-03-18T16:44:22.661Z"
   },
   {
    "duration": 90,
    "start_time": "2023-03-18T16:44:22.706Z"
   },
   {
    "duration": 219,
    "start_time": "2023-03-18T16:44:22.805Z"
   },
   {
    "duration": 0,
    "start_time": "2023-03-18T16:44:23.029Z"
   },
   {
    "duration": 0,
    "start_time": "2023-03-18T16:44:23.033Z"
   },
   {
    "duration": 0,
    "start_time": "2023-03-18T16:44:23.035Z"
   },
   {
    "duration": 0,
    "start_time": "2023-03-18T16:44:23.039Z"
   },
   {
    "duration": 0,
    "start_time": "2023-03-18T16:44:23.041Z"
   },
   {
    "duration": 0,
    "start_time": "2023-03-18T16:44:23.042Z"
   },
   {
    "duration": 1527,
    "start_time": "2023-03-18T16:45:54.636Z"
   },
   {
    "duration": 41,
    "start_time": "2023-03-18T16:45:56.165Z"
   },
   {
    "duration": 61,
    "start_time": "2023-03-18T16:45:56.209Z"
   },
   {
    "duration": 7,
    "start_time": "2023-03-18T16:45:56.273Z"
   },
   {
    "duration": 2,
    "start_time": "2023-03-18T16:45:56.292Z"
   },
   {
    "duration": 60,
    "start_time": "2023-03-18T16:45:56.295Z"
   },
   {
    "duration": 12,
    "start_time": "2023-03-18T16:45:56.358Z"
   },
   {
    "duration": 13,
    "start_time": "2023-03-18T16:45:56.373Z"
   },
   {
    "duration": 262,
    "start_time": "2023-03-18T16:45:56.388Z"
   },
   {
    "duration": 3,
    "start_time": "2023-03-18T16:45:56.652Z"
   },
   {
    "duration": 12,
    "start_time": "2023-03-18T16:45:56.657Z"
   },
   {
    "duration": 134,
    "start_time": "2023-03-18T16:45:56.670Z"
   },
   {
    "duration": 24,
    "start_time": "2023-03-18T16:45:56.813Z"
   },
   {
    "duration": 12,
    "start_time": "2023-03-18T16:45:56.840Z"
   },
   {
    "duration": 148,
    "start_time": "2023-03-18T16:45:56.854Z"
   },
   {
    "duration": 38,
    "start_time": "2023-03-18T16:45:57.004Z"
   },
   {
    "duration": 137,
    "start_time": "2023-03-18T16:45:57.044Z"
   },
   {
    "duration": 0,
    "start_time": "2023-03-18T16:45:57.183Z"
   },
   {
    "duration": 0,
    "start_time": "2023-03-18T16:45:57.184Z"
   },
   {
    "duration": 0,
    "start_time": "2023-03-18T16:45:57.186Z"
   },
   {
    "duration": 0,
    "start_time": "2023-03-18T16:45:57.187Z"
   },
   {
    "duration": 1627,
    "start_time": "2023-03-18T16:47:28.521Z"
   },
   {
    "duration": 29,
    "start_time": "2023-03-18T16:47:30.150Z"
   },
   {
    "duration": 67,
    "start_time": "2023-03-18T16:47:30.181Z"
   },
   {
    "duration": 6,
    "start_time": "2023-03-18T16:47:30.250Z"
   },
   {
    "duration": 25,
    "start_time": "2023-03-18T16:47:30.258Z"
   },
   {
    "duration": 77,
    "start_time": "2023-03-18T16:47:30.285Z"
   },
   {
    "duration": 71,
    "start_time": "2023-03-18T16:47:30.364Z"
   },
   {
    "duration": 58,
    "start_time": "2023-03-18T16:47:30.437Z"
   },
   {
    "duration": 351,
    "start_time": "2023-03-18T16:47:30.503Z"
   },
   {
    "duration": 3,
    "start_time": "2023-03-18T16:47:30.856Z"
   },
   {
    "duration": 79,
    "start_time": "2023-03-18T16:47:30.861Z"
   },
   {
    "duration": 107,
    "start_time": "2023-03-18T16:47:30.942Z"
   },
   {
    "duration": 185,
    "start_time": "2023-03-18T16:47:31.051Z"
   },
   {
    "duration": 40,
    "start_time": "2023-03-18T16:47:31.239Z"
   },
   {
    "duration": 117,
    "start_time": "2023-03-18T16:47:31.281Z"
   },
   {
    "duration": 47,
    "start_time": "2023-03-18T16:47:31.400Z"
   },
   {
    "duration": 16,
    "start_time": "2023-03-18T16:47:31.449Z"
   },
   {
    "duration": 200,
    "start_time": "2023-03-18T16:47:31.467Z"
   },
   {
    "duration": 0,
    "start_time": "2023-03-18T16:47:31.669Z"
   },
   {
    "duration": 0,
    "start_time": "2023-03-18T16:47:31.670Z"
   },
   {
    "duration": 0,
    "start_time": "2023-03-18T16:47:31.671Z"
   },
   {
    "duration": 0,
    "start_time": "2023-03-18T16:47:31.671Z"
   },
   {
    "duration": 10,
    "start_time": "2023-03-18T16:47:50.016Z"
   },
   {
    "duration": 5,
    "start_time": "2023-03-18T16:47:50.738Z"
   },
   {
    "duration": 7,
    "start_time": "2023-03-18T16:47:51.435Z"
   },
   {
    "duration": 19,
    "start_time": "2023-03-18T16:47:52.045Z"
   },
   {
    "duration": 15,
    "start_time": "2023-03-18T16:49:15.333Z"
   },
   {
    "duration": 11,
    "start_time": "2023-03-18T16:53:08.630Z"
   },
   {
    "duration": 9,
    "start_time": "2023-03-18T16:53:22.159Z"
   },
   {
    "duration": 155,
    "start_time": "2023-03-18T16:53:34.748Z"
   },
   {
    "duration": 4,
    "start_time": "2023-03-18T17:46:04.370Z"
   },
   {
    "duration": 11,
    "start_time": "2023-03-18T17:46:05.221Z"
   },
   {
    "duration": 73,
    "start_time": "2023-03-18T17:46:06.439Z"
   },
   {
    "duration": 1482,
    "start_time": "2023-03-18T17:46:35.838Z"
   },
   {
    "duration": 33,
    "start_time": "2023-03-18T17:46:37.322Z"
   },
   {
    "duration": 43,
    "start_time": "2023-03-18T17:46:37.538Z"
   },
   {
    "duration": 12,
    "start_time": "2023-03-18T17:46:45.522Z"
   },
   {
    "duration": 8,
    "start_time": "2023-03-18T17:46:48.621Z"
   },
   {
    "duration": 2,
    "start_time": "2023-03-18T17:46:50.365Z"
   },
   {
    "duration": 5,
    "start_time": "2023-03-18T17:46:52.249Z"
   },
   {
    "duration": 16,
    "start_time": "2023-03-18T17:46:53.016Z"
   },
   {
    "duration": 156,
    "start_time": "2023-03-18T17:46:56.442Z"
   },
   {
    "duration": 155,
    "start_time": "2023-03-18T17:51:36.521Z"
   },
   {
    "duration": 165,
    "start_time": "2023-03-18T17:52:38.015Z"
   },
   {
    "duration": 130,
    "start_time": "2023-03-18T17:52:59.249Z"
   },
   {
    "duration": 141,
    "start_time": "2023-03-18T17:53:11.696Z"
   },
   {
    "duration": 15,
    "start_time": "2023-03-18T17:54:41.342Z"
   },
   {
    "duration": 17,
    "start_time": "2023-03-18T17:54:57.921Z"
   },
   {
    "duration": 18,
    "start_time": "2023-03-18T17:55:13.817Z"
   },
   {
    "duration": 12,
    "start_time": "2023-03-18T17:56:56.057Z"
   },
   {
    "duration": 9893,
    "start_time": "2023-03-18T17:57:04.456Z"
   },
   {
    "duration": 45700,
    "start_time": "2023-03-18T17:58:08.817Z"
   },
   {
    "duration": 31721,
    "start_time": "2023-03-18T17:59:20.367Z"
   },
   {
    "duration": 158,
    "start_time": "2023-03-18T18:01:04.598Z"
   },
   {
    "duration": 4,
    "start_time": "2023-03-18T18:01:26.357Z"
   },
   {
    "duration": 6,
    "start_time": "2023-03-18T18:01:28.343Z"
   },
   {
    "duration": 18,
    "start_time": "2023-03-18T18:01:29.813Z"
   },
   {
    "duration": 3,
    "start_time": "2023-03-18T18:01:31.727Z"
   },
   {
    "duration": 18,
    "start_time": "2023-03-18T18:01:33.612Z"
   },
   {
    "duration": 7,
    "start_time": "2023-03-18T18:01:45.217Z"
   },
   {
    "duration": 5,
    "start_time": "2023-03-18T18:01:49.153Z"
   },
   {
    "duration": 89,
    "start_time": "2023-03-18T18:01:52.334Z"
   },
   {
    "duration": 9,
    "start_time": "2023-03-18T18:03:19.419Z"
   },
   {
    "duration": 6,
    "start_time": "2023-03-18T18:03:20.431Z"
   },
   {
    "duration": 8,
    "start_time": "2023-03-18T18:03:21.798Z"
   },
   {
    "duration": 17,
    "start_time": "2023-03-18T18:03:23.831Z"
   },
   {
    "duration": 12,
    "start_time": "2023-03-18T18:03:45.758Z"
   },
   {
    "duration": 9,
    "start_time": "2023-03-18T18:05:12.328Z"
   },
   {
    "duration": 10,
    "start_time": "2023-03-18T18:05:30.855Z"
   },
   {
    "duration": 43,
    "start_time": "2023-03-18T18:06:28.187Z"
   },
   {
    "duration": 24,
    "start_time": "2023-03-18T18:06:43.331Z"
   },
   {
    "duration": 958,
    "start_time": "2023-03-18T18:06:55.029Z"
   },
   {
    "duration": 5,
    "start_time": "2023-03-18T18:07:44.119Z"
   },
   {
    "duration": 5,
    "start_time": "2023-03-18T18:07:44.469Z"
   },
   {
    "duration": 10,
    "start_time": "2023-03-18T18:07:44.871Z"
   },
   {
    "duration": 14,
    "start_time": "2023-03-18T18:07:48.969Z"
   },
   {
    "duration": 14,
    "start_time": "2023-03-18T18:12:16.643Z"
   },
   {
    "duration": 6,
    "start_time": "2023-03-18T18:13:36.162Z"
   },
   {
    "duration": 33,
    "start_time": "2023-03-18T18:14:48.717Z"
   },
   {
    "duration": 5,
    "start_time": "2023-03-18T18:15:07.561Z"
   },
   {
    "duration": 13,
    "start_time": "2023-03-18T18:15:15.848Z"
   },
   {
    "duration": 17,
    "start_time": "2023-03-18T18:15:24.067Z"
   },
   {
    "duration": 22,
    "start_time": "2023-03-18T18:15:49.638Z"
   },
   {
    "duration": 18,
    "start_time": "2023-03-18T18:16:06.260Z"
   },
   {
    "duration": 27,
    "start_time": "2023-03-18T18:16:30.649Z"
   },
   {
    "duration": 10,
    "start_time": "2023-03-18T18:17:01.161Z"
   },
   {
    "duration": 16,
    "start_time": "2023-03-18T18:17:10.037Z"
   },
   {
    "duration": 4,
    "start_time": "2023-03-18T18:17:14.571Z"
   },
   {
    "duration": 14,
    "start_time": "2023-03-18T18:17:14.902Z"
   },
   {
    "duration": 17,
    "start_time": "2023-03-18T18:17:15.223Z"
   },
   {
    "duration": 10,
    "start_time": "2023-03-18T18:17:15.767Z"
   },
   {
    "duration": 1433,
    "start_time": "2023-03-18T18:18:14.630Z"
   },
   {
    "duration": 86,
    "start_time": "2023-03-18T18:18:16.765Z"
   },
   {
    "duration": 79,
    "start_time": "2023-03-18T18:18:18.133Z"
   },
   {
    "duration": 7,
    "start_time": "2023-03-18T18:18:22.172Z"
   },
   {
    "duration": 9,
    "start_time": "2023-03-18T18:18:26.154Z"
   },
   {
    "duration": 21,
    "start_time": "2023-03-18T18:18:28.343Z"
   },
   {
    "duration": 838,
    "start_time": "2023-03-18T18:18:30.598Z"
   },
   {
    "duration": 4,
    "start_time": "2023-03-18T18:21:35.945Z"
   },
   {
    "duration": 124,
    "start_time": "2023-03-18T18:21:41.435Z"
   },
   {
    "duration": 4,
    "start_time": "2023-03-18T18:21:49.528Z"
   },
   {
    "duration": 19,
    "start_time": "2023-03-18T18:21:52.219Z"
   },
   {
    "duration": 33,
    "start_time": "2023-03-18T18:21:53.323Z"
   },
   {
    "duration": 3,
    "start_time": "2023-03-18T18:21:57.345Z"
   },
   {
    "duration": 9,
    "start_time": "2023-03-18T18:21:58.134Z"
   },
   {
    "duration": 5,
    "start_time": "2023-03-18T18:22:11.024Z"
   },
   {
    "duration": 5,
    "start_time": "2023-03-18T18:22:12.744Z"
   },
   {
    "duration": 19,
    "start_time": "2023-03-18T18:22:15.811Z"
   },
   {
    "duration": 9,
    "start_time": "2023-03-18T18:22:17.135Z"
   },
   {
    "duration": 18,
    "start_time": "2023-03-18T18:22:19.764Z"
   },
   {
    "duration": 5,
    "start_time": "2023-03-18T18:23:45.083Z"
   },
   {
    "duration": 10,
    "start_time": "2023-03-18T18:24:04.967Z"
   },
   {
    "duration": 17,
    "start_time": "2023-03-18T18:25:39.248Z"
   },
   {
    "duration": 1764,
    "start_time": "2023-03-18T18:26:32.228Z"
   },
   {
    "duration": 66,
    "start_time": "2023-03-18T18:26:33.995Z"
   },
   {
    "duration": 70,
    "start_time": "2023-03-18T18:26:34.062Z"
   },
   {
    "duration": 14,
    "start_time": "2023-03-18T18:26:34.139Z"
   },
   {
    "duration": 5,
    "start_time": "2023-03-18T18:26:34.156Z"
   },
   {
    "duration": 5,
    "start_time": "2023-03-18T18:26:34.163Z"
   },
   {
    "duration": 6,
    "start_time": "2023-03-18T18:26:34.169Z"
   },
   {
    "duration": 15,
    "start_time": "2023-03-18T18:26:34.177Z"
   },
   {
    "duration": 250,
    "start_time": "2023-03-18T18:26:34.206Z"
   },
   {
    "duration": 5,
    "start_time": "2023-03-18T18:26:34.461Z"
   },
   {
    "duration": 57,
    "start_time": "2023-03-18T18:26:34.468Z"
   },
   {
    "duration": 185,
    "start_time": "2023-03-18T18:26:34.527Z"
   },
   {
    "duration": 80,
    "start_time": "2023-03-18T18:26:34.728Z"
   },
   {
    "duration": 28,
    "start_time": "2023-03-18T18:26:34.850Z"
   },
   {
    "duration": 173,
    "start_time": "2023-03-18T18:26:34.884Z"
   },
   {
    "duration": 11,
    "start_time": "2023-03-18T18:26:35.059Z"
   },
   {
    "duration": 11,
    "start_time": "2023-03-18T18:26:35.072Z"
   },
   {
    "duration": 27,
    "start_time": "2023-03-18T18:26:35.085Z"
   },
   {
    "duration": 41,
    "start_time": "2023-03-18T18:26:35.118Z"
   },
   {
    "duration": 6,
    "start_time": "2023-03-18T18:26:35.161Z"
   },
   {
    "duration": 12,
    "start_time": "2023-03-18T18:26:35.169Z"
   },
   {
    "duration": 5,
    "start_time": "2023-03-18T18:26:35.182Z"
   },
   {
    "duration": 11,
    "start_time": "2023-03-18T18:28:50.625Z"
   },
   {
    "duration": 100,
    "start_time": "2023-03-18T18:35:10.522Z"
   },
   {
    "duration": 131,
    "start_time": "2023-03-18T18:37:00.966Z"
   },
   {
    "duration": 8,
    "start_time": "2023-03-18T18:37:11.317Z"
   },
   {
    "duration": 10,
    "start_time": "2023-03-18T18:37:11.959Z"
   },
   {
    "duration": 5,
    "start_time": "2023-03-18T18:39:17.618Z"
   },
   {
    "duration": 4,
    "start_time": "2023-03-18T18:39:17.958Z"
   },
   {
    "duration": 7,
    "start_time": "2023-03-18T18:39:18.324Z"
   },
   {
    "duration": 8,
    "start_time": "2023-03-18T18:39:18.626Z"
   },
   {
    "duration": 5,
    "start_time": "2023-03-18T18:39:19.021Z"
   },
   {
    "duration": 4,
    "start_time": "2023-03-18T18:39:19.644Z"
   },
   {
    "duration": 8,
    "start_time": "2023-03-18T18:39:29.473Z"
   },
   {
    "duration": 22,
    "start_time": "2023-03-18T18:39:57.915Z"
   },
   {
    "duration": 4,
    "start_time": "2023-03-18T18:40:19.440Z"
   },
   {
    "duration": 18,
    "start_time": "2023-03-18T18:40:27.260Z"
   },
   {
    "duration": 1651,
    "start_time": "2023-03-18T18:40:41.754Z"
   },
   {
    "duration": 36,
    "start_time": "2023-03-18T18:40:43.410Z"
   },
   {
    "duration": 71,
    "start_time": "2023-03-18T18:40:43.448Z"
   },
   {
    "duration": 7,
    "start_time": "2023-03-18T18:40:43.528Z"
   },
   {
    "duration": 7,
    "start_time": "2023-03-18T18:40:43.538Z"
   },
   {
    "duration": 12,
    "start_time": "2023-03-18T18:40:43.547Z"
   },
   {
    "duration": 6,
    "start_time": "2023-03-18T18:40:43.561Z"
   },
   {
    "duration": 18,
    "start_time": "2023-03-18T18:40:43.569Z"
   },
   {
    "duration": 168,
    "start_time": "2023-03-18T18:40:43.591Z"
   },
   {
    "duration": 3,
    "start_time": "2023-03-18T18:40:43.761Z"
   },
   {
    "duration": 25,
    "start_time": "2023-03-18T18:40:43.766Z"
   },
   {
    "duration": 32,
    "start_time": "2023-03-18T18:40:43.803Z"
   },
   {
    "duration": 137,
    "start_time": "2023-03-18T18:40:43.891Z"
   },
   {
    "duration": 21,
    "start_time": "2023-03-18T18:40:44.031Z"
   },
   {
    "duration": 172,
    "start_time": "2023-03-18T18:40:44.056Z"
   },
   {
    "duration": 14,
    "start_time": "2023-03-18T18:40:44.232Z"
   },
   {
    "duration": 27,
    "start_time": "2023-03-18T18:40:44.248Z"
   },
   {
    "duration": 45,
    "start_time": "2023-03-18T18:40:44.277Z"
   },
   {
    "duration": 36,
    "start_time": "2023-03-18T18:40:44.325Z"
   },
   {
    "duration": 26,
    "start_time": "2023-03-18T18:40:44.362Z"
   },
   {
    "duration": 43,
    "start_time": "2023-03-18T18:40:44.400Z"
   },
   {
    "duration": 10,
    "start_time": "2023-03-18T18:40:44.446Z"
   },
   {
    "duration": 197,
    "start_time": "2023-03-18T18:40:44.459Z"
   },
   {
    "duration": 18,
    "start_time": "2023-03-18T18:40:58.918Z"
   },
   {
    "duration": 8,
    "start_time": "2023-03-18T18:41:08.325Z"
   },
   {
    "duration": 70,
    "start_time": "2023-03-18T18:41:57.650Z"
   },
   {
    "duration": 8,
    "start_time": "2023-03-18T18:42:20.130Z"
   },
   {
    "duration": 9,
    "start_time": "2023-03-18T18:42:45.380Z"
   },
   {
    "duration": 1454,
    "start_time": "2023-03-18T18:46:31.052Z"
   },
   {
    "duration": 40,
    "start_time": "2023-03-18T18:46:32.508Z"
   },
   {
    "duration": 83,
    "start_time": "2023-03-18T18:46:32.549Z"
   },
   {
    "duration": 7,
    "start_time": "2023-03-18T18:46:32.634Z"
   },
   {
    "duration": 16,
    "start_time": "2023-03-18T18:46:32.643Z"
   },
   {
    "duration": 10,
    "start_time": "2023-03-18T18:46:32.661Z"
   },
   {
    "duration": 44,
    "start_time": "2023-03-18T18:46:32.673Z"
   },
   {
    "duration": 32,
    "start_time": "2023-03-18T18:46:32.720Z"
   },
   {
    "duration": 214,
    "start_time": "2023-03-18T18:46:32.754Z"
   },
   {
    "duration": 3,
    "start_time": "2023-03-18T18:46:32.970Z"
   },
   {
    "duration": 62,
    "start_time": "2023-03-18T18:46:32.975Z"
   },
   {
    "duration": 62,
    "start_time": "2023-03-18T18:46:33.039Z"
   },
   {
    "duration": 129,
    "start_time": "2023-03-18T18:46:33.107Z"
   },
   {
    "duration": 35,
    "start_time": "2023-03-18T18:46:33.240Z"
   },
   {
    "duration": 124,
    "start_time": "2023-03-18T18:46:33.278Z"
   },
   {
    "duration": 50,
    "start_time": "2023-03-18T18:46:33.404Z"
   },
   {
    "duration": 16,
    "start_time": "2023-03-18T18:46:33.455Z"
   },
   {
    "duration": 51,
    "start_time": "2023-03-18T18:46:33.473Z"
   },
   {
    "duration": 31,
    "start_time": "2023-03-18T18:46:33.527Z"
   },
   {
    "duration": 23,
    "start_time": "2023-03-18T18:46:33.560Z"
   },
   {
    "duration": 52,
    "start_time": "2023-03-18T18:46:33.585Z"
   },
   {
    "duration": 4,
    "start_time": "2023-03-18T18:46:33.639Z"
   },
   {
    "duration": 11,
    "start_time": "2023-03-18T18:46:33.644Z"
   },
   {
    "duration": 8,
    "start_time": "2023-03-18T18:46:54.279Z"
   },
   {
    "duration": 8,
    "start_time": "2023-03-18T18:47:00.523Z"
   },
   {
    "duration": 128,
    "start_time": "2023-03-18T18:51:02.119Z"
   },
   {
    "duration": 19355,
    "start_time": "2023-03-18T18:52:25.364Z"
   },
   {
    "duration": 1411,
    "start_time": "2023-03-18T18:53:03.738Z"
   },
   {
    "duration": 29,
    "start_time": "2023-03-18T18:53:05.151Z"
   },
   {
    "duration": 55,
    "start_time": "2023-03-18T18:53:05.182Z"
   },
   {
    "duration": 14,
    "start_time": "2023-03-18T18:53:05.239Z"
   },
   {
    "duration": 5,
    "start_time": "2023-03-18T18:53:05.256Z"
   },
   {
    "duration": 8,
    "start_time": "2023-03-18T18:53:05.263Z"
   },
   {
    "duration": 12,
    "start_time": "2023-03-18T18:53:05.273Z"
   },
   {
    "duration": 58,
    "start_time": "2023-03-18T18:53:05.287Z"
   },
   {
    "duration": 137,
    "start_time": "2023-03-18T18:53:05.347Z"
   },
   {
    "duration": 4,
    "start_time": "2023-03-18T18:53:05.486Z"
   },
   {
    "duration": 45,
    "start_time": "2023-03-18T18:53:05.491Z"
   },
   {
    "duration": 62,
    "start_time": "2023-03-18T18:53:05.538Z"
   },
   {
    "duration": 10,
    "start_time": "2023-03-18T18:53:05.602Z"
   },
   {
    "duration": 115,
    "start_time": "2023-03-18T18:53:05.625Z"
   },
   {
    "duration": 59,
    "start_time": "2023-03-18T18:53:05.743Z"
   },
   {
    "duration": 126,
    "start_time": "2023-03-18T18:53:05.805Z"
   },
   {
    "duration": 8,
    "start_time": "2023-03-18T18:53:05.933Z"
   },
   {
    "duration": 4,
    "start_time": "2023-03-18T18:53:05.942Z"
   },
   {
    "duration": 8,
    "start_time": "2023-03-18T18:53:05.947Z"
   },
   {
    "duration": 12,
    "start_time": "2023-03-18T18:53:05.957Z"
   },
   {
    "duration": 16,
    "start_time": "2023-03-18T18:53:05.971Z"
   },
   {
    "duration": 41,
    "start_time": "2023-03-18T18:53:05.989Z"
   },
   {
    "duration": 9,
    "start_time": "2023-03-18T18:53:06.032Z"
   },
   {
    "duration": 8002,
    "start_time": "2023-03-19T09:05:05.402Z"
   },
   {
    "duration": 386,
    "start_time": "2023-03-19T09:05:13.407Z"
   },
   {
    "duration": 300,
    "start_time": "2023-03-19T09:05:29.298Z"
   },
   {
    "duration": 11,
    "start_time": "2023-03-19T09:05:34.493Z"
   },
   {
    "duration": 81,
    "start_time": "2023-03-19T09:06:03.814Z"
   },
   {
    "duration": 20,
    "start_time": "2023-03-19T09:06:04.190Z"
   },
   {
    "duration": 721,
    "start_time": "2023-03-19T09:06:04.392Z"
   },
   {
    "duration": 6,
    "start_time": "2023-03-19T09:09:37.991Z"
   },
   {
    "duration": 11,
    "start_time": "2023-03-19T09:09:38.691Z"
   },
   {
    "duration": 106,
    "start_time": "2023-03-19T09:09:40.091Z"
   },
   {
    "duration": 22,
    "start_time": "2023-03-19T09:10:06.875Z"
   },
   {
    "duration": 112,
    "start_time": "2023-03-19T09:10:07.490Z"
   },
   {
    "duration": 33,
    "start_time": "2023-03-19T09:12:54.671Z"
   },
   {
    "duration": 7,
    "start_time": "2023-03-19T09:12:55.591Z"
   },
   {
    "duration": 91,
    "start_time": "2023-03-19T09:12:57.606Z"
   },
   {
    "duration": 3,
    "start_time": "2023-03-19T09:12:59.591Z"
   },
   {
    "duration": 11,
    "start_time": "2023-03-19T09:13:00.191Z"
   },
   {
    "duration": 12,
    "start_time": "2023-03-19T09:13:00.592Z"
   },
   {
    "duration": 23,
    "start_time": "2023-03-19T09:13:00.897Z"
   },
   {
    "duration": 9,
    "start_time": "2023-03-19T09:13:01.093Z"
   },
   {
    "duration": 14,
    "start_time": "2023-03-19T09:13:01.993Z"
   },
   {
    "duration": 55,
    "start_time": "2023-03-19T11:51:41.058Z"
   },
   {
    "duration": 6,
    "start_time": "2023-03-19T11:52:05.578Z"
   },
   {
    "duration": 1697,
    "start_time": "2023-03-19T11:52:11.743Z"
   },
   {
    "duration": 102,
    "start_time": "2023-03-19T11:52:13.443Z"
   },
   {
    "duration": 46,
    "start_time": "2023-03-19T11:52:13.547Z"
   },
   {
    "duration": 7,
    "start_time": "2023-03-19T11:52:13.594Z"
   },
   {
    "duration": 6,
    "start_time": "2023-03-19T11:52:13.603Z"
   },
   {
    "duration": 26,
    "start_time": "2023-03-19T11:52:13.610Z"
   },
   {
    "duration": 7,
    "start_time": "2023-03-19T11:52:13.638Z"
   },
   {
    "duration": 18,
    "start_time": "2023-03-19T11:52:13.647Z"
   },
   {
    "duration": 137,
    "start_time": "2023-03-19T11:52:13.667Z"
   },
   {
    "duration": 3,
    "start_time": "2023-03-19T11:52:13.806Z"
   },
   {
    "duration": 14,
    "start_time": "2023-03-19T11:52:13.811Z"
   },
   {
    "duration": 237,
    "start_time": "2023-03-19T11:52:13.827Z"
   },
   {
    "duration": 3,
    "start_time": "2023-03-19T11:52:14.066Z"
   },
   {
    "duration": 20,
    "start_time": "2023-03-19T11:52:14.073Z"
   },
   {
    "duration": 68,
    "start_time": "2023-03-19T11:52:14.095Z"
   },
   {
    "duration": 98,
    "start_time": "2023-03-19T11:52:14.166Z"
   },
   {
    "duration": 94,
    "start_time": "2023-03-19T11:52:14.268Z"
   },
   {
    "duration": 8,
    "start_time": "2023-03-19T11:52:14.364Z"
   },
   {
    "duration": 13,
    "start_time": "2023-03-19T11:52:14.374Z"
   },
   {
    "duration": 11,
    "start_time": "2023-03-19T11:52:14.389Z"
   },
   {
    "duration": 7,
    "start_time": "2023-03-19T11:52:14.401Z"
   },
   {
    "duration": 7,
    "start_time": "2023-03-19T11:52:14.410Z"
   },
   {
    "duration": 10,
    "start_time": "2023-03-19T11:52:14.419Z"
   },
   {
    "duration": 8,
    "start_time": "2023-03-19T11:52:14.431Z"
   },
   {
    "duration": 21,
    "start_time": "2023-03-19T11:52:14.440Z"
   },
   {
    "duration": 3,
    "start_time": "2023-03-19T11:54:11.435Z"
   },
   {
    "duration": 5,
    "start_time": "2023-03-19T11:54:11.797Z"
   },
   {
    "duration": 4,
    "start_time": "2023-03-19T11:54:12.996Z"
   },
   {
    "duration": 59,
    "start_time": "2023-03-19T16:28:18.622Z"
   },
   {
    "duration": 1807,
    "start_time": "2023-03-19T16:28:25.818Z"
   },
   {
    "duration": 120,
    "start_time": "2023-03-19T16:28:27.627Z"
   },
   {
    "duration": 53,
    "start_time": "2023-03-19T16:28:27.752Z"
   },
   {
    "duration": 8,
    "start_time": "2023-03-19T16:28:27.807Z"
   },
   {
    "duration": 7,
    "start_time": "2023-03-19T16:28:27.816Z"
   },
   {
    "duration": 14,
    "start_time": "2023-03-19T16:28:27.845Z"
   },
   {
    "duration": 5,
    "start_time": "2023-03-19T16:28:27.861Z"
   },
   {
    "duration": 20,
    "start_time": "2023-03-19T16:28:27.869Z"
   },
   {
    "duration": 155,
    "start_time": "2023-03-19T16:28:27.890Z"
   },
   {
    "duration": 5,
    "start_time": "2023-03-19T16:28:28.055Z"
   },
   {
    "duration": 9,
    "start_time": "2023-03-19T16:28:28.062Z"
   },
   {
    "duration": 41,
    "start_time": "2023-03-19T16:28:28.074Z"
   },
   {
    "duration": 953,
    "start_time": "2023-03-19T16:28:28.146Z"
   },
   {
    "duration": 0,
    "start_time": "2023-03-19T16:28:29.101Z"
   },
   {
    "duration": 0,
    "start_time": "2023-03-19T16:28:29.103Z"
   },
   {
    "duration": 0,
    "start_time": "2023-03-19T16:28:29.105Z"
   },
   {
    "duration": 0,
    "start_time": "2023-03-19T16:28:29.107Z"
   },
   {
    "duration": 0,
    "start_time": "2023-03-19T16:28:29.108Z"
   },
   {
    "duration": 0,
    "start_time": "2023-03-19T16:28:29.110Z"
   },
   {
    "duration": 0,
    "start_time": "2023-03-19T16:28:29.112Z"
   },
   {
    "duration": 0,
    "start_time": "2023-03-19T16:28:29.113Z"
   },
   {
    "duration": 0,
    "start_time": "2023-03-19T16:28:29.114Z"
   },
   {
    "duration": 0,
    "start_time": "2023-03-19T16:28:29.116Z"
   },
   {
    "duration": 1,
    "start_time": "2023-03-19T16:28:29.117Z"
   },
   {
    "duration": 0,
    "start_time": "2023-03-19T16:28:29.120Z"
   },
   {
    "duration": 0,
    "start_time": "2023-03-19T16:28:29.121Z"
   },
   {
    "duration": 0,
    "start_time": "2023-03-19T16:28:29.123Z"
   },
   {
    "duration": 5,
    "start_time": "2023-03-19T16:29:16.181Z"
   },
   {
    "duration": 4,
    "start_time": "2023-03-19T16:55:12.354Z"
   },
   {
    "duration": 3,
    "start_time": "2023-03-19T16:55:13.011Z"
   },
   {
    "duration": 6,
    "start_time": "2023-03-19T16:56:52.053Z"
   },
   {
    "duration": 3,
    "start_time": "2023-03-19T16:57:03.682Z"
   },
   {
    "duration": 3,
    "start_time": "2023-03-19T16:57:04.004Z"
   },
   {
    "duration": 5,
    "start_time": "2023-03-19T16:57:04.555Z"
   },
   {
    "duration": 1432,
    "start_time": "2023-03-19T16:57:47.919Z"
   },
   {
    "duration": 32,
    "start_time": "2023-03-19T16:57:49.354Z"
   },
   {
    "duration": 55,
    "start_time": "2023-03-19T16:57:49.389Z"
   },
   {
    "duration": 7,
    "start_time": "2023-03-19T16:57:49.447Z"
   },
   {
    "duration": 25,
    "start_time": "2023-03-19T16:57:49.456Z"
   },
   {
    "duration": 14,
    "start_time": "2023-03-19T16:57:49.483Z"
   },
   {
    "duration": 9,
    "start_time": "2023-03-19T16:57:49.498Z"
   },
   {
    "duration": 10,
    "start_time": "2023-03-19T16:57:49.509Z"
   },
   {
    "duration": 162,
    "start_time": "2023-03-19T16:57:49.520Z"
   },
   {
    "duration": 3,
    "start_time": "2023-03-19T16:57:49.685Z"
   },
   {
    "duration": 8,
    "start_time": "2023-03-19T16:57:49.690Z"
   },
   {
    "duration": 50,
    "start_time": "2023-03-19T16:57:49.700Z"
   },
   {
    "duration": 13,
    "start_time": "2023-03-19T16:57:49.752Z"
   },
   {
    "duration": 7,
    "start_time": "2023-03-19T16:57:49.841Z"
   },
   {
    "duration": 16,
    "start_time": "2023-03-19T16:57:49.851Z"
   },
   {
    "duration": 12,
    "start_time": "2023-03-19T16:57:49.868Z"
   },
   {
    "duration": 86,
    "start_time": "2023-03-19T16:57:49.882Z"
   },
   {
    "duration": 91,
    "start_time": "2023-03-19T16:57:49.970Z"
   },
   {
    "duration": 78,
    "start_time": "2023-03-19T16:57:50.068Z"
   },
   {
    "duration": 14,
    "start_time": "2023-03-19T16:57:50.148Z"
   },
   {
    "duration": 6,
    "start_time": "2023-03-19T16:57:50.164Z"
   },
   {
    "duration": 4,
    "start_time": "2023-03-19T16:57:50.172Z"
   },
   {
    "duration": 5,
    "start_time": "2023-03-19T16:57:50.178Z"
   },
   {
    "duration": 18,
    "start_time": "2023-03-19T16:57:50.185Z"
   },
   {
    "duration": 43,
    "start_time": "2023-03-19T16:57:50.206Z"
   },
   {
    "duration": 16,
    "start_time": "2023-03-19T16:57:50.252Z"
   },
   {
    "duration": 76,
    "start_time": "2023-03-19T16:57:50.273Z"
   },
   {
    "duration": 6,
    "start_time": "2023-03-19T16:57:50.354Z"
   },
   {
    "duration": 8,
    "start_time": "2023-03-19T16:57:50.362Z"
   },
   {
    "duration": 462,
    "start_time": "2023-03-19T17:15:24.892Z"
   },
   {
    "duration": 12,
    "start_time": "2023-03-19T17:16:38.843Z"
   },
   {
    "duration": 3,
    "start_time": "2023-03-19T17:16:46.655Z"
   },
   {
    "duration": 5,
    "start_time": "2023-03-19T17:16:46.990Z"
   },
   {
    "duration": 6,
    "start_time": "2023-03-19T17:46:25.348Z"
   },
   {
    "duration": 4,
    "start_time": "2023-03-19T17:46:29.745Z"
   },
   {
    "duration": 5,
    "start_time": "2023-03-19T17:46:32.021Z"
   },
   {
    "duration": 6,
    "start_time": "2023-03-19T17:46:46.173Z"
   },
   {
    "duration": 1359,
    "start_time": "2023-03-19T17:49:46.045Z"
   },
   {
    "duration": 32,
    "start_time": "2023-03-19T17:49:47.406Z"
   },
   {
    "duration": 46,
    "start_time": "2023-03-19T17:49:47.440Z"
   },
   {
    "duration": 7,
    "start_time": "2023-03-19T17:49:47.488Z"
   },
   {
    "duration": 10,
    "start_time": "2023-03-19T17:49:47.497Z"
   },
   {
    "duration": 33,
    "start_time": "2023-03-19T17:49:47.509Z"
   },
   {
    "duration": 27,
    "start_time": "2023-03-19T17:49:47.544Z"
   },
   {
    "duration": 12,
    "start_time": "2023-03-19T17:49:47.573Z"
   },
   {
    "duration": 144,
    "start_time": "2023-03-19T17:49:47.587Z"
   },
   {
    "duration": 7,
    "start_time": "2023-03-19T17:49:47.734Z"
   },
   {
    "duration": 7,
    "start_time": "2023-03-19T17:49:47.743Z"
   },
   {
    "duration": 20,
    "start_time": "2023-03-19T17:49:47.752Z"
   },
   {
    "duration": 260,
    "start_time": "2023-03-19T17:49:47.774Z"
   },
   {
    "duration": 0,
    "start_time": "2023-03-19T17:49:48.036Z"
   },
   {
    "duration": 0,
    "start_time": "2023-03-19T17:49:48.040Z"
   },
   {
    "duration": 0,
    "start_time": "2023-03-19T17:49:48.042Z"
   },
   {
    "duration": 0,
    "start_time": "2023-03-19T17:49:48.044Z"
   },
   {
    "duration": 0,
    "start_time": "2023-03-19T17:49:48.045Z"
   },
   {
    "duration": 0,
    "start_time": "2023-03-19T17:49:48.047Z"
   },
   {
    "duration": 0,
    "start_time": "2023-03-19T17:49:48.048Z"
   },
   {
    "duration": 0,
    "start_time": "2023-03-19T17:49:48.049Z"
   },
   {
    "duration": 0,
    "start_time": "2023-03-19T17:49:48.050Z"
   },
   {
    "duration": 0,
    "start_time": "2023-03-19T17:49:48.052Z"
   },
   {
    "duration": 0,
    "start_time": "2023-03-19T17:49:48.053Z"
   },
   {
    "duration": 0,
    "start_time": "2023-03-19T17:49:48.055Z"
   },
   {
    "duration": 0,
    "start_time": "2023-03-19T17:49:48.056Z"
   },
   {
    "duration": 0,
    "start_time": "2023-03-19T17:49:48.057Z"
   },
   {
    "duration": 5,
    "start_time": "2023-03-19T17:50:32.535Z"
   },
   {
    "duration": 1406,
    "start_time": "2023-03-19T17:50:52.086Z"
   },
   {
    "duration": 31,
    "start_time": "2023-03-19T17:50:53.494Z"
   },
   {
    "duration": 57,
    "start_time": "2023-03-19T17:50:53.528Z"
   },
   {
    "duration": 8,
    "start_time": "2023-03-19T17:50:53.588Z"
   },
   {
    "duration": 2,
    "start_time": "2023-03-19T17:50:53.598Z"
   },
   {
    "duration": 11,
    "start_time": "2023-03-19T17:50:53.602Z"
   },
   {
    "duration": 28,
    "start_time": "2023-03-19T17:50:53.615Z"
   },
   {
    "duration": 16,
    "start_time": "2023-03-19T17:50:53.645Z"
   },
   {
    "duration": 145,
    "start_time": "2023-03-19T17:50:53.663Z"
   },
   {
    "duration": 3,
    "start_time": "2023-03-19T17:50:53.810Z"
   },
   {
    "duration": 16,
    "start_time": "2023-03-19T17:50:53.815Z"
   },
   {
    "duration": 112,
    "start_time": "2023-03-19T17:50:53.840Z"
   },
   {
    "duration": 4,
    "start_time": "2023-03-19T17:50:54.040Z"
   },
   {
    "duration": 8,
    "start_time": "2023-03-19T17:50:54.046Z"
   },
   {
    "duration": 7,
    "start_time": "2023-03-19T17:50:54.055Z"
   },
   {
    "duration": 86,
    "start_time": "2023-03-19T17:50:54.063Z"
   },
   {
    "duration": 92,
    "start_time": "2023-03-19T17:50:54.152Z"
   },
   {
    "duration": 7,
    "start_time": "2023-03-19T17:50:54.247Z"
   },
   {
    "duration": 8,
    "start_time": "2023-03-19T17:50:54.341Z"
   },
   {
    "duration": 4,
    "start_time": "2023-03-19T17:50:54.350Z"
   },
   {
    "duration": 6,
    "start_time": "2023-03-19T17:50:54.356Z"
   },
   {
    "duration": 9,
    "start_time": "2023-03-19T17:50:54.364Z"
   },
   {
    "duration": 71,
    "start_time": "2023-03-19T17:50:54.375Z"
   },
   {
    "duration": 7,
    "start_time": "2023-03-19T17:50:54.449Z"
   },
   {
    "duration": 83,
    "start_time": "2023-03-19T17:50:54.458Z"
   },
   {
    "duration": 14,
    "start_time": "2023-03-19T17:50:54.543Z"
   },
   {
    "duration": 16,
    "start_time": "2023-03-19T17:50:54.559Z"
   },
   {
    "duration": 215,
    "start_time": "2023-03-19T17:56:37.176Z"
   },
   {
    "duration": 5,
    "start_time": "2023-03-19T17:57:13.182Z"
   },
   {
    "duration": 1376,
    "start_time": "2023-03-19T18:01:03.197Z"
   },
   {
    "duration": 30,
    "start_time": "2023-03-19T18:01:04.575Z"
   },
   {
    "duration": 44,
    "start_time": "2023-03-19T18:01:04.607Z"
   },
   {
    "duration": 7,
    "start_time": "2023-03-19T18:01:04.653Z"
   },
   {
    "duration": 2,
    "start_time": "2023-03-19T18:01:04.662Z"
   },
   {
    "duration": 20,
    "start_time": "2023-03-19T18:01:04.666Z"
   },
   {
    "duration": 6,
    "start_time": "2023-03-19T18:01:04.688Z"
   },
   {
    "duration": 13,
    "start_time": "2023-03-19T18:01:04.695Z"
   },
   {
    "duration": 154,
    "start_time": "2023-03-19T18:01:04.709Z"
   },
   {
    "duration": 5,
    "start_time": "2023-03-19T18:01:04.864Z"
   },
   {
    "duration": 6,
    "start_time": "2023-03-19T18:01:04.870Z"
   },
   {
    "duration": 67,
    "start_time": "2023-03-19T18:01:04.878Z"
   },
   {
    "duration": 5,
    "start_time": "2023-03-19T18:01:04.947Z"
   },
   {
    "duration": 13,
    "start_time": "2023-03-19T18:01:05.041Z"
   },
   {
    "duration": 10,
    "start_time": "2023-03-19T18:01:05.056Z"
   },
   {
    "duration": 178,
    "start_time": "2023-03-19T18:01:05.068Z"
   },
   {
    "duration": 5,
    "start_time": "2023-03-19T18:01:05.249Z"
   },
   {
    "duration": 90,
    "start_time": "2023-03-19T18:01:05.256Z"
   },
   {
    "duration": 18,
    "start_time": "2023-03-19T18:01:05.348Z"
   },
   {
    "duration": 4,
    "start_time": "2023-03-19T18:01:05.369Z"
   },
   {
    "duration": 12,
    "start_time": "2023-03-19T18:01:05.375Z"
   },
   {
    "duration": 13,
    "start_time": "2023-03-19T18:01:05.389Z"
   },
   {
    "duration": 5,
    "start_time": "2023-03-19T18:01:05.442Z"
   },
   {
    "duration": 7,
    "start_time": "2023-03-19T18:01:05.451Z"
   },
   {
    "duration": 95,
    "start_time": "2023-03-19T18:01:05.460Z"
   },
   {
    "duration": 4,
    "start_time": "2023-03-19T18:01:05.557Z"
   },
   {
    "duration": 13,
    "start_time": "2023-03-19T18:01:05.563Z"
   },
   {
    "duration": 4,
    "start_time": "2023-03-19T18:02:25.601Z"
   },
   {
    "duration": 3,
    "start_time": "2023-03-19T18:29:03.121Z"
   },
   {
    "duration": 5,
    "start_time": "2023-03-19T18:29:17.403Z"
   },
   {
    "duration": 111,
    "start_time": "2023-03-19T18:33:21.258Z"
   },
   {
    "duration": 294,
    "start_time": "2023-03-19T18:34:22.325Z"
   },
   {
    "duration": 5,
    "start_time": "2023-03-19T18:36:12.045Z"
   },
   {
    "duration": 1479,
    "start_time": "2023-03-19T18:36:51.906Z"
   },
   {
    "duration": 33,
    "start_time": "2023-03-19T18:36:53.388Z"
   },
   {
    "duration": 65,
    "start_time": "2023-03-19T18:36:53.424Z"
   },
   {
    "duration": 8,
    "start_time": "2023-03-19T18:36:53.493Z"
   },
   {
    "duration": 4,
    "start_time": "2023-03-19T18:36:53.503Z"
   },
   {
    "duration": 7,
    "start_time": "2023-03-19T18:36:53.509Z"
   },
   {
    "duration": 26,
    "start_time": "2023-03-19T18:36:53.518Z"
   },
   {
    "duration": 15,
    "start_time": "2023-03-19T18:36:53.548Z"
   },
   {
    "duration": 244,
    "start_time": "2023-03-19T18:36:53.565Z"
   },
   {
    "duration": 5,
    "start_time": "2023-03-19T18:36:53.813Z"
   },
   {
    "duration": 40,
    "start_time": "2023-03-19T18:36:53.820Z"
   },
   {
    "duration": 31,
    "start_time": "2023-03-19T18:36:53.862Z"
   },
   {
    "duration": 54,
    "start_time": "2023-03-19T18:36:53.895Z"
   },
   {
    "duration": 93,
    "start_time": "2023-03-19T18:36:53.950Z"
   },
   {
    "duration": 3,
    "start_time": "2023-03-19T18:36:54.045Z"
   },
   {
    "duration": 192,
    "start_time": "2023-03-19T18:36:54.050Z"
   },
   {
    "duration": 6,
    "start_time": "2023-03-19T18:36:54.245Z"
   },
   {
    "duration": 8,
    "start_time": "2023-03-19T18:36:54.253Z"
   },
   {
    "duration": 12,
    "start_time": "2023-03-19T18:36:54.263Z"
   },
   {
    "duration": 5,
    "start_time": "2023-03-19T18:36:54.340Z"
   },
   {
    "duration": 6,
    "start_time": "2023-03-19T18:36:54.347Z"
   },
   {
    "duration": 6,
    "start_time": "2023-03-19T18:36:54.356Z"
   },
   {
    "duration": 16,
    "start_time": "2023-03-19T18:36:54.363Z"
   },
   {
    "duration": 7,
    "start_time": "2023-03-19T18:36:54.444Z"
   },
   {
    "duration": 88,
    "start_time": "2023-03-19T18:36:54.453Z"
   },
   {
    "duration": 4,
    "start_time": "2023-03-19T18:36:54.543Z"
   },
   {
    "duration": 11,
    "start_time": "2023-03-19T18:36:54.549Z"
   },
   {
    "duration": 4,
    "start_time": "2023-03-19T18:37:16.496Z"
   },
   {
    "duration": 1371,
    "start_time": "2023-03-19T18:37:35.243Z"
   },
   {
    "duration": 29,
    "start_time": "2023-03-19T18:37:36.616Z"
   },
   {
    "duration": 51,
    "start_time": "2023-03-19T18:37:36.647Z"
   },
   {
    "duration": 6,
    "start_time": "2023-03-19T18:37:36.701Z"
   },
   {
    "duration": 4,
    "start_time": "2023-03-19T18:37:36.709Z"
   },
   {
    "duration": 27,
    "start_time": "2023-03-19T18:37:36.714Z"
   },
   {
    "duration": 5,
    "start_time": "2023-03-19T18:37:36.742Z"
   },
   {
    "duration": 15,
    "start_time": "2023-03-19T18:37:36.749Z"
   },
   {
    "duration": 147,
    "start_time": "2023-03-19T18:37:36.765Z"
   },
   {
    "duration": 3,
    "start_time": "2023-03-19T18:37:36.914Z"
   },
   {
    "duration": 23,
    "start_time": "2023-03-19T18:37:36.919Z"
   },
   {
    "duration": 102,
    "start_time": "2023-03-19T18:37:36.944Z"
   },
   {
    "duration": 4,
    "start_time": "2023-03-19T18:37:37.049Z"
   },
   {
    "duration": 94,
    "start_time": "2023-03-19T18:37:37.057Z"
   },
   {
    "duration": 8,
    "start_time": "2023-03-19T18:37:37.155Z"
   },
   {
    "duration": 6,
    "start_time": "2023-03-19T18:37:37.166Z"
   },
   {
    "duration": 104,
    "start_time": "2023-03-19T18:37:37.242Z"
   },
   {
    "duration": 90,
    "start_time": "2023-03-19T18:37:37.351Z"
   },
   {
    "duration": 6,
    "start_time": "2023-03-19T18:37:37.443Z"
   },
   {
    "duration": 9,
    "start_time": "2023-03-19T18:37:37.450Z"
   },
   {
    "duration": 4,
    "start_time": "2023-03-19T18:37:37.461Z"
   },
   {
    "duration": 11,
    "start_time": "2023-03-19T18:37:37.467Z"
   },
   {
    "duration": 9,
    "start_time": "2023-03-19T18:37:37.479Z"
   },
   {
    "duration": 52,
    "start_time": "2023-03-19T18:37:37.490Z"
   },
   {
    "duration": 96,
    "start_time": "2023-03-19T18:37:37.545Z"
   },
   {
    "duration": 7,
    "start_time": "2023-03-19T18:37:37.643Z"
   },
   {
    "duration": 9,
    "start_time": "2023-03-19T18:37:37.652Z"
   },
   {
    "duration": 4,
    "start_time": "2023-03-19T18:37:37.665Z"
   },
   {
    "duration": 11,
    "start_time": "2023-03-19T18:37:37.671Z"
   },
   {
    "duration": 8,
    "start_time": "2023-03-19T19:35:32.299Z"
   },
   {
    "duration": 110,
    "start_time": "2023-03-19T19:35:39.818Z"
   },
   {
    "duration": 8,
    "start_time": "2023-03-19T19:35:51.413Z"
   },
   {
    "duration": 7,
    "start_time": "2023-03-19T19:36:10.106Z"
   },
   {
    "duration": 12,
    "start_time": "2023-03-19T19:36:57.005Z"
   },
   {
    "duration": 14,
    "start_time": "2023-03-19T19:37:30.659Z"
   },
   {
    "duration": 1444,
    "start_time": "2023-03-19T19:37:46.709Z"
   },
   {
    "duration": 31,
    "start_time": "2023-03-19T19:37:48.155Z"
   },
   {
    "duration": 45,
    "start_time": "2023-03-19T19:37:48.187Z"
   },
   {
    "duration": 16,
    "start_time": "2023-03-19T19:37:48.233Z"
   },
   {
    "duration": 4,
    "start_time": "2023-03-19T19:37:48.254Z"
   },
   {
    "duration": 3,
    "start_time": "2023-03-19T19:37:48.260Z"
   },
   {
    "duration": 5,
    "start_time": "2023-03-19T19:37:48.265Z"
   },
   {
    "duration": 17,
    "start_time": "2023-03-19T19:37:48.272Z"
   },
   {
    "duration": 155,
    "start_time": "2023-03-19T19:37:48.291Z"
   },
   {
    "duration": 3,
    "start_time": "2023-03-19T19:37:48.456Z"
   },
   {
    "duration": 10,
    "start_time": "2023-03-19T19:37:48.461Z"
   },
   {
    "duration": 24,
    "start_time": "2023-03-19T19:37:48.473Z"
   },
   {
    "duration": 52,
    "start_time": "2023-03-19T19:37:48.498Z"
   },
   {
    "duration": 6,
    "start_time": "2023-03-19T19:37:48.554Z"
   },
   {
    "duration": 95,
    "start_time": "2023-03-19T19:37:48.562Z"
   },
   {
    "duration": 8,
    "start_time": "2023-03-19T19:37:48.660Z"
   },
   {
    "duration": 176,
    "start_time": "2023-03-19T19:37:48.670Z"
   },
   {
    "duration": 6,
    "start_time": "2023-03-19T19:37:48.848Z"
   },
   {
    "duration": 87,
    "start_time": "2023-03-19T19:37:48.858Z"
   },
   {
    "duration": 15,
    "start_time": "2023-03-19T19:37:48.947Z"
   },
   {
    "duration": 22,
    "start_time": "2023-03-19T19:37:48.964Z"
   },
   {
    "duration": 4,
    "start_time": "2023-03-19T19:37:48.987Z"
   },
   {
    "duration": 6,
    "start_time": "2023-03-19T19:37:48.993Z"
   },
   {
    "duration": 8,
    "start_time": "2023-03-19T19:37:49.001Z"
   },
   {
    "duration": 6,
    "start_time": "2023-03-19T19:37:49.010Z"
   },
   {
    "duration": 31,
    "start_time": "2023-03-19T19:37:49.018Z"
   },
   {
    "duration": 13,
    "start_time": "2023-03-19T19:37:49.051Z"
   },
   {
    "duration": 83,
    "start_time": "2023-03-19T19:37:49.068Z"
   },
   {
    "duration": 14,
    "start_time": "2023-03-19T19:37:49.152Z"
   },
   {
    "duration": 75,
    "start_time": "2023-03-19T19:37:49.169Z"
   },
   {
    "duration": 4,
    "start_time": "2023-03-19T19:37:49.246Z"
   },
   {
    "duration": 13,
    "start_time": "2023-03-19T19:37:49.252Z"
   },
   {
    "duration": 7,
    "start_time": "2023-03-19T19:38:07.891Z"
   },
   {
    "duration": 268,
    "start_time": "2023-03-19T19:38:18.929Z"
   },
   {
    "duration": 1373,
    "start_time": "2023-03-19T19:38:59.694Z"
   },
   {
    "duration": 31,
    "start_time": "2023-03-19T19:39:01.069Z"
   },
   {
    "duration": 50,
    "start_time": "2023-03-19T19:39:01.102Z"
   },
   {
    "duration": 8,
    "start_time": "2023-03-19T19:39:01.154Z"
   },
   {
    "duration": 6,
    "start_time": "2023-03-19T19:39:01.164Z"
   },
   {
    "duration": 15,
    "start_time": "2023-03-19T19:39:01.172Z"
   },
   {
    "duration": 7,
    "start_time": "2023-03-19T19:39:01.189Z"
   },
   {
    "duration": 18,
    "start_time": "2023-03-19T19:39:01.198Z"
   },
   {
    "duration": 149,
    "start_time": "2023-03-19T19:39:01.217Z"
   },
   {
    "duration": 3,
    "start_time": "2023-03-19T19:39:01.368Z"
   },
   {
    "duration": 19,
    "start_time": "2023-03-19T19:39:01.373Z"
   },
   {
    "duration": 57,
    "start_time": "2023-03-19T19:39:01.395Z"
   },
   {
    "duration": 84,
    "start_time": "2023-03-19T19:39:01.456Z"
   },
   {
    "duration": 15,
    "start_time": "2023-03-19T19:39:01.547Z"
   },
   {
    "duration": 15,
    "start_time": "2023-03-19T19:39:01.564Z"
   },
   {
    "duration": 63,
    "start_time": "2023-03-19T19:39:01.583Z"
   },
   {
    "duration": 99,
    "start_time": "2023-03-19T19:39:01.649Z"
   },
   {
    "duration": 89,
    "start_time": "2023-03-19T19:39:01.756Z"
   },
   {
    "duration": 20,
    "start_time": "2023-03-19T19:39:01.850Z"
   },
   {
    "duration": 36,
    "start_time": "2023-03-19T19:39:01.871Z"
   },
   {
    "duration": 24,
    "start_time": "2023-03-19T19:39:01.909Z"
   },
   {
    "duration": 27,
    "start_time": "2023-03-19T19:39:01.935Z"
   },
   {
    "duration": 31,
    "start_time": "2023-03-19T19:39:01.963Z"
   },
   {
    "duration": 59,
    "start_time": "2023-03-19T19:39:01.995Z"
   },
   {
    "duration": 86,
    "start_time": "2023-03-19T19:39:02.059Z"
   },
   {
    "duration": 98,
    "start_time": "2023-03-19T19:39:02.147Z"
   },
   {
    "duration": 44,
    "start_time": "2023-03-19T19:39:02.247Z"
   },
   {
    "duration": 5,
    "start_time": "2023-03-19T19:39:02.293Z"
   },
   {
    "duration": 11,
    "start_time": "2023-03-19T19:39:02.300Z"
   },
   {
    "duration": 5,
    "start_time": "2023-03-19T19:44:12.850Z"
   },
   {
    "duration": 4,
    "start_time": "2023-03-19T19:44:16.211Z"
   },
   {
    "duration": 4,
    "start_time": "2023-03-19T19:44:37.855Z"
   },
   {
    "duration": 5,
    "start_time": "2023-03-19T19:44:40.786Z"
   },
   {
    "duration": 1488,
    "start_time": "2023-03-19T19:44:56.133Z"
   },
   {
    "duration": 36,
    "start_time": "2023-03-19T19:44:57.623Z"
   },
   {
    "duration": 42,
    "start_time": "2023-03-19T19:44:57.661Z"
   },
   {
    "duration": 6,
    "start_time": "2023-03-19T19:44:57.704Z"
   },
   {
    "duration": 4,
    "start_time": "2023-03-19T19:44:57.712Z"
   },
   {
    "duration": 5,
    "start_time": "2023-03-19T19:44:57.717Z"
   },
   {
    "duration": 28,
    "start_time": "2023-03-19T19:44:57.724Z"
   },
   {
    "duration": 12,
    "start_time": "2023-03-19T19:44:57.754Z"
   },
   {
    "duration": 135,
    "start_time": "2023-03-19T19:44:57.768Z"
   },
   {
    "duration": 4,
    "start_time": "2023-03-19T19:44:57.904Z"
   },
   {
    "duration": 15,
    "start_time": "2023-03-19T19:44:57.909Z"
   },
   {
    "duration": 36,
    "start_time": "2023-03-19T19:44:57.926Z"
   },
   {
    "duration": 80,
    "start_time": "2023-03-19T19:44:57.964Z"
   },
   {
    "duration": 5,
    "start_time": "2023-03-19T19:44:58.048Z"
   },
   {
    "duration": 92,
    "start_time": "2023-03-19T19:44:58.055Z"
   },
   {
    "duration": 9,
    "start_time": "2023-03-19T19:44:58.149Z"
   },
   {
    "duration": 85,
    "start_time": "2023-03-19T19:44:58.165Z"
   },
   {
    "duration": 6,
    "start_time": "2023-03-19T19:44:58.253Z"
   },
   {
    "duration": 87,
    "start_time": "2023-03-19T19:44:58.261Z"
   },
   {
    "duration": 12,
    "start_time": "2023-03-19T19:44:58.350Z"
   },
   {
    "duration": 4,
    "start_time": "2023-03-19T19:44:58.363Z"
   },
   {
    "duration": 5,
    "start_time": "2023-03-19T19:44:58.370Z"
   },
   {
    "duration": 78,
    "start_time": "2023-03-19T19:44:58.377Z"
   },
   {
    "duration": 6,
    "start_time": "2023-03-19T19:44:58.456Z"
   },
   {
    "duration": 6,
    "start_time": "2023-03-19T19:44:58.464Z"
   },
   {
    "duration": 73,
    "start_time": "2023-03-19T19:44:58.472Z"
   },
   {
    "duration": 20,
    "start_time": "2023-03-19T19:44:58.547Z"
   },
   {
    "duration": 4,
    "start_time": "2023-03-19T19:44:58.644Z"
   },
   {
    "duration": 15,
    "start_time": "2023-03-19T19:44:58.649Z"
   },
   {
    "duration": 1943,
    "start_time": "2023-03-20T07:34:44.748Z"
   },
   {
    "duration": 117,
    "start_time": "2023-03-20T07:34:46.693Z"
   },
   {
    "duration": 69,
    "start_time": "2023-03-20T07:34:46.813Z"
   },
   {
    "duration": 9,
    "start_time": "2023-03-20T07:34:46.886Z"
   },
   {
    "duration": 4,
    "start_time": "2023-03-20T07:34:46.897Z"
   },
   {
    "duration": 7,
    "start_time": "2023-03-20T07:34:46.903Z"
   },
   {
    "duration": 39,
    "start_time": "2023-03-20T07:34:46.911Z"
   },
   {
    "duration": 18,
    "start_time": "2023-03-20T07:34:46.954Z"
   },
   {
    "duration": 155,
    "start_time": "2023-03-20T07:34:46.974Z"
   },
   {
    "duration": 12,
    "start_time": "2023-03-20T07:34:47.132Z"
   },
   {
    "duration": 7,
    "start_time": "2023-03-20T07:34:47.146Z"
   },
   {
    "duration": 88,
    "start_time": "2023-03-20T07:34:47.155Z"
   },
   {
    "duration": 99,
    "start_time": "2023-03-20T07:34:47.245Z"
   },
   {
    "duration": 7,
    "start_time": "2023-03-20T07:34:47.350Z"
   },
   {
    "duration": 11,
    "start_time": "2023-03-20T07:34:47.362Z"
   },
   {
    "duration": 4,
    "start_time": "2023-03-20T07:34:47.376Z"
   },
   {
    "duration": 81,
    "start_time": "2023-03-20T07:34:47.384Z"
   },
   {
    "duration": 7,
    "start_time": "2023-03-20T07:34:47.467Z"
   },
   {
    "duration": 10,
    "start_time": "2023-03-20T07:34:47.476Z"
   },
   {
    "duration": 57,
    "start_time": "2023-03-20T07:34:47.489Z"
   },
   {
    "duration": 13,
    "start_time": "2023-03-20T07:34:47.548Z"
   },
   {
    "duration": 82,
    "start_time": "2023-03-20T07:34:47.564Z"
   },
   {
    "duration": 33,
    "start_time": "2023-03-20T07:34:47.648Z"
   },
   {
    "duration": 9,
    "start_time": "2023-03-20T07:34:47.683Z"
   },
   {
    "duration": 49,
    "start_time": "2023-03-20T07:34:47.694Z"
   },
   {
    "duration": 14,
    "start_time": "2023-03-20T07:34:47.745Z"
   },
   {
    "duration": 14,
    "start_time": "2023-03-20T07:34:47.760Z"
   },
   {
    "duration": 65,
    "start_time": "2023-03-20T07:34:47.778Z"
   },
   {
    "duration": 10,
    "start_time": "2023-03-20T07:34:47.847Z"
   },
   {
    "duration": 1586,
    "start_time": "2023-03-20T07:37:39.155Z"
   },
   {
    "duration": 34,
    "start_time": "2023-03-20T07:37:40.744Z"
   },
   {
    "duration": 69,
    "start_time": "2023-03-20T07:37:40.780Z"
   },
   {
    "duration": 10,
    "start_time": "2023-03-20T07:37:40.852Z"
   },
   {
    "duration": 4,
    "start_time": "2023-03-20T07:37:40.865Z"
   },
   {
    "duration": 6,
    "start_time": "2023-03-20T07:37:40.871Z"
   },
   {
    "duration": 7,
    "start_time": "2023-03-20T07:37:40.881Z"
   },
   {
    "duration": 53,
    "start_time": "2023-03-20T07:37:40.890Z"
   },
   {
    "duration": 219,
    "start_time": "2023-03-20T07:37:40.946Z"
   },
   {
    "duration": 5,
    "start_time": "2023-03-20T07:37:41.168Z"
   },
   {
    "duration": 11,
    "start_time": "2023-03-20T07:37:41.175Z"
   },
   {
    "duration": 72,
    "start_time": "2023-03-20T07:37:41.188Z"
   },
   {
    "duration": 80,
    "start_time": "2023-03-20T07:37:41.262Z"
   },
   {
    "duration": 6,
    "start_time": "2023-03-20T07:37:41.349Z"
   },
   {
    "duration": 88,
    "start_time": "2023-03-20T07:37:41.358Z"
   },
   {
    "duration": 9,
    "start_time": "2023-03-20T07:37:41.449Z"
   },
   {
    "duration": 184,
    "start_time": "2023-03-20T07:37:41.460Z"
   },
   {
    "duration": 5,
    "start_time": "2023-03-20T07:37:41.646Z"
   },
   {
    "duration": 91,
    "start_time": "2023-03-20T07:37:41.654Z"
   },
   {
    "duration": 11,
    "start_time": "2023-03-20T07:37:41.747Z"
   },
   {
    "duration": 6,
    "start_time": "2023-03-20T07:37:41.761Z"
   },
   {
    "duration": 19,
    "start_time": "2023-03-20T07:37:41.769Z"
   },
   {
    "duration": 8,
    "start_time": "2023-03-20T07:37:41.790Z"
   },
   {
    "duration": 48,
    "start_time": "2023-03-20T07:37:41.800Z"
   },
   {
    "duration": 5,
    "start_time": "2023-03-20T07:37:41.850Z"
   },
   {
    "duration": 84,
    "start_time": "2023-03-20T07:37:41.860Z"
   },
   {
    "duration": 11,
    "start_time": "2023-03-20T07:37:41.947Z"
   },
   {
    "duration": 77,
    "start_time": "2023-03-20T07:37:41.964Z"
   },
   {
    "duration": 13,
    "start_time": "2023-03-20T07:37:42.043Z"
   },
   {
    "duration": 1531,
    "start_time": "2023-03-20T07:41:28.116Z"
   },
   {
    "duration": 293,
    "start_time": "2023-03-20T07:41:29.650Z"
   },
   {
    "duration": 62,
    "start_time": "2023-03-20T07:41:29.945Z"
   },
   {
    "duration": 36,
    "start_time": "2023-03-20T07:41:30.010Z"
   },
   {
    "duration": 5,
    "start_time": "2023-03-20T07:41:30.049Z"
   },
   {
    "duration": 8,
    "start_time": "2023-03-20T07:41:30.057Z"
   },
   {
    "duration": 9,
    "start_time": "2023-03-20T07:41:30.067Z"
   },
   {
    "duration": 23,
    "start_time": "2023-03-20T07:41:30.079Z"
   },
   {
    "duration": 161,
    "start_time": "2023-03-20T07:41:30.104Z"
   },
   {
    "duration": 4,
    "start_time": "2023-03-20T07:41:30.268Z"
   },
   {
    "duration": 30,
    "start_time": "2023-03-20T07:41:30.274Z"
   },
   {
    "duration": 32,
    "start_time": "2023-03-20T07:41:30.307Z"
   },
   {
    "duration": 0,
    "start_time": "2023-03-20T07:41:30.341Z"
   },
   {
    "duration": 0,
    "start_time": "2023-03-20T07:41:30.343Z"
   },
   {
    "duration": 0,
    "start_time": "2023-03-20T07:41:30.346Z"
   },
   {
    "duration": 0,
    "start_time": "2023-03-20T07:41:30.347Z"
   },
   {
    "duration": 0,
    "start_time": "2023-03-20T07:41:30.349Z"
   },
   {
    "duration": 0,
    "start_time": "2023-03-20T07:41:30.351Z"
   },
   {
    "duration": 0,
    "start_time": "2023-03-20T07:41:30.353Z"
   },
   {
    "duration": 0,
    "start_time": "2023-03-20T07:41:30.355Z"
   },
   {
    "duration": 0,
    "start_time": "2023-03-20T07:41:30.356Z"
   },
   {
    "duration": 0,
    "start_time": "2023-03-20T07:41:30.358Z"
   },
   {
    "duration": 0,
    "start_time": "2023-03-20T07:41:30.359Z"
   },
   {
    "duration": 0,
    "start_time": "2023-03-20T07:41:30.361Z"
   },
   {
    "duration": 0,
    "start_time": "2023-03-20T07:41:30.362Z"
   },
   {
    "duration": 0,
    "start_time": "2023-03-20T07:41:30.365Z"
   },
   {
    "duration": 0,
    "start_time": "2023-03-20T07:41:30.366Z"
   },
   {
    "duration": 0,
    "start_time": "2023-03-20T07:41:30.367Z"
   },
   {
    "duration": 0,
    "start_time": "2023-03-20T07:41:30.369Z"
   },
   {
    "duration": 0,
    "start_time": "2023-03-20T07:41:30.371Z"
   },
   {
    "duration": 1938,
    "start_time": "2023-03-20T07:42:37.702Z"
   },
   {
    "duration": 54,
    "start_time": "2023-03-20T07:42:39.643Z"
   },
   {
    "duration": 91,
    "start_time": "2023-03-20T07:42:39.703Z"
   },
   {
    "duration": 10,
    "start_time": "2023-03-20T07:42:39.798Z"
   },
   {
    "duration": 3,
    "start_time": "2023-03-20T07:42:39.811Z"
   },
   {
    "duration": 4,
    "start_time": "2023-03-20T07:42:39.817Z"
   },
   {
    "duration": 29,
    "start_time": "2023-03-20T07:42:39.823Z"
   },
   {
    "duration": 23,
    "start_time": "2023-03-20T07:42:39.855Z"
   },
   {
    "duration": 217,
    "start_time": "2023-03-20T07:42:39.882Z"
   },
   {
    "duration": 5,
    "start_time": "2023-03-20T07:42:40.104Z"
   },
   {
    "duration": 29,
    "start_time": "2023-03-20T07:42:40.111Z"
   },
   {
    "duration": 117,
    "start_time": "2023-03-20T07:42:40.146Z"
   },
   {
    "duration": 72,
    "start_time": "2023-03-20T07:42:40.274Z"
   },
   {
    "duration": 11,
    "start_time": "2023-03-20T07:42:40.352Z"
   },
   {
    "duration": 32,
    "start_time": "2023-03-20T07:42:40.366Z"
   },
   {
    "duration": 37,
    "start_time": "2023-03-20T07:42:40.404Z"
   },
   {
    "duration": 17,
    "start_time": "2023-03-20T07:42:40.444Z"
   },
   {
    "duration": 0,
    "start_time": "2023-03-20T07:42:40.464Z"
   },
   {
    "duration": 0,
    "start_time": "2023-03-20T07:42:40.466Z"
   },
   {
    "duration": 1,
    "start_time": "2023-03-20T07:42:40.468Z"
   },
   {
    "duration": 0,
    "start_time": "2023-03-20T07:42:40.473Z"
   },
   {
    "duration": 0,
    "start_time": "2023-03-20T07:42:40.478Z"
   },
   {
    "duration": 0,
    "start_time": "2023-03-20T07:42:40.486Z"
   },
   {
    "duration": 0,
    "start_time": "2023-03-20T07:42:40.490Z"
   },
   {
    "duration": 0,
    "start_time": "2023-03-20T07:42:40.494Z"
   },
   {
    "duration": 0,
    "start_time": "2023-03-20T07:42:40.540Z"
   },
   {
    "duration": 0,
    "start_time": "2023-03-20T07:42:40.543Z"
   },
   {
    "duration": 0,
    "start_time": "2023-03-20T07:42:40.545Z"
   },
   {
    "duration": 1,
    "start_time": "2023-03-20T07:42:40.546Z"
   },
   {
    "duration": 0,
    "start_time": "2023-03-20T07:42:40.548Z"
   },
   {
    "duration": 43,
    "start_time": "2023-03-20T07:42:57.128Z"
   },
   {
    "duration": 16,
    "start_time": "2023-03-20T07:42:57.928Z"
   },
   {
    "duration": 5,
    "start_time": "2023-03-20T07:43:07.128Z"
   },
   {
    "duration": 6,
    "start_time": "2023-03-20T07:43:07.768Z"
   },
   {
    "duration": 12,
    "start_time": "2023-03-20T07:43:08.415Z"
   },
   {
    "duration": 5,
    "start_time": "2023-03-20T07:43:08.920Z"
   },
   {
    "duration": 6,
    "start_time": "2023-03-20T07:43:09.321Z"
   },
   {
    "duration": 8,
    "start_time": "2023-03-20T07:43:09.824Z"
   },
   {
    "duration": 23,
    "start_time": "2023-03-20T07:43:10.776Z"
   },
   {
    "duration": 5,
    "start_time": "2023-03-20T07:43:11.354Z"
   },
   {
    "duration": 6,
    "start_time": "2023-03-20T07:43:11.736Z"
   },
   {
    "duration": 11,
    "start_time": "2023-03-20T07:43:12.111Z"
   },
   {
    "duration": 8,
    "start_time": "2023-03-20T07:43:12.546Z"
   },
   {
    "duration": 11,
    "start_time": "2023-03-20T07:43:13.039Z"
   },
   {
    "duration": 1813,
    "start_time": "2023-03-20T07:43:21.959Z"
   },
   {
    "duration": 34,
    "start_time": "2023-03-20T07:43:23.774Z"
   },
   {
    "duration": 74,
    "start_time": "2023-03-20T07:43:23.811Z"
   },
   {
    "duration": 12,
    "start_time": "2023-03-20T07:43:23.887Z"
   },
   {
    "duration": 5,
    "start_time": "2023-03-20T07:43:23.902Z"
   },
   {
    "duration": 4,
    "start_time": "2023-03-20T07:43:23.912Z"
   },
   {
    "duration": 25,
    "start_time": "2023-03-20T07:43:23.919Z"
   },
   {
    "duration": 16,
    "start_time": "2023-03-20T07:43:23.947Z"
   },
   {
    "duration": 234,
    "start_time": "2023-03-20T07:43:23.966Z"
   },
   {
    "duration": 5,
    "start_time": "2023-03-20T07:43:24.202Z"
   },
   {
    "duration": 31,
    "start_time": "2023-03-20T07:43:24.210Z"
   },
   {
    "duration": 122,
    "start_time": "2023-03-20T07:43:24.243Z"
   },
   {
    "duration": 65,
    "start_time": "2023-03-20T07:43:24.377Z"
   },
   {
    "duration": 5,
    "start_time": "2023-03-20T07:43:24.445Z"
   },
   {
    "duration": 27,
    "start_time": "2023-03-20T07:43:24.455Z"
   },
   {
    "duration": 59,
    "start_time": "2023-03-20T07:43:24.484Z"
   },
   {
    "duration": 102,
    "start_time": "2023-03-20T07:43:24.547Z"
   },
   {
    "duration": 89,
    "start_time": "2023-03-20T07:43:24.654Z"
   },
   {
    "duration": 6,
    "start_time": "2023-03-20T07:43:24.746Z"
   },
   {
    "duration": 12,
    "start_time": "2023-03-20T07:43:24.755Z"
   },
   {
    "duration": 15,
    "start_time": "2023-03-20T07:43:24.770Z"
   },
   {
    "duration": 4,
    "start_time": "2023-03-20T07:43:24.788Z"
   },
   {
    "duration": 12,
    "start_time": "2023-03-20T07:43:24.842Z"
   },
   {
    "duration": 9,
    "start_time": "2023-03-20T07:43:24.857Z"
   },
   {
    "duration": 14,
    "start_time": "2023-03-20T07:43:24.868Z"
   },
   {
    "duration": 4,
    "start_time": "2023-03-20T07:43:24.885Z"
   },
   {
    "duration": 16,
    "start_time": "2023-03-20T07:43:24.941Z"
   },
   {
    "duration": 84,
    "start_time": "2023-03-20T07:43:24.960Z"
   },
   {
    "duration": 10,
    "start_time": "2023-03-20T07:43:25.047Z"
   },
   {
    "duration": 19,
    "start_time": "2023-03-20T07:43:25.059Z"
   },
   {
    "duration": 1749,
    "start_time": "2023-03-20T07:44:35.100Z"
   },
   {
    "duration": 33,
    "start_time": "2023-03-20T07:44:36.852Z"
   },
   {
    "duration": 64,
    "start_time": "2023-03-20T07:44:36.887Z"
   },
   {
    "duration": 20,
    "start_time": "2023-03-20T07:44:36.953Z"
   },
   {
    "duration": 5,
    "start_time": "2023-03-20T07:44:36.976Z"
   },
   {
    "duration": 6,
    "start_time": "2023-03-20T07:44:36.982Z"
   },
   {
    "duration": 20,
    "start_time": "2023-03-20T07:44:36.991Z"
   },
   {
    "duration": 18,
    "start_time": "2023-03-20T07:44:37.013Z"
   },
   {
    "duration": 214,
    "start_time": "2023-03-20T07:44:37.033Z"
   },
   {
    "duration": 4,
    "start_time": "2023-03-20T07:44:37.251Z"
   },
   {
    "duration": 16,
    "start_time": "2023-03-20T07:44:37.258Z"
   },
   {
    "duration": 34,
    "start_time": "2023-03-20T07:44:37.281Z"
   },
   {
    "duration": 44,
    "start_time": "2023-03-20T07:44:37.348Z"
   },
   {
    "duration": 12,
    "start_time": "2023-03-20T07:44:37.445Z"
   },
   {
    "duration": 48,
    "start_time": "2023-03-20T07:44:37.465Z"
   },
   {
    "duration": 19,
    "start_time": "2023-03-20T07:44:37.523Z"
   },
   {
    "duration": 103,
    "start_time": "2023-03-20T07:44:37.549Z"
   },
   {
    "duration": 39,
    "start_time": "2023-03-20T07:44:37.668Z"
   },
   {
    "duration": 8,
    "start_time": "2023-03-20T07:44:37.744Z"
   },
   {
    "duration": 19,
    "start_time": "2023-03-20T07:44:37.765Z"
   },
   {
    "duration": 17,
    "start_time": "2023-03-20T07:44:37.786Z"
   },
   {
    "duration": 9,
    "start_time": "2023-03-20T07:44:37.805Z"
   },
   {
    "duration": 12,
    "start_time": "2023-03-20T07:44:37.817Z"
   },
   {
    "duration": 6,
    "start_time": "2023-03-20T07:44:37.831Z"
   },
   {
    "duration": 74,
    "start_time": "2023-03-20T07:44:37.840Z"
   },
   {
    "duration": 4,
    "start_time": "2023-03-20T07:44:37.916Z"
   },
   {
    "duration": 6,
    "start_time": "2023-03-20T07:44:37.922Z"
   },
   {
    "duration": 23,
    "start_time": "2023-03-20T07:44:37.945Z"
   },
   {
    "duration": 16,
    "start_time": "2023-03-20T07:44:37.970Z"
   },
   {
    "duration": 50,
    "start_time": "2023-03-20T07:44:37.993Z"
   }
  ],
  "kernelspec": {
   "display_name": "Python 3 (ipykernel)",
   "language": "python",
   "name": "python3"
  },
  "language_info": {
   "codemirror_mode": {
    "name": "ipython",
    "version": 3
   },
   "file_extension": ".py",
   "mimetype": "text/x-python",
   "name": "python",
   "nbconvert_exporter": "python",
   "pygments_lexer": "ipython3",
   "version": "3.11.4"
  },
  "toc": {
   "base_numbering": 1,
   "nav_menu": {},
   "number_sections": true,
   "sideBar": true,
   "skip_h1_title": true,
   "title_cell": "Содержание",
   "title_sidebar": "Contents",
   "toc_cell": true,
   "toc_position": {
    "height": "calc(100% - 180px)",
    "left": "10px",
    "top": "150px",
    "width": "165px"
   },
   "toc_section_display": true,
   "toc_window_display": true
  }
 },
 "nbformat": 4,
 "nbformat_minor": 2
}
