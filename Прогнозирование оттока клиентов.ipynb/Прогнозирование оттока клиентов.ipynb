{
 "cells": [
  {
   "cell_type": "markdown",
   "metadata": {},
   "source": [
    "План проекта:\n",
    "Изучить файл с данными.\n",
    "Разбить данные на три выборки: обучающая, валидационная и тестовая.\n",
    "Исследовать три модели классификации: Решающее дерево, Случайный лес и Логистическая регрессия.\n",
    "Найти оптимальные параметры для каждой модели и выбрать одну из них для обучения модели.\n",
    "Оценить точность обученной модели.\n",
    "Оценить адекватность модели."
   ]
  },
  {
   "cell_type": "markdown",
   "metadata": {},
   "source": [
    "### Импортируем необходимые библиотеки"
   ]
  },
  {
   "cell_type": "code",
   "execution_count": 1,
   "metadata": {},
   "outputs": [],
   "source": [
    "import pandas as pd\n",
    "from sklearn.model_selection import train_test_split \n",
    "from sklearn.tree import DecisionTreeClassifier\n",
    "from sklearn.ensemble import RandomForestClassifier\n",
    "from sklearn.linear_model import LogisticRegression\n",
    "from sklearn.metrics import accuracy_score\n",
    "from sklearn.dummy import DummyClassifier"
   ]
  },
  {
   "cell_type": "markdown",
   "metadata": {},
   "source": [
    "### Открываем файл с данными"
   ]
  },
  {
   "cell_type": "code",
   "execution_count": 2,
   "metadata": {},
   "outputs": [],
   "source": [
    "df = pd.read_csv('users_behavior.csv')"
   ]
  },
  {
   "cell_type": "markdown",
   "metadata": {},
   "source": [
    "### Изучим данные"
   ]
  },
  {
   "cell_type": "code",
   "execution_count": 3,
   "metadata": {},
   "outputs": [
    {
     "name": "stdout",
     "output_type": "stream",
     "text": [
      "<class 'pandas.core.frame.DataFrame'>\n",
      "RangeIndex: 3214 entries, 0 to 3213\n",
      "Data columns (total 5 columns):\n",
      " #   Column    Non-Null Count  Dtype  \n",
      "---  ------    --------------  -----  \n",
      " 0   calls     3214 non-null   float64\n",
      " 1   minutes   3214 non-null   float64\n",
      " 2   messages  3214 non-null   float64\n",
      " 3   mb_used   3214 non-null   float64\n",
      " 4   is_ultra  3214 non-null   int64  \n",
      "dtypes: float64(4), int64(1)\n",
      "memory usage: 125.7 KB\n"
     ]
    }
   ],
   "source": [
    "df.info()"
   ]
  },
  {
   "cell_type": "code",
   "execution_count": 4,
   "metadata": {
    "scrolled": true
   },
   "outputs": [
    {
     "data": {
      "text/html": [
       "<div>\n",
       "<style scoped>\n",
       "    .dataframe tbody tr th:only-of-type {\n",
       "        vertical-align: middle;\n",
       "    }\n",
       "\n",
       "    .dataframe tbody tr th {\n",
       "        vertical-align: top;\n",
       "    }\n",
       "\n",
       "    .dataframe thead th {\n",
       "        text-align: right;\n",
       "    }\n",
       "</style>\n",
       "<table border=\"1\" class=\"dataframe\">\n",
       "  <thead>\n",
       "    <tr style=\"text-align: right;\">\n",
       "      <th></th>\n",
       "      <th>calls</th>\n",
       "      <th>minutes</th>\n",
       "      <th>messages</th>\n",
       "      <th>mb_used</th>\n",
       "      <th>is_ultra</th>\n",
       "    </tr>\n",
       "  </thead>\n",
       "  <tbody>\n",
       "    <tr>\n",
       "      <th>0</th>\n",
       "      <td>40.0</td>\n",
       "      <td>311.90</td>\n",
       "      <td>83.0</td>\n",
       "      <td>19915.42</td>\n",
       "      <td>0</td>\n",
       "    </tr>\n",
       "    <tr>\n",
       "      <th>1</th>\n",
       "      <td>85.0</td>\n",
       "      <td>516.75</td>\n",
       "      <td>56.0</td>\n",
       "      <td>22696.96</td>\n",
       "      <td>0</td>\n",
       "    </tr>\n",
       "    <tr>\n",
       "      <th>2</th>\n",
       "      <td>77.0</td>\n",
       "      <td>467.66</td>\n",
       "      <td>86.0</td>\n",
       "      <td>21060.45</td>\n",
       "      <td>0</td>\n",
       "    </tr>\n",
       "    <tr>\n",
       "      <th>3</th>\n",
       "      <td>106.0</td>\n",
       "      <td>745.53</td>\n",
       "      <td>81.0</td>\n",
       "      <td>8437.39</td>\n",
       "      <td>1</td>\n",
       "    </tr>\n",
       "    <tr>\n",
       "      <th>4</th>\n",
       "      <td>66.0</td>\n",
       "      <td>418.74</td>\n",
       "      <td>1.0</td>\n",
       "      <td>14502.75</td>\n",
       "      <td>0</td>\n",
       "    </tr>\n",
       "  </tbody>\n",
       "</table>\n",
       "</div>"
      ],
      "text/plain": [
       "   calls  minutes  messages   mb_used  is_ultra\n",
       "0   40.0   311.90      83.0  19915.42         0\n",
       "1   85.0   516.75      56.0  22696.96         0\n",
       "2   77.0   467.66      86.0  21060.45         0\n",
       "3  106.0   745.53      81.0   8437.39         1\n",
       "4   66.0   418.74       1.0  14502.75         0"
      ]
     },
     "execution_count": 4,
     "metadata": {},
     "output_type": "execute_result"
    }
   ],
   "source": [
    "df.head()"
   ]
  },
  {
   "cell_type": "markdown",
   "metadata": {},
   "source": [
    "Файл данных содержит 3214 записей, что не так много. Модель может быть несколько переобученной.\\\n",
    "Целевым признаком у нас будет \"is_ultra\". \\\n",
    "Целевой признак категориальный, поэтому решаем задачу классификации. \\\n",
    "Категорий всего две — поэтому речь идёт о бинарной (двоичной) классификации."
   ]
  },
  {
   "cell_type": "markdown",
   "metadata": {},
   "source": [
    "## Разбейте данные на выборки"
   ]
  },
  {
   "cell_type": "markdown",
   "metadata": {},
   "source": [
    "### Делим выборку на данные на обучающую, валидационную и тестовую выборки в соотношении 60\\20\\20"
   ]
  },
  {
   "cell_type": "code",
   "execution_count": 5,
   "metadata": {},
   "outputs": [],
   "source": [
    "df_train, aux_df_valid = train_test_split(df, test_size=0.4, random_state=12345, stratify=df['is_ultra'])\n",
    "df_valid, df_test = train_test_split(aux_df_valid, test_size=0.5, random_state=12345, stratify=aux_df_valid['is_ultra'])"
   ]
  },
  {
   "cell_type": "code",
   "execution_count": 6,
   "metadata": {
    "scrolled": true
   },
   "outputs": [
    {
     "name": "stdout",
     "output_type": "stream",
     "text": [
      "Размер обучающей выборки 1928\n",
      "Размер валидационной выборки 643\n",
      "Размер тестовой выборки 643\n"
     ]
    }
   ],
   "source": [
    "print('Размер обучающей выборки', df_train.shape[0])\n",
    "print('Размер валидационной выборки', df_valid.shape[0])\n",
    "print('Размер тестовой выборки', df_test.shape[0])"
   ]
  },
  {
   "cell_type": "markdown",
   "metadata": {},
   "source": [
    "### Создаем отдельные переменные для признаков"
   ]
  },
  {
   "cell_type": "code",
   "execution_count": 7,
   "metadata": {},
   "outputs": [],
   "source": [
    "features_train = df_train.drop(['is_ultra'], axis=1)\n",
    "target_train = df_train['is_ultra']\n",
    "features_valid = df_valid.drop(['is_ultra'], axis=1)\n",
    "target_valid = df_valid['is_ultra']\n",
    "features_test = df_test.drop(['is_ultra'], axis=1)\n",
    "target_test = df_test['is_ultra']"
   ]
  },
  {
   "cell_type": "markdown",
   "metadata": {},
   "source": [
    "Выводы по второму этапу. \\\n",
    "Разделили данные на обучающие, валидационные и тестовые в пропорции 60/20/20/. \\\n",
    "Обучение моделей проведем на features_train, проверим работу на features_valid. \\\n",
    "Лучшую модель проверим на features_test."
   ]
  },
  {
   "cell_type": "markdown",
   "metadata": {},
   "source": [
    "## Исследуйте модели"
   ]
  },
  {
   "cell_type": "markdown",
   "metadata": {},
   "source": [
    "### Модель - решающее дерево"
   ]
  },
  {
   "cell_type": "markdown",
   "metadata": {},
   "source": [
    "Основной гиперпараметр решающего дерева - глубина. \\\n",
    "Перебираем в алгоритме обучения разные варианты глубины дерева."
   ]
  },
  {
   "cell_type": "code",
   "execution_count": 8,
   "metadata": {},
   "outputs": [
    {
     "name": "stdout",
     "output_type": "stream",
     "text": [
      "1 0.7402799377916018\n",
      "2 0.7729393468118196\n",
      "3 0.7776049766718507\n",
      "4 0.7542768273716952\n",
      "5 0.7853810264385692\n",
      "6 0.7744945567651633\n",
      "7 0.7869362363919129\n",
      "8 0.80248833592535\n",
      "9 0.7822706065318819\n",
      "10 0.7729393468118196\n",
      "11 0.7620528771384136\n",
      "12 0.7527216174183515\n",
      "13 0.744945567651633\n",
      "14 0.7558320373250389\n",
      "15 0.7480559875583204\n",
      "16 0.7387247278382582\n",
      "17 0.7153965785381027\n",
      "18 0.7076205287713841\n",
      "19 0.7045101088646968\n",
      "20 0.7060653188180405\n",
      "21 0.7013996889580093\n",
      "22 0.7013996889580093\n",
      "23 0.7013996889580093\n",
      "24 0.7013996889580093\n",
      "Модель: DecisionTreeClassifier(max_depth=8, random_state=12345) Accuracy лучшей модели решающего дерева: 0.80248833592535\n"
     ]
    }
   ],
   "source": [
    "best_model_tree = None\n",
    "best_result_tree = 0\n",
    "for depth in range(1, 25):\n",
    "    model_tree = DecisionTreeClassifier(random_state=12345, max_depth=depth) \n",
    "    model_tree.fit(features_train, target_train) \n",
    "    predictions_tree = model_tree.predict(features_valid) \n",
    "    result = accuracy_score(target_valid, predictions_tree) \n",
    "    print(depth, result)\n",
    "    if result > best_result_tree:\n",
    "        best_model_tree = model_tree\n",
    "        best_result_tree = result\n",
    "print(\"Модель:\", best_model_tree, \"Accuracy лучшей модели решающего дерева:\", best_result_tree)"
   ]
  },
  {
   "cell_type": "markdown",
   "metadata": {},
   "source": [
    "Лучший показатель при глубине дерева 3.\n",
    "Попробуем изменить гиперпараметр criterion с gini на entropy и splitter с best на random"
   ]
  },
  {
   "cell_type": "code",
   "execution_count": 9,
   "metadata": {},
   "outputs": [
    {
     "name": "stdout",
     "output_type": "stream",
     "text": [
      "Глубина дерева 3 Accuracy 0.7776049766718507\n"
     ]
    }
   ],
   "source": [
    "model_tree = DecisionTreeClassifier(random_state=12345, max_depth=3, criterion=\"entropy\") \n",
    "model_tree.fit(features_train, target_train) \n",
    "predictions = model_tree.predict(features_valid) \n",
    "result = accuracy_score(target_valid, predictions)\n",
    "print(\"Глубина дерева\", 3, \"Accuracy\", result)"
   ]
  },
  {
   "cell_type": "code",
   "execution_count": 10,
   "metadata": {},
   "outputs": [
    {
     "name": "stdout",
     "output_type": "stream",
     "text": [
      "Глубина дерева 3 Accuracy 0.7262830482115086\n"
     ]
    }
   ],
   "source": [
    "model = DecisionTreeClassifier(random_state=12345, max_depth=3, splitter=\"random\") \n",
    "model.fit(features_train, target_train) \n",
    "predictions = model.predict(features_valid) \n",
    "result = accuracy_score(target_valid, predictions)\n",
    "print(\"Глубина дерева\", 3, \"Accuracy\", result)"
   ]
  },
  {
   "cell_type": "markdown",
   "metadata": {},
   "source": [
    "Гиперпараметры по умолчанию показывают лучший результат"
   ]
  },
  {
   "cell_type": "markdown",
   "metadata": {},
   "source": [
    "### Модель - случайный лес"
   ]
  },
  {
   "cell_type": "markdown",
   "metadata": {},
   "source": [
    "Основной гиперпараметр случайного леса - количество деревьев.\n",
    "Перебираем в алгоритме обучения разные варианты. "
   ]
  },
  {
   "cell_type": "code",
   "execution_count": 11,
   "metadata": {},
   "outputs": [
    {
     "name": "stdout",
     "output_type": "stream",
     "text": [
      "1 0.6998444790046656\n",
      "2 0.7433903576982893\n",
      "3 0.7418351477449455\n",
      "4 0.7558320373250389\n",
      "5 0.7527216174183515\n",
      "6 0.7729393468118196\n",
      "7 0.7698289269051322\n",
      "8 0.776049766718507\n",
      "9 0.7698289269051322\n",
      "10 0.7869362363919129\n",
      "11 0.7807153965785381\n",
      "12 0.7853810264385692\n",
      "13 0.7884914463452566\n",
      "14 0.7869362363919129\n",
      "15 0.7884914463452566\n",
      "16 0.7869362363919129\n",
      "17 0.7916018662519441\n",
      "18 0.7916018662519441\n",
      "19 0.7931570762052877\n",
      "20 0.7916018662519441\n",
      "21 0.7993779160186625\n",
      "22 0.7993779160186625\n",
      "23 0.7947122861586314\n",
      "24 0.7978227060653188\n",
      "25 0.7947122861586314\n",
      "26 0.7931570762052877\n",
      "27 0.7947122861586314\n",
      "28 0.7993779160186625\n",
      "29 0.7916018662519441\n",
      "30 0.7931570762052877\n",
      "31 0.7931570762052877\n",
      "32 0.7931570762052877\n",
      "33 0.7884914463452566\n",
      "34 0.7931570762052877\n",
      "35 0.7931570762052877\n",
      "36 0.7900466562986003\n",
      "37 0.7916018662519441\n",
      "38 0.7884914463452566\n",
      "39 0.7931570762052877\n",
      "40 0.7931570762052877\n",
      "41 0.8009331259720062\n",
      "42 0.8009331259720062\n",
      "43 0.7993779160186625\n",
      "44 0.7962674961119751\n",
      "45 0.8009331259720062\n",
      "46 0.80248833592535\n",
      "47 0.7993779160186625\n",
      "48 0.8055987558320373\n",
      "49 0.7993779160186625\n",
      "Количество решающих деревьев: 48 Accuracy лучшей модели случайного леса: 0.8055987558320373\n"
     ]
    }
   ],
   "source": [
    "est_e = 0\n",
    "best_model_forest = None\n",
    "best_result_forest = 0\n",
    "for est in range(1, 50):\n",
    "    model_forest = RandomForestClassifier(random_state=12345, n_estimators=est) \n",
    "    model_forest.fit(features_train, target_train) \n",
    "    result = model_forest.score(features_valid, target_valid) \n",
    "    print(est, result)\n",
    "    if result > best_result_forest:\n",
    "        est_e = est\n",
    "        best_model_forest = model_forest\n",
    "        best_result_forest = result\n",
    "print(\"Количество решающих деревьев:\", est_e, \"Accuracy лучшей модели случайного леса:\", best_result_forest) "
   ]
  },
  {
   "cell_type": "markdown",
   "metadata": {},
   "source": [
    "### Модель - логистическая регрессия"
   ]
  },
  {
   "cell_type": "code",
   "execution_count": 12,
   "metadata": {},
   "outputs": [
    {
     "name": "stdout",
     "output_type": "stream",
     "text": [
      "Accuracy модели логистической регрессии: 0.7993779160186625\n"
     ]
    }
   ],
   "source": [
    "model_regression = LogisticRegression(random_state=12345, solver='lbfgs', max_iter=1000)\n",
    "model_regression.fit(features_train, target_train) \n",
    "model_regression.predict(features_valid)\n",
    "result_regression = model.score(features_valid, target_valid) \n",
    "print(\"Accuracy модели логистической регрессии:\", result)"
   ]
  },
  {
   "cell_type": "markdown",
   "metadata": {},
   "source": [
    "По результатам проверки лучшим алгоритмом признаем алгоритм классификации — случайный лес (англ. random forest) с количеством решающих деревьев 22."
   ]
  },
  {
   "cell_type": "markdown",
   "metadata": {},
   "source": [
    "## Проверьте модель на тестовой выборке"
   ]
  },
  {
   "cell_type": "code",
   "execution_count": 13,
   "metadata": {},
   "outputs": [],
   "source": [
    "#predictions_tree_test = model_tree.predict(features_test) \n",
    "#result = accuracy_score(target_test, predictions_tree_test)\n",
    "#print(\"Accuracy модели решающего дерева на тестовой выборке:\", result)"
   ]
  },
  {
   "cell_type": "code",
   "execution_count": 14,
   "metadata": {},
   "outputs": [
    {
     "name": "stdout",
     "output_type": "stream",
     "text": [
      "Accuracy модели случайного леса на тестовой выборке: 0.80248833592535\n"
     ]
    }
   ],
   "source": [
    "best_model_forest = RandomForestClassifier(random_state=12345, n_estimators=22) \n",
    "best_model_forest.fit(features_train, target_train) \n",
    "predictions_forest_test = best_model_forest.predict(features_test)\n",
    "result = best_model_forest.score(features_test, target_test) \n",
    "print(\"Accuracy модели случайного леса на тестовой выборке:\", result)"
   ]
  },
  {
   "cell_type": "code",
   "execution_count": 15,
   "metadata": {},
   "outputs": [],
   "source": [
    "#predictions_regression_test = model_regression.predict(features_test) \n",
    "#result = accuracy_score(target_test, predictions_regression_test)\n",
    "#print(\"Accuracy модели логистической регрессии на тестовой выборке:\", result)"
   ]
  },
  {
   "cell_type": "markdown",
   "metadata": {},
   "source": [
    "Тестовая выборка показала правильность выбора модели классификации."
   ]
  },
  {
   "cell_type": "markdown",
   "metadata": {},
   "source": [
    "## (бонус) Проверьте модели на адекватность"
   ]
  },
  {
   "cell_type": "markdown",
   "metadata": {},
   "source": [
    "При создании модели машинного обучения для какого-либо проекта разумно сначала создать baseline модель. Она представляет собой простейшую (dummy) модель, которая всегда предсказывает наиболее часто встречающийся класс. Так вы получите контрольные данные для сравнительной оценки построенной вами более сложной модели. К тому же вы сможете быть уверены в качестве ее работы, например, в том, что она выдает не просто набор случайно подобранных данных.\n",
    "В библиотеке scikit-learn есть DummyClassifier() для задач классификации.\\\n",
    "Параметром strategy установим:\\\n",
    "“uniform” - этот генерирует прогнозы с учетом распределения классов обучающего набора.\\\n",
    "«most_frequent»: всегда предсказывает наиболее часто встречающуюся метку в обучающем наборе.\\\n",
    "«stratified»: генерирует прогнозы с учетом распределения классов обучающего набора."
   ]
  },
  {
   "cell_type": "code",
   "execution_count": 16,
   "metadata": {
    "scrolled": true
   },
   "outputs": [
    {
     "name": "stdout",
     "output_type": "stream",
     "text": [
      "Accuracy адекватности: 0.47900466562986005\n"
     ]
    }
   ],
   "source": [
    "dummy_clf = DummyClassifier(strategy=\"uniform\")\n",
    "dummy_clf.fit(features_train, target_train)\n",
    "predictions_adequacy_test = dummy_clf.predict(features_test)\n",
    "result = accuracy_score(target_test, predictions_adequacy_test)\n",
    "print(\"Accuracy адекватности:\", result)"
   ]
  },
  {
   "cell_type": "code",
   "execution_count": 17,
   "metadata": {},
   "outputs": [
    {
     "name": "stdout",
     "output_type": "stream",
     "text": [
      "Accuracy адекватности: 0.6936236391912908\n"
     ]
    }
   ],
   "source": [
    "dummy_clf = DummyClassifier(strategy=\"most_frequent\")\n",
    "dummy_clf.fit(features_train, target_train)\n",
    "predictions_adequacy_test = dummy_clf.predict(features_test)\n",
    "result = accuracy_score(target_test, predictions_adequacy_test)\n",
    "print(\"Accuracy адекватности:\", result)"
   ]
  },
  {
   "cell_type": "code",
   "execution_count": 18,
   "metadata": {},
   "outputs": [
    {
     "name": "stdout",
     "output_type": "stream",
     "text": [
      "Accuracy адекватности: 0.5769828926905132\n"
     ]
    }
   ],
   "source": [
    "dummy_clf = DummyClassifier(strategy=\"stratified\")\n",
    "dummy_clf.fit(features_train, target_train)\n",
    "predictions_adequacy_test = dummy_clf.predict(features_test)\n",
    "result = accuracy_score(target_test, predictions_adequacy_test)\n",
    "print(\"Accuracy адекватности:\", result)"
   ]
  },
  {
   "cell_type": "markdown",
   "metadata": {},
   "source": [
    "Полученные случайные прогнозы сильно хуже наших проверенных моделей."
   ]
  },
  {
   "cell_type": "markdown",
   "metadata": {},
   "source": [
    "## Общий вывод"
   ]
  },
  {
   "cell_type": "markdown",
   "metadata": {},
   "source": [
    "В ходе выполнения проекта:\n",
    "\n",
    "Изучен файл с данными.\\\n",
    "Разбиты данные на три выборки: обучающая, валидационная и тестовая.\\\n",
    "Исследованы три модели классификации: Решающее дерево, Случайный лес и Логистическая регрессия.\\\n",
    "Найдены оптимальные параметры для каждой модели и выбрана одна из них для обучения модели.\\\n",
    "Оценена точность обученной модели.\\\n",
    "Оценена адекватность модели.\\\n",
    "Для обучения модели была использована выборка в 1928 значений. Этого может быть недостаточно для повышения ключевых параметров модели классификатора.\\\n",
    "Проведена проверка адекватности моделей."
   ]
  }
 ],
 "metadata": {
  "ExecuteTimeLog": [
   {
    "duration": 1259,
    "start_time": "2023-01-19T15:41:40.709Z"
   },
   {
    "duration": 67,
    "start_time": "2023-01-19T15:41:41.970Z"
   },
   {
    "duration": 14,
    "start_time": "2023-01-19T15:41:42.040Z"
   },
   {
    "duration": 36,
    "start_time": "2023-01-19T15:41:55.249Z"
   },
   {
    "duration": 10,
    "start_time": "2023-01-19T15:43:43.686Z"
   },
   {
    "duration": 5,
    "start_time": "2023-01-19T15:57:43.217Z"
   },
   {
    "duration": 99,
    "start_time": "2023-01-19T16:02:22.282Z"
   },
   {
    "duration": 3,
    "start_time": "2023-01-19T16:02:27.813Z"
   },
   {
    "duration": 25,
    "start_time": "2023-01-19T16:02:28.551Z"
   },
   {
    "duration": 13,
    "start_time": "2023-01-19T16:02:29.391Z"
   },
   {
    "duration": 13,
    "start_time": "2023-01-19T16:02:29.896Z"
   },
   {
    "duration": 6,
    "start_time": "2023-01-19T16:02:33.118Z"
   },
   {
    "duration": 4,
    "start_time": "2023-01-19T16:02:33.663Z"
   },
   {
    "duration": 5,
    "start_time": "2023-01-19T16:03:08.655Z"
   },
   {
    "duration": 6,
    "start_time": "2023-01-19T16:13:05.695Z"
   },
   {
    "duration": 10,
    "start_time": "2023-01-19T16:25:42.879Z"
   },
   {
    "duration": 1072,
    "start_time": "2023-01-19T16:26:05.355Z"
   },
   {
    "duration": 27,
    "start_time": "2023-01-19T16:26:06.429Z"
   },
   {
    "duration": 11,
    "start_time": "2023-01-19T16:26:06.457Z"
   },
   {
    "duration": 30,
    "start_time": "2023-01-19T16:26:06.470Z"
   },
   {
    "duration": 13,
    "start_time": "2023-01-19T16:26:06.502Z"
   },
   {
    "duration": 10,
    "start_time": "2023-01-19T16:26:06.517Z"
   },
   {
    "duration": 11,
    "start_time": "2023-01-19T16:26:06.528Z"
   },
   {
    "duration": 100,
    "start_time": "2023-01-19T16:26:06.541Z"
   },
   {
    "duration": 3,
    "start_time": "2023-01-19T16:27:00.031Z"
   },
   {
    "duration": 25,
    "start_time": "2023-01-19T16:27:00.910Z"
   },
   {
    "duration": 10,
    "start_time": "2023-01-19T16:27:02.010Z"
   },
   {
    "duration": 9,
    "start_time": "2023-01-19T16:27:02.446Z"
   },
   {
    "duration": 6,
    "start_time": "2023-01-19T16:27:04.694Z"
   },
   {
    "duration": 4,
    "start_time": "2023-01-19T16:27:05.154Z"
   },
   {
    "duration": 6,
    "start_time": "2023-01-19T16:27:06.308Z"
   },
   {
    "duration": 11,
    "start_time": "2023-01-19T16:27:10.058Z"
   },
   {
    "duration": 14,
    "start_time": "2023-01-19T16:28:00.508Z"
   },
   {
    "duration": 39,
    "start_time": "2023-01-19T16:28:20.596Z"
   },
   {
    "duration": 35,
    "start_time": "2023-01-19T16:28:45.972Z"
   },
   {
    "duration": 32,
    "start_time": "2023-01-19T16:28:58.166Z"
   },
   {
    "duration": 29,
    "start_time": "2023-01-19T16:29:13.688Z"
   },
   {
    "duration": 948,
    "start_time": "2023-01-19T16:29:47.459Z"
   },
   {
    "duration": 943,
    "start_time": "2023-01-19T16:30:52.104Z"
   },
   {
    "duration": 1049,
    "start_time": "2023-01-19T16:33:47.552Z"
   },
   {
    "duration": 1086,
    "start_time": "2023-01-19T16:35:53.626Z"
   },
   {
    "duration": 927,
    "start_time": "2023-01-19T16:36:16.688Z"
   },
   {
    "duration": 9,
    "start_time": "2023-01-19T16:42:22.443Z"
   },
   {
    "duration": 3,
    "start_time": "2023-01-19T16:42:33.775Z"
   },
   {
    "duration": 253,
    "start_time": "2023-01-19T16:42:38.179Z"
   },
   {
    "duration": 241,
    "start_time": "2023-01-19T16:43:29.402Z"
   },
   {
    "duration": 243,
    "start_time": "2023-01-19T16:43:50.118Z"
   },
   {
    "duration": 3,
    "start_time": "2023-01-19T16:45:14.229Z"
   },
   {
    "duration": 35,
    "start_time": "2023-01-19T16:49:20.877Z"
   },
   {
    "duration": 22,
    "start_time": "2023-01-19T16:54:41.881Z"
   },
   {
    "duration": 18,
    "start_time": "2023-01-19T17:01:18.010Z"
   },
   {
    "duration": 4548,
    "start_time": "2023-01-19T17:01:35.181Z"
   },
   {
    "duration": 1087,
    "start_time": "2023-01-19T17:02:30.299Z"
   },
   {
    "duration": 26,
    "start_time": "2023-01-19T17:02:31.388Z"
   },
   {
    "duration": 38,
    "start_time": "2023-01-19T17:02:31.415Z"
   },
   {
    "duration": 51,
    "start_time": "2023-01-19T17:02:31.454Z"
   },
   {
    "duration": 98,
    "start_time": "2023-01-19T17:02:31.508Z"
   },
   {
    "duration": 0,
    "start_time": "2023-01-19T17:02:31.607Z"
   },
   {
    "duration": 0,
    "start_time": "2023-01-19T17:02:31.608Z"
   },
   {
    "duration": 0,
    "start_time": "2023-01-19T17:02:31.609Z"
   },
   {
    "duration": 0,
    "start_time": "2023-01-19T17:02:31.610Z"
   },
   {
    "duration": 0,
    "start_time": "2023-01-19T17:02:31.611Z"
   },
   {
    "duration": 1064,
    "start_time": "2023-01-19T17:03:22.306Z"
   },
   {
    "duration": 25,
    "start_time": "2023-01-19T17:03:23.372Z"
   },
   {
    "duration": 12,
    "start_time": "2023-01-19T17:03:23.400Z"
   },
   {
    "duration": 18,
    "start_time": "2023-01-19T17:03:23.413Z"
   },
   {
    "duration": 6,
    "start_time": "2023-01-19T17:03:23.432Z"
   },
   {
    "duration": 5,
    "start_time": "2023-01-19T17:03:23.439Z"
   },
   {
    "duration": 7,
    "start_time": "2023-01-19T17:03:23.446Z"
   },
   {
    "duration": 963,
    "start_time": "2023-01-19T17:03:23.455Z"
   },
   {
    "duration": 4549,
    "start_time": "2023-01-19T17:03:24.420Z"
   },
   {
    "duration": 30,
    "start_time": "2023-01-19T17:03:28.971Z"
   },
   {
    "duration": 4444,
    "start_time": "2023-01-19T17:04:29.347Z"
   },
   {
    "duration": 24,
    "start_time": "2023-01-19T17:05:33.630Z"
   },
   {
    "duration": 963,
    "start_time": "2023-01-19T17:06:46.546Z"
   },
   {
    "duration": 203,
    "start_time": "2023-01-19T17:07:38.101Z"
   },
   {
    "duration": 222,
    "start_time": "2023-01-19T17:07:47.948Z"
   },
   {
    "duration": 207,
    "start_time": "2023-01-19T17:07:56.766Z"
   },
   {
    "duration": 25,
    "start_time": "2023-01-19T17:13:29.570Z"
   },
   {
    "duration": 13,
    "start_time": "2023-01-19T17:21:02.393Z"
   },
   {
    "duration": 10,
    "start_time": "2023-01-19T17:23:18.498Z"
   },
   {
    "duration": 10,
    "start_time": "2023-01-19T17:23:51.826Z"
   },
   {
    "duration": 9,
    "start_time": "2023-01-19T17:23:53.688Z"
   },
   {
    "duration": 3739,
    "start_time": "2023-01-19T17:25:36.274Z"
   },
   {
    "duration": 4864,
    "start_time": "2023-01-19T17:25:58.295Z"
   },
   {
    "duration": 5012,
    "start_time": "2023-01-19T17:26:09.649Z"
   },
   {
    "duration": 4823,
    "start_time": "2023-01-19T17:26:43.929Z"
   },
   {
    "duration": 183,
    "start_time": "2023-01-19T17:27:12.445Z"
   },
   {
    "duration": 105,
    "start_time": "2023-01-19T17:27:34.323Z"
   },
   {
    "duration": 4837,
    "start_time": "2023-01-19T17:28:48.641Z"
   },
   {
    "duration": 5120,
    "start_time": "2023-01-19T17:29:04.017Z"
   },
   {
    "duration": 27,
    "start_time": "2023-01-19T17:39:13.575Z"
   },
   {
    "duration": 31,
    "start_time": "2023-01-19T17:39:19.414Z"
   },
   {
    "duration": 25,
    "start_time": "2023-01-19T17:39:29.056Z"
   },
   {
    "duration": 15,
    "start_time": "2023-01-19T17:39:37.339Z"
   },
   {
    "duration": 28,
    "start_time": "2023-01-19T17:39:44.325Z"
   },
   {
    "duration": 30,
    "start_time": "2023-01-19T17:39:50.985Z"
   },
   {
    "duration": 7,
    "start_time": "2023-01-19T17:40:51.413Z"
   },
   {
    "duration": 7,
    "start_time": "2023-01-19T17:41:10.600Z"
   },
   {
    "duration": 24,
    "start_time": "2023-01-19T17:42:21.227Z"
   },
   {
    "duration": 209,
    "start_time": "2023-01-19T17:44:24.442Z"
   },
   {
    "duration": 233,
    "start_time": "2023-01-19T17:44:53.970Z"
   },
   {
    "duration": 1101,
    "start_time": "2023-01-19T17:45:27.224Z"
   },
   {
    "duration": 26,
    "start_time": "2023-01-19T17:45:32.017Z"
   },
   {
    "duration": 13,
    "start_time": "2023-01-19T17:45:33.212Z"
   },
   {
    "duration": 20,
    "start_time": "2023-01-19T17:45:37.080Z"
   },
   {
    "duration": 8,
    "start_time": "2023-01-19T17:45:48.140Z"
   },
   {
    "duration": 5,
    "start_time": "2023-01-19T17:45:49.895Z"
   },
   {
    "duration": 6,
    "start_time": "2023-01-19T17:45:59.641Z"
   },
   {
    "duration": 96,
    "start_time": "2023-01-19T17:46:06.643Z"
   },
   {
    "duration": 228,
    "start_time": "2023-01-19T17:46:23.416Z"
   },
   {
    "duration": 11,
    "start_time": "2023-01-19T17:46:38.627Z"
   },
   {
    "duration": 11,
    "start_time": "2023-01-19T17:46:52.253Z"
   },
   {
    "duration": 5145,
    "start_time": "2023-01-19T17:47:41.373Z"
   },
   {
    "duration": 6,
    "start_time": "2023-01-19T17:53:57.080Z"
   },
   {
    "duration": 7,
    "start_time": "2023-01-19T17:54:08.192Z"
   },
   {
    "duration": 7,
    "start_time": "2023-01-19T17:55:05.554Z"
   },
   {
    "duration": 19,
    "start_time": "2023-01-19T17:56:24.617Z"
   },
   {
    "duration": 10,
    "start_time": "2023-01-19T17:57:38.277Z"
   },
   {
    "duration": 38,
    "start_time": "2023-01-19T17:57:44.135Z"
   },
   {
    "duration": 6,
    "start_time": "2023-01-19T17:57:47.877Z"
   },
   {
    "duration": 1129,
    "start_time": "2023-01-19T18:08:51.273Z"
   },
   {
    "duration": 26,
    "start_time": "2023-01-19T18:08:52.404Z"
   },
   {
    "duration": 26,
    "start_time": "2023-01-19T18:08:52.431Z"
   },
   {
    "duration": 61,
    "start_time": "2023-01-19T18:08:52.459Z"
   },
   {
    "duration": 26,
    "start_time": "2023-01-19T18:08:52.524Z"
   },
   {
    "duration": 73,
    "start_time": "2023-01-19T18:08:52.552Z"
   },
   {
    "duration": 101,
    "start_time": "2023-01-19T18:08:52.627Z"
   },
   {
    "duration": 262,
    "start_time": "2023-01-19T18:08:52.730Z"
   },
   {
    "duration": 14,
    "start_time": "2023-01-19T18:08:52.999Z"
   },
   {
    "duration": 31,
    "start_time": "2023-01-19T18:08:53.014Z"
   },
   {
    "duration": 4998,
    "start_time": "2023-01-19T18:08:53.047Z"
   },
   {
    "duration": 24,
    "start_time": "2023-01-19T18:08:58.046Z"
   },
   {
    "duration": 35,
    "start_time": "2023-01-19T18:08:58.071Z"
   },
   {
    "duration": 58,
    "start_time": "2023-01-19T18:08:58.108Z"
   },
   {
    "duration": 92,
    "start_time": "2023-01-19T18:08:58.167Z"
   },
   {
    "duration": 1155,
    "start_time": "2023-01-19T18:17:01.341Z"
   },
   {
    "duration": 32,
    "start_time": "2023-01-19T18:17:02.499Z"
   },
   {
    "duration": 22,
    "start_time": "2023-01-19T18:17:02.534Z"
   },
   {
    "duration": 42,
    "start_time": "2023-01-19T18:17:02.561Z"
   },
   {
    "duration": 11,
    "start_time": "2023-01-19T18:17:02.606Z"
   },
   {
    "duration": 7,
    "start_time": "2023-01-19T18:17:02.619Z"
   },
   {
    "duration": 14,
    "start_time": "2023-01-19T18:17:02.627Z"
   },
   {
    "duration": 366,
    "start_time": "2023-01-19T18:17:02.643Z"
   },
   {
    "duration": 17,
    "start_time": "2023-01-19T18:17:03.011Z"
   },
   {
    "duration": 11,
    "start_time": "2023-01-19T18:17:03.031Z"
   },
   {
    "duration": 5278,
    "start_time": "2023-01-19T18:17:03.044Z"
   },
   {
    "duration": 29,
    "start_time": "2023-01-19T18:17:08.324Z"
   },
   {
    "duration": 6,
    "start_time": "2023-01-19T18:17:08.355Z"
   },
   {
    "duration": 40,
    "start_time": "2023-01-19T18:17:08.364Z"
   },
   {
    "duration": 6,
    "start_time": "2023-01-19T18:17:08.406Z"
   },
   {
    "duration": 52,
    "start_time": "2023-01-20T06:36:17.276Z"
   },
   {
    "duration": 1121,
    "start_time": "2023-01-20T06:36:24.721Z"
   },
   {
    "duration": 72,
    "start_time": "2023-01-20T06:36:29.865Z"
   },
   {
    "duration": 1106,
    "start_time": "2023-01-20T06:36:42.052Z"
   },
   {
    "duration": 138,
    "start_time": "2023-01-20T06:36:43.160Z"
   },
   {
    "duration": 13,
    "start_time": "2023-01-20T06:36:43.300Z"
   },
   {
    "duration": 24,
    "start_time": "2023-01-20T06:36:43.315Z"
   },
   {
    "duration": 14,
    "start_time": "2023-01-20T06:36:43.341Z"
   },
   {
    "duration": 4,
    "start_time": "2023-01-20T06:36:43.357Z"
   },
   {
    "duration": 23,
    "start_time": "2023-01-20T06:36:43.362Z"
   },
   {
    "duration": 272,
    "start_time": "2023-01-20T06:36:43.387Z"
   },
   {
    "duration": 10,
    "start_time": "2023-01-20T06:36:43.661Z"
   },
   {
    "duration": 28,
    "start_time": "2023-01-20T06:36:43.674Z"
   },
   {
    "duration": 5329,
    "start_time": "2023-01-20T06:36:43.703Z"
   },
   {
    "duration": 25,
    "start_time": "2023-01-20T06:36:49.033Z"
   },
   {
    "duration": 6,
    "start_time": "2023-01-20T06:36:49.059Z"
   },
   {
    "duration": 40,
    "start_time": "2023-01-20T06:36:49.066Z"
   },
   {
    "duration": 7,
    "start_time": "2023-01-20T06:36:49.108Z"
   },
   {
    "duration": 6,
    "start_time": "2023-01-20T06:36:49.117Z"
   },
   {
    "duration": 5,
    "start_time": "2023-01-20T06:42:02.365Z"
   },
   {
    "duration": 5,
    "start_time": "2023-01-20T06:42:19.882Z"
   },
   {
    "duration": 7,
    "start_time": "2023-01-20T06:42:48.588Z"
   },
   {
    "duration": 6,
    "start_time": "2023-01-20T06:53:03.120Z"
   },
   {
    "duration": 2938,
    "start_time": "2023-01-20T07:27:11.576Z"
   },
   {
    "duration": 224,
    "start_time": "2023-01-20T07:27:14.517Z"
   },
   {
    "duration": 27,
    "start_time": "2023-01-20T07:27:14.742Z"
   },
   {
    "duration": 59,
    "start_time": "2023-01-20T07:27:14.772Z"
   },
   {
    "duration": 10,
    "start_time": "2023-01-20T07:27:14.833Z"
   },
   {
    "duration": 53,
    "start_time": "2023-01-20T07:27:14.845Z"
   },
   {
    "duration": 17,
    "start_time": "2023-01-20T07:27:14.900Z"
   },
   {
    "duration": 318,
    "start_time": "2023-01-20T07:27:14.919Z"
   },
   {
    "duration": 17,
    "start_time": "2023-01-20T07:27:15.239Z"
   },
   {
    "duration": 48,
    "start_time": "2023-01-20T07:27:15.259Z"
   },
   {
    "duration": 7132,
    "start_time": "2023-01-20T07:27:15.309Z"
   },
   {
    "duration": 74,
    "start_time": "2023-01-20T07:27:22.444Z"
   },
   {
    "duration": 8,
    "start_time": "2023-01-20T07:27:22.520Z"
   },
   {
    "duration": 43,
    "start_time": "2023-01-20T07:27:22.530Z"
   },
   {
    "duration": 30,
    "start_time": "2023-01-20T07:27:22.580Z"
   },
   {
    "duration": 8,
    "start_time": "2023-01-20T07:27:22.612Z"
   },
   {
    "duration": 111,
    "start_time": "2023-01-20T07:43:59.637Z"
   },
   {
    "duration": 5372,
    "start_time": "2023-01-20T07:50:52.027Z"
   },
   {
    "duration": 5290,
    "start_time": "2023-01-20T07:55:51.921Z"
   },
   {
    "duration": 2,
    "start_time": "2023-01-20T07:56:41.382Z"
   },
   {
    "duration": 111,
    "start_time": "2023-01-20T07:56:42.319Z"
   },
   {
    "duration": 4,
    "start_time": "2023-01-20T07:56:43.613Z"
   },
   {
    "duration": 6,
    "start_time": "2023-01-20T07:58:11.453Z"
   },
   {
    "duration": 5,
    "start_time": "2023-01-20T07:59:31.548Z"
   },
   {
    "duration": 6,
    "start_time": "2023-01-20T08:02:45.507Z"
   },
   {
    "duration": 4,
    "start_time": "2023-01-20T08:02:48.458Z"
   },
   {
    "duration": 6,
    "start_time": "2023-01-20T08:02:49.465Z"
   },
   {
    "duration": 6,
    "start_time": "2023-01-20T08:04:04.343Z"
   },
   {
    "duration": 10,
    "start_time": "2023-01-20T08:04:05.410Z"
   },
   {
    "duration": 6,
    "start_time": "2023-01-20T08:04:07.455Z"
   },
   {
    "duration": 112,
    "start_time": "2023-01-20T08:07:46.573Z"
   },
   {
    "duration": 16,
    "start_time": "2023-01-20T08:08:43.044Z"
   },
   {
    "duration": 17,
    "start_time": "2023-01-20T08:09:07.798Z"
   },
   {
    "duration": 15,
    "start_time": "2023-01-20T08:10:17.172Z"
   },
   {
    "duration": 37,
    "start_time": "2023-01-20T08:14:47.344Z"
   },
   {
    "duration": 17,
    "start_time": "2023-01-20T08:16:51.532Z"
   },
   {
    "duration": 19,
    "start_time": "2023-01-20T08:17:10.067Z"
   },
   {
    "duration": 17,
    "start_time": "2023-01-20T08:17:22.846Z"
   },
   {
    "duration": 7,
    "start_time": "2023-01-20T08:17:29.022Z"
   },
   {
    "duration": 5,
    "start_time": "2023-01-20T08:17:31.756Z"
   },
   {
    "duration": 1082,
    "start_time": "2023-01-20T08:17:40.152Z"
   },
   {
    "duration": 29,
    "start_time": "2023-01-20T08:17:41.236Z"
   },
   {
    "duration": 14,
    "start_time": "2023-01-20T08:17:41.266Z"
   },
   {
    "duration": 31,
    "start_time": "2023-01-20T08:17:41.282Z"
   },
   {
    "duration": 8,
    "start_time": "2023-01-20T08:17:41.315Z"
   },
   {
    "duration": 6,
    "start_time": "2023-01-20T08:17:41.325Z"
   },
   {
    "duration": 13,
    "start_time": "2023-01-20T08:17:41.333Z"
   },
   {
    "duration": 265,
    "start_time": "2023-01-20T08:17:41.348Z"
   },
   {
    "duration": 16,
    "start_time": "2023-01-20T08:17:41.615Z"
   },
   {
    "duration": 12,
    "start_time": "2023-01-20T08:17:41.634Z"
   },
   {
    "duration": 5255,
    "start_time": "2023-01-20T08:17:41.648Z"
   },
   {
    "duration": 39,
    "start_time": "2023-01-20T08:17:46.909Z"
   },
   {
    "duration": 2,
    "start_time": "2023-01-20T08:17:46.950Z"
   },
   {
    "duration": 123,
    "start_time": "2023-01-20T08:17:46.954Z"
   },
   {
    "duration": 2,
    "start_time": "2023-01-20T08:17:47.079Z"
   },
   {
    "duration": 23,
    "start_time": "2023-01-20T08:17:47.091Z"
   },
   {
    "duration": 24,
    "start_time": "2023-01-20T08:17:47.117Z"
   },
   {
    "duration": 34,
    "start_time": "2023-01-20T08:17:47.143Z"
   },
   {
    "duration": 109,
    "start_time": "2023-01-20T08:30:15.745Z"
   },
   {
    "duration": 116,
    "start_time": "2023-01-20T08:31:31.594Z"
   },
   {
    "duration": 111,
    "start_time": "2023-01-20T08:32:31.720Z"
   },
   {
    "duration": 45,
    "start_time": "2023-01-20T10:57:34.152Z"
   },
   {
    "duration": 8,
    "start_time": "2023-01-20T10:57:38.373Z"
   },
   {
    "duration": 1266,
    "start_time": "2023-01-20T10:57:42.981Z"
   },
   {
    "duration": 60,
    "start_time": "2023-01-20T10:57:44.249Z"
   },
   {
    "duration": 12,
    "start_time": "2023-01-20T10:57:44.311Z"
   },
   {
    "duration": 49,
    "start_time": "2023-01-20T10:57:44.325Z"
   },
   {
    "duration": 138,
    "start_time": "2023-01-20T10:57:44.376Z"
   },
   {
    "duration": 1,
    "start_time": "2023-01-20T10:57:44.515Z"
   },
   {
    "duration": 0,
    "start_time": "2023-01-20T10:57:44.517Z"
   },
   {
    "duration": 0,
    "start_time": "2023-01-20T10:57:44.518Z"
   },
   {
    "duration": 0,
    "start_time": "2023-01-20T10:57:44.519Z"
   },
   {
    "duration": 0,
    "start_time": "2023-01-20T10:57:44.520Z"
   },
   {
    "duration": 0,
    "start_time": "2023-01-20T10:57:44.521Z"
   },
   {
    "duration": 0,
    "start_time": "2023-01-20T10:57:44.522Z"
   },
   {
    "duration": 0,
    "start_time": "2023-01-20T10:57:44.524Z"
   },
   {
    "duration": 0,
    "start_time": "2023-01-20T10:57:44.525Z"
   },
   {
    "duration": 0,
    "start_time": "2023-01-20T10:57:44.525Z"
   },
   {
    "duration": 0,
    "start_time": "2023-01-20T10:57:44.527Z"
   },
   {
    "duration": 0,
    "start_time": "2023-01-20T10:57:44.529Z"
   },
   {
    "duration": 0,
    "start_time": "2023-01-20T10:57:44.529Z"
   },
   {
    "duration": 26,
    "start_time": "2023-01-20T10:58:55.396Z"
   },
   {
    "duration": 1098,
    "start_time": "2023-01-20T10:59:06.113Z"
   },
   {
    "duration": 24,
    "start_time": "2023-01-20T10:59:07.213Z"
   },
   {
    "duration": 12,
    "start_time": "2023-01-20T10:59:07.238Z"
   },
   {
    "duration": 26,
    "start_time": "2023-01-20T10:59:07.252Z"
   },
   {
    "duration": 17,
    "start_time": "2023-01-20T10:59:07.280Z"
   },
   {
    "duration": 10,
    "start_time": "2023-01-20T10:59:07.298Z"
   },
   {
    "duration": 11,
    "start_time": "2023-01-20T10:59:07.309Z"
   },
   {
    "duration": 222,
    "start_time": "2023-01-20T10:59:07.322Z"
   },
   {
    "duration": 11,
    "start_time": "2023-01-20T10:59:07.545Z"
   },
   {
    "duration": 7,
    "start_time": "2023-01-20T10:59:07.558Z"
   },
   {
    "duration": 5097,
    "start_time": "2023-01-20T10:59:07.566Z"
   },
   {
    "duration": 46,
    "start_time": "2023-01-20T10:59:12.665Z"
   },
   {
    "duration": 2,
    "start_time": "2023-01-20T10:59:12.713Z"
   },
   {
    "duration": 103,
    "start_time": "2023-01-20T10:59:12.717Z"
   },
   {
    "duration": 2,
    "start_time": "2023-01-20T10:59:12.822Z"
   },
   {
    "duration": 14,
    "start_time": "2023-01-20T10:59:12.826Z"
   },
   {
    "duration": 12,
    "start_time": "2023-01-20T10:59:12.841Z"
   },
   {
    "duration": 13,
    "start_time": "2023-01-20T10:59:12.855Z"
   },
   {
    "duration": 1129,
    "start_time": "2023-01-29T16:09:33.685Z"
   },
   {
    "duration": 66,
    "start_time": "2023-01-29T16:09:34.816Z"
   },
   {
    "duration": 12,
    "start_time": "2023-01-29T16:09:34.884Z"
   },
   {
    "duration": 36,
    "start_time": "2023-01-29T16:09:34.898Z"
   },
   {
    "duration": 47,
    "start_time": "2023-01-29T16:09:34.936Z"
   },
   {
    "duration": 40,
    "start_time": "2023-01-29T16:09:34.985Z"
   },
   {
    "duration": 40,
    "start_time": "2023-01-29T16:09:35.027Z"
   },
   {
    "duration": 290,
    "start_time": "2023-01-29T16:09:35.068Z"
   },
   {
    "duration": 11,
    "start_time": "2023-01-29T16:09:35.360Z"
   },
   {
    "duration": 30,
    "start_time": "2023-01-29T16:09:35.373Z"
   },
   {
    "duration": 5241,
    "start_time": "2023-01-29T16:09:35.404Z"
   },
   {
    "duration": 41,
    "start_time": "2023-01-29T16:09:40.647Z"
   },
   {
    "duration": 3,
    "start_time": "2023-01-29T16:09:40.690Z"
   },
   {
    "duration": 119,
    "start_time": "2023-01-29T16:09:40.695Z"
   },
   {
    "duration": 3,
    "start_time": "2023-01-29T16:09:40.815Z"
   },
   {
    "duration": 20,
    "start_time": "2023-01-29T16:09:40.820Z"
   },
   {
    "duration": 6,
    "start_time": "2023-01-29T16:09:40.841Z"
   },
   {
    "duration": 6,
    "start_time": "2023-01-29T16:09:40.848Z"
   }
  ],
  "kernelspec": {
   "display_name": "Python 3 (ipykernel)",
   "language": "python",
   "name": "python3"
  },
  "language_info": {
   "codemirror_mode": {
    "name": "ipython",
    "version": 3
   },
   "file_extension": ".py",
   "mimetype": "text/x-python",
   "name": "python",
   "nbconvert_exporter": "python",
   "pygments_lexer": "ipython3",
   "version": "3.11.4"
  },
  "toc": {
   "base_numbering": 1,
   "nav_menu": {},
   "number_sections": true,
   "sideBar": true,
   "skip_h1_title": true,
   "title_cell": "Table of Contents",
   "title_sidebar": "Contents",
   "toc_cell": false,
   "toc_position": {},
   "toc_section_display": true,
   "toc_window_display": false
  }
 },
 "nbformat": 4,
 "nbformat_minor": 2
}
