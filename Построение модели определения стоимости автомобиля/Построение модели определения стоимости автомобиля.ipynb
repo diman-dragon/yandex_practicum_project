{
 "cells": [
  {
   "cell_type": "markdown",
   "metadata": {},
   "source": [
    "# Определение стоимости автомобилей"
   ]
  },
  {
   "cell_type": "markdown",
   "metadata": {},
   "source": [
    "Сервис по продаже автомобилей с пробегом «Не бит, не крашен» разрабатывает приложение для привлечения новых клиентов. В нём можно быстро узнать рыночную стоимость своего автомобиля. В вашем распоряжении исторические данные: технические характеристики, комплектации и цены автомобилей. Вам нужно построить модель для определения стоимости. \n",
    "\n",
    "Заказчику важны:\n",
    "\n",
    "- качество предсказания;\n",
    "- скорость предсказания;\n",
    "- время обучения."
   ]
  },
  {
   "cell_type": "markdown",
   "metadata": {},
   "source": [
    "# Описание данных\n",
    "Признаки\n",
    "DateCrawled — дата скачивания анкеты из базы\\\n",
    "VehicleType — тип автомобильного кузова\\\n",
    "RegistrationYear — год регистрации автомобиля\\\n",
    "Gearbox — тип коробки передач\\\n",
    "Power — мощность (л. с.)\\\n",
    "Model — модель автомобиля\\\n",
    "Kilometer — пробег (км)\\\n",
    "RegistrationMonth — месяц регистрации автомобиля\\\n",
    "FuelType — тип топлива\\\n",
    "Brand — марка автомобиля\\\n",
    "Repaired — была машина в ремонте или нет\\\n",
    "DateCreated — дата создания анкеты\\\n",
    "NumberOfPictures — количество фотографий автомобиля\\\n",
    "PostalCode — почтовый индекс владельца анкеты (пользователя)\\\n",
    "LastSeen — дата последней активности пользователя\\\n",
    "\n",
    "Целевой признак\\\n",
    "Price — цена (евро)"
   ]
  },
  {
   "cell_type": "markdown",
   "metadata": {},
   "source": [
    "# План проекта:\n",
    "\n",
    "Загрузим и изучим данные. Заполним пропущенные значения и обработам аномалии в столбцах. \\\n",
    "Удалим неинформативные признаки.\\\n",
    "Подготовим выборки для обучения моделей.\\\n",
    "Обучим разные модели: линейную регрессию, SGD - регрессию, библиотеки градиентного бустинга CatBoost и LightGBM. Для каждой модели попробуем разные гиперпараметры.\\\n",
    "Проанализируем время обучения, время предсказания и качество моделей.\\\n",
    "Выберем лучшую модель, проверим её качество на тестовой выборке.\n",
    "\n",
    "Заказчику важны:\n",
    "\n",
    "1. качество предсказания;\n",
    "2. скорость предсказания;\n",
    "3. время обучения."
   ]
  },
  {
   "cell_type": "markdown",
   "metadata": {},
   "source": [
    "## Подготовка данных"
   ]
  },
  {
   "cell_type": "code",
   "execution_count": 1,
   "metadata": {},
   "outputs": [],
   "source": [
    "import pandas as pd\n",
    "import numpy as np\n",
    "\n",
    "from datetime import datetime\n",
    "import time \n",
    "\n",
    "from numpy.random import RandomState\n",
    "state = np.random.RandomState(12345)\n",
    "\n",
    "import seaborn as sns\n",
    "import matplotlib.pyplot as plt\n",
    "\n",
    "from sklearn.linear_model import LinearRegression, SGDRegressor\n",
    "\n",
    "from catboost import CatBoostRegressor\n",
    "from lightgbm import LGBMRegressor\n",
    "\n",
    "from sklearn.model_selection import train_test_split, cross_val_score, GridSearchCV\n",
    "\n",
    "from sklearn.datasets import make_regression\n",
    "from sklearn.preprocessing import StandardScaler\n",
    "\n",
    "from sklearn.dummy import DummyRegressor\n",
    "\n",
    "from sklearn.metrics import mean_squared_error\n",
    "\n",
    "import warnings\n",
    "warnings.filterwarnings(\"ignore\")"
   ]
  },
  {
   "cell_type": "code",
   "execution_count": 2,
   "metadata": {
    "scrolled": true
   },
   "outputs": [],
   "source": [
    "data = pd.read_csv('autos.csv')"
   ]
  },
  {
   "cell_type": "code",
   "execution_count": 3,
   "metadata": {
    "scrolled": true
   },
   "outputs": [
    {
     "name": "stdout",
     "output_type": "stream",
     "text": [
      "Количество стобцов: 16\n",
      "Количество строк: 354369\n"
     ]
    },
    {
     "data": {
      "text/html": [
       "<div>\n",
       "<style scoped>\n",
       "    .dataframe tbody tr th:only-of-type {\n",
       "        vertical-align: middle;\n",
       "    }\n",
       "\n",
       "    .dataframe tbody tr th {\n",
       "        vertical-align: top;\n",
       "    }\n",
       "\n",
       "    .dataframe thead th {\n",
       "        text-align: right;\n",
       "    }\n",
       "</style>\n",
       "<table border=\"1\" class=\"dataframe\">\n",
       "  <thead>\n",
       "    <tr style=\"text-align: right;\">\n",
       "      <th></th>\n",
       "      <th>DateCrawled</th>\n",
       "      <th>Price</th>\n",
       "      <th>VehicleType</th>\n",
       "      <th>RegistrationYear</th>\n",
       "      <th>Gearbox</th>\n",
       "      <th>Power</th>\n",
       "      <th>Model</th>\n",
       "      <th>Kilometer</th>\n",
       "      <th>RegistrationMonth</th>\n",
       "      <th>FuelType</th>\n",
       "      <th>Brand</th>\n",
       "      <th>Repaired</th>\n",
       "      <th>DateCreated</th>\n",
       "      <th>NumberOfPictures</th>\n",
       "      <th>PostalCode</th>\n",
       "      <th>LastSeen</th>\n",
       "    </tr>\n",
       "  </thead>\n",
       "  <tbody>\n",
       "    <tr>\n",
       "      <th>0</th>\n",
       "      <td>2016-03-24 11:52:17</td>\n",
       "      <td>480</td>\n",
       "      <td>NaN</td>\n",
       "      <td>1993</td>\n",
       "      <td>manual</td>\n",
       "      <td>0</td>\n",
       "      <td>golf</td>\n",
       "      <td>150000</td>\n",
       "      <td>0</td>\n",
       "      <td>petrol</td>\n",
       "      <td>volkswagen</td>\n",
       "      <td>NaN</td>\n",
       "      <td>2016-03-24 00:00:00</td>\n",
       "      <td>0</td>\n",
       "      <td>70435</td>\n",
       "      <td>2016-04-07 03:16:57</td>\n",
       "    </tr>\n",
       "    <tr>\n",
       "      <th>1</th>\n",
       "      <td>2016-03-24 10:58:45</td>\n",
       "      <td>18300</td>\n",
       "      <td>coupe</td>\n",
       "      <td>2011</td>\n",
       "      <td>manual</td>\n",
       "      <td>190</td>\n",
       "      <td>NaN</td>\n",
       "      <td>125000</td>\n",
       "      <td>5</td>\n",
       "      <td>gasoline</td>\n",
       "      <td>audi</td>\n",
       "      <td>yes</td>\n",
       "      <td>2016-03-24 00:00:00</td>\n",
       "      <td>0</td>\n",
       "      <td>66954</td>\n",
       "      <td>2016-04-07 01:46:50</td>\n",
       "    </tr>\n",
       "    <tr>\n",
       "      <th>2</th>\n",
       "      <td>2016-03-14 12:52:21</td>\n",
       "      <td>9800</td>\n",
       "      <td>suv</td>\n",
       "      <td>2004</td>\n",
       "      <td>auto</td>\n",
       "      <td>163</td>\n",
       "      <td>grand</td>\n",
       "      <td>125000</td>\n",
       "      <td>8</td>\n",
       "      <td>gasoline</td>\n",
       "      <td>jeep</td>\n",
       "      <td>NaN</td>\n",
       "      <td>2016-03-14 00:00:00</td>\n",
       "      <td>0</td>\n",
       "      <td>90480</td>\n",
       "      <td>2016-04-05 12:47:46</td>\n",
       "    </tr>\n",
       "    <tr>\n",
       "      <th>3</th>\n",
       "      <td>2016-03-17 16:54:04</td>\n",
       "      <td>1500</td>\n",
       "      <td>small</td>\n",
       "      <td>2001</td>\n",
       "      <td>manual</td>\n",
       "      <td>75</td>\n",
       "      <td>golf</td>\n",
       "      <td>150000</td>\n",
       "      <td>6</td>\n",
       "      <td>petrol</td>\n",
       "      <td>volkswagen</td>\n",
       "      <td>no</td>\n",
       "      <td>2016-03-17 00:00:00</td>\n",
       "      <td>0</td>\n",
       "      <td>91074</td>\n",
       "      <td>2016-03-17 17:40:17</td>\n",
       "    </tr>\n",
       "    <tr>\n",
       "      <th>4</th>\n",
       "      <td>2016-03-31 17:25:20</td>\n",
       "      <td>3600</td>\n",
       "      <td>small</td>\n",
       "      <td>2008</td>\n",
       "      <td>manual</td>\n",
       "      <td>69</td>\n",
       "      <td>fabia</td>\n",
       "      <td>90000</td>\n",
       "      <td>7</td>\n",
       "      <td>gasoline</td>\n",
       "      <td>skoda</td>\n",
       "      <td>no</td>\n",
       "      <td>2016-03-31 00:00:00</td>\n",
       "      <td>0</td>\n",
       "      <td>60437</td>\n",
       "      <td>2016-04-06 10:17:21</td>\n",
       "    </tr>\n",
       "  </tbody>\n",
       "</table>\n",
       "</div>"
      ],
      "text/plain": [
       "           DateCrawled  Price VehicleType  RegistrationYear Gearbox  Power  \\\n",
       "0  2016-03-24 11:52:17    480         NaN              1993  manual      0   \n",
       "1  2016-03-24 10:58:45  18300       coupe              2011  manual    190   \n",
       "2  2016-03-14 12:52:21   9800         suv              2004    auto    163   \n",
       "3  2016-03-17 16:54:04   1500       small              2001  manual     75   \n",
       "4  2016-03-31 17:25:20   3600       small              2008  manual     69   \n",
       "\n",
       "   Model  Kilometer  RegistrationMonth  FuelType       Brand Repaired  \\\n",
       "0   golf     150000                  0    petrol  volkswagen      NaN   \n",
       "1    NaN     125000                  5  gasoline        audi      yes   \n",
       "2  grand     125000                  8  gasoline        jeep      NaN   \n",
       "3   golf     150000                  6    petrol  volkswagen       no   \n",
       "4  fabia      90000                  7  gasoline       skoda       no   \n",
       "\n",
       "           DateCreated  NumberOfPictures  PostalCode             LastSeen  \n",
       "0  2016-03-24 00:00:00                 0       70435  2016-04-07 03:16:57  \n",
       "1  2016-03-24 00:00:00                 0       66954  2016-04-07 01:46:50  \n",
       "2  2016-03-14 00:00:00                 0       90480  2016-04-05 12:47:46  \n",
       "3  2016-03-17 00:00:00                 0       91074  2016-03-17 17:40:17  \n",
       "4  2016-03-31 00:00:00                 0       60437  2016-04-06 10:17:21  "
      ]
     },
     "metadata": {},
     "output_type": "display_data"
    },
    {
     "name": "stdout",
     "output_type": "stream",
     "text": [
      "<class 'pandas.core.frame.DataFrame'>\n",
      "RangeIndex: 354369 entries, 0 to 354368\n",
      "Data columns (total 16 columns):\n",
      " #   Column             Non-Null Count   Dtype \n",
      "---  ------             --------------   ----- \n",
      " 0   DateCrawled        354369 non-null  object\n",
      " 1   Price              354369 non-null  int64 \n",
      " 2   VehicleType        316879 non-null  object\n",
      " 3   RegistrationYear   354369 non-null  int64 \n",
      " 4   Gearbox            334536 non-null  object\n",
      " 5   Power              354369 non-null  int64 \n",
      " 6   Model              334664 non-null  object\n",
      " 7   Kilometer          354369 non-null  int64 \n",
      " 8   RegistrationMonth  354369 non-null  int64 \n",
      " 9   FuelType           321474 non-null  object\n",
      " 10  Brand              354369 non-null  object\n",
      " 11  Repaired           283215 non-null  object\n",
      " 12  DateCreated        354369 non-null  object\n",
      " 13  NumberOfPictures   354369 non-null  int64 \n",
      " 14  PostalCode         354369 non-null  int64 \n",
      " 15  LastSeen           354369 non-null  object\n",
      "dtypes: int64(7), object(9)\n",
      "memory usage: 43.3+ MB\n"
     ]
    }
   ],
   "source": [
    "print('Количество стобцов:', data.shape[1])\n",
    "print('Количество строк:', data.shape[0])\n",
    "display(data.head())\n",
    "data.info()"
   ]
  },
  {
   "cell_type": "code",
   "execution_count": 4,
   "metadata": {},
   "outputs": [
    {
     "data": {
      "text/html": [
       "<div>\n",
       "<style scoped>\n",
       "    .dataframe tbody tr th:only-of-type {\n",
       "        vertical-align: middle;\n",
       "    }\n",
       "\n",
       "    .dataframe tbody tr th {\n",
       "        vertical-align: top;\n",
       "    }\n",
       "\n",
       "    .dataframe thead th {\n",
       "        text-align: right;\n",
       "    }\n",
       "</style>\n",
       "<table border=\"1\" class=\"dataframe\">\n",
       "  <thead>\n",
       "    <tr style=\"text-align: right;\">\n",
       "      <th></th>\n",
       "      <th>count</th>\n",
       "      <th>mean</th>\n",
       "      <th>std</th>\n",
       "      <th>min</th>\n",
       "      <th>25%</th>\n",
       "      <th>50%</th>\n",
       "      <th>75%</th>\n",
       "      <th>max</th>\n",
       "    </tr>\n",
       "  </thead>\n",
       "  <tbody>\n",
       "    <tr>\n",
       "      <th>Price</th>\n",
       "      <td>354369.0</td>\n",
       "      <td>4416.656776</td>\n",
       "      <td>4514.158514</td>\n",
       "      <td>0.0</td>\n",
       "      <td>1050.0</td>\n",
       "      <td>2700.0</td>\n",
       "      <td>6400.0</td>\n",
       "      <td>20000.0</td>\n",
       "    </tr>\n",
       "    <tr>\n",
       "      <th>RegistrationYear</th>\n",
       "      <td>354369.0</td>\n",
       "      <td>2004.234448</td>\n",
       "      <td>90.227958</td>\n",
       "      <td>1000.0</td>\n",
       "      <td>1999.0</td>\n",
       "      <td>2003.0</td>\n",
       "      <td>2008.0</td>\n",
       "      <td>9999.0</td>\n",
       "    </tr>\n",
       "    <tr>\n",
       "      <th>Power</th>\n",
       "      <td>354369.0</td>\n",
       "      <td>110.094337</td>\n",
       "      <td>189.850405</td>\n",
       "      <td>0.0</td>\n",
       "      <td>69.0</td>\n",
       "      <td>105.0</td>\n",
       "      <td>143.0</td>\n",
       "      <td>20000.0</td>\n",
       "    </tr>\n",
       "    <tr>\n",
       "      <th>Kilometer</th>\n",
       "      <td>354369.0</td>\n",
       "      <td>128211.172535</td>\n",
       "      <td>37905.341530</td>\n",
       "      <td>5000.0</td>\n",
       "      <td>125000.0</td>\n",
       "      <td>150000.0</td>\n",
       "      <td>150000.0</td>\n",
       "      <td>150000.0</td>\n",
       "    </tr>\n",
       "    <tr>\n",
       "      <th>RegistrationMonth</th>\n",
       "      <td>354369.0</td>\n",
       "      <td>5.714645</td>\n",
       "      <td>3.726421</td>\n",
       "      <td>0.0</td>\n",
       "      <td>3.0</td>\n",
       "      <td>6.0</td>\n",
       "      <td>9.0</td>\n",
       "      <td>12.0</td>\n",
       "    </tr>\n",
       "    <tr>\n",
       "      <th>NumberOfPictures</th>\n",
       "      <td>354369.0</td>\n",
       "      <td>0.000000</td>\n",
       "      <td>0.000000</td>\n",
       "      <td>0.0</td>\n",
       "      <td>0.0</td>\n",
       "      <td>0.0</td>\n",
       "      <td>0.0</td>\n",
       "      <td>0.0</td>\n",
       "    </tr>\n",
       "    <tr>\n",
       "      <th>PostalCode</th>\n",
       "      <td>354369.0</td>\n",
       "      <td>50508.689087</td>\n",
       "      <td>25783.096248</td>\n",
       "      <td>1067.0</td>\n",
       "      <td>30165.0</td>\n",
       "      <td>49413.0</td>\n",
       "      <td>71083.0</td>\n",
       "      <td>99998.0</td>\n",
       "    </tr>\n",
       "  </tbody>\n",
       "</table>\n",
       "</div>"
      ],
      "text/plain": [
       "                      count           mean           std     min       25%  \\\n",
       "Price              354369.0    4416.656776   4514.158514     0.0    1050.0   \n",
       "RegistrationYear   354369.0    2004.234448     90.227958  1000.0    1999.0   \n",
       "Power              354369.0     110.094337    189.850405     0.0      69.0   \n",
       "Kilometer          354369.0  128211.172535  37905.341530  5000.0  125000.0   \n",
       "RegistrationMonth  354369.0       5.714645      3.726421     0.0       3.0   \n",
       "NumberOfPictures   354369.0       0.000000      0.000000     0.0       0.0   \n",
       "PostalCode         354369.0   50508.689087  25783.096248  1067.0   30165.0   \n",
       "\n",
       "                        50%       75%       max  \n",
       "Price                2700.0    6400.0   20000.0  \n",
       "RegistrationYear     2003.0    2008.0    9999.0  \n",
       "Power                 105.0     143.0   20000.0  \n",
       "Kilometer          150000.0  150000.0  150000.0  \n",
       "RegistrationMonth       6.0       9.0      12.0  \n",
       "NumberOfPictures        0.0       0.0       0.0  \n",
       "PostalCode          49413.0   71083.0   99998.0  "
      ]
     },
     "execution_count": 4,
     "metadata": {},
     "output_type": "execute_result"
    }
   ],
   "source": [
    "data.describe().T"
   ]
  },
  {
   "cell_type": "code",
   "execution_count": 5,
   "metadata": {},
   "outputs": [
    {
     "name": "stdout",
     "output_type": "stream",
     "text": [
      "<class 'pandas.core.frame.DataFrame'>\n",
      "RangeIndex: 354369 entries, 0 to 354368\n",
      "Data columns (total 16 columns):\n",
      " #   Column             Non-Null Count   Dtype \n",
      "---  ------             --------------   ----- \n",
      " 0   DateCrawled        354369 non-null  object\n",
      " 1   Price              354369 non-null  int64 \n",
      " 2   VehicleType        316879 non-null  object\n",
      " 3   RegistrationYear   354369 non-null  int64 \n",
      " 4   Gearbox            334536 non-null  object\n",
      " 5   Power              354369 non-null  int64 \n",
      " 6   Model              334664 non-null  object\n",
      " 7   Kilometer          354369 non-null  int64 \n",
      " 8   RegistrationMonth  354369 non-null  int64 \n",
      " 9   FuelType           321474 non-null  object\n",
      " 10  Brand              354369 non-null  object\n",
      " 11  Repaired           283215 non-null  object\n",
      " 12  DateCreated        354369 non-null  object\n",
      " 13  NumberOfPictures   354369 non-null  int64 \n",
      " 14  PostalCode         354369 non-null  int64 \n",
      " 15  LastSeen           354369 non-null  object\n",
      "dtypes: int64(7), object(9)\n",
      "memory usage: 43.3+ MB\n"
     ]
    }
   ],
   "source": [
    "data.info()"
   ]
  },
  {
   "cell_type": "code",
   "execution_count": 6,
   "metadata": {},
   "outputs": [],
   "source": [
    "# Создадим функции для отрисовки графиков\n",
    "def function_digital(data, columns):\n",
    "    plt.figure(figsize=(20,10), dpi= 80)\n",
    "    sns.kdeplot(data[columns], label=columns, shade=True, color=\"y\", alpha=1)\n",
    "    plt.title(columns, fontsize=22)\n",
    "    plt.legend()\n",
    "    plt.show()\n"
   ]
  },
  {
   "cell_type": "code",
   "execution_count": 7,
   "metadata": {},
   "outputs": [],
   "source": [
    "dig_features = ['Price', 'RegistrationYear', 'Power', 'Kilometer']"
   ]
  },
  {
   "cell_type": "code",
   "execution_count": 8,
   "metadata": {},
   "outputs": [
    {
     "data": {
      "image/png": "[encoded data removed]",
      "text/plain": [
       "<Figure size 1600x800 with 1 Axes>"
      ]
     },
     "metadata": {},
     "output_type": "display_data"
    },
    {
     "data": {
      "image/png": "[encoded data removed]",
      "text/plain": [
       "<Figure size 1600x800 with 1 Axes>"
      ]
     },
     "metadata": {},
     "output_type": "display_data"
    },
    {
     "data": {
      "image/png": "[encoded data removed]",
      "text/plain": [
       "<Figure size 1600x800 with 1 Axes>"
      ]
     },
     "metadata": {},
     "output_type": "display_data"
    },
    {
     "data": {
      "image/png": "[encoded data removed]",
      "text/plain": [
       "<Figure size 1600x800 with 1 Axes>"
      ]
     },
     "metadata": {},
     "output_type": "display_data"
    }
   ],
   "source": [
    "for i in dig_features:\n",
    "    function_digital(data, i)"
   ]
  },
  {
   "cell_type": "code",
   "execution_count": 9,
   "metadata": {
    "scrolled": false
   },
   "outputs": [
    {
     "data": {
      "text/plain": [
       "4"
      ]
     },
     "execution_count": 9,
     "metadata": {},
     "output_type": "execute_result"
    }
   ],
   "source": [
    "# Проверим на наличие дупликатов\n",
    "data.duplicated().sum()"
   ]
  },
  {
   "cell_type": "code",
   "execution_count": 10,
   "metadata": {},
   "outputs": [
    {
     "data": {
      "text/plain": [
       "0"
      ]
     },
     "execution_count": 10,
     "metadata": {},
     "output_type": "execute_result"
    }
   ],
   "source": [
    "# Удалим дубликаты\n",
    "data = data.drop_duplicates()\n",
    "data.duplicated().sum()"
   ]
  },
  {
   "cell_type": "code",
   "execution_count": 11,
   "metadata": {},
   "outputs": [],
   "source": [
    "# Столбцы 'DateCrawled','NumberOfPictures', 'PostalCode', 'DateCreated', 'LastSeen' \n",
    "# не влияют на стоимость автомобиля, поэтому их удалим\n",
    "data = data.drop(['DateCrawled','NumberOfPictures', 'PostalCode', 'DateCreated', 'LastSeen'], axis = 1)"
   ]
  },
  {
   "cell_type": "code",
   "execution_count": 12,
   "metadata": {
    "scrolled": true
   },
   "outputs": [
    {
     "data": {
      "text/html": [
       "<div>\n",
       "<style scoped>\n",
       "    .dataframe tbody tr th:only-of-type {\n",
       "        vertical-align: middle;\n",
       "    }\n",
       "\n",
       "    .dataframe tbody tr th {\n",
       "        vertical-align: top;\n",
       "    }\n",
       "\n",
       "    .dataframe thead th {\n",
       "        text-align: right;\n",
       "    }\n",
       "</style>\n",
       "<table border=\"1\" class=\"dataframe\">\n",
       "  <thead>\n",
       "    <tr style=\"text-align: right;\">\n",
       "      <th></th>\n",
       "      <th>Price</th>\n",
       "      <th>VehicleType</th>\n",
       "      <th>RegistrationYear</th>\n",
       "      <th>Gearbox</th>\n",
       "      <th>Power</th>\n",
       "      <th>Model</th>\n",
       "      <th>Kilometer</th>\n",
       "      <th>RegistrationMonth</th>\n",
       "      <th>FuelType</th>\n",
       "      <th>Brand</th>\n",
       "      <th>Repaired</th>\n",
       "    </tr>\n",
       "  </thead>\n",
       "  <tbody>\n",
       "    <tr>\n",
       "      <th>0</th>\n",
       "      <td>480</td>\n",
       "      <td>NaN</td>\n",
       "      <td>1993</td>\n",
       "      <td>manual</td>\n",
       "      <td>0</td>\n",
       "      <td>golf</td>\n",
       "      <td>150000</td>\n",
       "      <td>0</td>\n",
       "      <td>petrol</td>\n",
       "      <td>volkswagen</td>\n",
       "      <td>NaN</td>\n",
       "    </tr>\n",
       "    <tr>\n",
       "      <th>1</th>\n",
       "      <td>18300</td>\n",
       "      <td>coupe</td>\n",
       "      <td>2011</td>\n",
       "      <td>manual</td>\n",
       "      <td>190</td>\n",
       "      <td>NaN</td>\n",
       "      <td>125000</td>\n",
       "      <td>5</td>\n",
       "      <td>gasoline</td>\n",
       "      <td>audi</td>\n",
       "      <td>yes</td>\n",
       "    </tr>\n",
       "    <tr>\n",
       "      <th>2</th>\n",
       "      <td>9800</td>\n",
       "      <td>suv</td>\n",
       "      <td>2004</td>\n",
       "      <td>auto</td>\n",
       "      <td>163</td>\n",
       "      <td>grand</td>\n",
       "      <td>125000</td>\n",
       "      <td>8</td>\n",
       "      <td>gasoline</td>\n",
       "      <td>jeep</td>\n",
       "      <td>NaN</td>\n",
       "    </tr>\n",
       "    <tr>\n",
       "      <th>3</th>\n",
       "      <td>1500</td>\n",
       "      <td>small</td>\n",
       "      <td>2001</td>\n",
       "      <td>manual</td>\n",
       "      <td>75</td>\n",
       "      <td>golf</td>\n",
       "      <td>150000</td>\n",
       "      <td>6</td>\n",
       "      <td>petrol</td>\n",
       "      <td>volkswagen</td>\n",
       "      <td>no</td>\n",
       "    </tr>\n",
       "    <tr>\n",
       "      <th>4</th>\n",
       "      <td>3600</td>\n",
       "      <td>small</td>\n",
       "      <td>2008</td>\n",
       "      <td>manual</td>\n",
       "      <td>69</td>\n",
       "      <td>fabia</td>\n",
       "      <td>90000</td>\n",
       "      <td>7</td>\n",
       "      <td>gasoline</td>\n",
       "      <td>skoda</td>\n",
       "      <td>no</td>\n",
       "    </tr>\n",
       "  </tbody>\n",
       "</table>\n",
       "</div>"
      ],
      "text/plain": [
       "   Price VehicleType  RegistrationYear Gearbox  Power  Model  Kilometer  \\\n",
       "0    480         NaN              1993  manual      0   golf     150000   \n",
       "1  18300       coupe              2011  manual    190    NaN     125000   \n",
       "2   9800         suv              2004    auto    163  grand     125000   \n",
       "3   1500       small              2001  manual     75   golf     150000   \n",
       "4   3600       small              2008  manual     69  fabia      90000   \n",
       "\n",
       "   RegistrationMonth  FuelType       Brand Repaired  \n",
       "0                  0    petrol  volkswagen      NaN  \n",
       "1                  5  gasoline        audi      yes  \n",
       "2                  8  gasoline        jeep      NaN  \n",
       "3                  6    petrol  volkswagen       no  \n",
       "4                  7  gasoline       skoda       no  "
      ]
     },
     "execution_count": 12,
     "metadata": {},
     "output_type": "execute_result"
    }
   ],
   "source": [
    "data.head()"
   ]
  },
  {
   "cell_type": "code",
   "execution_count": 13,
   "metadata": {},
   "outputs": [],
   "source": [
    "# Переименуем столбцы в соответствии с РЕР 8\n",
    "data = data.rename(columns = {'VehicleType':'vehicle_type',\n",
    "                              'RegistrationYear':'registration_year', \n",
    "                              'Gearbox' : 'gear_box',\n",
    "                              'RegistrationMonth':'registration_month', \n",
    "                              'FuelType':'fuel_type', \n",
    "                              'Repaired':'repaired'\n",
    "                             })"
   ]
  },
  {
   "cell_type": "code",
   "execution_count": 14,
   "metadata": {},
   "outputs": [],
   "source": [
    "# Переведем все названия столбцов в нижный регистр\n",
    "data.columns = data.columns.str.lower()"
   ]
  },
  {
   "cell_type": "code",
   "execution_count": 15,
   "metadata": {},
   "outputs": [
    {
     "data": {
      "text/plain": [
       "price\n",
       "0        10772\n",
       "500       5670\n",
       "1500      5394\n",
       "1000      4648\n",
       "1200      4594\n",
       "         ...  \n",
       "1368         1\n",
       "233          1\n",
       "11080        1\n",
       "16340        1\n",
       "10985        1\n",
       "Name: count, Length: 3731, dtype: int64"
      ]
     },
     "execution_count": 15,
     "metadata": {},
     "output_type": "execute_result"
    }
   ],
   "source": [
    "# Проверим целевой признак\n",
    "data['price'].value_counts()"
   ]
  },
  {
   "cell_type": "markdown",
   "metadata": {},
   "source": [
    "В данных имеется 10772 записи с ценой, равной 0. Информативность данного признака отсутствует. Удалим эти строки. Кроме того, стоимость автомобиля в 200 евро - это стоимость автомобиля на запчасти, т.е. для наших целей также не подходит. Удалим строки."
   ]
  },
  {
   "cell_type": "code",
   "execution_count": 16,
   "metadata": {},
   "outputs": [
    {
     "data": {
      "text/plain": [
       "count    336903.000000\n",
       "mean       4643.642063\n",
       "std        4515.355328\n",
       "min         200.000000\n",
       "25%        1250.000000\n",
       "50%        2950.000000\n",
       "75%        6650.000000\n",
       "max       20000.000000\n",
       "Name: price, dtype: float64"
      ]
     },
     "execution_count": 16,
     "metadata": {},
     "output_type": "execute_result"
    }
   ],
   "source": [
    "data = data.query('price >= 200')\n",
    "data['price'].describe()"
   ]
  },
  {
   "cell_type": "code",
   "execution_count": 17,
   "metadata": {},
   "outputs": [
    {
     "data": {
      "text/plain": [
       "price                     0\n",
       "vehicle_type          31380\n",
       "registration_year         0\n",
       "gear_box              15555\n",
       "power                     0\n",
       "model                 16574\n",
       "kilometer                 0\n",
       "registration_month        0\n",
       "fuel_type             27214\n",
       "brand                     0\n",
       "repaired              62445\n",
       "dtype: int64"
      ]
     },
     "execution_count": 17,
     "metadata": {},
     "output_type": "execute_result"
    }
   ],
   "source": [
    "# Найдем количество пропусков\n",
    "data.isna().sum()"
   ]
  },
  {
   "cell_type": "code",
   "execution_count": 18,
   "metadata": {
    "scrolled": true
   },
   "outputs": [
    {
     "name": "stdout",
     "output_type": "stream",
     "text": [
      "Доля пропусков в vehicle_type: 9.31%\n",
      "\n",
      "Доля пропусков в gear_box: 4.62%\n",
      "\n",
      "Доля пропусков в model: 4.92%\n",
      "\n",
      "Доля пропусков в fuel_type: 8.08%\n",
      "\n",
      "Доля пропусков в repaired: 18.54%\n"
     ]
    }
   ],
   "source": [
    "# Найдем долю пропусков в столбцах, содержащих пропуски\n",
    "print('Доля пропусков в vehicle_type: {:.2%}'.format(data['vehicle_type'].isna().mean()))\n",
    "print()\n",
    "print('Доля пропусков в gear_box: {:.2%}'.format(data['gear_box'].isna().mean()))\n",
    "print()\n",
    "print('Доля пропусков в model: {:.2%}'.format(data['model'].isna().mean()))\n",
    "print()\n",
    "print('Доля пропусков в fuel_type: {:.2%}'.format(data['fuel_type'].isna().mean()))\n",
    "print()\n",
    "print('Доля пропусков в repaired: {:.2%}'.format(data['repaired'].isna().mean()))"
   ]
  },
  {
   "cell_type": "markdown",
   "metadata": {},
   "source": [
    "Доля пропусков существенна, просто удалить пропуски считаю нецелесообразным. Попробуем заполнить пропуски другими способами.\n",
    "1. vehicle_type. Заменим пропуски на тип 'other'. \n",
    "2. gearbox. Пропуски в этом столбце связаны с тем, что пользователи по умолчанию считают коробку передач механической, а автоматическую указывают как существенную опцию. Кроме того, учтем год выборки - 2016. Заменим пропуски типом 'manual' . \n",
    "3. model. Заменим пропуски на тип 'other'.\n",
    "4. FuelType. Переименуем petrol в gasoline, поскольку оба означают \"бензин\". Заменим пропуски на тип 'other'.\n",
    "5. Repaired. Пропуски в этом столбце связаны с тем, что пользователи по умолчанию считают автомобиль не бывшим в ремонте, а факты ремонта указывают специально.Для всех NaN установим значение 'no'."
   ]
  },
  {
   "cell_type": "code",
   "execution_count": 19,
   "metadata": {},
   "outputs": [
    {
     "data": {
      "text/plain": [
       "vehicle_type\n",
       "sedan          88574\n",
       "small          75625\n",
       "wagon          63130\n",
       "bus            28213\n",
       "convertible    19778\n",
       "coupe          15444\n",
       "suv            11754\n",
       "other           3005\n",
       "Name: count, dtype: int64"
      ]
     },
     "execution_count": 19,
     "metadata": {},
     "output_type": "execute_result"
    }
   ],
   "source": [
    "# Найдем уникальные значения в столбце \"тип кузова\"\n",
    "data.vehicle_type.value_counts()"
   ]
  },
  {
   "cell_type": "code",
   "execution_count": 20,
   "metadata": {},
   "outputs": [],
   "source": [
    "# В связи с тем, что определить тип кузова расчетным методом не удастся, заменяем пропуски на тип 'other'\n",
    "data.vehicle_type.fillna('other', inplace=True)"
   ]
  },
  {
   "cell_type": "code",
   "execution_count": 21,
   "metadata": {},
   "outputs": [
    {
     "data": {
      "text/plain": [
       "gear_box\n",
       "manual    256860\n",
       "auto       64488\n",
       "Name: count, dtype: int64"
      ]
     },
     "execution_count": 21,
     "metadata": {},
     "output_type": "execute_result"
    }
   ],
   "source": [
    "# Найдем уникальные значения стобца \"коробка передач\"\n",
    "data.gear_box.value_counts()"
   ]
  },
  {
   "cell_type": "code",
   "execution_count": 22,
   "metadata": {},
   "outputs": [],
   "source": [
    "# Заменим пропуски типом 'manual'    \n",
    "data.gear_box.fillna('manual', inplace=True)"
   ]
  },
  {
   "cell_type": "code",
   "execution_count": 23,
   "metadata": {},
   "outputs": [
    {
     "data": {
      "text/plain": [
       "model\n",
       "golf                  27755\n",
       "other                 23241\n",
       "3er                   19013\n",
       "polo                  12120\n",
       "corsa                 11546\n",
       "                      ...  \n",
       "serie_2                   8\n",
       "rangerover                4\n",
       "serie_3                   3\n",
       "range_rover_evoque        2\n",
       "serie_1                   1\n",
       "Name: count, Length: 250, dtype: int64"
      ]
     },
     "execution_count": 23,
     "metadata": {},
     "output_type": "execute_result"
    }
   ],
   "source": [
    "# Найдем уникальные значения стобца \"модель\"\n",
    "data.model.value_counts()"
   ]
  },
  {
   "cell_type": "code",
   "execution_count": 24,
   "metadata": {},
   "outputs": [],
   "source": [
    "# Заменяем пропуски на тип 'other'\n",
    "data.model.fillna('other', inplace=True)"
   ]
  },
  {
   "cell_type": "code",
   "execution_count": 25,
   "metadata": {},
   "outputs": [
    {
     "data": {
      "text/plain": [
       "fuel_type\n",
       "petrol      206709\n",
       "gasoline     96829\n",
       "lpg           5146\n",
       "cng            548\n",
       "hybrid         225\n",
       "other          147\n",
       "electric        85\n",
       "Name: count, dtype: int64"
      ]
     },
     "execution_count": 25,
     "metadata": {},
     "output_type": "execute_result"
    }
   ],
   "source": [
    "# Найдем уникальные значения стобца \"тип топлива\"\n",
    "data.fuel_type.value_counts()"
   ]
  },
  {
   "cell_type": "code",
   "execution_count": 26,
   "metadata": {},
   "outputs": [],
   "source": [
    "# Переименуем petrol в gasoline, поскольку оба означают \"бензин\"\n",
    "data['fuel_type'] = data['fuel_type'].replace(['petrol'],'gasoline')"
   ]
  },
  {
   "cell_type": "code",
   "execution_count": 27,
   "metadata": {},
   "outputs": [],
   "source": [
    "# Заменяем пропуски на тип 'other'\n",
    "data.fuel_type.fillna('other', inplace=True)"
   ]
  },
  {
   "cell_type": "code",
   "execution_count": 28,
   "metadata": {},
   "outputs": [
    {
     "data": {
      "text/plain": [
       "repaired\n",
       "no     242458\n",
       "yes     32000\n",
       "Name: count, dtype: int64"
      ]
     },
     "execution_count": 28,
     "metadata": {},
     "output_type": "execute_result"
    }
   ],
   "source": [
    "# Найдем уникальные значения стобца \"repaired\"\n",
    "data.repaired.value_counts()"
   ]
  },
  {
   "cell_type": "code",
   "execution_count": 29,
   "metadata": {},
   "outputs": [],
   "source": [
    "# Заменим пропуски на 'no'\n",
    "data.repaired.fillna('no', inplace=True)"
   ]
  },
  {
   "cell_type": "code",
   "execution_count": 30,
   "metadata": {},
   "outputs": [
    {
     "data": {
      "text/plain": [
       "price                 0\n",
       "vehicle_type          0\n",
       "registration_year     0\n",
       "gear_box              0\n",
       "power                 0\n",
       "model                 0\n",
       "kilometer             0\n",
       "registration_month    0\n",
       "fuel_type             0\n",
       "brand                 0\n",
       "repaired              0\n",
       "dtype: int64"
      ]
     },
     "execution_count": 30,
     "metadata": {},
     "output_type": "execute_result"
    }
   ],
   "source": [
    "# Посмотрим, что у нас получилось\n",
    "data.isna().sum()"
   ]
  },
  {
   "cell_type": "markdown",
   "metadata": {},
   "source": [
    "Пропуски обработаны, необходимо обработать аномалии."
   ]
  },
  {
   "cell_type": "code",
   "execution_count": 31,
   "metadata": {},
   "outputs": [
    {
     "data": {
      "text/plain": [
       "array([1993, 2011, 2004, 2001, 2008, 1995, 2014, 1998, 2005, 1910, 2016,\n",
       "       2007, 2009, 2002, 2018, 1997, 1990, 2017, 1981, 2003, 1994, 1991,\n",
       "       1984, 2006, 1999, 2012, 2010, 2000, 1992, 2013, 1996, 1989, 2015,\n",
       "       1985, 1982, 1976, 1983, 1973, 1969, 1971, 1987, 1988, 1980, 1970,\n",
       "       1986, 1965, 1945, 1925, 1974, 1979, 1955, 1978, 1972, 1968, 1977,\n",
       "       1961, 1966, 1975, 1963, 1964, 1960, 1958, 1967, 1956, 3200, 1941,\n",
       "       9999, 8888, 1500, 2200, 4100, 1962, 1929, 1957, 1940, 2066, 1949,\n",
       "       2019, 1937, 1951, 1800, 1959, 1953, 1954, 1234, 5300, 9000, 2900,\n",
       "       6000, 5900, 1000, 5911, 1400, 5000, 4000, 1948, 1952, 8500, 1932,\n",
       "       1950, 3700, 3800, 4800, 1942, 7000, 1935, 1933, 1936, 3000, 1923,\n",
       "       2290, 1930, 1001, 9450, 1944, 2500, 1943, 1938, 1934, 1928, 5555,\n",
       "       1600, 1111, 1039, 2800, 1931, 4500, 1602, 7800, 1947, 1927, 7100,\n",
       "       1300, 8200, 1946], dtype=int64)"
      ]
     },
     "execution_count": 31,
     "metadata": {},
     "output_type": "execute_result"
    }
   ],
   "source": [
    "# найдем уникальные значения в столбце \"год регистрации\"\n",
    "data['registration_year'].unique()"
   ]
  },
  {
   "cell_type": "markdown",
   "metadata": {},
   "source": [
    "Считается, что первенство в выдаче регистрационных номеров принадлежит Мюнхену. \n",
    "Там таблички с номерами начали устанавливать на машины в 1899 году. \n",
    "Эстафету подхватили в крупных городах других стран: \n",
    "Париж (1900 год), Нью-Иорк (1901 год), Лондон (1903 год).\n",
    "В дореволюционной России решение о необходимости регистрации автомобилей принимали городские власти. \n",
    "25 июня 1900 года Городской Думой Санкт-Петербурга было принято постановление \n",
    "«О порядке пассажирского и грузового движения по городу Санкт-Петербургу на автомобилях».\n",
    "В числе прочих регламентирующих положений наличествовал пункт, \n",
    "вводящий обязательное медицинское освидетельствование водителей, \n",
    "ежегодный технический осмотр автомобилей и их обязательную регистрацию с выдачей номерных знаков — «жестянок». \n",
    "Однако ввиду малочисленности машин и «экзотичности» закона нововведение в Санкт-Петербурге не прижилось. \n",
    "Всерьез практику обязательного крепления к авто регистрационного номера \n",
    "первыми в Российской империи освоили рижане в 1904 году.\n",
    "Ограничим дату регистрации автомобилей 1904 годом, остальные данные точно аномалии.\n",
    "Поскольку наши данные на 2016 год, удалим все строки с годом после 2016."
   ]
  },
  {
   "cell_type": "code",
   "execution_count": 32,
   "metadata": {},
   "outputs": [],
   "source": [
    "# Вообще правильнее было бы изменить года выпуска автомобилей на медианное по каждой модели, \n",
    "# ведь модели выпускались в определенное время. Но где взять такие данные, я не придумал"
   ]
  },
  {
   "cell_type": "code",
   "execution_count": 33,
   "metadata": {},
   "outputs": [],
   "source": [
    "data = data.loc[(data['registration_year'] <= 2016) & (data['registration_year'] >= 1904)]"
   ]
  },
  {
   "cell_type": "code",
   "execution_count": 34,
   "metadata": {
    "scrolled": true
   },
   "outputs": [
    {
     "data": {
      "text/plain": [
       "power\n",
       "0       30214\n",
       "75      21636\n",
       "60      14164\n",
       "150     13669\n",
       "101     12335\n",
       "        ...  \n",
       "6018        1\n",
       "612         1\n",
       "1596        1\n",
       "1506        1\n",
       "1241        1\n",
       "Name: count, Length: 679, dtype: int64"
      ]
     },
     "execution_count": 34,
     "metadata": {},
     "output_type": "execute_result"
    }
   ],
   "source": [
    "# Найдем уникальные значения в столбце \"мощность\"\n",
    "data.power.value_counts()"
   ]
  },
  {
   "cell_type": "code",
   "execution_count": 35,
   "metadata": {},
   "outputs": [
    {
     "data": {
      "text/html": [
       "<div>\n",
       "<style scoped>\n",
       "    .dataframe tbody tr th:only-of-type {\n",
       "        vertical-align: middle;\n",
       "    }\n",
       "\n",
       "    .dataframe tbody tr th {\n",
       "        vertical-align: top;\n",
       "    }\n",
       "\n",
       "    .dataframe thead th {\n",
       "        text-align: right;\n",
       "    }\n",
       "</style>\n",
       "<table border=\"1\" class=\"dataframe\">\n",
       "  <thead>\n",
       "    <tr style=\"text-align: right;\">\n",
       "      <th></th>\n",
       "      <th>price</th>\n",
       "      <th>registration_year</th>\n",
       "      <th>model</th>\n",
       "    </tr>\n",
       "  </thead>\n",
       "  <tbody>\n",
       "    <tr>\n",
       "      <th>316924</th>\n",
       "      <td>200</td>\n",
       "      <td>1960</td>\n",
       "      <td>145</td>\n",
       "    </tr>\n",
       "    <tr>\n",
       "      <th>22472</th>\n",
       "      <td>200</td>\n",
       "      <td>1995</td>\n",
       "      <td>1_reihe</td>\n",
       "    </tr>\n",
       "    <tr>\n",
       "      <th>63101</th>\n",
       "      <td>200</td>\n",
       "      <td>1996</td>\n",
       "      <td>1_reihe</td>\n",
       "    </tr>\n",
       "    <tr>\n",
       "      <th>206816</th>\n",
       "      <td>200</td>\n",
       "      <td>1997</td>\n",
       "      <td>1_reihe</td>\n",
       "    </tr>\n",
       "    <tr>\n",
       "      <th>262831</th>\n",
       "      <td>200</td>\n",
       "      <td>1999</td>\n",
       "      <td>2_reihe</td>\n",
       "    </tr>\n",
       "    <tr>\n",
       "      <th>...</th>\n",
       "      <td>...</td>\n",
       "      <td>...</td>\n",
       "      <td>...</td>\n",
       "    </tr>\n",
       "    <tr>\n",
       "      <th>107020</th>\n",
       "      <td>20000</td>\n",
       "      <td>2005</td>\n",
       "      <td>transporter</td>\n",
       "    </tr>\n",
       "    <tr>\n",
       "      <th>247893</th>\n",
       "      <td>20000</td>\n",
       "      <td>2009</td>\n",
       "      <td>transporter</td>\n",
       "    </tr>\n",
       "    <tr>\n",
       "      <th>319914</th>\n",
       "      <td>20000</td>\n",
       "      <td>2009</td>\n",
       "      <td>transporter</td>\n",
       "    </tr>\n",
       "    <tr>\n",
       "      <th>120344</th>\n",
       "      <td>20000</td>\n",
       "      <td>2006</td>\n",
       "      <td>tt</td>\n",
       "    </tr>\n",
       "    <tr>\n",
       "      <th>189783</th>\n",
       "      <td>20000</td>\n",
       "      <td>2010</td>\n",
       "      <td>x_reihe</td>\n",
       "    </tr>\n",
       "  </tbody>\n",
       "</table>\n",
       "<p>30214 rows × 3 columns</p>\n",
       "</div>"
      ],
      "text/plain": [
       "        price  registration_year        model\n",
       "316924    200               1960          145\n",
       "22472     200               1995      1_reihe\n",
       "63101     200               1996      1_reihe\n",
       "206816    200               1997      1_reihe\n",
       "262831    200               1999      2_reihe\n",
       "...       ...                ...          ...\n",
       "107020  20000               2005  transporter\n",
       "247893  20000               2009  transporter\n",
       "319914  20000               2009  transporter\n",
       "120344  20000               2006           tt\n",
       "189783  20000               2010      x_reihe\n",
       "\n",
       "[30214 rows x 3 columns]"
      ]
     },
     "execution_count": 35,
     "metadata": {},
     "output_type": "execute_result"
    }
   ],
   "source": [
    "data_sort_power = data[['price', 'registration_year', 'model']][data['power'] == 0].sort_values(['price', 'model'])\n",
    "data_sort_power"
   ]
  },
  {
   "cell_type": "markdown",
   "metadata": {},
   "source": [
    "Существенное количество записей с мощностью равной нулю может объясняться тем, что автомобиль может быть либо без двигателя, либо с неисправным, требующим ремонта двигателем. Однако выборка эту теорию не подтверждает. "
   ]
  },
  {
   "cell_type": "markdown",
   "metadata": {},
   "source": [
    "Автомобили мощностью более 800 лошадиных сил выпуском до 2016 года в природе не встречаются. В наших данных это ошибка пользователей, которые спутали мощность двигателя и другие параметры (к примеру, объем двигателя). Заменим значения мощностей меньше 50 л.с. и больше 350 л.с. медианой по каждой модели отдельно"
   ]
  },
  {
   "cell_type": "code",
   "execution_count": 36,
   "metadata": {},
   "outputs": [],
   "source": [
    "for model_auto in data['model'].unique():\n",
    "    data.loc[(data['power'] < 50) | (data['power'] > 350), 'power'] = data['power'].median()"
   ]
  },
  {
   "cell_type": "code",
   "execution_count": 37,
   "metadata": {},
   "outputs": [
    {
     "data": {
      "text/plain": [
       "power\n",
       "105    46194\n",
       "75     21636\n",
       "60     14164\n",
       "150    13669\n",
       "101    12335\n",
       "       ...  \n",
       "248        1\n",
       "339        1\n",
       "331        1\n",
       "323        1\n",
       "282        1\n",
       "Name: count, Length: 294, dtype: int64"
      ]
     },
     "execution_count": 37,
     "metadata": {},
     "output_type": "execute_result"
    }
   ],
   "source": [
    "data.power.value_counts()"
   ]
  },
  {
   "cell_type": "code",
   "execution_count": 38,
   "metadata": {
    "scrolled": true
   },
   "outputs": [
    {
     "data": {
      "text/plain": [
       "registration_month\n",
       "3     32245\n",
       "6     29407\n",
       "4     27268\n",
       "5     27192\n",
       "0     26779\n",
       "7     25488\n",
       "10    24554\n",
       "11    22761\n",
       "12    22650\n",
       "9     22419\n",
       "1     21528\n",
       "8     21106\n",
       "2     19851\n",
       "Name: count, dtype: int64"
      ]
     },
     "execution_count": 38,
     "metadata": {},
     "output_type": "execute_result"
    }
   ],
   "source": [
    "# Проверим уникальные значения месяца регистрации\n",
    "data.registration_month.value_counts()"
   ]
  },
  {
   "cell_type": "code",
   "execution_count": 39,
   "metadata": {
    "scrolled": false
   },
   "outputs": [
    {
     "data": {
      "text/plain": [
       "registration_month\n",
       "6     56186\n",
       "3     32245\n",
       "4     27268\n",
       "5     27192\n",
       "7     25488\n",
       "10    24554\n",
       "11    22761\n",
       "12    22650\n",
       "9     22419\n",
       "1     21528\n",
       "8     21106\n",
       "2     19851\n",
       "Name: count, dtype: int64"
      ]
     },
     "execution_count": 39,
     "metadata": {},
     "output_type": "execute_result"
    }
   ],
   "source": [
    "# Имеем ошибки в месяце - месяц с номером 101 и номером 0 не существует. Заменим ошибочные данные медианой\n",
    "data.loc[(data['registration_month'] == 101) | (data['registration_month'] == 0), 'registration_month'] = data['registration_month'].median()\n",
    "data.registration_month.value_counts()"
   ]
  },
  {
   "cell_type": "code",
   "execution_count": 40,
   "metadata": {
    "scrolled": true
   },
   "outputs": [],
   "source": [
    "# Для корректной работы моделей приведем числовые значения к единому типу\n",
    "data[['power', 'registration_month']] = data[[\n",
    "    'power', 'registration_month']].astype('int')"
   ]
  },
  {
   "cell_type": "code",
   "execution_count": 41,
   "metadata": {
    "scrolled": true
   },
   "outputs": [
    {
     "name": "stdout",
     "output_type": "stream",
     "text": [
      "<class 'pandas.core.frame.DataFrame'>\n",
      "Index: 323248 entries, 0 to 354368\n",
      "Data columns (total 11 columns):\n",
      " #   Column              Non-Null Count   Dtype \n",
      "---  ------              --------------   ----- \n",
      " 0   price               323248 non-null  int64 \n",
      " 1   vehicle_type        323248 non-null  object\n",
      " 2   registration_year   323248 non-null  int64 \n",
      " 3   gear_box            323248 non-null  object\n",
      " 4   power               323248 non-null  int32 \n",
      " 5   model               323248 non-null  object\n",
      " 6   kilometer           323248 non-null  int64 \n",
      " 7   registration_month  323248 non-null  int32 \n",
      " 8   fuel_type           323248 non-null  object\n",
      " 9   brand               323248 non-null  object\n",
      " 10  repaired            323248 non-null  object\n",
      "dtypes: int32(2), int64(3), object(6)\n",
      "memory usage: 27.1+ MB\n"
     ]
    }
   ],
   "source": [
    "data.info()"
   ]
  },
  {
   "cell_type": "code",
   "execution_count": 42,
   "metadata": {},
   "outputs": [],
   "source": [
    "data.reset_index(drop= True , inplace= True )"
   ]
  },
  {
   "cell_type": "markdown",
   "metadata": {},
   "source": [
    "Еще раз построим графики для очищенных данных"
   ]
  },
  {
   "cell_type": "code",
   "execution_count": 43,
   "metadata": {},
   "outputs": [],
   "source": [
    "cat_features = ['vehicle_type', 'model', 'gear_box', 'fuel_type', 'brand', 'repaired']\n",
    "dig_features = ['price', 'registration_year', 'power', 'kilometer']"
   ]
  },
  {
   "cell_type": "code",
   "execution_count": 44,
   "metadata": {},
   "outputs": [
    {
     "data": {
      "image/png": "[encoded data removed]",
      "text/plain": [
       "<Figure size 1600x800 with 1 Axes>"
      ]
     },
     "metadata": {},
     "output_type": "display_data"
    },
    {
     "data": {
      "image/png": "[encoded data removed]",
      "text/plain": [
       "<Figure size 1600x800 with 1 Axes>"
      ]
     },
     "metadata": {},
     "output_type": "display_data"
    },
    {
     "data": {
      "image/png": "[encoded data removed]",
      "text/plain": [
       "<Figure size 1600x800 with 1 Axes>"
      ]
     },
     "metadata": {},
     "output_type": "display_data"
    },
    {
     "data": {
      "image/png": "[encoded data removed]",
      "text/plain": [
       "<Figure size 1600x800 with 1 Axes>"
      ]
     },
     "metadata": {},
     "output_type": "display_data"
    }
   ],
   "source": [
    "for i in dig_features:\n",
    "    function_digital(data, i)"
   ]
  },
  {
   "cell_type": "markdown",
   "metadata": {},
   "source": [
    "Вывод по этапу 1.\n",
    "Скачали и изучили данные. Провели предобработку данных - обработали пропуски и аномалии в данных. Корреляция признаков либо слабая, либо отсутствует. Подготовили данные к обучению моделей. "
   ]
  },
  {
   "cell_type": "markdown",
   "metadata": {},
   "source": [
    "## Обучение моделей"
   ]
  },
  {
   "cell_type": "markdown",
   "metadata": {},
   "source": [
    "### Регрессионные модели"
   ]
  },
  {
   "cell_type": "markdown",
   "metadata": {},
   "source": [
    "Создадим пустой Датафрем для записи результатов"
   ]
  },
  {
   "cell_type": "code",
   "execution_count": 45,
   "metadata": {},
   "outputs": [],
   "source": [
    "data_analys = pd.DataFrame(columns = ['LinearRegression', 'SGDRegressor', \n",
    "                          'CatBoostRegressor', 'LGBMRegressor'], \n",
    "                           index=['RMSE', 'RMSE с подбором параметров',\n",
    "                                  'Время обучения модели', 'Время предсказания модели'])"
   ]
  },
  {
   "cell_type": "code",
   "execution_count": 46,
   "metadata": {},
   "outputs": [
    {
     "data": {
      "text/html": [
       "<div>\n",
       "<style scoped>\n",
       "    .dataframe tbody tr th:only-of-type {\n",
       "        vertical-align: middle;\n",
       "    }\n",
       "\n",
       "    .dataframe tbody tr th {\n",
       "        vertical-align: top;\n",
       "    }\n",
       "\n",
       "    .dataframe thead th {\n",
       "        text-align: right;\n",
       "    }\n",
       "</style>\n",
       "<table border=\"1\" class=\"dataframe\">\n",
       "  <thead>\n",
       "    <tr style=\"text-align: right;\">\n",
       "      <th></th>\n",
       "      <th>LinearRegression</th>\n",
       "      <th>SGDRegressor</th>\n",
       "      <th>CatBoostRegressor</th>\n",
       "      <th>LGBMRegressor</th>\n",
       "    </tr>\n",
       "  </thead>\n",
       "  <tbody>\n",
       "    <tr>\n",
       "      <th>RMSE</th>\n",
       "      <td>NaN</td>\n",
       "      <td>NaN</td>\n",
       "      <td>NaN</td>\n",
       "      <td>NaN</td>\n",
       "    </tr>\n",
       "    <tr>\n",
       "      <th>RMSE с подбором параметров</th>\n",
       "      <td>NaN</td>\n",
       "      <td>NaN</td>\n",
       "      <td>NaN</td>\n",
       "      <td>NaN</td>\n",
       "    </tr>\n",
       "    <tr>\n",
       "      <th>Время обучения модели</th>\n",
       "      <td>NaN</td>\n",
       "      <td>NaN</td>\n",
       "      <td>NaN</td>\n",
       "      <td>NaN</td>\n",
       "    </tr>\n",
       "    <tr>\n",
       "      <th>Время предсказания модели</th>\n",
       "      <td>NaN</td>\n",
       "      <td>NaN</td>\n",
       "      <td>NaN</td>\n",
       "      <td>NaN</td>\n",
       "    </tr>\n",
       "  </tbody>\n",
       "</table>\n",
       "</div>"
      ],
      "text/plain": [
       "                           LinearRegression SGDRegressor CatBoostRegressor  \\\n",
       "RMSE                                    NaN          NaN               NaN   \n",
       "RMSE с подбором параметров              NaN          NaN               NaN   \n",
       "Время обучения модели                   NaN          NaN               NaN   \n",
       "Время предсказания модели               NaN          NaN               NaN   \n",
       "\n",
       "                           LGBMRegressor  \n",
       "RMSE                                 NaN  \n",
       "RMSE с подбором параметров           NaN  \n",
       "Время обучения модели                NaN  \n",
       "Время предсказания модели            NaN  "
      ]
     },
     "execution_count": 46,
     "metadata": {},
     "output_type": "execute_result"
    }
   ],
   "source": [
    "data_analys"
   ]
  },
  {
   "cell_type": "code",
   "execution_count": 47,
   "metadata": {},
   "outputs": [],
   "source": [
    "data_ohe = data.copy()"
   ]
  },
  {
   "cell_type": "markdown",
   "metadata": {},
   "source": [
    "```python\n",
    "# прямое кодирование (для линейных моделей)\n",
    "features_train_ohe = pd.get_dummies(features_train, drop_first=True)\n",
    "features_valid_ohe = pd.get_dummies(features_valid, drop_first=True)\n",
    "features_test_ohe = pd.get_dummies(features_test, drop_first=True)\n",
    "# после прямого кодирования кол-во признаков в выборках будет отличаться\n",
    "# поэтому стоит удалить лишние признаки в каждой выборке\n",
    "\n",
    "# Найдем общие признаки между обучающей, валидационной и тестовой выборками\n",
    "common_columns = set(features_train_ohe.columns) & set(features_valid_ohe.columns) & set(features_test_ohe.columns)\n",
    "\n",
    "# Оставим в каждой выборке только общие признаки\n",
    "features_train_ohe = features_train_ohe[list(common_columns)]\n",
    "features_valid_ohe = features_valid_ohe[list(common_columns)]\n",
    "features_test_ohe = features_test_ohe[list(common_columns)]\n",
    "```"
   ]
  },
  {
   "cell_type": "code",
   "execution_count": 48,
   "metadata": {},
   "outputs": [
    {
     "name": "stdout",
     "output_type": "stream",
     "text": [
      "Размер тренировочной выборки: (242436, 10)\n",
      "Размер тестовой выборки: (80812, 10)\n"
     ]
    }
   ],
   "source": [
    "# Разделим выборки на обучающую и тестовую\n",
    "\n",
    "y = data_ohe['price']\n",
    "X = data_ohe.drop('price', axis=1)\n",
    "X_train_ohe, X_test_ohe, y_train_ohe, y_test_ohe = train_test_split(X, y, \n",
    "                                                    test_size=0.25, \n",
    "                                                    random_state=state) \n",
    "\n",
    "print('Размер тренировочной выборки:', X_train_ohe.shape)\n",
    "print('Размер тестовой выборки:', X_test_ohe.shape)\n"
   ]
  },
  {
   "cell_type": "code",
   "execution_count": 49,
   "metadata": {},
   "outputs": [],
   "source": [
    "X_train_ohe = pd.get_dummies(X_train_ohe, drop_first=True)"
   ]
  },
  {
   "cell_type": "code",
   "execution_count": 50,
   "metadata": {},
   "outputs": [],
   "source": [
    "X_test_ohe = pd.get_dummies(X_test_ohe, drop_first=True)"
   ]
  },
  {
   "cell_type": "code",
   "execution_count": 51,
   "metadata": {
    "scrolled": false
   },
   "outputs": [],
   "source": [
    "common_columns = set(X_train_ohe.columns) & set(X_test_ohe.columns)"
   ]
  },
  {
   "cell_type": "code",
   "execution_count": 52,
   "metadata": {},
   "outputs": [],
   "source": [
    "X_train_ohe = X_train_ohe[list(common_columns)]\n",
    "X_test_ohe = X_test_ohe[list(common_columns)]"
   ]
  },
  {
   "cell_type": "code",
   "execution_count": 53,
   "metadata": {},
   "outputs": [],
   "source": [
    "# Масштабируем признаки\n",
    "\n",
    "numeric = ['registration_year', 'power', 'kilometer', 'registration_month']\n",
    "scaler = StandardScaler()\n",
    "scaler.fit(X_train_ohe[numeric])\n",
    "X_train_ohe[numeric] = scaler.transform(X_train_ohe[numeric])\n",
    "X_test_ohe[numeric] = scaler.transform(X_test_ohe[numeric])"
   ]
  },
  {
   "cell_type": "markdown",
   "metadata": {},
   "source": [
    "Первой моделью будет линейная регрессия.\n",
    "Обычный метод наименьших квадратов быстро обучается и возвращает простую модель, которая быстро дает прогноз. Поэтому именно его рекомендуется использовать в качестве первой попытки решить любую задачу регрессии."
   ]
  },
  {
   "cell_type": "code",
   "execution_count": 54,
   "metadata": {},
   "outputs": [],
   "source": [
    "# Модель линейной регрессии\n",
    "\n",
    "model_lr = LinearRegression()"
   ]
  },
  {
   "cell_type": "code",
   "execution_count": 55,
   "metadata": {},
   "outputs": [],
   "source": [
    "t0= time.time()\n",
    "\n",
    "model_lr.fit(X_train_ohe, y_train_ohe)\n",
    "\n",
    "time_lr_fit = time.time() - t0\n",
    "\n",
    "data_analys.loc['Время обучения модели', 'LinearRegression'] = time.time() - t0"
   ]
  },
  {
   "cell_type": "code",
   "execution_count": 56,
   "metadata": {},
   "outputs": [],
   "source": [
    "t0= time.time()\n",
    "\n",
    "predictions = model_lr.predict(X_train_ohe)\n",
    "\n",
    "data_analys.loc['Время предсказания модели', 'LinearRegression'] = time.time() - t0"
   ]
  },
  {
   "cell_type": "code",
   "execution_count": 57,
   "metadata": {},
   "outputs": [],
   "source": [
    "data_analys.loc['RMSE', 'LinearRegression'] = np.sqrt(mean_squared_error(y_train_ohe, predictions))"
   ]
  },
  {
   "cell_type": "markdown",
   "metadata": {},
   "source": [
    "Проведем кросс-валидацию модели"
   ]
  },
  {
   "cell_type": "code",
   "execution_count": 58,
   "metadata": {},
   "outputs": [],
   "source": [
    "# Модель линейной регрессии с кросс-валидацией\n",
    "\n",
    "model_lr_cv = LinearRegression()"
   ]
  },
  {
   "cell_type": "code",
   "execution_count": 59,
   "metadata": {},
   "outputs": [
    {
     "name": "stdout",
     "output_type": "stream",
     "text": [
      "CPU times: total: 34 s\n",
      "Wall time: 18.4 s\n"
     ]
    }
   ],
   "source": [
    "%%time\n",
    "\n",
    "mse_lr_cv = (cross_val_score(model_lr_cv, \n",
    "                          X_train_ohe,\n",
    "                          y_train_ohe,\n",
    "                          cv=5,\n",
    "                             scoring='neg_mean_squared_error').mean())\n"
   ]
  },
  {
   "cell_type": "code",
   "execution_count": 60,
   "metadata": {},
   "outputs": [],
   "source": [
    "data_analys.loc['RMSE с подбором параметров', 'LinearRegression'] = np.sqrt(abs(mse_lr_cv)) "
   ]
  },
  {
   "cell_type": "code",
   "execution_count": 61,
   "metadata": {},
   "outputs": [
    {
     "data": {
      "text/html": [
       "<div>\n",
       "<style scoped>\n",
       "    .dataframe tbody tr th:only-of-type {\n",
       "        vertical-align: middle;\n",
       "    }\n",
       "\n",
       "    .dataframe tbody tr th {\n",
       "        vertical-align: top;\n",
       "    }\n",
       "\n",
       "    .dataframe thead th {\n",
       "        text-align: right;\n",
       "    }\n",
       "</style>\n",
       "<table border=\"1\" class=\"dataframe\">\n",
       "  <thead>\n",
       "    <tr style=\"text-align: right;\">\n",
       "      <th></th>\n",
       "      <th>LinearRegression</th>\n",
       "      <th>SGDRegressor</th>\n",
       "      <th>CatBoostRegressor</th>\n",
       "      <th>LGBMRegressor</th>\n",
       "    </tr>\n",
       "  </thead>\n",
       "  <tbody>\n",
       "    <tr>\n",
       "      <th>RMSE</th>\n",
       "      <td>2723.456033</td>\n",
       "      <td>NaN</td>\n",
       "      <td>NaN</td>\n",
       "      <td>NaN</td>\n",
       "    </tr>\n",
       "    <tr>\n",
       "      <th>RMSE с подбором параметров</th>\n",
       "      <td>2727.627491</td>\n",
       "      <td>NaN</td>\n",
       "      <td>NaN</td>\n",
       "      <td>NaN</td>\n",
       "    </tr>\n",
       "    <tr>\n",
       "      <th>Время обучения модели</th>\n",
       "      <td>4.851208</td>\n",
       "      <td>NaN</td>\n",
       "      <td>NaN</td>\n",
       "      <td>NaN</td>\n",
       "    </tr>\n",
       "    <tr>\n",
       "      <th>Время предсказания модели</th>\n",
       "      <td>0.435832</td>\n",
       "      <td>NaN</td>\n",
       "      <td>NaN</td>\n",
       "      <td>NaN</td>\n",
       "    </tr>\n",
       "  </tbody>\n",
       "</table>\n",
       "</div>"
      ],
      "text/plain": [
       "                           LinearRegression SGDRegressor CatBoostRegressor  \\\n",
       "RMSE                            2723.456033          NaN               NaN   \n",
       "RMSE с подбором параметров      2727.627491          NaN               NaN   \n",
       "Время обучения модели              4.851208          NaN               NaN   \n",
       "Время предсказания модели          0.435832          NaN               NaN   \n",
       "\n",
       "                           LGBMRegressor  \n",
       "RMSE                                 NaN  \n",
       "RMSE с подбором параметров           NaN  \n",
       "Время обучения модели                NaN  \n",
       "Время предсказания модели            NaN  "
      ]
     },
     "execution_count": 61,
     "metadata": {},
     "output_type": "execute_result"
    }
   ],
   "source": [
    "data_analys"
   ]
  },
  {
   "cell_type": "markdown",
   "metadata": {},
   "source": [
    "С применением перекрестной проверки получается более консервативная оценка (то есть с большей погрешностью). \n",
    "Оценка, полученная с помощью перекрестной проверки, точнее показывает, чего можно ожидать от обобщения модели на ранее не предъявлявшиеся данные. Целевой показатель метрики не достигнут."
   ]
  },
  {
   "cell_type": "markdown",
   "metadata": {},
   "source": [
    "Попробуем использовать другие библиотеки scikit-learn, например SGDRegressor."
   ]
  },
  {
   "cell_type": "markdown",
   "metadata": {},
   "source": [
    "Класс SGDRegressor реализует простую процедуру обучения стохастическим градиентным спуском, которая поддерживает различные функции потерь и штрафы для соответствия моделям линейной регрессии. SGDRegressor хорошо подходят для задач регрессии с большим количеством учебных образцов (> 10.000)."
   ]
  },
  {
   "cell_type": "code",
   "execution_count": 62,
   "metadata": {},
   "outputs": [],
   "source": [
    "# Модель SGDRegressor\n",
    "t0= time.time()\n",
    "\n",
    "model_sgd = SGDRegressor() \n",
    "model_sgd.fit(X_train_ohe, y_train_ohe)\n",
    "data_analys.loc['Время обучения модели', 'SGDRegressor'] = time.time() - t0"
   ]
  },
  {
   "cell_type": "code",
   "execution_count": 63,
   "metadata": {},
   "outputs": [],
   "source": [
    "t0= time.time()\n",
    "\n",
    "predictions = model_sgd.predict(X_train_ohe)\n",
    "data_analys.loc['Время предсказания модели', 'SGDRegressor'] = time.time() - t0"
   ]
  },
  {
   "cell_type": "code",
   "execution_count": 64,
   "metadata": {},
   "outputs": [],
   "source": [
    "data_analys.loc['RMSE', 'SGDRegressor'] = np.sqrt(mean_squared_error(y_train_ohe, predictions))"
   ]
  },
  {
   "cell_type": "markdown",
   "metadata": {},
   "source": [
    "SGD требует ряда гиперпараметров, таких как параметр регуляризации и количество итераций. Подберем их."
   ]
  },
  {
   "cell_type": "code",
   "execution_count": 65,
   "metadata": {},
   "outputs": [],
   "source": [
    "model_sgd_grid = SGDRegressor() \n",
    "\n",
    "parameters_grid = {\n",
    "    'alpha' : np.linspace(0.00001, 0.0001, 5),\n",
    "#     'learning_rate': ['optimal', 'constant', 'invscaling'],\n",
    "#     'eta0' : np.linspace(0.00001, 0.0001, 15),\n",
    "    'max_iter' : np.arange(1000, 10001, 5000),\n",
    "}\n"
   ]
  },
  {
   "cell_type": "code",
   "execution_count": 66,
   "metadata": {},
   "outputs": [
    {
     "name": "stdout",
     "output_type": "stream",
     "text": [
      "Fitting 3 folds for each of 10 candidates, totalling 30 fits\n",
      "CPU times: total: 22.1 s\n",
      "Wall time: 1min 55s\n"
     ]
    },
    {
     "data": {
      "text/html": [
       "<style>#sk-container-id-1 {color: black;}#sk-container-id-1 pre{padding: 0;}#sk-container-id-1 div.sk-toggleable {background-color: white;}#sk-container-id-1 label.sk-toggleable__label {cursor: pointer;display: block;width: 100%;margin-bottom: 0;padding: 0.3em;box-sizing: border-box;text-align: center;}#sk-container-id-1 label.sk-toggleable__label-arrow:before {content: \"▸\";float: left;margin-right: 0.25em;color: #696969;}#sk-container-id-1 label.sk-toggleable__label-arrow:hover:before {color: black;}#sk-container-id-1 div.sk-estimator:hover label.sk-toggleable__label-arrow:before {color: black;}#sk-container-id-1 div.sk-toggleable__content {max-height: 0;max-width: 0;overflow: hidden;text-align: left;background-color: #f0f8ff;}#sk-container-id-1 div.sk-toggleable__content pre {margin: 0.2em;color: black;border-radius: 0.25em;background-color: #f0f8ff;}#sk-container-id-1 input.sk-toggleable__control:checked~div.sk-toggleable__content {max-height: 200px;max-width: 100%;overflow: auto;}#sk-container-id-1 input.sk-toggleable__control:checked~label.sk-toggleable__label-arrow:before {content: \"▾\";}#sk-container-id-1 div.sk-estimator input.sk-toggleable__control:checked~label.sk-toggleable__label {background-color: #d4ebff;}#sk-container-id-1 div.sk-label input.sk-toggleable__control:checked~label.sk-toggleable__label {background-color: #d4ebff;}#sk-container-id-1 input.sk-hidden--visually {border: 0;clip: rect(1px 1px 1px 1px);clip: rect(1px, 1px, 1px, 1px);height: 1px;margin: -1px;overflow: hidden;padding: 0;position: absolute;width: 1px;}#sk-container-id-1 div.sk-estimator {font-family: monospace;background-color: #f0f8ff;border: 1px dotted black;border-radius: 0.25em;box-sizing: border-box;margin-bottom: 0.5em;}#sk-container-id-1 div.sk-estimator:hover {background-color: #d4ebff;}#sk-container-id-1 div.sk-parallel-item::after {content: \"\";width: 100%;border-bottom: 1px solid gray;flex-grow: 1;}#sk-container-id-1 div.sk-label:hover label.sk-toggleable__label {background-color: #d4ebff;}#sk-container-id-1 div.sk-serial::before {content: \"\";position: absolute;border-left: 1px solid gray;box-sizing: border-box;top: 0;bottom: 0;left: 50%;z-index: 0;}#sk-container-id-1 div.sk-serial {display: flex;flex-direction: column;align-items: center;background-color: white;padding-right: 0.2em;padding-left: 0.2em;position: relative;}#sk-container-id-1 div.sk-item {position: relative;z-index: 1;}#sk-container-id-1 div.sk-parallel {display: flex;align-items: stretch;justify-content: center;background-color: white;position: relative;}#sk-container-id-1 div.sk-item::before, #sk-container-id-1 div.sk-parallel-item::before {content: \"\";position: absolute;border-left: 1px solid gray;box-sizing: border-box;top: 0;bottom: 0;left: 50%;z-index: -1;}#sk-container-id-1 div.sk-parallel-item {display: flex;flex-direction: column;z-index: 1;position: relative;background-color: white;}#sk-container-id-1 div.sk-parallel-item:first-child::after {align-self: flex-end;width: 50%;}#sk-container-id-1 div.sk-parallel-item:last-child::after {align-self: flex-start;width: 50%;}#sk-container-id-1 div.sk-parallel-item:only-child::after {width: 0;}#sk-container-id-1 div.sk-dashed-wrapped {border: 1px dashed gray;margin: 0 0.4em 0.5em 0.4em;box-sizing: border-box;padding-bottom: 0.4em;background-color: white;}#sk-container-id-1 div.sk-label label {font-family: monospace;font-weight: bold;display: inline-block;line-height: 1.2em;}#sk-container-id-1 div.sk-label-container {text-align: center;}#sk-container-id-1 div.sk-container {/* jupyter's `normalize.less` sets `[hidden] { display: none; }` but bootstrap.min.css set `[hidden] { display: none !important; }` so we also need the `!important` here to be able to override the default hidden behavior on the sphinx rendered scikit-learn.org. See: https://github.com/scikit-learn/scikit-learn/issues/21755 */display: inline-block !important;position: relative;}#sk-container-id-1 div.sk-text-repr-fallback {display: none;}</style><div id=\"sk-container-id-1\" class=\"sk-top-container\"><div class=\"sk-text-repr-fallback\"><pre>GridSearchCV(cv=3, estimator=SGDRegressor(), n_jobs=-1,\n",
       "             param_grid={&#x27;alpha&#x27;: array([1.00e-05, 3.25e-05, 5.50e-05, 7.75e-05, 1.00e-04]),\n",
       "                         &#x27;max_iter&#x27;: array([1000, 6000])},\n",
       "             scoring=&#x27;neg_mean_squared_error&#x27;, verbose=True)</pre><b>In a Jupyter environment, please rerun this cell to show the HTML representation or trust the notebook. <br />On GitHub, the HTML representation is unable to render, please try loading this page with nbviewer.org.</b></div><div class=\"sk-container\" hidden><div class=\"sk-item sk-dashed-wrapped\"><div class=\"sk-label-container\"><div class=\"sk-label sk-toggleable\"><input class=\"sk-toggleable__control sk-hidden--visually\" id=\"sk-estimator-id-1\" type=\"checkbox\" ><label for=\"sk-estimator-id-1\" class=\"sk-toggleable__label sk-toggleable__label-arrow\">GridSearchCV</label><div class=\"sk-toggleable__content\"><pre>GridSearchCV(cv=3, estimator=SGDRegressor(), n_jobs=-1,\n",
       "             param_grid={&#x27;alpha&#x27;: array([1.00e-05, 3.25e-05, 5.50e-05, 7.75e-05, 1.00e-04]),\n",
       "                         &#x27;max_iter&#x27;: array([1000, 6000])},\n",
       "             scoring=&#x27;neg_mean_squared_error&#x27;, verbose=True)</pre></div></div></div><div class=\"sk-parallel\"><div class=\"sk-parallel-item\"><div class=\"sk-item\"><div class=\"sk-label-container\"><div class=\"sk-label sk-toggleable\"><input class=\"sk-toggleable__control sk-hidden--visually\" id=\"sk-estimator-id-2\" type=\"checkbox\" ><label for=\"sk-estimator-id-2\" class=\"sk-toggleable__label sk-toggleable__label-arrow\">estimator: SGDRegressor</label><div class=\"sk-toggleable__content\"><pre>SGDRegressor()</pre></div></div></div><div class=\"sk-serial\"><div class=\"sk-item\"><div class=\"sk-estimator sk-toggleable\"><input class=\"sk-toggleable__control sk-hidden--visually\" id=\"sk-estimator-id-3\" type=\"checkbox\" ><label for=\"sk-estimator-id-3\" class=\"sk-toggleable__label sk-toggleable__label-arrow\">SGDRegressor</label><div class=\"sk-toggleable__content\"><pre>SGDRegressor()</pre></div></div></div></div></div></div></div></div></div></div>"
      ],
      "text/plain": [
       "GridSearchCV(cv=3, estimator=SGDRegressor(), n_jobs=-1,\n",
       "             param_grid={'alpha': array([1.00e-05, 3.25e-05, 5.50e-05, 7.75e-05, 1.00e-04]),\n",
       "                         'max_iter': array([1000, 6000])},\n",
       "             scoring='neg_mean_squared_error', verbose=True)"
      ]
     },
     "execution_count": 66,
     "metadata": {},
     "output_type": "execute_result"
    }
   ],
   "source": [
    "%%time\n",
    "\n",
    "grid = GridSearchCV(model_sgd_grid, \n",
    "                       parameters_grid, \n",
    "                       scoring = 'neg_mean_squared_error', \n",
    "                       n_jobs=-1,\n",
    "                       verbose=True,\n",
    "                       cv = 3)\n",
    "grid.fit(X_train_ohe, y_train_ohe)"
   ]
  },
  {
   "cell_type": "code",
   "execution_count": 67,
   "metadata": {},
   "outputs": [
    {
     "data": {
      "text/html": [
       "<style>#sk-container-id-2 {color: black;}#sk-container-id-2 pre{padding: 0;}#sk-container-id-2 div.sk-toggleable {background-color: white;}#sk-container-id-2 label.sk-toggleable__label {cursor: pointer;display: block;width: 100%;margin-bottom: 0;padding: 0.3em;box-sizing: border-box;text-align: center;}#sk-container-id-2 label.sk-toggleable__label-arrow:before {content: \"▸\";float: left;margin-right: 0.25em;color: #696969;}#sk-container-id-2 label.sk-toggleable__label-arrow:hover:before {color: black;}#sk-container-id-2 div.sk-estimator:hover label.sk-toggleable__label-arrow:before {color: black;}#sk-container-id-2 div.sk-toggleable__content {max-height: 0;max-width: 0;overflow: hidden;text-align: left;background-color: #f0f8ff;}#sk-container-id-2 div.sk-toggleable__content pre {margin: 0.2em;color: black;border-radius: 0.25em;background-color: #f0f8ff;}#sk-container-id-2 input.sk-toggleable__control:checked~div.sk-toggleable__content {max-height: 200px;max-width: 100%;overflow: auto;}#sk-container-id-2 input.sk-toggleable__control:checked~label.sk-toggleable__label-arrow:before {content: \"▾\";}#sk-container-id-2 div.sk-estimator input.sk-toggleable__control:checked~label.sk-toggleable__label {background-color: #d4ebff;}#sk-container-id-2 div.sk-label input.sk-toggleable__control:checked~label.sk-toggleable__label {background-color: #d4ebff;}#sk-container-id-2 input.sk-hidden--visually {border: 0;clip: rect(1px 1px 1px 1px);clip: rect(1px, 1px, 1px, 1px);height: 1px;margin: -1px;overflow: hidden;padding: 0;position: absolute;width: 1px;}#sk-container-id-2 div.sk-estimator {font-family: monospace;background-color: #f0f8ff;border: 1px dotted black;border-radius: 0.25em;box-sizing: border-box;margin-bottom: 0.5em;}#sk-container-id-2 div.sk-estimator:hover {background-color: #d4ebff;}#sk-container-id-2 div.sk-parallel-item::after {content: \"\";width: 100%;border-bottom: 1px solid gray;flex-grow: 1;}#sk-container-id-2 div.sk-label:hover label.sk-toggleable__label {background-color: #d4ebff;}#sk-container-id-2 div.sk-serial::before {content: \"\";position: absolute;border-left: 1px solid gray;box-sizing: border-box;top: 0;bottom: 0;left: 50%;z-index: 0;}#sk-container-id-2 div.sk-serial {display: flex;flex-direction: column;align-items: center;background-color: white;padding-right: 0.2em;padding-left: 0.2em;position: relative;}#sk-container-id-2 div.sk-item {position: relative;z-index: 1;}#sk-container-id-2 div.sk-parallel {display: flex;align-items: stretch;justify-content: center;background-color: white;position: relative;}#sk-container-id-2 div.sk-item::before, #sk-container-id-2 div.sk-parallel-item::before {content: \"\";position: absolute;border-left: 1px solid gray;box-sizing: border-box;top: 0;bottom: 0;left: 50%;z-index: -1;}#sk-container-id-2 div.sk-parallel-item {display: flex;flex-direction: column;z-index: 1;position: relative;background-color: white;}#sk-container-id-2 div.sk-parallel-item:first-child::after {align-self: flex-end;width: 50%;}#sk-container-id-2 div.sk-parallel-item:last-child::after {align-self: flex-start;width: 50%;}#sk-container-id-2 div.sk-parallel-item:only-child::after {width: 0;}#sk-container-id-2 div.sk-dashed-wrapped {border: 1px dashed gray;margin: 0 0.4em 0.5em 0.4em;box-sizing: border-box;padding-bottom: 0.4em;background-color: white;}#sk-container-id-2 div.sk-label label {font-family: monospace;font-weight: bold;display: inline-block;line-height: 1.2em;}#sk-container-id-2 div.sk-label-container {text-align: center;}#sk-container-id-2 div.sk-container {/* jupyter's `normalize.less` sets `[hidden] { display: none; }` but bootstrap.min.css set `[hidden] { display: none !important; }` so we also need the `!important` here to be able to override the default hidden behavior on the sphinx rendered scikit-learn.org. See: https://github.com/scikit-learn/scikit-learn/issues/21755 */display: inline-block !important;position: relative;}#sk-container-id-2 div.sk-text-repr-fallback {display: none;}</style><div id=\"sk-container-id-2\" class=\"sk-top-container\"><div class=\"sk-text-repr-fallback\"><pre>SGDRegressor(alpha=1e-05)</pre><b>In a Jupyter environment, please rerun this cell to show the HTML representation or trust the notebook. <br />On GitHub, the HTML representation is unable to render, please try loading this page with nbviewer.org.</b></div><div class=\"sk-container\" hidden><div class=\"sk-item\"><div class=\"sk-estimator sk-toggleable\"><input class=\"sk-toggleable__control sk-hidden--visually\" id=\"sk-estimator-id-4\" type=\"checkbox\" checked><label for=\"sk-estimator-id-4\" class=\"sk-toggleable__label sk-toggleable__label-arrow\">SGDRegressor</label><div class=\"sk-toggleable__content\"><pre>SGDRegressor(alpha=1e-05)</pre></div></div></div></div></div>"
      ],
      "text/plain": [
       "SGDRegressor(alpha=1e-05)"
      ]
     },
     "execution_count": 67,
     "metadata": {},
     "output_type": "execute_result"
    }
   ],
   "source": [
    "# Используем подобранные гиперпараметры\n",
    "\n",
    "model_sgd_grid = SGDRegressor(**grid.best_params_) \n",
    "model_sgd_grid.fit(X_train_ohe, y_train_ohe)"
   ]
  },
  {
   "cell_type": "code",
   "execution_count": 68,
   "metadata": {},
   "outputs": [],
   "source": [
    "predictions = model_sgd_grid.predict(X_train_ohe)"
   ]
  },
  {
   "cell_type": "code",
   "execution_count": 69,
   "metadata": {},
   "outputs": [],
   "source": [
    "data_analys.loc['RMSE с подбором параметров', 'SGDRegressor'] = np.sqrt(mean_squared_error(y_train_ohe, predictions))"
   ]
  },
  {
   "cell_type": "code",
   "execution_count": 70,
   "metadata": {},
   "outputs": [
    {
     "data": {
      "text/html": [
       "<div>\n",
       "<style scoped>\n",
       "    .dataframe tbody tr th:only-of-type {\n",
       "        vertical-align: middle;\n",
       "    }\n",
       "\n",
       "    .dataframe tbody tr th {\n",
       "        vertical-align: top;\n",
       "    }\n",
       "\n",
       "    .dataframe thead th {\n",
       "        text-align: right;\n",
       "    }\n",
       "</style>\n",
       "<table border=\"1\" class=\"dataframe\">\n",
       "  <thead>\n",
       "    <tr style=\"text-align: right;\">\n",
       "      <th></th>\n",
       "      <th>LinearRegression</th>\n",
       "      <th>SGDRegressor</th>\n",
       "      <th>CatBoostRegressor</th>\n",
       "      <th>LGBMRegressor</th>\n",
       "    </tr>\n",
       "  </thead>\n",
       "  <tbody>\n",
       "    <tr>\n",
       "      <th>RMSE</th>\n",
       "      <td>2723.456033</td>\n",
       "      <td>2730.812425</td>\n",
       "      <td>NaN</td>\n",
       "      <td>NaN</td>\n",
       "    </tr>\n",
       "    <tr>\n",
       "      <th>RMSE с подбором параметров</th>\n",
       "      <td>2727.627491</td>\n",
       "      <td>2729.089598</td>\n",
       "      <td>NaN</td>\n",
       "      <td>NaN</td>\n",
       "    </tr>\n",
       "    <tr>\n",
       "      <th>Время обучения модели</th>\n",
       "      <td>4.851208</td>\n",
       "      <td>21.048007</td>\n",
       "      <td>NaN</td>\n",
       "      <td>NaN</td>\n",
       "    </tr>\n",
       "    <tr>\n",
       "      <th>Время предсказания модели</th>\n",
       "      <td>0.435832</td>\n",
       "      <td>0.320943</td>\n",
       "      <td>NaN</td>\n",
       "      <td>NaN</td>\n",
       "    </tr>\n",
       "  </tbody>\n",
       "</table>\n",
       "</div>"
      ],
      "text/plain": [
       "                           LinearRegression SGDRegressor CatBoostRegressor  \\\n",
       "RMSE                            2723.456033  2730.812425               NaN   \n",
       "RMSE с подбором параметров      2727.627491  2729.089598               NaN   \n",
       "Время обучения модели              4.851208    21.048007               NaN   \n",
       "Время предсказания модели          0.435832     0.320943               NaN   \n",
       "\n",
       "                           LGBMRegressor  \n",
       "RMSE                                 NaN  \n",
       "RMSE с подбором параметров           NaN  \n",
       "Время обучения модели                NaN  \n",
       "Время предсказания модели            NaN  "
      ]
     },
     "execution_count": 70,
     "metadata": {},
     "output_type": "execute_result"
    }
   ],
   "source": [
    "data_analys"
   ]
  },
  {
   "cell_type": "markdown",
   "metadata": {},
   "source": [
    "Регрессионные модели обучаются достаточно быстро, работают с приемлемой скоростью, но точность предсказаний не дотягивает до целевых показателей. Попробуем модели бустинга."
   ]
  },
  {
   "cell_type": "markdown",
   "metadata": {},
   "source": [
    "### Модель CatBoostRegressor"
   ]
  },
  {
   "cell_type": "markdown",
   "metadata": {},
   "source": [
    "Преимущества данной модели:\n",
    "1. CatBoost позволяет проводить обучение на нескольких GPU.\n",
    "2. Библиотека позволяет получить отличные результаты с параметрами по умолчанию, что сокращает время, необходимое для настройки гиперпараметров.\n",
    "3. Обеспечивает повышенную точность за счет уменьшения переобучения.\n",
    "4. Возможность быстрого предсказания с применением модели CatBoost;\n",
    "5. Обученные модели CatBoost можно экспортировать в Core ML для вывода на устройстве (iOS).\n",
    "6. Умеет под капотом обрабатывать пропущенные значения.\n",
    "7. Позволяет использовать категориальные признаки без необходимости их предварительно обрабатывать.\n",
    "Исходя из представленных разработчиками данных необходимости преобразовывать категориальные признаки в числовые нет. Используем первичные данные"
   ]
  },
  {
   "cell_type": "markdown",
   "metadata": {},
   "source": [
    "Подготовим данные для работы модели"
   ]
  },
  {
   "cell_type": "code",
   "execution_count": 71,
   "metadata": {},
   "outputs": [],
   "source": [
    "X = data.drop('price', axis=1)\n",
    "y = data.price"
   ]
  },
  {
   "cell_type": "code",
   "execution_count": 72,
   "metadata": {},
   "outputs": [
    {
     "name": "stdout",
     "output_type": "stream",
     "text": [
      "Размер тренировочной выборки: (242436, 10)\n",
      "Размер тестовой выборки: (80812, 10)\n"
     ]
    }
   ],
   "source": [
    "# Разделим выборки на обучающую и тестовую\n",
    "X_train, X_test, y_train, y_test = train_test_split(X, y, \n",
    "                                                    test_size=0.25, \n",
    "                                                    random_state=state) \n",
    "\n",
    "print('Размер тренировочной выборки:', X_train.shape)\n",
    "print('Размер тестовой выборки:', X_test.shape)"
   ]
  },
  {
   "cell_type": "markdown",
   "metadata": {},
   "source": [
    "Создатели модели утверждают, что дефолтные параметры являются оптимальными для большинства задач. Проверим на нашем датасете"
   ]
  },
  {
   "cell_type": "code",
   "execution_count": 73,
   "metadata": {},
   "outputs": [],
   "source": [
    "# Проверим модель на дефолтных параметрах\n",
    "\n",
    "model_cbr = CatBoostRegressor(\n",
    "   loss_function='RMSE'\n",
    ")\n"
   ]
  },
  {
   "cell_type": "code",
   "execution_count": 74,
   "metadata": {},
   "outputs": [
    {
     "name": "stdout",
     "output_type": "stream",
     "text": [
      "Learning rate set to 0.097487\n",
      "0:\tlearn: 4265.0835247\ttotal: 231ms\tremaining: 3m 50s\n",
      "200:\tlearn: 1748.5822821\ttotal: 16.3s\tremaining: 1m 4s\n",
      "400:\tlearn: 1675.9486663\ttotal: 32.5s\tremaining: 48.5s\n",
      "600:\tlearn: 1638.5912958\ttotal: 48.9s\tremaining: 32.4s\n",
      "800:\tlearn: 1613.1880736\ttotal: 1m 5s\tremaining: 16.3s\n",
      "999:\tlearn: 1592.8293094\ttotal: 1m 21s\tremaining: 0us\n"
     ]
    }
   ],
   "source": [
    "t0= time.time()\n",
    "\n",
    "model_cbr.fit(X_train, y_train, cat_features=cat_features, verbose=200)\n",
    "\n",
    "data_analys.loc['Время обучения модели', 'CatBoostRegressor'] = time.time() - t0"
   ]
  },
  {
   "cell_type": "code",
   "execution_count": 75,
   "metadata": {},
   "outputs": [],
   "source": [
    "t0= time.time()\n",
    "\n",
    "predictions = model_cbr.predict(X_train)\n",
    "\n",
    "data_analys.loc['Время предсказания модели', 'CatBoostRegressor'] = time.time() - t0\n",
    "\n",
    "data_analys.loc['RMSE', 'CatBoostRegressor']= np.sqrt(mean_squared_error(y_train, predictions))"
   ]
  },
  {
   "cell_type": "code",
   "execution_count": 76,
   "metadata": {},
   "outputs": [
    {
     "data": {
      "text/html": [
       "<div>\n",
       "<style scoped>\n",
       "    .dataframe tbody tr th:only-of-type {\n",
       "        vertical-align: middle;\n",
       "    }\n",
       "\n",
       "    .dataframe tbody tr th {\n",
       "        vertical-align: top;\n",
       "    }\n",
       "\n",
       "    .dataframe thead th {\n",
       "        text-align: right;\n",
       "    }\n",
       "</style>\n",
       "<table border=\"1\" class=\"dataframe\">\n",
       "  <thead>\n",
       "    <tr style=\"text-align: right;\">\n",
       "      <th></th>\n",
       "      <th>LinearRegression</th>\n",
       "      <th>SGDRegressor</th>\n",
       "      <th>CatBoostRegressor</th>\n",
       "      <th>LGBMRegressor</th>\n",
       "    </tr>\n",
       "  </thead>\n",
       "  <tbody>\n",
       "    <tr>\n",
       "      <th>RMSE</th>\n",
       "      <td>2723.456033</td>\n",
       "      <td>2730.812425</td>\n",
       "      <td>1591.761819</td>\n",
       "      <td>NaN</td>\n",
       "    </tr>\n",
       "    <tr>\n",
       "      <th>RMSE с подбором параметров</th>\n",
       "      <td>2727.627491</td>\n",
       "      <td>2729.089598</td>\n",
       "      <td>NaN</td>\n",
       "      <td>NaN</td>\n",
       "    </tr>\n",
       "    <tr>\n",
       "      <th>Время обучения модели</th>\n",
       "      <td>4.851208</td>\n",
       "      <td>21.048007</td>\n",
       "      <td>83.056278</td>\n",
       "      <td>NaN</td>\n",
       "    </tr>\n",
       "    <tr>\n",
       "      <th>Время предсказания модели</th>\n",
       "      <td>0.435832</td>\n",
       "      <td>0.320943</td>\n",
       "      <td>0.614767</td>\n",
       "      <td>NaN</td>\n",
       "    </tr>\n",
       "  </tbody>\n",
       "</table>\n",
       "</div>"
      ],
      "text/plain": [
       "                           LinearRegression SGDRegressor CatBoostRegressor  \\\n",
       "RMSE                            2723.456033  2730.812425       1591.761819   \n",
       "RMSE с подбором параметров      2727.627491  2729.089598               NaN   \n",
       "Время обучения модели              4.851208    21.048007         83.056278   \n",
       "Время предсказания модели          0.435832     0.320943          0.614767   \n",
       "\n",
       "                           LGBMRegressor  \n",
       "RMSE                                 NaN  \n",
       "RMSE с подбором параметров           NaN  \n",
       "Время обучения модели                NaN  \n",
       "Время предсказания модели            NaN  "
      ]
     },
     "execution_count": 76,
     "metadata": {},
     "output_type": "execute_result"
    }
   ],
   "source": [
    "data_analys"
   ]
  },
  {
   "cell_type": "markdown",
   "metadata": {},
   "source": [
    "На дефолтных параметрах модель показывет очень хорошие результаты: как скорость обучения и работы, так и точность предсказаний."
   ]
  },
  {
   "cell_type": "markdown",
   "metadata": {},
   "source": [
    "Попробуем изменить гиперпараметры"
   ]
  },
  {
   "cell_type": "code",
   "execution_count": 77,
   "metadata": {},
   "outputs": [
    {
     "name": "stdout",
     "output_type": "stream",
     "text": [
      "0:\tlearn: 4241.5451225\ttotal: 126ms\tremaining: 2m 5s\n",
      "500:\tlearn: 1560.8943933\ttotal: 56s\tremaining: 55.8s\n",
      "999:\tlearn: 1480.9541771\ttotal: 1m 51s\tremaining: 0us\n",
      "CPU times: total: 2min\n",
      "Wall time: 5min 54s\n"
     ]
    }
   ],
   "source": [
    "%%time\n",
    "\n",
    "model_cbr_tune = CatBoostRegressor(loss_function='RMSE', cat_features=cat_features)\n",
    "\n",
    "parameters_cbr_tune = {'iterations': [1000],\n",
    "        'learning_rate': [0.03, 0.1],\n",
    "        'depth': [6, 8],\n",
    "#         'l2_leaf_reg': [1, 3]\n",
    "              }\n",
    "model_cbr_tune = GridSearchCV(model_cbr_tune, \n",
    "                        parameters_cbr_tune, \n",
    "                        cv = 2, \n",
    "                        n_jobs=-1,\n",
    "                              scoring = 'neg_mean_squared_error').fit(X_train,\n",
    "                                                                y_train, verbose=500)"
   ]
  },
  {
   "cell_type": "code",
   "execution_count": 78,
   "metadata": {
    "scrolled": true
   },
   "outputs": [],
   "source": [
    "predictions = model_cbr_tune.predict(X_train)\n",
    "\n",
    "data_analys.loc['RMSE с подбором параметров', 'CatBoostRegressor']= np.sqrt(mean_squared_error(y_train, predictions))"
   ]
  },
  {
   "cell_type": "code",
   "execution_count": 79,
   "metadata": {},
   "outputs": [
    {
     "data": {
      "text/html": [
       "<div>\n",
       "<style scoped>\n",
       "    .dataframe tbody tr th:only-of-type {\n",
       "        vertical-align: middle;\n",
       "    }\n",
       "\n",
       "    .dataframe tbody tr th {\n",
       "        vertical-align: top;\n",
       "    }\n",
       "\n",
       "    .dataframe thead th {\n",
       "        text-align: right;\n",
       "    }\n",
       "</style>\n",
       "<table border=\"1\" class=\"dataframe\">\n",
       "  <thead>\n",
       "    <tr style=\"text-align: right;\">\n",
       "      <th></th>\n",
       "      <th>LinearRegression</th>\n",
       "      <th>SGDRegressor</th>\n",
       "      <th>CatBoostRegressor</th>\n",
       "      <th>LGBMRegressor</th>\n",
       "    </tr>\n",
       "  </thead>\n",
       "  <tbody>\n",
       "    <tr>\n",
       "      <th>RMSE</th>\n",
       "      <td>2723.456033</td>\n",
       "      <td>2730.812425</td>\n",
       "      <td>1591.761819</td>\n",
       "      <td>NaN</td>\n",
       "    </tr>\n",
       "    <tr>\n",
       "      <th>RMSE с подбором параметров</th>\n",
       "      <td>2727.627491</td>\n",
       "      <td>2729.089598</td>\n",
       "      <td>1494.546315</td>\n",
       "      <td>NaN</td>\n",
       "    </tr>\n",
       "    <tr>\n",
       "      <th>Время обучения модели</th>\n",
       "      <td>4.851208</td>\n",
       "      <td>21.048007</td>\n",
       "      <td>83.056278</td>\n",
       "      <td>NaN</td>\n",
       "    </tr>\n",
       "    <tr>\n",
       "      <th>Время предсказания модели</th>\n",
       "      <td>0.435832</td>\n",
       "      <td>0.320943</td>\n",
       "      <td>0.614767</td>\n",
       "      <td>NaN</td>\n",
       "    </tr>\n",
       "  </tbody>\n",
       "</table>\n",
       "</div>"
      ],
      "text/plain": [
       "                           LinearRegression SGDRegressor CatBoostRegressor  \\\n",
       "RMSE                            2723.456033  2730.812425       1591.761819   \n",
       "RMSE с подбором параметров      2727.627491  2729.089598       1494.546315   \n",
       "Время обучения модели              4.851208    21.048007         83.056278   \n",
       "Время предсказания модели          0.435832     0.320943          0.614767   \n",
       "\n",
       "                           LGBMRegressor  \n",
       "RMSE                                 NaN  \n",
       "RMSE с подбором параметров           NaN  \n",
       "Время обучения модели                NaN  \n",
       "Время предсказания модели            NaN  "
      ]
     },
     "execution_count": 79,
     "metadata": {},
     "output_type": "execute_result"
    }
   ],
   "source": [
    "data_analys"
   ]
  },
  {
   "cell_type": "markdown",
   "metadata": {},
   "source": [
    "Точность предсказаний высока, однако время обучения и время предсказаний выше, чем у линейных моделей."
   ]
  },
  {
   "cell_type": "markdown",
   "metadata": {},
   "source": [
    "### Модель LightGBM"
   ]
  },
  {
   "cell_type": "code",
   "execution_count": 80,
   "metadata": {},
   "outputs": [
    {
     "name": "stdout",
     "output_type": "stream",
     "text": [
      "[LightGBM] [Warning] Auto-choosing row-wise multi-threading, the overhead of testing was 0.012232 seconds.\n",
      "You can set `force_row_wise=true` to remove the overhead.\n",
      "And if memory is not enough, you can set `force_col_wise=true`.\n",
      "[LightGBM] [Info] Total Bins 879\n",
      "[LightGBM] [Info] Number of data points in the train set: 242436, number of used features: 290\n",
      "[LightGBM] [Info] Start training from score 4689.649017\n"
     ]
    }
   ],
   "source": [
    "# Проверим модель на дефолтных параметрах\n",
    "t0= time.time()\n",
    "\n",
    "model_lgb = LGBMRegressor()\n",
    "model_lgb.fit(X_train_ohe, y_train_ohe)\n",
    "\n",
    "data_analys.loc['Время обучения модели', 'LGBMRegressor'] = time.time() - t0"
   ]
  },
  {
   "cell_type": "code",
   "execution_count": 81,
   "metadata": {},
   "outputs": [],
   "source": [
    "t0= time.time()\n",
    "\n",
    "predictions = model_lgb.predict(X_train_ohe)\n",
    "\n",
    "data_analys.loc['Время предсказания модели', 'LGBMRegressor'] = time.time() - t0\n",
    "\n",
    "data_analys.loc['RMSE', 'LGBMRegressor']= np.sqrt(mean_squared_error(y_train_ohe, predictions))"
   ]
  },
  {
   "cell_type": "markdown",
   "metadata": {},
   "source": [
    "Попробуем изменить гиперпараметры"
   ]
  },
  {
   "cell_type": "code",
   "execution_count": 82,
   "metadata": {},
   "outputs": [],
   "source": [
    "parameters_grid = {'max_depth': [6, 8],\n",
    "                   'learning_rate': [0.01, 0.1],\n",
    "                  }"
   ]
  },
  {
   "cell_type": "code",
   "execution_count": 83,
   "metadata": {
    "scrolled": true
   },
   "outputs": [
    {
     "name": "stdout",
     "output_type": "stream",
     "text": [
      "[LightGBM] [Warning] Accuracy may be bad since you didn't explicitly set num_leaves OR 2^max_depth > num_leaves. (num_leaves=31).\n",
      "[LightGBM] [Warning] Accuracy may be bad since you didn't explicitly set num_leaves OR 2^max_depth > num_leaves. (num_leaves=31).\n",
      "[LightGBM] [Warning] Auto-choosing row-wise multi-threading, the overhead of testing was 0.007277 seconds.\n",
      "You can set `force_row_wise=true` to remove the overhead.\n",
      "And if memory is not enough, you can set `force_col_wise=true`.\n",
      "[LightGBM] [Info] Total Bins 867\n",
      "[LightGBM] [Info] Number of data points in the train set: 161624, number of used features: 284\n",
      "[LightGBM] [Info] Start training from score 4702.787822\n",
      "[LightGBM] [Warning] Accuracy may be bad since you didn't explicitly set num_leaves OR 2^max_depth > num_leaves. (num_leaves=31).\n",
      "[LightGBM] [Warning] Accuracy may be bad since you didn't explicitly set num_leaves OR 2^max_depth > num_leaves. (num_leaves=31).\n",
      "[LightGBM] [Warning] Accuracy may be bad since you didn't explicitly set num_leaves OR 2^max_depth > num_leaves. (num_leaves=31).\n",
      "[LightGBM] [Warning] Auto-choosing row-wise multi-threading, the overhead of testing was 0.028307 seconds.\n",
      "You can set `force_row_wise=true` to remove the overhead.\n",
      "And if memory is not enough, you can set `force_col_wise=true`.\n",
      "[LightGBM] [Info] Total Bins 866\n",
      "[LightGBM] [Info] Number of data points in the train set: 161624, number of used features: 283\n",
      "[LightGBM] [Info] Start training from score 4681.893735\n",
      "[LightGBM] [Warning] Accuracy may be bad since you didn't explicitly set num_leaves OR 2^max_depth > num_leaves. (num_leaves=31).\n",
      "[LightGBM] [Warning] Accuracy may be bad since you didn't explicitly set num_leaves OR 2^max_depth > num_leaves. (num_leaves=31).\n",
      "[LightGBM] [Warning] Accuracy may be bad since you didn't explicitly set num_leaves OR 2^max_depth > num_leaves. (num_leaves=31).\n",
      "[LightGBM] [Warning] Auto-choosing row-wise multi-threading, the overhead of testing was 0.007137 seconds.\n",
      "You can set `force_row_wise=true` to remove the overhead.\n",
      "And if memory is not enough, you can set `force_col_wise=true`.\n",
      "[LightGBM] [Info] Total Bins 863\n",
      "[LightGBM] [Info] Number of data points in the train set: 161624, number of used features: 283\n",
      "[LightGBM] [Info] Start training from score 4684.265493\n",
      "[LightGBM] [Warning] Accuracy may be bad since you didn't explicitly set num_leaves OR 2^max_depth > num_leaves. (num_leaves=31).\n",
      "[LightGBM] [Warning] Accuracy may be bad since you didn't explicitly set num_leaves OR 2^max_depth > num_leaves. (num_leaves=31).\n",
      "[LightGBM] [Warning] Accuracy may be bad since you didn't explicitly set num_leaves OR 2^max_depth > num_leaves. (num_leaves=31).\n",
      "[LightGBM] [Warning] Auto-choosing row-wise multi-threading, the overhead of testing was 0.007219 seconds.\n",
      "You can set `force_row_wise=true` to remove the overhead.\n",
      "And if memory is not enough, you can set `force_col_wise=true`.\n",
      "[LightGBM] [Info] Total Bins 867\n",
      "[LightGBM] [Info] Number of data points in the train set: 161624, number of used features: 284\n",
      "[LightGBM] [Info] Start training from score 4702.787822\n",
      "[LightGBM] [Warning] Accuracy may be bad since you didn't explicitly set num_leaves OR 2^max_depth > num_leaves. (num_leaves=31).\n",
      "[LightGBM] [Warning] Accuracy may be bad since you didn't explicitly set num_leaves OR 2^max_depth > num_leaves. (num_leaves=31).\n",
      "[LightGBM] [Warning] Accuracy may be bad since you didn't explicitly set num_leaves OR 2^max_depth > num_leaves. (num_leaves=31).\n",
      "[LightGBM] [Warning] Auto-choosing row-wise multi-threading, the overhead of testing was 0.029338 seconds.\n",
      "You can set `force_row_wise=true` to remove the overhead.\n",
      "And if memory is not enough, you can set `force_col_wise=true`.\n",
      "[LightGBM] [Info] Total Bins 866\n",
      "[LightGBM] [Info] Number of data points in the train set: 161624, number of used features: 283\n",
      "[LightGBM] [Info] Start training from score 4681.893735\n",
      "[LightGBM] [Warning] Accuracy may be bad since you didn't explicitly set num_leaves OR 2^max_depth > num_leaves. (num_leaves=31).\n",
      "[LightGBM] [Warning] Accuracy may be bad since you didn't explicitly set num_leaves OR 2^max_depth > num_leaves. (num_leaves=31).\n",
      "[LightGBM] [Warning] Accuracy may be bad since you didn't explicitly set num_leaves OR 2^max_depth > num_leaves. (num_leaves=31).\n",
      "[LightGBM] [Warning] Auto-choosing row-wise multi-threading, the overhead of testing was 0.007007 seconds.\n",
      "You can set `force_row_wise=true` to remove the overhead.\n",
      "And if memory is not enough, you can set `force_col_wise=true`.\n",
      "[LightGBM] [Info] Total Bins 863\n",
      "[LightGBM] [Info] Number of data points in the train set: 161624, number of used features: 283\n",
      "[LightGBM] [Info] Start training from score 4684.265493\n",
      "[LightGBM] [Warning] Accuracy may be bad since you didn't explicitly set num_leaves OR 2^max_depth > num_leaves. (num_leaves=31).\n",
      "[LightGBM] [Warning] Accuracy may be bad since you didn't explicitly set num_leaves OR 2^max_depth > num_leaves. (num_leaves=31).\n",
      "[LightGBM] [Warning] Accuracy may be bad since you didn't explicitly set num_leaves OR 2^max_depth > num_leaves. (num_leaves=31).\n",
      "[LightGBM] [Warning] Auto-choosing row-wise multi-threading, the overhead of testing was 0.007159 seconds.\n",
      "You can set `force_row_wise=true` to remove the overhead.\n",
      "And if memory is not enough, you can set `force_col_wise=true`.\n",
      "[LightGBM] [Info] Total Bins 867\n",
      "[LightGBM] [Info] Number of data points in the train set: 161624, number of used features: 284\n",
      "[LightGBM] [Info] Start training from score 4702.787822\n",
      "[LightGBM] [Warning] No further splits with positive gain, best gain: -inf\n",
      "[LightGBM] [Warning] No further splits with positive gain, best gain: -inf\n",
      "[LightGBM] [Warning] No further splits with positive gain, best gain: -inf\n",
      "[LightGBM] [Warning] No further splits with positive gain, best gain: -inf\n",
      "[LightGBM] [Warning] No further splits with positive gain, best gain: -inf\n",
      "[LightGBM] [Warning] No further splits with positive gain, best gain: -inf\n",
      "[LightGBM] [Warning] No further splits with positive gain, best gain: -inf\n",
      "[LightGBM] [Warning] No further splits with positive gain, best gain: -inf\n",
      "[LightGBM] [Warning] No further splits with positive gain, best gain: -inf\n",
      "[LightGBM] [Warning] No further splits with positive gain, best gain: -inf\n",
      "[LightGBM] [Warning] No further splits with positive gain, best gain: -inf\n",
      "[LightGBM] [Warning] Accuracy may be bad since you didn't explicitly set num_leaves OR 2^max_depth > num_leaves. (num_leaves=31).\n",
      "[LightGBM] [Warning] Accuracy may be bad since you didn't explicitly set num_leaves OR 2^max_depth > num_leaves. (num_leaves=31).\n",
      "[LightGBM] [Warning] Accuracy may be bad since you didn't explicitly set num_leaves OR 2^max_depth > num_leaves. (num_leaves=31).\n",
      "[LightGBM] [Warning] Auto-choosing row-wise multi-threading, the overhead of testing was 0.040510 seconds.\n",
      "You can set `force_row_wise=true` to remove the overhead.\n",
      "And if memory is not enough, you can set `force_col_wise=true`.\n",
      "[LightGBM] [Info] Total Bins 866\n",
      "[LightGBM] [Info] Number of data points in the train set: 161624, number of used features: 283\n",
      "[LightGBM] [Info] Start training from score 4681.893735\n",
      "[LightGBM] [Warning] No further splits with positive gain, best gain: -inf\n",
      "[LightGBM] [Warning] No further splits with positive gain, best gain: -inf\n",
      "[LightGBM] [Warning] No further splits with positive gain, best gain: -inf\n",
      "[LightGBM] [Warning] No further splits with positive gain, best gain: -inf\n",
      "[LightGBM] [Warning] No further splits with positive gain, best gain: -inf\n",
      "[LightGBM] [Warning] No further splits with positive gain, best gain: -inf\n",
      "[LightGBM] [Warning] No further splits with positive gain, best gain: -inf\n",
      "[LightGBM] [Warning] No further splits with positive gain, best gain: -inf\n",
      "[LightGBM] [Warning] No further splits with positive gain, best gain: -inf\n",
      "[LightGBM] [Warning] No further splits with positive gain, best gain: -inf\n",
      "[LightGBM] [Warning] No further splits with positive gain, best gain: -inf\n",
      "[LightGBM] [Warning] No further splits with positive gain, best gain: -inf\n",
      "[LightGBM] [Warning] No further splits with positive gain, best gain: -inf\n",
      "[LightGBM] [Warning] No further splits with positive gain, best gain: -inf\n",
      "[LightGBM] [Warning] No further splits with positive gain, best gain: -inf\n",
      "[LightGBM] [Warning] Accuracy may be bad since you didn't explicitly set num_leaves OR 2^max_depth > num_leaves. (num_leaves=31).\n",
      "[LightGBM] [Warning] Accuracy may be bad since you didn't explicitly set num_leaves OR 2^max_depth > num_leaves. (num_leaves=31).\n",
      "[LightGBM] [Warning] Accuracy may be bad since you didn't explicitly set num_leaves OR 2^max_depth > num_leaves. (num_leaves=31).\n",
      "[LightGBM] [Warning] Auto-choosing row-wise multi-threading, the overhead of testing was 0.006722 seconds.\n",
      "You can set `force_row_wise=true` to remove the overhead.\n",
      "And if memory is not enough, you can set `force_col_wise=true`.\n",
      "[LightGBM] [Info] Total Bins 863\n",
      "[LightGBM] [Info] Number of data points in the train set: 161624, number of used features: 283\n",
      "[LightGBM] [Info] Start training from score 4684.265493\n",
      "[LightGBM] [Warning] No further splits with positive gain, best gain: -inf\n",
      "[LightGBM] [Warning] No further splits with positive gain, best gain: -inf\n",
      "[LightGBM] [Warning] No further splits with positive gain, best gain: -inf\n",
      "[LightGBM] [Warning] No further splits with positive gain, best gain: -inf\n",
      "[LightGBM] [Warning] No further splits with positive gain, best gain: -inf\n",
      "[LightGBM] [Warning] No further splits with positive gain, best gain: -inf\n",
      "[LightGBM] [Warning] No further splits with positive gain, best gain: -inf\n",
      "[LightGBM] [Warning] No further splits with positive gain, best gain: -inf\n",
      "[LightGBM] [Warning] No further splits with positive gain, best gain: -inf\n",
      "[LightGBM] [Warning] No further splits with positive gain, best gain: -inf\n",
      "[LightGBM] [Warning] No further splits with positive gain, best gain: -inf\n",
      "[LightGBM] [Warning] No further splits with positive gain, best gain: -inf\n",
      "[LightGBM] [Warning] No further splits with positive gain, best gain: -inf\n",
      "[LightGBM] [Warning] No further splits with positive gain, best gain: -inf\n",
      "[LightGBM] [Warning] No further splits with positive gain, best gain: -inf\n",
      "[LightGBM] [Warning] Accuracy may be bad since you didn't explicitly set num_leaves OR 2^max_depth > num_leaves. (num_leaves=31).\n",
      "[LightGBM] [Warning] Accuracy may be bad since you didn't explicitly set num_leaves OR 2^max_depth > num_leaves. (num_leaves=31).\n",
      "[LightGBM] [Warning] Accuracy may be bad since you didn't explicitly set num_leaves OR 2^max_depth > num_leaves. (num_leaves=31).\n",
      "[LightGBM] [Warning] Auto-choosing row-wise multi-threading, the overhead of testing was 0.007308 seconds.\n",
      "You can set `force_row_wise=true` to remove the overhead.\n",
      "And if memory is not enough, you can set `force_col_wise=true`.\n",
      "[LightGBM] [Info] Total Bins 867\n",
      "[LightGBM] [Info] Number of data points in the train set: 161624, number of used features: 284\n",
      "[LightGBM] [Info] Start training from score 4702.787822\n",
      "[LightGBM] [Warning] Accuracy may be bad since you didn't explicitly set num_leaves OR 2^max_depth > num_leaves. (num_leaves=31).\n",
      "[LightGBM] [Warning] Accuracy may be bad since you didn't explicitly set num_leaves OR 2^max_depth > num_leaves. (num_leaves=31).\n",
      "[LightGBM] [Warning] Accuracy may be bad since you didn't explicitly set num_leaves OR 2^max_depth > num_leaves. (num_leaves=31).\n",
      "[LightGBM] [Warning] Auto-choosing row-wise multi-threading, the overhead of testing was 0.033603 seconds.\n",
      "You can set `force_row_wise=true` to remove the overhead.\n",
      "And if memory is not enough, you can set `force_col_wise=true`.\n",
      "[LightGBM] [Info] Total Bins 866\n",
      "[LightGBM] [Info] Number of data points in the train set: 161624, number of used features: 283\n",
      "[LightGBM] [Info] Start training from score 4681.893735\n",
      "[LightGBM] [Warning] Accuracy may be bad since you didn't explicitly set num_leaves OR 2^max_depth > num_leaves. (num_leaves=31).\n",
      "[LightGBM] [Warning] Accuracy may be bad since you didn't explicitly set num_leaves OR 2^max_depth > num_leaves. (num_leaves=31).\n",
      "[LightGBM] [Warning] Accuracy may be bad since you didn't explicitly set num_leaves OR 2^max_depth > num_leaves. (num_leaves=31).\n",
      "[LightGBM] [Warning] Auto-choosing row-wise multi-threading, the overhead of testing was 0.006509 seconds.\n",
      "You can set `force_row_wise=true` to remove the overhead.\n",
      "And if memory is not enough, you can set `force_col_wise=true`.\n",
      "[LightGBM] [Info] Total Bins 863\n",
      "[LightGBM] [Info] Number of data points in the train set: 161624, number of used features: 283\n",
      "[LightGBM] [Info] Start training from score 4684.265493\n",
      "[LightGBM] [Warning] Accuracy may be bad since you didn't explicitly set num_leaves OR 2^max_depth > num_leaves. (num_leaves=31).\n",
      "[LightGBM] [Warning] Accuracy may be bad since you didn't explicitly set num_leaves OR 2^max_depth > num_leaves. (num_leaves=31).\n",
      "[LightGBM] [Warning] Accuracy may be bad since you didn't explicitly set num_leaves OR 2^max_depth > num_leaves. (num_leaves=31).\n",
      "[LightGBM] [Warning] Auto-choosing row-wise multi-threading, the overhead of testing was 0.007675 seconds.\n",
      "You can set `force_row_wise=true` to remove the overhead.\n",
      "And if memory is not enough, you can set `force_col_wise=true`.\n",
      "[LightGBM] [Info] Total Bins 879\n",
      "[LightGBM] [Info] Number of data points in the train set: 242436, number of used features: 290\n",
      "[LightGBM] [Info] Start training from score 4689.649017\n",
      "[LightGBM] [Warning] No further splits with positive gain, best gain: -inf\n",
      "CPU times: total: 42 s\n",
      "Wall time: 12.5 s\n"
     ]
    }
   ],
   "source": [
    "%%time\n",
    "\n",
    "model_lgb_tuned = GridSearchCV(model_lgb, \n",
    "                               parameters_grid, \n",
    "                               scoring='neg_mean_squared_error',\n",
    "                               cv=3).fit(X_train_ohe, y_train_ohe)"
   ]
  },
  {
   "cell_type": "code",
   "execution_count": 84,
   "metadata": {},
   "outputs": [
    {
     "name": "stdout",
     "output_type": "stream",
     "text": [
      "[LightGBM] [Warning] Accuracy may be bad since you didn't explicitly set num_leaves OR 2^max_depth > num_leaves. (num_leaves=31).\n",
      "CPU times: total: 2.14 s\n",
      "Wall time: 578 ms\n"
     ]
    }
   ],
   "source": [
    "%%time\n",
    "\n",
    "predictions = model_lgb_tuned.predict(X_train_ohe)\n",
    "data_analys.loc['RMSE с подбором параметров', 'LGBMRegressor']= np.sqrt(mean_squared_error(y_train_ohe, predictions))"
   ]
  },
  {
   "cell_type": "markdown",
   "metadata": {},
   "source": [
    "## Анализ моделей"
   ]
  },
  {
   "cell_type": "markdown",
   "metadata": {},
   "source": [
    "Проанализируем полученные экспериментальные данные"
   ]
  },
  {
   "cell_type": "code",
   "execution_count": 85,
   "metadata": {
    "scrolled": false
   },
   "outputs": [
    {
     "data": {
      "text/html": [
       "<style type=\"text/css\">\n",
       "#T_23124_row1_col3, #T_23124_row2_col0, #T_23124_row2_col1, #T_23124_row3_col2 {\n",
       "  background-color: yellow;\n",
       "}\n",
       "</style>\n",
       "<table id=\"T_23124\">\n",
       "  <thead>\n",
       "    <tr>\n",
       "      <th class=\"blank level0\" >&nbsp;</th>\n",
       "      <th id=\"T_23124_level0_col0\" class=\"col_heading level0 col0\" >RMSE</th>\n",
       "      <th id=\"T_23124_level0_col1\" class=\"col_heading level0 col1\" >RMSE с подбором параметров</th>\n",
       "      <th id=\"T_23124_level0_col2\" class=\"col_heading level0 col2\" >Время обучения модели</th>\n",
       "      <th id=\"T_23124_level0_col3\" class=\"col_heading level0 col3\" >Время предсказания модели</th>\n",
       "    </tr>\n",
       "  </thead>\n",
       "  <tbody>\n",
       "    <tr>\n",
       "      <th id=\"T_23124_level0_row0\" class=\"row_heading level0 row0\" >LinearRegression</th>\n",
       "      <td id=\"T_23124_row0_col0\" class=\"data row0 col0\" >2723.456033</td>\n",
       "      <td id=\"T_23124_row0_col1\" class=\"data row0 col1\" >2727.627491</td>\n",
       "      <td id=\"T_23124_row0_col2\" class=\"data row0 col2\" >4.851208</td>\n",
       "      <td id=\"T_23124_row0_col3\" class=\"data row0 col3\" >0.435832</td>\n",
       "    </tr>\n",
       "    <tr>\n",
       "      <th id=\"T_23124_level0_row1\" class=\"row_heading level0 row1\" >SGDRegressor</th>\n",
       "      <td id=\"T_23124_row1_col0\" class=\"data row1 col0\" >2730.812425</td>\n",
       "      <td id=\"T_23124_row1_col1\" class=\"data row1 col1\" >2729.089598</td>\n",
       "      <td id=\"T_23124_row1_col2\" class=\"data row1 col2\" >21.048007</td>\n",
       "      <td id=\"T_23124_row1_col3\" class=\"data row1 col3\" >0.320943</td>\n",
       "    </tr>\n",
       "    <tr>\n",
       "      <th id=\"T_23124_level0_row2\" class=\"row_heading level0 row2\" >CatBoostRegressor</th>\n",
       "      <td id=\"T_23124_row2_col0\" class=\"data row2 col0\" >1591.761819</td>\n",
       "      <td id=\"T_23124_row2_col1\" class=\"data row2 col1\" >1494.546315</td>\n",
       "      <td id=\"T_23124_row2_col2\" class=\"data row2 col2\" >83.056278</td>\n",
       "      <td id=\"T_23124_row2_col3\" class=\"data row2 col3\" >0.614767</td>\n",
       "    </tr>\n",
       "    <tr>\n",
       "      <th id=\"T_23124_level0_row3\" class=\"row_heading level0 row3\" >LGBMRegressor</th>\n",
       "      <td id=\"T_23124_row3_col0\" class=\"data row3 col0\" >1732.864456</td>\n",
       "      <td id=\"T_23124_row3_col1\" class=\"data row3 col1\" >1747.696861</td>\n",
       "      <td id=\"T_23124_row3_col2\" class=\"data row3 col2\" >1.284275</td>\n",
       "      <td id=\"T_23124_row3_col3\" class=\"data row3 col3\" >0.624604</td>\n",
       "    </tr>\n",
       "  </tbody>\n",
       "</table>\n"
      ],
      "text/plain": [
       "<pandas.io.formats.style.Styler at 0x226d28ccdd0>"
      ]
     },
     "execution_count": 85,
     "metadata": {},
     "output_type": "execute_result"
    }
   ],
   "source": [
    "data_analys = data_analys.astype(float)\n",
    "data_analys.T.style.highlight_min(color=\"yellow\")"
   ]
  },
  {
   "cell_type": "markdown",
   "metadata": {},
   "source": [
    "По результатам проверки рекомендуем заказчику модель CatBoostRegressor с гиперпараметрами, установленными по дефолту. У этой модели оптимальное соотношение качества предсказаний и времени предсказаний. С учетом того факта, что обучение требуется не так часто, по моему мнению лучше ориентироваться на качество и скорость предсказаний. Однако в случае уточнения требований заказчика и смещения приоритетов на скорость обучения необходимо рассмотреть модель LGBMRegressor."
   ]
  },
  {
   "cell_type": "code",
   "execution_count": 86,
   "metadata": {},
   "outputs": [
    {
     "name": "stdout",
     "output_type": "stream",
     "text": [
      "RMSE выбранной модели на тестовых данных 1658.3635636975896\n",
      "Время предсказания модели на тестовых данных 0.2057788372039795 секунд\n"
     ]
    }
   ],
   "source": [
    "# Проверим выбранную модель на тестовых данных\n",
    "t0= time.time()\n",
    "predictions_test = model_cbr.predict(X_test)\n",
    "# predictions_test = model_cbr_tune.predict(X_test)\n",
    "print('RMSE выбранной модели на тестовых данных', np.sqrt(mean_squared_error(y_test, predictions_test)))\n",
    "print('Время предсказания модели на тестовых данных', time.time() - t0, 'секунд')"
   ]
  },
  {
   "cell_type": "code",
   "execution_count": 87,
   "metadata": {},
   "outputs": [
    {
     "name": "stdout",
     "output_type": "stream",
     "text": [
      "RMSE Dummy модели на тестовых данных 4542.975592657969\n"
     ]
    }
   ],
   "source": [
    "# Проверим модель на адекватность\n",
    "dummy_clf = DummyRegressor(strategy=\"mean\")\n",
    "\n",
    "dummy_clf.fit(X_train, y_train)\n",
    "\n",
    "predictions_dummy = dummy_clf.predict(X_test)\n",
    "\n",
    "print('RMSE Dummy модели на тестовых данных', np.sqrt(mean_squared_error(y_test, predictions_dummy)))"
   ]
  },
  {
   "cell_type": "markdown",
   "metadata": {},
   "source": [
    "## Общий вывод по проекту.\n",
    "Загрузили, изучили и подготовили данные к исследованию. \\\n",
    "Подготовили данные для обучения моделей с учетом требований моделей.\\\n",
    "Обучили разные модели: 'LinearRegression', 'SGDRegressor', 'CatBoostRegressor', 'LGBMRegressor'.\\\n",
    "Для каждой модели попробовали разные гиперпараметры.\\\n",
    "Проанализировали время обучения, время предсказания и качество моделей,\\\n",
    "Занесли данные в таблицу, визуализировали результаты.\\\n",
    "Выбрали лучшую модель, проверили её качество на тестовой выборке.\\\n",
    "Проверили модель на адекватность."
   ]
  }
 ],
 "metadata": {
  "ExecuteTimeLog": [
   {
    "duration": 1906,
    "start_time": "2023-03-29T08:04:04.798Z"
   },
   {
    "duration": 1384,
    "start_time": "2023-03-29T08:04:06.707Z"
   },
   {
    "duration": 28,
    "start_time": "2023-03-29T08:04:08.094Z"
   },
   {
    "duration": 16,
    "start_time": "2023-03-29T08:05:19.249Z"
   },
   {
    "duration": 128,
    "start_time": "2023-03-29T08:05:43.297Z"
   },
   {
    "duration": 75,
    "start_time": "2023-03-29T08:06:40.886Z"
   },
   {
    "duration": 739,
    "start_time": "2023-03-29T08:06:57.785Z"
   },
   {
    "duration": 508,
    "start_time": "2023-03-29T08:08:29.518Z"
   },
   {
    "duration": 6,
    "start_time": "2023-03-29T08:09:49.550Z"
   },
   {
    "duration": 597,
    "start_time": "2023-03-29T08:17:01.416Z"
   },
   {
    "duration": 553,
    "start_time": "2023-03-29T08:17:03.999Z"
   },
   {
    "duration": 183,
    "start_time": "2023-03-29T08:19:36.821Z"
   },
   {
    "duration": 10,
    "start_time": "2023-03-29T08:19:55.604Z"
   },
   {
    "duration": 522,
    "start_time": "2023-03-29T08:20:01.012Z"
   },
   {
    "duration": 51,
    "start_time": "2023-03-29T08:20:28.635Z"
   },
   {
    "duration": 6,
    "start_time": "2023-03-29T08:20:31.507Z"
   },
   {
    "duration": 76,
    "start_time": "2023-03-29T08:22:25.826Z"
   },
   {
    "duration": 77,
    "start_time": "2023-03-29T08:22:43.692Z"
   },
   {
    "duration": 71,
    "start_time": "2023-03-29T08:24:03.721Z"
   },
   {
    "duration": 91,
    "start_time": "2023-03-29T08:24:09.201Z"
   },
   {
    "duration": 36,
    "start_time": "2023-03-29T08:24:25.097Z"
   },
   {
    "duration": 147,
    "start_time": "2023-03-29T08:24:55.167Z"
   },
   {
    "duration": 5,
    "start_time": "2023-03-29T08:25:28.054Z"
   },
   {
    "duration": 15,
    "start_time": "2023-03-29T08:25:28.870Z"
   },
   {
    "duration": 4,
    "start_time": "2023-03-29T08:26:37.125Z"
   },
   {
    "duration": 16,
    "start_time": "2023-03-29T08:26:40.350Z"
   },
   {
    "duration": 12,
    "start_time": "2023-03-29T08:26:46.237Z"
   },
   {
    "duration": 12,
    "start_time": "2023-03-29T08:26:52.197Z"
   },
   {
    "duration": 14,
    "start_time": "2023-03-29T08:26:56.549Z"
   },
   {
    "duration": 16,
    "start_time": "2023-03-29T08:27:10.948Z"
   },
   {
    "duration": 5,
    "start_time": "2023-03-29T08:28:34.844Z"
   },
   {
    "duration": 1535,
    "start_time": "2023-03-29T08:31:15.186Z"
   },
   {
    "duration": 871,
    "start_time": "2023-03-29T08:31:16.723Z"
   },
   {
    "duration": 28,
    "start_time": "2023-03-29T08:31:17.596Z"
   },
   {
    "duration": 182,
    "start_time": "2023-03-29T08:31:17.626Z"
   },
   {
    "duration": 534,
    "start_time": "2023-03-29T08:31:17.811Z"
   },
   {
    "duration": 542,
    "start_time": "2023-03-29T08:31:18.347Z"
   },
   {
    "duration": 4,
    "start_time": "2023-03-29T08:31:18.891Z"
   },
   {
    "duration": 49,
    "start_time": "2023-03-29T08:31:18.898Z"
   },
   {
    "duration": 56,
    "start_time": "2023-03-29T08:31:18.949Z"
   },
   {
    "duration": 143,
    "start_time": "2023-03-29T08:31:19.007Z"
   },
   {
    "duration": 14,
    "start_time": "2023-03-29T08:31:26.598Z"
   },
   {
    "duration": 127,
    "start_time": "2023-03-29T08:35:47.941Z"
   },
   {
    "duration": 117,
    "start_time": "2023-03-29T08:35:54.819Z"
   },
   {
    "duration": 116,
    "start_time": "2023-03-29T08:36:02.297Z"
   },
   {
    "duration": 62,
    "start_time": "2023-03-29T08:53:34.399Z"
   },
   {
    "duration": 64,
    "start_time": "2023-03-29T08:53:50.933Z"
   },
   {
    "duration": 1690,
    "start_time": "2023-03-29T09:00:03.535Z"
   },
   {
    "duration": 1382,
    "start_time": "2023-03-29T09:00:16.625Z"
   },
   {
    "duration": 815,
    "start_time": "2023-03-29T09:00:18.009Z"
   },
   {
    "duration": 133,
    "start_time": "2023-03-29T09:00:18.826Z"
   },
   {
    "duration": 452,
    "start_time": "2023-03-29T09:00:18.961Z"
   },
   {
    "duration": 487,
    "start_time": "2023-03-29T09:00:19.414Z"
   },
   {
    "duration": 4,
    "start_time": "2023-03-29T09:00:19.903Z"
   },
   {
    "duration": 58,
    "start_time": "2023-03-29T09:00:19.908Z"
   },
   {
    "duration": 61,
    "start_time": "2023-03-29T09:00:19.968Z"
   },
   {
    "duration": 1383,
    "start_time": "2023-03-29T09:00:20.031Z"
   },
   {
    "duration": 0,
    "start_time": "2023-03-29T09:00:21.416Z"
   },
   {
    "duration": 1128,
    "start_time": "2023-03-29T09:01:06.245Z"
   },
   {
    "duration": 74,
    "start_time": "2023-03-29T09:04:12.418Z"
   },
   {
    "duration": 1492,
    "start_time": "2023-03-29T09:05:00.743Z"
   },
   {
    "duration": 860,
    "start_time": "2023-03-29T09:05:02.237Z"
   },
   {
    "duration": 162,
    "start_time": "2023-03-29T09:05:03.099Z"
   },
   {
    "duration": 468,
    "start_time": "2023-03-29T09:05:03.264Z"
   },
   {
    "duration": 541,
    "start_time": "2023-03-29T09:05:03.734Z"
   },
   {
    "duration": 5,
    "start_time": "2023-03-29T09:05:04.277Z"
   },
   {
    "duration": 76,
    "start_time": "2023-03-29T09:05:04.284Z"
   },
   {
    "duration": 64,
    "start_time": "2023-03-29T09:05:04.361Z"
   },
   {
    "duration": 23,
    "start_time": "2023-03-29T09:05:04.427Z"
   },
   {
    "duration": 7,
    "start_time": "2023-03-29T09:06:37.352Z"
   },
   {
    "duration": 12,
    "start_time": "2023-03-29T09:06:52.705Z"
   },
   {
    "duration": 131,
    "start_time": "2023-03-29T09:08:29.757Z"
   },
   {
    "duration": 11,
    "start_time": "2023-03-29T09:10:14.339Z"
   },
   {
    "duration": 2,
    "start_time": "2023-03-29T09:10:20.636Z"
   },
   {
    "duration": 10,
    "start_time": "2023-03-29T09:11:19.293Z"
   },
   {
    "duration": 29,
    "start_time": "2023-03-29T09:15:17.350Z"
   },
   {
    "duration": 14,
    "start_time": "2023-03-29T09:15:21.814Z"
   },
   {
    "duration": 4,
    "start_time": "2023-03-29T09:15:50.606Z"
   },
   {
    "duration": 20,
    "start_time": "2023-03-29T09:15:53.830Z"
   },
   {
    "duration": 16,
    "start_time": "2023-03-29T09:17:49.508Z"
   },
   {
    "duration": 13,
    "start_time": "2023-03-29T09:18:09.515Z"
   },
   {
    "duration": 1508,
    "start_time": "2023-03-29T09:18:15.252Z"
   },
   {
    "duration": 822,
    "start_time": "2023-03-29T09:18:16.762Z"
   },
   {
    "duration": 152,
    "start_time": "2023-03-29T09:18:17.586Z"
   },
   {
    "duration": 473,
    "start_time": "2023-03-29T09:18:17.740Z"
   },
   {
    "duration": 955,
    "start_time": "2023-03-29T09:18:18.214Z"
   },
   {
    "duration": 6,
    "start_time": "2023-03-29T09:18:19.170Z"
   },
   {
    "duration": 53,
    "start_time": "2023-03-29T09:18:19.178Z"
   },
   {
    "duration": 58,
    "start_time": "2023-03-29T09:18:19.233Z"
   },
   {
    "duration": 121,
    "start_time": "2023-03-29T09:18:19.292Z"
   },
   {
    "duration": 0,
    "start_time": "2023-03-29T09:18:19.415Z"
   },
   {
    "duration": 0,
    "start_time": "2023-03-29T09:18:19.416Z"
   },
   {
    "duration": 12,
    "start_time": "2023-03-29T09:22:52.584Z"
   },
   {
    "duration": 17,
    "start_time": "2023-03-29T09:31:54.281Z"
   },
   {
    "duration": 23,
    "start_time": "2023-03-29T09:35:57.249Z"
   },
   {
    "duration": 13,
    "start_time": "2023-03-29T09:35:59.425Z"
   },
   {
    "duration": 10,
    "start_time": "2023-03-29T09:37:45.039Z"
   },
   {
    "duration": 7,
    "start_time": "2023-03-29T09:37:49.326Z"
   },
   {
    "duration": 8,
    "start_time": "2023-03-29T09:38:34.302Z"
   },
   {
    "duration": 1458,
    "start_time": "2023-03-29T09:38:46.954Z"
   },
   {
    "duration": 806,
    "start_time": "2023-03-29T09:38:48.415Z"
   },
   {
    "duration": 139,
    "start_time": "2023-03-29T09:38:49.222Z"
   },
   {
    "duration": 450,
    "start_time": "2023-03-29T09:38:49.362Z"
   },
   {
    "duration": 962,
    "start_time": "2023-03-29T09:38:49.814Z"
   },
   {
    "duration": 4,
    "start_time": "2023-03-29T09:38:50.778Z"
   },
   {
    "duration": 43,
    "start_time": "2023-03-29T09:38:50.785Z"
   },
   {
    "duration": 75,
    "start_time": "2023-03-29T09:38:50.830Z"
   },
   {
    "duration": 26,
    "start_time": "2023-03-29T09:38:50.907Z"
   },
   {
    "duration": 6,
    "start_time": "2023-03-29T09:38:50.935Z"
   },
   {
    "duration": 20,
    "start_time": "2023-03-29T09:40:23.100Z"
   },
   {
    "duration": 18,
    "start_time": "2023-03-29T09:40:34.301Z"
   },
   {
    "duration": 13,
    "start_time": "2023-03-29T09:40:50.748Z"
   },
   {
    "duration": 7,
    "start_time": "2023-03-29T09:40:58.628Z"
   },
   {
    "duration": 6,
    "start_time": "2023-03-29T09:41:12.163Z"
   },
   {
    "duration": 131,
    "start_time": "2023-03-29T10:11:22.776Z"
   },
   {
    "duration": 17,
    "start_time": "2023-03-29T10:11:30.327Z"
   },
   {
    "duration": 10,
    "start_time": "2023-03-29T10:11:41.517Z"
   },
   {
    "duration": 6,
    "start_time": "2023-03-29T10:11:55.524Z"
   },
   {
    "duration": 1584,
    "start_time": "2023-03-29T10:14:35.281Z"
   },
   {
    "duration": 869,
    "start_time": "2023-03-29T10:14:36.867Z"
   },
   {
    "duration": 165,
    "start_time": "2023-03-29T10:14:38.241Z"
   },
   {
    "duration": 137,
    "start_time": "2023-03-29T10:14:47.881Z"
   },
   {
    "duration": 514,
    "start_time": "2023-03-29T10:14:53.720Z"
   },
   {
    "duration": 985,
    "start_time": "2023-03-29T10:14:55.138Z"
   },
   {
    "duration": 4,
    "start_time": "2023-03-29T10:15:00.737Z"
   },
   {
    "duration": 40,
    "start_time": "2023-03-29T10:15:01.736Z"
   },
   {
    "duration": 65,
    "start_time": "2023-03-29T10:15:05.049Z"
   },
   {
    "duration": 31,
    "start_time": "2023-03-29T10:15:06.464Z"
   },
   {
    "duration": 8,
    "start_time": "2023-03-29T10:15:07.609Z"
   },
   {
    "duration": 12,
    "start_time": "2023-03-29T10:17:05.599Z"
   },
   {
    "duration": 1411,
    "start_time": "2023-03-29T10:17:17.718Z"
   },
   {
    "duration": 856,
    "start_time": "2023-03-29T10:17:19.131Z"
   },
   {
    "duration": 135,
    "start_time": "2023-03-29T10:17:19.989Z"
   },
   {
    "duration": 100,
    "start_time": "2023-03-29T10:17:21.286Z"
   },
   {
    "duration": 470,
    "start_time": "2023-03-29T10:17:23.521Z"
   },
   {
    "duration": 949,
    "start_time": "2023-03-29T10:17:48.526Z"
   },
   {
    "duration": 442,
    "start_time": "2023-03-29T10:17:51.150Z"
   },
   {
    "duration": 108,
    "start_time": "2023-03-29T10:17:54.981Z"
   },
   {
    "duration": 5,
    "start_time": "2023-03-29T10:18:00.406Z"
   },
   {
    "duration": 47,
    "start_time": "2023-03-29T10:18:04.494Z"
   },
   {
    "duration": 430,
    "start_time": "2023-03-29T10:18:07.278Z"
   },
   {
    "duration": 103,
    "start_time": "2023-03-29T10:18:21.597Z"
   },
   {
    "duration": 57,
    "start_time": "2023-03-29T10:18:29.597Z"
   },
   {
    "duration": 11,
    "start_time": "2023-03-29T10:18:33.022Z"
   },
   {
    "duration": 6,
    "start_time": "2023-03-29T10:18:38.781Z"
   },
   {
    "duration": 1624,
    "start_time": "2023-03-29T10:19:02.816Z"
   },
   {
    "duration": 868,
    "start_time": "2023-03-29T10:19:04.443Z"
   },
   {
    "duration": 141,
    "start_time": "2023-03-29T10:19:05.314Z"
   },
   {
    "duration": 493,
    "start_time": "2023-03-29T10:19:05.457Z"
   },
   {
    "duration": 1027,
    "start_time": "2023-03-29T10:19:05.952Z"
   },
   {
    "duration": 4,
    "start_time": "2023-03-29T10:19:06.981Z"
   },
   {
    "duration": 57,
    "start_time": "2023-03-29T10:19:06.988Z"
   },
   {
    "duration": 103,
    "start_time": "2023-03-29T10:19:07.047Z"
   },
   {
    "duration": 132,
    "start_time": "2023-03-29T10:19:07.152Z"
   },
   {
    "duration": 428,
    "start_time": "2023-03-29T10:19:19.261Z"
   },
   {
    "duration": 1526,
    "start_time": "2023-03-29T10:19:45.266Z"
   },
   {
    "duration": 882,
    "start_time": "2023-03-29T10:19:46.794Z"
   },
   {
    "duration": 166,
    "start_time": "2023-03-29T10:19:47.679Z"
   },
   {
    "duration": 516,
    "start_time": "2023-03-29T10:19:47.848Z"
   },
   {
    "duration": 1043,
    "start_time": "2023-03-29T10:19:48.366Z"
   },
   {
    "duration": 6,
    "start_time": "2023-03-29T10:19:49.411Z"
   },
   {
    "duration": 61,
    "start_time": "2023-03-29T10:19:49.419Z"
   },
   {
    "duration": 79,
    "start_time": "2023-03-29T10:19:49.481Z"
   },
   {
    "duration": 112,
    "start_time": "2023-03-29T10:19:49.574Z"
   },
   {
    "duration": 509,
    "start_time": "2023-03-29T10:20:59.291Z"
   },
   {
    "duration": 170,
    "start_time": "2023-03-29T10:21:27.243Z"
   },
   {
    "duration": 563,
    "start_time": "2023-03-29T10:21:58.746Z"
   },
   {
    "duration": 157,
    "start_time": "2023-03-29T10:22:13.513Z"
   },
   {
    "duration": 167,
    "start_time": "2023-03-29T10:22:22.778Z"
   },
   {
    "duration": 428,
    "start_time": "2023-03-29T10:23:14.697Z"
   },
   {
    "duration": 189,
    "start_time": "2023-03-29T10:23:20.032Z"
   },
   {
    "duration": 327,
    "start_time": "2023-03-29T10:23:26.824Z"
   },
   {
    "duration": 177,
    "start_time": "2023-03-29T10:29:46.099Z"
   },
   {
    "duration": 105,
    "start_time": "2023-03-29T10:30:13.690Z"
   },
   {
    "duration": 285,
    "start_time": "2023-03-29T10:30:27.338Z"
   },
   {
    "duration": 407,
    "start_time": "2023-03-29T10:30:38.882Z"
   },
   {
    "duration": 3009,
    "start_time": "2023-03-29T10:30:45.538Z"
   },
   {
    "duration": 106,
    "start_time": "2023-03-29T10:31:37.329Z"
   },
   {
    "duration": 36,
    "start_time": "2023-03-29T10:32:27.993Z"
   },
   {
    "duration": 76,
    "start_time": "2023-03-29T10:33:05.640Z"
   },
   {
    "duration": 140,
    "start_time": "2023-03-29T10:33:12.191Z"
   },
   {
    "duration": 36,
    "start_time": "2023-03-29T10:34:10.559Z"
   },
   {
    "duration": 33,
    "start_time": "2023-03-29T10:34:24.711Z"
   },
   {
    "duration": 4,
    "start_time": "2023-03-29T10:36:28.980Z"
   },
   {
    "duration": 4,
    "start_time": "2023-03-29T10:36:42.244Z"
   },
   {
    "duration": 3,
    "start_time": "2023-03-29T10:36:57.612Z"
   },
   {
    "duration": 4,
    "start_time": "2023-03-29T10:37:10.621Z"
   },
   {
    "duration": 38,
    "start_time": "2023-03-29T10:37:22.003Z"
   },
   {
    "duration": 35,
    "start_time": "2023-03-29T10:37:34.515Z"
   },
   {
    "duration": 17,
    "start_time": "2023-03-29T10:39:03.930Z"
   },
   {
    "duration": 1494,
    "start_time": "2023-03-29T10:39:12.886Z"
   },
   {
    "duration": 842,
    "start_time": "2023-03-29T10:39:14.382Z"
   },
   {
    "duration": 155,
    "start_time": "2023-03-29T10:39:15.226Z"
   },
   {
    "duration": 473,
    "start_time": "2023-03-29T10:39:15.383Z"
   },
   {
    "duration": 1039,
    "start_time": "2023-03-29T10:39:15.858Z"
   },
   {
    "duration": 113,
    "start_time": "2023-03-29T10:39:16.898Z"
   },
   {
    "duration": 37,
    "start_time": "2023-03-29T10:39:17.012Z"
   },
   {
    "duration": 195,
    "start_time": "2023-03-29T10:39:17.051Z"
   },
   {
    "duration": 3067,
    "start_time": "2023-03-29T10:39:17.248Z"
   },
   {
    "duration": 35,
    "start_time": "2023-03-29T10:39:20.318Z"
   },
   {
    "duration": 102,
    "start_time": "2023-03-29T10:39:20.355Z"
   },
   {
    "duration": 138,
    "start_time": "2023-03-29T10:40:57.169Z"
   },
   {
    "duration": 347,
    "start_time": "2023-03-29T10:41:13.489Z"
   },
   {
    "duration": 306,
    "start_time": "2023-03-29T10:41:20.049Z"
   },
   {
    "duration": 23,
    "start_time": "2023-03-29T10:41:26.712Z"
   },
   {
    "duration": 23,
    "start_time": "2023-03-29T10:41:32.144Z"
   },
   {
    "duration": 315,
    "start_time": "2023-03-29T10:41:36.928Z"
   },
   {
    "duration": 5,
    "start_time": "2023-03-29T10:42:05.063Z"
   },
   {
    "duration": 60,
    "start_time": "2023-03-29T10:42:18.007Z"
   },
   {
    "duration": 23,
    "start_time": "2023-03-29T10:42:25.560Z"
   },
   {
    "duration": 46,
    "start_time": "2023-03-29T10:42:30.680Z"
   },
   {
    "duration": 46,
    "start_time": "2023-03-29T10:42:49.670Z"
   },
   {
    "duration": 71,
    "start_time": "2023-03-29T10:43:02.654Z"
   },
   {
    "duration": 57,
    "start_time": "2023-03-29T10:43:20.222Z"
   },
   {
    "duration": 46,
    "start_time": "2023-03-29T10:43:32.282Z"
   },
   {
    "duration": 40,
    "start_time": "2023-03-29T10:43:59.822Z"
   },
   {
    "duration": 52,
    "start_time": "2023-03-29T10:56:37.338Z"
   },
   {
    "duration": 82,
    "start_time": "2023-03-29T10:57:38.376Z"
   },
   {
    "duration": 75,
    "start_time": "2023-03-29T10:57:43.273Z"
   },
   {
    "duration": 69,
    "start_time": "2023-03-29T10:58:06.580Z"
   },
   {
    "duration": 79,
    "start_time": "2023-03-29T10:59:35.761Z"
   },
   {
    "duration": 3,
    "start_time": "2023-03-29T10:59:44.974Z"
   },
   {
    "duration": 3,
    "start_time": "2023-03-29T11:00:03.318Z"
   },
   {
    "duration": 11,
    "start_time": "2023-03-29T11:04:44.570Z"
   },
   {
    "duration": 6,
    "start_time": "2023-03-29T11:04:49.649Z"
   },
   {
    "duration": 871,
    "start_time": "2023-03-29T11:04:50.057Z"
   },
   {
    "duration": 150,
    "start_time": "2023-03-29T11:04:50.930Z"
   },
   {
    "duration": 29,
    "start_time": "2023-03-29T11:05:35.353Z"
   },
   {
    "duration": 164,
    "start_time": "2023-03-29T11:05:46.161Z"
   },
   {
    "duration": 22,
    "start_time": "2023-03-29T11:05:59.577Z"
   },
   {
    "duration": 27,
    "start_time": "2023-03-29T11:06:23.984Z"
   },
   {
    "duration": 32,
    "start_time": "2023-03-29T11:08:36.062Z"
   },
   {
    "duration": 22,
    "start_time": "2023-03-29T11:10:12.893Z"
   },
   {
    "duration": 19,
    "start_time": "2023-03-29T11:10:23.549Z"
   },
   {
    "duration": 10,
    "start_time": "2023-03-29T11:13:04.841Z"
   },
   {
    "duration": 108,
    "start_time": "2023-03-29T11:13:36.512Z"
   },
   {
    "duration": 38,
    "start_time": "2023-03-29T11:14:26.737Z"
   },
   {
    "duration": 12,
    "start_time": "2023-03-29T11:14:33.433Z"
   },
   {
    "duration": 12,
    "start_time": "2023-03-29T11:14:47.888Z"
   },
   {
    "duration": 1450,
    "start_time": "2023-03-29T11:15:19.383Z"
   },
   {
    "duration": 884,
    "start_time": "2023-03-29T11:15:20.835Z"
   },
   {
    "duration": 159,
    "start_time": "2023-03-29T11:15:21.721Z"
   },
   {
    "duration": 491,
    "start_time": "2023-03-29T11:15:22.976Z"
   },
   {
    "duration": 982,
    "start_time": "2023-03-29T11:15:24.399Z"
   },
   {
    "duration": 40,
    "start_time": "2023-03-29T11:15:26.111Z"
   },
   {
    "duration": 54,
    "start_time": "2023-03-29T11:15:27.959Z"
   },
   {
    "duration": 11,
    "start_time": "2023-03-29T11:15:35.391Z"
   },
   {
    "duration": 103,
    "start_time": "2023-03-29T11:16:11.301Z"
   },
   {
    "duration": 1338,
    "start_time": "2023-03-29T11:17:48.869Z"
   },
   {
    "duration": 1148,
    "start_time": "2023-03-29T11:18:03.805Z"
   },
   {
    "duration": 9,
    "start_time": "2023-03-29T11:19:58.856Z"
   },
   {
    "duration": 41,
    "start_time": "2023-03-29T11:20:10.227Z"
   },
   {
    "duration": 77,
    "start_time": "2023-03-29T11:20:44.558Z"
   },
   {
    "duration": 10,
    "start_time": "2023-03-29T11:20:48.113Z"
   },
   {
    "duration": 11,
    "start_time": "2023-03-29T11:20:55.757Z"
   },
   {
    "duration": 10,
    "start_time": "2023-03-29T11:21:00.905Z"
   },
   {
    "duration": 9,
    "start_time": "2023-03-29T11:23:25.800Z"
   },
   {
    "duration": 105,
    "start_time": "2023-03-29T11:23:56.710Z"
   },
   {
    "duration": 4,
    "start_time": "2023-03-29T11:28:10.330Z"
   },
   {
    "duration": 36,
    "start_time": "2023-03-29T11:29:04.659Z"
   },
   {
    "duration": 26,
    "start_time": "2023-03-29T11:29:22.178Z"
   },
   {
    "duration": 25,
    "start_time": "2023-03-29T11:29:35.306Z"
   },
   {
    "duration": 12,
    "start_time": "2023-03-29T11:30:09.321Z"
   },
   {
    "duration": 11,
    "start_time": "2023-03-29T11:30:30.874Z"
   },
   {
    "duration": 29,
    "start_time": "2023-03-29T11:30:37.736Z"
   },
   {
    "duration": 27,
    "start_time": "2023-03-29T11:33:18.814Z"
   },
   {
    "duration": 29,
    "start_time": "2023-03-29T11:33:27.134Z"
   },
   {
    "duration": 26,
    "start_time": "2023-03-29T11:33:37.958Z"
   },
   {
    "duration": 56,
    "start_time": "2023-03-29T11:35:46.779Z"
   },
   {
    "duration": 26,
    "start_time": "2023-03-29T11:35:50.124Z"
   },
   {
    "duration": 100,
    "start_time": "2023-03-29T11:35:56.227Z"
   },
   {
    "duration": 88,
    "start_time": "2023-03-29T11:36:40.331Z"
   },
   {
    "duration": 6,
    "start_time": "2023-03-29T11:36:54.106Z"
   },
   {
    "duration": 68,
    "start_time": "2023-03-29T11:37:09.811Z"
   },
   {
    "duration": 70,
    "start_time": "2023-03-29T11:38:34.897Z"
   },
   {
    "duration": 75,
    "start_time": "2023-03-29T11:38:40.080Z"
   },
   {
    "duration": 24,
    "start_time": "2023-03-29T11:38:48.240Z"
   },
   {
    "duration": 20,
    "start_time": "2023-03-29T11:40:44.157Z"
   },
   {
    "duration": 18,
    "start_time": "2023-03-29T11:40:57.022Z"
   },
   {
    "duration": 19,
    "start_time": "2023-03-29T11:41:03.222Z"
   },
   {
    "duration": 10,
    "start_time": "2023-03-29T11:41:18.598Z"
   },
   {
    "duration": 9,
    "start_time": "2023-03-29T11:44:38.123Z"
   },
   {
    "duration": 1431,
    "start_time": "2023-03-29T11:44:49.691Z"
   },
   {
    "duration": 829,
    "start_time": "2023-03-29T11:44:51.124Z"
   },
   {
    "duration": 174,
    "start_time": "2023-03-29T11:44:51.955Z"
   },
   {
    "duration": 490,
    "start_time": "2023-03-29T11:44:52.131Z"
   },
   {
    "duration": 1002,
    "start_time": "2023-03-29T11:44:52.623Z"
   },
   {
    "duration": 9,
    "start_time": "2023-03-29T11:44:53.627Z"
   },
   {
    "duration": 118,
    "start_time": "2023-03-29T11:45:52.609Z"
   },
   {
    "duration": 16,
    "start_time": "2023-03-29T11:45:57.553Z"
   },
   {
    "duration": 12,
    "start_time": "2023-03-29T11:46:31.513Z"
   },
   {
    "duration": 9,
    "start_time": "2023-03-29T11:46:58.121Z"
   },
   {
    "duration": 1487,
    "start_time": "2023-03-29T11:48:42.415Z"
   },
   {
    "duration": 71,
    "start_time": "2023-03-29T11:48:57.279Z"
   },
   {
    "duration": 10,
    "start_time": "2023-03-29T11:49:18.135Z"
   },
   {
    "duration": 9,
    "start_time": "2023-03-29T11:49:59.598Z"
   },
   {
    "duration": 45,
    "start_time": "2023-03-29T11:50:04.606Z"
   },
   {
    "duration": 12,
    "start_time": "2023-03-29T11:50:07.709Z"
   },
   {
    "duration": 9,
    "start_time": "2023-03-29T11:50:53.701Z"
   },
   {
    "duration": 95,
    "start_time": "2023-03-29T11:52:32.030Z"
   },
   {
    "duration": 112,
    "start_time": "2023-03-29T11:53:00.363Z"
   },
   {
    "duration": 5,
    "start_time": "2023-03-29T11:54:52.752Z"
   },
   {
    "duration": 373,
    "start_time": "2023-03-29T11:56:55.415Z"
   },
   {
    "duration": 21,
    "start_time": "2023-03-29T12:00:14.037Z"
   },
   {
    "duration": 128,
    "start_time": "2023-03-29T12:01:07.947Z"
   },
   {
    "duration": 9,
    "start_time": "2023-03-29T12:02:48.875Z"
   },
   {
    "duration": 11,
    "start_time": "2023-03-29T12:03:16.137Z"
   },
   {
    "duration": 7,
    "start_time": "2023-03-29T12:03:21.057Z"
   },
   {
    "duration": 16,
    "start_time": "2023-03-29T12:08:19.420Z"
   },
   {
    "duration": 12,
    "start_time": "2023-03-29T12:09:06.347Z"
   },
   {
    "duration": 90,
    "start_time": "2023-03-29T12:10:59.217Z"
   },
   {
    "duration": 33,
    "start_time": "2023-03-29T12:11:44.608Z"
   },
   {
    "duration": 36,
    "start_time": "2023-03-29T12:12:28.144Z"
   },
   {
    "duration": 4,
    "start_time": "2023-03-29T12:12:29.396Z"
   },
   {
    "duration": 11,
    "start_time": "2023-03-29T12:12:32.848Z"
   },
   {
    "duration": 1513,
    "start_time": "2023-03-29T12:13:12.027Z"
   },
   {
    "duration": 937,
    "start_time": "2023-03-29T12:13:13.542Z"
   },
   {
    "duration": 155,
    "start_time": "2023-03-29T12:13:14.481Z"
   },
   {
    "duration": 112,
    "start_time": "2023-03-29T12:13:14.638Z"
   },
   {
    "duration": 507,
    "start_time": "2023-03-29T12:13:14.751Z"
   },
   {
    "duration": 1043,
    "start_time": "2023-03-29T12:13:15.260Z"
   },
   {
    "duration": 50,
    "start_time": "2023-03-29T12:13:16.305Z"
   },
   {
    "duration": 25,
    "start_time": "2023-03-29T12:13:16.357Z"
   },
   {
    "duration": 40,
    "start_time": "2023-03-29T12:13:16.385Z"
   },
   {
    "duration": 4,
    "start_time": "2023-03-29T12:13:16.428Z"
   },
   {
    "duration": 1834,
    "start_time": "2023-03-29T12:13:16.433Z"
   },
   {
    "duration": 0,
    "start_time": "2023-03-29T12:13:18.269Z"
   },
   {
    "duration": 0,
    "start_time": "2023-03-29T12:13:18.271Z"
   },
   {
    "duration": 0,
    "start_time": "2023-03-29T12:13:18.272Z"
   },
   {
    "duration": 0,
    "start_time": "2023-03-29T12:13:18.273Z"
   },
   {
    "duration": 0,
    "start_time": "2023-03-29T12:13:18.274Z"
   },
   {
    "duration": 0,
    "start_time": "2023-03-29T12:13:18.275Z"
   },
   {
    "duration": 0,
    "start_time": "2023-03-29T12:13:18.276Z"
   },
   {
    "duration": 0,
    "start_time": "2023-03-29T12:13:18.277Z"
   },
   {
    "duration": 0,
    "start_time": "2023-03-29T12:13:18.278Z"
   },
   {
    "duration": 0,
    "start_time": "2023-03-29T12:13:18.279Z"
   },
   {
    "duration": 0,
    "start_time": "2023-03-29T12:13:18.280Z"
   },
   {
    "duration": 0,
    "start_time": "2023-03-29T12:13:18.281Z"
   },
   {
    "duration": 0,
    "start_time": "2023-03-29T12:13:18.282Z"
   },
   {
    "duration": 0,
    "start_time": "2023-03-29T12:13:18.283Z"
   },
   {
    "duration": 0,
    "start_time": "2023-03-29T12:13:18.284Z"
   },
   {
    "duration": 0,
    "start_time": "2023-03-29T12:13:18.285Z"
   },
   {
    "duration": 9,
    "start_time": "2023-03-29T12:21:53.375Z"
   },
   {
    "duration": 48,
    "start_time": "2023-03-29T12:22:00.582Z"
   },
   {
    "duration": 9,
    "start_time": "2023-03-29T12:22:05.206Z"
   },
   {
    "duration": 351,
    "start_time": "2023-03-29T12:22:18.190Z"
   },
   {
    "duration": 65,
    "start_time": "2023-03-29T12:23:43.453Z"
   },
   {
    "duration": 1158,
    "start_time": "2023-03-29T12:25:54.819Z"
   },
   {
    "duration": 57,
    "start_time": "2023-03-29T12:26:05.347Z"
   },
   {
    "duration": 28,
    "start_time": "2023-03-29T12:28:11.424Z"
   },
   {
    "duration": 17,
    "start_time": "2023-03-29T12:29:29.238Z"
   },
   {
    "duration": 15,
    "start_time": "2023-03-29T12:30:05.090Z"
   },
   {
    "duration": 27,
    "start_time": "2023-03-29T12:30:11.735Z"
   },
   {
    "duration": 15,
    "start_time": "2023-03-29T12:33:05.187Z"
   },
   {
    "duration": 30,
    "start_time": "2023-03-29T12:40:32.300Z"
   },
   {
    "duration": 16,
    "start_time": "2023-03-29T12:41:14.379Z"
   },
   {
    "duration": 30,
    "start_time": "2023-03-29T12:41:49.619Z"
   },
   {
    "duration": 32,
    "start_time": "2023-03-29T12:43:46.113Z"
   },
   {
    "duration": 16,
    "start_time": "2023-03-29T12:44:15.160Z"
   },
   {
    "duration": 49,
    "start_time": "2023-03-29T12:45:14.176Z"
   },
   {
    "duration": 17,
    "start_time": "2023-03-29T12:47:46.861Z"
   },
   {
    "duration": 65,
    "start_time": "2023-03-29T12:48:18.462Z"
   },
   {
    "duration": 46,
    "start_time": "2023-03-29T12:53:54.041Z"
   },
   {
    "duration": 7,
    "start_time": "2023-03-29T12:54:42.022Z"
   },
   {
    "duration": 7,
    "start_time": "2023-03-29T12:55:01.925Z"
   },
   {
    "duration": 8,
    "start_time": "2023-03-29T12:55:12.709Z"
   },
   {
    "duration": 7,
    "start_time": "2023-03-29T12:55:24.359Z"
   },
   {
    "duration": 6,
    "start_time": "2023-03-29T12:56:00.221Z"
   },
   {
    "duration": 11,
    "start_time": "2023-03-29T12:56:13.300Z"
   },
   {
    "duration": 6,
    "start_time": "2023-03-29T12:56:26.365Z"
   },
   {
    "duration": 6,
    "start_time": "2023-03-29T12:56:53.140Z"
   },
   {
    "duration": 6,
    "start_time": "2023-03-29T12:57:08.308Z"
   },
   {
    "duration": 5,
    "start_time": "2023-03-29T12:57:19.884Z"
   },
   {
    "duration": 19,
    "start_time": "2023-03-29T12:57:41.747Z"
   },
   {
    "duration": 22,
    "start_time": "2023-03-29T12:58:16.426Z"
   },
   {
    "duration": 18,
    "start_time": "2023-03-29T13:00:07.762Z"
   },
   {
    "duration": 19,
    "start_time": "2023-03-29T13:00:16.296Z"
   },
   {
    "duration": 18,
    "start_time": "2023-03-29T13:06:49.412Z"
   },
   {
    "duration": 22,
    "start_time": "2023-03-29T13:08:06.418Z"
   },
   {
    "duration": 30,
    "start_time": "2023-03-29T13:08:45.400Z"
   },
   {
    "duration": 11,
    "start_time": "2023-03-29T13:08:50.776Z"
   },
   {
    "duration": 8,
    "start_time": "2023-03-29T13:09:04.907Z"
   },
   {
    "duration": 9,
    "start_time": "2023-03-29T13:09:31.784Z"
   },
   {
    "duration": 7,
    "start_time": "2023-03-29T13:18:17.663Z"
   },
   {
    "duration": 72,
    "start_time": "2023-03-29T13:18:32.280Z"
   },
   {
    "duration": 17,
    "start_time": "2023-03-29T13:18:46.327Z"
   },
   {
    "duration": 20,
    "start_time": "2023-03-29T13:20:02.782Z"
   },
   {
    "duration": 19,
    "start_time": "2023-03-29T13:22:12.669Z"
   },
   {
    "duration": 20,
    "start_time": "2023-03-29T13:22:29.444Z"
   },
   {
    "duration": 286,
    "start_time": "2023-03-29T13:24:12.715Z"
   },
   {
    "duration": 35,
    "start_time": "2023-03-29T13:32:01.259Z"
   },
   {
    "duration": 3928,
    "start_time": "2023-03-29T13:34:32.575Z"
   },
   {
    "duration": 3896,
    "start_time": "2023-03-29T13:37:15.169Z"
   },
   {
    "duration": 4134,
    "start_time": "2023-03-29T13:37:27.452Z"
   },
   {
    "duration": 4180,
    "start_time": "2023-03-29T13:37:40.125Z"
   },
   {
    "duration": 46,
    "start_time": "2023-03-29T13:39:34.451Z"
   },
   {
    "duration": 48,
    "start_time": "2023-03-29T13:39:46.098Z"
   },
   {
    "duration": 49,
    "start_time": "2023-03-29T13:41:24.993Z"
   },
   {
    "duration": 3974,
    "start_time": "2023-03-29T13:41:41.344Z"
   },
   {
    "duration": 3946,
    "start_time": "2023-03-29T13:41:50.024Z"
   },
   {
    "duration": 4108,
    "start_time": "2023-03-29T13:42:32.284Z"
   },
   {
    "duration": 55,
    "start_time": "2023-03-29T13:44:54.729Z"
   },
   {
    "duration": 62,
    "start_time": "2023-03-29T13:45:19.229Z"
   },
   {
    "duration": 19857,
    "start_time": "2023-03-29T13:45:30.461Z"
   },
   {
    "duration": 11,
    "start_time": "2023-03-29T13:46:03.028Z"
   },
   {
    "duration": 1584,
    "start_time": "2023-03-29T13:47:24.347Z"
   },
   {
    "duration": 845,
    "start_time": "2023-03-29T13:47:25.933Z"
   },
   {
    "duration": 154,
    "start_time": "2023-03-29T13:47:26.780Z"
   },
   {
    "duration": 118,
    "start_time": "2023-03-29T13:47:26.937Z"
   },
   {
    "duration": 491,
    "start_time": "2023-03-29T13:47:27.057Z"
   },
   {
    "duration": 1020,
    "start_time": "2023-03-29T13:47:28.086Z"
   },
   {
    "duration": 49,
    "start_time": "2023-03-29T13:47:29.148Z"
   },
   {
    "duration": 142,
    "start_time": "2023-03-29T13:47:36.755Z"
   },
   {
    "duration": 376,
    "start_time": "2023-03-29T13:47:42.026Z"
   },
   {
    "duration": 1534,
    "start_time": "2023-03-29T13:47:52.186Z"
   },
   {
    "duration": 908,
    "start_time": "2023-03-29T13:47:53.722Z"
   },
   {
    "duration": 148,
    "start_time": "2023-03-29T13:47:55.450Z"
   },
   {
    "duration": 106,
    "start_time": "2023-03-29T13:47:56.770Z"
   },
   {
    "duration": 515,
    "start_time": "2023-03-29T13:47:58.020Z"
   },
   {
    "duration": 1094,
    "start_time": "2023-03-29T13:47:59.354Z"
   },
   {
    "duration": 40,
    "start_time": "2023-03-29T13:48:00.699Z"
   },
   {
    "duration": 12,
    "start_time": "2023-03-29T13:48:03.474Z"
   },
   {
    "duration": 30,
    "start_time": "2023-03-29T13:48:05.242Z"
   },
   {
    "duration": 3,
    "start_time": "2023-03-29T13:48:08.026Z"
   },
   {
    "duration": 11,
    "start_time": "2023-03-29T13:48:10.451Z"
   },
   {
    "duration": 42,
    "start_time": "2023-03-29T13:48:21.946Z"
   },
   {
    "duration": 11,
    "start_time": "2023-03-29T13:48:25.953Z"
   },
   {
    "duration": 359,
    "start_time": "2023-03-29T13:48:35.609Z"
   },
   {
    "duration": 67,
    "start_time": "2023-03-29T13:48:43.082Z"
   },
   {
    "duration": 63,
    "start_time": "2023-03-29T13:48:45.418Z"
   },
   {
    "duration": 31,
    "start_time": "2023-03-29T13:48:50.257Z"
   },
   {
    "duration": 16,
    "start_time": "2023-03-29T13:48:52.553Z"
   },
   {
    "duration": 30,
    "start_time": "2023-03-29T13:48:55.073Z"
   },
   {
    "duration": 26,
    "start_time": "2023-03-29T13:48:57.171Z"
   },
   {
    "duration": 44,
    "start_time": "2023-03-29T13:48:59.601Z"
   },
   {
    "duration": 15,
    "start_time": "2023-03-29T13:49:03.761Z"
   },
   {
    "duration": 32,
    "start_time": "2023-03-29T13:49:10.844Z"
   },
   {
    "duration": 28,
    "start_time": "2023-03-29T13:49:14.737Z"
   },
   {
    "duration": 16,
    "start_time": "2023-03-29T13:49:18.681Z"
   },
   {
    "duration": 30,
    "start_time": "2023-03-29T13:49:21.337Z"
   },
   {
    "duration": 16,
    "start_time": "2023-03-29T13:49:22.682Z"
   },
   {
    "duration": 64,
    "start_time": "2023-03-29T13:49:23.736Z"
   },
   {
    "duration": 7,
    "start_time": "2023-03-29T13:49:28.329Z"
   },
   {
    "duration": 23,
    "start_time": "2023-03-29T13:50:00.937Z"
   },
   {
    "duration": 9,
    "start_time": "2023-03-29T13:50:02.928Z"
   },
   {
    "duration": 20045,
    "start_time": "2023-03-29T13:50:12.904Z"
   },
   {
    "duration": 11,
    "start_time": "2023-03-29T13:50:45.271Z"
   },
   {
    "duration": 193,
    "start_time": "2023-03-29T13:51:27.543Z"
   },
   {
    "duration": 64,
    "start_time": "2023-03-29T14:00:18.295Z"
   },
   {
    "duration": 668,
    "start_time": "2023-03-29T14:07:53.688Z"
   },
   {
    "duration": 128,
    "start_time": "2023-03-29T14:07:54.447Z"
   },
   {
    "duration": 285,
    "start_time": "2023-03-29T14:08:07.015Z"
   },
   {
    "duration": 5,
    "start_time": "2023-03-29T14:08:30.752Z"
   },
   {
    "duration": 370,
    "start_time": "2023-03-29T14:08:36.238Z"
   },
   {
    "duration": 10,
    "start_time": "2023-03-29T14:09:07.958Z"
   },
   {
    "duration": 10,
    "start_time": "2023-03-29T14:09:47.629Z"
   },
   {
    "duration": 1369,
    "start_time": "2023-03-29T14:10:09.034Z"
   },
   {
    "duration": 875,
    "start_time": "2023-03-29T14:10:10.411Z"
   },
   {
    "duration": 152,
    "start_time": "2023-03-29T14:10:11.289Z"
   },
   {
    "duration": 119,
    "start_time": "2023-03-29T14:10:11.444Z"
   },
   {
    "duration": 475,
    "start_time": "2023-03-29T14:10:11.565Z"
   },
   {
    "duration": 989,
    "start_time": "2023-03-29T14:10:12.042Z"
   },
   {
    "duration": 46,
    "start_time": "2023-03-29T14:10:13.033Z"
   },
   {
    "duration": 12,
    "start_time": "2023-03-29T14:10:13.080Z"
   },
   {
    "duration": 37,
    "start_time": "2023-03-29T14:10:13.093Z"
   },
   {
    "duration": 4,
    "start_time": "2023-03-29T14:10:13.132Z"
   },
   {
    "duration": 19,
    "start_time": "2023-03-29T14:10:13.138Z"
   },
   {
    "duration": 48,
    "start_time": "2023-03-29T14:10:13.159Z"
   },
   {
    "duration": 9,
    "start_time": "2023-03-29T14:10:13.209Z"
   },
   {
    "duration": 63,
    "start_time": "2023-03-29T14:10:13.220Z"
   },
   {
    "duration": 69,
    "start_time": "2023-03-29T14:10:13.285Z"
   },
   {
    "duration": 75,
    "start_time": "2023-03-29T14:10:13.356Z"
   },
   {
    "duration": 28,
    "start_time": "2023-03-29T14:10:13.432Z"
   },
   {
    "duration": 28,
    "start_time": "2023-03-29T14:10:13.461Z"
   },
   {
    "duration": 30,
    "start_time": "2023-03-29T14:10:13.491Z"
   },
   {
    "duration": 17,
    "start_time": "2023-03-29T14:10:13.523Z"
   },
   {
    "duration": 51,
    "start_time": "2023-03-29T14:10:13.542Z"
   },
   {
    "duration": 22,
    "start_time": "2023-03-29T14:10:13.596Z"
   },
   {
    "duration": 41,
    "start_time": "2023-03-29T14:10:13.619Z"
   },
   {
    "duration": 49,
    "start_time": "2023-03-29T14:10:13.662Z"
   },
   {
    "duration": 15,
    "start_time": "2023-03-29T14:10:13.713Z"
   },
   {
    "duration": 35,
    "start_time": "2023-03-29T14:10:13.730Z"
   },
   {
    "duration": 23,
    "start_time": "2023-03-29T14:10:13.767Z"
   },
   {
    "duration": 69,
    "start_time": "2023-03-29T14:10:13.793Z"
   },
   {
    "duration": 16,
    "start_time": "2023-03-29T14:10:13.864Z"
   },
   {
    "duration": 27,
    "start_time": "2023-03-29T14:10:13.882Z"
   },
   {
    "duration": 8,
    "start_time": "2023-03-29T14:10:13.911Z"
   },
   {
    "duration": 19090,
    "start_time": "2023-03-29T14:10:13.921Z"
   },
   {
    "duration": 10,
    "start_time": "2023-03-29T14:10:33.012Z"
   },
   {
    "duration": 796,
    "start_time": "2023-03-29T14:10:33.024Z"
   },
   {
    "duration": 146,
    "start_time": "2023-03-29T14:10:33.821Z"
   },
   {
    "duration": 549,
    "start_time": "2023-03-29T14:10:33.968Z"
   },
   {
    "duration": 114,
    "start_time": "2023-03-29T14:10:34.519Z"
   },
   {
    "duration": 0,
    "start_time": "2023-03-29T14:10:34.635Z"
   },
   {
    "duration": 10,
    "start_time": "2023-03-29T14:15:20.833Z"
   },
   {
    "duration": 10,
    "start_time": "2023-03-29T14:15:31.648Z"
   },
   {
    "duration": 3,
    "start_time": "2023-03-29T14:15:54.112Z"
   },
   {
    "duration": 15,
    "start_time": "2023-03-29T14:15:56.927Z"
   },
   {
    "duration": 3,
    "start_time": "2023-03-29T14:16:14.975Z"
   },
   {
    "duration": 53,
    "start_time": "2023-03-29T14:16:16.759Z"
   },
   {
    "duration": 19,
    "start_time": "2023-03-29T14:16:33.671Z"
   },
   {
    "duration": 3,
    "start_time": "2023-03-29T14:17:28.710Z"
   },
   {
    "duration": 176,
    "start_time": "2023-03-29T14:17:29.109Z"
   },
   {
    "duration": 17,
    "start_time": "2023-03-29T14:17:30.023Z"
   },
   {
    "duration": 21834,
    "start_time": "2023-03-29T14:17:48.142Z"
   },
   {
    "duration": 27,
    "start_time": "2023-03-29T14:18:43.229Z"
   },
   {
    "duration": 23548,
    "start_time": "2023-03-29T14:18:50.533Z"
   },
   {
    "duration": 17,
    "start_time": "2023-03-29T14:19:54.804Z"
   },
   {
    "duration": 99,
    "start_time": "2023-03-29T14:20:08.044Z"
   },
   {
    "duration": 84,
    "start_time": "2023-03-29T14:20:44.403Z"
   },
   {
    "duration": 105,
    "start_time": "2023-03-29T14:20:54.843Z"
   },
   {
    "duration": 83,
    "start_time": "2023-03-29T14:22:05.394Z"
   },
   {
    "duration": 527,
    "start_time": "2023-03-29T14:22:56.729Z"
   },
   {
    "duration": 2377,
    "start_time": "2023-03-29T14:23:25.986Z"
   },
   {
    "duration": 4,
    "start_time": "2023-03-29T14:23:39.200Z"
   },
   {
    "duration": 223,
    "start_time": "2023-03-29T14:24:10.803Z"
   },
   {
    "duration": 12092,
    "start_time": "2023-03-29T14:24:21.984Z"
   },
   {
    "duration": 3,
    "start_time": "2023-03-29T14:24:41.108Z"
   },
   {
    "duration": 1818,
    "start_time": "2023-03-29T19:48:37.370Z"
   },
   {
    "duration": 2965,
    "start_time": "2023-03-29T19:48:39.191Z"
   },
   {
    "duration": 148,
    "start_time": "2023-03-29T19:48:42.158Z"
   },
   {
    "duration": 115,
    "start_time": "2023-03-29T19:48:42.308Z"
   },
   {
    "duration": 508,
    "start_time": "2023-03-29T19:48:42.427Z"
   },
   {
    "duration": 1108,
    "start_time": "2023-03-29T19:48:42.937Z"
   },
   {
    "duration": 46,
    "start_time": "2023-03-29T19:48:44.048Z"
   },
   {
    "duration": 13,
    "start_time": "2023-03-29T19:48:44.095Z"
   },
   {
    "duration": 56,
    "start_time": "2023-03-29T19:48:44.109Z"
   },
   {
    "duration": 3,
    "start_time": "2023-03-29T19:48:44.167Z"
   },
   {
    "duration": 17,
    "start_time": "2023-03-29T19:48:44.172Z"
   },
   {
    "duration": 62,
    "start_time": "2023-03-29T19:48:44.191Z"
   },
   {
    "duration": 10,
    "start_time": "2023-03-29T19:48:44.255Z"
   },
   {
    "duration": 57,
    "start_time": "2023-03-29T19:48:44.268Z"
   },
   {
    "duration": 91,
    "start_time": "2023-03-29T19:48:44.326Z"
   },
   {
    "duration": 98,
    "start_time": "2023-03-29T19:48:44.419Z"
   },
   {
    "duration": 56,
    "start_time": "2023-03-29T19:48:44.520Z"
   },
   {
    "duration": 32,
    "start_time": "2023-03-29T19:48:44.578Z"
   },
   {
    "duration": 64,
    "start_time": "2023-03-29T19:48:44.614Z"
   },
   {
    "duration": 42,
    "start_time": "2023-03-29T19:48:44.681Z"
   },
   {
    "duration": 63,
    "start_time": "2023-03-29T19:48:44.728Z"
   },
   {
    "duration": 19,
    "start_time": "2023-03-29T19:48:44.793Z"
   },
   {
    "duration": 59,
    "start_time": "2023-03-29T19:48:44.814Z"
   },
   {
    "duration": 32,
    "start_time": "2023-03-29T19:48:44.875Z"
   },
   {
    "duration": 16,
    "start_time": "2023-03-29T19:48:44.909Z"
   },
   {
    "duration": 27,
    "start_time": "2023-03-29T19:48:44.949Z"
   },
   {
    "duration": 20,
    "start_time": "2023-03-29T19:48:44.979Z"
   },
   {
    "duration": 133,
    "start_time": "2023-03-29T19:48:45.001Z"
   },
   {
    "duration": 14,
    "start_time": "2023-03-29T19:48:45.136Z"
   },
   {
    "duration": 25,
    "start_time": "2023-03-29T19:48:45.152Z"
   },
   {
    "duration": 9,
    "start_time": "2023-03-29T19:48:45.178Z"
   },
   {
    "duration": 20293,
    "start_time": "2023-03-29T19:48:45.189Z"
   },
   {
    "duration": 9,
    "start_time": "2023-03-29T19:49:05.484Z"
   },
   {
    "duration": 499,
    "start_time": "2023-03-29T19:49:05.494Z"
   },
   {
    "duration": 135,
    "start_time": "2023-03-29T19:49:05.994Z"
   },
   {
    "duration": 330,
    "start_time": "2023-03-29T19:49:06.130Z"
   },
   {
    "duration": 3,
    "start_time": "2023-03-29T19:49:06.462Z"
   },
   {
    "duration": 165,
    "start_time": "2023-03-29T19:49:06.466Z"
   },
   {
    "duration": 19,
    "start_time": "2023-03-29T19:49:06.633Z"
   },
   {
    "duration": 31295,
    "start_time": "2023-03-29T19:49:06.654Z"
   },
   {
    "duration": 305,
    "start_time": "2023-03-29T19:49:37.956Z"
   },
   {
    "duration": 0,
    "start_time": "2023-03-29T19:49:38.263Z"
   },
   {
    "duration": 0,
    "start_time": "2023-03-29T19:49:38.264Z"
   },
   {
    "duration": 0,
    "start_time": "2023-03-29T19:49:38.266Z"
   },
   {
    "duration": 0,
    "start_time": "2023-03-29T19:49:38.267Z"
   },
   {
    "duration": 0,
    "start_time": "2023-03-29T19:49:38.269Z"
   },
   {
    "duration": 0,
    "start_time": "2023-03-29T19:49:38.270Z"
   },
   {
    "duration": 0,
    "start_time": "2023-03-29T19:49:38.272Z"
   },
   {
    "duration": 0,
    "start_time": "2023-03-29T19:49:38.273Z"
   },
   {
    "duration": 0,
    "start_time": "2023-03-29T19:49:38.274Z"
   },
   {
    "duration": 0,
    "start_time": "2023-03-29T19:49:38.275Z"
   },
   {
    "duration": 0,
    "start_time": "2023-03-29T19:49:38.276Z"
   },
   {
    "duration": 0,
    "start_time": "2023-03-29T19:49:38.277Z"
   },
   {
    "duration": 0,
    "start_time": "2023-03-29T19:49:38.278Z"
   },
   {
    "duration": 0,
    "start_time": "2023-03-29T19:49:38.279Z"
   },
   {
    "duration": 0,
    "start_time": "2023-03-29T19:49:38.280Z"
   },
   {
    "duration": 0,
    "start_time": "2023-03-29T19:49:38.282Z"
   },
   {
    "duration": 0,
    "start_time": "2023-03-29T19:49:38.282Z"
   },
   {
    "duration": 0,
    "start_time": "2023-03-29T19:49:38.284Z"
   },
   {
    "duration": 0,
    "start_time": "2023-03-29T19:49:38.285Z"
   },
   {
    "duration": 0,
    "start_time": "2023-03-29T19:49:38.285Z"
   },
   {
    "duration": 0,
    "start_time": "2023-03-29T19:49:38.286Z"
   },
   {
    "duration": 12,
    "start_time": "2023-03-29T19:56:11.626Z"
   },
   {
    "duration": 7,
    "start_time": "2023-03-29T19:56:43.001Z"
   },
   {
    "duration": 11,
    "start_time": "2023-03-29T19:58:36.086Z"
   },
   {
    "duration": 5,
    "start_time": "2023-03-29T19:58:43.095Z"
   },
   {
    "duration": 22,
    "start_time": "2023-03-29T19:59:15.587Z"
   },
   {
    "duration": 11,
    "start_time": "2023-03-29T19:59:26.995Z"
   },
   {
    "duration": 24180,
    "start_time": "2023-03-29T20:03:56.374Z"
   },
   {
    "duration": 221,
    "start_time": "2023-03-29T20:07:56.401Z"
   },
   {
    "duration": 155,
    "start_time": "2023-03-29T20:08:23.271Z"
   },
   {
    "duration": 56,
    "start_time": "2023-03-29T20:08:35.033Z"
   },
   {
    "duration": 22781,
    "start_time": "2023-03-29T20:12:05.186Z"
   },
   {
    "duration": 10,
    "start_time": "2023-03-29T20:12:41.436Z"
   },
   {
    "duration": 25,
    "start_time": "2023-03-29T20:14:55.685Z"
   },
   {
    "duration": 23,
    "start_time": "2023-03-29T20:15:04.809Z"
   },
   {
    "duration": 13,
    "start_time": "2023-03-29T20:15:55.164Z"
   },
   {
    "duration": 17,
    "start_time": "2023-03-29T20:16:03.623Z"
   },
   {
    "duration": 37,
    "start_time": "2023-03-29T20:16:14.306Z"
   },
   {
    "duration": 54,
    "start_time": "2023-03-29T20:18:53.886Z"
   },
   {
    "duration": 8,
    "start_time": "2023-03-29T20:19:12.326Z"
   },
   {
    "duration": 74,
    "start_time": "2023-03-29T20:20:13.624Z"
   },
   {
    "duration": 68,
    "start_time": "2023-03-29T20:20:43.417Z"
   },
   {
    "duration": 89,
    "start_time": "2023-03-29T20:20:54.619Z"
   },
   {
    "duration": 1436,
    "start_time": "2023-03-29T20:22:40.527Z"
   },
   {
    "duration": 907,
    "start_time": "2023-03-29T20:22:41.964Z"
   },
   {
    "duration": 169,
    "start_time": "2023-03-29T20:22:42.872Z"
   },
   {
    "duration": 128,
    "start_time": "2023-03-29T20:22:43.043Z"
   },
   {
    "duration": 448,
    "start_time": "2023-03-29T20:22:43.179Z"
   },
   {
    "duration": 1189,
    "start_time": "2023-03-29T20:22:43.628Z"
   },
   {
    "duration": 68,
    "start_time": "2023-03-29T20:22:44.819Z"
   },
   {
    "duration": 25,
    "start_time": "2023-03-29T20:22:44.895Z"
   },
   {
    "duration": 55,
    "start_time": "2023-03-29T20:22:44.922Z"
   },
   {
    "duration": 8,
    "start_time": "2023-03-29T20:22:44.988Z"
   },
   {
    "duration": 41,
    "start_time": "2023-03-29T20:22:45.019Z"
   },
   {
    "duration": 73,
    "start_time": "2023-03-29T20:22:45.061Z"
   },
   {
    "duration": 27,
    "start_time": "2023-03-29T20:22:45.136Z"
   },
   {
    "duration": 65,
    "start_time": "2023-03-29T20:22:45.166Z"
   },
   {
    "duration": 119,
    "start_time": "2023-03-29T20:22:45.233Z"
   },
   {
    "duration": 111,
    "start_time": "2023-03-29T20:22:45.354Z"
   },
   {
    "duration": 35,
    "start_time": "2023-03-29T20:22:45.477Z"
   },
   {
    "duration": 26,
    "start_time": "2023-03-29T20:22:45.514Z"
   },
   {
    "duration": 62,
    "start_time": "2023-03-29T20:22:45.541Z"
   },
   {
    "duration": 35,
    "start_time": "2023-03-29T20:22:45.604Z"
   },
   {
    "duration": 60,
    "start_time": "2023-03-29T20:22:45.640Z"
   },
   {
    "duration": 14,
    "start_time": "2023-03-29T20:22:45.701Z"
   },
   {
    "duration": 57,
    "start_time": "2023-03-29T20:22:45.718Z"
   },
   {
    "duration": 57,
    "start_time": "2023-03-29T20:22:45.776Z"
   },
   {
    "duration": 15,
    "start_time": "2023-03-29T20:22:45.835Z"
   },
   {
    "duration": 73,
    "start_time": "2023-03-29T20:22:45.854Z"
   },
   {
    "duration": 43,
    "start_time": "2023-03-29T20:22:45.928Z"
   },
   {
    "duration": 100,
    "start_time": "2023-03-29T20:22:45.983Z"
   },
   {
    "duration": 23,
    "start_time": "2023-03-29T20:22:46.084Z"
   },
   {
    "duration": 28,
    "start_time": "2023-03-29T20:22:46.109Z"
   },
   {
    "duration": 49,
    "start_time": "2023-03-29T20:22:46.139Z"
   },
   {
    "duration": 435,
    "start_time": "2023-03-29T20:22:46.192Z"
   },
   {
    "duration": 9,
    "start_time": "2023-03-29T20:22:46.629Z"
   },
   {
    "duration": 22274,
    "start_time": "2023-03-29T20:22:46.640Z"
   },
   {
    "duration": 9,
    "start_time": "2023-03-29T20:23:08.916Z"
   },
   {
    "duration": 8,
    "start_time": "2023-03-29T20:23:08.926Z"
   },
   {
    "duration": 82,
    "start_time": "2023-03-29T20:23:08.935Z"
   },
   {
    "duration": 568,
    "start_time": "2023-03-29T20:23:09.019Z"
   },
   {
    "duration": 159,
    "start_time": "2023-03-29T20:23:09.588Z"
   },
   {
    "duration": 360,
    "start_time": "2023-03-29T20:23:09.767Z"
   },
   {
    "duration": 2,
    "start_time": "2023-03-29T20:23:10.131Z"
   },
   {
    "duration": 186,
    "start_time": "2023-03-29T20:23:10.135Z"
   },
   {
    "duration": 19,
    "start_time": "2023-03-29T20:23:10.323Z"
   },
   {
    "duration": 72214,
    "start_time": "2023-03-29T20:23:10.355Z"
   },
   {
    "duration": 269,
    "start_time": "2023-03-29T20:24:22.573Z"
   },
   {
    "duration": 0,
    "start_time": "2023-03-29T20:24:22.855Z"
   },
   {
    "duration": 0,
    "start_time": "2023-03-29T20:24:22.856Z"
   },
   {
    "duration": 0,
    "start_time": "2023-03-29T20:24:22.873Z"
   },
   {
    "duration": 0,
    "start_time": "2023-03-29T20:24:22.879Z"
   },
   {
    "duration": 0,
    "start_time": "2023-03-29T20:24:22.880Z"
   },
   {
    "duration": 0,
    "start_time": "2023-03-29T20:24:22.880Z"
   },
   {
    "duration": 0,
    "start_time": "2023-03-29T20:24:22.881Z"
   },
   {
    "duration": 0,
    "start_time": "2023-03-29T20:24:22.881Z"
   },
   {
    "duration": 0,
    "start_time": "2023-03-29T20:24:22.881Z"
   },
   {
    "duration": 0,
    "start_time": "2023-03-29T20:24:22.882Z"
   },
   {
    "duration": 0,
    "start_time": "2023-03-29T20:24:22.883Z"
   },
   {
    "duration": 0,
    "start_time": "2023-03-29T20:24:22.884Z"
   },
   {
    "duration": 0,
    "start_time": "2023-03-29T20:24:22.884Z"
   },
   {
    "duration": 0,
    "start_time": "2023-03-29T20:24:22.885Z"
   },
   {
    "duration": 0,
    "start_time": "2023-03-29T20:24:22.886Z"
   },
   {
    "duration": 0,
    "start_time": "2023-03-29T20:24:22.886Z"
   },
   {
    "duration": 0,
    "start_time": "2023-03-29T20:24:22.895Z"
   },
   {
    "duration": 0,
    "start_time": "2023-03-29T20:24:22.897Z"
   },
   {
    "duration": 0,
    "start_time": "2023-03-29T20:24:22.898Z"
   },
   {
    "duration": 0,
    "start_time": "2023-03-29T20:24:22.900Z"
   },
   {
    "duration": 0,
    "start_time": "2023-03-29T20:24:22.901Z"
   },
   {
    "duration": 4,
    "start_time": "2023-03-29T20:24:42.615Z"
   },
   {
    "duration": 199,
    "start_time": "2023-03-29T20:24:48.780Z"
   },
   {
    "duration": 1657,
    "start_time": "2023-03-29T20:25:19.330Z"
   },
   {
    "duration": 994,
    "start_time": "2023-03-29T20:25:20.989Z"
   },
   {
    "duration": 160,
    "start_time": "2023-03-29T20:25:21.985Z"
   },
   {
    "duration": 130,
    "start_time": "2023-03-29T20:25:22.809Z"
   },
   {
    "duration": 424,
    "start_time": "2023-03-29T20:25:26.915Z"
   },
   {
    "duration": 839,
    "start_time": "2023-03-29T20:25:27.991Z"
   },
   {
    "duration": 45,
    "start_time": "2023-03-29T20:25:29.575Z"
   },
   {
    "duration": 9,
    "start_time": "2023-03-29T20:25:32.811Z"
   },
   {
    "duration": 33,
    "start_time": "2023-03-29T20:25:35.000Z"
   },
   {
    "duration": 8,
    "start_time": "2023-03-29T20:25:36.879Z"
   },
   {
    "duration": 8,
    "start_time": "2023-03-29T20:25:38.089Z"
   },
   {
    "duration": 41,
    "start_time": "2023-03-29T20:25:41.338Z"
   },
   {
    "duration": 18,
    "start_time": "2023-03-29T20:25:43.045Z"
   },
   {
    "duration": 63,
    "start_time": "2023-03-29T20:25:47.125Z"
   },
   {
    "duration": 95,
    "start_time": "2023-03-29T20:25:55.489Z"
   },
   {
    "duration": 77,
    "start_time": "2023-03-29T20:25:57.419Z"
   },
   {
    "duration": 41,
    "start_time": "2023-03-29T20:26:04.077Z"
   },
   {
    "duration": 13,
    "start_time": "2023-03-29T20:26:06.198Z"
   },
   {
    "duration": 23,
    "start_time": "2023-03-29T20:26:07.103Z"
   },
   {
    "duration": 14,
    "start_time": "2023-03-29T20:26:09.418Z"
   },
   {
    "duration": 30,
    "start_time": "2023-03-29T20:26:10.986Z"
   },
   {
    "duration": 17,
    "start_time": "2023-03-29T20:26:25.320Z"
   },
   {
    "duration": 61,
    "start_time": "2023-03-29T20:26:27.628Z"
   },
   {
    "duration": 33,
    "start_time": "2023-03-29T20:26:29.089Z"
   },
   {
    "duration": 27,
    "start_time": "2023-03-29T20:26:36.694Z"
   },
   {
    "duration": 49,
    "start_time": "2023-03-29T20:26:41.033Z"
   },
   {
    "duration": 25,
    "start_time": "2023-03-29T20:26:44.979Z"
   },
   {
    "duration": 29,
    "start_time": "2023-03-29T20:26:46.772Z"
   },
   {
    "duration": 111,
    "start_time": "2023-03-29T20:26:48.227Z"
   },
   {
    "duration": 10,
    "start_time": "2023-03-29T20:26:53.976Z"
   },
   {
    "duration": 39,
    "start_time": "2023-03-29T20:26:57.737Z"
   },
   {
    "duration": 23,
    "start_time": "2023-03-29T20:26:58.684Z"
   },
   {
    "duration": 98,
    "start_time": "2023-03-29T20:27:03.605Z"
   },
   {
    "duration": 30,
    "start_time": "2023-03-29T20:28:20.573Z"
   },
   {
    "duration": 41,
    "start_time": "2023-03-29T20:28:37.077Z"
   },
   {
    "duration": 36,
    "start_time": "2023-03-29T20:28:50.183Z"
   },
   {
    "duration": 97,
    "start_time": "2023-03-29T20:29:18.786Z"
   },
   {
    "duration": 167,
    "start_time": "2023-03-29T20:31:41.412Z"
   },
   {
    "duration": 46,
    "start_time": "2023-03-29T20:32:06.025Z"
   },
   {
    "duration": 24,
    "start_time": "2023-03-29T20:36:30.402Z"
   },
   {
    "duration": 45,
    "start_time": "2023-03-29T20:36:38.679Z"
   },
   {
    "duration": 51,
    "start_time": "2023-03-29T20:36:45.228Z"
   },
   {
    "duration": 41,
    "start_time": "2023-03-29T20:36:52.436Z"
   },
   {
    "duration": 8,
    "start_time": "2023-03-29T20:38:24.133Z"
   },
   {
    "duration": 24893,
    "start_time": "2023-03-29T20:38:30.436Z"
   },
   {
    "duration": 10,
    "start_time": "2023-03-29T20:38:55.331Z"
   },
   {
    "duration": 17,
    "start_time": "2023-03-29T20:38:55.363Z"
   },
   {
    "duration": 48,
    "start_time": "2023-03-29T20:38:55.382Z"
   },
   {
    "duration": 23,
    "start_time": "2023-03-29T20:40:45.408Z"
   },
   {
    "duration": 767,
    "start_time": "2023-03-29T20:41:00.908Z"
   },
   {
    "duration": 422,
    "start_time": "2023-03-29T20:41:05.264Z"
   },
   {
    "duration": 363,
    "start_time": "2023-03-29T20:42:32.177Z"
   },
   {
    "duration": 318,
    "start_time": "2023-03-29T20:43:32.984Z"
   },
   {
    "duration": 299,
    "start_time": "2023-03-29T20:45:01.855Z"
   },
   {
    "duration": 311,
    "start_time": "2023-03-29T20:45:08.652Z"
   },
   {
    "duration": 2,
    "start_time": "2023-03-29T20:45:17.638Z"
   },
   {
    "duration": 173,
    "start_time": "2023-03-29T20:45:21.318Z"
   },
   {
    "duration": 17,
    "start_time": "2023-03-29T20:45:23.960Z"
   },
   {
    "duration": 142,
    "start_time": "2023-03-29T20:46:57.048Z"
   },
   {
    "duration": 10,
    "start_time": "2023-03-29T20:47:02.641Z"
   },
   {
    "duration": 451,
    "start_time": "2023-03-29T20:47:03.347Z"
   },
   {
    "duration": 319,
    "start_time": "2023-03-29T20:47:04.983Z"
   },
   {
    "duration": 2,
    "start_time": "2023-03-29T20:47:06.783Z"
   },
   {
    "duration": 143,
    "start_time": "2023-03-29T20:47:07.893Z"
   },
   {
    "duration": 19616,
    "start_time": "2023-03-29T20:47:23.933Z"
   },
   {
    "duration": 28186,
    "start_time": "2023-03-29T20:48:00.666Z"
   },
   {
    "duration": 5,
    "start_time": "2023-03-29T20:49:19.422Z"
   },
   {
    "duration": 5,
    "start_time": "2023-03-29T20:49:52.416Z"
   },
   {
    "duration": 5,
    "start_time": "2023-03-29T20:50:51.446Z"
   },
   {
    "duration": 4,
    "start_time": "2023-03-29T20:53:47.774Z"
   },
   {
    "duration": 10,
    "start_time": "2023-03-29T20:55:30.037Z"
   },
   {
    "duration": 8,
    "start_time": "2023-03-29T20:55:45.530Z"
   },
   {
    "duration": 158,
    "start_time": "2023-03-29T20:58:25.336Z"
   },
   {
    "duration": 15,
    "start_time": "2023-03-29T20:59:58.680Z"
   },
   {
    "duration": 250,
    "start_time": "2023-03-29T20:59:59.578Z"
   },
   {
    "duration": 8702,
    "start_time": "2023-03-29T21:00:17.255Z"
   },
   {
    "duration": 6882,
    "start_time": "2023-03-29T21:02:17.668Z"
   },
   {
    "duration": 61,
    "start_time": "2023-03-30T07:38:53.819Z"
   },
   {
    "duration": 1763,
    "start_time": "2023-03-30T07:38:59.873Z"
   },
   {
    "duration": 1100,
    "start_time": "2023-03-30T07:39:01.638Z"
   },
   {
    "duration": 145,
    "start_time": "2023-03-30T07:39:02.739Z"
   },
   {
    "duration": 112,
    "start_time": "2023-03-30T07:39:02.886Z"
   },
   {
    "duration": 472,
    "start_time": "2023-03-30T07:39:03.000Z"
   },
   {
    "duration": 1025,
    "start_time": "2023-03-30T07:39:03.475Z"
   },
   {
    "duration": 36,
    "start_time": "2023-03-30T07:39:04.502Z"
   },
   {
    "duration": 11,
    "start_time": "2023-03-30T07:39:04.540Z"
   },
   {
    "duration": 61,
    "start_time": "2023-03-30T07:39:04.553Z"
   },
   {
    "duration": 30,
    "start_time": "2023-03-30T07:39:04.616Z"
   },
   {
    "duration": 44,
    "start_time": "2023-03-30T07:39:04.648Z"
   },
   {
    "duration": 40,
    "start_time": "2023-03-30T07:39:04.694Z"
   },
   {
    "duration": 9,
    "start_time": "2023-03-30T07:39:04.736Z"
   },
   {
    "duration": 57,
    "start_time": "2023-03-30T07:39:04.747Z"
   },
   {
    "duration": 74,
    "start_time": "2023-03-30T07:39:04.806Z"
   },
   {
    "duration": 60,
    "start_time": "2023-03-30T07:39:04.881Z"
   },
   {
    "duration": 52,
    "start_time": "2023-03-30T07:39:04.942Z"
   },
   {
    "duration": 25,
    "start_time": "2023-03-30T07:39:04.996Z"
   },
   {
    "duration": 47,
    "start_time": "2023-03-30T07:39:05.024Z"
   },
   {
    "duration": 30,
    "start_time": "2023-03-30T07:39:05.073Z"
   },
   {
    "duration": 63,
    "start_time": "2023-03-30T07:39:05.104Z"
   },
   {
    "duration": 28,
    "start_time": "2023-03-30T07:39:05.169Z"
   },
   {
    "duration": 44,
    "start_time": "2023-03-30T07:39:05.199Z"
   },
   {
    "duration": 56,
    "start_time": "2023-03-30T07:39:05.244Z"
   },
   {
    "duration": 18,
    "start_time": "2023-03-30T07:39:05.301Z"
   },
   {
    "duration": 41,
    "start_time": "2023-03-30T07:39:05.321Z"
   },
   {
    "duration": 28,
    "start_time": "2023-03-30T07:39:05.364Z"
   },
   {
    "duration": 97,
    "start_time": "2023-03-30T07:39:05.397Z"
   },
   {
    "duration": 30,
    "start_time": "2023-03-30T07:39:05.495Z"
   },
   {
    "duration": 17,
    "start_time": "2023-03-30T07:39:05.526Z"
   },
   {
    "duration": 37,
    "start_time": "2023-03-30T07:39:05.545Z"
   },
   {
    "duration": 8,
    "start_time": "2023-03-30T07:39:05.583Z"
   },
   {
    "duration": 19293,
    "start_time": "2023-03-30T07:39:05.593Z"
   },
   {
    "duration": 18,
    "start_time": "2023-03-30T07:39:24.888Z"
   },
   {
    "duration": 20,
    "start_time": "2023-03-30T07:39:24.908Z"
   },
   {
    "duration": 54,
    "start_time": "2023-03-30T07:39:24.930Z"
   },
   {
    "duration": 11,
    "start_time": "2023-03-30T07:39:24.985Z"
   },
   {
    "duration": 830,
    "start_time": "2023-03-30T07:39:24.998Z"
   },
   {
    "duration": 525,
    "start_time": "2023-03-30T07:39:25.830Z"
   },
   {
    "duration": 3,
    "start_time": "2023-03-30T07:39:26.357Z"
   },
   {
    "duration": 213,
    "start_time": "2023-03-30T07:39:26.362Z"
   },
   {
    "duration": 16,
    "start_time": "2023-03-30T07:39:26.577Z"
   },
   {
    "duration": 29801,
    "start_time": "2023-03-30T07:39:26.595Z"
   },
   {
    "duration": 499,
    "start_time": "2023-03-30T07:39:56.476Z"
   },
   {
    "duration": 15,
    "start_time": "2023-03-30T07:39:56.980Z"
   },
   {
    "duration": 250,
    "start_time": "2023-03-30T07:39:56.997Z"
   },
   {
    "duration": 0,
    "start_time": "2023-03-30T07:39:57.249Z"
   },
   {
    "duration": 0,
    "start_time": "2023-03-30T07:39:57.250Z"
   },
   {
    "duration": 0,
    "start_time": "2023-03-30T07:39:57.252Z"
   },
   {
    "duration": 0,
    "start_time": "2023-03-30T07:39:57.254Z"
   },
   {
    "duration": 0,
    "start_time": "2023-03-30T07:39:57.255Z"
   },
   {
    "duration": 0,
    "start_time": "2023-03-30T07:39:57.257Z"
   },
   {
    "duration": 0,
    "start_time": "2023-03-30T07:39:57.258Z"
   },
   {
    "duration": 0,
    "start_time": "2023-03-30T07:39:57.275Z"
   },
   {
    "duration": 0,
    "start_time": "2023-03-30T07:39:57.276Z"
   },
   {
    "duration": 0,
    "start_time": "2023-03-30T07:39:57.277Z"
   },
   {
    "duration": 0,
    "start_time": "2023-03-30T07:39:57.278Z"
   },
   {
    "duration": 0,
    "start_time": "2023-03-30T07:39:57.279Z"
   },
   {
    "duration": 0,
    "start_time": "2023-03-30T07:39:57.280Z"
   },
   {
    "duration": 0,
    "start_time": "2023-03-30T07:39:57.281Z"
   },
   {
    "duration": 0,
    "start_time": "2023-03-30T07:39:57.282Z"
   },
   {
    "duration": 0,
    "start_time": "2023-03-30T07:39:57.283Z"
   },
   {
    "duration": 0,
    "start_time": "2023-03-30T07:39:57.284Z"
   },
   {
    "duration": 0,
    "start_time": "2023-03-30T07:39:57.285Z"
   },
   {
    "duration": 0,
    "start_time": "2023-03-30T07:39:57.286Z"
   },
   {
    "duration": 0,
    "start_time": "2023-03-30T07:39:57.287Z"
   },
   {
    "duration": 32,
    "start_time": "2023-03-30T07:40:18.614Z"
   },
   {
    "duration": 245,
    "start_time": "2023-03-30T07:40:20.424Z"
   },
   {
    "duration": 311781,
    "start_time": "2023-03-30T07:40:22.827Z"
   },
   {
    "duration": 3,
    "start_time": "2023-03-30T07:47:21.474Z"
   },
   {
    "duration": 492,
    "start_time": "2023-03-30T08:02:08.291Z"
   },
   {
    "duration": 6901,
    "start_time": "2023-03-30T08:02:19.376Z"
   },
   {
    "duration": 619,
    "start_time": "2023-03-30T08:02:34.975Z"
   },
   {
    "duration": 215,
    "start_time": "2023-03-30T08:12:21.776Z"
   },
   {
    "duration": 13,
    "start_time": "2023-03-30T08:13:22.476Z"
   },
   {
    "duration": 85,
    "start_time": "2023-03-30T08:13:38.600Z"
   },
   {
    "duration": 6703,
    "start_time": "2023-03-30T08:13:52.276Z"
   },
   {
    "duration": 4822,
    "start_time": "2023-03-30T08:13:58.982Z"
   },
   {
    "duration": 1020,
    "start_time": "2023-03-30T08:14:03.878Z"
   },
   {
    "duration": 579,
    "start_time": "2023-03-30T08:14:04.999Z"
   },
   {
    "duration": 2999,
    "start_time": "2023-03-30T08:14:05.584Z"
   },
   {
    "duration": 5314,
    "start_time": "2023-03-30T08:14:08.585Z"
   },
   {
    "duration": 197,
    "start_time": "2023-03-30T08:14:13.978Z"
   },
   {
    "duration": 15,
    "start_time": "2023-03-30T08:14:14.178Z"
   },
   {
    "duration": 214,
    "start_time": "2023-03-30T08:14:14.200Z"
   },
   {
    "duration": 7,
    "start_time": "2023-03-30T08:14:14.479Z"
   },
   {
    "duration": 102,
    "start_time": "2023-03-30T08:14:14.488Z"
   },
   {
    "duration": 183,
    "start_time": "2023-03-30T08:14:14.592Z"
   },
   {
    "duration": 15,
    "start_time": "2023-03-30T08:14:14.777Z"
   },
   {
    "duration": 195,
    "start_time": "2023-03-30T08:14:14.799Z"
   },
   {
    "duration": 404,
    "start_time": "2023-03-30T08:14:14.996Z"
   },
   {
    "duration": 485,
    "start_time": "2023-03-30T08:14:15.403Z"
   },
   {
    "duration": 194,
    "start_time": "2023-03-30T08:14:15.896Z"
   },
   {
    "duration": 107,
    "start_time": "2023-03-30T08:14:16.092Z"
   },
   {
    "duration": 290,
    "start_time": "2023-03-30T08:14:16.203Z"
   },
   {
    "duration": 105,
    "start_time": "2023-03-30T08:14:16.494Z"
   },
   {
    "duration": 272,
    "start_time": "2023-03-30T08:14:16.603Z"
   },
   {
    "duration": 95,
    "start_time": "2023-03-30T08:14:16.886Z"
   },
   {
    "duration": 295,
    "start_time": "2023-03-30T08:14:16.986Z"
   },
   {
    "duration": 116,
    "start_time": "2023-03-30T08:14:17.285Z"
   },
   {
    "duration": 112,
    "start_time": "2023-03-30T08:14:17.480Z"
   },
   {
    "duration": 296,
    "start_time": "2023-03-30T08:14:17.598Z"
   },
   {
    "duration": 96,
    "start_time": "2023-03-30T08:14:17.902Z"
   },
   {
    "duration": 414,
    "start_time": "2023-03-30T08:14:18.077Z"
   },
   {
    "duration": 89,
    "start_time": "2023-03-30T08:14:18.493Z"
   },
   {
    "duration": 5,
    "start_time": "2023-03-30T08:14:18.584Z"
   },
   {
    "duration": 190,
    "start_time": "2023-03-30T08:14:18.591Z"
   },
   {
    "duration": 13,
    "start_time": "2023-03-30T08:14:18.787Z"
   },
   {
    "duration": 126175,
    "start_time": "2023-03-30T08:14:18.802Z"
   },
   {
    "duration": 23,
    "start_time": "2023-03-30T08:16:24.979Z"
   },
   {
    "duration": 91,
    "start_time": "2023-03-30T08:16:25.004Z"
   },
   {
    "duration": 217,
    "start_time": "2023-03-30T08:16:25.175Z"
   },
   {
    "duration": 506,
    "start_time": "2023-03-30T08:16:25.395Z"
   },
   {
    "duration": 521,
    "start_time": "2023-03-30T08:16:37.777Z"
   },
   {
    "duration": 1217,
    "start_time": "2023-03-30T08:16:40.876Z"
   },
   {
    "duration": 613,
    "start_time": "2023-03-30T08:19:37.076Z"
   },
   {
    "duration": 652,
    "start_time": "2023-03-30T08:21:10.228Z"
   },
   {
    "duration": 100,
    "start_time": "2023-03-30T08:29:48.775Z"
   },
   {
    "duration": 136,
    "start_time": "2023-03-30T08:29:52.076Z"
   },
   {
    "duration": 503,
    "start_time": "2023-03-30T08:29:54.075Z"
   },
   {
    "duration": 165,
    "start_time": "2023-03-30T08:31:59.812Z"
   },
   {
    "duration": 435,
    "start_time": "2023-03-30T08:32:16.876Z"
   },
   {
    "duration": 603,
    "start_time": "2023-03-30T08:32:40.876Z"
   },
   {
    "duration": 174,
    "start_time": "2023-03-30T08:38:24.908Z"
   },
   {
    "duration": 1604,
    "start_time": "2023-03-30T08:38:26.176Z"
   },
   {
    "duration": 854607,
    "start_time": "2023-03-30T08:38:29.493Z"
   },
   {
    "duration": 21,
    "start_time": "2023-03-30T08:55:51.976Z"
   },
   {
    "duration": 32,
    "start_time": "2023-03-30T08:56:26.680Z"
   },
   {
    "duration": 100,
    "start_time": "2023-03-30T08:57:20.876Z"
   },
   {
    "duration": 86,
    "start_time": "2023-03-30T08:57:28.403Z"
   },
   {
    "duration": 109,
    "start_time": "2023-03-30T08:58:17.280Z"
   },
   {
    "duration": 112,
    "start_time": "2023-03-30T09:01:30.880Z"
   },
   {
    "duration": 10005,
    "start_time": "2023-03-30T09:27:27.078Z"
   },
   {
    "duration": 7401,
    "start_time": "2023-03-30T09:27:37.175Z"
   },
   {
    "duration": 1296,
    "start_time": "2023-03-30T09:27:44.578Z"
   },
   {
    "duration": 695,
    "start_time": "2023-03-30T09:27:45.879Z"
   },
   {
    "duration": 3799,
    "start_time": "2023-03-30T09:27:46.676Z"
   },
   {
    "duration": 8403,
    "start_time": "2023-03-30T09:27:50.477Z"
   },
   {
    "duration": 297,
    "start_time": "2023-03-30T09:27:58.882Z"
   },
   {
    "duration": 194,
    "start_time": "2023-03-30T09:27:59.181Z"
   },
   {
    "duration": 204,
    "start_time": "2023-03-30T09:27:59.377Z"
   },
   {
    "duration": 5,
    "start_time": "2023-03-30T09:27:59.585Z"
   },
   {
    "duration": 103,
    "start_time": "2023-03-30T09:27:59.684Z"
   },
   {
    "duration": 284,
    "start_time": "2023-03-30T09:27:59.792Z"
   },
   {
    "duration": 201,
    "start_time": "2023-03-30T09:28:00.081Z"
   },
   {
    "duration": 502,
    "start_time": "2023-03-30T09:28:00.287Z"
   },
   {
    "duration": 696,
    "start_time": "2023-03-30T09:28:00.883Z"
   },
   {
    "duration": 797,
    "start_time": "2023-03-30T09:28:01.582Z"
   },
   {
    "duration": 389,
    "start_time": "2023-03-30T09:28:02.385Z"
   },
   {
    "duration": 291,
    "start_time": "2023-03-30T09:28:02.883Z"
   },
   {
    "duration": 305,
    "start_time": "2023-03-30T09:28:03.176Z"
   },
   {
    "duration": 199,
    "start_time": "2023-03-30T09:28:03.483Z"
   },
   {
    "duration": 308,
    "start_time": "2023-03-30T09:28:03.776Z"
   },
   {
    "duration": 194,
    "start_time": "2023-03-30T09:28:04.085Z"
   },
   {
    "duration": 304,
    "start_time": "2023-03-30T09:28:04.282Z"
   },
   {
    "duration": 395,
    "start_time": "2023-03-30T09:28:04.679Z"
   },
   {
    "duration": 294,
    "start_time": "2023-03-30T09:28:05.080Z"
   },
   {
    "duration": 207,
    "start_time": "2023-03-30T09:28:05.476Z"
   },
   {
    "duration": 192,
    "start_time": "2023-03-30T09:28:05.684Z"
   },
   {
    "duration": 596,
    "start_time": "2023-03-30T09:28:05.884Z"
   },
   {
    "duration": 191,
    "start_time": "2023-03-30T09:28:06.483Z"
   },
   {
    "duration": 3,
    "start_time": "2023-03-30T09:28:06.679Z"
   },
   {
    "duration": 399,
    "start_time": "2023-03-30T09:28:06.684Z"
   },
   {
    "duration": 295,
    "start_time": "2023-03-30T09:28:07.085Z"
   },
   {
    "duration": 177094,
    "start_time": "2023-03-30T09:28:07.382Z"
   },
   {
    "duration": 100,
    "start_time": "2023-03-30T09:31:04.484Z"
   },
   {
    "duration": 299,
    "start_time": "2023-03-30T09:31:04.675Z"
   },
   {
    "duration": 498,
    "start_time": "2023-03-30T09:31:04.976Z"
   },
   {
    "duration": 193,
    "start_time": "2023-03-30T09:31:05.481Z"
   },
   {
    "duration": 7303,
    "start_time": "2023-03-30T09:31:05.676Z"
   },
   {
    "duration": 3600,
    "start_time": "2023-03-30T09:31:12.985Z"
   },
   {
    "duration": 2,
    "start_time": "2023-03-30T09:31:16.587Z"
   },
   {
    "duration": 1790,
    "start_time": "2023-03-30T09:31:16.590Z"
   },
   {
    "duration": 297,
    "start_time": "2023-03-30T09:31:18.382Z"
   },
   {
    "duration": 53002,
    "start_time": "2023-03-30T09:31:18.681Z"
   },
   {
    "duration": 1699,
    "start_time": "2023-03-30T09:32:11.776Z"
   },
   {
    "duration": 13,
    "start_time": "2023-03-30T09:32:13.479Z"
   },
   {
    "duration": 85,
    "start_time": "2023-03-30T09:32:13.494Z"
   },
   {
    "duration": 3105,
    "start_time": "2023-03-30T09:32:13.581Z"
   },
   {
    "duration": 408,
    "start_time": "2023-03-30T09:41:39.675Z"
   },
   {
    "duration": 8705,
    "start_time": "2023-03-30T09:47:33.675Z"
   },
   {
    "duration": 11389,
    "start_time": "2023-03-30T09:47:42.386Z"
   },
   {
    "duration": 1400,
    "start_time": "2023-03-30T09:50:18.476Z"
   },
   {
    "duration": 707,
    "start_time": "2023-03-30T09:50:21.076Z"
   },
   {
    "duration": 3406,
    "start_time": "2023-03-30T09:50:22.475Z"
   },
   {
    "duration": 7204,
    "start_time": "2023-03-30T09:50:26.576Z"
   },
   {
    "duration": 299,
    "start_time": "2023-03-30T09:51:01.877Z"
   },
   {
    "duration": 109,
    "start_time": "2023-03-30T09:51:52.076Z"
   },
   {
    "duration": 154,
    "start_time": "2023-03-30T09:51:53.234Z"
   },
   {
    "duration": 5,
    "start_time": "2023-03-30T09:51:54.675Z"
   },
   {
    "duration": 106,
    "start_time": "2023-03-30T09:51:55.675Z"
   },
   {
    "duration": 203,
    "start_time": "2023-03-30T09:51:57.376Z"
   },
   {
    "duration": 12,
    "start_time": "2023-03-30T09:52:00.976Z"
   },
   {
    "duration": 304,
    "start_time": "2023-03-30T09:52:03.975Z"
   },
   {
    "duration": 441,
    "start_time": "2023-03-30T09:52:06.151Z"
   },
   {
    "duration": 604,
    "start_time": "2023-03-30T09:52:09.884Z"
   },
   {
    "duration": 306,
    "start_time": "2023-03-30T09:52:14.275Z"
   },
   {
    "duration": 109,
    "start_time": "2023-03-30T09:52:15.477Z"
   },
   {
    "duration": 209,
    "start_time": "2023-03-30T09:52:18.576Z"
   },
   {
    "duration": 110,
    "start_time": "2023-03-30T09:52:20.076Z"
   },
   {
    "duration": 302,
    "start_time": "2023-03-30T09:52:20.976Z"
   },
   {
    "duration": 104,
    "start_time": "2023-03-30T09:52:24.179Z"
   },
   {
    "duration": 400,
    "start_time": "2023-03-30T09:52:27.076Z"
   },
   {
    "duration": 209,
    "start_time": "2023-03-30T09:52:29.576Z"
   },
   {
    "duration": 110,
    "start_time": "2023-03-30T09:52:33.479Z"
   },
   {
    "duration": 298,
    "start_time": "2023-03-30T09:52:34.176Z"
   },
   {
    "duration": 201,
    "start_time": "2023-03-30T09:52:37.576Z"
   },
   {
    "duration": 610,
    "start_time": "2023-03-30T09:52:38.976Z"
   },
   {
    "duration": 7,
    "start_time": "2023-03-30T09:52:42.778Z"
   },
   {
    "duration": 3,
    "start_time": "2023-03-30T09:52:44.875Z"
   },
   {
    "duration": 110,
    "start_time": "2023-03-30T09:52:52.276Z"
   },
   {
    "duration": 12,
    "start_time": "2023-03-30T09:52:53.076Z"
   },
   {
    "duration": 165205,
    "start_time": "2023-03-30T09:52:55.576Z"
   },
   {
    "duration": 94,
    "start_time": "2023-03-30T09:55:40.784Z"
   },
   {
    "duration": 13,
    "start_time": "2023-03-30T09:55:40.880Z"
   },
   {
    "duration": 311,
    "start_time": "2023-03-30T09:55:40.974Z"
   },
   {
    "duration": 100,
    "start_time": "2023-03-30T09:56:41.676Z"
   },
   {
    "duration": 6575,
    "start_time": "2023-03-30T09:56:42.401Z"
   },
   {
    "duration": 3106,
    "start_time": "2023-03-30T09:56:48.978Z"
   },
   {
    "duration": 96,
    "start_time": "2023-03-30T09:56:52.086Z"
   },
   {
    "duration": 1591,
    "start_time": "2023-03-30T09:56:52.185Z"
   },
   {
    "duration": 203,
    "start_time": "2023-03-30T09:56:53.785Z"
   },
   {
    "duration": 53694,
    "start_time": "2023-03-30T09:56:53.990Z"
   },
   {
    "duration": 1806,
    "start_time": "2023-03-30T09:57:47.777Z"
   },
   {
    "duration": 93,
    "start_time": "2023-03-30T09:57:49.585Z"
   },
   {
    "duration": 506,
    "start_time": "2023-03-30T09:58:44.575Z"
   },
   {
    "duration": 9315,
    "start_time": "2023-03-30T09:58:58.776Z"
   },
   {
    "duration": 12230,
    "start_time": "2023-03-30T09:59:08.185Z"
   },
   {
    "duration": 1006,
    "start_time": "2023-03-30T09:59:20.484Z"
   },
   {
    "duration": 1092,
    "start_time": "2023-03-30T09:59:21.491Z"
   },
   {
    "duration": 3795,
    "start_time": "2023-03-30T09:59:22.589Z"
   },
   {
    "duration": 7299,
    "start_time": "2023-03-30T09:59:26.386Z"
   },
   {
    "duration": 305,
    "start_time": "2023-03-30T09:59:33.778Z"
   },
   {
    "duration": 93,
    "start_time": "2023-03-30T09:59:34.085Z"
   },
   {
    "duration": 395,
    "start_time": "2023-03-30T09:59:34.180Z"
   },
   {
    "duration": 8,
    "start_time": "2023-03-30T09:59:34.576Z"
   },
   {
    "duration": 198,
    "start_time": "2023-03-30T09:59:34.677Z"
   },
   {
    "duration": 211,
    "start_time": "2023-03-30T09:59:34.877Z"
   },
   {
    "duration": 90,
    "start_time": "2023-03-30T09:59:35.090Z"
   },
   {
    "duration": 392,
    "start_time": "2023-03-30T09:59:35.184Z"
   },
   {
    "duration": 702,
    "start_time": "2023-03-30T09:59:35.581Z"
   },
   {
    "duration": 689,
    "start_time": "2023-03-30T09:59:36.285Z"
   },
   {
    "duration": 299,
    "start_time": "2023-03-30T09:59:36.980Z"
   },
   {
    "duration": 197,
    "start_time": "2023-03-30T09:59:37.281Z"
   },
   {
    "duration": 112,
    "start_time": "2023-03-30T09:59:37.575Z"
   },
   {
    "duration": 198,
    "start_time": "2023-03-30T09:59:37.689Z"
   },
   {
    "duration": 204,
    "start_time": "2023-03-30T09:59:37.975Z"
   },
   {
    "duration": 299,
    "start_time": "2023-03-30T09:59:38.180Z"
   },
   {
    "duration": 409,
    "start_time": "2023-03-30T09:59:38.578Z"
   },
   {
    "duration": 296,
    "start_time": "2023-03-30T09:59:38.988Z"
   },
   {
    "duration": 200,
    "start_time": "2023-03-30T09:59:39.374Z"
   },
   {
    "duration": 298,
    "start_time": "2023-03-30T09:59:39.582Z"
   },
   {
    "duration": 198,
    "start_time": "2023-03-30T09:59:39.882Z"
   },
   {
    "duration": 694,
    "start_time": "2023-03-30T09:59:40.082Z"
   },
   {
    "duration": 98,
    "start_time": "2023-03-30T09:59:40.876Z"
   },
   {
    "duration": 2,
    "start_time": "2023-03-30T09:59:40.977Z"
   },
   {
    "duration": 293,
    "start_time": "2023-03-30T09:59:40.981Z"
   },
   {
    "duration": 108,
    "start_time": "2023-03-30T09:59:41.376Z"
   },
   {
    "duration": 165799,
    "start_time": "2023-03-30T09:59:41.485Z"
   },
   {
    "duration": 93,
    "start_time": "2023-03-30T10:02:27.286Z"
   },
   {
    "duration": 17,
    "start_time": "2023-03-30T10:02:27.381Z"
   },
   {
    "duration": 321,
    "start_time": "2023-03-30T10:02:27.476Z"
   },
   {
    "duration": 99,
    "start_time": "2023-03-30T10:02:27.885Z"
   },
   {
    "duration": 5602,
    "start_time": "2023-03-30T10:02:27.986Z"
   },
   {
    "duration": 2986,
    "start_time": "2023-03-30T10:02:33.590Z"
   },
   {
    "duration": 9,
    "start_time": "2023-03-30T10:02:36.578Z"
   },
   {
    "duration": 1501,
    "start_time": "2023-03-30T10:02:36.595Z"
   },
   {
    "duration": 181,
    "start_time": "2023-03-30T10:02:38.099Z"
   },
   {
    "duration": 52092,
    "start_time": "2023-03-30T10:02:38.282Z"
   },
   {
    "duration": 1311,
    "start_time": "2023-03-30T10:03:30.377Z"
   },
   {
    "duration": 84,
    "start_time": "2023-03-30T10:03:31.691Z"
   },
   {
    "duration": 607,
    "start_time": "2023-03-30T10:05:09.276Z"
   },
   {
    "duration": 9003,
    "start_time": "2023-03-30T10:05:32.879Z"
   },
   {
    "duration": 13615,
    "start_time": "2023-03-30T10:05:41.884Z"
   },
   {
    "duration": 1008,
    "start_time": "2023-03-30T10:05:55.577Z"
   },
   {
    "duration": 701,
    "start_time": "2023-03-30T10:05:56.587Z"
   },
   {
    "duration": 3494,
    "start_time": "2023-03-30T10:05:57.291Z"
   },
   {
    "duration": 7393,
    "start_time": "2023-03-30T10:06:00.798Z"
   },
   {
    "duration": 280,
    "start_time": "2023-03-30T10:06:08.200Z"
   },
   {
    "duration": 98,
    "start_time": "2023-03-30T10:06:08.482Z"
   },
   {
    "duration": 193,
    "start_time": "2023-03-30T10:06:08.583Z"
   },
   {
    "duration": 10,
    "start_time": "2023-03-30T10:06:08.787Z"
   },
   {
    "duration": 83,
    "start_time": "2023-03-30T10:06:08.802Z"
   },
   {
    "duration": 391,
    "start_time": "2023-03-30T10:06:08.887Z"
   },
   {
    "duration": 95,
    "start_time": "2023-03-30T10:06:09.284Z"
   },
   {
    "duration": 210,
    "start_time": "2023-03-30T10:06:09.383Z"
   },
   {
    "duration": 520,
    "start_time": "2023-03-30T10:06:09.676Z"
   },
   {
    "duration": 617,
    "start_time": "2023-03-30T10:06:10.276Z"
   },
   {
    "duration": 220,
    "start_time": "2023-03-30T10:06:10.975Z"
   },
   {
    "duration": 119,
    "start_time": "2023-03-30T10:06:11.276Z"
   },
   {
    "duration": 282,
    "start_time": "2023-03-30T10:06:11.397Z"
   },
   {
    "duration": 107,
    "start_time": "2023-03-30T10:06:11.690Z"
   },
   {
    "duration": 306,
    "start_time": "2023-03-30T10:06:11.880Z"
   },
   {
    "duration": 204,
    "start_time": "2023-03-30T10:06:12.188Z"
   },
   {
    "duration": 200,
    "start_time": "2023-03-30T10:06:12.394Z"
   },
   {
    "duration": 203,
    "start_time": "2023-03-30T10:06:12.674Z"
   },
   {
    "duration": 99,
    "start_time": "2023-03-30T10:06:51.776Z"
   },
   {
    "duration": 217,
    "start_time": "2023-03-30T10:06:52.577Z"
   },
   {
    "duration": 113,
    "start_time": "2023-03-30T10:06:53.676Z"
   },
   {
    "duration": 420,
    "start_time": "2023-03-30T10:06:55.376Z"
   },
   {
    "duration": 8,
    "start_time": "2023-03-30T10:06:58.275Z"
   },
   {
    "duration": 4,
    "start_time": "2023-03-30T10:06:59.676Z"
   },
   {
    "duration": 103,
    "start_time": "2023-03-30T10:07:00.276Z"
   },
   {
    "duration": 14,
    "start_time": "2023-03-30T10:07:01.376Z"
   },
   {
    "duration": 147265,
    "start_time": "2023-03-30T10:07:02.920Z"
   },
   {
    "duration": 18,
    "start_time": "2023-03-30T10:10:16.776Z"
   },
   {
    "duration": 87,
    "start_time": "2023-03-30T10:10:17.997Z"
   },
   {
    "duration": 402,
    "start_time": "2023-03-30T10:10:20.578Z"
   },
   {
    "duration": 99,
    "start_time": "2023-03-30T10:10:26.976Z"
   },
   {
    "duration": 6898,
    "start_time": "2023-03-30T10:10:27.976Z"
   },
   {
    "duration": 3400,
    "start_time": "2023-03-30T10:10:36.376Z"
   },
   {
    "duration": 9,
    "start_time": "2023-03-30T10:10:40.576Z"
   },
   {
    "duration": 1403,
    "start_time": "2023-03-30T10:10:41.675Z"
   },
   {
    "duration": 105,
    "start_time": "2023-03-30T10:10:44.676Z"
   },
   {
    "duration": 49098,
    "start_time": "2023-03-30T10:10:47.276Z"
   },
   {
    "duration": 1804,
    "start_time": "2023-03-30T10:13:55.376Z"
   },
   {
    "duration": 27,
    "start_time": "2023-03-30T10:13:57.880Z"
   },
   {
    "duration": 6221,
    "start_time": "2023-03-30T12:19:11.376Z"
   },
   {
    "duration": 10406,
    "start_time": "2023-03-30T12:19:17.601Z"
   },
   {
    "duration": 920,
    "start_time": "2023-03-30T12:19:28.075Z"
   },
   {
    "duration": 679,
    "start_time": "2023-03-30T12:19:29.000Z"
   },
   {
    "duration": 2888,
    "start_time": "2023-03-30T12:19:29.687Z"
   },
   {
    "duration": 5495,
    "start_time": "2023-03-30T12:19:32.579Z"
   },
   {
    "duration": 123,
    "start_time": "2023-03-30T12:19:38.079Z"
   },
   {
    "duration": 87,
    "start_time": "2023-03-30T12:19:38.204Z"
   },
   {
    "duration": 101,
    "start_time": "2023-03-30T12:19:38.298Z"
   },
   {
    "duration": 4,
    "start_time": "2023-03-30T12:19:38.402Z"
   },
   {
    "duration": 23,
    "start_time": "2023-03-30T12:19:38.476Z"
   },
   {
    "duration": 179,
    "start_time": "2023-03-30T12:19:38.501Z"
   },
   {
    "duration": 95,
    "start_time": "2023-03-30T12:19:38.683Z"
   },
   {
    "duration": 123,
    "start_time": "2023-03-30T12:19:38.781Z"
   },
   {
    "duration": 325,
    "start_time": "2023-03-30T12:19:38.975Z"
   },
   {
    "duration": 477,
    "start_time": "2023-03-30T12:19:39.301Z"
   },
   {
    "duration": 300,
    "start_time": "2023-03-30T12:19:39.789Z"
   },
   {
    "duration": 187,
    "start_time": "2023-03-30T12:19:40.091Z"
   },
   {
    "duration": 203,
    "start_time": "2023-03-30T12:19:40.281Z"
   },
   {
    "duration": 96,
    "start_time": "2023-03-30T12:19:40.486Z"
   },
   {
    "duration": 208,
    "start_time": "2023-03-30T12:19:40.588Z"
   },
   {
    "duration": 193,
    "start_time": "2023-03-30T12:19:40.798Z"
   },
   {
    "duration": 194,
    "start_time": "2023-03-30T12:19:41.002Z"
   },
   {
    "duration": 290,
    "start_time": "2023-03-30T12:19:41.286Z"
   },
   {
    "duration": 105,
    "start_time": "2023-03-30T12:19:41.579Z"
   },
   {
    "duration": 215,
    "start_time": "2023-03-30T12:19:41.686Z"
   },
   {
    "duration": 106,
    "start_time": "2023-03-30T12:19:41.982Z"
   },
   {
    "duration": 578,
    "start_time": "2023-03-30T12:19:42.100Z"
   },
   {
    "duration": 15,
    "start_time": "2023-03-30T12:19:42.680Z"
   },
   {
    "duration": 56,
    "start_time": "2023-03-30T12:19:47.819Z"
   },
   {
    "duration": 111,
    "start_time": "2023-03-30T12:19:48.475Z"
   },
   {
    "duration": 19,
    "start_time": "2023-03-30T12:19:49.077Z"
   },
   {
    "duration": 120422,
    "start_time": "2023-03-30T12:19:50.477Z"
   },
   {
    "duration": 91,
    "start_time": "2023-03-30T12:21:50.902Z"
   },
   {
    "duration": 86,
    "start_time": "2023-03-30T12:21:50.997Z"
   },
   {
    "duration": 297,
    "start_time": "2023-03-30T12:21:51.086Z"
   },
   {
    "duration": 92,
    "start_time": "2023-03-30T12:21:51.393Z"
   },
   {
    "duration": 4891,
    "start_time": "2023-03-30T12:21:51.490Z"
   },
   {
    "duration": 2207,
    "start_time": "2023-03-30T12:21:56.386Z"
   },
   {
    "duration": 86,
    "start_time": "2023-03-30T12:21:58.598Z"
   },
   {
    "duration": 1104,
    "start_time": "2023-03-30T12:21:58.774Z"
   },
   {
    "duration": 109,
    "start_time": "2023-03-30T12:21:59.883Z"
   },
   {
    "duration": 65586,
    "start_time": "2023-03-30T12:21:59.994Z"
   },
   {
    "duration": 1414,
    "start_time": "2023-03-30T12:23:05.582Z"
   },
   {
    "duration": 98,
    "start_time": "2023-03-30T12:23:07.082Z"
   },
   {
    "duration": 505,
    "start_time": "2023-03-30T12:34:21.578Z"
   },
   {
    "duration": 7714,
    "start_time": "2023-03-30T12:34:56.477Z"
   },
   {
    "duration": 12880,
    "start_time": "2023-03-30T12:35:04.195Z"
   },
   {
    "duration": 908,
    "start_time": "2023-03-30T12:35:17.079Z"
   },
   {
    "duration": 503,
    "start_time": "2023-03-30T12:35:17.990Z"
   },
   {
    "duration": 3282,
    "start_time": "2023-03-30T12:35:18.501Z"
   },
   {
    "duration": 6691,
    "start_time": "2023-03-30T12:35:21.786Z"
   },
   {
    "duration": 308,
    "start_time": "2023-03-30T12:35:28.479Z"
   },
   {
    "duration": 97,
    "start_time": "2023-03-30T12:35:28.794Z"
   },
   {
    "duration": 191,
    "start_time": "2023-03-30T12:35:28.896Z"
   },
   {
    "duration": 89,
    "start_time": "2023-03-30T12:35:29.092Z"
   },
   {
    "duration": 98,
    "start_time": "2023-03-30T12:35:29.188Z"
   },
   {
    "duration": 296,
    "start_time": "2023-03-30T12:35:29.291Z"
   },
   {
    "duration": 16,
    "start_time": "2023-03-30T12:35:29.593Z"
   },
   {
    "duration": 204,
    "start_time": "2023-03-30T12:35:29.685Z"
   },
   {
    "duration": 490,
    "start_time": "2023-03-30T12:35:29.896Z"
   },
   {
    "duration": 488,
    "start_time": "2023-03-30T12:35:30.393Z"
   },
   {
    "duration": 300,
    "start_time": "2023-03-30T12:35:30.883Z"
   },
   {
    "duration": 108,
    "start_time": "2023-03-30T12:35:31.188Z"
   },
   {
    "duration": 208,
    "start_time": "2023-03-30T12:35:31.379Z"
   },
   {
    "duration": 194,
    "start_time": "2023-03-30T12:35:31.591Z"
   },
   {
    "duration": 292,
    "start_time": "2023-03-30T12:35:31.791Z"
   },
   {
    "duration": 107,
    "start_time": "2023-03-30T12:35:32.087Z"
   },
   {
    "duration": 295,
    "start_time": "2023-03-30T12:35:32.196Z"
   },
   {
    "duration": 288,
    "start_time": "2023-03-30T12:35:32.493Z"
   },
   {
    "duration": 106,
    "start_time": "2023-03-30T12:35:32.783Z"
   },
   {
    "duration": 192,
    "start_time": "2023-03-30T12:35:32.893Z"
   },
   {
    "duration": 194,
    "start_time": "2023-03-30T12:35:33.087Z"
   },
   {
    "duration": 595,
    "start_time": "2023-03-30T12:35:33.285Z"
   },
   {
    "duration": 98,
    "start_time": "2023-03-30T12:35:33.885Z"
   },
   {
    "duration": 9,
    "start_time": "2023-03-30T12:35:33.988Z"
   },
   {
    "duration": 280,
    "start_time": "2023-03-30T12:35:33.999Z"
   },
   {
    "duration": 93,
    "start_time": "2023-03-30T12:35:34.281Z"
   },
   {
    "duration": 139016,
    "start_time": "2023-03-30T12:35:34.376Z"
   },
   {
    "duration": 87,
    "start_time": "2023-03-30T12:37:53.394Z"
   },
   {
    "duration": 100,
    "start_time": "2023-03-30T12:37:53.483Z"
   },
   {
    "duration": 394,
    "start_time": "2023-03-30T12:37:53.585Z"
   },
   {
    "duration": 95,
    "start_time": "2023-03-30T12:37:53.989Z"
   },
   {
    "duration": 5304,
    "start_time": "2023-03-30T12:37:54.085Z"
   },
   {
    "duration": 2596,
    "start_time": "2023-03-30T12:37:59.396Z"
   },
   {
    "duration": 93,
    "start_time": "2023-03-30T12:38:01.994Z"
   },
   {
    "duration": 1387,
    "start_time": "2023-03-30T12:38:02.089Z"
   },
   {
    "duration": 198,
    "start_time": "2023-03-30T12:38:03.478Z"
   },
   {
    "duration": 66096,
    "start_time": "2023-03-30T12:38:03.694Z"
   },
   {
    "duration": 1413,
    "start_time": "2023-03-30T12:39:09.878Z"
   },
   {
    "duration": 10,
    "start_time": "2023-03-30T12:39:11.374Z"
   },
   {
    "duration": 152899,
    "start_time": "2023-03-30T12:42:02.178Z"
   },
   {
    "duration": 438320,
    "start_time": "2023-03-30T12:46:13.376Z"
   },
   {
    "duration": 9914,
    "start_time": "2023-03-30T13:31:07.976Z"
   },
   {
    "duration": 7690,
    "start_time": "2023-03-30T13:31:17.987Z"
   },
   {
    "duration": 1195,
    "start_time": "2023-03-30T13:31:25.680Z"
   },
   {
    "duration": 897,
    "start_time": "2023-03-30T13:31:26.877Z"
   },
   {
    "duration": 4502,
    "start_time": "2023-03-30T13:31:27.776Z"
   },
   {
    "duration": 8493,
    "start_time": "2023-03-30T13:31:32.283Z"
   },
   {
    "duration": 494,
    "start_time": "2023-03-30T13:31:40.780Z"
   },
   {
    "duration": 194,
    "start_time": "2023-03-30T13:31:41.280Z"
   },
   {
    "duration": 299,
    "start_time": "2023-03-30T13:31:41.479Z"
   },
   {
    "duration": 4,
    "start_time": "2023-03-30T13:31:41.780Z"
   },
   {
    "duration": 104,
    "start_time": "2023-03-30T13:31:41.876Z"
   },
   {
    "duration": 390,
    "start_time": "2023-03-30T13:31:41.984Z"
   },
   {
    "duration": 107,
    "start_time": "2023-03-30T13:31:42.378Z"
   },
   {
    "duration": 393,
    "start_time": "2023-03-30T13:31:42.487Z"
   },
   {
    "duration": 593,
    "start_time": "2023-03-30T13:31:42.884Z"
   },
   {
    "duration": 705,
    "start_time": "2023-03-30T13:31:43.479Z"
   },
   {
    "duration": 212,
    "start_time": "2023-03-30T13:31:44.274Z"
   },
   {
    "duration": 286,
    "start_time": "2023-03-30T13:31:44.489Z"
   },
   {
    "duration": 302,
    "start_time": "2023-03-30T13:31:44.777Z"
   },
   {
    "duration": 196,
    "start_time": "2023-03-30T13:31:45.084Z"
   },
   {
    "duration": 303,
    "start_time": "2023-03-30T13:31:45.282Z"
   },
   {
    "duration": 111,
    "start_time": "2023-03-30T13:31:45.674Z"
   },
   {
    "duration": 390,
    "start_time": "2023-03-30T13:31:45.788Z"
   },
   {
    "duration": 298,
    "start_time": "2023-03-30T13:31:46.181Z"
   },
   {
    "duration": 193,
    "start_time": "2023-03-30T13:31:46.482Z"
   },
   {
    "duration": 204,
    "start_time": "2023-03-30T13:31:47.175Z"
   },
   {
    "duration": 107,
    "start_time": "2023-03-30T13:31:49.076Z"
   },
   {
    "duration": 501,
    "start_time": "2023-03-30T13:31:49.877Z"
   },
   {
    "duration": 99,
    "start_time": "2023-03-30T13:31:52.476Z"
   },
   {
    "duration": 8,
    "start_time": "2023-03-30T13:31:54.375Z"
   },
   {
    "duration": 201,
    "start_time": "2023-03-30T13:31:55.076Z"
   },
   {
    "duration": 104,
    "start_time": "2023-03-30T13:31:55.976Z"
   },
   {
    "duration": 175134,
    "start_time": "2023-03-30T13:31:57.540Z"
   },
   {
    "duration": 14,
    "start_time": "2023-03-30T13:34:52.679Z"
   },
   {
    "duration": 205,
    "start_time": "2023-03-30T13:34:52.776Z"
   },
   {
    "duration": 491,
    "start_time": "2023-03-30T13:34:52.983Z"
   },
   {
    "duration": 15,
    "start_time": "2023-03-30T13:34:59.276Z"
   },
   {
    "duration": 7309,
    "start_time": "2023-03-30T13:35:00.276Z"
   },
   {
    "duration": 4009,
    "start_time": "2023-03-30T13:35:07.674Z"
   },
   {
    "duration": 2,
    "start_time": "2023-03-30T13:35:11.776Z"
   },
   {
    "duration": 1690,
    "start_time": "2023-03-30T13:35:11.785Z"
   },
   {
    "duration": 103,
    "start_time": "2023-03-30T13:35:13.482Z"
   },
   {
    "duration": 55795,
    "start_time": "2023-03-30T13:35:13.586Z"
   },
   {
    "duration": 1910,
    "start_time": "2023-03-30T13:36:09.474Z"
   },
   {
    "duration": 97,
    "start_time": "2023-03-30T13:36:11.385Z"
   },
   {
    "duration": 98,
    "start_time": "2023-03-30T13:36:44.476Z"
   },
   {
    "duration": 13,
    "start_time": "2023-03-30T13:36:45.376Z"
   },
   {
    "duration": 1602,
    "start_time": "2023-03-30T13:36:46.276Z"
   },
   {
    "duration": 5,
    "start_time": "2023-03-30T13:38:49.075Z"
   },
   {
    "duration": 203,
    "start_time": "2023-03-30T13:39:10.975Z"
   },
   {
    "duration": 611,
    "start_time": "2023-03-30T13:40:30.076Z"
   },
   {
    "duration": 406,
    "start_time": "2023-03-30T13:40:57.176Z"
   },
   {
    "duration": 366,
    "start_time": "2023-03-30T13:41:05.109Z"
   },
   {
    "duration": 106,
    "start_time": "2023-03-30T13:41:22.776Z"
   },
   {
    "duration": 418,
    "start_time": "2023-03-30T13:41:49.582Z"
   },
   {
    "duration": 6594,
    "start_time": "2023-03-30T13:42:37.086Z"
   },
   {
    "duration": 4994,
    "start_time": "2023-03-30T13:42:43.686Z"
   },
   {
    "duration": 818,
    "start_time": "2023-03-30T13:42:48.685Z"
   },
   {
    "duration": 504,
    "start_time": "2023-03-30T13:42:49.580Z"
   },
   {
    "duration": 2814,
    "start_time": "2023-03-30T13:42:50.091Z"
   },
   {
    "duration": 6019,
    "start_time": "2023-03-30T13:42:52.977Z"
   },
   {
    "duration": 202,
    "start_time": "2023-03-30T13:42:59.076Z"
   },
   {
    "duration": 94,
    "start_time": "2023-03-30T13:42:59.280Z"
   },
   {
    "duration": 199,
    "start_time": "2023-03-30T13:42:59.379Z"
   },
   {
    "duration": 7,
    "start_time": "2023-03-30T13:42:59.582Z"
   },
   {
    "duration": 83,
    "start_time": "2023-03-30T13:42:59.595Z"
   },
   {
    "duration": 199,
    "start_time": "2023-03-30T13:42:59.681Z"
   },
   {
    "duration": 94,
    "start_time": "2023-03-30T13:42:59.886Z"
   },
   {
    "duration": 214,
    "start_time": "2023-03-30T13:42:59.982Z"
   },
   {
    "duration": 518,
    "start_time": "2023-03-30T13:43:00.274Z"
   },
   {
    "duration": 599,
    "start_time": "2023-03-30T13:43:00.795Z"
   },
   {
    "duration": 279,
    "start_time": "2023-03-30T13:43:01.401Z"
   },
   {
    "duration": 201,
    "start_time": "2023-03-30T13:43:01.682Z"
   },
   {
    "duration": 200,
    "start_time": "2023-03-30T13:43:01.889Z"
   },
   {
    "duration": 107,
    "start_time": "2023-03-30T13:43:02.091Z"
   },
   {
    "duration": 128,
    "start_time": "2023-03-30T13:43:02.276Z"
   },
   {
    "duration": 95,
    "start_time": "2023-03-30T13:43:02.486Z"
   },
   {
    "duration": 303,
    "start_time": "2023-03-30T13:43:02.582Z"
   },
   {
    "duration": 210,
    "start_time": "2023-03-30T13:43:02.890Z"
   },
   {
    "duration": 85,
    "start_time": "2023-03-30T13:43:03.106Z"
   },
   {
    "duration": 200,
    "start_time": "2023-03-30T13:43:03.277Z"
   },
   {
    "duration": 102,
    "start_time": "2023-03-30T13:43:03.479Z"
   },
   {
    "duration": 584,
    "start_time": "2023-03-30T13:43:03.595Z"
   },
   {
    "duration": 19,
    "start_time": "2023-03-30T13:43:04.182Z"
   },
   {
    "duration": 78,
    "start_time": "2023-03-30T13:43:04.206Z"
   },
   {
    "duration": 201,
    "start_time": "2023-03-30T13:43:04.287Z"
   },
   {
    "duration": 87,
    "start_time": "2023-03-30T13:43:04.499Z"
   },
   {
    "duration": 135589,
    "start_time": "2023-03-30T13:43:04.598Z"
   },
   {
    "duration": 98,
    "start_time": "2023-03-30T13:45:20.203Z"
   },
   {
    "duration": 96,
    "start_time": "2023-03-30T13:45:20.303Z"
   },
   {
    "duration": 306,
    "start_time": "2023-03-30T13:45:20.478Z"
   },
   {
    "duration": 18,
    "start_time": "2023-03-30T13:45:40.276Z"
   },
   {
    "duration": 9,
    "start_time": "2023-03-30T13:45:43.878Z"
   },
   {
    "duration": 234,
    "start_time": "2023-03-30T13:45:44.576Z"
   },
   {
    "duration": 203,
    "start_time": "2023-03-30T13:46:02.779Z"
   },
   {
    "duration": 7520,
    "start_time": "2023-03-30T13:46:35.476Z"
   },
   {
    "duration": 5677,
    "start_time": "2023-03-30T13:46:42.999Z"
   },
   {
    "duration": 914,
    "start_time": "2023-03-30T13:46:48.678Z"
   },
   {
    "duration": 809,
    "start_time": "2023-03-30T13:46:49.598Z"
   },
   {
    "duration": 2993,
    "start_time": "2023-03-30T13:46:50.485Z"
   },
   {
    "duration": 6208,
    "start_time": "2023-03-30T13:46:53.480Z"
   },
   {
    "duration": 201,
    "start_time": "2023-03-30T13:46:59.692Z"
   },
   {
    "duration": 97,
    "start_time": "2023-03-30T13:46:59.895Z"
   },
   {
    "duration": 111,
    "start_time": "2023-03-30T13:47:02.086Z"
   },
   {
    "duration": 7,
    "start_time": "2023-03-30T13:47:03.177Z"
   },
   {
    "duration": 43,
    "start_time": "2023-03-30T13:47:04.545Z"
   },
   {
    "duration": 116,
    "start_time": "2023-03-30T13:47:08.478Z"
   },
   {
    "duration": 13,
    "start_time": "2023-03-30T13:47:10.175Z"
   },
   {
    "duration": 311,
    "start_time": "2023-03-30T13:47:11.776Z"
   },
   {
    "duration": 567,
    "start_time": "2023-03-30T13:47:12.813Z"
   },
   {
    "duration": 697,
    "start_time": "2023-03-30T13:47:14.902Z"
   },
   {
    "duration": 23,
    "start_time": "2023-03-30T13:47:24.478Z"
   },
   {
    "duration": 107,
    "start_time": "2023-03-30T13:47:49.478Z"
   },
   {
    "duration": 1500,
    "start_time": "2023-03-30T13:48:00.674Z"
   },
   {
    "duration": 282,
    "start_time": "2023-03-30T13:48:09.101Z"
   },
   {
    "duration": 91,
    "start_time": "2023-03-30T13:48:10.397Z"
   },
   {
    "duration": 239,
    "start_time": "2023-03-30T13:48:11.141Z"
   },
   {
    "duration": 109,
    "start_time": "2023-03-30T13:48:11.975Z"
   },
   {
    "duration": 216,
    "start_time": "2023-03-30T13:48:13.177Z"
   },
   {
    "duration": 110,
    "start_time": "2023-03-30T13:48:14.477Z"
   },
   {
    "duration": 294,
    "start_time": "2023-03-30T13:48:16.601Z"
   },
   {
    "duration": 292,
    "start_time": "2023-03-30T13:48:17.601Z"
   },
   {
    "duration": 102,
    "start_time": "2023-03-30T13:48:18.401Z"
   },
   {
    "duration": 212,
    "start_time": "2023-03-30T13:48:19.477Z"
   },
   {
    "duration": 106,
    "start_time": "2023-03-30T13:48:21.179Z"
   },
   {
    "duration": 435,
    "start_time": "2023-03-30T13:48:24.177Z"
   },
   {
    "duration": 91,
    "start_time": "2023-03-30T13:48:29.297Z"
   },
   {
    "duration": 15,
    "start_time": "2023-03-30T13:48:37.776Z"
   },
   {
    "duration": 12,
    "start_time": "2023-03-30T13:48:40.001Z"
   },
   {
    "duration": 101,
    "start_time": "2023-03-30T13:48:41.075Z"
   },
   {
    "duration": 32,
    "start_time": "2023-03-30T13:48:47.475Z"
   },
   {
    "duration": 13,
    "start_time": "2023-03-30T13:48:59.076Z"
   },
   {
    "duration": 137907,
    "start_time": "2023-03-30T13:49:01.475Z"
   },
   {
    "duration": 104,
    "start_time": "2023-03-30T13:51:32.975Z"
   },
   {
    "duration": 321,
    "start_time": "2023-03-30T13:52:47.178Z"
   },
   {
    "duration": 7112,
    "start_time": "2023-03-30T13:53:06.576Z"
   },
   {
    "duration": 5287,
    "start_time": "2023-03-30T13:53:13.691Z"
   },
   {
    "duration": 909,
    "start_time": "2023-03-30T13:53:18.982Z"
   },
   {
    "duration": 813,
    "start_time": "2023-03-30T13:53:19.982Z"
   },
   {
    "duration": 2707,
    "start_time": "2023-03-30T13:53:20.878Z"
   },
   {
    "duration": 5696,
    "start_time": "2023-03-30T13:53:23.587Z"
   },
   {
    "duration": 291,
    "start_time": "2023-03-30T13:53:29.294Z"
   },
   {
    "duration": 99,
    "start_time": "2023-03-30T13:53:29.589Z"
   },
   {
    "duration": 201,
    "start_time": "2023-03-30T13:53:29.690Z"
   },
   {
    "duration": 6,
    "start_time": "2023-03-30T13:53:29.974Z"
   },
   {
    "duration": 99,
    "start_time": "2023-03-30T13:53:29.983Z"
   },
   {
    "duration": 200,
    "start_time": "2023-03-30T13:53:30.084Z"
   },
   {
    "duration": 101,
    "start_time": "2023-03-30T13:53:30.288Z"
   },
   {
    "duration": 287,
    "start_time": "2023-03-30T13:53:30.393Z"
   },
   {
    "duration": 503,
    "start_time": "2023-03-30T13:53:30.689Z"
   },
   {
    "duration": 500,
    "start_time": "2023-03-30T13:53:31.194Z"
   },
   {
    "duration": 207,
    "start_time": "2023-03-30T13:53:31.775Z"
   },
   {
    "duration": 117,
    "start_time": "2023-03-30T13:53:32.076Z"
   },
   {
    "duration": 211,
    "start_time": "2023-03-30T13:53:32.280Z"
   },
   {
    "duration": 105,
    "start_time": "2023-03-30T13:53:32.494Z"
   },
   {
    "duration": 214,
    "start_time": "2023-03-30T13:53:32.680Z"
   },
   {
    "duration": 95,
    "start_time": "2023-03-30T13:53:32.895Z"
   },
   {
    "duration": 299,
    "start_time": "2023-03-30T13:53:32.994Z"
   },
   {
    "duration": 196,
    "start_time": "2023-03-30T13:53:33.296Z"
   },
   {
    "duration": 188,
    "start_time": "2023-03-30T13:53:33.495Z"
   },
   {
    "duration": 291,
    "start_time": "2023-03-30T13:53:33.694Z"
   },
   {
    "duration": 102,
    "start_time": "2023-03-30T13:53:33.987Z"
   },
   {
    "duration": 574,
    "start_time": "2023-03-30T13:53:34.100Z"
   },
   {
    "duration": 13,
    "start_time": "2023-03-30T13:53:34.687Z"
   },
   {
    "duration": 7,
    "start_time": "2023-03-30T13:53:34.779Z"
   },
   {
    "duration": 120,
    "start_time": "2023-03-30T13:53:34.874Z"
   },
   {
    "duration": 18,
    "start_time": "2023-03-30T13:53:35.076Z"
   },
   {
    "duration": 105,
    "start_time": "2023-03-30T13:53:55.279Z"
   },
   {
    "duration": 43019,
    "start_time": "2023-03-30T13:54:45.676Z"
   },
   {
    "duration": 96,
    "start_time": "2023-03-30T13:56:07.198Z"
   },
   {
    "duration": 10880,
    "start_time": "2023-03-30T13:57:30.597Z"
   },
   {
    "duration": 7417,
    "start_time": "2023-03-30T13:58:02.476Z"
   },
   {
    "duration": 5382,
    "start_time": "2023-03-30T13:58:09.895Z"
   },
   {
    "duration": 808,
    "start_time": "2023-03-30T13:58:15.279Z"
   },
   {
    "duration": 809,
    "start_time": "2023-03-30T13:58:16.174Z"
   },
   {
    "duration": 2799,
    "start_time": "2023-03-30T13:58:16.985Z"
   },
   {
    "duration": 5588,
    "start_time": "2023-03-30T13:58:19.792Z"
   },
   {
    "duration": 204,
    "start_time": "2023-03-30T13:58:25.382Z"
   },
   {
    "duration": 101,
    "start_time": "2023-03-30T13:58:25.588Z"
   },
   {
    "duration": 291,
    "start_time": "2023-03-30T13:58:25.694Z"
   },
   {
    "duration": 85,
    "start_time": "2023-03-30T13:58:25.998Z"
   },
   {
    "duration": 23,
    "start_time": "2023-03-30T13:58:26.174Z"
   },
   {
    "duration": 120,
    "start_time": "2023-03-30T13:58:26.275Z"
   },
   {
    "duration": 84,
    "start_time": "2023-03-30T13:58:26.397Z"
   },
   {
    "duration": 200,
    "start_time": "2023-03-30T13:58:26.483Z"
   },
   {
    "duration": 501,
    "start_time": "2023-03-30T13:58:26.685Z"
   },
   {
    "duration": 486,
    "start_time": "2023-03-30T13:58:27.193Z"
   },
   {
    "duration": 193,
    "start_time": "2023-03-30T13:58:27.698Z"
   },
   {
    "duration": 198,
    "start_time": "2023-03-30T13:58:27.983Z"
   },
   {
    "duration": 205,
    "start_time": "2023-03-30T13:58:28.182Z"
   },
   {
    "duration": 193,
    "start_time": "2023-03-30T13:58:28.390Z"
   },
   {
    "duration": 198,
    "start_time": "2023-03-30T13:58:28.585Z"
   },
   {
    "duration": 192,
    "start_time": "2023-03-30T13:58:28.791Z"
   },
   {
    "duration": 309,
    "start_time": "2023-03-30T13:58:28.987Z"
   },
   {
    "duration": 290,
    "start_time": "2023-03-30T13:58:29.384Z"
   },
   {
    "duration": 105,
    "start_time": "2023-03-30T13:58:29.681Z"
   },
   {
    "duration": 202,
    "start_time": "2023-03-30T13:58:29.876Z"
   },
   {
    "duration": 97,
    "start_time": "2023-03-30T13:58:30.091Z"
   },
   {
    "duration": 694,
    "start_time": "2023-03-30T13:58:30.193Z"
   },
   {
    "duration": 88,
    "start_time": "2023-03-30T13:58:30.893Z"
   },
   {
    "duration": 93,
    "start_time": "2023-03-30T13:58:30.983Z"
   },
   {
    "duration": 205,
    "start_time": "2023-03-30T13:58:31.078Z"
   },
   {
    "duration": 99,
    "start_time": "2023-03-30T13:58:31.290Z"
   },
   {
    "duration": 16287,
    "start_time": "2023-03-30T13:58:31.391Z"
   },
   {
    "duration": 107,
    "start_time": "2023-03-30T13:58:47.680Z"
   },
   {
    "duration": 42441,
    "start_time": "2023-03-30T13:59:50.838Z"
   },
   {
    "duration": 381,
    "start_time": "2023-03-30T14:00:44.196Z"
   },
   {
    "duration": 6623,
    "start_time": "2023-03-30T14:03:55.576Z"
   },
   {
    "duration": 4877,
    "start_time": "2023-03-30T14:04:02.201Z"
   },
   {
    "duration": 1011,
    "start_time": "2023-03-30T14:04:07.080Z"
   },
   {
    "duration": 519,
    "start_time": "2023-03-30T14:04:08.099Z"
   },
   {
    "duration": 2295,
    "start_time": "2023-03-30T14:04:08.621Z"
   },
   {
    "duration": 5661,
    "start_time": "2023-03-30T14:04:10.920Z"
   },
   {
    "duration": 195,
    "start_time": "2023-03-30T14:04:16.588Z"
   },
   {
    "duration": 97,
    "start_time": "2023-03-30T14:04:16.795Z"
   },
   {
    "duration": 200,
    "start_time": "2023-03-30T14:04:16.901Z"
   },
   {
    "duration": 74,
    "start_time": "2023-03-30T14:04:17.110Z"
   },
   {
    "duration": 109,
    "start_time": "2023-03-30T14:04:17.187Z"
   },
   {
    "duration": 113,
    "start_time": "2023-03-30T14:04:17.298Z"
   },
   {
    "duration": 29,
    "start_time": "2023-03-30T14:04:17.482Z"
   },
   {
    "duration": 319,
    "start_time": "2023-03-30T14:04:17.583Z"
   },
   {
    "duration": 622,
    "start_time": "2023-03-30T14:04:17.978Z"
   },
   {
    "duration": 580,
    "start_time": "2023-03-30T14:04:18.602Z"
   },
   {
    "duration": 215,
    "start_time": "2023-03-30T14:04:19.187Z"
   },
   {
    "duration": 103,
    "start_time": "2023-03-30T14:04:19.404Z"
   },
   {
    "duration": 172,
    "start_time": "2023-03-30T14:04:19.513Z"
   },
   {
    "duration": 99,
    "start_time": "2023-03-30T14:04:19.687Z"
   },
   {
    "duration": 206,
    "start_time": "2023-03-30T14:04:19.787Z"
   },
   {
    "duration": 91,
    "start_time": "2023-03-30T14:04:19.996Z"
   },
   {
    "duration": 178,
    "start_time": "2023-03-30T14:04:20.107Z"
   },
   {
    "duration": 194,
    "start_time": "2023-03-30T14:04:20.289Z"
   },
   {
    "duration": 107,
    "start_time": "2023-03-30T14:04:20.485Z"
   },
   {
    "duration": 289,
    "start_time": "2023-03-30T14:04:20.597Z"
   },
   {
    "duration": 190,
    "start_time": "2023-03-30T14:04:20.896Z"
   },
   {
    "duration": 689,
    "start_time": "2023-03-30T14:04:21.092Z"
   },
   {
    "duration": 20,
    "start_time": "2023-03-30T14:04:21.798Z"
   },
   {
    "duration": 6,
    "start_time": "2023-03-30T14:04:21.883Z"
   },
   {
    "duration": 109,
    "start_time": "2023-03-30T14:04:21.895Z"
   },
   {
    "duration": 77,
    "start_time": "2023-03-30T14:04:22.016Z"
   },
   {
    "duration": 13577,
    "start_time": "2023-03-30T14:04:22.104Z"
   },
   {
    "duration": 102,
    "start_time": "2023-03-30T14:04:35.683Z"
   },
   {
    "duration": 33,
    "start_time": "2023-03-30T14:04:47.379Z"
   },
   {
    "duration": 14,
    "start_time": "2023-03-30T14:04:48.082Z"
   },
   {
    "duration": 294,
    "start_time": "2023-03-30T14:04:48.600Z"
   },
   {
    "duration": 35,
    "start_time": "2023-03-30T14:04:54.258Z"
   },
   {
    "duration": 4940,
    "start_time": "2023-03-30T14:04:54.975Z"
   },
   {
    "duration": 2707,
    "start_time": "2023-03-30T14:04:59.989Z"
   },
   {
    "duration": 12,
    "start_time": "2023-03-30T14:05:02.774Z"
   },
   {
    "duration": 1196,
    "start_time": "2023-03-30T14:05:02.881Z"
   },
   {
    "duration": 108,
    "start_time": "2023-03-30T14:05:04.092Z"
   },
   {
    "duration": 61605,
    "start_time": "2023-03-30T14:05:04.204Z"
   },
   {
    "duration": 1192,
    "start_time": "2023-03-30T14:06:05.884Z"
   },
   {
    "duration": 95,
    "start_time": "2023-03-30T14:06:07.080Z"
   },
   {
    "duration": 28,
    "start_time": "2023-03-30T14:06:15.577Z"
   },
   {
    "duration": 76,
    "start_time": "2023-03-30T14:06:16.201Z"
   },
   {
    "duration": 272,
    "start_time": "2023-03-30T14:06:16.828Z"
   },
   {
    "duration": 101,
    "start_time": "2023-03-30T14:06:46.278Z"
   },
   {
    "duration": 7403,
    "start_time": "2023-03-30T14:07:13.076Z"
   },
   {
    "duration": 5793,
    "start_time": "2023-03-30T14:07:20.485Z"
   },
   {
    "duration": 991,
    "start_time": "2023-03-30T14:07:26.289Z"
   },
   {
    "duration": 598,
    "start_time": "2023-03-30T14:07:27.283Z"
   },
   {
    "duration": 2819,
    "start_time": "2023-03-30T14:07:27.882Z"
   },
   {
    "duration": 6104,
    "start_time": "2023-03-30T14:07:30.776Z"
   },
   {
    "duration": 208,
    "start_time": "2023-03-30T14:07:36.881Z"
   },
   {
    "duration": 96,
    "start_time": "2023-03-30T14:07:37.103Z"
   },
   {
    "duration": 178,
    "start_time": "2023-03-30T14:07:37.206Z"
   },
   {
    "duration": 10,
    "start_time": "2023-03-30T14:07:37.391Z"
   },
   {
    "duration": 110,
    "start_time": "2023-03-30T14:07:37.477Z"
   },
   {
    "duration": 205,
    "start_time": "2023-03-30T14:07:37.588Z"
   },
   {
    "duration": 85,
    "start_time": "2023-03-30T14:07:37.800Z"
   },
   {
    "duration": 295,
    "start_time": "2023-03-30T14:07:37.899Z"
   },
   {
    "duration": 591,
    "start_time": "2023-03-30T14:07:38.196Z"
   },
   {
    "duration": 413,
    "start_time": "2023-03-30T14:07:38.798Z"
   },
   {
    "duration": 263,
    "start_time": "2023-03-30T14:07:39.213Z"
   },
   {
    "duration": 123,
    "start_time": "2023-03-30T14:07:39.479Z"
   },
   {
    "duration": 291,
    "start_time": "2023-03-30T14:07:39.607Z"
   },
   {
    "duration": 182,
    "start_time": "2023-03-30T14:07:39.902Z"
   },
   {
    "duration": 194,
    "start_time": "2023-03-30T14:07:40.086Z"
   },
   {
    "duration": 105,
    "start_time": "2023-03-30T14:07:40.281Z"
   },
   {
    "duration": 211,
    "start_time": "2023-03-30T14:07:40.388Z"
   },
   {
    "duration": 179,
    "start_time": "2023-03-30T14:07:40.603Z"
   },
   {
    "duration": 107,
    "start_time": "2023-03-30T14:07:40.794Z"
   },
   {
    "duration": 196,
    "start_time": "2023-03-30T14:07:40.984Z"
   },
   {
    "duration": 109,
    "start_time": "2023-03-30T14:07:41.186Z"
   },
   {
    "duration": 386,
    "start_time": "2023-03-30T14:07:41.309Z"
   },
   {
    "duration": 80,
    "start_time": "2023-03-30T14:07:41.697Z"
   },
   {
    "duration": 3,
    "start_time": "2023-03-30T14:07:41.781Z"
   },
   {
    "duration": 92,
    "start_time": "2023-03-30T14:07:41.786Z"
   },
   {
    "duration": 96,
    "start_time": "2023-03-30T14:07:41.891Z"
   },
   {
    "duration": 12431,
    "start_time": "2023-03-30T14:07:41.988Z"
   },
   {
    "duration": 19,
    "start_time": "2023-03-30T14:07:54.475Z"
   },
   {
    "duration": 398,
    "start_time": "2023-03-30T14:07:54.585Z"
   },
   {
    "duration": 128,
    "start_time": "2023-03-30T14:08:05.677Z"
   },
   {
    "duration": 7307,
    "start_time": "2023-03-30T14:08:54.976Z"
   },
   {
    "duration": 4734,
    "start_time": "2023-03-30T14:09:02.285Z"
   },
   {
    "duration": 910,
    "start_time": "2023-03-30T14:09:07.077Z"
   },
   {
    "duration": 595,
    "start_time": "2023-03-30T14:09:07.993Z"
   },
   {
    "duration": 2722,
    "start_time": "2023-03-30T14:09:08.589Z"
   },
   {
    "duration": 5569,
    "start_time": "2023-03-30T14:09:11.316Z"
   },
   {
    "duration": 280,
    "start_time": "2023-03-30T14:09:16.897Z"
   },
   {
    "duration": 88,
    "start_time": "2023-03-30T14:09:17.187Z"
   },
   {
    "duration": 111,
    "start_time": "2023-03-30T14:09:17.286Z"
   },
   {
    "duration": 81,
    "start_time": "2023-03-30T14:09:17.403Z"
   },
   {
    "duration": 87,
    "start_time": "2023-03-30T14:09:17.493Z"
   },
   {
    "duration": 222,
    "start_time": "2023-03-30T14:09:17.592Z"
   },
   {
    "duration": 23,
    "start_time": "2023-03-30T14:09:17.879Z"
   },
   {
    "duration": 211,
    "start_time": "2023-03-30T14:09:17.993Z"
   },
   {
    "duration": 674,
    "start_time": "2023-03-30T14:09:18.211Z"
   },
   {
    "duration": 306,
    "start_time": "2023-03-30T14:09:18.888Z"
   },
   {
    "duration": 181,
    "start_time": "2023-03-30T14:09:19.195Z"
   },
   {
    "duration": 105,
    "start_time": "2023-03-30T14:09:19.378Z"
   },
   {
    "duration": 204,
    "start_time": "2023-03-30T14:09:19.484Z"
   },
   {
    "duration": 86,
    "start_time": "2023-03-30T14:09:19.694Z"
   },
   {
    "duration": 212,
    "start_time": "2023-03-30T14:09:19.782Z"
   },
   {
    "duration": 174,
    "start_time": "2023-03-30T14:09:20.009Z"
   },
   {
    "duration": 249,
    "start_time": "2023-03-30T14:09:20.186Z"
   },
   {
    "duration": 196,
    "start_time": "2023-03-30T14:09:20.479Z"
   },
   {
    "duration": 34,
    "start_time": "2023-03-30T14:09:20.677Z"
   },
   {
    "duration": 120,
    "start_time": "2023-03-30T14:09:20.776Z"
   },
   {
    "duration": 83,
    "start_time": "2023-03-30T14:09:20.899Z"
   },
   {
    "duration": 398,
    "start_time": "2023-03-30T14:09:20.987Z"
   },
   {
    "duration": 87,
    "start_time": "2023-03-30T14:09:21.387Z"
   },
   {
    "duration": 12,
    "start_time": "2023-03-30T14:09:21.479Z"
   },
   {
    "duration": 189,
    "start_time": "2023-03-30T14:09:21.492Z"
   },
   {
    "duration": 109,
    "start_time": "2023-03-30T14:09:21.697Z"
   },
   {
    "duration": 11881,
    "start_time": "2023-03-30T14:09:21.814Z"
   },
   {
    "duration": 107,
    "start_time": "2023-03-30T14:09:33.697Z"
   },
   {
    "duration": 33,
    "start_time": "2023-03-30T14:09:42.979Z"
   },
   {
    "duration": 41,
    "start_time": "2023-03-30T14:09:43.238Z"
   },
   {
    "duration": 134,
    "start_time": "2023-03-30T14:09:44.175Z"
   },
   {
    "duration": 36,
    "start_time": "2023-03-30T14:10:05.976Z"
   },
   {
    "duration": 20,
    "start_time": "2023-03-30T14:10:14.178Z"
   },
   {
    "duration": 4603,
    "start_time": "2023-03-30T14:10:14.519Z"
   },
   {
    "duration": 2155,
    "start_time": "2023-03-30T14:10:19.176Z"
   },
   {
    "duration": 8,
    "start_time": "2023-03-30T14:10:21.391Z"
   },
   {
    "duration": 1372,
    "start_time": "2023-03-30T14:10:21.403Z"
   },
   {
    "duration": 108,
    "start_time": "2023-03-30T14:10:22.777Z"
   },
   {
    "duration": 62722,
    "start_time": "2023-03-30T14:10:22.895Z"
   },
   {
    "duration": 1410,
    "start_time": "2023-03-30T14:11:25.678Z"
   },
   {
    "duration": 70,
    "start_time": "2023-03-30T14:11:27.113Z"
   },
   {
    "duration": 187,
    "start_time": "2023-03-30T14:12:19.188Z"
   },
   {
    "duration": 6,
    "start_time": "2023-03-30T14:12:20.074Z"
   },
   {
    "duration": 202,
    "start_time": "2023-03-30T14:12:20.876Z"
   },
   {
    "duration": 1010,
    "start_time": "2023-03-30T14:12:25.775Z"
   },
   {
    "duration": 8085,
    "start_time": "2023-03-30T14:13:21.098Z"
   },
   {
    "duration": 327,
    "start_time": "2023-03-30T14:14:03.576Z"
   },
   {
    "duration": 8597,
    "start_time": "2023-03-30T14:14:15.679Z"
   },
   {
    "duration": 13393,
    "start_time": "2023-03-30T14:14:24.282Z"
   },
   {
    "duration": 1110,
    "start_time": "2023-03-30T14:14:37.678Z"
   },
   {
    "duration": 883,
    "start_time": "2023-03-30T14:14:38.793Z"
   },
   {
    "duration": 4000,
    "start_time": "2023-03-30T14:14:39.677Z"
   },
   {
    "duration": 7922,
    "start_time": "2023-03-30T14:14:43.679Z"
   },
   {
    "duration": 374,
    "start_time": "2023-03-30T14:14:51.603Z"
   },
   {
    "duration": 22,
    "start_time": "2023-03-30T14:14:51.979Z"
   },
   {
    "duration": 117,
    "start_time": "2023-03-30T14:14:52.084Z"
   },
   {
    "duration": 21,
    "start_time": "2023-03-30T14:14:52.280Z"
   },
   {
    "duration": 173,
    "start_time": "2023-03-30T14:14:52.306Z"
   },
   {
    "duration": 192,
    "start_time": "2023-03-30T14:14:52.484Z"
   },
   {
    "duration": 99,
    "start_time": "2023-03-30T14:14:52.678Z"
   },
   {
    "duration": 223,
    "start_time": "2023-03-30T14:14:52.785Z"
   },
   {
    "duration": 597,
    "start_time": "2023-03-30T14:14:53.011Z"
   },
   {
    "duration": 507,
    "start_time": "2023-03-30T14:14:53.681Z"
   },
   {
    "duration": 194,
    "start_time": "2023-03-30T14:14:54.198Z"
   },
   {
    "duration": 111,
    "start_time": "2023-03-30T14:14:54.395Z"
   },
   {
    "duration": 270,
    "start_time": "2023-03-30T14:14:54.508Z"
   },
   {
    "duration": 194,
    "start_time": "2023-03-30T14:14:54.781Z"
   },
   {
    "duration": 204,
    "start_time": "2023-03-30T14:14:54.979Z"
   },
   {
    "duration": 100,
    "start_time": "2023-03-30T14:14:55.185Z"
   },
   {
    "duration": 198,
    "start_time": "2023-03-30T14:14:55.290Z"
   },
   {
    "duration": 227,
    "start_time": "2023-03-30T14:14:55.574Z"
   },
   {
    "duration": 99,
    "start_time": "2023-03-30T14:14:55.804Z"
   },
   {
    "duration": 303,
    "start_time": "2023-03-30T14:14:55.905Z"
   },
   {
    "duration": 181,
    "start_time": "2023-03-30T14:14:56.213Z"
   },
   {
    "duration": 605,
    "start_time": "2023-03-30T14:14:56.400Z"
   },
   {
    "duration": 24,
    "start_time": "2023-03-30T14:14:57.076Z"
   },
   {
    "duration": 4,
    "start_time": "2023-03-30T14:14:57.106Z"
   },
   {
    "duration": 99,
    "start_time": "2023-03-30T14:14:57.180Z"
   },
   {
    "duration": 96,
    "start_time": "2023-03-30T14:14:57.281Z"
   },
   {
    "duration": 12596,
    "start_time": "2023-03-30T14:14:57.381Z"
   },
   {
    "duration": 96,
    "start_time": "2023-03-30T14:15:09.988Z"
   },
   {
    "duration": 104,
    "start_time": "2023-03-30T14:15:10.094Z"
   },
   {
    "duration": 17,
    "start_time": "2023-03-30T14:15:10.276Z"
   },
   {
    "duration": 116,
    "start_time": "2023-03-30T14:15:10.378Z"
   },
   {
    "duration": 87,
    "start_time": "2023-03-30T14:15:10.496Z"
   },
   {
    "duration": 98,
    "start_time": "2023-03-30T14:15:40.276Z"
   },
   {
    "duration": 5405,
    "start_time": "2023-03-30T14:15:40.577Z"
   },
   {
    "duration": 2692,
    "start_time": "2023-03-30T14:15:45.985Z"
   },
   {
    "duration": 4,
    "start_time": "2023-03-30T14:15:48.679Z"
   },
   {
    "duration": 1300,
    "start_time": "2023-03-30T14:15:48.686Z"
   },
   {
    "duration": 94,
    "start_time": "2023-03-30T14:15:49.990Z"
   },
   {
    "duration": 53094,
    "start_time": "2023-03-30T14:15:50.087Z"
   },
   {
    "duration": 1190,
    "start_time": "2023-03-30T14:16:43.189Z"
   },
   {
    "duration": 111,
    "start_time": "2023-03-30T14:16:44.391Z"
   },
   {
    "duration": 182,
    "start_time": "2023-03-30T14:16:48.900Z"
   },
   {
    "duration": 81,
    "start_time": "2023-03-30T14:16:49.300Z"
   },
   {
    "duration": 191,
    "start_time": "2023-03-30T14:16:49.894Z"
   },
   {
    "duration": 7400,
    "start_time": "2023-03-30T14:16:59.482Z"
   },
   {
    "duration": 419,
    "start_time": "2023-03-30T14:19:03.176Z"
   },
   {
    "duration": 7830,
    "start_time": "2023-03-30T14:19:16.574Z"
   },
   {
    "duration": 12492,
    "start_time": "2023-03-30T14:19:24.407Z"
   },
   {
    "duration": 1183,
    "start_time": "2023-03-30T14:19:36.903Z"
   },
   {
    "duration": 603,
    "start_time": "2023-03-30T14:19:38.088Z"
   },
   {
    "duration": 3497,
    "start_time": "2023-03-30T14:19:38.693Z"
   },
   {
    "duration": 6503,
    "start_time": "2023-03-30T14:19:42.192Z"
   },
   {
    "duration": 208,
    "start_time": "2023-03-30T14:19:48.777Z"
   },
   {
    "duration": 110,
    "start_time": "2023-03-30T14:19:48.993Z"
   },
   {
    "duration": 213,
    "start_time": "2023-03-30T14:19:49.176Z"
   },
   {
    "duration": 80,
    "start_time": "2023-03-30T14:19:49.394Z"
   },
   {
    "duration": 119,
    "start_time": "2023-03-30T14:19:49.476Z"
   },
   {
    "duration": 214,
    "start_time": "2023-03-30T14:19:49.677Z"
   },
   {
    "duration": 90,
    "start_time": "2023-03-30T14:19:49.893Z"
   },
   {
    "duration": 200,
    "start_time": "2023-03-30T14:19:49.992Z"
   },
   {
    "duration": 386,
    "start_time": "2023-03-30T14:19:50.205Z"
   },
   {
    "duration": 390,
    "start_time": "2023-03-30T14:19:50.595Z"
   },
   {
    "duration": 200,
    "start_time": "2023-03-30T14:19:50.987Z"
   },
   {
    "duration": 184,
    "start_time": "2023-03-30T14:19:51.192Z"
   },
   {
    "duration": 201,
    "start_time": "2023-03-30T14:19:51.383Z"
   },
   {
    "duration": 190,
    "start_time": "2023-03-30T14:19:51.586Z"
   },
   {
    "duration": 318,
    "start_time": "2023-03-30T14:19:51.778Z"
   },
   {
    "duration": 179,
    "start_time": "2023-03-30T14:19:52.098Z"
   },
   {
    "duration": 197,
    "start_time": "2023-03-30T14:19:52.279Z"
   },
   {
    "duration": 116,
    "start_time": "2023-03-30T14:19:52.479Z"
   },
   {
    "duration": 111,
    "start_time": "2023-03-30T14:19:52.684Z"
   },
   {
    "duration": 212,
    "start_time": "2023-03-30T14:19:52.886Z"
   },
   {
    "duration": 175,
    "start_time": "2023-03-30T14:19:53.101Z"
   },
   {
    "duration": 610,
    "start_time": "2023-03-30T14:19:53.282Z"
   },
   {
    "duration": 88,
    "start_time": "2023-03-30T14:19:53.894Z"
   },
   {
    "duration": 16,
    "start_time": "2023-03-30T14:19:53.984Z"
   },
   {
    "duration": 107,
    "start_time": "2023-03-30T14:19:54.002Z"
   },
   {
    "duration": 98,
    "start_time": "2023-03-30T14:19:54.178Z"
   },
   {
    "duration": 13106,
    "start_time": "2023-03-30T14:19:54.278Z"
   },
   {
    "duration": 90,
    "start_time": "2023-03-30T14:20:07.387Z"
   },
   {
    "duration": 11,
    "start_time": "2023-03-30T14:20:07.479Z"
   },
   {
    "duration": 205,
    "start_time": "2023-03-30T14:20:07.574Z"
   },
   {
    "duration": 94,
    "start_time": "2023-03-30T14:20:07.783Z"
   },
   {
    "duration": 100,
    "start_time": "2023-03-30T14:20:07.879Z"
   },
   {
    "duration": 8891,
    "start_time": "2023-03-30T14:20:07.983Z"
   },
   {
    "duration": 13802,
    "start_time": "2023-03-30T14:20:22.691Z"
   },
   {
    "duration": 1705,
    "start_time": "2023-03-30T14:20:46.176Z"
   },
   {
    "duration": 503,
    "start_time": "2023-03-30T14:21:57.476Z"
   },
   {
    "duration": 5899,
    "start_time": "2023-03-30T14:23:10.376Z"
   },
   {
    "duration": 714,
    "start_time": "2023-03-30T14:23:25.476Z"
   },
   {
    "duration": 912,
    "start_time": "2023-03-30T14:23:29.576Z"
   },
   {
    "duration": 5,
    "start_time": "2023-03-30T14:23:39.285Z"
   },
   {
    "duration": 1412,
    "start_time": "2023-03-30T14:23:43.376Z"
   },
   {
    "duration": 900,
    "start_time": "2023-03-30T14:23:48.776Z"
   },
   {
    "duration": 8400,
    "start_time": "2023-03-30T14:25:07.183Z"
   },
   {
    "duration": 11289,
    "start_time": "2023-03-30T14:25:15.586Z"
   },
   {
    "duration": 1009,
    "start_time": "2023-03-30T14:25:26.878Z"
   },
   {
    "duration": 690,
    "start_time": "2023-03-30T14:25:27.899Z"
   },
   {
    "duration": 3996,
    "start_time": "2023-03-30T14:25:28.596Z"
   },
   {
    "duration": 6896,
    "start_time": "2023-03-30T14:25:32.678Z"
   },
   {
    "duration": 299,
    "start_time": "2023-03-30T14:25:39.587Z"
   },
   {
    "duration": 110,
    "start_time": "2023-03-30T14:25:39.977Z"
   },
   {
    "duration": 202,
    "start_time": "2023-03-30T14:25:40.091Z"
   },
   {
    "duration": 99,
    "start_time": "2023-03-30T14:25:40.296Z"
   },
   {
    "duration": 190,
    "start_time": "2023-03-30T14:25:40.397Z"
   },
   {
    "duration": 290,
    "start_time": "2023-03-30T14:25:40.589Z"
   },
   {
    "duration": 102,
    "start_time": "2023-03-30T14:25:40.884Z"
   },
   {
    "duration": 300,
    "start_time": "2023-03-30T14:25:40.992Z"
   },
   {
    "duration": 610,
    "start_time": "2023-03-30T14:25:41.375Z"
   },
   {
    "duration": 600,
    "start_time": "2023-03-30T14:25:42.074Z"
   },
   {
    "duration": 210,
    "start_time": "2023-03-30T14:25:42.678Z"
   },
   {
    "duration": 198,
    "start_time": "2023-03-30T14:25:42.890Z"
   },
   {
    "duration": 389,
    "start_time": "2023-03-30T14:25:43.090Z"
   },
   {
    "duration": 193,
    "start_time": "2023-03-30T14:25:43.486Z"
   },
   {
    "duration": 308,
    "start_time": "2023-03-30T14:25:43.681Z"
   },
   {
    "duration": 23,
    "start_time": "2023-03-30T14:25:44.076Z"
   },
   {
    "duration": 121,
    "start_time": "2023-03-30T14:25:44.175Z"
   },
   {
    "duration": 286,
    "start_time": "2023-03-30T14:25:44.297Z"
   },
   {
    "duration": 187,
    "start_time": "2023-03-30T14:25:44.592Z"
   },
   {
    "duration": 292,
    "start_time": "2023-03-30T14:25:44.791Z"
   },
   {
    "duration": 192,
    "start_time": "2023-03-30T14:25:45.086Z"
   },
   {
    "duration": 698,
    "start_time": "2023-03-30T14:25:45.288Z"
   },
   {
    "duration": 90,
    "start_time": "2023-03-30T14:25:45.992Z"
   },
   {
    "duration": 7,
    "start_time": "2023-03-30T14:25:46.084Z"
   },
   {
    "duration": 188,
    "start_time": "2023-03-30T14:25:46.093Z"
   },
   {
    "duration": 108,
    "start_time": "2023-03-30T14:25:46.284Z"
   },
   {
    "duration": 14710,
    "start_time": "2023-03-30T14:25:46.480Z"
   },
   {
    "duration": 102,
    "start_time": "2023-03-30T14:26:01.281Z"
   },
   {
    "duration": 113,
    "start_time": "2023-03-30T14:26:01.389Z"
   },
   {
    "duration": 273,
    "start_time": "2023-03-30T14:26:01.509Z"
   },
   {
    "duration": 96,
    "start_time": "2023-03-30T14:26:01.784Z"
   },
   {
    "duration": 5904,
    "start_time": "2023-03-30T14:26:01.975Z"
   },
   {
    "duration": 3192,
    "start_time": "2023-03-30T14:26:07.884Z"
   },
   {
    "duration": 4,
    "start_time": "2023-03-30T14:26:11.083Z"
   },
   {
    "duration": 1486,
    "start_time": "2023-03-30T14:26:11.089Z"
   },
   {
    "duration": 104,
    "start_time": "2023-03-30T14:26:12.580Z"
   },
   {
    "duration": 91404,
    "start_time": "2023-03-30T14:26:12.689Z"
   },
   {
    "duration": 1592,
    "start_time": "2023-03-30T14:27:44.098Z"
   },
   {
    "duration": 6,
    "start_time": "2023-03-30T14:27:45.776Z"
   },
   {
    "duration": 102,
    "start_time": "2023-03-30T14:27:45.785Z"
   },
   {
    "duration": 3,
    "start_time": "2023-03-30T14:27:45.976Z"
   },
   {
    "duration": 9604,
    "start_time": "2023-03-30T14:27:45.981Z"
   },
   {
    "duration": 13703,
    "start_time": "2023-03-30T14:27:55.675Z"
   },
   {
    "duration": 9100,
    "start_time": "2023-03-30T14:29:05.776Z"
   },
   {
    "duration": 12695,
    "start_time": "2023-03-30T14:29:14.880Z"
   },
   {
    "duration": 1302,
    "start_time": "2023-03-30T14:29:27.577Z"
   },
   {
    "duration": 501,
    "start_time": "2023-03-30T14:29:28.888Z"
   },
   {
    "duration": 3203,
    "start_time": "2023-03-30T14:29:29.480Z"
   },
   {
    "duration": 7598,
    "start_time": "2023-03-30T14:29:32.686Z"
   },
   {
    "duration": 204,
    "start_time": "2023-03-30T14:29:40.381Z"
   },
   {
    "duration": 102,
    "start_time": "2023-03-30T14:29:40.588Z"
   },
   {
    "duration": 206,
    "start_time": "2023-03-30T14:29:40.778Z"
   },
   {
    "duration": 93,
    "start_time": "2023-03-30T14:29:41.086Z"
   },
   {
    "duration": 101,
    "start_time": "2023-03-30T14:29:41.182Z"
   },
   {
    "duration": 386,
    "start_time": "2023-03-30T14:29:41.290Z"
   },
   {
    "duration": 100,
    "start_time": "2023-03-30T14:29:41.679Z"
   },
   {
    "duration": 310,
    "start_time": "2023-03-30T14:29:41.874Z"
   },
   {
    "duration": 685,
    "start_time": "2023-03-30T14:29:42.190Z"
   },
   {
    "duration": 495,
    "start_time": "2023-03-30T14:29:42.882Z"
   },
   {
    "duration": 398,
    "start_time": "2023-03-30T14:29:43.379Z"
   },
   {
    "duration": 198,
    "start_time": "2023-03-30T14:29:43.780Z"
   },
   {
    "duration": 201,
    "start_time": "2023-03-30T14:29:43.986Z"
   },
   {
    "duration": 190,
    "start_time": "2023-03-30T14:29:44.189Z"
   },
   {
    "duration": 298,
    "start_time": "2023-03-30T14:29:44.384Z"
   },
   {
    "duration": 191,
    "start_time": "2023-03-30T14:29:44.685Z"
   },
   {
    "duration": 312,
    "start_time": "2023-03-30T14:29:44.975Z"
   },
   {
    "duration": 298,
    "start_time": "2023-03-30T14:29:45.378Z"
   },
   {
    "duration": 103,
    "start_time": "2023-03-30T14:29:45.680Z"
   },
   {
    "duration": 295,
    "start_time": "2023-03-30T14:29:45.789Z"
   },
   {
    "duration": 194,
    "start_time": "2023-03-30T14:29:46.086Z"
   },
   {
    "duration": 507,
    "start_time": "2023-03-30T14:29:46.377Z"
   },
   {
    "duration": 11,
    "start_time": "2023-03-30T14:29:46.978Z"
   },
   {
    "duration": 95,
    "start_time": "2023-03-30T14:29:46.992Z"
   },
   {
    "duration": 195,
    "start_time": "2023-03-30T14:29:47.183Z"
   },
   {
    "duration": 10,
    "start_time": "2023-03-30T14:29:47.380Z"
   },
   {
    "duration": 14884,
    "start_time": "2023-03-30T14:29:47.392Z"
   },
   {
    "duration": 98,
    "start_time": "2023-03-30T14:30:02.281Z"
   },
   {
    "duration": 188,
    "start_time": "2023-03-30T14:30:02.386Z"
   },
   {
    "duration": 200,
    "start_time": "2023-03-30T14:30:02.578Z"
   },
   {
    "duration": 105,
    "start_time": "2023-03-30T14:30:33.475Z"
   },
   {
    "duration": 5900,
    "start_time": "2023-03-30T14:30:34.177Z"
   },
   {
    "duration": 3294,
    "start_time": "2023-03-30T14:30:40.086Z"
   },
   {
    "duration": 3,
    "start_time": "2023-03-30T14:30:43.382Z"
   },
   {
    "duration": 1808,
    "start_time": "2023-03-30T14:30:43.474Z"
   },
   {
    "duration": 197,
    "start_time": "2023-03-30T14:30:45.285Z"
   },
   {
    "duration": 61512,
    "start_time": "2023-03-30T14:30:45.484Z"
   },
   {
    "duration": 1279,
    "start_time": "2023-03-30T14:31:46.998Z"
   },
   {
    "duration": 19,
    "start_time": "2023-03-30T14:31:48.279Z"
   },
   {
    "duration": 109,
    "start_time": "2023-03-30T14:33:09.676Z"
   },
   {
    "duration": 3,
    "start_time": "2023-03-30T14:33:10.876Z"
   },
   {
    "duration": 9404,
    "start_time": "2023-03-30T14:33:12.276Z"
   },
   {
    "duration": 2305,
    "start_time": "2023-03-30T14:33:25.775Z"
   },
   {
    "duration": 108,
    "start_time": "2023-03-30T14:34:36.177Z"
   },
   {
    "duration": 16501,
    "start_time": "2023-03-30T14:34:46.575Z"
   },
   {
    "duration": 2103,
    "start_time": "2023-03-30T14:35:16.776Z"
   },
   {
    "duration": 105,
    "start_time": "2023-03-30T14:35:43.176Z"
   },
   {
    "duration": 16404,
    "start_time": "2023-03-30T14:35:51.876Z"
   },
   {
    "duration": 909,
    "start_time": "2023-03-30T14:36:10.476Z"
   },
   {
    "duration": 9203,
    "start_time": "2023-03-30T14:37:27.784Z"
   },
   {
    "duration": 10402,
    "start_time": "2023-03-30T14:37:37.074Z"
   },
   {
    "duration": 1013,
    "start_time": "2023-03-30T14:37:47.479Z"
   },
   {
    "duration": 902,
    "start_time": "2023-03-30T14:37:48.586Z"
   },
   {
    "duration": 2920,
    "start_time": "2023-03-30T14:37:49.574Z"
   },
   {
    "duration": 6789,
    "start_time": "2023-03-30T14:37:52.496Z"
   },
   {
    "duration": 392,
    "start_time": "2023-03-30T14:37:59.289Z"
   },
   {
    "duration": 95,
    "start_time": "2023-03-30T14:37:59.683Z"
   },
   {
    "duration": 290,
    "start_time": "2023-03-30T14:37:59.785Z"
   },
   {
    "duration": 17,
    "start_time": "2023-03-30T14:38:00.096Z"
   },
   {
    "duration": 110,
    "start_time": "2023-03-30T14:38:00.178Z"
   },
   {
    "duration": 299,
    "start_time": "2023-03-30T14:38:00.290Z"
   },
   {
    "duration": 86,
    "start_time": "2023-03-30T14:38:00.590Z"
   },
   {
    "duration": 303,
    "start_time": "2023-03-30T14:38:00.683Z"
   },
   {
    "duration": 588,
    "start_time": "2023-03-30T14:38:00.988Z"
   },
   {
    "duration": 402,
    "start_time": "2023-03-30T14:38:01.580Z"
   },
   {
    "duration": 299,
    "start_time": "2023-03-30T14:38:01.995Z"
   },
   {
    "duration": 26,
    "start_time": "2023-03-30T14:38:02.375Z"
   },
   {
    "duration": 305,
    "start_time": "2023-03-30T14:38:02.481Z"
   },
   {
    "duration": 184,
    "start_time": "2023-03-30T14:38:02.790Z"
   },
   {
    "duration": 299,
    "start_time": "2023-03-30T14:38:02.979Z"
   },
   {
    "duration": 192,
    "start_time": "2023-03-30T14:38:03.289Z"
   },
   {
    "duration": 300,
    "start_time": "2023-03-30T14:38:03.483Z"
   },
   {
    "duration": 206,
    "start_time": "2023-03-30T14:38:03.790Z"
   },
   {
    "duration": 98,
    "start_time": "2023-03-30T14:38:04.083Z"
   },
   {
    "duration": 219,
    "start_time": "2023-03-30T14:38:04.186Z"
   },
   {
    "duration": 87,
    "start_time": "2023-03-30T14:38:04.407Z"
   },
   {
    "duration": 480,
    "start_time": "2023-03-30T14:38:04.501Z"
   },
   {
    "duration": 89,
    "start_time": "2023-03-30T14:38:04.989Z"
   },
   {
    "duration": 7,
    "start_time": "2023-03-30T14:38:05.081Z"
   },
   {
    "duration": 185,
    "start_time": "2023-03-30T14:38:05.090Z"
   },
   {
    "duration": 91,
    "start_time": "2023-03-30T14:38:05.286Z"
   },
   {
    "duration": 12792,
    "start_time": "2023-03-30T14:38:05.384Z"
   },
   {
    "duration": 99,
    "start_time": "2023-03-30T14:38:18.180Z"
   },
   {
    "duration": 102,
    "start_time": "2023-03-30T14:38:18.284Z"
   },
   {
    "duration": 196,
    "start_time": "2023-03-30T14:38:18.392Z"
   },
   {
    "duration": 93,
    "start_time": "2023-03-30T14:38:18.594Z"
   },
   {
    "duration": 5010,
    "start_time": "2023-03-30T14:38:18.774Z"
   },
   {
    "duration": 2690,
    "start_time": "2023-03-30T14:38:23.791Z"
   },
   {
    "duration": 4,
    "start_time": "2023-03-30T14:38:26.486Z"
   },
   {
    "duration": 1495,
    "start_time": "2023-03-30T14:38:26.492Z"
   },
   {
    "duration": 188,
    "start_time": "2023-03-30T14:38:27.990Z"
   },
   {
    "duration": 81204,
    "start_time": "2023-03-30T14:38:28.180Z"
   },
   {
    "duration": 1214,
    "start_time": "2023-03-30T14:39:49.386Z"
   },
   {
    "duration": 104,
    "start_time": "2023-03-30T14:39:50.674Z"
   },
   {
    "duration": 27,
    "start_time": "2023-03-30T14:40:23.676Z"
   },
   {
    "duration": 11,
    "start_time": "2023-03-30T14:40:25.276Z"
   },
   {
    "duration": 8679,
    "start_time": "2023-03-30T14:40:26.999Z"
   },
   {
    "duration": 1697,
    "start_time": "2023-03-30T14:40:39.188Z"
   },
   {
    "duration": 16,
    "start_time": "2023-03-30T14:40:49.375Z"
   },
   {
    "duration": 12525,
    "start_time": "2023-03-30T14:40:57.676Z"
   },
   {
    "duration": 604,
    "start_time": "2023-03-30T14:41:13.476Z"
   },
   {
    "duration": 10,
    "start_time": "2023-03-30T14:41:23.376Z"
   },
   {
    "duration": 8107,
    "start_time": "2023-03-30T14:45:41.875Z"
   },
   {
    "duration": 11689,
    "start_time": "2023-03-30T14:45:49.986Z"
   },
   {
    "duration": 1312,
    "start_time": "2023-03-30T14:46:01.681Z"
   },
   {
    "duration": 876,
    "start_time": "2023-03-30T14:46:03.002Z"
   },
   {
    "duration": 2823,
    "start_time": "2023-03-30T14:46:03.880Z"
   },
   {
    "duration": 5584,
    "start_time": "2023-03-30T14:46:06.705Z"
   },
   {
    "duration": 286,
    "start_time": "2023-03-30T14:46:12.291Z"
   },
   {
    "duration": 98,
    "start_time": "2023-03-30T14:46:12.582Z"
   },
   {
    "duration": 220,
    "start_time": "2023-03-30T14:46:12.682Z"
   },
   {
    "duration": 7,
    "start_time": "2023-03-30T14:46:12.977Z"
   },
   {
    "duration": 78,
    "start_time": "2023-03-30T14:46:13.001Z"
   },
   {
    "duration": 224,
    "start_time": "2023-03-30T14:46:13.082Z"
   },
   {
    "duration": 68,
    "start_time": "2023-03-30T14:46:13.308Z"
   },
   {
    "duration": 204,
    "start_time": "2023-03-30T14:46:13.379Z"
   },
   {
    "duration": 690,
    "start_time": "2023-03-30T14:46:13.590Z"
   },
   {
    "duration": 579,
    "start_time": "2023-03-30T14:46:14.298Z"
   },
   {
    "duration": 300,
    "start_time": "2023-03-30T14:46:14.879Z"
   },
   {
    "duration": 105,
    "start_time": "2023-03-30T14:46:15.181Z"
   },
   {
    "duration": 293,
    "start_time": "2023-03-30T14:46:15.288Z"
   },
   {
    "duration": 115,
    "start_time": "2023-03-30T14:46:15.584Z"
   },
   {
    "duration": 296,
    "start_time": "2023-03-30T14:46:15.782Z"
   },
   {
    "duration": 108,
    "start_time": "2023-03-30T14:46:16.080Z"
   },
   {
    "duration": 281,
    "start_time": "2023-03-30T14:46:16.206Z"
   },
   {
    "duration": 197,
    "start_time": "2023-03-30T14:46:16.499Z"
   },
   {
    "duration": 101,
    "start_time": "2023-03-30T14:46:16.698Z"
   },
   {
    "duration": 298,
    "start_time": "2023-03-30T14:46:16.801Z"
   },
   {
    "duration": 186,
    "start_time": "2023-03-30T14:46:17.102Z"
   },
   {
    "duration": 496,
    "start_time": "2023-03-30T14:46:17.380Z"
   },
   {
    "duration": 12,
    "start_time": "2023-03-30T14:46:17.883Z"
   },
   {
    "duration": 3,
    "start_time": "2023-03-30T14:46:17.898Z"
   },
   {
    "duration": 199,
    "start_time": "2023-03-30T14:46:17.903Z"
   },
   {
    "duration": 73,
    "start_time": "2023-03-30T14:46:18.104Z"
   },
   {
    "duration": 12701,
    "start_time": "2023-03-30T14:46:18.179Z"
   },
   {
    "duration": 93,
    "start_time": "2023-03-30T14:46:30.883Z"
   },
   {
    "duration": 13,
    "start_time": "2023-03-30T14:46:30.978Z"
   },
   {
    "duration": 281,
    "start_time": "2023-03-30T14:46:30.993Z"
   },
   {
    "duration": 100,
    "start_time": "2023-03-30T14:46:31.280Z"
   },
   {
    "duration": 5207,
    "start_time": "2023-03-30T14:46:31.385Z"
   },
   {
    "duration": 2785,
    "start_time": "2023-03-30T14:46:36.597Z"
   },
   {
    "duration": 15,
    "start_time": "2023-03-30T14:46:39.384Z"
   },
   {
    "duration": 1173,
    "start_time": "2023-03-30T14:46:39.403Z"
   },
   {
    "duration": 97,
    "start_time": "2023-03-30T14:46:40.584Z"
   },
   {
    "duration": 53305,
    "start_time": "2023-03-30T14:46:40.690Z"
   },
   {
    "duration": 1381,
    "start_time": "2023-03-30T14:47:33.997Z"
   },
   {
    "duration": 7,
    "start_time": "2023-03-30T14:47:35.380Z"
   },
   {
    "duration": 105,
    "start_time": "2023-03-30T14:48:21.576Z"
   },
   {
    "duration": 77,
    "start_time": "2023-03-30T14:48:22.398Z"
   },
   {
    "duration": 3499,
    "start_time": "2023-03-30T14:48:23.076Z"
   },
   {
    "duration": 13,
    "start_time": "2023-03-30T14:48:28.374Z"
   },
   {
    "duration": 916,
    "start_time": "2023-03-30T14:48:30.276Z"
   },
   {
    "duration": 186,
    "start_time": "2023-03-30T14:49:01.995Z"
   },
   {
    "duration": 8,
    "start_time": "2023-03-30T14:49:12.776Z"
   },
   {
    "duration": 94,
    "start_time": "2023-03-30T14:52:08.897Z"
   },
   {
    "duration": 16,
    "start_time": "2023-03-30T14:52:09.276Z"
   },
   {
    "duration": 3704,
    "start_time": "2023-03-30T14:52:09.879Z"
   },
   {
    "duration": 22,
    "start_time": "2023-03-30T14:52:14.778Z"
   },
   {
    "duration": 81,
    "start_time": "2023-03-30T14:52:16.397Z"
   },
   {
    "duration": 8,
    "start_time": "2023-03-30T14:52:28.678Z"
   },
   {
    "duration": 101,
    "start_time": "2023-03-30T14:53:11.475Z"
   },
   {
    "duration": 22,
    "start_time": "2023-03-30T14:53:25.477Z"
   },
   {
    "duration": 4,
    "start_time": "2023-03-30T14:53:26.575Z"
   },
   {
    "duration": 83511,
    "start_time": "2023-03-30T14:53:27.675Z"
   },
   {
    "duration": 20,
    "start_time": "2023-03-30T14:55:20.275Z"
   },
   {
    "duration": 105,
    "start_time": "2023-03-30T14:56:09.975Z"
   },
   {
    "duration": 27,
    "start_time": "2023-03-30T14:56:10.650Z"
   },
   {
    "duration": 86008,
    "start_time": "2023-03-30T14:56:11.376Z"
   },
   {
    "duration": 14,
    "start_time": "2023-03-30T14:58:00.076Z"
   },
   {
    "duration": 104,
    "start_time": "2023-03-30T14:58:01.176Z"
   },
   {
    "duration": 103,
    "start_time": "2023-03-30T14:58:09.479Z"
   },
   {
    "duration": 295,
    "start_time": "2023-03-30T14:58:22.086Z"
   },
   {
    "duration": 200,
    "start_time": "2023-03-30T14:58:25.175Z"
   },
   {
    "duration": 6,
    "start_time": "2023-03-30T14:58:33.176Z"
   },
   {
    "duration": 113,
    "start_time": "2023-03-30T14:58:33.974Z"
   },
   {
    "duration": 765,
    "start_time": "2023-03-30T14:58:35.415Z"
   },
   {
    "duration": 1515,
    "start_time": "2023-03-30T14:58:39.676Z"
   },
   {
    "duration": 870,
    "start_time": "2023-03-30T14:58:44.411Z"
   },
   {
    "duration": 710,
    "start_time": "2023-03-30T14:59:10.575Z"
   },
   {
    "duration": 8485,
    "start_time": "2023-03-30T14:59:53.993Z"
   },
   {
    "duration": 6597,
    "start_time": "2023-03-30T15:00:02.480Z"
   },
   {
    "duration": 1206,
    "start_time": "2023-03-30T15:00:09.080Z"
   },
   {
    "duration": 809,
    "start_time": "2023-03-30T15:00:10.376Z"
   },
   {
    "duration": 3487,
    "start_time": "2023-03-30T15:00:11.189Z"
   },
   {
    "duration": 7396,
    "start_time": "2023-03-30T15:00:14.685Z"
   },
   {
    "duration": 303,
    "start_time": "2023-03-30T15:00:22.174Z"
   },
   {
    "duration": 99,
    "start_time": "2023-03-30T15:00:22.480Z"
   },
   {
    "duration": 202,
    "start_time": "2023-03-30T15:00:22.583Z"
   },
   {
    "duration": 92,
    "start_time": "2023-03-30T15:00:22.788Z"
   },
   {
    "duration": 194,
    "start_time": "2023-03-30T15:00:22.885Z"
   },
   {
    "duration": 205,
    "start_time": "2023-03-30T15:00:23.080Z"
   },
   {
    "duration": 92,
    "start_time": "2023-03-30T15:00:23.287Z"
   },
   {
    "duration": 411,
    "start_time": "2023-03-30T15:00:23.382Z"
   },
   {
    "duration": 578,
    "start_time": "2023-03-30T15:00:23.798Z"
   },
   {
    "duration": 515,
    "start_time": "2023-03-30T15:00:24.378Z"
   },
   {
    "duration": 217,
    "start_time": "2023-03-30T15:00:24.976Z"
   },
   {
    "duration": 105,
    "start_time": "2023-03-30T15:00:25.284Z"
   },
   {
    "duration": 397,
    "start_time": "2023-03-30T15:00:25.391Z"
   },
   {
    "duration": 108,
    "start_time": "2023-03-30T15:00:25.875Z"
   },
   {
    "duration": 305,
    "start_time": "2023-03-30T15:00:25.985Z"
   },
   {
    "duration": 199,
    "start_time": "2023-03-30T15:00:26.380Z"
   },
   {
    "duration": 202,
    "start_time": "2023-03-30T15:00:26.581Z"
   },
   {
    "duration": 204,
    "start_time": "2023-03-30T15:00:26.785Z"
   },
   {
    "duration": 191,
    "start_time": "2023-03-30T15:00:26.991Z"
   },
   {
    "duration": 298,
    "start_time": "2023-03-30T15:00:27.191Z"
   },
   {
    "duration": 190,
    "start_time": "2023-03-30T15:00:27.491Z"
   },
   {
    "duration": 600,
    "start_time": "2023-03-30T15:00:27.684Z"
   },
   {
    "duration": 92,
    "start_time": "2023-03-30T15:00:28.382Z"
   },
   {
    "duration": 93,
    "start_time": "2023-03-30T15:00:28.481Z"
   },
   {
    "duration": 203,
    "start_time": "2023-03-30T15:00:28.579Z"
   },
   {
    "duration": 98,
    "start_time": "2023-03-30T15:00:28.791Z"
   },
   {
    "duration": 15102,
    "start_time": "2023-03-30T15:00:28.979Z"
   },
   {
    "duration": 97,
    "start_time": "2023-03-30T15:00:44.082Z"
   },
   {
    "duration": 100,
    "start_time": "2023-03-30T15:00:44.182Z"
   },
   {
    "duration": 194,
    "start_time": "2023-03-30T15:00:44.285Z"
   },
   {
    "duration": 95,
    "start_time": "2023-03-30T15:00:44.481Z"
   },
   {
    "duration": 6210,
    "start_time": "2023-03-30T15:00:44.584Z"
   },
   {
    "duration": 3203,
    "start_time": "2023-03-30T15:00:50.877Z"
   },
   {
    "duration": 3,
    "start_time": "2023-03-30T15:00:54.083Z"
   },
   {
    "duration": 1496,
    "start_time": "2023-03-30T15:00:54.088Z"
   },
   {
    "duration": 198,
    "start_time": "2023-03-30T15:00:55.678Z"
   },
   {
    "duration": 50198,
    "start_time": "2023-03-30T15:00:55.882Z"
   },
   {
    "duration": 1698,
    "start_time": "2023-03-30T15:01:46.082Z"
   },
   {
    "duration": 6,
    "start_time": "2023-03-30T15:01:47.782Z"
   },
   {
    "duration": 107,
    "start_time": "2023-03-30T15:02:28.575Z"
   },
   {
    "duration": 5,
    "start_time": "2023-03-30T15:02:29.676Z"
   },
   {
    "duration": 102921,
    "start_time": "2023-03-30T15:02:31.275Z"
   },
   {
    "duration": 19,
    "start_time": "2023-03-30T15:04:14.281Z"
   },
   {
    "duration": 34,
    "start_time": "2023-03-30T15:04:14.376Z"
   },
   {
    "duration": 101,
    "start_time": "2023-03-30T15:05:11.175Z"
   },
   {
    "duration": 116,
    "start_time": "2023-03-30T15:05:24.076Z"
   },
   {
    "duration": 207,
    "start_time": "2023-03-30T15:05:26.275Z"
   },
   {
    "duration": 705,
    "start_time": "2023-03-30T15:05:37.676Z"
   },
   {
    "duration": 95,
    "start_time": "2023-03-30T15:06:23.985Z"
   },
   {
    "duration": 204,
    "start_time": "2023-03-30T15:06:35.175Z"
   },
   {
    "duration": 1799,
    "start_time": "2023-03-30T15:06:40.081Z"
   },
   {
    "duration": 111,
    "start_time": "2023-03-30T15:06:53.476Z"
   },
   {
    "duration": 1504,
    "start_time": "2023-03-30T15:07:06.476Z"
   },
   {
    "duration": 708,
    "start_time": "2023-03-30T15:07:15.877Z"
   },
   {
    "duration": 101,
    "start_time": "2023-03-30T15:08:04.775Z"
   },
   {
    "duration": 1507,
    "start_time": "2023-03-30T15:08:06.876Z"
   },
   {
    "duration": 8903,
    "start_time": "2023-03-30T15:15:23.976Z"
   },
   {
    "duration": 7091,
    "start_time": "2023-03-30T15:15:32.884Z"
   },
   {
    "duration": 1305,
    "start_time": "2023-03-30T15:15:39.977Z"
   },
   {
    "duration": 706,
    "start_time": "2023-03-30T15:15:41.377Z"
   },
   {
    "duration": 3709,
    "start_time": "2023-03-30T15:15:42.174Z"
   },
   {
    "duration": 7291,
    "start_time": "2023-03-30T15:15:45.886Z"
   },
   {
    "duration": 296,
    "start_time": "2023-03-30T15:15:53.181Z"
   },
   {
    "duration": 105,
    "start_time": "2023-03-30T15:15:53.479Z"
   },
   {
    "duration": 295,
    "start_time": "2023-03-30T15:15:53.588Z"
   },
   {
    "duration": 3,
    "start_time": "2023-03-30T15:15:53.888Z"
   },
   {
    "duration": 99,
    "start_time": "2023-03-30T15:15:53.980Z"
   },
   {
    "duration": 305,
    "start_time": "2023-03-30T15:15:54.083Z"
   },
   {
    "duration": 10,
    "start_time": "2023-03-30T15:15:54.476Z"
   },
   {
    "duration": 299,
    "start_time": "2023-03-30T15:15:54.490Z"
   },
   {
    "duration": 510,
    "start_time": "2023-03-30T15:15:54.875Z"
   },
   {
    "duration": 491,
    "start_time": "2023-03-30T15:15:55.390Z"
   },
   {
    "duration": 299,
    "start_time": "2023-03-30T15:15:55.883Z"
   },
   {
    "duration": 102,
    "start_time": "2023-03-30T15:15:56.185Z"
   },
   {
    "duration": 209,
    "start_time": "2023-03-30T15:15:56.374Z"
   },
   {
    "duration": 190,
    "start_time": "2023-03-30T15:15:56.589Z"
   },
   {
    "duration": 399,
    "start_time": "2023-03-30T15:15:56.781Z"
   },
   {
    "duration": 195,
    "start_time": "2023-03-30T15:15:57.182Z"
   },
   {
    "duration": 203,
    "start_time": "2023-03-30T15:15:57.380Z"
   },
   {
    "duration": 293,
    "start_time": "2023-03-30T15:15:57.585Z"
   },
   {
    "duration": 191,
    "start_time": "2023-03-30T15:15:57.884Z"
   },
   {
    "duration": 396,
    "start_time": "2023-03-30T15:15:58.082Z"
   },
   {
    "duration": 197,
    "start_time": "2023-03-30T15:15:58.485Z"
   },
   {
    "duration": 695,
    "start_time": "2023-03-30T15:15:58.685Z"
   },
   {
    "duration": 84,
    "start_time": "2023-03-30T15:15:59.399Z"
   },
   {
    "duration": 91,
    "start_time": "2023-03-30T15:15:59.487Z"
   },
   {
    "duration": 112,
    "start_time": "2023-03-30T15:15:59.580Z"
   },
   {
    "duration": 184,
    "start_time": "2023-03-30T15:15:59.693Z"
   },
   {
    "duration": 14898,
    "start_time": "2023-03-30T15:15:59.886Z"
   },
   {
    "duration": 111,
    "start_time": "2023-03-30T15:16:14.788Z"
   },
   {
    "duration": 178,
    "start_time": "2023-03-30T15:16:14.901Z"
   },
   {
    "duration": 205,
    "start_time": "2023-03-30T15:16:15.084Z"
   },
   {
    "duration": 10517,
    "start_time": "2023-03-30T15:16:15.376Z"
   },
   {
    "duration": 9012,
    "start_time": "2023-03-30T15:16:30.775Z"
   },
   {
    "duration": 3714,
    "start_time": "2023-03-30T15:17:08.176Z"
   },
   {
    "duration": 222221,
    "start_time": "2023-03-30T15:17:44.576Z"
   },
   {
    "duration": 248206,
    "start_time": "2023-03-30T15:24:17.176Z"
   },
   {
    "duration": 329,
    "start_time": "2023-03-30T15:52:08.475Z"
   },
   {
    "duration": 8507,
    "start_time": "2023-03-30T15:52:23.094Z"
   },
   {
    "duration": 5400,
    "start_time": "2023-03-30T15:52:31.608Z"
   },
   {
    "duration": 890,
    "start_time": "2023-03-30T15:52:37.011Z"
   },
   {
    "duration": 783,
    "start_time": "2023-03-30T15:52:37.903Z"
   },
   {
    "duration": 3887,
    "start_time": "2023-03-30T15:52:38.701Z"
   },
   {
    "duration": 6685,
    "start_time": "2023-03-30T15:52:42.591Z"
   },
   {
    "duration": 398,
    "start_time": "2023-03-30T15:52:49.278Z"
   },
   {
    "duration": 107,
    "start_time": "2023-03-30T15:52:49.679Z"
   },
   {
    "duration": 191,
    "start_time": "2023-03-30T15:52:49.802Z"
   },
   {
    "duration": 71,
    "start_time": "2023-03-30T15:52:50.008Z"
   },
   {
    "duration": 117,
    "start_time": "2023-03-30T15:52:50.081Z"
   },
   {
    "duration": 130,
    "start_time": "2023-03-30T15:52:50.276Z"
   },
   {
    "duration": 71,
    "start_time": "2023-03-30T15:52:50.411Z"
   },
   {
    "duration": 209,
    "start_time": "2023-03-30T15:52:50.488Z"
   },
   {
    "duration": 507,
    "start_time": "2023-03-30T15:52:50.700Z"
   },
   {
    "duration": 612,
    "start_time": "2023-03-30T15:52:51.274Z"
   },
   {
    "duration": 416,
    "start_time": "2023-03-30T15:52:51.891Z"
   },
   {
    "duration": 109,
    "start_time": "2023-03-30T15:52:52.375Z"
   },
   {
    "duration": 391,
    "start_time": "2023-03-30T15:52:52.488Z"
   },
   {
    "duration": 105,
    "start_time": "2023-03-30T15:52:52.881Z"
   },
   {
    "duration": 283,
    "start_time": "2023-03-30T15:52:53.004Z"
   },
   {
    "duration": 172,
    "start_time": "2023-03-30T15:52:53.304Z"
   },
   {
    "duration": 300,
    "start_time": "2023-03-30T15:52:53.478Z"
   },
   {
    "duration": 205,
    "start_time": "2023-03-30T15:52:53.780Z"
   },
   {
    "duration": 114,
    "start_time": "2023-03-30T15:52:53.988Z"
   },
   {
    "duration": 170,
    "start_time": "2023-03-30T15:52:54.106Z"
   },
   {
    "duration": 35,
    "start_time": "2023-03-30T15:52:54.278Z"
   },
   {
    "duration": 495,
    "start_time": "2023-03-30T15:52:54.386Z"
   },
   {
    "duration": 89,
    "start_time": "2023-03-30T15:52:54.889Z"
   },
   {
    "duration": 3,
    "start_time": "2023-03-30T15:52:54.985Z"
   },
   {
    "duration": 205,
    "start_time": "2023-03-30T15:52:54.990Z"
   },
   {
    "duration": 95,
    "start_time": "2023-03-30T15:52:55.199Z"
   },
   {
    "duration": 14360,
    "start_time": "2023-03-30T15:52:55.314Z"
   },
   {
    "duration": 101,
    "start_time": "2023-03-30T15:53:09.676Z"
   },
   {
    "duration": 96,
    "start_time": "2023-03-30T15:53:09.781Z"
   },
   {
    "duration": 203,
    "start_time": "2023-03-30T15:53:09.880Z"
   },
   {
    "duration": 5787,
    "start_time": "2023-03-30T15:53:10.090Z"
   },
   {
    "duration": 2810,
    "start_time": "2023-03-30T15:53:15.880Z"
   },
   {
    "duration": 72,
    "start_time": "2023-03-30T15:53:46.903Z"
   },
   {
    "duration": 7401,
    "start_time": "2023-03-30T15:56:10.581Z"
   },
   {
    "duration": 13005,
    "start_time": "2023-03-30T15:56:17.986Z"
   },
   {
    "duration": 1200,
    "start_time": "2023-03-30T15:56:31.075Z"
   },
   {
    "duration": 606,
    "start_time": "2023-03-30T15:56:32.279Z"
   },
   {
    "duration": 2987,
    "start_time": "2023-03-30T15:56:32.894Z"
   },
   {
    "duration": 6991,
    "start_time": "2023-03-30T15:56:35.886Z"
   },
   {
    "duration": 211,
    "start_time": "2023-03-30T15:56:42.880Z"
   },
   {
    "duration": 102,
    "start_time": "2023-03-30T15:56:43.177Z"
   },
   {
    "duration": 194,
    "start_time": "2023-03-30T15:56:43.281Z"
   },
   {
    "duration": 10,
    "start_time": "2023-03-30T15:56:43.481Z"
   },
   {
    "duration": 183,
    "start_time": "2023-03-30T15:56:43.495Z"
   },
   {
    "duration": 198,
    "start_time": "2023-03-30T15:56:43.684Z"
   },
   {
    "duration": 95,
    "start_time": "2023-03-30T15:56:43.884Z"
   },
   {
    "duration": 300,
    "start_time": "2023-03-30T15:56:43.983Z"
   },
   {
    "duration": 586,
    "start_time": "2023-03-30T15:56:44.292Z"
   },
   {
    "duration": 501,
    "start_time": "2023-03-30T15:56:44.880Z"
   },
   {
    "duration": 301,
    "start_time": "2023-03-30T15:56:45.385Z"
   },
   {
    "duration": 187,
    "start_time": "2023-03-30T15:56:45.688Z"
   },
   {
    "duration": 208,
    "start_time": "2023-03-30T15:56:45.880Z"
   },
   {
    "duration": 114,
    "start_time": "2023-03-30T15:56:46.174Z"
   },
   {
    "duration": 215,
    "start_time": "2023-03-30T15:56:46.374Z"
   },
   {
    "duration": 189,
    "start_time": "2023-03-30T15:56:46.590Z"
   },
   {
    "duration": 229,
    "start_time": "2023-03-30T15:56:46.782Z"
   },
   {
    "duration": 291,
    "start_time": "2023-03-30T15:56:47.086Z"
   },
   {
    "duration": 114,
    "start_time": "2023-03-30T15:56:47.381Z"
   },
   {
    "duration": 294,
    "start_time": "2023-03-30T15:56:47.582Z"
   },
   {
    "duration": 108,
    "start_time": "2023-03-30T15:56:47.883Z"
   },
   {
    "duration": 500,
    "start_time": "2023-03-30T15:56:48.079Z"
   },
   {
    "duration": 92,
    "start_time": "2023-03-30T15:56:48.583Z"
   },
   {
    "duration": 6,
    "start_time": "2023-03-30T15:56:48.680Z"
   },
   {
    "duration": 196,
    "start_time": "2023-03-30T15:56:48.690Z"
   },
   {
    "duration": 98,
    "start_time": "2023-03-30T15:56:48.983Z"
   },
   {
    "duration": 11992,
    "start_time": "2023-03-30T15:56:49.094Z"
   },
   {
    "duration": 102,
    "start_time": "2023-03-30T15:57:01.175Z"
   },
   {
    "duration": 104,
    "start_time": "2023-03-30T15:57:01.279Z"
   },
   {
    "duration": 282,
    "start_time": "2023-03-30T15:57:01.395Z"
   },
   {
    "duration": 4396,
    "start_time": "2023-03-30T15:57:01.692Z"
   },
   {
    "duration": 2983,
    "start_time": "2023-03-30T15:57:06.093Z"
   },
   {
    "duration": 6,
    "start_time": "2023-03-30T15:57:09.084Z"
   },
   {
    "duration": 8,
    "start_time": "2023-03-30T16:00:56.975Z"
   },
   {
    "duration": 1379,
    "start_time": "2023-03-30T16:01:03.399Z"
   },
   {
    "duration": 81111,
    "start_time": "2023-03-30T16:02:15.175Z"
   },
   {
    "duration": 1218,
    "start_time": "2023-03-30T16:11:35.576Z"
   },
   {
    "duration": 517,
    "start_time": "2023-03-30T16:14:59.776Z"
   },
   {
    "duration": 178,
    "start_time": "2023-03-30T16:23:19.496Z"
   },
   {
    "duration": 109,
    "start_time": "2023-03-30T16:34:38.376Z"
   },
   {
    "duration": 279,
    "start_time": "2023-03-30T16:35:27.000Z"
   },
   {
    "duration": 109,
    "start_time": "2023-03-30T16:35:33.976Z"
   },
   {
    "duration": 98,
    "start_time": "2023-03-30T16:36:32.076Z"
   },
   {
    "duration": 104,
    "start_time": "2023-03-30T16:36:43.276Z"
   },
   {
    "duration": 21,
    "start_time": "2023-03-30T16:37:19.376Z"
   },
   {
    "duration": 189,
    "start_time": "2023-03-30T16:51:47.100Z"
   },
   {
    "duration": 4523,
    "start_time": "2023-03-30T16:53:15.477Z"
   },
   {
    "duration": 2450,
    "start_time": "2023-03-30T16:53:20.025Z"
   },
   {
    "duration": 200,
    "start_time": "2023-03-30T16:53:22.480Z"
   },
   {
    "duration": 118,
    "start_time": "2023-03-30T16:53:43.776Z"
   },
   {
    "duration": 258,
    "start_time": "2023-03-30T16:54:01.576Z"
   },
   {
    "duration": 13,
    "start_time": "2023-03-30T16:54:18.077Z"
   },
   {
    "duration": 231,
    "start_time": "2023-03-30T16:54:26.676Z"
   },
   {
    "duration": 120,
    "start_time": "2023-03-30T16:54:42.579Z"
   },
   {
    "duration": 4102,
    "start_time": "2023-03-30T16:54:47.875Z"
   },
   {
    "duration": 2923,
    "start_time": "2023-03-30T16:54:51.981Z"
   },
   {
    "duration": 100,
    "start_time": "2023-03-30T16:54:54.908Z"
   },
   {
    "duration": 201,
    "start_time": "2023-03-30T17:01:24.176Z"
   },
   {
    "duration": 5230,
    "start_time": "2023-03-30T17:01:46.787Z"
   },
   {
    "duration": 4921,
    "start_time": "2023-03-30T17:01:59.576Z"
   },
   {
    "duration": 2700,
    "start_time": "2023-03-30T17:02:10.375Z"
   },
   {
    "duration": 207,
    "start_time": "2023-03-30T17:02:15.776Z"
   },
   {
    "duration": 36,
    "start_time": "2023-03-30T17:16:01.376Z"
   },
   {
    "duration": 114,
    "start_time": "2023-03-30T17:16:21.477Z"
   },
   {
    "duration": 2620,
    "start_time": "2023-03-30T17:18:38.875Z"
   },
   {
    "duration": 411,
    "start_time": "2023-03-30T17:22:07.476Z"
   },
   {
    "duration": 412,
    "start_time": "2023-03-30T17:24:59.275Z"
   },
   {
    "duration": 4503,
    "start_time": "2023-03-30T17:26:34.278Z"
   },
   {
    "duration": 2597,
    "start_time": "2023-03-30T17:26:49.691Z"
   },
   {
    "duration": 5,
    "start_time": "2023-03-30T17:26:57.978Z"
   },
   {
    "duration": 1497,
    "start_time": "2023-03-30T17:26:59.377Z"
   },
   {
    "duration": 78201,
    "start_time": "2023-03-30T17:27:06.675Z"
   },
   {
    "duration": 2313,
    "start_time": "2023-03-30T17:29:31.976Z"
   },
   {
    "duration": 9,
    "start_time": "2023-03-30T17:29:37.277Z"
   },
   {
    "duration": 13,
    "start_time": "2023-03-30T17:30:28.578Z"
   },
   {
    "duration": 1310,
    "start_time": "2023-03-30T17:30:28.877Z"
   },
   {
    "duration": 90218,
    "start_time": "2023-03-30T17:34:24.076Z"
   },
   {
    "duration": 84810,
    "start_time": "2023-03-30T17:40:18.075Z"
   },
   {
    "duration": 6696,
    "start_time": "2023-03-30T17:47:50.901Z"
   },
   {
    "duration": 5278,
    "start_time": "2023-03-30T17:47:57.601Z"
   },
   {
    "duration": 893,
    "start_time": "2023-03-30T17:48:02.881Z"
   },
   {
    "duration": 506,
    "start_time": "2023-03-30T17:48:03.777Z"
   },
   {
    "duration": 2995,
    "start_time": "2023-03-30T17:48:04.290Z"
   },
   {
    "duration": 5679,
    "start_time": "2023-03-30T17:48:07.296Z"
   },
   {
    "duration": 203,
    "start_time": "2023-03-30T17:48:12.995Z"
   },
   {
    "duration": 99,
    "start_time": "2023-03-30T17:48:13.282Z"
   },
   {
    "duration": 190,
    "start_time": "2023-03-30T17:48:13.393Z"
   },
   {
    "duration": 6,
    "start_time": "2023-03-30T17:48:13.600Z"
   },
   {
    "duration": 98,
    "start_time": "2023-03-30T17:48:13.678Z"
   },
   {
    "duration": 193,
    "start_time": "2023-03-30T17:48:13.781Z"
   },
   {
    "duration": 19,
    "start_time": "2023-03-30T17:48:13.988Z"
   },
   {
    "duration": 298,
    "start_time": "2023-03-30T17:48:14.076Z"
   },
   {
    "duration": 596,
    "start_time": "2023-03-30T17:48:14.382Z"
   },
   {
    "duration": 413,
    "start_time": "2023-03-30T17:48:14.981Z"
   },
   {
    "duration": 298,
    "start_time": "2023-03-30T17:48:15.398Z"
   },
   {
    "duration": 177,
    "start_time": "2023-03-30T17:48:15.700Z"
   },
   {
    "duration": 135,
    "start_time": "2023-03-30T17:48:15.879Z"
   },
   {
    "duration": 118,
    "start_time": "2023-03-30T17:48:16.081Z"
   },
   {
    "duration": 292,
    "start_time": "2023-03-30T17:48:16.209Z"
   },
   {
    "duration": 196,
    "start_time": "2023-03-30T17:48:16.503Z"
   },
   {
    "duration": 101,
    "start_time": "2023-03-30T17:48:16.701Z"
   },
   {
    "duration": 209,
    "start_time": "2023-03-30T17:48:16.880Z"
   },
   {
    "duration": 282,
    "start_time": "2023-03-30T17:48:17.093Z"
   },
   {
    "duration": 29,
    "start_time": "2023-03-30T17:48:17.377Z"
   },
   {
    "duration": 173,
    "start_time": "2023-03-30T17:48:17.414Z"
   },
   {
    "duration": 98,
    "start_time": "2023-03-30T17:48:17.598Z"
   },
   {
    "duration": 406,
    "start_time": "2023-03-30T17:48:17.774Z"
   },
   {
    "duration": 503,
    "start_time": "2023-03-30T17:48:18.182Z"
   },
   {
    "duration": 82,
    "start_time": "2023-03-30T17:48:18.694Z"
   },
   {
    "duration": 7,
    "start_time": "2023-03-30T17:48:18.778Z"
   },
   {
    "duration": 188,
    "start_time": "2023-03-30T17:48:18.787Z"
   },
   {
    "duration": 14,
    "start_time": "2023-03-30T17:48:18.977Z"
   },
   {
    "duration": 10999,
    "start_time": "2023-03-30T17:48:18.993Z"
   },
   {
    "duration": 109,
    "start_time": "2023-03-30T17:48:29.994Z"
   },
   {
    "duration": 78,
    "start_time": "2023-03-30T17:48:30.105Z"
   },
   {
    "duration": 216,
    "start_time": "2023-03-30T17:48:30.186Z"
   },
   {
    "duration": 4489,
    "start_time": "2023-03-30T17:48:30.406Z"
   },
   {
    "duration": 2392,
    "start_time": "2023-03-30T17:48:34.902Z"
   },
   {
    "duration": 75,
    "start_time": "2023-03-30T17:48:37.301Z"
   },
   {
    "duration": 913,
    "start_time": "2023-03-30T17:48:37.385Z"
   },
   {
    "duration": 0,
    "start_time": "2023-03-30T17:48:38.374Z"
   },
   {
    "duration": 0,
    "start_time": "2023-03-30T17:48:38.381Z"
   },
   {
    "duration": 0,
    "start_time": "2023-03-30T17:48:38.388Z"
   },
   {
    "duration": 1211,
    "start_time": "2023-03-30T17:50:57.901Z"
   },
   {
    "duration": 185,
    "start_time": "2023-03-30T17:51:00.805Z"
   },
   {
    "duration": 301900,
    "start_time": "2023-03-30T17:51:38.977Z"
   },
   {
    "duration": 230510,
    "start_time": "2023-03-30T18:00:02.577Z"
   },
   {
    "duration": 44101,
    "start_time": "2023-03-30T18:03:53.091Z"
   },
   {
    "duration": 1705,
    "start_time": "2023-03-30T19:24:09.840Z"
   },
   {
    "duration": 2958,
    "start_time": "2023-03-30T19:24:11.547Z"
   },
   {
    "duration": 317,
    "start_time": "2023-03-30T19:24:14.507Z"
   },
   {
    "duration": 270,
    "start_time": "2023-03-30T19:24:14.826Z"
   },
   {
    "duration": 890,
    "start_time": "2023-03-30T19:24:15.098Z"
   },
   {
    "duration": 2130,
    "start_time": "2023-03-30T19:24:15.990Z"
   },
   {
    "duration": 38,
    "start_time": "2023-03-30T19:24:18.177Z"
   },
   {
    "duration": 65,
    "start_time": "2023-03-30T19:24:18.216Z"
   },
   {
    "duration": 37,
    "start_time": "2023-03-30T19:24:18.283Z"
   },
   {
    "duration": 63,
    "start_time": "2023-03-30T19:24:18.322Z"
   },
   {
    "duration": 20,
    "start_time": "2023-03-30T19:24:18.387Z"
   },
   {
    "duration": 81,
    "start_time": "2023-03-30T19:24:18.409Z"
   },
   {
    "duration": 9,
    "start_time": "2023-03-30T19:24:18.493Z"
   },
   {
    "duration": 85,
    "start_time": "2023-03-30T19:24:18.506Z"
   },
   {
    "duration": 126,
    "start_time": "2023-03-30T19:24:18.592Z"
   },
   {
    "duration": 146,
    "start_time": "2023-03-30T19:24:18.772Z"
   },
   {
    "duration": 86,
    "start_time": "2023-03-30T19:24:18.920Z"
   },
   {
    "duration": 69,
    "start_time": "2023-03-30T19:24:19.008Z"
   },
   {
    "duration": 120,
    "start_time": "2023-03-30T19:24:19.078Z"
   },
   {
    "duration": 89,
    "start_time": "2023-03-30T19:24:19.200Z"
   },
   {
    "duration": 128,
    "start_time": "2023-03-30T19:24:19.291Z"
   },
   {
    "duration": 96,
    "start_time": "2023-03-30T19:24:19.420Z"
   },
   {
    "duration": 75,
    "start_time": "2023-03-30T19:24:19.518Z"
   },
   {
    "duration": 107,
    "start_time": "2023-03-30T19:24:19.595Z"
   },
   {
    "duration": 173,
    "start_time": "2023-03-30T19:24:19.704Z"
   },
   {
    "duration": 21,
    "start_time": "2023-03-30T19:24:19.879Z"
   },
   {
    "duration": 103,
    "start_time": "2023-03-30T19:24:19.902Z"
   },
   {
    "duration": 87,
    "start_time": "2023-03-30T19:24:20.007Z"
   },
   {
    "duration": 195,
    "start_time": "2023-03-30T19:24:20.096Z"
   },
   {
    "duration": 129,
    "start_time": "2023-03-30T19:24:20.293Z"
   },
   {
    "duration": 5,
    "start_time": "2023-03-30T19:24:20.424Z"
   },
   {
    "duration": 56,
    "start_time": "2023-03-30T19:24:20.431Z"
   },
   {
    "duration": 45,
    "start_time": "2023-03-30T19:24:20.490Z"
   },
   {
    "duration": 22,
    "start_time": "2023-03-30T19:24:20.536Z"
   },
   {
    "duration": 2025,
    "start_time": "2023-03-30T19:24:20.560Z"
   },
   {
    "duration": 12,
    "start_time": "2023-03-30T19:24:22.587Z"
   },
   {
    "duration": 11,
    "start_time": "2023-03-30T19:24:22.600Z"
   },
   {
    "duration": 20,
    "start_time": "2023-03-30T19:24:22.613Z"
   },
   {
    "duration": 572,
    "start_time": "2023-03-30T19:24:22.634Z"
   },
   {
    "duration": 353,
    "start_time": "2023-03-30T19:24:23.208Z"
   },
   {
    "duration": 3,
    "start_time": "2023-03-30T19:24:23.564Z"
   },
   {
    "duration": 186,
    "start_time": "2023-03-30T19:24:23.568Z"
   },
   {
    "duration": 264432,
    "start_time": "2023-03-30T19:24:23.755Z"
   },
   {
    "duration": 36274,
    "start_time": "2023-03-30T19:28:48.189Z"
   },
   {
    "duration": 7337,
    "start_time": "2023-03-30T19:29:24.464Z"
   },
   {
    "duration": 514,
    "start_time": "2023-03-30T19:29:31.802Z"
   },
   {
    "duration": 271,
    "start_time": "2023-03-30T19:29:32.317Z"
   },
   {
    "duration": 0,
    "start_time": "2023-03-30T19:29:32.590Z"
   },
   {
    "duration": 0,
    "start_time": "2023-03-30T19:29:32.590Z"
   },
   {
    "duration": 91580,
    "start_time": "2023-03-30T19:40:48.705Z"
   },
   {
    "duration": 5,
    "start_time": "2023-03-30T19:43:26.638Z"
   },
   {
    "duration": 15,
    "start_time": "2023-03-30T19:43:31.173Z"
   },
   {
    "duration": 13,
    "start_time": "2023-03-30T19:47:08.301Z"
   },
   {
    "duration": 13,
    "start_time": "2023-03-30T19:47:11.912Z"
   },
   {
    "duration": 66,
    "start_time": "2023-03-30T19:47:47.956Z"
   },
   {
    "duration": 1470,
    "start_time": "2023-03-30T19:49:22.324Z"
   },
   {
    "duration": 817,
    "start_time": "2023-03-30T19:49:23.796Z"
   },
   {
    "duration": 148,
    "start_time": "2023-03-30T19:49:24.616Z"
   },
   {
    "duration": 98,
    "start_time": "2023-03-30T19:49:24.767Z"
   },
   {
    "duration": 468,
    "start_time": "2023-03-30T19:49:24.866Z"
   },
   {
    "duration": 972,
    "start_time": "2023-03-30T19:49:25.336Z"
   },
   {
    "duration": 47,
    "start_time": "2023-03-30T19:49:26.310Z"
   },
   {
    "duration": 33,
    "start_time": "2023-03-30T19:49:26.359Z"
   },
   {
    "duration": 26,
    "start_time": "2023-03-30T19:49:26.402Z"
   },
   {
    "duration": 5,
    "start_time": "2023-03-30T19:49:26.430Z"
   },
   {
    "duration": 13,
    "start_time": "2023-03-30T19:49:26.437Z"
   },
   {
    "duration": 42,
    "start_time": "2023-03-30T19:49:26.452Z"
   },
   {
    "duration": 10,
    "start_time": "2023-03-30T19:49:26.498Z"
   },
   {
    "duration": 49,
    "start_time": "2023-03-30T19:49:26.510Z"
   },
   {
    "duration": 90,
    "start_time": "2023-03-30T19:49:26.561Z"
   },
   {
    "duration": 73,
    "start_time": "2023-03-30T19:49:26.652Z"
   },
   {
    "duration": 27,
    "start_time": "2023-03-30T19:49:26.727Z"
   },
   {
    "duration": 37,
    "start_time": "2023-03-30T19:49:26.755Z"
   },
   {
    "duration": 35,
    "start_time": "2023-03-30T19:49:26.798Z"
   },
   {
    "duration": 16,
    "start_time": "2023-03-30T19:49:26.835Z"
   },
   {
    "duration": 77,
    "start_time": "2023-03-30T19:49:26.853Z"
   },
   {
    "duration": 31,
    "start_time": "2023-03-30T19:49:26.932Z"
   },
   {
    "duration": 53,
    "start_time": "2023-03-30T19:49:26.964Z"
   },
   {
    "duration": 29,
    "start_time": "2023-03-30T19:49:27.019Z"
   },
   {
    "duration": 49,
    "start_time": "2023-03-30T19:49:27.049Z"
   },
   {
    "duration": 21,
    "start_time": "2023-03-30T19:49:27.104Z"
   },
   {
    "duration": 38,
    "start_time": "2023-03-30T19:49:27.126Z"
   },
   {
    "duration": 33,
    "start_time": "2023-03-30T19:49:27.166Z"
   },
   {
    "duration": 137,
    "start_time": "2023-03-30T19:49:27.201Z"
   },
   {
    "duration": 109,
    "start_time": "2023-03-30T19:49:27.340Z"
   },
   {
    "duration": 5,
    "start_time": "2023-03-30T19:49:27.451Z"
   },
   {
    "duration": 21,
    "start_time": "2023-03-30T19:49:27.457Z"
   },
   {
    "duration": 24,
    "start_time": "2023-03-30T19:49:27.480Z"
   },
   {
    "duration": 11,
    "start_time": "2023-03-30T19:49:27.506Z"
   },
   {
    "duration": 2000,
    "start_time": "2023-03-30T19:49:27.518Z"
   },
   {
    "duration": 10,
    "start_time": "2023-03-30T19:49:29.520Z"
   },
   {
    "duration": 8,
    "start_time": "2023-03-30T19:49:29.531Z"
   },
   {
    "duration": 55,
    "start_time": "2023-03-30T19:49:29.541Z"
   },
   {
    "duration": 516,
    "start_time": "2023-03-30T19:49:29.598Z"
   },
   {
    "duration": 388,
    "start_time": "2023-03-30T19:49:30.117Z"
   },
   {
    "duration": 214504,
    "start_time": "2023-03-30T19:49:30.506Z"
   },
   {
    "duration": 12,
    "start_time": "2023-03-30T19:53:05.071Z"
   },
   {
    "duration": 347,
    "start_time": "2023-03-30T19:53:05.089Z"
   },
   {
    "duration": 188969,
    "start_time": "2023-03-30T19:53:05.438Z"
   },
   {
    "duration": 40483,
    "start_time": "2023-03-30T19:56:14.475Z"
   },
   {
    "duration": 7989,
    "start_time": "2023-03-30T19:56:54.960Z"
   },
   {
    "duration": 600,
    "start_time": "2023-03-30T19:57:02.950Z"
   },
   {
    "duration": 286,
    "start_time": "2023-03-30T19:57:03.551Z"
   },
   {
    "duration": 0,
    "start_time": "2023-03-30T19:57:03.838Z"
   },
   {
    "duration": 0,
    "start_time": "2023-03-30T19:57:03.839Z"
   },
   {
    "duration": 39585,
    "start_time": "2023-03-30T20:03:14.227Z"
   },
   {
    "duration": 8622,
    "start_time": "2023-03-30T20:03:53.814Z"
   },
   {
    "duration": 12,
    "start_time": "2023-03-30T20:07:28.732Z"
   },
   {
    "duration": 210828,
    "start_time": "2023-03-30T20:08:07.891Z"
   },
   {
    "duration": 51,
    "start_time": "2023-03-30T20:12:56.954Z"
   },
   {
    "duration": 10,
    "start_time": "2023-03-30T20:14:54.045Z"
   },
   {
    "duration": 7,
    "start_time": "2023-03-30T20:15:25.309Z"
   },
   {
    "duration": 9,
    "start_time": "2023-03-30T20:15:34.695Z"
   },
   {
    "duration": 10,
    "start_time": "2023-03-30T20:16:09.996Z"
   },
   {
    "duration": 12,
    "start_time": "2023-03-30T20:19:24.794Z"
   },
   {
    "duration": 33,
    "start_time": "2023-03-30T20:20:09.569Z"
   },
   {
    "duration": 48,
    "start_time": "2023-03-30T20:20:43.168Z"
   },
   {
    "duration": 5,
    "start_time": "2023-03-30T20:25:12.853Z"
   },
   {
    "duration": 7,
    "start_time": "2023-03-30T20:27:18.508Z"
   },
   {
    "duration": 25,
    "start_time": "2023-03-30T20:28:00.794Z"
   },
   {
    "duration": 11,
    "start_time": "2023-03-30T20:29:25.098Z"
   },
   {
    "duration": 1872,
    "start_time": "2023-03-30T20:46:13.270Z"
   },
   {
    "duration": 856,
    "start_time": "2023-03-30T20:46:15.144Z"
   },
   {
    "duration": 191,
    "start_time": "2023-03-30T20:46:16.002Z"
   },
   {
    "duration": 106,
    "start_time": "2023-03-30T20:46:16.204Z"
   },
   {
    "duration": 499,
    "start_time": "2023-03-30T20:46:16.312Z"
   },
   {
    "duration": 886,
    "start_time": "2023-03-30T20:46:16.812Z"
   },
   {
    "duration": 39,
    "start_time": "2023-03-30T20:46:17.700Z"
   },
   {
    "duration": 11,
    "start_time": "2023-03-30T20:46:17.741Z"
   },
   {
    "duration": 86,
    "start_time": "2023-03-30T20:46:17.753Z"
   },
   {
    "duration": 2,
    "start_time": "2023-03-30T20:46:17.841Z"
   },
   {
    "duration": 58,
    "start_time": "2023-03-30T20:46:17.845Z"
   },
   {
    "duration": 45,
    "start_time": "2023-03-30T20:46:17.910Z"
   },
   {
    "duration": 7,
    "start_time": "2023-03-30T20:46:17.957Z"
   },
   {
    "duration": 138,
    "start_time": "2023-03-30T20:46:17.967Z"
   },
   {
    "duration": 75,
    "start_time": "2023-03-30T20:46:18.110Z"
   },
   {
    "duration": 72,
    "start_time": "2023-03-30T20:46:18.186Z"
   },
   {
    "duration": 56,
    "start_time": "2023-03-30T20:46:18.260Z"
   },
   {
    "duration": 14,
    "start_time": "2023-03-30T20:46:18.317Z"
   },
   {
    "duration": 31,
    "start_time": "2023-03-30T20:46:18.333Z"
   },
   {
    "duration": 37,
    "start_time": "2023-03-30T20:46:18.366Z"
   },
   {
    "duration": 100,
    "start_time": "2023-03-30T20:46:18.405Z"
   },
   {
    "duration": 30,
    "start_time": "2023-03-30T20:46:18.511Z"
   },
   {
    "duration": 14,
    "start_time": "2023-03-30T20:46:18.542Z"
   },
   {
    "duration": 56,
    "start_time": "2023-03-30T20:46:18.557Z"
   },
   {
    "duration": 32,
    "start_time": "2023-03-30T20:46:18.615Z"
   },
   {
    "duration": 14,
    "start_time": "2023-03-30T20:46:18.649Z"
   },
   {
    "duration": 63,
    "start_time": "2023-03-30T20:46:18.665Z"
   },
   {
    "duration": 21,
    "start_time": "2023-03-30T20:46:18.730Z"
   },
   {
    "duration": 76,
    "start_time": "2023-03-30T20:46:18.753Z"
   },
   {
    "duration": 95,
    "start_time": "2023-03-30T20:46:18.830Z"
   },
   {
    "duration": 32,
    "start_time": "2023-03-30T20:46:18.926Z"
   },
   {
    "duration": 47,
    "start_time": "2023-03-30T20:46:18.960Z"
   },
   {
    "duration": 51,
    "start_time": "2023-03-30T20:46:19.013Z"
   },
   {
    "duration": 22,
    "start_time": "2023-03-30T20:46:19.065Z"
   },
   {
    "duration": 2020,
    "start_time": "2023-03-30T20:46:19.088Z"
   },
   {
    "duration": 14,
    "start_time": "2023-03-30T20:46:21.113Z"
   },
   {
    "duration": 11,
    "start_time": "2023-03-30T20:46:21.128Z"
   },
   {
    "duration": 19,
    "start_time": "2023-03-30T20:46:21.140Z"
   },
   {
    "duration": 54,
    "start_time": "2023-03-30T20:46:21.160Z"
   },
   {
    "duration": 508,
    "start_time": "2023-03-30T20:46:21.216Z"
   },
   {
    "duration": 391,
    "start_time": "2023-03-30T20:46:21.729Z"
   },
   {
    "duration": 2,
    "start_time": "2023-03-30T20:46:22.122Z"
   },
   {
    "duration": 208,
    "start_time": "2023-03-30T20:46:22.126Z"
   },
   {
    "duration": 457255,
    "start_time": "2023-03-30T20:46:22.336Z"
   },
   {
    "duration": 1733,
    "start_time": "2023-03-31T06:08:29.176Z"
   },
   {
    "duration": 2989,
    "start_time": "2023-03-31T06:08:30.912Z"
   },
   {
    "duration": 162,
    "start_time": "2023-03-31T06:08:33.903Z"
   },
   {
    "duration": 92,
    "start_time": "2023-03-31T06:08:34.067Z"
   },
   {
    "duration": 440,
    "start_time": "2023-03-31T06:08:34.161Z"
   },
   {
    "duration": 927,
    "start_time": "2023-03-31T06:08:35.128Z"
   },
   {
    "duration": 39,
    "start_time": "2023-03-31T06:08:36.983Z"
   },
   {
    "duration": 10,
    "start_time": "2023-03-31T06:08:38.975Z"
   },
   {
    "duration": 35,
    "start_time": "2023-03-31T06:08:50.535Z"
   },
   {
    "duration": 3,
    "start_time": "2023-03-31T06:08:51.647Z"
   },
   {
    "duration": 8,
    "start_time": "2023-03-31T06:08:55.551Z"
   },
   {
    "duration": 36,
    "start_time": "2023-03-31T06:09:11.838Z"
   },
   {
    "duration": 8,
    "start_time": "2023-03-31T06:09:20.471Z"
   },
   {
    "duration": 44,
    "start_time": "2023-03-31T06:09:30.791Z"
   },
   {
    "duration": 74,
    "start_time": "2023-03-31T06:09:38.270Z"
   },
   {
    "duration": 85,
    "start_time": "2023-03-31T06:09:39.966Z"
   },
   {
    "duration": 44,
    "start_time": "2023-03-31T06:10:05.614Z"
   },
   {
    "duration": 16,
    "start_time": "2023-03-31T06:10:08.582Z"
   },
   {
    "duration": 37,
    "start_time": "2023-03-31T06:10:15.518Z"
   },
   {
    "duration": 15,
    "start_time": "2023-03-31T06:10:25.054Z"
   },
   {
    "duration": 72,
    "start_time": "2023-03-31T06:10:27.533Z"
   },
   {
    "duration": 38,
    "start_time": "2023-03-31T06:10:33.118Z"
   },
   {
    "duration": 29,
    "start_time": "2023-03-31T06:10:34.352Z"
   },
   {
    "duration": 38,
    "start_time": "2023-03-31T06:10:37.773Z"
   },
   {
    "duration": 32,
    "start_time": "2023-03-31T06:10:41.206Z"
   },
   {
    "duration": 29,
    "start_time": "2023-03-31T06:10:42.052Z"
   },
   {
    "duration": 41,
    "start_time": "2023-03-31T06:10:44.229Z"
   },
   {
    "duration": 16,
    "start_time": "2023-03-31T06:10:49.677Z"
   },
   {
    "duration": 68,
    "start_time": "2023-03-31T06:10:51.389Z"
   },
   {
    "duration": 87,
    "start_time": "2023-03-31T06:11:00.085Z"
   },
   {
    "duration": 6,
    "start_time": "2023-03-31T06:11:02.916Z"
   },
   {
    "duration": 2,
    "start_time": "2023-03-31T06:11:29.492Z"
   },
   {
    "duration": 28,
    "start_time": "2023-03-31T06:11:31.196Z"
   },
   {
    "duration": 8,
    "start_time": "2023-03-31T06:11:34.404Z"
   },
   {
    "duration": 6,
    "start_time": "2023-03-31T06:14:11.107Z"
   },
   {
    "duration": 19,
    "start_time": "2023-03-31T06:14:29.064Z"
   },
   {
    "duration": 15,
    "start_time": "2023-03-31T06:15:12.088Z"
   },
   {
    "duration": 1586,
    "start_time": "2023-03-31T06:15:58.577Z"
   },
   {
    "duration": 23,
    "start_time": "2023-03-31T06:16:12.348Z"
   },
   {
    "duration": 18,
    "start_time": "2023-03-31T06:17:11.266Z"
   },
   {
    "duration": 20,
    "start_time": "2023-03-31T06:17:22.990Z"
   },
   {
    "duration": 1821,
    "start_time": "2023-03-31T06:23:31.769Z"
   },
   {
    "duration": 9,
    "start_time": "2023-03-31T06:23:33.591Z"
   },
   {
    "duration": 6,
    "start_time": "2023-03-31T06:23:33.624Z"
   },
   {
    "duration": 24,
    "start_time": "2023-03-31T06:23:35.112Z"
   },
   {
    "duration": 38,
    "start_time": "2023-03-31T06:23:38.592Z"
   },
   {
    "duration": 629,
    "start_time": "2023-03-31T06:24:25.887Z"
   },
   {
    "duration": 488,
    "start_time": "2023-03-31T06:24:30.927Z"
   },
   {
    "duration": 2,
    "start_time": "2023-03-31T06:24:32.239Z"
   },
   {
    "duration": 177,
    "start_time": "2023-03-31T06:24:34.784Z"
   },
   {
    "duration": 167339,
    "start_time": "2023-03-31T06:25:05.903Z"
   },
   {
    "duration": 8,
    "start_time": "2023-03-31T06:30:09.626Z"
   },
   {
    "duration": 5,
    "start_time": "2023-03-31T06:31:39.385Z"
   },
   {
    "duration": 9,
    "start_time": "2023-03-31T06:31:44.680Z"
   },
   {
    "duration": 4,
    "start_time": "2023-03-31T06:32:17.312Z"
   },
   {
    "duration": 26943,
    "start_time": "2023-03-31T06:32:26.998Z"
   },
   {
    "duration": 25553,
    "start_time": "2023-03-31T06:38:22.889Z"
   },
   {
    "duration": 10,
    "start_time": "2023-03-31T06:40:29.270Z"
   },
   {
    "duration": 5,
    "start_time": "2023-03-31T06:40:42.743Z"
   },
   {
    "duration": 1576,
    "start_time": "2023-03-31T06:44:54.204Z"
   },
   {
    "duration": 817,
    "start_time": "2023-03-31T06:44:55.783Z"
   },
   {
    "duration": 154,
    "start_time": "2023-03-31T06:44:56.602Z"
   },
   {
    "duration": 92,
    "start_time": "2023-03-31T06:44:56.758Z"
   },
   {
    "duration": 447,
    "start_time": "2023-03-31T06:44:56.851Z"
   },
   {
    "duration": 927,
    "start_time": "2023-03-31T06:44:57.300Z"
   },
   {
    "duration": 47,
    "start_time": "2023-03-31T06:44:58.228Z"
   },
   {
    "duration": 10,
    "start_time": "2023-03-31T06:44:58.277Z"
   },
   {
    "duration": 47,
    "start_time": "2023-03-31T06:44:58.288Z"
   },
   {
    "duration": 3,
    "start_time": "2023-03-31T06:44:58.337Z"
   },
   {
    "duration": 21,
    "start_time": "2023-03-31T06:44:58.341Z"
   },
   {
    "duration": 33,
    "start_time": "2023-03-31T06:44:58.363Z"
   },
   {
    "duration": 9,
    "start_time": "2023-03-31T06:44:58.397Z"
   },
   {
    "duration": 51,
    "start_time": "2023-03-31T06:44:58.407Z"
   },
   {
    "duration": 82,
    "start_time": "2023-03-31T06:44:58.459Z"
   },
   {
    "duration": 95,
    "start_time": "2023-03-31T06:44:58.543Z"
   },
   {
    "duration": 31,
    "start_time": "2023-03-31T06:44:58.640Z"
   },
   {
    "duration": 18,
    "start_time": "2023-03-31T06:44:58.705Z"
   },
   {
    "duration": 30,
    "start_time": "2023-03-31T06:44:58.881Z"
   },
   {
    "duration": 15,
    "start_time": "2023-03-31T06:44:59.049Z"
   },
   {
    "duration": 65,
    "start_time": "2023-03-31T06:44:59.218Z"
   },
   {
    "duration": 31,
    "start_time": "2023-03-31T06:44:59.393Z"
   },
   {
    "duration": 14,
    "start_time": "2023-03-31T06:44:59.577Z"
   },
   {
    "duration": 39,
    "start_time": "2023-03-31T06:44:59.754Z"
   },
   {
    "duration": 31,
    "start_time": "2023-03-31T06:44:59.929Z"
   },
   {
    "duration": 16,
    "start_time": "2023-03-31T06:45:00.114Z"
   },
   {
    "duration": 30,
    "start_time": "2023-03-31T06:45:00.281Z"
   },
   {
    "duration": 18,
    "start_time": "2023-03-31T06:45:00.458Z"
   },
   {
    "duration": 54,
    "start_time": "2023-03-31T06:45:00.642Z"
   },
   {
    "duration": 78,
    "start_time": "2023-03-31T06:45:00.826Z"
   },
   {
    "duration": 5,
    "start_time": "2023-03-31T06:45:01.202Z"
   },
   {
    "duration": 2,
    "start_time": "2023-03-31T06:45:01.578Z"
   },
   {
    "duration": 19,
    "start_time": "2023-03-31T06:45:01.762Z"
   },
   {
    "duration": 20,
    "start_time": "2023-03-31T06:45:01.946Z"
   },
   {
    "duration": 28,
    "start_time": "2023-03-31T06:45:03.965Z"
   },
   {
    "duration": 1961,
    "start_time": "2023-03-31T06:45:03.995Z"
   },
   {
    "duration": 10,
    "start_time": "2023-03-31T06:45:05.959Z"
   },
   {
    "duration": 28,
    "start_time": "2023-03-31T06:45:05.972Z"
   },
   {
    "duration": 20,
    "start_time": "2023-03-31T06:45:07.178Z"
   },
   {
    "duration": 44,
    "start_time": "2023-03-31T06:45:07.761Z"
   },
   {
    "duration": 689,
    "start_time": "2023-03-31T06:45:09.946Z"
   },
   {
    "duration": 505,
    "start_time": "2023-03-31T06:45:11.417Z"
   },
   {
    "duration": 178,
    "start_time": "2023-03-31T06:45:12.714Z"
   },
   {
    "duration": 128270,
    "start_time": "2023-03-31T06:45:13.890Z"
   },
   {
    "duration": 325526,
    "start_time": "2023-03-31T06:49:37.317Z"
   },
   {
    "duration": 2040,
    "start_time": "2023-03-31T07:09:00.901Z"
   },
   {
    "duration": 921,
    "start_time": "2023-03-31T07:09:02.945Z"
   },
   {
    "duration": 155,
    "start_time": "2023-03-31T07:09:03.868Z"
   },
   {
    "duration": 92,
    "start_time": "2023-03-31T07:09:04.025Z"
   },
   {
    "duration": 518,
    "start_time": "2023-03-31T07:09:04.733Z"
   },
   {
    "duration": 1033,
    "start_time": "2023-03-31T07:09:05.253Z"
   },
   {
    "duration": 50,
    "start_time": "2023-03-31T07:09:06.288Z"
   },
   {
    "duration": 24,
    "start_time": "2023-03-31T07:09:06.345Z"
   },
   {
    "duration": 36,
    "start_time": "2023-03-31T07:09:06.371Z"
   },
   {
    "duration": 3,
    "start_time": "2023-03-31T07:09:06.469Z"
   },
   {
    "duration": 13,
    "start_time": "2023-03-31T07:09:07.125Z"
   },
   {
    "duration": 50,
    "start_time": "2023-03-31T07:09:07.805Z"
   },
   {
    "duration": 9,
    "start_time": "2023-03-31T07:09:08.661Z"
   },
   {
    "duration": 38,
    "start_time": "2023-03-31T07:09:10.181Z"
   },
   {
    "duration": 77,
    "start_time": "2023-03-31T07:09:10.552Z"
   },
   {
    "duration": 95,
    "start_time": "2023-03-31T07:09:11.109Z"
   },
   {
    "duration": 30,
    "start_time": "2023-03-31T07:09:12.485Z"
   },
   {
    "duration": 23,
    "start_time": "2023-03-31T07:09:13.051Z"
   },
   {
    "duration": 35,
    "start_time": "2023-03-31T07:09:13.749Z"
   },
   {
    "duration": 17,
    "start_time": "2023-03-31T07:09:14.364Z"
   },
   {
    "duration": 79,
    "start_time": "2023-03-31T07:09:15.109Z"
   },
   {
    "duration": 33,
    "start_time": "2023-03-31T07:09:16.581Z"
   },
   {
    "duration": 18,
    "start_time": "2023-03-31T07:09:17.868Z"
   },
   {
    "duration": 35,
    "start_time": "2023-03-31T07:09:19.461Z"
   },
   {
    "duration": 51,
    "start_time": "2023-03-31T07:09:20.317Z"
   },
   {
    "duration": 19,
    "start_time": "2023-03-31T07:09:21.020Z"
   },
   {
    "duration": 28,
    "start_time": "2023-03-31T07:09:21.468Z"
   },
   {
    "duration": 17,
    "start_time": "2023-03-31T07:09:21.958Z"
   },
   {
    "duration": 61,
    "start_time": "2023-03-31T07:09:22.352Z"
   },
   {
    "duration": 89,
    "start_time": "2023-03-31T07:09:23.125Z"
   },
   {
    "duration": 5,
    "start_time": "2023-03-31T07:09:24.516Z"
   },
   {
    "duration": 3,
    "start_time": "2023-03-31T07:09:30.420Z"
   },
   {
    "duration": 19,
    "start_time": "2023-03-31T07:09:30.796Z"
   },
   {
    "duration": 10,
    "start_time": "2023-03-31T07:09:31.293Z"
   },
   {
    "duration": 33,
    "start_time": "2023-03-31T07:09:32.033Z"
   },
   {
    "duration": 2127,
    "start_time": "2023-03-31T07:09:34.960Z"
   },
   {
    "duration": 11,
    "start_time": "2023-03-31T07:09:37.090Z"
   },
   {
    "duration": 8,
    "start_time": "2023-03-31T07:09:37.103Z"
   },
   {
    "duration": 48,
    "start_time": "2023-03-31T07:09:37.114Z"
   },
   {
    "duration": 55,
    "start_time": "2023-03-31T07:09:37.220Z"
   },
   {
    "duration": 698,
    "start_time": "2023-03-31T07:09:39.863Z"
   },
   {
    "duration": 503,
    "start_time": "2023-03-31T07:09:41.657Z"
   },
   {
    "duration": 203,
    "start_time": "2023-03-31T07:09:42.977Z"
   },
   {
    "duration": 356238,
    "start_time": "2023-03-31T07:09:44.613Z"
   },
   {
    "duration": 36681,
    "start_time": "2023-03-31T07:16:44.064Z"
   },
   {
    "duration": 1494616,
    "start_time": "2023-03-31T07:17:26.319Z"
   },
   {
    "duration": 383,
    "start_time": "2023-03-31T07:44:09.260Z"
   },
   {
    "duration": 1470,
    "start_time": "2023-03-31T07:44:28.654Z"
   },
   {
    "duration": 927,
    "start_time": "2023-03-31T07:44:30.125Z"
   },
   {
    "duration": 174,
    "start_time": "2023-03-31T07:44:31.056Z"
   },
   {
    "duration": 118,
    "start_time": "2023-03-31T07:44:31.232Z"
   },
   {
    "duration": 485,
    "start_time": "2023-03-31T07:44:31.353Z"
   },
   {
    "duration": 1052,
    "start_time": "2023-03-31T07:44:31.839Z"
   },
   {
    "duration": 62,
    "start_time": "2023-03-31T07:44:32.893Z"
   },
   {
    "duration": 13,
    "start_time": "2023-03-31T07:44:32.956Z"
   },
   {
    "duration": 33,
    "start_time": "2023-03-31T07:44:32.971Z"
   },
   {
    "duration": 3,
    "start_time": "2023-03-31T07:44:33.006Z"
   },
   {
    "duration": 64,
    "start_time": "2023-03-31T07:44:33.011Z"
   },
   {
    "duration": 33,
    "start_time": "2023-03-31T07:44:33.077Z"
   },
   {
    "duration": 9,
    "start_time": "2023-03-31T07:44:33.111Z"
   },
   {
    "duration": 57,
    "start_time": "2023-03-31T07:44:33.122Z"
   },
   {
    "duration": 91,
    "start_time": "2023-03-31T07:44:33.180Z"
   },
   {
    "duration": 91,
    "start_time": "2023-03-31T07:44:33.273Z"
   },
   {
    "duration": 29,
    "start_time": "2023-03-31T07:44:33.367Z"
   },
   {
    "duration": 17,
    "start_time": "2023-03-31T07:44:33.398Z"
   },
   {
    "duration": 54,
    "start_time": "2023-03-31T07:44:33.417Z"
   },
   {
    "duration": 15,
    "start_time": "2023-03-31T07:44:33.563Z"
   },
   {
    "duration": 72,
    "start_time": "2023-03-31T07:44:33.777Z"
   },
   {
    "duration": 41,
    "start_time": "2023-03-31T07:44:33.908Z"
   },
   {
    "duration": 29,
    "start_time": "2023-03-31T07:44:34.128Z"
   },
   {
    "duration": 45,
    "start_time": "2023-03-31T07:44:34.329Z"
   },
   {
    "duration": 49,
    "start_time": "2023-03-31T07:44:34.531Z"
   },
   {
    "duration": 18,
    "start_time": "2023-03-31T07:44:34.713Z"
   },
   {
    "duration": 28,
    "start_time": "2023-03-31T07:44:34.888Z"
   },
   {
    "duration": 15,
    "start_time": "2023-03-31T07:44:35.065Z"
   },
   {
    "duration": 67,
    "start_time": "2023-03-31T07:44:35.271Z"
   },
   {
    "duration": 69,
    "start_time": "2023-03-31T07:44:35.462Z"
   },
   {
    "duration": 5,
    "start_time": "2023-03-31T07:44:35.801Z"
   },
   {
    "duration": 2,
    "start_time": "2023-03-31T07:44:36.161Z"
   },
   {
    "duration": 31,
    "start_time": "2023-03-31T07:44:36.343Z"
   },
   {
    "duration": 9,
    "start_time": "2023-03-31T07:44:36.512Z"
   },
   {
    "duration": 19,
    "start_time": "2023-03-31T07:44:36.688Z"
   },
   {
    "duration": 2050,
    "start_time": "2023-03-31T07:44:37.224Z"
   },
   {
    "duration": 9,
    "start_time": "2023-03-31T07:44:39.277Z"
   },
   {
    "duration": 10,
    "start_time": "2023-03-31T07:44:39.288Z"
   },
   {
    "duration": 52,
    "start_time": "2023-03-31T07:44:39.300Z"
   },
   {
    "duration": 40,
    "start_time": "2023-03-31T07:44:39.359Z"
   },
   {
    "duration": 697,
    "start_time": "2023-03-31T07:44:39.400Z"
   },
   {
    "duration": 513,
    "start_time": "2023-03-31T07:44:40.099Z"
   },
   {
    "duration": 223,
    "start_time": "2023-03-31T07:44:40.613Z"
   },
   {
    "duration": 360017,
    "start_time": "2023-03-31T07:44:40.845Z"
   },
   {
    "duration": 35315,
    "start_time": "2023-03-31T07:50:40.936Z"
   },
   {
    "duration": 854688,
    "start_time": "2023-03-31T07:51:16.256Z"
   },
   {
    "duration": 497,
    "start_time": "2023-03-31T08:05:31.036Z"
   },
   {
    "duration": 30902,
    "start_time": "2023-03-31T08:05:31.535Z"
   },
   {
    "duration": 7336,
    "start_time": "2023-03-31T08:06:02.438Z"
   },
   {
    "duration": 184077,
    "start_time": "2023-03-31T08:06:09.775Z"
   },
   {
    "duration": 723,
    "start_time": "2023-03-31T08:13:35.430Z"
   },
   {
    "duration": 206,
    "start_time": "2023-03-31T08:13:36.155Z"
   },
   {
    "duration": 0,
    "start_time": "2023-03-31T08:13:36.362Z"
   },
   {
    "duration": 5907,
    "start_time": "2023-03-31T08:58:36.298Z"
   },
   {
    "duration": 110,
    "start_time": "2023-03-31T09:04:30.682Z"
   },
   {
    "duration": 81,
    "start_time": "2023-03-31T09:06:36.076Z"
   },
   {
    "duration": 97,
    "start_time": "2023-03-31T09:07:05.314Z"
   },
   {
    "duration": 75,
    "start_time": "2023-03-31T09:09:08.553Z"
   },
   {
    "duration": 228,
    "start_time": "2023-03-31T09:11:37.894Z"
   },
   {
    "duration": 3,
    "start_time": "2023-03-31T09:12:26.838Z"
   },
   {
    "duration": 14,
    "start_time": "2023-03-31T09:12:51.797Z"
   },
   {
    "duration": 3,
    "start_time": "2023-03-31T09:13:13.853Z"
   },
   {
    "duration": 16,
    "start_time": "2023-03-31T09:13:14.989Z"
   },
   {
    "duration": 28,
    "start_time": "2023-03-31T09:13:33.636Z"
   },
   {
    "duration": 74,
    "start_time": "2023-03-31T09:13:42.454Z"
   },
   {
    "duration": 14,
    "start_time": "2023-03-31T09:17:12.120Z"
   },
   {
    "duration": 9,
    "start_time": "2023-03-31T09:17:22.424Z"
   },
   {
    "duration": 9,
    "start_time": "2023-03-31T09:17:30.584Z"
   },
   {
    "duration": 4,
    "start_time": "2023-03-31T09:17:44.860Z"
   },
   {
    "duration": 9,
    "start_time": "2023-03-31T09:19:09.223Z"
   },
   {
    "duration": 8,
    "start_time": "2023-03-31T09:22:25.580Z"
   },
   {
    "duration": 8,
    "start_time": "2023-03-31T09:22:50.404Z"
   },
   {
    "duration": 1401,
    "start_time": "2023-03-31T09:23:02.732Z"
   },
   {
    "duration": 838,
    "start_time": "2023-03-31T09:23:04.135Z"
   },
   {
    "duration": 161,
    "start_time": "2023-03-31T09:23:04.975Z"
   },
   {
    "duration": 99,
    "start_time": "2023-03-31T09:23:05.138Z"
   },
   {
    "duration": 453,
    "start_time": "2023-03-31T09:23:05.238Z"
   },
   {
    "duration": 941,
    "start_time": "2023-03-31T09:23:05.693Z"
   },
   {
    "duration": 46,
    "start_time": "2023-03-31T09:23:06.636Z"
   },
   {
    "duration": 12,
    "start_time": "2023-03-31T09:23:06.684Z"
   },
   {
    "duration": 49,
    "start_time": "2023-03-31T09:23:06.698Z"
   },
   {
    "duration": 2,
    "start_time": "2023-03-31T09:23:06.749Z"
   },
   {
    "duration": 13,
    "start_time": "2023-03-31T09:23:06.753Z"
   },
   {
    "duration": 32,
    "start_time": "2023-03-31T09:23:06.768Z"
   },
   {
    "duration": 8,
    "start_time": "2023-03-31T09:23:06.802Z"
   },
   {
    "duration": 56,
    "start_time": "2023-03-31T09:23:06.811Z"
   },
   {
    "duration": 86,
    "start_time": "2023-03-31T09:23:06.869Z"
   },
   {
    "duration": 70,
    "start_time": "2023-03-31T09:23:07.010Z"
   },
   {
    "duration": 30,
    "start_time": "2023-03-31T09:23:07.410Z"
   },
   {
    "duration": 18,
    "start_time": "2023-03-31T09:23:07.698Z"
   },
   {
    "duration": 31,
    "start_time": "2023-03-31T09:23:08.058Z"
   },
   {
    "duration": 19,
    "start_time": "2023-03-31T09:23:08.290Z"
   },
   {
    "duration": 62,
    "start_time": "2023-03-31T09:23:08.474Z"
   },
   {
    "duration": 37,
    "start_time": "2023-03-31T09:23:08.658Z"
   },
   {
    "duration": 16,
    "start_time": "2023-03-31T09:23:08.842Z"
   },
   {
    "duration": 39,
    "start_time": "2023-03-31T09:23:09.026Z"
   },
   {
    "duration": 29,
    "start_time": "2023-03-31T09:23:09.490Z"
   },
   {
    "duration": 16,
    "start_time": "2023-03-31T09:23:09.978Z"
   },
   {
    "duration": 28,
    "start_time": "2023-03-31T09:23:10.218Z"
   },
   {
    "duration": 16,
    "start_time": "2023-03-31T09:23:10.410Z"
   },
   {
    "duration": 53,
    "start_time": "2023-03-31T09:23:10.738Z"
   },
   {
    "duration": 89,
    "start_time": "2023-03-31T09:23:10.986Z"
   },
   {
    "duration": 6,
    "start_time": "2023-03-31T09:23:11.641Z"
   },
   {
    "duration": 2,
    "start_time": "2023-03-31T09:23:12.497Z"
   },
   {
    "duration": 20,
    "start_time": "2023-03-31T09:23:12.785Z"
   },
   {
    "duration": 9,
    "start_time": "2023-03-31T09:23:13.025Z"
   },
   {
    "duration": 20,
    "start_time": "2023-03-31T09:23:13.362Z"
   },
   {
    "duration": 1809,
    "start_time": "2023-03-31T09:23:16.585Z"
   },
   {
    "duration": 9,
    "start_time": "2023-03-31T09:23:18.396Z"
   },
   {
    "duration": 37,
    "start_time": "2023-03-31T09:23:18.406Z"
   },
   {
    "duration": 36,
    "start_time": "2023-03-31T09:23:18.445Z"
   },
   {
    "duration": 47,
    "start_time": "2023-03-31T09:23:18.642Z"
   },
   {
    "duration": 15,
    "start_time": "2023-03-31T09:23:21.241Z"
   },
   {
    "duration": 87,
    "start_time": "2023-03-31T09:23:50.233Z"
   },
   {
    "duration": 6,
    "start_time": "2023-03-31T09:24:29.417Z"
   },
   {
    "duration": 97,
    "start_time": "2023-03-31T09:24:30.697Z"
   },
   {
    "duration": 6,
    "start_time": "2023-03-31T09:24:45.105Z"
   },
   {
    "duration": 3517,
    "start_time": "2023-03-31T09:25:01.865Z"
   },
   {
    "duration": 0,
    "start_time": "2023-03-31T09:25:05.383Z"
   },
   {
    "duration": 800,
    "start_time": "2023-03-31T09:25:17.537Z"
   },
   {
    "duration": 1488,
    "start_time": "2023-03-31T09:25:29.289Z"
   },
   {
    "duration": 790,
    "start_time": "2023-03-31T09:25:30.779Z"
   },
   {
    "duration": 156,
    "start_time": "2023-03-31T09:25:31.571Z"
   },
   {
    "duration": 89,
    "start_time": "2023-03-31T09:25:31.729Z"
   },
   {
    "duration": 459,
    "start_time": "2023-03-31T09:25:31.819Z"
   },
   {
    "duration": 956,
    "start_time": "2023-03-31T09:25:32.280Z"
   },
   {
    "duration": 45,
    "start_time": "2023-03-31T09:25:33.238Z"
   },
   {
    "duration": 14,
    "start_time": "2023-03-31T09:25:33.285Z"
   },
   {
    "duration": 45,
    "start_time": "2023-03-31T09:25:33.301Z"
   },
   {
    "duration": 2,
    "start_time": "2023-03-31T09:25:33.349Z"
   },
   {
    "duration": 21,
    "start_time": "2023-03-31T09:25:33.353Z"
   },
   {
    "duration": 35,
    "start_time": "2023-03-31T09:25:33.375Z"
   },
   {
    "duration": 9,
    "start_time": "2023-03-31T09:25:33.411Z"
   },
   {
    "duration": 47,
    "start_time": "2023-03-31T09:25:33.422Z"
   },
   {
    "duration": 77,
    "start_time": "2023-03-31T09:25:33.471Z"
   },
   {
    "duration": 64,
    "start_time": "2023-03-31T09:25:33.549Z"
   },
   {
    "duration": 38,
    "start_time": "2023-03-31T09:25:33.614Z"
   },
   {
    "duration": 17,
    "start_time": "2023-03-31T09:25:33.654Z"
   },
   {
    "duration": 37,
    "start_time": "2023-03-31T09:25:33.673Z"
   },
   {
    "duration": 33,
    "start_time": "2023-03-31T09:25:33.712Z"
   },
   {
    "duration": 77,
    "start_time": "2023-03-31T09:25:33.747Z"
   },
   {
    "duration": 39,
    "start_time": "2023-03-31T09:25:33.825Z"
   },
   {
    "duration": 22,
    "start_time": "2023-03-31T09:25:33.865Z"
   },
   {
    "duration": 49,
    "start_time": "2023-03-31T09:25:33.889Z"
   },
   {
    "duration": 32,
    "start_time": "2023-03-31T09:25:33.940Z"
   },
   {
    "duration": 18,
    "start_time": "2023-03-31T09:25:33.973Z"
   },
   {
    "duration": 45,
    "start_time": "2023-03-31T09:25:33.992Z"
   },
   {
    "duration": 18,
    "start_time": "2023-03-31T09:25:34.042Z"
   },
   {
    "duration": 77,
    "start_time": "2023-03-31T09:25:34.062Z"
   },
   {
    "duration": 99,
    "start_time": "2023-03-31T09:25:34.141Z"
   },
   {
    "duration": 7,
    "start_time": "2023-03-31T09:25:34.241Z"
   },
   {
    "duration": 12,
    "start_time": "2023-03-31T09:25:34.249Z"
   },
   {
    "duration": 28,
    "start_time": "2023-03-31T09:25:34.263Z"
   },
   {
    "duration": 8,
    "start_time": "2023-03-31T09:25:34.293Z"
   },
   {
    "duration": 41,
    "start_time": "2023-03-31T09:25:34.302Z"
   },
   {
    "duration": 2069,
    "start_time": "2023-03-31T09:25:34.344Z"
   },
   {
    "duration": 9,
    "start_time": "2023-03-31T09:25:36.415Z"
   },
   {
    "duration": 8,
    "start_time": "2023-03-31T09:25:36.434Z"
   },
   {
    "duration": 32,
    "start_time": "2023-03-31T09:25:36.444Z"
   },
   {
    "duration": 56,
    "start_time": "2023-03-31T09:25:36.478Z"
   },
   {
    "duration": 8,
    "start_time": "2023-03-31T09:25:36.536Z"
   },
   {
    "duration": 135,
    "start_time": "2023-03-31T09:25:36.545Z"
   },
   {
    "duration": 0,
    "start_time": "2023-03-31T09:25:36.683Z"
   },
   {
    "duration": 0,
    "start_time": "2023-03-31T09:25:36.684Z"
   },
   {
    "duration": 0,
    "start_time": "2023-03-31T09:25:36.685Z"
   },
   {
    "duration": 0,
    "start_time": "2023-03-31T09:25:36.687Z"
   },
   {
    "duration": 0,
    "start_time": "2023-03-31T09:25:36.689Z"
   },
   {
    "duration": 0,
    "start_time": "2023-03-31T09:25:36.690Z"
   },
   {
    "duration": 0,
    "start_time": "2023-03-31T09:25:36.692Z"
   },
   {
    "duration": 0,
    "start_time": "2023-03-31T09:25:36.693Z"
   },
   {
    "duration": 0,
    "start_time": "2023-03-31T09:25:36.695Z"
   },
   {
    "duration": 0,
    "start_time": "2023-03-31T09:25:36.696Z"
   },
   {
    "duration": 0,
    "start_time": "2023-03-31T09:25:36.698Z"
   },
   {
    "duration": 0,
    "start_time": "2023-03-31T09:25:36.700Z"
   },
   {
    "duration": 0,
    "start_time": "2023-03-31T09:25:36.701Z"
   },
   {
    "duration": 0,
    "start_time": "2023-03-31T09:25:36.735Z"
   },
   {
    "duration": 0,
    "start_time": "2023-03-31T09:25:36.737Z"
   },
   {
    "duration": 1,
    "start_time": "2023-03-31T09:25:36.738Z"
   },
   {
    "duration": 0,
    "start_time": "2023-03-31T09:25:36.740Z"
   },
   {
    "duration": 1450,
    "start_time": "2023-03-31T09:26:10.914Z"
   },
   {
    "duration": 775,
    "start_time": "2023-03-31T09:26:12.367Z"
   },
   {
    "duration": 171,
    "start_time": "2023-03-31T09:26:13.144Z"
   },
   {
    "duration": 131,
    "start_time": "2023-03-31T09:26:13.317Z"
   },
   {
    "duration": 445,
    "start_time": "2023-03-31T09:26:13.450Z"
   },
   {
    "duration": 979,
    "start_time": "2023-03-31T09:26:13.897Z"
   },
   {
    "duration": 56,
    "start_time": "2023-03-31T09:26:14.878Z"
   },
   {
    "duration": 14,
    "start_time": "2023-03-31T09:26:14.936Z"
   },
   {
    "duration": 38,
    "start_time": "2023-03-31T09:26:14.951Z"
   },
   {
    "duration": 3,
    "start_time": "2023-03-31T09:26:14.993Z"
   },
   {
    "duration": 63,
    "start_time": "2023-03-31T09:26:14.997Z"
   },
   {
    "duration": 44,
    "start_time": "2023-03-31T09:26:15.061Z"
   },
   {
    "duration": 9,
    "start_time": "2023-03-31T09:26:15.106Z"
   },
   {
    "duration": 39,
    "start_time": "2023-03-31T09:26:15.117Z"
   },
   {
    "duration": 77,
    "start_time": "2023-03-31T09:26:15.158Z"
   },
   {
    "duration": 76,
    "start_time": "2023-03-31T09:26:15.237Z"
   },
   {
    "duration": 42,
    "start_time": "2023-03-31T09:26:15.316Z"
   },
   {
    "duration": 27,
    "start_time": "2023-03-31T09:26:15.360Z"
   },
   {
    "duration": 55,
    "start_time": "2023-03-31T09:26:15.389Z"
   },
   {
    "duration": 29,
    "start_time": "2023-03-31T09:26:15.446Z"
   },
   {
    "duration": 104,
    "start_time": "2023-03-31T09:26:15.476Z"
   },
   {
    "duration": 31,
    "start_time": "2023-03-31T09:26:15.582Z"
   },
   {
    "duration": 35,
    "start_time": "2023-03-31T09:26:15.614Z"
   },
   {
    "duration": 48,
    "start_time": "2023-03-31T09:26:15.651Z"
   },
   {
    "duration": 35,
    "start_time": "2023-03-31T09:26:15.701Z"
   },
   {
    "duration": 17,
    "start_time": "2023-03-31T09:26:15.738Z"
   },
   {
    "duration": 32,
    "start_time": "2023-03-31T09:26:15.756Z"
   },
   {
    "duration": 16,
    "start_time": "2023-03-31T09:26:15.791Z"
   },
   {
    "duration": 71,
    "start_time": "2023-03-31T09:26:15.808Z"
   },
   {
    "duration": 72,
    "start_time": "2023-03-31T09:26:15.880Z"
   },
   {
    "duration": 5,
    "start_time": "2023-03-31T09:26:15.954Z"
   },
   {
    "duration": 12,
    "start_time": "2023-03-31T09:26:15.960Z"
   },
   {
    "duration": 23,
    "start_time": "2023-03-31T09:26:15.973Z"
   },
   {
    "duration": 8,
    "start_time": "2023-03-31T09:26:15.998Z"
   },
   {
    "duration": 41,
    "start_time": "2023-03-31T09:26:16.007Z"
   },
   {
    "duration": 1785,
    "start_time": "2023-03-31T09:26:16.049Z"
   },
   {
    "duration": 10,
    "start_time": "2023-03-31T09:26:17.835Z"
   },
   {
    "duration": 7,
    "start_time": "2023-03-31T09:26:17.846Z"
   },
   {
    "duration": 21,
    "start_time": "2023-03-31T09:26:17.854Z"
   },
   {
    "duration": 63,
    "start_time": "2023-03-31T09:26:17.877Z"
   },
   {
    "duration": 5,
    "start_time": "2023-03-31T09:26:17.942Z"
   },
   {
    "duration": 90,
    "start_time": "2023-03-31T09:26:17.948Z"
   },
   {
    "duration": 639,
    "start_time": "2023-03-31T09:26:18.039Z"
   },
   {
    "duration": 476,
    "start_time": "2023-03-31T09:26:18.679Z"
   },
   {
    "duration": 194,
    "start_time": "2023-03-31T09:26:19.157Z"
   },
   {
    "duration": 1465,
    "start_time": "2023-03-31T09:27:31.025Z"
   },
   {
    "duration": 933,
    "start_time": "2023-03-31T09:27:32.492Z"
   },
   {
    "duration": 166,
    "start_time": "2023-03-31T09:27:33.427Z"
   },
   {
    "duration": 104,
    "start_time": "2023-03-31T09:27:33.596Z"
   },
   {
    "duration": 474,
    "start_time": "2023-03-31T09:27:33.703Z"
   },
   {
    "duration": 1015,
    "start_time": "2023-03-31T09:27:34.179Z"
   },
   {
    "duration": 55,
    "start_time": "2023-03-31T09:27:35.196Z"
   },
   {
    "duration": 11,
    "start_time": "2023-03-31T09:27:35.253Z"
   },
   {
    "duration": 41,
    "start_time": "2023-03-31T09:27:35.267Z"
   },
   {
    "duration": 4,
    "start_time": "2023-03-31T09:27:35.311Z"
   },
   {
    "duration": 31,
    "start_time": "2023-03-31T09:27:35.316Z"
   },
   {
    "duration": 36,
    "start_time": "2023-03-31T09:27:35.349Z"
   },
   {
    "duration": 10,
    "start_time": "2023-03-31T09:27:35.387Z"
   },
   {
    "duration": 55,
    "start_time": "2023-03-31T09:27:35.398Z"
   },
   {
    "duration": 84,
    "start_time": "2023-03-31T09:27:35.455Z"
   },
   {
    "duration": 61,
    "start_time": "2023-03-31T09:27:35.541Z"
   },
   {
    "duration": 42,
    "start_time": "2023-03-31T09:27:35.604Z"
   },
   {
    "duration": 28,
    "start_time": "2023-03-31T09:27:35.647Z"
   },
   {
    "duration": 39,
    "start_time": "2023-03-31T09:27:35.677Z"
   },
   {
    "duration": 31,
    "start_time": "2023-03-31T09:27:35.717Z"
   },
   {
    "duration": 76,
    "start_time": "2023-03-31T09:27:35.749Z"
   },
   {
    "duration": 29,
    "start_time": "2023-03-31T09:27:35.827Z"
   },
   {
    "duration": 19,
    "start_time": "2023-03-31T09:27:35.858Z"
   },
   {
    "duration": 31,
    "start_time": "2023-03-31T09:27:35.878Z"
   },
   {
    "duration": 36,
    "start_time": "2023-03-31T09:27:35.911Z"
   },
   {
    "duration": 16,
    "start_time": "2023-03-31T09:27:35.949Z"
   },
   {
    "duration": 43,
    "start_time": "2023-03-31T09:27:35.966Z"
   },
   {
    "duration": 29,
    "start_time": "2023-03-31T09:27:36.012Z"
   },
   {
    "duration": 55,
    "start_time": "2023-03-31T09:27:36.042Z"
   },
   {
    "duration": 73,
    "start_time": "2023-03-31T09:27:36.099Z"
   },
   {
    "duration": 6,
    "start_time": "2023-03-31T09:27:36.173Z"
   },
   {
    "duration": 3,
    "start_time": "2023-03-31T09:27:36.180Z"
   },
   {
    "duration": 29,
    "start_time": "2023-03-31T09:27:36.184Z"
   },
   {
    "duration": 21,
    "start_time": "2023-03-31T09:27:36.214Z"
   },
   {
    "duration": 21,
    "start_time": "2023-03-31T09:27:36.236Z"
   },
   {
    "duration": 1990,
    "start_time": "2023-03-31T09:27:36.259Z"
   },
   {
    "duration": 9,
    "start_time": "2023-03-31T09:27:38.250Z"
   },
   {
    "duration": 19,
    "start_time": "2023-03-31T09:27:38.261Z"
   },
   {
    "duration": 34,
    "start_time": "2023-03-31T09:27:38.281Z"
   },
   {
    "duration": 43,
    "start_time": "2023-03-31T09:27:38.317Z"
   },
   {
    "duration": 9,
    "start_time": "2023-03-31T09:27:38.362Z"
   },
   {
    "duration": 85,
    "start_time": "2023-03-31T09:27:38.372Z"
   },
   {
    "duration": 679,
    "start_time": "2023-03-31T09:27:38.459Z"
   },
   {
    "duration": 477,
    "start_time": "2023-03-31T09:27:39.140Z"
   },
   {
    "duration": 196,
    "start_time": "2023-03-31T09:27:39.618Z"
   },
   {
    "duration": 1366,
    "start_time": "2023-03-31T09:28:02.973Z"
   },
   {
    "duration": 840,
    "start_time": "2023-03-31T09:28:04.340Z"
   },
   {
    "duration": 190,
    "start_time": "2023-03-31T09:28:05.182Z"
   },
   {
    "duration": 111,
    "start_time": "2023-03-31T09:28:05.375Z"
   },
   {
    "duration": 477,
    "start_time": "2023-03-31T09:28:06.317Z"
   },
   {
    "duration": 982,
    "start_time": "2023-03-31T09:28:06.796Z"
   },
   {
    "duration": 55,
    "start_time": "2023-03-31T09:28:07.780Z"
   },
   {
    "duration": 11,
    "start_time": "2023-03-31T09:28:07.837Z"
   },
   {
    "duration": 43,
    "start_time": "2023-03-31T09:28:07.850Z"
   },
   {
    "duration": 2,
    "start_time": "2023-03-31T09:28:07.895Z"
   },
   {
    "duration": 10,
    "start_time": "2023-03-31T09:28:07.968Z"
   },
   {
    "duration": 36,
    "start_time": "2023-03-31T09:28:08.525Z"
   },
   {
    "duration": 9,
    "start_time": "2023-03-31T09:28:08.781Z"
   },
   {
    "duration": 47,
    "start_time": "2023-03-31T09:28:09.293Z"
   },
   {
    "duration": 73,
    "start_time": "2023-03-31T09:28:09.597Z"
   },
   {
    "duration": 65,
    "start_time": "2023-03-31T09:28:09.845Z"
   },
   {
    "duration": 31,
    "start_time": "2023-03-31T09:28:10.589Z"
   },
   {
    "duration": 15,
    "start_time": "2023-03-31T09:28:10.917Z"
   },
   {
    "duration": 34,
    "start_time": "2023-03-31T09:28:11.381Z"
   },
   {
    "duration": 23,
    "start_time": "2023-03-31T09:28:11.645Z"
   },
   {
    "duration": 71,
    "start_time": "2023-03-31T09:28:11.893Z"
   },
   {
    "duration": 34,
    "start_time": "2023-03-31T09:28:12.217Z"
   },
   {
    "duration": 17,
    "start_time": "2023-03-31T09:28:12.589Z"
   },
   {
    "duration": 32,
    "start_time": "2023-03-31T09:28:12.870Z"
   },
   {
    "duration": 33,
    "start_time": "2023-03-31T09:28:13.175Z"
   },
   {
    "duration": 16,
    "start_time": "2023-03-31T09:28:13.597Z"
   },
   {
    "duration": 28,
    "start_time": "2023-03-31T09:28:13.870Z"
   },
   {
    "duration": 17,
    "start_time": "2023-03-31T09:28:14.124Z"
   },
   {
    "duration": 56,
    "start_time": "2023-03-31T09:28:14.444Z"
   },
   {
    "duration": 86,
    "start_time": "2023-03-31T09:28:14.788Z"
   },
   {
    "duration": 6,
    "start_time": "2023-03-31T09:28:15.719Z"
   },
   {
    "duration": 3,
    "start_time": "2023-03-31T09:28:16.557Z"
   },
   {
    "duration": 19,
    "start_time": "2023-03-31T09:28:16.845Z"
   },
   {
    "duration": 8,
    "start_time": "2023-03-31T09:28:17.101Z"
   },
   {
    "duration": 22,
    "start_time": "2023-03-31T09:28:17.380Z"
   },
   {
    "duration": 1789,
    "start_time": "2023-03-31T09:28:18.815Z"
   },
   {
    "duration": 9,
    "start_time": "2023-03-31T09:28:20.606Z"
   },
   {
    "duration": 8,
    "start_time": "2023-03-31T09:28:21.819Z"
   },
   {
    "duration": 21,
    "start_time": "2023-03-31T09:28:22.692Z"
   },
   {
    "duration": 41,
    "start_time": "2023-03-31T09:28:23.903Z"
   },
   {
    "duration": 10,
    "start_time": "2023-03-31T09:28:25.077Z"
   },
   {
    "duration": 73,
    "start_time": "2023-03-31T09:28:25.988Z"
   },
   {
    "duration": 72,
    "start_time": "2023-03-31T09:29:23.516Z"
   },
   {
    "duration": 69,
    "start_time": "2023-03-31T09:29:24.500Z"
   },
   {
    "duration": 18,
    "start_time": "2023-03-31T09:29:36.500Z"
   },
   {
    "duration": 62,
    "start_time": "2023-03-31T09:29:44.144Z"
   },
   {
    "duration": 3,
    "start_time": "2023-03-31T09:29:44.972Z"
   },
   {
    "duration": 112,
    "start_time": "2023-03-31T09:29:46.048Z"
   },
   {
    "duration": 15,
    "start_time": "2023-03-31T09:30:25.155Z"
   },
   {
    "duration": 7,
    "start_time": "2023-03-31T09:32:10.138Z"
   },
   {
    "duration": 13,
    "start_time": "2023-03-31T09:32:29.196Z"
   },
   {
    "duration": 123,
    "start_time": "2023-03-31T09:42:46.721Z"
   },
   {
    "duration": 120,
    "start_time": "2023-03-31T09:43:02.124Z"
   },
   {
    "duration": 115,
    "start_time": "2023-03-31T09:43:22.271Z"
   },
   {
    "duration": 95,
    "start_time": "2023-03-31T09:43:31.127Z"
   },
   {
    "duration": 95,
    "start_time": "2023-03-31T09:43:39.009Z"
   },
   {
    "duration": 3622,
    "start_time": "2023-03-31T09:43:44.951Z"
   },
   {
    "duration": 4803,
    "start_time": "2023-03-31T09:44:31.383Z"
   },
   {
    "duration": 4,
    "start_time": "2023-03-31T09:49:30.049Z"
   },
   {
    "duration": 4815,
    "start_time": "2023-03-31T09:49:34.758Z"
   },
   {
    "duration": 1601,
    "start_time": "2023-03-31T09:57:54.530Z"
   },
   {
    "duration": 4310,
    "start_time": "2023-03-31T09:58:05.992Z"
   },
   {
    "duration": 1456,
    "start_time": "2023-03-31T09:58:52.375Z"
   },
   {
    "duration": 443236,
    "start_time": "2023-03-31T09:58:56.915Z"
   },
   {
    "duration": 1404,
    "start_time": "2023-03-31T10:06:20.153Z"
   },
   {
    "duration": 147602,
    "start_time": "2023-03-31T10:07:06.917Z"
   },
   {
    "duration": 1551,
    "start_time": "2023-03-31T10:59:35.977Z"
   },
   {
    "duration": 880,
    "start_time": "2023-03-31T10:59:37.530Z"
   },
   {
    "duration": 170,
    "start_time": "2023-03-31T10:59:38.413Z"
   },
   {
    "duration": 92,
    "start_time": "2023-03-31T10:59:38.585Z"
   },
   {
    "duration": 467,
    "start_time": "2023-03-31T10:59:38.680Z"
   },
   {
    "duration": 970,
    "start_time": "2023-03-31T10:59:39.152Z"
   },
   {
    "duration": 53,
    "start_time": "2023-03-31T10:59:40.125Z"
   },
   {
    "duration": 11,
    "start_time": "2023-03-31T10:59:40.180Z"
   },
   {
    "duration": 53,
    "start_time": "2023-03-31T10:59:40.193Z"
   },
   {
    "duration": 3,
    "start_time": "2023-03-31T10:59:40.248Z"
   },
   {
    "duration": 26,
    "start_time": "2023-03-31T10:59:40.254Z"
   },
   {
    "duration": 34,
    "start_time": "2023-03-31T10:59:40.283Z"
   },
   {
    "duration": 14,
    "start_time": "2023-03-31T10:59:40.338Z"
   },
   {
    "duration": 40,
    "start_time": "2023-03-31T10:59:40.354Z"
   },
   {
    "duration": 90,
    "start_time": "2023-03-31T10:59:40.396Z"
   },
   {
    "duration": 84,
    "start_time": "2023-03-31T10:59:40.487Z"
   },
   {
    "duration": 29,
    "start_time": "2023-03-31T10:59:40.572Z"
   },
   {
    "duration": 46,
    "start_time": "2023-03-31T10:59:40.603Z"
   },
   {
    "duration": 32,
    "start_time": "2023-03-31T10:59:40.651Z"
   },
   {
    "duration": 15,
    "start_time": "2023-03-31T10:59:40.685Z"
   },
   {
    "duration": 85,
    "start_time": "2023-03-31T10:59:40.702Z"
   },
   {
    "duration": 62,
    "start_time": "2023-03-31T10:59:40.789Z"
   },
   {
    "duration": 23,
    "start_time": "2023-03-31T10:59:40.951Z"
   },
   {
    "duration": 39,
    "start_time": "2023-03-31T10:59:41.124Z"
   },
   {
    "duration": 39,
    "start_time": "2023-03-31T10:59:42.677Z"
   },
   {
    "duration": 16,
    "start_time": "2023-03-31T10:59:42.860Z"
   },
   {
    "duration": 28,
    "start_time": "2023-03-31T10:59:43.052Z"
   },
   {
    "duration": 20,
    "start_time": "2023-03-31T10:59:43.220Z"
   },
   {
    "duration": 61,
    "start_time": "2023-03-31T10:59:43.388Z"
   },
   {
    "duration": 73,
    "start_time": "2023-03-31T10:59:43.564Z"
   },
   {
    "duration": 7,
    "start_time": "2023-03-31T10:59:44.452Z"
   },
   {
    "duration": 3,
    "start_time": "2023-03-31T10:59:45.279Z"
   },
   {
    "duration": 24,
    "start_time": "2023-03-31T10:59:45.532Z"
   },
   {
    "duration": 9,
    "start_time": "2023-03-31T10:59:45.724Z"
   },
   {
    "duration": 21,
    "start_time": "2023-03-31T10:59:45.949Z"
   },
   {
    "duration": 1870,
    "start_time": "2023-03-31T10:59:47.549Z"
   },
   {
    "duration": 25,
    "start_time": "2023-03-31T10:59:49.421Z"
   },
   {
    "duration": 7,
    "start_time": "2023-03-31T10:59:49.451Z"
   },
   {
    "duration": 23,
    "start_time": "2023-03-31T10:59:49.459Z"
   },
   {
    "duration": 39,
    "start_time": "2023-03-31T10:59:49.484Z"
   },
   {
    "duration": 67,
    "start_time": "2023-03-31T10:59:49.524Z"
   },
   {
    "duration": 58,
    "start_time": "2023-03-31T10:59:49.684Z"
   },
   {
    "duration": 2,
    "start_time": "2023-03-31T10:59:50.804Z"
   },
   {
    "duration": 191,
    "start_time": "2023-03-31T11:00:01.204Z"
   },
   {
    "duration": 1564,
    "start_time": "2023-03-31T11:00:07.484Z"
   },
   {
    "duration": 1912,
    "start_time": "2023-03-31T14:33:33.486Z"
   },
   {
    "duration": 4143,
    "start_time": "2023-03-31T14:33:35.401Z"
   },
   {
    "duration": 145,
    "start_time": "2023-03-31T14:33:39.546Z"
   },
   {
    "duration": 116,
    "start_time": "2023-03-31T14:33:39.694Z"
   },
   {
    "duration": 579,
    "start_time": "2023-03-31T14:33:39.813Z"
   },
   {
    "duration": 1145,
    "start_time": "2023-03-31T14:33:40.394Z"
   },
   {
    "duration": 47,
    "start_time": "2023-03-31T14:33:41.541Z"
   },
   {
    "duration": 12,
    "start_time": "2023-03-31T14:33:41.589Z"
   },
   {
    "duration": 52,
    "start_time": "2023-03-31T14:33:41.603Z"
   },
   {
    "duration": 4,
    "start_time": "2023-03-31T14:33:41.657Z"
   },
   {
    "duration": 12,
    "start_time": "2023-03-31T14:33:43.605Z"
   },
   {
    "duration": 48,
    "start_time": "2023-03-31T14:33:46.725Z"
   },
   {
    "duration": 10,
    "start_time": "2023-03-31T14:33:47.595Z"
   },
   {
    "duration": 52,
    "start_time": "2023-03-31T14:33:49.430Z"
   },
   {
    "duration": 90,
    "start_time": "2023-03-31T14:33:50.014Z"
   },
   {
    "duration": 1668,
    "start_time": "2023-03-31T14:34:03.302Z"
   },
   {
    "duration": 954,
    "start_time": "2023-03-31T14:34:04.973Z"
   },
   {
    "duration": 220,
    "start_time": "2023-03-31T14:34:05.928Z"
   },
   {
    "duration": 129,
    "start_time": "2023-03-31T14:34:06.151Z"
   },
   {
    "duration": 583,
    "start_time": "2023-03-31T14:34:06.283Z"
   },
   {
    "duration": 1138,
    "start_time": "2023-03-31T14:34:06.869Z"
   },
   {
    "duration": 60,
    "start_time": "2023-03-31T14:34:08.009Z"
   },
   {
    "duration": 13,
    "start_time": "2023-03-31T14:34:08.071Z"
   },
   {
    "duration": 55,
    "start_time": "2023-03-31T14:34:08.086Z"
   },
   {
    "duration": 5,
    "start_time": "2023-03-31T14:34:08.144Z"
   },
   {
    "duration": 27,
    "start_time": "2023-03-31T14:34:08.151Z"
   },
   {
    "duration": 61,
    "start_time": "2023-03-31T14:34:08.180Z"
   },
   {
    "duration": 10,
    "start_time": "2023-03-31T14:34:08.244Z"
   },
   {
    "duration": 53,
    "start_time": "2023-03-31T14:34:08.256Z"
   },
   {
    "duration": 93,
    "start_time": "2023-03-31T14:34:08.311Z"
   },
   {
    "duration": 66,
    "start_time": "2023-03-31T14:34:08.492Z"
   },
   {
    "duration": 31,
    "start_time": "2023-03-31T14:34:08.865Z"
   },
   {
    "duration": 16,
    "start_time": "2023-03-31T14:34:09.206Z"
   },
   {
    "duration": 28,
    "start_time": "2023-03-31T14:34:09.478Z"
   },
   {
    "duration": 17,
    "start_time": "2023-03-31T14:34:09.743Z"
   },
   {
    "duration": 68,
    "start_time": "2023-03-31T14:34:10.134Z"
   },
   {
    "duration": 33,
    "start_time": "2023-03-31T14:34:10.345Z"
   },
   {
    "duration": 16,
    "start_time": "2023-03-31T14:34:10.514Z"
   },
   {
    "duration": 33,
    "start_time": "2023-03-31T14:34:10.724Z"
   },
   {
    "duration": 31,
    "start_time": "2023-03-31T14:34:10.944Z"
   },
   {
    "duration": 22,
    "start_time": "2023-03-31T14:34:11.235Z"
   },
   {
    "duration": 29,
    "start_time": "2023-03-31T14:34:11.486Z"
   },
   {
    "duration": 19,
    "start_time": "2023-03-31T14:34:11.682Z"
   },
   {
    "duration": 56,
    "start_time": "2023-03-31T14:34:11.870Z"
   },
   {
    "duration": 67,
    "start_time": "2023-03-31T14:34:12.149Z"
   },
   {
    "duration": 8,
    "start_time": "2023-03-31T14:34:13.396Z"
   },
   {
    "duration": 2,
    "start_time": "2023-03-31T14:34:14.420Z"
   },
   {
    "duration": 24,
    "start_time": "2023-03-31T14:34:14.703Z"
   },
   {
    "duration": 9,
    "start_time": "2023-03-31T14:34:14.944Z"
   },
   {
    "duration": 28,
    "start_time": "2023-03-31T14:34:15.432Z"
   },
   {
    "duration": 2582,
    "start_time": "2023-03-31T14:34:18.707Z"
   },
   {
    "duration": 12,
    "start_time": "2023-03-31T14:34:21.291Z"
   },
   {
    "duration": 10,
    "start_time": "2023-03-31T14:34:21.306Z"
   },
   {
    "duration": 34,
    "start_time": "2023-03-31T14:34:21.342Z"
   },
   {
    "duration": 77,
    "start_time": "2023-03-31T14:34:21.379Z"
   },
   {
    "duration": 85,
    "start_time": "2023-03-31T14:34:21.459Z"
   },
   {
    "duration": 87,
    "start_time": "2023-03-31T14:34:22.215Z"
   },
   {
    "duration": 3,
    "start_time": "2023-03-31T14:34:23.209Z"
   },
   {
    "duration": 5,
    "start_time": "2023-03-31T14:35:24.752Z"
   },
   {
    "duration": 26,
    "start_time": "2023-03-31T14:40:26.975Z"
   },
   {
    "duration": 6,
    "start_time": "2023-03-31T14:40:49.383Z"
   },
   {
    "duration": 247,
    "start_time": "2023-03-31T14:41:46.991Z"
   },
   {
    "duration": 95,
    "start_time": "2023-03-31T14:42:19.659Z"
   },
   {
    "duration": 12,
    "start_time": "2023-03-31T14:45:32.615Z"
   },
   {
    "duration": 8,
    "start_time": "2023-03-31T14:47:55.794Z"
   },
   {
    "duration": 269,
    "start_time": "2023-03-31T14:47:56.697Z"
   },
   {
    "duration": 132,
    "start_time": "2023-03-31T14:50:07.002Z"
   },
   {
    "duration": 1963,
    "start_time": "2023-03-31T14:50:07.793Z"
   },
   {
    "duration": 1432,
    "start_time": "2023-03-31T14:51:00.354Z"
   },
   {
    "duration": 119864,
    "start_time": "2023-03-31T15:01:04.311Z"
   },
   {
    "duration": 3659,
    "start_time": "2023-03-31T15:04:52.207Z"
   },
   {
    "duration": 6,
    "start_time": "2023-03-31T15:09:17.178Z"
   },
   {
    "duration": 6,
    "start_time": "2023-03-31T15:09:24.160Z"
   },
   {
    "duration": 126275,
    "start_time": "2023-03-31T15:09:39.858Z"
   },
   {
    "duration": 3603,
    "start_time": "2023-03-31T15:13:25.964Z"
   },
   {
    "duration": 532,
    "start_time": "2023-03-31T15:15:16.835Z"
   },
   {
    "duration": 570,
    "start_time": "2023-03-31T15:16:03.590Z"
   },
   {
    "duration": 590,
    "start_time": "2023-03-31T15:16:14.108Z"
   },
   {
    "duration": 697,
    "start_time": "2023-03-31T15:16:38.942Z"
   },
   {
    "duration": 526,
    "start_time": "2023-03-31T15:17:13.403Z"
   },
   {
    "duration": 78,
    "start_time": "2023-03-31T15:19:09.257Z"
   },
   {
    "duration": 4,
    "start_time": "2023-03-31T15:19:12.836Z"
   },
   {
    "duration": 7,
    "start_time": "2023-03-31T15:19:13.159Z"
   },
   {
    "duration": 4,
    "start_time": "2023-03-31T15:21:02.394Z"
   },
   {
    "duration": 5,
    "start_time": "2023-03-31T15:21:02.926Z"
   },
   {
    "duration": 576,
    "start_time": "2023-03-31T15:21:12.802Z"
   },
   {
    "duration": 4,
    "start_time": "2023-03-31T15:22:21.783Z"
   },
   {
    "duration": 5,
    "start_time": "2023-03-31T15:22:22.659Z"
   },
   {
    "duration": 568,
    "start_time": "2023-03-31T15:22:23.997Z"
   },
   {
    "duration": 4,
    "start_time": "2023-03-31T15:22:43.764Z"
   },
   {
    "duration": 4,
    "start_time": "2023-03-31T15:22:45.480Z"
   },
   {
    "duration": 527,
    "start_time": "2023-03-31T15:22:51.552Z"
   },
   {
    "duration": 77,
    "start_time": "2023-03-31T15:23:25.202Z"
   },
   {
    "duration": 49,
    "start_time": "2023-03-31T15:23:32.562Z"
   },
   {
    "duration": 4,
    "start_time": "2023-03-31T15:23:58.712Z"
   },
   {
    "duration": 51,
    "start_time": "2023-03-31T15:24:00.141Z"
   },
   {
    "duration": 66,
    "start_time": "2023-03-31T15:24:24.081Z"
   },
   {
    "duration": 5,
    "start_time": "2023-03-31T15:24:41.015Z"
   },
   {
    "duration": 645,
    "start_time": "2023-03-31T15:24:45.433Z"
   },
   {
    "duration": 62,
    "start_time": "2023-03-31T15:24:58.241Z"
   },
   {
    "duration": 35,
    "start_time": "2023-03-31T15:26:07.204Z"
   },
   {
    "duration": 3,
    "start_time": "2023-03-31T15:26:13.121Z"
   },
   {
    "duration": 30,
    "start_time": "2023-03-31T15:26:13.925Z"
   },
   {
    "duration": 62,
    "start_time": "2023-03-31T15:26:23.384Z"
   },
   {
    "duration": 459,
    "start_time": "2023-03-31T15:28:05.329Z"
   },
   {
    "duration": 60,
    "start_time": "2023-03-31T15:29:25.660Z"
   },
   {
    "duration": 177,
    "start_time": "2023-03-31T15:30:02.665Z"
   },
   {
    "duration": 74,
    "start_time": "2023-03-31T15:30:30.562Z"
   },
   {
    "duration": 267,
    "start_time": "2023-03-31T15:31:01.854Z"
   },
   {
    "duration": 1168,
    "start_time": "2023-03-31T15:31:29.328Z"
   },
   {
    "duration": 996,
    "start_time": "2023-03-31T15:31:45.028Z"
   },
   {
    "duration": 4,
    "start_time": "2023-03-31T15:40:54.671Z"
   },
   {
    "duration": 96,
    "start_time": "2023-03-31T15:41:01.757Z"
   },
   {
    "duration": 68,
    "start_time": "2023-03-31T15:46:42.327Z"
   },
   {
    "duration": 3,
    "start_time": "2023-03-31T15:46:45.448Z"
   },
   {
    "duration": 64,
    "start_time": "2023-03-31T15:46:46.451Z"
   },
   {
    "duration": 499433,
    "start_time": "2023-03-31T15:47:55.115Z"
   },
   {
    "duration": 4,
    "start_time": "2023-03-31T15:56:19.822Z"
   },
   {
    "duration": 545410,
    "start_time": "2023-03-31T15:56:24.194Z"
   },
   {
    "duration": 5886,
    "start_time": "2023-03-31T16:06:27.051Z"
   },
   {
    "duration": 2783,
    "start_time": "2023-03-31T16:07:09.895Z"
   },
   {
    "duration": 5602,
    "start_time": "2023-03-31T16:07:27.971Z"
   },
   {
    "duration": 26,
    "start_time": "2023-03-31T16:07:52.425Z"
   },
   {
    "duration": 6351,
    "start_time": "2023-03-31T16:08:52.333Z"
   },
   {
    "duration": 43016,
    "start_time": "2023-03-31T16:09:09.606Z"
   },
   {
    "duration": 13547,
    "start_time": "2023-03-31T16:09:53.582Z"
   },
   {
    "duration": 78,
    "start_time": "2023-03-31T16:10:39.655Z"
   },
   {
    "duration": 391194,
    "start_time": "2023-03-31T16:11:10.999Z"
   },
   {
    "duration": 1560,
    "start_time": "2023-03-31T16:23:10.605Z"
   },
   {
    "duration": 970,
    "start_time": "2023-03-31T16:23:12.167Z"
   },
   {
    "duration": 185,
    "start_time": "2023-03-31T16:23:13.142Z"
   },
   {
    "duration": 130,
    "start_time": "2023-03-31T16:23:13.329Z"
   },
   {
    "duration": 573,
    "start_time": "2023-03-31T16:23:13.461Z"
   },
   {
    "duration": 1121,
    "start_time": "2023-03-31T16:23:14.036Z"
   },
   {
    "duration": 50,
    "start_time": "2023-03-31T16:23:15.159Z"
   },
   {
    "duration": 17,
    "start_time": "2023-03-31T16:23:15.212Z"
   },
   {
    "duration": 36,
    "start_time": "2023-03-31T16:23:15.246Z"
   },
   {
    "duration": 3,
    "start_time": "2023-03-31T16:23:15.284Z"
   },
   {
    "duration": 35,
    "start_time": "2023-03-31T16:23:15.289Z"
   },
   {
    "duration": 39,
    "start_time": "2023-03-31T16:23:15.326Z"
   },
   {
    "duration": 9,
    "start_time": "2023-03-31T16:23:15.370Z"
   },
   {
    "duration": 56,
    "start_time": "2023-03-31T16:23:15.381Z"
   },
   {
    "duration": 71,
    "start_time": "2023-03-31T16:23:15.438Z"
   },
   {
    "duration": 78,
    "start_time": "2023-03-31T16:23:15.511Z"
   },
   {
    "duration": 27,
    "start_time": "2023-03-31T16:23:15.591Z"
   },
   {
    "duration": 48,
    "start_time": "2023-03-31T16:23:15.619Z"
   },
   {
    "duration": 68,
    "start_time": "2023-03-31T16:23:15.669Z"
   },
   {
    "duration": 36,
    "start_time": "2023-03-31T16:23:15.739Z"
   },
   {
    "duration": 94,
    "start_time": "2023-03-31T16:23:15.777Z"
   },
   {
    "duration": 31,
    "start_time": "2023-03-31T16:23:15.873Z"
   },
   {
    "duration": 55,
    "start_time": "2023-03-31T16:23:15.906Z"
   },
   {
    "duration": 46,
    "start_time": "2023-03-31T16:23:15.963Z"
   },
   {
    "duration": 51,
    "start_time": "2023-03-31T16:23:16.012Z"
   },
   {
    "duration": 17,
    "start_time": "2023-03-31T16:23:16.065Z"
   },
   {
    "duration": 48,
    "start_time": "2023-03-31T16:23:16.083Z"
   },
   {
    "duration": 41,
    "start_time": "2023-03-31T16:23:16.133Z"
   },
   {
    "duration": 82,
    "start_time": "2023-03-31T16:23:16.175Z"
   },
   {
    "duration": 61,
    "start_time": "2023-03-31T16:23:16.259Z"
   },
   {
    "duration": 48,
    "start_time": "2023-03-31T16:23:16.322Z"
   },
   {
    "duration": 41,
    "start_time": "2023-03-31T16:23:16.371Z"
   },
   {
    "duration": 71,
    "start_time": "2023-03-31T16:23:16.414Z"
   },
   {
    "duration": 79,
    "start_time": "2023-03-31T16:23:16.487Z"
   },
   {
    "duration": 47,
    "start_time": "2023-03-31T16:23:16.568Z"
   },
   {
    "duration": 2278,
    "start_time": "2023-03-31T16:23:16.618Z"
   },
   {
    "duration": 13,
    "start_time": "2023-03-31T16:23:18.898Z"
   },
   {
    "duration": 7,
    "start_time": "2023-03-31T16:23:18.913Z"
   },
   {
    "duration": 45,
    "start_time": "2023-03-31T16:23:18.922Z"
   },
   {
    "duration": 46,
    "start_time": "2023-03-31T16:23:18.971Z"
   },
   {
    "duration": 91,
    "start_time": "2023-03-31T16:23:19.019Z"
   },
   {
    "duration": 70,
    "start_time": "2023-03-31T16:23:19.112Z"
   },
   {
    "duration": 15,
    "start_time": "2023-03-31T16:23:19.184Z"
   },
   {
    "duration": 1010,
    "start_time": "2023-03-31T16:23:19.201Z"
   },
   {
    "duration": 543,
    "start_time": "2023-03-31T16:23:20.213Z"
   },
   {
    "duration": 259,
    "start_time": "2023-03-31T16:23:20.759Z"
   },
   {
    "duration": 201643,
    "start_time": "2023-03-31T16:23:21.020Z"
   },
   {
    "duration": 36883,
    "start_time": "2023-03-31T16:26:42.665Z"
   },
   {
    "duration": 669793,
    "start_time": "2023-03-31T16:27:19.550Z"
   },
   {
    "duration": 99,
    "start_time": "2023-03-31T16:38:29.345Z"
   },
   {
    "duration": 5,
    "start_time": "2023-03-31T16:38:29.446Z"
   },
   {
    "duration": 89,
    "start_time": "2023-03-31T16:38:29.452Z"
   },
   {
    "duration": 3,
    "start_time": "2023-03-31T16:38:29.543Z"
   },
   {
    "duration": 220,
    "start_time": "2023-03-31T16:38:29.547Z"
   },
   {
    "duration": 6,
    "start_time": "2023-03-31T16:38:29.769Z"
   },
   {
    "duration": 121768,
    "start_time": "2023-03-31T16:38:29.776Z"
   },
   {
    "duration": 632,
    "start_time": "2023-03-31T16:40:31.546Z"
   },
   {
    "duration": 3,
    "start_time": "2023-03-31T16:40:32.180Z"
   },
   {
    "duration": 456141,
    "start_time": "2023-03-31T16:40:32.186Z"
   },
   {
    "duration": 162,
    "start_time": "2023-03-31T16:48:08.329Z"
   },
   {
    "duration": 2062,
    "start_time": "2023-03-31T19:27:00.217Z"
   },
   {
    "duration": 1108,
    "start_time": "2023-03-31T19:27:02.281Z"
   },
   {
    "duration": 147,
    "start_time": "2023-03-31T19:27:03.391Z"
   },
   {
    "duration": 112,
    "start_time": "2023-03-31T19:27:03.540Z"
   },
   {
    "duration": 471,
    "start_time": "2023-03-31T19:27:03.654Z"
   },
   {
    "duration": 994,
    "start_time": "2023-03-31T19:27:04.126Z"
   },
   {
    "duration": 42,
    "start_time": "2023-03-31T19:27:05.123Z"
   },
   {
    "duration": 12,
    "start_time": "2023-03-31T19:27:05.167Z"
   },
   {
    "duration": 56,
    "start_time": "2023-03-31T19:27:05.181Z"
   },
   {
    "duration": 4,
    "start_time": "2023-03-31T19:27:05.239Z"
   },
   {
    "duration": 17,
    "start_time": "2023-03-31T19:27:05.245Z"
   },
   {
    "duration": 34,
    "start_time": "2023-03-31T19:27:05.264Z"
   },
   {
    "duration": 31,
    "start_time": "2023-03-31T19:27:05.300Z"
   },
   {
    "duration": 42,
    "start_time": "2023-03-31T19:27:05.334Z"
   },
   {
    "duration": 88,
    "start_time": "2023-03-31T19:27:05.377Z"
   },
   {
    "duration": 77,
    "start_time": "2023-03-31T19:27:05.467Z"
   },
   {
    "duration": 30,
    "start_time": "2023-03-31T19:27:05.545Z"
   },
   {
    "duration": 17,
    "start_time": "2023-03-31T19:27:05.577Z"
   },
   {
    "duration": 45,
    "start_time": "2023-03-31T19:27:05.596Z"
   },
   {
    "duration": 28,
    "start_time": "2023-03-31T19:27:05.643Z"
   },
   {
    "duration": 82,
    "start_time": "2023-03-31T19:27:05.672Z"
   },
   {
    "duration": 44,
    "start_time": "2023-03-31T19:27:05.756Z"
   },
   {
    "duration": 25,
    "start_time": "2023-03-31T19:27:05.803Z"
   },
   {
    "duration": 32,
    "start_time": "2023-03-31T19:27:05.831Z"
   },
   {
    "duration": 30,
    "start_time": "2023-03-31T19:27:05.864Z"
   },
   {
    "duration": 30,
    "start_time": "2023-03-31T19:27:05.895Z"
   },
   {
    "duration": 37,
    "start_time": "2023-03-31T19:27:05.927Z"
   },
   {
    "duration": 25,
    "start_time": "2023-03-31T19:27:05.966Z"
   },
   {
    "duration": 57,
    "start_time": "2023-03-31T19:27:05.993Z"
   },
   {
    "duration": 80,
    "start_time": "2023-03-31T19:27:06.052Z"
   },
   {
    "duration": 9,
    "start_time": "2023-03-31T19:27:06.134Z"
   },
   {
    "duration": 15,
    "start_time": "2023-03-31T19:27:06.145Z"
   },
   {
    "duration": 36,
    "start_time": "2023-03-31T19:27:06.162Z"
   },
   {
    "duration": 10,
    "start_time": "2023-03-31T19:27:06.200Z"
   },
   {
    "duration": 30,
    "start_time": "2023-03-31T19:27:06.213Z"
   },
   {
    "duration": 2279,
    "start_time": "2023-03-31T19:27:06.245Z"
   },
   {
    "duration": 11,
    "start_time": "2023-03-31T19:27:08.526Z"
   },
   {
    "duration": 15,
    "start_time": "2023-03-31T19:27:08.538Z"
   },
   {
    "duration": 42,
    "start_time": "2023-03-31T19:27:08.555Z"
   },
   {
    "duration": 52,
    "start_time": "2023-03-31T19:27:08.598Z"
   },
   {
    "duration": 54,
    "start_time": "2023-03-31T19:27:08.654Z"
   },
   {
    "duration": 71,
    "start_time": "2023-03-31T19:27:08.710Z"
   },
   {
    "duration": 4,
    "start_time": "2023-03-31T19:27:08.783Z"
   },
   {
    "duration": 944,
    "start_time": "2023-03-31T19:27:08.790Z"
   },
   {
    "duration": 525,
    "start_time": "2023-03-31T19:27:09.736Z"
   },
   {
    "duration": 243,
    "start_time": "2023-03-31T19:27:10.263Z"
   },
   {
    "duration": 161220,
    "start_time": "2023-03-31T19:27:10.508Z"
   },
   {
    "duration": 16497,
    "start_time": "2023-03-31T19:29:51.730Z"
   },
   {
    "duration": 552503,
    "start_time": "2023-03-31T19:30:08.229Z"
   },
   {
    "duration": 91,
    "start_time": "2023-03-31T19:39:20.736Z"
   },
   {
    "duration": 6,
    "start_time": "2023-03-31T19:39:20.829Z"
   },
   {
    "duration": 111,
    "start_time": "2023-03-31T19:39:20.837Z"
   },
   {
    "duration": 3,
    "start_time": "2023-03-31T19:39:20.950Z"
   },
   {
    "duration": 234,
    "start_time": "2023-03-31T19:39:20.955Z"
   },
   {
    "duration": 13,
    "start_time": "2023-03-31T19:39:21.192Z"
   },
   {
    "duration": 120100,
    "start_time": "2023-03-31T19:39:21.208Z"
   },
   {
    "duration": 637,
    "start_time": "2023-03-31T19:41:21.310Z"
   },
   {
    "duration": 3,
    "start_time": "2023-03-31T19:41:21.949Z"
   },
   {
    "duration": 255605,
    "start_time": "2023-03-31T19:41:21.953Z"
   },
   {
    "duration": 107,
    "start_time": "2023-03-31T19:45:37.560Z"
   },
   {
    "duration": 6,
    "start_time": "2023-03-31T19:45:38.587Z"
   },
   {
    "duration": 122188,
    "start_time": "2023-03-31T19:45:44.984Z"
   },
   {
    "duration": 665,
    "start_time": "2023-03-31T19:48:37.582Z"
   },
   {
    "duration": 1600,
    "start_time": "2023-03-31T19:49:02.893Z"
   },
   {
    "duration": 953,
    "start_time": "2023-03-31T19:49:04.495Z"
   },
   {
    "duration": 151,
    "start_time": "2023-03-31T19:49:05.450Z"
   },
   {
    "duration": 110,
    "start_time": "2023-03-31T19:49:05.603Z"
   },
   {
    "duration": 503,
    "start_time": "2023-03-31T19:49:06.994Z"
   },
   {
    "duration": 1045,
    "start_time": "2023-03-31T19:49:07.499Z"
   },
   {
    "duration": 48,
    "start_time": "2023-03-31T19:49:08.547Z"
   },
   {
    "duration": 27,
    "start_time": "2023-03-31T19:49:08.596Z"
   },
   {
    "duration": 33,
    "start_time": "2023-03-31T19:49:08.626Z"
   },
   {
    "duration": 4,
    "start_time": "2023-03-31T19:49:08.912Z"
   },
   {
    "duration": 10,
    "start_time": "2023-03-31T19:49:09.252Z"
   },
   {
    "duration": 36,
    "start_time": "2023-03-31T19:49:09.782Z"
   },
   {
    "duration": 9,
    "start_time": "2023-03-31T19:49:10.058Z"
   },
   {
    "duration": 44,
    "start_time": "2023-03-31T19:49:10.628Z"
   },
   {
    "duration": 67,
    "start_time": "2023-03-31T19:49:10.940Z"
   },
   {
    "duration": 61,
    "start_time": "2023-03-31T19:49:11.580Z"
   },
   {
    "duration": 29,
    "start_time": "2023-03-31T19:49:18.647Z"
   },
   {
    "duration": 16,
    "start_time": "2023-03-31T19:49:19.936Z"
   },
   {
    "duration": 30,
    "start_time": "2023-03-31T19:49:21.870Z"
   },
   {
    "duration": 25,
    "start_time": "2023-03-31T19:49:22.898Z"
   },
   {
    "duration": 34,
    "start_time": "2023-03-31T19:49:27.380Z"
   },
   {
    "duration": 16,
    "start_time": "2023-03-31T19:49:27.896Z"
   },
   {
    "duration": 40,
    "start_time": "2023-03-31T19:49:28.406Z"
   },
   {
    "duration": 32,
    "start_time": "2023-03-31T19:49:28.955Z"
   },
   {
    "duration": 17,
    "start_time": "2023-03-31T19:49:29.256Z"
   },
   {
    "duration": 30,
    "start_time": "2023-03-31T19:49:29.636Z"
   },
   {
    "duration": 18,
    "start_time": "2023-03-31T19:49:29.982Z"
   },
   {
    "duration": 83,
    "start_time": "2023-03-31T19:49:30.283Z"
   },
   {
    "duration": 8,
    "start_time": "2023-03-31T19:49:31.200Z"
   },
   {
    "duration": 3,
    "start_time": "2023-03-31T19:49:31.988Z"
   },
   {
    "duration": 25,
    "start_time": "2023-03-31T19:49:32.262Z"
   },
   {
    "duration": 9,
    "start_time": "2023-03-31T19:49:32.617Z"
   },
   {
    "duration": 24,
    "start_time": "2023-03-31T19:49:33.204Z"
   },
   {
    "duration": 2264,
    "start_time": "2023-03-31T19:49:34.519Z"
   },
   {
    "duration": 13,
    "start_time": "2023-03-31T19:49:36.786Z"
   },
   {
    "duration": 7,
    "start_time": "2023-03-31T19:49:36.800Z"
   },
   {
    "duration": 24,
    "start_time": "2023-03-31T19:49:36.824Z"
   },
   {
    "duration": 44,
    "start_time": "2023-03-31T19:49:36.849Z"
   },
   {
    "duration": 425,
    "start_time": "2023-03-31T19:49:36.923Z"
   },
   {
    "duration": 0,
    "start_time": "2023-03-31T19:49:37.351Z"
   },
   {
    "duration": 4,
    "start_time": "2023-03-31T19:49:37.539Z"
   },
   {
    "duration": 99,
    "start_time": "2023-03-31T19:50:06.865Z"
   },
   {
    "duration": 320,
    "start_time": "2023-03-31T19:50:16.158Z"
   },
   {
    "duration": 82,
    "start_time": "2023-03-31T19:50:24.115Z"
   },
   {
    "duration": 1637,
    "start_time": "2023-03-31T19:50:37.813Z"
   },
   {
    "duration": 946,
    "start_time": "2023-03-31T19:50:39.452Z"
   },
   {
    "duration": 206,
    "start_time": "2023-03-31T19:50:40.401Z"
   },
   {
    "duration": 120,
    "start_time": "2023-03-31T19:50:40.610Z"
   },
   {
    "duration": 512,
    "start_time": "2023-03-31T19:50:40.732Z"
   },
   {
    "duration": 1051,
    "start_time": "2023-03-31T19:50:41.247Z"
   },
   {
    "duration": 52,
    "start_time": "2023-03-31T19:50:42.301Z"
   },
   {
    "duration": 12,
    "start_time": "2023-03-31T19:50:42.355Z"
   },
   {
    "duration": 41,
    "start_time": "2023-03-31T19:50:42.369Z"
   },
   {
    "duration": 3,
    "start_time": "2023-03-31T19:50:42.441Z"
   },
   {
    "duration": 11,
    "start_time": "2023-03-31T19:50:42.777Z"
   },
   {
    "duration": 36,
    "start_time": "2023-03-31T19:50:43.741Z"
   },
   {
    "duration": 9,
    "start_time": "2023-03-31T19:50:44.007Z"
   },
   {
    "duration": 46,
    "start_time": "2023-03-31T19:50:45.394Z"
   },
   {
    "duration": 67,
    "start_time": "2023-03-31T19:50:45.442Z"
   },
   {
    "duration": 64,
    "start_time": "2023-03-31T19:50:45.957Z"
   },
   {
    "duration": 30,
    "start_time": "2023-03-31T19:50:46.757Z"
   },
   {
    "duration": 18,
    "start_time": "2023-03-31T19:50:47.059Z"
   },
   {
    "duration": 30,
    "start_time": "2023-03-31T19:50:47.466Z"
   },
   {
    "duration": 17,
    "start_time": "2023-03-31T19:50:47.964Z"
   },
   {
    "duration": 33,
    "start_time": "2023-03-31T19:50:48.397Z"
   },
   {
    "duration": 16,
    "start_time": "2023-03-31T19:50:48.732Z"
   },
   {
    "duration": 29,
    "start_time": "2023-03-31T19:50:49.174Z"
   },
   {
    "duration": 31,
    "start_time": "2023-03-31T19:50:49.492Z"
   },
   {
    "duration": 15,
    "start_time": "2023-03-31T19:50:49.895Z"
   },
   {
    "duration": 29,
    "start_time": "2023-03-31T19:50:50.448Z"
   },
   {
    "duration": 20,
    "start_time": "2023-03-31T19:50:51.350Z"
   },
   {
    "duration": 64,
    "start_time": "2023-03-31T19:50:54.037Z"
   },
   {
    "duration": 1596,
    "start_time": "2023-03-31T19:51:20.933Z"
   },
   {
    "duration": 920,
    "start_time": "2023-03-31T19:51:22.532Z"
   },
   {
    "duration": 146,
    "start_time": "2023-03-31T19:51:23.454Z"
   },
   {
    "duration": 107,
    "start_time": "2023-03-31T19:51:23.602Z"
   },
   {
    "duration": 518,
    "start_time": "2023-03-31T19:51:23.710Z"
   },
   {
    "duration": 1049,
    "start_time": "2023-03-31T19:51:24.229Z"
   },
   {
    "duration": 57,
    "start_time": "2023-03-31T19:51:25.279Z"
   },
   {
    "duration": 12,
    "start_time": "2023-03-31T19:51:25.338Z"
   },
   {
    "duration": 34,
    "start_time": "2023-03-31T19:51:25.352Z"
   },
   {
    "duration": 3,
    "start_time": "2023-03-31T19:51:25.388Z"
   },
   {
    "duration": 37,
    "start_time": "2023-03-31T19:51:25.393Z"
   },
   {
    "duration": 35,
    "start_time": "2023-03-31T19:51:25.431Z"
   },
   {
    "duration": 9,
    "start_time": "2023-03-31T19:51:25.468Z"
   },
   {
    "duration": 77,
    "start_time": "2023-03-31T19:51:25.479Z"
   },
   {
    "duration": 73,
    "start_time": "2023-03-31T19:51:25.558Z"
   },
   {
    "duration": 63,
    "start_time": "2023-03-31T19:51:25.633Z"
   },
   {
    "duration": 29,
    "start_time": "2023-03-31T19:51:25.916Z"
   },
   {
    "duration": 15,
    "start_time": "2023-03-31T19:51:26.116Z"
   },
   {
    "duration": 28,
    "start_time": "2023-03-31T19:51:26.311Z"
   },
   {
    "duration": 16,
    "start_time": "2023-03-31T19:51:26.501Z"
   },
   {
    "duration": 29,
    "start_time": "2023-03-31T19:51:26.692Z"
   },
   {
    "duration": 16,
    "start_time": "2023-03-31T19:51:26.898Z"
   },
   {
    "duration": 42,
    "start_time": "2023-03-31T19:51:27.086Z"
   },
   {
    "duration": 29,
    "start_time": "2023-03-31T19:51:27.297Z"
   },
   {
    "duration": 16,
    "start_time": "2023-03-31T19:51:27.489Z"
   },
   {
    "duration": 29,
    "start_time": "2023-03-31T19:51:27.732Z"
   },
   {
    "duration": 17,
    "start_time": "2023-03-31T19:51:27.944Z"
   },
   {
    "duration": 69,
    "start_time": "2023-03-31T19:51:28.146Z"
   },
   {
    "duration": 6,
    "start_time": "2023-03-31T19:51:28.561Z"
   },
   {
    "duration": 3,
    "start_time": "2023-03-31T19:51:29.246Z"
   },
   {
    "duration": 26,
    "start_time": "2023-03-31T19:51:29.455Z"
   },
   {
    "duration": 10,
    "start_time": "2023-03-31T19:51:29.664Z"
   },
   {
    "duration": 25,
    "start_time": "2023-03-31T19:51:29.869Z"
   },
   {
    "duration": 2245,
    "start_time": "2023-03-31T19:51:31.879Z"
   },
   {
    "duration": 13,
    "start_time": "2023-03-31T19:51:40.766Z"
   },
   {
    "duration": 9,
    "start_time": "2023-03-31T19:51:41.606Z"
   },
   {
    "duration": 24,
    "start_time": "2023-03-31T19:51:44.510Z"
   },
   {
    "duration": 43,
    "start_time": "2023-03-31T19:51:45.913Z"
   },
   {
    "duration": 464,
    "start_time": "2023-03-31T19:51:47.249Z"
   },
   {
    "duration": 18,
    "start_time": "2023-03-31T19:52:10.509Z"
   },
   {
    "duration": 71,
    "start_time": "2023-03-31T19:52:11.661Z"
   },
   {
    "duration": 3,
    "start_time": "2023-03-31T19:52:15.016Z"
   },
   {
    "duration": 946,
    "start_time": "2023-03-31T19:52:16.854Z"
   },
   {
    "duration": 500,
    "start_time": "2023-03-31T19:52:21.145Z"
   },
   {
    "duration": 211,
    "start_time": "2023-03-31T19:52:24.227Z"
   },
   {
    "duration": 140448,
    "start_time": "2023-03-31T19:52:25.781Z"
   },
   {
    "duration": 27144,
    "start_time": "2023-03-31T19:55:27.881Z"
   },
   {
    "duration": 138729,
    "start_time": "2023-03-31T19:58:36.101Z"
   },
   {
    "duration": 1488,
    "start_time": "2023-03-31T20:03:54.455Z"
   },
   {
    "duration": 917,
    "start_time": "2023-03-31T20:03:55.945Z"
   },
   {
    "duration": 157,
    "start_time": "2023-03-31T20:03:56.863Z"
   },
   {
    "duration": 133,
    "start_time": "2023-03-31T20:03:57.024Z"
   },
   {
    "duration": 512,
    "start_time": "2023-03-31T20:03:57.159Z"
   },
   {
    "duration": 1078,
    "start_time": "2023-03-31T20:03:57.673Z"
   },
   {
    "duration": 48,
    "start_time": "2023-03-31T20:03:58.754Z"
   },
   {
    "duration": 30,
    "start_time": "2023-03-31T20:03:58.804Z"
   },
   {
    "duration": 48,
    "start_time": "2023-03-31T20:03:58.836Z"
   },
   {
    "duration": 3,
    "start_time": "2023-03-31T20:03:59.516Z"
   },
   {
    "duration": 10,
    "start_time": "2023-03-31T20:03:59.708Z"
   },
   {
    "duration": 38,
    "start_time": "2023-03-31T20:04:00.070Z"
   },
   {
    "duration": 12,
    "start_time": "2023-03-31T20:04:00.262Z"
   },
   {
    "duration": 53,
    "start_time": "2023-03-31T20:04:00.603Z"
   },
   {
    "duration": 74,
    "start_time": "2023-03-31T20:04:00.794Z"
   },
   {
    "duration": 66,
    "start_time": "2023-03-31T20:04:00.974Z"
   },
   {
    "duration": 30,
    "start_time": "2023-03-31T20:04:01.364Z"
   },
   {
    "duration": 16,
    "start_time": "2023-03-31T20:04:01.570Z"
   },
   {
    "duration": 32,
    "start_time": "2023-03-31T20:04:01.752Z"
   },
   {
    "duration": 15,
    "start_time": "2023-03-31T20:04:01.941Z"
   },
   {
    "duration": 30,
    "start_time": "2023-03-31T20:04:02.155Z"
   },
   {
    "duration": 16,
    "start_time": "2023-03-31T20:04:02.456Z"
   },
   {
    "duration": 30,
    "start_time": "2023-03-31T20:04:02.708Z"
   },
   {
    "duration": 30,
    "start_time": "2023-03-31T20:04:02.964Z"
   },
   {
    "duration": 15,
    "start_time": "2023-03-31T20:04:03.183Z"
   },
   {
    "duration": 28,
    "start_time": "2023-03-31T20:04:03.372Z"
   },
   {
    "duration": 16,
    "start_time": "2023-03-31T20:04:03.569Z"
   },
   {
    "duration": 65,
    "start_time": "2023-03-31T20:04:03.815Z"
   },
   {
    "duration": 7,
    "start_time": "2023-03-31T20:04:04.234Z"
   },
   {
    "duration": 3,
    "start_time": "2023-03-31T20:04:05.330Z"
   },
   {
    "duration": 26,
    "start_time": "2023-03-31T20:04:05.605Z"
   },
   {
    "duration": 10,
    "start_time": "2023-03-31T20:04:05.866Z"
   },
   {
    "duration": 24,
    "start_time": "2023-03-31T20:04:06.196Z"
   },
   {
    "duration": 2244,
    "start_time": "2023-03-31T20:04:11.558Z"
   },
   {
    "duration": 10,
    "start_time": "2023-03-31T20:04:13.804Z"
   },
   {
    "duration": 8,
    "start_time": "2023-03-31T20:04:13.824Z"
   },
   {
    "duration": 23,
    "start_time": "2023-03-31T20:04:13.833Z"
   },
   {
    "duration": 41,
    "start_time": "2023-03-31T20:04:15.929Z"
   },
   {
    "duration": 12,
    "start_time": "2023-03-31T20:04:16.298Z"
   },
   {
    "duration": 79,
    "start_time": "2023-03-31T20:04:16.691Z"
   },
   {
    "duration": 3,
    "start_time": "2023-03-31T20:04:24.107Z"
   },
   {
    "duration": 1095,
    "start_time": "2023-03-31T20:04:30.057Z"
   },
   {
    "duration": 515,
    "start_time": "2023-03-31T20:04:31.154Z"
   },
   {
    "duration": 200,
    "start_time": "2023-03-31T20:04:32.304Z"
   },
   {
    "duration": 34028,
    "start_time": "2023-03-31T20:04:49.752Z"
   },
   {
    "duration": 23647,
    "start_time": "2023-03-31T20:05:23.782Z"
   },
   {
    "duration": 1564,
    "start_time": "2023-03-31T20:08:02.467Z"
   },
   {
    "duration": 900,
    "start_time": "2023-03-31T20:08:04.033Z"
   },
   {
    "duration": 166,
    "start_time": "2023-03-31T20:08:04.935Z"
   },
   {
    "duration": 125,
    "start_time": "2023-03-31T20:08:05.104Z"
   },
   {
    "duration": 530,
    "start_time": "2023-03-31T20:08:05.231Z"
   },
   {
    "duration": 1079,
    "start_time": "2023-03-31T20:08:05.763Z"
   },
   {
    "duration": 45,
    "start_time": "2023-03-31T20:08:06.844Z"
   },
   {
    "duration": 12,
    "start_time": "2023-03-31T20:08:06.891Z"
   },
   {
    "duration": 33,
    "start_time": "2023-03-31T20:08:06.924Z"
   },
   {
    "duration": 3,
    "start_time": "2023-03-31T20:08:06.960Z"
   },
   {
    "duration": 14,
    "start_time": "2023-03-31T20:08:06.964Z"
   },
   {
    "duration": 56,
    "start_time": "2023-03-31T20:08:06.979Z"
   },
   {
    "duration": 9,
    "start_time": "2023-03-31T20:08:07.037Z"
   },
   {
    "duration": 44,
    "start_time": "2023-03-31T20:08:07.048Z"
   },
   {
    "duration": 94,
    "start_time": "2023-03-31T20:08:07.094Z"
   },
   {
    "duration": 70,
    "start_time": "2023-03-31T20:08:07.189Z"
   },
   {
    "duration": 30,
    "start_time": "2023-03-31T20:08:07.261Z"
   },
   {
    "duration": 16,
    "start_time": "2023-03-31T20:08:07.420Z"
   },
   {
    "duration": 28,
    "start_time": "2023-03-31T20:08:07.626Z"
   },
   {
    "duration": 16,
    "start_time": "2023-03-31T20:08:08.465Z"
   },
   {
    "duration": 32,
    "start_time": "2023-03-31T20:08:08.642Z"
   },
   {
    "duration": 15,
    "start_time": "2023-03-31T20:08:08.833Z"
   },
   {
    "duration": 28,
    "start_time": "2023-03-31T20:08:09.009Z"
   },
   {
    "duration": 30,
    "start_time": "2023-03-31T20:08:09.219Z"
   },
   {
    "duration": 16,
    "start_time": "2023-03-31T20:08:09.399Z"
   },
   {
    "duration": 30,
    "start_time": "2023-03-31T20:08:09.580Z"
   },
   {
    "duration": 25,
    "start_time": "2023-03-31T20:08:09.802Z"
   },
   {
    "duration": 70,
    "start_time": "2023-03-31T20:08:10.069Z"
   },
   {
    "duration": 9,
    "start_time": "2023-03-31T20:08:10.438Z"
   },
   {
    "duration": 3,
    "start_time": "2023-03-31T20:08:11.120Z"
   },
   {
    "duration": 26,
    "start_time": "2023-03-31T20:08:11.330Z"
   },
   {
    "duration": 9,
    "start_time": "2023-03-31T20:08:11.516Z"
   },
   {
    "duration": 25,
    "start_time": "2023-03-31T20:08:11.706Z"
   },
   {
    "duration": 2218,
    "start_time": "2023-03-31T20:08:12.385Z"
   },
   {
    "duration": 18,
    "start_time": "2023-03-31T20:08:14.605Z"
   },
   {
    "duration": 7,
    "start_time": "2023-03-31T20:08:14.625Z"
   },
   {
    "duration": 24,
    "start_time": "2023-03-31T20:08:14.634Z"
   },
   {
    "duration": 66,
    "start_time": "2023-03-31T20:08:14.660Z"
   },
   {
    "duration": 11,
    "start_time": "2023-03-31T20:08:14.728Z"
   },
   {
    "duration": 90,
    "start_time": "2023-03-31T20:08:14.741Z"
   },
   {
    "duration": 3,
    "start_time": "2023-03-31T20:08:14.833Z"
   },
   {
    "duration": 934,
    "start_time": "2023-03-31T20:08:21.784Z"
   },
   {
    "duration": 518,
    "start_time": "2023-03-31T20:08:22.720Z"
   },
   {
    "duration": 190,
    "start_time": "2023-03-31T20:08:23.828Z"
   },
   {
    "duration": 138031,
    "start_time": "2023-03-31T20:08:34.601Z"
   },
   {
    "duration": 27797,
    "start_time": "2023-03-31T20:10:56.174Z"
   },
   {
    "duration": 27946,
    "start_time": "2023-03-31T20:11:33.777Z"
   },
   {
    "duration": 141824,
    "start_time": "2023-03-31T20:12:37.607Z"
   },
   {
    "duration": 26594,
    "start_time": "2023-03-31T20:15:14.333Z"
   },
   {
    "duration": 157913,
    "start_time": "2023-03-31T20:16:01.836Z"
   },
   {
    "duration": 27992,
    "start_time": "2023-03-31T20:18:44.636Z"
   },
   {
    "duration": 1647,
    "start_time": "2023-04-01T16:14:10.826Z"
   },
   {
    "duration": 2958,
    "start_time": "2023-04-01T16:14:12.476Z"
   },
   {
    "duration": 149,
    "start_time": "2023-04-01T16:14:15.435Z"
   },
   {
    "duration": 105,
    "start_time": "2023-04-01T16:14:15.587Z"
   },
   {
    "duration": 432,
    "start_time": "2023-04-01T16:14:15.694Z"
   },
   {
    "duration": 929,
    "start_time": "2023-04-01T16:14:16.127Z"
   },
   {
    "duration": 40,
    "start_time": "2023-04-01T16:14:17.057Z"
   },
   {
    "duration": 12,
    "start_time": "2023-04-01T16:14:17.099Z"
   },
   {
    "duration": 44,
    "start_time": "2023-04-01T16:14:17.112Z"
   },
   {
    "duration": 3,
    "start_time": "2023-04-01T16:14:17.158Z"
   },
   {
    "duration": 16,
    "start_time": "2023-04-01T16:14:17.163Z"
   },
   {
    "duration": 32,
    "start_time": "2023-04-01T16:14:17.181Z"
   },
   {
    "duration": 23,
    "start_time": "2023-04-01T16:14:17.215Z"
   },
   {
    "duration": 37,
    "start_time": "2023-04-01T16:14:17.239Z"
   },
   {
    "duration": 86,
    "start_time": "2023-04-01T16:14:17.278Z"
   },
   {
    "duration": 79,
    "start_time": "2023-04-01T16:14:17.366Z"
   },
   {
    "duration": 29,
    "start_time": "2023-04-01T16:14:17.446Z"
   },
   {
    "duration": 19,
    "start_time": "2023-04-01T16:14:17.477Z"
   },
   {
    "duration": 41,
    "start_time": "2023-04-01T16:14:17.497Z"
   },
   {
    "duration": 20,
    "start_time": "2023-04-01T16:14:17.540Z"
   },
   {
    "duration": 37,
    "start_time": "2023-04-01T16:14:17.561Z"
   },
   {
    "duration": 20,
    "start_time": "2023-04-01T16:14:17.600Z"
   },
   {
    "duration": 38,
    "start_time": "2023-04-01T16:14:17.622Z"
   },
   {
    "duration": 69,
    "start_time": "2023-04-01T16:14:17.661Z"
   },
   {
    "duration": 16,
    "start_time": "2023-04-01T16:14:17.732Z"
   },
   {
    "duration": 40,
    "start_time": "2023-04-01T16:14:17.750Z"
   },
   {
    "duration": 20,
    "start_time": "2023-04-01T16:14:21.175Z"
   },
   {
    "duration": 114,
    "start_time": "2023-04-01T16:14:21.489Z"
   },
   {
    "duration": 6,
    "start_time": "2023-04-01T16:14:21.950Z"
   },
   {
    "duration": 3,
    "start_time": "2023-04-01T16:14:22.371Z"
   },
   {
    "duration": 27,
    "start_time": "2023-04-01T16:14:22.635Z"
   },
   {
    "duration": 10,
    "start_time": "2023-04-01T16:14:22.829Z"
   },
   {
    "duration": 29,
    "start_time": "2023-04-01T16:14:22.988Z"
   },
   {
    "duration": 2082,
    "start_time": "2023-04-01T16:14:23.586Z"
   },
   {
    "duration": 10,
    "start_time": "2023-04-01T16:14:25.670Z"
   },
   {
    "duration": 7,
    "start_time": "2023-04-01T16:14:25.682Z"
   },
   {
    "duration": 45,
    "start_time": "2023-04-01T16:14:25.691Z"
   },
   {
    "duration": 44,
    "start_time": "2023-04-01T16:14:25.737Z"
   },
   {
    "duration": 13,
    "start_time": "2023-04-01T16:14:25.783Z"
   },
   {
    "duration": 111,
    "start_time": "2023-04-01T16:14:25.798Z"
   },
   {
    "duration": 2,
    "start_time": "2023-04-01T16:14:25.911Z"
   },
   {
    "duration": 19,
    "start_time": "2023-04-01T16:14:44.831Z"
   },
   {
    "duration": 680,
    "start_time": "2023-04-01T16:15:01.790Z"
   },
   {
    "duration": 481,
    "start_time": "2023-04-01T16:15:02.472Z"
   },
   {
    "duration": 191,
    "start_time": "2023-04-01T16:15:02.955Z"
   },
   {
    "duration": 104676,
    "start_time": "2023-04-01T16:15:03.559Z"
   },
   {
    "duration": 22901,
    "start_time": "2023-04-01T16:16:48.238Z"
   },
   {
    "duration": 16,
    "start_time": "2023-04-01T16:22:49.540Z"
   },
   {
    "duration": 16,
    "start_time": "2023-04-01T16:22:55.241Z"
   },
   {
    "duration": 857,
    "start_time": "2023-04-01T16:23:01.651Z"
   },
   {
    "duration": 529,
    "start_time": "2023-04-01T16:23:03.586Z"
   },
   {
    "duration": 193,
    "start_time": "2023-04-01T16:23:16.376Z"
   },
   {
    "duration": 131701,
    "start_time": "2023-04-01T16:23:17.040Z"
   },
   {
    "duration": 25289,
    "start_time": "2023-04-01T16:25:28.744Z"
   },
   {
    "duration": 23756,
    "start_time": "2023-04-01T16:27:01.485Z"
   },
   {
    "duration": 1625,
    "start_time": "2023-04-01T16:28:21.107Z"
   },
   {
    "duration": 913,
    "start_time": "2023-04-01T16:28:22.734Z"
   },
   {
    "duration": 180,
    "start_time": "2023-04-01T16:28:23.649Z"
   },
   {
    "duration": 117,
    "start_time": "2023-04-01T16:28:23.834Z"
   },
   {
    "duration": 516,
    "start_time": "2023-04-01T16:28:23.953Z"
   },
   {
    "duration": 1023,
    "start_time": "2023-04-01T16:28:24.470Z"
   },
   {
    "duration": 47,
    "start_time": "2023-04-01T16:28:25.494Z"
   },
   {
    "duration": 13,
    "start_time": "2023-04-01T16:28:25.542Z"
   },
   {
    "duration": 49,
    "start_time": "2023-04-01T16:28:25.557Z"
   },
   {
    "duration": 4,
    "start_time": "2023-04-01T16:28:25.608Z"
   },
   {
    "duration": 22,
    "start_time": "2023-04-01T16:28:25.613Z"
   },
   {
    "duration": 45,
    "start_time": "2023-04-01T16:28:25.636Z"
   },
   {
    "duration": 9,
    "start_time": "2023-04-01T16:28:25.683Z"
   },
   {
    "duration": 55,
    "start_time": "2023-04-01T16:28:25.694Z"
   },
   {
    "duration": 88,
    "start_time": "2023-04-01T16:28:25.750Z"
   },
   {
    "duration": 76,
    "start_time": "2023-04-01T16:28:25.840Z"
   },
   {
    "duration": 33,
    "start_time": "2023-04-01T16:28:25.964Z"
   },
   {
    "duration": 17,
    "start_time": "2023-04-01T16:28:26.153Z"
   },
   {
    "duration": 39,
    "start_time": "2023-04-01T16:28:26.511Z"
   },
   {
    "duration": 23,
    "start_time": "2023-04-01T16:28:26.712Z"
   },
   {
    "duration": 35,
    "start_time": "2023-04-01T16:28:26.911Z"
   },
   {
    "duration": 17,
    "start_time": "2023-04-01T16:28:27.114Z"
   },
   {
    "duration": 36,
    "start_time": "2023-04-01T16:28:27.311Z"
   },
   {
    "duration": 33,
    "start_time": "2023-04-01T16:28:27.486Z"
   },
   {
    "duration": 18,
    "start_time": "2023-04-01T16:28:27.708Z"
   },
   {
    "duration": 32,
    "start_time": "2023-04-01T16:28:27.911Z"
   },
   {
    "duration": 18,
    "start_time": "2023-04-01T16:28:28.111Z"
   },
   {
    "duration": 77,
    "start_time": "2023-04-01T16:28:28.537Z"
   },
   {
    "duration": 6,
    "start_time": "2023-04-01T16:28:29.408Z"
   },
   {
    "duration": 3,
    "start_time": "2023-04-01T16:28:30.173Z"
   },
   {
    "duration": 23,
    "start_time": "2023-04-01T16:28:30.462Z"
   },
   {
    "duration": 8,
    "start_time": "2023-04-01T16:28:30.811Z"
   },
   {
    "duration": 25,
    "start_time": "2023-04-01T16:28:31.111Z"
   },
   {
    "duration": 2042,
    "start_time": "2023-04-01T16:28:33.054Z"
   },
   {
    "duration": 10,
    "start_time": "2023-04-01T16:28:35.098Z"
   },
   {
    "duration": 13,
    "start_time": "2023-04-01T16:28:35.110Z"
   },
   {
    "duration": 24,
    "start_time": "2023-04-01T16:28:35.134Z"
   },
   {
    "duration": 40,
    "start_time": "2023-04-01T16:28:35.160Z"
   },
   {
    "duration": 32,
    "start_time": "2023-04-01T16:28:35.201Z"
   },
   {
    "duration": 77,
    "start_time": "2023-04-01T16:28:35.235Z"
   },
   {
    "duration": 30,
    "start_time": "2023-04-01T16:28:35.314Z"
   },
   {
    "duration": 819,
    "start_time": "2023-04-01T16:28:40.819Z"
   },
   {
    "duration": 499,
    "start_time": "2023-04-01T16:28:41.641Z"
   },
   {
    "duration": 203,
    "start_time": "2023-04-01T16:28:42.142Z"
   },
   {
    "duration": 116994,
    "start_time": "2023-04-01T16:28:42.348Z"
   },
   {
    "duration": 22905,
    "start_time": "2023-04-01T16:30:39.434Z"
   },
   {
    "duration": 145398,
    "start_time": "2023-04-01T16:31:02.437Z"
   },
   {
    "duration": 30597,
    "start_time": "2023-04-01T16:33:27.837Z"
   },
   {
    "duration": 1560,
    "start_time": "2023-04-01T16:42:32.520Z"
   },
   {
    "duration": 877,
    "start_time": "2023-04-01T16:42:34.082Z"
   },
   {
    "duration": 204,
    "start_time": "2023-04-01T16:42:34.960Z"
   },
   {
    "duration": 116,
    "start_time": "2023-04-01T16:42:35.166Z"
   },
   {
    "duration": 1291,
    "start_time": "2023-04-01T16:42:35.284Z"
   },
   {
    "duration": 1555,
    "start_time": "2023-04-01T16:46:12.940Z"
   },
   {
    "duration": 872,
    "start_time": "2023-04-01T16:46:15.612Z"
   },
   {
    "duration": 159,
    "start_time": "2023-04-01T16:46:16.964Z"
   },
   {
    "duration": 155,
    "start_time": "2023-04-01T16:46:17.968Z"
   },
   {
    "duration": 176,
    "start_time": "2023-04-01T16:46:19.111Z"
   },
   {
    "duration": 136,
    "start_time": "2023-04-01T16:50:03.107Z"
   },
   {
    "duration": 15872,
    "start_time": "2023-04-01T16:50:25.424Z"
   },
   {
    "duration": 97,
    "start_time": "2023-04-01T16:51:07.414Z"
   },
   {
    "duration": 3708,
    "start_time": "2023-04-01T16:51:30.077Z"
   },
   {
    "duration": 3377,
    "start_time": "2023-04-01T16:51:42.318Z"
   },
   {
    "duration": 3623,
    "start_time": "2023-04-01T16:52:09.528Z"
   },
   {
    "duration": 11,
    "start_time": "2023-04-01T16:54:09.722Z"
   },
   {
    "duration": 251,
    "start_time": "2023-04-01T16:55:40.506Z"
   },
   {
    "duration": 1491,
    "start_time": "2023-04-01T16:58:33.317Z"
   },
   {
    "duration": 950,
    "start_time": "2023-04-01T16:58:34.810Z"
   },
   {
    "duration": 162,
    "start_time": "2023-04-01T16:58:36.322Z"
   },
   {
    "duration": 99,
    "start_time": "2023-04-01T16:58:37.253Z"
   },
   {
    "duration": 163,
    "start_time": "2023-04-01T16:58:38.063Z"
   },
   {
    "duration": 3345,
    "start_time": "2023-04-01T16:58:39.413Z"
   },
   {
    "duration": 1505,
    "start_time": "2023-04-01T17:01:44.253Z"
   },
   {
    "duration": 938,
    "start_time": "2023-04-01T17:01:45.760Z"
   },
   {
    "duration": 187,
    "start_time": "2023-04-01T17:01:46.701Z"
   },
   {
    "duration": 115,
    "start_time": "2023-04-01T17:01:46.891Z"
   },
   {
    "duration": 180,
    "start_time": "2023-04-01T17:01:47.007Z"
   },
   {
    "duration": 3533,
    "start_time": "2023-04-01T17:01:47.188Z"
   },
   {
    "duration": 8442,
    "start_time": "2023-04-01T17:05:25.740Z"
   },
   {
    "duration": 1565,
    "start_time": "2023-04-01T17:11:34.232Z"
   },
   {
    "duration": 957,
    "start_time": "2023-04-01T17:11:35.952Z"
   },
   {
    "duration": 171,
    "start_time": "2023-04-01T17:11:37.330Z"
   },
   {
    "duration": 116,
    "start_time": "2023-04-01T17:11:37.968Z"
   },
   {
    "duration": 172,
    "start_time": "2023-04-01T17:11:38.751Z"
   },
   {
    "duration": 120,
    "start_time": "2023-04-01T17:11:39.739Z"
   },
   {
    "duration": 210,
    "start_time": "2023-04-01T17:11:46.416Z"
   },
   {
    "duration": 510,
    "start_time": "2023-04-01T17:14:06.229Z"
   },
   {
    "duration": 1213,
    "start_time": "2023-04-01T17:14:06.741Z"
   },
   {
    "duration": 45,
    "start_time": "2023-04-01T17:14:07.955Z"
   },
   {
    "duration": 29,
    "start_time": "2023-04-01T17:14:08.003Z"
   },
   {
    "duration": 37,
    "start_time": "2023-04-01T17:14:08.035Z"
   },
   {
    "duration": 4,
    "start_time": "2023-04-01T17:14:08.074Z"
   },
   {
    "duration": 18,
    "start_time": "2023-04-01T17:14:08.080Z"
   },
   {
    "duration": 73,
    "start_time": "2023-04-01T17:14:08.100Z"
   },
   {
    "duration": 11,
    "start_time": "2023-04-01T17:14:08.263Z"
   },
   {
    "duration": 41,
    "start_time": "2023-04-01T17:14:08.965Z"
   },
   {
    "duration": 83,
    "start_time": "2023-04-01T17:14:09.216Z"
   },
   {
    "duration": 73,
    "start_time": "2023-04-01T17:14:09.417Z"
   },
   {
    "duration": 34,
    "start_time": "2023-04-01T17:14:10.612Z"
   },
   {
    "duration": 19,
    "start_time": "2023-04-01T17:14:11.020Z"
   },
   {
    "duration": 34,
    "start_time": "2023-04-01T17:14:11.670Z"
   },
   {
    "duration": 19,
    "start_time": "2023-04-01T17:14:12.216Z"
   },
   {
    "duration": 35,
    "start_time": "2023-04-01T17:14:12.805Z"
   },
   {
    "duration": 17,
    "start_time": "2023-04-01T17:14:13.452Z"
   },
   {
    "duration": 44,
    "start_time": "2023-04-01T17:14:14.039Z"
   },
   {
    "duration": 32,
    "start_time": "2023-04-01T17:14:15.942Z"
   },
   {
    "duration": 18,
    "start_time": "2023-04-01T17:14:17.137Z"
   },
   {
    "duration": 46,
    "start_time": "2023-04-01T17:14:17.768Z"
   },
   {
    "duration": 19,
    "start_time": "2023-04-01T17:14:18.521Z"
   },
   {
    "duration": 82,
    "start_time": "2023-04-01T17:14:19.049Z"
   },
   {
    "duration": 6,
    "start_time": "2023-04-01T17:14:20.449Z"
   },
   {
    "duration": 3,
    "start_time": "2023-04-01T17:14:21.574Z"
   },
   {
    "duration": 24,
    "start_time": "2023-04-01T17:14:21.937Z"
   },
   {
    "duration": 8,
    "start_time": "2023-04-01T17:14:22.329Z"
   },
   {
    "duration": 24,
    "start_time": "2023-04-01T17:14:22.912Z"
   },
   {
    "duration": 2280,
    "start_time": "2023-04-01T17:14:24.905Z"
   },
   {
    "duration": 11,
    "start_time": "2023-04-01T17:14:27.187Z"
   },
   {
    "duration": 7,
    "start_time": "2023-04-01T17:14:27.199Z"
   },
   {
    "duration": 45,
    "start_time": "2023-04-01T17:14:27.208Z"
   },
   {
    "duration": 41,
    "start_time": "2023-04-01T17:14:28.117Z"
   },
   {
    "duration": 47,
    "start_time": "2023-04-01T17:14:30.553Z"
   },
   {
    "duration": 874,
    "start_time": "2023-04-01T17:18:17.747Z"
   },
   {
    "duration": 891,
    "start_time": "2023-04-01T17:18:43.129Z"
   },
   {
    "duration": 1262,
    "start_time": "2023-04-01T17:21:46.415Z"
   },
   {
    "duration": 840,
    "start_time": "2023-04-01T17:22:02.610Z"
   },
   {
    "duration": 1039,
    "start_time": "2023-04-01T17:22:33.808Z"
   },
   {
    "duration": 802,
    "start_time": "2023-04-01T17:25:32.532Z"
   },
   {
    "duration": 717,
    "start_time": "2023-04-01T17:25:55.270Z"
   },
   {
    "duration": 0,
    "start_time": "2023-04-01T17:29:05.150Z"
   },
   {
    "duration": 831,
    "start_time": "2023-04-01T17:29:24.365Z"
   },
   {
    "duration": 809,
    "start_time": "2023-04-01T17:31:31.709Z"
   },
   {
    "duration": 22,
    "start_time": "2023-04-01T17:32:00.221Z"
   },
   {
    "duration": 1467,
    "start_time": "2023-04-01T17:32:36.024Z"
   },
   {
    "duration": 834,
    "start_time": "2023-04-01T17:32:37.493Z"
   },
   {
    "duration": 148,
    "start_time": "2023-04-01T17:32:38.329Z"
   },
   {
    "duration": 90,
    "start_time": "2023-04-01T17:32:38.479Z"
   },
   {
    "duration": 162,
    "start_time": "2023-04-01T17:32:38.571Z"
   },
   {
    "duration": 59,
    "start_time": "2023-04-01T17:37:08.865Z"
   },
   {
    "duration": 1402,
    "start_time": "2023-04-01T17:37:32.663Z"
   },
   {
    "duration": 2940,
    "start_time": "2023-04-01T17:37:34.067Z"
   },
   {
    "duration": 137,
    "start_time": "2023-04-01T17:37:37.008Z"
   },
   {
    "duration": 90,
    "start_time": "2023-04-01T17:37:37.148Z"
   },
   {
    "duration": 158,
    "start_time": "2023-04-01T17:37:37.240Z"
   },
   {
    "duration": 1468,
    "start_time": "2023-04-01T17:41:08.742Z"
   },
   {
    "duration": 3287,
    "start_time": "2023-04-01T17:41:10.212Z"
   },
   {
    "duration": 140,
    "start_time": "2023-04-01T17:41:13.501Z"
   },
   {
    "duration": 97,
    "start_time": "2023-04-01T17:41:13.643Z"
   },
   {
    "duration": 163,
    "start_time": "2023-04-01T17:41:13.741Z"
   },
   {
    "duration": 1433,
    "start_time": "2023-04-01T17:42:14.123Z"
   },
   {
    "duration": 811,
    "start_time": "2023-04-01T17:42:15.558Z"
   },
   {
    "duration": 149,
    "start_time": "2023-04-01T17:42:16.370Z"
   },
   {
    "duration": 92,
    "start_time": "2023-04-01T17:42:16.521Z"
   },
   {
    "duration": 1128,
    "start_time": "2023-04-01T17:42:16.615Z"
   },
   {
    "duration": 240,
    "start_time": "2023-04-01T17:43:02.805Z"
   },
   {
    "duration": 193,
    "start_time": "2023-04-01T17:43:09.305Z"
   },
   {
    "duration": 183,
    "start_time": "2023-04-01T17:43:17.752Z"
   },
   {
    "duration": 181,
    "start_time": "2023-04-01T17:43:32.409Z"
   },
   {
    "duration": 187,
    "start_time": "2023-04-01T17:57:46.008Z"
   },
   {
    "duration": 1505,
    "start_time": "2023-04-01T18:09:00.530Z"
   },
   {
    "duration": 923,
    "start_time": "2023-04-01T18:09:02.037Z"
   },
   {
    "duration": 164,
    "start_time": "2023-04-01T18:09:02.963Z"
   },
   {
    "duration": 169,
    "start_time": "2023-04-01T18:09:03.129Z"
   },
   {
    "duration": 228,
    "start_time": "2023-04-01T18:09:03.300Z"
   },
   {
    "duration": 52,
    "start_time": "2023-04-01T18:14:29.172Z"
   },
   {
    "duration": 1534,
    "start_time": "2023-04-01T18:14:45.197Z"
   },
   {
    "duration": 3276,
    "start_time": "2023-04-01T18:14:46.733Z"
   },
   {
    "duration": 186,
    "start_time": "2023-04-01T18:14:50.010Z"
   },
   {
    "duration": 101,
    "start_time": "2023-04-01T18:14:50.198Z"
   },
   {
    "duration": 218,
    "start_time": "2023-04-01T18:14:50.301Z"
   },
   {
    "duration": 3576,
    "start_time": "2023-04-01T18:14:50.520Z"
   },
   {
    "duration": 462,
    "start_time": "2023-04-01T18:15:18.550Z"
   },
   {
    "duration": 3602,
    "start_time": "2023-04-01T18:15:43.466Z"
   },
   {
    "duration": 71,
    "start_time": "2023-04-01T18:33:06.108Z"
   },
   {
    "duration": 1836,
    "start_time": "2023-04-01T18:33:09.615Z"
   },
   {
    "duration": 1141,
    "start_time": "2023-04-01T18:33:11.454Z"
   },
   {
    "duration": 240,
    "start_time": "2023-04-01T18:33:12.597Z"
   },
   {
    "duration": 128,
    "start_time": "2023-04-01T18:33:12.842Z"
   },
   {
    "duration": 1205,
    "start_time": "2023-04-01T18:33:12.973Z"
   },
   {
    "duration": 561,
    "start_time": "2023-04-01T18:35:35.048Z"
   },
   {
    "duration": 345,
    "start_time": "2023-04-01T18:35:53.616Z"
   },
   {
    "duration": 257,
    "start_time": "2023-04-01T18:36:28.920Z"
   },
   {
    "duration": 288,
    "start_time": "2023-04-01T18:37:17.730Z"
   },
   {
    "duration": 239,
    "start_time": "2023-04-01T18:37:24.673Z"
   },
   {
    "duration": 333,
    "start_time": "2023-04-01T18:37:28.959Z"
   },
   {
    "duration": 352,
    "start_time": "2023-04-01T18:37:37.663Z"
   },
   {
    "duration": 522,
    "start_time": "2023-04-01T18:40:34.806Z"
   },
   {
    "duration": 272,
    "start_time": "2023-04-01T18:40:41.426Z"
   },
   {
    "duration": 226,
    "start_time": "2023-04-01T18:40:51.186Z"
   },
   {
    "duration": 193,
    "start_time": "2023-04-01T18:41:07.916Z"
   },
   {
    "duration": 331,
    "start_time": "2023-04-01T18:41:14.006Z"
   },
   {
    "duration": 678,
    "start_time": "2023-04-01T18:41:33.092Z"
   },
   {
    "duration": 462,
    "start_time": "2023-04-01T18:41:42.751Z"
   },
   {
    "duration": 194,
    "start_time": "2023-04-01T18:42:08.117Z"
   },
   {
    "duration": 586,
    "start_time": "2023-04-01T18:42:28.113Z"
   },
   {
    "duration": 1266,
    "start_time": "2023-04-01T18:42:28.701Z"
   },
   {
    "duration": 47,
    "start_time": "2023-04-01T18:42:29.970Z"
   },
   {
    "duration": 79,
    "start_time": "2023-04-01T18:42:30.020Z"
   },
   {
    "duration": 56,
    "start_time": "2023-04-01T18:42:30.101Z"
   },
   {
    "duration": 5,
    "start_time": "2023-04-01T18:42:30.158Z"
   },
   {
    "duration": 49,
    "start_time": "2023-04-01T18:42:30.165Z"
   },
   {
    "duration": 61,
    "start_time": "2023-04-01T18:42:30.914Z"
   },
   {
    "duration": 15,
    "start_time": "2023-04-01T18:42:31.277Z"
   },
   {
    "duration": 51,
    "start_time": "2023-04-01T18:42:32.511Z"
   },
   {
    "duration": 99,
    "start_time": "2023-04-01T18:42:33.478Z"
   },
   {
    "duration": 97,
    "start_time": "2023-04-01T18:42:36.304Z"
   },
   {
    "duration": 67,
    "start_time": "2023-04-01T18:42:37.922Z"
   },
   {
    "duration": 18,
    "start_time": "2023-04-01T18:42:38.203Z"
   },
   {
    "duration": 53,
    "start_time": "2023-04-01T18:42:38.446Z"
   },
   {
    "duration": 20,
    "start_time": "2023-04-01T18:42:39.002Z"
   },
   {
    "duration": 36,
    "start_time": "2023-04-01T18:42:39.383Z"
   },
   {
    "duration": 48,
    "start_time": "2023-04-01T18:42:40.244Z"
   },
   {
    "duration": 33,
    "start_time": "2023-04-01T18:42:40.896Z"
   },
   {
    "duration": 56,
    "start_time": "2023-04-01T18:42:41.425Z"
   },
   {
    "duration": 25,
    "start_time": "2023-04-01T18:42:41.871Z"
   },
   {
    "duration": 40,
    "start_time": "2023-04-01T18:42:42.372Z"
   },
   {
    "duration": 29,
    "start_time": "2023-04-01T18:42:42.896Z"
   },
   {
    "duration": 175,
    "start_time": "2023-04-01T18:42:43.601Z"
   },
   {
    "duration": 17,
    "start_time": "2023-04-01T18:42:44.834Z"
   },
   {
    "duration": 2,
    "start_time": "2023-04-01T18:42:46.423Z"
   },
   {
    "duration": 39,
    "start_time": "2023-04-01T18:42:47.112Z"
   },
   {
    "duration": 9,
    "start_time": "2023-04-01T18:42:47.708Z"
   },
   {
    "duration": 23,
    "start_time": "2023-04-01T18:42:48.275Z"
   },
   {
    "duration": 2188,
    "start_time": "2023-04-01T18:42:50.630Z"
   },
   {
    "duration": 28,
    "start_time": "2023-04-01T18:42:52.820Z"
   },
   {
    "duration": 8,
    "start_time": "2023-04-01T18:42:53.608Z"
   },
   {
    "duration": 23,
    "start_time": "2023-04-01T18:42:55.108Z"
   },
   {
    "duration": 47,
    "start_time": "2023-04-01T18:43:00.573Z"
   },
   {
    "duration": 537,
    "start_time": "2023-04-01T18:43:01.455Z"
   },
   {
    "duration": 11,
    "start_time": "2023-04-01T18:43:17.702Z"
   },
   {
    "duration": 112,
    "start_time": "2023-04-01T18:43:20.609Z"
   },
   {
    "duration": 20,
    "start_time": "2023-04-01T18:43:21.605Z"
   },
   {
    "duration": 851,
    "start_time": "2023-04-01T18:43:30.358Z"
   },
   {
    "duration": 526,
    "start_time": "2023-04-01T18:43:32.063Z"
   },
   {
    "duration": 219,
    "start_time": "2023-04-01T18:43:33.801Z"
   },
   {
    "duration": 16,
    "start_time": "2023-04-01T18:49:00.991Z"
   },
   {
    "duration": 7,
    "start_time": "2023-04-01T18:49:01.365Z"
   },
   {
    "duration": 80,
    "start_time": "2023-04-01T18:49:33.458Z"
   },
   {
    "duration": 3,
    "start_time": "2023-04-01T18:49:34.595Z"
   },
   {
    "duration": 1718,
    "start_time": "2023-04-01T18:49:58.575Z"
   },
   {
    "duration": 1049,
    "start_time": "2023-04-01T18:50:00.295Z"
   },
   {
    "duration": 202,
    "start_time": "2023-04-01T18:50:01.347Z"
   },
   {
    "duration": 108,
    "start_time": "2023-04-01T18:50:02.097Z"
   },
   {
    "duration": 401,
    "start_time": "2023-04-01T18:50:04.120Z"
   },
   {
    "duration": 565,
    "start_time": "2023-04-01T18:50:07.058Z"
   },
   {
    "duration": 1254,
    "start_time": "2023-04-01T18:50:08.192Z"
   },
   {
    "duration": 44,
    "start_time": "2023-04-01T18:50:10.159Z"
   },
   {
    "duration": 19,
    "start_time": "2023-04-01T18:50:12.258Z"
   },
   {
    "duration": 31,
    "start_time": "2023-04-01T18:50:13.195Z"
   },
   {
    "duration": 4,
    "start_time": "2023-04-01T18:50:13.996Z"
   },
   {
    "duration": 10,
    "start_time": "2023-04-01T18:50:14.794Z"
   },
   {
    "duration": 56,
    "start_time": "2023-04-01T18:50:15.933Z"
   },
   {
    "duration": 9,
    "start_time": "2023-04-01T18:50:16.300Z"
   },
   {
    "duration": 58,
    "start_time": "2023-04-01T18:50:17.420Z"
   },
   {
    "duration": 97,
    "start_time": "2023-04-01T18:50:18.629Z"
   },
   {
    "duration": 89,
    "start_time": "2023-04-01T18:50:19.286Z"
   },
   {
    "duration": 37,
    "start_time": "2023-04-01T18:50:20.960Z"
   },
   {
    "duration": 16,
    "start_time": "2023-04-01T18:50:21.599Z"
   },
   {
    "duration": 58,
    "start_time": "2023-04-01T18:50:22.021Z"
   },
   {
    "duration": 17,
    "start_time": "2023-04-01T18:50:22.508Z"
   },
   {
    "duration": 32,
    "start_time": "2023-04-01T18:50:22.889Z"
   },
   {
    "duration": 37,
    "start_time": "2023-04-01T18:50:23.230Z"
   },
   {
    "duration": 29,
    "start_time": "2023-04-01T18:50:23.795Z"
   },
   {
    "duration": 29,
    "start_time": "2023-04-01T18:50:24.289Z"
   },
   {
    "duration": 26,
    "start_time": "2023-04-01T18:50:24.754Z"
   },
   {
    "duration": 58,
    "start_time": "2023-04-01T18:50:25.230Z"
   },
   {
    "duration": 18,
    "start_time": "2023-04-01T18:50:25.781Z"
   },
   {
    "duration": 97,
    "start_time": "2023-04-01T18:50:26.213Z"
   },
   {
    "duration": 7,
    "start_time": "2023-04-01T18:50:27.996Z"
   },
   {
    "duration": 9,
    "start_time": "2023-04-01T18:50:29.262Z"
   },
   {
    "duration": 46,
    "start_time": "2023-04-01T18:50:30.833Z"
   },
   {
    "duration": 10,
    "start_time": "2023-04-01T18:50:32.262Z"
   },
   {
    "duration": 35,
    "start_time": "2023-04-01T18:50:32.917Z"
   },
   {
    "duration": 2124,
    "start_time": "2023-04-01T18:50:35.177Z"
   },
   {
    "duration": 9,
    "start_time": "2023-04-01T18:50:37.303Z"
   },
   {
    "duration": 22,
    "start_time": "2023-04-01T18:50:37.313Z"
   },
   {
    "duration": 55,
    "start_time": "2023-04-01T18:50:37.343Z"
   },
   {
    "duration": 45,
    "start_time": "2023-04-01T18:50:37.399Z"
   },
   {
    "duration": 453,
    "start_time": "2023-04-01T18:50:38.194Z"
   },
   {
    "duration": 14,
    "start_time": "2023-04-01T18:50:38.724Z"
   },
   {
    "duration": 91,
    "start_time": "2023-04-01T18:50:57.058Z"
   },
   {
    "duration": 24,
    "start_time": "2023-04-01T18:50:57.454Z"
   },
   {
    "duration": 834,
    "start_time": "2023-04-01T18:50:59.529Z"
   },
   {
    "duration": 542,
    "start_time": "2023-04-01T18:51:01.002Z"
   },
   {
    "duration": 233,
    "start_time": "2023-04-01T18:51:02.808Z"
   },
   {
    "duration": 235898,
    "start_time": "2023-04-01T18:51:04.153Z"
   },
   {
    "duration": 37783,
    "start_time": "2023-04-01T18:55:00.054Z"
   },
   {
    "duration": 40051,
    "start_time": "2023-04-01T18:55:37.839Z"
   },
   {
    "duration": 24163,
    "start_time": "2023-04-01T18:56:17.891Z"
   },
   {
    "duration": 69,
    "start_time": "2023-04-01T19:10:39.918Z"
   },
   {
    "duration": 8,
    "start_time": "2023-04-01T19:10:55.852Z"
   },
   {
    "duration": 1519,
    "start_time": "2023-04-01T19:10:59.859Z"
   },
   {
    "duration": 907,
    "start_time": "2023-04-01T19:11:01.379Z"
   },
   {
    "duration": 200,
    "start_time": "2023-04-01T19:11:02.288Z"
   },
   {
    "duration": 98,
    "start_time": "2023-04-01T19:11:02.489Z"
   },
   {
    "duration": 384,
    "start_time": "2023-04-01T19:11:02.588Z"
   },
   {
    "duration": 105,
    "start_time": "2023-04-01T19:11:09.308Z"
   },
   {
    "duration": 15,
    "start_time": "2023-04-01T19:11:37.066Z"
   },
   {
    "duration": 7903,
    "start_time": "2023-04-01T19:12:29.094Z"
   },
   {
    "duration": 9257,
    "start_time": "2023-04-01T19:13:51.554Z"
   },
   {
    "duration": 15885,
    "start_time": "2023-04-01T19:14:59.472Z"
   },
   {
    "duration": 46,
    "start_time": "2023-04-01T19:18:18.161Z"
   },
   {
    "duration": 1752,
    "start_time": "2023-04-01T19:18:27.619Z"
   },
   {
    "duration": 3579,
    "start_time": "2023-04-01T19:18:29.378Z"
   },
   {
    "duration": 181,
    "start_time": "2023-04-01T19:18:32.959Z"
   },
   {
    "duration": 115,
    "start_time": "2023-04-01T19:18:33.143Z"
   },
   {
    "duration": 354,
    "start_time": "2023-04-01T19:18:33.260Z"
   },
   {
    "duration": 1810,
    "start_time": "2023-04-01T19:18:33.617Z"
   },
   {
    "duration": 1871,
    "start_time": "2023-04-01T19:19:32.832Z"
   },
   {
    "duration": 86,
    "start_time": "2023-04-01T19:21:23.433Z"
   },
   {
    "duration": 541,
    "start_time": "2023-04-01T19:21:43.329Z"
   },
   {
    "duration": 504,
    "start_time": "2023-04-01T19:24:55.701Z"
   },
   {
    "duration": 1109,
    "start_time": "2023-04-01T19:24:56.207Z"
   },
   {
    "duration": 130,
    "start_time": "2023-04-01T19:24:57.319Z"
   },
   {
    "duration": 10,
    "start_time": "2023-04-01T19:24:57.451Z"
   },
   {
    "duration": 16,
    "start_time": "2023-04-01T19:24:57.463Z"
   },
   {
    "duration": 4,
    "start_time": "2023-04-01T19:24:57.481Z"
   },
   {
    "duration": 12,
    "start_time": "2023-04-01T19:24:57.487Z"
   },
   {
    "duration": 25,
    "start_time": "2023-04-01T19:24:58.123Z"
   },
   {
    "duration": 10,
    "start_time": "2023-04-01T19:24:58.383Z"
   },
   {
    "duration": 38,
    "start_time": "2023-04-01T19:24:59.634Z"
   },
   {
    "duration": 66,
    "start_time": "2023-04-01T19:25:00.758Z"
   },
   {
    "duration": 72,
    "start_time": "2023-04-01T19:25:01.629Z"
   },
   {
    "duration": 30,
    "start_time": "2023-04-01T19:25:02.996Z"
   },
   {
    "duration": 24,
    "start_time": "2023-04-01T19:25:03.518Z"
   },
   {
    "duration": 31,
    "start_time": "2023-04-01T19:25:04.708Z"
   },
   {
    "duration": 27,
    "start_time": "2023-04-01T19:25:06.535Z"
   },
   {
    "duration": 32,
    "start_time": "2023-04-01T19:25:07.500Z"
   },
   {
    "duration": 24,
    "start_time": "2023-04-01T19:25:08.120Z"
   },
   {
    "duration": 30,
    "start_time": "2023-04-01T19:25:08.646Z"
   },
   {
    "duration": 31,
    "start_time": "2023-04-01T19:25:09.447Z"
   },
   {
    "duration": 17,
    "start_time": "2023-04-01T19:25:10.208Z"
   },
   {
    "duration": 42,
    "start_time": "2023-04-01T19:25:11.019Z"
   },
   {
    "duration": 21,
    "start_time": "2023-04-01T19:25:12.332Z"
   },
   {
    "duration": 63,
    "start_time": "2023-04-01T19:25:13.048Z"
   },
   {
    "duration": 6,
    "start_time": "2023-04-01T19:25:14.423Z"
   },
   {
    "duration": 2,
    "start_time": "2023-04-01T19:25:15.724Z"
   },
   {
    "duration": 29,
    "start_time": "2023-04-01T19:25:16.119Z"
   },
   {
    "duration": 23,
    "start_time": "2023-04-01T19:25:16.496Z"
   },
   {
    "duration": 12,
    "start_time": "2023-04-01T19:25:17.045Z"
   },
   {
    "duration": 1493,
    "start_time": "2023-04-01T19:26:00.000Z"
   },
   {
    "duration": 833,
    "start_time": "2023-04-01T19:26:01.494Z"
   },
   {
    "duration": 157,
    "start_time": "2023-04-01T19:26:03.092Z"
   },
   {
    "duration": 88,
    "start_time": "2023-04-01T19:26:04.192Z"
   },
   {
    "duration": 294,
    "start_time": "2023-04-01T19:26:05.280Z"
   },
   {
    "duration": 491,
    "start_time": "2023-04-01T19:26:08.047Z"
   },
   {
    "duration": 984,
    "start_time": "2023-04-01T19:26:08.844Z"
   },
   {
    "duration": 43,
    "start_time": "2023-04-01T19:26:11.596Z"
   },
   {
    "duration": 11,
    "start_time": "2023-04-01T19:26:13.349Z"
   },
   {
    "duration": 38,
    "start_time": "2023-04-01T19:26:14.816Z"
   },
   {
    "duration": 3,
    "start_time": "2023-04-01T19:26:16.944Z"
   },
   {
    "duration": 9,
    "start_time": "2023-04-01T19:26:19.003Z"
   },
   {
    "duration": 35,
    "start_time": "2023-04-01T19:26:20.807Z"
   },
   {
    "duration": 8,
    "start_time": "2023-04-01T19:26:24.207Z"
   },
   {
    "duration": 38,
    "start_time": "2023-04-01T19:26:33.513Z"
   },
   {
    "duration": 75,
    "start_time": "2023-04-01T19:26:36.226Z"
   },
   {
    "duration": 62,
    "start_time": "2023-04-01T19:26:54.213Z"
   },
   {
    "duration": 34,
    "start_time": "2023-04-01T19:26:57.584Z"
   },
   {
    "duration": 17,
    "start_time": "2023-04-01T19:26:59.617Z"
   },
   {
    "duration": 30,
    "start_time": "2023-04-01T19:27:02.992Z"
   },
   {
    "duration": 16,
    "start_time": "2023-04-01T19:27:03.814Z"
   },
   {
    "duration": 31,
    "start_time": "2023-04-01T19:27:06.108Z"
   },
   {
    "duration": 15,
    "start_time": "2023-04-01T19:27:07.433Z"
   },
   {
    "duration": 33,
    "start_time": "2023-04-01T19:27:09.061Z"
   },
   {
    "duration": 32,
    "start_time": "2023-04-01T19:27:09.927Z"
   },
   {
    "duration": 15,
    "start_time": "2023-04-01T19:27:11.392Z"
   },
   {
    "duration": 31,
    "start_time": "2023-04-01T19:27:13.618Z"
   },
   {
    "duration": 19,
    "start_time": "2023-04-01T19:27:16.013Z"
   },
   {
    "duration": 101,
    "start_time": "2023-04-01T19:27:16.997Z"
   },
   {
    "duration": 5,
    "start_time": "2023-04-01T19:27:19.223Z"
   },
   {
    "duration": 2,
    "start_time": "2023-04-01T19:27:20.750Z"
   },
   {
    "duration": 23,
    "start_time": "2023-04-01T19:27:21.627Z"
   },
   {
    "duration": 8,
    "start_time": "2023-04-01T19:27:22.334Z"
   },
   {
    "duration": 22,
    "start_time": "2023-04-01T19:27:23.692Z"
   },
   {
    "duration": 1956,
    "start_time": "2023-04-01T19:27:40.613Z"
   },
   {
    "duration": 10,
    "start_time": "2023-04-01T19:27:42.571Z"
   },
   {
    "duration": 9,
    "start_time": "2023-04-01T19:27:42.582Z"
   },
   {
    "duration": 21,
    "start_time": "2023-04-01T19:27:42.900Z"
   },
   {
    "duration": 41,
    "start_time": "2023-04-01T19:27:44.597Z"
   },
   {
    "duration": 408,
    "start_time": "2023-04-01T19:27:46.105Z"
   },
   {
    "duration": 10,
    "start_time": "2023-04-01T19:27:51.216Z"
   },
   {
    "duration": 92,
    "start_time": "2023-04-01T19:27:53.092Z"
   },
   {
    "duration": 127,
    "start_time": "2023-04-01T19:30:00.080Z"
   },
   {
    "duration": 400,
    "start_time": "2023-04-01T19:30:29.927Z"
   },
   {
    "duration": 395,
    "start_time": "2023-04-01T19:31:16.416Z"
   },
   {
    "duration": 26,
    "start_time": "2023-04-01T19:32:42.309Z"
   },
   {
    "duration": 889,
    "start_time": "2023-04-01T19:32:58.496Z"
   },
   {
    "duration": 829,
    "start_time": "2023-04-01T19:33:13.705Z"
   },
   {
    "duration": 1596,
    "start_time": "2023-04-02T08:19:18.042Z"
   },
   {
    "duration": 2809,
    "start_time": "2023-04-02T08:19:19.640Z"
   },
   {
    "duration": 115,
    "start_time": "2023-04-02T08:19:22.451Z"
   },
   {
    "duration": 89,
    "start_time": "2023-04-02T08:19:22.567Z"
   },
   {
    "duration": 324,
    "start_time": "2023-04-02T08:19:22.657Z"
   },
   {
    "duration": 404,
    "start_time": "2023-04-02T08:19:32.550Z"
   },
   {
    "duration": 844,
    "start_time": "2023-04-02T08:19:34.791Z"
   },
   {
    "duration": 1542,
    "start_time": "2023-04-02T08:19:46.107Z"
   },
   {
    "duration": 793,
    "start_time": "2023-04-02T08:19:47.651Z"
   },
   {
    "duration": 175,
    "start_time": "2023-04-02T08:19:48.445Z"
   },
   {
    "duration": 125,
    "start_time": "2023-04-02T08:19:48.623Z"
   },
   {
    "duration": 342,
    "start_time": "2023-04-02T08:19:48.751Z"
   },
   {
    "duration": 894,
    "start_time": "2023-04-02T08:20:51.905Z"
   },
   {
    "duration": 866,
    "start_time": "2023-04-02T08:22:02.198Z"
   },
   {
    "duration": 398,
    "start_time": "2023-04-02T08:22:25.862Z"
   },
   {
    "duration": 496,
    "start_time": "2023-04-02T08:23:37.347Z"
   },
   {
    "duration": 1541,
    "start_time": "2023-04-02T08:24:26.248Z"
   },
   {
    "duration": 158,
    "start_time": "2023-04-02T08:25:55.897Z"
   },
   {
    "duration": 286,
    "start_time": "2023-04-02T08:27:36.151Z"
   },
   {
    "duration": 309,
    "start_time": "2023-04-02T08:27:54.900Z"
   },
   {
    "duration": 491,
    "start_time": "2023-04-02T08:30:03.964Z"
   },
   {
    "duration": 99,
    "start_time": "2023-04-02T08:30:11.549Z"
   },
   {
    "duration": 101,
    "start_time": "2023-04-02T08:31:45.323Z"
   },
   {
    "duration": 102,
    "start_time": "2023-04-02T08:31:57.238Z"
   },
   {
    "duration": 212,
    "start_time": "2023-04-02T08:33:43.160Z"
   },
   {
    "duration": 74,
    "start_time": "2023-04-02T08:34:04.231Z"
   },
   {
    "duration": 176,
    "start_time": "2023-04-02T08:34:28.654Z"
   },
   {
    "duration": 68,
    "start_time": "2023-04-02T08:35:59.913Z"
   },
   {
    "duration": 169,
    "start_time": "2023-04-02T08:36:04.031Z"
   },
   {
    "duration": 1802,
    "start_time": "2023-04-02T08:36:22.264Z"
   },
   {
    "duration": 335,
    "start_time": "2023-04-02T08:38:27.813Z"
   },
   {
    "duration": 743,
    "start_time": "2023-04-02T08:38:28.150Z"
   },
   {
    "duration": 24,
    "start_time": "2023-04-02T08:38:28.895Z"
   },
   {
    "duration": 9,
    "start_time": "2023-04-02T08:38:29.241Z"
   },
   {
    "duration": 12,
    "start_time": "2023-04-02T08:38:29.743Z"
   },
   {
    "duration": 3,
    "start_time": "2023-04-02T08:38:30.157Z"
   },
   {
    "duration": 10,
    "start_time": "2023-04-02T08:38:30.575Z"
   },
   {
    "duration": 29,
    "start_time": "2023-04-02T08:38:31.508Z"
   },
   {
    "duration": 7,
    "start_time": "2023-04-02T08:38:31.868Z"
   },
   {
    "duration": 37,
    "start_time": "2023-04-02T08:38:32.674Z"
   },
   {
    "duration": 69,
    "start_time": "2023-04-02T08:38:33.084Z"
   },
   {
    "duration": 54,
    "start_time": "2023-04-02T08:38:33.618Z"
   },
   {
    "duration": 25,
    "start_time": "2023-04-02T08:38:34.514Z"
   },
   {
    "duration": 14,
    "start_time": "2023-04-02T08:38:34.879Z"
   },
   {
    "duration": 25,
    "start_time": "2023-04-02T08:38:36.371Z"
   },
   {
    "duration": 14,
    "start_time": "2023-04-02T08:38:37.060Z"
   },
   {
    "duration": 27,
    "start_time": "2023-04-02T08:38:37.504Z"
   },
   {
    "duration": 13,
    "start_time": "2023-04-02T08:38:37.912Z"
   },
   {
    "duration": 27,
    "start_time": "2023-04-02T08:38:38.522Z"
   },
   {
    "duration": 27,
    "start_time": "2023-04-02T08:38:38.925Z"
   },
   {
    "duration": 14,
    "start_time": "2023-04-02T08:38:39.406Z"
   },
   {
    "duration": 29,
    "start_time": "2023-04-02T08:38:39.818Z"
   },
   {
    "duration": 17,
    "start_time": "2023-04-02T08:38:40.236Z"
   },
   {
    "duration": 64,
    "start_time": "2023-04-02T08:38:40.861Z"
   },
   {
    "duration": 5,
    "start_time": "2023-04-02T08:38:41.751Z"
   },
   {
    "duration": 2,
    "start_time": "2023-04-02T08:38:43.226Z"
   },
   {
    "duration": 23,
    "start_time": "2023-04-02T08:38:44.041Z"
   },
   {
    "duration": 8,
    "start_time": "2023-04-02T08:38:44.507Z"
   },
   {
    "duration": 22,
    "start_time": "2023-04-02T08:38:45.069Z"
   },
   {
    "duration": 1943,
    "start_time": "2023-04-02T08:38:46.777Z"
   },
   {
    "duration": 10,
    "start_time": "2023-04-02T08:38:48.721Z"
   },
   {
    "duration": 6,
    "start_time": "2023-04-02T08:38:48.733Z"
   },
   {
    "duration": 34,
    "start_time": "2023-04-02T08:38:48.741Z"
   },
   {
    "duration": 40,
    "start_time": "2023-04-02T08:38:48.851Z"
   },
   {
    "duration": 458,
    "start_time": "2023-04-02T08:38:49.596Z"
   },
   {
    "duration": 361,
    "start_time": "2023-04-02T08:39:19.582Z"
   },
   {
    "duration": 9,
    "start_time": "2023-04-02T08:39:27.908Z"
   },
   {
    "duration": 65,
    "start_time": "2023-04-02T08:39:28.518Z"
   },
   {
    "duration": 16,
    "start_time": "2023-04-02T08:39:29.342Z"
   },
   {
    "duration": 586,
    "start_time": "2023-04-02T08:39:30.260Z"
   },
   {
    "duration": 459,
    "start_time": "2023-04-02T08:39:39.075Z"
   },
   {
    "duration": 345,
    "start_time": "2023-04-02T08:39:44.506Z"
   },
   {
    "duration": 181,
    "start_time": "2023-04-02T08:39:49.132Z"
   },
   {
    "duration": 6,
    "start_time": "2023-04-02T08:42:23.104Z"
   },
   {
    "duration": 29,
    "start_time": "2023-04-02T08:46:43.809Z"
   },
   {
    "duration": 77,
    "start_time": "2023-04-02T08:47:23.538Z"
   },
   {
    "duration": 1393,
    "start_time": "2023-04-02T08:51:38.330Z"
   },
   {
    "duration": 739,
    "start_time": "2023-04-02T08:51:39.725Z"
   },
   {
    "duration": 170,
    "start_time": "2023-04-02T08:51:40.466Z"
   },
   {
    "duration": 95,
    "start_time": "2023-04-02T08:51:40.638Z"
   },
   {
    "duration": 298,
    "start_time": "2023-04-02T08:51:40.734Z"
   },
   {
    "duration": 417,
    "start_time": "2023-04-02T08:51:41.034Z"
   },
   {
    "duration": 814,
    "start_time": "2023-04-02T08:51:41.452Z"
   },
   {
    "duration": 48,
    "start_time": "2023-04-02T08:51:42.268Z"
   },
   {
    "duration": 14,
    "start_time": "2023-04-02T08:51:42.317Z"
   },
   {
    "duration": 26,
    "start_time": "2023-04-02T08:51:42.333Z"
   },
   {
    "duration": 3,
    "start_time": "2023-04-02T08:51:42.361Z"
   },
   {
    "duration": 22,
    "start_time": "2023-04-02T08:51:42.365Z"
   },
   {
    "duration": 31,
    "start_time": "2023-04-02T08:51:42.389Z"
   },
   {
    "duration": 8,
    "start_time": "2023-04-02T08:51:42.423Z"
   },
   {
    "duration": 66,
    "start_time": "2023-04-02T08:51:42.432Z"
   },
   {
    "duration": 65,
    "start_time": "2023-04-02T08:51:42.500Z"
   },
   {
    "duration": 63,
    "start_time": "2023-04-02T08:51:42.567Z"
   },
   {
    "duration": 25,
    "start_time": "2023-04-02T08:51:42.633Z"
   },
   {
    "duration": 14,
    "start_time": "2023-04-02T08:51:42.736Z"
   },
   {
    "duration": 26,
    "start_time": "2023-04-02T08:51:42.921Z"
   },
   {
    "duration": 14,
    "start_time": "2023-04-02T08:51:43.117Z"
   },
   {
    "duration": 29,
    "start_time": "2023-04-02T08:51:43.312Z"
   },
   {
    "duration": 14,
    "start_time": "2023-04-02T08:51:43.517Z"
   },
   {
    "duration": 26,
    "start_time": "2023-04-02T08:51:43.710Z"
   },
   {
    "duration": 28,
    "start_time": "2023-04-02T08:51:43.892Z"
   },
   {
    "duration": 15,
    "start_time": "2023-04-02T08:51:44.087Z"
   },
   {
    "duration": 29,
    "start_time": "2023-04-02T08:51:44.287Z"
   },
   {
    "duration": 26,
    "start_time": "2023-04-02T08:51:44.484Z"
   },
   {
    "duration": 108,
    "start_time": "2023-04-02T08:51:44.657Z"
   },
   {
    "duration": 10,
    "start_time": "2023-04-02T08:51:45.067Z"
   },
   {
    "duration": 3,
    "start_time": "2023-04-02T08:51:45.709Z"
   },
   {
    "duration": 26,
    "start_time": "2023-04-02T08:51:45.925Z"
   },
   {
    "duration": 10,
    "start_time": "2023-04-02T08:51:46.110Z"
   },
   {
    "duration": 25,
    "start_time": "2023-04-02T08:51:46.307Z"
   },
   {
    "duration": 1886,
    "start_time": "2023-04-02T08:51:47.527Z"
   },
   {
    "duration": 9,
    "start_time": "2023-04-02T08:51:49.415Z"
   },
   {
    "duration": 6,
    "start_time": "2023-04-02T08:51:49.425Z"
   },
   {
    "duration": 43,
    "start_time": "2023-04-02T08:51:49.433Z"
   },
   {
    "duration": 39,
    "start_time": "2023-04-02T08:51:49.477Z"
   },
   {
    "duration": 411,
    "start_time": "2023-04-02T08:51:49.517Z"
   },
   {
    "duration": 8,
    "start_time": "2023-04-02T08:51:49.930Z"
   },
   {
    "duration": 79,
    "start_time": "2023-04-02T08:51:49.940Z"
   },
   {
    "duration": 23,
    "start_time": "2023-04-02T08:51:50.531Z"
   },
   {
    "duration": 487,
    "start_time": "2023-04-02T08:51:53.369Z"
   },
   {
    "duration": 356,
    "start_time": "2023-04-02T08:51:53.886Z"
   },
   {
    "duration": 175,
    "start_time": "2023-04-02T08:51:54.509Z"
   },
   {
    "duration": 273821,
    "start_time": "2023-04-02T08:51:58.647Z"
   },
   {
    "duration": 45721,
    "start_time": "2023-04-02T08:56:32.470Z"
   },
   {
    "duration": 9,
    "start_time": "2023-04-02T08:57:55.633Z"
   },
   {
    "duration": 9,
    "start_time": "2023-04-02T08:58:05.008Z"
   },
   {
    "duration": 8,
    "start_time": "2023-04-02T08:58:33.668Z"
   },
   {
    "duration": 271464,
    "start_time": "2023-04-02T08:58:45.031Z"
   },
   {
    "duration": 88,
    "start_time": "2023-04-02T09:03:16.497Z"
   },
   {
    "duration": 0,
    "start_time": "2023-04-02T09:03:16.588Z"
   },
   {
    "duration": 0,
    "start_time": "2023-04-02T09:03:16.590Z"
   },
   {
    "duration": 0,
    "start_time": "2023-04-02T09:03:16.591Z"
   },
   {
    "duration": 34757,
    "start_time": "2023-04-02T09:06:47.789Z"
   },
   {
    "duration": 29224,
    "start_time": "2023-04-02T09:07:22.547Z"
   },
   {
    "duration": 6403154,
    "start_time": "2023-04-02T09:07:51.773Z"
   },
   {
    "duration": 3340466,
    "start_time": "2023-04-02T10:54:34.929Z"
   },
   {
    "duration": 146591,
    "start_time": "2023-04-02T11:50:15.406Z"
   },
   {
    "duration": 1676,
    "start_time": "2023-04-02T12:16:20.199Z"
   },
   {
    "duration": 734,
    "start_time": "2023-04-02T12:16:21.877Z"
   },
   {
    "duration": 141,
    "start_time": "2023-04-02T12:16:22.613Z"
   },
   {
    "duration": 89,
    "start_time": "2023-04-02T12:16:22.755Z"
   },
   {
    "duration": 284,
    "start_time": "2023-04-02T12:16:22.846Z"
   },
   {
    "duration": 533,
    "start_time": "2023-04-02T12:17:36.041Z"
   },
   {
    "duration": 376,
    "start_time": "2023-04-02T12:18:01.005Z"
   },
   {
    "duration": 773,
    "start_time": "2023-04-02T12:18:01.383Z"
   },
   {
    "duration": 37,
    "start_time": "2023-04-02T12:18:02.157Z"
   },
   {
    "duration": 19,
    "start_time": "2023-04-02T12:18:02.196Z"
   },
   {
    "duration": 33,
    "start_time": "2023-04-02T12:18:02.217Z"
   },
   {
    "duration": 76,
    "start_time": "2023-04-02T12:18:02.251Z"
   },
   {
    "duration": 29,
    "start_time": "2023-04-02T12:18:02.328Z"
   },
   {
    "duration": 29,
    "start_time": "2023-04-02T12:18:02.827Z"
   },
   {
    "duration": 8,
    "start_time": "2023-04-02T12:18:03.129Z"
   },
   {
    "duration": 36,
    "start_time": "2023-04-02T12:18:03.701Z"
   },
   {
    "duration": 74,
    "start_time": "2023-04-02T12:18:03.930Z"
   },
   {
    "duration": 65,
    "start_time": "2023-04-02T12:18:04.471Z"
   },
   {
    "duration": 29,
    "start_time": "2023-04-02T12:18:05.510Z"
   },
   {
    "duration": 15,
    "start_time": "2023-04-02T12:18:05.918Z"
   },
   {
    "duration": 34,
    "start_time": "2023-04-02T12:18:06.134Z"
   },
   {
    "duration": 16,
    "start_time": "2023-04-02T12:18:06.328Z"
   },
   {
    "duration": 30,
    "start_time": "2023-04-02T12:18:06.513Z"
   },
   {
    "duration": 14,
    "start_time": "2023-04-02T12:18:06.695Z"
   },
   {
    "duration": 26,
    "start_time": "2023-04-02T12:18:06.903Z"
   },
   {
    "duration": 30,
    "start_time": "2023-04-02T12:18:07.250Z"
   },
   {
    "duration": 24,
    "start_time": "2023-04-02T12:18:07.474Z"
   },
   {
    "duration": 25,
    "start_time": "2023-04-02T12:18:07.707Z"
   },
   {
    "duration": 16,
    "start_time": "2023-04-02T12:18:08.343Z"
   },
   {
    "duration": 80,
    "start_time": "2023-04-02T12:18:08.565Z"
   },
   {
    "duration": 6,
    "start_time": "2023-04-02T12:18:09.537Z"
   },
   {
    "duration": 2,
    "start_time": "2023-04-02T12:18:10.349Z"
   },
   {
    "duration": 21,
    "start_time": "2023-04-02T12:18:10.591Z"
   },
   {
    "duration": 9,
    "start_time": "2023-04-02T12:18:10.792Z"
   },
   {
    "duration": 21,
    "start_time": "2023-04-02T12:18:11.115Z"
   },
   {
    "duration": 1841,
    "start_time": "2023-04-02T12:18:12.687Z"
   },
   {
    "duration": 9,
    "start_time": "2023-04-02T12:18:14.530Z"
   },
   {
    "duration": 13,
    "start_time": "2023-04-02T12:18:14.540Z"
   },
   {
    "duration": 31,
    "start_time": "2023-04-02T12:18:14.555Z"
   },
   {
    "duration": 40,
    "start_time": "2023-04-02T12:18:14.587Z"
   },
   {
    "duration": 497,
    "start_time": "2023-04-02T12:18:14.628Z"
   },
   {
    "duration": 10,
    "start_time": "2023-04-02T12:18:15.127Z"
   },
   {
    "duration": 71,
    "start_time": "2023-04-02T12:18:19.087Z"
   },
   {
    "duration": 18,
    "start_time": "2023-04-02T12:18:19.754Z"
   },
   {
    "duration": 325,
    "start_time": "2023-04-02T12:18:34.310Z"
   },
   {
    "duration": 284,
    "start_time": "2023-04-02T12:19:07.021Z"
   },
   {
    "duration": 318,
    "start_time": "2023-04-02T12:19:44.321Z"
   },
   {
    "duration": 455,
    "start_time": "2023-04-02T12:20:33.393Z"
   },
   {
    "duration": 333,
    "start_time": "2023-04-02T12:20:37.535Z"
   },
   {
    "duration": 177,
    "start_time": "2023-04-02T12:20:38.944Z"
   },
   {
    "duration": 46966,
    "start_time": "2023-04-02T12:21:46.807Z"
   },
   {
    "duration": 934,
    "start_time": "2023-04-02T12:23:21.405Z"
   },
   {
    "duration": 31739,
    "start_time": "2023-04-02T12:23:38.445Z"
   },
   {
    "duration": 442821,
    "start_time": "2023-04-02T12:36:25.966Z"
   },
   {
    "duration": 106,
    "start_time": "2023-04-02T12:43:48.792Z"
   },
   {
    "duration": 75163,
    "start_time": "2023-04-02T12:44:15.610Z"
   },
   {
    "duration": 9,
    "start_time": "2023-04-02T12:45:35.345Z"
   },
   {
    "duration": 10,
    "start_time": "2023-04-02T12:46:04.183Z"
   },
   {
    "duration": 9,
    "start_time": "2023-04-02T12:46:54.375Z"
   },
   {
    "duration": 10,
    "start_time": "2023-04-02T12:48:40.825Z"
   },
   {
    "duration": 96447,
    "start_time": "2023-04-02T12:51:06.732Z"
   },
   {
    "duration": 1477,
    "start_time": "2023-04-02T12:55:46.469Z"
   },
   {
    "duration": 0,
    "start_time": "2023-04-02T12:55:47.948Z"
   },
   {
    "duration": 0,
    "start_time": "2023-04-02T12:55:47.949Z"
   },
   {
    "duration": 0,
    "start_time": "2023-04-02T12:55:47.949Z"
   },
   {
    "duration": 0,
    "start_time": "2023-04-02T12:55:47.952Z"
   },
   {
    "duration": 8,
    "start_time": "2023-04-02T12:55:48.072Z"
   },
   {
    "duration": 10,
    "start_time": "2023-04-02T12:55:48.248Z"
   },
   {
    "duration": 9,
    "start_time": "2023-04-02T12:55:48.452Z"
   },
   {
    "duration": 8,
    "start_time": "2023-04-02T12:55:48.620Z"
   },
   {
    "duration": 10,
    "start_time": "2023-04-02T12:55:48.810Z"
   },
   {
    "duration": 1454,
    "start_time": "2023-04-02T12:56:01.518Z"
   },
   {
    "duration": 0,
    "start_time": "2023-04-02T12:56:02.974Z"
   },
   {
    "duration": 0,
    "start_time": "2023-04-02T12:56:02.975Z"
   },
   {
    "duration": 0,
    "start_time": "2023-04-02T12:56:02.977Z"
   },
   {
    "duration": 8,
    "start_time": "2023-04-02T12:56:03.041Z"
   },
   {
    "duration": 11,
    "start_time": "2023-04-02T12:56:09.019Z"
   },
   {
    "duration": 68,
    "start_time": "2023-04-02T12:56:26.751Z"
   },
   {
    "duration": 691,
    "start_time": "2023-04-02T12:56:27.846Z"
   },
   {
    "duration": 1384,
    "start_time": "2023-04-02T12:56:34.601Z"
   },
   {
    "duration": 705,
    "start_time": "2023-04-02T12:56:35.987Z"
   },
   {
    "duration": 125,
    "start_time": "2023-04-02T12:56:36.694Z"
   },
   {
    "duration": 88,
    "start_time": "2023-04-02T12:56:36.820Z"
   },
   {
    "duration": 256,
    "start_time": "2023-04-02T12:56:37.385Z"
   },
   {
    "duration": 375,
    "start_time": "2023-04-02T12:56:39.678Z"
   },
   {
    "duration": 812,
    "start_time": "2023-04-02T12:56:40.055Z"
   },
   {
    "duration": 34,
    "start_time": "2023-04-02T12:56:40.868Z"
   },
   {
    "duration": 11,
    "start_time": "2023-04-02T12:56:40.904Z"
   },
   {
    "duration": 31,
    "start_time": "2023-04-02T12:56:40.917Z"
   },
   {
    "duration": 23,
    "start_time": "2023-04-02T12:56:40.949Z"
   },
   {
    "duration": 13,
    "start_time": "2023-04-02T12:56:40.973Z"
   },
   {
    "duration": 29,
    "start_time": "2023-04-02T12:56:41.142Z"
   },
   {
    "duration": 8,
    "start_time": "2023-04-02T12:56:41.335Z"
   },
   {
    "duration": 37,
    "start_time": "2023-04-02T12:56:41.705Z"
   },
   {
    "duration": 62,
    "start_time": "2023-04-02T12:56:41.896Z"
   },
   {
    "duration": 52,
    "start_time": "2023-04-02T12:56:42.078Z"
   },
   {
    "duration": 26,
    "start_time": "2023-04-02T12:56:42.484Z"
   },
   {
    "duration": 23,
    "start_time": "2023-04-02T12:56:42.675Z"
   },
   {
    "duration": 32,
    "start_time": "2023-04-02T12:56:42.875Z"
   },
   {
    "duration": 14,
    "start_time": "2023-04-02T12:56:43.080Z"
   },
   {
    "duration": 27,
    "start_time": "2023-04-02T12:56:43.278Z"
   },
   {
    "duration": 13,
    "start_time": "2023-04-02T12:56:43.474Z"
   },
   {
    "duration": 27,
    "start_time": "2023-04-02T12:56:43.654Z"
   },
   {
    "duration": 27,
    "start_time": "2023-04-02T12:56:43.845Z"
   },
   {
    "duration": 15,
    "start_time": "2023-04-02T12:56:44.009Z"
   },
   {
    "duration": 50,
    "start_time": "2023-04-02T12:56:44.209Z"
   },
   {
    "duration": 27,
    "start_time": "2023-04-02T12:56:44.397Z"
   },
   {
    "duration": 59,
    "start_time": "2023-04-02T12:56:44.596Z"
   },
   {
    "duration": 6,
    "start_time": "2023-04-02T12:56:45.019Z"
   },
   {
    "duration": 2,
    "start_time": "2023-04-02T12:56:46.048Z"
   },
   {
    "duration": 23,
    "start_time": "2023-04-02T12:56:46.299Z"
   },
   {
    "duration": 8,
    "start_time": "2023-04-02T12:56:46.511Z"
   },
   {
    "duration": 22,
    "start_time": "2023-04-02T12:56:46.778Z"
   },
   {
    "duration": 1980,
    "start_time": "2023-04-02T12:56:47.961Z"
   },
   {
    "duration": 10,
    "start_time": "2023-04-02T12:56:49.943Z"
   },
   {
    "duration": 18,
    "start_time": "2023-04-02T12:56:49.955Z"
   },
   {
    "duration": 29,
    "start_time": "2023-04-02T12:56:49.975Z"
   },
   {
    "duration": 68,
    "start_time": "2023-04-02T12:56:50.006Z"
   },
   {
    "duration": 402,
    "start_time": "2023-04-02T12:56:50.076Z"
   },
   {
    "duration": 9,
    "start_time": "2023-04-02T12:56:50.480Z"
   },
   {
    "duration": 97,
    "start_time": "2023-04-02T12:56:50.491Z"
   },
   {
    "duration": 34,
    "start_time": "2023-04-02T12:56:50.591Z"
   },
   {
    "duration": 488,
    "start_time": "2023-04-02T12:56:53.047Z"
   },
   {
    "duration": 353,
    "start_time": "2023-04-02T12:56:53.794Z"
   },
   {
    "duration": 54,
    "start_time": "2023-04-02T12:57:46.161Z"
   },
   {
    "duration": 289,
    "start_time": "2023-04-02T12:57:56.035Z"
   },
   {
    "duration": 160,
    "start_time": "2023-04-02T12:57:59.478Z"
   },
   {
    "duration": 1348,
    "start_time": "2023-04-02T12:59:35.787Z"
   },
   {
    "duration": 200,
    "start_time": "2023-04-02T12:59:50.586Z"
   },
   {
    "duration": 1380,
    "start_time": "2023-04-02T13:00:05.304Z"
   },
   {
    "duration": 2628,
    "start_time": "2023-04-02T13:00:06.686Z"
   },
   {
    "duration": 115,
    "start_time": "2023-04-02T13:00:09.316Z"
   },
   {
    "duration": 91,
    "start_time": "2023-04-02T13:00:09.433Z"
   },
   {
    "duration": 288,
    "start_time": "2023-04-02T13:00:09.931Z"
   },
   {
    "duration": 408,
    "start_time": "2023-04-02T13:00:10.888Z"
   },
   {
    "duration": 800,
    "start_time": "2023-04-02T13:00:11.299Z"
   },
   {
    "duration": 34,
    "start_time": "2023-04-02T13:00:12.101Z"
   },
   {
    "duration": 11,
    "start_time": "2023-04-02T13:00:12.137Z"
   },
   {
    "duration": 53,
    "start_time": "2023-04-02T13:00:12.150Z"
   },
   {
    "duration": 3,
    "start_time": "2023-04-02T13:00:12.205Z"
   },
   {
    "duration": 22,
    "start_time": "2023-04-02T13:00:12.210Z"
   },
   {
    "duration": 31,
    "start_time": "2023-04-02T13:00:12.323Z"
   },
   {
    "duration": 9,
    "start_time": "2023-04-02T13:00:12.511Z"
   },
   {
    "duration": 40,
    "start_time": "2023-04-02T13:00:12.879Z"
   },
   {
    "duration": 64,
    "start_time": "2023-04-02T13:00:13.077Z"
   },
   {
    "duration": 54,
    "start_time": "2023-04-02T13:00:13.267Z"
   },
   {
    "duration": 28,
    "start_time": "2023-04-02T13:00:13.659Z"
   },
   {
    "duration": 14,
    "start_time": "2023-04-02T13:00:13.843Z"
   },
   {
    "duration": 30,
    "start_time": "2023-04-02T13:00:14.037Z"
   },
   {
    "duration": 15,
    "start_time": "2023-04-02T13:00:14.233Z"
   },
   {
    "duration": 29,
    "start_time": "2023-04-02T13:00:14.410Z"
   },
   {
    "duration": 27,
    "start_time": "2023-04-02T13:00:14.629Z"
   },
   {
    "duration": 39,
    "start_time": "2023-04-02T13:00:14.786Z"
   },
   {
    "duration": 31,
    "start_time": "2023-04-02T13:00:14.979Z"
   },
   {
    "duration": 15,
    "start_time": "2023-04-02T13:00:15.173Z"
   },
   {
    "duration": 28,
    "start_time": "2023-04-02T13:00:15.361Z"
   },
   {
    "duration": 18,
    "start_time": "2023-04-02T13:00:15.555Z"
   },
   {
    "duration": 67,
    "start_time": "2023-04-02T13:00:15.764Z"
   },
   {
    "duration": 7,
    "start_time": "2023-04-02T13:00:16.172Z"
   },
   {
    "duration": 2,
    "start_time": "2023-04-02T13:00:16.558Z"
   },
   {
    "duration": 22,
    "start_time": "2023-04-02T13:00:16.783Z"
   },
   {
    "duration": 8,
    "start_time": "2023-04-02T13:00:16.964Z"
   },
   {
    "duration": 21,
    "start_time": "2023-04-02T13:00:17.275Z"
   },
   {
    "duration": 1924,
    "start_time": "2023-04-02T13:00:17.745Z"
   },
   {
    "duration": 10,
    "start_time": "2023-04-02T13:00:19.672Z"
   },
   {
    "duration": 10,
    "start_time": "2023-04-02T13:00:19.683Z"
   },
   {
    "duration": 22,
    "start_time": "2023-04-02T13:00:19.694Z"
   },
   {
    "duration": 62,
    "start_time": "2023-04-02T13:00:19.717Z"
   },
   {
    "duration": 404,
    "start_time": "2023-04-02T13:00:19.780Z"
   },
   {
    "duration": 11,
    "start_time": "2023-04-02T13:00:20.186Z"
   },
   {
    "duration": 118,
    "start_time": "2023-04-02T13:00:20.199Z"
   },
   {
    "duration": 19,
    "start_time": "2023-04-02T13:00:20.319Z"
   },
   {
    "duration": 470,
    "start_time": "2023-04-02T13:00:21.642Z"
   },
   {
    "duration": 327,
    "start_time": "2023-04-02T13:00:23.443Z"
   },
   {
    "duration": 164,
    "start_time": "2023-04-02T13:00:24.990Z"
   },
   {
    "duration": 121839,
    "start_time": "2023-04-02T13:00:27.063Z"
   },
   {
    "duration": 79846,
    "start_time": "2023-04-02T13:03:32.532Z"
   },
   {
    "duration": 20246,
    "start_time": "2023-04-02T13:10:48.626Z"
   },
   {
    "duration": 184,
    "start_time": "2023-04-02T13:13:03.715Z"
   },
   {
    "duration": 24495,
    "start_time": "2023-04-02T13:13:14.278Z"
   },
   {
    "duration": 94,
    "start_time": "2023-04-02T13:14:45.005Z"
   },
   {
    "duration": 79,
    "start_time": "2023-04-02T13:14:54.643Z"
   },
   {
    "duration": 90,
    "start_time": "2023-04-02T13:15:23.455Z"
   },
   {
    "duration": 55,
    "start_time": "2023-04-02T13:15:44.075Z"
   },
   {
    "duration": 67,
    "start_time": "2023-04-02T13:16:02.745Z"
   },
   {
    "duration": 23223,
    "start_time": "2023-04-02T13:24:56.565Z"
   },
   {
    "duration": 22770,
    "start_time": "2023-04-02T13:26:40.507Z"
   },
   {
    "duration": 2228,
    "start_time": "2023-04-02T15:46:44.122Z"
   },
   {
    "duration": 3483,
    "start_time": "2023-04-02T15:46:46.354Z"
   },
   {
    "duration": 158,
    "start_time": "2023-04-02T15:46:49.839Z"
   },
   {
    "duration": 127,
    "start_time": "2023-04-02T15:46:49.999Z"
   },
   {
    "duration": 405,
    "start_time": "2023-04-02T15:46:50.128Z"
   },
   {
    "duration": 529,
    "start_time": "2023-04-02T15:46:50.543Z"
   },
   {
    "duration": 1148,
    "start_time": "2023-04-02T15:46:51.074Z"
   },
   {
    "duration": 47,
    "start_time": "2023-04-02T15:46:52.224Z"
   },
   {
    "duration": 1664,
    "start_time": "2023-04-02T15:47:01.264Z"
   },
   {
    "duration": 945,
    "start_time": "2023-04-02T15:47:02.930Z"
   },
   {
    "duration": 174,
    "start_time": "2023-04-02T15:47:03.877Z"
   },
   {
    "duration": 110,
    "start_time": "2023-04-02T15:47:04.055Z"
   },
   {
    "duration": 362,
    "start_time": "2023-04-02T15:47:04.167Z"
   },
   {
    "duration": 620,
    "start_time": "2023-04-02T15:47:04.532Z"
   },
   {
    "duration": 1221,
    "start_time": "2023-04-02T15:47:05.159Z"
   },
   {
    "duration": 36,
    "start_time": "2023-04-02T15:47:06.383Z"
   },
   {
    "duration": 38,
    "start_time": "2023-04-02T15:47:06.420Z"
   },
   {
    "duration": 48,
    "start_time": "2023-04-02T15:47:06.461Z"
   },
   {
    "duration": 3,
    "start_time": "2023-04-02T15:47:06.511Z"
   },
   {
    "duration": 41,
    "start_time": "2023-04-02T15:47:06.516Z"
   },
   {
    "duration": 48,
    "start_time": "2023-04-02T15:47:06.559Z"
   },
   {
    "duration": 12,
    "start_time": "2023-04-02T15:47:06.610Z"
   },
   {
    "duration": 67,
    "start_time": "2023-04-02T15:47:06.624Z"
   },
   {
    "duration": 100,
    "start_time": "2023-04-02T15:47:06.694Z"
   },
   {
    "duration": 79,
    "start_time": "2023-04-02T15:47:06.796Z"
   },
   {
    "duration": 41,
    "start_time": "2023-04-02T15:47:08.132Z"
   },
   {
    "duration": 19,
    "start_time": "2023-04-02T15:47:08.356Z"
   },
   {
    "duration": 30,
    "start_time": "2023-04-02T15:47:08.586Z"
   },
   {
    "duration": 16,
    "start_time": "2023-04-02T15:47:08.757Z"
   },
   {
    "duration": 38,
    "start_time": "2023-04-02T15:47:08.941Z"
   },
   {
    "duration": 16,
    "start_time": "2023-04-02T15:47:09.173Z"
   },
   {
    "duration": 31,
    "start_time": "2023-04-02T15:47:09.354Z"
   },
   {
    "duration": 29,
    "start_time": "2023-04-02T15:47:09.557Z"
   },
   {
    "duration": 17,
    "start_time": "2023-04-02T15:47:09.769Z"
   },
   {
    "duration": 41,
    "start_time": "2023-04-02T15:47:09.919Z"
   },
   {
    "duration": 17,
    "start_time": "2023-04-02T15:47:10.221Z"
   },
   {
    "duration": 74,
    "start_time": "2023-04-02T15:47:10.609Z"
   },
   {
    "duration": 9,
    "start_time": "2023-04-02T15:47:11.086Z"
   },
   {
    "duration": 3,
    "start_time": "2023-04-02T15:47:11.556Z"
   },
   {
    "duration": 28,
    "start_time": "2023-04-02T15:47:11.860Z"
   },
   {
    "duration": 8,
    "start_time": "2023-04-02T15:47:12.083Z"
   },
   {
    "duration": 23,
    "start_time": "2023-04-02T15:47:12.286Z"
   },
   {
    "duration": 2240,
    "start_time": "2023-04-02T15:47:13.157Z"
   },
   {
    "duration": 12,
    "start_time": "2023-04-02T15:47:15.400Z"
   },
   {
    "duration": 33,
    "start_time": "2023-04-02T15:47:15.414Z"
   },
   {
    "duration": 25,
    "start_time": "2023-04-02T15:47:15.455Z"
   },
   {
    "duration": 44,
    "start_time": "2023-04-02T15:47:15.482Z"
   },
   {
    "duration": 485,
    "start_time": "2023-04-02T15:47:15.527Z"
   },
   {
    "duration": 12,
    "start_time": "2023-04-02T15:47:16.014Z"
   },
   {
    "duration": 103,
    "start_time": "2023-04-02T15:47:16.028Z"
   },
   {
    "duration": 30,
    "start_time": "2023-04-02T15:47:16.134Z"
   },
   {
    "duration": 1052,
    "start_time": "2023-04-02T15:47:18.181Z"
   },
   {
    "duration": 1314,
    "start_time": "2023-04-02T15:47:19.235Z"
   },
   {
    "duration": 231,
    "start_time": "2023-04-02T15:47:20.557Z"
   },
   {
    "duration": 61653,
    "start_time": "2023-04-02T15:47:24.895Z"
   },
   {
    "duration": 219478,
    "start_time": "2023-04-02T15:51:33.685Z"
   },
   {
    "duration": 42773,
    "start_time": "2023-04-02T15:56:55.575Z"
   },
   {
    "duration": 1782,
    "start_time": "2023-04-02T16:03:44.732Z"
   },
   {
    "duration": 20,
    "start_time": "2023-04-02T16:04:05.982Z"
   },
   {
    "duration": 1969,
    "start_time": "2023-04-02T16:04:22.359Z"
   },
   {
    "duration": 3296,
    "start_time": "2023-04-02T16:15:21.468Z"
   },
   {
    "duration": 2158,
    "start_time": "2023-04-02T16:16:06.868Z"
   },
   {
    "duration": 17,
    "start_time": "2023-04-02T16:19:02.661Z"
   },
   {
    "duration": 16,
    "start_time": "2023-04-02T16:19:16.806Z"
   },
   {
    "duration": 14,
    "start_time": "2023-04-02T16:19:25.118Z"
   },
   {
    "duration": 42795,
    "start_time": "2023-04-02T16:19:36.254Z"
   },
   {
    "duration": 1931,
    "start_time": "2023-04-02T19:18:34.624Z"
   },
   {
    "duration": 3435,
    "start_time": "2023-04-02T19:18:36.557Z"
   },
   {
    "duration": 164,
    "start_time": "2023-04-02T19:18:39.995Z"
   },
   {
    "duration": 130,
    "start_time": "2023-04-02T19:18:40.161Z"
   },
   {
    "duration": 296,
    "start_time": "2023-04-02T19:18:40.294Z"
   },
   {
    "duration": 1795,
    "start_time": "2023-04-02T19:19:14.930Z"
   },
   {
    "duration": 1542,
    "start_time": "2023-04-02T19:21:02.335Z"
   },
   {
    "duration": 1663,
    "start_time": "2023-04-02T19:21:16.588Z"
   },
   {
    "duration": 1523,
    "start_time": "2023-04-02T19:21:25.826Z"
   },
   {
    "duration": 1583,
    "start_time": "2023-04-02T19:21:52.721Z"
   },
   {
    "duration": 1799,
    "start_time": "2023-04-02T19:22:49.897Z"
   },
   {
    "duration": 1511,
    "start_time": "2023-04-02T19:23:24.397Z"
   },
   {
    "duration": 1620,
    "start_time": "2023-04-02T19:24:08.137Z"
   },
   {
    "duration": 1720,
    "start_time": "2023-04-02T19:24:24.556Z"
   },
   {
    "duration": 1694,
    "start_time": "2023-04-02T19:24:52.396Z"
   },
   {
    "duration": 1789,
    "start_time": "2023-04-02T19:25:04.123Z"
   },
   {
    "duration": 1707,
    "start_time": "2023-04-02T19:25:15.259Z"
   },
   {
    "duration": 1602,
    "start_time": "2023-04-02T19:25:32.851Z"
   },
   {
    "duration": 1536,
    "start_time": "2023-04-02T19:27:08.187Z"
   },
   {
    "duration": 1797,
    "start_time": "2023-04-02T19:27:16.093Z"
   },
   {
    "duration": 1755,
    "start_time": "2023-04-02T19:27:42.590Z"
   },
   {
    "duration": 1620,
    "start_time": "2023-04-02T19:28:27.294Z"
   },
   {
    "duration": 1562,
    "start_time": "2023-04-02T19:28:48.051Z"
   },
   {
    "duration": 1418,
    "start_time": "2023-04-02T19:28:57.285Z"
   },
   {
    "duration": 13,
    "start_time": "2023-04-02T19:30:21.488Z"
   },
   {
    "duration": 136,
    "start_time": "2023-04-02T19:30:31.352Z"
   },
   {
    "duration": 132,
    "start_time": "2023-04-02T19:30:38.894Z"
   },
   {
    "duration": 127,
    "start_time": "2023-04-02T19:30:45.890Z"
   },
   {
    "duration": 417,
    "start_time": "2023-04-02T19:32:23.764Z"
   },
   {
    "duration": 880,
    "start_time": "2023-04-02T19:32:24.723Z"
   },
   {
    "duration": 40,
    "start_time": "2023-04-02T19:32:25.912Z"
   },
   {
    "duration": 12,
    "start_time": "2023-04-02T19:32:34.617Z"
   },
   {
    "duration": 30,
    "start_time": "2023-04-02T19:32:57.817Z"
   },
   {
    "duration": 4,
    "start_time": "2023-04-02T19:32:58.631Z"
   },
   {
    "duration": 13,
    "start_time": "2023-04-02T19:32:59.802Z"
   },
   {
    "duration": 29,
    "start_time": "2023-04-02T19:33:00.893Z"
   },
   {
    "duration": 8,
    "start_time": "2023-04-02T19:33:01.198Z"
   },
   {
    "duration": 39,
    "start_time": "2023-04-02T19:33:01.600Z"
   },
   {
    "duration": 69,
    "start_time": "2023-04-02T19:33:01.740Z"
   },
   {
    "duration": 56,
    "start_time": "2023-04-02T19:33:01.915Z"
   },
   {
    "duration": 42,
    "start_time": "2023-04-02T19:33:02.999Z"
   },
   {
    "duration": 29,
    "start_time": "2023-04-02T19:33:03.261Z"
   },
   {
    "duration": 26,
    "start_time": "2023-04-02T19:33:03.549Z"
   },
   {
    "duration": 14,
    "start_time": "2023-04-02T19:33:03.934Z"
   },
   {
    "duration": 39,
    "start_time": "2023-04-02T19:33:04.264Z"
   },
   {
    "duration": 13,
    "start_time": "2023-04-02T19:33:04.915Z"
   },
   {
    "duration": 33,
    "start_time": "2023-04-02T19:33:05.286Z"
   },
   {
    "duration": 46,
    "start_time": "2023-04-02T19:33:05.542Z"
   },
   {
    "duration": 17,
    "start_time": "2023-04-02T19:33:05.796Z"
   },
   {
    "duration": 46,
    "start_time": "2023-04-02T19:33:06.046Z"
   },
   {
    "duration": 17,
    "start_time": "2023-04-02T19:33:06.437Z"
   },
   {
    "duration": 74,
    "start_time": "2023-04-02T19:33:06.721Z"
   },
   {
    "duration": 5,
    "start_time": "2023-04-02T19:33:07.798Z"
   },
   {
    "duration": 3,
    "start_time": "2023-04-02T19:33:08.796Z"
   },
   {
    "duration": 22,
    "start_time": "2023-04-02T19:33:09.197Z"
   },
   {
    "duration": 8,
    "start_time": "2023-04-02T19:33:09.546Z"
   },
   {
    "duration": 20,
    "start_time": "2023-04-02T19:33:10.430Z"
   },
   {
    "duration": 1854,
    "start_time": "2023-04-02T19:33:13.295Z"
   },
   {
    "duration": 10,
    "start_time": "2023-04-02T19:33:15.151Z"
   },
   {
    "duration": 26,
    "start_time": "2023-04-02T19:33:15.163Z"
   },
   {
    "duration": 20,
    "start_time": "2023-04-02T19:33:15.221Z"
   },
   {
    "duration": 38,
    "start_time": "2023-04-02T19:33:16.001Z"
   },
   {
    "duration": 364,
    "start_time": "2023-04-02T19:33:20.187Z"
   },
   {
    "duration": 10,
    "start_time": "2023-04-02T19:33:23.345Z"
   },
   {
    "duration": 66,
    "start_time": "2023-04-02T19:33:25.688Z"
   },
   {
    "duration": 25,
    "start_time": "2023-04-02T19:34:07.667Z"
   },
   {
    "duration": 10,
    "start_time": "2023-04-02T19:34:13.374Z"
   },
   {
    "duration": 490,
    "start_time": "2023-04-02T19:34:16.436Z"
   },
   {
    "duration": 359,
    "start_time": "2023-04-02T19:34:18.349Z"
   },
   {
    "duration": 169,
    "start_time": "2023-04-02T19:34:23.221Z"
   },
   {
    "duration": 50254,
    "start_time": "2023-04-02T19:34:34.023Z"
   },
   {
    "duration": 273908,
    "start_time": "2023-04-02T19:35:24.283Z"
   },
   {
    "duration": 21498,
    "start_time": "2023-04-02T19:39:58.193Z"
   },
   {
    "duration": 26999,
    "start_time": "2023-04-02T19:45:53.884Z"
   },
   {
    "duration": 305,
    "start_time": "2023-04-02T19:46:20.885Z"
   },
   {
    "duration": 12,
    "start_time": "2023-04-02T19:46:21.272Z"
   },
   {
    "duration": 3,
    "start_time": "2023-04-02T19:47:02.456Z"
   },
   {
    "duration": 3,
    "start_time": "2023-04-02T19:47:03.112Z"
   },
   {
    "duration": 72,
    "start_time": "2023-04-02T19:47:03.858Z"
   },
   {
    "duration": 83,
    "start_time": "2023-04-02T19:47:14.165Z"
   },
   {
    "duration": 4,
    "start_time": "2023-04-02T19:47:38.810Z"
   },
   {
    "duration": 19,
    "start_time": "2023-04-02T19:47:42.566Z"
   },
   {
    "duration": 8,
    "start_time": "2023-04-02T19:47:59.893Z"
   },
   {
    "duration": 3,
    "start_time": "2023-04-02T20:18:18.234Z"
   },
   {
    "duration": 8,
    "start_time": "2023-04-02T20:18:19.222Z"
   },
   {
    "duration": 5,
    "start_time": "2023-04-02T20:19:58.834Z"
   },
   {
    "duration": 6,
    "start_time": "2023-04-02T20:21:15.494Z"
   },
   {
    "duration": 8,
    "start_time": "2023-04-02T20:21:18.441Z"
   },
   {
    "duration": 12,
    "start_time": "2023-04-02T20:23:38.990Z"
   },
   {
    "duration": 3,
    "start_time": "2023-04-02T20:24:14.156Z"
   },
   {
    "duration": 42,
    "start_time": "2023-04-02T20:24:14.798Z"
   },
   {
    "duration": 39,
    "start_time": "2023-04-02T20:24:37.298Z"
   },
   {
    "duration": 56,
    "start_time": "2023-04-02T20:24:49.759Z"
   },
   {
    "duration": 48,
    "start_time": "2023-04-02T20:24:57.197Z"
   },
   {
    "duration": 4,
    "start_time": "2023-04-02T20:27:37.598Z"
   },
   {
    "duration": 10,
    "start_time": "2023-04-02T20:29:08.719Z"
   },
   {
    "duration": 14,
    "start_time": "2023-04-02T20:29:24.665Z"
   },
   {
    "duration": 4177,
    "start_time": "2023-04-02T20:35:27.643Z"
   },
   {
    "duration": 3413,
    "start_time": "2023-04-02T20:35:31.823Z"
   },
   {
    "duration": 208,
    "start_time": "2023-04-02T20:35:35.238Z"
   },
   {
    "duration": 97,
    "start_time": "2023-04-02T20:35:35.449Z"
   },
   {
    "duration": 2082,
    "start_time": "2023-04-02T20:35:35.547Z"
   },
   {
    "duration": 1744,
    "start_time": "2023-04-02T20:35:37.631Z"
   },
   {
    "duration": 2035,
    "start_time": "2023-04-02T20:35:39.377Z"
   },
   {
    "duration": 520,
    "start_time": "2023-04-02T20:35:41.414Z"
   },
   {
    "duration": 984,
    "start_time": "2023-04-02T20:35:41.936Z"
   },
   {
    "duration": 37,
    "start_time": "2023-04-02T20:35:42.925Z"
   },
   {
    "duration": 48,
    "start_time": "2023-04-02T20:35:42.964Z"
   },
   {
    "duration": 45,
    "start_time": "2023-04-02T20:35:43.013Z"
   },
   {
    "duration": 3,
    "start_time": "2023-04-02T20:35:43.060Z"
   },
   {
    "duration": 53,
    "start_time": "2023-04-02T20:35:43.065Z"
   },
   {
    "duration": 39,
    "start_time": "2023-04-02T20:35:43.120Z"
   },
   {
    "duration": 18,
    "start_time": "2023-04-02T20:35:43.161Z"
   },
   {
    "duration": 86,
    "start_time": "2023-04-02T20:35:43.180Z"
   },
   {
    "duration": 99,
    "start_time": "2023-04-02T20:35:43.268Z"
   },
   {
    "duration": 117,
    "start_time": "2023-04-02T20:35:43.369Z"
   },
   {
    "duration": 53,
    "start_time": "2023-04-02T20:35:43.487Z"
   },
   {
    "duration": 37,
    "start_time": "2023-04-02T20:35:43.542Z"
   },
   {
    "duration": 97,
    "start_time": "2023-04-02T20:35:43.581Z"
   },
   {
    "duration": 79,
    "start_time": "2023-04-02T20:35:43.680Z"
   },
   {
    "duration": 62,
    "start_time": "2023-04-02T20:35:43.760Z"
   },
   {
    "duration": 41,
    "start_time": "2023-04-02T20:35:43.824Z"
   },
   {
    "duration": 87,
    "start_time": "2023-04-02T20:35:43.867Z"
   },
   {
    "duration": 45,
    "start_time": "2023-04-02T20:35:43.956Z"
   },
   {
    "duration": 28,
    "start_time": "2023-04-02T20:35:44.007Z"
   },
   {
    "duration": 77,
    "start_time": "2023-04-02T20:35:44.037Z"
   },
   {
    "duration": 39,
    "start_time": "2023-04-02T20:35:44.116Z"
   },
   {
    "duration": 113,
    "start_time": "2023-04-02T20:35:44.157Z"
   },
   {
    "duration": 64,
    "start_time": "2023-04-02T20:35:44.275Z"
   },
   {
    "duration": 18,
    "start_time": "2023-04-02T20:35:44.341Z"
   },
   {
    "duration": 50,
    "start_time": "2023-04-02T20:35:44.361Z"
   },
   {
    "duration": 22,
    "start_time": "2023-04-02T20:35:44.413Z"
   },
   {
    "duration": 31,
    "start_time": "2023-04-02T20:35:44.437Z"
   },
   {
    "duration": 2211,
    "start_time": "2023-04-02T20:35:44.470Z"
   },
   {
    "duration": 14,
    "start_time": "2023-04-02T20:35:46.694Z"
   },
   {
    "duration": 28,
    "start_time": "2023-04-02T20:35:46.711Z"
   },
   {
    "duration": 38,
    "start_time": "2023-04-02T20:35:46.742Z"
   },
   {
    "duration": 87,
    "start_time": "2023-04-02T20:35:46.782Z"
   },
   {
    "duration": 537,
    "start_time": "2023-04-02T20:35:46.871Z"
   },
   {
    "duration": 10,
    "start_time": "2023-04-02T20:35:47.411Z"
   },
   {
    "duration": 94,
    "start_time": "2023-04-02T20:35:47.423Z"
   },
   {
    "duration": 33,
    "start_time": "2023-04-02T20:35:47.518Z"
   },
   {
    "duration": 612,
    "start_time": "2023-04-02T20:35:47.553Z"
   },
   {
    "duration": 426,
    "start_time": "2023-04-02T20:35:48.167Z"
   },
   {
    "duration": 229,
    "start_time": "2023-04-02T20:35:48.595Z"
   },
   {
    "duration": 40556,
    "start_time": "2023-04-02T20:35:48.826Z"
   },
   {
    "duration": 1927,
    "start_time": "2023-04-02T20:39:41.195Z"
   },
   {
    "duration": 968,
    "start_time": "2023-04-02T20:39:43.125Z"
   },
   {
    "duration": 237,
    "start_time": "2023-04-02T20:39:44.108Z"
   },
   {
    "duration": 115,
    "start_time": "2023-04-02T20:39:44.347Z"
   },
   {
    "duration": 2032,
    "start_time": "2023-04-02T20:39:44.465Z"
   },
   {
    "duration": 1856,
    "start_time": "2023-04-02T20:39:46.499Z"
   },
   {
    "duration": 2427,
    "start_time": "2023-04-02T20:39:48.357Z"
   },
   {
    "duration": 661,
    "start_time": "2023-04-02T20:39:50.787Z"
   },
   {
    "duration": 944,
    "start_time": "2023-04-02T20:39:51.450Z"
   },
   {
    "duration": 46,
    "start_time": "2023-04-02T20:39:52.395Z"
   },
   {
    "duration": 14,
    "start_time": "2023-04-02T20:39:52.442Z"
   },
   {
    "duration": 73,
    "start_time": "2023-04-02T20:39:52.457Z"
   },
   {
    "duration": 3,
    "start_time": "2023-04-02T20:39:52.531Z"
   },
   {
    "duration": 25,
    "start_time": "2023-04-02T20:39:52.537Z"
   },
   {
    "duration": 42,
    "start_time": "2023-04-02T20:39:52.564Z"
   },
   {
    "duration": 30,
    "start_time": "2023-04-02T20:39:52.610Z"
   },
   {
    "duration": 52,
    "start_time": "2023-04-02T20:39:52.642Z"
   },
   {
    "duration": 68,
    "start_time": "2023-04-02T20:39:52.696Z"
   },
   {
    "duration": 98,
    "start_time": "2023-04-02T20:39:52.765Z"
   },
   {
    "duration": 48,
    "start_time": "2023-04-02T20:39:52.864Z"
   },
   {
    "duration": 39,
    "start_time": "2023-04-02T20:39:52.913Z"
   },
   {
    "duration": 111,
    "start_time": "2023-04-02T20:39:52.954Z"
   },
   {
    "duration": 76,
    "start_time": "2023-04-02T20:39:53.067Z"
   },
   {
    "duration": 75,
    "start_time": "2023-04-02T20:39:53.146Z"
   },
   {
    "duration": 14,
    "start_time": "2023-04-02T20:39:53.222Z"
   },
   {
    "duration": 51,
    "start_time": "2023-04-02T20:39:53.238Z"
   },
   {
    "duration": 45,
    "start_time": "2023-04-02T20:39:53.294Z"
   },
   {
    "duration": 15,
    "start_time": "2023-04-02T20:39:53.340Z"
   },
   {
    "duration": 43,
    "start_time": "2023-04-02T20:39:53.356Z"
   },
   {
    "duration": 28,
    "start_time": "2023-04-02T20:39:53.401Z"
   },
   {
    "duration": 122,
    "start_time": "2023-04-02T20:39:53.432Z"
   },
   {
    "duration": 5,
    "start_time": "2023-04-02T20:39:53.556Z"
   },
   {
    "duration": 4,
    "start_time": "2023-04-02T20:39:53.562Z"
   },
   {
    "duration": 73,
    "start_time": "2023-04-02T20:39:53.567Z"
   },
   {
    "duration": 8,
    "start_time": "2023-04-02T20:39:53.642Z"
   },
   {
    "duration": 66,
    "start_time": "2023-04-02T20:39:53.652Z"
   },
   {
    "duration": 2069,
    "start_time": "2023-04-02T20:39:53.720Z"
   },
   {
    "duration": 15,
    "start_time": "2023-04-02T20:39:55.792Z"
   },
   {
    "duration": 20,
    "start_time": "2023-04-02T20:39:55.811Z"
   },
   {
    "duration": 35,
    "start_time": "2023-04-02T20:39:55.833Z"
   },
   {
    "duration": 53,
    "start_time": "2023-04-02T20:39:55.873Z"
   },
   {
    "duration": 489,
    "start_time": "2023-04-02T20:39:55.927Z"
   },
   {
    "duration": 9,
    "start_time": "2023-04-02T20:39:56.418Z"
   },
   {
    "duration": 114,
    "start_time": "2023-04-02T20:39:56.429Z"
   },
   {
    "duration": 4,
    "start_time": "2023-04-02T20:39:56.545Z"
   },
   {
    "duration": 543,
    "start_time": "2023-04-02T20:39:56.550Z"
   },
   {
    "duration": 363,
    "start_time": "2023-04-02T20:39:57.106Z"
   },
   {
    "duration": 208,
    "start_time": "2023-04-02T20:39:57.471Z"
   },
   {
    "duration": 2,
    "start_time": "2023-04-02T20:39:57.681Z"
   },
   {
    "duration": 40994,
    "start_time": "2023-04-02T20:39:57.685Z"
   },
   {
    "duration": 410,
    "start_time": "2023-04-02T20:40:38.681Z"
   },
   {
    "duration": 5,
    "start_time": "2023-04-02T20:40:39.093Z"
   },
   {
    "duration": 104,
    "start_time": "2023-04-02T20:40:39.100Z"
   },
   {
    "duration": 1530,
    "start_time": "2023-04-02T20:40:45.836Z"
   },
   {
    "duration": 889,
    "start_time": "2023-04-02T20:40:47.369Z"
   },
   {
    "duration": 179,
    "start_time": "2023-04-02T20:40:48.260Z"
   },
   {
    "duration": 108,
    "start_time": "2023-04-02T20:40:48.441Z"
   },
   {
    "duration": 1889,
    "start_time": "2023-04-02T20:40:48.913Z"
   },
   {
    "duration": 1714,
    "start_time": "2023-04-02T20:40:50.805Z"
   },
   {
    "duration": 1741,
    "start_time": "2023-04-02T20:40:52.522Z"
   },
   {
    "duration": 458,
    "start_time": "2023-04-02T20:40:54.265Z"
   },
   {
    "duration": 988,
    "start_time": "2023-04-02T20:40:54.726Z"
   },
   {
    "duration": 52,
    "start_time": "2023-04-02T20:40:55.716Z"
   },
   {
    "duration": 47,
    "start_time": "2023-04-02T20:40:55.777Z"
   },
   {
    "duration": 34,
    "start_time": "2023-04-02T20:40:55.825Z"
   },
   {
    "duration": 3,
    "start_time": "2023-04-02T20:40:55.861Z"
   },
   {
    "duration": 22,
    "start_time": "2023-04-02T20:40:56.793Z"
   },
   {
    "duration": 34,
    "start_time": "2023-04-02T20:40:58.106Z"
   },
   {
    "duration": 9,
    "start_time": "2023-04-02T20:40:58.935Z"
   },
   {
    "duration": 48,
    "start_time": "2023-04-02T20:41:00.247Z"
   },
   {
    "duration": 72,
    "start_time": "2023-04-02T20:41:00.893Z"
   },
   {
    "duration": 115,
    "start_time": "2023-04-02T20:41:01.851Z"
   },
   {
    "duration": 41,
    "start_time": "2023-04-02T20:41:03.389Z"
   },
   {
    "duration": 24,
    "start_time": "2023-04-02T20:41:04.031Z"
   },
   {
    "duration": 40,
    "start_time": "2023-04-02T20:41:04.597Z"
   },
   {
    "duration": 14,
    "start_time": "2023-04-02T20:41:05.201Z"
   },
   {
    "duration": 49,
    "start_time": "2023-04-02T20:41:06.701Z"
   },
   {
    "duration": 25,
    "start_time": "2023-04-02T20:41:07.612Z"
   },
   {
    "duration": 47,
    "start_time": "2023-04-02T20:41:09.868Z"
   },
   {
    "duration": 45,
    "start_time": "2023-04-02T20:41:10.414Z"
   },
   {
    "duration": 21,
    "start_time": "2023-04-02T20:41:11.122Z"
   },
   {
    "duration": 39,
    "start_time": "2023-04-02T20:41:12.005Z"
   },
   {
    "duration": 30,
    "start_time": "2023-04-02T20:41:12.393Z"
   },
   {
    "duration": 85,
    "start_time": "2023-04-02T20:41:13.117Z"
   },
   {
    "duration": 8,
    "start_time": "2023-04-02T20:41:14.442Z"
   },
   {
    "duration": 3,
    "start_time": "2023-04-02T20:41:15.897Z"
   },
   {
    "duration": 29,
    "start_time": "2023-04-02T20:41:16.712Z"
   },
   {
    "duration": 12,
    "start_time": "2023-04-02T20:41:17.405Z"
   },
   {
    "duration": 27,
    "start_time": "2023-04-02T20:41:18.060Z"
   },
   {
    "duration": 2408,
    "start_time": "2023-04-02T20:41:20.224Z"
   },
   {
    "duration": 13,
    "start_time": "2023-04-02T20:41:22.635Z"
   },
   {
    "duration": 10,
    "start_time": "2023-04-02T20:41:23.297Z"
   },
   {
    "duration": 20,
    "start_time": "2023-04-02T20:41:24.105Z"
   },
   {
    "duration": 41,
    "start_time": "2023-04-02T20:41:24.900Z"
   },
   {
    "duration": 414,
    "start_time": "2023-04-02T20:41:26.107Z"
   },
   {
    "duration": 9,
    "start_time": "2023-04-02T20:41:27.312Z"
   },
   {
    "duration": 72,
    "start_time": "2023-04-02T20:41:28.193Z"
   },
   {
    "duration": 3,
    "start_time": "2023-04-02T20:41:28.933Z"
   },
   {
    "duration": 534,
    "start_time": "2023-04-02T20:41:31.507Z"
   },
   {
    "duration": 438,
    "start_time": "2023-04-02T20:41:32.824Z"
   },
   {
    "duration": 257,
    "start_time": "2023-04-02T20:41:35.097Z"
   },
   {
    "duration": 3,
    "start_time": "2023-04-02T20:41:36.924Z"
   },
   {
    "duration": 41243,
    "start_time": "2023-04-02T20:41:39.034Z"
   },
   {
    "duration": 305,
    "start_time": "2023-04-02T20:42:20.280Z"
   },
   {
    "duration": 8,
    "start_time": "2023-04-02T20:42:20.588Z"
   },
   {
    "duration": 2,
    "start_time": "2023-04-02T20:42:29.656Z"
   },
   {
    "duration": 48803,
    "start_time": "2023-04-02T20:42:30.110Z"
   },
   {
    "duration": 3,
    "start_time": "2023-04-02T20:43:59.563Z"
   },
   {
    "duration": 201733,
    "start_time": "2023-04-02T20:43:59.945Z"
   },
   {
    "duration": 5,
    "start_time": "2023-04-02T20:47:21.691Z"
   },
   {
    "duration": 23715,
    "start_time": "2023-04-02T20:47:43.323Z"
   },
   {
    "duration": 253,
    "start_time": "2023-04-02T20:48:07.040Z"
   },
   {
    "duration": 98,
    "start_time": "2023-04-02T20:48:07.296Z"
   },
   {
    "duration": 4,
    "start_time": "2023-04-02T20:48:19.991Z"
   },
   {
    "duration": 1556,
    "start_time": "2023-04-02T20:59:32.097Z"
   },
   {
    "duration": 756,
    "start_time": "2023-04-02T20:59:33.655Z"
   },
   {
    "duration": 139,
    "start_time": "2023-04-02T20:59:34.415Z"
   },
   {
    "duration": 127,
    "start_time": "2023-04-02T20:59:34.556Z"
   },
   {
    "duration": 1667,
    "start_time": "2023-04-02T20:59:34.690Z"
   },
   {
    "duration": 1663,
    "start_time": "2023-04-02T20:59:36.359Z"
   },
   {
    "duration": 1739,
    "start_time": "2023-04-02T20:59:38.023Z"
   },
   {
    "duration": 437,
    "start_time": "2023-04-02T20:59:39.764Z"
   },
   {
    "duration": 925,
    "start_time": "2023-04-02T20:59:40.202Z"
   },
   {
    "duration": 54,
    "start_time": "2023-04-02T20:59:41.129Z"
   },
   {
    "duration": 22,
    "start_time": "2023-04-02T20:59:41.184Z"
   },
   {
    "duration": 33,
    "start_time": "2023-04-02T20:59:41.207Z"
   },
   {
    "duration": 3,
    "start_time": "2023-04-02T20:59:41.242Z"
   },
   {
    "duration": 10,
    "start_time": "2023-04-02T20:59:41.247Z"
   },
   {
    "duration": 43,
    "start_time": "2023-04-02T20:59:41.258Z"
   },
   {
    "duration": 10,
    "start_time": "2023-04-02T20:59:41.302Z"
   },
   {
    "duration": 35,
    "start_time": "2023-04-02T20:59:41.313Z"
   },
   {
    "duration": 84,
    "start_time": "2023-04-02T20:59:41.350Z"
   },
   {
    "duration": 73,
    "start_time": "2023-04-02T20:59:41.436Z"
   },
   {
    "duration": 46,
    "start_time": "2023-04-02T20:59:41.513Z"
   },
   {
    "duration": 43,
    "start_time": "2023-04-02T20:59:41.560Z"
   },
   {
    "duration": 34,
    "start_time": "2023-04-02T20:59:41.604Z"
   },
   {
    "duration": 14,
    "start_time": "2023-04-02T20:59:41.640Z"
   },
   {
    "duration": 56,
    "start_time": "2023-04-02T20:59:41.655Z"
   },
   {
    "duration": 16,
    "start_time": "2023-04-02T20:59:41.713Z"
   },
   {
    "duration": 29,
    "start_time": "2023-04-02T20:59:41.730Z"
   },
   {
    "duration": 37,
    "start_time": "2023-04-02T20:59:41.761Z"
   },
   {
    "duration": 19,
    "start_time": "2023-04-02T20:59:41.809Z"
   },
   {
    "duration": 37,
    "start_time": "2023-04-02T20:59:41.830Z"
   },
   {
    "duration": 28,
    "start_time": "2023-04-02T20:59:41.868Z"
   },
   {
    "duration": 105,
    "start_time": "2023-04-02T20:59:41.897Z"
   },
   {
    "duration": 25,
    "start_time": "2023-04-02T20:59:42.003Z"
   },
   {
    "duration": 2,
    "start_time": "2023-04-02T20:59:42.030Z"
   },
   {
    "duration": 27,
    "start_time": "2023-04-02T20:59:42.034Z"
   },
   {
    "duration": 35,
    "start_time": "2023-04-02T20:59:42.063Z"
   },
   {
    "duration": 25,
    "start_time": "2023-04-02T20:59:42.103Z"
   },
   {
    "duration": 2080,
    "start_time": "2023-04-02T20:59:42.130Z"
   },
   {
    "duration": 12,
    "start_time": "2023-04-02T20:59:44.212Z"
   },
   {
    "duration": 7,
    "start_time": "2023-04-02T20:59:44.225Z"
   },
   {
    "duration": 48,
    "start_time": "2023-04-02T20:59:44.237Z"
   },
   {
    "duration": 61,
    "start_time": "2023-04-02T20:59:44.286Z"
   },
   {
    "duration": 408,
    "start_time": "2023-04-02T20:59:44.349Z"
   },
   {
    "duration": 26,
    "start_time": "2023-04-02T20:59:44.759Z"
   },
   {
    "duration": 104,
    "start_time": "2023-04-02T20:59:44.792Z"
   },
   {
    "duration": 3,
    "start_time": "2023-04-02T20:59:44.906Z"
   },
   {
    "duration": 536,
    "start_time": "2023-04-02T20:59:44.911Z"
   },
   {
    "duration": 410,
    "start_time": "2023-04-02T20:59:45.449Z"
   },
   {
    "duration": 226,
    "start_time": "2023-04-02T20:59:45.861Z"
   },
   {
    "duration": 11,
    "start_time": "2023-04-02T20:59:46.094Z"
   },
   {
    "duration": 85802,
    "start_time": "2023-04-02T20:59:46.111Z"
   },
   {
    "duration": 388,
    "start_time": "2023-04-02T21:01:11.915Z"
   },
   {
    "duration": 75,
    "start_time": "2023-04-02T21:01:12.311Z"
   },
   {
    "duration": 26,
    "start_time": "2023-04-02T21:01:12.398Z"
   },
   {
    "duration": 330968,
    "start_time": "2023-04-02T21:01:12.426Z"
   },
   {
    "duration": 10,
    "start_time": "2023-04-02T21:06:43.402Z"
   },
   {
    "duration": 35108,
    "start_time": "2023-04-02T21:06:43.413Z"
   },
   {
    "duration": 268,
    "start_time": "2023-04-02T21:07:18.523Z"
   },
   {
    "duration": 5,
    "start_time": "2023-04-02T21:07:18.794Z"
   },
   {
    "duration": 105,
    "start_time": "2023-04-02T21:07:18.800Z"
   },
   {
    "duration": 2044,
    "start_time": "2023-04-03T06:27:04.739Z"
   },
   {
    "duration": 1200,
    "start_time": "2023-04-03T06:27:06.785Z"
   },
   {
    "duration": 149,
    "start_time": "2023-04-03T06:27:07.986Z"
   },
   {
    "duration": 109,
    "start_time": "2023-04-03T06:27:08.137Z"
   },
   {
    "duration": 1925,
    "start_time": "2023-04-03T06:27:08.248Z"
   },
   {
    "duration": 1651,
    "start_time": "2023-04-03T06:27:12.530Z"
   },
   {
    "duration": 1629,
    "start_time": "2023-04-03T06:27:14.183Z"
   },
   {
    "duration": 483,
    "start_time": "2023-04-03T06:29:13.337Z"
   },
   {
    "duration": 2429,
    "start_time": "2023-04-03T06:38:17.351Z"
   },
   {
    "duration": 5,
    "start_time": "2023-04-03T06:38:39.293Z"
   },
   {
    "duration": 1448,
    "start_time": "2023-04-03T06:38:59.142Z"
   },
   {
    "duration": 5,
    "start_time": "2023-04-03T06:39:26.174Z"
   },
   {
    "duration": 447,
    "start_time": "2023-04-03T06:39:29.055Z"
   },
   {
    "duration": 5,
    "start_time": "2023-04-03T06:39:50.966Z"
   },
   {
    "duration": 500,
    "start_time": "2023-04-03T06:39:52.426Z"
   },
   {
    "duration": 19,
    "start_time": "2023-04-03T06:40:34.436Z"
   },
   {
    "duration": 5,
    "start_time": "2023-04-03T06:40:49.381Z"
   },
   {
    "duration": 8,
    "start_time": "2023-04-03T06:41:14.322Z"
   },
   {
    "duration": 5,
    "start_time": "2023-04-03T06:41:26.104Z"
   },
   {
    "duration": 1984,
    "start_time": "2023-04-03T06:41:29.677Z"
   },
   {
    "duration": 4,
    "start_time": "2023-04-03T06:42:09.025Z"
   },
   {
    "duration": 4,
    "start_time": "2023-04-03T06:42:10.068Z"
   },
   {
    "duration": 1793,
    "start_time": "2023-04-03T06:42:10.956Z"
   },
   {
    "duration": 5,
    "start_time": "2023-04-03T06:49:06.982Z"
   },
   {
    "duration": 2188,
    "start_time": "2023-04-03T06:49:07.907Z"
   },
   {
    "duration": 5,
    "start_time": "2023-04-03T06:49:48.860Z"
   },
   {
    "duration": 8555,
    "start_time": "2023-04-03T06:49:49.931Z"
   },
   {
    "duration": 8,
    "start_time": "2023-04-03T06:50:29.858Z"
   },
   {
    "duration": 4,
    "start_time": "2023-04-03T06:50:30.326Z"
   },
   {
    "duration": 7504,
    "start_time": "2023-04-03T06:50:34.131Z"
   },
   {
    "duration": 1610,
    "start_time": "2023-04-03T06:51:59.353Z"
   },
   {
    "duration": 947,
    "start_time": "2023-04-03T06:52:00.975Z"
   },
   {
    "duration": 278,
    "start_time": "2023-04-03T06:52:03.991Z"
   },
   {
    "duration": 97,
    "start_time": "2023-04-03T06:52:04.518Z"
   },
   {
    "duration": 5,
    "start_time": "2023-04-03T06:52:05.137Z"
   },
   {
    "duration": 4,
    "start_time": "2023-04-03T06:52:16.122Z"
   },
   {
    "duration": 7984,
    "start_time": "2023-04-03T06:52:16.524Z"
   },
   {
    "duration": 566,
    "start_time": "2023-04-03T06:52:24.518Z"
   },
   {
    "duration": 1089,
    "start_time": "2023-04-03T06:52:25.095Z"
   },
   {
    "duration": 42,
    "start_time": "2023-04-03T06:52:26.187Z"
   },
   {
    "duration": 13,
    "start_time": "2023-04-03T06:52:26.231Z"
   },
   {
    "duration": 40,
    "start_time": "2023-04-03T06:52:26.265Z"
   },
   {
    "duration": 4,
    "start_time": "2023-04-03T06:52:26.307Z"
   },
   {
    "duration": 13,
    "start_time": "2023-04-03T06:52:30.718Z"
   },
   {
    "duration": 34,
    "start_time": "2023-04-03T06:52:32.114Z"
   },
   {
    "duration": 9,
    "start_time": "2023-04-03T06:52:32.530Z"
   },
   {
    "duration": 55,
    "start_time": "2023-04-03T06:52:33.222Z"
   },
   {
    "duration": 92,
    "start_time": "2023-04-03T06:52:33.832Z"
   },
   {
    "duration": 96,
    "start_time": "2023-04-03T06:52:34.722Z"
   },
   {
    "duration": 50,
    "start_time": "2023-04-03T06:52:36.370Z"
   },
   {
    "duration": 17,
    "start_time": "2023-04-03T06:52:37.009Z"
   },
   {
    "duration": 43,
    "start_time": "2023-04-03T06:52:37.422Z"
   },
   {
    "duration": 32,
    "start_time": "2023-04-03T06:52:37.848Z"
   },
   {
    "duration": 62,
    "start_time": "2023-04-03T06:52:38.656Z"
   },
   {
    "duration": 26,
    "start_time": "2023-04-03T06:52:39.064Z"
   },
   {
    "duration": 34,
    "start_time": "2023-04-03T06:52:39.689Z"
   },
   {
    "duration": 51,
    "start_time": "2023-04-03T06:52:40.161Z"
   },
   {
    "duration": 29,
    "start_time": "2023-04-03T06:52:40.826Z"
   },
   {
    "duration": 34,
    "start_time": "2023-04-03T06:52:41.222Z"
   },
   {
    "duration": 28,
    "start_time": "2023-04-03T06:52:41.552Z"
   },
   {
    "duration": 93,
    "start_time": "2023-04-03T06:52:42.032Z"
   },
   {
    "duration": 7,
    "start_time": "2023-04-03T06:52:43.432Z"
   },
   {
    "duration": 5,
    "start_time": "2023-04-03T06:52:44.868Z"
   },
   {
    "duration": 27,
    "start_time": "2023-04-03T06:52:45.240Z"
   },
   {
    "duration": 8,
    "start_time": "2023-04-03T06:52:45.641Z"
   },
   {
    "duration": 21,
    "start_time": "2023-04-03T06:52:46.229Z"
   },
   {
    "duration": 2170,
    "start_time": "2023-04-03T06:52:48.736Z"
   },
   {
    "duration": 11,
    "start_time": "2023-04-03T06:52:50.908Z"
   },
   {
    "duration": 8,
    "start_time": "2023-04-03T06:52:50.921Z"
   },
   {
    "duration": 54,
    "start_time": "2023-04-03T06:52:50.931Z"
   },
   {
    "duration": 40,
    "start_time": "2023-04-03T06:52:50.987Z"
   },
   {
    "duration": 452,
    "start_time": "2023-04-03T06:52:51.048Z"
   },
   {
    "duration": 11,
    "start_time": "2023-04-03T06:52:52.288Z"
   },
   {
    "duration": 91,
    "start_time": "2023-04-03T06:53:29.959Z"
   },
   {
    "duration": 3,
    "start_time": "2023-04-03T06:53:30.282Z"
   },
   {
    "duration": 3,
    "start_time": "2023-04-03T06:56:11.885Z"
   },
   {
    "duration": 6841,
    "start_time": "2023-04-03T06:56:12.265Z"
   },
   {
    "duration": 4,
    "start_time": "2023-04-03T06:59:30.418Z"
   },
   {
    "duration": 146,
    "start_time": "2023-04-03T06:59:33.981Z"
   },
   {
    "duration": 12,
    "start_time": "2023-04-03T06:59:41.718Z"
   },
   {
    "duration": 16,
    "start_time": "2023-04-03T07:02:34.082Z"
   },
   {
    "duration": 4,
    "start_time": "2023-04-03T07:02:36.984Z"
   },
   {
    "duration": 7250,
    "start_time": "2023-04-03T07:02:37.247Z"
   },
   {
    "duration": 4,
    "start_time": "2023-04-03T07:03:06.446Z"
   },
   {
    "duration": 6,
    "start_time": "2023-04-03T07:04:21.592Z"
   },
   {
    "duration": 2787,
    "start_time": "2023-04-03T07:05:16.823Z"
   },
   {
    "duration": 2722,
    "start_time": "2023-04-03T07:06:47.237Z"
   },
   {
    "duration": 112,
    "start_time": "2023-04-03T07:08:07.130Z"
   },
   {
    "duration": 6,
    "start_time": "2023-04-03T07:09:17.224Z"
   },
   {
    "duration": 1661,
    "start_time": "2023-04-03T07:09:18.129Z"
   },
   {
    "duration": 14,
    "start_time": "2023-04-03T07:09:47.462Z"
   },
   {
    "duration": 11223,
    "start_time": "2023-04-03T07:09:48.633Z"
   },
   {
    "duration": 3,
    "start_time": "2023-04-03T07:19:50.237Z"
   },
   {
    "duration": 2075,
    "start_time": "2023-04-03T07:20:13.091Z"
   },
   {
    "duration": 1839,
    "start_time": "2023-04-03T07:20:29.357Z"
   },
   {
    "duration": 980,
    "start_time": "2023-04-03T07:20:31.201Z"
   },
   {
    "duration": 194,
    "start_time": "2023-04-03T07:20:32.186Z"
   },
   {
    "duration": 119,
    "start_time": "2023-04-03T07:20:32.382Z"
   },
   {
    "duration": 5,
    "start_time": "2023-04-03T07:20:32.508Z"
   },
   {
    "duration": 3,
    "start_time": "2023-04-03T07:20:39.741Z"
   },
   {
    "duration": 6206,
    "start_time": "2023-04-03T07:20:41.282Z"
   },
   {
    "duration": 4,
    "start_time": "2023-04-03T07:21:22.253Z"
   },
   {
    "duration": 6720,
    "start_time": "2023-04-03T07:21:29.012Z"
   },
   {
    "duration": 5630,
    "start_time": "2023-04-03T07:23:37.691Z"
   },
   {
    "duration": 1773,
    "start_time": "2023-04-03T07:25:18.693Z"
   },
   {
    "duration": 1163,
    "start_time": "2023-04-03T07:25:20.468Z"
   },
   {
    "duration": 275,
    "start_time": "2023-04-03T07:25:21.634Z"
   },
   {
    "duration": 114,
    "start_time": "2023-04-03T07:25:21.914Z"
   },
   {
    "duration": 4,
    "start_time": "2023-04-03T07:25:23.839Z"
   },
   {
    "duration": 1743,
    "start_time": "2023-04-03T07:29:36.539Z"
   },
   {
    "duration": 965,
    "start_time": "2023-04-03T07:29:38.284Z"
   },
   {
    "duration": 184,
    "start_time": "2023-04-03T07:29:39.251Z"
   },
   {
    "duration": 151,
    "start_time": "2023-04-03T07:29:39.438Z"
   },
   {
    "duration": 5,
    "start_time": "2023-04-03T07:29:41.731Z"
   },
   {
    "duration": 3,
    "start_time": "2023-04-03T07:29:43.812Z"
   },
   {
    "duration": 490,
    "start_time": "2023-04-03T07:29:56.452Z"
   },
   {
    "duration": 12,
    "start_time": "2023-04-03T07:30:48.659Z"
   },
   {
    "duration": 2088,
    "start_time": "2023-04-03T07:35:15.234Z"
   },
   {
    "duration": 961,
    "start_time": "2023-04-03T07:35:17.324Z"
   },
   {
    "duration": 170,
    "start_time": "2023-04-03T07:35:18.287Z"
   },
   {
    "duration": 123,
    "start_time": "2023-04-03T07:35:18.459Z"
   },
   {
    "duration": 6,
    "start_time": "2023-04-03T07:35:18.587Z"
   },
   {
    "duration": 4,
    "start_time": "2023-04-03T07:35:24.198Z"
   },
   {
    "duration": 252,
    "start_time": "2023-04-03T07:35:24.622Z"
   },
   {
    "duration": 1801,
    "start_time": "2023-04-03T07:38:55.902Z"
   },
   {
    "duration": 1362,
    "start_time": "2023-04-03T07:38:57.706Z"
   },
   {
    "duration": 170,
    "start_time": "2023-04-03T07:38:59.076Z"
   },
   {
    "duration": 102,
    "start_time": "2023-04-03T07:38:59.248Z"
   },
   {
    "duration": 16,
    "start_time": "2023-04-03T07:38:59.352Z"
   },
   {
    "duration": 10,
    "start_time": "2023-04-03T07:38:59.369Z"
   },
   {
    "duration": 5174,
    "start_time": "2023-04-03T07:38:59.383Z"
   },
   {
    "duration": 7250,
    "start_time": "2023-04-03T07:39:04.561Z"
   },
   {
    "duration": 4,
    "start_time": "2023-04-03T07:39:46.025Z"
   },
   {
    "duration": 4,
    "start_time": "2023-04-03T07:39:46.468Z"
   },
   {
    "duration": 1354,
    "start_time": "2023-04-03T07:39:47.849Z"
   },
   {
    "duration": 2007,
    "start_time": "2023-04-03T07:41:32.417Z"
   },
   {
    "duration": 95,
    "start_time": "2023-04-03T07:42:38.070Z"
   },
   {
    "duration": 1804,
    "start_time": "2023-04-03T07:43:50.510Z"
   },
   {
    "duration": 276,
    "start_time": "2023-04-03T07:45:56.156Z"
   },
   {
    "duration": 101,
    "start_time": "2023-04-03T07:46:37.580Z"
   },
   {
    "duration": 134,
    "start_time": "2023-04-03T07:47:15.513Z"
   },
   {
    "duration": 215,
    "start_time": "2023-04-03T07:47:37.210Z"
   },
   {
    "duration": 326,
    "start_time": "2023-04-03T07:49:11.371Z"
   },
   {
    "duration": 36619,
    "start_time": "2023-04-03T07:49:25.287Z"
   },
   {
    "duration": 22,
    "start_time": "2023-04-03T07:51:09.159Z"
   },
   {
    "duration": 1939,
    "start_time": "2023-04-03T07:51:26.804Z"
   },
   {
    "duration": 1861,
    "start_time": "2023-04-03T07:51:49.646Z"
   },
   {
    "duration": 1902,
    "start_time": "2023-04-03T07:52:02.622Z"
   },
   {
    "duration": 1680,
    "start_time": "2023-04-03T07:53:15.799Z"
   },
   {
    "duration": 973,
    "start_time": "2023-04-03T07:53:17.486Z"
   },
   {
    "duration": 275,
    "start_time": "2023-04-03T07:53:18.461Z"
   },
   {
    "duration": 106,
    "start_time": "2023-04-03T07:53:18.738Z"
   },
   {
    "duration": 3,
    "start_time": "2023-04-03T07:53:18.846Z"
   },
   {
    "duration": 4,
    "start_time": "2023-04-03T07:53:44.878Z"
   },
   {
    "duration": 7030,
    "start_time": "2023-04-03T07:53:48.169Z"
   },
   {
    "duration": 4,
    "start_time": "2023-04-03T07:54:44.723Z"
   },
   {
    "duration": 465,
    "start_time": "2023-04-03T07:54:47.858Z"
   },
   {
    "duration": 3,
    "start_time": "2023-04-03T07:56:16.530Z"
   },
   {
    "duration": 20,
    "start_time": "2023-04-03T07:56:19.398Z"
   },
   {
    "duration": 4,
    "start_time": "2023-04-03T07:56:29.354Z"
   },
   {
    "duration": 14,
    "start_time": "2023-04-03T07:56:32.113Z"
   },
   {
    "duration": 4,
    "start_time": "2023-04-03T07:57:12.484Z"
   },
   {
    "duration": 5191,
    "start_time": "2023-04-03T07:57:15.320Z"
   },
   {
    "duration": 5,
    "start_time": "2023-04-03T07:58:09.989Z"
   },
   {
    "duration": 5521,
    "start_time": "2023-04-03T07:58:12.655Z"
   },
   {
    "duration": 1735,
    "start_time": "2023-04-03T07:59:41.690Z"
   },
   {
    "duration": 1192,
    "start_time": "2023-04-03T07:59:43.427Z"
   },
   {
    "duration": 265,
    "start_time": "2023-04-03T07:59:44.621Z"
   },
   {
    "duration": 153,
    "start_time": "2023-04-03T07:59:44.893Z"
   },
   {
    "duration": 4,
    "start_time": "2023-04-03T07:59:45.048Z"
   },
   {
    "duration": 6,
    "start_time": "2023-04-03T07:59:45.054Z"
   },
   {
    "duration": 7450,
    "start_time": "2023-04-03T07:59:45.903Z"
   },
   {
    "duration": 570,
    "start_time": "2023-04-03T07:59:56.585Z"
   },
   {
    "duration": 1174,
    "start_time": "2023-04-03T07:59:57.161Z"
   },
   {
    "duration": 61,
    "start_time": "2023-04-03T07:59:58.337Z"
   },
   {
    "duration": 13,
    "start_time": "2023-04-03T07:59:58.400Z"
   },
   {
    "duration": 50,
    "start_time": "2023-04-03T07:59:58.415Z"
   },
   {
    "duration": 4,
    "start_time": "2023-04-03T07:59:59.038Z"
   },
   {
    "duration": 16,
    "start_time": "2023-04-03T07:59:59.486Z"
   },
   {
    "duration": 38,
    "start_time": "2023-04-03T08:00:00.287Z"
   },
   {
    "duration": 10,
    "start_time": "2023-04-03T08:00:00.733Z"
   },
   {
    "duration": 142,
    "start_time": "2023-04-03T08:00:01.541Z"
   },
   {
    "duration": 132,
    "start_time": "2023-04-03T08:00:01.838Z"
   },
   {
    "duration": 111,
    "start_time": "2023-04-03T08:00:02.390Z"
   },
   {
    "duration": 45,
    "start_time": "2023-04-03T08:00:03.193Z"
   },
   {
    "duration": 31,
    "start_time": "2023-04-03T08:00:03.755Z"
   },
   {
    "duration": 32,
    "start_time": "2023-04-03T08:00:04.510Z"
   },
   {
    "duration": 43,
    "start_time": "2023-04-03T08:00:05.159Z"
   },
   {
    "duration": 35,
    "start_time": "2023-04-03T08:00:05.910Z"
   },
   {
    "duration": 30,
    "start_time": "2023-04-03T08:00:06.503Z"
   },
   {
    "duration": 34,
    "start_time": "2023-04-03T08:00:07.006Z"
   },
   {
    "duration": 44,
    "start_time": "2023-04-03T08:00:07.392Z"
   },
   {
    "duration": 38,
    "start_time": "2023-04-03T08:00:07.758Z"
   },
   {
    "duration": 46,
    "start_time": "2023-04-03T08:00:08.141Z"
   },
   {
    "duration": 30,
    "start_time": "2023-04-03T08:00:08.520Z"
   },
   {
    "duration": 121,
    "start_time": "2023-04-03T08:00:09.063Z"
   },
   {
    "duration": 6,
    "start_time": "2023-04-03T08:00:10.045Z"
   },
   {
    "duration": 3,
    "start_time": "2023-04-03T08:00:10.990Z"
   },
   {
    "duration": 35,
    "start_time": "2023-04-03T08:00:11.341Z"
   },
   {
    "duration": 10,
    "start_time": "2023-04-03T08:00:11.709Z"
   },
   {
    "duration": 23,
    "start_time": "2023-04-03T08:00:12.088Z"
   },
   {
    "duration": 2492,
    "start_time": "2023-04-03T08:00:13.878Z"
   },
   {
    "duration": 17,
    "start_time": "2023-04-03T08:00:16.377Z"
   },
   {
    "duration": 9,
    "start_time": "2023-04-03T08:00:16.397Z"
   },
   {
    "duration": 24,
    "start_time": "2023-04-03T08:00:16.411Z"
   },
   {
    "duration": 77,
    "start_time": "2023-04-03T08:00:16.437Z"
   },
   {
    "duration": 500,
    "start_time": "2023-04-03T08:00:16.516Z"
   },
   {
    "duration": 14,
    "start_time": "2023-04-03T08:00:17.205Z"
   },
   {
    "duration": 144,
    "start_time": "2023-04-03T08:00:18.110Z"
   },
   {
    "duration": 3,
    "start_time": "2023-04-03T08:00:18.845Z"
   },
   {
    "duration": 4,
    "start_time": "2023-04-03T08:00:20.909Z"
   },
   {
    "duration": 153,
    "start_time": "2023-04-03T08:00:22.318Z"
   },
   {
    "duration": 6807,
    "start_time": "2023-04-03T08:00:36.694Z"
   },
   {
    "duration": 11389,
    "start_time": "2023-04-03T08:00:51.566Z"
   },
   {
    "duration": 6,
    "start_time": "2023-04-03T08:02:39.931Z"
   },
   {
    "duration": 2017,
    "start_time": "2023-04-03T08:02:44.087Z"
   },
   {
    "duration": 6,
    "start_time": "2023-04-03T08:03:25.988Z"
   },
   {
    "duration": 2358,
    "start_time": "2023-04-03T08:03:30.139Z"
   },
   {
    "duration": 5,
    "start_time": "2023-04-03T08:03:50.442Z"
   },
   {
    "duration": 4,
    "start_time": "2023-04-03T08:03:50.802Z"
   },
   {
    "duration": 1491,
    "start_time": "2023-04-03T08:03:54.626Z"
   },
   {
    "duration": 1792,
    "start_time": "2023-04-03T08:04:13.658Z"
   },
   {
    "duration": 1067,
    "start_time": "2023-04-03T08:04:21.321Z"
   },
   {
    "duration": 222,
    "start_time": "2023-04-03T08:04:22.390Z"
   },
   {
    "duration": 106,
    "start_time": "2023-04-03T08:05:36.584Z"
   },
   {
    "duration": 5,
    "start_time": "2023-04-03T08:05:36.956Z"
   },
   {
    "duration": 3,
    "start_time": "2023-04-03T08:05:39.832Z"
   },
   {
    "duration": 1769,
    "start_time": "2023-04-03T08:05:40.904Z"
   },
   {
    "duration": 4,
    "start_time": "2023-04-03T08:10:10.152Z"
   },
   {
    "duration": 1978,
    "start_time": "2023-04-03T08:12:05.634Z"
   },
   {
    "duration": 994,
    "start_time": "2023-04-03T08:12:07.614Z"
   },
   {
    "duration": 196,
    "start_time": "2023-04-03T08:12:08.614Z"
   },
   {
    "duration": 104,
    "start_time": "2023-04-03T08:12:08.813Z"
   },
   {
    "duration": 5,
    "start_time": "2023-04-03T08:12:08.919Z"
   },
   {
    "duration": 4,
    "start_time": "2023-04-03T08:12:09.488Z"
   },
   {
    "duration": 8086,
    "start_time": "2023-04-03T08:12:11.154Z"
   },
   {
    "duration": 6971,
    "start_time": "2023-04-03T08:12:55.802Z"
   },
   {
    "duration": 5,
    "start_time": "2023-04-03T08:13:58.528Z"
   },
   {
    "duration": 7657,
    "start_time": "2023-04-03T08:14:01.997Z"
   },
   {
    "duration": 1895,
    "start_time": "2023-04-03T08:17:19.144Z"
   },
   {
    "duration": 1173,
    "start_time": "2023-04-03T08:17:21.042Z"
   },
   {
    "duration": 290,
    "start_time": "2023-04-03T08:17:22.218Z"
   },
   {
    "duration": 183,
    "start_time": "2023-04-03T08:17:22.517Z"
   },
   {
    "duration": 270,
    "start_time": "2023-04-03T08:17:22.702Z"
   },
   {
    "duration": 229,
    "start_time": "2023-04-03T08:17:58.957Z"
   },
   {
    "duration": 165,
    "start_time": "2023-04-03T08:18:33.593Z"
   },
   {
    "duration": 2045,
    "start_time": "2023-04-03T08:18:47.297Z"
   },
   {
    "duration": 594,
    "start_time": "2023-04-03T08:19:03.992Z"
   },
   {
    "duration": 740,
    "start_time": "2023-04-03T08:19:13.499Z"
   },
   {
    "duration": 694,
    "start_time": "2023-04-03T08:19:33.155Z"
   },
   {
    "duration": 674,
    "start_time": "2023-04-03T08:19:44.638Z"
   },
   {
    "duration": 810,
    "start_time": "2023-04-03T08:19:51.627Z"
   },
   {
    "duration": 90,
    "start_time": "2023-04-03T08:22:00.099Z"
   },
   {
    "duration": 201,
    "start_time": "2023-04-03T08:22:09.200Z"
   },
   {
    "duration": 19,
    "start_time": "2023-04-03T08:22:45.101Z"
   },
   {
    "duration": 101,
    "start_time": "2023-04-03T08:23:01.055Z"
   },
   {
    "duration": 1675,
    "start_time": "2023-04-03T08:23:48.192Z"
   },
   {
    "duration": 922,
    "start_time": "2023-04-03T08:23:49.870Z"
   },
   {
    "duration": 187,
    "start_time": "2023-04-03T08:23:50.795Z"
   },
   {
    "duration": 107,
    "start_time": "2023-04-03T08:23:50.986Z"
   },
   {
    "duration": 101,
    "start_time": "2023-04-03T08:23:51.095Z"
   },
   {
    "duration": 0,
    "start_time": "2023-04-03T08:23:51.198Z"
   },
   {
    "duration": 85748,
    "start_time": "2023-04-03T08:24:00.591Z"
   },
   {
    "duration": 14,
    "start_time": "2023-04-03T08:28:09.909Z"
   },
   {
    "duration": 4,
    "start_time": "2023-04-03T08:28:12.791Z"
   },
   {
    "duration": 11,
    "start_time": "2023-04-03T08:28:13.250Z"
   },
   {
    "duration": 89,
    "start_time": "2023-04-03T08:28:56.539Z"
   },
   {
    "duration": 94,
    "start_time": "2023-04-03T08:29:03.002Z"
   },
   {
    "duration": 24,
    "start_time": "2023-04-03T08:29:14.910Z"
   },
   {
    "duration": 1661,
    "start_time": "2023-04-03T08:29:35.986Z"
   },
   {
    "duration": 1030,
    "start_time": "2023-04-03T08:29:37.649Z"
   },
   {
    "duration": 191,
    "start_time": "2023-04-03T08:29:38.681Z"
   },
   {
    "duration": 105,
    "start_time": "2023-04-03T08:29:38.874Z"
   },
   {
    "duration": 508,
    "start_time": "2023-04-03T08:29:38.981Z"
   },
   {
    "duration": 1065,
    "start_time": "2023-04-03T08:29:39.491Z"
   },
   {
    "duration": 49,
    "start_time": "2023-04-03T08:29:40.558Z"
   },
   {
    "duration": 21,
    "start_time": "2023-04-03T08:29:40.609Z"
   },
   {
    "duration": 46,
    "start_time": "2023-04-03T08:29:40.631Z"
   },
   {
    "duration": 3,
    "start_time": "2023-04-03T08:29:40.684Z"
   },
   {
    "duration": 30,
    "start_time": "2023-04-03T08:29:40.691Z"
   },
   {
    "duration": 39,
    "start_time": "2023-04-03T08:29:40.724Z"
   },
   {
    "duration": 16,
    "start_time": "2023-04-03T08:29:40.771Z"
   },
   {
    "duration": 45,
    "start_time": "2023-04-03T08:29:40.790Z"
   },
   {
    "duration": 99,
    "start_time": "2023-04-03T08:29:40.899Z"
   },
   {
    "duration": 97,
    "start_time": "2023-04-03T08:29:41.409Z"
   },
   {
    "duration": 63,
    "start_time": "2023-04-03T08:29:42.128Z"
   },
   {
    "duration": 32,
    "start_time": "2023-04-03T08:29:42.485Z"
   },
   {
    "duration": 32,
    "start_time": "2023-04-03T08:29:42.816Z"
   },
   {
    "duration": 28,
    "start_time": "2023-04-03T08:29:43.113Z"
   },
   {
    "duration": 35,
    "start_time": "2023-04-03T08:29:43.520Z"
   },
   {
    "duration": 29,
    "start_time": "2023-04-03T08:29:43.816Z"
   },
   {
    "duration": 62,
    "start_time": "2023-04-03T08:29:44.098Z"
   },
   {
    "duration": 54,
    "start_time": "2023-04-03T08:29:44.433Z"
   },
   {
    "duration": 28,
    "start_time": "2023-04-03T08:29:44.761Z"
   },
   {
    "duration": 34,
    "start_time": "2023-04-03T08:29:45.102Z"
   },
   {
    "duration": 30,
    "start_time": "2023-04-03T08:29:45.400Z"
   },
   {
    "duration": 159,
    "start_time": "2023-04-03T08:29:45.728Z"
   },
   {
    "duration": 9,
    "start_time": "2023-04-03T08:29:46.696Z"
   },
   {
    "duration": 5,
    "start_time": "2023-04-03T08:29:47.673Z"
   },
   {
    "duration": 23,
    "start_time": "2023-04-03T08:29:48.086Z"
   },
   {
    "duration": 9,
    "start_time": "2023-04-03T08:29:48.502Z"
   },
   {
    "duration": 30,
    "start_time": "2023-04-03T08:29:49.129Z"
   },
   {
    "duration": 2283,
    "start_time": "2023-04-03T08:29:50.840Z"
   },
   {
    "duration": 11,
    "start_time": "2023-04-03T08:29:53.125Z"
   },
   {
    "duration": 8,
    "start_time": "2023-04-03T08:29:53.138Z"
   },
   {
    "duration": 41,
    "start_time": "2023-04-03T08:29:53.164Z"
   },
   {
    "duration": 42,
    "start_time": "2023-04-03T08:29:53.208Z"
   },
   {
    "duration": 487,
    "start_time": "2023-04-03T08:29:53.251Z"
   },
   {
    "duration": 24,
    "start_time": "2023-04-03T08:29:53.741Z"
   },
   {
    "duration": 101,
    "start_time": "2023-04-03T08:29:53.775Z"
   },
   {
    "duration": 3,
    "start_time": "2023-04-03T08:29:54.512Z"
   },
   {
    "duration": 3,
    "start_time": "2023-04-03T08:29:55.697Z"
   },
   {
    "duration": 195,
    "start_time": "2023-04-03T08:29:57.120Z"
   },
   {
    "duration": 28,
    "start_time": "2023-04-03T08:30:24.847Z"
   },
   {
    "duration": 15,
    "start_time": "2023-04-03T08:30:55.102Z"
   },
   {
    "duration": 36,
    "start_time": "2023-04-03T08:31:03.823Z"
   },
   {
    "duration": 14,
    "start_time": "2023-04-03T08:31:09.511Z"
   },
   {
    "duration": 800,
    "start_time": "2023-04-03T08:32:09.382Z"
   },
   {
    "duration": 138,
    "start_time": "2023-04-03T08:32:58.430Z"
   },
   {
    "duration": 66,
    "start_time": "2023-04-03T08:33:00.990Z"
   },
   {
    "duration": 93,
    "start_time": "2023-04-03T08:33:39.693Z"
   },
   {
    "duration": 216,
    "start_time": "2023-04-03T08:34:27.066Z"
   },
   {
    "duration": 130,
    "start_time": "2023-04-03T08:34:27.285Z"
   },
   {
    "duration": 180,
    "start_time": "2023-04-03T08:34:27.420Z"
   },
   {
    "duration": 5,
    "start_time": "2023-04-03T08:34:27.602Z"
   },
   {
    "duration": 899,
    "start_time": "2023-04-03T08:34:27.609Z"
   },
   {
    "duration": 197,
    "start_time": "2023-04-03T08:34:28.511Z"
   },
   {
    "duration": 2390,
    "start_time": "2023-04-03T08:34:38.155Z"
   },
   {
    "duration": 930,
    "start_time": "2023-04-03T08:34:40.547Z"
   },
   {
    "duration": 194,
    "start_time": "2023-04-03T08:34:41.488Z"
   },
   {
    "duration": 109,
    "start_time": "2023-04-03T08:34:41.684Z"
   },
   {
    "duration": 145,
    "start_time": "2023-04-03T08:34:41.795Z"
   },
   {
    "duration": 4,
    "start_time": "2023-04-03T08:38:39.086Z"
   },
   {
    "duration": 6,
    "start_time": "2023-04-03T08:40:52.902Z"
   },
   {
    "duration": 2168,
    "start_time": "2023-04-03T08:41:25.317Z"
   },
   {
    "duration": 4,
    "start_time": "2023-04-03T08:41:44.742Z"
   },
   {
    "duration": 2,
    "start_time": "2023-04-03T08:41:45.838Z"
   },
   {
    "duration": 7144,
    "start_time": "2023-04-03T08:41:46.095Z"
   },
   {
    "duration": 4,
    "start_time": "2023-04-03T08:49:32.926Z"
   },
   {
    "duration": 23,
    "start_time": "2023-04-03T08:49:34.474Z"
   },
   {
    "duration": 4,
    "start_time": "2023-04-03T08:49:47.741Z"
   },
   {
    "duration": 7055,
    "start_time": "2023-04-03T08:49:49.349Z"
   },
   {
    "duration": 4,
    "start_time": "2023-04-03T08:50:19.405Z"
   },
   {
    "duration": 7199,
    "start_time": "2023-04-03T08:50:21.436Z"
   },
   {
    "duration": 8,
    "start_time": "2023-04-03T08:50:51.260Z"
   },
   {
    "duration": 3,
    "start_time": "2023-04-03T08:50:51.907Z"
   },
   {
    "duration": 7132,
    "start_time": "2023-04-03T08:50:52.170Z"
   },
   {
    "duration": 10,
    "start_time": "2023-04-03T08:52:21.458Z"
   },
   {
    "duration": 5806,
    "start_time": "2023-04-03T08:52:55.810Z"
   },
   {
    "duration": 5,
    "start_time": "2023-04-03T08:53:10.554Z"
   },
   {
    "duration": 5919,
    "start_time": "2023-04-03T08:53:15.754Z"
   },
   {
    "duration": 5,
    "start_time": "2023-04-03T08:53:46.242Z"
   },
   {
    "duration": 6579,
    "start_time": "2023-04-03T08:53:46.658Z"
   },
   {
    "duration": 11,
    "start_time": "2023-04-03T08:54:15.185Z"
   },
   {
    "duration": 6346,
    "start_time": "2023-04-03T08:54:15.544Z"
   },
   {
    "duration": 6,
    "start_time": "2023-04-03T08:54:44.296Z"
   },
   {
    "duration": 6314,
    "start_time": "2023-04-03T08:54:47.497Z"
   },
   {
    "duration": 162,
    "start_time": "2023-04-03T08:55:53.078Z"
   },
   {
    "duration": 7369,
    "start_time": "2023-04-03T08:55:53.512Z"
   },
   {
    "duration": 191,
    "start_time": "2023-04-03T08:57:05.491Z"
   },
   {
    "duration": 6448,
    "start_time": "2023-04-03T08:57:06.526Z"
   },
   {
    "duration": 346,
    "start_time": "2023-04-03T08:57:53.688Z"
   },
   {
    "duration": 6614,
    "start_time": "2023-04-03T08:57:54.304Z"
   },
   {
    "duration": 159,
    "start_time": "2023-04-03T08:58:40.534Z"
   },
   {
    "duration": 5,
    "start_time": "2023-04-03T08:59:21.236Z"
   },
   {
    "duration": 558,
    "start_time": "2023-04-03T08:59:22.940Z"
   },
   {
    "duration": 6,
    "start_time": "2023-04-03T08:59:44.715Z"
   },
   {
    "duration": 6951,
    "start_time": "2023-04-03T08:59:48.491Z"
   },
   {
    "duration": 1748,
    "start_time": "2023-04-03T09:00:28.538Z"
   },
   {
    "duration": 1106,
    "start_time": "2023-04-03T09:00:30.289Z"
   },
   {
    "duration": 278,
    "start_time": "2023-04-03T09:00:31.397Z"
   },
   {
    "duration": 111,
    "start_time": "2023-04-03T09:00:31.677Z"
   },
   {
    "duration": 162,
    "start_time": "2023-04-03T09:00:31.790Z"
   },
   {
    "duration": 53,
    "start_time": "2023-04-03T09:00:31.954Z"
   },
   {
    "duration": 144,
    "start_time": "2023-04-03T09:00:32.009Z"
   },
   {
    "duration": 0,
    "start_time": "2023-04-03T09:00:32.155Z"
   },
   {
    "duration": 0,
    "start_time": "2023-04-03T09:00:32.157Z"
   },
   {
    "duration": 5,
    "start_time": "2023-04-03T09:00:48.962Z"
   },
   {
    "duration": 7439,
    "start_time": "2023-04-03T09:00:49.538Z"
   },
   {
    "duration": 7322,
    "start_time": "2023-04-03T09:00:56.979Z"
   },
   {
    "duration": 557,
    "start_time": "2023-04-03T09:01:06.698Z"
   },
   {
    "duration": 1219,
    "start_time": "2023-04-03T09:01:07.257Z"
   },
   {
    "duration": 48,
    "start_time": "2023-04-03T09:01:08.478Z"
   },
   {
    "duration": 13,
    "start_time": "2023-04-03T09:01:08.528Z"
   },
   {
    "duration": 58,
    "start_time": "2023-04-03T09:01:08.544Z"
   },
   {
    "duration": 5,
    "start_time": "2023-04-03T09:01:08.604Z"
   },
   {
    "duration": 12,
    "start_time": "2023-04-03T09:01:09.337Z"
   },
   {
    "duration": 35,
    "start_time": "2023-04-03T09:01:10.330Z"
   },
   {
    "duration": 14,
    "start_time": "2023-04-03T09:01:10.890Z"
   },
   {
    "duration": 48,
    "start_time": "2023-04-03T09:01:11.997Z"
   },
   {
    "duration": 143,
    "start_time": "2023-04-03T09:01:12.337Z"
   },
   {
    "duration": 103,
    "start_time": "2023-04-03T09:01:12.678Z"
   },
   {
    "duration": 36,
    "start_time": "2023-04-03T09:01:13.720Z"
   },
   {
    "duration": 38,
    "start_time": "2023-04-03T09:01:14.093Z"
   },
   {
    "duration": 99,
    "start_time": "2023-04-03T09:01:14.449Z"
   },
   {
    "duration": 23,
    "start_time": "2023-04-03T09:01:14.745Z"
   },
   {
    "duration": 56,
    "start_time": "2023-04-03T09:01:14.997Z"
   },
   {
    "duration": 30,
    "start_time": "2023-04-03T09:01:15.225Z"
   },
   {
    "duration": 51,
    "start_time": "2023-04-03T09:01:15.489Z"
   },
   {
    "duration": 34,
    "start_time": "2023-04-03T09:01:15.801Z"
   },
   {
    "duration": 18,
    "start_time": "2023-04-03T09:01:16.201Z"
   },
   {
    "duration": 54,
    "start_time": "2023-04-03T09:01:16.617Z"
   },
   {
    "duration": 30,
    "start_time": "2023-04-03T09:01:17.091Z"
   },
   {
    "duration": 121,
    "start_time": "2023-04-03T09:01:18.074Z"
   },
   {
    "duration": 7,
    "start_time": "2023-04-03T09:01:18.921Z"
   },
   {
    "duration": 3,
    "start_time": "2023-04-03T09:01:20.191Z"
   },
   {
    "duration": 37,
    "start_time": "2023-04-03T09:01:20.560Z"
   },
   {
    "duration": 11,
    "start_time": "2023-04-03T09:01:20.936Z"
   },
   {
    "duration": 23,
    "start_time": "2023-04-03T09:01:21.505Z"
   },
   {
    "duration": 2439,
    "start_time": "2023-04-03T09:01:23.090Z"
   },
   {
    "duration": 11,
    "start_time": "2023-04-03T09:01:25.531Z"
   },
   {
    "duration": 21,
    "start_time": "2023-04-03T09:01:25.543Z"
   },
   {
    "duration": 35,
    "start_time": "2023-04-03T09:01:25.566Z"
   },
   {
    "duration": 62,
    "start_time": "2023-04-03T09:01:25.603Z"
   },
   {
    "duration": 469,
    "start_time": "2023-04-03T09:01:25.667Z"
   },
   {
    "duration": 11,
    "start_time": "2023-04-03T09:01:28.349Z"
   },
   {
    "duration": 100,
    "start_time": "2023-04-03T09:01:29.886Z"
   },
   {
    "duration": 9,
    "start_time": "2023-04-03T09:01:30.990Z"
   },
   {
    "duration": 3,
    "start_time": "2023-04-03T09:02:50.456Z"
   },
   {
    "duration": 7069,
    "start_time": "2023-04-03T09:03:27.744Z"
   },
   {
    "duration": 2046,
    "start_time": "2023-04-03T09:03:54.175Z"
   },
   {
    "duration": 4,
    "start_time": "2023-04-03T09:04:08.709Z"
   },
   {
    "duration": 7802,
    "start_time": "2023-04-03T09:04:10.665Z"
   },
   {
    "duration": 13089,
    "start_time": "2023-04-03T09:04:18.469Z"
   },
   {
    "duration": 833,
    "start_time": "2023-04-03T09:04:49.797Z"
   },
   {
    "duration": 528,
    "start_time": "2023-04-03T09:04:50.632Z"
   },
   {
    "duration": 351,
    "start_time": "2023-04-03T09:04:53.944Z"
   },
   {
    "duration": 3,
    "start_time": "2023-04-03T09:04:57.997Z"
   },
   {
    "duration": 46897,
    "start_time": "2023-04-03T09:04:59.389Z"
   },
   {
    "duration": 480,
    "start_time": "2023-04-03T09:05:46.288Z"
   },
   {
    "duration": 7,
    "start_time": "2023-04-03T09:06:25.101Z"
   },
   {
    "duration": 8,
    "start_time": "2023-04-03T09:06:31.289Z"
   },
   {
    "duration": 313443,
    "start_time": "2023-04-03T09:06:33.135Z"
   },
   {
    "duration": 4,
    "start_time": "2023-04-03T09:11:51.496Z"
   },
   {
    "duration": 39942,
    "start_time": "2023-04-03T09:11:55.891Z"
   },
   {
    "duration": 395,
    "start_time": "2023-04-03T09:12:45.978Z"
   },
   {
    "duration": 5,
    "start_time": "2023-04-03T09:12:50.822Z"
   },
   {
    "duration": 4,
    "start_time": "2023-04-03T09:12:54.899Z"
   },
   {
    "duration": 1895,
    "start_time": "2023-04-03T10:44:18.890Z"
   },
   {
    "duration": 1053,
    "start_time": "2023-04-03T10:44:20.792Z"
   },
   {
    "duration": 226,
    "start_time": "2023-04-03T10:44:21.847Z"
   },
   {
    "duration": 137,
    "start_time": "2023-04-03T10:44:22.085Z"
   },
   {
    "duration": 214,
    "start_time": "2023-04-03T10:44:22.224Z"
   },
   {
    "duration": 6,
    "start_time": "2023-04-03T10:44:22.439Z"
   },
   {
    "duration": 30,
    "start_time": "2023-04-03T10:44:22.446Z"
   },
   {
    "duration": 8022,
    "start_time": "2023-04-03T10:44:22.477Z"
   },
   {
    "duration": 7522,
    "start_time": "2023-04-03T10:44:30.506Z"
   },
   {
    "duration": 593,
    "start_time": "2023-04-03T10:44:38.032Z"
   },
   {
    "duration": 1133,
    "start_time": "2023-04-03T10:44:38.627Z"
   },
   {
    "duration": 58,
    "start_time": "2023-04-03T10:44:39.775Z"
   },
   {
    "duration": 17,
    "start_time": "2023-04-03T10:44:39.835Z"
   },
   {
    "duration": 44,
    "start_time": "2023-04-03T10:44:39.854Z"
   },
   {
    "duration": 4,
    "start_time": "2023-04-03T10:44:39.900Z"
   },
   {
    "duration": 17,
    "start_time": "2023-04-03T10:44:39.905Z"
   },
   {
    "duration": 57,
    "start_time": "2023-04-03T10:44:39.923Z"
   },
   {
    "duration": 17,
    "start_time": "2023-04-03T10:44:39.982Z"
   },
   {
    "duration": 51,
    "start_time": "2023-04-03T10:44:40.002Z"
   },
   {
    "duration": 114,
    "start_time": "2023-04-03T10:44:40.055Z"
   },
   {
    "duration": 96,
    "start_time": "2023-04-03T10:44:40.171Z"
   },
   {
    "duration": 57,
    "start_time": "2023-04-03T10:44:40.271Z"
   },
   {
    "duration": 47,
    "start_time": "2023-04-03T10:44:40.331Z"
   },
   {
    "duration": 53,
    "start_time": "2023-04-03T10:44:40.389Z"
   },
   {
    "duration": 45,
    "start_time": "2023-04-03T10:44:40.444Z"
   },
   {
    "duration": 50,
    "start_time": "2023-04-03T10:44:40.491Z"
   },
   {
    "duration": 22,
    "start_time": "2023-04-03T10:44:40.543Z"
   },
   {
    "duration": 60,
    "start_time": "2023-04-03T10:44:40.570Z"
   },
   {
    "duration": 54,
    "start_time": "2023-04-03T10:44:40.632Z"
   },
   {
    "duration": 29,
    "start_time": "2023-04-03T10:44:40.689Z"
   },
   {
    "duration": 38,
    "start_time": "2023-04-03T10:44:40.720Z"
   },
   {
    "duration": 46,
    "start_time": "2023-04-03T10:44:40.760Z"
   },
   {
    "duration": 133,
    "start_time": "2023-04-03T10:44:40.815Z"
   },
   {
    "duration": 8,
    "start_time": "2023-04-03T10:44:40.950Z"
   },
   {
    "duration": 8,
    "start_time": "2023-04-03T10:44:40.969Z"
   },
   {
    "duration": 34,
    "start_time": "2023-04-03T10:44:40.981Z"
   },
   {
    "duration": 12,
    "start_time": "2023-04-03T10:44:41.017Z"
   },
   {
    "duration": 48,
    "start_time": "2023-04-03T10:44:41.031Z"
   },
   {
    "duration": 2324,
    "start_time": "2023-04-03T10:44:41.081Z"
   },
   {
    "duration": 17,
    "start_time": "2023-04-03T10:44:43.407Z"
   },
   {
    "duration": 9,
    "start_time": "2023-04-03T10:44:43.426Z"
   },
   {
    "duration": 58,
    "start_time": "2023-04-03T10:44:43.437Z"
   },
   {
    "duration": 44,
    "start_time": "2023-04-03T10:44:43.502Z"
   },
   {
    "duration": 473,
    "start_time": "2023-04-03T10:44:43.548Z"
   },
   {
    "duration": 13,
    "start_time": "2023-04-03T10:44:44.022Z"
   },
   {
    "duration": 146,
    "start_time": "2023-04-03T10:44:44.037Z"
   },
   {
    "duration": 5,
    "start_time": "2023-04-03T10:44:44.186Z"
   },
   {
    "duration": 13,
    "start_time": "2023-04-03T10:44:44.193Z"
   },
   {
    "duration": 7691,
    "start_time": "2023-04-03T10:44:44.208Z"
   },
   {
    "duration": 13425,
    "start_time": "2023-04-03T10:44:51.903Z"
   },
   {
    "duration": 969,
    "start_time": "2023-04-03T10:45:05.330Z"
   },
   {
    "duration": 617,
    "start_time": "2023-04-03T10:45:06.305Z"
   },
   {
    "duration": 296,
    "start_time": "2023-04-03T10:45:06.924Z"
   },
   {
    "duration": 5,
    "start_time": "2023-04-03T10:45:07.223Z"
   },
   {
    "duration": 74209,
    "start_time": "2023-04-03T10:45:07.231Z"
   },
   {
    "duration": 523,
    "start_time": "2023-04-03T10:46:21.442Z"
   },
   {
    "duration": 23,
    "start_time": "2023-04-03T10:46:21.976Z"
   },
   {
    "duration": 11,
    "start_time": "2023-04-03T10:46:22.016Z"
   },
   {
    "duration": 1742,
    "start_time": "2023-04-03T10:48:01.705Z"
   },
   {
    "duration": 1102,
    "start_time": "2023-04-03T10:48:03.449Z"
   },
   {
    "duration": 248,
    "start_time": "2023-04-03T10:48:04.553Z"
   },
   {
    "duration": 109,
    "start_time": "2023-04-03T10:48:04.806Z"
   },
   {
    "duration": 181,
    "start_time": "2023-04-03T10:48:04.917Z"
   },
   {
    "duration": 13,
    "start_time": "2023-04-03T10:48:05.099Z"
   },
   {
    "duration": 5,
    "start_time": "2023-04-03T10:48:05.114Z"
   },
   {
    "duration": 8422,
    "start_time": "2023-04-03T10:48:05.121Z"
   },
   {
    "duration": 7466,
    "start_time": "2023-04-03T10:48:13.545Z"
   },
   {
    "duration": 555,
    "start_time": "2023-04-03T10:48:21.015Z"
   },
   {
    "duration": 1160,
    "start_time": "2023-04-03T10:48:21.576Z"
   },
   {
    "duration": 64,
    "start_time": "2023-04-03T10:48:22.738Z"
   },
   {
    "duration": 14,
    "start_time": "2023-04-03T10:48:22.808Z"
   },
   {
    "duration": 51,
    "start_time": "2023-04-03T10:48:22.824Z"
   },
   {
    "duration": 4,
    "start_time": "2023-04-03T10:48:22.880Z"
   },
   {
    "duration": 15,
    "start_time": "2023-04-03T10:48:22.886Z"
   },
   {
    "duration": 53,
    "start_time": "2023-04-03T10:48:22.903Z"
   },
   {
    "duration": 19,
    "start_time": "2023-04-03T10:48:22.958Z"
   },
   {
    "duration": 51,
    "start_time": "2023-04-03T10:48:22.979Z"
   },
   {
    "duration": 132,
    "start_time": "2023-04-03T10:48:23.032Z"
   },
   {
    "duration": 150,
    "start_time": "2023-04-03T10:48:23.166Z"
   },
   {
    "duration": 35,
    "start_time": "2023-04-03T10:48:23.318Z"
   },
   {
    "duration": 40,
    "start_time": "2023-04-03T10:48:23.364Z"
   },
   {
    "duration": 67,
    "start_time": "2023-04-03T10:48:23.407Z"
   },
   {
    "duration": 45,
    "start_time": "2023-04-03T10:48:23.476Z"
   },
   {
    "duration": 34,
    "start_time": "2023-04-03T10:48:23.524Z"
   },
   {
    "duration": 49,
    "start_time": "2023-04-03T10:48:23.560Z"
   },
   {
    "duration": 53,
    "start_time": "2023-04-03T10:48:23.614Z"
   },
   {
    "duration": 62,
    "start_time": "2023-04-03T10:48:23.668Z"
   },
   {
    "duration": 20,
    "start_time": "2023-04-03T10:48:23.732Z"
   },
   {
    "duration": 75,
    "start_time": "2023-04-03T10:48:23.754Z"
   },
   {
    "duration": 28,
    "start_time": "2023-04-03T10:48:23.831Z"
   },
   {
    "duration": 171,
    "start_time": "2023-04-03T10:48:23.861Z"
   },
   {
    "duration": 10,
    "start_time": "2023-04-03T10:48:24.034Z"
   },
   {
    "duration": 21,
    "start_time": "2023-04-03T10:48:24.047Z"
   },
   {
    "duration": 43,
    "start_time": "2023-04-03T10:48:24.080Z"
   },
   {
    "duration": 12,
    "start_time": "2023-04-03T10:48:24.126Z"
   },
   {
    "duration": 47,
    "start_time": "2023-04-03T10:48:24.140Z"
   },
   {
    "duration": 2481,
    "start_time": "2023-04-03T10:48:24.189Z"
   },
   {
    "duration": 26,
    "start_time": "2023-04-03T10:48:26.678Z"
   },
   {
    "duration": 11,
    "start_time": "2023-04-03T10:48:26.707Z"
   },
   {
    "duration": 37,
    "start_time": "2023-04-03T10:48:26.720Z"
   },
   {
    "duration": 56,
    "start_time": "2023-04-03T10:48:26.760Z"
   },
   {
    "duration": 538,
    "start_time": "2023-04-03T10:48:26.818Z"
   },
   {
    "duration": 23,
    "start_time": "2023-04-03T10:48:27.359Z"
   },
   {
    "duration": 165,
    "start_time": "2023-04-03T10:48:27.384Z"
   },
   {
    "duration": 6,
    "start_time": "2023-04-03T10:48:27.551Z"
   },
   {
    "duration": 16,
    "start_time": "2023-04-03T10:48:27.559Z"
   },
   {
    "duration": 7963,
    "start_time": "2023-04-03T10:48:27.583Z"
   },
   {
    "duration": 13561,
    "start_time": "2023-04-03T10:48:35.549Z"
   },
   {
    "duration": 838,
    "start_time": "2023-04-03T10:49:01.681Z"
   },
   {
    "duration": 535,
    "start_time": "2023-04-03T10:49:02.736Z"
   },
   {
    "duration": 288,
    "start_time": "2023-04-03T10:49:04.258Z"
   },
   {
    "duration": 4,
    "start_time": "2023-04-03T10:49:12.959Z"
   },
   {
    "duration": 82819,
    "start_time": "2023-04-03T10:49:14.168Z"
   },
   {
    "duration": 400,
    "start_time": "2023-04-03T10:50:36.989Z"
   },
   {
    "duration": 10,
    "start_time": "2023-04-03T10:50:37.391Z"
   },
   {
    "duration": 2,
    "start_time": "2023-04-03T10:51:15.758Z"
   },
   {
    "duration": 50,
    "start_time": "2023-04-03T10:51:16.489Z"
   },
   {
    "duration": 314040,
    "start_time": "2023-04-03T10:51:28.158Z"
   },
   {
    "duration": 4,
    "start_time": "2023-04-03T10:57:03.649Z"
   },
   {
    "duration": 42903,
    "start_time": "2023-04-03T10:59:18.705Z"
   },
   {
    "duration": 391,
    "start_time": "2023-04-03T11:00:01.614Z"
   },
   {
    "duration": 10,
    "start_time": "2023-04-03T11:00:02.009Z"
   },
   {
    "duration": 38,
    "start_time": "2023-04-03T11:00:02.074Z"
   },
   {
    "duration": 12,
    "start_time": "2023-04-03T11:01:19.581Z"
   },
   {
    "duration": 1887,
    "start_time": "2023-04-03T11:03:44.626Z"
   },
   {
    "duration": 1055,
    "start_time": "2023-04-03T11:03:46.515Z"
   },
   {
    "duration": 198,
    "start_time": "2023-04-03T11:03:47.580Z"
   },
   {
    "duration": 105,
    "start_time": "2023-04-03T11:03:47.782Z"
   },
   {
    "duration": 203,
    "start_time": "2023-04-03T11:03:47.889Z"
   },
   {
    "duration": 8,
    "start_time": "2023-04-03T11:03:48.093Z"
   },
   {
    "duration": 4,
    "start_time": "2023-04-03T11:03:48.102Z"
   },
   {
    "duration": 8502,
    "start_time": "2023-04-03T11:03:48.110Z"
   },
   {
    "duration": 7532,
    "start_time": "2023-04-03T11:03:56.615Z"
   },
   {
    "duration": 691,
    "start_time": "2023-04-03T11:04:04.150Z"
   },
   {
    "duration": 1317,
    "start_time": "2023-04-03T11:04:04.843Z"
   },
   {
    "duration": 58,
    "start_time": "2023-04-03T11:04:06.164Z"
   },
   {
    "duration": 13,
    "start_time": "2023-04-03T11:04:06.224Z"
   },
   {
    "duration": 58,
    "start_time": "2023-04-03T11:04:06.238Z"
   },
   {
    "duration": 4,
    "start_time": "2023-04-03T11:04:06.298Z"
   },
   {
    "duration": 16,
    "start_time": "2023-04-03T11:04:06.310Z"
   },
   {
    "duration": 51,
    "start_time": "2023-04-03T11:04:06.328Z"
   },
   {
    "duration": 17,
    "start_time": "2023-04-03T11:04:06.386Z"
   },
   {
    "duration": 48,
    "start_time": "2023-04-03T11:04:06.405Z"
   },
   {
    "duration": 135,
    "start_time": "2023-04-03T11:04:06.454Z"
   },
   {
    "duration": 123,
    "start_time": "2023-04-03T11:04:06.591Z"
   },
   {
    "duration": 71,
    "start_time": "2023-04-03T11:04:06.716Z"
   },
   {
    "duration": 31,
    "start_time": "2023-04-03T11:04:06.794Z"
   },
   {
    "duration": 78,
    "start_time": "2023-04-03T11:04:06.827Z"
   },
   {
    "duration": 27,
    "start_time": "2023-04-03T11:04:06.911Z"
   },
   {
    "duration": 55,
    "start_time": "2023-04-03T11:04:06.941Z"
   },
   {
    "duration": 22,
    "start_time": "2023-04-03T11:04:07.003Z"
   },
   {
    "duration": 47,
    "start_time": "2023-04-03T11:04:07.030Z"
   },
   {
    "duration": 51,
    "start_time": "2023-04-03T11:04:07.080Z"
   },
   {
    "duration": 20,
    "start_time": "2023-04-03T11:04:07.133Z"
   },
   {
    "duration": 71,
    "start_time": "2023-04-03T11:04:07.157Z"
   },
   {
    "duration": 49,
    "start_time": "2023-04-03T11:04:07.230Z"
   },
   {
    "duration": 172,
    "start_time": "2023-04-03T11:04:07.282Z"
   },
   {
    "duration": 24,
    "start_time": "2023-04-03T11:04:07.456Z"
   },
   {
    "duration": 13,
    "start_time": "2023-04-03T11:04:07.493Z"
   },
   {
    "duration": 38,
    "start_time": "2023-04-03T11:04:07.517Z"
   },
   {
    "duration": 8,
    "start_time": "2023-04-03T11:04:07.558Z"
   },
   {
    "duration": 29,
    "start_time": "2023-04-03T11:04:07.568Z"
   },
   {
    "duration": 2966,
    "start_time": "2023-04-03T11:04:07.599Z"
   },
   {
    "duration": 14,
    "start_time": "2023-04-03T11:04:10.567Z"
   },
   {
    "duration": 16,
    "start_time": "2023-04-03T11:04:10.582Z"
   },
   {
    "duration": 35,
    "start_time": "2023-04-03T11:04:10.600Z"
   },
   {
    "duration": 72,
    "start_time": "2023-04-03T11:04:10.637Z"
   },
   {
    "duration": 527,
    "start_time": "2023-04-03T11:04:10.712Z"
   },
   {
    "duration": 12,
    "start_time": "2023-04-03T11:04:11.240Z"
   },
   {
    "duration": 126,
    "start_time": "2023-04-03T11:04:11.262Z"
   },
   {
    "duration": 4,
    "start_time": "2023-04-03T11:04:11.389Z"
   },
   {
    "duration": 21,
    "start_time": "2023-04-03T11:04:11.395Z"
   },
   {
    "duration": 7590,
    "start_time": "2023-04-03T11:04:11.418Z"
   },
   {
    "duration": 13826,
    "start_time": "2023-04-03T11:04:19.010Z"
   },
   {
    "duration": 997,
    "start_time": "2023-04-03T11:04:32.837Z"
   },
   {
    "duration": 607,
    "start_time": "2023-04-03T11:04:33.836Z"
   },
   {
    "duration": 333,
    "start_time": "2023-04-03T11:04:34.447Z"
   },
   {
    "duration": 3,
    "start_time": "2023-04-03T11:04:34.782Z"
   },
   {
    "duration": 79572,
    "start_time": "2023-04-03T11:04:34.793Z"
   },
   {
    "duration": 504,
    "start_time": "2023-04-03T11:05:54.367Z"
   },
   {
    "duration": 22,
    "start_time": "2023-04-03T11:05:54.882Z"
   },
   {
    "duration": 10,
    "start_time": "2023-04-03T11:05:54.911Z"
   },
   {
    "duration": 321358,
    "start_time": "2023-04-03T11:05:54.928Z"
   },
   {
    "duration": 7,
    "start_time": "2023-04-03T11:11:16.288Z"
   },
   {
    "duration": 29112,
    "start_time": "2023-04-03T11:11:23.323Z"
   },
   {
    "duration": 355,
    "start_time": "2023-04-03T11:11:52.437Z"
   },
   {
    "duration": 65,
    "start_time": "2023-04-03T11:11:52.805Z"
   },
   {
    "duration": 4,
    "start_time": "2023-04-03T11:12:53.041Z"
   },
   {
    "duration": 342342,
    "start_time": "2023-04-03T11:12:55.457Z"
   },
   {
    "duration": 4,
    "start_time": "2023-04-03T11:19:41.210Z"
   },
   {
    "duration": 7,
    "start_time": "2023-04-03T11:20:11.651Z"
   },
   {
    "duration": 141,
    "start_time": "2023-04-03T11:20:19.492Z"
   },
   {
    "duration": 9,
    "start_time": "2023-04-03T11:20:38.499Z"
   },
   {
    "duration": 52520,
    "start_time": "2023-04-03T11:21:10.928Z"
   },
   {
    "duration": 414,
    "start_time": "2023-04-03T11:22:16.829Z"
   },
   {
    "duration": 6,
    "start_time": "2023-04-03T11:22:18.416Z"
   },
   {
    "duration": 5,
    "start_time": "2023-04-03T11:22:31.911Z"
   },
   {
    "duration": 27,
    "start_time": "2023-04-03T11:23:14.133Z"
   },
   {
    "duration": 82,
    "start_time": "2023-04-03T11:23:15.327Z"
   },
   {
    "duration": 5,
    "start_time": "2023-04-03T11:23:20.346Z"
   },
   {
    "duration": 276,
    "start_time": "2023-04-03T11:23:26.391Z"
   },
   {
    "duration": 4742,
    "start_time": "2023-04-03T11:24:53.518Z"
   },
   {
    "duration": 80236,
    "start_time": "2023-04-03T11:26:52.305Z"
   },
   {
    "duration": 794,
    "start_time": "2023-04-03T11:28:18.095Z"
   },
   {
    "duration": 95,
    "start_time": "2023-04-03T11:33:41.821Z"
   },
   {
    "duration": 8,
    "start_time": "2023-04-03T11:34:57.373Z"
   },
   {
    "duration": 151,
    "start_time": "2023-04-03T11:35:43.251Z"
   },
   {
    "duration": 148,
    "start_time": "2023-04-03T11:36:14.961Z"
   },
   {
    "duration": 109,
    "start_time": "2023-04-03T11:36:20.235Z"
   },
   {
    "duration": 6,
    "start_time": "2023-04-03T11:36:39.617Z"
   },
   {
    "duration": 3,
    "start_time": "2023-04-03T11:37:02.706Z"
   },
   {
    "duration": 6,
    "start_time": "2023-04-03T11:37:07.893Z"
   },
   {
    "duration": 13,
    "start_time": "2023-04-03T11:38:26.694Z"
   },
   {
    "duration": 5,
    "start_time": "2023-04-03T11:38:30.196Z"
   },
   {
    "duration": 64,
    "start_time": "2023-04-03T11:39:32.678Z"
   },
   {
    "duration": 4539,
    "start_time": "2023-04-03T11:39:37.105Z"
   },
   {
    "duration": 4,
    "start_time": "2023-04-03T11:40:27.247Z"
   },
   {
    "duration": 6,
    "start_time": "2023-04-03T11:43:52.482Z"
   },
   {
    "duration": 15,
    "start_time": "2023-04-03T11:44:15.642Z"
   },
   {
    "duration": 18,
    "start_time": "2023-04-03T11:44:33.915Z"
   },
   {
    "duration": 31114,
    "start_time": "2023-04-03T11:45:13.488Z"
   },
   {
    "duration": 110,
    "start_time": "2023-04-03T11:48:40.110Z"
   },
   {
    "duration": 124,
    "start_time": "2023-04-03T11:49:32.681Z"
   },
   {
    "duration": 37728,
    "start_time": "2023-04-03T11:49:58.989Z"
   },
   {
    "duration": 336886,
    "start_time": "2023-04-03T11:51:51.051Z"
   },
   {
    "duration": 49,
    "start_time": "2023-04-03T11:57:54.997Z"
   },
   {
    "duration": 41,
    "start_time": "2023-04-03T11:58:10.013Z"
   },
   {
    "duration": 151544,
    "start_time": "2023-04-03T11:58:17.661Z"
   },
   {
    "duration": 73940,
    "start_time": "2023-04-03T12:00:55.995Z"
   },
   {
    "duration": 577,
    "start_time": "2023-04-03T12:02:15.615Z"
   },
   {
    "duration": 1673,
    "start_time": "2023-04-03T12:42:42.843Z"
   },
   {
    "duration": 1034,
    "start_time": "2023-04-03T12:42:44.518Z"
   },
   {
    "duration": 193,
    "start_time": "2023-04-03T12:42:45.554Z"
   },
   {
    "duration": 195,
    "start_time": "2023-04-03T12:42:45.749Z"
   },
   {
    "duration": 192,
    "start_time": "2023-04-03T12:42:47.024Z"
   },
   {
    "duration": 6,
    "start_time": "2023-04-03T12:42:47.808Z"
   },
   {
    "duration": 5,
    "start_time": "2023-04-03T12:42:48.602Z"
   },
   {
    "duration": 7394,
    "start_time": "2023-04-03T12:42:50.126Z"
   },
   {
    "duration": 7051,
    "start_time": "2023-04-03T12:42:57.522Z"
   },
   {
    "duration": 598,
    "start_time": "2023-04-03T12:43:04.575Z"
   },
   {
    "duration": 1214,
    "start_time": "2023-04-03T12:43:05.178Z"
   },
   {
    "duration": 54,
    "start_time": "2023-04-03T12:43:06.397Z"
   },
   {
    "duration": 24,
    "start_time": "2023-04-03T12:43:06.453Z"
   },
   {
    "duration": 44,
    "start_time": "2023-04-03T12:43:06.485Z"
   },
   {
    "duration": 3,
    "start_time": "2023-04-03T12:43:06.531Z"
   },
   {
    "duration": 14,
    "start_time": "2023-04-03T12:43:06.536Z"
   },
   {
    "duration": 50,
    "start_time": "2023-04-03T12:43:06.552Z"
   },
   {
    "duration": 10,
    "start_time": "2023-04-03T12:43:06.605Z"
   },
   {
    "duration": 60,
    "start_time": "2023-04-03T12:43:06.617Z"
   },
   {
    "duration": 103,
    "start_time": "2023-04-03T12:43:06.683Z"
   },
   {
    "duration": 97,
    "start_time": "2023-04-03T12:43:06.788Z"
   },
   {
    "duration": 39,
    "start_time": "2023-04-03T12:43:06.890Z"
   },
   {
    "duration": 40,
    "start_time": "2023-04-03T12:43:06.931Z"
   },
   {
    "duration": 46,
    "start_time": "2023-04-03T12:43:06.973Z"
   },
   {
    "duration": 19,
    "start_time": "2023-04-03T12:43:07.021Z"
   },
   {
    "duration": 81,
    "start_time": "2023-04-03T12:43:07.042Z"
   },
   {
    "duration": 26,
    "start_time": "2023-04-03T12:43:07.125Z"
   },
   {
    "duration": 70,
    "start_time": "2023-04-03T12:43:07.153Z"
   },
   {
    "duration": 51,
    "start_time": "2023-04-03T12:43:07.225Z"
   },
   {
    "duration": 32,
    "start_time": "2023-04-03T12:43:07.278Z"
   },
   {
    "duration": 39,
    "start_time": "2023-04-03T12:43:07.312Z"
   },
   {
    "duration": 40,
    "start_time": "2023-04-03T12:43:07.354Z"
   },
   {
    "duration": 112,
    "start_time": "2023-04-03T12:43:07.408Z"
   },
   {
    "duration": 6,
    "start_time": "2023-04-03T12:43:07.522Z"
   },
   {
    "duration": 7,
    "start_time": "2023-04-03T12:43:07.897Z"
   },
   {
    "duration": 28,
    "start_time": "2023-04-03T12:43:08.099Z"
   },
   {
    "duration": 12,
    "start_time": "2023-04-03T12:43:08.317Z"
   },
   {
    "duration": 22,
    "start_time": "2023-04-03T12:43:08.527Z"
   },
   {
    "duration": 2326,
    "start_time": "2023-04-03T12:43:09.320Z"
   },
   {
    "duration": 28,
    "start_time": "2023-04-03T12:43:11.648Z"
   },
   {
    "duration": 16,
    "start_time": "2023-04-03T12:43:11.685Z"
   },
   {
    "duration": 23,
    "start_time": "2023-04-03T12:43:11.703Z"
   },
   {
    "duration": 50,
    "start_time": "2023-04-03T12:43:11.728Z"
   },
   {
    "duration": 532,
    "start_time": "2023-04-03T12:43:11.782Z"
   },
   {
    "duration": 11,
    "start_time": "2023-04-03T12:43:12.315Z"
   },
   {
    "duration": 120,
    "start_time": "2023-04-03T12:43:12.328Z"
   },
   {
    "duration": 21,
    "start_time": "2023-04-03T12:43:12.450Z"
   },
   {
    "duration": 17,
    "start_time": "2023-04-03T12:43:12.477Z"
   },
   {
    "duration": 6843,
    "start_time": "2023-04-03T12:43:12.497Z"
   },
   {
    "duration": 12949,
    "start_time": "2023-04-03T12:43:19.342Z"
   },
   {
    "duration": 842,
    "start_time": "2023-04-03T12:43:44.497Z"
   },
   {
    "duration": 517,
    "start_time": "2023-04-03T12:43:45.342Z"
   },
   {
    "duration": 237,
    "start_time": "2023-04-03T12:43:45.866Z"
   },
   {
    "duration": 3,
    "start_time": "2023-04-03T12:43:46.989Z"
   },
   {
    "duration": 80825,
    "start_time": "2023-04-03T12:43:48.343Z"
   },
   {
    "duration": 503,
    "start_time": "2023-04-03T12:45:09.170Z"
   },
   {
    "duration": 15,
    "start_time": "2023-04-03T12:45:09.686Z"
   },
   {
    "duration": 3,
    "start_time": "2023-04-03T12:45:09.704Z"
   },
   {
    "duration": 330884,
    "start_time": "2023-04-03T12:45:09.708Z"
   },
   {
    "duration": 9,
    "start_time": "2023-04-03T12:50:40.662Z"
   },
   {
    "duration": 37546,
    "start_time": "2023-04-03T12:50:40.682Z"
   },
   {
    "duration": 355,
    "start_time": "2023-04-03T12:51:18.230Z"
   },
   {
    "duration": 13,
    "start_time": "2023-04-03T12:51:18.587Z"
   },
   {
    "duration": 15,
    "start_time": "2023-04-03T12:51:18.665Z"
   },
   {
    "duration": 2141711,
    "start_time": "2023-04-03T12:51:18.682Z"
   },
   {
    "duration": 12,
    "start_time": "2023-04-03T13:27:00.395Z"
   },
   {
    "duration": 0,
    "start_time": "2023-04-03T13:27:00.409Z"
   },
   {
    "duration": 0,
    "start_time": "2023-04-03T13:27:00.410Z"
   },
   {
    "duration": 0,
    "start_time": "2023-04-03T13:27:00.412Z"
   },
   {
    "duration": 49923,
    "start_time": "2023-04-03T13:27:05.864Z"
   },
   {
    "duration": 4,
    "start_time": "2023-04-03T13:27:55.797Z"
   },
   {
    "duration": 197725,
    "start_time": "2023-04-03T13:28:01.719Z"
   },
   {
    "duration": 6,
    "start_time": "2023-04-03T13:31:31.101Z"
   },
   {
    "duration": 112,
    "start_time": "2023-04-03T13:31:51.729Z"
   },
   {
    "duration": 30680,
    "start_time": "2023-04-03T13:32:27.149Z"
   },
   {
    "duration": 301,
    "start_time": "2023-04-03T13:33:14.391Z"
   },
   {
    "duration": 12,
    "start_time": "2023-04-03T13:33:16.181Z"
   },
   {
    "duration": 25,
    "start_time": "2023-04-03T13:33:27.238Z"
   },
   {
    "duration": 85,
    "start_time": "2023-04-03T13:33:27.588Z"
   },
   {
    "duration": 104,
    "start_time": "2023-04-03T13:33:55.790Z"
   },
   {
    "duration": 70,
    "start_time": "2023-04-03T13:35:06.697Z"
   },
   {
    "duration": 384,
    "start_time": "2023-04-03T13:35:30.221Z"
   },
   {
    "duration": 4,
    "start_time": "2023-04-03T13:35:35.225Z"
   },
   {
    "duration": 226331,
    "start_time": "2023-04-03T13:35:39.226Z"
   },
   {
    "duration": 2285,
    "start_time": "2023-04-03T13:39:25.559Z"
   },
   {
    "duration": 478265,
    "start_time": "2023-04-03T13:39:27.846Z"
   },
   {
    "duration": 236997,
    "start_time": "2023-04-03T13:51:26.328Z"
   },
   {
    "duration": 1732,
    "start_time": "2023-04-03T13:55:23.327Z"
   },
   {
    "duration": 155,
    "start_time": "2023-04-03T14:09:22.295Z"
   },
   {
    "duration": 16,
    "start_time": "2023-04-03T14:14:04.530Z"
   },
   {
    "duration": 17,
    "start_time": "2023-04-03T14:14:27.553Z"
   },
   {
    "duration": 13,
    "start_time": "2023-04-03T14:14:42.510Z"
   },
   {
    "duration": 12,
    "start_time": "2023-04-03T14:14:52.314Z"
   },
   {
    "duration": 14,
    "start_time": "2023-04-03T14:17:18.222Z"
   },
   {
    "duration": 1486,
    "start_time": "2023-04-03T14:17:54.541Z"
   },
   {
    "duration": 65,
    "start_time": "2023-04-03T14:28:02.031Z"
   },
   {
    "duration": 1524,
    "start_time": "2023-04-03T14:28:53.433Z"
   },
   {
    "duration": 313,
    "start_time": "2023-04-03T14:30:34.347Z"
   },
   {
    "duration": 69,
    "start_time": "2023-04-03T14:33:02.821Z"
   },
   {
    "duration": 353,
    "start_time": "2023-04-03T14:33:25.457Z"
   },
   {
    "duration": 404271,
    "start_time": "2023-04-03T14:34:15.120Z"
   },
   {
    "duration": 0,
    "start_time": "2023-04-03T14:40:59.401Z"
   },
   {
    "duration": 0,
    "start_time": "2023-04-03T14:40:59.405Z"
   },
   {
    "duration": 120,
    "start_time": "2023-04-03T14:41:03.701Z"
   },
   {
    "duration": 1814,
    "start_time": "2023-04-03T15:29:23.002Z"
   },
   {
    "duration": 1104,
    "start_time": "2023-04-03T15:29:24.818Z"
   },
   {
    "duration": 220,
    "start_time": "2023-04-03T15:29:25.924Z"
   },
   {
    "duration": 102,
    "start_time": "2023-04-03T15:29:26.146Z"
   },
   {
    "duration": 198,
    "start_time": "2023-04-03T15:29:26.250Z"
   },
   {
    "duration": 29,
    "start_time": "2023-04-03T15:29:26.450Z"
   },
   {
    "duration": 23,
    "start_time": "2023-04-03T15:29:26.480Z"
   },
   {
    "duration": 7711,
    "start_time": "2023-04-03T15:29:26.505Z"
   },
   {
    "duration": 7354,
    "start_time": "2023-04-03T15:29:34.220Z"
   },
   {
    "duration": 654,
    "start_time": "2023-04-03T15:29:41.575Z"
   },
   {
    "duration": 1257,
    "start_time": "2023-04-03T15:29:42.234Z"
   },
   {
    "duration": 48,
    "start_time": "2023-04-03T15:29:43.494Z"
   },
   {
    "duration": 11,
    "start_time": "2023-04-03T15:29:43.544Z"
   },
   {
    "duration": 52,
    "start_time": "2023-04-03T15:29:43.559Z"
   },
   {
    "duration": 3,
    "start_time": "2023-04-03T15:29:43.614Z"
   },
   {
    "duration": 32,
    "start_time": "2023-04-03T15:29:43.618Z"
   },
   {
    "duration": 42,
    "start_time": "2023-04-03T15:29:43.652Z"
   },
   {
    "duration": 12,
    "start_time": "2023-04-03T15:29:43.695Z"
   },
   {
    "duration": 52,
    "start_time": "2023-04-03T15:29:43.712Z"
   },
   {
    "duration": 113,
    "start_time": "2023-04-03T15:29:43.766Z"
   },
   {
    "duration": 131,
    "start_time": "2023-04-03T15:29:43.881Z"
   },
   {
    "duration": 59,
    "start_time": "2023-04-03T15:29:44.017Z"
   },
   {
    "duration": 39,
    "start_time": "2023-04-03T15:29:44.084Z"
   },
   {
    "duration": 63,
    "start_time": "2023-04-03T15:29:44.125Z"
   },
   {
    "duration": 31,
    "start_time": "2023-04-03T15:29:44.192Z"
   },
   {
    "duration": 68,
    "start_time": "2023-04-03T15:29:44.225Z"
   },
   {
    "duration": 34,
    "start_time": "2023-04-03T15:29:44.295Z"
   },
   {
    "duration": 70,
    "start_time": "2023-04-03T15:29:44.331Z"
   },
   {
    "duration": 52,
    "start_time": "2023-04-03T15:29:44.404Z"
   },
   {
    "duration": 40,
    "start_time": "2023-04-03T15:29:44.458Z"
   },
   {
    "duration": 49,
    "start_time": "2023-04-03T15:29:44.499Z"
   },
   {
    "duration": 38,
    "start_time": "2023-04-03T15:29:44.550Z"
   },
   {
    "duration": 134,
    "start_time": "2023-04-03T15:29:44.596Z"
   },
   {
    "duration": 9,
    "start_time": "2023-04-03T15:29:44.732Z"
   },
   {
    "duration": 3,
    "start_time": "2023-04-03T15:29:44.743Z"
   },
   {
    "duration": 46,
    "start_time": "2023-04-03T15:29:44.747Z"
   },
   {
    "duration": 17,
    "start_time": "2023-04-03T15:29:44.797Z"
   },
   {
    "duration": 25,
    "start_time": "2023-04-03T15:29:44.816Z"
   },
   {
    "duration": 2461,
    "start_time": "2023-04-03T15:29:44.843Z"
   },
   {
    "duration": 21,
    "start_time": "2023-04-03T15:29:47.309Z"
   },
   {
    "duration": 10,
    "start_time": "2023-04-03T15:29:47.336Z"
   },
   {
    "duration": 35,
    "start_time": "2023-04-03T15:29:47.349Z"
   },
   {
    "duration": 59,
    "start_time": "2023-04-03T15:29:47.386Z"
   },
   {
    "duration": 490,
    "start_time": "2023-04-03T15:29:47.448Z"
   },
   {
    "duration": 12,
    "start_time": "2023-04-03T15:29:47.939Z"
   },
   {
    "duration": 146,
    "start_time": "2023-04-03T15:29:47.952Z"
   },
   {
    "duration": 11,
    "start_time": "2023-04-03T15:29:48.100Z"
   },
   {
    "duration": 3,
    "start_time": "2023-04-03T15:29:48.117Z"
   },
   {
    "duration": 7302,
    "start_time": "2023-04-03T15:29:48.122Z"
   },
   {
    "duration": 43,
    "start_time": "2023-04-03T15:29:55.427Z"
   },
   {
    "duration": 1310,
    "start_time": "2023-04-03T15:29:55.472Z"
   },
   {
    "duration": 159,
    "start_time": "2023-04-03T15:29:56.795Z"
   },
   {
    "duration": 0,
    "start_time": "2023-04-03T15:29:56.956Z"
   },
   {
    "duration": 0,
    "start_time": "2023-04-03T15:29:56.957Z"
   },
   {
    "duration": 0,
    "start_time": "2023-04-03T15:29:56.963Z"
   },
   {
    "duration": 0,
    "start_time": "2023-04-03T15:29:56.964Z"
   },
   {
    "duration": 0,
    "start_time": "2023-04-03T15:29:56.964Z"
   },
   {
    "duration": 0,
    "start_time": "2023-04-03T15:29:56.965Z"
   },
   {
    "duration": 0,
    "start_time": "2023-04-03T15:29:56.966Z"
   },
   {
    "duration": 0,
    "start_time": "2023-04-03T15:29:56.966Z"
   },
   {
    "duration": 0,
    "start_time": "2023-04-03T15:29:56.967Z"
   },
   {
    "duration": 0,
    "start_time": "2023-04-03T15:29:56.967Z"
   },
   {
    "duration": 0,
    "start_time": "2023-04-03T15:29:56.968Z"
   },
   {
    "duration": 0,
    "start_time": "2023-04-03T15:29:56.975Z"
   },
   {
    "duration": 0,
    "start_time": "2023-04-03T15:29:56.977Z"
   },
   {
    "duration": 0,
    "start_time": "2023-04-03T15:29:56.980Z"
   },
   {
    "duration": 0,
    "start_time": "2023-04-03T15:29:56.982Z"
   },
   {
    "duration": 0,
    "start_time": "2023-04-03T15:29:56.982Z"
   },
   {
    "duration": 0,
    "start_time": "2023-04-03T15:29:56.983Z"
   },
   {
    "duration": 0,
    "start_time": "2023-04-03T15:29:57.143Z"
   },
   {
    "duration": 0,
    "start_time": "2023-04-03T15:29:57.145Z"
   },
   {
    "duration": 0,
    "start_time": "2023-04-03T15:29:57.145Z"
   },
   {
    "duration": 0,
    "start_time": "2023-04-03T15:29:57.147Z"
   },
   {
    "duration": 0,
    "start_time": "2023-04-03T15:29:57.148Z"
   },
   {
    "duration": 0,
    "start_time": "2023-04-03T15:29:57.149Z"
   },
   {
    "duration": 0,
    "start_time": "2023-04-03T15:29:57.150Z"
   },
   {
    "duration": 0,
    "start_time": "2023-04-03T15:29:57.151Z"
   },
   {
    "duration": 0,
    "start_time": "2023-04-03T15:29:57.152Z"
   },
   {
    "duration": 0,
    "start_time": "2023-04-03T15:29:57.153Z"
   },
   {
    "duration": 0,
    "start_time": "2023-04-03T15:29:57.154Z"
   },
   {
    "duration": 0,
    "start_time": "2023-04-03T15:29:57.155Z"
   },
   {
    "duration": 82,
    "start_time": "2023-04-03T15:31:41.334Z"
   },
   {
    "duration": 285,
    "start_time": "2023-04-03T15:31:47.503Z"
   },
   {
    "duration": 3,
    "start_time": "2023-04-03T15:31:49.335Z"
   },
   {
    "duration": 97,
    "start_time": "2023-04-03T15:31:52.903Z"
   },
   {
    "duration": 110,
    "start_time": "2023-04-03T15:31:54.967Z"
   },
   {
    "duration": 15,
    "start_time": "2023-04-03T15:31:58.059Z"
   },
   {
    "duration": 3,
    "start_time": "2023-04-03T15:32:12.038Z"
   },
   {
    "duration": 1070,
    "start_time": "2023-04-03T15:32:12.828Z"
   },
   {
    "duration": 11,
    "start_time": "2023-04-03T15:32:14.311Z"
   },
   {
    "duration": 22623,
    "start_time": "2023-04-03T15:32:28.448Z"
   },
   {
    "duration": 24,
    "start_time": "2023-04-03T15:32:51.074Z"
   },
   {
    "duration": 81,
    "start_time": "2023-04-03T15:32:51.102Z"
   },
   {
    "duration": 6,
    "start_time": "2023-04-03T15:34:07.905Z"
   },
   {
    "duration": 118,
    "start_time": "2023-04-03T15:34:09.596Z"
   },
   {
    "duration": 15112,
    "start_time": "2023-04-03T15:34:27.048Z"
   },
   {
    "duration": 10,
    "start_time": "2023-04-03T15:34:44.673Z"
   },
   {
    "duration": 83787,
    "start_time": "2023-04-03T15:34:45.256Z"
   },
   {
    "duration": 23,
    "start_time": "2023-04-03T15:36:59.620Z"
   },
   {
    "duration": 8,
    "start_time": "2023-04-03T15:37:46.605Z"
   },
   {
    "duration": 3,
    "start_time": "2023-04-03T15:38:18.639Z"
   },
   {
    "duration": 144,
    "start_time": "2023-04-03T15:39:01.484Z"
   },
   {
    "duration": 17329,
    "start_time": "2023-04-03T15:39:11.425Z"
   },
   {
    "duration": 54,
    "start_time": "2023-04-03T15:39:35.319Z"
   },
   {
    "duration": 26954,
    "start_time": "2023-04-03T15:40:26.359Z"
   },
   {
    "duration": 53,
    "start_time": "2023-04-03T15:40:53.318Z"
   },
   {
    "duration": 27,
    "start_time": "2023-04-03T15:40:53.373Z"
   },
   {
    "duration": 836,
    "start_time": "2023-04-03T15:42:51.800Z"
   },
   {
    "duration": 533,
    "start_time": "2023-04-03T15:42:52.887Z"
   },
   {
    "duration": 281,
    "start_time": "2023-04-03T15:42:55.725Z"
   },
   {
    "duration": 54,
    "start_time": "2023-04-03T15:42:57.599Z"
   },
   {
    "duration": 3,
    "start_time": "2023-04-03T15:43:00.515Z"
   },
   {
    "duration": 83147,
    "start_time": "2023-04-03T15:43:01.223Z"
   },
   {
    "duration": 473,
    "start_time": "2023-04-03T15:44:24.373Z"
   },
   {
    "duration": 64,
    "start_time": "2023-04-03T15:44:24.848Z"
   },
   {
    "duration": 11,
    "start_time": "2023-04-03T15:44:52.546Z"
   },
   {
    "duration": 920,
    "start_time": "2023-04-03T15:44:52.929Z"
   },
   {
    "duration": 589,
    "start_time": "2023-04-03T15:44:54.790Z"
   },
   {
    "duration": 310,
    "start_time": "2023-04-03T15:44:56.117Z"
   },
   {
    "duration": 61,
    "start_time": "2023-04-03T15:44:57.853Z"
   },
   {
    "duration": 56,
    "start_time": "2023-04-03T15:45:06.095Z"
   },
   {
    "duration": 3,
    "start_time": "2023-04-03T15:45:15.254Z"
   },
   {
    "duration": 82654,
    "start_time": "2023-04-03T15:45:15.930Z"
   },
   {
    "duration": 1902,
    "start_time": "2023-04-03T15:47:32.352Z"
   },
   {
    "duration": 1158,
    "start_time": "2023-04-03T15:47:34.256Z"
   },
   {
    "duration": 247,
    "start_time": "2023-04-03T15:47:36.099Z"
   },
   {
    "duration": 159,
    "start_time": "2023-04-03T15:47:36.949Z"
   },
   {
    "duration": 229,
    "start_time": "2023-04-03T15:47:37.802Z"
   },
   {
    "duration": 4,
    "start_time": "2023-04-03T15:47:38.751Z"
   },
   {
    "duration": 9,
    "start_time": "2023-04-03T15:47:40.361Z"
   },
   {
    "duration": 8203,
    "start_time": "2023-04-03T15:47:43.812Z"
   },
   {
    "duration": 576,
    "start_time": "2023-04-03T15:47:56.327Z"
   },
   {
    "duration": 1257,
    "start_time": "2023-04-03T15:47:56.907Z"
   },
   {
    "duration": 57,
    "start_time": "2023-04-03T15:47:58.166Z"
   },
   {
    "duration": 12,
    "start_time": "2023-04-03T15:47:59.116Z"
   },
   {
    "duration": 59,
    "start_time": "2023-04-03T15:48:00.085Z"
   },
   {
    "duration": 13,
    "start_time": "2023-04-03T15:48:01.484Z"
   },
   {
    "duration": 11,
    "start_time": "2023-04-03T15:48:04.139Z"
   },
   {
    "duration": 51,
    "start_time": "2023-04-03T15:48:06.937Z"
   },
   {
    "duration": 23,
    "start_time": "2023-04-03T15:48:08.287Z"
   },
   {
    "duration": 16,
    "start_time": "2023-04-03T15:48:41.880Z"
   },
   {
    "duration": 152,
    "start_time": "2023-04-03T15:48:43.377Z"
   },
   {
    "duration": 170,
    "start_time": "2023-04-03T15:48:45.619Z"
   },
   {
    "duration": 96,
    "start_time": "2023-04-03T15:48:49.104Z"
   },
   {
    "duration": 41,
    "start_time": "2023-04-03T15:48:55.940Z"
   },
   {
    "duration": 21,
    "start_time": "2023-04-03T15:48:56.716Z"
   },
   {
    "duration": 77,
    "start_time": "2023-04-03T15:48:57.359Z"
   },
   {
    "duration": 29,
    "start_time": "2023-04-03T15:48:58.308Z"
   },
   {
    "duration": 52,
    "start_time": "2023-04-03T15:48:59.109Z"
   },
   {
    "duration": 21,
    "start_time": "2023-04-03T15:49:00.048Z"
   },
   {
    "duration": 80,
    "start_time": "2023-04-03T15:49:01.485Z"
   },
   {
    "duration": 34,
    "start_time": "2023-04-03T15:49:02.427Z"
   },
   {
    "duration": 26,
    "start_time": "2023-04-03T15:49:03.145Z"
   },
   {
    "duration": 52,
    "start_time": "2023-04-03T15:49:03.985Z"
   },
   {
    "duration": 31,
    "start_time": "2023-04-03T15:49:04.991Z"
   },
   {
    "duration": 116,
    "start_time": "2023-04-03T15:49:06.039Z"
   },
   {
    "duration": 8,
    "start_time": "2023-04-03T15:49:08.414Z"
   },
   {
    "duration": 2,
    "start_time": "2023-04-03T15:49:09.957Z"
   },
   {
    "duration": 49,
    "start_time": "2023-04-03T15:49:10.655Z"
   },
   {
    "duration": 19,
    "start_time": "2023-04-03T15:49:12.402Z"
   },
   {
    "duration": 32,
    "start_time": "2023-04-03T15:49:14.042Z"
   },
   {
    "duration": 2560,
    "start_time": "2023-04-03T15:49:25.192Z"
   },
   {
    "duration": 11,
    "start_time": "2023-04-03T15:49:27.754Z"
   },
   {
    "duration": 16,
    "start_time": "2023-04-03T15:49:27.766Z"
   },
   {
    "duration": 24,
    "start_time": "2023-04-03T15:49:28.626Z"
   },
   {
    "duration": 55,
    "start_time": "2023-04-03T15:49:29.526Z"
   },
   {
    "duration": 542,
    "start_time": "2023-04-03T15:49:30.204Z"
   },
   {
    "duration": 13,
    "start_time": "2023-04-03T15:49:31.809Z"
   },
   {
    "duration": 161,
    "start_time": "2023-04-03T15:49:32.960Z"
   },
   {
    "duration": 3,
    "start_time": "2023-04-03T15:49:33.709Z"
   },
   {
    "duration": 4,
    "start_time": "2023-04-03T15:49:37.516Z"
   },
   {
    "duration": 7832,
    "start_time": "2023-04-03T15:49:37.998Z"
   },
   {
    "duration": 6,
    "start_time": "2023-04-03T15:50:10.041Z"
   },
   {
    "duration": 10,
    "start_time": "2023-04-03T15:50:10.405Z"
   },
   {
    "duration": 2246,
    "start_time": "2023-04-03T15:50:12.728Z"
   },
   {
    "duration": 1853,
    "start_time": "2023-04-03T15:50:28.927Z"
   },
   {
    "duration": 1151,
    "start_time": "2023-04-03T15:50:30.790Z"
   },
   {
    "duration": 219,
    "start_time": "2023-04-03T15:50:31.943Z"
   },
   {
    "duration": 143,
    "start_time": "2023-04-03T15:50:32.165Z"
   },
   {
    "duration": 203,
    "start_time": "2023-04-03T15:50:32.309Z"
   },
   {
    "duration": 9,
    "start_time": "2023-04-03T15:50:32.515Z"
   },
   {
    "duration": 3,
    "start_time": "2023-04-03T15:50:32.528Z"
   },
   {
    "duration": 8901,
    "start_time": "2023-04-03T15:50:33.687Z"
   },
   {
    "duration": 634,
    "start_time": "2023-04-03T15:50:42.592Z"
   },
   {
    "duration": 1342,
    "start_time": "2023-04-03T15:50:43.227Z"
   },
   {
    "duration": 66,
    "start_time": "2023-04-03T15:50:44.577Z"
   },
   {
    "duration": 37,
    "start_time": "2023-04-03T15:50:44.645Z"
   },
   {
    "duration": 49,
    "start_time": "2023-04-03T15:50:44.685Z"
   },
   {
    "duration": 4,
    "start_time": "2023-04-03T15:50:44.736Z"
   },
   {
    "duration": 24,
    "start_time": "2023-04-03T15:50:46.751Z"
   },
   {
    "duration": 10,
    "start_time": "2023-04-03T15:50:48.914Z"
   },
   {
    "duration": 156,
    "start_time": "2023-04-03T15:53:21.557Z"
   },
   {
    "duration": 58,
    "start_time": "2023-04-03T15:54:46.959Z"
   },
   {
    "duration": 120,
    "start_time": "2023-04-03T15:54:51.810Z"
   },
   {
    "duration": 87,
    "start_time": "2023-04-03T15:54:53.209Z"
   },
   {
    "duration": 74,
    "start_time": "2023-04-03T15:54:55.356Z"
   },
   {
    "duration": 31,
    "start_time": "2023-04-03T15:54:56.207Z"
   },
   {
    "duration": 69,
    "start_time": "2023-04-03T15:54:56.844Z"
   },
   {
    "duration": 41,
    "start_time": "2023-04-03T15:54:57.481Z"
   },
   {
    "duration": 58,
    "start_time": "2023-04-03T15:54:58.036Z"
   },
   {
    "duration": 18,
    "start_time": "2023-04-03T15:54:58.518Z"
   },
   {
    "duration": 38,
    "start_time": "2023-04-03T15:54:59.008Z"
   },
   {
    "duration": 55,
    "start_time": "2023-04-03T15:54:59.488Z"
   },
   {
    "duration": 30,
    "start_time": "2023-04-03T15:54:59.951Z"
   },
   {
    "duration": 61,
    "start_time": "2023-04-03T15:55:00.452Z"
   },
   {
    "duration": 45,
    "start_time": "2023-04-03T15:55:00.953Z"
   },
   {
    "duration": 110,
    "start_time": "2023-04-03T15:55:01.617Z"
   },
   {
    "duration": 8,
    "start_time": "2023-04-03T15:55:02.719Z"
   },
   {
    "duration": 3,
    "start_time": "2023-04-03T15:55:03.646Z"
   },
   {
    "duration": 30,
    "start_time": "2023-04-03T15:55:04.119Z"
   },
   {
    "duration": 9,
    "start_time": "2023-04-03T15:55:04.717Z"
   },
   {
    "duration": 23,
    "start_time": "2023-04-03T15:55:05.206Z"
   },
   {
    "duration": 2217,
    "start_time": "2023-04-03T15:55:06.658Z"
   },
   {
    "duration": 16,
    "start_time": "2023-04-03T15:55:08.878Z"
   },
   {
    "duration": 19,
    "start_time": "2023-04-03T15:55:08.896Z"
   },
   {
    "duration": 32,
    "start_time": "2023-04-03T15:55:08.918Z"
   },
   {
    "duration": 67,
    "start_time": "2023-04-03T15:55:08.952Z"
   },
   {
    "duration": 528,
    "start_time": "2023-04-03T15:55:09.021Z"
   },
   {
    "duration": 22,
    "start_time": "2023-04-03T15:55:09.761Z"
   },
   {
    "duration": 105,
    "start_time": "2023-04-03T15:55:10.690Z"
   },
   {
    "duration": 3,
    "start_time": "2023-04-03T15:55:11.028Z"
   },
   {
    "duration": 5,
    "start_time": "2023-04-03T15:55:12.601Z"
   },
   {
    "duration": 7244,
    "start_time": "2023-04-03T15:55:13.705Z"
   },
   {
    "duration": 30,
    "start_time": "2023-04-03T15:55:30.199Z"
   },
   {
    "duration": 999,
    "start_time": "2023-04-03T15:55:31.286Z"
   },
   {
    "duration": 544,
    "start_time": "2023-04-03T15:55:32.737Z"
   },
   {
    "duration": 153,
    "start_time": "2023-04-03T15:55:33.907Z"
   },
   {
    "duration": 256,
    "start_time": "2023-04-03T15:55:45.144Z"
   },
   {
    "duration": 3,
    "start_time": "2023-04-03T15:55:48.108Z"
   },
   {
    "duration": 107429,
    "start_time": "2023-04-03T15:55:49.760Z"
   },
   {
    "duration": 409,
    "start_time": "2023-04-03T15:57:37.192Z"
   },
   {
    "duration": 14,
    "start_time": "2023-04-03T15:57:37.666Z"
   },
   {
    "duration": 9,
    "start_time": "2023-04-03T15:57:37.688Z"
   },
   {
    "duration": 431384,
    "start_time": "2023-04-03T15:57:37.708Z"
   },
   {
    "duration": 9,
    "start_time": "2023-04-03T16:04:49.167Z"
   },
   {
    "duration": 33062,
    "start_time": "2023-04-03T16:04:49.185Z"
   },
   {
    "duration": 426,
    "start_time": "2023-04-03T16:05:22.249Z"
   },
   {
    "duration": 26,
    "start_time": "2023-04-03T16:05:22.688Z"
   },
   {
    "duration": 5,
    "start_time": "2023-04-03T16:05:22.722Z"
   },
   {
    "duration": 232692,
    "start_time": "2023-04-03T16:05:22.729Z"
   },
   {
    "duration": 7,
    "start_time": "2023-04-03T16:09:15.426Z"
   },
   {
    "duration": 50073,
    "start_time": "2023-04-03T16:09:15.439Z"
   },
   {
    "duration": 460,
    "start_time": "2023-04-03T16:10:05.517Z"
   },
   {
    "duration": 30,
    "start_time": "2023-04-03T16:10:05.982Z"
   },
   {
    "duration": 54,
    "start_time": "2023-04-03T16:10:06.018Z"
   },
   {
    "duration": 122,
    "start_time": "2023-04-03T16:10:06.082Z"
   },
   {
    "duration": 12,
    "start_time": "2023-04-03T16:10:06.206Z"
   },
   {
    "duration": 258016,
    "start_time": "2023-04-03T16:10:06.221Z"
   },
   {
    "duration": 2504,
    "start_time": "2023-04-03T16:14:24.240Z"
   },
   {
    "duration": 76,
    "start_time": "2023-04-03T16:14:26.746Z"
   },
   {
    "duration": 0,
    "start_time": "2023-04-03T16:14:26.824Z"
   },
   {
    "duration": 0,
    "start_time": "2023-04-03T16:14:26.825Z"
   },
   {
    "duration": 0,
    "start_time": "2023-04-03T16:14:26.829Z"
   },
   {
    "duration": 0,
    "start_time": "2023-04-03T16:14:26.830Z"
   },
   {
    "duration": 0,
    "start_time": "2023-04-03T16:14:26.831Z"
   },
   {
    "duration": 420537,
    "start_time": "2023-04-03T16:14:55.631Z"
   },
   {
    "duration": 3020,
    "start_time": "2023-04-03T16:21:56.177Z"
   },
   {
    "duration": 127,
    "start_time": "2023-04-03T16:26:28.394Z"
   },
   {
    "duration": 149,
    "start_time": "2023-04-03T16:27:03.989Z"
   },
   {
    "duration": 6,
    "start_time": "2023-04-03T16:27:21.308Z"
   },
   {
    "duration": 5,
    "start_time": "2023-04-03T16:27:48.863Z"
   },
   {
    "duration": 1763,
    "start_time": "2023-04-03T16:28:03.263Z"
   },
   {
    "duration": 1004,
    "start_time": "2023-04-03T16:28:05.028Z"
   },
   {
    "duration": 253,
    "start_time": "2023-04-03T16:28:06.034Z"
   },
   {
    "duration": 106,
    "start_time": "2023-04-03T16:28:06.298Z"
   },
   {
    "duration": 175,
    "start_time": "2023-04-03T16:28:06.411Z"
   },
   {
    "duration": 8,
    "start_time": "2023-04-03T16:28:06.597Z"
   },
   {
    "duration": 4,
    "start_time": "2023-04-03T16:28:06.609Z"
   },
   {
    "duration": 7794,
    "start_time": "2023-04-03T16:28:06.615Z"
   },
   {
    "duration": 678,
    "start_time": "2023-04-03T16:28:14.412Z"
   },
   {
    "duration": 1268,
    "start_time": "2023-04-03T16:28:15.100Z"
   },
   {
    "duration": 57,
    "start_time": "2023-04-03T16:28:16.370Z"
   },
   {
    "duration": 12,
    "start_time": "2023-04-03T16:28:16.429Z"
   },
   {
    "duration": 50,
    "start_time": "2023-04-03T16:28:16.443Z"
   },
   {
    "duration": 4,
    "start_time": "2023-04-03T16:28:16.497Z"
   },
   {
    "duration": 23,
    "start_time": "2023-04-03T16:28:16.503Z"
   },
   {
    "duration": 147,
    "start_time": "2023-04-03T16:28:16.527Z"
   },
   {
    "duration": 118,
    "start_time": "2023-04-03T16:28:16.676Z"
   },
   {
    "duration": 111,
    "start_time": "2023-04-03T16:28:16.800Z"
   },
   {
    "duration": 43,
    "start_time": "2023-04-03T16:28:16.915Z"
   },
   {
    "duration": 35,
    "start_time": "2023-04-03T16:28:16.963Z"
   },
   {
    "duration": 46,
    "start_time": "2023-04-03T16:28:17.001Z"
   },
   {
    "duration": 57,
    "start_time": "2023-04-03T16:28:17.049Z"
   },
   {
    "duration": 66,
    "start_time": "2023-04-03T16:28:17.112Z"
   },
   {
    "duration": 33,
    "start_time": "2023-04-03T16:28:17.182Z"
   },
   {
    "duration": 59,
    "start_time": "2023-04-03T16:28:17.217Z"
   },
   {
    "duration": 58,
    "start_time": "2023-04-03T16:28:17.279Z"
   },
   {
    "duration": 25,
    "start_time": "2023-04-03T16:28:17.344Z"
   },
   {
    "duration": 71,
    "start_time": "2023-04-03T16:28:17.378Z"
   },
   {
    "duration": 47,
    "start_time": "2023-04-03T16:28:17.451Z"
   },
   {
    "duration": 119,
    "start_time": "2023-04-03T16:28:17.500Z"
   },
   {
    "duration": 6,
    "start_time": "2023-04-03T16:28:17.620Z"
   },
   {
    "duration": 2,
    "start_time": "2023-04-03T16:28:17.628Z"
   },
   {
    "duration": 36,
    "start_time": "2023-04-03T16:28:17.631Z"
   },
   {
    "duration": 12,
    "start_time": "2023-04-03T16:28:17.669Z"
   },
   {
    "duration": 29,
    "start_time": "2023-04-03T16:28:17.684Z"
   },
   {
    "duration": 1928,
    "start_time": "2023-04-03T16:28:17.714Z"
   },
   {
    "duration": 11,
    "start_time": "2023-04-03T16:28:19.644Z"
   },
   {
    "duration": 14,
    "start_time": "2023-04-03T16:28:19.670Z"
   },
   {
    "duration": 28,
    "start_time": "2023-04-03T16:28:19.689Z"
   },
   {
    "duration": 43,
    "start_time": "2023-04-03T16:28:19.719Z"
   },
   {
    "duration": 465,
    "start_time": "2023-04-03T16:28:19.768Z"
   },
   {
    "duration": 14,
    "start_time": "2023-04-03T16:28:20.235Z"
   },
   {
    "duration": 113,
    "start_time": "2023-04-03T16:28:20.261Z"
   },
   {
    "duration": 23,
    "start_time": "2023-04-03T16:28:20.378Z"
   },
   {
    "duration": 3,
    "start_time": "2023-04-03T16:28:20.406Z"
   },
   {
    "duration": 7542,
    "start_time": "2023-04-03T16:28:20.412Z"
   },
   {
    "duration": 23,
    "start_time": "2023-04-03T16:28:27.956Z"
   },
   {
    "duration": 924,
    "start_time": "2023-04-03T16:28:27.989Z"
   },
   {
    "duration": 540,
    "start_time": "2023-04-03T16:28:28.916Z"
   },
   {
    "duration": 278,
    "start_time": "2023-04-03T16:28:29.462Z"
   },
   {
    "duration": 4,
    "start_time": "2023-04-03T16:28:29.742Z"
   },
   {
    "duration": 113743,
    "start_time": "2023-04-03T16:28:29.748Z"
   },
   {
    "duration": 478,
    "start_time": "2023-04-03T16:30:23.496Z"
   },
   {
    "duration": 20,
    "start_time": "2023-04-03T16:30:23.988Z"
   },
   {
    "duration": 59,
    "start_time": "2023-04-03T16:30:24.009Z"
   },
   {
    "duration": 382613,
    "start_time": "2023-04-03T16:30:24.071Z"
   },
   {
    "duration": 83,
    "start_time": "2023-04-03T16:36:46.696Z"
   },
   {
    "duration": 35225,
    "start_time": "2023-04-03T16:36:46.781Z"
   },
   {
    "duration": 357,
    "start_time": "2023-04-03T16:37:22.017Z"
   },
   {
    "duration": 32,
    "start_time": "2023-04-03T16:37:22.376Z"
   },
   {
    "duration": 56,
    "start_time": "2023-04-03T16:37:22.410Z"
   },
   {
    "duration": 864928,
    "start_time": "2023-04-03T16:37:22.468Z"
   },
   {
    "duration": 11,
    "start_time": "2023-04-03T16:51:47.405Z"
   },
   {
    "duration": 39869,
    "start_time": "2023-04-03T16:51:47.427Z"
   },
   {
    "duration": 477,
    "start_time": "2023-04-03T16:52:27.302Z"
   },
   {
    "duration": 29,
    "start_time": "2023-04-03T16:52:27.789Z"
   },
   {
    "duration": 37,
    "start_time": "2023-04-03T16:52:27.828Z"
   },
   {
    "duration": 107,
    "start_time": "2023-04-03T16:52:27.878Z"
   },
   {
    "duration": 14,
    "start_time": "2023-04-03T16:52:27.990Z"
   },
   {
    "duration": 282144,
    "start_time": "2023-04-03T16:52:28.015Z"
   },
   {
    "duration": 2949,
    "start_time": "2023-04-03T16:57:10.164Z"
   },
   {
    "duration": 5,
    "start_time": "2023-04-03T16:57:13.115Z"
   },
   {
    "duration": 1674583,
    "start_time": "2023-04-03T16:57:13.129Z"
   },
   {
    "duration": 247,
    "start_time": "2023-04-03T17:25:07.713Z"
   },
   {
    "duration": 136,
    "start_time": "2023-04-03T17:25:07.968Z"
   },
   {
    "duration": 522501,
    "start_time": "2023-04-03T17:25:08.107Z"
   },
   {
    "duration": 3000,
    "start_time": "2023-04-03T17:33:50.612Z"
   },
   {
    "duration": 5,
    "start_time": "2023-04-03T17:33:53.614Z"
   },
   {
    "duration": 511,
    "start_time": "2023-04-03T17:33:53.621Z"
   },
   {
    "duration": 0,
    "start_time": "2023-04-03T17:33:54.134Z"
   },
   {
    "duration": 0,
    "start_time": "2023-04-03T17:33:54.137Z"
   },
   {
    "duration": 3,
    "start_time": "2023-04-03T19:25:13.697Z"
   },
   {
    "duration": 10,
    "start_time": "2023-04-03T19:25:16.641Z"
   },
   {
    "duration": 58,
    "start_time": "2023-04-04T06:25:31.679Z"
   },
   {
    "duration": 1664,
    "start_time": "2023-04-04T06:25:35.863Z"
   },
   {
    "duration": 1021,
    "start_time": "2023-04-04T06:25:37.529Z"
   },
   {
    "duration": 154,
    "start_time": "2023-04-04T06:25:38.553Z"
   },
   {
    "duration": 101,
    "start_time": "2023-04-04T06:25:38.709Z"
   },
   {
    "duration": 112,
    "start_time": "2023-04-04T06:25:38.811Z"
   },
   {
    "duration": 3,
    "start_time": "2023-04-04T06:25:38.925Z"
   },
   {
    "duration": 3,
    "start_time": "2023-04-04T06:25:38.940Z"
   },
   {
    "duration": 5976,
    "start_time": "2023-04-04T06:25:38.945Z"
   },
   {
    "duration": 373,
    "start_time": "2023-04-04T06:25:44.923Z"
   },
   {
    "duration": 764,
    "start_time": "2023-04-04T06:25:45.298Z"
   },
   {
    "duration": 37,
    "start_time": "2023-04-04T06:25:49.338Z"
   },
   {
    "duration": 12,
    "start_time": "2023-04-04T06:25:50.519Z"
   },
   {
    "duration": 27,
    "start_time": "2023-04-04T06:25:51.726Z"
   },
   {
    "duration": 96,
    "start_time": "2023-04-04T06:25:52.679Z"
   },
   {
    "duration": 92,
    "start_time": "2023-04-04T06:26:08.915Z"
   },
   {
    "duration": 1367,
    "start_time": "2023-04-04T06:26:49.489Z"
   },
   {
    "duration": 710,
    "start_time": "2023-04-04T06:26:50.857Z"
   },
   {
    "duration": 129,
    "start_time": "2023-04-04T06:26:51.569Z"
   },
   {
    "duration": 84,
    "start_time": "2023-04-04T06:26:51.837Z"
   },
   {
    "duration": 105,
    "start_time": "2023-04-04T06:26:52.661Z"
   },
   {
    "duration": 4,
    "start_time": "2023-04-04T06:26:53.364Z"
   },
   {
    "duration": 3,
    "start_time": "2023-04-04T06:26:54.014Z"
   },
   {
    "duration": 6347,
    "start_time": "2023-04-04T06:26:54.435Z"
   },
   {
    "duration": 401,
    "start_time": "2023-04-04T06:27:00.784Z"
   },
   {
    "duration": 811,
    "start_time": "2023-04-04T06:27:01.187Z"
   },
   {
    "duration": 40,
    "start_time": "2023-04-04T06:27:02.000Z"
   },
   {
    "duration": 10,
    "start_time": "2023-04-04T06:27:02.042Z"
   },
   {
    "duration": 61,
    "start_time": "2023-04-04T06:27:02.054Z"
   },
   {
    "duration": 206,
    "start_time": "2023-04-04T06:27:02.117Z"
   },
   {
    "duration": 3,
    "start_time": "2023-04-04T06:27:36.022Z"
   },
   {
    "duration": 5,
    "start_time": "2023-04-04T06:28:45.259Z"
   },
   {
    "duration": 718,
    "start_time": "2023-04-04T06:29:15.538Z"
   },
   {
    "duration": 678,
    "start_time": "2023-04-04T06:29:44.527Z"
   },
   {
    "duration": 10,
    "start_time": "2023-04-04T06:30:11.385Z"
   },
   {
    "duration": 681,
    "start_time": "2023-04-04T06:30:22.236Z"
   },
   {
    "duration": 674,
    "start_time": "2023-04-04T06:30:39.350Z"
   },
   {
    "duration": 1441,
    "start_time": "2023-04-04T06:31:33.583Z"
   },
   {
    "duration": 704,
    "start_time": "2023-04-04T06:31:35.026Z"
   },
   {
    "duration": 132,
    "start_time": "2023-04-04T06:31:35.731Z"
   },
   {
    "duration": 88,
    "start_time": "2023-04-04T06:31:35.865Z"
   },
   {
    "duration": 109,
    "start_time": "2023-04-04T06:31:35.955Z"
   },
   {
    "duration": 3,
    "start_time": "2023-04-04T06:31:36.066Z"
   },
   {
    "duration": 4,
    "start_time": "2023-04-04T06:31:36.071Z"
   },
   {
    "duration": 5649,
    "start_time": "2023-04-04T06:31:36.077Z"
   },
   {
    "duration": 380,
    "start_time": "2023-04-04T06:31:41.727Z"
   },
   {
    "duration": 791,
    "start_time": "2023-04-04T06:31:42.109Z"
   },
   {
    "duration": 41,
    "start_time": "2023-04-04T06:31:42.901Z"
   },
   {
    "duration": 10,
    "start_time": "2023-04-04T06:31:42.943Z"
   },
   {
    "duration": 39,
    "start_time": "2023-04-04T06:31:42.954Z"
   },
   {
    "duration": 3,
    "start_time": "2023-04-04T06:31:42.994Z"
   },
   {
    "duration": 13,
    "start_time": "2023-04-04T06:31:42.998Z"
   },
   {
    "duration": 111,
    "start_time": "2023-04-04T06:31:43.013Z"
   },
   {
    "duration": 70,
    "start_time": "2023-04-04T06:31:43.126Z"
   },
   {
    "duration": 65,
    "start_time": "2023-04-04T06:31:43.198Z"
   },
   {
    "duration": 26,
    "start_time": "2023-04-04T06:31:43.265Z"
   },
   {
    "duration": 14,
    "start_time": "2023-04-04T06:31:43.293Z"
   },
   {
    "duration": 37,
    "start_time": "2023-04-04T06:31:43.308Z"
   },
   {
    "duration": 16,
    "start_time": "2023-04-04T06:31:43.346Z"
   },
   {
    "duration": 32,
    "start_time": "2023-04-04T06:31:43.363Z"
   },
   {
    "duration": 20,
    "start_time": "2023-04-04T06:31:43.397Z"
   },
   {
    "duration": 40,
    "start_time": "2023-04-04T06:31:43.419Z"
   },
   {
    "duration": 30,
    "start_time": "2023-04-04T06:31:43.461Z"
   },
   {
    "duration": 14,
    "start_time": "2023-04-04T06:31:43.493Z"
   },
   {
    "duration": 38,
    "start_time": "2023-04-04T06:31:43.510Z"
   },
   {
    "duration": 22,
    "start_time": "2023-04-04T06:31:43.550Z"
   },
   {
    "duration": 75,
    "start_time": "2023-04-04T06:31:43.573Z"
   },
   {
    "duration": 5,
    "start_time": "2023-04-04T06:31:43.650Z"
   },
   {
    "duration": 6,
    "start_time": "2023-04-04T06:31:43.656Z"
   },
   {
    "duration": 23,
    "start_time": "2023-04-04T06:31:43.664Z"
   },
   {
    "duration": 8,
    "start_time": "2023-04-04T06:31:43.688Z"
   },
   {
    "duration": 20,
    "start_time": "2023-04-04T06:31:43.697Z"
   },
   {
    "duration": 1549,
    "start_time": "2023-04-04T06:31:43.740Z"
   },
   {
    "duration": 12,
    "start_time": "2023-04-04T06:31:45.290Z"
   },
   {
    "duration": 8,
    "start_time": "2023-04-04T06:31:45.303Z"
   },
   {
    "duration": 35,
    "start_time": "2023-04-04T06:31:45.313Z"
   },
   {
    "duration": 38,
    "start_time": "2023-04-04T06:31:45.350Z"
   },
   {
    "duration": 427,
    "start_time": "2023-04-04T06:31:45.389Z"
   },
   {
    "duration": 9,
    "start_time": "2023-04-04T06:31:45.817Z"
   },
   {
    "duration": 84,
    "start_time": "2023-04-04T06:31:45.827Z"
   },
   {
    "duration": 3,
    "start_time": "2023-04-04T06:31:45.912Z"
   },
   {
    "duration": 9,
    "start_time": "2023-04-04T06:31:45.917Z"
   },
   {
    "duration": 5345,
    "start_time": "2023-04-04T06:31:45.927Z"
   },
   {
    "duration": 9,
    "start_time": "2023-04-04T06:31:51.274Z"
   },
   {
    "duration": 500,
    "start_time": "2023-04-04T06:31:51.286Z"
   },
   {
    "duration": 348,
    "start_time": "2023-04-04T06:31:51.788Z"
   },
   {
    "duration": 173,
    "start_time": "2023-04-04T06:32:20.137Z"
   },
   {
    "duration": 2,
    "start_time": "2023-04-04T06:32:22.048Z"
   },
   {
    "duration": 17402,
    "start_time": "2023-04-04T06:32:22.647Z"
   },
   {
    "duration": 305,
    "start_time": "2023-04-04T06:33:54.036Z"
   },
   {
    "duration": 19688,
    "start_time": "2023-04-04T06:34:03.558Z"
   },
   {
    "duration": 4,
    "start_time": "2023-04-04T06:36:11.236Z"
   },
   {
    "duration": 7,
    "start_time": "2023-04-04T06:36:13.212Z"
   },
   {
    "duration": 122,
    "start_time": "2023-04-04T06:36:36.379Z"
   },
   {
    "duration": 9,
    "start_time": "2023-04-04T06:37:10.931Z"
   },
   {
    "duration": 462,
    "start_time": "2023-04-04T06:41:18.126Z"
   },
   {
    "duration": 398,
    "start_time": "2023-04-04T06:43:49.149Z"
   },
   {
    "duration": 423,
    "start_time": "2023-04-04T06:44:11.018Z"
   },
   {
    "duration": 301,
    "start_time": "2023-04-04T06:44:19.643Z"
   },
   {
    "duration": 3,
    "start_time": "2023-04-04T06:44:40.108Z"
   },
   {
    "duration": 12,
    "start_time": "2023-04-04T06:44:41.238Z"
   },
   {
    "duration": 7,
    "start_time": "2023-04-04T06:44:50.514Z"
   },
   {
    "duration": 81,
    "start_time": "2023-04-04T06:45:51.223Z"
   },
   {
    "duration": 4,
    "start_time": "2023-04-04T06:46:10.882Z"
   },
   {
    "duration": 7,
    "start_time": "2023-04-04T06:46:14.938Z"
   },
   {
    "duration": 18157,
    "start_time": "2023-04-04T06:51:36.989Z"
   },
   {
    "duration": 19598,
    "start_time": "2023-04-04T06:51:56.948Z"
   },
   {
    "duration": 19539,
    "start_time": "2023-04-04T06:52:44.307Z"
   },
   {
    "duration": 527,
    "start_time": "2023-04-04T06:53:03.849Z"
   },
   {
    "duration": 83,
    "start_time": "2023-04-04T06:56:55.439Z"
   },
   {
    "duration": 6,
    "start_time": "2023-04-04T06:57:14.639Z"
   },
   {
    "duration": 91,
    "start_time": "2023-04-04T06:57:23.031Z"
   },
   {
    "duration": 17944,
    "start_time": "2023-04-04T06:57:44.897Z"
   },
   {
    "duration": 16890,
    "start_time": "2023-04-04T06:58:22.951Z"
   },
   {
    "duration": 312,
    "start_time": "2023-04-04T07:00:10.829Z"
   },
   {
    "duration": 19742,
    "start_time": "2023-04-04T07:00:47.303Z"
   },
   {
    "duration": 5,
    "start_time": "2023-04-04T07:01:31.903Z"
   },
   {
    "duration": 2,
    "start_time": "2023-04-04T07:01:33.523Z"
   },
   {
    "duration": 69181,
    "start_time": "2023-04-04T07:01:34.059Z"
   },
   {
    "duration": 3,
    "start_time": "2023-04-04T07:02:43.243Z"
   },
   {
    "duration": 31824,
    "start_time": "2023-04-04T07:05:52.767Z"
   },
   {
    "duration": 255,
    "start_time": "2023-04-04T07:06:24.593Z"
   },
   {
    "duration": 4,
    "start_time": "2023-04-04T07:06:34.742Z"
   },
   {
    "duration": 3,
    "start_time": "2023-04-04T07:07:09.349Z"
   },
   {
    "duration": 683598,
    "start_time": "2023-04-04T07:07:09.773Z"
   },
   {
    "duration": 3,
    "start_time": "2023-04-04T07:18:33.373Z"
   },
   {
    "duration": 29026,
    "start_time": "2023-04-04T07:18:33.378Z"
   },
   {
    "duration": 244,
    "start_time": "2023-04-04T07:19:02.407Z"
   },
   {
    "duration": 5,
    "start_time": "2023-04-04T07:19:02.741Z"
   },
   {
    "duration": 3,
    "start_time": "2023-04-04T07:34:16.963Z"
   },
   {
    "duration": 21,
    "start_time": "2023-04-04T07:34:19.547Z"
   },
   {
    "duration": 62,
    "start_time": "2023-04-04T07:34:19.883Z"
   },
   {
    "duration": 3,
    "start_time": "2023-04-04T07:34:21.258Z"
   },
   {
    "duration": 195377,
    "start_time": "2023-04-04T07:34:32.131Z"
   },
   {
    "duration": 1694,
    "start_time": "2023-04-04T07:38:06.776Z"
   },
   {
    "duration": 3,
    "start_time": "2023-04-04T07:38:10.255Z"
   },
   {
    "duration": 11,
    "start_time": "2023-04-04T07:38:12.311Z"
   },
   {
    "duration": 3,
    "start_time": "2023-04-04T07:38:40.221Z"
   },
   {
    "duration": 10,
    "start_time": "2023-04-04T07:38:42.726Z"
   },
   {
    "duration": 18689,
    "start_time": "2023-04-04T07:44:02.151Z"
   },
   {
    "duration": 9,
    "start_time": "2023-04-04T07:47:12.247Z"
   },
   {
    "duration": 3,
    "start_time": "2023-04-04T07:47:25.015Z"
   },
   {
    "duration": 17527,
    "start_time": "2023-04-04T07:47:31.025Z"
   },
   {
    "duration": 5,
    "start_time": "2023-04-04T07:48:02.077Z"
   },
   {
    "duration": 17,
    "start_time": "2023-04-04T07:48:08.817Z"
   },
   {
    "duration": 4,
    "start_time": "2023-04-04T07:51:15.522Z"
   },
   {
    "duration": 4,
    "start_time": "2023-04-04T07:51:29.290Z"
   },
   {
    "duration": 6,
    "start_time": "2023-04-04T07:51:41.482Z"
   },
   {
    "duration": 5,
    "start_time": "2023-04-04T07:52:22.857Z"
   },
   {
    "duration": 6,
    "start_time": "2023-04-04T07:52:24.227Z"
   },
   {
    "duration": 4,
    "start_time": "2023-04-04T07:52:37.137Z"
   },
   {
    "duration": 12,
    "start_time": "2023-04-04T07:52:40.258Z"
   },
   {
    "duration": 4,
    "start_time": "2023-04-04T07:53:17.449Z"
   },
   {
    "duration": 7,
    "start_time": "2023-04-04T07:53:18.219Z"
   },
   {
    "duration": 23980,
    "start_time": "2023-04-04T07:56:03.567Z"
   },
   {
    "duration": 9,
    "start_time": "2023-04-04T07:56:39.709Z"
   },
   {
    "duration": 17711,
    "start_time": "2023-04-04T07:57:13.829Z"
   },
   {
    "duration": 9,
    "start_time": "2023-04-04T07:57:31.542Z"
   },
   {
    "duration": 70,
    "start_time": "2023-04-04T07:59:27.828Z"
   },
   {
    "duration": 12,
    "start_time": "2023-04-04T08:01:01.690Z"
   },
   {
    "duration": 14,
    "start_time": "2023-04-04T08:01:31.918Z"
   },
   {
    "duration": 117,
    "start_time": "2023-04-04T08:02:23.518Z"
   },
   {
    "duration": 17983,
    "start_time": "2023-04-04T08:03:02.567Z"
   },
   {
    "duration": 323,
    "start_time": "2023-04-04T08:03:47.519Z"
   },
   {
    "duration": 16,
    "start_time": "2023-04-04T08:03:56.247Z"
   },
   {
    "duration": 4,
    "start_time": "2023-04-04T08:04:09.254Z"
   },
   {
    "duration": 8,
    "start_time": "2023-04-04T08:04:09.854Z"
   },
   {
    "duration": 23095,
    "start_time": "2023-04-04T08:04:18.845Z"
   },
   {
    "duration": 13,
    "start_time": "2023-04-04T08:04:45.766Z"
   },
   {
    "duration": 295,
    "start_time": "2023-04-04T08:05:00.149Z"
   },
   {
    "duration": 10,
    "start_time": "2023-04-04T08:05:02.789Z"
   },
   {
    "duration": 21994,
    "start_time": "2023-04-04T08:05:06.853Z"
   },
   {
    "duration": 93,
    "start_time": "2023-04-04T08:05:28.849Z"
   },
   {
    "duration": 8,
    "start_time": "2023-04-04T08:07:34.844Z"
   },
   {
    "duration": 4,
    "start_time": "2023-04-04T08:07:41.820Z"
   },
   {
    "duration": 68,
    "start_time": "2023-04-04T08:08:49.475Z"
   },
   {
    "duration": 6,
    "start_time": "2023-04-04T08:08:58.127Z"
   },
   {
    "duration": 11,
    "start_time": "2023-04-04T08:08:59.723Z"
   },
   {
    "duration": 6,
    "start_time": "2023-04-04T08:11:28.527Z"
   },
   {
    "duration": 10,
    "start_time": "2023-04-04T08:11:29.319Z"
   },
   {
    "duration": 29,
    "start_time": "2023-04-04T08:11:31.279Z"
   },
   {
    "duration": 522,
    "start_time": "2023-04-04T08:11:32.480Z"
   },
   {
    "duration": 357,
    "start_time": "2023-04-04T08:11:33.071Z"
   },
   {
    "duration": 190,
    "start_time": "2023-04-04T08:11:34.257Z"
   },
   {
    "duration": 2,
    "start_time": "2023-04-04T08:11:35.833Z"
   },
   {
    "duration": 23221,
    "start_time": "2023-04-04T08:11:37.023Z"
   },
   {
    "duration": 402,
    "start_time": "2023-04-04T08:12:00.246Z"
   },
   {
    "duration": 89,
    "start_time": "2023-04-04T08:12:00.651Z"
   },
   {
    "duration": 42,
    "start_time": "2023-04-04T08:12:00.742Z"
   },
   {
    "duration": 98054,
    "start_time": "2023-04-04T08:12:00.786Z"
   },
   {
    "duration": 3,
    "start_time": "2023-04-04T08:13:38.843Z"
   },
   {
    "duration": 11,
    "start_time": "2023-04-04T08:15:29.059Z"
   },
   {
    "duration": 5,
    "start_time": "2023-04-04T08:16:04.026Z"
   },
   {
    "duration": 7,
    "start_time": "2023-04-04T08:16:04.491Z"
   },
   {
    "duration": 12,
    "start_time": "2023-04-04T08:16:06.858Z"
   },
   {
    "duration": 543,
    "start_time": "2023-04-04T08:16:07.117Z"
   },
   {
    "duration": 362,
    "start_time": "2023-04-04T08:16:07.662Z"
   },
   {
    "duration": 186,
    "start_time": "2023-04-04T08:16:08.026Z"
   },
   {
    "duration": 2,
    "start_time": "2023-04-04T08:16:08.215Z"
   },
   {
    "duration": 23425,
    "start_time": "2023-04-04T08:16:08.218Z"
   },
   {
    "duration": 304,
    "start_time": "2023-04-04T08:16:31.645Z"
   },
   {
    "duration": 93,
    "start_time": "2023-04-04T08:16:31.951Z"
   },
   {
    "duration": 13,
    "start_time": "2023-04-04T08:16:32.046Z"
   },
   {
    "duration": 94101,
    "start_time": "2023-04-04T08:16:32.140Z"
   },
   {
    "duration": 5,
    "start_time": "2023-04-04T08:18:06.244Z"
   },
   {
    "duration": 1641,
    "start_time": "2023-04-04T08:18:47.866Z"
   },
   {
    "duration": 804,
    "start_time": "2023-04-04T08:18:49.542Z"
   },
   {
    "duration": 243,
    "start_time": "2023-04-04T08:18:50.348Z"
   },
   {
    "duration": 102,
    "start_time": "2023-04-04T08:18:50.593Z"
   },
   {
    "duration": 117,
    "start_time": "2023-04-04T08:18:50.698Z"
   },
   {
    "duration": 4,
    "start_time": "2023-04-04T08:18:51.320Z"
   },
   {
    "duration": 3,
    "start_time": "2023-04-04T08:18:51.661Z"
   },
   {
    "duration": 6139,
    "start_time": "2023-04-04T08:18:52.053Z"
   },
   {
    "duration": 435,
    "start_time": "2023-04-04T08:18:58.193Z"
   },
   {
    "duration": 907,
    "start_time": "2023-04-04T08:18:58.630Z"
   },
   {
    "duration": 41,
    "start_time": "2023-04-04T08:18:59.539Z"
   },
   {
    "duration": 13,
    "start_time": "2023-04-04T08:18:59.582Z"
   },
   {
    "duration": 58,
    "start_time": "2023-04-04T08:18:59.596Z"
   },
   {
    "duration": 3,
    "start_time": "2023-04-04T08:18:59.656Z"
   },
   {
    "duration": 36,
    "start_time": "2023-04-04T08:18:59.661Z"
   },
   {
    "duration": 112,
    "start_time": "2023-04-04T08:18:59.699Z"
   },
   {
    "duration": 76,
    "start_time": "2023-04-04T08:18:59.813Z"
   },
   {
    "duration": 74,
    "start_time": "2023-04-04T08:18:59.890Z"
   },
   {
    "duration": 30,
    "start_time": "2023-04-04T08:18:59.966Z"
   },
   {
    "duration": 15,
    "start_time": "2023-04-04T08:19:00.688Z"
   },
   {
    "duration": 28,
    "start_time": "2023-04-04T08:19:01.516Z"
   },
   {
    "duration": 17,
    "start_time": "2023-04-04T08:19:02.748Z"
   },
   {
    "duration": 46,
    "start_time": "2023-04-04T08:19:04.031Z"
   },
   {
    "duration": 16,
    "start_time": "2023-04-04T08:19:04.783Z"
   },
   {
    "duration": 32,
    "start_time": "2023-04-04T08:19:05.725Z"
   },
   {
    "duration": 33,
    "start_time": "2023-04-04T08:19:06.464Z"
   },
   {
    "duration": 18,
    "start_time": "2023-04-04T08:19:06.871Z"
   },
   {
    "duration": 29,
    "start_time": "2023-04-04T08:19:07.532Z"
   },
   {
    "duration": 16,
    "start_time": "2023-04-04T08:19:08.225Z"
   },
   {
    "duration": 83,
    "start_time": "2023-04-04T08:19:08.948Z"
   },
   {
    "duration": 6,
    "start_time": "2023-04-04T08:19:10.628Z"
   },
   {
    "duration": 3,
    "start_time": "2023-04-04T08:19:17.991Z"
   },
   {
    "duration": 25,
    "start_time": "2023-04-04T08:19:18.481Z"
   },
   {
    "duration": 10,
    "start_time": "2023-04-04T08:19:18.890Z"
   },
   {
    "duration": 23,
    "start_time": "2023-04-04T08:19:19.267Z"
   },
   {
    "duration": 1702,
    "start_time": "2023-04-04T08:19:21.136Z"
   },
   {
    "duration": 9,
    "start_time": "2023-04-04T08:19:22.840Z"
   },
   {
    "duration": 9,
    "start_time": "2023-04-04T08:19:22.851Z"
   },
   {
    "duration": 37,
    "start_time": "2023-04-04T08:19:22.862Z"
   },
   {
    "duration": 48,
    "start_time": "2023-04-04T08:19:22.901Z"
   },
   {
    "duration": 436,
    "start_time": "2023-04-04T08:19:23.480Z"
   },
   {
    "duration": 9,
    "start_time": "2023-04-04T08:19:24.063Z"
   },
   {
    "duration": 72,
    "start_time": "2023-04-04T08:19:24.975Z"
   },
   {
    "duration": 4,
    "start_time": "2023-04-04T08:19:25.767Z"
   },
   {
    "duration": 3,
    "start_time": "2023-04-04T08:19:28.256Z"
   },
   {
    "duration": 5810,
    "start_time": "2023-04-04T08:19:28.949Z"
   },
   {
    "duration": 7,
    "start_time": "2023-04-04T08:19:41.426Z"
   },
   {
    "duration": 8,
    "start_time": "2023-04-04T08:19:43.425Z"
   },
   {
    "duration": 7,
    "start_time": "2023-04-04T08:20:43.727Z"
   },
   {
    "duration": 10,
    "start_time": "2023-04-04T08:20:44.028Z"
   },
   {
    "duration": 12,
    "start_time": "2023-04-04T08:20:49.866Z"
   },
   {
    "duration": 551,
    "start_time": "2023-04-04T08:20:49.880Z"
   },
   {
    "duration": 368,
    "start_time": "2023-04-04T08:20:50.432Z"
   },
   {
    "duration": 225,
    "start_time": "2023-04-04T08:20:50.802Z"
   },
   {
    "duration": 3,
    "start_time": "2023-04-04T08:20:54.600Z"
   },
   {
    "duration": 28082,
    "start_time": "2023-04-04T08:20:58.758Z"
   },
   {
    "duration": 308,
    "start_time": "2023-04-04T08:21:26.843Z"
   },
   {
    "duration": 288,
    "start_time": "2023-04-04T08:21:27.153Z"
   },
   {
    "duration": 0,
    "start_time": "2023-04-04T08:21:27.443Z"
   },
   {
    "duration": 0,
    "start_time": "2023-04-04T08:21:27.445Z"
   },
   {
    "duration": 0,
    "start_time": "2023-04-04T08:21:27.447Z"
   },
   {
    "duration": 0,
    "start_time": "2023-04-04T08:21:27.449Z"
   },
   {
    "duration": 0,
    "start_time": "2023-04-04T08:21:27.450Z"
   },
   {
    "duration": 1540,
    "start_time": "2023-04-04T08:30:33.619Z"
   },
   {
    "duration": 790,
    "start_time": "2023-04-04T08:35:15.239Z"
   },
   {
    "duration": 153,
    "start_time": "2023-04-04T08:35:16.031Z"
   },
   {
    "duration": 128,
    "start_time": "2023-04-04T08:35:16.186Z"
   },
   {
    "duration": 132,
    "start_time": "2023-04-04T08:35:16.448Z"
   },
   {
    "duration": 4,
    "start_time": "2023-04-04T08:35:17.039Z"
   },
   {
    "duration": 3,
    "start_time": "2023-04-04T08:35:17.424Z"
   },
   {
    "duration": 6016,
    "start_time": "2023-04-04T08:35:17.708Z"
   },
   {
    "duration": 415,
    "start_time": "2023-04-04T08:35:23.726Z"
   },
   {
    "duration": 841,
    "start_time": "2023-04-04T08:35:24.142Z"
   },
   {
    "duration": 38,
    "start_time": "2023-04-04T08:35:24.985Z"
   },
   {
    "duration": 18,
    "start_time": "2023-04-04T08:35:25.024Z"
   },
   {
    "duration": 39,
    "start_time": "2023-04-04T08:35:25.044Z"
   },
   {
    "duration": 4,
    "start_time": "2023-04-04T08:35:25.084Z"
   },
   {
    "duration": 10,
    "start_time": "2023-04-04T08:35:25.090Z"
   },
   {
    "duration": 141,
    "start_time": "2023-04-04T08:35:25.102Z"
   },
   {
    "duration": 69,
    "start_time": "2023-04-04T08:35:25.247Z"
   },
   {
    "duration": 77,
    "start_time": "2023-04-04T08:35:25.318Z"
   },
   {
    "duration": 31,
    "start_time": "2023-04-04T08:35:25.397Z"
   },
   {
    "duration": 19,
    "start_time": "2023-04-04T08:35:25.439Z"
   },
   {
    "duration": 58,
    "start_time": "2023-04-04T08:35:25.459Z"
   },
   {
    "duration": 25,
    "start_time": "2023-04-04T08:35:25.519Z"
   },
   {
    "duration": 34,
    "start_time": "2023-04-04T08:35:25.546Z"
   },
   {
    "duration": 15,
    "start_time": "2023-04-04T08:35:25.581Z"
   },
   {
    "duration": 50,
    "start_time": "2023-04-04T08:35:25.598Z"
   },
   {
    "duration": 50,
    "start_time": "2023-04-04T08:35:25.650Z"
   },
   {
    "duration": 40,
    "start_time": "2023-04-04T08:35:25.702Z"
   },
   {
    "duration": 44,
    "start_time": "2023-04-04T08:35:25.745Z"
   },
   {
    "duration": 17,
    "start_time": "2023-04-04T08:35:25.790Z"
   },
   {
    "duration": 86,
    "start_time": "2023-04-04T08:35:25.809Z"
   },
   {
    "duration": 5,
    "start_time": "2023-04-04T08:35:25.898Z"
   },
   {
    "duration": 3,
    "start_time": "2023-04-04T08:35:26.108Z"
   },
   {
    "duration": 27,
    "start_time": "2023-04-04T08:35:26.708Z"
   },
   {
    "duration": 8,
    "start_time": "2023-04-04T08:35:27.009Z"
   },
   {
    "duration": 24,
    "start_time": "2023-04-04T08:35:27.315Z"
   },
   {
    "duration": 1715,
    "start_time": "2023-04-04T08:35:28.431Z"
   },
   {
    "duration": 10,
    "start_time": "2023-04-04T08:35:30.148Z"
   },
   {
    "duration": 55,
    "start_time": "2023-04-04T08:35:30.160Z"
   },
   {
    "duration": 92,
    "start_time": "2023-04-04T08:35:30.219Z"
   },
   {
    "duration": 69,
    "start_time": "2023-04-04T08:35:30.314Z"
   },
   {
    "duration": 458,
    "start_time": "2023-04-04T08:35:30.385Z"
   },
   {
    "duration": 10,
    "start_time": "2023-04-04T08:35:30.845Z"
   },
   {
    "duration": 72,
    "start_time": "2023-04-04T08:35:30.960Z"
   },
   {
    "duration": 4,
    "start_time": "2023-04-04T08:35:31.455Z"
   },
   {
    "duration": 3,
    "start_time": "2023-04-04T08:35:32.617Z"
   },
   {
    "duration": 5924,
    "start_time": "2023-04-04T08:35:33.040Z"
   },
   {
    "duration": 4,
    "start_time": "2023-04-04T08:35:38.966Z"
   },
   {
    "duration": 12,
    "start_time": "2023-04-04T08:35:38.972Z"
   },
   {
    "duration": 12,
    "start_time": "2023-04-04T08:35:40.223Z"
   },
   {
    "duration": 535,
    "start_time": "2023-04-04T08:35:45.112Z"
   },
   {
    "duration": 350,
    "start_time": "2023-04-04T08:35:45.759Z"
   },
   {
    "duration": 191,
    "start_time": "2023-04-04T08:35:46.431Z"
   },
   {
    "duration": 3,
    "start_time": "2023-04-04T08:35:48.108Z"
   },
   {
    "duration": 23077,
    "start_time": "2023-04-04T08:35:49.264Z"
   },
   {
    "duration": 408,
    "start_time": "2023-04-04T08:36:12.344Z"
   },
   {
    "duration": 88,
    "start_time": "2023-04-04T08:36:12.753Z"
   },
   {
    "duration": 14,
    "start_time": "2023-04-04T08:36:12.843Z"
   },
   {
    "duration": 96182,
    "start_time": "2023-04-04T08:36:12.860Z"
   },
   {
    "duration": 5,
    "start_time": "2023-04-04T08:37:49.044Z"
   },
   {
    "duration": 19,
    "start_time": "2023-04-04T08:37:49.055Z"
   },
   {
    "duration": 30543,
    "start_time": "2023-04-04T08:37:49.076Z"
   },
   {
    "duration": 318,
    "start_time": "2023-04-04T08:38:19.621Z"
   },
   {
    "duration": 5,
    "start_time": "2023-04-04T08:38:19.943Z"
   },
   {
    "duration": 90,
    "start_time": "2023-04-04T08:38:19.950Z"
   },
   {
    "duration": 720696,
    "start_time": "2023-04-04T08:38:20.042Z"
   },
   {
    "duration": 3,
    "start_time": "2023-04-04T08:50:20.740Z"
   },
   {
    "duration": 33670,
    "start_time": "2023-04-04T08:50:20.745Z"
   },
   {
    "duration": 324,
    "start_time": "2023-04-04T08:50:54.417Z"
   },
   {
    "duration": 5,
    "start_time": "2023-04-04T08:50:54.743Z"
   },
   {
    "duration": 17,
    "start_time": "2023-04-04T08:50:54.839Z"
   },
   {
    "duration": 26,
    "start_time": "2023-04-04T08:51:22.511Z"
   },
   {
    "duration": 51,
    "start_time": "2023-04-04T08:51:24.075Z"
   },
   {
    "duration": 4,
    "start_time": "2023-04-04T08:51:26.647Z"
   },
   {
    "duration": 195029,
    "start_time": "2023-04-04T08:51:28.899Z"
   },
   {
    "duration": 1765,
    "start_time": "2023-04-04T08:54:43.930Z"
   },
   {
    "duration": 8,
    "start_time": "2023-04-04T08:54:45.696Z"
   },
   {
    "duration": 3,
    "start_time": "2023-04-04T08:56:17.189Z"
   },
   {
    "duration": 142,
    "start_time": "2023-04-04T08:57:36.042Z"
   },
   {
    "duration": 4,
    "start_time": "2023-04-04T09:03:55.660Z"
   },
   {
    "duration": 11,
    "start_time": "2023-04-04T09:04:01.323Z"
   },
   {
    "duration": 5,
    "start_time": "2023-04-04T09:04:32.211Z"
   },
   {
    "duration": 12,
    "start_time": "2023-04-04T09:04:46.161Z"
   },
   {
    "duration": 11,
    "start_time": "2023-04-04T09:05:00.895Z"
   },
   {
    "duration": 4,
    "start_time": "2023-04-04T09:09:41.061Z"
   },
   {
    "duration": 3,
    "start_time": "2023-04-04T09:12:02.804Z"
   },
   {
    "duration": 10,
    "start_time": "2023-04-04T09:12:04.899Z"
   },
   {
    "duration": 567438,
    "start_time": "2023-04-04T09:12:55.634Z"
   },
   {
    "duration": 10,
    "start_time": "2023-04-04T09:22:23.074Z"
   },
   {
    "duration": 2521,
    "start_time": "2023-04-04T09:22:44.865Z"
   },
   {
    "duration": 10,
    "start_time": "2023-04-04T09:28:55.226Z"
   },
   {
    "duration": 2418,
    "start_time": "2023-04-04T09:29:29.842Z"
   },
   {
    "duration": 7,
    "start_time": "2023-04-04T09:29:32.262Z"
   },
   {
    "duration": 9,
    "start_time": "2023-04-04T09:29:57.122Z"
   },
   {
    "duration": 9,
    "start_time": "2023-04-04T09:30:10.058Z"
   },
   {
    "duration": 16,
    "start_time": "2023-04-04T09:30:48.169Z"
   },
   {
    "duration": 8,
    "start_time": "2023-04-04T09:31:03.957Z"
   },
   {
    "duration": 8607,
    "start_time": "2023-04-04T09:33:31.038Z"
   },
   {
    "duration": 2905,
    "start_time": "2023-04-04T09:34:41.957Z"
   },
   {
    "duration": 8,
    "start_time": "2023-04-04T09:34:51.348Z"
   },
   {
    "duration": 84,
    "start_time": "2023-04-04T09:37:14.362Z"
   },
   {
    "duration": 3,
    "start_time": "2023-04-04T09:37:22.922Z"
   },
   {
    "duration": 109689,
    "start_time": "2023-04-04T09:37:25.857Z"
   },
   {
    "duration": 101,
    "start_time": "2023-04-04T09:39:34.889Z"
   },
   {
    "duration": 90266,
    "start_time": "2023-04-04T09:39:53.480Z"
   },
   {
    "duration": 7994,
    "start_time": "2023-04-04T09:42:06.950Z"
   },
   {
    "duration": 19,
    "start_time": "2023-04-04T09:42:19.893Z"
   },
   {
    "duration": 8,
    "start_time": "2023-04-04T09:42:26.496Z"
   },
   {
    "duration": 4,
    "start_time": "2023-04-04T09:44:11.707Z"
   },
   {
    "duration": 8,
    "start_time": "2023-04-04T09:44:14.547Z"
   },
   {
    "duration": 13,
    "start_time": "2023-04-04T09:44:45.831Z"
   },
   {
    "duration": 12,
    "start_time": "2023-04-04T09:46:23.202Z"
   },
   {
    "duration": 20,
    "start_time": "2023-04-04T09:46:30.642Z"
   },
   {
    "duration": 171,
    "start_time": "2023-04-04T09:48:06.889Z"
   },
   {
    "duration": 175,
    "start_time": "2023-04-04T09:48:23.744Z"
   },
   {
    "duration": 169,
    "start_time": "2023-04-04T09:49:00.655Z"
   },
   {
    "duration": 3,
    "start_time": "2023-04-04T09:49:33.366Z"
   },
   {
    "duration": 4,
    "start_time": "2023-04-04T09:49:46.205Z"
   },
   {
    "duration": 133,
    "start_time": "2023-04-04T09:49:50.621Z"
   },
   {
    "duration": 241,
    "start_time": "2023-04-04T09:50:03.237Z"
   },
   {
    "duration": 331,
    "start_time": "2023-04-04T09:50:07.413Z"
   },
   {
    "duration": 122,
    "start_time": "2023-04-04T09:50:13.184Z"
   },
   {
    "duration": 2,
    "start_time": "2023-04-04T09:52:44.004Z"
   },
   {
    "duration": 8,
    "start_time": "2023-04-04T09:52:50.211Z"
   },
   {
    "duration": 362,
    "start_time": "2023-04-04T09:53:16.382Z"
   },
   {
    "duration": 271,
    "start_time": "2023-04-04T09:54:44.657Z"
   },
   {
    "duration": 76,
    "start_time": "2023-04-04T09:59:33.020Z"
   },
   {
    "duration": 74,
    "start_time": "2023-04-04T09:59:40.269Z"
   },
   {
    "duration": 78,
    "start_time": "2023-04-04T09:59:47.004Z"
   },
   {
    "duration": 86,
    "start_time": "2023-04-04T10:00:14.204Z"
   },
   {
    "duration": 56,
    "start_time": "2023-04-04T10:01:03.481Z"
   },
   {
    "duration": 12,
    "start_time": "2023-04-04T10:01:23.771Z"
   },
   {
    "duration": 1230,
    "start_time": "2023-04-04T10:02:01.035Z"
   },
   {
    "duration": 11,
    "start_time": "2023-04-04T10:03:02.313Z"
   },
   {
    "duration": 16,
    "start_time": "2023-04-04T10:03:35.465Z"
   },
   {
    "duration": 28,
    "start_time": "2023-04-04T10:03:59.656Z"
   },
   {
    "duration": 20,
    "start_time": "2023-04-04T10:04:11.160Z"
   },
   {
    "duration": 15,
    "start_time": "2023-04-04T10:05:33.687Z"
   },
   {
    "duration": 11,
    "start_time": "2023-04-04T10:08:05.582Z"
   },
   {
    "duration": 11,
    "start_time": "2023-04-04T10:09:38.923Z"
   },
   {
    "duration": 14,
    "start_time": "2023-04-04T10:10:32.257Z"
   },
   {
    "duration": 14,
    "start_time": "2023-04-04T10:10:37.817Z"
   },
   {
    "duration": 16,
    "start_time": "2023-04-04T10:11:03.337Z"
   },
   {
    "duration": 12,
    "start_time": "2023-04-04T10:13:13.759Z"
   },
   {
    "duration": 12,
    "start_time": "2023-04-04T10:13:26.136Z"
   },
   {
    "duration": 25,
    "start_time": "2023-04-04T10:13:37.471Z"
   },
   {
    "duration": 21,
    "start_time": "2023-04-04T10:13:43.543Z"
   },
   {
    "duration": 13,
    "start_time": "2023-04-04T10:14:01.187Z"
   },
   {
    "duration": 14,
    "start_time": "2023-04-04T10:14:42.262Z"
   },
   {
    "duration": 13,
    "start_time": "2023-04-04T10:14:55.775Z"
   },
   {
    "duration": 13,
    "start_time": "2023-04-04T10:15:03.062Z"
   },
   {
    "duration": 13,
    "start_time": "2023-04-04T10:15:15.743Z"
   },
   {
    "duration": 13,
    "start_time": "2023-04-04T10:15:22.918Z"
   },
   {
    "duration": 14,
    "start_time": "2023-04-04T10:15:30.069Z"
   },
   {
    "duration": 80,
    "start_time": "2023-04-04T10:19:55.537Z"
   },
   {
    "duration": 840,
    "start_time": "2023-04-04T10:20:05.761Z"
   },
   {
    "duration": 823,
    "start_time": "2023-04-04T10:21:24.841Z"
   },
   {
    "duration": 813,
    "start_time": "2023-04-04T10:21:39.801Z"
   },
   {
    "duration": 11,
    "start_time": "2023-04-04T10:25:30.117Z"
   },
   {
    "duration": 10,
    "start_time": "2023-04-04T10:25:45.726Z"
   },
   {
    "duration": 12,
    "start_time": "2023-04-04T10:25:53.412Z"
   },
   {
    "duration": 8,
    "start_time": "2023-04-04T10:26:12.044Z"
   },
   {
    "duration": 637,
    "start_time": "2023-04-04T10:27:46.443Z"
   },
   {
    "duration": 611,
    "start_time": "2023-04-04T10:31:59.620Z"
   },
   {
    "duration": 1431,
    "start_time": "2023-04-04T10:41:53.077Z"
   },
   {
    "duration": 777,
    "start_time": "2023-04-04T10:41:54.511Z"
   },
   {
    "duration": 134,
    "start_time": "2023-04-04T10:41:55.621Z"
   },
   {
    "duration": 103,
    "start_time": "2023-04-04T10:41:57.821Z"
   },
   {
    "duration": 207,
    "start_time": "2023-04-04T10:42:10.816Z"
   },
   {
    "duration": 96,
    "start_time": "2023-04-04T10:42:15.630Z"
   },
   {
    "duration": 112,
    "start_time": "2023-04-04T10:42:21.188Z"
   },
   {
    "duration": 3,
    "start_time": "2023-04-04T10:42:22.365Z"
   },
   {
    "duration": 3,
    "start_time": "2023-04-04T10:42:24.791Z"
   },
   {
    "duration": 6868,
    "start_time": "2023-04-04T10:42:26.085Z"
   },
   {
    "duration": 425,
    "start_time": "2023-04-04T10:42:42.188Z"
   },
   {
    "duration": 878,
    "start_time": "2023-04-04T10:42:42.659Z"
   },
   {
    "duration": 44,
    "start_time": "2023-04-04T10:42:43.852Z"
   },
   {
    "duration": 10,
    "start_time": "2023-04-04T10:42:47.644Z"
   },
   {
    "duration": 32,
    "start_time": "2023-04-04T10:42:49.641Z"
   },
   {
    "duration": 4,
    "start_time": "2023-04-04T10:42:51.373Z"
   },
   {
    "duration": 11,
    "start_time": "2023-04-04T10:42:54.123Z"
   },
   {
    "duration": 119,
    "start_time": "2023-04-04T10:43:02.284Z"
   },
   {
    "duration": 69,
    "start_time": "2023-04-04T10:43:32.843Z"
   },
   {
    "duration": 69,
    "start_time": "2023-04-04T10:43:34.444Z"
   },
   {
    "duration": 31,
    "start_time": "2023-04-04T10:43:55.051Z"
   },
   {
    "duration": 17,
    "start_time": "2023-04-04T10:43:56.051Z"
   },
   {
    "duration": 29,
    "start_time": "2023-04-04T10:43:59.327Z"
   },
   {
    "duration": 17,
    "start_time": "2023-04-04T10:44:00.739Z"
   },
   {
    "duration": 36,
    "start_time": "2023-04-04T10:44:03.028Z"
   },
   {
    "duration": 15,
    "start_time": "2023-04-04T10:44:04.897Z"
   },
   {
    "duration": 29,
    "start_time": "2023-04-04T10:44:06.947Z"
   },
   {
    "duration": 32,
    "start_time": "2023-04-04T10:44:08.371Z"
   },
   {
    "duration": 16,
    "start_time": "2023-04-04T10:44:10.923Z"
   },
   {
    "duration": 30,
    "start_time": "2023-04-04T10:44:12.476Z"
   },
   {
    "duration": 16,
    "start_time": "2023-04-04T10:44:14.083Z"
   },
   {
    "duration": 66,
    "start_time": "2023-04-04T10:44:15.427Z"
   },
   {
    "duration": 6,
    "start_time": "2023-04-04T10:44:18.963Z"
   },
   {
    "duration": 2,
    "start_time": "2023-04-04T10:44:24.627Z"
   },
   {
    "duration": 24,
    "start_time": "2023-04-04T10:44:25.283Z"
   },
   {
    "duration": 9,
    "start_time": "2023-04-04T10:44:36.708Z"
   },
   {
    "duration": 24,
    "start_time": "2023-04-04T10:44:41.786Z"
   },
   {
    "duration": 1695,
    "start_time": "2023-04-04T10:45:01.604Z"
   },
   {
    "duration": 11,
    "start_time": "2023-04-04T10:45:04.082Z"
   },
   {
    "duration": 8,
    "start_time": "2023-04-04T10:45:05.515Z"
   },
   {
    "duration": 25,
    "start_time": "2023-04-04T10:45:07.716Z"
   },
   {
    "duration": 47,
    "start_time": "2023-04-04T10:45:08.537Z"
   },
   {
    "duration": 480,
    "start_time": "2023-04-04T10:45:14.276Z"
   },
   {
    "duration": 10,
    "start_time": "2023-04-04T10:45:17.945Z"
   },
   {
    "duration": 77,
    "start_time": "2023-04-04T10:45:18.945Z"
   },
   {
    "duration": 2,
    "start_time": "2023-04-04T10:45:20.042Z"
   },
   {
    "duration": 3,
    "start_time": "2023-04-04T10:45:23.425Z"
   },
   {
    "duration": 5690,
    "start_time": "2023-04-04T10:45:30.210Z"
   },
   {
    "duration": 5,
    "start_time": "2023-04-04T10:45:56.369Z"
   },
   {
    "duration": 8,
    "start_time": "2023-04-04T10:45:57.185Z"
   },
   {
    "duration": 10,
    "start_time": "2023-04-04T10:45:58.928Z"
   },
   {
    "duration": 581,
    "start_time": "2023-04-04T10:45:59.833Z"
   },
   {
    "duration": 366,
    "start_time": "2023-04-04T10:47:16.983Z"
   },
   {
    "duration": 191,
    "start_time": "2023-04-04T10:47:19.752Z"
   },
   {
    "duration": 3,
    "start_time": "2023-04-04T10:47:23.047Z"
   },
   {
    "duration": 23323,
    "start_time": "2023-04-04T10:47:24.623Z"
   },
   {
    "duration": 397,
    "start_time": "2023-04-04T10:47:47.950Z"
   },
   {
    "duration": 7,
    "start_time": "2023-04-04T10:47:48.349Z"
   },
   {
    "duration": 7,
    "start_time": "2023-04-04T10:47:48.358Z"
   },
   {
    "duration": 80931,
    "start_time": "2023-04-04T10:47:48.441Z"
   },
   {
    "duration": 6,
    "start_time": "2023-04-04T10:49:09.441Z"
   },
   {
    "duration": 17,
    "start_time": "2023-04-04T10:49:09.449Z"
   },
   {
    "duration": 21300,
    "start_time": "2023-04-04T10:49:09.469Z"
   },
   {
    "duration": 293,
    "start_time": "2023-04-04T10:49:30.771Z"
   },
   {
    "duration": 75,
    "start_time": "2023-04-04T10:49:31.066Z"
   },
   {
    "duration": 31,
    "start_time": "2023-04-04T10:49:31.143Z"
   },
   {
    "duration": 731474,
    "start_time": "2023-04-04T10:49:31.176Z"
   },
   {
    "duration": 27895,
    "start_time": "2023-04-04T11:01:42.651Z"
   },
   {
    "duration": 296,
    "start_time": "2023-04-04T11:02:10.547Z"
   },
   {
    "duration": 95,
    "start_time": "2023-04-04T11:02:10.845Z"
   },
   {
    "duration": 8,
    "start_time": "2023-04-04T11:02:10.942Z"
   },
   {
    "duration": 22,
    "start_time": "2023-04-04T11:02:10.952Z"
   },
   {
    "duration": 78,
    "start_time": "2023-04-04T11:02:10.977Z"
   },
   {
    "duration": 3,
    "start_time": "2023-04-04T11:02:11.056Z"
   },
   {
    "duration": 196846,
    "start_time": "2023-04-04T11:02:11.060Z"
   },
   {
    "duration": 1760,
    "start_time": "2023-04-04T11:05:27.908Z"
   },
   {
    "duration": 9,
    "start_time": "2023-04-04T11:05:29.670Z"
   },
   {
    "duration": 558948,
    "start_time": "2023-04-04T11:05:29.681Z"
   },
   {
    "duration": 2933,
    "start_time": "2023-04-04T11:14:48.631Z"
   },
   {
    "duration": 8,
    "start_time": "2023-04-04T11:14:51.566Z"
   },
   {
    "duration": 44770,
    "start_time": "2023-04-04T11:14:51.576Z"
   },
   {
    "duration": 3105,
    "start_time": "2023-04-04T11:15:36.348Z"
   },
   {
    "duration": 4,
    "start_time": "2023-04-04T11:15:39.454Z"
   },
   {
    "duration": 2778738,
    "start_time": "2023-04-04T11:15:39.460Z"
   },
   {
    "duration": 77,
    "start_time": "2023-04-04T12:01:58.199Z"
   },
   {
    "duration": 51,
    "start_time": "2023-04-04T12:01:58.277Z"
   },
   {
    "duration": 597,
    "start_time": "2023-04-04T12:01:58.331Z"
   },
   {
    "duration": 12,
    "start_time": "2023-04-04T12:01:58.929Z"
   },
   {
    "duration": 3,
    "start_time": "2023-04-04T12:02:05.428Z"
   },
   {
    "duration": 1320789,
    "start_time": "2023-04-04T12:02:06.360Z"
   },
   {
    "duration": 2704,
    "start_time": "2023-04-04T12:24:07.241Z"
   },
   {
    "duration": 14,
    "start_time": "2023-04-04T12:24:09.947Z"
   },
   {
    "duration": 616,
    "start_time": "2023-04-04T12:24:09.963Z"
   },
   {
    "duration": 5,
    "start_time": "2023-04-04T12:24:10.581Z"
   },
   {
    "duration": 1900,
    "start_time": "2023-04-06T10:09:17.630Z"
   },
   {
    "duration": 3185,
    "start_time": "2023-04-06T10:09:19.533Z"
   },
   {
    "duration": 200,
    "start_time": "2023-04-06T10:09:22.720Z"
   },
   {
    "duration": 131,
    "start_time": "2023-04-06T10:09:22.922Z"
   },
   {
    "duration": 131,
    "start_time": "2023-04-06T10:09:23.055Z"
   },
   {
    "duration": 5,
    "start_time": "2023-04-06T10:09:23.188Z"
   },
   {
    "duration": 13,
    "start_time": "2023-04-06T10:09:23.194Z"
   },
   {
    "duration": 6407,
    "start_time": "2023-04-06T10:09:23.210Z"
   },
   {
    "duration": 572,
    "start_time": "2023-04-06T10:09:29.619Z"
   },
   {
    "duration": 1242,
    "start_time": "2023-04-06T10:09:30.194Z"
   },
   {
    "duration": 45,
    "start_time": "2023-04-06T10:09:31.441Z"
   },
   {
    "duration": 13,
    "start_time": "2023-04-06T10:09:31.489Z"
   },
   {
    "duration": 72,
    "start_time": "2023-04-06T10:09:31.504Z"
   },
   {
    "duration": 32,
    "start_time": "2023-04-06T10:09:31.578Z"
   },
   {
    "duration": 46,
    "start_time": "2023-04-06T10:09:31.612Z"
   },
   {
    "duration": 192,
    "start_time": "2023-04-06T10:09:31.661Z"
   },
   {
    "duration": 70,
    "start_time": "2023-04-06T10:09:31.855Z"
   },
   {
    "duration": 89,
    "start_time": "2023-04-06T10:09:31.928Z"
   },
   {
    "duration": 59,
    "start_time": "2023-04-06T10:09:32.020Z"
   },
   {
    "duration": 52,
    "start_time": "2023-04-06T10:09:32.081Z"
   },
   {
    "duration": 47,
    "start_time": "2023-04-06T10:09:32.136Z"
   },
   {
    "duration": 61,
    "start_time": "2023-04-06T10:09:32.185Z"
   },
   {
    "duration": 46,
    "start_time": "2023-04-06T10:09:32.249Z"
   },
   {
    "duration": 38,
    "start_time": "2023-04-06T10:09:32.297Z"
   },
   {
    "duration": 51,
    "start_time": "2023-04-06T10:09:32.337Z"
   },
   {
    "duration": 60,
    "start_time": "2023-04-06T10:09:32.390Z"
   },
   {
    "duration": 17,
    "start_time": "2023-04-06T10:09:32.524Z"
   },
   {
    "duration": 40,
    "start_time": "2023-04-06T10:09:33.916Z"
   },
   {
    "duration": 17,
    "start_time": "2023-04-06T10:09:34.532Z"
   },
   {
    "duration": 90,
    "start_time": "2023-04-06T10:09:34.974Z"
   },
   {
    "duration": 10,
    "start_time": "2023-04-06T10:09:36.364Z"
   },
   {
    "duration": 3,
    "start_time": "2023-04-06T10:09:37.155Z"
   },
   {
    "duration": 28,
    "start_time": "2023-04-06T10:09:37.484Z"
   },
   {
    "duration": 9,
    "start_time": "2023-04-06T10:09:38.179Z"
   },
   {
    "duration": 29,
    "start_time": "2023-04-06T10:09:38.484Z"
   },
   {
    "duration": 1991,
    "start_time": "2023-04-06T10:09:39.914Z"
   },
   {
    "duration": 11,
    "start_time": "2023-04-06T10:09:41.907Z"
   },
   {
    "duration": 27,
    "start_time": "2023-04-06T10:09:41.919Z"
   },
   {
    "duration": 37,
    "start_time": "2023-04-06T10:09:41.949Z"
   },
   {
    "duration": 54,
    "start_time": "2023-04-06T10:09:41.988Z"
   },
   {
    "duration": 484,
    "start_time": "2023-04-06T10:09:42.086Z"
   },
   {
    "duration": 14,
    "start_time": "2023-04-06T10:09:42.613Z"
   },
   {
    "duration": 77,
    "start_time": "2023-04-06T10:09:42.916Z"
   },
   {
    "duration": 4,
    "start_time": "2023-04-06T10:09:43.228Z"
   },
   {
    "duration": 3,
    "start_time": "2023-04-06T10:09:44.036Z"
   },
   {
    "duration": 6677,
    "start_time": "2023-04-06T10:09:44.378Z"
   },
   {
    "duration": 6,
    "start_time": "2023-04-06T10:09:51.058Z"
   },
   {
    "duration": 33,
    "start_time": "2023-04-06T10:09:51.066Z"
   },
   {
    "duration": 14,
    "start_time": "2023-04-06T10:09:52.674Z"
   },
   {
    "duration": 4,
    "start_time": "2023-04-06T10:09:54.812Z"
   },
   {
    "duration": 196,
    "start_time": "2023-04-06T10:10:05.980Z"
   },
   {
    "duration": 883,
    "start_time": "2023-04-06T10:10:08.716Z"
   },
   {
    "duration": 176,
    "start_time": "2023-04-06T10:10:13.284Z"
   },
   {
    "duration": 30,
    "start_time": "2023-04-06T10:10:15.116Z"
   },
   {
    "duration": 24,
    "start_time": "2023-04-06T10:10:29.561Z"
   },
   {
    "duration": 1018,
    "start_time": "2023-04-06T10:11:36.804Z"
   },
   {
    "duration": 1782,
    "start_time": "2023-04-06T10:11:52.707Z"
   },
   {
    "duration": 186,
    "start_time": "2023-04-06T10:12:13.582Z"
   },
   {
    "duration": 9,
    "start_time": "2023-04-06T10:13:01.337Z"
   },
   {
    "duration": 4,
    "start_time": "2023-04-06T10:13:58.120Z"
   },
   {
    "duration": 114,
    "start_time": "2023-04-06T10:14:16.433Z"
   },
   {
    "duration": 13,
    "start_time": "2023-04-06T10:14:33.745Z"
   },
   {
    "duration": 1692,
    "start_time": "2023-04-06T10:14:59.699Z"
   },
   {
    "duration": 993,
    "start_time": "2023-04-06T10:15:12.439Z"
   },
   {
    "duration": 219,
    "start_time": "2023-04-06T10:15:22.535Z"
   },
   {
    "duration": 1769,
    "start_time": "2023-04-06T10:18:45.724Z"
   },
   {
    "duration": 1010,
    "start_time": "2023-04-06T10:18:48.392Z"
   },
   {
    "duration": 152,
    "start_time": "2023-04-06T10:18:49.404Z"
   },
   {
    "duration": 121,
    "start_time": "2023-04-06T10:18:49.558Z"
   },
   {
    "duration": 132,
    "start_time": "2023-04-06T10:18:49.681Z"
   },
   {
    "duration": 13,
    "start_time": "2023-04-06T10:18:49.815Z"
   },
   {
    "duration": 14,
    "start_time": "2023-04-06T10:18:49.829Z"
   },
   {
    "duration": 6277,
    "start_time": "2023-04-06T10:18:49.845Z"
   },
   {
    "duration": 636,
    "start_time": "2023-04-06T10:18:56.125Z"
   },
   {
    "duration": 1263,
    "start_time": "2023-04-06T10:18:56.764Z"
   },
   {
    "duration": 55,
    "start_time": "2023-04-06T10:18:58.029Z"
   },
   {
    "duration": 13,
    "start_time": "2023-04-06T10:18:58.086Z"
   },
   {
    "duration": 62,
    "start_time": "2023-04-06T10:18:58.101Z"
   },
   {
    "duration": 4,
    "start_time": "2023-04-06T10:18:58.165Z"
   },
   {
    "duration": 21,
    "start_time": "2023-04-06T10:18:58.171Z"
   },
   {
    "duration": 171,
    "start_time": "2023-04-06T10:18:58.194Z"
   },
   {
    "duration": 78,
    "start_time": "2023-04-06T10:18:58.367Z"
   },
   {
    "duration": 66,
    "start_time": "2023-04-06T10:18:58.447Z"
   },
   {
    "duration": 54,
    "start_time": "2023-04-06T10:18:58.516Z"
   },
   {
    "duration": 47,
    "start_time": "2023-04-06T10:18:58.571Z"
   },
   {
    "duration": 49,
    "start_time": "2023-04-06T10:18:58.620Z"
   },
   {
    "duration": 24,
    "start_time": "2023-04-06T10:18:58.671Z"
   },
   {
    "duration": 37,
    "start_time": "2023-04-06T10:18:58.740Z"
   },
   {
    "duration": 72,
    "start_time": "2023-04-06T10:18:58.779Z"
   },
   {
    "duration": 52,
    "start_time": "2023-04-06T10:18:58.853Z"
   },
   {
    "duration": 48,
    "start_time": "2023-04-06T10:18:58.907Z"
   },
   {
    "duration": 23,
    "start_time": "2023-04-06T10:18:58.957Z"
   },
   {
    "duration": 37,
    "start_time": "2023-04-06T10:18:58.982Z"
   },
   {
    "duration": 27,
    "start_time": "2023-04-06T10:18:59.021Z"
   },
   {
    "duration": 96,
    "start_time": "2023-04-06T10:18:59.050Z"
   },
   {
    "duration": 19,
    "start_time": "2023-04-06T10:18:59.148Z"
   },
   {
    "duration": 33,
    "start_time": "2023-04-06T10:18:59.169Z"
   },
   {
    "duration": 60,
    "start_time": "2023-04-06T10:18:59.204Z"
   },
   {
    "duration": 11,
    "start_time": "2023-04-06T10:18:59.266Z"
   },
   {
    "duration": 30,
    "start_time": "2023-04-06T10:18:59.279Z"
   },
   {
    "duration": 2522,
    "start_time": "2023-04-06T10:18:59.311Z"
   },
   {
    "duration": 11,
    "start_time": "2023-04-06T10:19:01.836Z"
   },
   {
    "duration": 93,
    "start_time": "2023-04-06T10:19:01.848Z"
   },
   {
    "duration": 122,
    "start_time": "2023-04-06T10:19:01.943Z"
   },
   {
    "duration": 66,
    "start_time": "2023-04-06T10:19:02.066Z"
   },
   {
    "duration": 452,
    "start_time": "2023-04-06T10:19:02.136Z"
   },
   {
    "duration": 14,
    "start_time": "2023-04-06T10:19:02.590Z"
   },
   {
    "duration": 109,
    "start_time": "2023-04-06T10:19:02.606Z"
   },
   {
    "duration": 7,
    "start_time": "2023-04-06T10:19:02.717Z"
   },
   {
    "duration": 49,
    "start_time": "2023-04-06T10:19:02.726Z"
   },
   {
    "duration": 6396,
    "start_time": "2023-04-06T10:19:05.589Z"
   },
   {
    "duration": 6,
    "start_time": "2023-04-06T10:19:11.987Z"
   },
   {
    "duration": 16,
    "start_time": "2023-04-06T10:19:11.995Z"
   },
   {
    "duration": 14,
    "start_time": "2023-04-06T10:19:15.387Z"
   },
   {
    "duration": 3,
    "start_time": "2023-04-06T10:19:17.581Z"
   },
   {
    "duration": 141,
    "start_time": "2023-04-06T10:19:27.107Z"
   },
   {
    "duration": 879,
    "start_time": "2023-04-06T10:19:31.307Z"
   },
   {
    "duration": 176,
    "start_time": "2023-04-06T10:19:32.699Z"
   },
   {
    "duration": 4,
    "start_time": "2023-04-06T10:19:33.411Z"
   },
   {
    "duration": 207,
    "start_time": "2023-04-06T10:19:34.694Z"
   },
   {
    "duration": 222,
    "start_time": "2023-04-06T10:19:35.714Z"
   },
   {
    "duration": 3,
    "start_time": "2023-04-06T10:19:37.887Z"
   },
   {
    "duration": 29202,
    "start_time": "2023-04-06T10:19:40.844Z"
   },
   {
    "duration": 495,
    "start_time": "2023-04-06T10:20:10.048Z"
   },
   {
    "duration": 94,
    "start_time": "2023-04-06T10:20:10.547Z"
   },
   {
    "duration": 54,
    "start_time": "2023-04-06T10:20:10.644Z"
   },
   {
    "duration": 135866,
    "start_time": "2023-04-06T10:20:10.700Z"
   },
   {
    "duration": 4,
    "start_time": "2023-04-06T10:22:26.642Z"
   },
   {
    "duration": 70,
    "start_time": "2023-04-06T10:22:26.648Z"
   },
   {
    "duration": 32580,
    "start_time": "2023-04-06T10:22:35.160Z"
   },
   {
    "duration": 401,
    "start_time": "2023-04-06T10:23:07.747Z"
   },
   {
    "duration": 90,
    "start_time": "2023-04-06T10:23:08.151Z"
   },
   {
    "duration": 4,
    "start_time": "2023-04-06T10:23:08.245Z"
   },
   {
    "duration": 814613,
    "start_time": "2023-04-06T10:23:08.251Z"
   },
   {
    "duration": 45909,
    "start_time": "2023-04-06T10:36:42.866Z"
   },
   {
    "duration": 474,
    "start_time": "2023-04-06T10:37:28.777Z"
   },
   {
    "duration": 19,
    "start_time": "2023-04-06T10:37:29.255Z"
   },
   {
    "duration": 20,
    "start_time": "2023-04-06T10:37:29.340Z"
   },
   {
    "duration": 37,
    "start_time": "2023-04-06T10:43:37.282Z"
   },
   {
    "duration": 96,
    "start_time": "2023-04-06T10:43:37.893Z"
   },
   {
    "duration": 547742,
    "start_time": "2023-04-06T10:43:44.412Z"
   },
   {
    "duration": 3308,
    "start_time": "2023-04-06T10:52:52.158Z"
   },
   {
    "duration": 78,
    "start_time": "2023-04-06T10:53:24.884Z"
   },
   {
    "duration": 1980,
    "start_time": "2023-04-06T11:19:10.331Z"
   },
   {
    "duration": 1092,
    "start_time": "2023-04-06T11:19:12.315Z"
   },
   {
    "duration": 181,
    "start_time": "2023-04-06T11:19:13.409Z"
   },
   {
    "duration": 142,
    "start_time": "2023-04-06T11:19:13.593Z"
   },
   {
    "duration": 169,
    "start_time": "2023-04-06T11:19:13.737Z"
   },
   {
    "duration": 5,
    "start_time": "2023-04-06T11:19:13.908Z"
   },
   {
    "duration": 32,
    "start_time": "2023-04-06T11:19:13.915Z"
   },
   {
    "duration": 8031,
    "start_time": "2023-04-06T11:19:13.955Z"
   },
   {
    "duration": 705,
    "start_time": "2023-04-06T11:19:21.991Z"
   },
   {
    "duration": 1402,
    "start_time": "2023-04-06T11:19:22.698Z"
   },
   {
    "duration": 74,
    "start_time": "2023-04-06T11:19:24.102Z"
   },
   {
    "duration": 15,
    "start_time": "2023-04-06T11:19:24.178Z"
   },
   {
    "duration": 69,
    "start_time": "2023-04-06T11:19:24.195Z"
   },
   {
    "duration": 7,
    "start_time": "2023-04-06T11:19:24.268Z"
   },
   {
    "duration": 31,
    "start_time": "2023-04-06T11:19:24.280Z"
   },
   {
    "duration": 181,
    "start_time": "2023-04-06T11:19:24.312Z"
   },
   {
    "duration": 99,
    "start_time": "2023-04-06T11:19:24.495Z"
   },
   {
    "duration": 112,
    "start_time": "2023-04-06T11:19:24.596Z"
   },
   {
    "duration": 44,
    "start_time": "2023-04-06T11:19:24.711Z"
   },
   {
    "duration": 30,
    "start_time": "2023-04-06T11:19:24.769Z"
   },
   {
    "duration": 58,
    "start_time": "2023-04-06T11:19:24.802Z"
   },
   {
    "duration": 74,
    "start_time": "2023-04-06T11:19:24.865Z"
   },
   {
    "duration": 91,
    "start_time": "2023-04-06T11:19:24.941Z"
   },
   {
    "duration": 59,
    "start_time": "2023-04-06T11:19:25.035Z"
   },
   {
    "duration": 170,
    "start_time": "2023-04-06T11:19:25.096Z"
   },
   {
    "duration": 65,
    "start_time": "2023-04-06T11:19:25.273Z"
   },
   {
    "duration": 70,
    "start_time": "2023-04-06T11:19:25.340Z"
   },
   {
    "duration": 53,
    "start_time": "2023-04-06T11:19:25.412Z"
   },
   {
    "duration": 31,
    "start_time": "2023-04-06T11:19:25.472Z"
   },
   {
    "duration": 95,
    "start_time": "2023-04-06T11:19:25.505Z"
   },
   {
    "duration": 7,
    "start_time": "2023-04-06T11:19:25.602Z"
   },
   {
    "duration": 24,
    "start_time": "2023-04-06T11:19:25.612Z"
   },
   {
    "duration": 84,
    "start_time": "2023-04-06T11:19:25.638Z"
   },
   {
    "duration": 12,
    "start_time": "2023-04-06T11:19:25.724Z"
   },
   {
    "duration": 91,
    "start_time": "2023-04-06T11:19:25.738Z"
   },
   {
    "duration": 2449,
    "start_time": "2023-04-06T11:19:25.832Z"
   },
   {
    "duration": 12,
    "start_time": "2023-04-06T11:19:28.283Z"
   },
   {
    "duration": 11,
    "start_time": "2023-04-06T11:19:28.297Z"
   },
   {
    "duration": 62,
    "start_time": "2023-04-06T11:19:28.310Z"
   },
   {
    "duration": 55,
    "start_time": "2023-04-06T11:19:28.375Z"
   },
   {
    "duration": 539,
    "start_time": "2023-04-06T11:19:28.443Z"
   },
   {
    "duration": 15,
    "start_time": "2023-04-06T11:19:28.985Z"
   },
   {
    "duration": 110,
    "start_time": "2023-04-06T11:19:29.003Z"
   },
   {
    "duration": 3,
    "start_time": "2023-04-06T11:19:29.116Z"
   },
   {
    "duration": 57,
    "start_time": "2023-04-06T11:19:29.121Z"
   },
   {
    "duration": 7627,
    "start_time": "2023-04-06T11:19:29.181Z"
   },
   {
    "duration": 6,
    "start_time": "2023-04-06T11:19:36.811Z"
   },
   {
    "duration": 41,
    "start_time": "2023-04-06T11:19:36.820Z"
   },
   {
    "duration": 37,
    "start_time": "2023-04-06T11:19:36.864Z"
   },
   {
    "duration": 3,
    "start_time": "2023-04-06T11:19:36.903Z"
   },
   {
    "duration": 171,
    "start_time": "2023-04-06T11:19:36.909Z"
   },
   {
    "duration": 900,
    "start_time": "2023-04-06T11:19:37.083Z"
   },
   {
    "duration": 190,
    "start_time": "2023-04-06T11:19:37.984Z"
   },
   {
    "duration": 3,
    "start_time": "2023-04-06T11:19:38.176Z"
   },
   {
    "duration": 215,
    "start_time": "2023-04-06T11:19:38.181Z"
   },
   {
    "duration": 292,
    "start_time": "2023-04-06T11:19:38.399Z"
   },
   {
    "duration": 3,
    "start_time": "2023-04-06T11:19:38.694Z"
   },
   {
    "duration": 85070,
    "start_time": "2023-04-06T11:19:38.700Z"
   },
   {
    "duration": 497,
    "start_time": "2023-04-06T11:21:03.772Z"
   },
   {
    "duration": 71,
    "start_time": "2023-04-06T11:21:04.271Z"
   },
   {
    "duration": 65,
    "start_time": "2023-04-06T11:21:04.345Z"
   },
   {
    "duration": 320946,
    "start_time": "2023-04-06T11:21:04.412Z"
   },
   {
    "duration": 91,
    "start_time": "2023-04-06T11:26:25.363Z"
   },
   {
    "duration": 60,
    "start_time": "2023-04-06T11:26:25.460Z"
   },
   {
    "duration": 33342,
    "start_time": "2023-04-06T11:26:25.523Z"
   },
   {
    "duration": 482,
    "start_time": "2023-04-06T11:26:58.867Z"
   },
   {
    "duration": 12,
    "start_time": "2023-04-06T11:26:59.352Z"
   },
   {
    "duration": 26,
    "start_time": "2023-04-06T11:26:59.366Z"
   },
   {
    "duration": 952129,
    "start_time": "2023-04-06T11:26:59.394Z"
   },
   {
    "duration": 33266,
    "start_time": "2023-04-06T11:42:51.526Z"
   },
   {
    "duration": 481,
    "start_time": "2023-04-06T11:43:24.794Z"
   },
   {
    "duration": 25,
    "start_time": "2023-04-06T11:43:25.277Z"
   },
   {
    "duration": 49,
    "start_time": "2023-04-06T11:43:25.341Z"
   },
   {
    "duration": 48,
    "start_time": "2023-04-06T11:43:25.392Z"
   },
   {
    "duration": 105,
    "start_time": "2023-04-06T11:43:25.452Z"
   },
   {
    "duration": 5,
    "start_time": "2023-04-06T11:43:25.564Z"
   },
   {
    "duration": 244840,
    "start_time": "2023-04-06T11:43:25.571Z"
   },
   {
    "duration": 2460,
    "start_time": "2023-04-06T11:47:30.414Z"
   },
   {
    "duration": 13,
    "start_time": "2023-04-06T11:47:32.876Z"
   },
   {
    "duration": 1472235,
    "start_time": "2023-04-06T11:47:32.892Z"
   },
   {
    "duration": 3396,
    "start_time": "2023-04-06T12:12:05.128Z"
   },
   {
    "duration": 9,
    "start_time": "2023-04-06T12:12:08.526Z"
   },
   {
    "duration": 447480,
    "start_time": "2023-04-06T12:12:08.541Z"
   },
   {
    "duration": 3398,
    "start_time": "2023-04-06T12:19:36.049Z"
   },
   {
    "duration": 7,
    "start_time": "2023-04-06T12:19:39.455Z"
   },
   {
    "duration": 4166013,
    "start_time": "2023-04-06T12:19:39.471Z"
   },
   {
    "duration": 109,
    "start_time": "2023-04-06T13:29:05.487Z"
   },
   {
    "duration": 77,
    "start_time": "2023-04-06T13:29:05.598Z"
   },
   {
    "duration": 844,
    "start_time": "2023-04-06T13:29:05.677Z"
   },
   {
    "duration": 7,
    "start_time": "2023-04-06T13:29:06.522Z"
   },
   {
    "duration": 1830,
    "start_time": "2023-04-06T13:54:39.776Z"
   },
   {
    "duration": 1085,
    "start_time": "2023-04-06T13:54:41.608Z"
   },
   {
    "duration": 201,
    "start_time": "2023-04-06T13:54:42.696Z"
   },
   {
    "duration": 135,
    "start_time": "2023-04-06T13:54:42.900Z"
   },
   {
    "duration": 161,
    "start_time": "2023-04-06T13:54:43.041Z"
   },
   {
    "duration": 5,
    "start_time": "2023-04-06T13:54:43.207Z"
   },
   {
    "duration": 62,
    "start_time": "2023-04-06T13:54:43.214Z"
   },
   {
    "duration": 7026,
    "start_time": "2023-04-06T13:54:43.279Z"
   },
   {
    "duration": 618,
    "start_time": "2023-04-06T13:54:50.307Z"
   },
   {
    "duration": 1332,
    "start_time": "2023-04-06T13:54:50.928Z"
   },
   {
    "duration": 53,
    "start_time": "2023-04-06T13:54:52.264Z"
   },
   {
    "duration": 14,
    "start_time": "2023-04-06T13:54:52.319Z"
   },
   {
    "duration": 87,
    "start_time": "2023-04-06T13:54:52.335Z"
   },
   {
    "duration": 29,
    "start_time": "2023-04-06T13:54:52.425Z"
   },
   {
    "duration": 31,
    "start_time": "2023-04-06T13:54:52.456Z"
   },
   {
    "duration": 180,
    "start_time": "2023-04-06T13:54:52.489Z"
   },
   {
    "duration": 81,
    "start_time": "2023-04-06T13:54:52.675Z"
   },
   {
    "duration": 121,
    "start_time": "2023-04-06T13:54:52.758Z"
   },
   {
    "duration": 31,
    "start_time": "2023-04-06T13:54:52.881Z"
   },
   {
    "duration": 43,
    "start_time": "2023-04-06T13:54:52.914Z"
   },
   {
    "duration": 58,
    "start_time": "2023-04-06T13:54:52.959Z"
   },
   {
    "duration": 61,
    "start_time": "2023-04-06T13:54:53.019Z"
   },
   {
    "duration": 79,
    "start_time": "2023-04-06T13:54:53.083Z"
   },
   {
    "duration": 59,
    "start_time": "2023-04-06T13:54:53.164Z"
   },
   {
    "duration": 79,
    "start_time": "2023-04-06T13:54:53.226Z"
   },
   {
    "duration": 59,
    "start_time": "2023-04-06T13:54:53.307Z"
   },
   {
    "duration": 57,
    "start_time": "2023-04-06T13:54:53.369Z"
   },
   {
    "duration": 79,
    "start_time": "2023-04-06T13:54:53.431Z"
   },
   {
    "duration": 38,
    "start_time": "2023-04-06T13:54:53.512Z"
   },
   {
    "duration": 122,
    "start_time": "2023-04-06T13:54:53.555Z"
   },
   {
    "duration": 23,
    "start_time": "2023-04-06T13:54:53.679Z"
   },
   {
    "duration": 6,
    "start_time": "2023-04-06T13:54:53.703Z"
   },
   {
    "duration": 60,
    "start_time": "2023-04-06T13:54:53.711Z"
   },
   {
    "duration": 10,
    "start_time": "2023-04-06T13:54:53.776Z"
   },
   {
    "duration": 30,
    "start_time": "2023-04-06T13:54:53.788Z"
   },
   {
    "duration": 2164,
    "start_time": "2023-04-06T13:54:53.820Z"
   },
   {
    "duration": 12,
    "start_time": "2023-04-06T13:54:55.986Z"
   },
   {
    "duration": 9,
    "start_time": "2023-04-06T13:54:56.001Z"
   },
   {
    "duration": 61,
    "start_time": "2023-04-06T13:54:56.012Z"
   },
   {
    "duration": 47,
    "start_time": "2023-04-06T13:54:56.075Z"
   },
   {
    "duration": 495,
    "start_time": "2023-04-06T13:54:56.124Z"
   },
   {
    "duration": 23,
    "start_time": "2023-04-06T13:54:56.621Z"
   },
   {
    "duration": 111,
    "start_time": "2023-04-06T13:54:56.647Z"
   },
   {
    "duration": 12,
    "start_time": "2023-04-06T13:54:56.760Z"
   },
   {
    "duration": 4,
    "start_time": "2023-04-06T13:54:56.778Z"
   },
   {
    "duration": 6827,
    "start_time": "2023-04-06T13:54:56.785Z"
   },
   {
    "duration": 6,
    "start_time": "2023-04-06T13:55:03.614Z"
   },
   {
    "duration": 35,
    "start_time": "2023-04-06T13:55:03.622Z"
   },
   {
    "duration": 37,
    "start_time": "2023-04-06T13:55:03.660Z"
   },
   {
    "duration": 4,
    "start_time": "2023-04-06T13:55:03.699Z"
   },
   {
    "duration": 186,
    "start_time": "2023-04-06T13:55:03.705Z"
   },
   {
    "duration": 682,
    "start_time": "2023-04-06T13:55:03.894Z"
   },
   {
    "duration": 175,
    "start_time": "2023-04-06T13:55:04.578Z"
   },
   {
    "duration": 6,
    "start_time": "2023-04-06T13:55:04.761Z"
   },
   {
    "duration": 204,
    "start_time": "2023-04-06T13:55:04.769Z"
   },
   {
    "duration": 268,
    "start_time": "2023-04-06T13:55:04.975Z"
   },
   {
    "duration": 5,
    "start_time": "2023-04-06T13:55:05.245Z"
   },
   {
    "duration": 87095,
    "start_time": "2023-04-06T13:55:05.256Z"
   },
   {
    "duration": 504,
    "start_time": "2023-04-06T13:56:32.354Z"
   },
   {
    "duration": 10,
    "start_time": "2023-04-06T13:56:32.865Z"
   },
   {
    "duration": 66,
    "start_time": "2023-04-06T13:56:32.882Z"
   },
   {
    "duration": 418302,
    "start_time": "2023-04-06T13:56:32.951Z"
   },
   {
    "duration": 18,
    "start_time": "2023-04-06T14:03:31.255Z"
   },
   {
    "duration": 100,
    "start_time": "2023-04-06T14:03:31.288Z"
   },
   {
    "duration": 41599,
    "start_time": "2023-04-06T14:03:31.390Z"
   },
   {
    "duration": 455,
    "start_time": "2023-04-06T14:04:12.991Z"
   },
   {
    "duration": 11,
    "start_time": "2023-04-06T14:04:13.450Z"
   },
   {
    "duration": 25,
    "start_time": "2023-04-06T14:04:13.465Z"
   },
   {
    "duration": 769349,
    "start_time": "2023-04-06T14:04:13.543Z"
   },
   {
    "duration": 15,
    "start_time": "2023-04-06T14:17:02.894Z"
   },
   {
    "duration": 0,
    "start_time": "2023-04-06T14:17:02.911Z"
   },
   {
    "duration": 0,
    "start_time": "2023-04-06T14:17:02.912Z"
   },
   {
    "duration": 0,
    "start_time": "2023-04-06T14:17:02.914Z"
   },
   {
    "duration": 0,
    "start_time": "2023-04-06T14:17:02.917Z"
   },
   {
    "duration": 0,
    "start_time": "2023-04-06T14:17:02.920Z"
   },
   {
    "duration": 0,
    "start_time": "2023-04-06T14:17:02.921Z"
   },
   {
    "duration": 0,
    "start_time": "2023-04-06T14:17:02.922Z"
   },
   {
    "duration": 0,
    "start_time": "2023-04-06T14:17:02.924Z"
   },
   {
    "duration": 0,
    "start_time": "2023-04-06T14:17:02.925Z"
   },
   {
    "duration": 0,
    "start_time": "2023-04-06T14:17:02.927Z"
   },
   {
    "duration": 0,
    "start_time": "2023-04-06T14:17:02.928Z"
   },
   {
    "duration": 0,
    "start_time": "2023-04-06T14:17:02.929Z"
   },
   {
    "duration": 0,
    "start_time": "2023-04-06T14:17:02.940Z"
   },
   {
    "duration": 0,
    "start_time": "2023-04-06T14:17:02.942Z"
   },
   {
    "duration": 0,
    "start_time": "2023-04-06T14:17:02.943Z"
   },
   {
    "duration": 0,
    "start_time": "2023-04-06T14:17:02.945Z"
   },
   {
    "duration": 0,
    "start_time": "2023-04-06T14:17:02.946Z"
   },
   {
    "duration": 0,
    "start_time": "2023-04-06T14:17:02.947Z"
   },
   {
    "duration": 0,
    "start_time": "2023-04-06T14:17:02.949Z"
   },
   {
    "duration": 1,
    "start_time": "2023-04-06T14:17:02.949Z"
   },
   {
    "duration": 1711,
    "start_time": "2023-04-06T14:18:34.158Z"
   },
   {
    "duration": 1512,
    "start_time": "2023-04-06T14:18:35.871Z"
   },
   {
    "duration": 172,
    "start_time": "2023-04-06T14:18:37.384Z"
   },
   {
    "duration": 132,
    "start_time": "2023-04-06T14:18:37.560Z"
   },
   {
    "duration": 168,
    "start_time": "2023-04-06T14:18:37.694Z"
   },
   {
    "duration": 25,
    "start_time": "2023-04-06T14:18:37.865Z"
   },
   {
    "duration": 13,
    "start_time": "2023-04-06T14:18:37.892Z"
   },
   {
    "duration": 6912,
    "start_time": "2023-04-06T14:18:37.907Z"
   },
   {
    "duration": 636,
    "start_time": "2023-04-06T14:18:44.821Z"
   },
   {
    "duration": 1341,
    "start_time": "2023-04-06T14:18:45.462Z"
   },
   {
    "duration": 71,
    "start_time": "2023-04-06T14:18:46.806Z"
   },
   {
    "duration": 14,
    "start_time": "2023-04-06T14:18:46.879Z"
   },
   {
    "duration": 62,
    "start_time": "2023-04-06T14:18:46.895Z"
   },
   {
    "duration": 5,
    "start_time": "2023-04-06T14:18:46.961Z"
   },
   {
    "duration": 19,
    "start_time": "2023-04-06T14:18:46.968Z"
   },
   {
    "duration": 185,
    "start_time": "2023-04-06T14:18:46.990Z"
   },
   {
    "duration": 94,
    "start_time": "2023-04-06T14:18:47.177Z"
   },
   {
    "duration": 91,
    "start_time": "2023-04-06T14:18:47.273Z"
   },
   {
    "duration": 31,
    "start_time": "2023-04-06T14:18:47.366Z"
   },
   {
    "duration": 51,
    "start_time": "2023-04-06T14:18:47.399Z"
   },
   {
    "duration": 84,
    "start_time": "2023-04-06T14:18:47.452Z"
   },
   {
    "duration": 50,
    "start_time": "2023-04-06T14:18:47.539Z"
   },
   {
    "duration": 72,
    "start_time": "2023-04-06T14:18:47.591Z"
   },
   {
    "duration": 40,
    "start_time": "2023-04-06T14:18:47.665Z"
   },
   {
    "duration": 56,
    "start_time": "2023-04-06T14:18:47.707Z"
   },
   {
    "duration": 96,
    "start_time": "2023-04-06T14:18:47.766Z"
   },
   {
    "duration": 46,
    "start_time": "2023-04-06T14:18:47.864Z"
   },
   {
    "duration": 45,
    "start_time": "2023-04-06T14:18:47.914Z"
   },
   {
    "duration": 21,
    "start_time": "2023-04-06T14:18:47.962Z"
   },
   {
    "duration": 84,
    "start_time": "2023-04-06T14:18:47.986Z"
   },
   {
    "duration": 7,
    "start_time": "2023-04-06T14:18:48.072Z"
   },
   {
    "duration": 13,
    "start_time": "2023-04-06T14:18:48.081Z"
   },
   {
    "duration": 57,
    "start_time": "2023-04-06T14:18:48.096Z"
   },
   {
    "duration": 12,
    "start_time": "2023-04-06T14:18:48.163Z"
   },
   {
    "duration": 43,
    "start_time": "2023-04-06T14:18:48.177Z"
   },
   {
    "duration": 2183,
    "start_time": "2023-04-06T14:18:48.223Z"
   },
   {
    "duration": 14,
    "start_time": "2023-04-06T14:18:50.408Z"
   },
   {
    "duration": 35,
    "start_time": "2023-04-06T14:18:50.423Z"
   },
   {
    "duration": 51,
    "start_time": "2023-04-06T14:18:50.462Z"
   },
   {
    "duration": 112,
    "start_time": "2023-04-06T14:18:50.515Z"
   },
   {
    "duration": 478,
    "start_time": "2023-04-06T14:18:50.629Z"
   },
   {
    "duration": 14,
    "start_time": "2023-04-06T14:18:51.109Z"
   },
   {
    "duration": 115,
    "start_time": "2023-04-06T14:18:51.125Z"
   },
   {
    "duration": 29,
    "start_time": "2023-04-06T14:18:51.243Z"
   },
   {
    "duration": 46,
    "start_time": "2023-04-06T14:18:51.275Z"
   },
   {
    "duration": 6944,
    "start_time": "2023-04-06T14:18:51.323Z"
   },
   {
    "duration": 7,
    "start_time": "2023-04-06T14:18:58.272Z"
   },
   {
    "duration": 20,
    "start_time": "2023-04-06T14:18:58.281Z"
   },
   {
    "duration": 25,
    "start_time": "2023-04-06T14:18:58.303Z"
   },
   {
    "duration": 12,
    "start_time": "2023-04-06T14:18:58.331Z"
   },
   {
    "duration": 153,
    "start_time": "2023-04-06T14:18:59.407Z"
   },
   {
    "duration": 940,
    "start_time": "2023-04-06T14:19:02.025Z"
   },
   {
    "duration": 184,
    "start_time": "2023-04-06T14:19:03.626Z"
   },
   {
    "duration": 4,
    "start_time": "2023-04-06T14:19:04.486Z"
   },
   {
    "duration": 207,
    "start_time": "2023-04-06T14:19:07.354Z"
   },
   {
    "duration": 233,
    "start_time": "2023-04-06T14:19:12.552Z"
   },
   {
    "duration": 3,
    "start_time": "2023-04-06T14:19:15.205Z"
   },
   {
    "duration": 50243,
    "start_time": "2023-04-06T14:19:16.723Z"
   },
   {
    "duration": 502,
    "start_time": "2023-04-06T14:20:07.046Z"
   },
   {
    "duration": 8,
    "start_time": "2023-04-06T14:20:07.556Z"
   },
   {
    "duration": 3,
    "start_time": "2023-04-06T14:21:09.898Z"
   },
   {
    "duration": 259,
    "start_time": "2023-04-06T14:21:11.188Z"
   },
   {
    "duration": 126610,
    "start_time": "2023-04-06T14:21:21.956Z"
   },
   {
    "duration": 22,
    "start_time": "2023-04-06T14:23:28.571Z"
   },
   {
    "duration": 0,
    "start_time": "2023-04-06T14:23:28.596Z"
   },
   {
    "duration": 1493,
    "start_time": "2023-04-06T14:23:30.500Z"
   },
   {
    "duration": 93,
    "start_time": "2023-04-06T14:23:50.822Z"
   },
   {
    "duration": 163171,
    "start_time": "2023-04-06T14:24:27.292Z"
   },
   {
    "duration": 0,
    "start_time": "2023-04-06T14:27:10.465Z"
   },
   {
    "duration": 1850,
    "start_time": "2023-04-06T14:27:59.745Z"
   },
   {
    "duration": 1175,
    "start_time": "2023-04-06T14:28:01.598Z"
   },
   {
    "duration": 211,
    "start_time": "2023-04-06T14:28:02.776Z"
   },
   {
    "duration": 144,
    "start_time": "2023-04-06T14:28:02.989Z"
   },
   {
    "duration": 160,
    "start_time": "2023-04-06T14:28:03.136Z"
   },
   {
    "duration": 6,
    "start_time": "2023-04-06T14:28:03.299Z"
   },
   {
    "duration": 22,
    "start_time": "2023-04-06T14:28:03.308Z"
   },
   {
    "duration": 7361,
    "start_time": "2023-04-06T14:28:03.332Z"
   },
   {
    "duration": 626,
    "start_time": "2023-04-06T14:28:10.695Z"
   },
   {
    "duration": 1296,
    "start_time": "2023-04-06T14:28:11.324Z"
   },
   {
    "duration": 62,
    "start_time": "2023-04-06T14:28:12.622Z"
   },
   {
    "duration": 103,
    "start_time": "2023-04-06T14:28:12.686Z"
   },
   {
    "duration": 217,
    "start_time": "2023-04-06T14:28:12.791Z"
   },
   {
    "duration": 5,
    "start_time": "2023-04-06T14:28:13.013Z"
   },
   {
    "duration": 78,
    "start_time": "2023-04-06T14:28:13.020Z"
   },
   {
    "duration": 208,
    "start_time": "2023-04-06T14:28:13.100Z"
   },
   {
    "duration": 118,
    "start_time": "2023-04-06T14:28:13.311Z"
   },
   {
    "duration": 132,
    "start_time": "2023-04-06T14:28:13.431Z"
   },
   {
    "duration": 108,
    "start_time": "2023-04-06T14:28:13.565Z"
   },
   {
    "duration": 39,
    "start_time": "2023-04-06T14:28:13.675Z"
   },
   {
    "duration": 80,
    "start_time": "2023-04-06T14:28:13.716Z"
   },
   {
    "duration": 56,
    "start_time": "2023-04-06T14:28:13.798Z"
   },
   {
    "duration": 63,
    "start_time": "2023-04-06T14:28:13.856Z"
   },
   {
    "duration": 63,
    "start_time": "2023-04-06T14:28:13.921Z"
   },
   {
    "duration": 64,
    "start_time": "2023-04-06T14:28:13.986Z"
   },
   {
    "duration": 79,
    "start_time": "2023-04-06T14:28:14.052Z"
   },
   {
    "duration": 46,
    "start_time": "2023-04-06T14:28:14.133Z"
   },
   {
    "duration": 52,
    "start_time": "2023-04-06T14:28:14.181Z"
   },
   {
    "duration": 53,
    "start_time": "2023-04-06T14:28:14.235Z"
   },
   {
    "duration": 122,
    "start_time": "2023-04-06T14:28:14.292Z"
   },
   {
    "duration": 9,
    "start_time": "2023-04-06T14:28:14.416Z"
   },
   {
    "duration": 3,
    "start_time": "2023-04-06T14:28:14.428Z"
   },
   {
    "duration": 62,
    "start_time": "2023-04-06T14:28:14.432Z"
   },
   {
    "duration": 10,
    "start_time": "2023-04-06T14:28:14.496Z"
   },
   {
    "duration": 55,
    "start_time": "2023-04-06T14:28:14.508Z"
   },
   {
    "duration": 2392,
    "start_time": "2023-04-06T14:28:14.566Z"
   },
   {
    "duration": 17,
    "start_time": "2023-04-06T14:28:16.963Z"
   },
   {
    "duration": 24,
    "start_time": "2023-04-06T14:28:16.982Z"
   },
   {
    "duration": 49,
    "start_time": "2023-04-06T14:28:17.008Z"
   },
   {
    "duration": 69,
    "start_time": "2023-04-06T14:28:17.059Z"
   },
   {
    "duration": 567,
    "start_time": "2023-04-06T14:28:17.137Z"
   },
   {
    "duration": 17,
    "start_time": "2023-04-06T14:28:17.707Z"
   },
   {
    "duration": 137,
    "start_time": "2023-04-06T14:28:17.727Z"
   },
   {
    "duration": 14,
    "start_time": "2023-04-06T14:28:17.866Z"
   },
   {
    "duration": 21,
    "start_time": "2023-04-06T14:28:17.883Z"
   },
   {
    "duration": 6866,
    "start_time": "2023-04-06T14:28:17.907Z"
   },
   {
    "duration": 8,
    "start_time": "2023-04-06T14:28:24.778Z"
   },
   {
    "duration": 41,
    "start_time": "2023-04-06T14:28:24.788Z"
   },
   {
    "duration": 63,
    "start_time": "2023-04-06T14:28:24.832Z"
   },
   {
    "duration": 3,
    "start_time": "2023-04-06T14:28:24.898Z"
   },
   {
    "duration": 172,
    "start_time": "2023-04-06T14:28:24.903Z"
   },
   {
    "duration": 1076,
    "start_time": "2023-04-06T14:28:25.078Z"
   },
   {
    "duration": 193,
    "start_time": "2023-04-06T14:28:26.160Z"
   },
   {
    "duration": 6,
    "start_time": "2023-04-06T14:28:26.360Z"
   },
   {
    "duration": 243,
    "start_time": "2023-04-06T14:28:26.369Z"
   },
   {
    "duration": 296,
    "start_time": "2023-04-06T14:28:26.615Z"
   },
   {
    "duration": 4,
    "start_time": "2023-04-06T14:28:26.913Z"
   },
   {
    "duration": 53927,
    "start_time": "2023-04-06T14:28:26.920Z"
   },
   {
    "duration": 504,
    "start_time": "2023-04-06T14:29:20.850Z"
   },
   {
    "duration": 15,
    "start_time": "2023-04-06T14:29:21.355Z"
   },
   {
    "duration": 70,
    "start_time": "2023-04-06T14:29:21.372Z"
   },
   {
    "duration": 228010,
    "start_time": "2023-04-06T14:29:21.446Z"
   },
   {
    "duration": 4,
    "start_time": "2023-04-06T14:33:09.459Z"
   },
   {
    "duration": 110,
    "start_time": "2023-04-06T14:33:09.470Z"
   },
   {
    "duration": 51421,
    "start_time": "2023-04-06T14:33:09.582Z"
   },
   {
    "duration": 475,
    "start_time": "2023-04-06T14:34:01.005Z"
   },
   {
    "duration": 11,
    "start_time": "2023-04-06T14:34:01.542Z"
   },
   {
    "duration": 73,
    "start_time": "2023-04-06T14:34:01.556Z"
   },
   {
    "duration": 393,
    "start_time": "2023-04-06T14:34:01.632Z"
   },
   {
    "duration": 24,
    "start_time": "2023-04-06T14:34:02.028Z"
   },
   {
    "duration": 0,
    "start_time": "2023-04-06T14:34:02.055Z"
   },
   {
    "duration": 0,
    "start_time": "2023-04-06T14:34:02.056Z"
   },
   {
    "duration": 0,
    "start_time": "2023-04-06T14:34:02.057Z"
   },
   {
    "duration": 0,
    "start_time": "2023-04-06T14:34:02.059Z"
   },
   {
    "duration": 0,
    "start_time": "2023-04-06T14:34:02.060Z"
   },
   {
    "duration": 0,
    "start_time": "2023-04-06T14:34:02.061Z"
   },
   {
    "duration": 0,
    "start_time": "2023-04-06T14:34:02.062Z"
   },
   {
    "duration": 0,
    "start_time": "2023-04-06T14:34:02.063Z"
   },
   {
    "duration": 0,
    "start_time": "2023-04-06T14:34:02.064Z"
   },
   {
    "duration": 0,
    "start_time": "2023-04-06T14:34:02.067Z"
   },
   {
    "duration": 0,
    "start_time": "2023-04-06T14:34:02.069Z"
   },
   {
    "duration": 0,
    "start_time": "2023-04-06T14:34:02.071Z"
   },
   {
    "duration": 0,
    "start_time": "2023-04-06T14:34:02.072Z"
   },
   {
    "duration": 0,
    "start_time": "2023-04-06T14:34:02.074Z"
   },
   {
    "duration": 0,
    "start_time": "2023-04-06T14:34:02.076Z"
   },
   {
    "duration": 0,
    "start_time": "2023-04-06T14:34:02.077Z"
   },
   {
    "duration": 0,
    "start_time": "2023-04-06T14:34:02.079Z"
   },
   {
    "duration": 1,
    "start_time": "2023-04-06T14:34:02.082Z"
   },
   {
    "duration": 0,
    "start_time": "2023-04-06T14:34:02.084Z"
   },
   {
    "duration": 0,
    "start_time": "2023-04-06T14:34:02.085Z"
   },
   {
    "duration": 2149,
    "start_time": "2023-04-06T14:34:59.605Z"
   },
   {
    "duration": 1164,
    "start_time": "2023-04-06T14:35:01.756Z"
   },
   {
    "duration": 183,
    "start_time": "2023-04-06T14:35:02.922Z"
   },
   {
    "duration": 156,
    "start_time": "2023-04-06T14:35:03.107Z"
   },
   {
    "duration": 218,
    "start_time": "2023-04-06T14:35:03.266Z"
   },
   {
    "duration": 24,
    "start_time": "2023-04-06T14:35:03.486Z"
   },
   {
    "duration": 74,
    "start_time": "2023-04-06T14:35:03.512Z"
   },
   {
    "duration": 7098,
    "start_time": "2023-04-06T14:35:03.588Z"
   },
   {
    "duration": 599,
    "start_time": "2023-04-06T14:35:10.689Z"
   },
   {
    "duration": 1237,
    "start_time": "2023-04-06T14:35:11.293Z"
   },
   {
    "duration": 57,
    "start_time": "2023-04-06T14:35:12.532Z"
   },
   {
    "duration": 14,
    "start_time": "2023-04-06T14:35:12.591Z"
   },
   {
    "duration": 65,
    "start_time": "2023-04-06T14:35:12.607Z"
   },
   {
    "duration": 4,
    "start_time": "2023-04-06T14:35:12.675Z"
   },
   {
    "duration": 30,
    "start_time": "2023-04-06T14:35:12.682Z"
   },
   {
    "duration": 190,
    "start_time": "2023-04-06T14:35:12.714Z"
   },
   {
    "duration": 88,
    "start_time": "2023-04-06T14:35:12.907Z"
   },
   {
    "duration": 91,
    "start_time": "2023-04-06T14:35:12.998Z"
   },
   {
    "duration": 62,
    "start_time": "2023-04-06T14:35:13.091Z"
   },
   {
    "duration": 35,
    "start_time": "2023-04-06T14:35:13.156Z"
   },
   {
    "duration": 71,
    "start_time": "2023-04-06T14:35:13.196Z"
   },
   {
    "duration": 47,
    "start_time": "2023-04-06T14:35:13.269Z"
   },
   {
    "duration": 49,
    "start_time": "2023-04-06T14:35:13.319Z"
   },
   {
    "duration": 104,
    "start_time": "2023-04-06T14:35:13.371Z"
   },
   {
    "duration": 50,
    "start_time": "2023-04-06T14:35:13.477Z"
   },
   {
    "duration": 46,
    "start_time": "2023-04-06T14:35:13.530Z"
   },
   {
    "duration": 18,
    "start_time": "2023-04-06T14:35:13.578Z"
   },
   {
    "duration": 44,
    "start_time": "2023-04-06T14:35:13.602Z"
   },
   {
    "duration": 38,
    "start_time": "2023-04-06T14:35:13.648Z"
   },
   {
    "duration": 100,
    "start_time": "2023-04-06T14:35:13.688Z"
   },
   {
    "duration": 14,
    "start_time": "2023-04-06T14:35:13.791Z"
   },
   {
    "duration": 2,
    "start_time": "2023-04-06T14:35:13.809Z"
   },
   {
    "duration": 57,
    "start_time": "2023-04-06T14:35:13.814Z"
   },
   {
    "duration": 11,
    "start_time": "2023-04-06T14:35:13.873Z"
   },
   {
    "duration": 40,
    "start_time": "2023-04-06T14:35:13.887Z"
   },
   {
    "duration": 2416,
    "start_time": "2023-04-06T14:35:13.941Z"
   },
   {
    "duration": 17,
    "start_time": "2023-04-06T14:35:16.367Z"
   },
   {
    "duration": 13,
    "start_time": "2023-04-06T14:35:16.386Z"
   },
   {
    "duration": 70,
    "start_time": "2023-04-06T14:35:16.401Z"
   },
   {
    "duration": 76,
    "start_time": "2023-04-06T14:35:16.478Z"
   },
   {
    "duration": 546,
    "start_time": "2023-04-06T14:35:16.561Z"
   },
   {
    "duration": 15,
    "start_time": "2023-04-06T14:35:17.111Z"
   },
   {
    "duration": 104,
    "start_time": "2023-04-06T14:35:17.129Z"
   },
   {
    "duration": 22,
    "start_time": "2023-04-06T14:35:17.242Z"
   },
   {
    "duration": 16,
    "start_time": "2023-04-06T14:35:17.269Z"
   },
   {
    "duration": 6925,
    "start_time": "2023-04-06T14:35:17.289Z"
   },
   {
    "duration": 15,
    "start_time": "2023-04-06T14:35:24.216Z"
   },
   {
    "duration": 54,
    "start_time": "2023-04-06T14:35:24.234Z"
   },
   {
    "duration": 26,
    "start_time": "2023-04-06T14:35:24.291Z"
   },
   {
    "duration": 3,
    "start_time": "2023-04-06T14:35:24.320Z"
   },
   {
    "duration": 154,
    "start_time": "2023-04-06T14:35:24.326Z"
   },
   {
    "duration": 846,
    "start_time": "2023-04-06T14:35:24.483Z"
   },
   {
    "duration": 195,
    "start_time": "2023-04-06T14:35:25.331Z"
   },
   {
    "duration": 4,
    "start_time": "2023-04-06T14:35:25.530Z"
   },
   {
    "duration": 227,
    "start_time": "2023-04-06T14:35:25.537Z"
   },
   {
    "duration": 283,
    "start_time": "2023-04-06T14:35:25.766Z"
   },
   {
    "duration": 5,
    "start_time": "2023-04-06T14:35:26.056Z"
   },
   {
    "duration": 51602,
    "start_time": "2023-04-06T14:35:26.066Z"
   },
   {
    "duration": 570,
    "start_time": "2023-04-06T14:36:17.671Z"
   },
   {
    "duration": 7,
    "start_time": "2023-04-06T14:36:18.245Z"
   },
   {
    "duration": 32,
    "start_time": "2023-04-06T14:36:18.254Z"
   },
   {
    "duration": 211768,
    "start_time": "2023-04-06T14:36:18.288Z"
   },
   {
    "duration": 89,
    "start_time": "2023-04-06T14:39:50.058Z"
   },
   {
    "duration": 22,
    "start_time": "2023-04-06T14:39:50.161Z"
   },
   {
    "duration": 36975,
    "start_time": "2023-04-06T14:39:50.186Z"
   },
   {
    "duration": 405,
    "start_time": "2023-04-06T14:40:27.164Z"
   },
   {
    "duration": 14,
    "start_time": "2023-04-06T14:40:27.643Z"
   },
   {
    "duration": 82,
    "start_time": "2023-04-06T14:40:27.660Z"
   },
   {
    "duration": 895129,
    "start_time": "2023-04-06T14:40:27.759Z"
   },
   {
    "duration": 43476,
    "start_time": "2023-04-06T14:55:22.890Z"
   },
   {
    "duration": 477,
    "start_time": "2023-04-06T14:56:06.368Z"
   },
   {
    "duration": 10,
    "start_time": "2023-04-06T14:56:06.850Z"
   },
   {
    "duration": 105,
    "start_time": "2023-04-06T14:56:06.864Z"
   },
   {
    "duration": 80,
    "start_time": "2023-04-06T14:56:06.972Z"
   },
   {
    "duration": 183,
    "start_time": "2023-04-06T14:56:07.054Z"
   },
   {
    "duration": 3,
    "start_time": "2023-04-06T14:56:07.240Z"
   },
   {
    "duration": 233731,
    "start_time": "2023-04-06T14:56:07.245Z"
   },
   {
    "duration": 2412,
    "start_time": "2023-04-06T15:00:00.986Z"
   },
   {
    "duration": 10,
    "start_time": "2023-04-06T15:00:03.401Z"
   },
   {
    "duration": 1436964,
    "start_time": "2023-04-06T15:00:03.414Z"
   },
   {
    "duration": 2993,
    "start_time": "2023-04-06T15:24:00.380Z"
   },
   {
    "duration": 9,
    "start_time": "2023-04-06T15:24:03.379Z"
   },
   {
    "duration": 249064,
    "start_time": "2023-04-06T15:24:03.389Z"
   },
   {
    "duration": 2905,
    "start_time": "2023-04-06T15:28:12.455Z"
   },
   {
    "duration": 2,
    "start_time": "2023-04-06T15:28:15.362Z"
   },
   {
    "duration": 775591,
    "start_time": "2023-04-06T15:28:15.366Z"
   },
   {
    "duration": 2506,
    "start_time": "2023-04-06T15:41:10.960Z"
   },
   {
    "duration": 59,
    "start_time": "2023-04-06T15:41:13.541Z"
   },
   {
    "duration": 628,
    "start_time": "2023-04-06T15:41:13.602Z"
   },
   {
    "duration": 18,
    "start_time": "2023-04-06T15:41:14.232Z"
   },
   {
    "duration": 50,
    "start_time": "2023-04-06T18:41:59.952Z"
   },
   {
    "duration": 1768,
    "start_time": "2023-04-09T13:58:39.851Z"
   },
   {
    "duration": 1118,
    "start_time": "2023-04-09T13:58:42.348Z"
   },
   {
    "duration": 1471,
    "start_time": "2023-04-09T14:15:13.625Z"
   },
   {
    "duration": 843,
    "start_time": "2023-04-09T14:15:16.948Z"
   },
   {
    "duration": 2953,
    "start_time": "2023-04-09T14:15:17.793Z"
   }
  ],
  "kernelspec": {
   "display_name": "Python 3 (ipykernel)",
   "language": "python",
   "name": "python3"
  },
  "language_info": {
   "codemirror_mode": {
    "name": "ipython",
    "version": 3
   },
   "file_extension": ".py",
   "mimetype": "text/x-python",
   "name": "python",
   "nbconvert_exporter": "python",
   "pygments_lexer": "ipython3",
   "version": "3.11.4"
  },
  "toc": {
   "base_numbering": 1,
   "nav_menu": {},
   "number_sections": true,
   "sideBar": true,
   "skip_h1_title": true,
   "title_cell": "Table of Contents",
   "title_sidebar": "Contents",
   "toc_cell": false,
   "toc_position": {
    "height": "calc(100% - 180px)",
    "left": "10px",
    "top": "150px",
    "width": "261px"
   },
   "toc_section_display": true,
   "toc_window_display": true
  }
 },
 "nbformat": 4,
 "nbformat_minor": 2
}
