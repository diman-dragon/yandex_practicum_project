{
 "cells": [
  {
   "cell_type": "markdown",
   "metadata": {},
   "source": [
    "# Восстановление золота из руды"
   ]
  },
  {
   "cell_type": "markdown",
   "metadata": {},
   "source": [
    "Подготовьте прототип модели машинного обучения для «Цифры». Компания разрабатывает решения для эффективной работы промышленных предприятий.\n",
    "\n",
    "Модель должна предсказать коэффициент восстановления золота из золотосодержащей руды. Используйте данные с параметрами добычи и очистки. \n",
    "\n",
    "Модель поможет оптимизировать производство, чтобы не запускать предприятие с убыточными характеристиками.\n",
    "\n",
    "Вам нужно:\n",
    "\n",
    "1. Подготовить данные;\n",
    "2. Провести исследовательский анализ данных;\n",
    "3. Построить и обучить модель.\n",
    "\n",
    "Чтобы выполнить проект, обращайтесь к библиотекам *pandas*, *matplotlib* и *sklearn.* Вам поможет их документация."
   ]
  },
  {
   "cell_type": "markdown",
   "metadata": {},
   "source": [
    "План проекта:\n",
    "\n",
    "Подготовим данные.\n",
    "Изучим полученные файлы.\\\n",
    "Проверим, что эффективность обогащения рассчитана правильно.\\\n",
    "Проанализируем признаки, недоступные в тестовой выборке.\\\n",
    "Проведем предобработку данных.\\\n",
    "Проанализируем данные.\\\n",
    "Посмотрим, как меняется концентрация металлов (Au, Ag, Pb) на различных этапах очистки. \\\n",
    "Сравним распределения размеров гранул сырья на обучающей и тестовой выборках. \\\n",
    "Исследуем суммарную концентрацию всех веществ на разных стадиях: в сырье, в черновом и финальном концентратах. \\\n",
    "Построим модель\\\n",
    "Напишем функцию для вычисления итоговой sMAPE.\\\n",
    "Обучим разные модели и оцените их качество кросс-валидацией. \\\n",
    "Выберем лучшую модель и проверим её на тестовой выборке. "
   ]
  },
  {
   "cell_type": "markdown",
   "metadata": {},
   "source": [
    "## Подготовка данных"
   ]
  },
  {
   "cell_type": "markdown",
   "metadata": {},
   "source": [
    "### Откроем файлы и изучим их."
   ]
  },
  {
   "cell_type": "code",
   "execution_count": 44,
   "metadata": {},
   "outputs": [],
   "source": [
    "# Импортируем необходимые библиотеки\n",
    "\n",
    "import pandas as pd\n",
    "import numpy as np\n",
    "\n",
    "from numpy.random import RandomState\n",
    "state = np.random.RandomState(12345)\n",
    "\n",
    "import seaborn as sns\n",
    "import matplotlib.pyplot as plt\n",
    "\n",
    "from sklearn.linear_model import LinearRegression\n",
    "from sklearn.tree import DecisionTreeRegressor\n",
    "from sklearn.ensemble import RandomForestRegressor\n",
    "from sklearn.dummy import DummyRegressor\n",
    "from sklearn.linear_model import Lasso\n",
    "\n",
    "from sklearn.model_selection import cross_val_score\n",
    "\n",
    "from sklearn.preprocessing import StandardScaler\n",
    "from sklearn.model_selection import cross_val_score, GridSearchCV, RandomizedSearchCV\n",
    "\n",
    "from sklearn.metrics import mean_absolute_error\n",
    "from sklearn.metrics import make_scorer\n",
    "\n",
    "import warnings\n",
    "warnings.filterwarnings(\"ignore\")"
   ]
  },
  {
   "cell_type": "code",
   "execution_count": 3,
   "metadata": {},
   "outputs": [],
   "source": [
    "# Прочитаем файлы данных\n",
    "train = pd.read_csv('/datasets/gold_recovery_train_new.csv') # обучающая выборка;\n",
    "test = pd.read_csv('/datasets/gold_recovery_test_new.csv') # тестовая выборка;\n",
    "full = pd.read_csv('/datasets/gold_recovery_full_new.csv') # исходные данные"
   ]
  },
  {
   "cell_type": "code",
   "execution_count": 4,
   "metadata": {},
   "outputs": [],
   "source": [
    "# Создадим функцию для изучения полученных данных\n",
    "def read_data(data):\n",
    "    data.shape\n",
    "    print('Количество стобцов:', data.shape[1])\n",
    "    print('Количество строк:', data.shape[0])\n",
    "    print('Количество дупликатов', data.duplicated().sum())\n",
    "    display(data.head())\n",
    "    display(data.describe())\n",
    "    data.info()"
   ]
  },
  {
   "cell_type": "code",
   "execution_count": 5,
   "metadata": {
    "scrolled": false
   },
   "outputs": [
    {
     "name": "stdout",
     "output_type": "stream",
     "text": [
      "Тренировочная выборка\n",
      "\n",
      "Количество стобцов: 87\n",
      "Количество строк: 14149\n",
      "Количество дупликатов 0\n"
     ]
    },
    {
     "data": {
      "text/html": [
       "<div>\n",
       "<style scoped>\n",
       "    .dataframe tbody tr th:only-of-type {\n",
       "        vertical-align: middle;\n",
       "    }\n",
       "\n",
       "    .dataframe tbody tr th {\n",
       "        vertical-align: top;\n",
       "    }\n",
       "\n",
       "    .dataframe thead th {\n",
       "        text-align: right;\n",
       "    }\n",
       "</style>\n",
       "<table border=\"1\" class=\"dataframe\">\n",
       "  <thead>\n",
       "    <tr style=\"text-align: right;\">\n",
       "      <th></th>\n",
       "      <th>date</th>\n",
       "      <th>final.output.concentrate_ag</th>\n",
       "      <th>final.output.concentrate_pb</th>\n",
       "      <th>final.output.concentrate_sol</th>\n",
       "      <th>final.output.concentrate_au</th>\n",
       "      <th>final.output.recovery</th>\n",
       "      <th>final.output.tail_ag</th>\n",
       "      <th>final.output.tail_pb</th>\n",
       "      <th>final.output.tail_sol</th>\n",
       "      <th>final.output.tail_au</th>\n",
       "      <th>primary_cleaner.input.sulfate</th>\n",
       "      <th>primary_cleaner.input.depressant</th>\n",
       "      <th>primary_cleaner.input.feed_size</th>\n",
       "      <th>primary_cleaner.input.xanthate</th>\n",
       "      <th>primary_cleaner.output.concentrate_ag</th>\n",
       "      <th>primary_cleaner.output.concentrate_pb</th>\n",
       "      <th>primary_cleaner.output.concentrate_sol</th>\n",
       "      <th>primary_cleaner.output.concentrate_au</th>\n",
       "      <th>primary_cleaner.output.tail_ag</th>\n",
       "      <th>primary_cleaner.output.tail_pb</th>\n",
       "      <th>primary_cleaner.output.tail_sol</th>\n",
       "      <th>primary_cleaner.output.tail_au</th>\n",
       "      <th>primary_cleaner.state.floatbank8_a_air</th>\n",
       "      <th>primary_cleaner.state.floatbank8_a_level</th>\n",
       "      <th>primary_cleaner.state.floatbank8_b_air</th>\n",
       "      <th>primary_cleaner.state.floatbank8_b_level</th>\n",
       "      <th>primary_cleaner.state.floatbank8_c_air</th>\n",
       "      <th>primary_cleaner.state.floatbank8_c_level</th>\n",
       "      <th>primary_cleaner.state.floatbank8_d_air</th>\n",
       "      <th>primary_cleaner.state.floatbank8_d_level</th>\n",
       "      <th>rougher.calculation.sulfate_to_au_concentrate</th>\n",
       "      <th>rougher.calculation.floatbank10_sulfate_to_au_feed</th>\n",
       "      <th>rougher.calculation.floatbank11_sulfate_to_au_feed</th>\n",
       "      <th>rougher.calculation.au_pb_ratio</th>\n",
       "      <th>rougher.input.feed_ag</th>\n",
       "      <th>rougher.input.feed_pb</th>\n",
       "      <th>rougher.input.feed_rate</th>\n",
       "      <th>rougher.input.feed_size</th>\n",
       "      <th>rougher.input.feed_sol</th>\n",
       "      <th>rougher.input.feed_au</th>\n",
       "      <th>rougher.input.floatbank10_sulfate</th>\n",
       "      <th>rougher.input.floatbank10_xanthate</th>\n",
       "      <th>rougher.input.floatbank11_sulfate</th>\n",
       "      <th>rougher.input.floatbank11_xanthate</th>\n",
       "      <th>rougher.output.concentrate_ag</th>\n",
       "      <th>rougher.output.concentrate_pb</th>\n",
       "      <th>rougher.output.concentrate_sol</th>\n",
       "      <th>rougher.output.concentrate_au</th>\n",
       "      <th>rougher.output.recovery</th>\n",
       "      <th>rougher.output.tail_ag</th>\n",
       "      <th>rougher.output.tail_pb</th>\n",
       "      <th>rougher.output.tail_sol</th>\n",
       "      <th>rougher.output.tail_au</th>\n",
       "      <th>rougher.state.floatbank10_a_air</th>\n",
       "      <th>rougher.state.floatbank10_a_level</th>\n",
       "      <th>rougher.state.floatbank10_b_air</th>\n",
       "      <th>rougher.state.floatbank10_b_level</th>\n",
       "      <th>rougher.state.floatbank10_c_air</th>\n",
       "      <th>rougher.state.floatbank10_c_level</th>\n",
       "      <th>rougher.state.floatbank10_d_air</th>\n",
       "      <th>rougher.state.floatbank10_d_level</th>\n",
       "      <th>rougher.state.floatbank10_e_air</th>\n",
       "      <th>rougher.state.floatbank10_e_level</th>\n",
       "      <th>rougher.state.floatbank10_f_air</th>\n",
       "      <th>rougher.state.floatbank10_f_level</th>\n",
       "      <th>secondary_cleaner.output.tail_ag</th>\n",
       "      <th>secondary_cleaner.output.tail_pb</th>\n",
       "      <th>secondary_cleaner.output.tail_sol</th>\n",
       "      <th>secondary_cleaner.output.tail_au</th>\n",
       "      <th>secondary_cleaner.state.floatbank2_a_air</th>\n",
       "      <th>secondary_cleaner.state.floatbank2_a_level</th>\n",
       "      <th>secondary_cleaner.state.floatbank2_b_air</th>\n",
       "      <th>secondary_cleaner.state.floatbank2_b_level</th>\n",
       "      <th>secondary_cleaner.state.floatbank3_a_air</th>\n",
       "      <th>secondary_cleaner.state.floatbank3_a_level</th>\n",
       "      <th>secondary_cleaner.state.floatbank3_b_air</th>\n",
       "      <th>secondary_cleaner.state.floatbank3_b_level</th>\n",
       "      <th>secondary_cleaner.state.floatbank4_a_air</th>\n",
       "      <th>secondary_cleaner.state.floatbank4_a_level</th>\n",
       "      <th>secondary_cleaner.state.floatbank4_b_air</th>\n",
       "      <th>secondary_cleaner.state.floatbank4_b_level</th>\n",
       "      <th>secondary_cleaner.state.floatbank5_a_air</th>\n",
       "      <th>secondary_cleaner.state.floatbank5_a_level</th>\n",
       "      <th>secondary_cleaner.state.floatbank5_b_air</th>\n",
       "      <th>secondary_cleaner.state.floatbank5_b_level</th>\n",
       "      <th>secondary_cleaner.state.floatbank6_a_air</th>\n",
       "      <th>secondary_cleaner.state.floatbank6_a_level</th>\n",
       "    </tr>\n",
       "  </thead>\n",
       "  <tbody>\n",
       "    <tr>\n",
       "      <th>0</th>\n",
       "      <td>2016-01-15 00:00:00</td>\n",
       "      <td>6.055403</td>\n",
       "      <td>9.889648</td>\n",
       "      <td>5.507324</td>\n",
       "      <td>42.192020</td>\n",
       "      <td>70.541216</td>\n",
       "      <td>10.411962</td>\n",
       "      <td>0.895447</td>\n",
       "      <td>16.904297</td>\n",
       "      <td>2.143149</td>\n",
       "      <td>127.092003</td>\n",
       "      <td>10.128295</td>\n",
       "      <td>7.25</td>\n",
       "      <td>0.988759</td>\n",
       "      <td>8.547551</td>\n",
       "      <td>10.389648</td>\n",
       "      <td>19.529297</td>\n",
       "      <td>34.174427</td>\n",
       "      <td>14.936526</td>\n",
       "      <td>2.534912</td>\n",
       "      <td>7.476074</td>\n",
       "      <td>2.106679</td>\n",
       "      <td>1549.775757</td>\n",
       "      <td>-498.912140</td>\n",
       "      <td>1551.434204</td>\n",
       "      <td>-516.403442</td>\n",
       "      <td>1549.873901</td>\n",
       "      <td>-498.666595</td>\n",
       "      <td>1554.367432</td>\n",
       "      <td>-493.428131</td>\n",
       "      <td>41885.707031</td>\n",
       "      <td>3481.779053</td>\n",
       "      <td>3520.337158</td>\n",
       "      <td>2.838687</td>\n",
       "      <td>6.100378</td>\n",
       "      <td>2.284912</td>\n",
       "      <td>523.546326</td>\n",
       "      <td>55.486599</td>\n",
       "      <td>36.808594</td>\n",
       "      <td>6.486150</td>\n",
       "      <td>11.986616</td>\n",
       "      <td>6.007990</td>\n",
       "      <td>11.836743</td>\n",
       "      <td>6.005818</td>\n",
       "      <td>11.500771</td>\n",
       "      <td>7.101074</td>\n",
       "      <td>28.029297</td>\n",
       "      <td>19.793808</td>\n",
       "      <td>87.107763</td>\n",
       "      <td>5.008018</td>\n",
       "      <td>0.508728</td>\n",
       "      <td>19.154297</td>\n",
       "      <td>1.170244</td>\n",
       "      <td>999.706909</td>\n",
       "      <td>-404.066986</td>\n",
       "      <td>1603.011353</td>\n",
       "      <td>-434.715027</td>\n",
       "      <td>1602.375000</td>\n",
       "      <td>-442.204468</td>\n",
       "      <td>1598.937256</td>\n",
       "      <td>-451.294128</td>\n",
       "      <td>1404.472046</td>\n",
       "      <td>-455.462982</td>\n",
       "      <td>1416.354980</td>\n",
       "      <td>-451.939636</td>\n",
       "      <td>14.500184</td>\n",
       "      <td>4.694824</td>\n",
       "      <td>8.764648</td>\n",
       "      <td>2.606185</td>\n",
       "      <td>25.853109</td>\n",
       "      <td>-498.526489</td>\n",
       "      <td>23.893660</td>\n",
       "      <td>-501.406281</td>\n",
       "      <td>23.961798</td>\n",
       "      <td>-495.262817</td>\n",
       "      <td>21.940409</td>\n",
       "      <td>-499.340973</td>\n",
       "      <td>14.016835</td>\n",
       "      <td>-502.488007</td>\n",
       "      <td>12.099931</td>\n",
       "      <td>-504.715942</td>\n",
       "      <td>9.925633</td>\n",
       "      <td>-498.310211</td>\n",
       "      <td>8.079666</td>\n",
       "      <td>-500.470978</td>\n",
       "      <td>14.151341</td>\n",
       "      <td>-605.841980</td>\n",
       "    </tr>\n",
       "    <tr>\n",
       "      <th>1</th>\n",
       "      <td>2016-01-15 01:00:00</td>\n",
       "      <td>6.029369</td>\n",
       "      <td>9.968944</td>\n",
       "      <td>5.257781</td>\n",
       "      <td>42.701629</td>\n",
       "      <td>69.266198</td>\n",
       "      <td>10.462676</td>\n",
       "      <td>0.927452</td>\n",
       "      <td>16.634514</td>\n",
       "      <td>2.224930</td>\n",
       "      <td>125.629232</td>\n",
       "      <td>10.296251</td>\n",
       "      <td>7.25</td>\n",
       "      <td>1.002663</td>\n",
       "      <td>8.558743</td>\n",
       "      <td>10.497069</td>\n",
       "      <td>19.369147</td>\n",
       "      <td>34.118526</td>\n",
       "      <td>16.250511</td>\n",
       "      <td>3.049646</td>\n",
       "      <td>6.733907</td>\n",
       "      <td>2.353017</td>\n",
       "      <td>1576.166671</td>\n",
       "      <td>-500.904965</td>\n",
       "      <td>1575.950626</td>\n",
       "      <td>-499.865889</td>\n",
       "      <td>1575.994189</td>\n",
       "      <td>-499.315107</td>\n",
       "      <td>1574.479259</td>\n",
       "      <td>-498.931665</td>\n",
       "      <td>42050.861809</td>\n",
       "      <td>3498.370979</td>\n",
       "      <td>3489.981857</td>\n",
       "      <td>2.858998</td>\n",
       "      <td>6.161113</td>\n",
       "      <td>2.266033</td>\n",
       "      <td>525.290581</td>\n",
       "      <td>57.278666</td>\n",
       "      <td>35.753385</td>\n",
       "      <td>6.478583</td>\n",
       "      <td>11.971193</td>\n",
       "      <td>6.005766</td>\n",
       "      <td>11.996163</td>\n",
       "      <td>6.012594</td>\n",
       "      <td>11.615865</td>\n",
       "      <td>7.278807</td>\n",
       "      <td>28.067063</td>\n",
       "      <td>20.050975</td>\n",
       "      <td>86.843261</td>\n",
       "      <td>4.955378</td>\n",
       "      <td>0.536689</td>\n",
       "      <td>18.965234</td>\n",
       "      <td>1.184827</td>\n",
       "      <td>1000.286398</td>\n",
       "      <td>-400.065196</td>\n",
       "      <td>1600.754587</td>\n",
       "      <td>-449.953435</td>\n",
       "      <td>1600.479580</td>\n",
       "      <td>-449.830646</td>\n",
       "      <td>1600.527589</td>\n",
       "      <td>-449.953649</td>\n",
       "      <td>1399.227084</td>\n",
       "      <td>-450.869848</td>\n",
       "      <td>1399.719514</td>\n",
       "      <td>-450.119001</td>\n",
       "      <td>14.265474</td>\n",
       "      <td>4.592547</td>\n",
       "      <td>9.001494</td>\n",
       "      <td>2.488248</td>\n",
       "      <td>25.880539</td>\n",
       "      <td>-499.989656</td>\n",
       "      <td>23.889530</td>\n",
       "      <td>-500.372428</td>\n",
       "      <td>23.970550</td>\n",
       "      <td>-500.085473</td>\n",
       "      <td>22.085714</td>\n",
       "      <td>-499.446897</td>\n",
       "      <td>13.992281</td>\n",
       "      <td>-505.503262</td>\n",
       "      <td>11.950531</td>\n",
       "      <td>-501.331529</td>\n",
       "      <td>10.039245</td>\n",
       "      <td>-500.169983</td>\n",
       "      <td>7.984757</td>\n",
       "      <td>-500.582168</td>\n",
       "      <td>13.998353</td>\n",
       "      <td>-599.787184</td>\n",
       "    </tr>\n",
       "    <tr>\n",
       "      <th>2</th>\n",
       "      <td>2016-01-15 02:00:00</td>\n",
       "      <td>6.055926</td>\n",
       "      <td>10.213995</td>\n",
       "      <td>5.383759</td>\n",
       "      <td>42.657501</td>\n",
       "      <td>68.116445</td>\n",
       "      <td>10.507046</td>\n",
       "      <td>0.953716</td>\n",
       "      <td>16.208849</td>\n",
       "      <td>2.257889</td>\n",
       "      <td>123.819808</td>\n",
       "      <td>11.316280</td>\n",
       "      <td>7.25</td>\n",
       "      <td>0.991265</td>\n",
       "      <td>8.603505</td>\n",
       "      <td>10.354494</td>\n",
       "      <td>19.167579</td>\n",
       "      <td>33.969464</td>\n",
       "      <td>16.491823</td>\n",
       "      <td>3.124664</td>\n",
       "      <td>6.471768</td>\n",
       "      <td>2.416800</td>\n",
       "      <td>1601.556163</td>\n",
       "      <td>-499.997791</td>\n",
       "      <td>1600.386685</td>\n",
       "      <td>-500.607762</td>\n",
       "      <td>1602.003542</td>\n",
       "      <td>-500.870069</td>\n",
       "      <td>1599.541515</td>\n",
       "      <td>-499.827444</td>\n",
       "      <td>42018.101184</td>\n",
       "      <td>3495.348910</td>\n",
       "      <td>3502.359819</td>\n",
       "      <td>2.945989</td>\n",
       "      <td>6.116455</td>\n",
       "      <td>2.159622</td>\n",
       "      <td>530.026610</td>\n",
       "      <td>57.510649</td>\n",
       "      <td>35.971630</td>\n",
       "      <td>6.362222</td>\n",
       "      <td>11.920603</td>\n",
       "      <td>6.197377</td>\n",
       "      <td>11.920305</td>\n",
       "      <td>6.204633</td>\n",
       "      <td>11.695753</td>\n",
       "      <td>7.216833</td>\n",
       "      <td>27.454037</td>\n",
       "      <td>19.737170</td>\n",
       "      <td>86.842308</td>\n",
       "      <td>4.843460</td>\n",
       "      <td>0.546416</td>\n",
       "      <td>18.808533</td>\n",
       "      <td>1.162562</td>\n",
       "      <td>999.719565</td>\n",
       "      <td>-400.074028</td>\n",
       "      <td>1599.337330</td>\n",
       "      <td>-450.008530</td>\n",
       "      <td>1599.672797</td>\n",
       "      <td>-449.954491</td>\n",
       "      <td>1599.849325</td>\n",
       "      <td>-449.954185</td>\n",
       "      <td>1399.180945</td>\n",
       "      <td>-449.937588</td>\n",
       "      <td>1400.316682</td>\n",
       "      <td>-450.527147</td>\n",
       "      <td>14.115662</td>\n",
       "      <td>4.624775</td>\n",
       "      <td>8.842896</td>\n",
       "      <td>2.458187</td>\n",
       "      <td>26.005245</td>\n",
       "      <td>-499.929616</td>\n",
       "      <td>23.886657</td>\n",
       "      <td>-499.951928</td>\n",
       "      <td>23.913535</td>\n",
       "      <td>-499.442343</td>\n",
       "      <td>23.957717</td>\n",
       "      <td>-499.901982</td>\n",
       "      <td>14.015015</td>\n",
       "      <td>-502.520901</td>\n",
       "      <td>11.912783</td>\n",
       "      <td>-501.133383</td>\n",
       "      <td>10.070913</td>\n",
       "      <td>-500.129135</td>\n",
       "      <td>8.013877</td>\n",
       "      <td>-500.517572</td>\n",
       "      <td>14.028663</td>\n",
       "      <td>-601.427363</td>\n",
       "    </tr>\n",
       "    <tr>\n",
       "      <th>3</th>\n",
       "      <td>2016-01-15 03:00:00</td>\n",
       "      <td>6.047977</td>\n",
       "      <td>9.977019</td>\n",
       "      <td>4.858634</td>\n",
       "      <td>42.689819</td>\n",
       "      <td>68.347543</td>\n",
       "      <td>10.422762</td>\n",
       "      <td>0.883763</td>\n",
       "      <td>16.532835</td>\n",
       "      <td>2.146849</td>\n",
       "      <td>122.270188</td>\n",
       "      <td>11.322140</td>\n",
       "      <td>7.25</td>\n",
       "      <td>0.996739</td>\n",
       "      <td>7.221879</td>\n",
       "      <td>8.496563</td>\n",
       "      <td>15.978538</td>\n",
       "      <td>28.260743</td>\n",
       "      <td>16.024359</td>\n",
       "      <td>2.960362</td>\n",
       "      <td>6.843791</td>\n",
       "      <td>2.262051</td>\n",
       "      <td>1599.968720</td>\n",
       "      <td>-500.951778</td>\n",
       "      <td>1600.659236</td>\n",
       "      <td>-499.677094</td>\n",
       "      <td>1600.304144</td>\n",
       "      <td>-500.727997</td>\n",
       "      <td>1600.449520</td>\n",
       "      <td>-500.052575</td>\n",
       "      <td>42029.447991</td>\n",
       "      <td>3498.578313</td>\n",
       "      <td>3499.162912</td>\n",
       "      <td>3.002340</td>\n",
       "      <td>6.043309</td>\n",
       "      <td>2.037807</td>\n",
       "      <td>542.590390</td>\n",
       "      <td>57.792734</td>\n",
       "      <td>36.862241</td>\n",
       "      <td>6.118189</td>\n",
       "      <td>11.630094</td>\n",
       "      <td>6.203177</td>\n",
       "      <td>11.692450</td>\n",
       "      <td>6.196578</td>\n",
       "      <td>11.915047</td>\n",
       "      <td>7.175616</td>\n",
       "      <td>27.341277</td>\n",
       "      <td>19.320810</td>\n",
       "      <td>87.226430</td>\n",
       "      <td>4.655288</td>\n",
       "      <td>0.542525</td>\n",
       "      <td>19.330200</td>\n",
       "      <td>1.079755</td>\n",
       "      <td>999.814770</td>\n",
       "      <td>-400.200179</td>\n",
       "      <td>1600.059442</td>\n",
       "      <td>-450.619948</td>\n",
       "      <td>1600.012842</td>\n",
       "      <td>-449.910497</td>\n",
       "      <td>1597.725177</td>\n",
       "      <td>-450.130127</td>\n",
       "      <td>1400.943157</td>\n",
       "      <td>-450.030142</td>\n",
       "      <td>1400.234743</td>\n",
       "      <td>-449.790835</td>\n",
       "      <td>13.732071</td>\n",
       "      <td>4.482453</td>\n",
       "      <td>9.122857</td>\n",
       "      <td>2.322062</td>\n",
       "      <td>25.942508</td>\n",
       "      <td>-499.176749</td>\n",
       "      <td>23.955516</td>\n",
       "      <td>-499.848796</td>\n",
       "      <td>23.966838</td>\n",
       "      <td>-500.008812</td>\n",
       "      <td>23.954443</td>\n",
       "      <td>-499.944710</td>\n",
       "      <td>14.036510</td>\n",
       "      <td>-500.857308</td>\n",
       "      <td>11.999550</td>\n",
       "      <td>-501.193686</td>\n",
       "      <td>9.970366</td>\n",
       "      <td>-499.201640</td>\n",
       "      <td>7.977324</td>\n",
       "      <td>-500.255908</td>\n",
       "      <td>14.005551</td>\n",
       "      <td>-599.996129</td>\n",
       "    </tr>\n",
       "    <tr>\n",
       "      <th>4</th>\n",
       "      <td>2016-01-15 04:00:00</td>\n",
       "      <td>6.148599</td>\n",
       "      <td>10.142511</td>\n",
       "      <td>4.939416</td>\n",
       "      <td>42.774141</td>\n",
       "      <td>66.927016</td>\n",
       "      <td>10.360302</td>\n",
       "      <td>0.792826</td>\n",
       "      <td>16.525686</td>\n",
       "      <td>2.055292</td>\n",
       "      <td>117.988169</td>\n",
       "      <td>11.913613</td>\n",
       "      <td>7.25</td>\n",
       "      <td>1.009869</td>\n",
       "      <td>9.089428</td>\n",
       "      <td>9.986786</td>\n",
       "      <td>19.199864</td>\n",
       "      <td>33.044932</td>\n",
       "      <td>16.480185</td>\n",
       "      <td>3.112100</td>\n",
       "      <td>6.550154</td>\n",
       "      <td>2.277073</td>\n",
       "      <td>1601.339707</td>\n",
       "      <td>-498.975456</td>\n",
       "      <td>1601.437854</td>\n",
       "      <td>-500.323246</td>\n",
       "      <td>1599.581894</td>\n",
       "      <td>-500.888152</td>\n",
       "      <td>1602.649541</td>\n",
       "      <td>-500.593010</td>\n",
       "      <td>42125.354245</td>\n",
       "      <td>3494.800771</td>\n",
       "      <td>3506.679315</td>\n",
       "      <td>3.169615</td>\n",
       "      <td>6.060915</td>\n",
       "      <td>1.786875</td>\n",
       "      <td>540.531893</td>\n",
       "      <td>56.047189</td>\n",
       "      <td>34.347666</td>\n",
       "      <td>5.663707</td>\n",
       "      <td>10.957755</td>\n",
       "      <td>6.198826</td>\n",
       "      <td>10.960521</td>\n",
       "      <td>6.194897</td>\n",
       "      <td>12.411054</td>\n",
       "      <td>7.240205</td>\n",
       "      <td>27.041023</td>\n",
       "      <td>19.216101</td>\n",
       "      <td>86.688794</td>\n",
       "      <td>4.552800</td>\n",
       "      <td>0.515438</td>\n",
       "      <td>19.267422</td>\n",
       "      <td>1.012642</td>\n",
       "      <td>999.678690</td>\n",
       "      <td>-399.752729</td>\n",
       "      <td>1600.208824</td>\n",
       "      <td>-449.599614</td>\n",
       "      <td>1600.357732</td>\n",
       "      <td>-450.034364</td>\n",
       "      <td>1599.759049</td>\n",
       "      <td>-449.909799</td>\n",
       "      <td>1401.560902</td>\n",
       "      <td>-448.877187</td>\n",
       "      <td>1401.160227</td>\n",
       "      <td>-450.407128</td>\n",
       "      <td>14.079996</td>\n",
       "      <td>4.470737</td>\n",
       "      <td>8.871028</td>\n",
       "      <td>2.330448</td>\n",
       "      <td>26.024787</td>\n",
       "      <td>-500.279091</td>\n",
       "      <td>23.955345</td>\n",
       "      <td>-500.593614</td>\n",
       "      <td>23.985703</td>\n",
       "      <td>-500.083811</td>\n",
       "      <td>23.958945</td>\n",
       "      <td>-499.990309</td>\n",
       "      <td>14.027298</td>\n",
       "      <td>-499.838632</td>\n",
       "      <td>11.953070</td>\n",
       "      <td>-501.053894</td>\n",
       "      <td>9.925709</td>\n",
       "      <td>-501.686727</td>\n",
       "      <td>7.894242</td>\n",
       "      <td>-500.356035</td>\n",
       "      <td>13.996647</td>\n",
       "      <td>-601.496691</td>\n",
       "    </tr>\n",
       "  </tbody>\n",
       "</table>\n",
       "</div>"
      ],
      "text/plain": [
       "                  date  final.output.concentrate_ag  \\\n",
       "0  2016-01-15 00:00:00                     6.055403   \n",
       "1  2016-01-15 01:00:00                     6.029369   \n",
       "2  2016-01-15 02:00:00                     6.055926   \n",
       "3  2016-01-15 03:00:00                     6.047977   \n",
       "4  2016-01-15 04:00:00                     6.148599   \n",
       "\n",
       "   final.output.concentrate_pb  final.output.concentrate_sol  \\\n",
       "0                     9.889648                      5.507324   \n",
       "1                     9.968944                      5.257781   \n",
       "2                    10.213995                      5.383759   \n",
       "3                     9.977019                      4.858634   \n",
       "4                    10.142511                      4.939416   \n",
       "\n",
       "   final.output.concentrate_au  final.output.recovery  final.output.tail_ag  \\\n",
       "0                    42.192020              70.541216             10.411962   \n",
       "1                    42.701629              69.266198             10.462676   \n",
       "2                    42.657501              68.116445             10.507046   \n",
       "3                    42.689819              68.347543             10.422762   \n",
       "4                    42.774141              66.927016             10.360302   \n",
       "\n",
       "   final.output.tail_pb  final.output.tail_sol  final.output.tail_au  \\\n",
       "0              0.895447              16.904297              2.143149   \n",
       "1              0.927452              16.634514              2.224930   \n",
       "2              0.953716              16.208849              2.257889   \n",
       "3              0.883763              16.532835              2.146849   \n",
       "4              0.792826              16.525686              2.055292   \n",
       "\n",
       "   primary_cleaner.input.sulfate  primary_cleaner.input.depressant  \\\n",
       "0                     127.092003                         10.128295   \n",
       "1                     125.629232                         10.296251   \n",
       "2                     123.819808                         11.316280   \n",
       "3                     122.270188                         11.322140   \n",
       "4                     117.988169                         11.913613   \n",
       "\n",
       "   primary_cleaner.input.feed_size  primary_cleaner.input.xanthate  \\\n",
       "0                             7.25                        0.988759   \n",
       "1                             7.25                        1.002663   \n",
       "2                             7.25                        0.991265   \n",
       "3                             7.25                        0.996739   \n",
       "4                             7.25                        1.009869   \n",
       "\n",
       "   primary_cleaner.output.concentrate_ag  \\\n",
       "0                               8.547551   \n",
       "1                               8.558743   \n",
       "2                               8.603505   \n",
       "3                               7.221879   \n",
       "4                               9.089428   \n",
       "\n",
       "   primary_cleaner.output.concentrate_pb  \\\n",
       "0                              10.389648   \n",
       "1                              10.497069   \n",
       "2                              10.354494   \n",
       "3                               8.496563   \n",
       "4                               9.986786   \n",
       "\n",
       "   primary_cleaner.output.concentrate_sol  \\\n",
       "0                               19.529297   \n",
       "1                               19.369147   \n",
       "2                               19.167579   \n",
       "3                               15.978538   \n",
       "4                               19.199864   \n",
       "\n",
       "   primary_cleaner.output.concentrate_au  primary_cleaner.output.tail_ag  \\\n",
       "0                              34.174427                       14.936526   \n",
       "1                              34.118526                       16.250511   \n",
       "2                              33.969464                       16.491823   \n",
       "3                              28.260743                       16.024359   \n",
       "4                              33.044932                       16.480185   \n",
       "\n",
       "   primary_cleaner.output.tail_pb  primary_cleaner.output.tail_sol  \\\n",
       "0                        2.534912                         7.476074   \n",
       "1                        3.049646                         6.733907   \n",
       "2                        3.124664                         6.471768   \n",
       "3                        2.960362                         6.843791   \n",
       "4                        3.112100                         6.550154   \n",
       "\n",
       "   primary_cleaner.output.tail_au  primary_cleaner.state.floatbank8_a_air  \\\n",
       "0                        2.106679                             1549.775757   \n",
       "1                        2.353017                             1576.166671   \n",
       "2                        2.416800                             1601.556163   \n",
       "3                        2.262051                             1599.968720   \n",
       "4                        2.277073                             1601.339707   \n",
       "\n",
       "   primary_cleaner.state.floatbank8_a_level  \\\n",
       "0                               -498.912140   \n",
       "1                               -500.904965   \n",
       "2                               -499.997791   \n",
       "3                               -500.951778   \n",
       "4                               -498.975456   \n",
       "\n",
       "   primary_cleaner.state.floatbank8_b_air  \\\n",
       "0                             1551.434204   \n",
       "1                             1575.950626   \n",
       "2                             1600.386685   \n",
       "3                             1600.659236   \n",
       "4                             1601.437854   \n",
       "\n",
       "   primary_cleaner.state.floatbank8_b_level  \\\n",
       "0                               -516.403442   \n",
       "1                               -499.865889   \n",
       "2                               -500.607762   \n",
       "3                               -499.677094   \n",
       "4                               -500.323246   \n",
       "\n",
       "   primary_cleaner.state.floatbank8_c_air  \\\n",
       "0                             1549.873901   \n",
       "1                             1575.994189   \n",
       "2                             1602.003542   \n",
       "3                             1600.304144   \n",
       "4                             1599.581894   \n",
       "\n",
       "   primary_cleaner.state.floatbank8_c_level  \\\n",
       "0                               -498.666595   \n",
       "1                               -499.315107   \n",
       "2                               -500.870069   \n",
       "3                               -500.727997   \n",
       "4                               -500.888152   \n",
       "\n",
       "   primary_cleaner.state.floatbank8_d_air  \\\n",
       "0                             1554.367432   \n",
       "1                             1574.479259   \n",
       "2                             1599.541515   \n",
       "3                             1600.449520   \n",
       "4                             1602.649541   \n",
       "\n",
       "   primary_cleaner.state.floatbank8_d_level  \\\n",
       "0                               -493.428131   \n",
       "1                               -498.931665   \n",
       "2                               -499.827444   \n",
       "3                               -500.052575   \n",
       "4                               -500.593010   \n",
       "\n",
       "   rougher.calculation.sulfate_to_au_concentrate  \\\n",
       "0                                   41885.707031   \n",
       "1                                   42050.861809   \n",
       "2                                   42018.101184   \n",
       "3                                   42029.447991   \n",
       "4                                   42125.354245   \n",
       "\n",
       "   rougher.calculation.floatbank10_sulfate_to_au_feed  \\\n",
       "0                                        3481.779053    \n",
       "1                                        3498.370979    \n",
       "2                                        3495.348910    \n",
       "3                                        3498.578313    \n",
       "4                                        3494.800771    \n",
       "\n",
       "   rougher.calculation.floatbank11_sulfate_to_au_feed  \\\n",
       "0                                        3520.337158    \n",
       "1                                        3489.981857    \n",
       "2                                        3502.359819    \n",
       "3                                        3499.162912    \n",
       "4                                        3506.679315    \n",
       "\n",
       "   rougher.calculation.au_pb_ratio  rougher.input.feed_ag  \\\n",
       "0                         2.838687               6.100378   \n",
       "1                         2.858998               6.161113   \n",
       "2                         2.945989               6.116455   \n",
       "3                         3.002340               6.043309   \n",
       "4                         3.169615               6.060915   \n",
       "\n",
       "   rougher.input.feed_pb  rougher.input.feed_rate  rougher.input.feed_size  \\\n",
       "0               2.284912               523.546326                55.486599   \n",
       "1               2.266033               525.290581                57.278666   \n",
       "2               2.159622               530.026610                57.510649   \n",
       "3               2.037807               542.590390                57.792734   \n",
       "4               1.786875               540.531893                56.047189   \n",
       "\n",
       "   rougher.input.feed_sol  rougher.input.feed_au  \\\n",
       "0               36.808594               6.486150   \n",
       "1               35.753385               6.478583   \n",
       "2               35.971630               6.362222   \n",
       "3               36.862241               6.118189   \n",
       "4               34.347666               5.663707   \n",
       "\n",
       "   rougher.input.floatbank10_sulfate  rougher.input.floatbank10_xanthate  \\\n",
       "0                          11.986616                            6.007990   \n",
       "1                          11.971193                            6.005766   \n",
       "2                          11.920603                            6.197377   \n",
       "3                          11.630094                            6.203177   \n",
       "4                          10.957755                            6.198826   \n",
       "\n",
       "   rougher.input.floatbank11_sulfate  rougher.input.floatbank11_xanthate  \\\n",
       "0                          11.836743                            6.005818   \n",
       "1                          11.996163                            6.012594   \n",
       "2                          11.920305                            6.204633   \n",
       "3                          11.692450                            6.196578   \n",
       "4                          10.960521                            6.194897   \n",
       "\n",
       "   rougher.output.concentrate_ag  rougher.output.concentrate_pb  \\\n",
       "0                      11.500771                       7.101074   \n",
       "1                      11.615865                       7.278807   \n",
       "2                      11.695753                       7.216833   \n",
       "3                      11.915047                       7.175616   \n",
       "4                      12.411054                       7.240205   \n",
       "\n",
       "   rougher.output.concentrate_sol  rougher.output.concentrate_au  \\\n",
       "0                       28.029297                      19.793808   \n",
       "1                       28.067063                      20.050975   \n",
       "2                       27.454037                      19.737170   \n",
       "3                       27.341277                      19.320810   \n",
       "4                       27.041023                      19.216101   \n",
       "\n",
       "   rougher.output.recovery  rougher.output.tail_ag  rougher.output.tail_pb  \\\n",
       "0                87.107763                5.008018                0.508728   \n",
       "1                86.843261                4.955378                0.536689   \n",
       "2                86.842308                4.843460                0.546416   \n",
       "3                87.226430                4.655288                0.542525   \n",
       "4                86.688794                4.552800                0.515438   \n",
       "\n",
       "   rougher.output.tail_sol  rougher.output.tail_au  \\\n",
       "0                19.154297                1.170244   \n",
       "1                18.965234                1.184827   \n",
       "2                18.808533                1.162562   \n",
       "3                19.330200                1.079755   \n",
       "4                19.267422                1.012642   \n",
       "\n",
       "   rougher.state.floatbank10_a_air  rougher.state.floatbank10_a_level  \\\n",
       "0                       999.706909                        -404.066986   \n",
       "1                      1000.286398                        -400.065196   \n",
       "2                       999.719565                        -400.074028   \n",
       "3                       999.814770                        -400.200179   \n",
       "4                       999.678690                        -399.752729   \n",
       "\n",
       "   rougher.state.floatbank10_b_air  rougher.state.floatbank10_b_level  \\\n",
       "0                      1603.011353                        -434.715027   \n",
       "1                      1600.754587                        -449.953435   \n",
       "2                      1599.337330                        -450.008530   \n",
       "3                      1600.059442                        -450.619948   \n",
       "4                      1600.208824                        -449.599614   \n",
       "\n",
       "   rougher.state.floatbank10_c_air  rougher.state.floatbank10_c_level  \\\n",
       "0                      1602.375000                        -442.204468   \n",
       "1                      1600.479580                        -449.830646   \n",
       "2                      1599.672797                        -449.954491   \n",
       "3                      1600.012842                        -449.910497   \n",
       "4                      1600.357732                        -450.034364   \n",
       "\n",
       "   rougher.state.floatbank10_d_air  rougher.state.floatbank10_d_level  \\\n",
       "0                      1598.937256                        -451.294128   \n",
       "1                      1600.527589                        -449.953649   \n",
       "2                      1599.849325                        -449.954185   \n",
       "3                      1597.725177                        -450.130127   \n",
       "4                      1599.759049                        -449.909799   \n",
       "\n",
       "   rougher.state.floatbank10_e_air  rougher.state.floatbank10_e_level  \\\n",
       "0                      1404.472046                        -455.462982   \n",
       "1                      1399.227084                        -450.869848   \n",
       "2                      1399.180945                        -449.937588   \n",
       "3                      1400.943157                        -450.030142   \n",
       "4                      1401.560902                        -448.877187   \n",
       "\n",
       "   rougher.state.floatbank10_f_air  rougher.state.floatbank10_f_level  \\\n",
       "0                      1416.354980                        -451.939636   \n",
       "1                      1399.719514                        -450.119001   \n",
       "2                      1400.316682                        -450.527147   \n",
       "3                      1400.234743                        -449.790835   \n",
       "4                      1401.160227                        -450.407128   \n",
       "\n",
       "   secondary_cleaner.output.tail_ag  secondary_cleaner.output.tail_pb  \\\n",
       "0                         14.500184                          4.694824   \n",
       "1                         14.265474                          4.592547   \n",
       "2                         14.115662                          4.624775   \n",
       "3                         13.732071                          4.482453   \n",
       "4                         14.079996                          4.470737   \n",
       "\n",
       "   secondary_cleaner.output.tail_sol  secondary_cleaner.output.tail_au  \\\n",
       "0                           8.764648                          2.606185   \n",
       "1                           9.001494                          2.488248   \n",
       "2                           8.842896                          2.458187   \n",
       "3                           9.122857                          2.322062   \n",
       "4                           8.871028                          2.330448   \n",
       "\n",
       "   secondary_cleaner.state.floatbank2_a_air  \\\n",
       "0                                 25.853109   \n",
       "1                                 25.880539   \n",
       "2                                 26.005245   \n",
       "3                                 25.942508   \n",
       "4                                 26.024787   \n",
       "\n",
       "   secondary_cleaner.state.floatbank2_a_level  \\\n",
       "0                                 -498.526489   \n",
       "1                                 -499.989656   \n",
       "2                                 -499.929616   \n",
       "3                                 -499.176749   \n",
       "4                                 -500.279091   \n",
       "\n",
       "   secondary_cleaner.state.floatbank2_b_air  \\\n",
       "0                                 23.893660   \n",
       "1                                 23.889530   \n",
       "2                                 23.886657   \n",
       "3                                 23.955516   \n",
       "4                                 23.955345   \n",
       "\n",
       "   secondary_cleaner.state.floatbank2_b_level  \\\n",
       "0                                 -501.406281   \n",
       "1                                 -500.372428   \n",
       "2                                 -499.951928   \n",
       "3                                 -499.848796   \n",
       "4                                 -500.593614   \n",
       "\n",
       "   secondary_cleaner.state.floatbank3_a_air  \\\n",
       "0                                 23.961798   \n",
       "1                                 23.970550   \n",
       "2                                 23.913535   \n",
       "3                                 23.966838   \n",
       "4                                 23.985703   \n",
       "\n",
       "   secondary_cleaner.state.floatbank3_a_level  \\\n",
       "0                                 -495.262817   \n",
       "1                                 -500.085473   \n",
       "2                                 -499.442343   \n",
       "3                                 -500.008812   \n",
       "4                                 -500.083811   \n",
       "\n",
       "   secondary_cleaner.state.floatbank3_b_air  \\\n",
       "0                                 21.940409   \n",
       "1                                 22.085714   \n",
       "2                                 23.957717   \n",
       "3                                 23.954443   \n",
       "4                                 23.958945   \n",
       "\n",
       "   secondary_cleaner.state.floatbank3_b_level  \\\n",
       "0                                 -499.340973   \n",
       "1                                 -499.446897   \n",
       "2                                 -499.901982   \n",
       "3                                 -499.944710   \n",
       "4                                 -499.990309   \n",
       "\n",
       "   secondary_cleaner.state.floatbank4_a_air  \\\n",
       "0                                 14.016835   \n",
       "1                                 13.992281   \n",
       "2                                 14.015015   \n",
       "3                                 14.036510   \n",
       "4                                 14.027298   \n",
       "\n",
       "   secondary_cleaner.state.floatbank4_a_level  \\\n",
       "0                                 -502.488007   \n",
       "1                                 -505.503262   \n",
       "2                                 -502.520901   \n",
       "3                                 -500.857308   \n",
       "4                                 -499.838632   \n",
       "\n",
       "   secondary_cleaner.state.floatbank4_b_air  \\\n",
       "0                                 12.099931   \n",
       "1                                 11.950531   \n",
       "2                                 11.912783   \n",
       "3                                 11.999550   \n",
       "4                                 11.953070   \n",
       "\n",
       "   secondary_cleaner.state.floatbank4_b_level  \\\n",
       "0                                 -504.715942   \n",
       "1                                 -501.331529   \n",
       "2                                 -501.133383   \n",
       "3                                 -501.193686   \n",
       "4                                 -501.053894   \n",
       "\n",
       "   secondary_cleaner.state.floatbank5_a_air  \\\n",
       "0                                  9.925633   \n",
       "1                                 10.039245   \n",
       "2                                 10.070913   \n",
       "3                                  9.970366   \n",
       "4                                  9.925709   \n",
       "\n",
       "   secondary_cleaner.state.floatbank5_a_level  \\\n",
       "0                                 -498.310211   \n",
       "1                                 -500.169983   \n",
       "2                                 -500.129135   \n",
       "3                                 -499.201640   \n",
       "4                                 -501.686727   \n",
       "\n",
       "   secondary_cleaner.state.floatbank5_b_air  \\\n",
       "0                                  8.079666   \n",
       "1                                  7.984757   \n",
       "2                                  8.013877   \n",
       "3                                  7.977324   \n",
       "4                                  7.894242   \n",
       "\n",
       "   secondary_cleaner.state.floatbank5_b_level  \\\n",
       "0                                 -500.470978   \n",
       "1                                 -500.582168   \n",
       "2                                 -500.517572   \n",
       "3                                 -500.255908   \n",
       "4                                 -500.356035   \n",
       "\n",
       "   secondary_cleaner.state.floatbank6_a_air  \\\n",
       "0                                 14.151341   \n",
       "1                                 13.998353   \n",
       "2                                 14.028663   \n",
       "3                                 14.005551   \n",
       "4                                 13.996647   \n",
       "\n",
       "   secondary_cleaner.state.floatbank6_a_level  \n",
       "0                                 -605.841980  \n",
       "1                                 -599.787184  \n",
       "2                                 -601.427363  \n",
       "3                                 -599.996129  \n",
       "4                                 -601.496691  "
      ]
     },
     "metadata": {},
     "output_type": "display_data"
    },
    {
     "data": {
      "text/html": [
       "<div>\n",
       "<style scoped>\n",
       "    .dataframe tbody tr th:only-of-type {\n",
       "        vertical-align: middle;\n",
       "    }\n",
       "\n",
       "    .dataframe tbody tr th {\n",
       "        vertical-align: top;\n",
       "    }\n",
       "\n",
       "    .dataframe thead th {\n",
       "        text-align: right;\n",
       "    }\n",
       "</style>\n",
       "<table border=\"1\" class=\"dataframe\">\n",
       "  <thead>\n",
       "    <tr style=\"text-align: right;\">\n",
       "      <th></th>\n",
       "      <th>final.output.concentrate_ag</th>\n",
       "      <th>final.output.concentrate_pb</th>\n",
       "      <th>final.output.concentrate_sol</th>\n",
       "      <th>final.output.concentrate_au</th>\n",
       "      <th>final.output.recovery</th>\n",
       "      <th>final.output.tail_ag</th>\n",
       "      <th>final.output.tail_pb</th>\n",
       "      <th>final.output.tail_sol</th>\n",
       "      <th>final.output.tail_au</th>\n",
       "      <th>primary_cleaner.input.sulfate</th>\n",
       "      <th>primary_cleaner.input.depressant</th>\n",
       "      <th>primary_cleaner.input.feed_size</th>\n",
       "      <th>primary_cleaner.input.xanthate</th>\n",
       "      <th>primary_cleaner.output.concentrate_ag</th>\n",
       "      <th>primary_cleaner.output.concentrate_pb</th>\n",
       "      <th>primary_cleaner.output.concentrate_sol</th>\n",
       "      <th>primary_cleaner.output.concentrate_au</th>\n",
       "      <th>primary_cleaner.output.tail_ag</th>\n",
       "      <th>primary_cleaner.output.tail_pb</th>\n",
       "      <th>primary_cleaner.output.tail_sol</th>\n",
       "      <th>primary_cleaner.output.tail_au</th>\n",
       "      <th>primary_cleaner.state.floatbank8_a_air</th>\n",
       "      <th>primary_cleaner.state.floatbank8_a_level</th>\n",
       "      <th>primary_cleaner.state.floatbank8_b_air</th>\n",
       "      <th>primary_cleaner.state.floatbank8_b_level</th>\n",
       "      <th>primary_cleaner.state.floatbank8_c_air</th>\n",
       "      <th>primary_cleaner.state.floatbank8_c_level</th>\n",
       "      <th>primary_cleaner.state.floatbank8_d_air</th>\n",
       "      <th>primary_cleaner.state.floatbank8_d_level</th>\n",
       "      <th>rougher.calculation.sulfate_to_au_concentrate</th>\n",
       "      <th>rougher.calculation.floatbank10_sulfate_to_au_feed</th>\n",
       "      <th>rougher.calculation.floatbank11_sulfate_to_au_feed</th>\n",
       "      <th>rougher.calculation.au_pb_ratio</th>\n",
       "      <th>rougher.input.feed_ag</th>\n",
       "      <th>rougher.input.feed_pb</th>\n",
       "      <th>rougher.input.feed_rate</th>\n",
       "      <th>rougher.input.feed_size</th>\n",
       "      <th>rougher.input.feed_sol</th>\n",
       "      <th>rougher.input.feed_au</th>\n",
       "      <th>rougher.input.floatbank10_sulfate</th>\n",
       "      <th>rougher.input.floatbank10_xanthate</th>\n",
       "      <th>rougher.input.floatbank11_sulfate</th>\n",
       "      <th>rougher.input.floatbank11_xanthate</th>\n",
       "      <th>rougher.output.concentrate_ag</th>\n",
       "      <th>rougher.output.concentrate_pb</th>\n",
       "      <th>rougher.output.concentrate_sol</th>\n",
       "      <th>rougher.output.concentrate_au</th>\n",
       "      <th>rougher.output.recovery</th>\n",
       "      <th>rougher.output.tail_ag</th>\n",
       "      <th>rougher.output.tail_pb</th>\n",
       "      <th>rougher.output.tail_sol</th>\n",
       "      <th>rougher.output.tail_au</th>\n",
       "      <th>rougher.state.floatbank10_a_air</th>\n",
       "      <th>rougher.state.floatbank10_a_level</th>\n",
       "      <th>rougher.state.floatbank10_b_air</th>\n",
       "      <th>rougher.state.floatbank10_b_level</th>\n",
       "      <th>rougher.state.floatbank10_c_air</th>\n",
       "      <th>rougher.state.floatbank10_c_level</th>\n",
       "      <th>rougher.state.floatbank10_d_air</th>\n",
       "      <th>rougher.state.floatbank10_d_level</th>\n",
       "      <th>rougher.state.floatbank10_e_air</th>\n",
       "      <th>rougher.state.floatbank10_e_level</th>\n",
       "      <th>rougher.state.floatbank10_f_air</th>\n",
       "      <th>rougher.state.floatbank10_f_level</th>\n",
       "      <th>secondary_cleaner.output.tail_ag</th>\n",
       "      <th>secondary_cleaner.output.tail_pb</th>\n",
       "      <th>secondary_cleaner.output.tail_sol</th>\n",
       "      <th>secondary_cleaner.output.tail_au</th>\n",
       "      <th>secondary_cleaner.state.floatbank2_a_air</th>\n",
       "      <th>secondary_cleaner.state.floatbank2_a_level</th>\n",
       "      <th>secondary_cleaner.state.floatbank2_b_air</th>\n",
       "      <th>secondary_cleaner.state.floatbank2_b_level</th>\n",
       "      <th>secondary_cleaner.state.floatbank3_a_air</th>\n",
       "      <th>secondary_cleaner.state.floatbank3_a_level</th>\n",
       "      <th>secondary_cleaner.state.floatbank3_b_air</th>\n",
       "      <th>secondary_cleaner.state.floatbank3_b_level</th>\n",
       "      <th>secondary_cleaner.state.floatbank4_a_air</th>\n",
       "      <th>secondary_cleaner.state.floatbank4_a_level</th>\n",
       "      <th>secondary_cleaner.state.floatbank4_b_air</th>\n",
       "      <th>secondary_cleaner.state.floatbank4_b_level</th>\n",
       "      <th>secondary_cleaner.state.floatbank5_a_air</th>\n",
       "      <th>secondary_cleaner.state.floatbank5_a_level</th>\n",
       "      <th>secondary_cleaner.state.floatbank5_b_air</th>\n",
       "      <th>secondary_cleaner.state.floatbank5_b_level</th>\n",
       "      <th>secondary_cleaner.state.floatbank6_a_air</th>\n",
       "      <th>secondary_cleaner.state.floatbank6_a_level</th>\n",
       "    </tr>\n",
       "  </thead>\n",
       "  <tbody>\n",
       "    <tr>\n",
       "      <th>count</th>\n",
       "      <td>14148.000000</td>\n",
       "      <td>14148.000000</td>\n",
       "      <td>13938.000000</td>\n",
       "      <td>14149.000000</td>\n",
       "      <td>14149.000000</td>\n",
       "      <td>14149.000000</td>\n",
       "      <td>14049.000000</td>\n",
       "      <td>14144.000000</td>\n",
       "      <td>14149.000000</td>\n",
       "      <td>14129.000000</td>\n",
       "      <td>14117.000000</td>\n",
       "      <td>14149.000000</td>\n",
       "      <td>14049.000000</td>\n",
       "      <td>14149.000000</td>\n",
       "      <td>14063.000000</td>\n",
       "      <td>13863.000000</td>\n",
       "      <td>14149.000000</td>\n",
       "      <td>14148.000000</td>\n",
       "      <td>14134.000000</td>\n",
       "      <td>14103.000000</td>\n",
       "      <td>14149.000000</td>\n",
       "      <td>14145.000000</td>\n",
       "      <td>14148.000000</td>\n",
       "      <td>14145.000000</td>\n",
       "      <td>14148.000000</td>\n",
       "      <td>14147.000000</td>\n",
       "      <td>14148.000000</td>\n",
       "      <td>14146.000000</td>\n",
       "      <td>14148.000000</td>\n",
       "      <td>1.414800e+04</td>\n",
       "      <td>14148.000000</td>\n",
       "      <td>14148.000000</td>\n",
       "      <td>14149.000000</td>\n",
       "      <td>14149.000000</td>\n",
       "      <td>14049.000000</td>\n",
       "      <td>14141.000000</td>\n",
       "      <td>14005.000000</td>\n",
       "      <td>14071.000000</td>\n",
       "      <td>14149.000000</td>\n",
       "      <td>14120.000000</td>\n",
       "      <td>14141.000000</td>\n",
       "      <td>14113.000000</td>\n",
       "      <td>13721.000000</td>\n",
       "      <td>14149.000000</td>\n",
       "      <td>14149.000000</td>\n",
       "      <td>14127.000000</td>\n",
       "      <td>14149.000000</td>\n",
       "      <td>14149.000000</td>\n",
       "      <td>14148.000000</td>\n",
       "      <td>14149.000000</td>\n",
       "      <td>14149.000000</td>\n",
       "      <td>14149.000000</td>\n",
       "      <td>14148.000000</td>\n",
       "      <td>14148.000000</td>\n",
       "      <td>14148.000000</td>\n",
       "      <td>14148.000000</td>\n",
       "      <td>14148.000000</td>\n",
       "      <td>14148.000000</td>\n",
       "      <td>14149.000000</td>\n",
       "      <td>14149.000000</td>\n",
       "      <td>13713.000000</td>\n",
       "      <td>14149.000000</td>\n",
       "      <td>14149.000000</td>\n",
       "      <td>14149.000000</td>\n",
       "      <td>14147.000000</td>\n",
       "      <td>14139.000000</td>\n",
       "      <td>12544.000000</td>\n",
       "      <td>14149.000000</td>\n",
       "      <td>13932.000000</td>\n",
       "      <td>14148.000000</td>\n",
       "      <td>14128.000000</td>\n",
       "      <td>14148.000000</td>\n",
       "      <td>14145.000000</td>\n",
       "      <td>14148.000000</td>\n",
       "      <td>14148.000000</td>\n",
       "      <td>14148.000000</td>\n",
       "      <td>14143.000000</td>\n",
       "      <td>14148.000000</td>\n",
       "      <td>14148.000000</td>\n",
       "      <td>14148.000000</td>\n",
       "      <td>14148.000000</td>\n",
       "      <td>14148.000000</td>\n",
       "      <td>14148.000000</td>\n",
       "      <td>14148.000000</td>\n",
       "      <td>14147.000000</td>\n",
       "      <td>14148.000000</td>\n",
       "    </tr>\n",
       "    <tr>\n",
       "      <th>mean</th>\n",
       "      <td>5.142034</td>\n",
       "      <td>10.132960</td>\n",
       "      <td>9.202849</td>\n",
       "      <td>44.003792</td>\n",
       "      <td>66.518832</td>\n",
       "      <td>9.607035</td>\n",
       "      <td>2.597298</td>\n",
       "      <td>10.512122</td>\n",
       "      <td>2.918421</td>\n",
       "      <td>133.320659</td>\n",
       "      <td>8.866996</td>\n",
       "      <td>7.322310</td>\n",
       "      <td>0.885588</td>\n",
       "      <td>8.200916</td>\n",
       "      <td>9.588862</td>\n",
       "      <td>10.114745</td>\n",
       "      <td>32.386836</td>\n",
       "      <td>16.303929</td>\n",
       "      <td>3.443398</td>\n",
       "      <td>7.533566</td>\n",
       "      <td>3.839637</td>\n",
       "      <td>1608.000064</td>\n",
       "      <td>-488.775525</td>\n",
       "      <td>1608.610983</td>\n",
       "      <td>-489.171786</td>\n",
       "      <td>1608.879407</td>\n",
       "      <td>-489.605549</td>\n",
       "      <td>1542.189963</td>\n",
       "      <td>-483.462423</td>\n",
       "      <td>4.038265e+04</td>\n",
       "      <td>3456.608298</td>\n",
       "      <td>3253.356387</td>\n",
       "      <td>2.367314</td>\n",
       "      <td>8.579195</td>\n",
       "      <td>3.522778</td>\n",
       "      <td>474.027714</td>\n",
       "      <td>60.110518</td>\n",
       "      <td>36.312593</td>\n",
       "      <td>7.866577</td>\n",
       "      <td>11.764931</td>\n",
       "      <td>5.854529</td>\n",
       "      <td>11.368685</td>\n",
       "      <td>5.894176</td>\n",
       "      <td>11.775812</td>\n",
       "      <td>7.664555</td>\n",
       "      <td>28.302715</td>\n",
       "      <td>19.439958</td>\n",
       "      <td>82.704502</td>\n",
       "      <td>5.567124</td>\n",
       "      <td>0.653277</td>\n",
       "      <td>17.882853</td>\n",
       "      <td>1.757473</td>\n",
       "      <td>1124.726280</td>\n",
       "      <td>-369.460950</td>\n",
       "      <td>1320.705069</td>\n",
       "      <td>-464.258983</td>\n",
       "      <td>1299.360578</td>\n",
       "      <td>-465.054849</td>\n",
       "      <td>1210.335236</td>\n",
       "      <td>-465.457377</td>\n",
       "      <td>1090.213187</td>\n",
       "      <td>-464.919119</td>\n",
       "      <td>1035.490299</td>\n",
       "      <td>-464.688631</td>\n",
       "      <td>14.281629</td>\n",
       "      <td>5.848863</td>\n",
       "      <td>6.938693</td>\n",
       "      <td>4.246961</td>\n",
       "      <td>29.613649</td>\n",
       "      <td>-502.223914</td>\n",
       "      <td>24.914403</td>\n",
       "      <td>-503.695706</td>\n",
       "      <td>29.243372</td>\n",
       "      <td>-478.244059</td>\n",
       "      <td>22.656261</td>\n",
       "      <td>-488.924046</td>\n",
       "      <td>19.985454</td>\n",
       "      <td>-478.696836</td>\n",
       "      <td>15.487065</td>\n",
       "      <td>-460.229416</td>\n",
       "      <td>16.775136</td>\n",
       "      <td>-483.956022</td>\n",
       "      <td>13.064590</td>\n",
       "      <td>-483.966564</td>\n",
       "      <td>19.577539</td>\n",
       "      <td>-506.798480</td>\n",
       "    </tr>\n",
       "    <tr>\n",
       "      <th>std</th>\n",
       "      <td>1.369586</td>\n",
       "      <td>1.654930</td>\n",
       "      <td>2.790516</td>\n",
       "      <td>4.905261</td>\n",
       "      <td>10.295402</td>\n",
       "      <td>2.319069</td>\n",
       "      <td>0.971843</td>\n",
       "      <td>3.003617</td>\n",
       "      <td>0.903712</td>\n",
       "      <td>39.431659</td>\n",
       "      <td>3.361589</td>\n",
       "      <td>0.614062</td>\n",
       "      <td>0.372714</td>\n",
       "      <td>2.005185</td>\n",
       "      <td>2.694296</td>\n",
       "      <td>4.064076</td>\n",
       "      <td>5.798843</td>\n",
       "      <td>3.739843</td>\n",
       "      <td>1.490106</td>\n",
       "      <td>2.133220</td>\n",
       "      <td>1.603544</td>\n",
       "      <td>128.394355</td>\n",
       "      <td>35.704184</td>\n",
       "      <td>131.112729</td>\n",
       "      <td>33.604449</td>\n",
       "      <td>134.266898</td>\n",
       "      <td>35.624002</td>\n",
       "      <td>278.316132</td>\n",
       "      <td>47.100934</td>\n",
       "      <td>3.801436e+05</td>\n",
       "      <td>5772.510248</td>\n",
       "      <td>6753.290662</td>\n",
       "      <td>0.873551</td>\n",
       "      <td>1.896284</td>\n",
       "      <td>1.073394</td>\n",
       "      <td>104.039838</td>\n",
       "      <td>22.418485</td>\n",
       "      <td>4.956057</td>\n",
       "      <td>1.919506</td>\n",
       "      <td>3.278813</td>\n",
       "      <td>1.104263</td>\n",
       "      <td>3.743672</td>\n",
       "      <td>1.124233</td>\n",
       "      <td>2.731747</td>\n",
       "      <td>1.856279</td>\n",
       "      <td>6.102982</td>\n",
       "      <td>3.765192</td>\n",
       "      <td>14.479156</td>\n",
       "      <td>1.039136</td>\n",
       "      <td>0.263766</td>\n",
       "      <td>3.432859</td>\n",
       "      <td>0.713187</td>\n",
       "      <td>169.310825</td>\n",
       "      <td>93.952787</td>\n",
       "      <td>183.155975</td>\n",
       "      <td>57.401954</td>\n",
       "      <td>213.404094</td>\n",
       "      <td>55.904716</td>\n",
       "      <td>210.431555</td>\n",
       "      <td>55.771393</td>\n",
       "      <td>184.610118</td>\n",
       "      <td>56.602962</td>\n",
       "      <td>175.052279</td>\n",
       "      <td>56.645965</td>\n",
       "      <td>4.477126</td>\n",
       "      <td>2.861799</td>\n",
       "      <td>4.155487</td>\n",
       "      <td>2.389060</td>\n",
       "      <td>5.800494</td>\n",
       "      <td>60.281705</td>\n",
       "      <td>5.994959</td>\n",
       "      <td>62.837357</td>\n",
       "      <td>5.637309</td>\n",
       "      <td>54.655143</td>\n",
       "      <td>4.996017</td>\n",
       "      <td>41.928112</td>\n",
       "      <td>5.657723</td>\n",
       "      <td>50.736021</td>\n",
       "      <td>5.255655</td>\n",
       "      <td>58.843586</td>\n",
       "      <td>5.831906</td>\n",
       "      <td>37.892788</td>\n",
       "      <td>5.765617</td>\n",
       "      <td>39.207913</td>\n",
       "      <td>5.764417</td>\n",
       "      <td>37.079249</td>\n",
       "    </tr>\n",
       "    <tr>\n",
       "      <th>min</th>\n",
       "      <td>0.000000</td>\n",
       "      <td>0.000000</td>\n",
       "      <td>0.000000</td>\n",
       "      <td>0.000000</td>\n",
       "      <td>0.000000</td>\n",
       "      <td>0.000000</td>\n",
       "      <td>0.000000</td>\n",
       "      <td>0.000000</td>\n",
       "      <td>0.000000</td>\n",
       "      <td>0.003112</td>\n",
       "      <td>0.000000</td>\n",
       "      <td>1.080000</td>\n",
       "      <td>0.000005</td>\n",
       "      <td>0.000000</td>\n",
       "      <td>0.000000</td>\n",
       "      <td>0.000000</td>\n",
       "      <td>0.000000</td>\n",
       "      <td>0.000000</td>\n",
       "      <td>0.000000</td>\n",
       "      <td>0.000000</td>\n",
       "      <td>0.000000</td>\n",
       "      <td>0.006352</td>\n",
       "      <td>-798.641662</td>\n",
       "      <td>0.008700</td>\n",
       "      <td>-740.122129</td>\n",
       "      <td>0.015159</td>\n",
       "      <td>-799.803073</td>\n",
       "      <td>0.008655</td>\n",
       "      <td>-799.788598</td>\n",
       "      <td>-4.223520e+07</td>\n",
       "      <td>-486.598675</td>\n",
       "      <td>-264.982785</td>\n",
       "      <td>-0.010548</td>\n",
       "      <td>0.010000</td>\n",
       "      <td>0.010000</td>\n",
       "      <td>0.012786</td>\n",
       "      <td>9.659576</td>\n",
       "      <td>0.010000</td>\n",
       "      <td>0.010000</td>\n",
       "      <td>0.001083</td>\n",
       "      <td>0.001428</td>\n",
       "      <td>0.000098</td>\n",
       "      <td>0.000290</td>\n",
       "      <td>0.000000</td>\n",
       "      <td>0.000000</td>\n",
       "      <td>0.000000</td>\n",
       "      <td>0.000000</td>\n",
       "      <td>0.000000</td>\n",
       "      <td>0.594562</td>\n",
       "      <td>0.007566</td>\n",
       "      <td>10.014648</td>\n",
       "      <td>0.020676</td>\n",
       "      <td>-0.041078</td>\n",
       "      <td>-650.202881</td>\n",
       "      <td>-0.653384</td>\n",
       "      <td>-650.260008</td>\n",
       "      <td>-0.035112</td>\n",
       "      <td>-640.995627</td>\n",
       "      <td>-0.554299</td>\n",
       "      <td>-640.519003</td>\n",
       "      <td>-1.970275</td>\n",
       "      <td>-649.443911</td>\n",
       "      <td>-2.430587</td>\n",
       "      <td>-649.880981</td>\n",
       "      <td>0.000000</td>\n",
       "      <td>0.000000</td>\n",
       "      <td>0.000000</td>\n",
       "      <td>0.000000</td>\n",
       "      <td>0.077503</td>\n",
       "      <td>-799.606441</td>\n",
       "      <td>0.000000</td>\n",
       "      <td>-799.873878</td>\n",
       "      <td>0.000000</td>\n",
       "      <td>-799.613013</td>\n",
       "      <td>0.000000</td>\n",
       "      <td>-759.177381</td>\n",
       "      <td>0.000000</td>\n",
       "      <td>-799.709069</td>\n",
       "      <td>0.000000</td>\n",
       "      <td>-799.889113</td>\n",
       "      <td>-0.372054</td>\n",
       "      <td>-797.142475</td>\n",
       "      <td>0.646208</td>\n",
       "      <td>-800.006180</td>\n",
       "      <td>0.195324</td>\n",
       "      <td>-809.398668</td>\n",
       "    </tr>\n",
       "    <tr>\n",
       "      <th>25%</th>\n",
       "      <td>4.211620</td>\n",
       "      <td>9.297355</td>\n",
       "      <td>7.484645</td>\n",
       "      <td>43.276111</td>\n",
       "      <td>62.545817</td>\n",
       "      <td>7.997429</td>\n",
       "      <td>1.905973</td>\n",
       "      <td>8.811324</td>\n",
       "      <td>2.368607</td>\n",
       "      <td>107.006651</td>\n",
       "      <td>6.040604</td>\n",
       "      <td>6.960000</td>\n",
       "      <td>0.607021</td>\n",
       "      <td>7.107126</td>\n",
       "      <td>8.333489</td>\n",
       "      <td>7.488139</td>\n",
       "      <td>30.857764</td>\n",
       "      <td>13.873147</td>\n",
       "      <td>2.420259</td>\n",
       "      <td>6.332548</td>\n",
       "      <td>2.867957</td>\n",
       "      <td>1595.695815</td>\n",
       "      <td>-500.287952</td>\n",
       "      <td>1558.959943</td>\n",
       "      <td>-500.375645</td>\n",
       "      <td>1549.871886</td>\n",
       "      <td>-500.601718</td>\n",
       "      <td>1452.678767</td>\n",
       "      <td>-500.459917</td>\n",
       "      <td>3.999430e+04</td>\n",
       "      <td>2527.093354</td>\n",
       "      <td>2512.200873</td>\n",
       "      <td>1.999588</td>\n",
       "      <td>7.132802</td>\n",
       "      <td>2.780010</td>\n",
       "      <td>420.781913</td>\n",
       "      <td>48.973027</td>\n",
       "      <td>34.117635</td>\n",
       "      <td>6.596217</td>\n",
       "      <td>9.861100</td>\n",
       "      <td>5.117359</td>\n",
       "      <td>9.505507</td>\n",
       "      <td>5.199168</td>\n",
       "      <td>10.486871</td>\n",
       "      <td>6.850501</td>\n",
       "      <td>26.703554</td>\n",
       "      <td>18.432161</td>\n",
       "      <td>79.993067</td>\n",
       "      <td>4.921647</td>\n",
       "      <td>0.474047</td>\n",
       "      <td>15.688727</td>\n",
       "      <td>1.310800</td>\n",
       "      <td>999.799166</td>\n",
       "      <td>-499.787867</td>\n",
       "      <td>1199.366448</td>\n",
       "      <td>-500.183028</td>\n",
       "      <td>1103.095071</td>\n",
       "      <td>-500.211863</td>\n",
       "      <td>1059.708509</td>\n",
       "      <td>-500.359197</td>\n",
       "      <td>997.183864</td>\n",
       "      <td>-500.250033</td>\n",
       "      <td>900.966986</td>\n",
       "      <td>-500.476526</td>\n",
       "      <td>12.177364</td>\n",
       "      <td>3.982298</td>\n",
       "      <td>3.225486</td>\n",
       "      <td>3.153122</td>\n",
       "      <td>25.099584</td>\n",
       "      <td>-500.248814</td>\n",
       "      <td>22.048294</td>\n",
       "      <td>-500.270997</td>\n",
       "      <td>24.991662</td>\n",
       "      <td>-500.175065</td>\n",
       "      <td>19.948436</td>\n",
       "      <td>-500.110581</td>\n",
       "      <td>14.990775</td>\n",
       "      <td>-500.628656</td>\n",
       "      <td>11.894558</td>\n",
       "      <td>-500.149000</td>\n",
       "      <td>11.083980</td>\n",
       "      <td>-500.363177</td>\n",
       "      <td>8.994405</td>\n",
       "      <td>-500.105994</td>\n",
       "      <td>14.989304</td>\n",
       "      <td>-500.745104</td>\n",
       "    </tr>\n",
       "    <tr>\n",
       "      <th>50%</th>\n",
       "      <td>4.994652</td>\n",
       "      <td>10.297144</td>\n",
       "      <td>8.845462</td>\n",
       "      <td>44.872436</td>\n",
       "      <td>67.432775</td>\n",
       "      <td>9.480270</td>\n",
       "      <td>2.592022</td>\n",
       "      <td>10.514621</td>\n",
       "      <td>2.851025</td>\n",
       "      <td>133.018328</td>\n",
       "      <td>8.035811</td>\n",
       "      <td>7.290000</td>\n",
       "      <td>0.888749</td>\n",
       "      <td>8.226247</td>\n",
       "      <td>9.933520</td>\n",
       "      <td>9.726566</td>\n",
       "      <td>33.225835</td>\n",
       "      <td>15.800604</td>\n",
       "      <td>3.218374</td>\n",
       "      <td>7.714419</td>\n",
       "      <td>3.510337</td>\n",
       "      <td>1601.824410</td>\n",
       "      <td>-499.909375</td>\n",
       "      <td>1601.818514</td>\n",
       "      <td>-499.938003</td>\n",
       "      <td>1601.574628</td>\n",
       "      <td>-499.871346</td>\n",
       "      <td>1600.168346</td>\n",
       "      <td>-499.831833</td>\n",
       "      <td>4.368431e+04</td>\n",
       "      <td>2975.892211</td>\n",
       "      <td>2899.807724</td>\n",
       "      <td>2.249275</td>\n",
       "      <td>8.156092</td>\n",
       "      <td>3.422677</td>\n",
       "      <td>499.454777</td>\n",
       "      <td>55.373885</td>\n",
       "      <td>37.020345</td>\n",
       "      <td>7.649138</td>\n",
       "      <td>11.688702</td>\n",
       "      <td>5.951071</td>\n",
       "      <td>11.384283</td>\n",
       "      <td>5.998460</td>\n",
       "      <td>11.747362</td>\n",
       "      <td>7.760435</td>\n",
       "      <td>29.257545</td>\n",
       "      <td>19.947312</td>\n",
       "      <td>85.299462</td>\n",
       "      <td>5.722018</td>\n",
       "      <td>0.625805</td>\n",
       "      <td>18.015894</td>\n",
       "      <td>1.745513</td>\n",
       "      <td>1001.685708</td>\n",
       "      <td>-300.175125</td>\n",
       "      <td>1301.365123</td>\n",
       "      <td>-499.764620</td>\n",
       "      <td>1300.213385</td>\n",
       "      <td>-499.682528</td>\n",
       "      <td>1200.744308</td>\n",
       "      <td>-499.465285</td>\n",
       "      <td>1050.496363</td>\n",
       "      <td>-499.611447</td>\n",
       "      <td>1000.053757</td>\n",
       "      <td>-499.364335</td>\n",
       "      <td>15.357951</td>\n",
       "      <td>5.442310</td>\n",
       "      <td>7.302639</td>\n",
       "      <td>3.980210</td>\n",
       "      <td>30.027721</td>\n",
       "      <td>-499.959206</td>\n",
       "      <td>27.022783</td>\n",
       "      <td>-500.014092</td>\n",
       "      <td>28.016530</td>\n",
       "      <td>-499.877837</td>\n",
       "      <td>22.037270</td>\n",
       "      <td>-499.966809</td>\n",
       "      <td>20.001789</td>\n",
       "      <td>-499.681450</td>\n",
       "      <td>14.975536</td>\n",
       "      <td>-499.388738</td>\n",
       "      <td>17.932223</td>\n",
       "      <td>-499.702452</td>\n",
       "      <td>11.997547</td>\n",
       "      <td>-499.914556</td>\n",
       "      <td>19.984175</td>\n",
       "      <td>-500.061431</td>\n",
       "    </tr>\n",
       "    <tr>\n",
       "      <th>75%</th>\n",
       "      <td>5.859540</td>\n",
       "      <td>11.170603</td>\n",
       "      <td>10.487508</td>\n",
       "      <td>46.166425</td>\n",
       "      <td>72.346428</td>\n",
       "      <td>11.003707</td>\n",
       "      <td>3.241723</td>\n",
       "      <td>11.933009</td>\n",
       "      <td>3.434764</td>\n",
       "      <td>159.825396</td>\n",
       "      <td>11.522173</td>\n",
       "      <td>7.700000</td>\n",
       "      <td>1.100933</td>\n",
       "      <td>9.504924</td>\n",
       "      <td>11.310817</td>\n",
       "      <td>13.052807</td>\n",
       "      <td>35.330145</td>\n",
       "      <td>18.450109</td>\n",
       "      <td>4.253218</td>\n",
       "      <td>8.910664</td>\n",
       "      <td>4.492470</td>\n",
       "      <td>1699.716408</td>\n",
       "      <td>-499.378551</td>\n",
       "      <td>1700.215351</td>\n",
       "      <td>-499.389658</td>\n",
       "      <td>1700.464037</td>\n",
       "      <td>-498.801774</td>\n",
       "      <td>1699.358771</td>\n",
       "      <td>-498.480341</td>\n",
       "      <td>4.776041e+04</td>\n",
       "      <td>3716.360822</td>\n",
       "      <td>3596.534806</td>\n",
       "      <td>2.660896</td>\n",
       "      <td>9.918304</td>\n",
       "      <td>4.226107</td>\n",
       "      <td>547.334973</td>\n",
       "      <td>66.080172</td>\n",
       "      <td>39.423265</td>\n",
       "      <td>9.066976</td>\n",
       "      <td>13.607115</td>\n",
       "      <td>6.602533</td>\n",
       "      <td>13.497134</td>\n",
       "      <td>6.699006</td>\n",
       "      <td>13.426419</td>\n",
       "      <td>8.601927</td>\n",
       "      <td>31.743913</td>\n",
       "      <td>21.392714</td>\n",
       "      <td>90.165021</td>\n",
       "      <td>6.310633</td>\n",
       "      <td>0.794326</td>\n",
       "      <td>19.938672</td>\n",
       "      <td>2.186790</td>\n",
       "      <td>1299.505513</td>\n",
       "      <td>-299.963153</td>\n",
       "      <td>1449.553689</td>\n",
       "      <td>-400.425493</td>\n",
       "      <td>1450.350668</td>\n",
       "      <td>-400.664736</td>\n",
       "      <td>1344.378462</td>\n",
       "      <td>-401.052891</td>\n",
       "      <td>1200.047746</td>\n",
       "      <td>-400.596104</td>\n",
       "      <td>1100.165435</td>\n",
       "      <td>-401.014951</td>\n",
       "      <td>17.230151</td>\n",
       "      <td>7.797948</td>\n",
       "      <td>10.547068</td>\n",
       "      <td>4.883943</td>\n",
       "      <td>34.893057</td>\n",
       "      <td>-499.593198</td>\n",
       "      <td>28.939454</td>\n",
       "      <td>-499.764112</td>\n",
       "      <td>34.990095</td>\n",
       "      <td>-436.923166</td>\n",
       "      <td>25.970365</td>\n",
       "      <td>-499.757501</td>\n",
       "      <td>24.990826</td>\n",
       "      <td>-477.472413</td>\n",
       "      <td>20.059375</td>\n",
       "      <td>-400.039008</td>\n",
       "      <td>21.346550</td>\n",
       "      <td>-487.712108</td>\n",
       "      <td>17.982903</td>\n",
       "      <td>-453.186936</td>\n",
       "      <td>24.991623</td>\n",
       "      <td>-499.536466</td>\n",
       "    </tr>\n",
       "    <tr>\n",
       "      <th>max</th>\n",
       "      <td>16.001945</td>\n",
       "      <td>17.031899</td>\n",
       "      <td>18.124851</td>\n",
       "      <td>52.756638</td>\n",
       "      <td>100.000000</td>\n",
       "      <td>19.552149</td>\n",
       "      <td>5.639565</td>\n",
       "      <td>22.317730</td>\n",
       "      <td>8.197408</td>\n",
       "      <td>250.127834</td>\n",
       "      <td>20.052255</td>\n",
       "      <td>10.470000</td>\n",
       "      <td>2.512968</td>\n",
       "      <td>16.081632</td>\n",
       "      <td>17.081278</td>\n",
       "      <td>22.280845</td>\n",
       "      <td>45.933934</td>\n",
       "      <td>29.459575</td>\n",
       "      <td>9.634565</td>\n",
       "      <td>20.620833</td>\n",
       "      <td>17.788925</td>\n",
       "      <td>2079.531340</td>\n",
       "      <td>-330.134203</td>\n",
       "      <td>2114.906758</td>\n",
       "      <td>-347.354380</td>\n",
       "      <td>2013.156457</td>\n",
       "      <td>-346.653450</td>\n",
       "      <td>2398.903635</td>\n",
       "      <td>-30.601828</td>\n",
       "      <td>3.428099e+06</td>\n",
       "      <td>629638.977914</td>\n",
       "      <td>718684.955855</td>\n",
       "      <td>39.379272</td>\n",
       "      <td>14.596026</td>\n",
       "      <td>7.142594</td>\n",
       "      <td>717.508837</td>\n",
       "      <td>484.967466</td>\n",
       "      <td>48.363177</td>\n",
       "      <td>13.126043</td>\n",
       "      <td>36.118275</td>\n",
       "      <td>9.703448</td>\n",
       "      <td>37.980648</td>\n",
       "      <td>9.698407</td>\n",
       "      <td>24.480271</td>\n",
       "      <td>13.617072</td>\n",
       "      <td>38.351193</td>\n",
       "      <td>28.146838</td>\n",
       "      <td>100.000000</td>\n",
       "      <td>12.719177</td>\n",
       "      <td>3.778064</td>\n",
       "      <td>66.117188</td>\n",
       "      <td>9.688980</td>\n",
       "      <td>1521.980372</td>\n",
       "      <td>-281.039299</td>\n",
       "      <td>1809.194008</td>\n",
       "      <td>-296.383080</td>\n",
       "      <td>2499.129174</td>\n",
       "      <td>-292.155509</td>\n",
       "      <td>1817.199290</td>\n",
       "      <td>-208.330673</td>\n",
       "      <td>1922.636637</td>\n",
       "      <td>-272.199598</td>\n",
       "      <td>1706.307502</td>\n",
       "      <td>-191.718480</td>\n",
       "      <td>23.264738</td>\n",
       "      <td>17.042505</td>\n",
       "      <td>17.976171</td>\n",
       "      <td>26.811643</td>\n",
       "      <td>52.651399</td>\n",
       "      <td>-127.875565</td>\n",
       "      <td>35.152122</td>\n",
       "      <td>-212.064665</td>\n",
       "      <td>44.260464</td>\n",
       "      <td>-191.678810</td>\n",
       "      <td>35.072841</td>\n",
       "      <td>-159.742331</td>\n",
       "      <td>30.115735</td>\n",
       "      <td>-245.239184</td>\n",
       "      <td>24.007913</td>\n",
       "      <td>-145.071088</td>\n",
       "      <td>43.709931</td>\n",
       "      <td>-275.073125</td>\n",
       "      <td>27.926001</td>\n",
       "      <td>-157.396071</td>\n",
       "      <td>32.188906</td>\n",
       "      <td>-104.427459</td>\n",
       "    </tr>\n",
       "  </tbody>\n",
       "</table>\n",
       "</div>"
      ],
      "text/plain": [
       "       final.output.concentrate_ag  final.output.concentrate_pb  \\\n",
       "count                 14148.000000                 14148.000000   \n",
       "mean                      5.142034                    10.132960   \n",
       "std                       1.369586                     1.654930   \n",
       "min                       0.000000                     0.000000   \n",
       "25%                       4.211620                     9.297355   \n",
       "50%                       4.994652                    10.297144   \n",
       "75%                       5.859540                    11.170603   \n",
       "max                      16.001945                    17.031899   \n",
       "\n",
       "       final.output.concentrate_sol  final.output.concentrate_au  \\\n",
       "count                  13938.000000                 14149.000000   \n",
       "mean                       9.202849                    44.003792   \n",
       "std                        2.790516                     4.905261   \n",
       "min                        0.000000                     0.000000   \n",
       "25%                        7.484645                    43.276111   \n",
       "50%                        8.845462                    44.872436   \n",
       "75%                       10.487508                    46.166425   \n",
       "max                       18.124851                    52.756638   \n",
       "\n",
       "       final.output.recovery  final.output.tail_ag  final.output.tail_pb  \\\n",
       "count           14149.000000          14149.000000          14049.000000   \n",
       "mean               66.518832              9.607035              2.597298   \n",
       "std                10.295402              2.319069              0.971843   \n",
       "min                 0.000000              0.000000              0.000000   \n",
       "25%                62.545817              7.997429              1.905973   \n",
       "50%                67.432775              9.480270              2.592022   \n",
       "75%                72.346428             11.003707              3.241723   \n",
       "max               100.000000             19.552149              5.639565   \n",
       "\n",
       "       final.output.tail_sol  final.output.tail_au  \\\n",
       "count           14144.000000          14149.000000   \n",
       "mean               10.512122              2.918421   \n",
       "std                 3.003617              0.903712   \n",
       "min                 0.000000              0.000000   \n",
       "25%                 8.811324              2.368607   \n",
       "50%                10.514621              2.851025   \n",
       "75%                11.933009              3.434764   \n",
       "max                22.317730              8.197408   \n",
       "\n",
       "       primary_cleaner.input.sulfate  primary_cleaner.input.depressant  \\\n",
       "count                   14129.000000                      14117.000000   \n",
       "mean                      133.320659                          8.866996   \n",
       "std                        39.431659                          3.361589   \n",
       "min                         0.003112                          0.000000   \n",
       "25%                       107.006651                          6.040604   \n",
       "50%                       133.018328                          8.035811   \n",
       "75%                       159.825396                         11.522173   \n",
       "max                       250.127834                         20.052255   \n",
       "\n",
       "       primary_cleaner.input.feed_size  primary_cleaner.input.xanthate  \\\n",
       "count                     14149.000000                    14049.000000   \n",
       "mean                          7.322310                        0.885588   \n",
       "std                           0.614062                        0.372714   \n",
       "min                           1.080000                        0.000005   \n",
       "25%                           6.960000                        0.607021   \n",
       "50%                           7.290000                        0.888749   \n",
       "75%                           7.700000                        1.100933   \n",
       "max                          10.470000                        2.512968   \n",
       "\n",
       "       primary_cleaner.output.concentrate_ag  \\\n",
       "count                           14149.000000   \n",
       "mean                                8.200916   \n",
       "std                                 2.005185   \n",
       "min                                 0.000000   \n",
       "25%                                 7.107126   \n",
       "50%                                 8.226247   \n",
       "75%                                 9.504924   \n",
       "max                                16.081632   \n",
       "\n",
       "       primary_cleaner.output.concentrate_pb  \\\n",
       "count                           14063.000000   \n",
       "mean                                9.588862   \n",
       "std                                 2.694296   \n",
       "min                                 0.000000   \n",
       "25%                                 8.333489   \n",
       "50%                                 9.933520   \n",
       "75%                                11.310817   \n",
       "max                                17.081278   \n",
       "\n",
       "       primary_cleaner.output.concentrate_sol  \\\n",
       "count                            13863.000000   \n",
       "mean                                10.114745   \n",
       "std                                  4.064076   \n",
       "min                                  0.000000   \n",
       "25%                                  7.488139   \n",
       "50%                                  9.726566   \n",
       "75%                                 13.052807   \n",
       "max                                 22.280845   \n",
       "\n",
       "       primary_cleaner.output.concentrate_au  primary_cleaner.output.tail_ag  \\\n",
       "count                           14149.000000                    14148.000000   \n",
       "mean                               32.386836                       16.303929   \n",
       "std                                 5.798843                        3.739843   \n",
       "min                                 0.000000                        0.000000   \n",
       "25%                                30.857764                       13.873147   \n",
       "50%                                33.225835                       15.800604   \n",
       "75%                                35.330145                       18.450109   \n",
       "max                                45.933934                       29.459575   \n",
       "\n",
       "       primary_cleaner.output.tail_pb  primary_cleaner.output.tail_sol  \\\n",
       "count                    14134.000000                     14103.000000   \n",
       "mean                         3.443398                         7.533566   \n",
       "std                          1.490106                         2.133220   \n",
       "min                          0.000000                         0.000000   \n",
       "25%                          2.420259                         6.332548   \n",
       "50%                          3.218374                         7.714419   \n",
       "75%                          4.253218                         8.910664   \n",
       "max                          9.634565                        20.620833   \n",
       "\n",
       "       primary_cleaner.output.tail_au  primary_cleaner.state.floatbank8_a_air  \\\n",
       "count                    14149.000000                            14145.000000   \n",
       "mean                         3.839637                             1608.000064   \n",
       "std                          1.603544                              128.394355   \n",
       "min                          0.000000                                0.006352   \n",
       "25%                          2.867957                             1595.695815   \n",
       "50%                          3.510337                             1601.824410   \n",
       "75%                          4.492470                             1699.716408   \n",
       "max                         17.788925                             2079.531340   \n",
       "\n",
       "       primary_cleaner.state.floatbank8_a_level  \\\n",
       "count                              14148.000000   \n",
       "mean                                -488.775525   \n",
       "std                                   35.704184   \n",
       "min                                 -798.641662   \n",
       "25%                                 -500.287952   \n",
       "50%                                 -499.909375   \n",
       "75%                                 -499.378551   \n",
       "max                                 -330.134203   \n",
       "\n",
       "       primary_cleaner.state.floatbank8_b_air  \\\n",
       "count                            14145.000000   \n",
       "mean                              1608.610983   \n",
       "std                                131.112729   \n",
       "min                                  0.008700   \n",
       "25%                               1558.959943   \n",
       "50%                               1601.818514   \n",
       "75%                               1700.215351   \n",
       "max                               2114.906758   \n",
       "\n",
       "       primary_cleaner.state.floatbank8_b_level  \\\n",
       "count                              14148.000000   \n",
       "mean                                -489.171786   \n",
       "std                                   33.604449   \n",
       "min                                 -740.122129   \n",
       "25%                                 -500.375645   \n",
       "50%                                 -499.938003   \n",
       "75%                                 -499.389658   \n",
       "max                                 -347.354380   \n",
       "\n",
       "       primary_cleaner.state.floatbank8_c_air  \\\n",
       "count                            14147.000000   \n",
       "mean                              1608.879407   \n",
       "std                                134.266898   \n",
       "min                                  0.015159   \n",
       "25%                               1549.871886   \n",
       "50%                               1601.574628   \n",
       "75%                               1700.464037   \n",
       "max                               2013.156457   \n",
       "\n",
       "       primary_cleaner.state.floatbank8_c_level  \\\n",
       "count                              14148.000000   \n",
       "mean                                -489.605549   \n",
       "std                                   35.624002   \n",
       "min                                 -799.803073   \n",
       "25%                                 -500.601718   \n",
       "50%                                 -499.871346   \n",
       "75%                                 -498.801774   \n",
       "max                                 -346.653450   \n",
       "\n",
       "       primary_cleaner.state.floatbank8_d_air  \\\n",
       "count                            14146.000000   \n",
       "mean                              1542.189963   \n",
       "std                                278.316132   \n",
       "min                                  0.008655   \n",
       "25%                               1452.678767   \n",
       "50%                               1600.168346   \n",
       "75%                               1699.358771   \n",
       "max                               2398.903635   \n",
       "\n",
       "       primary_cleaner.state.floatbank8_d_level  \\\n",
       "count                              14148.000000   \n",
       "mean                                -483.462423   \n",
       "std                                   47.100934   \n",
       "min                                 -799.788598   \n",
       "25%                                 -500.459917   \n",
       "50%                                 -499.831833   \n",
       "75%                                 -498.480341   \n",
       "max                                  -30.601828   \n",
       "\n",
       "       rougher.calculation.sulfate_to_au_concentrate  \\\n",
       "count                                   1.414800e+04   \n",
       "mean                                    4.038265e+04   \n",
       "std                                     3.801436e+05   \n",
       "min                                    -4.223520e+07   \n",
       "25%                                     3.999430e+04   \n",
       "50%                                     4.368431e+04   \n",
       "75%                                     4.776041e+04   \n",
       "max                                     3.428099e+06   \n",
       "\n",
       "       rougher.calculation.floatbank10_sulfate_to_au_feed  \\\n",
       "count                                       14148.000000    \n",
       "mean                                         3456.608298    \n",
       "std                                          5772.510248    \n",
       "min                                          -486.598675    \n",
       "25%                                          2527.093354    \n",
       "50%                                          2975.892211    \n",
       "75%                                          3716.360822    \n",
       "max                                        629638.977914    \n",
       "\n",
       "       rougher.calculation.floatbank11_sulfate_to_au_feed  \\\n",
       "count                                       14148.000000    \n",
       "mean                                         3253.356387    \n",
       "std                                          6753.290662    \n",
       "min                                          -264.982785    \n",
       "25%                                          2512.200873    \n",
       "50%                                          2899.807724    \n",
       "75%                                          3596.534806    \n",
       "max                                        718684.955855    \n",
       "\n",
       "       rougher.calculation.au_pb_ratio  rougher.input.feed_ag  \\\n",
       "count                     14149.000000           14149.000000   \n",
       "mean                          2.367314               8.579195   \n",
       "std                           0.873551               1.896284   \n",
       "min                          -0.010548               0.010000   \n",
       "25%                           1.999588               7.132802   \n",
       "50%                           2.249275               8.156092   \n",
       "75%                           2.660896               9.918304   \n",
       "max                          39.379272              14.596026   \n",
       "\n",
       "       rougher.input.feed_pb  rougher.input.feed_rate  \\\n",
       "count           14049.000000             14141.000000   \n",
       "mean                3.522778               474.027714   \n",
       "std                 1.073394               104.039838   \n",
       "min                 0.010000                 0.012786   \n",
       "25%                 2.780010               420.781913   \n",
       "50%                 3.422677               499.454777   \n",
       "75%                 4.226107               547.334973   \n",
       "max                 7.142594               717.508837   \n",
       "\n",
       "       rougher.input.feed_size  rougher.input.feed_sol  rougher.input.feed_au  \\\n",
       "count             14005.000000            14071.000000           14149.000000   \n",
       "mean                 60.110518               36.312593               7.866577   \n",
       "std                  22.418485                4.956057               1.919506   \n",
       "min                   9.659576                0.010000               0.010000   \n",
       "25%                  48.973027               34.117635               6.596217   \n",
       "50%                  55.373885               37.020345               7.649138   \n",
       "75%                  66.080172               39.423265               9.066976   \n",
       "max                 484.967466               48.363177              13.126043   \n",
       "\n",
       "       rougher.input.floatbank10_sulfate  rougher.input.floatbank10_xanthate  \\\n",
       "count                       14120.000000                        14141.000000   \n",
       "mean                           11.764931                            5.854529   \n",
       "std                             3.278813                            1.104263   \n",
       "min                             0.001083                            0.001428   \n",
       "25%                             9.861100                            5.117359   \n",
       "50%                            11.688702                            5.951071   \n",
       "75%                            13.607115                            6.602533   \n",
       "max                            36.118275                            9.703448   \n",
       "\n",
       "       rougher.input.floatbank11_sulfate  rougher.input.floatbank11_xanthate  \\\n",
       "count                       14113.000000                        13721.000000   \n",
       "mean                           11.368685                            5.894176   \n",
       "std                             3.743672                            1.124233   \n",
       "min                             0.000098                            0.000290   \n",
       "25%                             9.505507                            5.199168   \n",
       "50%                            11.384283                            5.998460   \n",
       "75%                            13.497134                            6.699006   \n",
       "max                            37.980648                            9.698407   \n",
       "\n",
       "       rougher.output.concentrate_ag  rougher.output.concentrate_pb  \\\n",
       "count                   14149.000000                   14149.000000   \n",
       "mean                       11.775812                       7.664555   \n",
       "std                         2.731747                       1.856279   \n",
       "min                         0.000000                       0.000000   \n",
       "25%                        10.486871                       6.850501   \n",
       "50%                        11.747362                       7.760435   \n",
       "75%                        13.426419                       8.601927   \n",
       "max                        24.480271                      13.617072   \n",
       "\n",
       "       rougher.output.concentrate_sol  rougher.output.concentrate_au  \\\n",
       "count                    14127.000000                   14149.000000   \n",
       "mean                        28.302715                      19.439958   \n",
       "std                          6.102982                       3.765192   \n",
       "min                          0.000000                       0.000000   \n",
       "25%                         26.703554                      18.432161   \n",
       "50%                         29.257545                      19.947312   \n",
       "75%                         31.743913                      21.392714   \n",
       "max                         38.351193                      28.146838   \n",
       "\n",
       "       rougher.output.recovery  rougher.output.tail_ag  \\\n",
       "count             14149.000000            14148.000000   \n",
       "mean                 82.704502                5.567124   \n",
       "std                  14.479156                1.039136   \n",
       "min                   0.000000                0.594562   \n",
       "25%                  79.993067                4.921647   \n",
       "50%                  85.299462                5.722018   \n",
       "75%                  90.165021                6.310633   \n",
       "max                 100.000000               12.719177   \n",
       "\n",
       "       rougher.output.tail_pb  rougher.output.tail_sol  \\\n",
       "count            14149.000000             14149.000000   \n",
       "mean                 0.653277                17.882853   \n",
       "std                  0.263766                 3.432859   \n",
       "min                  0.007566                10.014648   \n",
       "25%                  0.474047                15.688727   \n",
       "50%                  0.625805                18.015894   \n",
       "75%                  0.794326                19.938672   \n",
       "max                  3.778064                66.117188   \n",
       "\n",
       "       rougher.output.tail_au  rougher.state.floatbank10_a_air  \\\n",
       "count            14149.000000                     14148.000000   \n",
       "mean                 1.757473                      1124.726280   \n",
       "std                  0.713187                       169.310825   \n",
       "min                  0.020676                        -0.041078   \n",
       "25%                  1.310800                       999.799166   \n",
       "50%                  1.745513                      1001.685708   \n",
       "75%                  2.186790                      1299.505513   \n",
       "max                  9.688980                      1521.980372   \n",
       "\n",
       "       rougher.state.floatbank10_a_level  rougher.state.floatbank10_b_air  \\\n",
       "count                       14148.000000                     14148.000000   \n",
       "mean                         -369.460950                      1320.705069   \n",
       "std                            93.952787                       183.155975   \n",
       "min                          -650.202881                        -0.653384   \n",
       "25%                          -499.787867                      1199.366448   \n",
       "50%                          -300.175125                      1301.365123   \n",
       "75%                          -299.963153                      1449.553689   \n",
       "max                          -281.039299                      1809.194008   \n",
       "\n",
       "       rougher.state.floatbank10_b_level  rougher.state.floatbank10_c_air  \\\n",
       "count                       14148.000000                     14148.000000   \n",
       "mean                         -464.258983                      1299.360578   \n",
       "std                            57.401954                       213.404094   \n",
       "min                          -650.260008                        -0.035112   \n",
       "25%                          -500.183028                      1103.095071   \n",
       "50%                          -499.764620                      1300.213385   \n",
       "75%                          -400.425493                      1450.350668   \n",
       "max                          -296.383080                      2499.129174   \n",
       "\n",
       "       rougher.state.floatbank10_c_level  rougher.state.floatbank10_d_air  \\\n",
       "count                       14148.000000                     14149.000000   \n",
       "mean                         -465.054849                      1210.335236   \n",
       "std                            55.904716                       210.431555   \n",
       "min                          -640.995627                        -0.554299   \n",
       "25%                          -500.211863                      1059.708509   \n",
       "50%                          -499.682528                      1200.744308   \n",
       "75%                          -400.664736                      1344.378462   \n",
       "max                          -292.155509                      1817.199290   \n",
       "\n",
       "       rougher.state.floatbank10_d_level  rougher.state.floatbank10_e_air  \\\n",
       "count                       14149.000000                     13713.000000   \n",
       "mean                         -465.457377                      1090.213187   \n",
       "std                            55.771393                       184.610118   \n",
       "min                          -640.519003                        -1.970275   \n",
       "25%                          -500.359197                       997.183864   \n",
       "50%                          -499.465285                      1050.496363   \n",
       "75%                          -401.052891                      1200.047746   \n",
       "max                          -208.330673                      1922.636637   \n",
       "\n",
       "       rougher.state.floatbank10_e_level  rougher.state.floatbank10_f_air  \\\n",
       "count                       14149.000000                     14149.000000   \n",
       "mean                         -464.919119                      1035.490299   \n",
       "std                            56.602962                       175.052279   \n",
       "min                          -649.443911                        -2.430587   \n",
       "25%                          -500.250033                       900.966986   \n",
       "50%                          -499.611447                      1000.053757   \n",
       "75%                          -400.596104                      1100.165435   \n",
       "max                          -272.199598                      1706.307502   \n",
       "\n",
       "       rougher.state.floatbank10_f_level  secondary_cleaner.output.tail_ag  \\\n",
       "count                       14149.000000                      14147.000000   \n",
       "mean                         -464.688631                         14.281629   \n",
       "std                            56.645965                          4.477126   \n",
       "min                          -649.880981                          0.000000   \n",
       "25%                          -500.476526                         12.177364   \n",
       "50%                          -499.364335                         15.357951   \n",
       "75%                          -401.014951                         17.230151   \n",
       "max                          -191.718480                         23.264738   \n",
       "\n",
       "       secondary_cleaner.output.tail_pb  secondary_cleaner.output.tail_sol  \\\n",
       "count                      14139.000000                       12544.000000   \n",
       "mean                           5.848863                           6.938693   \n",
       "std                            2.861799                           4.155487   \n",
       "min                            0.000000                           0.000000   \n",
       "25%                            3.982298                           3.225486   \n",
       "50%                            5.442310                           7.302639   \n",
       "75%                            7.797948                          10.547068   \n",
       "max                           17.042505                          17.976171   \n",
       "\n",
       "       secondary_cleaner.output.tail_au  \\\n",
       "count                      14149.000000   \n",
       "mean                           4.246961   \n",
       "std                            2.389060   \n",
       "min                            0.000000   \n",
       "25%                            3.153122   \n",
       "50%                            3.980210   \n",
       "75%                            4.883943   \n",
       "max                           26.811643   \n",
       "\n",
       "       secondary_cleaner.state.floatbank2_a_air  \\\n",
       "count                              13932.000000   \n",
       "mean                                  29.613649   \n",
       "std                                    5.800494   \n",
       "min                                    0.077503   \n",
       "25%                                   25.099584   \n",
       "50%                                   30.027721   \n",
       "75%                                   34.893057   \n",
       "max                                   52.651399   \n",
       "\n",
       "       secondary_cleaner.state.floatbank2_a_level  \\\n",
       "count                                14148.000000   \n",
       "mean                                  -502.223914   \n",
       "std                                     60.281705   \n",
       "min                                   -799.606441   \n",
       "25%                                   -500.248814   \n",
       "50%                                   -499.959206   \n",
       "75%                                   -499.593198   \n",
       "max                                   -127.875565   \n",
       "\n",
       "       secondary_cleaner.state.floatbank2_b_air  \\\n",
       "count                              14128.000000   \n",
       "mean                                  24.914403   \n",
       "std                                    5.994959   \n",
       "min                                    0.000000   \n",
       "25%                                   22.048294   \n",
       "50%                                   27.022783   \n",
       "75%                                   28.939454   \n",
       "max                                   35.152122   \n",
       "\n",
       "       secondary_cleaner.state.floatbank2_b_level  \\\n",
       "count                                14148.000000   \n",
       "mean                                  -503.695706   \n",
       "std                                     62.837357   \n",
       "min                                   -799.873878   \n",
       "25%                                   -500.270997   \n",
       "50%                                   -500.014092   \n",
       "75%                                   -499.764112   \n",
       "max                                   -212.064665   \n",
       "\n",
       "       secondary_cleaner.state.floatbank3_a_air  \\\n",
       "count                              14145.000000   \n",
       "mean                                  29.243372   \n",
       "std                                    5.637309   \n",
       "min                                    0.000000   \n",
       "25%                                   24.991662   \n",
       "50%                                   28.016530   \n",
       "75%                                   34.990095   \n",
       "max                                   44.260464   \n",
       "\n",
       "       secondary_cleaner.state.floatbank3_a_level  \\\n",
       "count                                14148.000000   \n",
       "mean                                  -478.244059   \n",
       "std                                     54.655143   \n",
       "min                                   -799.613013   \n",
       "25%                                   -500.175065   \n",
       "50%                                   -499.877837   \n",
       "75%                                   -436.923166   \n",
       "max                                   -191.678810   \n",
       "\n",
       "       secondary_cleaner.state.floatbank3_b_air  \\\n",
       "count                              14148.000000   \n",
       "mean                                  22.656261   \n",
       "std                                    4.996017   \n",
       "min                                    0.000000   \n",
       "25%                                   19.948436   \n",
       "50%                                   22.037270   \n",
       "75%                                   25.970365   \n",
       "max                                   35.072841   \n",
       "\n",
       "       secondary_cleaner.state.floatbank3_b_level  \\\n",
       "count                                14148.000000   \n",
       "mean                                  -488.924046   \n",
       "std                                     41.928112   \n",
       "min                                   -759.177381   \n",
       "25%                                   -500.110581   \n",
       "50%                                   -499.966809   \n",
       "75%                                   -499.757501   \n",
       "max                                   -159.742331   \n",
       "\n",
       "       secondary_cleaner.state.floatbank4_a_air  \\\n",
       "count                              14143.000000   \n",
       "mean                                  19.985454   \n",
       "std                                    5.657723   \n",
       "min                                    0.000000   \n",
       "25%                                   14.990775   \n",
       "50%                                   20.001789   \n",
       "75%                                   24.990826   \n",
       "max                                   30.115735   \n",
       "\n",
       "       secondary_cleaner.state.floatbank4_a_level  \\\n",
       "count                                14148.000000   \n",
       "mean                                  -478.696836   \n",
       "std                                     50.736021   \n",
       "min                                   -799.709069   \n",
       "25%                                   -500.628656   \n",
       "50%                                   -499.681450   \n",
       "75%                                   -477.472413   \n",
       "max                                   -245.239184   \n",
       "\n",
       "       secondary_cleaner.state.floatbank4_b_air  \\\n",
       "count                              14148.000000   \n",
       "mean                                  15.487065   \n",
       "std                                    5.255655   \n",
       "min                                    0.000000   \n",
       "25%                                   11.894558   \n",
       "50%                                   14.975536   \n",
       "75%                                   20.059375   \n",
       "max                                   24.007913   \n",
       "\n",
       "       secondary_cleaner.state.floatbank4_b_level  \\\n",
       "count                                14148.000000   \n",
       "mean                                  -460.229416   \n",
       "std                                     58.843586   \n",
       "min                                   -799.889113   \n",
       "25%                                   -500.149000   \n",
       "50%                                   -499.388738   \n",
       "75%                                   -400.039008   \n",
       "max                                   -145.071088   \n",
       "\n",
       "       secondary_cleaner.state.floatbank5_a_air  \\\n",
       "count                              14148.000000   \n",
       "mean                                  16.775136   \n",
       "std                                    5.831906   \n",
       "min                                   -0.372054   \n",
       "25%                                   11.083980   \n",
       "50%                                   17.932223   \n",
       "75%                                   21.346550   \n",
       "max                                   43.709931   \n",
       "\n",
       "       secondary_cleaner.state.floatbank5_a_level  \\\n",
       "count                                14148.000000   \n",
       "mean                                  -483.956022   \n",
       "std                                     37.892788   \n",
       "min                                   -797.142475   \n",
       "25%                                   -500.363177   \n",
       "50%                                   -499.702452   \n",
       "75%                                   -487.712108   \n",
       "max                                   -275.073125   \n",
       "\n",
       "       secondary_cleaner.state.floatbank5_b_air  \\\n",
       "count                              14148.000000   \n",
       "mean                                  13.064590   \n",
       "std                                    5.765617   \n",
       "min                                    0.646208   \n",
       "25%                                    8.994405   \n",
       "50%                                   11.997547   \n",
       "75%                                   17.982903   \n",
       "max                                   27.926001   \n",
       "\n",
       "       secondary_cleaner.state.floatbank5_b_level  \\\n",
       "count                                14148.000000   \n",
       "mean                                  -483.966564   \n",
       "std                                     39.207913   \n",
       "min                                   -800.006180   \n",
       "25%                                   -500.105994   \n",
       "50%                                   -499.914556   \n",
       "75%                                   -453.186936   \n",
       "max                                   -157.396071   \n",
       "\n",
       "       secondary_cleaner.state.floatbank6_a_air  \\\n",
       "count                              14147.000000   \n",
       "mean                                  19.577539   \n",
       "std                                    5.764417   \n",
       "min                                    0.195324   \n",
       "25%                                   14.989304   \n",
       "50%                                   19.984175   \n",
       "75%                                   24.991623   \n",
       "max                                   32.188906   \n",
       "\n",
       "       secondary_cleaner.state.floatbank6_a_level  \n",
       "count                                14148.000000  \n",
       "mean                                  -506.798480  \n",
       "std                                     37.079249  \n",
       "min                                   -809.398668  \n",
       "25%                                   -500.745104  \n",
       "50%                                   -500.061431  \n",
       "75%                                   -499.536466  \n",
       "max                                   -104.427459  "
      ]
     },
     "metadata": {},
     "output_type": "display_data"
    },
    {
     "name": "stdout",
     "output_type": "stream",
     "text": [
      "<class 'pandas.core.frame.DataFrame'>\n",
      "RangeIndex: 14149 entries, 0 to 14148\n",
      "Data columns (total 87 columns):\n",
      " #   Column                                              Non-Null Count  Dtype  \n",
      "---  ------                                              --------------  -----  \n",
      " 0   date                                                14149 non-null  object \n",
      " 1   final.output.concentrate_ag                         14148 non-null  float64\n",
      " 2   final.output.concentrate_pb                         14148 non-null  float64\n",
      " 3   final.output.concentrate_sol                        13938 non-null  float64\n",
      " 4   final.output.concentrate_au                         14149 non-null  float64\n",
      " 5   final.output.recovery                               14149 non-null  float64\n",
      " 6   final.output.tail_ag                                14149 non-null  float64\n",
      " 7   final.output.tail_pb                                14049 non-null  float64\n",
      " 8   final.output.tail_sol                               14144 non-null  float64\n",
      " 9   final.output.tail_au                                14149 non-null  float64\n",
      " 10  primary_cleaner.input.sulfate                       14129 non-null  float64\n",
      " 11  primary_cleaner.input.depressant                    14117 non-null  float64\n",
      " 12  primary_cleaner.input.feed_size                     14149 non-null  float64\n",
      " 13  primary_cleaner.input.xanthate                      14049 non-null  float64\n",
      " 14  primary_cleaner.output.concentrate_ag               14149 non-null  float64\n",
      " 15  primary_cleaner.output.concentrate_pb               14063 non-null  float64\n",
      " 16  primary_cleaner.output.concentrate_sol              13863 non-null  float64\n",
      " 17  primary_cleaner.output.concentrate_au               14149 non-null  float64\n",
      " 18  primary_cleaner.output.tail_ag                      14148 non-null  float64\n",
      " 19  primary_cleaner.output.tail_pb                      14134 non-null  float64\n",
      " 20  primary_cleaner.output.tail_sol                     14103 non-null  float64\n",
      " 21  primary_cleaner.output.tail_au                      14149 non-null  float64\n",
      " 22  primary_cleaner.state.floatbank8_a_air              14145 non-null  float64\n",
      " 23  primary_cleaner.state.floatbank8_a_level            14148 non-null  float64\n",
      " 24  primary_cleaner.state.floatbank8_b_air              14145 non-null  float64\n",
      " 25  primary_cleaner.state.floatbank8_b_level            14148 non-null  float64\n",
      " 26  primary_cleaner.state.floatbank8_c_air              14147 non-null  float64\n",
      " 27  primary_cleaner.state.floatbank8_c_level            14148 non-null  float64\n",
      " 28  primary_cleaner.state.floatbank8_d_air              14146 non-null  float64\n",
      " 29  primary_cleaner.state.floatbank8_d_level            14148 non-null  float64\n",
      " 30  rougher.calculation.sulfate_to_au_concentrate       14148 non-null  float64\n",
      " 31  rougher.calculation.floatbank10_sulfate_to_au_feed  14148 non-null  float64\n",
      " 32  rougher.calculation.floatbank11_sulfate_to_au_feed  14148 non-null  float64\n",
      " 33  rougher.calculation.au_pb_ratio                     14149 non-null  float64\n",
      " 34  rougher.input.feed_ag                               14149 non-null  float64\n",
      " 35  rougher.input.feed_pb                               14049 non-null  float64\n",
      " 36  rougher.input.feed_rate                             14141 non-null  float64\n",
      " 37  rougher.input.feed_size                             14005 non-null  float64\n",
      " 38  rougher.input.feed_sol                              14071 non-null  float64\n",
      " 39  rougher.input.feed_au                               14149 non-null  float64\n",
      " 40  rougher.input.floatbank10_sulfate                   14120 non-null  float64\n",
      " 41  rougher.input.floatbank10_xanthate                  14141 non-null  float64\n",
      " 42  rougher.input.floatbank11_sulfate                   14113 non-null  float64\n",
      " 43  rougher.input.floatbank11_xanthate                  13721 non-null  float64\n",
      " 44  rougher.output.concentrate_ag                       14149 non-null  float64\n",
      " 45  rougher.output.concentrate_pb                       14149 non-null  float64\n",
      " 46  rougher.output.concentrate_sol                      14127 non-null  float64\n",
      " 47  rougher.output.concentrate_au                       14149 non-null  float64\n",
      " 48  rougher.output.recovery                             14149 non-null  float64\n",
      " 49  rougher.output.tail_ag                              14148 non-null  float64\n",
      " 50  rougher.output.tail_pb                              14149 non-null  float64\n",
      " 51  rougher.output.tail_sol                             14149 non-null  float64\n",
      " 52  rougher.output.tail_au                              14149 non-null  float64\n",
      " 53  rougher.state.floatbank10_a_air                     14148 non-null  float64\n",
      " 54  rougher.state.floatbank10_a_level                   14148 non-null  float64\n",
      " 55  rougher.state.floatbank10_b_air                     14148 non-null  float64\n",
      " 56  rougher.state.floatbank10_b_level                   14148 non-null  float64\n",
      " 57  rougher.state.floatbank10_c_air                     14148 non-null  float64\n",
      " 58  rougher.state.floatbank10_c_level                   14148 non-null  float64\n",
      " 59  rougher.state.floatbank10_d_air                     14149 non-null  float64\n",
      " 60  rougher.state.floatbank10_d_level                   14149 non-null  float64\n",
      " 61  rougher.state.floatbank10_e_air                     13713 non-null  float64\n",
      " 62  rougher.state.floatbank10_e_level                   14149 non-null  float64\n",
      " 63  rougher.state.floatbank10_f_air                     14149 non-null  float64\n",
      " 64  rougher.state.floatbank10_f_level                   14149 non-null  float64\n",
      " 65  secondary_cleaner.output.tail_ag                    14147 non-null  float64\n",
      " 66  secondary_cleaner.output.tail_pb                    14139 non-null  float64\n",
      " 67  secondary_cleaner.output.tail_sol                   12544 non-null  float64\n",
      " 68  secondary_cleaner.output.tail_au                    14149 non-null  float64\n",
      " 69  secondary_cleaner.state.floatbank2_a_air            13932 non-null  float64\n",
      " 70  secondary_cleaner.state.floatbank2_a_level          14148 non-null  float64\n",
      " 71  secondary_cleaner.state.floatbank2_b_air            14128 non-null  float64\n",
      " 72  secondary_cleaner.state.floatbank2_b_level          14148 non-null  float64\n",
      " 73  secondary_cleaner.state.floatbank3_a_air            14145 non-null  float64\n",
      " 74  secondary_cleaner.state.floatbank3_a_level          14148 non-null  float64\n",
      " 75  secondary_cleaner.state.floatbank3_b_air            14148 non-null  float64\n",
      " 76  secondary_cleaner.state.floatbank3_b_level          14148 non-null  float64\n",
      " 77  secondary_cleaner.state.floatbank4_a_air            14143 non-null  float64\n",
      " 78  secondary_cleaner.state.floatbank4_a_level          14148 non-null  float64\n",
      " 79  secondary_cleaner.state.floatbank4_b_air            14148 non-null  float64\n",
      " 80  secondary_cleaner.state.floatbank4_b_level          14148 non-null  float64\n",
      " 81  secondary_cleaner.state.floatbank5_a_air            14148 non-null  float64\n",
      " 82  secondary_cleaner.state.floatbank5_a_level          14148 non-null  float64\n",
      " 83  secondary_cleaner.state.floatbank5_b_air            14148 non-null  float64\n",
      " 84  secondary_cleaner.state.floatbank5_b_level          14148 non-null  float64\n",
      " 85  secondary_cleaner.state.floatbank6_a_air            14147 non-null  float64\n",
      " 86  secondary_cleaner.state.floatbank6_a_level          14148 non-null  float64\n",
      "dtypes: float64(86), object(1)\n",
      "memory usage: 9.4+ MB\n"
     ]
    }
   ],
   "source": [
    "print('Тренировочная выборка')\n",
    "print('')\n",
    "read_data(train)"
   ]
  },
  {
   "cell_type": "code",
   "execution_count": 6,
   "metadata": {
    "scrolled": false
   },
   "outputs": [
    {
     "name": "stdout",
     "output_type": "stream",
     "text": [
      "Тестовая выборка\n",
      "Количество стобцов: 53\n",
      "Количество строк: 5290\n",
      "Количество дупликатов 0\n"
     ]
    },
    {
     "data": {
      "text/html": [
       "<div>\n",
       "<style scoped>\n",
       "    .dataframe tbody tr th:only-of-type {\n",
       "        vertical-align: middle;\n",
       "    }\n",
       "\n",
       "    .dataframe tbody tr th {\n",
       "        vertical-align: top;\n",
       "    }\n",
       "\n",
       "    .dataframe thead th {\n",
       "        text-align: right;\n",
       "    }\n",
       "</style>\n",
       "<table border=\"1\" class=\"dataframe\">\n",
       "  <thead>\n",
       "    <tr style=\"text-align: right;\">\n",
       "      <th></th>\n",
       "      <th>date</th>\n",
       "      <th>primary_cleaner.input.sulfate</th>\n",
       "      <th>primary_cleaner.input.depressant</th>\n",
       "      <th>primary_cleaner.input.feed_size</th>\n",
       "      <th>primary_cleaner.input.xanthate</th>\n",
       "      <th>primary_cleaner.state.floatbank8_a_air</th>\n",
       "      <th>primary_cleaner.state.floatbank8_a_level</th>\n",
       "      <th>primary_cleaner.state.floatbank8_b_air</th>\n",
       "      <th>primary_cleaner.state.floatbank8_b_level</th>\n",
       "      <th>primary_cleaner.state.floatbank8_c_air</th>\n",
       "      <th>primary_cleaner.state.floatbank8_c_level</th>\n",
       "      <th>primary_cleaner.state.floatbank8_d_air</th>\n",
       "      <th>primary_cleaner.state.floatbank8_d_level</th>\n",
       "      <th>rougher.input.feed_ag</th>\n",
       "      <th>rougher.input.feed_pb</th>\n",
       "      <th>rougher.input.feed_rate</th>\n",
       "      <th>rougher.input.feed_size</th>\n",
       "      <th>rougher.input.feed_sol</th>\n",
       "      <th>rougher.input.feed_au</th>\n",
       "      <th>rougher.input.floatbank10_sulfate</th>\n",
       "      <th>rougher.input.floatbank10_xanthate</th>\n",
       "      <th>rougher.input.floatbank11_sulfate</th>\n",
       "      <th>rougher.input.floatbank11_xanthate</th>\n",
       "      <th>rougher.state.floatbank10_a_air</th>\n",
       "      <th>rougher.state.floatbank10_a_level</th>\n",
       "      <th>rougher.state.floatbank10_b_air</th>\n",
       "      <th>rougher.state.floatbank10_b_level</th>\n",
       "      <th>rougher.state.floatbank10_c_air</th>\n",
       "      <th>rougher.state.floatbank10_c_level</th>\n",
       "      <th>rougher.state.floatbank10_d_air</th>\n",
       "      <th>rougher.state.floatbank10_d_level</th>\n",
       "      <th>rougher.state.floatbank10_e_air</th>\n",
       "      <th>rougher.state.floatbank10_e_level</th>\n",
       "      <th>rougher.state.floatbank10_f_air</th>\n",
       "      <th>rougher.state.floatbank10_f_level</th>\n",
       "      <th>secondary_cleaner.state.floatbank2_a_air</th>\n",
       "      <th>secondary_cleaner.state.floatbank2_a_level</th>\n",
       "      <th>secondary_cleaner.state.floatbank2_b_air</th>\n",
       "      <th>secondary_cleaner.state.floatbank2_b_level</th>\n",
       "      <th>secondary_cleaner.state.floatbank3_a_air</th>\n",
       "      <th>secondary_cleaner.state.floatbank3_a_level</th>\n",
       "      <th>secondary_cleaner.state.floatbank3_b_air</th>\n",
       "      <th>secondary_cleaner.state.floatbank3_b_level</th>\n",
       "      <th>secondary_cleaner.state.floatbank4_a_air</th>\n",
       "      <th>secondary_cleaner.state.floatbank4_a_level</th>\n",
       "      <th>secondary_cleaner.state.floatbank4_b_air</th>\n",
       "      <th>secondary_cleaner.state.floatbank4_b_level</th>\n",
       "      <th>secondary_cleaner.state.floatbank5_a_air</th>\n",
       "      <th>secondary_cleaner.state.floatbank5_a_level</th>\n",
       "      <th>secondary_cleaner.state.floatbank5_b_air</th>\n",
       "      <th>secondary_cleaner.state.floatbank5_b_level</th>\n",
       "      <th>secondary_cleaner.state.floatbank6_a_air</th>\n",
       "      <th>secondary_cleaner.state.floatbank6_a_level</th>\n",
       "    </tr>\n",
       "  </thead>\n",
       "  <tbody>\n",
       "    <tr>\n",
       "      <th>0</th>\n",
       "      <td>2016-09-01 00:59:59</td>\n",
       "      <td>210.800909</td>\n",
       "      <td>14.993118</td>\n",
       "      <td>8.080000</td>\n",
       "      <td>1.005021</td>\n",
       "      <td>1398.981301</td>\n",
       "      <td>-500.225577</td>\n",
       "      <td>1399.144926</td>\n",
       "      <td>-499.919735</td>\n",
       "      <td>1400.102998</td>\n",
       "      <td>-500.704369</td>\n",
       "      <td>1399.001695</td>\n",
       "      <td>-499.485144</td>\n",
       "      <td>13.128569</td>\n",
       "      <td>5.636710</td>\n",
       "      <td>489.793655</td>\n",
       "      <td>62.710452</td>\n",
       "      <td>42.022440</td>\n",
       "      <td>12.084103</td>\n",
       "      <td>16.922877</td>\n",
       "      <td>6.153479</td>\n",
       "      <td>16.867518</td>\n",
       "      <td>6.150709</td>\n",
       "      <td>1001.849317</td>\n",
       "      <td>-350.301265</td>\n",
       "      <td>1249.738612</td>\n",
       "      <td>-399.107531</td>\n",
       "      <td>1249.750520</td>\n",
       "      <td>-399.396730</td>\n",
       "      <td>1198.287855</td>\n",
       "      <td>-399.488594</td>\n",
       "      <td>999.472250</td>\n",
       "      <td>-399.530962</td>\n",
       "      <td>949.566189</td>\n",
       "      <td>-398.180807</td>\n",
       "      <td>24.938200</td>\n",
       "      <td>-500.490963</td>\n",
       "      <td>14.947607</td>\n",
       "      <td>-500.013837</td>\n",
       "      <td>20.018166</td>\n",
       "      <td>-450.395995</td>\n",
       "      <td>13.987058</td>\n",
       "      <td>-449.831513</td>\n",
       "      <td>12.023554</td>\n",
       "      <td>-497.795834</td>\n",
       "      <td>8.016656</td>\n",
       "      <td>-501.289139</td>\n",
       "      <td>7.946562</td>\n",
       "      <td>-432.317850</td>\n",
       "      <td>4.872511</td>\n",
       "      <td>-500.037437</td>\n",
       "      <td>26.705889</td>\n",
       "      <td>-499.709414</td>\n",
       "    </tr>\n",
       "    <tr>\n",
       "      <th>1</th>\n",
       "      <td>2016-09-01 01:59:59</td>\n",
       "      <td>215.392455</td>\n",
       "      <td>14.987471</td>\n",
       "      <td>8.080000</td>\n",
       "      <td>0.990469</td>\n",
       "      <td>1398.777912</td>\n",
       "      <td>-500.057435</td>\n",
       "      <td>1398.055362</td>\n",
       "      <td>-499.778182</td>\n",
       "      <td>1396.151033</td>\n",
       "      <td>-499.240168</td>\n",
       "      <td>1399.508091</td>\n",
       "      <td>-500.416324</td>\n",
       "      <td>13.036280</td>\n",
       "      <td>5.526065</td>\n",
       "      <td>490.104534</td>\n",
       "      <td>61.961163</td>\n",
       "      <td>41.187903</td>\n",
       "      <td>11.918977</td>\n",
       "      <td>17.002532</td>\n",
       "      <td>5.999043</td>\n",
       "      <td>16.996063</td>\n",
       "      <td>6.002315</td>\n",
       "      <td>998.690785</td>\n",
       "      <td>-350.425704</td>\n",
       "      <td>1248.395457</td>\n",
       "      <td>-399.946025</td>\n",
       "      <td>1249.514451</td>\n",
       "      <td>-399.630810</td>\n",
       "      <td>1200.506459</td>\n",
       "      <td>-399.942434</td>\n",
       "      <td>1000.002114</td>\n",
       "      <td>-399.491528</td>\n",
       "      <td>950.200009</td>\n",
       "      <td>-405.787514</td>\n",
       "      <td>24.923466</td>\n",
       "      <td>-499.813963</td>\n",
       "      <td>14.930873</td>\n",
       "      <td>-500.764452</td>\n",
       "      <td>19.988503</td>\n",
       "      <td>-450.114024</td>\n",
       "      <td>14.092981</td>\n",
       "      <td>-450.059163</td>\n",
       "      <td>12.058140</td>\n",
       "      <td>-498.695773</td>\n",
       "      <td>8.130979</td>\n",
       "      <td>-499.634209</td>\n",
       "      <td>7.958270</td>\n",
       "      <td>-525.839648</td>\n",
       "      <td>4.878850</td>\n",
       "      <td>-500.162375</td>\n",
       "      <td>25.019940</td>\n",
       "      <td>-499.819438</td>\n",
       "    </tr>\n",
       "    <tr>\n",
       "      <th>2</th>\n",
       "      <td>2016-09-01 02:59:59</td>\n",
       "      <td>215.259946</td>\n",
       "      <td>12.884934</td>\n",
       "      <td>7.786667</td>\n",
       "      <td>0.996043</td>\n",
       "      <td>1398.493666</td>\n",
       "      <td>-500.868360</td>\n",
       "      <td>1398.860436</td>\n",
       "      <td>-499.764529</td>\n",
       "      <td>1398.075709</td>\n",
       "      <td>-502.151509</td>\n",
       "      <td>1399.497088</td>\n",
       "      <td>-499.715479</td>\n",
       "      <td>13.138412</td>\n",
       "      <td>5.426561</td>\n",
       "      <td>489.617969</td>\n",
       "      <td>66.903807</td>\n",
       "      <td>42.546294</td>\n",
       "      <td>12.091332</td>\n",
       "      <td>16.992520</td>\n",
       "      <td>5.850632</td>\n",
       "      <td>16.982096</td>\n",
       "      <td>5.853594</td>\n",
       "      <td>998.516720</td>\n",
       "      <td>-349.783538</td>\n",
       "      <td>1247.440748</td>\n",
       "      <td>-400.264330</td>\n",
       "      <td>1248.207204</td>\n",
       "      <td>-401.074405</td>\n",
       "      <td>1199.770026</td>\n",
       "      <td>-400.790582</td>\n",
       "      <td>999.925519</td>\n",
       "      <td>-399.236999</td>\n",
       "      <td>950.320481</td>\n",
       "      <td>-400.864340</td>\n",
       "      <td>24.908732</td>\n",
       "      <td>-500.304035</td>\n",
       "      <td>14.996511</td>\n",
       "      <td>-500.993821</td>\n",
       "      <td>20.039689</td>\n",
       "      <td>-450.263164</td>\n",
       "      <td>14.077881</td>\n",
       "      <td>-449.660997</td>\n",
       "      <td>11.962366</td>\n",
       "      <td>-498.767484</td>\n",
       "      <td>8.096893</td>\n",
       "      <td>-500.827423</td>\n",
       "      <td>8.071056</td>\n",
       "      <td>-500.801673</td>\n",
       "      <td>4.905125</td>\n",
       "      <td>-499.828510</td>\n",
       "      <td>24.994862</td>\n",
       "      <td>-500.622559</td>\n",
       "    </tr>\n",
       "    <tr>\n",
       "      <th>3</th>\n",
       "      <td>2016-09-01 03:59:59</td>\n",
       "      <td>215.336236</td>\n",
       "      <td>12.006805</td>\n",
       "      <td>7.640000</td>\n",
       "      <td>0.863514</td>\n",
       "      <td>1399.618111</td>\n",
       "      <td>-498.863574</td>\n",
       "      <td>1397.440120</td>\n",
       "      <td>-499.211024</td>\n",
       "      <td>1400.129303</td>\n",
       "      <td>-498.355873</td>\n",
       "      <td>1401.065165</td>\n",
       "      <td>-501.038738</td>\n",
       "      <td>12.400507</td>\n",
       "      <td>5.114758</td>\n",
       "      <td>476.618130</td>\n",
       "      <td>59.865919</td>\n",
       "      <td>41.060195</td>\n",
       "      <td>12.181597</td>\n",
       "      <td>16.532144</td>\n",
       "      <td>5.801935</td>\n",
       "      <td>16.515277</td>\n",
       "      <td>5.803657</td>\n",
       "      <td>1000.276604</td>\n",
       "      <td>-350.172597</td>\n",
       "      <td>1251.322675</td>\n",
       "      <td>-398.655289</td>\n",
       "      <td>1250.493702</td>\n",
       "      <td>-399.746728</td>\n",
       "      <td>1199.398691</td>\n",
       "      <td>-397.503052</td>\n",
       "      <td>1001.930679</td>\n",
       "      <td>-400.437573</td>\n",
       "      <td>950.735324</td>\n",
       "      <td>-399.802986</td>\n",
       "      <td>24.893998</td>\n",
       "      <td>-499.382374</td>\n",
       "      <td>14.916674</td>\n",
       "      <td>-499.862299</td>\n",
       "      <td>20.031100</td>\n",
       "      <td>-449.372570</td>\n",
       "      <td>14.013968</td>\n",
       "      <td>-449.526900</td>\n",
       "      <td>12.033091</td>\n",
       "      <td>-498.350935</td>\n",
       "      <td>8.074946</td>\n",
       "      <td>-499.474407</td>\n",
       "      <td>7.897085</td>\n",
       "      <td>-500.868509</td>\n",
       "      <td>4.931400</td>\n",
       "      <td>-499.963623</td>\n",
       "      <td>24.948919</td>\n",
       "      <td>-498.709987</td>\n",
       "    </tr>\n",
       "    <tr>\n",
       "      <th>4</th>\n",
       "      <td>2016-09-01 04:59:59</td>\n",
       "      <td>199.099327</td>\n",
       "      <td>10.682530</td>\n",
       "      <td>7.530000</td>\n",
       "      <td>0.805575</td>\n",
       "      <td>1401.268123</td>\n",
       "      <td>-500.808305</td>\n",
       "      <td>1398.128818</td>\n",
       "      <td>-499.504543</td>\n",
       "      <td>1402.172226</td>\n",
       "      <td>-500.810606</td>\n",
       "      <td>1399.480508</td>\n",
       "      <td>-499.374053</td>\n",
       "      <td>11.327427</td>\n",
       "      <td>4.767383</td>\n",
       "      <td>488.248117</td>\n",
       "      <td>63.315324</td>\n",
       "      <td>41.269161</td>\n",
       "      <td>11.290425</td>\n",
       "      <td>13.607257</td>\n",
       "      <td>5.738081</td>\n",
       "      <td>13.650053</td>\n",
       "      <td>5.739634</td>\n",
       "      <td>996.541302</td>\n",
       "      <td>-350.562517</td>\n",
       "      <td>1304.658848</td>\n",
       "      <td>-399.511519</td>\n",
       "      <td>1306.455515</td>\n",
       "      <td>-399.050685</td>\n",
       "      <td>1248.699349</td>\n",
       "      <td>-400.876894</td>\n",
       "      <td>1058.839106</td>\n",
       "      <td>-398.988239</td>\n",
       "      <td>949.645313</td>\n",
       "      <td>-399.277632</td>\n",
       "      <td>24.886905</td>\n",
       "      <td>-499.357375</td>\n",
       "      <td>14.979233</td>\n",
       "      <td>-500.186804</td>\n",
       "      <td>19.962364</td>\n",
       "      <td>-450.638828</td>\n",
       "      <td>14.009245</td>\n",
       "      <td>-450.022259</td>\n",
       "      <td>12.025367</td>\n",
       "      <td>-500.786497</td>\n",
       "      <td>8.054678</td>\n",
       "      <td>-500.397500</td>\n",
       "      <td>8.107890</td>\n",
       "      <td>-509.526725</td>\n",
       "      <td>4.957674</td>\n",
       "      <td>-500.360026</td>\n",
       "      <td>25.003331</td>\n",
       "      <td>-500.856333</td>\n",
       "    </tr>\n",
       "  </tbody>\n",
       "</table>\n",
       "</div>"
      ],
      "text/plain": [
       "                  date  primary_cleaner.input.sulfate  \\\n",
       "0  2016-09-01 00:59:59                     210.800909   \n",
       "1  2016-09-01 01:59:59                     215.392455   \n",
       "2  2016-09-01 02:59:59                     215.259946   \n",
       "3  2016-09-01 03:59:59                     215.336236   \n",
       "4  2016-09-01 04:59:59                     199.099327   \n",
       "\n",
       "   primary_cleaner.input.depressant  primary_cleaner.input.feed_size  \\\n",
       "0                         14.993118                         8.080000   \n",
       "1                         14.987471                         8.080000   \n",
       "2                         12.884934                         7.786667   \n",
       "3                         12.006805                         7.640000   \n",
       "4                         10.682530                         7.530000   \n",
       "\n",
       "   primary_cleaner.input.xanthate  primary_cleaner.state.floatbank8_a_air  \\\n",
       "0                        1.005021                             1398.981301   \n",
       "1                        0.990469                             1398.777912   \n",
       "2                        0.996043                             1398.493666   \n",
       "3                        0.863514                             1399.618111   \n",
       "4                        0.805575                             1401.268123   \n",
       "\n",
       "   primary_cleaner.state.floatbank8_a_level  \\\n",
       "0                               -500.225577   \n",
       "1                               -500.057435   \n",
       "2                               -500.868360   \n",
       "3                               -498.863574   \n",
       "4                               -500.808305   \n",
       "\n",
       "   primary_cleaner.state.floatbank8_b_air  \\\n",
       "0                             1399.144926   \n",
       "1                             1398.055362   \n",
       "2                             1398.860436   \n",
       "3                             1397.440120   \n",
       "4                             1398.128818   \n",
       "\n",
       "   primary_cleaner.state.floatbank8_b_level  \\\n",
       "0                               -499.919735   \n",
       "1                               -499.778182   \n",
       "2                               -499.764529   \n",
       "3                               -499.211024   \n",
       "4                               -499.504543   \n",
       "\n",
       "   primary_cleaner.state.floatbank8_c_air  \\\n",
       "0                             1400.102998   \n",
       "1                             1396.151033   \n",
       "2                             1398.075709   \n",
       "3                             1400.129303   \n",
       "4                             1402.172226   \n",
       "\n",
       "   primary_cleaner.state.floatbank8_c_level  \\\n",
       "0                               -500.704369   \n",
       "1                               -499.240168   \n",
       "2                               -502.151509   \n",
       "3                               -498.355873   \n",
       "4                               -500.810606   \n",
       "\n",
       "   primary_cleaner.state.floatbank8_d_air  \\\n",
       "0                             1399.001695   \n",
       "1                             1399.508091   \n",
       "2                             1399.497088   \n",
       "3                             1401.065165   \n",
       "4                             1399.480508   \n",
       "\n",
       "   primary_cleaner.state.floatbank8_d_level  rougher.input.feed_ag  \\\n",
       "0                               -499.485144              13.128569   \n",
       "1                               -500.416324              13.036280   \n",
       "2                               -499.715479              13.138412   \n",
       "3                               -501.038738              12.400507   \n",
       "4                               -499.374053              11.327427   \n",
       "\n",
       "   rougher.input.feed_pb  rougher.input.feed_rate  rougher.input.feed_size  \\\n",
       "0               5.636710               489.793655                62.710452   \n",
       "1               5.526065               490.104534                61.961163   \n",
       "2               5.426561               489.617969                66.903807   \n",
       "3               5.114758               476.618130                59.865919   \n",
       "4               4.767383               488.248117                63.315324   \n",
       "\n",
       "   rougher.input.feed_sol  rougher.input.feed_au  \\\n",
       "0               42.022440              12.084103   \n",
       "1               41.187903              11.918977   \n",
       "2               42.546294              12.091332   \n",
       "3               41.060195              12.181597   \n",
       "4               41.269161              11.290425   \n",
       "\n",
       "   rougher.input.floatbank10_sulfate  rougher.input.floatbank10_xanthate  \\\n",
       "0                          16.922877                            6.153479   \n",
       "1                          17.002532                            5.999043   \n",
       "2                          16.992520                            5.850632   \n",
       "3                          16.532144                            5.801935   \n",
       "4                          13.607257                            5.738081   \n",
       "\n",
       "   rougher.input.floatbank11_sulfate  rougher.input.floatbank11_xanthate  \\\n",
       "0                          16.867518                            6.150709   \n",
       "1                          16.996063                            6.002315   \n",
       "2                          16.982096                            5.853594   \n",
       "3                          16.515277                            5.803657   \n",
       "4                          13.650053                            5.739634   \n",
       "\n",
       "   rougher.state.floatbank10_a_air  rougher.state.floatbank10_a_level  \\\n",
       "0                      1001.849317                        -350.301265   \n",
       "1                       998.690785                        -350.425704   \n",
       "2                       998.516720                        -349.783538   \n",
       "3                      1000.276604                        -350.172597   \n",
       "4                       996.541302                        -350.562517   \n",
       "\n",
       "   rougher.state.floatbank10_b_air  rougher.state.floatbank10_b_level  \\\n",
       "0                      1249.738612                        -399.107531   \n",
       "1                      1248.395457                        -399.946025   \n",
       "2                      1247.440748                        -400.264330   \n",
       "3                      1251.322675                        -398.655289   \n",
       "4                      1304.658848                        -399.511519   \n",
       "\n",
       "   rougher.state.floatbank10_c_air  rougher.state.floatbank10_c_level  \\\n",
       "0                      1249.750520                        -399.396730   \n",
       "1                      1249.514451                        -399.630810   \n",
       "2                      1248.207204                        -401.074405   \n",
       "3                      1250.493702                        -399.746728   \n",
       "4                      1306.455515                        -399.050685   \n",
       "\n",
       "   rougher.state.floatbank10_d_air  rougher.state.floatbank10_d_level  \\\n",
       "0                      1198.287855                        -399.488594   \n",
       "1                      1200.506459                        -399.942434   \n",
       "2                      1199.770026                        -400.790582   \n",
       "3                      1199.398691                        -397.503052   \n",
       "4                      1248.699349                        -400.876894   \n",
       "\n",
       "   rougher.state.floatbank10_e_air  rougher.state.floatbank10_e_level  \\\n",
       "0                       999.472250                        -399.530962   \n",
       "1                      1000.002114                        -399.491528   \n",
       "2                       999.925519                        -399.236999   \n",
       "3                      1001.930679                        -400.437573   \n",
       "4                      1058.839106                        -398.988239   \n",
       "\n",
       "   rougher.state.floatbank10_f_air  rougher.state.floatbank10_f_level  \\\n",
       "0                       949.566189                        -398.180807   \n",
       "1                       950.200009                        -405.787514   \n",
       "2                       950.320481                        -400.864340   \n",
       "3                       950.735324                        -399.802986   \n",
       "4                       949.645313                        -399.277632   \n",
       "\n",
       "   secondary_cleaner.state.floatbank2_a_air  \\\n",
       "0                                 24.938200   \n",
       "1                                 24.923466   \n",
       "2                                 24.908732   \n",
       "3                                 24.893998   \n",
       "4                                 24.886905   \n",
       "\n",
       "   secondary_cleaner.state.floatbank2_a_level  \\\n",
       "0                                 -500.490963   \n",
       "1                                 -499.813963   \n",
       "2                                 -500.304035   \n",
       "3                                 -499.382374   \n",
       "4                                 -499.357375   \n",
       "\n",
       "   secondary_cleaner.state.floatbank2_b_air  \\\n",
       "0                                 14.947607   \n",
       "1                                 14.930873   \n",
       "2                                 14.996511   \n",
       "3                                 14.916674   \n",
       "4                                 14.979233   \n",
       "\n",
       "   secondary_cleaner.state.floatbank2_b_level  \\\n",
       "0                                 -500.013837   \n",
       "1                                 -500.764452   \n",
       "2                                 -500.993821   \n",
       "3                                 -499.862299   \n",
       "4                                 -500.186804   \n",
       "\n",
       "   secondary_cleaner.state.floatbank3_a_air  \\\n",
       "0                                 20.018166   \n",
       "1                                 19.988503   \n",
       "2                                 20.039689   \n",
       "3                                 20.031100   \n",
       "4                                 19.962364   \n",
       "\n",
       "   secondary_cleaner.state.floatbank3_a_level  \\\n",
       "0                                 -450.395995   \n",
       "1                                 -450.114024   \n",
       "2                                 -450.263164   \n",
       "3                                 -449.372570   \n",
       "4                                 -450.638828   \n",
       "\n",
       "   secondary_cleaner.state.floatbank3_b_air  \\\n",
       "0                                 13.987058   \n",
       "1                                 14.092981   \n",
       "2                                 14.077881   \n",
       "3                                 14.013968   \n",
       "4                                 14.009245   \n",
       "\n",
       "   secondary_cleaner.state.floatbank3_b_level  \\\n",
       "0                                 -449.831513   \n",
       "1                                 -450.059163   \n",
       "2                                 -449.660997   \n",
       "3                                 -449.526900   \n",
       "4                                 -450.022259   \n",
       "\n",
       "   secondary_cleaner.state.floatbank4_a_air  \\\n",
       "0                                 12.023554   \n",
       "1                                 12.058140   \n",
       "2                                 11.962366   \n",
       "3                                 12.033091   \n",
       "4                                 12.025367   \n",
       "\n",
       "   secondary_cleaner.state.floatbank4_a_level  \\\n",
       "0                                 -497.795834   \n",
       "1                                 -498.695773   \n",
       "2                                 -498.767484   \n",
       "3                                 -498.350935   \n",
       "4                                 -500.786497   \n",
       "\n",
       "   secondary_cleaner.state.floatbank4_b_air  \\\n",
       "0                                  8.016656   \n",
       "1                                  8.130979   \n",
       "2                                  8.096893   \n",
       "3                                  8.074946   \n",
       "4                                  8.054678   \n",
       "\n",
       "   secondary_cleaner.state.floatbank4_b_level  \\\n",
       "0                                 -501.289139   \n",
       "1                                 -499.634209   \n",
       "2                                 -500.827423   \n",
       "3                                 -499.474407   \n",
       "4                                 -500.397500   \n",
       "\n",
       "   secondary_cleaner.state.floatbank5_a_air  \\\n",
       "0                                  7.946562   \n",
       "1                                  7.958270   \n",
       "2                                  8.071056   \n",
       "3                                  7.897085   \n",
       "4                                  8.107890   \n",
       "\n",
       "   secondary_cleaner.state.floatbank5_a_level  \\\n",
       "0                                 -432.317850   \n",
       "1                                 -525.839648   \n",
       "2                                 -500.801673   \n",
       "3                                 -500.868509   \n",
       "4                                 -509.526725   \n",
       "\n",
       "   secondary_cleaner.state.floatbank5_b_air  \\\n",
       "0                                  4.872511   \n",
       "1                                  4.878850   \n",
       "2                                  4.905125   \n",
       "3                                  4.931400   \n",
       "4                                  4.957674   \n",
       "\n",
       "   secondary_cleaner.state.floatbank5_b_level  \\\n",
       "0                                 -500.037437   \n",
       "1                                 -500.162375   \n",
       "2                                 -499.828510   \n",
       "3                                 -499.963623   \n",
       "4                                 -500.360026   \n",
       "\n",
       "   secondary_cleaner.state.floatbank6_a_air  \\\n",
       "0                                 26.705889   \n",
       "1                                 25.019940   \n",
       "2                                 24.994862   \n",
       "3                                 24.948919   \n",
       "4                                 25.003331   \n",
       "\n",
       "   secondary_cleaner.state.floatbank6_a_level  \n",
       "0                                 -499.709414  \n",
       "1                                 -499.819438  \n",
       "2                                 -500.622559  \n",
       "3                                 -498.709987  \n",
       "4                                 -500.856333  "
      ]
     },
     "metadata": {},
     "output_type": "display_data"
    },
    {
     "data": {
      "text/html": [
       "<div>\n",
       "<style scoped>\n",
       "    .dataframe tbody tr th:only-of-type {\n",
       "        vertical-align: middle;\n",
       "    }\n",
       "\n",
       "    .dataframe tbody tr th {\n",
       "        vertical-align: top;\n",
       "    }\n",
       "\n",
       "    .dataframe thead th {\n",
       "        text-align: right;\n",
       "    }\n",
       "</style>\n",
       "<table border=\"1\" class=\"dataframe\">\n",
       "  <thead>\n",
       "    <tr style=\"text-align: right;\">\n",
       "      <th></th>\n",
       "      <th>primary_cleaner.input.sulfate</th>\n",
       "      <th>primary_cleaner.input.depressant</th>\n",
       "      <th>primary_cleaner.input.feed_size</th>\n",
       "      <th>primary_cleaner.input.xanthate</th>\n",
       "      <th>primary_cleaner.state.floatbank8_a_air</th>\n",
       "      <th>primary_cleaner.state.floatbank8_a_level</th>\n",
       "      <th>primary_cleaner.state.floatbank8_b_air</th>\n",
       "      <th>primary_cleaner.state.floatbank8_b_level</th>\n",
       "      <th>primary_cleaner.state.floatbank8_c_air</th>\n",
       "      <th>primary_cleaner.state.floatbank8_c_level</th>\n",
       "      <th>primary_cleaner.state.floatbank8_d_air</th>\n",
       "      <th>primary_cleaner.state.floatbank8_d_level</th>\n",
       "      <th>rougher.input.feed_ag</th>\n",
       "      <th>rougher.input.feed_pb</th>\n",
       "      <th>rougher.input.feed_rate</th>\n",
       "      <th>rougher.input.feed_size</th>\n",
       "      <th>rougher.input.feed_sol</th>\n",
       "      <th>rougher.input.feed_au</th>\n",
       "      <th>rougher.input.floatbank10_sulfate</th>\n",
       "      <th>rougher.input.floatbank10_xanthate</th>\n",
       "      <th>rougher.input.floatbank11_sulfate</th>\n",
       "      <th>rougher.input.floatbank11_xanthate</th>\n",
       "      <th>rougher.state.floatbank10_a_air</th>\n",
       "      <th>rougher.state.floatbank10_a_level</th>\n",
       "      <th>rougher.state.floatbank10_b_air</th>\n",
       "      <th>rougher.state.floatbank10_b_level</th>\n",
       "      <th>rougher.state.floatbank10_c_air</th>\n",
       "      <th>rougher.state.floatbank10_c_level</th>\n",
       "      <th>rougher.state.floatbank10_d_air</th>\n",
       "      <th>rougher.state.floatbank10_d_level</th>\n",
       "      <th>rougher.state.floatbank10_e_air</th>\n",
       "      <th>rougher.state.floatbank10_e_level</th>\n",
       "      <th>rougher.state.floatbank10_f_air</th>\n",
       "      <th>rougher.state.floatbank10_f_level</th>\n",
       "      <th>secondary_cleaner.state.floatbank2_a_air</th>\n",
       "      <th>secondary_cleaner.state.floatbank2_a_level</th>\n",
       "      <th>secondary_cleaner.state.floatbank2_b_air</th>\n",
       "      <th>secondary_cleaner.state.floatbank2_b_level</th>\n",
       "      <th>secondary_cleaner.state.floatbank3_a_air</th>\n",
       "      <th>secondary_cleaner.state.floatbank3_a_level</th>\n",
       "      <th>secondary_cleaner.state.floatbank3_b_air</th>\n",
       "      <th>secondary_cleaner.state.floatbank3_b_level</th>\n",
       "      <th>secondary_cleaner.state.floatbank4_a_air</th>\n",
       "      <th>secondary_cleaner.state.floatbank4_a_level</th>\n",
       "      <th>secondary_cleaner.state.floatbank4_b_air</th>\n",
       "      <th>secondary_cleaner.state.floatbank4_b_level</th>\n",
       "      <th>secondary_cleaner.state.floatbank5_a_air</th>\n",
       "      <th>secondary_cleaner.state.floatbank5_a_level</th>\n",
       "      <th>secondary_cleaner.state.floatbank5_b_air</th>\n",
       "      <th>secondary_cleaner.state.floatbank5_b_level</th>\n",
       "      <th>secondary_cleaner.state.floatbank6_a_air</th>\n",
       "      <th>secondary_cleaner.state.floatbank6_a_level</th>\n",
       "    </tr>\n",
       "  </thead>\n",
       "  <tbody>\n",
       "    <tr>\n",
       "      <th>count</th>\n",
       "      <td>5286.000000</td>\n",
       "      <td>5285.000000</td>\n",
       "      <td>5290.000000</td>\n",
       "      <td>5286.000000</td>\n",
       "      <td>5.290000e+03</td>\n",
       "      <td>5290.000000</td>\n",
       "      <td>5.290000e+03</td>\n",
       "      <td>5290.000000</td>\n",
       "      <td>5.290000e+03</td>\n",
       "      <td>5290.000000</td>\n",
       "      <td>5.290000e+03</td>\n",
       "      <td>5290.000000</td>\n",
       "      <td>5290.000000</td>\n",
       "      <td>5290.000000</td>\n",
       "      <td>5287.000000</td>\n",
       "      <td>5289.000000</td>\n",
       "      <td>5269.000000</td>\n",
       "      <td>5290.000000</td>\n",
       "      <td>5285.000000</td>\n",
       "      <td>5290.000000</td>\n",
       "      <td>5282.000000</td>\n",
       "      <td>5265.000000</td>\n",
       "      <td>5290.000000</td>\n",
       "      <td>5290.000000</td>\n",
       "      <td>5290.000000</td>\n",
       "      <td>5290.000000</td>\n",
       "      <td>5290.000000</td>\n",
       "      <td>5290.000000</td>\n",
       "      <td>5290.000000</td>\n",
       "      <td>5290.000000</td>\n",
       "      <td>5290.000000</td>\n",
       "      <td>5290.000000</td>\n",
       "      <td>5290.000000</td>\n",
       "      <td>5290.000000</td>\n",
       "      <td>5287.000000</td>\n",
       "      <td>5290.000000</td>\n",
       "      <td>5288.000000</td>\n",
       "      <td>5290.000000</td>\n",
       "      <td>5281.000000</td>\n",
       "      <td>5290.000000</td>\n",
       "      <td>5.290000e+03</td>\n",
       "      <td>5290.000000</td>\n",
       "      <td>5.290000e+03</td>\n",
       "      <td>5290.000000</td>\n",
       "      <td>5.290000e+03</td>\n",
       "      <td>5290.000000</td>\n",
       "      <td>5290.000000</td>\n",
       "      <td>5290.000000</td>\n",
       "      <td>5290.000000</td>\n",
       "      <td>5290.000000</td>\n",
       "      <td>5290.000000</td>\n",
       "      <td>5290.000000</td>\n",
       "    </tr>\n",
       "    <tr>\n",
       "      <th>mean</th>\n",
       "      <td>174.839652</td>\n",
       "      <td>8.683596</td>\n",
       "      <td>7.266339</td>\n",
       "      <td>1.383803</td>\n",
       "      <td>1.539494e+03</td>\n",
       "      <td>-497.665883</td>\n",
       "      <td>1.545174e+03</td>\n",
       "      <td>-500.273098</td>\n",
       "      <td>1.527272e+03</td>\n",
       "      <td>-498.330680</td>\n",
       "      <td>1.544844e+03</td>\n",
       "      <td>-500.199527</td>\n",
       "      <td>9.371940</td>\n",
       "      <td>3.798082</td>\n",
       "      <td>489.800620</td>\n",
       "      <td>55.951097</td>\n",
       "      <td>37.716648</td>\n",
       "      <td>9.334682</td>\n",
       "      <td>13.855759</td>\n",
       "      <td>6.467745</td>\n",
       "      <td>13.922328</td>\n",
       "      <td>6.512103</td>\n",
       "      <td>1053.400166</td>\n",
       "      <td>-395.732530</td>\n",
       "      <td>1318.926879</td>\n",
       "      <td>-475.241428</td>\n",
       "      <td>1301.595477</td>\n",
       "      <td>-474.836671</td>\n",
       "      <td>1214.847960</td>\n",
       "      <td>-475.682272</td>\n",
       "      <td>1056.648995</td>\n",
       "      <td>-469.029688</td>\n",
       "      <td>997.949719</td>\n",
       "      <td>-470.482465</td>\n",
       "      <td>26.312630</td>\n",
       "      <td>-502.750897</td>\n",
       "      <td>21.949119</td>\n",
       "      <td>-501.987097</td>\n",
       "      <td>25.402926</td>\n",
       "      <td>-507.490314</td>\n",
       "      <td>2.098211e+01</td>\n",
       "      <td>-506.627916</td>\n",
       "      <td>1.632007e+01</td>\n",
       "      <td>-505.144570</td>\n",
       "      <td>1.373544e+01</td>\n",
       "      <td>-463.349858</td>\n",
       "      <td>12.804186</td>\n",
       "      <td>-501.329122</td>\n",
       "      <td>9.881145</td>\n",
       "      <td>-495.663398</td>\n",
       "      <td>17.304935</td>\n",
       "      <td>-501.793193</td>\n",
       "    </tr>\n",
       "    <tr>\n",
       "      <th>std</th>\n",
       "      <td>43.027080</td>\n",
       "      <td>3.072050</td>\n",
       "      <td>0.610219</td>\n",
       "      <td>0.643474</td>\n",
       "      <td>1.167979e+02</td>\n",
       "      <td>19.952431</td>\n",
       "      <td>1.222246e+02</td>\n",
       "      <td>32.968307</td>\n",
       "      <td>1.225380e+02</td>\n",
       "      <td>21.964876</td>\n",
       "      <td>1.247731e+02</td>\n",
       "      <td>31.045257</td>\n",
       "      <td>1.926264</td>\n",
       "      <td>0.954859</td>\n",
       "      <td>108.036326</td>\n",
       "      <td>19.081758</td>\n",
       "      <td>5.491415</td>\n",
       "      <td>1.619521</td>\n",
       "      <td>3.350852</td>\n",
       "      <td>1.065114</td>\n",
       "      <td>3.223769</td>\n",
       "      <td>0.886989</td>\n",
       "      <td>121.139309</td>\n",
       "      <td>91.085505</td>\n",
       "      <td>156.450366</td>\n",
       "      <td>45.649466</td>\n",
       "      <td>171.269667</td>\n",
       "      <td>45.859866</td>\n",
       "      <td>185.763319</td>\n",
       "      <td>47.844967</td>\n",
       "      <td>131.542839</td>\n",
       "      <td>59.325990</td>\n",
       "      <td>128.218869</td>\n",
       "      <td>60.759318</td>\n",
       "      <td>3.429852</td>\n",
       "      <td>28.756505</td>\n",
       "      <td>4.354961</td>\n",
       "      <td>34.582722</td>\n",
       "      <td>6.526457</td>\n",
       "      <td>47.620908</td>\n",
       "      <td>6.736179e+00</td>\n",
       "      <td>44.528673</td>\n",
       "      <td>3.493583e+00</td>\n",
       "      <td>31.427337</td>\n",
       "      <td>3.430484e+00</td>\n",
       "      <td>86.189107</td>\n",
       "      <td>3.026591</td>\n",
       "      <td>17.951495</td>\n",
       "      <td>2.868205</td>\n",
       "      <td>34.535007</td>\n",
       "      <td>4.536544</td>\n",
       "      <td>39.044215</td>\n",
       "    </tr>\n",
       "    <tr>\n",
       "      <th>min</th>\n",
       "      <td>2.566156</td>\n",
       "      <td>0.003839</td>\n",
       "      <td>5.650000</td>\n",
       "      <td>0.004984</td>\n",
       "      <td>5.445860e-32</td>\n",
       "      <td>-795.316337</td>\n",
       "      <td>6.647490e-32</td>\n",
       "      <td>-799.997015</td>\n",
       "      <td>4.033736e-32</td>\n",
       "      <td>-799.960571</td>\n",
       "      <td>4.039220e-32</td>\n",
       "      <td>-799.794250</td>\n",
       "      <td>0.568441</td>\n",
       "      <td>0.273677</td>\n",
       "      <td>0.002986</td>\n",
       "      <td>0.046369</td>\n",
       "      <td>1.393488</td>\n",
       "      <td>0.568632</td>\n",
       "      <td>0.001147</td>\n",
       "      <td>0.000568</td>\n",
       "      <td>0.000077</td>\n",
       "      <td>0.006985</td>\n",
       "      <td>-0.042069</td>\n",
       "      <td>-657.949759</td>\n",
       "      <td>-0.721806</td>\n",
       "      <td>-650.245277</td>\n",
       "      <td>-0.056636</td>\n",
       "      <td>-647.544439</td>\n",
       "      <td>-0.992219</td>\n",
       "      <td>-648.390665</td>\n",
       "      <td>-1.982295</td>\n",
       "      <td>-649.267537</td>\n",
       "      <td>-2.593390</td>\n",
       "      <td>-649.949283</td>\n",
       "      <td>0.205329</td>\n",
       "      <td>-784.091091</td>\n",
       "      <td>0.006064</td>\n",
       "      <td>-797.783989</td>\n",
       "      <td>0.000000</td>\n",
       "      <td>-799.755798</td>\n",
       "      <td>1.521587e-17</td>\n",
       "      <td>-809.333008</td>\n",
       "      <td>1.079872e-16</td>\n",
       "      <td>-799.798523</td>\n",
       "      <td>2.489718e-17</td>\n",
       "      <td>-800.836914</td>\n",
       "      <td>0.069227</td>\n",
       "      <td>-797.323986</td>\n",
       "      <td>0.528083</td>\n",
       "      <td>-800.220337</td>\n",
       "      <td>-0.079426</td>\n",
       "      <td>-809.741464</td>\n",
       "    </tr>\n",
       "    <tr>\n",
       "      <th>25%</th>\n",
       "      <td>147.121401</td>\n",
       "      <td>6.489555</td>\n",
       "      <td>6.890000</td>\n",
       "      <td>0.907623</td>\n",
       "      <td>1.498936e+03</td>\n",
       "      <td>-500.357298</td>\n",
       "      <td>1.498971e+03</td>\n",
       "      <td>-500.703002</td>\n",
       "      <td>1.473230e+03</td>\n",
       "      <td>-501.018117</td>\n",
       "      <td>1.499481e+03</td>\n",
       "      <td>-500.452469</td>\n",
       "      <td>8.112434</td>\n",
       "      <td>3.240251</td>\n",
       "      <td>407.020883</td>\n",
       "      <td>43.906347</td>\n",
       "      <td>34.505576</td>\n",
       "      <td>8.207814</td>\n",
       "      <td>11.995006</td>\n",
       "      <td>5.998779</td>\n",
       "      <td>11.997200</td>\n",
       "      <td>5.999157</td>\n",
       "      <td>999.205344</td>\n",
       "      <td>-499.920565</td>\n",
       "      <td>1200.871883</td>\n",
       "      <td>-500.256114</td>\n",
       "      <td>1199.651371</td>\n",
       "      <td>-500.233831</td>\n",
       "      <td>1093.368068</td>\n",
       "      <td>-500.440610</td>\n",
       "      <td>999.361403</td>\n",
       "      <td>-500.190639</td>\n",
       "      <td>901.024994</td>\n",
       "      <td>-500.624783</td>\n",
       "      <td>24.942328</td>\n",
       "      <td>-500.206517</td>\n",
       "      <td>20.002315</td>\n",
       "      <td>-500.218030</td>\n",
       "      <td>22.982288</td>\n",
       "      <td>-500.297951</td>\n",
       "      <td>1.796786e+01</td>\n",
       "      <td>-500.145128</td>\n",
       "      <td>1.403618e+01</td>\n",
       "      <td>-500.868258</td>\n",
       "      <td>1.202862e+01</td>\n",
       "      <td>-500.323028</td>\n",
       "      <td>10.914838</td>\n",
       "      <td>-500.726841</td>\n",
       "      <td>8.036719</td>\n",
       "      <td>-500.194668</td>\n",
       "      <td>13.997317</td>\n",
       "      <td>-500.690984</td>\n",
       "    </tr>\n",
       "    <tr>\n",
       "      <th>50%</th>\n",
       "      <td>177.828489</td>\n",
       "      <td>8.052207</td>\n",
       "      <td>7.250000</td>\n",
       "      <td>1.197610</td>\n",
       "      <td>1.585129e+03</td>\n",
       "      <td>-499.969164</td>\n",
       "      <td>1.595622e+03</td>\n",
       "      <td>-500.028514</td>\n",
       "      <td>1.549595e+03</td>\n",
       "      <td>-500.017711</td>\n",
       "      <td>1.594579e+03</td>\n",
       "      <td>-500.023307</td>\n",
       "      <td>9.762654</td>\n",
       "      <td>3.740716</td>\n",
       "      <td>499.051440</td>\n",
       "      <td>50.841029</td>\n",
       "      <td>37.980276</td>\n",
       "      <td>9.593766</td>\n",
       "      <td>14.003126</td>\n",
       "      <td>6.498181</td>\n",
       "      <td>14.004371</td>\n",
       "      <td>6.498744</td>\n",
       "      <td>1000.472055</td>\n",
       "      <td>-399.693363</td>\n",
       "      <td>1302.254995</td>\n",
       "      <td>-499.837803</td>\n",
       "      <td>1300.202274</td>\n",
       "      <td>-499.777222</td>\n",
       "      <td>1207.014092</td>\n",
       "      <td>-499.691917</td>\n",
       "      <td>1047.495449</td>\n",
       "      <td>-499.765796</td>\n",
       "      <td>999.441879</td>\n",
       "      <td>-499.680986</td>\n",
       "      <td>26.910569</td>\n",
       "      <td>-500.003902</td>\n",
       "      <td>22.942603</td>\n",
       "      <td>-500.019058</td>\n",
       "      <td>25.010105</td>\n",
       "      <td>-500.034578</td>\n",
       "      <td>2.100316e+01</td>\n",
       "      <td>-500.013819</td>\n",
       "      <td>1.700847e+01</td>\n",
       "      <td>-500.115727</td>\n",
       "      <td>1.496486e+01</td>\n",
       "      <td>-499.576513</td>\n",
       "      <td>12.954182</td>\n",
       "      <td>-499.990332</td>\n",
       "      <td>10.004301</td>\n",
       "      <td>-499.990535</td>\n",
       "      <td>16.014935</td>\n",
       "      <td>-500.007126</td>\n",
       "    </tr>\n",
       "    <tr>\n",
       "      <th>75%</th>\n",
       "      <td>208.125438</td>\n",
       "      <td>10.027764</td>\n",
       "      <td>7.600000</td>\n",
       "      <td>1.797819</td>\n",
       "      <td>1.602077e+03</td>\n",
       "      <td>-499.568951</td>\n",
       "      <td>1.602324e+03</td>\n",
       "      <td>-499.293257</td>\n",
       "      <td>1.601144e+03</td>\n",
       "      <td>-498.994130</td>\n",
       "      <td>1.600965e+03</td>\n",
       "      <td>-499.607040</td>\n",
       "      <td>10.652297</td>\n",
       "      <td>4.282634</td>\n",
       "      <td>575.307213</td>\n",
       "      <td>62.431047</td>\n",
       "      <td>41.635385</td>\n",
       "      <td>10.463538</td>\n",
       "      <td>16.974284</td>\n",
       "      <td>7.085457</td>\n",
       "      <td>16.959671</td>\n",
       "      <td>7.091808</td>\n",
       "      <td>1006.254299</td>\n",
       "      <td>-300.060056</td>\n",
       "      <td>1433.955649</td>\n",
       "      <td>-450.749619</td>\n",
       "      <td>1406.594956</td>\n",
       "      <td>-451.153188</td>\n",
       "      <td>1391.497269</td>\n",
       "      <td>-452.483463</td>\n",
       "      <td>1101.365315</td>\n",
       "      <td>-450.957513</td>\n",
       "      <td>1050.433005</td>\n",
       "      <td>-451.986460</td>\n",
       "      <td>28.091885</td>\n",
       "      <td>-499.791639</td>\n",
       "      <td>24.985013</td>\n",
       "      <td>-499.831532</td>\n",
       "      <td>30.002063</td>\n",
       "      <td>-499.780163</td>\n",
       "      <td>2.697698e+01</td>\n",
       "      <td>-499.890608</td>\n",
       "      <td>1.803862e+01</td>\n",
       "      <td>-499.404224</td>\n",
       "      <td>1.596213e+01</td>\n",
       "      <td>-400.933805</td>\n",
       "      <td>15.097528</td>\n",
       "      <td>-499.283191</td>\n",
       "      <td>11.997467</td>\n",
       "      <td>-499.719913</td>\n",
       "      <td>21.020013</td>\n",
       "      <td>-499.373018</td>\n",
       "    </tr>\n",
       "    <tr>\n",
       "      <th>max</th>\n",
       "      <td>265.983123</td>\n",
       "      <td>40.000000</td>\n",
       "      <td>15.500000</td>\n",
       "      <td>4.102454</td>\n",
       "      <td>2.103104e+03</td>\n",
       "      <td>-57.195404</td>\n",
       "      <td>1.813084e+03</td>\n",
       "      <td>-142.527229</td>\n",
       "      <td>1.715054e+03</td>\n",
       "      <td>-150.937035</td>\n",
       "      <td>1.913257e+03</td>\n",
       "      <td>-158.950573</td>\n",
       "      <td>14.406130</td>\n",
       "      <td>6.905684</td>\n",
       "      <td>707.364020</td>\n",
       "      <td>392.494040</td>\n",
       "      <td>53.477742</td>\n",
       "      <td>13.731330</td>\n",
       "      <td>24.280636</td>\n",
       "      <td>8.910468</td>\n",
       "      <td>24.280966</td>\n",
       "      <td>8.621338</td>\n",
       "      <td>1423.274687</td>\n",
       "      <td>-273.776101</td>\n",
       "      <td>1706.640419</td>\n",
       "      <td>-298.200051</td>\n",
       "      <td>1731.017788</td>\n",
       "      <td>-298.036852</td>\n",
       "      <td>1775.218584</td>\n",
       "      <td>-76.397327</td>\n",
       "      <td>1467.184843</td>\n",
       "      <td>-139.753025</td>\n",
       "      <td>1476.588107</td>\n",
       "      <td>-249.801043</td>\n",
       "      <td>32.138727</td>\n",
       "      <td>-300.343670</td>\n",
       "      <td>28.165864</td>\n",
       "      <td>-211.999273</td>\n",
       "      <td>40.041997</td>\n",
       "      <td>-313.866425</td>\n",
       "      <td>3.203936e+01</td>\n",
       "      <td>-202.277366</td>\n",
       "      <td>3.005180e+01</td>\n",
       "      <td>-401.565212</td>\n",
       "      <td>3.126971e+01</td>\n",
       "      <td>-6.506986</td>\n",
       "      <td>25.258848</td>\n",
       "      <td>-244.483566</td>\n",
       "      <td>14.086866</td>\n",
       "      <td>-137.740004</td>\n",
       "      <td>26.705889</td>\n",
       "      <td>-123.307487</td>\n",
       "    </tr>\n",
       "  </tbody>\n",
       "</table>\n",
       "</div>"
      ],
      "text/plain": [
       "       primary_cleaner.input.sulfate  primary_cleaner.input.depressant  \\\n",
       "count                    5286.000000                       5285.000000   \n",
       "mean                      174.839652                          8.683596   \n",
       "std                        43.027080                          3.072050   \n",
       "min                         2.566156                          0.003839   \n",
       "25%                       147.121401                          6.489555   \n",
       "50%                       177.828489                          8.052207   \n",
       "75%                       208.125438                         10.027764   \n",
       "max                       265.983123                         40.000000   \n",
       "\n",
       "       primary_cleaner.input.feed_size  primary_cleaner.input.xanthate  \\\n",
       "count                      5290.000000                     5286.000000   \n",
       "mean                          7.266339                        1.383803   \n",
       "std                           0.610219                        0.643474   \n",
       "min                           5.650000                        0.004984   \n",
       "25%                           6.890000                        0.907623   \n",
       "50%                           7.250000                        1.197610   \n",
       "75%                           7.600000                        1.797819   \n",
       "max                          15.500000                        4.102454   \n",
       "\n",
       "       primary_cleaner.state.floatbank8_a_air  \\\n",
       "count                            5.290000e+03   \n",
       "mean                             1.539494e+03   \n",
       "std                              1.167979e+02   \n",
       "min                              5.445860e-32   \n",
       "25%                              1.498936e+03   \n",
       "50%                              1.585129e+03   \n",
       "75%                              1.602077e+03   \n",
       "max                              2.103104e+03   \n",
       "\n",
       "       primary_cleaner.state.floatbank8_a_level  \\\n",
       "count                               5290.000000   \n",
       "mean                                -497.665883   \n",
       "std                                   19.952431   \n",
       "min                                 -795.316337   \n",
       "25%                                 -500.357298   \n",
       "50%                                 -499.969164   \n",
       "75%                                 -499.568951   \n",
       "max                                  -57.195404   \n",
       "\n",
       "       primary_cleaner.state.floatbank8_b_air  \\\n",
       "count                            5.290000e+03   \n",
       "mean                             1.545174e+03   \n",
       "std                              1.222246e+02   \n",
       "min                              6.647490e-32   \n",
       "25%                              1.498971e+03   \n",
       "50%                              1.595622e+03   \n",
       "75%                              1.602324e+03   \n",
       "max                              1.813084e+03   \n",
       "\n",
       "       primary_cleaner.state.floatbank8_b_level  \\\n",
       "count                               5290.000000   \n",
       "mean                                -500.273098   \n",
       "std                                   32.968307   \n",
       "min                                 -799.997015   \n",
       "25%                                 -500.703002   \n",
       "50%                                 -500.028514   \n",
       "75%                                 -499.293257   \n",
       "max                                 -142.527229   \n",
       "\n",
       "       primary_cleaner.state.floatbank8_c_air  \\\n",
       "count                            5.290000e+03   \n",
       "mean                             1.527272e+03   \n",
       "std                              1.225380e+02   \n",
       "min                              4.033736e-32   \n",
       "25%                              1.473230e+03   \n",
       "50%                              1.549595e+03   \n",
       "75%                              1.601144e+03   \n",
       "max                              1.715054e+03   \n",
       "\n",
       "       primary_cleaner.state.floatbank8_c_level  \\\n",
       "count                               5290.000000   \n",
       "mean                                -498.330680   \n",
       "std                                   21.964876   \n",
       "min                                 -799.960571   \n",
       "25%                                 -501.018117   \n",
       "50%                                 -500.017711   \n",
       "75%                                 -498.994130   \n",
       "max                                 -150.937035   \n",
       "\n",
       "       primary_cleaner.state.floatbank8_d_air  \\\n",
       "count                            5.290000e+03   \n",
       "mean                             1.544844e+03   \n",
       "std                              1.247731e+02   \n",
       "min                              4.039220e-32   \n",
       "25%                              1.499481e+03   \n",
       "50%                              1.594579e+03   \n",
       "75%                              1.600965e+03   \n",
       "max                              1.913257e+03   \n",
       "\n",
       "       primary_cleaner.state.floatbank8_d_level  rougher.input.feed_ag  \\\n",
       "count                               5290.000000            5290.000000   \n",
       "mean                                -500.199527               9.371940   \n",
       "std                                   31.045257               1.926264   \n",
       "min                                 -799.794250               0.568441   \n",
       "25%                                 -500.452469               8.112434   \n",
       "50%                                 -500.023307               9.762654   \n",
       "75%                                 -499.607040              10.652297   \n",
       "max                                 -158.950573              14.406130   \n",
       "\n",
       "       rougher.input.feed_pb  rougher.input.feed_rate  \\\n",
       "count            5290.000000              5287.000000   \n",
       "mean                3.798082               489.800620   \n",
       "std                 0.954859               108.036326   \n",
       "min                 0.273677                 0.002986   \n",
       "25%                 3.240251               407.020883   \n",
       "50%                 3.740716               499.051440   \n",
       "75%                 4.282634               575.307213   \n",
       "max                 6.905684               707.364020   \n",
       "\n",
       "       rougher.input.feed_size  rougher.input.feed_sol  rougher.input.feed_au  \\\n",
       "count              5289.000000             5269.000000            5290.000000   \n",
       "mean                 55.951097               37.716648               9.334682   \n",
       "std                  19.081758                5.491415               1.619521   \n",
       "min                   0.046369                1.393488               0.568632   \n",
       "25%                  43.906347               34.505576               8.207814   \n",
       "50%                  50.841029               37.980276               9.593766   \n",
       "75%                  62.431047               41.635385              10.463538   \n",
       "max                 392.494040               53.477742              13.731330   \n",
       "\n",
       "       rougher.input.floatbank10_sulfate  rougher.input.floatbank10_xanthate  \\\n",
       "count                        5285.000000                         5290.000000   \n",
       "mean                           13.855759                            6.467745   \n",
       "std                             3.350852                            1.065114   \n",
       "min                             0.001147                            0.000568   \n",
       "25%                            11.995006                            5.998779   \n",
       "50%                            14.003126                            6.498181   \n",
       "75%                            16.974284                            7.085457   \n",
       "max                            24.280636                            8.910468   \n",
       "\n",
       "       rougher.input.floatbank11_sulfate  rougher.input.floatbank11_xanthate  \\\n",
       "count                        5282.000000                         5265.000000   \n",
       "mean                           13.922328                            6.512103   \n",
       "std                             3.223769                            0.886989   \n",
       "min                             0.000077                            0.006985   \n",
       "25%                            11.997200                            5.999157   \n",
       "50%                            14.004371                            6.498744   \n",
       "75%                            16.959671                            7.091808   \n",
       "max                            24.280966                            8.621338   \n",
       "\n",
       "       rougher.state.floatbank10_a_air  rougher.state.floatbank10_a_level  \\\n",
       "count                      5290.000000                        5290.000000   \n",
       "mean                       1053.400166                        -395.732530   \n",
       "std                         121.139309                          91.085505   \n",
       "min                          -0.042069                        -657.949759   \n",
       "25%                         999.205344                        -499.920565   \n",
       "50%                        1000.472055                        -399.693363   \n",
       "75%                        1006.254299                        -300.060056   \n",
       "max                        1423.274687                        -273.776101   \n",
       "\n",
       "       rougher.state.floatbank10_b_air  rougher.state.floatbank10_b_level  \\\n",
       "count                      5290.000000                        5290.000000   \n",
       "mean                       1318.926879                        -475.241428   \n",
       "std                         156.450366                          45.649466   \n",
       "min                          -0.721806                        -650.245277   \n",
       "25%                        1200.871883                        -500.256114   \n",
       "50%                        1302.254995                        -499.837803   \n",
       "75%                        1433.955649                        -450.749619   \n",
       "max                        1706.640419                        -298.200051   \n",
       "\n",
       "       rougher.state.floatbank10_c_air  rougher.state.floatbank10_c_level  \\\n",
       "count                      5290.000000                        5290.000000   \n",
       "mean                       1301.595477                        -474.836671   \n",
       "std                         171.269667                          45.859866   \n",
       "min                          -0.056636                        -647.544439   \n",
       "25%                        1199.651371                        -500.233831   \n",
       "50%                        1300.202274                        -499.777222   \n",
       "75%                        1406.594956                        -451.153188   \n",
       "max                        1731.017788                        -298.036852   \n",
       "\n",
       "       rougher.state.floatbank10_d_air  rougher.state.floatbank10_d_level  \\\n",
       "count                      5290.000000                        5290.000000   \n",
       "mean                       1214.847960                        -475.682272   \n",
       "std                         185.763319                          47.844967   \n",
       "min                          -0.992219                        -648.390665   \n",
       "25%                        1093.368068                        -500.440610   \n",
       "50%                        1207.014092                        -499.691917   \n",
       "75%                        1391.497269                        -452.483463   \n",
       "max                        1775.218584                         -76.397327   \n",
       "\n",
       "       rougher.state.floatbank10_e_air  rougher.state.floatbank10_e_level  \\\n",
       "count                      5290.000000                        5290.000000   \n",
       "mean                       1056.648995                        -469.029688   \n",
       "std                         131.542839                          59.325990   \n",
       "min                          -1.982295                        -649.267537   \n",
       "25%                         999.361403                        -500.190639   \n",
       "50%                        1047.495449                        -499.765796   \n",
       "75%                        1101.365315                        -450.957513   \n",
       "max                        1467.184843                        -139.753025   \n",
       "\n",
       "       rougher.state.floatbank10_f_air  rougher.state.floatbank10_f_level  \\\n",
       "count                      5290.000000                        5290.000000   \n",
       "mean                        997.949719                        -470.482465   \n",
       "std                         128.218869                          60.759318   \n",
       "min                          -2.593390                        -649.949283   \n",
       "25%                         901.024994                        -500.624783   \n",
       "50%                         999.441879                        -499.680986   \n",
       "75%                        1050.433005                        -451.986460   \n",
       "max                        1476.588107                        -249.801043   \n",
       "\n",
       "       secondary_cleaner.state.floatbank2_a_air  \\\n",
       "count                               5287.000000   \n",
       "mean                                  26.312630   \n",
       "std                                    3.429852   \n",
       "min                                    0.205329   \n",
       "25%                                   24.942328   \n",
       "50%                                   26.910569   \n",
       "75%                                   28.091885   \n",
       "max                                   32.138727   \n",
       "\n",
       "       secondary_cleaner.state.floatbank2_a_level  \\\n",
       "count                                 5290.000000   \n",
       "mean                                  -502.750897   \n",
       "std                                     28.756505   \n",
       "min                                   -784.091091   \n",
       "25%                                   -500.206517   \n",
       "50%                                   -500.003902   \n",
       "75%                                   -499.791639   \n",
       "max                                   -300.343670   \n",
       "\n",
       "       secondary_cleaner.state.floatbank2_b_air  \\\n",
       "count                               5288.000000   \n",
       "mean                                  21.949119   \n",
       "std                                    4.354961   \n",
       "min                                    0.006064   \n",
       "25%                                   20.002315   \n",
       "50%                                   22.942603   \n",
       "75%                                   24.985013   \n",
       "max                                   28.165864   \n",
       "\n",
       "       secondary_cleaner.state.floatbank2_b_level  \\\n",
       "count                                 5290.000000   \n",
       "mean                                  -501.987097   \n",
       "std                                     34.582722   \n",
       "min                                   -797.783989   \n",
       "25%                                   -500.218030   \n",
       "50%                                   -500.019058   \n",
       "75%                                   -499.831532   \n",
       "max                                   -211.999273   \n",
       "\n",
       "       secondary_cleaner.state.floatbank3_a_air  \\\n",
       "count                               5281.000000   \n",
       "mean                                  25.402926   \n",
       "std                                    6.526457   \n",
       "min                                    0.000000   \n",
       "25%                                   22.982288   \n",
       "50%                                   25.010105   \n",
       "75%                                   30.002063   \n",
       "max                                   40.041997   \n",
       "\n",
       "       secondary_cleaner.state.floatbank3_a_level  \\\n",
       "count                                 5290.000000   \n",
       "mean                                  -507.490314   \n",
       "std                                     47.620908   \n",
       "min                                   -799.755798   \n",
       "25%                                   -500.297951   \n",
       "50%                                   -500.034578   \n",
       "75%                                   -499.780163   \n",
       "max                                   -313.866425   \n",
       "\n",
       "       secondary_cleaner.state.floatbank3_b_air  \\\n",
       "count                              5.290000e+03   \n",
       "mean                               2.098211e+01   \n",
       "std                                6.736179e+00   \n",
       "min                                1.521587e-17   \n",
       "25%                                1.796786e+01   \n",
       "50%                                2.100316e+01   \n",
       "75%                                2.697698e+01   \n",
       "max                                3.203936e+01   \n",
       "\n",
       "       secondary_cleaner.state.floatbank3_b_level  \\\n",
       "count                                 5290.000000   \n",
       "mean                                  -506.627916   \n",
       "std                                     44.528673   \n",
       "min                                   -809.333008   \n",
       "25%                                   -500.145128   \n",
       "50%                                   -500.013819   \n",
       "75%                                   -499.890608   \n",
       "max                                   -202.277366   \n",
       "\n",
       "       secondary_cleaner.state.floatbank4_a_air  \\\n",
       "count                              5.290000e+03   \n",
       "mean                               1.632007e+01   \n",
       "std                                3.493583e+00   \n",
       "min                                1.079872e-16   \n",
       "25%                                1.403618e+01   \n",
       "50%                                1.700847e+01   \n",
       "75%                                1.803862e+01   \n",
       "max                                3.005180e+01   \n",
       "\n",
       "       secondary_cleaner.state.floatbank4_a_level  \\\n",
       "count                                 5290.000000   \n",
       "mean                                  -505.144570   \n",
       "std                                     31.427337   \n",
       "min                                   -799.798523   \n",
       "25%                                   -500.868258   \n",
       "50%                                   -500.115727   \n",
       "75%                                   -499.404224   \n",
       "max                                   -401.565212   \n",
       "\n",
       "       secondary_cleaner.state.floatbank4_b_air  \\\n",
       "count                              5.290000e+03   \n",
       "mean                               1.373544e+01   \n",
       "std                                3.430484e+00   \n",
       "min                                2.489718e-17   \n",
       "25%                                1.202862e+01   \n",
       "50%                                1.496486e+01   \n",
       "75%                                1.596213e+01   \n",
       "max                                3.126971e+01   \n",
       "\n",
       "       secondary_cleaner.state.floatbank4_b_level  \\\n",
       "count                                 5290.000000   \n",
       "mean                                  -463.349858   \n",
       "std                                     86.189107   \n",
       "min                                   -800.836914   \n",
       "25%                                   -500.323028   \n",
       "50%                                   -499.576513   \n",
       "75%                                   -400.933805   \n",
       "max                                     -6.506986   \n",
       "\n",
       "       secondary_cleaner.state.floatbank5_a_air  \\\n",
       "count                               5290.000000   \n",
       "mean                                  12.804186   \n",
       "std                                    3.026591   \n",
       "min                                    0.069227   \n",
       "25%                                   10.914838   \n",
       "50%                                   12.954182   \n",
       "75%                                   15.097528   \n",
       "max                                   25.258848   \n",
       "\n",
       "       secondary_cleaner.state.floatbank5_a_level  \\\n",
       "count                                 5290.000000   \n",
       "mean                                  -501.329122   \n",
       "std                                     17.951495   \n",
       "min                                   -797.323986   \n",
       "25%                                   -500.726841   \n",
       "50%                                   -499.990332   \n",
       "75%                                   -499.283191   \n",
       "max                                   -244.483566   \n",
       "\n",
       "       secondary_cleaner.state.floatbank5_b_air  \\\n",
       "count                               5290.000000   \n",
       "mean                                   9.881145   \n",
       "std                                    2.868205   \n",
       "min                                    0.528083   \n",
       "25%                                    8.036719   \n",
       "50%                                   10.004301   \n",
       "75%                                   11.997467   \n",
       "max                                   14.086866   \n",
       "\n",
       "       secondary_cleaner.state.floatbank5_b_level  \\\n",
       "count                                 5290.000000   \n",
       "mean                                  -495.663398   \n",
       "std                                     34.535007   \n",
       "min                                   -800.220337   \n",
       "25%                                   -500.194668   \n",
       "50%                                   -499.990535   \n",
       "75%                                   -499.719913   \n",
       "max                                   -137.740004   \n",
       "\n",
       "       secondary_cleaner.state.floatbank6_a_air  \\\n",
       "count                               5290.000000   \n",
       "mean                                  17.304935   \n",
       "std                                    4.536544   \n",
       "min                                   -0.079426   \n",
       "25%                                   13.997317   \n",
       "50%                                   16.014935   \n",
       "75%                                   21.020013   \n",
       "max                                   26.705889   \n",
       "\n",
       "       secondary_cleaner.state.floatbank6_a_level  \n",
       "count                                 5290.000000  \n",
       "mean                                  -501.793193  \n",
       "std                                     39.044215  \n",
       "min                                   -809.741464  \n",
       "25%                                   -500.690984  \n",
       "50%                                   -500.007126  \n",
       "75%                                   -499.373018  \n",
       "max                                   -123.307487  "
      ]
     },
     "metadata": {},
     "output_type": "display_data"
    },
    {
     "name": "stdout",
     "output_type": "stream",
     "text": [
      "<class 'pandas.core.frame.DataFrame'>\n",
      "RangeIndex: 5290 entries, 0 to 5289\n",
      "Data columns (total 53 columns):\n",
      " #   Column                                      Non-Null Count  Dtype  \n",
      "---  ------                                      --------------  -----  \n",
      " 0   date                                        5290 non-null   object \n",
      " 1   primary_cleaner.input.sulfate               5286 non-null   float64\n",
      " 2   primary_cleaner.input.depressant            5285 non-null   float64\n",
      " 3   primary_cleaner.input.feed_size             5290 non-null   float64\n",
      " 4   primary_cleaner.input.xanthate              5286 non-null   float64\n",
      " 5   primary_cleaner.state.floatbank8_a_air      5290 non-null   float64\n",
      " 6   primary_cleaner.state.floatbank8_a_level    5290 non-null   float64\n",
      " 7   primary_cleaner.state.floatbank8_b_air      5290 non-null   float64\n",
      " 8   primary_cleaner.state.floatbank8_b_level    5290 non-null   float64\n",
      " 9   primary_cleaner.state.floatbank8_c_air      5290 non-null   float64\n",
      " 10  primary_cleaner.state.floatbank8_c_level    5290 non-null   float64\n",
      " 11  primary_cleaner.state.floatbank8_d_air      5290 non-null   float64\n",
      " 12  primary_cleaner.state.floatbank8_d_level    5290 non-null   float64\n",
      " 13  rougher.input.feed_ag                       5290 non-null   float64\n",
      " 14  rougher.input.feed_pb                       5290 non-null   float64\n",
      " 15  rougher.input.feed_rate                     5287 non-null   float64\n",
      " 16  rougher.input.feed_size                     5289 non-null   float64\n",
      " 17  rougher.input.feed_sol                      5269 non-null   float64\n",
      " 18  rougher.input.feed_au                       5290 non-null   float64\n",
      " 19  rougher.input.floatbank10_sulfate           5285 non-null   float64\n",
      " 20  rougher.input.floatbank10_xanthate          5290 non-null   float64\n",
      " 21  rougher.input.floatbank11_sulfate           5282 non-null   float64\n",
      " 22  rougher.input.floatbank11_xanthate          5265 non-null   float64\n",
      " 23  rougher.state.floatbank10_a_air             5290 non-null   float64\n",
      " 24  rougher.state.floatbank10_a_level           5290 non-null   float64\n",
      " 25  rougher.state.floatbank10_b_air             5290 non-null   float64\n",
      " 26  rougher.state.floatbank10_b_level           5290 non-null   float64\n",
      " 27  rougher.state.floatbank10_c_air             5290 non-null   float64\n",
      " 28  rougher.state.floatbank10_c_level           5290 non-null   float64\n",
      " 29  rougher.state.floatbank10_d_air             5290 non-null   float64\n",
      " 30  rougher.state.floatbank10_d_level           5290 non-null   float64\n",
      " 31  rougher.state.floatbank10_e_air             5290 non-null   float64\n",
      " 32  rougher.state.floatbank10_e_level           5290 non-null   float64\n",
      " 33  rougher.state.floatbank10_f_air             5290 non-null   float64\n",
      " 34  rougher.state.floatbank10_f_level           5290 non-null   float64\n",
      " 35  secondary_cleaner.state.floatbank2_a_air    5287 non-null   float64\n",
      " 36  secondary_cleaner.state.floatbank2_a_level  5290 non-null   float64\n",
      " 37  secondary_cleaner.state.floatbank2_b_air    5288 non-null   float64\n",
      " 38  secondary_cleaner.state.floatbank2_b_level  5290 non-null   float64\n",
      " 39  secondary_cleaner.state.floatbank3_a_air    5281 non-null   float64\n",
      " 40  secondary_cleaner.state.floatbank3_a_level  5290 non-null   float64\n",
      " 41  secondary_cleaner.state.floatbank3_b_air    5290 non-null   float64\n",
      " 42  secondary_cleaner.state.floatbank3_b_level  5290 non-null   float64\n",
      " 43  secondary_cleaner.state.floatbank4_a_air    5290 non-null   float64\n",
      " 44  secondary_cleaner.state.floatbank4_a_level  5290 non-null   float64\n",
      " 45  secondary_cleaner.state.floatbank4_b_air    5290 non-null   float64\n",
      " 46  secondary_cleaner.state.floatbank4_b_level  5290 non-null   float64\n",
      " 47  secondary_cleaner.state.floatbank5_a_air    5290 non-null   float64\n",
      " 48  secondary_cleaner.state.floatbank5_a_level  5290 non-null   float64\n",
      " 49  secondary_cleaner.state.floatbank5_b_air    5290 non-null   float64\n",
      " 50  secondary_cleaner.state.floatbank5_b_level  5290 non-null   float64\n",
      " 51  secondary_cleaner.state.floatbank6_a_air    5290 non-null   float64\n",
      " 52  secondary_cleaner.state.floatbank6_a_level  5290 non-null   float64\n",
      "dtypes: float64(52), object(1)\n",
      "memory usage: 2.1+ MB\n"
     ]
    }
   ],
   "source": [
    "print('Тестовая выборка')\n",
    "read_data(test)"
   ]
  },
  {
   "cell_type": "code",
   "execution_count": 7,
   "metadata": {
    "scrolled": false
   },
   "outputs": [
    {
     "name": "stdout",
     "output_type": "stream",
     "text": [
      "Полная выборка\n",
      "Количество стобцов: 87\n",
      "Количество строк: 19439\n",
      "Количество дупликатов 0\n"
     ]
    },
    {
     "data": {
      "text/html": [
       "<div>\n",
       "<style scoped>\n",
       "    .dataframe tbody tr th:only-of-type {\n",
       "        vertical-align: middle;\n",
       "    }\n",
       "\n",
       "    .dataframe tbody tr th {\n",
       "        vertical-align: top;\n",
       "    }\n",
       "\n",
       "    .dataframe thead th {\n",
       "        text-align: right;\n",
       "    }\n",
       "</style>\n",
       "<table border=\"1\" class=\"dataframe\">\n",
       "  <thead>\n",
       "    <tr style=\"text-align: right;\">\n",
       "      <th></th>\n",
       "      <th>date</th>\n",
       "      <th>final.output.concentrate_ag</th>\n",
       "      <th>final.output.concentrate_pb</th>\n",
       "      <th>final.output.concentrate_sol</th>\n",
       "      <th>final.output.concentrate_au</th>\n",
       "      <th>final.output.recovery</th>\n",
       "      <th>final.output.tail_ag</th>\n",
       "      <th>final.output.tail_pb</th>\n",
       "      <th>final.output.tail_sol</th>\n",
       "      <th>final.output.tail_au</th>\n",
       "      <th>primary_cleaner.input.sulfate</th>\n",
       "      <th>primary_cleaner.input.depressant</th>\n",
       "      <th>primary_cleaner.input.feed_size</th>\n",
       "      <th>primary_cleaner.input.xanthate</th>\n",
       "      <th>primary_cleaner.output.concentrate_ag</th>\n",
       "      <th>primary_cleaner.output.concentrate_pb</th>\n",
       "      <th>primary_cleaner.output.concentrate_sol</th>\n",
       "      <th>primary_cleaner.output.concentrate_au</th>\n",
       "      <th>primary_cleaner.output.tail_ag</th>\n",
       "      <th>primary_cleaner.output.tail_pb</th>\n",
       "      <th>primary_cleaner.output.tail_sol</th>\n",
       "      <th>primary_cleaner.output.tail_au</th>\n",
       "      <th>primary_cleaner.state.floatbank8_a_air</th>\n",
       "      <th>primary_cleaner.state.floatbank8_a_level</th>\n",
       "      <th>primary_cleaner.state.floatbank8_b_air</th>\n",
       "      <th>primary_cleaner.state.floatbank8_b_level</th>\n",
       "      <th>primary_cleaner.state.floatbank8_c_air</th>\n",
       "      <th>primary_cleaner.state.floatbank8_c_level</th>\n",
       "      <th>primary_cleaner.state.floatbank8_d_air</th>\n",
       "      <th>primary_cleaner.state.floatbank8_d_level</th>\n",
       "      <th>rougher.calculation.sulfate_to_au_concentrate</th>\n",
       "      <th>rougher.calculation.floatbank10_sulfate_to_au_feed</th>\n",
       "      <th>rougher.calculation.floatbank11_sulfate_to_au_feed</th>\n",
       "      <th>rougher.calculation.au_pb_ratio</th>\n",
       "      <th>rougher.input.feed_ag</th>\n",
       "      <th>rougher.input.feed_pb</th>\n",
       "      <th>rougher.input.feed_rate</th>\n",
       "      <th>rougher.input.feed_size</th>\n",
       "      <th>rougher.input.feed_sol</th>\n",
       "      <th>rougher.input.feed_au</th>\n",
       "      <th>rougher.input.floatbank10_sulfate</th>\n",
       "      <th>rougher.input.floatbank10_xanthate</th>\n",
       "      <th>rougher.input.floatbank11_sulfate</th>\n",
       "      <th>rougher.input.floatbank11_xanthate</th>\n",
       "      <th>rougher.output.concentrate_ag</th>\n",
       "      <th>rougher.output.concentrate_pb</th>\n",
       "      <th>rougher.output.concentrate_sol</th>\n",
       "      <th>rougher.output.concentrate_au</th>\n",
       "      <th>rougher.output.recovery</th>\n",
       "      <th>rougher.output.tail_ag</th>\n",
       "      <th>rougher.output.tail_pb</th>\n",
       "      <th>rougher.output.tail_sol</th>\n",
       "      <th>rougher.output.tail_au</th>\n",
       "      <th>rougher.state.floatbank10_a_air</th>\n",
       "      <th>rougher.state.floatbank10_a_level</th>\n",
       "      <th>rougher.state.floatbank10_b_air</th>\n",
       "      <th>rougher.state.floatbank10_b_level</th>\n",
       "      <th>rougher.state.floatbank10_c_air</th>\n",
       "      <th>rougher.state.floatbank10_c_level</th>\n",
       "      <th>rougher.state.floatbank10_d_air</th>\n",
       "      <th>rougher.state.floatbank10_d_level</th>\n",
       "      <th>rougher.state.floatbank10_e_air</th>\n",
       "      <th>rougher.state.floatbank10_e_level</th>\n",
       "      <th>rougher.state.floatbank10_f_air</th>\n",
       "      <th>rougher.state.floatbank10_f_level</th>\n",
       "      <th>secondary_cleaner.output.tail_ag</th>\n",
       "      <th>secondary_cleaner.output.tail_pb</th>\n",
       "      <th>secondary_cleaner.output.tail_sol</th>\n",
       "      <th>secondary_cleaner.output.tail_au</th>\n",
       "      <th>secondary_cleaner.state.floatbank2_a_air</th>\n",
       "      <th>secondary_cleaner.state.floatbank2_a_level</th>\n",
       "      <th>secondary_cleaner.state.floatbank2_b_air</th>\n",
       "      <th>secondary_cleaner.state.floatbank2_b_level</th>\n",
       "      <th>secondary_cleaner.state.floatbank3_a_air</th>\n",
       "      <th>secondary_cleaner.state.floatbank3_a_level</th>\n",
       "      <th>secondary_cleaner.state.floatbank3_b_air</th>\n",
       "      <th>secondary_cleaner.state.floatbank3_b_level</th>\n",
       "      <th>secondary_cleaner.state.floatbank4_a_air</th>\n",
       "      <th>secondary_cleaner.state.floatbank4_a_level</th>\n",
       "      <th>secondary_cleaner.state.floatbank4_b_air</th>\n",
       "      <th>secondary_cleaner.state.floatbank4_b_level</th>\n",
       "      <th>secondary_cleaner.state.floatbank5_a_air</th>\n",
       "      <th>secondary_cleaner.state.floatbank5_a_level</th>\n",
       "      <th>secondary_cleaner.state.floatbank5_b_air</th>\n",
       "      <th>secondary_cleaner.state.floatbank5_b_level</th>\n",
       "      <th>secondary_cleaner.state.floatbank6_a_air</th>\n",
       "      <th>secondary_cleaner.state.floatbank6_a_level</th>\n",
       "    </tr>\n",
       "  </thead>\n",
       "  <tbody>\n",
       "    <tr>\n",
       "      <th>0</th>\n",
       "      <td>2016-01-15 00:00:00</td>\n",
       "      <td>6.055403</td>\n",
       "      <td>9.889648</td>\n",
       "      <td>5.507324</td>\n",
       "      <td>42.192020</td>\n",
       "      <td>70.541216</td>\n",
       "      <td>10.411962</td>\n",
       "      <td>0.895447</td>\n",
       "      <td>16.904297</td>\n",
       "      <td>2.143149</td>\n",
       "      <td>127.092003</td>\n",
       "      <td>10.128295</td>\n",
       "      <td>7.25</td>\n",
       "      <td>0.988759</td>\n",
       "      <td>8.547551</td>\n",
       "      <td>10.389648</td>\n",
       "      <td>19.529297</td>\n",
       "      <td>34.174427</td>\n",
       "      <td>14.936526</td>\n",
       "      <td>2.534912</td>\n",
       "      <td>7.476074</td>\n",
       "      <td>2.106679</td>\n",
       "      <td>1549.775757</td>\n",
       "      <td>-498.912140</td>\n",
       "      <td>1551.434204</td>\n",
       "      <td>-516.403442</td>\n",
       "      <td>1549.873901</td>\n",
       "      <td>-498.666595</td>\n",
       "      <td>1554.367432</td>\n",
       "      <td>-493.428131</td>\n",
       "      <td>41885.707031</td>\n",
       "      <td>3481.779053</td>\n",
       "      <td>3520.337158</td>\n",
       "      <td>2.838687</td>\n",
       "      <td>6.100378</td>\n",
       "      <td>2.284912</td>\n",
       "      <td>523.546326</td>\n",
       "      <td>55.486599</td>\n",
       "      <td>36.808594</td>\n",
       "      <td>6.486150</td>\n",
       "      <td>11.986616</td>\n",
       "      <td>6.007990</td>\n",
       "      <td>11.836743</td>\n",
       "      <td>6.005818</td>\n",
       "      <td>11.500771</td>\n",
       "      <td>7.101074</td>\n",
       "      <td>28.029297</td>\n",
       "      <td>19.793808</td>\n",
       "      <td>87.107763</td>\n",
       "      <td>5.008018</td>\n",
       "      <td>0.508728</td>\n",
       "      <td>19.154297</td>\n",
       "      <td>1.170244</td>\n",
       "      <td>999.706909</td>\n",
       "      <td>-404.066986</td>\n",
       "      <td>1603.011353</td>\n",
       "      <td>-434.715027</td>\n",
       "      <td>1602.375000</td>\n",
       "      <td>-442.204468</td>\n",
       "      <td>1598.937256</td>\n",
       "      <td>-451.294128</td>\n",
       "      <td>1404.472046</td>\n",
       "      <td>-455.462982</td>\n",
       "      <td>1416.354980</td>\n",
       "      <td>-451.939636</td>\n",
       "      <td>14.500184</td>\n",
       "      <td>4.694824</td>\n",
       "      <td>8.764648</td>\n",
       "      <td>2.606185</td>\n",
       "      <td>25.853109</td>\n",
       "      <td>-498.526489</td>\n",
       "      <td>23.893660</td>\n",
       "      <td>-501.406281</td>\n",
       "      <td>23.961798</td>\n",
       "      <td>-495.262817</td>\n",
       "      <td>21.940409</td>\n",
       "      <td>-499.340973</td>\n",
       "      <td>14.016835</td>\n",
       "      <td>-502.488007</td>\n",
       "      <td>12.099931</td>\n",
       "      <td>-504.715942</td>\n",
       "      <td>9.925633</td>\n",
       "      <td>-498.310211</td>\n",
       "      <td>8.079666</td>\n",
       "      <td>-500.470978</td>\n",
       "      <td>14.151341</td>\n",
       "      <td>-605.841980</td>\n",
       "    </tr>\n",
       "    <tr>\n",
       "      <th>1</th>\n",
       "      <td>2016-01-15 01:00:00</td>\n",
       "      <td>6.029369</td>\n",
       "      <td>9.968944</td>\n",
       "      <td>5.257781</td>\n",
       "      <td>42.701629</td>\n",
       "      <td>69.266198</td>\n",
       "      <td>10.462676</td>\n",
       "      <td>0.927452</td>\n",
       "      <td>16.634514</td>\n",
       "      <td>2.224930</td>\n",
       "      <td>125.629232</td>\n",
       "      <td>10.296251</td>\n",
       "      <td>7.25</td>\n",
       "      <td>1.002663</td>\n",
       "      <td>8.558743</td>\n",
       "      <td>10.497069</td>\n",
       "      <td>19.369147</td>\n",
       "      <td>34.118526</td>\n",
       "      <td>16.250511</td>\n",
       "      <td>3.049646</td>\n",
       "      <td>6.733907</td>\n",
       "      <td>2.353017</td>\n",
       "      <td>1576.166671</td>\n",
       "      <td>-500.904965</td>\n",
       "      <td>1575.950626</td>\n",
       "      <td>-499.865889</td>\n",
       "      <td>1575.994189</td>\n",
       "      <td>-499.315107</td>\n",
       "      <td>1574.479259</td>\n",
       "      <td>-498.931665</td>\n",
       "      <td>42050.861809</td>\n",
       "      <td>3498.370979</td>\n",
       "      <td>3489.981857</td>\n",
       "      <td>2.858998</td>\n",
       "      <td>6.161113</td>\n",
       "      <td>2.266033</td>\n",
       "      <td>525.290581</td>\n",
       "      <td>57.278666</td>\n",
       "      <td>35.753385</td>\n",
       "      <td>6.478583</td>\n",
       "      <td>11.971193</td>\n",
       "      <td>6.005766</td>\n",
       "      <td>11.996163</td>\n",
       "      <td>6.012594</td>\n",
       "      <td>11.615865</td>\n",
       "      <td>7.278807</td>\n",
       "      <td>28.067063</td>\n",
       "      <td>20.050975</td>\n",
       "      <td>86.843261</td>\n",
       "      <td>4.955378</td>\n",
       "      <td>0.536689</td>\n",
       "      <td>18.965234</td>\n",
       "      <td>1.184827</td>\n",
       "      <td>1000.286398</td>\n",
       "      <td>-400.065196</td>\n",
       "      <td>1600.754587</td>\n",
       "      <td>-449.953435</td>\n",
       "      <td>1600.479580</td>\n",
       "      <td>-449.830646</td>\n",
       "      <td>1600.527589</td>\n",
       "      <td>-449.953649</td>\n",
       "      <td>1399.227084</td>\n",
       "      <td>-450.869848</td>\n",
       "      <td>1399.719514</td>\n",
       "      <td>-450.119001</td>\n",
       "      <td>14.265474</td>\n",
       "      <td>4.592547</td>\n",
       "      <td>9.001494</td>\n",
       "      <td>2.488248</td>\n",
       "      <td>25.880539</td>\n",
       "      <td>-499.989656</td>\n",
       "      <td>23.889530</td>\n",
       "      <td>-500.372428</td>\n",
       "      <td>23.970550</td>\n",
       "      <td>-500.085473</td>\n",
       "      <td>22.085714</td>\n",
       "      <td>-499.446897</td>\n",
       "      <td>13.992281</td>\n",
       "      <td>-505.503262</td>\n",
       "      <td>11.950531</td>\n",
       "      <td>-501.331529</td>\n",
       "      <td>10.039245</td>\n",
       "      <td>-500.169983</td>\n",
       "      <td>7.984757</td>\n",
       "      <td>-500.582168</td>\n",
       "      <td>13.998353</td>\n",
       "      <td>-599.787184</td>\n",
       "    </tr>\n",
       "    <tr>\n",
       "      <th>2</th>\n",
       "      <td>2016-01-15 02:00:00</td>\n",
       "      <td>6.055926</td>\n",
       "      <td>10.213995</td>\n",
       "      <td>5.383759</td>\n",
       "      <td>42.657501</td>\n",
       "      <td>68.116445</td>\n",
       "      <td>10.507046</td>\n",
       "      <td>0.953716</td>\n",
       "      <td>16.208849</td>\n",
       "      <td>2.257889</td>\n",
       "      <td>123.819808</td>\n",
       "      <td>11.316280</td>\n",
       "      <td>7.25</td>\n",
       "      <td>0.991265</td>\n",
       "      <td>8.603505</td>\n",
       "      <td>10.354494</td>\n",
       "      <td>19.167579</td>\n",
       "      <td>33.969464</td>\n",
       "      <td>16.491823</td>\n",
       "      <td>3.124664</td>\n",
       "      <td>6.471768</td>\n",
       "      <td>2.416800</td>\n",
       "      <td>1601.556163</td>\n",
       "      <td>-499.997791</td>\n",
       "      <td>1600.386685</td>\n",
       "      <td>-500.607762</td>\n",
       "      <td>1602.003542</td>\n",
       "      <td>-500.870069</td>\n",
       "      <td>1599.541515</td>\n",
       "      <td>-499.827444</td>\n",
       "      <td>42018.101184</td>\n",
       "      <td>3495.348910</td>\n",
       "      <td>3502.359819</td>\n",
       "      <td>2.945989</td>\n",
       "      <td>6.116455</td>\n",
       "      <td>2.159622</td>\n",
       "      <td>530.026610</td>\n",
       "      <td>57.510649</td>\n",
       "      <td>35.971630</td>\n",
       "      <td>6.362222</td>\n",
       "      <td>11.920603</td>\n",
       "      <td>6.197377</td>\n",
       "      <td>11.920305</td>\n",
       "      <td>6.204633</td>\n",
       "      <td>11.695753</td>\n",
       "      <td>7.216833</td>\n",
       "      <td>27.454037</td>\n",
       "      <td>19.737170</td>\n",
       "      <td>86.842308</td>\n",
       "      <td>4.843460</td>\n",
       "      <td>0.546416</td>\n",
       "      <td>18.808533</td>\n",
       "      <td>1.162562</td>\n",
       "      <td>999.719565</td>\n",
       "      <td>-400.074028</td>\n",
       "      <td>1599.337330</td>\n",
       "      <td>-450.008530</td>\n",
       "      <td>1599.672797</td>\n",
       "      <td>-449.954491</td>\n",
       "      <td>1599.849325</td>\n",
       "      <td>-449.954185</td>\n",
       "      <td>1399.180945</td>\n",
       "      <td>-449.937588</td>\n",
       "      <td>1400.316682</td>\n",
       "      <td>-450.527147</td>\n",
       "      <td>14.115662</td>\n",
       "      <td>4.624775</td>\n",
       "      <td>8.842896</td>\n",
       "      <td>2.458187</td>\n",
       "      <td>26.005245</td>\n",
       "      <td>-499.929616</td>\n",
       "      <td>23.886657</td>\n",
       "      <td>-499.951928</td>\n",
       "      <td>23.913535</td>\n",
       "      <td>-499.442343</td>\n",
       "      <td>23.957717</td>\n",
       "      <td>-499.901982</td>\n",
       "      <td>14.015015</td>\n",
       "      <td>-502.520901</td>\n",
       "      <td>11.912783</td>\n",
       "      <td>-501.133383</td>\n",
       "      <td>10.070913</td>\n",
       "      <td>-500.129135</td>\n",
       "      <td>8.013877</td>\n",
       "      <td>-500.517572</td>\n",
       "      <td>14.028663</td>\n",
       "      <td>-601.427363</td>\n",
       "    </tr>\n",
       "    <tr>\n",
       "      <th>3</th>\n",
       "      <td>2016-01-15 03:00:00</td>\n",
       "      <td>6.047977</td>\n",
       "      <td>9.977019</td>\n",
       "      <td>4.858634</td>\n",
       "      <td>42.689819</td>\n",
       "      <td>68.347543</td>\n",
       "      <td>10.422762</td>\n",
       "      <td>0.883763</td>\n",
       "      <td>16.532835</td>\n",
       "      <td>2.146849</td>\n",
       "      <td>122.270188</td>\n",
       "      <td>11.322140</td>\n",
       "      <td>7.25</td>\n",
       "      <td>0.996739</td>\n",
       "      <td>7.221879</td>\n",
       "      <td>8.496563</td>\n",
       "      <td>15.978538</td>\n",
       "      <td>28.260743</td>\n",
       "      <td>16.024359</td>\n",
       "      <td>2.960362</td>\n",
       "      <td>6.843791</td>\n",
       "      <td>2.262051</td>\n",
       "      <td>1599.968720</td>\n",
       "      <td>-500.951778</td>\n",
       "      <td>1600.659236</td>\n",
       "      <td>-499.677094</td>\n",
       "      <td>1600.304144</td>\n",
       "      <td>-500.727997</td>\n",
       "      <td>1600.449520</td>\n",
       "      <td>-500.052575</td>\n",
       "      <td>42029.447991</td>\n",
       "      <td>3498.578313</td>\n",
       "      <td>3499.162912</td>\n",
       "      <td>3.002340</td>\n",
       "      <td>6.043309</td>\n",
       "      <td>2.037807</td>\n",
       "      <td>542.590390</td>\n",
       "      <td>57.792734</td>\n",
       "      <td>36.862241</td>\n",
       "      <td>6.118189</td>\n",
       "      <td>11.630094</td>\n",
       "      <td>6.203177</td>\n",
       "      <td>11.692450</td>\n",
       "      <td>6.196578</td>\n",
       "      <td>11.915047</td>\n",
       "      <td>7.175616</td>\n",
       "      <td>27.341277</td>\n",
       "      <td>19.320810</td>\n",
       "      <td>87.226430</td>\n",
       "      <td>4.655288</td>\n",
       "      <td>0.542525</td>\n",
       "      <td>19.330200</td>\n",
       "      <td>1.079755</td>\n",
       "      <td>999.814770</td>\n",
       "      <td>-400.200179</td>\n",
       "      <td>1600.059442</td>\n",
       "      <td>-450.619948</td>\n",
       "      <td>1600.012842</td>\n",
       "      <td>-449.910497</td>\n",
       "      <td>1597.725177</td>\n",
       "      <td>-450.130127</td>\n",
       "      <td>1400.943157</td>\n",
       "      <td>-450.030142</td>\n",
       "      <td>1400.234743</td>\n",
       "      <td>-449.790835</td>\n",
       "      <td>13.732071</td>\n",
       "      <td>4.482453</td>\n",
       "      <td>9.122857</td>\n",
       "      <td>2.322062</td>\n",
       "      <td>25.942508</td>\n",
       "      <td>-499.176749</td>\n",
       "      <td>23.955516</td>\n",
       "      <td>-499.848796</td>\n",
       "      <td>23.966838</td>\n",
       "      <td>-500.008812</td>\n",
       "      <td>23.954443</td>\n",
       "      <td>-499.944710</td>\n",
       "      <td>14.036510</td>\n",
       "      <td>-500.857308</td>\n",
       "      <td>11.999550</td>\n",
       "      <td>-501.193686</td>\n",
       "      <td>9.970366</td>\n",
       "      <td>-499.201640</td>\n",
       "      <td>7.977324</td>\n",
       "      <td>-500.255908</td>\n",
       "      <td>14.005551</td>\n",
       "      <td>-599.996129</td>\n",
       "    </tr>\n",
       "    <tr>\n",
       "      <th>4</th>\n",
       "      <td>2016-01-15 04:00:00</td>\n",
       "      <td>6.148599</td>\n",
       "      <td>10.142511</td>\n",
       "      <td>4.939416</td>\n",
       "      <td>42.774141</td>\n",
       "      <td>66.927016</td>\n",
       "      <td>10.360302</td>\n",
       "      <td>0.792826</td>\n",
       "      <td>16.525686</td>\n",
       "      <td>2.055292</td>\n",
       "      <td>117.988169</td>\n",
       "      <td>11.913613</td>\n",
       "      <td>7.25</td>\n",
       "      <td>1.009869</td>\n",
       "      <td>9.089428</td>\n",
       "      <td>9.986786</td>\n",
       "      <td>19.199864</td>\n",
       "      <td>33.044932</td>\n",
       "      <td>16.480185</td>\n",
       "      <td>3.112100</td>\n",
       "      <td>6.550154</td>\n",
       "      <td>2.277073</td>\n",
       "      <td>1601.339707</td>\n",
       "      <td>-498.975456</td>\n",
       "      <td>1601.437854</td>\n",
       "      <td>-500.323246</td>\n",
       "      <td>1599.581894</td>\n",
       "      <td>-500.888152</td>\n",
       "      <td>1602.649541</td>\n",
       "      <td>-500.593010</td>\n",
       "      <td>42125.354245</td>\n",
       "      <td>3494.800771</td>\n",
       "      <td>3506.679315</td>\n",
       "      <td>3.169615</td>\n",
       "      <td>6.060915</td>\n",
       "      <td>1.786875</td>\n",
       "      <td>540.531893</td>\n",
       "      <td>56.047189</td>\n",
       "      <td>34.347666</td>\n",
       "      <td>5.663707</td>\n",
       "      <td>10.957755</td>\n",
       "      <td>6.198826</td>\n",
       "      <td>10.960521</td>\n",
       "      <td>6.194897</td>\n",
       "      <td>12.411054</td>\n",
       "      <td>7.240205</td>\n",
       "      <td>27.041023</td>\n",
       "      <td>19.216101</td>\n",
       "      <td>86.688794</td>\n",
       "      <td>4.552800</td>\n",
       "      <td>0.515438</td>\n",
       "      <td>19.267422</td>\n",
       "      <td>1.012642</td>\n",
       "      <td>999.678690</td>\n",
       "      <td>-399.752729</td>\n",
       "      <td>1600.208824</td>\n",
       "      <td>-449.599614</td>\n",
       "      <td>1600.357732</td>\n",
       "      <td>-450.034364</td>\n",
       "      <td>1599.759049</td>\n",
       "      <td>-449.909799</td>\n",
       "      <td>1401.560902</td>\n",
       "      <td>-448.877187</td>\n",
       "      <td>1401.160227</td>\n",
       "      <td>-450.407128</td>\n",
       "      <td>14.079996</td>\n",
       "      <td>4.470737</td>\n",
       "      <td>8.871028</td>\n",
       "      <td>2.330448</td>\n",
       "      <td>26.024787</td>\n",
       "      <td>-500.279091</td>\n",
       "      <td>23.955345</td>\n",
       "      <td>-500.593614</td>\n",
       "      <td>23.985703</td>\n",
       "      <td>-500.083811</td>\n",
       "      <td>23.958945</td>\n",
       "      <td>-499.990309</td>\n",
       "      <td>14.027298</td>\n",
       "      <td>-499.838632</td>\n",
       "      <td>11.953070</td>\n",
       "      <td>-501.053894</td>\n",
       "      <td>9.925709</td>\n",
       "      <td>-501.686727</td>\n",
       "      <td>7.894242</td>\n",
       "      <td>-500.356035</td>\n",
       "      <td>13.996647</td>\n",
       "      <td>-601.496691</td>\n",
       "    </tr>\n",
       "  </tbody>\n",
       "</table>\n",
       "</div>"
      ],
      "text/plain": [
       "                  date  final.output.concentrate_ag  \\\n",
       "0  2016-01-15 00:00:00                     6.055403   \n",
       "1  2016-01-15 01:00:00                     6.029369   \n",
       "2  2016-01-15 02:00:00                     6.055926   \n",
       "3  2016-01-15 03:00:00                     6.047977   \n",
       "4  2016-01-15 04:00:00                     6.148599   \n",
       "\n",
       "   final.output.concentrate_pb  final.output.concentrate_sol  \\\n",
       "0                     9.889648                      5.507324   \n",
       "1                     9.968944                      5.257781   \n",
       "2                    10.213995                      5.383759   \n",
       "3                     9.977019                      4.858634   \n",
       "4                    10.142511                      4.939416   \n",
       "\n",
       "   final.output.concentrate_au  final.output.recovery  final.output.tail_ag  \\\n",
       "0                    42.192020              70.541216             10.411962   \n",
       "1                    42.701629              69.266198             10.462676   \n",
       "2                    42.657501              68.116445             10.507046   \n",
       "3                    42.689819              68.347543             10.422762   \n",
       "4                    42.774141              66.927016             10.360302   \n",
       "\n",
       "   final.output.tail_pb  final.output.tail_sol  final.output.tail_au  \\\n",
       "0              0.895447              16.904297              2.143149   \n",
       "1              0.927452              16.634514              2.224930   \n",
       "2              0.953716              16.208849              2.257889   \n",
       "3              0.883763              16.532835              2.146849   \n",
       "4              0.792826              16.525686              2.055292   \n",
       "\n",
       "   primary_cleaner.input.sulfate  primary_cleaner.input.depressant  \\\n",
       "0                     127.092003                         10.128295   \n",
       "1                     125.629232                         10.296251   \n",
       "2                     123.819808                         11.316280   \n",
       "3                     122.270188                         11.322140   \n",
       "4                     117.988169                         11.913613   \n",
       "\n",
       "   primary_cleaner.input.feed_size  primary_cleaner.input.xanthate  \\\n",
       "0                             7.25                        0.988759   \n",
       "1                             7.25                        1.002663   \n",
       "2                             7.25                        0.991265   \n",
       "3                             7.25                        0.996739   \n",
       "4                             7.25                        1.009869   \n",
       "\n",
       "   primary_cleaner.output.concentrate_ag  \\\n",
       "0                               8.547551   \n",
       "1                               8.558743   \n",
       "2                               8.603505   \n",
       "3                               7.221879   \n",
       "4                               9.089428   \n",
       "\n",
       "   primary_cleaner.output.concentrate_pb  \\\n",
       "0                              10.389648   \n",
       "1                              10.497069   \n",
       "2                              10.354494   \n",
       "3                               8.496563   \n",
       "4                               9.986786   \n",
       "\n",
       "   primary_cleaner.output.concentrate_sol  \\\n",
       "0                               19.529297   \n",
       "1                               19.369147   \n",
       "2                               19.167579   \n",
       "3                               15.978538   \n",
       "4                               19.199864   \n",
       "\n",
       "   primary_cleaner.output.concentrate_au  primary_cleaner.output.tail_ag  \\\n",
       "0                              34.174427                       14.936526   \n",
       "1                              34.118526                       16.250511   \n",
       "2                              33.969464                       16.491823   \n",
       "3                              28.260743                       16.024359   \n",
       "4                              33.044932                       16.480185   \n",
       "\n",
       "   primary_cleaner.output.tail_pb  primary_cleaner.output.tail_sol  \\\n",
       "0                        2.534912                         7.476074   \n",
       "1                        3.049646                         6.733907   \n",
       "2                        3.124664                         6.471768   \n",
       "3                        2.960362                         6.843791   \n",
       "4                        3.112100                         6.550154   \n",
       "\n",
       "   primary_cleaner.output.tail_au  primary_cleaner.state.floatbank8_a_air  \\\n",
       "0                        2.106679                             1549.775757   \n",
       "1                        2.353017                             1576.166671   \n",
       "2                        2.416800                             1601.556163   \n",
       "3                        2.262051                             1599.968720   \n",
       "4                        2.277073                             1601.339707   \n",
       "\n",
       "   primary_cleaner.state.floatbank8_a_level  \\\n",
       "0                               -498.912140   \n",
       "1                               -500.904965   \n",
       "2                               -499.997791   \n",
       "3                               -500.951778   \n",
       "4                               -498.975456   \n",
       "\n",
       "   primary_cleaner.state.floatbank8_b_air  \\\n",
       "0                             1551.434204   \n",
       "1                             1575.950626   \n",
       "2                             1600.386685   \n",
       "3                             1600.659236   \n",
       "4                             1601.437854   \n",
       "\n",
       "   primary_cleaner.state.floatbank8_b_level  \\\n",
       "0                               -516.403442   \n",
       "1                               -499.865889   \n",
       "2                               -500.607762   \n",
       "3                               -499.677094   \n",
       "4                               -500.323246   \n",
       "\n",
       "   primary_cleaner.state.floatbank8_c_air  \\\n",
       "0                             1549.873901   \n",
       "1                             1575.994189   \n",
       "2                             1602.003542   \n",
       "3                             1600.304144   \n",
       "4                             1599.581894   \n",
       "\n",
       "   primary_cleaner.state.floatbank8_c_level  \\\n",
       "0                               -498.666595   \n",
       "1                               -499.315107   \n",
       "2                               -500.870069   \n",
       "3                               -500.727997   \n",
       "4                               -500.888152   \n",
       "\n",
       "   primary_cleaner.state.floatbank8_d_air  \\\n",
       "0                             1554.367432   \n",
       "1                             1574.479259   \n",
       "2                             1599.541515   \n",
       "3                             1600.449520   \n",
       "4                             1602.649541   \n",
       "\n",
       "   primary_cleaner.state.floatbank8_d_level  \\\n",
       "0                               -493.428131   \n",
       "1                               -498.931665   \n",
       "2                               -499.827444   \n",
       "3                               -500.052575   \n",
       "4                               -500.593010   \n",
       "\n",
       "   rougher.calculation.sulfate_to_au_concentrate  \\\n",
       "0                                   41885.707031   \n",
       "1                                   42050.861809   \n",
       "2                                   42018.101184   \n",
       "3                                   42029.447991   \n",
       "4                                   42125.354245   \n",
       "\n",
       "   rougher.calculation.floatbank10_sulfate_to_au_feed  \\\n",
       "0                                        3481.779053    \n",
       "1                                        3498.370979    \n",
       "2                                        3495.348910    \n",
       "3                                        3498.578313    \n",
       "4                                        3494.800771    \n",
       "\n",
       "   rougher.calculation.floatbank11_sulfate_to_au_feed  \\\n",
       "0                                        3520.337158    \n",
       "1                                        3489.981857    \n",
       "2                                        3502.359819    \n",
       "3                                        3499.162912    \n",
       "4                                        3506.679315    \n",
       "\n",
       "   rougher.calculation.au_pb_ratio  rougher.input.feed_ag  \\\n",
       "0                         2.838687               6.100378   \n",
       "1                         2.858998               6.161113   \n",
       "2                         2.945989               6.116455   \n",
       "3                         3.002340               6.043309   \n",
       "4                         3.169615               6.060915   \n",
       "\n",
       "   rougher.input.feed_pb  rougher.input.feed_rate  rougher.input.feed_size  \\\n",
       "0               2.284912               523.546326                55.486599   \n",
       "1               2.266033               525.290581                57.278666   \n",
       "2               2.159622               530.026610                57.510649   \n",
       "3               2.037807               542.590390                57.792734   \n",
       "4               1.786875               540.531893                56.047189   \n",
       "\n",
       "   rougher.input.feed_sol  rougher.input.feed_au  \\\n",
       "0               36.808594               6.486150   \n",
       "1               35.753385               6.478583   \n",
       "2               35.971630               6.362222   \n",
       "3               36.862241               6.118189   \n",
       "4               34.347666               5.663707   \n",
       "\n",
       "   rougher.input.floatbank10_sulfate  rougher.input.floatbank10_xanthate  \\\n",
       "0                          11.986616                            6.007990   \n",
       "1                          11.971193                            6.005766   \n",
       "2                          11.920603                            6.197377   \n",
       "3                          11.630094                            6.203177   \n",
       "4                          10.957755                            6.198826   \n",
       "\n",
       "   rougher.input.floatbank11_sulfate  rougher.input.floatbank11_xanthate  \\\n",
       "0                          11.836743                            6.005818   \n",
       "1                          11.996163                            6.012594   \n",
       "2                          11.920305                            6.204633   \n",
       "3                          11.692450                            6.196578   \n",
       "4                          10.960521                            6.194897   \n",
       "\n",
       "   rougher.output.concentrate_ag  rougher.output.concentrate_pb  \\\n",
       "0                      11.500771                       7.101074   \n",
       "1                      11.615865                       7.278807   \n",
       "2                      11.695753                       7.216833   \n",
       "3                      11.915047                       7.175616   \n",
       "4                      12.411054                       7.240205   \n",
       "\n",
       "   rougher.output.concentrate_sol  rougher.output.concentrate_au  \\\n",
       "0                       28.029297                      19.793808   \n",
       "1                       28.067063                      20.050975   \n",
       "2                       27.454037                      19.737170   \n",
       "3                       27.341277                      19.320810   \n",
       "4                       27.041023                      19.216101   \n",
       "\n",
       "   rougher.output.recovery  rougher.output.tail_ag  rougher.output.tail_pb  \\\n",
       "0                87.107763                5.008018                0.508728   \n",
       "1                86.843261                4.955378                0.536689   \n",
       "2                86.842308                4.843460                0.546416   \n",
       "3                87.226430                4.655288                0.542525   \n",
       "4                86.688794                4.552800                0.515438   \n",
       "\n",
       "   rougher.output.tail_sol  rougher.output.tail_au  \\\n",
       "0                19.154297                1.170244   \n",
       "1                18.965234                1.184827   \n",
       "2                18.808533                1.162562   \n",
       "3                19.330200                1.079755   \n",
       "4                19.267422                1.012642   \n",
       "\n",
       "   rougher.state.floatbank10_a_air  rougher.state.floatbank10_a_level  \\\n",
       "0                       999.706909                        -404.066986   \n",
       "1                      1000.286398                        -400.065196   \n",
       "2                       999.719565                        -400.074028   \n",
       "3                       999.814770                        -400.200179   \n",
       "4                       999.678690                        -399.752729   \n",
       "\n",
       "   rougher.state.floatbank10_b_air  rougher.state.floatbank10_b_level  \\\n",
       "0                      1603.011353                        -434.715027   \n",
       "1                      1600.754587                        -449.953435   \n",
       "2                      1599.337330                        -450.008530   \n",
       "3                      1600.059442                        -450.619948   \n",
       "4                      1600.208824                        -449.599614   \n",
       "\n",
       "   rougher.state.floatbank10_c_air  rougher.state.floatbank10_c_level  \\\n",
       "0                      1602.375000                        -442.204468   \n",
       "1                      1600.479580                        -449.830646   \n",
       "2                      1599.672797                        -449.954491   \n",
       "3                      1600.012842                        -449.910497   \n",
       "4                      1600.357732                        -450.034364   \n",
       "\n",
       "   rougher.state.floatbank10_d_air  rougher.state.floatbank10_d_level  \\\n",
       "0                      1598.937256                        -451.294128   \n",
       "1                      1600.527589                        -449.953649   \n",
       "2                      1599.849325                        -449.954185   \n",
       "3                      1597.725177                        -450.130127   \n",
       "4                      1599.759049                        -449.909799   \n",
       "\n",
       "   rougher.state.floatbank10_e_air  rougher.state.floatbank10_e_level  \\\n",
       "0                      1404.472046                        -455.462982   \n",
       "1                      1399.227084                        -450.869848   \n",
       "2                      1399.180945                        -449.937588   \n",
       "3                      1400.943157                        -450.030142   \n",
       "4                      1401.560902                        -448.877187   \n",
       "\n",
       "   rougher.state.floatbank10_f_air  rougher.state.floatbank10_f_level  \\\n",
       "0                      1416.354980                        -451.939636   \n",
       "1                      1399.719514                        -450.119001   \n",
       "2                      1400.316682                        -450.527147   \n",
       "3                      1400.234743                        -449.790835   \n",
       "4                      1401.160227                        -450.407128   \n",
       "\n",
       "   secondary_cleaner.output.tail_ag  secondary_cleaner.output.tail_pb  \\\n",
       "0                         14.500184                          4.694824   \n",
       "1                         14.265474                          4.592547   \n",
       "2                         14.115662                          4.624775   \n",
       "3                         13.732071                          4.482453   \n",
       "4                         14.079996                          4.470737   \n",
       "\n",
       "   secondary_cleaner.output.tail_sol  secondary_cleaner.output.tail_au  \\\n",
       "0                           8.764648                          2.606185   \n",
       "1                           9.001494                          2.488248   \n",
       "2                           8.842896                          2.458187   \n",
       "3                           9.122857                          2.322062   \n",
       "4                           8.871028                          2.330448   \n",
       "\n",
       "   secondary_cleaner.state.floatbank2_a_air  \\\n",
       "0                                 25.853109   \n",
       "1                                 25.880539   \n",
       "2                                 26.005245   \n",
       "3                                 25.942508   \n",
       "4                                 26.024787   \n",
       "\n",
       "   secondary_cleaner.state.floatbank2_a_level  \\\n",
       "0                                 -498.526489   \n",
       "1                                 -499.989656   \n",
       "2                                 -499.929616   \n",
       "3                                 -499.176749   \n",
       "4                                 -500.279091   \n",
       "\n",
       "   secondary_cleaner.state.floatbank2_b_air  \\\n",
       "0                                 23.893660   \n",
       "1                                 23.889530   \n",
       "2                                 23.886657   \n",
       "3                                 23.955516   \n",
       "4                                 23.955345   \n",
       "\n",
       "   secondary_cleaner.state.floatbank2_b_level  \\\n",
       "0                                 -501.406281   \n",
       "1                                 -500.372428   \n",
       "2                                 -499.951928   \n",
       "3                                 -499.848796   \n",
       "4                                 -500.593614   \n",
       "\n",
       "   secondary_cleaner.state.floatbank3_a_air  \\\n",
       "0                                 23.961798   \n",
       "1                                 23.970550   \n",
       "2                                 23.913535   \n",
       "3                                 23.966838   \n",
       "4                                 23.985703   \n",
       "\n",
       "   secondary_cleaner.state.floatbank3_a_level  \\\n",
       "0                                 -495.262817   \n",
       "1                                 -500.085473   \n",
       "2                                 -499.442343   \n",
       "3                                 -500.008812   \n",
       "4                                 -500.083811   \n",
       "\n",
       "   secondary_cleaner.state.floatbank3_b_air  \\\n",
       "0                                 21.940409   \n",
       "1                                 22.085714   \n",
       "2                                 23.957717   \n",
       "3                                 23.954443   \n",
       "4                                 23.958945   \n",
       "\n",
       "   secondary_cleaner.state.floatbank3_b_level  \\\n",
       "0                                 -499.340973   \n",
       "1                                 -499.446897   \n",
       "2                                 -499.901982   \n",
       "3                                 -499.944710   \n",
       "4                                 -499.990309   \n",
       "\n",
       "   secondary_cleaner.state.floatbank4_a_air  \\\n",
       "0                                 14.016835   \n",
       "1                                 13.992281   \n",
       "2                                 14.015015   \n",
       "3                                 14.036510   \n",
       "4                                 14.027298   \n",
       "\n",
       "   secondary_cleaner.state.floatbank4_a_level  \\\n",
       "0                                 -502.488007   \n",
       "1                                 -505.503262   \n",
       "2                                 -502.520901   \n",
       "3                                 -500.857308   \n",
       "4                                 -499.838632   \n",
       "\n",
       "   secondary_cleaner.state.floatbank4_b_air  \\\n",
       "0                                 12.099931   \n",
       "1                                 11.950531   \n",
       "2                                 11.912783   \n",
       "3                                 11.999550   \n",
       "4                                 11.953070   \n",
       "\n",
       "   secondary_cleaner.state.floatbank4_b_level  \\\n",
       "0                                 -504.715942   \n",
       "1                                 -501.331529   \n",
       "2                                 -501.133383   \n",
       "3                                 -501.193686   \n",
       "4                                 -501.053894   \n",
       "\n",
       "   secondary_cleaner.state.floatbank5_a_air  \\\n",
       "0                                  9.925633   \n",
       "1                                 10.039245   \n",
       "2                                 10.070913   \n",
       "3                                  9.970366   \n",
       "4                                  9.925709   \n",
       "\n",
       "   secondary_cleaner.state.floatbank5_a_level  \\\n",
       "0                                 -498.310211   \n",
       "1                                 -500.169983   \n",
       "2                                 -500.129135   \n",
       "3                                 -499.201640   \n",
       "4                                 -501.686727   \n",
       "\n",
       "   secondary_cleaner.state.floatbank5_b_air  \\\n",
       "0                                  8.079666   \n",
       "1                                  7.984757   \n",
       "2                                  8.013877   \n",
       "3                                  7.977324   \n",
       "4                                  7.894242   \n",
       "\n",
       "   secondary_cleaner.state.floatbank5_b_level  \\\n",
       "0                                 -500.470978   \n",
       "1                                 -500.582168   \n",
       "2                                 -500.517572   \n",
       "3                                 -500.255908   \n",
       "4                                 -500.356035   \n",
       "\n",
       "   secondary_cleaner.state.floatbank6_a_air  \\\n",
       "0                                 14.151341   \n",
       "1                                 13.998353   \n",
       "2                                 14.028663   \n",
       "3                                 14.005551   \n",
       "4                                 13.996647   \n",
       "\n",
       "   secondary_cleaner.state.floatbank6_a_level  \n",
       "0                                 -605.841980  \n",
       "1                                 -599.787184  \n",
       "2                                 -601.427363  \n",
       "3                                 -599.996129  \n",
       "4                                 -601.496691  "
      ]
     },
     "metadata": {},
     "output_type": "display_data"
    },
    {
     "data": {
      "text/html": [
       "<div>\n",
       "<style scoped>\n",
       "    .dataframe tbody tr th:only-of-type {\n",
       "        vertical-align: middle;\n",
       "    }\n",
       "\n",
       "    .dataframe tbody tr th {\n",
       "        vertical-align: top;\n",
       "    }\n",
       "\n",
       "    .dataframe thead th {\n",
       "        text-align: right;\n",
       "    }\n",
       "</style>\n",
       "<table border=\"1\" class=\"dataframe\">\n",
       "  <thead>\n",
       "    <tr style=\"text-align: right;\">\n",
       "      <th></th>\n",
       "      <th>final.output.concentrate_ag</th>\n",
       "      <th>final.output.concentrate_pb</th>\n",
       "      <th>final.output.concentrate_sol</th>\n",
       "      <th>final.output.concentrate_au</th>\n",
       "      <th>final.output.recovery</th>\n",
       "      <th>final.output.tail_ag</th>\n",
       "      <th>final.output.tail_pb</th>\n",
       "      <th>final.output.tail_sol</th>\n",
       "      <th>final.output.tail_au</th>\n",
       "      <th>primary_cleaner.input.sulfate</th>\n",
       "      <th>primary_cleaner.input.depressant</th>\n",
       "      <th>primary_cleaner.input.feed_size</th>\n",
       "      <th>primary_cleaner.input.xanthate</th>\n",
       "      <th>primary_cleaner.output.concentrate_ag</th>\n",
       "      <th>primary_cleaner.output.concentrate_pb</th>\n",
       "      <th>primary_cleaner.output.concentrate_sol</th>\n",
       "      <th>primary_cleaner.output.concentrate_au</th>\n",
       "      <th>primary_cleaner.output.tail_ag</th>\n",
       "      <th>primary_cleaner.output.tail_pb</th>\n",
       "      <th>primary_cleaner.output.tail_sol</th>\n",
       "      <th>primary_cleaner.output.tail_au</th>\n",
       "      <th>primary_cleaner.state.floatbank8_a_air</th>\n",
       "      <th>primary_cleaner.state.floatbank8_a_level</th>\n",
       "      <th>primary_cleaner.state.floatbank8_b_air</th>\n",
       "      <th>primary_cleaner.state.floatbank8_b_level</th>\n",
       "      <th>primary_cleaner.state.floatbank8_c_air</th>\n",
       "      <th>primary_cleaner.state.floatbank8_c_level</th>\n",
       "      <th>primary_cleaner.state.floatbank8_d_air</th>\n",
       "      <th>primary_cleaner.state.floatbank8_d_level</th>\n",
       "      <th>rougher.calculation.sulfate_to_au_concentrate</th>\n",
       "      <th>rougher.calculation.floatbank10_sulfate_to_au_feed</th>\n",
       "      <th>rougher.calculation.floatbank11_sulfate_to_au_feed</th>\n",
       "      <th>rougher.calculation.au_pb_ratio</th>\n",
       "      <th>rougher.input.feed_ag</th>\n",
       "      <th>rougher.input.feed_pb</th>\n",
       "      <th>rougher.input.feed_rate</th>\n",
       "      <th>rougher.input.feed_size</th>\n",
       "      <th>rougher.input.feed_sol</th>\n",
       "      <th>rougher.input.feed_au</th>\n",
       "      <th>rougher.input.floatbank10_sulfate</th>\n",
       "      <th>rougher.input.floatbank10_xanthate</th>\n",
       "      <th>rougher.input.floatbank11_sulfate</th>\n",
       "      <th>rougher.input.floatbank11_xanthate</th>\n",
       "      <th>rougher.output.concentrate_ag</th>\n",
       "      <th>rougher.output.concentrate_pb</th>\n",
       "      <th>rougher.output.concentrate_sol</th>\n",
       "      <th>rougher.output.concentrate_au</th>\n",
       "      <th>rougher.output.recovery</th>\n",
       "      <th>rougher.output.tail_ag</th>\n",
       "      <th>rougher.output.tail_pb</th>\n",
       "      <th>rougher.output.tail_sol</th>\n",
       "      <th>rougher.output.tail_au</th>\n",
       "      <th>rougher.state.floatbank10_a_air</th>\n",
       "      <th>rougher.state.floatbank10_a_level</th>\n",
       "      <th>rougher.state.floatbank10_b_air</th>\n",
       "      <th>rougher.state.floatbank10_b_level</th>\n",
       "      <th>rougher.state.floatbank10_c_air</th>\n",
       "      <th>rougher.state.floatbank10_c_level</th>\n",
       "      <th>rougher.state.floatbank10_d_air</th>\n",
       "      <th>rougher.state.floatbank10_d_level</th>\n",
       "      <th>rougher.state.floatbank10_e_air</th>\n",
       "      <th>rougher.state.floatbank10_e_level</th>\n",
       "      <th>rougher.state.floatbank10_f_air</th>\n",
       "      <th>rougher.state.floatbank10_f_level</th>\n",
       "      <th>secondary_cleaner.output.tail_ag</th>\n",
       "      <th>secondary_cleaner.output.tail_pb</th>\n",
       "      <th>secondary_cleaner.output.tail_sol</th>\n",
       "      <th>secondary_cleaner.output.tail_au</th>\n",
       "      <th>secondary_cleaner.state.floatbank2_a_air</th>\n",
       "      <th>secondary_cleaner.state.floatbank2_a_level</th>\n",
       "      <th>secondary_cleaner.state.floatbank2_b_air</th>\n",
       "      <th>secondary_cleaner.state.floatbank2_b_level</th>\n",
       "      <th>secondary_cleaner.state.floatbank3_a_air</th>\n",
       "      <th>secondary_cleaner.state.floatbank3_a_level</th>\n",
       "      <th>secondary_cleaner.state.floatbank3_b_air</th>\n",
       "      <th>secondary_cleaner.state.floatbank3_b_level</th>\n",
       "      <th>secondary_cleaner.state.floatbank4_a_air</th>\n",
       "      <th>secondary_cleaner.state.floatbank4_a_level</th>\n",
       "      <th>secondary_cleaner.state.floatbank4_b_air</th>\n",
       "      <th>secondary_cleaner.state.floatbank4_b_level</th>\n",
       "      <th>secondary_cleaner.state.floatbank5_a_air</th>\n",
       "      <th>secondary_cleaner.state.floatbank5_a_level</th>\n",
       "      <th>secondary_cleaner.state.floatbank5_b_air</th>\n",
       "      <th>secondary_cleaner.state.floatbank5_b_level</th>\n",
       "      <th>secondary_cleaner.state.floatbank6_a_air</th>\n",
       "      <th>secondary_cleaner.state.floatbank6_a_level</th>\n",
       "    </tr>\n",
       "  </thead>\n",
       "  <tbody>\n",
       "    <tr>\n",
       "      <th>count</th>\n",
       "      <td>19438.000000</td>\n",
       "      <td>19438.000000</td>\n",
       "      <td>19228.000000</td>\n",
       "      <td>19439.000000</td>\n",
       "      <td>19439.000000</td>\n",
       "      <td>19438.000000</td>\n",
       "      <td>19338.000000</td>\n",
       "      <td>19433.000000</td>\n",
       "      <td>19439.000000</td>\n",
       "      <td>19415.000000</td>\n",
       "      <td>19402.000000</td>\n",
       "      <td>19439.000000</td>\n",
       "      <td>19335.000000</td>\n",
       "      <td>19439.000000</td>\n",
       "      <td>19323.000000</td>\n",
       "      <td>19069.000000</td>\n",
       "      <td>19439.000000</td>\n",
       "      <td>19435.000000</td>\n",
       "      <td>19418.000000</td>\n",
       "      <td>19377.000000</td>\n",
       "      <td>19439.000000</td>\n",
       "      <td>1.943500e+04</td>\n",
       "      <td>19438.000000</td>\n",
       "      <td>1.943500e+04</td>\n",
       "      <td>19438.000000</td>\n",
       "      <td>1.943700e+04</td>\n",
       "      <td>19438.000000</td>\n",
       "      <td>1.943600e+04</td>\n",
       "      <td>19438.000000</td>\n",
       "      <td>1.943700e+04</td>\n",
       "      <td>19437.000000</td>\n",
       "      <td>19437.000000</td>\n",
       "      <td>19439.000000</td>\n",
       "      <td>19439.000000</td>\n",
       "      <td>19339.000000</td>\n",
       "      <td>19428.000000</td>\n",
       "      <td>19294.000000</td>\n",
       "      <td>19340.000000</td>\n",
       "      <td>19439.000000</td>\n",
       "      <td>19405.000000</td>\n",
       "      <td>19431.000000</td>\n",
       "      <td>19395.000000</td>\n",
       "      <td>18986.000000</td>\n",
       "      <td>19439.000000</td>\n",
       "      <td>19439.000000</td>\n",
       "      <td>19416.000000</td>\n",
       "      <td>19439.000000</td>\n",
       "      <td>19439.000000</td>\n",
       "      <td>19438.000000</td>\n",
       "      <td>19439.000000</td>\n",
       "      <td>19439.000000</td>\n",
       "      <td>19439.000000</td>\n",
       "      <td>19438.000000</td>\n",
       "      <td>19438.000000</td>\n",
       "      <td>19438.000000</td>\n",
       "      <td>19438.000000</td>\n",
       "      <td>19438.000000</td>\n",
       "      <td>19438.000000</td>\n",
       "      <td>19439.000000</td>\n",
       "      <td>19439.000000</td>\n",
       "      <td>19003.000000</td>\n",
       "      <td>19439.000000</td>\n",
       "      <td>19439.000000</td>\n",
       "      <td>19439.000000</td>\n",
       "      <td>19437.000000</td>\n",
       "      <td>19427.000000</td>\n",
       "      <td>17691.000000</td>\n",
       "      <td>19439.000000</td>\n",
       "      <td>19219.000000</td>\n",
       "      <td>19438.000000</td>\n",
       "      <td>19416.000000</td>\n",
       "      <td>19438.000000</td>\n",
       "      <td>19426.000000</td>\n",
       "      <td>19438.000000</td>\n",
       "      <td>19438.000000</td>\n",
       "      <td>19438.000000</td>\n",
       "      <td>19433.000000</td>\n",
       "      <td>19438.000000</td>\n",
       "      <td>19438.000000</td>\n",
       "      <td>19438.000000</td>\n",
       "      <td>19438.000000</td>\n",
       "      <td>19438.000000</td>\n",
       "      <td>19438.000000</td>\n",
       "      <td>19438.000000</td>\n",
       "      <td>19437.000000</td>\n",
       "      <td>19438.000000</td>\n",
       "    </tr>\n",
       "    <tr>\n",
       "      <th>mean</th>\n",
       "      <td>5.168470</td>\n",
       "      <td>9.978895</td>\n",
       "      <td>9.501224</td>\n",
       "      <td>44.076513</td>\n",
       "      <td>67.050208</td>\n",
       "      <td>9.688589</td>\n",
       "      <td>2.705795</td>\n",
       "      <td>10.583728</td>\n",
       "      <td>3.042467</td>\n",
       "      <td>144.624774</td>\n",
       "      <td>8.817039</td>\n",
       "      <td>7.307078</td>\n",
       "      <td>1.021795</td>\n",
       "      <td>8.442408</td>\n",
       "      <td>9.829530</td>\n",
       "      <td>10.489499</td>\n",
       "      <td>32.119400</td>\n",
       "      <td>16.145826</td>\n",
       "      <td>3.435656</td>\n",
       "      <td>7.973209</td>\n",
       "      <td>3.914179</td>\n",
       "      <td>1.589354e+03</td>\n",
       "      <td>-491.195012</td>\n",
       "      <td>1.591344e+03</td>\n",
       "      <td>-492.192978</td>\n",
       "      <td>1.586669e+03</td>\n",
       "      <td>-491.980070</td>\n",
       "      <td>1.542912e+03</td>\n",
       "      <td>-488.017382</td>\n",
       "      <td>4.217119e+04</td>\n",
       "      <td>3393.052498</td>\n",
       "      <td>3256.854171</td>\n",
       "      <td>2.420119</td>\n",
       "      <td>8.794927</td>\n",
       "      <td>3.598085</td>\n",
       "      <td>478.320042</td>\n",
       "      <td>58.970310</td>\n",
       "      <td>36.695114</td>\n",
       "      <td>8.266097</td>\n",
       "      <td>12.334373</td>\n",
       "      <td>6.021474</td>\n",
       "      <td>12.064140</td>\n",
       "      <td>6.065533</td>\n",
       "      <td>11.994759</td>\n",
       "      <td>7.606272</td>\n",
       "      <td>28.805571</td>\n",
       "      <td>19.772000</td>\n",
       "      <td>83.328587</td>\n",
       "      <td>5.588982</td>\n",
       "      <td>0.645782</td>\n",
       "      <td>18.057106</td>\n",
       "      <td>1.816391</td>\n",
       "      <td>1105.315068</td>\n",
       "      <td>-376.610690</td>\n",
       "      <td>1320.221139</td>\n",
       "      <td>-467.247826</td>\n",
       "      <td>1299.968799</td>\n",
       "      <td>-467.716946</td>\n",
       "      <td>1211.563299</td>\n",
       "      <td>-468.239912</td>\n",
       "      <td>1080.869685</td>\n",
       "      <td>-466.037742</td>\n",
       "      <td>1025.274256</td>\n",
       "      <td>-466.265327</td>\n",
       "      <td>14.586833</td>\n",
       "      <td>5.777703</td>\n",
       "      <td>7.167247</td>\n",
       "      <td>4.339625</td>\n",
       "      <td>28.705564</td>\n",
       "      <td>-502.367331</td>\n",
       "      <td>24.106800</td>\n",
       "      <td>-503.230712</td>\n",
       "      <td>28.199338</td>\n",
       "      <td>-486.203350</td>\n",
       "      <td>22.200645</td>\n",
       "      <td>-493.742107</td>\n",
       "      <td>18.987674</td>\n",
       "      <td>-485.894516</td>\n",
       "      <td>15.010366</td>\n",
       "      <td>-461.078636</td>\n",
       "      <td>15.694452</td>\n",
       "      <td>-488.684065</td>\n",
       "      <td>12.198224</td>\n",
       "      <td>-487.149827</td>\n",
       "      <td>18.959024</td>\n",
       "      <td>-505.436305</td>\n",
       "    </tr>\n",
       "    <tr>\n",
       "      <th>std</th>\n",
       "      <td>1.372348</td>\n",
       "      <td>1.669240</td>\n",
       "      <td>2.787537</td>\n",
       "      <td>5.129784</td>\n",
       "      <td>10.125840</td>\n",
       "      <td>2.328642</td>\n",
       "      <td>0.949077</td>\n",
       "      <td>2.868782</td>\n",
       "      <td>0.922808</td>\n",
       "      <td>44.464071</td>\n",
       "      <td>3.286186</td>\n",
       "      <td>0.613509</td>\n",
       "      <td>0.513254</td>\n",
       "      <td>2.054465</td>\n",
       "      <td>2.556843</td>\n",
       "      <td>3.909639</td>\n",
       "      <td>5.627611</td>\n",
       "      <td>3.548598</td>\n",
       "      <td>1.392536</td>\n",
       "      <td>2.212677</td>\n",
       "      <td>1.593034</td>\n",
       "      <td>1.289968e+02</td>\n",
       "      <td>32.431842</td>\n",
       "      <td>1.318109e+02</td>\n",
       "      <td>33.794822</td>\n",
       "      <td>1.361114e+02</td>\n",
       "      <td>32.711455</td>\n",
       "      <td>2.461996e+02</td>\n",
       "      <td>43.959780</td>\n",
       "      <td>3.243621e+05</td>\n",
       "      <td>4943.845943</td>\n",
       "      <td>5781.423659</td>\n",
       "      <td>0.814935</td>\n",
       "      <td>1.936847</td>\n",
       "      <td>1.049486</td>\n",
       "      <td>105.373758</td>\n",
       "      <td>21.634478</td>\n",
       "      <td>5.145445</td>\n",
       "      <td>1.955092</td>\n",
       "      <td>3.427317</td>\n",
       "      <td>1.127263</td>\n",
       "      <td>3.784221</td>\n",
       "      <td>1.099118</td>\n",
       "      <td>2.733862</td>\n",
       "      <td>1.796757</td>\n",
       "      <td>5.944207</td>\n",
       "      <td>3.753600</td>\n",
       "      <td>14.148086</td>\n",
       "      <td>1.111288</td>\n",
       "      <td>0.251526</td>\n",
       "      <td>3.449218</td>\n",
       "      <td>0.680046</td>\n",
       "      <td>160.826798</td>\n",
       "      <td>93.909667</td>\n",
       "      <td>176.287095</td>\n",
       "      <td>54.673142</td>\n",
       "      <td>202.804325</td>\n",
       "      <td>53.534825</td>\n",
       "      <td>204.019326</td>\n",
       "      <td>53.921458</td>\n",
       "      <td>172.149992</td>\n",
       "      <td>57.384424</td>\n",
       "      <td>164.487837</td>\n",
       "      <td>57.850263</td>\n",
       "      <td>4.265202</td>\n",
       "      <td>2.774598</td>\n",
       "      <td>3.916079</td>\n",
       "      <td>2.326751</td>\n",
       "      <td>5.458789</td>\n",
       "      <td>53.571950</td>\n",
       "      <td>5.749616</td>\n",
       "      <td>56.567724</td>\n",
       "      <td>6.134908</td>\n",
       "      <td>54.412349</td>\n",
       "      <td>5.574001</td>\n",
       "      <td>43.372158</td>\n",
       "      <td>5.411058</td>\n",
       "      <td>47.758570</td>\n",
       "      <td>4.890228</td>\n",
       "      <td>67.405524</td>\n",
       "      <td>5.510974</td>\n",
       "      <td>34.533396</td>\n",
       "      <td>5.333024</td>\n",
       "      <td>38.347312</td>\n",
       "      <td>5.550498</td>\n",
       "      <td>37.689057</td>\n",
       "    </tr>\n",
       "    <tr>\n",
       "      <th>min</th>\n",
       "      <td>0.000000</td>\n",
       "      <td>0.000000</td>\n",
       "      <td>0.000000</td>\n",
       "      <td>0.000000</td>\n",
       "      <td>0.000000</td>\n",
       "      <td>0.000000</td>\n",
       "      <td>0.000000</td>\n",
       "      <td>0.000000</td>\n",
       "      <td>0.000000</td>\n",
       "      <td>0.003112</td>\n",
       "      <td>0.000000</td>\n",
       "      <td>1.080000</td>\n",
       "      <td>0.000005</td>\n",
       "      <td>0.000000</td>\n",
       "      <td>0.000000</td>\n",
       "      <td>0.000000</td>\n",
       "      <td>0.000000</td>\n",
       "      <td>0.000000</td>\n",
       "      <td>0.000000</td>\n",
       "      <td>0.000000</td>\n",
       "      <td>0.000000</td>\n",
       "      <td>5.445860e-32</td>\n",
       "      <td>-798.641662</td>\n",
       "      <td>6.647490e-32</td>\n",
       "      <td>-799.997015</td>\n",
       "      <td>4.033736e-32</td>\n",
       "      <td>-799.960571</td>\n",
       "      <td>4.039220e-32</td>\n",
       "      <td>-799.794250</td>\n",
       "      <td>-4.223520e+07</td>\n",
       "      <td>-486.598675</td>\n",
       "      <td>-264.982785</td>\n",
       "      <td>-0.010548</td>\n",
       "      <td>0.010000</td>\n",
       "      <td>0.010000</td>\n",
       "      <td>0.002986</td>\n",
       "      <td>0.046369</td>\n",
       "      <td>0.010000</td>\n",
       "      <td>0.010000</td>\n",
       "      <td>0.001083</td>\n",
       "      <td>0.000568</td>\n",
       "      <td>0.000077</td>\n",
       "      <td>0.000290</td>\n",
       "      <td>0.000000</td>\n",
       "      <td>0.000000</td>\n",
       "      <td>0.000000</td>\n",
       "      <td>0.000000</td>\n",
       "      <td>0.000000</td>\n",
       "      <td>0.594562</td>\n",
       "      <td>0.007566</td>\n",
       "      <td>10.014648</td>\n",
       "      <td>0.020676</td>\n",
       "      <td>-0.042069</td>\n",
       "      <td>-657.949759</td>\n",
       "      <td>-0.721806</td>\n",
       "      <td>-650.260008</td>\n",
       "      <td>-0.056636</td>\n",
       "      <td>-647.544439</td>\n",
       "      <td>-0.992219</td>\n",
       "      <td>-648.390665</td>\n",
       "      <td>-1.982295</td>\n",
       "      <td>-649.443911</td>\n",
       "      <td>-2.593390</td>\n",
       "      <td>-649.949283</td>\n",
       "      <td>0.000000</td>\n",
       "      <td>0.000000</td>\n",
       "      <td>0.000000</td>\n",
       "      <td>0.000000</td>\n",
       "      <td>0.077503</td>\n",
       "      <td>-799.606441</td>\n",
       "      <td>0.000000</td>\n",
       "      <td>-799.873878</td>\n",
       "      <td>0.000000</td>\n",
       "      <td>-799.755798</td>\n",
       "      <td>0.000000</td>\n",
       "      <td>-809.333008</td>\n",
       "      <td>0.000000</td>\n",
       "      <td>-799.798523</td>\n",
       "      <td>0.000000</td>\n",
       "      <td>-800.836914</td>\n",
       "      <td>-0.372054</td>\n",
       "      <td>-797.323986</td>\n",
       "      <td>0.528083</td>\n",
       "      <td>-800.220337</td>\n",
       "      <td>-0.079426</td>\n",
       "      <td>-809.741464</td>\n",
       "    </tr>\n",
       "    <tr>\n",
       "      <th>25%</th>\n",
       "      <td>4.251240</td>\n",
       "      <td>9.137262</td>\n",
       "      <td>7.722820</td>\n",
       "      <td>43.402215</td>\n",
       "      <td>63.299712</td>\n",
       "      <td>8.062878</td>\n",
       "      <td>2.040119</td>\n",
       "      <td>8.938947</td>\n",
       "      <td>2.461138</td>\n",
       "      <td>114.107029</td>\n",
       "      <td>6.076909</td>\n",
       "      <td>6.940000</td>\n",
       "      <td>0.697224</td>\n",
       "      <td>7.263288</td>\n",
       "      <td>8.702328</td>\n",
       "      <td>7.893893</td>\n",
       "      <td>30.463140</td>\n",
       "      <td>14.017742</td>\n",
       "      <td>2.504365</td>\n",
       "      <td>6.747483</td>\n",
       "      <td>2.924844</td>\n",
       "      <td>1.505063e+03</td>\n",
       "      <td>-500.308544</td>\n",
       "      <td>1.503630e+03</td>\n",
       "      <td>-500.437171</td>\n",
       "      <td>1.500927e+03</td>\n",
       "      <td>-500.703932</td>\n",
       "      <td>1.494219e+03</td>\n",
       "      <td>-500.458365</td>\n",
       "      <td>4.070095e+04</td>\n",
       "      <td>2611.425833</td>\n",
       "      <td>2551.437587</td>\n",
       "      <td>2.035434</td>\n",
       "      <td>7.237967</td>\n",
       "      <td>2.887280</td>\n",
       "      <td>416.525453</td>\n",
       "      <td>47.435103</td>\n",
       "      <td>34.207799</td>\n",
       "      <td>6.854384</td>\n",
       "      <td>10.000362</td>\n",
       "      <td>5.398678</td>\n",
       "      <td>9.998460</td>\n",
       "      <td>5.402368</td>\n",
       "      <td>10.628337</td>\n",
       "      <td>6.725987</td>\n",
       "      <td>27.224120</td>\n",
       "      <td>18.802523</td>\n",
       "      <td>81.037957</td>\n",
       "      <td>4.889892</td>\n",
       "      <td>0.477728</td>\n",
       "      <td>15.822525</td>\n",
       "      <td>1.404207</td>\n",
       "      <td>999.661867</td>\n",
       "      <td>-499.835165</td>\n",
       "      <td>1199.626115</td>\n",
       "      <td>-500.201130</td>\n",
       "      <td>1151.076301</td>\n",
       "      <td>-500.217218</td>\n",
       "      <td>1061.051788</td>\n",
       "      <td>-500.386386</td>\n",
       "      <td>998.675263</td>\n",
       "      <td>-500.232191</td>\n",
       "      <td>900.995511</td>\n",
       "      <td>-500.522553</td>\n",
       "      <td>12.640239</td>\n",
       "      <td>3.864733</td>\n",
       "      <td>3.845475</td>\n",
       "      <td>3.182770</td>\n",
       "      <td>25.048462</td>\n",
       "      <td>-500.233700</td>\n",
       "      <td>20.919853</td>\n",
       "      <td>-500.253794</td>\n",
       "      <td>24.949227</td>\n",
       "      <td>-500.213546</td>\n",
       "      <td>18.995924</td>\n",
       "      <td>-500.123034</td>\n",
       "      <td>14.975734</td>\n",
       "      <td>-500.704892</td>\n",
       "      <td>11.940294</td>\n",
       "      <td>-500.187742</td>\n",
       "      <td>10.988606</td>\n",
       "      <td>-500.458467</td>\n",
       "      <td>8.971105</td>\n",
       "      <td>-500.129462</td>\n",
       "      <td>14.983037</td>\n",
       "      <td>-500.728067</td>\n",
       "    </tr>\n",
       "    <tr>\n",
       "      <th>50%</th>\n",
       "      <td>5.066094</td>\n",
       "      <td>10.102433</td>\n",
       "      <td>9.218961</td>\n",
       "      <td>45.011244</td>\n",
       "      <td>68.172738</td>\n",
       "      <td>9.743623</td>\n",
       "      <td>2.748730</td>\n",
       "      <td>10.622456</td>\n",
       "      <td>2.984909</td>\n",
       "      <td>143.232103</td>\n",
       "      <td>8.038311</td>\n",
       "      <td>7.280000</td>\n",
       "      <td>0.940863</td>\n",
       "      <td>8.507298</td>\n",
       "      <td>10.152433</td>\n",
       "      <td>10.314632</td>\n",
       "      <td>32.841295</td>\n",
       "      <td>15.842836</td>\n",
       "      <td>3.271153</td>\n",
       "      <td>8.183673</td>\n",
       "      <td>3.623234</td>\n",
       "      <td>1.600597e+03</td>\n",
       "      <td>-499.926134</td>\n",
       "      <td>1.600521e+03</td>\n",
       "      <td>-499.956767</td>\n",
       "      <td>1.600254e+03</td>\n",
       "      <td>-499.909524</td>\n",
       "      <td>1.599447e+03</td>\n",
       "      <td>-499.905974</td>\n",
       "      <td>4.469648e+04</td>\n",
       "      <td>3018.353876</td>\n",
       "      <td>2997.218088</td>\n",
       "      <td>2.309665</td>\n",
       "      <td>8.593574</td>\n",
       "      <td>3.534895</td>\n",
       "      <td>499.416120</td>\n",
       "      <td>54.610197</td>\n",
       "      <td>37.202650</td>\n",
       "      <td>8.125839</td>\n",
       "      <td>12.001174</td>\n",
       "      <td>6.008273</td>\n",
       "      <td>12.000204</td>\n",
       "      <td>6.098580</td>\n",
       "      <td>12.098115</td>\n",
       "      <td>7.742580</td>\n",
       "      <td>29.835345</td>\n",
       "      <td>20.280214</td>\n",
       "      <td>86.188892</td>\n",
       "      <td>5.765802</td>\n",
       "      <td>0.617465</td>\n",
       "      <td>18.106867</td>\n",
       "      <td>1.808170</td>\n",
       "      <td>1001.072890</td>\n",
       "      <td>-300.263994</td>\n",
       "      <td>1301.579988</td>\n",
       "      <td>-499.784045</td>\n",
       "      <td>1300.211537</td>\n",
       "      <td>-499.713364</td>\n",
       "      <td>1201.569141</td>\n",
       "      <td>-499.532412</td>\n",
       "      <td>1050.029461</td>\n",
       "      <td>-499.663089</td>\n",
       "      <td>999.924821</td>\n",
       "      <td>-499.471777</td>\n",
       "      <td>15.641902</td>\n",
       "      <td>5.344073</td>\n",
       "      <td>7.685827</td>\n",
       "      <td>4.072412</td>\n",
       "      <td>29.099943</td>\n",
       "      <td>-499.973250</td>\n",
       "      <td>25.043289</td>\n",
       "      <td>-500.015439</td>\n",
       "      <td>27.982129</td>\n",
       "      <td>-499.930680</td>\n",
       "      <td>22.011231</td>\n",
       "      <td>-499.981902</td>\n",
       "      <td>18.017481</td>\n",
       "      <td>-499.837793</td>\n",
       "      <td>14.971014</td>\n",
       "      <td>-499.459786</td>\n",
       "      <td>15.000036</td>\n",
       "      <td>-499.802605</td>\n",
       "      <td>11.019433</td>\n",
       "      <td>-499.935317</td>\n",
       "      <td>19.960541</td>\n",
       "      <td>-500.048400</td>\n",
       "    </tr>\n",
       "    <tr>\n",
       "      <th>75%</th>\n",
       "      <td>5.895527</td>\n",
       "      <td>11.035769</td>\n",
       "      <td>10.947813</td>\n",
       "      <td>46.275313</td>\n",
       "      <td>72.686642</td>\n",
       "      <td>11.134294</td>\n",
       "      <td>3.333216</td>\n",
       "      <td>12.104271</td>\n",
       "      <td>3.571351</td>\n",
       "      <td>175.075656</td>\n",
       "      <td>11.013521</td>\n",
       "      <td>7.670000</td>\n",
       "      <td>1.210990</td>\n",
       "      <td>9.809001</td>\n",
       "      <td>11.424971</td>\n",
       "      <td>13.446702</td>\n",
       "      <td>35.048006</td>\n",
       "      <td>18.013975</td>\n",
       "      <td>4.181748</td>\n",
       "      <td>9.548586</td>\n",
       "      <td>4.585705</td>\n",
       "      <td>1.697658e+03</td>\n",
       "      <td>-499.433950</td>\n",
       "      <td>1.699218e+03</td>\n",
       "      <td>-499.373336</td>\n",
       "      <td>1.699483e+03</td>\n",
       "      <td>-498.857643</td>\n",
       "      <td>1.698525e+03</td>\n",
       "      <td>-499.064695</td>\n",
       "      <td>4.816821e+04</td>\n",
       "      <td>3676.769750</td>\n",
       "      <td>3601.998911</td>\n",
       "      <td>2.731794</td>\n",
       "      <td>10.213771</td>\n",
       "      <td>4.244161</td>\n",
       "      <td>550.172183</td>\n",
       "      <td>65.023044</td>\n",
       "      <td>40.039133</td>\n",
       "      <td>9.769917</td>\n",
       "      <td>14.716595</td>\n",
       "      <td>6.798051</td>\n",
       "      <td>14.636766</td>\n",
       "      <td>6.801233</td>\n",
       "      <td>13.736996</td>\n",
       "      <td>8.565199</td>\n",
       "      <td>32.189933</td>\n",
       "      <td>21.717843</td>\n",
       "      <td>90.010670</td>\n",
       "      <td>6.389234</td>\n",
       "      <td>0.778271</td>\n",
       "      <td>20.088151</td>\n",
       "      <td>2.211861</td>\n",
       "      <td>1205.620588</td>\n",
       "      <td>-299.981998</td>\n",
       "      <td>1448.630789</td>\n",
       "      <td>-400.615589</td>\n",
       "      <td>1449.464001</td>\n",
       "      <td>-400.985743</td>\n",
       "      <td>1352.880320</td>\n",
       "      <td>-401.638550</td>\n",
       "      <td>1199.425140</td>\n",
       "      <td>-401.161191</td>\n",
       "      <td>1099.719692</td>\n",
       "      <td>-401.511042</td>\n",
       "      <td>17.358217</td>\n",
       "      <td>7.788467</td>\n",
       "      <td>10.411296</td>\n",
       "      <td>5.063081</td>\n",
       "      <td>33.012536</td>\n",
       "      <td>-499.671261</td>\n",
       "      <td>28.008197</td>\n",
       "      <td>-499.785698</td>\n",
       "      <td>33.002798</td>\n",
       "      <td>-499.325739</td>\n",
       "      <td>25.998206</td>\n",
       "      <td>-499.812834</td>\n",
       "      <td>23.012470</td>\n",
       "      <td>-498.249730</td>\n",
       "      <td>19.034162</td>\n",
       "      <td>-400.118106</td>\n",
       "      <td>18.026190</td>\n",
       "      <td>-498.384187</td>\n",
       "      <td>14.019088</td>\n",
       "      <td>-499.436708</td>\n",
       "      <td>24.003170</td>\n",
       "      <td>-499.495378</td>\n",
       "    </tr>\n",
       "    <tr>\n",
       "      <th>max</th>\n",
       "      <td>16.001945</td>\n",
       "      <td>17.031899</td>\n",
       "      <td>19.615720</td>\n",
       "      <td>52.756638</td>\n",
       "      <td>100.000000</td>\n",
       "      <td>19.552149</td>\n",
       "      <td>5.804178</td>\n",
       "      <td>22.317730</td>\n",
       "      <td>8.245022</td>\n",
       "      <td>265.983123</td>\n",
       "      <td>40.000000</td>\n",
       "      <td>15.500000</td>\n",
       "      <td>4.102454</td>\n",
       "      <td>16.081632</td>\n",
       "      <td>17.081278</td>\n",
       "      <td>22.458114</td>\n",
       "      <td>45.933934</td>\n",
       "      <td>29.459575</td>\n",
       "      <td>9.634565</td>\n",
       "      <td>22.276364</td>\n",
       "      <td>17.788925</td>\n",
       "      <td>2.103104e+03</td>\n",
       "      <td>-57.195404</td>\n",
       "      <td>2.114907e+03</td>\n",
       "      <td>-142.527229</td>\n",
       "      <td>2.013156e+03</td>\n",
       "      <td>-150.937035</td>\n",
       "      <td>2.398904e+03</td>\n",
       "      <td>-30.601828</td>\n",
       "      <td>3.428099e+06</td>\n",
       "      <td>629638.977914</td>\n",
       "      <td>718684.955855</td>\n",
       "      <td>39.379272</td>\n",
       "      <td>14.596026</td>\n",
       "      <td>7.142594</td>\n",
       "      <td>717.508837</td>\n",
       "      <td>484.967466</td>\n",
       "      <td>53.477742</td>\n",
       "      <td>13.731330</td>\n",
       "      <td>36.118275</td>\n",
       "      <td>9.703448</td>\n",
       "      <td>37.980648</td>\n",
       "      <td>9.698407</td>\n",
       "      <td>24.480271</td>\n",
       "      <td>13.617072</td>\n",
       "      <td>38.351193</td>\n",
       "      <td>28.824507</td>\n",
       "      <td>100.000000</td>\n",
       "      <td>12.719177</td>\n",
       "      <td>3.778064</td>\n",
       "      <td>66.117188</td>\n",
       "      <td>9.688980</td>\n",
       "      <td>1521.980372</td>\n",
       "      <td>-273.776101</td>\n",
       "      <td>1809.194008</td>\n",
       "      <td>-296.383080</td>\n",
       "      <td>2499.129174</td>\n",
       "      <td>-292.155509</td>\n",
       "      <td>1817.199290</td>\n",
       "      <td>-76.397327</td>\n",
       "      <td>1922.636637</td>\n",
       "      <td>-139.753025</td>\n",
       "      <td>1706.307502</td>\n",
       "      <td>-191.718480</td>\n",
       "      <td>23.264738</td>\n",
       "      <td>17.042505</td>\n",
       "      <td>26.000772</td>\n",
       "      <td>26.811643</td>\n",
       "      <td>52.651399</td>\n",
       "      <td>-127.875565</td>\n",
       "      <td>35.152122</td>\n",
       "      <td>-211.999273</td>\n",
       "      <td>44.260464</td>\n",
       "      <td>-191.678810</td>\n",
       "      <td>35.072841</td>\n",
       "      <td>-159.742331</td>\n",
       "      <td>30.115735</td>\n",
       "      <td>-245.239184</td>\n",
       "      <td>31.269706</td>\n",
       "      <td>-6.506986</td>\n",
       "      <td>43.709931</td>\n",
       "      <td>-244.483566</td>\n",
       "      <td>27.926001</td>\n",
       "      <td>-137.740004</td>\n",
       "      <td>32.188906</td>\n",
       "      <td>-104.427459</td>\n",
       "    </tr>\n",
       "  </tbody>\n",
       "</table>\n",
       "</div>"
      ],
      "text/plain": [
       "       final.output.concentrate_ag  final.output.concentrate_pb  \\\n",
       "count                 19438.000000                 19438.000000   \n",
       "mean                      5.168470                     9.978895   \n",
       "std                       1.372348                     1.669240   \n",
       "min                       0.000000                     0.000000   \n",
       "25%                       4.251240                     9.137262   \n",
       "50%                       5.066094                    10.102433   \n",
       "75%                       5.895527                    11.035769   \n",
       "max                      16.001945                    17.031899   \n",
       "\n",
       "       final.output.concentrate_sol  final.output.concentrate_au  \\\n",
       "count                  19228.000000                 19439.000000   \n",
       "mean                       9.501224                    44.076513   \n",
       "std                        2.787537                     5.129784   \n",
       "min                        0.000000                     0.000000   \n",
       "25%                        7.722820                    43.402215   \n",
       "50%                        9.218961                    45.011244   \n",
       "75%                       10.947813                    46.275313   \n",
       "max                       19.615720                    52.756638   \n",
       "\n",
       "       final.output.recovery  final.output.tail_ag  final.output.tail_pb  \\\n",
       "count           19439.000000          19438.000000          19338.000000   \n",
       "mean               67.050208              9.688589              2.705795   \n",
       "std                10.125840              2.328642              0.949077   \n",
       "min                 0.000000              0.000000              0.000000   \n",
       "25%                63.299712              8.062878              2.040119   \n",
       "50%                68.172738              9.743623              2.748730   \n",
       "75%                72.686642             11.134294              3.333216   \n",
       "max               100.000000             19.552149              5.804178   \n",
       "\n",
       "       final.output.tail_sol  final.output.tail_au  \\\n",
       "count           19433.000000          19439.000000   \n",
       "mean               10.583728              3.042467   \n",
       "std                 2.868782              0.922808   \n",
       "min                 0.000000              0.000000   \n",
       "25%                 8.938947              2.461138   \n",
       "50%                10.622456              2.984909   \n",
       "75%                12.104271              3.571351   \n",
       "max                22.317730              8.245022   \n",
       "\n",
       "       primary_cleaner.input.sulfate  primary_cleaner.input.depressant  \\\n",
       "count                   19415.000000                      19402.000000   \n",
       "mean                      144.624774                          8.817039   \n",
       "std                        44.464071                          3.286186   \n",
       "min                         0.003112                          0.000000   \n",
       "25%                       114.107029                          6.076909   \n",
       "50%                       143.232103                          8.038311   \n",
       "75%                       175.075656                         11.013521   \n",
       "max                       265.983123                         40.000000   \n",
       "\n",
       "       primary_cleaner.input.feed_size  primary_cleaner.input.xanthate  \\\n",
       "count                     19439.000000                    19335.000000   \n",
       "mean                          7.307078                        1.021795   \n",
       "std                           0.613509                        0.513254   \n",
       "min                           1.080000                        0.000005   \n",
       "25%                           6.940000                        0.697224   \n",
       "50%                           7.280000                        0.940863   \n",
       "75%                           7.670000                        1.210990   \n",
       "max                          15.500000                        4.102454   \n",
       "\n",
       "       primary_cleaner.output.concentrate_ag  \\\n",
       "count                           19439.000000   \n",
       "mean                                8.442408   \n",
       "std                                 2.054465   \n",
       "min                                 0.000000   \n",
       "25%                                 7.263288   \n",
       "50%                                 8.507298   \n",
       "75%                                 9.809001   \n",
       "max                                16.081632   \n",
       "\n",
       "       primary_cleaner.output.concentrate_pb  \\\n",
       "count                           19323.000000   \n",
       "mean                                9.829530   \n",
       "std                                 2.556843   \n",
       "min                                 0.000000   \n",
       "25%                                 8.702328   \n",
       "50%                                10.152433   \n",
       "75%                                11.424971   \n",
       "max                                17.081278   \n",
       "\n",
       "       primary_cleaner.output.concentrate_sol  \\\n",
       "count                            19069.000000   \n",
       "mean                                10.489499   \n",
       "std                                  3.909639   \n",
       "min                                  0.000000   \n",
       "25%                                  7.893893   \n",
       "50%                                 10.314632   \n",
       "75%                                 13.446702   \n",
       "max                                 22.458114   \n",
       "\n",
       "       primary_cleaner.output.concentrate_au  primary_cleaner.output.tail_ag  \\\n",
       "count                           19439.000000                    19435.000000   \n",
       "mean                               32.119400                       16.145826   \n",
       "std                                 5.627611                        3.548598   \n",
       "min                                 0.000000                        0.000000   \n",
       "25%                                30.463140                       14.017742   \n",
       "50%                                32.841295                       15.842836   \n",
       "75%                                35.048006                       18.013975   \n",
       "max                                45.933934                       29.459575   \n",
       "\n",
       "       primary_cleaner.output.tail_pb  primary_cleaner.output.tail_sol  \\\n",
       "count                    19418.000000                     19377.000000   \n",
       "mean                         3.435656                         7.973209   \n",
       "std                          1.392536                         2.212677   \n",
       "min                          0.000000                         0.000000   \n",
       "25%                          2.504365                         6.747483   \n",
       "50%                          3.271153                         8.183673   \n",
       "75%                          4.181748                         9.548586   \n",
       "max                          9.634565                        22.276364   \n",
       "\n",
       "       primary_cleaner.output.tail_au  primary_cleaner.state.floatbank8_a_air  \\\n",
       "count                    19439.000000                            1.943500e+04   \n",
       "mean                         3.914179                            1.589354e+03   \n",
       "std                          1.593034                            1.289968e+02   \n",
       "min                          0.000000                            5.445860e-32   \n",
       "25%                          2.924844                            1.505063e+03   \n",
       "50%                          3.623234                            1.600597e+03   \n",
       "75%                          4.585705                            1.697658e+03   \n",
       "max                         17.788925                            2.103104e+03   \n",
       "\n",
       "       primary_cleaner.state.floatbank8_a_level  \\\n",
       "count                              19438.000000   \n",
       "mean                                -491.195012   \n",
       "std                                   32.431842   \n",
       "min                                 -798.641662   \n",
       "25%                                 -500.308544   \n",
       "50%                                 -499.926134   \n",
       "75%                                 -499.433950   \n",
       "max                                  -57.195404   \n",
       "\n",
       "       primary_cleaner.state.floatbank8_b_air  \\\n",
       "count                            1.943500e+04   \n",
       "mean                             1.591344e+03   \n",
       "std                              1.318109e+02   \n",
       "min                              6.647490e-32   \n",
       "25%                              1.503630e+03   \n",
       "50%                              1.600521e+03   \n",
       "75%                              1.699218e+03   \n",
       "max                              2.114907e+03   \n",
       "\n",
       "       primary_cleaner.state.floatbank8_b_level  \\\n",
       "count                              19438.000000   \n",
       "mean                                -492.192978   \n",
       "std                                   33.794822   \n",
       "min                                 -799.997015   \n",
       "25%                                 -500.437171   \n",
       "50%                                 -499.956767   \n",
       "75%                                 -499.373336   \n",
       "max                                 -142.527229   \n",
       "\n",
       "       primary_cleaner.state.floatbank8_c_air  \\\n",
       "count                            1.943700e+04   \n",
       "mean                             1.586669e+03   \n",
       "std                              1.361114e+02   \n",
       "min                              4.033736e-32   \n",
       "25%                              1.500927e+03   \n",
       "50%                              1.600254e+03   \n",
       "75%                              1.699483e+03   \n",
       "max                              2.013156e+03   \n",
       "\n",
       "       primary_cleaner.state.floatbank8_c_level  \\\n",
       "count                              19438.000000   \n",
       "mean                                -491.980070   \n",
       "std                                   32.711455   \n",
       "min                                 -799.960571   \n",
       "25%                                 -500.703932   \n",
       "50%                                 -499.909524   \n",
       "75%                                 -498.857643   \n",
       "max                                 -150.937035   \n",
       "\n",
       "       primary_cleaner.state.floatbank8_d_air  \\\n",
       "count                            1.943600e+04   \n",
       "mean                             1.542912e+03   \n",
       "std                              2.461996e+02   \n",
       "min                              4.039220e-32   \n",
       "25%                              1.494219e+03   \n",
       "50%                              1.599447e+03   \n",
       "75%                              1.698525e+03   \n",
       "max                              2.398904e+03   \n",
       "\n",
       "       primary_cleaner.state.floatbank8_d_level  \\\n",
       "count                              19438.000000   \n",
       "mean                                -488.017382   \n",
       "std                                   43.959780   \n",
       "min                                 -799.794250   \n",
       "25%                                 -500.458365   \n",
       "50%                                 -499.905974   \n",
       "75%                                 -499.064695   \n",
       "max                                  -30.601828   \n",
       "\n",
       "       rougher.calculation.sulfate_to_au_concentrate  \\\n",
       "count                                   1.943700e+04   \n",
       "mean                                    4.217119e+04   \n",
       "std                                     3.243621e+05   \n",
       "min                                    -4.223520e+07   \n",
       "25%                                     4.070095e+04   \n",
       "50%                                     4.469648e+04   \n",
       "75%                                     4.816821e+04   \n",
       "max                                     3.428099e+06   \n",
       "\n",
       "       rougher.calculation.floatbank10_sulfate_to_au_feed  \\\n",
       "count                                       19437.000000    \n",
       "mean                                         3393.052498    \n",
       "std                                          4943.845943    \n",
       "min                                          -486.598675    \n",
       "25%                                          2611.425833    \n",
       "50%                                          3018.353876    \n",
       "75%                                          3676.769750    \n",
       "max                                        629638.977914    \n",
       "\n",
       "       rougher.calculation.floatbank11_sulfate_to_au_feed  \\\n",
       "count                                       19437.000000    \n",
       "mean                                         3256.854171    \n",
       "std                                          5781.423659    \n",
       "min                                          -264.982785    \n",
       "25%                                          2551.437587    \n",
       "50%                                          2997.218088    \n",
       "75%                                          3601.998911    \n",
       "max                                        718684.955855    \n",
       "\n",
       "       rougher.calculation.au_pb_ratio  rougher.input.feed_ag  \\\n",
       "count                     19439.000000           19439.000000   \n",
       "mean                          2.420119               8.794927   \n",
       "std                           0.814935               1.936847   \n",
       "min                          -0.010548               0.010000   \n",
       "25%                           2.035434               7.237967   \n",
       "50%                           2.309665               8.593574   \n",
       "75%                           2.731794              10.213771   \n",
       "max                          39.379272              14.596026   \n",
       "\n",
       "       rougher.input.feed_pb  rougher.input.feed_rate  \\\n",
       "count           19339.000000             19428.000000   \n",
       "mean                3.598085               478.320042   \n",
       "std                 1.049486               105.373758   \n",
       "min                 0.010000                 0.002986   \n",
       "25%                 2.887280               416.525453   \n",
       "50%                 3.534895               499.416120   \n",
       "75%                 4.244161               550.172183   \n",
       "max                 7.142594               717.508837   \n",
       "\n",
       "       rougher.input.feed_size  rougher.input.feed_sol  rougher.input.feed_au  \\\n",
       "count             19294.000000            19340.000000           19439.000000   \n",
       "mean                 58.970310               36.695114               8.266097   \n",
       "std                  21.634478                5.145445               1.955092   \n",
       "min                   0.046369                0.010000               0.010000   \n",
       "25%                  47.435103               34.207799               6.854384   \n",
       "50%                  54.610197               37.202650               8.125839   \n",
       "75%                  65.023044               40.039133               9.769917   \n",
       "max                 484.967466               53.477742              13.731330   \n",
       "\n",
       "       rougher.input.floatbank10_sulfate  rougher.input.floatbank10_xanthate  \\\n",
       "count                       19405.000000                        19431.000000   \n",
       "mean                           12.334373                            6.021474   \n",
       "std                             3.427317                            1.127263   \n",
       "min                             0.001083                            0.000568   \n",
       "25%                            10.000362                            5.398678   \n",
       "50%                            12.001174                            6.008273   \n",
       "75%                            14.716595                            6.798051   \n",
       "max                            36.118275                            9.703448   \n",
       "\n",
       "       rougher.input.floatbank11_sulfate  rougher.input.floatbank11_xanthate  \\\n",
       "count                       19395.000000                        18986.000000   \n",
       "mean                           12.064140                            6.065533   \n",
       "std                             3.784221                            1.099118   \n",
       "min                             0.000077                            0.000290   \n",
       "25%                             9.998460                            5.402368   \n",
       "50%                            12.000204                            6.098580   \n",
       "75%                            14.636766                            6.801233   \n",
       "max                            37.980648                            9.698407   \n",
       "\n",
       "       rougher.output.concentrate_ag  rougher.output.concentrate_pb  \\\n",
       "count                   19439.000000                   19439.000000   \n",
       "mean                       11.994759                       7.606272   \n",
       "std                         2.733862                       1.796757   \n",
       "min                         0.000000                       0.000000   \n",
       "25%                        10.628337                       6.725987   \n",
       "50%                        12.098115                       7.742580   \n",
       "75%                        13.736996                       8.565199   \n",
       "max                        24.480271                      13.617072   \n",
       "\n",
       "       rougher.output.concentrate_sol  rougher.output.concentrate_au  \\\n",
       "count                    19416.000000                   19439.000000   \n",
       "mean                        28.805571                      19.772000   \n",
       "std                          5.944207                       3.753600   \n",
       "min                          0.000000                       0.000000   \n",
       "25%                         27.224120                      18.802523   \n",
       "50%                         29.835345                      20.280214   \n",
       "75%                         32.189933                      21.717843   \n",
       "max                         38.351193                      28.824507   \n",
       "\n",
       "       rougher.output.recovery  rougher.output.tail_ag  \\\n",
       "count             19439.000000            19438.000000   \n",
       "mean                 83.328587                5.588982   \n",
       "std                  14.148086                1.111288   \n",
       "min                   0.000000                0.594562   \n",
       "25%                  81.037957                4.889892   \n",
       "50%                  86.188892                5.765802   \n",
       "75%                  90.010670                6.389234   \n",
       "max                 100.000000               12.719177   \n",
       "\n",
       "       rougher.output.tail_pb  rougher.output.tail_sol  \\\n",
       "count            19439.000000             19439.000000   \n",
       "mean                 0.645782                18.057106   \n",
       "std                  0.251526                 3.449218   \n",
       "min                  0.007566                10.014648   \n",
       "25%                  0.477728                15.822525   \n",
       "50%                  0.617465                18.106867   \n",
       "75%                  0.778271                20.088151   \n",
       "max                  3.778064                66.117188   \n",
       "\n",
       "       rougher.output.tail_au  rougher.state.floatbank10_a_air  \\\n",
       "count            19439.000000                     19438.000000   \n",
       "mean                 1.816391                      1105.315068   \n",
       "std                  0.680046                       160.826798   \n",
       "min                  0.020676                        -0.042069   \n",
       "25%                  1.404207                       999.661867   \n",
       "50%                  1.808170                      1001.072890   \n",
       "75%                  2.211861                      1205.620588   \n",
       "max                  9.688980                      1521.980372   \n",
       "\n",
       "       rougher.state.floatbank10_a_level  rougher.state.floatbank10_b_air  \\\n",
       "count                       19438.000000                     19438.000000   \n",
       "mean                         -376.610690                      1320.221139   \n",
       "std                            93.909667                       176.287095   \n",
       "min                          -657.949759                        -0.721806   \n",
       "25%                          -499.835165                      1199.626115   \n",
       "50%                          -300.263994                      1301.579988   \n",
       "75%                          -299.981998                      1448.630789   \n",
       "max                          -273.776101                      1809.194008   \n",
       "\n",
       "       rougher.state.floatbank10_b_level  rougher.state.floatbank10_c_air  \\\n",
       "count                       19438.000000                     19438.000000   \n",
       "mean                         -467.247826                      1299.968799   \n",
       "std                            54.673142                       202.804325   \n",
       "min                          -650.260008                        -0.056636   \n",
       "25%                          -500.201130                      1151.076301   \n",
       "50%                          -499.784045                      1300.211537   \n",
       "75%                          -400.615589                      1449.464001   \n",
       "max                          -296.383080                      2499.129174   \n",
       "\n",
       "       rougher.state.floatbank10_c_level  rougher.state.floatbank10_d_air  \\\n",
       "count                       19438.000000                     19439.000000   \n",
       "mean                         -467.716946                      1211.563299   \n",
       "std                            53.534825                       204.019326   \n",
       "min                          -647.544439                        -0.992219   \n",
       "25%                          -500.217218                      1061.051788   \n",
       "50%                          -499.713364                      1201.569141   \n",
       "75%                          -400.985743                      1352.880320   \n",
       "max                          -292.155509                      1817.199290   \n",
       "\n",
       "       rougher.state.floatbank10_d_level  rougher.state.floatbank10_e_air  \\\n",
       "count                       19439.000000                     19003.000000   \n",
       "mean                         -468.239912                      1080.869685   \n",
       "std                            53.921458                       172.149992   \n",
       "min                          -648.390665                        -1.982295   \n",
       "25%                          -500.386386                       998.675263   \n",
       "50%                          -499.532412                      1050.029461   \n",
       "75%                          -401.638550                      1199.425140   \n",
       "max                           -76.397327                      1922.636637   \n",
       "\n",
       "       rougher.state.floatbank10_e_level  rougher.state.floatbank10_f_air  \\\n",
       "count                       19439.000000                     19439.000000   \n",
       "mean                         -466.037742                      1025.274256   \n",
       "std                            57.384424                       164.487837   \n",
       "min                          -649.443911                        -2.593390   \n",
       "25%                          -500.232191                       900.995511   \n",
       "50%                          -499.663089                       999.924821   \n",
       "75%                          -401.161191                      1099.719692   \n",
       "max                          -139.753025                      1706.307502   \n",
       "\n",
       "       rougher.state.floatbank10_f_level  secondary_cleaner.output.tail_ag  \\\n",
       "count                       19439.000000                      19437.000000   \n",
       "mean                         -466.265327                         14.586833   \n",
       "std                            57.850263                          4.265202   \n",
       "min                          -649.949283                          0.000000   \n",
       "25%                          -500.522553                         12.640239   \n",
       "50%                          -499.471777                         15.641902   \n",
       "75%                          -401.511042                         17.358217   \n",
       "max                          -191.718480                         23.264738   \n",
       "\n",
       "       secondary_cleaner.output.tail_pb  secondary_cleaner.output.tail_sol  \\\n",
       "count                      19427.000000                       17691.000000   \n",
       "mean                           5.777703                           7.167247   \n",
       "std                            2.774598                           3.916079   \n",
       "min                            0.000000                           0.000000   \n",
       "25%                            3.864733                           3.845475   \n",
       "50%                            5.344073                           7.685827   \n",
       "75%                            7.788467                          10.411296   \n",
       "max                           17.042505                          26.000772   \n",
       "\n",
       "       secondary_cleaner.output.tail_au  \\\n",
       "count                      19439.000000   \n",
       "mean                           4.339625   \n",
       "std                            2.326751   \n",
       "min                            0.000000   \n",
       "25%                            3.182770   \n",
       "50%                            4.072412   \n",
       "75%                            5.063081   \n",
       "max                           26.811643   \n",
       "\n",
       "       secondary_cleaner.state.floatbank2_a_air  \\\n",
       "count                              19219.000000   \n",
       "mean                                  28.705564   \n",
       "std                                    5.458789   \n",
       "min                                    0.077503   \n",
       "25%                                   25.048462   \n",
       "50%                                   29.099943   \n",
       "75%                                   33.012536   \n",
       "max                                   52.651399   \n",
       "\n",
       "       secondary_cleaner.state.floatbank2_a_level  \\\n",
       "count                                19438.000000   \n",
       "mean                                  -502.367331   \n",
       "std                                     53.571950   \n",
       "min                                   -799.606441   \n",
       "25%                                   -500.233700   \n",
       "50%                                   -499.973250   \n",
       "75%                                   -499.671261   \n",
       "max                                   -127.875565   \n",
       "\n",
       "       secondary_cleaner.state.floatbank2_b_air  \\\n",
       "count                              19416.000000   \n",
       "mean                                  24.106800   \n",
       "std                                    5.749616   \n",
       "min                                    0.000000   \n",
       "25%                                   20.919853   \n",
       "50%                                   25.043289   \n",
       "75%                                   28.008197   \n",
       "max                                   35.152122   \n",
       "\n",
       "       secondary_cleaner.state.floatbank2_b_level  \\\n",
       "count                                19438.000000   \n",
       "mean                                  -503.230712   \n",
       "std                                     56.567724   \n",
       "min                                   -799.873878   \n",
       "25%                                   -500.253794   \n",
       "50%                                   -500.015439   \n",
       "75%                                   -499.785698   \n",
       "max                                   -211.999273   \n",
       "\n",
       "       secondary_cleaner.state.floatbank3_a_air  \\\n",
       "count                              19426.000000   \n",
       "mean                                  28.199338   \n",
       "std                                    6.134908   \n",
       "min                                    0.000000   \n",
       "25%                                   24.949227   \n",
       "50%                                   27.982129   \n",
       "75%                                   33.002798   \n",
       "max                                   44.260464   \n",
       "\n",
       "       secondary_cleaner.state.floatbank3_a_level  \\\n",
       "count                                19438.000000   \n",
       "mean                                  -486.203350   \n",
       "std                                     54.412349   \n",
       "min                                   -799.755798   \n",
       "25%                                   -500.213546   \n",
       "50%                                   -499.930680   \n",
       "75%                                   -499.325739   \n",
       "max                                   -191.678810   \n",
       "\n",
       "       secondary_cleaner.state.floatbank3_b_air  \\\n",
       "count                              19438.000000   \n",
       "mean                                  22.200645   \n",
       "std                                    5.574001   \n",
       "min                                    0.000000   \n",
       "25%                                   18.995924   \n",
       "50%                                   22.011231   \n",
       "75%                                   25.998206   \n",
       "max                                   35.072841   \n",
       "\n",
       "       secondary_cleaner.state.floatbank3_b_level  \\\n",
       "count                                19438.000000   \n",
       "mean                                  -493.742107   \n",
       "std                                     43.372158   \n",
       "min                                   -809.333008   \n",
       "25%                                   -500.123034   \n",
       "50%                                   -499.981902   \n",
       "75%                                   -499.812834   \n",
       "max                                   -159.742331   \n",
       "\n",
       "       secondary_cleaner.state.floatbank4_a_air  \\\n",
       "count                              19433.000000   \n",
       "mean                                  18.987674   \n",
       "std                                    5.411058   \n",
       "min                                    0.000000   \n",
       "25%                                   14.975734   \n",
       "50%                                   18.017481   \n",
       "75%                                   23.012470   \n",
       "max                                   30.115735   \n",
       "\n",
       "       secondary_cleaner.state.floatbank4_a_level  \\\n",
       "count                                19438.000000   \n",
       "mean                                  -485.894516   \n",
       "std                                     47.758570   \n",
       "min                                   -799.798523   \n",
       "25%                                   -500.704892   \n",
       "50%                                   -499.837793   \n",
       "75%                                   -498.249730   \n",
       "max                                   -245.239184   \n",
       "\n",
       "       secondary_cleaner.state.floatbank4_b_air  \\\n",
       "count                              19438.000000   \n",
       "mean                                  15.010366   \n",
       "std                                    4.890228   \n",
       "min                                    0.000000   \n",
       "25%                                   11.940294   \n",
       "50%                                   14.971014   \n",
       "75%                                   19.034162   \n",
       "max                                   31.269706   \n",
       "\n",
       "       secondary_cleaner.state.floatbank4_b_level  \\\n",
       "count                                19438.000000   \n",
       "mean                                  -461.078636   \n",
       "std                                     67.405524   \n",
       "min                                   -800.836914   \n",
       "25%                                   -500.187742   \n",
       "50%                                   -499.459786   \n",
       "75%                                   -400.118106   \n",
       "max                                     -6.506986   \n",
       "\n",
       "       secondary_cleaner.state.floatbank5_a_air  \\\n",
       "count                              19438.000000   \n",
       "mean                                  15.694452   \n",
       "std                                    5.510974   \n",
       "min                                   -0.372054   \n",
       "25%                                   10.988606   \n",
       "50%                                   15.000036   \n",
       "75%                                   18.026190   \n",
       "max                                   43.709931   \n",
       "\n",
       "       secondary_cleaner.state.floatbank5_a_level  \\\n",
       "count                                19438.000000   \n",
       "mean                                  -488.684065   \n",
       "std                                     34.533396   \n",
       "min                                   -797.323986   \n",
       "25%                                   -500.458467   \n",
       "50%                                   -499.802605   \n",
       "75%                                   -498.384187   \n",
       "max                                   -244.483566   \n",
       "\n",
       "       secondary_cleaner.state.floatbank5_b_air  \\\n",
       "count                              19438.000000   \n",
       "mean                                  12.198224   \n",
       "std                                    5.333024   \n",
       "min                                    0.528083   \n",
       "25%                                    8.971105   \n",
       "50%                                   11.019433   \n",
       "75%                                   14.019088   \n",
       "max                                   27.926001   \n",
       "\n",
       "       secondary_cleaner.state.floatbank5_b_level  \\\n",
       "count                                19438.000000   \n",
       "mean                                  -487.149827   \n",
       "std                                     38.347312   \n",
       "min                                   -800.220337   \n",
       "25%                                   -500.129462   \n",
       "50%                                   -499.935317   \n",
       "75%                                   -499.436708   \n",
       "max                                   -137.740004   \n",
       "\n",
       "       secondary_cleaner.state.floatbank6_a_air  \\\n",
       "count                              19437.000000   \n",
       "mean                                  18.959024   \n",
       "std                                    5.550498   \n",
       "min                                   -0.079426   \n",
       "25%                                   14.983037   \n",
       "50%                                   19.960541   \n",
       "75%                                   24.003170   \n",
       "max                                   32.188906   \n",
       "\n",
       "       secondary_cleaner.state.floatbank6_a_level  \n",
       "count                                19438.000000  \n",
       "mean                                  -505.436305  \n",
       "std                                     37.689057  \n",
       "min                                   -809.741464  \n",
       "25%                                   -500.728067  \n",
       "50%                                   -500.048400  \n",
       "75%                                   -499.495378  \n",
       "max                                   -104.427459  "
      ]
     },
     "metadata": {},
     "output_type": "display_data"
    },
    {
     "name": "stdout",
     "output_type": "stream",
     "text": [
      "<class 'pandas.core.frame.DataFrame'>\n",
      "RangeIndex: 19439 entries, 0 to 19438\n",
      "Data columns (total 87 columns):\n",
      " #   Column                                              Non-Null Count  Dtype  \n",
      "---  ------                                              --------------  -----  \n",
      " 0   date                                                19439 non-null  object \n",
      " 1   final.output.concentrate_ag                         19438 non-null  float64\n",
      " 2   final.output.concentrate_pb                         19438 non-null  float64\n",
      " 3   final.output.concentrate_sol                        19228 non-null  float64\n",
      " 4   final.output.concentrate_au                         19439 non-null  float64\n",
      " 5   final.output.recovery                               19439 non-null  float64\n",
      " 6   final.output.tail_ag                                19438 non-null  float64\n",
      " 7   final.output.tail_pb                                19338 non-null  float64\n",
      " 8   final.output.tail_sol                               19433 non-null  float64\n",
      " 9   final.output.tail_au                                19439 non-null  float64\n",
      " 10  primary_cleaner.input.sulfate                       19415 non-null  float64\n",
      " 11  primary_cleaner.input.depressant                    19402 non-null  float64\n",
      " 12  primary_cleaner.input.feed_size                     19439 non-null  float64\n",
      " 13  primary_cleaner.input.xanthate                      19335 non-null  float64\n",
      " 14  primary_cleaner.output.concentrate_ag               19439 non-null  float64\n",
      " 15  primary_cleaner.output.concentrate_pb               19323 non-null  float64\n",
      " 16  primary_cleaner.output.concentrate_sol              19069 non-null  float64\n",
      " 17  primary_cleaner.output.concentrate_au               19439 non-null  float64\n",
      " 18  primary_cleaner.output.tail_ag                      19435 non-null  float64\n",
      " 19  primary_cleaner.output.tail_pb                      19418 non-null  float64\n",
      " 20  primary_cleaner.output.tail_sol                     19377 non-null  float64\n",
      " 21  primary_cleaner.output.tail_au                      19439 non-null  float64\n",
      " 22  primary_cleaner.state.floatbank8_a_air              19435 non-null  float64\n",
      " 23  primary_cleaner.state.floatbank8_a_level            19438 non-null  float64\n",
      " 24  primary_cleaner.state.floatbank8_b_air              19435 non-null  float64\n",
      " 25  primary_cleaner.state.floatbank8_b_level            19438 non-null  float64\n",
      " 26  primary_cleaner.state.floatbank8_c_air              19437 non-null  float64\n",
      " 27  primary_cleaner.state.floatbank8_c_level            19438 non-null  float64\n",
      " 28  primary_cleaner.state.floatbank8_d_air              19436 non-null  float64\n",
      " 29  primary_cleaner.state.floatbank8_d_level            19438 non-null  float64\n",
      " 30  rougher.calculation.sulfate_to_au_concentrate       19437 non-null  float64\n",
      " 31  rougher.calculation.floatbank10_sulfate_to_au_feed  19437 non-null  float64\n",
      " 32  rougher.calculation.floatbank11_sulfate_to_au_feed  19437 non-null  float64\n",
      " 33  rougher.calculation.au_pb_ratio                     19439 non-null  float64\n",
      " 34  rougher.input.feed_ag                               19439 non-null  float64\n",
      " 35  rougher.input.feed_pb                               19339 non-null  float64\n",
      " 36  rougher.input.feed_rate                             19428 non-null  float64\n",
      " 37  rougher.input.feed_size                             19294 non-null  float64\n",
      " 38  rougher.input.feed_sol                              19340 non-null  float64\n",
      " 39  rougher.input.feed_au                               19439 non-null  float64\n",
      " 40  rougher.input.floatbank10_sulfate                   19405 non-null  float64\n",
      " 41  rougher.input.floatbank10_xanthate                  19431 non-null  float64\n",
      " 42  rougher.input.floatbank11_sulfate                   19395 non-null  float64\n",
      " 43  rougher.input.floatbank11_xanthate                  18986 non-null  float64\n",
      " 44  rougher.output.concentrate_ag                       19439 non-null  float64\n",
      " 45  rougher.output.concentrate_pb                       19439 non-null  float64\n",
      " 46  rougher.output.concentrate_sol                      19416 non-null  float64\n",
      " 47  rougher.output.concentrate_au                       19439 non-null  float64\n",
      " 48  rougher.output.recovery                             19439 non-null  float64\n",
      " 49  rougher.output.tail_ag                              19438 non-null  float64\n",
      " 50  rougher.output.tail_pb                              19439 non-null  float64\n",
      " 51  rougher.output.tail_sol                             19439 non-null  float64\n",
      " 52  rougher.output.tail_au                              19439 non-null  float64\n",
      " 53  rougher.state.floatbank10_a_air                     19438 non-null  float64\n",
      " 54  rougher.state.floatbank10_a_level                   19438 non-null  float64\n",
      " 55  rougher.state.floatbank10_b_air                     19438 non-null  float64\n",
      " 56  rougher.state.floatbank10_b_level                   19438 non-null  float64\n",
      " 57  rougher.state.floatbank10_c_air                     19438 non-null  float64\n",
      " 58  rougher.state.floatbank10_c_level                   19438 non-null  float64\n",
      " 59  rougher.state.floatbank10_d_air                     19439 non-null  float64\n",
      " 60  rougher.state.floatbank10_d_level                   19439 non-null  float64\n",
      " 61  rougher.state.floatbank10_e_air                     19003 non-null  float64\n",
      " 62  rougher.state.floatbank10_e_level                   19439 non-null  float64\n",
      " 63  rougher.state.floatbank10_f_air                     19439 non-null  float64\n",
      " 64  rougher.state.floatbank10_f_level                   19439 non-null  float64\n",
      " 65  secondary_cleaner.output.tail_ag                    19437 non-null  float64\n",
      " 66  secondary_cleaner.output.tail_pb                    19427 non-null  float64\n",
      " 67  secondary_cleaner.output.tail_sol                   17691 non-null  float64\n",
      " 68  secondary_cleaner.output.tail_au                    19439 non-null  float64\n",
      " 69  secondary_cleaner.state.floatbank2_a_air            19219 non-null  float64\n",
      " 70  secondary_cleaner.state.floatbank2_a_level          19438 non-null  float64\n",
      " 71  secondary_cleaner.state.floatbank2_b_air            19416 non-null  float64\n",
      " 72  secondary_cleaner.state.floatbank2_b_level          19438 non-null  float64\n",
      " 73  secondary_cleaner.state.floatbank3_a_air            19426 non-null  float64\n",
      " 74  secondary_cleaner.state.floatbank3_a_level          19438 non-null  float64\n",
      " 75  secondary_cleaner.state.floatbank3_b_air            19438 non-null  float64\n",
      " 76  secondary_cleaner.state.floatbank3_b_level          19438 non-null  float64\n",
      " 77  secondary_cleaner.state.floatbank4_a_air            19433 non-null  float64\n",
      " 78  secondary_cleaner.state.floatbank4_a_level          19438 non-null  float64\n",
      " 79  secondary_cleaner.state.floatbank4_b_air            19438 non-null  float64\n",
      " 80  secondary_cleaner.state.floatbank4_b_level          19438 non-null  float64\n",
      " 81  secondary_cleaner.state.floatbank5_a_air            19438 non-null  float64\n",
      " 82  secondary_cleaner.state.floatbank5_a_level          19438 non-null  float64\n",
      " 83  secondary_cleaner.state.floatbank5_b_air            19438 non-null  float64\n",
      " 84  secondary_cleaner.state.floatbank5_b_level          19438 non-null  float64\n",
      " 85  secondary_cleaner.state.floatbank6_a_air            19437 non-null  float64\n",
      " 86  secondary_cleaner.state.floatbank6_a_level          19438 non-null  float64\n",
      "dtypes: float64(86), object(1)\n",
      "memory usage: 12.9+ MB\n"
     ]
    }
   ],
   "source": [
    "print('Полная выборка')\n",
    "read_data(full)"
   ]
  },
  {
   "cell_type": "markdown",
   "metadata": {},
   "source": [
    "По результатам первичного изучения:\n",
    "1. В данных есть пропуски.\n",
    "2. В тестовой выборке отсутствуют признаки, которые есть в тренировочной и полной выборках.\n",
    "3. Явные дубликаты в выборках отсутствуют."
   ]
  },
  {
   "cell_type": "markdown",
   "metadata": {},
   "source": [
    "### Проверим, что эффективность обогащения рассчитана правильно."
   ]
  },
  {
   "cell_type": "markdown",
   "metadata": {},
   "source": [
    "Эффективность обогащения будем считать по формуле: recovery = ((C x (F - T)) / (F x (C - T))) x 100 %"
   ]
  },
  {
   "cell_type": "code",
   "execution_count": 8,
   "metadata": {},
   "outputs": [],
   "source": [
    "C = train['rougher.output.concentrate_au'] # доля золота в концентрате после флотации/очистки;\n",
    "F = train['rougher.input.feed_au'] # доля золота в сырье/концентрате до флотации/очистки;\n",
    "T = train['rougher.output.tail_au'] # доля золота в отвальных хвостах после флотации/очистки."
   ]
  },
  {
   "cell_type": "code",
   "execution_count": 9,
   "metadata": {},
   "outputs": [],
   "source": [
    "# Вычислим эффективность обогащения \n",
    "recovery = ((C * (F - T)) / (F * (C - T))) * 100"
   ]
  },
  {
   "cell_type": "code",
   "execution_count": 10,
   "metadata": {
    "scrolled": true
   },
   "outputs": [
    {
     "name": "stdout",
     "output_type": "stream",
     "text": [
      "MAE =  9.73512347450521e-15\n"
     ]
    }
   ],
   "source": [
    "# Найдем MAE между выполненными расчётами и значением признака\n",
    "print('MAE = ', mean_absolute_error(recovery, train['rougher.output.recovery']))"
   ]
  },
  {
   "cell_type": "markdown",
   "metadata": {},
   "source": [
    "Вывод: значение МАЕ между расчетными данными и признаком rougher.output.recovery очень мало, значит, признак в представленных данных рассчитан верно."
   ]
  },
  {
   "cell_type": "markdown",
   "metadata": {},
   "source": [
    "### Проанализируем признаки, недоступные в тестовой выборке."
   ]
  },
  {
   "cell_type": "code",
   "execution_count": 11,
   "metadata": {
    "scrolled": false
   },
   "outputs": [
    {
     "data": {
      "text/html": [
       "<div>\n",
       "<style scoped>\n",
       "    .dataframe tbody tr th:only-of-type {\n",
       "        vertical-align: middle;\n",
       "    }\n",
       "\n",
       "    .dataframe tbody tr th {\n",
       "        vertical-align: top;\n",
       "    }\n",
       "\n",
       "    .dataframe thead th {\n",
       "        text-align: right;\n",
       "    }\n",
       "</style>\n",
       "<table border=\"1\" class=\"dataframe\">\n",
       "  <thead>\n",
       "    <tr style=\"text-align: right;\">\n",
       "      <th></th>\n",
       "      <th>0</th>\n",
       "    </tr>\n",
       "  </thead>\n",
       "  <tbody>\n",
       "    <tr>\n",
       "      <th>0</th>\n",
       "      <td>rougher.calculation.sulfate_to_au_concentrate</td>\n",
       "    </tr>\n",
       "    <tr>\n",
       "      <th>1</th>\n",
       "      <td>final.output.recovery</td>\n",
       "    </tr>\n",
       "    <tr>\n",
       "      <th>2</th>\n",
       "      <td>final.output.tail_ag</td>\n",
       "    </tr>\n",
       "    <tr>\n",
       "      <th>3</th>\n",
       "      <td>rougher.output.tail_ag</td>\n",
       "    </tr>\n",
       "    <tr>\n",
       "      <th>4</th>\n",
       "      <td>rougher.output.concentrate_pb</td>\n",
       "    </tr>\n",
       "    <tr>\n",
       "      <th>5</th>\n",
       "      <td>rougher.calculation.floatbank10_sulfate_to_au_...</td>\n",
       "    </tr>\n",
       "    <tr>\n",
       "      <th>6</th>\n",
       "      <td>final.output.tail_sol</td>\n",
       "    </tr>\n",
       "    <tr>\n",
       "      <th>7</th>\n",
       "      <td>rougher.output.concentrate_ag</td>\n",
       "    </tr>\n",
       "    <tr>\n",
       "      <th>8</th>\n",
       "      <td>primary_cleaner.output.concentrate_sol</td>\n",
       "    </tr>\n",
       "    <tr>\n",
       "      <th>9</th>\n",
       "      <td>final.output.tail_au</td>\n",
       "    </tr>\n",
       "    <tr>\n",
       "      <th>10</th>\n",
       "      <td>secondary_cleaner.output.tail_pb</td>\n",
       "    </tr>\n",
       "    <tr>\n",
       "      <th>11</th>\n",
       "      <td>primary_cleaner.output.concentrate_pb</td>\n",
       "    </tr>\n",
       "    <tr>\n",
       "      <th>12</th>\n",
       "      <td>final.output.tail_pb</td>\n",
       "    </tr>\n",
       "    <tr>\n",
       "      <th>13</th>\n",
       "      <td>secondary_cleaner.output.tail_au</td>\n",
       "    </tr>\n",
       "    <tr>\n",
       "      <th>14</th>\n",
       "      <td>rougher.output.concentrate_sol</td>\n",
       "    </tr>\n",
       "    <tr>\n",
       "      <th>15</th>\n",
       "      <td>primary_cleaner.output.concentrate_ag</td>\n",
       "    </tr>\n",
       "    <tr>\n",
       "      <th>16</th>\n",
       "      <td>primary_cleaner.output.tail_pb</td>\n",
       "    </tr>\n",
       "    <tr>\n",
       "      <th>17</th>\n",
       "      <td>rougher.output.concentrate_au</td>\n",
       "    </tr>\n",
       "    <tr>\n",
       "      <th>18</th>\n",
       "      <td>final.output.concentrate_pb</td>\n",
       "    </tr>\n",
       "    <tr>\n",
       "      <th>19</th>\n",
       "      <td>primary_cleaner.output.concentrate_au</td>\n",
       "    </tr>\n",
       "    <tr>\n",
       "      <th>20</th>\n",
       "      <td>primary_cleaner.output.tail_au</td>\n",
       "    </tr>\n",
       "    <tr>\n",
       "      <th>21</th>\n",
       "      <td>rougher.output.tail_sol</td>\n",
       "    </tr>\n",
       "    <tr>\n",
       "      <th>22</th>\n",
       "      <td>final.output.concentrate_sol</td>\n",
       "    </tr>\n",
       "    <tr>\n",
       "      <th>23</th>\n",
       "      <td>rougher.output.tail_au</td>\n",
       "    </tr>\n",
       "    <tr>\n",
       "      <th>24</th>\n",
       "      <td>rougher.output.recovery</td>\n",
       "    </tr>\n",
       "    <tr>\n",
       "      <th>25</th>\n",
       "      <td>primary_cleaner.output.tail_sol</td>\n",
       "    </tr>\n",
       "    <tr>\n",
       "      <th>26</th>\n",
       "      <td>secondary_cleaner.output.tail_sol</td>\n",
       "    </tr>\n",
       "    <tr>\n",
       "      <th>27</th>\n",
       "      <td>rougher.calculation.au_pb_ratio</td>\n",
       "    </tr>\n",
       "    <tr>\n",
       "      <th>28</th>\n",
       "      <td>final.output.concentrate_ag</td>\n",
       "    </tr>\n",
       "    <tr>\n",
       "      <th>29</th>\n",
       "      <td>primary_cleaner.output.tail_ag</td>\n",
       "    </tr>\n",
       "    <tr>\n",
       "      <th>30</th>\n",
       "      <td>secondary_cleaner.output.tail_ag</td>\n",
       "    </tr>\n",
       "    <tr>\n",
       "      <th>31</th>\n",
       "      <td>final.output.concentrate_au</td>\n",
       "    </tr>\n",
       "    <tr>\n",
       "      <th>32</th>\n",
       "      <td>rougher.output.tail_pb</td>\n",
       "    </tr>\n",
       "    <tr>\n",
       "      <th>33</th>\n",
       "      <td>rougher.calculation.floatbank11_sulfate_to_au_...</td>\n",
       "    </tr>\n",
       "  </tbody>\n",
       "</table>\n",
       "</div>"
      ],
      "text/plain": [
       "                                                    0\n",
       "0       rougher.calculation.sulfate_to_au_concentrate\n",
       "1                               final.output.recovery\n",
       "2                                final.output.tail_ag\n",
       "3                              rougher.output.tail_ag\n",
       "4                       rougher.output.concentrate_pb\n",
       "5   rougher.calculation.floatbank10_sulfate_to_au_...\n",
       "6                               final.output.tail_sol\n",
       "7                       rougher.output.concentrate_ag\n",
       "8              primary_cleaner.output.concentrate_sol\n",
       "9                                final.output.tail_au\n",
       "10                   secondary_cleaner.output.tail_pb\n",
       "11              primary_cleaner.output.concentrate_pb\n",
       "12                               final.output.tail_pb\n",
       "13                   secondary_cleaner.output.tail_au\n",
       "14                     rougher.output.concentrate_sol\n",
       "15              primary_cleaner.output.concentrate_ag\n",
       "16                     primary_cleaner.output.tail_pb\n",
       "17                      rougher.output.concentrate_au\n",
       "18                        final.output.concentrate_pb\n",
       "19              primary_cleaner.output.concentrate_au\n",
       "20                     primary_cleaner.output.tail_au\n",
       "21                            rougher.output.tail_sol\n",
       "22                       final.output.concentrate_sol\n",
       "23                             rougher.output.tail_au\n",
       "24                            rougher.output.recovery\n",
       "25                    primary_cleaner.output.tail_sol\n",
       "26                  secondary_cleaner.output.tail_sol\n",
       "27                    rougher.calculation.au_pb_ratio\n",
       "28                        final.output.concentrate_ag\n",
       "29                     primary_cleaner.output.tail_ag\n",
       "30                   secondary_cleaner.output.tail_ag\n",
       "31                        final.output.concentrate_au\n",
       "32                             rougher.output.tail_pb\n",
       "33  rougher.calculation.floatbank11_sulfate_to_au_..."
      ]
     },
     "metadata": {},
     "output_type": "display_data"
    }
   ],
   "source": [
    "diff_future = pd.DataFrame(set(train.columns) - set(test.columns))\n",
    "display(diff_future)"
   ]
  },
  {
   "cell_type": "markdown",
   "metadata": {},
   "source": [
    "Выводы:\n",
    "1. Все отсутствующие в тестовой выборке признаки числовые.\n",
    "2. Признаки, отсутствующие в тестовой выборке, относятся к 2 типам: это расчетные характеристики (признаки calculation) и относящиеся к параметрам продукта (признаки output)."
   ]
  },
  {
   "cell_type": "markdown",
   "metadata": {},
   "source": [
    "### Проведем предобработку данных."
   ]
  },
  {
   "cell_type": "code",
   "execution_count": 12,
   "metadata": {
    "scrolled": false
   },
   "outputs": [
    {
     "name": "stdout",
     "output_type": "stream",
     "text": [
      "Количество пропусков в выборке train до обработки в процентах\n",
      "secondary_cleaner.output.tail_sol                     11.343558\n",
      "rougher.state.floatbank10_e_air                        3.081490\n",
      "rougher.input.floatbank11_xanthate                     3.024949\n",
      "primary_cleaner.output.concentrate_sol                 2.021344\n",
      "secondary_cleaner.state.floatbank2_a_air               1.533677\n",
      "final.output.concentrate_sol                           1.491271\n",
      "rougher.input.feed_size                                1.017740\n",
      "primary_cleaner.input.xanthate                         0.706764\n",
      "rougher.input.feed_pb                                  0.706764\n",
      "final.output.tail_pb                                   0.706764\n",
      "primary_cleaner.output.concentrate_pb                  0.607817\n",
      "rougher.input.feed_sol                                 0.551276\n",
      "primary_cleaner.output.tail_sol                        0.325111\n",
      "rougher.input.floatbank11_sulfate                      0.254435\n",
      "primary_cleaner.input.depressant                       0.226164\n",
      "rougher.input.floatbank10_sulfate                      0.204961\n",
      "rougher.output.concentrate_sol                         0.155488\n",
      "secondary_cleaner.state.floatbank2_b_air               0.148420\n",
      "primary_cleaner.input.sulfate                          0.141353\n",
      "primary_cleaner.output.tail_pb                         0.106015\n",
      "secondary_cleaner.output.tail_pb                       0.070676\n",
      "rougher.input.feed_rate                                0.056541\n",
      "rougher.input.floatbank10_xanthate                     0.056541\n",
      "secondary_cleaner.state.floatbank4_a_air               0.042406\n",
      "final.output.tail_sol                                  0.035338\n",
      "secondary_cleaner.state.floatbank3_a_air               0.028271\n",
      "primary_cleaner.state.floatbank8_a_air                 0.028271\n",
      "primary_cleaner.state.floatbank8_b_air                 0.028271\n",
      "primary_cleaner.state.floatbank8_d_air                 0.021203\n",
      "primary_cleaner.state.floatbank8_c_air                 0.014135\n",
      "secondary_cleaner.output.tail_ag                       0.014135\n",
      "secondary_cleaner.state.floatbank6_a_air               0.014135\n",
      "rougher.state.floatbank10_b_level                      0.007068\n",
      "rougher.state.floatbank10_b_air                        0.007068\n",
      "rougher.state.floatbank10_c_level                      0.007068\n",
      "rougher.state.floatbank10_c_air                        0.007068\n",
      "secondary_cleaner.state.floatbank3_a_level             0.007068\n",
      "secondary_cleaner.state.floatbank2_a_level             0.007068\n",
      "secondary_cleaner.state.floatbank2_b_level             0.007068\n",
      "rougher.state.floatbank10_a_air                        0.007068\n",
      "secondary_cleaner.state.floatbank3_b_air               0.007068\n",
      "secondary_cleaner.state.floatbank3_b_level             0.007068\n",
      "secondary_cleaner.state.floatbank4_a_level             0.007068\n",
      "secondary_cleaner.state.floatbank4_b_air               0.007068\n",
      "secondary_cleaner.state.floatbank4_b_level             0.007068\n",
      "secondary_cleaner.state.floatbank5_a_air               0.007068\n",
      "secondary_cleaner.state.floatbank5_a_level             0.007068\n",
      "secondary_cleaner.state.floatbank5_b_air               0.007068\n",
      "secondary_cleaner.state.floatbank5_b_level             0.007068\n",
      "rougher.state.floatbank10_a_level                      0.007068\n",
      "secondary_cleaner.state.floatbank6_a_level             0.007068\n",
      "rougher.calculation.floatbank11_sulfate_to_au_feed     0.007068\n",
      "rougher.calculation.floatbank10_sulfate_to_au_feed     0.007068\n",
      "primary_cleaner.state.floatbank8_d_level               0.007068\n",
      "primary_cleaner.state.floatbank8_c_level               0.007068\n",
      "primary_cleaner.state.floatbank8_b_level               0.007068\n",
      "primary_cleaner.state.floatbank8_a_level               0.007068\n",
      "primary_cleaner.output.tail_ag                         0.007068\n",
      "final.output.concentrate_ag                            0.007068\n",
      "rougher.calculation.sulfate_to_au_concentrate          0.007068\n",
      "rougher.output.tail_ag                                 0.007068\n",
      "final.output.concentrate_pb                            0.007068\n",
      "primary_cleaner.input.feed_size                        0.000000\n",
      "final.output.tail_au                                   0.000000\n",
      "primary_cleaner.output.concentrate_au                  0.000000\n",
      "final.output.tail_ag                                   0.000000\n",
      "primary_cleaner.output.tail_au                         0.000000\n",
      "final.output.recovery                                  0.000000\n",
      "final.output.concentrate_au                            0.000000\n",
      "primary_cleaner.output.concentrate_ag                  0.000000\n",
      "rougher.output.tail_sol                                0.000000\n",
      "rougher.output.tail_au                                 0.000000\n",
      "secondary_cleaner.output.tail_au                       0.000000\n",
      "rougher.calculation.au_pb_ratio                        0.000000\n",
      "rougher.input.feed_ag                                  0.000000\n",
      "rougher.input.feed_au                                  0.000000\n",
      "rougher.state.floatbank10_f_level                      0.000000\n",
      "rougher.state.floatbank10_f_air                        0.000000\n",
      "rougher.state.floatbank10_e_level                      0.000000\n",
      "rougher.state.floatbank10_d_level                      0.000000\n",
      "rougher.state.floatbank10_d_air                        0.000000\n",
      "rougher.output.concentrate_ag                          0.000000\n",
      "rougher.output.concentrate_pb                          0.000000\n",
      "rougher.output.concentrate_au                          0.000000\n",
      "rougher.output.recovery                                0.000000\n",
      "rougher.output.tail_pb                                 0.000000\n",
      "date                                                   0.000000\n",
      "dtype: float64\n",
      "Количество пропусков в выборке test до обработки в процентах\n",
      "rougher.input.floatbank11_xanthate            0.472590\n",
      "rougher.input.feed_sol                        0.396975\n",
      "secondary_cleaner.state.floatbank3_a_air      0.170132\n",
      "rougher.input.floatbank11_sulfate             0.151229\n",
      "primary_cleaner.input.depressant              0.094518\n",
      "rougher.input.floatbank10_sulfate             0.094518\n",
      "primary_cleaner.input.xanthate                0.075614\n",
      "primary_cleaner.input.sulfate                 0.075614\n",
      "rougher.input.feed_rate                       0.056711\n",
      "secondary_cleaner.state.floatbank2_a_air      0.056711\n",
      "secondary_cleaner.state.floatbank2_b_air      0.037807\n",
      "rougher.input.feed_size                       0.018904\n",
      "secondary_cleaner.state.floatbank2_b_level    0.000000\n",
      "rougher.state.floatbank10_f_level             0.000000\n",
      "rougher.state.floatbank10_f_air               0.000000\n",
      "secondary_cleaner.state.floatbank3_a_level    0.000000\n",
      "secondary_cleaner.state.floatbank2_a_level    0.000000\n",
      "date                                          0.000000\n",
      "rougher.state.floatbank10_e_air               0.000000\n",
      "secondary_cleaner.state.floatbank3_b_air      0.000000\n",
      "secondary_cleaner.state.floatbank3_b_level    0.000000\n",
      "secondary_cleaner.state.floatbank4_a_air      0.000000\n",
      "secondary_cleaner.state.floatbank4_a_level    0.000000\n",
      "secondary_cleaner.state.floatbank4_b_air      0.000000\n",
      "secondary_cleaner.state.floatbank4_b_level    0.000000\n",
      "secondary_cleaner.state.floatbank5_a_air      0.000000\n",
      "secondary_cleaner.state.floatbank5_a_level    0.000000\n",
      "secondary_cleaner.state.floatbank5_b_air      0.000000\n",
      "secondary_cleaner.state.floatbank5_b_level    0.000000\n",
      "secondary_cleaner.state.floatbank6_a_air      0.000000\n",
      "rougher.state.floatbank10_e_level             0.000000\n",
      "rougher.state.floatbank10_b_level             0.000000\n",
      "rougher.state.floatbank10_d_level             0.000000\n",
      "primary_cleaner.state.floatbank8_d_level      0.000000\n",
      "primary_cleaner.input.feed_size               0.000000\n",
      "primary_cleaner.state.floatbank8_a_air        0.000000\n",
      "primary_cleaner.state.floatbank8_a_level      0.000000\n",
      "primary_cleaner.state.floatbank8_b_air        0.000000\n",
      "primary_cleaner.state.floatbank8_b_level      0.000000\n",
      "primary_cleaner.state.floatbank8_c_air        0.000000\n",
      "primary_cleaner.state.floatbank8_c_level      0.000000\n",
      "primary_cleaner.state.floatbank8_d_air        0.000000\n",
      "rougher.input.feed_ag                         0.000000\n",
      "rougher.state.floatbank10_d_air               0.000000\n",
      "rougher.input.feed_pb                         0.000000\n",
      "rougher.input.feed_au                         0.000000\n",
      "rougher.input.floatbank10_xanthate            0.000000\n",
      "rougher.state.floatbank10_a_air               0.000000\n",
      "rougher.state.floatbank10_a_level             0.000000\n",
      "rougher.state.floatbank10_b_air               0.000000\n",
      "rougher.state.floatbank10_c_air               0.000000\n",
      "rougher.state.floatbank10_c_level             0.000000\n",
      "secondary_cleaner.state.floatbank6_a_level    0.000000\n",
      "dtype: float64\n"
     ]
    }
   ],
   "source": [
    "# Проверим количество пропусков до проведения предобработки\n",
    "print('Количество пропусков в выборке train до обработки в процентах')\n",
    "print((train.isna().sum().sort_values(ascending=False) / train.shape[0]) * 100)\n",
    "print('Количество пропусков в выборке test до обработки в процентах')\n",
    "print((test.isna().sum().sort_values(ascending=False) / test.shape[0]) * 100)"
   ]
  },
  {
   "cell_type": "markdown",
   "metadata": {},
   "source": [
    "В условии сказано, что данные индексируются датой и временем получения информации (признак date). Соседние по времени параметры часто похожи. Заполним пропуски с использованием метода bfill."
   ]
  },
  {
   "cell_type": "code",
   "execution_count": 13,
   "metadata": {},
   "outputs": [],
   "source": [
    "train.bfill(axis='rows', inplace=True)"
   ]
  },
  {
   "cell_type": "code",
   "execution_count": 14,
   "metadata": {},
   "outputs": [],
   "source": [
    "test.bfill(axis='rows', inplace=True)"
   ]
  },
  {
   "cell_type": "code",
   "execution_count": 15,
   "metadata": {
    "scrolled": false
   },
   "outputs": [
    {
     "name": "stdout",
     "output_type": "stream",
     "text": [
      "Количество пропусков в выборке train после обработки в процентах\n",
      "date                                                  0.0\n",
      "rougher.state.floatbank10_b_air                       0.0\n",
      "rougher.state.floatbank10_f_air                       0.0\n",
      "rougher.state.floatbank10_e_level                     0.0\n",
      "rougher.state.floatbank10_e_air                       0.0\n",
      "rougher.state.floatbank10_d_level                     0.0\n",
      "rougher.state.floatbank10_d_air                       0.0\n",
      "rougher.state.floatbank10_c_level                     0.0\n",
      "rougher.state.floatbank10_c_air                       0.0\n",
      "rougher.state.floatbank10_b_level                     0.0\n",
      "rougher.state.floatbank10_a_level                     0.0\n",
      "secondary_cleaner.output.tail_ag                      0.0\n",
      "rougher.state.floatbank10_a_air                       0.0\n",
      "rougher.output.tail_au                                0.0\n",
      "rougher.output.tail_sol                               0.0\n",
      "rougher.output.tail_pb                                0.0\n",
      "rougher.output.tail_ag                                0.0\n",
      "rougher.output.recovery                               0.0\n",
      "rougher.output.concentrate_au                         0.0\n",
      "rougher.output.concentrate_sol                        0.0\n",
      "rougher.state.floatbank10_f_level                     0.0\n",
      "secondary_cleaner.output.tail_pb                      0.0\n",
      "rougher.output.concentrate_ag                         0.0\n",
      "secondary_cleaner.state.floatbank4_a_air              0.0\n",
      "secondary_cleaner.state.floatbank6_a_air              0.0\n",
      "secondary_cleaner.state.floatbank5_b_level            0.0\n",
      "secondary_cleaner.state.floatbank5_b_air              0.0\n",
      "secondary_cleaner.state.floatbank5_a_level            0.0\n",
      "secondary_cleaner.state.floatbank5_a_air              0.0\n",
      "secondary_cleaner.state.floatbank4_b_level            0.0\n",
      "secondary_cleaner.state.floatbank4_b_air              0.0\n",
      "secondary_cleaner.state.floatbank4_a_level            0.0\n",
      "secondary_cleaner.state.floatbank3_b_level            0.0\n",
      "secondary_cleaner.output.tail_sol                     0.0\n",
      "secondary_cleaner.state.floatbank3_b_air              0.0\n",
      "secondary_cleaner.state.floatbank3_a_level            0.0\n",
      "secondary_cleaner.state.floatbank3_a_air              0.0\n",
      "secondary_cleaner.state.floatbank2_b_level            0.0\n",
      "secondary_cleaner.state.floatbank2_b_air              0.0\n",
      "secondary_cleaner.state.floatbank2_a_level            0.0\n",
      "secondary_cleaner.state.floatbank2_a_air              0.0\n",
      "secondary_cleaner.output.tail_au                      0.0\n",
      "rougher.output.concentrate_pb                         0.0\n",
      "rougher.input.floatbank11_xanthate                    0.0\n",
      "final.output.concentrate_ag                           0.0\n",
      "primary_cleaner.input.depressant                      0.0\n",
      "primary_cleaner.output.tail_pb                        0.0\n",
      "primary_cleaner.output.tail_ag                        0.0\n",
      "primary_cleaner.output.concentrate_au                 0.0\n",
      "primary_cleaner.output.concentrate_sol                0.0\n",
      "primary_cleaner.output.concentrate_pb                 0.0\n",
      "primary_cleaner.output.concentrate_ag                 0.0\n",
      "primary_cleaner.input.xanthate                        0.0\n",
      "primary_cleaner.input.feed_size                       0.0\n",
      "primary_cleaner.input.sulfate                         0.0\n",
      "primary_cleaner.output.tail_au                        0.0\n",
      "final.output.tail_au                                  0.0\n",
      "final.output.tail_sol                                 0.0\n",
      "final.output.tail_pb                                  0.0\n",
      "final.output.tail_ag                                  0.0\n",
      "final.output.recovery                                 0.0\n",
      "final.output.concentrate_au                           0.0\n",
      "final.output.concentrate_sol                          0.0\n",
      "final.output.concentrate_pb                           0.0\n",
      "primary_cleaner.output.tail_sol                       0.0\n",
      "primary_cleaner.state.floatbank8_a_air                0.0\n",
      "rougher.input.floatbank11_sulfate                     0.0\n",
      "rougher.calculation.au_pb_ratio                       0.0\n",
      "rougher.input.floatbank10_xanthate                    0.0\n",
      "rougher.input.floatbank10_sulfate                     0.0\n",
      "rougher.input.feed_au                                 0.0\n",
      "rougher.input.feed_sol                                0.0\n",
      "rougher.input.feed_size                               0.0\n",
      "rougher.input.feed_rate                               0.0\n",
      "rougher.input.feed_pb                                 0.0\n",
      "rougher.input.feed_ag                                 0.0\n",
      "rougher.calculation.floatbank11_sulfate_to_au_feed    0.0\n",
      "primary_cleaner.state.floatbank8_a_level              0.0\n",
      "rougher.calculation.floatbank10_sulfate_to_au_feed    0.0\n",
      "rougher.calculation.sulfate_to_au_concentrate         0.0\n",
      "primary_cleaner.state.floatbank8_d_level              0.0\n",
      "primary_cleaner.state.floatbank8_d_air                0.0\n",
      "primary_cleaner.state.floatbank8_c_level              0.0\n",
      "primary_cleaner.state.floatbank8_c_air                0.0\n",
      "primary_cleaner.state.floatbank8_b_level              0.0\n",
      "primary_cleaner.state.floatbank8_b_air                0.0\n",
      "secondary_cleaner.state.floatbank6_a_level            0.0\n",
      "dtype: float64\n",
      "Количество пропусков в выборке test после обработки в процентах\n",
      "date                                          0.0\n",
      "rougher.state.floatbank10_c_air               0.0\n",
      "rougher.state.floatbank10_d_air               0.0\n",
      "rougher.state.floatbank10_d_level             0.0\n",
      "rougher.state.floatbank10_e_air               0.0\n",
      "rougher.state.floatbank10_e_level             0.0\n",
      "rougher.state.floatbank10_f_air               0.0\n",
      "rougher.state.floatbank10_f_level             0.0\n",
      "secondary_cleaner.state.floatbank2_a_air      0.0\n",
      "secondary_cleaner.state.floatbank2_a_level    0.0\n",
      "secondary_cleaner.state.floatbank2_b_air      0.0\n",
      "secondary_cleaner.state.floatbank2_b_level    0.0\n",
      "secondary_cleaner.state.floatbank3_a_air      0.0\n",
      "secondary_cleaner.state.floatbank3_a_level    0.0\n",
      "secondary_cleaner.state.floatbank3_b_air      0.0\n",
      "secondary_cleaner.state.floatbank3_b_level    0.0\n",
      "secondary_cleaner.state.floatbank4_a_air      0.0\n",
      "secondary_cleaner.state.floatbank4_a_level    0.0\n",
      "secondary_cleaner.state.floatbank4_b_air      0.0\n",
      "secondary_cleaner.state.floatbank4_b_level    0.0\n",
      "secondary_cleaner.state.floatbank5_a_air      0.0\n",
      "secondary_cleaner.state.floatbank5_a_level    0.0\n",
      "secondary_cleaner.state.floatbank5_b_air      0.0\n",
      "secondary_cleaner.state.floatbank5_b_level    0.0\n",
      "secondary_cleaner.state.floatbank6_a_air      0.0\n",
      "rougher.state.floatbank10_c_level             0.0\n",
      "rougher.state.floatbank10_b_level             0.0\n",
      "primary_cleaner.input.sulfate                 0.0\n",
      "rougher.state.floatbank10_b_air               0.0\n",
      "primary_cleaner.input.depressant              0.0\n",
      "primary_cleaner.input.feed_size               0.0\n",
      "primary_cleaner.input.xanthate                0.0\n",
      "primary_cleaner.state.floatbank8_a_air        0.0\n",
      "primary_cleaner.state.floatbank8_a_level      0.0\n",
      "primary_cleaner.state.floatbank8_b_air        0.0\n",
      "primary_cleaner.state.floatbank8_b_level      0.0\n",
      "primary_cleaner.state.floatbank8_c_air        0.0\n",
      "primary_cleaner.state.floatbank8_c_level      0.0\n",
      "primary_cleaner.state.floatbank8_d_air        0.0\n",
      "primary_cleaner.state.floatbank8_d_level      0.0\n",
      "rougher.input.feed_ag                         0.0\n",
      "rougher.input.feed_pb                         0.0\n",
      "rougher.input.feed_rate                       0.0\n",
      "rougher.input.feed_size                       0.0\n",
      "rougher.input.feed_sol                        0.0\n",
      "rougher.input.feed_au                         0.0\n",
      "rougher.input.floatbank10_sulfate             0.0\n",
      "rougher.input.floatbank10_xanthate            0.0\n",
      "rougher.input.floatbank11_sulfate             0.0\n",
      "rougher.input.floatbank11_xanthate            0.0\n",
      "rougher.state.floatbank10_a_air               0.0\n",
      "rougher.state.floatbank10_a_level             0.0\n",
      "secondary_cleaner.state.floatbank6_a_level    0.0\n",
      "dtype: float64\n"
     ]
    }
   ],
   "source": [
    "# Проверим количество пропусков после предобработки\n",
    "print('Количество пропусков в выборке train после обработки в процентах')\n",
    "print((train.isna().sum().sort_values(ascending=False) / train.shape[0]) * 100)\n",
    "print('Количество пропусков в выборке test после обработки в процентах')\n",
    "print((test.isna().sum().sort_values(ascending=False) / test.shape[0]) * 100)"
   ]
  },
  {
   "cell_type": "markdown",
   "metadata": {},
   "source": [
    "Общий вывод по этапу:\\\n",
    "Изучены данные.\\\n",
    "Проверена правильность расчетов эффективности обогащения.\\\n",
    "Проведена предобработка данных. "
   ]
  },
  {
   "cell_type": "markdown",
   "metadata": {},
   "source": [
    "## Анализ данных"
   ]
  },
  {
   "cell_type": "markdown",
   "metadata": {},
   "source": [
    "### Посмотрим, как меняется концентрация металлов (Au, Ag, Pb) на различных этапах очистки. "
   ]
  },
  {
   "cell_type": "code",
   "execution_count": 16,
   "metadata": {
    "scrolled": false
   },
   "outputs": [
    {
     "data": {
      "image/png": "[encoded data removed]",
      "text/plain": [
       "<Figure size 1440x720 with 1 Axes>"
      ]
     },
     "metadata": {
      "needs_background": "light"
     },
     "output_type": "display_data"
    }
   ],
   "source": [
    "full['rougher.input.feed_ag'].hist(linewidth=3, bins=200, alpha=0.5, grid=True, figsize=(20, 10))\n",
    "full['rougher.output.concentrate_ag'].hist(linewidth=3, bins=200, alpha=0.5, grid=True, figsize=(20, 10))\n",
    "full['primary_cleaner.output.concentrate_ag'].hist(linewidth=3, bins=200, alpha=0.5, grid=True, figsize=(20, 10))\n",
    "full['final.output.concentrate_ag'].hist(linewidth=3, bins=200, alpha=0.5, grid=True, figsize=(20, 10))\n",
    "plt.suptitle('Изменение концентрации серебра на различных этапах очистки', fontsize=20)\n",
    "plt.show()"
   ]
  },
  {
   "cell_type": "code",
   "execution_count": 17,
   "metadata": {},
   "outputs": [
    {
     "data": {
      "image/png": "[encoded data removed]",
      "text/plain": [
       "<Figure size 1440x720 with 1 Axes>"
      ]
     },
     "metadata": {
      "needs_background": "light"
     },
     "output_type": "display_data"
    }
   ],
   "source": [
    "full['rougher.input.feed_pb'].hist(linewidth=3, bins=200, alpha=0.5, grid=True, figsize=(20, 10))\n",
    "full['rougher.output.concentrate_pb'].hist(linewidth=3, bins=200, alpha=0.5, grid=True, figsize=(20, 10))\n",
    "full['primary_cleaner.output.concentrate_pb'].hist(linewidth=3, bins=200, alpha=0.5, grid=True, figsize=(20, 10))\n",
    "full['final.output.concentrate_pb'].hist(linewidth=3, bins=200, alpha=0.5, grid=True, figsize=(20, 10))\n",
    "plt.suptitle('Изменение концентрации свинца на различных этапах очистки', fontsize=20)\n",
    "plt.show()"
   ]
  },
  {
   "cell_type": "code",
   "execution_count": 18,
   "metadata": {
    "scrolled": true
   },
   "outputs": [
    {
     "data": {
      "image/png": "[encoded data removed]",
      "text/plain": [
       "<Figure size 1440x720 with 1 Axes>"
      ]
     },
     "metadata": {
      "needs_background": "light"
     },
     "output_type": "display_data"
    }
   ],
   "source": [
    "full['rougher.input.feed_au'].hist(linewidth=3, bins=200, alpha=0.5, grid=True, figsize=(20, 10))\n",
    "full['rougher.output.concentrate_au'].hist(linewidth=3, bins=200, alpha=0.5, grid=True, figsize=(20, 10))\n",
    "full['primary_cleaner.output.concentrate_au'].hist(linewidth=3, bins=200, alpha=0.5, grid=True, figsize=(20, 10))\n",
    "full['final.output.concentrate_au'].hist(linewidth=3, bins=200, alpha=0.5, grid=True, figsize=(20, 10))\n",
    "plt.suptitle('Изменение концентрации золота на различных этапах очистки', fontsize=20)\n",
    "plt.show()"
   ]
  },
  {
   "cell_type": "markdown",
   "metadata": {},
   "source": [
    "Имеем нормальное распределение, однако имеются выбросы в районе нулевых отметок."
   ]
  },
  {
   "cell_type": "code",
   "execution_count": 19,
   "metadata": {
    "scrolled": false
   },
   "outputs": [
    {
     "data": {
      "image/png": "[encoded data removed]",
      "text/plain": [
       "<Figure size 2160x576 with 3 Axes>"
      ]
     },
     "metadata": {
      "needs_background": "light"
     },
     "output_type": "display_data"
    }
   ],
   "source": [
    "# Построим графики средних концентраций  для каждого металла.\n",
    "\n",
    "fig, (ax1, ax2, ax3) = plt.subplots(1, 3, linewidth=3, figsize=(30, 8)) \n",
    "\n",
    "full[['rougher.output.concentrate_ag', \n",
    "     'primary_cleaner.output.concentrate_ag',\n",
    "     'final.output.concentrate_ag']].mean().plot(\n",
    "    ax=ax1, subplots=True, fontsize=12)\n",
    "\n",
    "ax1.set_title('Серебро (Ag)', fontsize=16)\n",
    "ax1.set_ylabel('Концентрация металла', fontsize=14)\n",
    "ax1.set_xlabel('Стадии очистки', fontsize=14)\n",
    "\n",
    "full[['rougher.output.concentrate_pb', \n",
    "     'primary_cleaner.output.concentrate_pb',\n",
    "     'final.output.concentrate_ag']].mean().plot(\n",
    "    ax=ax2, subplots=True, fontsize=12)\n",
    "\n",
    "ax2.set_title('Свинец (Pb)', fontsize=16)\n",
    "ax2.set_ylabel('Концентрация металла', fontsize=14)\n",
    "ax2.set_xlabel('Стадии очистки', fontsize=14)\n",
    "\n",
    "full[['rougher.output.concentrate_au', \n",
    "     'primary_cleaner.output.concentrate_au',\n",
    "     'final.output.concentrate_au']].mean().plot(\n",
    "    ax=ax3, subplots=True, fontsize=12)\n",
    "\n",
    "ax3.set_title('Золото (Au)', fontsize=16)\n",
    "ax3.set_ylabel('Концентрация металла', fontsize=14)\n",
    "ax3.set_xlabel('Стадии очистки', fontsize=14)\n",
    "\n",
    "\n",
    "plt.suptitle('Изменение концентрации металлов на различных этапах очистки', fontsize=25, fontweight='bold')\n",
    "plt.show()"
   ]
  },
  {
   "cell_type": "markdown",
   "metadata": {},
   "source": [
    "Концентрация серебра по мере очистки снижается, концентрация свинца после флотации резко растет, далее резко уменьшается. Концентрация золота линейно растет по мере очистки."
   ]
  },
  {
   "cell_type": "markdown",
   "metadata": {},
   "source": [
    "### Сравним распределения размеров гранул сырья на обучающей и тестовой выборках. "
   ]
  },
  {
   "cell_type": "code",
   "execution_count": 20,
   "metadata": {},
   "outputs": [
    {
     "data": {
      "image/png": "[encoded data removed]",
      "text/plain": [
       "<Figure size 1440x1080 with 2 Axes>"
      ]
     },
     "metadata": {
      "needs_background": "light"
     },
     "output_type": "display_data"
    }
   ],
   "source": [
    "fig, ax = plt.subplots(2, 1)\n",
    "fig.set_figheight(15)\n",
    "fig.set_figwidth(20)\n",
    "fig.suptitle('Распределение размеров гранул на разных этапах в обучающей и тестовой выборках', size=20)\n",
    "\n",
    "ax[0].hist(train['rougher.input.feed_size'], bins=100, alpha = 0.5, \n",
    "           label = 'train_rougher.input.feed_size', density=True)\n",
    "ax[0].hist(test['rougher.input.feed_size'], bins=100, alpha = 0.5, \n",
    "           label = 'test_rougher.input.feed_size', density=True)\n",
    "ax[0].legend()\n",
    "ax[0].set_title('Размер гранул сырья в смеси золотосодержащей руды')\n",
    "ax[0].grid()\n",
    "\n",
    "ax[1].hist(train['primary_cleaner.input.feed_size'], bins=100, alpha = 0.5, \n",
    "           label = 'train_primary_cleaner.input.feed_size', density=True)\n",
    "ax[1].hist(test['primary_cleaner.input.feed_size'], bins=100, alpha = 0.5, \n",
    "           label = 'primary_cleaner.output.concentrate_pb', density=True)\n",
    "ax[1].legend()\n",
    "ax[1].set_title('Размер гранул сырья после флотации')\n",
    "ax[1].grid()\n",
    "\n",
    "plt.show()"
   ]
  },
  {
   "cell_type": "code",
   "execution_count": 21,
   "metadata": {},
   "outputs": [
    {
     "data": {
      "text/plain": [
       "count    14149.000000\n",
       "mean         7.322310\n",
       "std          0.614062\n",
       "min          1.080000\n",
       "25%          6.960000\n",
       "50%          7.290000\n",
       "75%          7.700000\n",
       "max         10.470000\n",
       "Name: primary_cleaner.input.feed_size, dtype: float64"
      ]
     },
     "execution_count": 21,
     "metadata": {},
     "output_type": "execute_result"
    }
   ],
   "source": [
    "train['primary_cleaner.input.feed_size'].describe()"
   ]
  },
  {
   "cell_type": "code",
   "execution_count": 22,
   "metadata": {},
   "outputs": [
    {
     "data": {
      "text/plain": [
       "count    5290.000000\n",
       "mean        7.266339\n",
       "std         0.610219\n",
       "min         5.650000\n",
       "25%         6.890000\n",
       "50%         7.250000\n",
       "75%         7.600000\n",
       "max        15.500000\n",
       "Name: primary_cleaner.input.feed_size, dtype: float64"
      ]
     },
     "execution_count": 22,
     "metadata": {},
     "output_type": "execute_result"
    }
   ],
   "source": [
    "test['primary_cleaner.input.feed_size'].describe()"
   ]
  },
  {
   "cell_type": "markdown",
   "metadata": {},
   "source": [
    "В целом распределения похожи, размеры частиц практически одни и те же, средние значения также недалеко друг от друга. Предполагаем, что модель будет оценивать правильно."
   ]
  },
  {
   "cell_type": "markdown",
   "metadata": {},
   "source": [
    "### Исследуем суммарную концентрацию всех веществ на разных стадиях"
   ]
  },
  {
   "cell_type": "markdown",
   "metadata": {},
   "source": [
    "#### В сырье"
   ]
  },
  {
   "cell_type": "code",
   "execution_count": 23,
   "metadata": {
    "scrolled": false
   },
   "outputs": [
    {
     "data": {
      "image/png": "[encoded data removed]",
      "text/plain": [
       "<Figure size 1152x576 with 1 Axes>"
      ]
     },
     "metadata": {
      "needs_background": "light"
     },
     "output_type": "display_data"
    }
   ],
   "source": [
    "# Построим гистограмму для суммарной концентрации всех веществ в сырье\n",
    "plt.subplots(figsize = (16,8))\n",
    "sns.histplot(full[['rougher.input.feed_ag', \n",
    "                   'rougher.input.feed_pb',\n",
    "                   'rougher.output.concentrate_sol',\n",
    "                   'rougher.input.feed_au']].sum(axis=1), fill=True, bins=300)\n",
    "plt.title('Суммарная концентрация всех веществ в сырье')\n",
    "plt.show()"
   ]
  },
  {
   "cell_type": "markdown",
   "metadata": {},
   "source": [
    "#### В черновом концентрате"
   ]
  },
  {
   "cell_type": "code",
   "execution_count": 24,
   "metadata": {
    "scrolled": false
   },
   "outputs": [
    {
     "data": {
      "image/png": "[encoded data removed]",
      "text/plain": [
       "<Figure size 1152x576 with 1 Axes>"
      ]
     },
     "metadata": {
      "needs_background": "light"
     },
     "output_type": "display_data"
    }
   ],
   "source": [
    "plt.subplots(figsize = (16,8))\n",
    "sns.histplot(full[['rougher.output.concentrate_pb', \n",
    "                   'rougher.output.concentrate_ag', \n",
    "                   'rougher.output.concentrate_sol',\n",
    "                   'rougher.output.concentrate_au']].sum(axis=1), fill=True, bins=300)\n",
    "plt.title('Суммарная концентрация всех веществ в черновом концентрате')\n",
    "plt.show()\n"
   ]
  },
  {
   "cell_type": "markdown",
   "metadata": {},
   "source": [
    "#### В финальном концентрате"
   ]
  },
  {
   "cell_type": "code",
   "execution_count": 25,
   "metadata": {
    "scrolled": false
   },
   "outputs": [
    {
     "data": {
      "image/png": "[encoded data removed]",
      "text/plain": [
       "<Figure size 1152x576 with 1 Axes>"
      ]
     },
     "metadata": {
      "needs_background": "light"
     },
     "output_type": "display_data"
    }
   ],
   "source": [
    "plt.subplots(figsize = (16,8))\n",
    "sns.histplot(full[['final.output.concentrate_pb', \n",
    "                   'final.output.concentrate_ag', \n",
    "                   'rougher.output.concentrate_sol',\n",
    "                   'final.output.concentrate_au']].sum(axis=1), fill=True, bins=300)\n",
    "plt.title('Суммарная концентрация всех веществ в финальном концентрате')\n",
    "plt.show()"
   ]
  },
  {
   "cell_type": "code",
   "execution_count": 26,
   "metadata": {
    "scrolled": false
   },
   "outputs": [
    {
     "data": {
      "text/html": [
       "<div>\n",
       "<style scoped>\n",
       "    .dataframe tbody tr th:only-of-type {\n",
       "        vertical-align: middle;\n",
       "    }\n",
       "\n",
       "    .dataframe tbody tr th {\n",
       "        vertical-align: top;\n",
       "    }\n",
       "\n",
       "    .dataframe thead th {\n",
       "        text-align: right;\n",
       "    }\n",
       "</style>\n",
       "<table border=\"1\" class=\"dataframe\">\n",
       "  <thead>\n",
       "    <tr style=\"text-align: right;\">\n",
       "      <th></th>\n",
       "      <th>final.output.concentrate_pb</th>\n",
       "      <th>final.output.concentrate_ag</th>\n",
       "      <th>rougher.output.concentrate_sol</th>\n",
       "      <th>final.output.concentrate_au</th>\n",
       "    </tr>\n",
       "  </thead>\n",
       "  <tbody>\n",
       "    <tr>\n",
       "      <th>count</th>\n",
       "      <td>19438.000000</td>\n",
       "      <td>19438.000000</td>\n",
       "      <td>19416.000000</td>\n",
       "      <td>19439.000000</td>\n",
       "    </tr>\n",
       "    <tr>\n",
       "      <th>mean</th>\n",
       "      <td>9.978895</td>\n",
       "      <td>5.168470</td>\n",
       "      <td>28.805571</td>\n",
       "      <td>44.076513</td>\n",
       "    </tr>\n",
       "    <tr>\n",
       "      <th>std</th>\n",
       "      <td>1.669240</td>\n",
       "      <td>1.372348</td>\n",
       "      <td>5.944207</td>\n",
       "      <td>5.129784</td>\n",
       "    </tr>\n",
       "    <tr>\n",
       "      <th>min</th>\n",
       "      <td>0.000000</td>\n",
       "      <td>0.000000</td>\n",
       "      <td>0.000000</td>\n",
       "      <td>0.000000</td>\n",
       "    </tr>\n",
       "    <tr>\n",
       "      <th>25%</th>\n",
       "      <td>9.137262</td>\n",
       "      <td>4.251240</td>\n",
       "      <td>27.224120</td>\n",
       "      <td>43.402215</td>\n",
       "    </tr>\n",
       "    <tr>\n",
       "      <th>50%</th>\n",
       "      <td>10.102433</td>\n",
       "      <td>5.066094</td>\n",
       "      <td>29.835345</td>\n",
       "      <td>45.011244</td>\n",
       "    </tr>\n",
       "    <tr>\n",
       "      <th>75%</th>\n",
       "      <td>11.035769</td>\n",
       "      <td>5.895527</td>\n",
       "      <td>32.189933</td>\n",
       "      <td>46.275313</td>\n",
       "    </tr>\n",
       "    <tr>\n",
       "      <th>max</th>\n",
       "      <td>17.031899</td>\n",
       "      <td>16.001945</td>\n",
       "      <td>38.351193</td>\n",
       "      <td>52.756638</td>\n",
       "    </tr>\n",
       "  </tbody>\n",
       "</table>\n",
       "</div>"
      ],
      "text/plain": [
       "       final.output.concentrate_pb  final.output.concentrate_ag  \\\n",
       "count                 19438.000000                 19438.000000   \n",
       "mean                      9.978895                     5.168470   \n",
       "std                       1.669240                     1.372348   \n",
       "min                       0.000000                     0.000000   \n",
       "25%                       9.137262                     4.251240   \n",
       "50%                      10.102433                     5.066094   \n",
       "75%                      11.035769                     5.895527   \n",
       "max                      17.031899                    16.001945   \n",
       "\n",
       "       rougher.output.concentrate_sol  final.output.concentrate_au  \n",
       "count                    19416.000000                 19439.000000  \n",
       "mean                        28.805571                    44.076513  \n",
       "std                          5.944207                     5.129784  \n",
       "min                          0.000000                     0.000000  \n",
       "25%                         27.224120                    43.402215  \n",
       "50%                         29.835345                    45.011244  \n",
       "75%                         32.189933                    46.275313  \n",
       "max                         38.351193                    52.756638  "
      ]
     },
     "execution_count": 26,
     "metadata": {},
     "output_type": "execute_result"
    }
   ],
   "source": [
    "full[['final.output.concentrate_pb', \n",
    "                   'final.output.concentrate_ag', \n",
    "                   'rougher.output.concentrate_sol',\n",
    "                   'final.output.concentrate_au']].describe()"
   ]
  },
  {
   "cell_type": "markdown",
   "metadata": {},
   "source": [
    "Мы видим аномалии в районе нулевых отметок. Один из вариантов решения является исключение выбросов, но это следует делать, только если мы можем  утверждать (почти с уверенностью), почему такие точки недействительны (например, сломалось измерительное оборудование, метод измерения по какой-то причине был ненадежным, ...). Условиями задачи такие случаи не описаны, получить данные самостоятельно не представляется возможным.\\\n",
    "Проблема с удалением выбросов состоит в том, что для определения того, какие точки являются выбросами, необходимо иметь хорошую модель того, что является или не является «хорошими данными». Если мы не уверены в модели (какие факторы должны быть включены, какую структуру имеет модель, каковы предположения относительно шума, ...), то мы не можем быть уверены в своих выбросах. Попробуем обучать модели на предоставленных данных, удалив только те признаки, которые точно не влияют на предсказания моделей."
   ]
  },
  {
   "cell_type": "markdown",
   "metadata": {},
   "source": [
    "## Модель"
   ]
  },
  {
   "cell_type": "markdown",
   "metadata": {},
   "source": [
    "Подготовим выборки для обучения и проверки модели"
   ]
  },
  {
   "cell_type": "code",
   "execution_count": 27,
   "metadata": {},
   "outputs": [],
   "source": [
    "# Добавим в  выборку целевые признаки\n",
    "test = test.merge(full[['date', \n",
    "                        'rougher.output.recovery', \n",
    "                        'final.output.recovery']], \n",
    "                  how = 'left', on = 'date')\n",
    "\n",
    "# Удалим из выборок столбцы с датой, для модели он не понадобится\n",
    "test.drop(['date'], axis=1, inplace=True)\n",
    "train.drop(['date'], axis=1, inplace=True)\n",
    "\n",
    "# Удалим из тренировочной выборки те признаки, которых нет в тестовой\n",
    "train = train.drop(set(train.columns)-set(test.columns), axis=1)"
   ]
  },
  {
   "cell_type": "markdown",
   "metadata": {},
   "source": [
    "### Напишем функцию для вычисления итоговой sMAPE."
   ]
  },
  {
   "cell_type": "code",
   "execution_count": 28,
   "metadata": {},
   "outputs": [],
   "source": [
    "def calc_smape(predict,target):\n",
    "    \n",
    "    predict_rougher = predict[:,0]\n",
    "    target_rougher = target[:,0]\n",
    "    \n",
    "    predict_final = predict[:,1]\n",
    "    target_final = target[:,1]\n",
    "    \n",
    "    smape_rougher = np.sum(abs(target_rougher - predict_rougher) / ((abs(target_rougher) + abs(predict_rougher)) / 2))\n",
    "    \n",
    "    smape_rougher = smape_rougher / len(target_rougher) * 100\n",
    "       \n",
    "    smape_final = np.sum(abs(target_final - predict_final) / ((abs(target_final) + abs(predict_final)) / 2))\n",
    "    smape_final = smape_final / len(target_final) * 100\n",
    "    \n",
    "    smape = 0.25 * smape_rougher + 0.75 * smape_final\n",
    "    \n",
    "    return smape"
   ]
  },
  {
   "cell_type": "markdown",
   "metadata": {},
   "source": []
  },
  {
   "cell_type": "markdown",
   "metadata": {},
   "source": [
    "### Обучим разные модели и оценим их качество кросс-валидацией."
   ]
  },
  {
   "cell_type": "code",
   "execution_count": 29,
   "metadata": {},
   "outputs": [],
   "source": [
    "# Создаем отдельные переменные для признаков\n",
    "\n",
    "features_train = train.drop(['rougher.output.recovery', 'final.output.recovery'], axis='columns')\n",
    "target_train = train[['rougher.output.recovery', 'final.output.recovery']]\n",
    "features_test = test.drop(['rougher.output.recovery', 'final.output.recovery'], axis='columns')\n",
    "target_test = test[['rougher.output.recovery', 'final.output.recovery']]"
   ]
  },
  {
   "cell_type": "code",
   "execution_count": 30,
   "metadata": {},
   "outputs": [],
   "source": [
    "# Стандартизируем данные\n",
    "# Обучаем StandartScaler на обучающей выборке\n",
    "\n",
    "scaler = StandardScaler()\n",
    "scaler.fit(features_train)\n",
    "\n",
    "# Преобразуем обучающий и тестовый наборы данных\n",
    "\n",
    "features_train_scaler = scaler.transform(features_train)\n",
    "features_test_scaler = scaler.transform(features_test)"
   ]
  },
  {
   "cell_type": "code",
   "execution_count": 31,
   "metadata": {},
   "outputs": [],
   "source": [
    "# Создаем скорер метрики качества\n",
    "smape_scorer = make_scorer(calc_smape, greater_is_better=False)"
   ]
  },
  {
   "cell_type": "markdown",
   "metadata": {},
   "source": [
    "#### Модель линейная регрессия"
   ]
  },
  {
   "cell_type": "code",
   "execution_count": 32,
   "metadata": {},
   "outputs": [
    {
     "name": "stdout",
     "output_type": "stream",
     "text": [
      "Лучшее значение sMAPE для линейной регрессии: 12.352214473449466\n",
      "CPU times: user 1.13 s, sys: 2.92 s, total: 4.05 s\n",
      "Wall time: 4.01 s\n"
     ]
    }
   ],
   "source": [
    "%%time\n",
    "\n",
    "# Построим модель для линейной регрессии и сделаем кросс-валидацию методом cross_val_score\n",
    "\n",
    "model = LinearRegression()\n",
    "model.fit(features_train_scaler, target_train)\n",
    "smape = cross_val_score(model, \n",
    "                        features_train_scaler, \n",
    "                        np.array(target_train), \n",
    "                        scoring = smape_scorer, cv=6).mean()\n",
    "print('Лучшее значение sMAPE для линейной регрессии:', abs(smape))"
   ]
  },
  {
   "cell_type": "markdown",
   "metadata": {},
   "source": [
    "#### Дерево решений"
   ]
  },
  {
   "cell_type": "code",
   "execution_count": 33,
   "metadata": {},
   "outputs": [
    {
     "name": "stdout",
     "output_type": "stream",
     "text": [
      "DecisionTreeRegressor(max_depth=4,\n",
      "                      random_state=RandomState(MT19937) at 0x7F7F6EF4C640)\n",
      "CPU times: user 32.2 s, sys: 43.5 ms, total: 32.2 s\n",
      "Wall time: 32.5 s\n"
     ]
    }
   ],
   "source": [
    "%%time\n",
    "\n",
    "param_dist = {'max_depth' : range(1,25,2)}\n",
    "model = DecisionTreeRegressor(random_state = state)\n",
    "\n",
    "grid = RandomizedSearchCV(model, param_dist,\n",
    "                                      random_state = state,\n",
    "                                      scoring= smape_scorer)\n",
    "\n",
    "best_model = grid.fit(features_train_scaler, np.array(target_train))\n",
    "print(best_model.best_estimator_)"
   ]
  },
  {
   "cell_type": "code",
   "execution_count": 34,
   "metadata": {},
   "outputs": [
    {
     "name": "stdout",
     "output_type": "stream",
     "text": [
      "Лучшее значение sMAPE для дерева решений: 11.303646569168622\n"
     ]
    }
   ],
   "source": [
    "# Кросс-валидация DecisionTreeRegressor\n",
    "model = DecisionTreeRegressor(random_state = state, max_depth=4)\n",
    "\n",
    "score = cross_val_score(model, features_train_scaler, np.array(target_train), scoring = smape_scorer, cv=6).mean()\n",
    "print('Лучшее значение sMAPE для дерева решений:', abs(score))"
   ]
  },
  {
   "cell_type": "markdown",
   "metadata": {},
   "source": [
    "#### Случайный лес"
   ]
  },
  {
   "cell_type": "code",
   "execution_count": 35,
   "metadata": {},
   "outputs": [
    {
     "name": "stdout",
     "output_type": "stream",
     "text": [
      "RandomForestRegressor(max_depth=5, n_estimators=170,\n",
      "                      random_state=RandomState(MT19937) at 0x7F7F6EF4C440)\n",
      "CPU times: user 39min 30s, sys: 2.89 s, total: 39min 32s\n",
      "Wall time: 39min 36s\n"
     ]
    }
   ],
   "source": [
    "%%time\n",
    "\n",
    "param_dist = {\n",
    "        'n_estimators' : range(50, 250, 10),\n",
    "        'max_depth' : range(1,25,2),\n",
    "}\n",
    "\n",
    "model = RandomForestRegressor(random_state = state)\n",
    "\n",
    "grid = RandomizedSearchCV(model, param_dist, random_state = state, scoring = smape_scorer)\n",
    "\n",
    "best_model = grid.fit(features_train_scaler, np.array(target_train))\n",
    "print(best_model.best_estimator_)"
   ]
  },
  {
   "cell_type": "code",
   "execution_count": 42,
   "metadata": {},
   "outputs": [
    {
     "name": "stdout",
     "output_type": "stream",
     "text": [
      "Лучшее значение sMAPE для случайного леса: 10.41556808365448\n",
      "CPU times: user 3min 20s, sys: 264 ms, total: 3min 20s\n",
      "Wall time: 3min 20s\n"
     ]
    }
   ],
   "source": [
    "%%time\n",
    "\n",
    "model = RandomForestRegressor(random_state = state, max_depth = 5, n_estimators = 170)\n",
    "\n",
    "smape = cross_val_score(model, features_train_scaler, np.array(target_train), scoring = smape_scorer, cv=6).mean()\n",
    "print('Лучшее значение sMAPE для случайного леса:', abs(smape))"
   ]
  },
  {
   "cell_type": "markdown",
   "metadata": {},
   "source": [
    "По результатам проверки лучшей моделью признаем модель линейной регрессии. Ее мы и предложим заказчику для работы."
   ]
  },
  {
   "cell_type": "markdown",
   "metadata": {},
   "source": [
    "### Проверка лучшей модели на тестовой выборке"
   ]
  },
  {
   "cell_type": "code",
   "execution_count": 47,
   "metadata": {},
   "outputs": [
    {
     "name": "stdout",
     "output_type": "stream",
     "text": [
      "sMAPE LinearRegression лучшей модели на тестовых данных: 10.059358717777187\n"
     ]
    }
   ],
   "source": [
    "model = LinearRegression()\n",
    "model.fit(features_train_scaler, target_train)\n",
    "predictions = model.predict(features_test_scaler)\n",
    "smape = calc_smape(predictions, np.array(target_test))\n",
    "print('sMAPE LinearRegression лучшей модели на тестовых данных:', smape)"
   ]
  },
  {
   "cell_type": "markdown",
   "metadata": {},
   "source": [
    "### Проверим модель на адекватность"
   ]
  },
  {
   "cell_type": "code",
   "execution_count": 38,
   "metadata": {},
   "outputs": [
    {
     "name": "stdout",
     "output_type": "stream",
     "text": [
      "sMAPE константной модели: 9.47991919812286\n"
     ]
    }
   ],
   "source": [
    "dummy = DummyRegressor(strategy = 'median')\n",
    "dummy.fit(features_train_scaler, target_train)\n",
    "predict = dummy.predict(features_test_scaler)\n",
    "\n",
    "smape = calc_smape(predict, np.array(target_test))\n",
    "print('sMAPE константной модели:', smape)"
   ]
  },
  {
   "cell_type": "markdown",
   "metadata": {},
   "source": [
    "## Общий вывод по проекту"
   ]
  },
  {
   "cell_type": "markdown",
   "metadata": {},
   "source": [
    "В процессе работы над проектом:\n",
    "получены и изучены данные, представленные заказчиком проекта.\\\n",
    "Проверена правильность подсчета эффективности обогащения.\\\n",
    "Проанализированы признаки, недоступные в тестовой выборке.\\\n",
    "Проведена предобработка данных.\\\n",
    "Проверено и визуализировано, как меняется концентрация металлов (Au, Ag, Pb) на различных этапах очистки. \\\n",
    "Сравнили распределения размеров гранул сырья на обучающей и тестовой выборках. \\\n",
    "Исследовали суммарную концентрацию всех веществ на разных стадиях: в сырье, в черновом и финальном концентратах. \\\n",
    "Построим модель\\\n",
    "Обучены, проверены кросс-валидацией различные модели: линейная регрессия, решающее дерево и случайный лес. \\\n",
    "По результатам проверки выбрали лучшую модель и проверили её на тестовой выборке.\\\n",
    "Кроме того, проверили модель на адекватность."
   ]
  }
 ],
 "metadata": {
  "ExecuteTimeLog": [
   {
    "duration": 44,
    "start_time": "2023-02-27T08:22:17.400Z"
   },
   {
    "duration": 1552,
    "start_time": "2023-02-27T08:22:20.101Z"
   },
   {
    "duration": 132,
    "start_time": "2023-02-27T08:22:21.655Z"
   },
   {
    "duration": 0,
    "start_time": "2023-02-27T08:22:21.789Z"
   },
   {
    "duration": 1811,
    "start_time": "2023-02-27T08:22:57.820Z"
   },
   {
    "duration": 25,
    "start_time": "2023-02-27T08:22:59.632Z"
   },
   {
    "duration": 9,
    "start_time": "2023-02-27T12:40:37.103Z"
   },
   {
    "duration": 4,
    "start_time": "2023-02-27T12:40:40.422Z"
   },
   {
    "duration": 682,
    "start_time": "2023-02-27T12:40:41.824Z"
   },
   {
    "duration": 26,
    "start_time": "2023-02-27T12:40:42.766Z"
   },
   {
    "duration": 21,
    "start_time": "2023-02-27T15:23:21.121Z"
   },
   {
    "duration": 33,
    "start_time": "2023-02-27T15:23:44.774Z"
   },
   {
    "duration": 12,
    "start_time": "2023-02-27T15:40:11.753Z"
   },
   {
    "duration": 1389,
    "start_time": "2023-02-28T14:52:46.243Z"
   },
   {
    "duration": 3084,
    "start_time": "2023-02-28T14:52:47.634Z"
   },
   {
    "duration": 25,
    "start_time": "2023-02-28T14:52:50.720Z"
   },
   {
    "duration": 19,
    "start_time": "2023-02-28T14:52:50.747Z"
   },
   {
    "duration": 19,
    "start_time": "2023-02-28T14:52:50.768Z"
   },
   {
    "duration": 106,
    "start_time": "2023-02-28T14:52:50.788Z"
   },
   {
    "duration": 5,
    "start_time": "2023-02-28T15:00:10.904Z"
   },
   {
    "duration": 9,
    "start_time": "2023-02-28T15:32:43.145Z"
   },
   {
    "duration": 4,
    "start_time": "2023-02-28T15:32:48.527Z"
   },
   {
    "duration": 12,
    "start_time": "2023-02-28T15:32:50.740Z"
   },
   {
    "duration": 5,
    "start_time": "2023-02-28T15:32:59.920Z"
   },
   {
    "duration": 299,
    "start_time": "2023-02-28T15:33:00.682Z"
   },
   {
    "duration": 6,
    "start_time": "2023-02-28T15:34:11.171Z"
   },
   {
    "duration": 262,
    "start_time": "2023-02-28T15:34:11.721Z"
   },
   {
    "duration": 3,
    "start_time": "2023-02-28T15:35:54.057Z"
   },
   {
    "duration": 3,
    "start_time": "2023-02-28T15:35:54.520Z"
   },
   {
    "duration": 759,
    "start_time": "2023-02-28T15:35:55.701Z"
   },
   {
    "duration": 797,
    "start_time": "2023-02-28T15:37:19.682Z"
   },
   {
    "duration": 788,
    "start_time": "2023-02-28T15:38:07.577Z"
   },
   {
    "duration": 722,
    "start_time": "2023-02-28T15:38:20.107Z"
   },
   {
    "duration": 758,
    "start_time": "2023-02-28T15:38:34.192Z"
   },
   {
    "duration": 1558,
    "start_time": "2023-02-28T17:58:39.529Z"
   },
   {
    "duration": 1776,
    "start_time": "2023-02-28T17:58:41.089Z"
   },
   {
    "duration": 5,
    "start_time": "2023-02-28T17:58:42.866Z"
   },
   {
    "duration": 5,
    "start_time": "2023-02-28T17:58:42.872Z"
   },
   {
    "duration": 106,
    "start_time": "2023-02-28T17:58:42.879Z"
   },
   {
    "duration": 0,
    "start_time": "2023-02-28T17:58:42.987Z"
   },
   {
    "duration": 0,
    "start_time": "2023-02-28T17:58:42.989Z"
   },
   {
    "duration": 0,
    "start_time": "2023-02-28T17:58:42.990Z"
   },
   {
    "duration": 760,
    "start_time": "2023-02-28T17:59:45.181Z"
   },
   {
    "duration": 2932,
    "start_time": "2023-02-28T18:00:55.260Z"
   },
   {
    "duration": 12,
    "start_time": "2023-02-28T18:03:39.657Z"
   },
   {
    "duration": 820,
    "start_time": "2023-02-28T18:05:58.458Z"
   },
   {
    "duration": 763,
    "start_time": "2023-02-28T18:06:08.723Z"
   },
   {
    "duration": 4,
    "start_time": "2023-02-28T18:08:40.189Z"
   },
   {
    "duration": 3,
    "start_time": "2023-02-28T18:08:46.321Z"
   },
   {
    "duration": 946,
    "start_time": "2023-02-28T18:08:48.075Z"
   },
   {
    "duration": 4,
    "start_time": "2023-02-28T18:10:31.685Z"
   },
   {
    "duration": 3,
    "start_time": "2023-02-28T18:10:32.143Z"
   },
   {
    "duration": 1232,
    "start_time": "2023-02-28T18:10:36.636Z"
   },
   {
    "duration": 4,
    "start_time": "2023-02-28T18:11:06.438Z"
   },
   {
    "duration": 3,
    "start_time": "2023-02-28T18:11:07.711Z"
   },
   {
    "duration": 970,
    "start_time": "2023-02-28T18:11:08.546Z"
   },
   {
    "duration": 4,
    "start_time": "2023-02-28T18:12:04.389Z"
   },
   {
    "duration": 3,
    "start_time": "2023-02-28T18:12:05.444Z"
   },
   {
    "duration": 963,
    "start_time": "2023-02-28T18:12:05.910Z"
   },
   {
    "duration": 3,
    "start_time": "2023-02-28T18:17:17.850Z"
   },
   {
    "duration": 3,
    "start_time": "2023-02-28T18:17:18.216Z"
   },
   {
    "duration": 949,
    "start_time": "2023-02-28T18:17:19.054Z"
   },
   {
    "duration": 3,
    "start_time": "2023-02-28T18:17:41.670Z"
   },
   {
    "duration": 3,
    "start_time": "2023-02-28T18:17:42.027Z"
   },
   {
    "duration": 888,
    "start_time": "2023-02-28T18:17:42.609Z"
   },
   {
    "duration": 3,
    "start_time": "2023-02-28T18:18:44.142Z"
   },
   {
    "duration": 372,
    "start_time": "2023-02-28T18:20:15.652Z"
   },
   {
    "duration": 1287,
    "start_time": "2023-02-28T18:22:13.787Z"
   },
   {
    "duration": 826,
    "start_time": "2023-02-28T18:22:15.076Z"
   },
   {
    "duration": 3,
    "start_time": "2023-02-28T18:22:15.903Z"
   },
   {
    "duration": 435,
    "start_time": "2023-02-28T18:22:15.909Z"
   },
   {
    "duration": 208,
    "start_time": "2023-02-28T18:22:16.345Z"
   },
   {
    "duration": 391,
    "start_time": "2023-02-28T18:22:16.559Z"
   },
   {
    "duration": 4,
    "start_time": "2023-02-28T18:22:59.517Z"
   },
   {
    "duration": 395,
    "start_time": "2023-02-28T18:23:00.271Z"
   },
   {
    "duration": 355,
    "start_time": "2023-02-28T18:23:08.829Z"
   },
   {
    "duration": 4,
    "start_time": "2023-02-28T18:23:17.880Z"
   },
   {
    "duration": 393,
    "start_time": "2023-02-28T18:23:18.357Z"
   },
   {
    "duration": 1362,
    "start_time": "2023-02-28T18:23:34.380Z"
   },
   {
    "duration": 798,
    "start_time": "2023-02-28T18:23:35.745Z"
   },
   {
    "duration": 6,
    "start_time": "2023-02-28T18:23:36.545Z"
   },
   {
    "duration": 453,
    "start_time": "2023-02-28T18:23:36.558Z"
   },
   {
    "duration": 203,
    "start_time": "2023-02-28T18:23:37.013Z"
   },
   {
    "duration": 478,
    "start_time": "2023-02-28T18:23:37.217Z"
   },
   {
    "duration": 3,
    "start_time": "2023-02-28T18:51:35.747Z"
   },
   {
    "duration": 73,
    "start_time": "2023-02-28T18:51:36.441Z"
   },
   {
    "duration": 7,
    "start_time": "2023-02-28T18:51:46.169Z"
   },
   {
    "duration": 6,
    "start_time": "2023-02-28T18:52:00.051Z"
   },
   {
    "duration": 5,
    "start_time": "2023-02-28T18:52:58.465Z"
   },
   {
    "duration": 22,
    "start_time": "2023-02-28T18:53:32.418Z"
   },
   {
    "duration": 6,
    "start_time": "2023-02-28T18:58:32.495Z"
   },
   {
    "duration": 6,
    "start_time": "2023-02-28T18:58:33.466Z"
   },
   {
    "duration": 111,
    "start_time": "2023-02-28T19:04:00.031Z"
   },
   {
    "duration": 6,
    "start_time": "2023-02-28T19:05:18.204Z"
   },
   {
    "duration": 5,
    "start_time": "2023-02-28T19:05:18.640Z"
   },
   {
    "duration": 9,
    "start_time": "2023-02-28T19:05:20.324Z"
   },
   {
    "duration": 16,
    "start_time": "2023-02-28T19:06:05.985Z"
   },
   {
    "duration": 4,
    "start_time": "2023-02-28T19:07:55.460Z"
   },
   {
    "duration": 11,
    "start_time": "2023-02-28T19:08:01.337Z"
   },
   {
    "duration": 16,
    "start_time": "2023-02-28T19:08:22.583Z"
   },
   {
    "duration": 5,
    "start_time": "2023-02-28T19:09:09.996Z"
   },
   {
    "duration": 14,
    "start_time": "2023-02-28T19:09:10.623Z"
   },
   {
    "duration": 14,
    "start_time": "2023-02-28T19:09:37.034Z"
   },
   {
    "duration": 5,
    "start_time": "2023-02-28T19:10:16.151Z"
   },
   {
    "duration": 5,
    "start_time": "2023-02-28T19:10:16.770Z"
   },
   {
    "duration": 7,
    "start_time": "2023-02-28T19:10:41.713Z"
   },
   {
    "duration": 10,
    "start_time": "2023-02-28T19:10:52.672Z"
   },
   {
    "duration": 9,
    "start_time": "2023-02-28T19:11:03.896Z"
   },
   {
    "duration": 11,
    "start_time": "2023-02-28T19:11:35.267Z"
   },
   {
    "duration": 80,
    "start_time": "2023-02-28T19:12:09.864Z"
   },
   {
    "duration": 1239,
    "start_time": "2023-02-28T19:12:17.498Z"
   },
   {
    "duration": 5,
    "start_time": "2023-02-28T19:12:47.687Z"
   },
   {
    "duration": 16,
    "start_time": "2023-02-28T19:13:36.910Z"
   },
   {
    "duration": 11,
    "start_time": "2023-02-28T19:13:38.605Z"
   },
   {
    "duration": 5,
    "start_time": "2023-02-28T19:13:55.938Z"
   },
   {
    "duration": 5,
    "start_time": "2023-02-28T19:14:08.720Z"
   },
   {
    "duration": 5,
    "start_time": "2023-02-28T19:17:11.040Z"
   },
   {
    "duration": 6,
    "start_time": "2023-02-28T19:25:15.467Z"
   },
   {
    "duration": 5,
    "start_time": "2023-02-28T19:25:33.105Z"
   },
   {
    "duration": 5,
    "start_time": "2023-02-28T19:26:00.430Z"
   },
   {
    "duration": 6,
    "start_time": "2023-02-28T19:26:01.698Z"
   },
   {
    "duration": 5,
    "start_time": "2023-02-28T19:26:17.337Z"
   },
   {
    "duration": 5,
    "start_time": "2023-02-28T19:26:52.748Z"
   },
   {
    "duration": 9,
    "start_time": "2023-02-28T19:30:02.853Z"
   },
   {
    "duration": 7,
    "start_time": "2023-02-28T19:30:38.758Z"
   },
   {
    "duration": 11,
    "start_time": "2023-02-28T19:30:54.073Z"
   },
   {
    "duration": 10,
    "start_time": "2023-02-28T19:30:59.138Z"
   },
   {
    "duration": 12,
    "start_time": "2023-02-28T19:31:19.483Z"
   },
   {
    "duration": 10,
    "start_time": "2023-02-28T19:31:42.194Z"
   },
   {
    "duration": 9,
    "start_time": "2023-02-28T19:32:28.073Z"
   },
   {
    "duration": 10,
    "start_time": "2023-02-28T19:32:33.307Z"
   },
   {
    "duration": 10,
    "start_time": "2023-02-28T19:32:57.773Z"
   },
   {
    "duration": 11,
    "start_time": "2023-02-28T19:33:09.465Z"
   },
   {
    "duration": 6,
    "start_time": "2023-02-28T19:33:48.404Z"
   },
   {
    "duration": 9,
    "start_time": "2023-02-28T19:34:44.416Z"
   },
   {
    "duration": 6,
    "start_time": "2023-02-28T19:35:09.528Z"
   },
   {
    "duration": 12,
    "start_time": "2023-02-28T19:35:16.670Z"
   },
   {
    "duration": 11,
    "start_time": "2023-02-28T19:35:30.174Z"
   },
   {
    "duration": 9,
    "start_time": "2023-02-28T19:35:51.199Z"
   },
   {
    "duration": 14,
    "start_time": "2023-02-28T19:37:06.480Z"
   },
   {
    "duration": 10,
    "start_time": "2023-02-28T19:37:21.369Z"
   },
   {
    "duration": 8,
    "start_time": "2023-02-28T19:37:30.021Z"
   },
   {
    "duration": 10,
    "start_time": "2023-02-28T19:37:46.004Z"
   },
   {
    "duration": 1511,
    "start_time": "2023-03-01T14:50:11.556Z"
   },
   {
    "duration": 3072,
    "start_time": "2023-03-01T14:50:13.069Z"
   },
   {
    "duration": 3,
    "start_time": "2023-03-01T14:50:16.143Z"
   },
   {
    "duration": 480,
    "start_time": "2023-03-01T14:50:16.147Z"
   },
   {
    "duration": 186,
    "start_time": "2023-03-01T14:50:16.630Z"
   },
   {
    "duration": 398,
    "start_time": "2023-03-01T14:50:16.817Z"
   },
   {
    "duration": 2,
    "start_time": "2023-03-01T14:50:17.217Z"
   },
   {
    "duration": 8,
    "start_time": "2023-03-01T14:50:17.221Z"
   },
   {
    "duration": 46,
    "start_time": "2023-03-01T14:50:17.231Z"
   },
   {
    "duration": 1,
    "start_time": "2023-03-01T14:50:17.278Z"
   },
   {
    "duration": 1371,
    "start_time": "2023-03-01T14:50:41.601Z"
   },
   {
    "duration": 725,
    "start_time": "2023-03-01T14:50:42.974Z"
   },
   {
    "duration": 3,
    "start_time": "2023-03-01T14:50:43.701Z"
   },
   {
    "duration": 428,
    "start_time": "2023-03-01T14:50:43.706Z"
   },
   {
    "duration": 188,
    "start_time": "2023-03-01T14:50:44.138Z"
   },
   {
    "duration": 381,
    "start_time": "2023-03-01T14:50:44.328Z"
   },
   {
    "duration": 4,
    "start_time": "2023-03-01T14:50:44.711Z"
   },
   {
    "duration": 10,
    "start_time": "2023-03-01T14:50:44.716Z"
   },
   {
    "duration": 6,
    "start_time": "2023-03-01T14:50:44.728Z"
   },
   {
    "duration": 10,
    "start_time": "2023-03-01T14:50:44.736Z"
   },
   {
    "duration": 10,
    "start_time": "2023-03-01T14:53:04.796Z"
   },
   {
    "duration": 368,
    "start_time": "2023-03-01T14:56:02.718Z"
   },
   {
    "duration": 15,
    "start_time": "2023-03-01T14:56:20.841Z"
   },
   {
    "duration": 10,
    "start_time": "2023-03-01T14:57:33.608Z"
   },
   {
    "duration": 9,
    "start_time": "2023-03-01T16:14:29.822Z"
   },
   {
    "duration": 8,
    "start_time": "2023-03-01T16:14:37.114Z"
   },
   {
    "duration": 13,
    "start_time": "2023-03-01T16:14:47.520Z"
   },
   {
    "duration": 5493,
    "start_time": "2023-03-01T16:16:25.811Z"
   },
   {
    "duration": 14,
    "start_time": "2023-03-01T16:17:46.114Z"
   },
   {
    "duration": 3887,
    "start_time": "2023-03-01T16:17:57.468Z"
   },
   {
    "duration": 1647,
    "start_time": "2023-03-02T16:53:39.519Z"
   },
   {
    "duration": 2020,
    "start_time": "2023-03-02T16:53:41.169Z"
   },
   {
    "duration": 4,
    "start_time": "2023-03-02T16:53:43.191Z"
   },
   {
    "duration": 397,
    "start_time": "2023-03-02T16:53:43.196Z"
   },
   {
    "duration": 190,
    "start_time": "2023-03-02T16:53:43.596Z"
   },
   {
    "duration": 398,
    "start_time": "2023-03-02T16:53:43.788Z"
   },
   {
    "duration": 3,
    "start_time": "2023-03-02T16:53:44.188Z"
   },
   {
    "duration": 44,
    "start_time": "2023-03-02T16:53:44.193Z"
   },
   {
    "duration": 9,
    "start_time": "2023-03-02T16:53:44.239Z"
   },
   {
    "duration": 22,
    "start_time": "2023-03-02T16:53:44.250Z"
   },
   {
    "duration": 19,
    "start_time": "2023-03-02T16:53:44.274Z"
   },
   {
    "duration": 10,
    "start_time": "2023-03-02T16:53:44.295Z"
   },
   {
    "duration": 19,
    "start_time": "2023-03-02T16:53:44.307Z"
   },
   {
    "duration": 143,
    "start_time": "2023-03-02T16:53:44.328Z"
   },
   {
    "duration": 18,
    "start_time": "2023-03-02T16:55:37.130Z"
   },
   {
    "duration": 6,
    "start_time": "2023-03-02T16:56:08.633Z"
   },
   {
    "duration": 17,
    "start_time": "2023-03-02T16:56:20.076Z"
   },
   {
    "duration": 20,
    "start_time": "2023-03-02T16:58:25.301Z"
   },
   {
    "duration": 4,
    "start_time": "2023-03-02T16:58:40.496Z"
   },
   {
    "duration": 9,
    "start_time": "2023-03-02T16:58:49.258Z"
   },
   {
    "duration": 16,
    "start_time": "2023-03-02T16:58:51.962Z"
   },
   {
    "duration": 10,
    "start_time": "2023-03-02T17:00:37.225Z"
   },
   {
    "duration": 8,
    "start_time": "2023-03-02T17:03:26.630Z"
   },
   {
    "duration": 8,
    "start_time": "2023-03-02T17:03:45.938Z"
   },
   {
    "duration": 9,
    "start_time": "2023-03-02T17:05:29.989Z"
   },
   {
    "duration": 1458,
    "start_time": "2023-03-02T17:05:49.960Z"
   },
   {
    "duration": 1137,
    "start_time": "2023-03-02T17:05:51.420Z"
   },
   {
    "duration": 5,
    "start_time": "2023-03-02T17:05:52.559Z"
   },
   {
    "duration": 417,
    "start_time": "2023-03-02T17:05:52.567Z"
   },
   {
    "duration": 204,
    "start_time": "2023-03-02T17:05:52.987Z"
   },
   {
    "duration": 396,
    "start_time": "2023-03-02T17:05:53.193Z"
   },
   {
    "duration": 4,
    "start_time": "2023-03-02T17:05:53.590Z"
   },
   {
    "duration": 7,
    "start_time": "2023-03-02T17:05:53.596Z"
   },
   {
    "duration": 5,
    "start_time": "2023-03-02T17:05:53.623Z"
   },
   {
    "duration": 15,
    "start_time": "2023-03-02T17:05:53.632Z"
   },
   {
    "duration": 15,
    "start_time": "2023-03-02T17:05:53.649Z"
   },
   {
    "duration": 8,
    "start_time": "2023-03-02T17:05:53.666Z"
   },
   {
    "duration": 17,
    "start_time": "2023-03-02T17:05:53.676Z"
   },
   {
    "duration": 30,
    "start_time": "2023-03-02T17:05:53.695Z"
   },
   {
    "duration": 6,
    "start_time": "2023-03-02T17:05:53.727Z"
   },
   {
    "duration": 21,
    "start_time": "2023-03-02T17:05:53.735Z"
   },
   {
    "duration": 148,
    "start_time": "2023-03-02T17:05:53.757Z"
   },
   {
    "duration": 0,
    "start_time": "2023-03-02T17:05:53.906Z"
   },
   {
    "duration": 9,
    "start_time": "2023-03-02T17:06:17.733Z"
   },
   {
    "duration": 1513,
    "start_time": "2023-03-02T17:06:25.426Z"
   },
   {
    "duration": 763,
    "start_time": "2023-03-02T17:06:26.941Z"
   },
   {
    "duration": 4,
    "start_time": "2023-03-02T17:06:27.706Z"
   },
   {
    "duration": 420,
    "start_time": "2023-03-02T17:06:27.711Z"
   },
   {
    "duration": 192,
    "start_time": "2023-03-02T17:06:28.133Z"
   },
   {
    "duration": 381,
    "start_time": "2023-03-02T17:06:28.327Z"
   },
   {
    "duration": 13,
    "start_time": "2023-03-02T17:06:28.710Z"
   },
   {
    "duration": 6,
    "start_time": "2023-03-02T17:06:28.725Z"
   },
   {
    "duration": 5,
    "start_time": "2023-03-02T17:06:28.732Z"
   },
   {
    "duration": 8,
    "start_time": "2023-03-02T17:06:28.738Z"
   },
   {
    "duration": 15,
    "start_time": "2023-03-02T17:06:28.748Z"
   },
   {
    "duration": 8,
    "start_time": "2023-03-02T17:06:28.766Z"
   },
   {
    "duration": 8,
    "start_time": "2023-03-02T17:06:28.776Z"
   },
   {
    "duration": 39,
    "start_time": "2023-03-02T17:06:28.786Z"
   },
   {
    "duration": 5,
    "start_time": "2023-03-02T17:06:28.827Z"
   },
   {
    "duration": 11,
    "start_time": "2023-03-02T17:06:28.834Z"
   },
   {
    "duration": 141,
    "start_time": "2023-03-02T17:06:28.847Z"
   },
   {
    "duration": 0,
    "start_time": "2023-03-02T17:06:28.991Z"
   },
   {
    "duration": 18,
    "start_time": "2023-03-02T17:11:19.491Z"
   },
   {
    "duration": 17,
    "start_time": "2023-03-02T17:11:44.119Z"
   },
   {
    "duration": 10,
    "start_time": "2023-03-02T17:11:48.202Z"
   },
   {
    "duration": 8,
    "start_time": "2023-03-02T17:14:12.480Z"
   },
   {
    "duration": 17,
    "start_time": "2023-03-02T17:15:29.332Z"
   },
   {
    "duration": 8,
    "start_time": "2023-03-02T17:21:56.340Z"
   },
   {
    "duration": 11,
    "start_time": "2023-03-02T17:22:03.674Z"
   },
   {
    "duration": 5124,
    "start_time": "2023-03-02T17:22:24.736Z"
   },
   {
    "duration": 230,
    "start_time": "2023-03-02T17:24:15.833Z"
   },
   {
    "duration": 4,
    "start_time": "2023-03-02T17:30:17.085Z"
   },
   {
    "duration": 17,
    "start_time": "2023-03-02T17:30:29.966Z"
   },
   {
    "duration": 9,
    "start_time": "2023-03-02T17:32:10.627Z"
   },
   {
    "duration": 19,
    "start_time": "2023-03-02T17:33:59.246Z"
   },
   {
    "duration": 15,
    "start_time": "2023-03-02T17:36:33.414Z"
   },
   {
    "duration": 10,
    "start_time": "2023-03-02T17:36:36.244Z"
   },
   {
    "duration": 1505,
    "start_time": "2023-03-02T17:37:05.831Z"
   },
   {
    "duration": 745,
    "start_time": "2023-03-02T17:37:07.338Z"
   },
   {
    "duration": 4,
    "start_time": "2023-03-02T17:37:08.085Z"
   },
   {
    "duration": 434,
    "start_time": "2023-03-02T17:37:08.090Z"
   },
   {
    "duration": 193,
    "start_time": "2023-03-02T17:37:08.526Z"
   },
   {
    "duration": 425,
    "start_time": "2023-03-02T17:37:08.724Z"
   },
   {
    "duration": 3,
    "start_time": "2023-03-02T17:37:09.150Z"
   },
   {
    "duration": 10,
    "start_time": "2023-03-02T17:37:09.155Z"
   },
   {
    "duration": 4,
    "start_time": "2023-03-02T17:37:09.167Z"
   },
   {
    "duration": 15,
    "start_time": "2023-03-02T17:37:09.173Z"
   },
   {
    "duration": 44,
    "start_time": "2023-03-02T17:37:09.190Z"
   },
   {
    "duration": 18,
    "start_time": "2023-03-02T17:37:09.237Z"
   },
   {
    "duration": 125,
    "start_time": "2023-03-02T17:37:09.257Z"
   },
   {
    "duration": 0,
    "start_time": "2023-03-02T17:37:09.385Z"
   },
   {
    "duration": 0,
    "start_time": "2023-03-02T17:37:09.386Z"
   },
   {
    "duration": 0,
    "start_time": "2023-03-02T17:37:09.388Z"
   },
   {
    "duration": 0,
    "start_time": "2023-03-02T17:37:09.389Z"
   },
   {
    "duration": 0,
    "start_time": "2023-03-02T17:37:09.391Z"
   },
   {
    "duration": 0,
    "start_time": "2023-03-02T17:37:09.393Z"
   },
   {
    "duration": 0,
    "start_time": "2023-03-02T17:37:09.394Z"
   },
   {
    "duration": 13,
    "start_time": "2023-03-02T17:37:44.321Z"
   },
   {
    "duration": 1506,
    "start_time": "2023-03-02T17:37:59.438Z"
   },
   {
    "duration": 771,
    "start_time": "2023-03-02T17:38:00.946Z"
   },
   {
    "duration": 4,
    "start_time": "2023-03-02T17:38:01.719Z"
   },
   {
    "duration": 426,
    "start_time": "2023-03-02T17:38:01.725Z"
   },
   {
    "duration": 191,
    "start_time": "2023-03-02T17:38:02.154Z"
   },
   {
    "duration": 398,
    "start_time": "2023-03-02T17:38:02.346Z"
   },
   {
    "duration": 3,
    "start_time": "2023-03-02T17:38:02.746Z"
   },
   {
    "duration": 42,
    "start_time": "2023-03-02T17:38:02.750Z"
   },
   {
    "duration": 32,
    "start_time": "2023-03-02T17:38:02.794Z"
   },
   {
    "duration": 35,
    "start_time": "2023-03-02T17:38:02.828Z"
   },
   {
    "duration": 41,
    "start_time": "2023-03-02T17:38:02.864Z"
   },
   {
    "duration": 20,
    "start_time": "2023-03-02T17:38:02.906Z"
   },
   {
    "duration": 16,
    "start_time": "2023-03-02T17:38:02.927Z"
   },
   {
    "duration": 7,
    "start_time": "2023-03-02T17:38:02.946Z"
   },
   {
    "duration": 8,
    "start_time": "2023-03-02T17:38:02.955Z"
   },
   {
    "duration": 32,
    "start_time": "2023-03-02T17:38:02.965Z"
   },
   {
    "duration": 4765,
    "start_time": "2023-03-02T17:38:02.999Z"
   },
   {
    "duration": 232,
    "start_time": "2023-03-02T17:38:07.766Z"
   },
   {
    "duration": 4,
    "start_time": "2023-03-02T17:38:08.000Z"
   },
   {
    "duration": 124,
    "start_time": "2023-03-02T17:38:08.006Z"
   },
   {
    "duration": 31,
    "start_time": "2023-03-02T17:38:57.444Z"
   },
   {
    "duration": 20,
    "start_time": "2023-03-02T17:40:34.013Z"
   },
   {
    "duration": 16,
    "start_time": "2023-03-02T17:40:59.540Z"
   },
   {
    "duration": 16,
    "start_time": "2023-03-02T17:42:23.086Z"
   },
   {
    "duration": 23,
    "start_time": "2023-03-02T17:43:49.370Z"
   },
   {
    "duration": 20,
    "start_time": "2023-03-02T17:44:11.521Z"
   },
   {
    "duration": 18,
    "start_time": "2023-03-02T17:44:16.310Z"
   },
   {
    "duration": 19,
    "start_time": "2023-03-02T17:44:37.025Z"
   },
   {
    "duration": 1502,
    "start_time": "2023-03-02T17:44:44.828Z"
   },
   {
    "duration": 741,
    "start_time": "2023-03-02T17:44:46.333Z"
   },
   {
    "duration": 4,
    "start_time": "2023-03-02T17:44:47.076Z"
   },
   {
    "duration": 430,
    "start_time": "2023-03-02T17:44:47.082Z"
   },
   {
    "duration": 191,
    "start_time": "2023-03-02T17:44:47.523Z"
   },
   {
    "duration": 414,
    "start_time": "2023-03-02T17:44:47.716Z"
   },
   {
    "duration": 3,
    "start_time": "2023-03-02T17:44:48.132Z"
   },
   {
    "duration": 8,
    "start_time": "2023-03-02T17:44:48.138Z"
   },
   {
    "duration": 5,
    "start_time": "2023-03-02T17:44:48.148Z"
   },
   {
    "duration": 8,
    "start_time": "2023-03-02T17:44:48.155Z"
   },
   {
    "duration": 19,
    "start_time": "2023-03-02T17:44:48.165Z"
   },
   {
    "duration": 40,
    "start_time": "2023-03-02T17:44:48.185Z"
   },
   {
    "duration": 12,
    "start_time": "2023-03-02T17:44:48.228Z"
   },
   {
    "duration": 6,
    "start_time": "2023-03-02T17:44:48.243Z"
   },
   {
    "duration": 4,
    "start_time": "2023-03-02T17:44:48.251Z"
   },
   {
    "duration": 6,
    "start_time": "2023-03-02T17:44:48.257Z"
   },
   {
    "duration": 4943,
    "start_time": "2023-03-02T17:44:48.265Z"
   },
   {
    "duration": 237,
    "start_time": "2023-03-02T17:44:53.210Z"
   },
   {
    "duration": 5,
    "start_time": "2023-03-02T17:44:53.448Z"
   },
   {
    "duration": 122,
    "start_time": "2023-03-02T17:45:12.384Z"
   },
   {
    "duration": 18,
    "start_time": "2023-03-02T17:45:29.577Z"
   },
   {
    "duration": 1466,
    "start_time": "2023-03-02T17:45:45.249Z"
   },
   {
    "duration": 755,
    "start_time": "2023-03-02T17:45:46.717Z"
   },
   {
    "duration": 4,
    "start_time": "2023-03-02T17:45:47.474Z"
   },
   {
    "duration": 424,
    "start_time": "2023-03-02T17:45:47.479Z"
   },
   {
    "duration": 186,
    "start_time": "2023-03-02T17:45:47.904Z"
   },
   {
    "duration": 396,
    "start_time": "2023-03-02T17:45:48.092Z"
   },
   {
    "duration": 3,
    "start_time": "2023-03-02T17:45:48.489Z"
   },
   {
    "duration": 9,
    "start_time": "2023-03-02T17:45:48.494Z"
   },
   {
    "duration": 21,
    "start_time": "2023-03-02T17:45:48.504Z"
   },
   {
    "duration": 8,
    "start_time": "2023-03-02T17:45:48.527Z"
   },
   {
    "duration": 39,
    "start_time": "2023-03-02T17:45:48.537Z"
   },
   {
    "duration": 7,
    "start_time": "2023-03-02T17:45:48.578Z"
   },
   {
    "duration": 43,
    "start_time": "2023-03-02T17:45:48.586Z"
   },
   {
    "duration": 5,
    "start_time": "2023-03-02T17:45:48.631Z"
   },
   {
    "duration": 4,
    "start_time": "2023-03-02T17:45:48.638Z"
   },
   {
    "duration": 9,
    "start_time": "2023-03-02T17:45:48.643Z"
   },
   {
    "duration": 4939,
    "start_time": "2023-03-02T17:45:48.654Z"
   },
   {
    "duration": 217,
    "start_time": "2023-03-02T17:45:53.595Z"
   },
   {
    "duration": 4,
    "start_time": "2023-03-02T17:45:53.824Z"
   },
   {
    "duration": 125,
    "start_time": "2023-03-02T17:57:48.436Z"
   },
   {
    "duration": 1433,
    "start_time": "2023-03-02T17:57:55.379Z"
   },
   {
    "duration": 744,
    "start_time": "2023-03-02T17:57:56.815Z"
   },
   {
    "duration": 4,
    "start_time": "2023-03-02T17:57:57.561Z"
   },
   {
    "duration": 418,
    "start_time": "2023-03-02T17:57:57.566Z"
   },
   {
    "duration": 185,
    "start_time": "2023-03-02T17:57:57.986Z"
   },
   {
    "duration": 421,
    "start_time": "2023-03-02T17:57:58.173Z"
   },
   {
    "duration": 3,
    "start_time": "2023-03-02T17:57:58.597Z"
   },
   {
    "duration": 25,
    "start_time": "2023-03-02T17:57:58.602Z"
   },
   {
    "duration": 7,
    "start_time": "2023-03-02T17:57:58.630Z"
   },
   {
    "duration": 11,
    "start_time": "2023-03-02T17:57:58.639Z"
   },
   {
    "duration": 20,
    "start_time": "2023-03-02T17:57:58.652Z"
   },
   {
    "duration": 6,
    "start_time": "2023-03-02T17:57:58.674Z"
   },
   {
    "duration": 47,
    "start_time": "2023-03-02T17:57:58.682Z"
   },
   {
    "duration": 8,
    "start_time": "2023-03-02T17:57:58.732Z"
   },
   {
    "duration": 14,
    "start_time": "2023-03-02T17:57:58.742Z"
   },
   {
    "duration": 23,
    "start_time": "2023-03-02T17:57:58.758Z"
   },
   {
    "duration": 4813,
    "start_time": "2023-03-02T17:57:58.783Z"
   },
   {
    "duration": 226,
    "start_time": "2023-03-02T17:58:03.598Z"
   },
   {
    "duration": 4,
    "start_time": "2023-03-02T17:58:03.826Z"
   },
   {
    "duration": 1433,
    "start_time": "2023-03-02T18:07:05.379Z"
   },
   {
    "duration": 754,
    "start_time": "2023-03-02T18:07:06.814Z"
   },
   {
    "duration": 3,
    "start_time": "2023-03-02T18:07:07.570Z"
   },
   {
    "duration": 428,
    "start_time": "2023-03-02T18:07:07.575Z"
   },
   {
    "duration": 187,
    "start_time": "2023-03-02T18:07:08.005Z"
   },
   {
    "duration": 406,
    "start_time": "2023-03-02T18:07:08.193Z"
   },
   {
    "duration": 3,
    "start_time": "2023-03-02T18:07:08.601Z"
   },
   {
    "duration": 22,
    "start_time": "2023-03-02T18:07:08.606Z"
   },
   {
    "duration": 5,
    "start_time": "2023-03-02T18:07:08.629Z"
   },
   {
    "duration": 11,
    "start_time": "2023-03-02T18:07:08.635Z"
   },
   {
    "duration": 26,
    "start_time": "2023-03-02T18:07:08.648Z"
   },
   {
    "duration": 134,
    "start_time": "2023-03-02T18:07:08.676Z"
   },
   {
    "duration": 0,
    "start_time": "2023-03-02T18:07:08.812Z"
   },
   {
    "duration": 0,
    "start_time": "2023-03-02T18:07:08.813Z"
   },
   {
    "duration": 0,
    "start_time": "2023-03-02T18:07:08.814Z"
   },
   {
    "duration": 0,
    "start_time": "2023-03-02T18:07:08.824Z"
   },
   {
    "duration": 0,
    "start_time": "2023-03-02T18:07:08.825Z"
   },
   {
    "duration": 0,
    "start_time": "2023-03-02T18:07:08.826Z"
   },
   {
    "duration": 0,
    "start_time": "2023-03-02T18:07:08.827Z"
   },
   {
    "duration": 35,
    "start_time": "2023-03-02T18:07:34.187Z"
   },
   {
    "duration": 16,
    "start_time": "2023-03-02T18:07:41.630Z"
   },
   {
    "duration": 10,
    "start_time": "2023-03-02T18:08:07.466Z"
   },
   {
    "duration": 10,
    "start_time": "2023-03-02T18:08:24.350Z"
   },
   {
    "duration": 11,
    "start_time": "2023-03-02T18:10:16.470Z"
   },
   {
    "duration": 15,
    "start_time": "2023-03-02T18:11:33.814Z"
   },
   {
    "duration": 9,
    "start_time": "2023-03-02T18:11:42.408Z"
   },
   {
    "duration": 9,
    "start_time": "2023-03-02T18:11:56.645Z"
   },
   {
    "duration": 10,
    "start_time": "2023-03-02T18:12:32.187Z"
   },
   {
    "duration": 10,
    "start_time": "2023-03-02T18:13:00.092Z"
   },
   {
    "duration": 10,
    "start_time": "2023-03-02T18:13:54.480Z"
   },
   {
    "duration": 11,
    "start_time": "2023-03-02T18:15:31.176Z"
   },
   {
    "duration": 11,
    "start_time": "2023-03-02T18:16:02.134Z"
   },
   {
    "duration": 17,
    "start_time": "2023-03-02T18:16:40.926Z"
   },
   {
    "duration": 12,
    "start_time": "2023-03-02T18:17:04.122Z"
   },
   {
    "duration": 1465,
    "start_time": "2023-03-02T18:18:13.259Z"
   },
   {
    "duration": 756,
    "start_time": "2023-03-02T18:18:14.726Z"
   },
   {
    "duration": 3,
    "start_time": "2023-03-02T18:18:15.484Z"
   },
   {
    "duration": 436,
    "start_time": "2023-03-02T18:18:15.489Z"
   },
   {
    "duration": 205,
    "start_time": "2023-03-02T18:18:15.927Z"
   },
   {
    "duration": 417,
    "start_time": "2023-03-02T18:18:16.134Z"
   },
   {
    "duration": 4,
    "start_time": "2023-03-02T18:18:16.553Z"
   },
   {
    "duration": 15,
    "start_time": "2023-03-02T18:18:16.559Z"
   },
   {
    "duration": 5,
    "start_time": "2023-03-02T18:18:16.576Z"
   },
   {
    "duration": 11,
    "start_time": "2023-03-02T18:18:16.582Z"
   },
   {
    "duration": 51,
    "start_time": "2023-03-02T18:18:16.595Z"
   },
   {
    "duration": 14,
    "start_time": "2023-03-02T18:18:16.648Z"
   },
   {
    "duration": 11,
    "start_time": "2023-03-02T18:18:16.664Z"
   },
   {
    "duration": 5,
    "start_time": "2023-03-02T18:18:16.679Z"
   },
   {
    "duration": 3,
    "start_time": "2023-03-02T18:18:16.686Z"
   },
   {
    "duration": 14,
    "start_time": "2023-03-02T18:18:16.724Z"
   },
   {
    "duration": 5030,
    "start_time": "2023-03-02T18:18:16.740Z"
   },
   {
    "duration": 240,
    "start_time": "2023-03-02T18:18:21.771Z"
   },
   {
    "duration": 5,
    "start_time": "2023-03-02T18:18:22.012Z"
   },
   {
    "duration": 72,
    "start_time": "2023-03-02T18:21:18.886Z"
   },
   {
    "duration": 1653,
    "start_time": "2023-03-02T18:21:32.141Z"
   },
   {
    "duration": 1439,
    "start_time": "2023-03-02T18:22:12.473Z"
   },
   {
    "duration": 745,
    "start_time": "2023-03-02T18:22:13.914Z"
   },
   {
    "duration": 4,
    "start_time": "2023-03-02T18:22:14.661Z"
   },
   {
    "duration": 414,
    "start_time": "2023-03-02T18:22:14.668Z"
   },
   {
    "duration": 199,
    "start_time": "2023-03-02T18:22:15.084Z"
   },
   {
    "duration": 404,
    "start_time": "2023-03-02T18:22:15.285Z"
   },
   {
    "duration": 4,
    "start_time": "2023-03-02T18:22:15.690Z"
   },
   {
    "duration": 26,
    "start_time": "2023-03-02T18:22:15.695Z"
   },
   {
    "duration": 12,
    "start_time": "2023-03-02T18:22:15.722Z"
   },
   {
    "duration": 9,
    "start_time": "2023-03-02T18:22:15.736Z"
   },
   {
    "duration": 23,
    "start_time": "2023-03-02T18:22:15.747Z"
   },
   {
    "duration": 12,
    "start_time": "2023-03-02T18:22:15.772Z"
   },
   {
    "duration": 11,
    "start_time": "2023-03-02T18:22:15.785Z"
   },
   {
    "duration": 31,
    "start_time": "2023-03-02T18:22:15.798Z"
   },
   {
    "duration": 4,
    "start_time": "2023-03-02T18:22:15.832Z"
   },
   {
    "duration": 22,
    "start_time": "2023-03-02T18:22:15.838Z"
   },
   {
    "duration": 131,
    "start_time": "2023-03-02T18:22:15.862Z"
   },
   {
    "duration": 0,
    "start_time": "2023-03-02T18:22:15.995Z"
   },
   {
    "duration": 0,
    "start_time": "2023-03-02T18:22:15.996Z"
   },
   {
    "duration": 0,
    "start_time": "2023-03-02T18:22:15.997Z"
   },
   {
    "duration": 1187,
    "start_time": "2023-03-02T18:23:33.268Z"
   },
   {
    "duration": 257,
    "start_time": "2023-03-02T18:24:10.813Z"
   },
   {
    "duration": 10,
    "start_time": "2023-03-02T19:14:21.164Z"
   },
   {
    "duration": 8,
    "start_time": "2023-03-02T19:14:37.851Z"
   },
   {
    "duration": 497,
    "start_time": "2023-03-02T19:14:43.143Z"
   },
   {
    "duration": 434,
    "start_time": "2023-03-02T19:15:59.543Z"
   },
   {
    "duration": 681,
    "start_time": "2023-03-02T19:16:33.816Z"
   },
   {
    "duration": 431,
    "start_time": "2023-03-02T19:17:54.964Z"
   },
   {
    "duration": 400,
    "start_time": "2023-03-02T19:18:06.935Z"
   },
   {
    "duration": 550,
    "start_time": "2023-03-02T19:18:34.897Z"
   },
   {
    "duration": 453,
    "start_time": "2023-03-02T19:19:38.519Z"
   },
   {
    "duration": 480,
    "start_time": "2023-03-02T19:22:40.570Z"
   },
   {
    "duration": 595,
    "start_time": "2023-03-02T19:22:50.675Z"
   },
   {
    "duration": 413,
    "start_time": "2023-03-02T19:23:02.410Z"
   },
   {
    "duration": 447,
    "start_time": "2023-03-02T19:23:11.272Z"
   },
   {
    "duration": 597,
    "start_time": "2023-03-02T19:23:20.602Z"
   },
   {
    "duration": 315,
    "start_time": "2023-03-02T19:24:22.917Z"
   },
   {
    "duration": 807,
    "start_time": "2023-03-02T19:24:33.587Z"
   },
   {
    "duration": 933,
    "start_time": "2023-03-02T19:25:00.150Z"
   },
   {
    "duration": 1957,
    "start_time": "2023-03-02T19:25:57.813Z"
   },
   {
    "duration": 1466,
    "start_time": "2023-03-02T19:26:11.433Z"
   },
   {
    "duration": 1186,
    "start_time": "2023-03-02T19:26:29.761Z"
   },
   {
    "duration": 1198,
    "start_time": "2023-03-02T19:27:04.267Z"
   },
   {
    "duration": 92,
    "start_time": "2023-03-02T19:28:02.811Z"
   },
   {
    "duration": 14,
    "start_time": "2023-03-02T19:28:16.701Z"
   },
   {
    "duration": 1150,
    "start_time": "2023-03-02T19:28:28.532Z"
   },
   {
    "duration": 1269,
    "start_time": "2023-03-02T19:29:11.345Z"
   },
   {
    "duration": 1527,
    "start_time": "2023-03-02T19:29:33.902Z"
   },
   {
    "duration": 1241,
    "start_time": "2023-03-02T19:29:54.545Z"
   },
   {
    "duration": 1206,
    "start_time": "2023-03-02T19:30:03.971Z"
   },
   {
    "duration": 1294,
    "start_time": "2023-03-02T19:30:25.584Z"
   },
   {
    "duration": 1259,
    "start_time": "2023-03-02T19:30:39.355Z"
   },
   {
    "duration": 1379,
    "start_time": "2023-03-02T19:30:52.715Z"
   },
   {
    "duration": 1273,
    "start_time": "2023-03-02T19:32:39.924Z"
   },
   {
    "duration": 1375,
    "start_time": "2023-03-02T19:32:44.130Z"
   },
   {
    "duration": 419,
    "start_time": "2023-03-02T19:38:54.424Z"
   },
   {
    "duration": 644,
    "start_time": "2023-03-02T19:39:29.988Z"
   },
   {
    "duration": 859,
    "start_time": "2023-03-02T19:46:06.597Z"
   },
   {
    "duration": 17,
    "start_time": "2023-03-02T19:46:58.620Z"
   },
   {
    "duration": 5,
    "start_time": "2023-03-02T19:48:36.321Z"
   },
   {
    "duration": 167,
    "start_time": "2023-03-02T19:48:42.730Z"
   },
   {
    "duration": 1110,
    "start_time": "2023-03-02T19:52:29.807Z"
   },
   {
    "duration": 914,
    "start_time": "2023-03-02T19:52:43.392Z"
   },
   {
    "duration": 19,
    "start_time": "2023-03-02T19:55:47.206Z"
   },
   {
    "duration": 24,
    "start_time": "2023-03-02T19:57:20.912Z"
   },
   {
    "duration": 19,
    "start_time": "2023-03-02T19:57:35.200Z"
   },
   {
    "duration": 376,
    "start_time": "2023-03-02T19:57:59.984Z"
   },
   {
    "duration": 641,
    "start_time": "2023-03-02T19:58:18.291Z"
   },
   {
    "duration": 321,
    "start_time": "2023-03-02T19:59:03.126Z"
   },
   {
    "duration": 374,
    "start_time": "2023-03-02T19:59:14.922Z"
   },
   {
    "duration": 494,
    "start_time": "2023-03-02T19:59:48.693Z"
   },
   {
    "duration": 1455,
    "start_time": "2023-03-02T20:00:04.183Z"
   },
   {
    "duration": 776,
    "start_time": "2023-03-02T20:00:05.640Z"
   },
   {
    "duration": 7,
    "start_time": "2023-03-02T20:00:06.418Z"
   },
   {
    "duration": 421,
    "start_time": "2023-03-02T20:00:06.427Z"
   },
   {
    "duration": 190,
    "start_time": "2023-03-02T20:00:06.849Z"
   },
   {
    "duration": 412,
    "start_time": "2023-03-02T20:00:07.041Z"
   },
   {
    "duration": 3,
    "start_time": "2023-03-02T20:00:07.455Z"
   },
   {
    "duration": 12,
    "start_time": "2023-03-02T20:00:07.460Z"
   },
   {
    "duration": 4,
    "start_time": "2023-03-02T20:00:07.474Z"
   },
   {
    "duration": 8,
    "start_time": "2023-03-02T20:00:07.481Z"
   },
   {
    "duration": 41,
    "start_time": "2023-03-02T20:00:07.491Z"
   },
   {
    "duration": 134,
    "start_time": "2023-03-02T20:00:07.534Z"
   },
   {
    "duration": 0,
    "start_time": "2023-03-02T20:00:07.669Z"
   },
   {
    "duration": 0,
    "start_time": "2023-03-02T20:00:07.671Z"
   },
   {
    "duration": 0,
    "start_time": "2023-03-02T20:00:07.672Z"
   },
   {
    "duration": 0,
    "start_time": "2023-03-02T20:00:07.674Z"
   },
   {
    "duration": 0,
    "start_time": "2023-03-02T20:00:07.675Z"
   },
   {
    "duration": 0,
    "start_time": "2023-03-02T20:00:07.677Z"
   },
   {
    "duration": 0,
    "start_time": "2023-03-02T20:00:07.680Z"
   },
   {
    "duration": 0,
    "start_time": "2023-03-02T20:00:07.682Z"
   },
   {
    "duration": 0,
    "start_time": "2023-03-02T20:00:07.683Z"
   },
   {
    "duration": 0,
    "start_time": "2023-03-02T20:00:07.685Z"
   },
   {
    "duration": 0,
    "start_time": "2023-03-02T20:00:07.687Z"
   },
   {
    "duration": 0,
    "start_time": "2023-03-02T20:00:07.724Z"
   },
   {
    "duration": 1519,
    "start_time": "2023-03-02T20:00:44.350Z"
   },
   {
    "duration": 768,
    "start_time": "2023-03-02T20:00:45.872Z"
   },
   {
    "duration": 4,
    "start_time": "2023-03-02T20:00:46.645Z"
   },
   {
    "duration": 433,
    "start_time": "2023-03-02T20:00:46.651Z"
   },
   {
    "duration": 198,
    "start_time": "2023-03-02T20:00:47.086Z"
   },
   {
    "duration": 416,
    "start_time": "2023-03-02T20:00:47.286Z"
   },
   {
    "duration": 3,
    "start_time": "2023-03-02T20:00:47.704Z"
   },
   {
    "duration": 19,
    "start_time": "2023-03-02T20:00:47.708Z"
   },
   {
    "duration": 14,
    "start_time": "2023-03-02T20:00:47.729Z"
   },
   {
    "duration": 19,
    "start_time": "2023-03-02T20:00:47.745Z"
   },
   {
    "duration": 33,
    "start_time": "2023-03-02T20:00:47.765Z"
   },
   {
    "duration": 123,
    "start_time": "2023-03-02T20:00:47.800Z"
   },
   {
    "duration": 0,
    "start_time": "2023-03-02T20:00:47.925Z"
   },
   {
    "duration": 0,
    "start_time": "2023-03-02T20:00:47.927Z"
   },
   {
    "duration": 0,
    "start_time": "2023-03-02T20:00:47.928Z"
   },
   {
    "duration": 0,
    "start_time": "2023-03-02T20:00:47.929Z"
   },
   {
    "duration": 0,
    "start_time": "2023-03-02T20:00:47.930Z"
   },
   {
    "duration": 0,
    "start_time": "2023-03-02T20:00:47.932Z"
   },
   {
    "duration": 0,
    "start_time": "2023-03-02T20:00:47.933Z"
   },
   {
    "duration": 0,
    "start_time": "2023-03-02T20:00:47.934Z"
   },
   {
    "duration": 0,
    "start_time": "2023-03-02T20:00:47.935Z"
   },
   {
    "duration": 0,
    "start_time": "2023-03-02T20:00:47.936Z"
   },
   {
    "duration": 0,
    "start_time": "2023-03-02T20:00:47.937Z"
   },
   {
    "duration": 1,
    "start_time": "2023-03-02T20:00:47.938Z"
   },
   {
    "duration": 8,
    "start_time": "2023-03-02T20:01:22.866Z"
   },
   {
    "duration": 6,
    "start_time": "2023-03-02T20:01:23.681Z"
   },
   {
    "duration": 15,
    "start_time": "2023-03-02T20:01:24.353Z"
   },
   {
    "duration": 1550,
    "start_time": "2023-03-02T20:02:43.996Z"
   },
   {
    "duration": 750,
    "start_time": "2023-03-02T20:02:45.548Z"
   },
   {
    "duration": 7,
    "start_time": "2023-03-02T20:02:46.302Z"
   },
   {
    "duration": 414,
    "start_time": "2023-03-02T20:02:46.311Z"
   },
   {
    "duration": 201,
    "start_time": "2023-03-02T20:02:46.728Z"
   },
   {
    "duration": 403,
    "start_time": "2023-03-02T20:02:46.931Z"
   },
   {
    "duration": 4,
    "start_time": "2023-03-02T20:02:47.335Z"
   },
   {
    "duration": 13,
    "start_time": "2023-03-02T20:02:47.340Z"
   },
   {
    "duration": 5,
    "start_time": "2023-03-02T20:02:47.354Z"
   },
   {
    "duration": 8,
    "start_time": "2023-03-02T20:02:47.360Z"
   },
   {
    "duration": 14,
    "start_time": "2023-03-02T20:02:47.370Z"
   },
   {
    "duration": 166,
    "start_time": "2023-03-02T20:02:47.386Z"
   },
   {
    "duration": 0,
    "start_time": "2023-03-02T20:02:47.554Z"
   },
   {
    "duration": 0,
    "start_time": "2023-03-02T20:02:47.555Z"
   },
   {
    "duration": 0,
    "start_time": "2023-03-02T20:02:47.556Z"
   },
   {
    "duration": 0,
    "start_time": "2023-03-02T20:02:47.557Z"
   },
   {
    "duration": 0,
    "start_time": "2023-03-02T20:02:47.558Z"
   },
   {
    "duration": 0,
    "start_time": "2023-03-02T20:02:47.559Z"
   },
   {
    "duration": 0,
    "start_time": "2023-03-02T20:02:47.560Z"
   },
   {
    "duration": 0,
    "start_time": "2023-03-02T20:02:47.561Z"
   },
   {
    "duration": 0,
    "start_time": "2023-03-02T20:02:47.562Z"
   },
   {
    "duration": 0,
    "start_time": "2023-03-02T20:02:47.563Z"
   },
   {
    "duration": 0,
    "start_time": "2023-03-02T20:02:47.564Z"
   },
   {
    "duration": 0,
    "start_time": "2023-03-02T20:02:47.566Z"
   },
   {
    "duration": 13,
    "start_time": "2023-03-02T20:03:15.006Z"
   },
   {
    "duration": 12,
    "start_time": "2023-03-02T20:03:37.043Z"
   },
   {
    "duration": 18,
    "start_time": "2023-03-02T20:04:01.380Z"
   },
   {
    "duration": 20,
    "start_time": "2023-03-02T20:04:27.037Z"
   },
   {
    "duration": 11,
    "start_time": "2023-03-02T20:04:33.888Z"
   },
   {
    "duration": 10,
    "start_time": "2023-03-02T20:05:25.296Z"
   },
   {
    "duration": 1215,
    "start_time": "2023-03-02T20:05:56.713Z"
   },
   {
    "duration": 1548,
    "start_time": "2023-03-02T20:06:17.102Z"
   },
   {
    "duration": 853,
    "start_time": "2023-03-02T20:06:18.652Z"
   },
   {
    "duration": 4,
    "start_time": "2023-03-02T20:06:19.507Z"
   },
   {
    "duration": 439,
    "start_time": "2023-03-02T20:06:19.513Z"
   },
   {
    "duration": 211,
    "start_time": "2023-03-02T20:06:19.954Z"
   },
   {
    "duration": 465,
    "start_time": "2023-03-02T20:06:20.168Z"
   },
   {
    "duration": 3,
    "start_time": "2023-03-02T20:06:20.635Z"
   },
   {
    "duration": 33,
    "start_time": "2023-03-02T20:06:20.640Z"
   },
   {
    "duration": 10,
    "start_time": "2023-03-02T20:06:20.675Z"
   },
   {
    "duration": 15,
    "start_time": "2023-03-02T20:06:20.688Z"
   },
   {
    "duration": 41,
    "start_time": "2023-03-02T20:06:20.705Z"
   },
   {
    "duration": 1258,
    "start_time": "2023-03-02T20:06:20.748Z"
   },
   {
    "duration": 0,
    "start_time": "2023-03-02T20:06:22.010Z"
   },
   {
    "duration": 0,
    "start_time": "2023-03-02T20:06:22.012Z"
   },
   {
    "duration": 0,
    "start_time": "2023-03-02T20:06:22.014Z"
   },
   {
    "duration": 0,
    "start_time": "2023-03-02T20:06:22.016Z"
   },
   {
    "duration": 0,
    "start_time": "2023-03-02T20:06:22.018Z"
   },
   {
    "duration": 0,
    "start_time": "2023-03-02T20:06:22.020Z"
   },
   {
    "duration": 0,
    "start_time": "2023-03-02T20:06:22.022Z"
   },
   {
    "duration": 0,
    "start_time": "2023-03-02T20:06:22.023Z"
   },
   {
    "duration": 0,
    "start_time": "2023-03-02T20:06:22.024Z"
   },
   {
    "duration": 0,
    "start_time": "2023-03-02T20:06:22.026Z"
   },
   {
    "duration": 0,
    "start_time": "2023-03-02T20:06:22.027Z"
   },
   {
    "duration": 0,
    "start_time": "2023-03-02T20:06:22.029Z"
   },
   {
    "duration": 7359,
    "start_time": "2023-03-02T20:07:42.466Z"
   },
   {
    "duration": 532,
    "start_time": "2023-03-02T20:08:20.206Z"
   },
   {
    "duration": 1149,
    "start_time": "2023-03-02T20:09:02.259Z"
   },
   {
    "duration": 10,
    "start_time": "2023-03-02T20:09:17.780Z"
   },
   {
    "duration": 1482,
    "start_time": "2023-03-02T20:09:32.241Z"
   },
   {
    "duration": 836,
    "start_time": "2023-03-02T20:09:33.725Z"
   },
   {
    "duration": 3,
    "start_time": "2023-03-02T20:09:34.564Z"
   },
   {
    "duration": 422,
    "start_time": "2023-03-02T20:09:34.569Z"
   },
   {
    "duration": 209,
    "start_time": "2023-03-02T20:09:34.993Z"
   },
   {
    "duration": 408,
    "start_time": "2023-03-02T20:09:35.204Z"
   },
   {
    "duration": 3,
    "start_time": "2023-03-02T20:09:35.624Z"
   },
   {
    "duration": 7,
    "start_time": "2023-03-02T20:09:35.629Z"
   },
   {
    "duration": 6,
    "start_time": "2023-03-02T20:09:35.637Z"
   },
   {
    "duration": 9,
    "start_time": "2023-03-02T20:09:35.645Z"
   },
   {
    "duration": 15,
    "start_time": "2023-03-02T20:09:35.655Z"
   },
   {
    "duration": 9,
    "start_time": "2023-03-02T20:09:35.672Z"
   },
   {
    "duration": 8,
    "start_time": "2023-03-02T20:09:35.724Z"
   },
   {
    "duration": 6,
    "start_time": "2023-03-02T20:09:35.734Z"
   },
   {
    "duration": 15,
    "start_time": "2023-03-02T20:09:35.742Z"
   },
   {
    "duration": 9,
    "start_time": "2023-03-02T20:09:35.759Z"
   },
   {
    "duration": 1435,
    "start_time": "2023-03-02T20:09:35.770Z"
   },
   {
    "duration": 0,
    "start_time": "2023-03-02T20:09:37.207Z"
   },
   {
    "duration": 0,
    "start_time": "2023-03-02T20:09:37.209Z"
   },
   {
    "duration": 0,
    "start_time": "2023-03-02T20:09:37.210Z"
   },
   {
    "duration": 0,
    "start_time": "2023-03-02T20:09:37.211Z"
   },
   {
    "duration": 0,
    "start_time": "2023-03-02T20:09:37.213Z"
   },
   {
    "duration": 0,
    "start_time": "2023-03-02T20:09:37.224Z"
   },
   {
    "duration": 0,
    "start_time": "2023-03-02T20:09:37.227Z"
   },
   {
    "duration": 5,
    "start_time": "2023-03-02T20:10:06.310Z"
   },
   {
    "duration": 1596,
    "start_time": "2023-03-02T20:10:16.068Z"
   },
   {
    "duration": 782,
    "start_time": "2023-03-02T20:10:17.667Z"
   },
   {
    "duration": 4,
    "start_time": "2023-03-02T20:10:18.454Z"
   },
   {
    "duration": 466,
    "start_time": "2023-03-02T20:10:18.460Z"
   },
   {
    "duration": 215,
    "start_time": "2023-03-02T20:10:18.928Z"
   },
   {
    "duration": 536,
    "start_time": "2023-03-02T20:10:19.145Z"
   },
   {
    "duration": 3,
    "start_time": "2023-03-02T20:10:19.684Z"
   },
   {
    "duration": 11,
    "start_time": "2023-03-02T20:10:19.689Z"
   },
   {
    "duration": 20,
    "start_time": "2023-03-02T20:10:19.704Z"
   },
   {
    "duration": 11,
    "start_time": "2023-03-02T20:10:19.726Z"
   },
   {
    "duration": 20,
    "start_time": "2023-03-02T20:10:19.739Z"
   },
   {
    "duration": 7,
    "start_time": "2023-03-02T20:10:19.761Z"
   },
   {
    "duration": 9,
    "start_time": "2023-03-02T20:10:19.771Z"
   },
   {
    "duration": 42,
    "start_time": "2023-03-02T20:10:19.782Z"
   },
   {
    "duration": 18,
    "start_time": "2023-03-02T20:10:19.826Z"
   },
   {
    "duration": 9,
    "start_time": "2023-03-02T20:10:19.847Z"
   },
   {
    "duration": 1575,
    "start_time": "2023-03-02T20:10:19.859Z"
   },
   {
    "duration": 0,
    "start_time": "2023-03-02T20:10:21.436Z"
   },
   {
    "duration": 0,
    "start_time": "2023-03-02T20:10:21.437Z"
   },
   {
    "duration": 0,
    "start_time": "2023-03-02T20:10:21.439Z"
   },
   {
    "duration": 0,
    "start_time": "2023-03-02T20:10:21.441Z"
   },
   {
    "duration": 0,
    "start_time": "2023-03-02T20:10:21.443Z"
   },
   {
    "duration": 0,
    "start_time": "2023-03-02T20:10:21.445Z"
   },
   {
    "duration": 0,
    "start_time": "2023-03-02T20:10:21.446Z"
   },
   {
    "duration": 1523,
    "start_time": "2023-03-02T20:10:52.317Z"
   },
   {
    "duration": 769,
    "start_time": "2023-03-02T20:10:53.842Z"
   },
   {
    "duration": 9,
    "start_time": "2023-03-02T20:10:54.615Z"
   },
   {
    "duration": 432,
    "start_time": "2023-03-02T20:10:54.626Z"
   },
   {
    "duration": 209,
    "start_time": "2023-03-02T20:10:55.060Z"
   },
   {
    "duration": 412,
    "start_time": "2023-03-02T20:10:55.271Z"
   },
   {
    "duration": 3,
    "start_time": "2023-03-02T20:10:55.685Z"
   },
   {
    "duration": 7,
    "start_time": "2023-03-02T20:10:55.690Z"
   },
   {
    "duration": 28,
    "start_time": "2023-03-02T20:10:55.698Z"
   },
   {
    "duration": 9,
    "start_time": "2023-03-02T20:10:55.728Z"
   },
   {
    "duration": 15,
    "start_time": "2023-03-02T20:10:55.739Z"
   },
   {
    "duration": 5,
    "start_time": "2023-03-02T20:10:55.756Z"
   },
   {
    "duration": 8,
    "start_time": "2023-03-02T20:10:55.764Z"
   },
   {
    "duration": 4,
    "start_time": "2023-03-02T20:10:55.774Z"
   },
   {
    "duration": 58,
    "start_time": "2023-03-02T20:10:55.780Z"
   },
   {
    "duration": 9,
    "start_time": "2023-03-02T20:10:55.840Z"
   },
   {
    "duration": 1603,
    "start_time": "2023-03-02T20:10:55.852Z"
   },
   {
    "duration": 0,
    "start_time": "2023-03-02T20:10:57.457Z"
   },
   {
    "duration": 0,
    "start_time": "2023-03-02T20:10:57.458Z"
   },
   {
    "duration": 0,
    "start_time": "2023-03-02T20:10:57.459Z"
   },
   {
    "duration": 0,
    "start_time": "2023-03-02T20:10:57.461Z"
   },
   {
    "duration": 0,
    "start_time": "2023-03-02T20:10:57.462Z"
   },
   {
    "duration": 0,
    "start_time": "2023-03-02T20:10:57.463Z"
   },
   {
    "duration": 0,
    "start_time": "2023-03-02T20:10:57.464Z"
   },
   {
    "duration": 1562,
    "start_time": "2023-03-02T20:12:01.483Z"
   },
   {
    "duration": 1417,
    "start_time": "2023-03-02T20:12:31.007Z"
   },
   {
    "duration": 1203,
    "start_time": "2023-03-02T20:12:42.937Z"
   },
   {
    "duration": 1409,
    "start_time": "2023-03-02T20:14:00.773Z"
   },
   {
    "duration": 1411,
    "start_time": "2023-03-02T20:14:25.891Z"
   },
   {
    "duration": 564,
    "start_time": "2023-03-02T20:14:55.541Z"
   },
   {
    "duration": 513,
    "start_time": "2023-03-02T20:15:09.917Z"
   },
   {
    "duration": 968,
    "start_time": "2023-03-02T20:15:16.169Z"
   },
   {
    "duration": 961,
    "start_time": "2023-03-02T20:15:18.317Z"
   },
   {
    "duration": 6,
    "start_time": "2023-03-02T20:17:29.314Z"
   },
   {
    "duration": 598,
    "start_time": "2023-03-02T20:18:43.387Z"
   },
   {
    "duration": 592,
    "start_time": "2023-03-02T20:18:54.280Z"
   },
   {
    "duration": 750,
    "start_time": "2023-03-02T20:19:04.240Z"
   },
   {
    "duration": 602,
    "start_time": "2023-03-02T20:19:38.070Z"
   },
   {
    "duration": 69,
    "start_time": "2023-03-02T20:22:08.579Z"
   },
   {
    "duration": 176,
    "start_time": "2023-03-02T20:22:16.550Z"
   },
   {
    "duration": 18,
    "start_time": "2023-03-02T20:23:39.079Z"
   },
   {
    "duration": 190,
    "start_time": "2023-03-02T20:23:54.822Z"
   },
   {
    "duration": 192,
    "start_time": "2023-03-02T20:24:37.801Z"
   },
   {
    "duration": 189,
    "start_time": "2023-03-02T20:24:47.566Z"
   },
   {
    "duration": 213,
    "start_time": "2023-03-02T20:24:51.943Z"
   },
   {
    "duration": 356,
    "start_time": "2023-03-02T20:25:01.698Z"
   },
   {
    "duration": 377,
    "start_time": "2023-03-02T20:26:27.003Z"
   },
   {
    "duration": 380,
    "start_time": "2023-03-02T20:27:06.948Z"
   },
   {
    "duration": 603,
    "start_time": "2023-03-02T20:27:41.601Z"
   },
   {
    "duration": 763,
    "start_time": "2023-03-02T20:27:55.078Z"
   },
   {
    "duration": 11,
    "start_time": "2023-03-02T20:29:28.096Z"
   },
   {
    "duration": 22,
    "start_time": "2023-03-02T20:31:45.331Z"
   },
   {
    "duration": 25,
    "start_time": "2023-03-02T20:32:40.797Z"
   },
   {
    "duration": 1621,
    "start_time": "2023-03-03T10:37:47.805Z"
   },
   {
    "duration": 1397,
    "start_time": "2023-03-03T10:37:55.649Z"
   },
   {
    "duration": 3276,
    "start_time": "2023-03-03T10:37:57.049Z"
   },
   {
    "duration": 4,
    "start_time": "2023-03-03T10:38:00.326Z"
   },
   {
    "duration": 443,
    "start_time": "2023-03-03T10:38:00.332Z"
   },
   {
    "duration": 172,
    "start_time": "2023-03-03T10:38:00.778Z"
   },
   {
    "duration": 399,
    "start_time": "2023-03-03T10:38:00.952Z"
   },
   {
    "duration": 3,
    "start_time": "2023-03-03T10:38:01.354Z"
   },
   {
    "duration": 32,
    "start_time": "2023-03-03T10:38:01.359Z"
   },
   {
    "duration": 24,
    "start_time": "2023-03-03T10:38:01.393Z"
   },
   {
    "duration": 24,
    "start_time": "2023-03-03T10:38:01.418Z"
   },
   {
    "duration": 26,
    "start_time": "2023-03-03T10:38:01.444Z"
   },
   {
    "duration": 28,
    "start_time": "2023-03-03T10:38:01.472Z"
   },
   {
    "duration": 17,
    "start_time": "2023-03-03T10:38:01.502Z"
   },
   {
    "duration": 45,
    "start_time": "2023-03-03T10:38:01.522Z"
   },
   {
    "duration": 38,
    "start_time": "2023-03-03T10:38:01.569Z"
   },
   {
    "duration": 1360,
    "start_time": "2023-03-03T10:38:01.608Z"
   },
   {
    "duration": 0,
    "start_time": "2023-03-03T10:38:02.969Z"
   },
   {
    "duration": 0,
    "start_time": "2023-03-03T10:38:02.970Z"
   },
   {
    "duration": 0,
    "start_time": "2023-03-03T10:38:02.971Z"
   },
   {
    "duration": 0,
    "start_time": "2023-03-03T10:38:02.972Z"
   },
   {
    "duration": 0,
    "start_time": "2023-03-03T10:38:02.973Z"
   },
   {
    "duration": 0,
    "start_time": "2023-03-03T10:38:02.974Z"
   },
   {
    "duration": 0,
    "start_time": "2023-03-03T10:38:02.975Z"
   },
   {
    "duration": 0,
    "start_time": "2023-03-03T10:38:02.976Z"
   },
   {
    "duration": 0,
    "start_time": "2023-03-03T10:38:02.977Z"
   },
   {
    "duration": 0,
    "start_time": "2023-03-03T10:38:02.978Z"
   },
   {
    "duration": 0,
    "start_time": "2023-03-03T10:38:02.979Z"
   },
   {
    "duration": 0,
    "start_time": "2023-03-03T10:38:02.980Z"
   },
   {
    "duration": 4,
    "start_time": "2023-03-03T10:38:32.888Z"
   },
   {
    "duration": 492,
    "start_time": "2023-03-03T10:39:50.527Z"
   },
   {
    "duration": 844,
    "start_time": "2023-03-03T10:40:42.557Z"
   },
   {
    "duration": 767,
    "start_time": "2023-03-03T10:40:44.022Z"
   },
   {
    "duration": 15,
    "start_time": "2023-03-03T10:41:21.063Z"
   },
   {
    "duration": 8,
    "start_time": "2023-03-03T10:51:10.182Z"
   },
   {
    "duration": 9,
    "start_time": "2023-03-03T10:51:12.339Z"
   },
   {
    "duration": 681,
    "start_time": "2023-03-03T10:52:29.955Z"
   },
   {
    "duration": 375,
    "start_time": "2023-03-03T10:52:31.393Z"
   },
   {
    "duration": 542,
    "start_time": "2023-03-03T10:52:32.897Z"
   },
   {
    "duration": 52,
    "start_time": "2023-03-03T10:54:00.673Z"
   },
   {
    "duration": 1170,
    "start_time": "2023-03-03T10:54:11.192Z"
   },
   {
    "duration": 1397,
    "start_time": "2023-03-03T10:54:25.217Z"
   },
   {
    "duration": 1071,
    "start_time": "2023-03-03T10:54:37.096Z"
   },
   {
    "duration": 1368,
    "start_time": "2023-03-03T10:55:05.103Z"
   },
   {
    "duration": 49,
    "start_time": "2023-03-03T10:57:26.014Z"
   },
   {
    "duration": 418,
    "start_time": "2023-03-03T10:57:39.573Z"
   },
   {
    "duration": 1007,
    "start_time": "2023-03-03T10:58:39.876Z"
   },
   {
    "duration": 852,
    "start_time": "2023-03-03T11:00:55.250Z"
   },
   {
    "duration": 1043,
    "start_time": "2023-03-03T11:01:27.449Z"
   },
   {
    "duration": 925,
    "start_time": "2023-03-03T11:03:18.375Z"
   },
   {
    "duration": 1102,
    "start_time": "2023-03-03T11:03:34.096Z"
   },
   {
    "duration": 745,
    "start_time": "2023-03-03T11:03:46.047Z"
   },
   {
    "duration": 995,
    "start_time": "2023-03-03T11:03:57.902Z"
   },
   {
    "duration": 926,
    "start_time": "2023-03-03T11:04:21.214Z"
   },
   {
    "duration": 1034,
    "start_time": "2023-03-03T11:04:22.864Z"
   },
   {
    "duration": 1024,
    "start_time": "2023-03-03T11:04:23.900Z"
   },
   {
    "duration": 943,
    "start_time": "2023-03-03T11:05:43.645Z"
   },
   {
    "duration": 992,
    "start_time": "2023-03-03T11:05:57.813Z"
   },
   {
    "duration": 651,
    "start_time": "2023-03-03T11:06:51.932Z"
   },
   {
    "duration": 566,
    "start_time": "2023-03-03T11:09:50.209Z"
   },
   {
    "duration": 534,
    "start_time": "2023-03-03T11:09:52.136Z"
   },
   {
    "duration": 124,
    "start_time": "2023-03-03T11:12:53.352Z"
   },
   {
    "duration": 113,
    "start_time": "2023-03-03T11:13:06.360Z"
   },
   {
    "duration": 715,
    "start_time": "2023-03-03T11:13:40.837Z"
   },
   {
    "duration": 577,
    "start_time": "2023-03-03T11:13:48.932Z"
   },
   {
    "duration": 667,
    "start_time": "2023-03-03T11:14:00.100Z"
   },
   {
    "duration": 102,
    "start_time": "2023-03-03T11:14:51.036Z"
   },
   {
    "duration": 553,
    "start_time": "2023-03-03T11:15:50.803Z"
   },
   {
    "duration": 111,
    "start_time": "2023-03-03T11:15:52.091Z"
   },
   {
    "duration": 527,
    "start_time": "2023-03-03T11:15:53.645Z"
   },
   {
    "duration": 245,
    "start_time": "2023-03-03T11:15:55.122Z"
   },
   {
    "duration": 581,
    "start_time": "2023-03-03T11:15:56.714Z"
   },
   {
    "duration": 106,
    "start_time": "2023-03-03T11:15:58.002Z"
   },
   {
    "duration": 15,
    "start_time": "2023-03-03T11:24:16.883Z"
   },
   {
    "duration": 97,
    "start_time": "2023-03-03T11:35:12.232Z"
   },
   {
    "duration": 93,
    "start_time": "2023-03-03T11:35:22.744Z"
   },
   {
    "duration": 89,
    "start_time": "2023-03-03T11:35:28.464Z"
   },
   {
    "duration": 19,
    "start_time": "2023-03-03T11:39:59.339Z"
   },
   {
    "duration": 22,
    "start_time": "2023-03-03T11:40:00.395Z"
   },
   {
    "duration": 17,
    "start_time": "2023-03-03T11:52:00.648Z"
   },
   {
    "duration": 17,
    "start_time": "2023-03-03T11:52:05.912Z"
   },
   {
    "duration": 1324,
    "start_time": "2023-03-03T11:52:32.061Z"
   },
   {
    "duration": 622,
    "start_time": "2023-03-03T11:52:33.387Z"
   },
   {
    "duration": 3,
    "start_time": "2023-03-03T11:52:34.011Z"
   },
   {
    "duration": 407,
    "start_time": "2023-03-03T11:52:34.016Z"
   },
   {
    "duration": 195,
    "start_time": "2023-03-03T11:52:34.425Z"
   },
   {
    "duration": 379,
    "start_time": "2023-03-03T11:52:34.621Z"
   },
   {
    "duration": 3,
    "start_time": "2023-03-03T11:52:35.001Z"
   },
   {
    "duration": 15,
    "start_time": "2023-03-03T11:52:35.013Z"
   },
   {
    "duration": 7,
    "start_time": "2023-03-03T11:52:35.030Z"
   },
   {
    "duration": 12,
    "start_time": "2023-03-03T11:52:35.040Z"
   },
   {
    "duration": 29,
    "start_time": "2023-03-03T11:52:35.054Z"
   },
   {
    "duration": 16,
    "start_time": "2023-03-03T11:52:35.085Z"
   },
   {
    "duration": 14,
    "start_time": "2023-03-03T11:52:35.103Z"
   },
   {
    "duration": 23,
    "start_time": "2023-03-03T11:52:35.118Z"
   },
   {
    "duration": 1099,
    "start_time": "2023-03-03T11:52:35.143Z"
   },
   {
    "duration": 1010,
    "start_time": "2023-03-03T11:52:36.244Z"
   },
   {
    "duration": 860,
    "start_time": "2023-03-03T11:52:37.255Z"
   },
   {
    "duration": 391,
    "start_time": "2023-03-03T11:52:38.117Z"
   },
   {
    "duration": 0,
    "start_time": "2023-03-03T11:52:38.510Z"
   },
   {
    "duration": 0,
    "start_time": "2023-03-03T11:52:38.514Z"
   },
   {
    "duration": 0,
    "start_time": "2023-03-03T11:52:38.515Z"
   },
   {
    "duration": 0,
    "start_time": "2023-03-03T11:52:38.517Z"
   },
   {
    "duration": 0,
    "start_time": "2023-03-03T11:52:38.518Z"
   },
   {
    "duration": 0,
    "start_time": "2023-03-03T11:52:38.520Z"
   },
   {
    "duration": 0,
    "start_time": "2023-03-03T11:52:38.521Z"
   },
   {
    "duration": 0,
    "start_time": "2023-03-03T11:52:38.523Z"
   },
   {
    "duration": 0,
    "start_time": "2023-03-03T11:52:38.524Z"
   },
   {
    "duration": 0,
    "start_time": "2023-03-03T11:52:38.526Z"
   },
   {
    "duration": 0,
    "start_time": "2023-03-03T11:52:38.527Z"
   },
   {
    "duration": 0,
    "start_time": "2023-03-03T11:52:38.528Z"
   },
   {
    "duration": 0,
    "start_time": "2023-03-03T11:52:38.530Z"
   },
   {
    "duration": 0,
    "start_time": "2023-03-03T11:52:38.531Z"
   },
   {
    "duration": 0,
    "start_time": "2023-03-03T11:52:38.532Z"
   },
   {
    "duration": 869,
    "start_time": "2023-03-03T11:53:31.365Z"
   },
   {
    "duration": 742,
    "start_time": "2023-03-03T11:53:32.885Z"
   },
   {
    "duration": 9,
    "start_time": "2023-03-03T11:53:34.213Z"
   },
   {
    "duration": 9,
    "start_time": "2023-03-03T11:53:35.501Z"
   },
   {
    "duration": 703,
    "start_time": "2023-03-03T11:53:38.813Z"
   },
   {
    "duration": 110,
    "start_time": "2023-03-03T11:53:40.301Z"
   },
   {
    "duration": 542,
    "start_time": "2023-03-03T11:53:41.362Z"
   },
   {
    "duration": 88,
    "start_time": "2023-03-03T11:53:42.569Z"
   },
   {
    "duration": 643,
    "start_time": "2023-03-03T11:53:43.701Z"
   },
   {
    "duration": 112,
    "start_time": "2023-03-03T11:53:44.963Z"
   },
   {
    "duration": 14,
    "start_time": "2023-03-03T11:53:47.958Z"
   },
   {
    "duration": 20,
    "start_time": "2023-03-03T11:53:50.686Z"
   },
   {
    "duration": 20,
    "start_time": "2023-03-03T11:53:51.708Z"
   },
   {
    "duration": 11,
    "start_time": "2023-03-03T11:53:52.613Z"
   },
   {
    "duration": 1396,
    "start_time": "2023-03-03T12:38:14.592Z"
   },
   {
    "duration": 662,
    "start_time": "2023-03-03T12:38:15.990Z"
   },
   {
    "duration": 3,
    "start_time": "2023-03-03T12:38:16.654Z"
   },
   {
    "duration": 370,
    "start_time": "2023-03-03T12:38:16.658Z"
   },
   {
    "duration": 175,
    "start_time": "2023-03-03T12:38:17.030Z"
   },
   {
    "duration": 366,
    "start_time": "2023-03-03T12:38:17.206Z"
   },
   {
    "duration": 3,
    "start_time": "2023-03-03T12:38:17.573Z"
   },
   {
    "duration": 9,
    "start_time": "2023-03-03T12:38:17.577Z"
   },
   {
    "duration": 5,
    "start_time": "2023-03-03T12:38:17.587Z"
   },
   {
    "duration": 34,
    "start_time": "2023-03-03T12:38:17.593Z"
   },
   {
    "duration": 19,
    "start_time": "2023-03-03T12:38:17.629Z"
   },
   {
    "duration": 6,
    "start_time": "2023-03-03T12:38:17.650Z"
   },
   {
    "duration": 4,
    "start_time": "2023-03-03T12:38:17.657Z"
   },
   {
    "duration": 18,
    "start_time": "2023-03-03T12:38:17.663Z"
   },
   {
    "duration": 957,
    "start_time": "2023-03-03T12:38:17.682Z"
   },
   {
    "duration": 1010,
    "start_time": "2023-03-03T12:38:18.640Z"
   },
   {
    "duration": 878,
    "start_time": "2023-03-03T12:38:19.652Z"
   },
   {
    "duration": 390,
    "start_time": "2023-03-03T12:38:20.532Z"
   },
   {
    "duration": 0,
    "start_time": "2023-03-03T12:38:20.924Z"
   },
   {
    "duration": 0,
    "start_time": "2023-03-03T12:38:20.925Z"
   },
   {
    "duration": 0,
    "start_time": "2023-03-03T12:38:20.926Z"
   },
   {
    "duration": 0,
    "start_time": "2023-03-03T12:38:20.927Z"
   },
   {
    "duration": 0,
    "start_time": "2023-03-03T12:38:20.928Z"
   },
   {
    "duration": 0,
    "start_time": "2023-03-03T12:38:20.929Z"
   },
   {
    "duration": 0,
    "start_time": "2023-03-03T12:38:20.930Z"
   },
   {
    "duration": 0,
    "start_time": "2023-03-03T12:38:20.931Z"
   },
   {
    "duration": 0,
    "start_time": "2023-03-03T12:38:20.932Z"
   },
   {
    "duration": 0,
    "start_time": "2023-03-03T12:38:20.933Z"
   },
   {
    "duration": 0,
    "start_time": "2023-03-03T12:38:20.934Z"
   },
   {
    "duration": 0,
    "start_time": "2023-03-03T12:38:20.935Z"
   },
   {
    "duration": 0,
    "start_time": "2023-03-03T12:38:20.936Z"
   },
   {
    "duration": 0,
    "start_time": "2023-03-03T12:38:20.937Z"
   },
   {
    "duration": 0,
    "start_time": "2023-03-03T12:38:20.938Z"
   },
   {
    "duration": 181,
    "start_time": "2023-03-03T12:40:40.859Z"
   },
   {
    "duration": 1135,
    "start_time": "2023-03-03T12:41:01.368Z"
   },
   {
    "duration": 459,
    "start_time": "2023-03-03T12:41:50.594Z"
   },
   {
    "duration": 449,
    "start_time": "2023-03-03T12:42:49.574Z"
   },
   {
    "duration": 8,
    "start_time": "2023-03-03T12:43:19.168Z"
   },
   {
    "duration": 12,
    "start_time": "2023-03-03T12:44:10.703Z"
   },
   {
    "duration": 65,
    "start_time": "2023-03-03T12:46:11.834Z"
   },
   {
    "duration": 12,
    "start_time": "2023-03-03T12:46:18.801Z"
   },
   {
    "duration": 10,
    "start_time": "2023-03-03T12:47:05.839Z"
   },
   {
    "duration": 9,
    "start_time": "2023-03-03T12:47:16.735Z"
   },
   {
    "duration": 8,
    "start_time": "2023-03-03T12:47:33.756Z"
   },
   {
    "duration": 13,
    "start_time": "2023-03-03T12:47:52.886Z"
   },
   {
    "duration": 16,
    "start_time": "2023-03-03T12:48:35.928Z"
   },
   {
    "duration": 1334,
    "start_time": "2023-03-03T12:49:08.321Z"
   },
   {
    "duration": 657,
    "start_time": "2023-03-03T12:49:09.657Z"
   },
   {
    "duration": 51,
    "start_time": "2023-03-03T12:49:10.316Z"
   },
   {
    "duration": 0,
    "start_time": "2023-03-03T12:49:10.369Z"
   },
   {
    "duration": 0,
    "start_time": "2023-03-03T12:49:10.370Z"
   },
   {
    "duration": 0,
    "start_time": "2023-03-03T12:49:10.372Z"
   },
   {
    "duration": 0,
    "start_time": "2023-03-03T12:49:10.373Z"
   },
   {
    "duration": 0,
    "start_time": "2023-03-03T12:49:10.374Z"
   },
   {
    "duration": 0,
    "start_time": "2023-03-03T12:49:10.376Z"
   },
   {
    "duration": 0,
    "start_time": "2023-03-03T12:49:10.377Z"
   },
   {
    "duration": 0,
    "start_time": "2023-03-03T12:49:10.378Z"
   },
   {
    "duration": 0,
    "start_time": "2023-03-03T12:49:10.379Z"
   },
   {
    "duration": 0,
    "start_time": "2023-03-03T12:49:10.380Z"
   },
   {
    "duration": 0,
    "start_time": "2023-03-03T12:49:10.381Z"
   },
   {
    "duration": 0,
    "start_time": "2023-03-03T12:49:10.382Z"
   },
   {
    "duration": 0,
    "start_time": "2023-03-03T12:49:10.383Z"
   },
   {
    "duration": 0,
    "start_time": "2023-03-03T12:49:10.384Z"
   },
   {
    "duration": 0,
    "start_time": "2023-03-03T12:49:10.385Z"
   },
   {
    "duration": 0,
    "start_time": "2023-03-03T12:49:10.386Z"
   },
   {
    "duration": 0,
    "start_time": "2023-03-03T12:49:10.387Z"
   },
   {
    "duration": 0,
    "start_time": "2023-03-03T12:49:10.388Z"
   },
   {
    "duration": 0,
    "start_time": "2023-03-03T12:49:10.389Z"
   },
   {
    "duration": 0,
    "start_time": "2023-03-03T12:49:10.390Z"
   },
   {
    "duration": 0,
    "start_time": "2023-03-03T12:49:10.391Z"
   },
   {
    "duration": 0,
    "start_time": "2023-03-03T12:49:10.392Z"
   },
   {
    "duration": 0,
    "start_time": "2023-03-03T12:49:10.393Z"
   },
   {
    "duration": 1,
    "start_time": "2023-03-03T12:49:10.393Z"
   },
   {
    "duration": 0,
    "start_time": "2023-03-03T12:49:10.395Z"
   },
   {
    "duration": 0,
    "start_time": "2023-03-03T12:49:10.396Z"
   },
   {
    "duration": 0,
    "start_time": "2023-03-03T12:49:10.397Z"
   },
   {
    "duration": 0,
    "start_time": "2023-03-03T12:49:10.398Z"
   },
   {
    "duration": 0,
    "start_time": "2023-03-03T12:49:10.399Z"
   },
   {
    "duration": 0,
    "start_time": "2023-03-03T12:49:10.400Z"
   },
   {
    "duration": 0,
    "start_time": "2023-03-03T12:49:10.401Z"
   },
   {
    "duration": 0,
    "start_time": "2023-03-03T12:49:10.402Z"
   },
   {
    "duration": 16,
    "start_time": "2023-03-03T12:49:36.689Z"
   },
   {
    "duration": 1347,
    "start_time": "2023-03-03T12:50:07.608Z"
   },
   {
    "duration": 657,
    "start_time": "2023-03-03T12:50:08.957Z"
   },
   {
    "duration": 3,
    "start_time": "2023-03-03T12:50:09.615Z"
   },
   {
    "duration": 397,
    "start_time": "2023-03-03T12:50:09.620Z"
   },
   {
    "duration": 184,
    "start_time": "2023-03-03T12:50:10.020Z"
   },
   {
    "duration": 392,
    "start_time": "2023-03-03T12:50:10.206Z"
   },
   {
    "duration": 3,
    "start_time": "2023-03-03T12:50:10.599Z"
   },
   {
    "duration": 14,
    "start_time": "2023-03-03T12:50:10.604Z"
   },
   {
    "duration": 6,
    "start_time": "2023-03-03T12:50:10.620Z"
   },
   {
    "duration": 10,
    "start_time": "2023-03-03T12:50:10.628Z"
   },
   {
    "duration": 15,
    "start_time": "2023-03-03T12:50:10.640Z"
   },
   {
    "duration": 6,
    "start_time": "2023-03-03T12:50:10.656Z"
   },
   {
    "duration": 6,
    "start_time": "2023-03-03T12:50:10.664Z"
   },
   {
    "duration": 53,
    "start_time": "2023-03-03T12:50:10.672Z"
   },
   {
    "duration": 1036,
    "start_time": "2023-03-03T12:50:10.727Z"
   },
   {
    "duration": 1054,
    "start_time": "2023-03-03T12:50:11.765Z"
   },
   {
    "duration": 947,
    "start_time": "2023-03-03T12:50:12.821Z"
   },
   {
    "duration": 476,
    "start_time": "2023-03-03T12:50:13.769Z"
   },
   {
    "duration": 14,
    "start_time": "2023-03-03T12:50:14.246Z"
   },
   {
    "duration": 877,
    "start_time": "2023-03-03T12:50:14.261Z"
   },
   {
    "duration": 934,
    "start_time": "2023-03-03T12:50:15.139Z"
   },
   {
    "duration": 10,
    "start_time": "2023-03-03T12:50:16.076Z"
   },
   {
    "duration": 12,
    "start_time": "2023-03-03T12:50:16.088Z"
   },
   {
    "duration": 559,
    "start_time": "2023-03-03T12:50:16.115Z"
   },
   {
    "duration": 105,
    "start_time": "2023-03-03T12:50:16.676Z"
   },
   {
    "duration": 550,
    "start_time": "2023-03-03T12:50:16.783Z"
   },
   {
    "duration": 101,
    "start_time": "2023-03-03T12:50:17.335Z"
   },
   {
    "duration": 663,
    "start_time": "2023-03-03T12:50:17.438Z"
   },
   {
    "duration": 114,
    "start_time": "2023-03-03T12:50:18.103Z"
   },
   {
    "duration": 13,
    "start_time": "2023-03-03T12:50:18.219Z"
   },
   {
    "duration": 18,
    "start_time": "2023-03-03T12:50:18.234Z"
   },
   {
    "duration": 27,
    "start_time": "2023-03-03T12:50:18.254Z"
   },
   {
    "duration": 37,
    "start_time": "2023-03-03T12:50:18.282Z"
   },
   {
    "duration": 4,
    "start_time": "2023-03-03T12:50:18.321Z"
   },
   {
    "duration": 112,
    "start_time": "2023-03-03T12:52:40.950Z"
   },
   {
    "duration": 25,
    "start_time": "2023-03-03T12:53:06.192Z"
   },
   {
    "duration": 620,
    "start_time": "2023-03-03T12:55:34.016Z"
   },
   {
    "duration": 99,
    "start_time": "2023-03-03T12:55:35.798Z"
   },
   {
    "duration": 638,
    "start_time": "2023-03-03T12:55:39.257Z"
   },
   {
    "duration": 100,
    "start_time": "2023-03-03T12:55:40.914Z"
   },
   {
    "duration": 547,
    "start_time": "2023-03-03T12:55:43.515Z"
   },
   {
    "duration": 97,
    "start_time": "2023-03-03T12:55:45.081Z"
   },
   {
    "duration": 19,
    "start_time": "2023-03-03T12:55:49.754Z"
   },
   {
    "duration": 22,
    "start_time": "2023-03-03T13:11:13.717Z"
   },
   {
    "duration": 5,
    "start_time": "2023-03-03T13:12:56.734Z"
   },
   {
    "duration": 4,
    "start_time": "2023-03-03T13:12:57.130Z"
   },
   {
    "duration": 14,
    "start_time": "2023-03-03T13:14:23.160Z"
   },
   {
    "duration": 17,
    "start_time": "2023-03-03T13:14:55.122Z"
   },
   {
    "duration": 950,
    "start_time": "2023-03-03T13:15:22.352Z"
   },
   {
    "duration": 844,
    "start_time": "2023-03-03T13:15:50.603Z"
   },
   {
    "duration": 9,
    "start_time": "2023-03-03T13:16:02.816Z"
   },
   {
    "duration": 16041,
    "start_time": "2023-03-03T13:16:39.276Z"
   },
   {
    "duration": 25054,
    "start_time": "2023-03-03T13:17:17.891Z"
   },
   {
    "duration": 1144,
    "start_time": "2023-03-03T13:17:57.072Z"
   },
   {
    "duration": 2021,
    "start_time": "2023-03-03T13:18:03.707Z"
   },
   {
    "duration": 9,
    "start_time": "2023-03-03T15:00:23.382Z"
   },
   {
    "duration": 14,
    "start_time": "2023-03-03T15:00:33.077Z"
   },
   {
    "duration": 10,
    "start_time": "2023-03-03T15:02:46.212Z"
   },
   {
    "duration": 1353,
    "start_time": "2023-03-03T15:09:14.178Z"
   },
   {
    "duration": 702,
    "start_time": "2023-03-03T15:09:15.533Z"
   },
   {
    "duration": 25,
    "start_time": "2023-03-03T15:09:29.804Z"
   },
   {
    "duration": 19,
    "start_time": "2023-03-03T15:11:28.693Z"
   },
   {
    "duration": 11,
    "start_time": "2023-03-03T15:12:13.268Z"
   },
   {
    "duration": 111,
    "start_time": "2023-03-03T15:12:53.058Z"
   },
   {
    "duration": 4,
    "start_time": "2023-03-03T15:14:18.609Z"
   },
   {
    "duration": 409,
    "start_time": "2023-03-03T15:14:18.878Z"
   },
   {
    "duration": 1425,
    "start_time": "2023-03-03T15:15:17.282Z"
   },
   {
    "duration": 684,
    "start_time": "2023-03-03T15:15:18.709Z"
   },
   {
    "duration": 3,
    "start_time": "2023-03-03T15:15:19.395Z"
   },
   {
    "duration": 424,
    "start_time": "2023-03-03T15:15:19.400Z"
   },
   {
    "duration": 237,
    "start_time": "2023-03-03T15:15:19.826Z"
   },
   {
    "duration": 454,
    "start_time": "2023-03-03T15:15:20.066Z"
   },
   {
    "duration": 4,
    "start_time": "2023-03-03T15:15:20.522Z"
   },
   {
    "duration": 17,
    "start_time": "2023-03-03T15:15:20.528Z"
   },
   {
    "duration": 5,
    "start_time": "2023-03-03T15:15:20.547Z"
   },
   {
    "duration": 10,
    "start_time": "2023-03-03T15:15:20.554Z"
   },
   {
    "duration": 30,
    "start_time": "2023-03-03T15:15:20.566Z"
   },
   {
    "duration": 23,
    "start_time": "2023-03-03T15:15:20.598Z"
   },
   {
    "duration": 25,
    "start_time": "2023-03-03T15:15:20.623Z"
   },
   {
    "duration": 14,
    "start_time": "2023-03-03T15:15:20.651Z"
   },
   {
    "duration": 1087,
    "start_time": "2023-03-03T15:15:20.667Z"
   },
   {
    "duration": 1049,
    "start_time": "2023-03-03T15:15:21.756Z"
   },
   {
    "duration": 910,
    "start_time": "2023-03-03T15:15:22.806Z"
   },
   {
    "duration": 479,
    "start_time": "2023-03-03T15:15:23.718Z"
   },
   {
    "duration": 897,
    "start_time": "2023-03-03T15:15:24.199Z"
   },
   {
    "duration": 933,
    "start_time": "2023-03-03T15:15:25.097Z"
   },
   {
    "duration": 12,
    "start_time": "2023-03-03T15:15:26.032Z"
   },
   {
    "duration": 17,
    "start_time": "2023-03-03T15:15:26.046Z"
   },
   {
    "duration": 624,
    "start_time": "2023-03-03T15:15:26.065Z"
   },
   {
    "duration": 109,
    "start_time": "2023-03-03T15:15:26.690Z"
   },
   {
    "duration": 539,
    "start_time": "2023-03-03T15:15:26.801Z"
   },
   {
    "duration": 111,
    "start_time": "2023-03-03T15:15:27.342Z"
   },
   {
    "duration": 700,
    "start_time": "2023-03-03T15:15:27.455Z"
   },
   {
    "duration": 107,
    "start_time": "2023-03-03T15:15:28.156Z"
   },
   {
    "duration": 21,
    "start_time": "2023-03-03T15:15:28.265Z"
   },
   {
    "duration": 41,
    "start_time": "2023-03-03T15:15:28.287Z"
   },
   {
    "duration": 23,
    "start_time": "2023-03-03T15:15:28.330Z"
   },
   {
    "duration": 25,
    "start_time": "2023-03-03T15:15:28.355Z"
   },
   {
    "duration": 7,
    "start_time": "2023-03-03T15:15:28.382Z"
   },
   {
    "duration": 36,
    "start_time": "2023-03-03T15:15:28.390Z"
   },
   {
    "duration": 125,
    "start_time": "2023-03-03T15:15:28.428Z"
   },
   {
    "duration": 0,
    "start_time": "2023-03-03T15:15:28.555Z"
   },
   {
    "duration": 0,
    "start_time": "2023-03-03T15:15:28.556Z"
   },
   {
    "duration": 0,
    "start_time": "2023-03-03T15:15:28.557Z"
   },
   {
    "duration": 0,
    "start_time": "2023-03-03T15:15:28.558Z"
   },
   {
    "duration": 0,
    "start_time": "2023-03-03T15:15:28.559Z"
   },
   {
    "duration": 1472,
    "start_time": "2023-03-03T15:15:58.233Z"
   },
   {
    "duration": 680,
    "start_time": "2023-03-03T15:15:59.706Z"
   },
   {
    "duration": 4,
    "start_time": "2023-03-03T15:16:00.388Z"
   },
   {
    "duration": 437,
    "start_time": "2023-03-03T15:16:00.394Z"
   },
   {
    "duration": 194,
    "start_time": "2023-03-03T15:16:00.833Z"
   },
   {
    "duration": 409,
    "start_time": "2023-03-03T15:16:01.029Z"
   },
   {
    "duration": 3,
    "start_time": "2023-03-03T15:16:01.441Z"
   },
   {
    "duration": 43,
    "start_time": "2023-03-03T15:16:01.445Z"
   },
   {
    "duration": 45,
    "start_time": "2023-03-03T15:16:01.490Z"
   },
   {
    "duration": 71,
    "start_time": "2023-03-03T15:16:01.538Z"
   },
   {
    "duration": 80,
    "start_time": "2023-03-03T15:16:01.610Z"
   },
   {
    "duration": 17,
    "start_time": "2023-03-03T15:16:01.692Z"
   },
   {
    "duration": 29,
    "start_time": "2023-03-03T15:16:01.711Z"
   },
   {
    "duration": 34,
    "start_time": "2023-03-03T15:16:01.742Z"
   },
   {
    "duration": 1052,
    "start_time": "2023-03-03T15:16:01.778Z"
   },
   {
    "duration": 1060,
    "start_time": "2023-03-03T15:16:02.832Z"
   },
   {
    "duration": 892,
    "start_time": "2023-03-03T15:16:03.894Z"
   },
   {
    "duration": 494,
    "start_time": "2023-03-03T15:16:04.787Z"
   },
   {
    "duration": 1022,
    "start_time": "2023-03-03T15:16:05.283Z"
   },
   {
    "duration": 860,
    "start_time": "2023-03-03T15:16:06.307Z"
   },
   {
    "duration": 9,
    "start_time": "2023-03-03T15:16:07.169Z"
   },
   {
    "duration": 9,
    "start_time": "2023-03-03T15:16:07.179Z"
   },
   {
    "duration": 562,
    "start_time": "2023-03-03T15:16:07.190Z"
   },
   {
    "duration": 105,
    "start_time": "2023-03-03T15:16:07.754Z"
   },
   {
    "duration": 518,
    "start_time": "2023-03-03T15:16:07.861Z"
   },
   {
    "duration": 108,
    "start_time": "2023-03-03T15:16:08.381Z"
   },
   {
    "duration": 736,
    "start_time": "2023-03-03T15:16:08.491Z"
   },
   {
    "duration": 101,
    "start_time": "2023-03-03T15:16:09.230Z"
   },
   {
    "duration": 19,
    "start_time": "2023-03-03T15:16:09.333Z"
   },
   {
    "duration": 12,
    "start_time": "2023-03-03T15:16:09.354Z"
   },
   {
    "duration": 22,
    "start_time": "2023-03-03T15:16:09.367Z"
   },
   {
    "duration": 43,
    "start_time": "2023-03-03T15:16:09.391Z"
   },
   {
    "duration": 7,
    "start_time": "2023-03-03T15:16:09.435Z"
   },
   {
    "duration": 10,
    "start_time": "2023-03-03T15:16:09.444Z"
   },
   {
    "duration": 13,
    "start_time": "2023-03-03T15:16:09.456Z"
   },
   {
    "duration": 2915,
    "start_time": "2023-03-03T15:16:09.471Z"
   },
   {
    "duration": 0,
    "start_time": "2023-03-03T15:16:12.388Z"
   },
   {
    "duration": 0,
    "start_time": "2023-03-03T15:16:12.389Z"
   },
   {
    "duration": 0,
    "start_time": "2023-03-03T15:16:12.390Z"
   },
   {
    "duration": 0,
    "start_time": "2023-03-03T15:16:12.391Z"
   },
   {
    "duration": 25,
    "start_time": "2023-03-03T15:17:33.560Z"
   },
   {
    "duration": 4,
    "start_time": "2023-03-03T15:17:34.818Z"
   },
   {
    "duration": 4,
    "start_time": "2023-03-03T15:17:35.234Z"
   },
   {
    "duration": 16,
    "start_time": "2023-03-03T15:17:35.694Z"
   },
   {
    "duration": 2690,
    "start_time": "2023-03-03T15:17:41.858Z"
   },
   {
    "duration": 1416,
    "start_time": "2023-03-03T15:17:51.690Z"
   },
   {
    "duration": 675,
    "start_time": "2023-03-03T15:17:53.108Z"
   },
   {
    "duration": 3,
    "start_time": "2023-03-03T15:17:53.785Z"
   },
   {
    "duration": 416,
    "start_time": "2023-03-03T15:17:53.789Z"
   },
   {
    "duration": 171,
    "start_time": "2023-03-03T15:17:54.213Z"
   },
   {
    "duration": 374,
    "start_time": "2023-03-03T15:17:54.386Z"
   },
   {
    "duration": 3,
    "start_time": "2023-03-03T15:17:54.762Z"
   },
   {
    "duration": 21,
    "start_time": "2023-03-03T15:17:54.766Z"
   },
   {
    "duration": 21,
    "start_time": "2023-03-03T15:17:54.789Z"
   },
   {
    "duration": 11,
    "start_time": "2023-03-03T15:17:54.811Z"
   },
   {
    "duration": 34,
    "start_time": "2023-03-03T15:17:54.824Z"
   },
   {
    "duration": 8,
    "start_time": "2023-03-03T15:17:54.860Z"
   },
   {
    "duration": 26,
    "start_time": "2023-03-03T15:17:54.869Z"
   },
   {
    "duration": 29,
    "start_time": "2023-03-03T15:17:54.899Z"
   },
   {
    "duration": 1044,
    "start_time": "2023-03-03T15:17:54.930Z"
   },
   {
    "duration": 1229,
    "start_time": "2023-03-03T15:17:55.977Z"
   },
   {
    "duration": 1164,
    "start_time": "2023-03-03T15:17:57.214Z"
   },
   {
    "duration": 509,
    "start_time": "2023-03-03T15:17:58.380Z"
   },
   {
    "duration": 965,
    "start_time": "2023-03-03T15:17:58.891Z"
   },
   {
    "duration": 922,
    "start_time": "2023-03-03T15:17:59.858Z"
   },
   {
    "duration": 9,
    "start_time": "2023-03-03T15:18:00.781Z"
   },
   {
    "duration": 99,
    "start_time": "2023-03-03T15:18:00.792Z"
   },
   {
    "duration": 639,
    "start_time": "2023-03-03T15:18:00.893Z"
   },
   {
    "duration": 118,
    "start_time": "2023-03-03T15:18:01.534Z"
   },
   {
    "duration": 621,
    "start_time": "2023-03-03T15:18:01.653Z"
   },
   {
    "duration": 105,
    "start_time": "2023-03-03T15:18:02.276Z"
   },
   {
    "duration": 707,
    "start_time": "2023-03-03T15:18:02.383Z"
   },
   {
    "duration": 116,
    "start_time": "2023-03-03T15:18:03.092Z"
   },
   {
    "duration": 22,
    "start_time": "2023-03-03T15:18:03.211Z"
   },
   {
    "duration": 26,
    "start_time": "2023-03-03T15:18:03.235Z"
   },
   {
    "duration": 19,
    "start_time": "2023-03-03T15:18:03.263Z"
   },
   {
    "duration": 17,
    "start_time": "2023-03-03T15:18:03.284Z"
   },
   {
    "duration": 17,
    "start_time": "2023-03-03T15:18:03.303Z"
   },
   {
    "duration": 15865,
    "start_time": "2023-03-03T15:18:03.322Z"
   },
   {
    "duration": 24591,
    "start_time": "2023-03-03T15:18:19.189Z"
   },
   {
    "duration": 1835,
    "start_time": "2023-03-03T15:18:43.782Z"
   },
   {
    "duration": 2300,
    "start_time": "2023-03-03T15:18:45.620Z"
   },
   {
    "duration": 0,
    "start_time": "2023-03-03T15:18:47.922Z"
   },
   {
    "duration": 1385,
    "start_time": "2023-03-03T16:44:25.422Z"
   },
   {
    "duration": 668,
    "start_time": "2023-03-03T16:44:26.809Z"
   },
   {
    "duration": 3,
    "start_time": "2023-03-03T16:44:27.479Z"
   },
   {
    "duration": 398,
    "start_time": "2023-03-03T16:44:27.484Z"
   },
   {
    "duration": 176,
    "start_time": "2023-03-03T16:44:27.884Z"
   },
   {
    "duration": 373,
    "start_time": "2023-03-03T16:44:28.062Z"
   },
   {
    "duration": 3,
    "start_time": "2023-03-03T16:44:28.436Z"
   },
   {
    "duration": 9,
    "start_time": "2023-03-03T16:44:28.441Z"
   },
   {
    "duration": 4,
    "start_time": "2023-03-03T16:44:28.452Z"
   },
   {
    "duration": 8,
    "start_time": "2023-03-03T16:44:28.457Z"
   },
   {
    "duration": 14,
    "start_time": "2023-03-03T16:44:28.466Z"
   },
   {
    "duration": 6,
    "start_time": "2023-03-03T16:44:28.481Z"
   },
   {
    "duration": 26,
    "start_time": "2023-03-03T16:44:28.488Z"
   },
   {
    "duration": 13,
    "start_time": "2023-03-03T16:44:28.517Z"
   },
   {
    "duration": 1013,
    "start_time": "2023-03-03T16:44:28.531Z"
   },
   {
    "duration": 1050,
    "start_time": "2023-03-03T16:44:29.546Z"
   },
   {
    "duration": 947,
    "start_time": "2023-03-03T16:44:30.598Z"
   },
   {
    "duration": 478,
    "start_time": "2023-03-03T16:44:31.547Z"
   },
   {
    "duration": 883,
    "start_time": "2023-03-03T16:44:32.027Z"
   },
   {
    "duration": 877,
    "start_time": "2023-03-03T16:44:32.911Z"
   },
   {
    "duration": 9,
    "start_time": "2023-03-03T16:44:33.790Z"
   },
   {
    "duration": 18,
    "start_time": "2023-03-03T16:44:33.800Z"
   },
   {
    "duration": 564,
    "start_time": "2023-03-03T16:44:33.820Z"
   },
   {
    "duration": 102,
    "start_time": "2023-03-03T16:44:34.385Z"
   },
   {
    "duration": 521,
    "start_time": "2023-03-03T16:44:34.488Z"
   },
   {
    "duration": 102,
    "start_time": "2023-03-03T16:44:35.014Z"
   },
   {
    "duration": 739,
    "start_time": "2023-03-03T16:44:35.118Z"
   },
   {
    "duration": 114,
    "start_time": "2023-03-03T16:44:35.859Z"
   },
   {
    "duration": 23,
    "start_time": "2023-03-03T16:44:35.975Z"
   },
   {
    "duration": 38,
    "start_time": "2023-03-03T16:44:36.001Z"
   },
   {
    "duration": 8,
    "start_time": "2023-03-03T16:44:36.041Z"
   },
   {
    "duration": 14,
    "start_time": "2023-03-03T16:44:36.052Z"
   },
   {
    "duration": 16,
    "start_time": "2023-03-03T16:44:36.068Z"
   },
   {
    "duration": 15552,
    "start_time": "2023-03-03T16:44:36.086Z"
   },
   {
    "duration": 23992,
    "start_time": "2023-03-03T16:44:51.640Z"
   },
   {
    "duration": 1783,
    "start_time": "2023-03-03T16:45:15.634Z"
   },
   {
    "duration": 2127,
    "start_time": "2023-03-03T16:45:17.419Z"
   },
   {
    "duration": 0,
    "start_time": "2023-03-03T16:45:19.547Z"
   },
   {
    "duration": 10,
    "start_time": "2023-03-03T16:51:28.615Z"
   },
   {
    "duration": 9,
    "start_time": "2023-03-03T16:51:43.898Z"
   },
   {
    "duration": 12,
    "start_time": "2023-03-03T16:52:23.144Z"
   },
   {
    "duration": 7,
    "start_time": "2023-03-03T16:54:00.174Z"
   },
   {
    "duration": 6,
    "start_time": "2023-03-03T16:54:12.196Z"
   },
   {
    "duration": 5,
    "start_time": "2023-03-03T16:54:50.478Z"
   },
   {
    "duration": 4,
    "start_time": "2023-03-03T16:55:03.399Z"
   },
   {
    "duration": 4,
    "start_time": "2023-03-03T16:55:04.400Z"
   },
   {
    "duration": 3,
    "start_time": "2023-03-03T16:55:14.635Z"
   },
   {
    "duration": 5,
    "start_time": "2023-03-03T16:55:15.546Z"
   },
   {
    "duration": 73,
    "start_time": "2023-03-03T16:56:00.878Z"
   },
   {
    "duration": 5,
    "start_time": "2023-03-03T16:56:08.485Z"
   },
   {
    "duration": 4,
    "start_time": "2023-03-03T16:56:33.685Z"
   },
   {
    "duration": 5,
    "start_time": "2023-03-03T16:56:44.031Z"
   },
   {
    "duration": 4,
    "start_time": "2023-03-03T16:57:00.587Z"
   },
   {
    "duration": 9,
    "start_time": "2023-03-03T16:57:02.721Z"
   },
   {
    "duration": 97,
    "start_time": "2023-03-03T17:20:26.299Z"
   },
   {
    "duration": 5,
    "start_time": "2023-03-03T17:20:33.542Z"
   },
   {
    "duration": 4,
    "start_time": "2023-03-03T17:20:34.790Z"
   },
   {
    "duration": 9,
    "start_time": "2023-03-03T17:20:35.682Z"
   },
   {
    "duration": 19672,
    "start_time": "2023-03-03T17:21:00.219Z"
   },
   {
    "duration": 2549,
    "start_time": "2023-03-03T17:21:29.797Z"
   },
   {
    "duration": 12,
    "start_time": "2023-03-03T17:21:54.100Z"
   },
   {
    "duration": 648,
    "start_time": "2023-03-03T17:22:09.527Z"
   },
   {
    "duration": 1348,
    "start_time": "2023-03-03T17:22:20.313Z"
   },
   {
    "duration": 706,
    "start_time": "2023-03-03T17:22:21.663Z"
   },
   {
    "duration": 3,
    "start_time": "2023-03-03T17:22:22.371Z"
   },
   {
    "duration": 397,
    "start_time": "2023-03-03T17:22:22.376Z"
   },
   {
    "duration": 189,
    "start_time": "2023-03-03T17:22:22.775Z"
   },
   {
    "duration": 397,
    "start_time": "2023-03-03T17:22:22.965Z"
   },
   {
    "duration": 3,
    "start_time": "2023-03-03T17:22:23.363Z"
   },
   {
    "duration": 7,
    "start_time": "2023-03-03T17:22:23.367Z"
   },
   {
    "duration": 9,
    "start_time": "2023-03-03T17:22:23.376Z"
   },
   {
    "duration": 18,
    "start_time": "2023-03-03T17:22:23.386Z"
   },
   {
    "duration": 19,
    "start_time": "2023-03-03T17:22:23.405Z"
   },
   {
    "duration": 30,
    "start_time": "2023-03-03T17:22:23.426Z"
   },
   {
    "duration": 15,
    "start_time": "2023-03-03T17:22:23.458Z"
   },
   {
    "duration": 30,
    "start_time": "2023-03-03T17:22:23.476Z"
   },
   {
    "duration": 1023,
    "start_time": "2023-03-03T17:22:23.507Z"
   },
   {
    "duration": 1064,
    "start_time": "2023-03-03T17:22:24.532Z"
   },
   {
    "duration": 1014,
    "start_time": "2023-03-03T17:22:25.598Z"
   },
   {
    "duration": 617,
    "start_time": "2023-03-03T17:22:26.624Z"
   },
   {
    "duration": 758,
    "start_time": "2023-03-03T17:22:27.243Z"
   },
   {
    "duration": 888,
    "start_time": "2023-03-03T17:22:28.002Z"
   },
   {
    "duration": 9,
    "start_time": "2023-03-03T17:22:28.892Z"
   },
   {
    "duration": 27,
    "start_time": "2023-03-03T17:22:28.902Z"
   },
   {
    "duration": 598,
    "start_time": "2023-03-03T17:22:28.931Z"
   },
   {
    "duration": 526,
    "start_time": "2023-03-03T17:22:29.531Z"
   },
   {
    "duration": 709,
    "start_time": "2023-03-03T17:22:30.058Z"
   },
   {
    "duration": 20,
    "start_time": "2023-03-03T17:22:30.769Z"
   },
   {
    "duration": 56,
    "start_time": "2023-03-03T17:22:30.790Z"
   },
   {
    "duration": 48,
    "start_time": "2023-03-03T17:22:30.848Z"
   },
   {
    "duration": 77,
    "start_time": "2023-03-03T17:22:30.898Z"
   },
   {
    "duration": 29,
    "start_time": "2023-03-03T17:22:30.977Z"
   },
   {
    "duration": 29425,
    "start_time": "2023-03-03T17:22:31.008Z"
   },
   {
    "duration": 42223,
    "start_time": "2023-03-03T17:23:00.435Z"
   },
   {
    "duration": 667,
    "start_time": "2023-03-03T17:23:42.659Z"
   },
   {
    "duration": 0,
    "start_time": "2023-03-03T17:23:43.327Z"
   },
   {
    "duration": 0,
    "start_time": "2023-03-03T17:23:43.329Z"
   },
   {
    "duration": 3133,
    "start_time": "2023-03-03T17:24:01.970Z"
   },
   {
    "duration": 23,
    "start_time": "2023-03-03T17:24:21.582Z"
   },
   {
    "duration": 1486,
    "start_time": "2023-03-03T17:24:31.007Z"
   },
   {
    "duration": 709,
    "start_time": "2023-03-03T17:24:32.495Z"
   },
   {
    "duration": 11,
    "start_time": "2023-03-03T17:24:33.206Z"
   },
   {
    "duration": 421,
    "start_time": "2023-03-03T17:24:33.218Z"
   },
   {
    "duration": 186,
    "start_time": "2023-03-03T17:24:33.641Z"
   },
   {
    "duration": 380,
    "start_time": "2023-03-03T17:24:33.831Z"
   },
   {
    "duration": 10,
    "start_time": "2023-03-03T17:24:34.213Z"
   },
   {
    "duration": 19,
    "start_time": "2023-03-03T17:24:34.226Z"
   },
   {
    "duration": 7,
    "start_time": "2023-03-03T17:24:34.247Z"
   },
   {
    "duration": 16,
    "start_time": "2023-03-03T17:24:34.256Z"
   },
   {
    "duration": 18,
    "start_time": "2023-03-03T17:24:34.273Z"
   },
   {
    "duration": 17,
    "start_time": "2023-03-03T17:24:34.293Z"
   },
   {
    "duration": 25,
    "start_time": "2023-03-03T17:24:34.312Z"
   },
   {
    "duration": 20,
    "start_time": "2023-03-03T17:24:34.341Z"
   },
   {
    "duration": 1081,
    "start_time": "2023-03-03T17:24:34.362Z"
   },
   {
    "duration": 1191,
    "start_time": "2023-03-03T17:24:35.445Z"
   },
   {
    "duration": 964,
    "start_time": "2023-03-03T17:24:36.638Z"
   },
   {
    "duration": 664,
    "start_time": "2023-03-03T17:24:37.604Z"
   },
   {
    "duration": 815,
    "start_time": "2023-03-03T17:24:38.270Z"
   },
   {
    "duration": 984,
    "start_time": "2023-03-03T17:24:39.086Z"
   },
   {
    "duration": 9,
    "start_time": "2023-03-03T17:24:40.072Z"
   },
   {
    "duration": 61,
    "start_time": "2023-03-03T17:24:40.083Z"
   },
   {
    "duration": 608,
    "start_time": "2023-03-03T17:24:40.146Z"
   },
   {
    "duration": 575,
    "start_time": "2023-03-03T17:24:40.756Z"
   },
   {
    "duration": 736,
    "start_time": "2023-03-03T17:24:41.333Z"
   },
   {
    "duration": 24,
    "start_time": "2023-03-03T17:24:42.070Z"
   },
   {
    "duration": 40,
    "start_time": "2023-03-03T17:24:42.095Z"
   },
   {
    "duration": 5,
    "start_time": "2023-03-03T17:24:42.136Z"
   },
   {
    "duration": 9,
    "start_time": "2023-03-03T17:24:42.142Z"
   },
   {
    "duration": 11,
    "start_time": "2023-03-03T17:24:42.152Z"
   },
   {
    "duration": 20828,
    "start_time": "2023-03-03T17:24:42.165Z"
   },
   {
    "duration": 25727,
    "start_time": "2023-03-03T17:25:02.996Z"
   },
   {
    "duration": 275,
    "start_time": "2023-03-03T17:25:28.730Z"
   },
   {
    "duration": 0,
    "start_time": "2023-03-03T17:25:29.020Z"
   },
   {
    "duration": 0,
    "start_time": "2023-03-03T17:25:29.021Z"
   },
   {
    "duration": 4,
    "start_time": "2023-03-03T17:27:24.866Z"
   },
   {
    "duration": 5,
    "start_time": "2023-03-03T17:27:32.088Z"
   },
   {
    "duration": 313,
    "start_time": "2023-03-03T17:29:40.882Z"
   },
   {
    "duration": 69,
    "start_time": "2023-03-03T17:31:29.987Z"
   },
   {
    "duration": 464,
    "start_time": "2023-03-03T17:32:00.799Z"
   },
   {
    "duration": 1498,
    "start_time": "2023-03-03T17:33:31.931Z"
   },
   {
    "duration": 1323,
    "start_time": "2023-03-03T17:33:39.374Z"
   },
   {
    "duration": 1277,
    "start_time": "2023-03-03T17:34:57.482Z"
   },
   {
    "duration": 23,
    "start_time": "2023-03-03T17:42:37.647Z"
   },
   {
    "duration": 21,
    "start_time": "2023-03-03T17:43:16.920Z"
   },
   {
    "duration": 2574,
    "start_time": "2023-03-03T17:45:01.909Z"
   },
   {
    "duration": 9,
    "start_time": "2023-03-03T17:45:38.171Z"
   },
   {
    "duration": 4,
    "start_time": "2023-03-03T18:00:32.801Z"
   },
   {
    "duration": 5,
    "start_time": "2023-03-03T18:00:40.626Z"
   },
   {
    "duration": 1505,
    "start_time": "2023-03-04T07:47:05.615Z"
   },
   {
    "duration": 1781,
    "start_time": "2023-03-04T07:47:07.122Z"
   },
   {
    "duration": 3,
    "start_time": "2023-03-04T07:47:08.905Z"
   },
   {
    "duration": 358,
    "start_time": "2023-03-04T07:47:08.910Z"
   },
   {
    "duration": 171,
    "start_time": "2023-03-04T07:47:09.269Z"
   },
   {
    "duration": 351,
    "start_time": "2023-03-04T07:47:09.442Z"
   },
   {
    "duration": 2,
    "start_time": "2023-03-04T07:47:09.795Z"
   },
   {
    "duration": 8,
    "start_time": "2023-03-04T07:47:09.799Z"
   },
   {
    "duration": 5,
    "start_time": "2023-03-04T07:47:09.808Z"
   },
   {
    "duration": 10,
    "start_time": "2023-03-04T07:47:09.815Z"
   },
   {
    "duration": 14,
    "start_time": "2023-03-04T07:47:09.840Z"
   },
   {
    "duration": 6,
    "start_time": "2023-03-04T07:47:09.855Z"
   },
   {
    "duration": 5,
    "start_time": "2023-03-04T07:47:09.863Z"
   },
   {
    "duration": 17,
    "start_time": "2023-03-04T07:47:09.870Z"
   },
   {
    "duration": 1153,
    "start_time": "2023-03-04T07:47:09.889Z"
   },
   {
    "duration": 1186,
    "start_time": "2023-03-04T07:47:11.044Z"
   },
   {
    "duration": 1205,
    "start_time": "2023-03-04T07:47:12.232Z"
   },
   {
    "duration": 460,
    "start_time": "2023-03-04T07:47:13.439Z"
   },
   {
    "duration": 781,
    "start_time": "2023-03-04T07:47:13.901Z"
   },
   {
    "duration": 671,
    "start_time": "2023-03-04T07:47:14.683Z"
   },
   {
    "duration": 8,
    "start_time": "2023-03-04T07:47:15.355Z"
   },
   {
    "duration": 11,
    "start_time": "2023-03-04T07:47:15.365Z"
   },
   {
    "duration": 607,
    "start_time": "2023-03-04T07:47:15.377Z"
   },
   {
    "duration": 493,
    "start_time": "2023-03-04T07:47:15.985Z"
   },
   {
    "duration": 514,
    "start_time": "2023-03-04T07:47:16.479Z"
   },
   {
    "duration": 18,
    "start_time": "2023-03-04T07:47:16.994Z"
   },
   {
    "duration": 36,
    "start_time": "2023-03-04T07:47:17.013Z"
   },
   {
    "duration": 77,
    "start_time": "2023-03-04T07:47:17.052Z"
   },
   {
    "duration": 0,
    "start_time": "2023-03-04T07:47:17.130Z"
   },
   {
    "duration": 0,
    "start_time": "2023-03-04T07:47:17.131Z"
   },
   {
    "duration": 0,
    "start_time": "2023-03-04T07:47:17.132Z"
   },
   {
    "duration": 0,
    "start_time": "2023-03-04T07:47:17.133Z"
   },
   {
    "duration": 0,
    "start_time": "2023-03-04T07:47:17.134Z"
   },
   {
    "duration": 0,
    "start_time": "2023-03-04T07:47:17.135Z"
   },
   {
    "duration": 0,
    "start_time": "2023-03-04T07:47:17.136Z"
   },
   {
    "duration": 0,
    "start_time": "2023-03-04T07:47:17.137Z"
   },
   {
    "duration": 7,
    "start_time": "2023-03-04T08:04:15.363Z"
   },
   {
    "duration": 106,
    "start_time": "2023-03-04T08:04:19.131Z"
   },
   {
    "duration": 8,
    "start_time": "2023-03-04T08:04:24.976Z"
   },
   {
    "duration": 3,
    "start_time": "2023-03-04T08:04:53.727Z"
   },
   {
    "duration": 2,
    "start_time": "2023-03-04T08:04:57.026Z"
   },
   {
    "duration": 9,
    "start_time": "2023-03-04T08:04:58.120Z"
   },
   {
    "duration": 14535,
    "start_time": "2023-03-04T08:04:59.031Z"
   },
   {
    "duration": 4,
    "start_time": "2023-03-04T08:11:21.982Z"
   },
   {
    "duration": 9,
    "start_time": "2023-03-04T08:12:07.495Z"
   },
   {
    "duration": 4,
    "start_time": "2023-03-04T08:13:33.737Z"
   },
   {
    "duration": 12,
    "start_time": "2023-03-04T08:13:51.895Z"
   },
   {
    "duration": 196,
    "start_time": "2023-03-04T08:18:04.584Z"
   },
   {
    "duration": 503,
    "start_time": "2023-03-04T08:18:36.774Z"
   },
   {
    "duration": 853,
    "start_time": "2023-03-04T08:19:02.600Z"
   },
   {
    "duration": 952,
    "start_time": "2023-03-04T08:19:57.605Z"
   },
   {
    "duration": 866,
    "start_time": "2023-03-04T08:20:16.995Z"
   },
   {
    "duration": 1007,
    "start_time": "2023-03-04T08:22:58.683Z"
   },
   {
    "duration": 922,
    "start_time": "2023-03-04T08:23:15.408Z"
   },
   {
    "duration": 994,
    "start_time": "2023-03-04T08:23:21.580Z"
   },
   {
    "duration": 938,
    "start_time": "2023-03-04T08:23:29.914Z"
   },
   {
    "duration": 1024,
    "start_time": "2023-03-04T08:23:43.408Z"
   },
   {
    "duration": 1084,
    "start_time": "2023-03-04T08:24:03.624Z"
   },
   {
    "duration": 926,
    "start_time": "2023-03-04T08:24:23.528Z"
   },
   {
    "duration": 1349,
    "start_time": "2023-03-04T08:28:13.789Z"
   },
   {
    "duration": 681,
    "start_time": "2023-03-04T08:28:15.140Z"
   },
   {
    "duration": 3,
    "start_time": "2023-03-04T08:28:15.823Z"
   },
   {
    "duration": 384,
    "start_time": "2023-03-04T08:28:15.828Z"
   },
   {
    "duration": 183,
    "start_time": "2023-03-04T08:28:16.215Z"
   },
   {
    "duration": 376,
    "start_time": "2023-03-04T08:28:16.400Z"
   },
   {
    "duration": 3,
    "start_time": "2023-03-04T08:28:16.778Z"
   },
   {
    "duration": 8,
    "start_time": "2023-03-04T08:28:16.783Z"
   },
   {
    "duration": 4,
    "start_time": "2023-03-04T08:28:16.792Z"
   },
   {
    "duration": 8,
    "start_time": "2023-03-04T08:28:16.798Z"
   },
   {
    "duration": 41,
    "start_time": "2023-03-04T08:28:16.807Z"
   },
   {
    "duration": 7,
    "start_time": "2023-03-04T08:28:16.850Z"
   },
   {
    "duration": 20,
    "start_time": "2023-03-04T08:28:16.858Z"
   },
   {
    "duration": 17,
    "start_time": "2023-03-04T08:28:16.881Z"
   },
   {
    "duration": 1236,
    "start_time": "2023-03-04T08:28:16.900Z"
   },
   {
    "duration": 1215,
    "start_time": "2023-03-04T08:28:18.139Z"
   },
   {
    "duration": 1159,
    "start_time": "2023-03-04T08:28:19.356Z"
   },
   {
    "duration": 422,
    "start_time": "2023-03-04T08:28:20.517Z"
   },
   {
    "duration": 1020,
    "start_time": "2023-03-04T08:28:20.941Z"
   },
   {
    "duration": 7,
    "start_time": "2023-03-04T08:28:21.963Z"
   },
   {
    "duration": 8,
    "start_time": "2023-03-04T08:28:21.972Z"
   },
   {
    "duration": 526,
    "start_time": "2023-03-04T08:28:21.981Z"
   },
   {
    "duration": 529,
    "start_time": "2023-03-04T08:28:22.509Z"
   },
   {
    "duration": 632,
    "start_time": "2023-03-04T08:28:23.039Z"
   },
   {
    "duration": 20,
    "start_time": "2023-03-04T08:28:23.673Z"
   },
   {
    "duration": 21,
    "start_time": "2023-03-04T08:28:23.694Z"
   },
   {
    "duration": 5,
    "start_time": "2023-03-04T08:28:23.716Z"
   },
   {
    "duration": 8,
    "start_time": "2023-03-04T08:28:23.740Z"
   },
   {
    "duration": 109,
    "start_time": "2023-03-04T08:28:23.749Z"
   },
   {
    "duration": 4,
    "start_time": "2023-03-04T08:29:00.917Z"
   },
   {
    "duration": 21,
    "start_time": "2023-03-04T08:29:10.232Z"
   },
   {
    "duration": 5,
    "start_time": "2023-03-04T08:29:43.180Z"
   },
   {
    "duration": 3,
    "start_time": "2023-03-04T08:30:15.502Z"
   },
   {
    "duration": 9,
    "start_time": "2023-03-04T08:30:32.626Z"
   },
   {
    "duration": 14,
    "start_time": "2023-03-04T08:31:37.509Z"
   },
   {
    "duration": 860,
    "start_time": "2023-03-04T08:31:44.680Z"
   },
   {
    "duration": 820,
    "start_time": "2023-03-04T08:42:22.829Z"
   },
   {
    "duration": 1070,
    "start_time": "2023-03-04T08:43:01.880Z"
   },
   {
    "duration": 40904,
    "start_time": "2023-03-04T08:45:37.076Z"
   },
   {
    "duration": 701178,
    "start_time": "2023-03-04T08:46:46.168Z"
   },
   {
    "duration": 41127,
    "start_time": "2023-03-04T08:58:27.347Z"
   },
   {
    "duration": 1306,
    "start_time": "2023-03-04T09:02:46.489Z"
   },
   {
    "duration": 629,
    "start_time": "2023-03-04T09:02:47.797Z"
   },
   {
    "duration": 11,
    "start_time": "2023-03-04T09:02:48.429Z"
   },
   {
    "duration": 367,
    "start_time": "2023-03-04T09:02:48.442Z"
   },
   {
    "duration": 175,
    "start_time": "2023-03-04T09:02:48.810Z"
   },
   {
    "duration": 351,
    "start_time": "2023-03-04T09:02:48.987Z"
   },
   {
    "duration": 3,
    "start_time": "2023-03-04T09:02:49.340Z"
   },
   {
    "duration": 12,
    "start_time": "2023-03-04T09:02:49.344Z"
   },
   {
    "duration": 111,
    "start_time": "2023-03-04T09:02:49.357Z"
   },
   {
    "duration": 0,
    "start_time": "2023-03-04T09:02:49.470Z"
   },
   {
    "duration": 0,
    "start_time": "2023-03-04T09:02:49.471Z"
   },
   {
    "duration": 0,
    "start_time": "2023-03-04T09:02:49.473Z"
   },
   {
    "duration": 0,
    "start_time": "2023-03-04T09:02:49.474Z"
   },
   {
    "duration": 0,
    "start_time": "2023-03-04T09:02:49.476Z"
   },
   {
    "duration": 1,
    "start_time": "2023-03-04T09:02:49.476Z"
   },
   {
    "duration": 0,
    "start_time": "2023-03-04T09:02:49.477Z"
   },
   {
    "duration": 0,
    "start_time": "2023-03-04T09:02:49.479Z"
   },
   {
    "duration": 0,
    "start_time": "2023-03-04T09:02:49.480Z"
   },
   {
    "duration": 0,
    "start_time": "2023-03-04T09:02:49.481Z"
   },
   {
    "duration": 0,
    "start_time": "2023-03-04T09:02:49.482Z"
   },
   {
    "duration": 0,
    "start_time": "2023-03-04T09:02:49.482Z"
   },
   {
    "duration": 0,
    "start_time": "2023-03-04T09:02:49.483Z"
   },
   {
    "duration": 0,
    "start_time": "2023-03-04T09:02:49.485Z"
   },
   {
    "duration": 0,
    "start_time": "2023-03-04T09:02:49.485Z"
   },
   {
    "duration": 0,
    "start_time": "2023-03-04T09:02:49.486Z"
   },
   {
    "duration": 0,
    "start_time": "2023-03-04T09:02:49.487Z"
   },
   {
    "duration": 0,
    "start_time": "2023-03-04T09:02:49.488Z"
   },
   {
    "duration": 0,
    "start_time": "2023-03-04T09:02:49.489Z"
   },
   {
    "duration": 0,
    "start_time": "2023-03-04T09:02:49.490Z"
   },
   {
    "duration": 0,
    "start_time": "2023-03-04T09:02:49.491Z"
   },
   {
    "duration": 0,
    "start_time": "2023-03-04T09:02:49.492Z"
   },
   {
    "duration": 0,
    "start_time": "2023-03-04T09:02:49.493Z"
   },
   {
    "duration": 0,
    "start_time": "2023-03-04T09:02:49.493Z"
   },
   {
    "duration": 0,
    "start_time": "2023-03-04T09:02:49.494Z"
   },
   {
    "duration": 0,
    "start_time": "2023-03-04T09:02:49.495Z"
   },
   {
    "duration": 0,
    "start_time": "2023-03-04T09:02:49.540Z"
   },
   {
    "duration": 5,
    "start_time": "2023-03-04T09:04:10.368Z"
   },
   {
    "duration": 1388,
    "start_time": "2023-03-04T09:04:17.079Z"
   },
   {
    "duration": 696,
    "start_time": "2023-03-04T09:04:18.474Z"
   },
   {
    "duration": 5,
    "start_time": "2023-03-04T09:04:19.172Z"
   },
   {
    "duration": 402,
    "start_time": "2023-03-04T09:04:19.178Z"
   },
   {
    "duration": 195,
    "start_time": "2023-03-04T09:04:19.582Z"
   },
   {
    "duration": 374,
    "start_time": "2023-03-04T09:04:19.779Z"
   },
   {
    "duration": 5,
    "start_time": "2023-03-04T09:04:20.154Z"
   },
   {
    "duration": 25,
    "start_time": "2023-03-04T09:04:20.160Z"
   },
   {
    "duration": 5,
    "start_time": "2023-03-04T09:04:20.187Z"
   },
   {
    "duration": 9,
    "start_time": "2023-03-04T09:04:20.194Z"
   },
   {
    "duration": 14,
    "start_time": "2023-03-04T09:04:20.205Z"
   },
   {
    "duration": 5,
    "start_time": "2023-03-04T09:04:20.221Z"
   },
   {
    "duration": 14,
    "start_time": "2023-03-04T09:04:20.228Z"
   },
   {
    "duration": 41,
    "start_time": "2023-03-04T09:04:20.244Z"
   },
   {
    "duration": 1287,
    "start_time": "2023-03-04T09:04:20.286Z"
   },
   {
    "duration": 1446,
    "start_time": "2023-03-04T09:04:21.574Z"
   },
   {
    "duration": 1370,
    "start_time": "2023-03-04T09:04:23.021Z"
   },
   {
    "duration": 485,
    "start_time": "2023-03-04T09:04:24.394Z"
   },
   {
    "duration": 1156,
    "start_time": "2023-03-04T09:04:24.881Z"
   },
   {
    "duration": 27,
    "start_time": "2023-03-04T09:04:26.039Z"
   },
   {
    "duration": 18,
    "start_time": "2023-03-04T09:04:26.068Z"
   },
   {
    "duration": 593,
    "start_time": "2023-03-04T09:04:26.088Z"
   },
   {
    "duration": 599,
    "start_time": "2023-03-04T09:04:26.682Z"
   },
   {
    "duration": 693,
    "start_time": "2023-03-04T09:04:27.282Z"
   },
   {
    "duration": 19,
    "start_time": "2023-03-04T09:04:27.977Z"
   },
   {
    "duration": 23,
    "start_time": "2023-03-04T09:04:27.997Z"
   },
   {
    "duration": 4,
    "start_time": "2023-03-04T09:04:28.021Z"
   },
   {
    "duration": 28,
    "start_time": "2023-03-04T09:04:28.027Z"
   },
   {
    "duration": 30,
    "start_time": "2023-03-04T09:04:28.070Z"
   },
   {
    "duration": 2,
    "start_time": "2023-03-04T09:04:28.102Z"
   },
   {
    "duration": 4152,
    "start_time": "2023-03-04T09:04:28.106Z"
   },
   {
    "duration": 43793,
    "start_time": "2023-03-04T09:04:32.261Z"
   },
   {
    "duration": 2789,
    "start_time": "2023-03-04T09:05:16.056Z"
   },
   {
    "duration": 1500,
    "start_time": "2023-03-04T09:07:15.304Z"
   },
   {
    "duration": 745,
    "start_time": "2023-03-04T09:07:16.806Z"
   },
   {
    "duration": 3,
    "start_time": "2023-03-04T09:07:17.553Z"
   },
   {
    "duration": 439,
    "start_time": "2023-03-04T09:07:17.558Z"
   },
   {
    "duration": 212,
    "start_time": "2023-03-04T09:07:18.000Z"
   },
   {
    "duration": 407,
    "start_time": "2023-03-04T09:07:18.214Z"
   },
   {
    "duration": 3,
    "start_time": "2023-03-04T09:07:18.623Z"
   },
   {
    "duration": 25,
    "start_time": "2023-03-04T09:07:18.628Z"
   },
   {
    "duration": 28,
    "start_time": "2023-03-04T09:07:18.658Z"
   },
   {
    "duration": 9,
    "start_time": "2023-03-04T09:07:18.687Z"
   },
   {
    "duration": 22,
    "start_time": "2023-03-04T09:07:18.697Z"
   },
   {
    "duration": 8,
    "start_time": "2023-03-04T09:07:18.721Z"
   },
   {
    "duration": 6,
    "start_time": "2023-03-04T09:07:18.731Z"
   },
   {
    "duration": 32,
    "start_time": "2023-03-04T09:07:18.739Z"
   },
   {
    "duration": 1472,
    "start_time": "2023-03-04T09:07:18.774Z"
   },
   {
    "duration": 1377,
    "start_time": "2023-03-04T09:07:20.250Z"
   },
   {
    "duration": 1447,
    "start_time": "2023-03-04T09:07:21.629Z"
   },
   {
    "duration": 513,
    "start_time": "2023-03-04T09:07:23.078Z"
   },
   {
    "duration": 1164,
    "start_time": "2023-03-04T09:07:23.593Z"
   },
   {
    "duration": 10,
    "start_time": "2023-03-04T09:07:24.767Z"
   },
   {
    "duration": 12,
    "start_time": "2023-03-04T09:07:24.778Z"
   },
   {
    "duration": 612,
    "start_time": "2023-03-04T09:07:24.791Z"
   },
   {
    "duration": 582,
    "start_time": "2023-03-04T09:07:25.405Z"
   },
   {
    "duration": 790,
    "start_time": "2023-03-04T09:07:25.993Z"
   },
   {
    "duration": 21,
    "start_time": "2023-03-04T09:07:26.785Z"
   },
   {
    "duration": 42,
    "start_time": "2023-03-04T09:07:26.807Z"
   },
   {
    "duration": 16,
    "start_time": "2023-03-04T09:07:26.853Z"
   },
   {
    "duration": 35,
    "start_time": "2023-03-04T09:07:26.871Z"
   },
   {
    "duration": 25,
    "start_time": "2023-03-04T09:07:26.908Z"
   },
   {
    "duration": 2,
    "start_time": "2023-03-04T09:07:26.936Z"
   },
   {
    "duration": 4008,
    "start_time": "2023-03-04T09:07:26.940Z"
   },
   {
    "duration": 43617,
    "start_time": "2023-03-04T09:07:30.950Z"
   },
   {
    "duration": 2750,
    "start_time": "2023-03-04T09:08:14.569Z"
   },
   {
    "duration": 1379,
    "start_time": "2023-03-04T09:09:22.670Z"
   },
   {
    "duration": 687,
    "start_time": "2023-03-04T09:09:24.056Z"
   },
   {
    "duration": 11,
    "start_time": "2023-03-04T09:09:24.747Z"
   },
   {
    "duration": 410,
    "start_time": "2023-03-04T09:09:24.761Z"
   },
   {
    "duration": 209,
    "start_time": "2023-03-04T09:09:25.174Z"
   },
   {
    "duration": 391,
    "start_time": "2023-03-04T09:09:25.384Z"
   },
   {
    "duration": 3,
    "start_time": "2023-03-04T09:09:25.777Z"
   },
   {
    "duration": 10,
    "start_time": "2023-03-04T09:09:25.782Z"
   },
   {
    "duration": 5,
    "start_time": "2023-03-04T09:09:25.793Z"
   },
   {
    "duration": 11,
    "start_time": "2023-03-04T09:09:25.800Z"
   },
   {
    "duration": 36,
    "start_time": "2023-03-04T09:09:25.813Z"
   },
   {
    "duration": 9,
    "start_time": "2023-03-04T09:09:25.853Z"
   },
   {
    "duration": 4,
    "start_time": "2023-03-04T09:09:25.864Z"
   },
   {
    "duration": 17,
    "start_time": "2023-03-04T09:09:25.871Z"
   },
   {
    "duration": 1339,
    "start_time": "2023-03-04T09:09:25.890Z"
   },
   {
    "duration": 1352,
    "start_time": "2023-03-04T09:09:27.232Z"
   },
   {
    "duration": 1373,
    "start_time": "2023-03-04T09:09:28.586Z"
   },
   {
    "duration": 489,
    "start_time": "2023-03-04T09:09:29.960Z"
   },
   {
    "duration": 1256,
    "start_time": "2023-03-04T09:09:30.451Z"
   },
   {
    "duration": 9,
    "start_time": "2023-03-04T09:09:31.709Z"
   },
   {
    "duration": 48,
    "start_time": "2023-03-04T09:09:31.719Z"
   },
   {
    "duration": 572,
    "start_time": "2023-03-04T09:09:31.768Z"
   },
   {
    "duration": 625,
    "start_time": "2023-03-04T09:09:32.342Z"
   },
   {
    "duration": 700,
    "start_time": "2023-03-04T09:09:32.969Z"
   },
   {
    "duration": 22,
    "start_time": "2023-03-04T09:09:33.671Z"
   },
   {
    "duration": 25,
    "start_time": "2023-03-04T09:09:33.694Z"
   },
   {
    "duration": 27,
    "start_time": "2023-03-04T09:09:33.721Z"
   },
   {
    "duration": 24,
    "start_time": "2023-03-04T09:09:33.751Z"
   },
   {
    "duration": 36,
    "start_time": "2023-03-04T09:09:33.778Z"
   },
   {
    "duration": 4,
    "start_time": "2023-03-04T09:09:33.817Z"
   },
   {
    "duration": 2234,
    "start_time": "2023-03-04T09:09:33.823Z"
   },
   {
    "duration": 43245,
    "start_time": "2023-03-04T09:09:36.065Z"
   },
   {
    "duration": 2766,
    "start_time": "2023-03-04T09:10:19.312Z"
   },
   {
    "duration": 471252,
    "start_time": "2023-03-04T09:10:22.079Z"
   },
   {
    "duration": 0,
    "start_time": "2023-03-04T09:18:13.332Z"
   },
   {
    "duration": 0,
    "start_time": "2023-03-04T09:18:13.334Z"
   },
   {
    "duration": 10,
    "start_time": "2023-03-04T09:18:17.418Z"
   },
   {
    "duration": 1765,
    "start_time": "2023-03-04T09:18:40.083Z"
   },
   {
    "duration": 1813,
    "start_time": "2023-03-04T09:19:30.528Z"
   },
   {
    "duration": 1195,
    "start_time": "2023-03-04T09:20:14.549Z"
   },
   {
    "duration": 1253,
    "start_time": "2023-03-04T09:20:28.388Z"
   },
   {
    "duration": 1387,
    "start_time": "2023-03-04T09:21:00.404Z"
   },
   {
    "duration": 671,
    "start_time": "2023-03-04T09:21:01.794Z"
   },
   {
    "duration": 7,
    "start_time": "2023-03-04T09:21:02.471Z"
   },
   {
    "duration": 483,
    "start_time": "2023-03-04T09:21:02.480Z"
   },
   {
    "duration": 190,
    "start_time": "2023-03-04T09:21:02.965Z"
   },
   {
    "duration": 409,
    "start_time": "2023-03-04T09:21:03.157Z"
   },
   {
    "duration": 3,
    "start_time": "2023-03-04T09:21:03.567Z"
   },
   {
    "duration": 9,
    "start_time": "2023-03-04T09:21:03.572Z"
   },
   {
    "duration": 9,
    "start_time": "2023-03-04T09:21:03.582Z"
   },
   {
    "duration": 12,
    "start_time": "2023-03-04T09:21:03.592Z"
   },
   {
    "duration": 14,
    "start_time": "2023-03-04T09:21:03.606Z"
   },
   {
    "duration": 10,
    "start_time": "2023-03-04T09:21:03.643Z"
   },
   {
    "duration": 18,
    "start_time": "2023-03-04T09:21:03.657Z"
   },
   {
    "duration": 28,
    "start_time": "2023-03-04T09:21:03.678Z"
   },
   {
    "duration": 1385,
    "start_time": "2023-03-04T09:21:03.708Z"
   },
   {
    "duration": 1314,
    "start_time": "2023-03-04T09:21:05.095Z"
   },
   {
    "duration": 1369,
    "start_time": "2023-03-04T09:21:06.411Z"
   },
   {
    "duration": 478,
    "start_time": "2023-03-04T09:21:07.782Z"
   },
   {
    "duration": 1124,
    "start_time": "2023-03-04T09:21:08.262Z"
   },
   {
    "duration": 9,
    "start_time": "2023-03-04T09:21:09.388Z"
   },
   {
    "duration": 10,
    "start_time": "2023-03-04T09:21:09.399Z"
   },
   {
    "duration": 549,
    "start_time": "2023-03-04T09:21:09.410Z"
   },
   {
    "duration": 528,
    "start_time": "2023-03-04T09:21:09.961Z"
   },
   {
    "duration": 664,
    "start_time": "2023-03-04T09:21:10.491Z"
   },
   {
    "duration": 22,
    "start_time": "2023-03-04T09:21:11.157Z"
   },
   {
    "duration": 38,
    "start_time": "2023-03-04T09:21:11.180Z"
   },
   {
    "duration": 5,
    "start_time": "2023-03-04T09:21:11.219Z"
   },
   {
    "duration": 21,
    "start_time": "2023-03-04T09:21:11.225Z"
   },
   {
    "duration": 40,
    "start_time": "2023-03-04T09:21:11.248Z"
   },
   {
    "duration": 3,
    "start_time": "2023-03-04T09:21:11.290Z"
   },
   {
    "duration": 1286,
    "start_time": "2023-03-04T09:21:11.295Z"
   },
   {
    "duration": 41917,
    "start_time": "2023-03-04T09:21:12.583Z"
   },
   {
    "duration": 6231,
    "start_time": "2023-03-04T09:21:54.502Z"
   },
   {
    "duration": 860730,
    "start_time": "2023-03-04T09:22:00.735Z"
   },
   {
    "duration": 144234,
    "start_time": "2023-03-04T09:36:21.467Z"
   },
   {
    "duration": 5,
    "start_time": "2023-03-04T09:38:45.703Z"
   },
   {
    "duration": 54,
    "start_time": "2023-03-04T10:15:39.698Z"
   },
   {
    "duration": 130,
    "start_time": "2023-03-04T10:23:21.503Z"
   },
   {
    "duration": 5,
    "start_time": "2023-03-04T10:23:52.073Z"
   },
   {
    "duration": 18507,
    "start_time": "2023-03-04T10:24:00.070Z"
   },
   {
    "duration": 1401,
    "start_time": "2023-03-04T10:27:33.614Z"
   },
   {
    "duration": 639,
    "start_time": "2023-03-04T10:27:35.017Z"
   },
   {
    "duration": 5,
    "start_time": "2023-03-04T10:27:35.658Z"
   },
   {
    "duration": 384,
    "start_time": "2023-03-04T10:27:35.664Z"
   },
   {
    "duration": 182,
    "start_time": "2023-03-04T10:27:36.050Z"
   },
   {
    "duration": 389,
    "start_time": "2023-03-04T10:27:36.234Z"
   },
   {
    "duration": 3,
    "start_time": "2023-03-04T10:27:36.625Z"
   },
   {
    "duration": 7,
    "start_time": "2023-03-04T10:27:36.640Z"
   },
   {
    "duration": 8,
    "start_time": "2023-03-04T10:27:36.649Z"
   },
   {
    "duration": 7,
    "start_time": "2023-03-04T10:27:36.659Z"
   },
   {
    "duration": 14,
    "start_time": "2023-03-04T10:27:36.667Z"
   },
   {
    "duration": 6,
    "start_time": "2023-03-04T10:27:36.682Z"
   },
   {
    "duration": 3,
    "start_time": "2023-03-04T10:27:36.690Z"
   },
   {
    "duration": 51,
    "start_time": "2023-03-04T10:27:36.696Z"
   },
   {
    "duration": 1322,
    "start_time": "2023-03-04T10:27:36.749Z"
   },
   {
    "duration": 1393,
    "start_time": "2023-03-04T10:27:38.072Z"
   },
   {
    "duration": 1223,
    "start_time": "2023-03-04T10:27:39.467Z"
   },
   {
    "duration": 437,
    "start_time": "2023-03-04T10:27:40.692Z"
   },
   {
    "duration": 1129,
    "start_time": "2023-03-04T10:27:41.131Z"
   },
   {
    "duration": 8,
    "start_time": "2023-03-04T10:27:42.262Z"
   },
   {
    "duration": 7,
    "start_time": "2023-03-04T10:27:42.272Z"
   },
   {
    "duration": 697,
    "start_time": "2023-03-04T10:27:42.281Z"
   },
   {
    "duration": 599,
    "start_time": "2023-03-04T10:27:42.979Z"
   },
   {
    "duration": 666,
    "start_time": "2023-03-04T10:27:43.580Z"
   },
   {
    "duration": 20,
    "start_time": "2023-03-04T10:27:44.248Z"
   },
   {
    "duration": 21,
    "start_time": "2023-03-04T10:27:44.269Z"
   },
   {
    "duration": 4,
    "start_time": "2023-03-04T10:27:44.291Z"
   },
   {
    "duration": 9,
    "start_time": "2023-03-04T10:27:44.297Z"
   },
   {
    "duration": 48,
    "start_time": "2023-03-04T10:27:44.307Z"
   },
   {
    "duration": 2,
    "start_time": "2023-03-04T10:27:44.357Z"
   },
   {
    "duration": 1397,
    "start_time": "2023-03-04T10:27:44.360Z"
   },
   {
    "duration": 18595,
    "start_time": "2023-03-04T10:27:45.759Z"
   },
   {
    "duration": 24608,
    "start_time": "2023-03-04T10:28:04.356Z"
   },
   {
    "duration": 180,
    "start_time": "2023-03-04T10:28:28.966Z"
   },
   {
    "duration": 97,
    "start_time": "2023-03-04T10:28:29.150Z"
   },
   {
    "duration": 4,
    "start_time": "2023-03-04T10:29:20.675Z"
   },
   {
    "duration": 9,
    "start_time": "2023-03-04T10:29:22.094Z"
   },
   {
    "duration": 19,
    "start_time": "2023-03-04T10:29:22.717Z"
   },
   {
    "duration": 3,
    "start_time": "2023-03-04T10:29:23.372Z"
   },
   {
    "duration": 1280,
    "start_time": "2023-03-04T10:29:25.574Z"
   },
   {
    "duration": 18839,
    "start_time": "2023-03-04T10:29:29.296Z"
   },
   {
    "duration": 3,
    "start_time": "2023-03-04T10:30:08.679Z"
   },
   {
    "duration": 1054,
    "start_time": "2023-03-04T10:30:09.690Z"
   },
   {
    "duration": 15405,
    "start_time": "2023-03-04T10:31:10.662Z"
   },
   {
    "duration": 1126,
    "start_time": "2023-03-04T10:31:35.117Z"
   },
   {
    "duration": 24402,
    "start_time": "2023-03-04T10:31:52.912Z"
   },
   {
    "duration": 970,
    "start_time": "2023-03-04T10:33:09.589Z"
   },
   {
    "duration": 75142,
    "start_time": "2023-03-04T10:39:18.981Z"
   },
   {
    "duration": 1905,
    "start_time": "2023-03-04T10:41:37.587Z"
   },
   {
    "duration": 11248,
    "start_time": "2023-03-04T10:41:48.304Z"
   },
   {
    "duration": 173580,
    "start_time": "2023-03-04T10:42:41.355Z"
   },
   {
    "duration": 127,
    "start_time": "2023-03-04T10:56:42.107Z"
   },
   {
    "duration": 237039,
    "start_time": "2023-03-04T10:57:53.994Z"
   },
   {
    "duration": 656761,
    "start_time": "2023-03-04T11:01:54.973Z"
   },
   {
    "duration": 2010546,
    "start_time": "2023-03-04T11:13:14.119Z"
   },
   {
    "duration": 1413,
    "start_time": "2023-03-04T11:56:44.672Z"
   },
   {
    "duration": 659,
    "start_time": "2023-03-04T11:56:46.086Z"
   },
   {
    "duration": 4,
    "start_time": "2023-03-04T11:56:46.746Z"
   },
   {
    "duration": 399,
    "start_time": "2023-03-04T11:56:46.752Z"
   },
   {
    "duration": 200,
    "start_time": "2023-03-04T11:56:47.154Z"
   },
   {
    "duration": 404,
    "start_time": "2023-03-04T11:56:47.356Z"
   },
   {
    "duration": 3,
    "start_time": "2023-03-04T11:56:47.762Z"
   },
   {
    "duration": 11,
    "start_time": "2023-03-04T11:56:47.767Z"
   },
   {
    "duration": 4,
    "start_time": "2023-03-04T11:56:47.780Z"
   },
   {
    "duration": 8,
    "start_time": "2023-03-04T11:56:47.786Z"
   },
   {
    "duration": 14,
    "start_time": "2023-03-04T11:56:47.795Z"
   },
   {
    "duration": 34,
    "start_time": "2023-03-04T11:56:47.811Z"
   },
   {
    "duration": 10,
    "start_time": "2023-03-04T11:56:47.848Z"
   },
   {
    "duration": 13,
    "start_time": "2023-03-04T11:56:47.861Z"
   },
   {
    "duration": 1252,
    "start_time": "2023-03-04T11:56:47.875Z"
   },
   {
    "duration": 1273,
    "start_time": "2023-03-04T11:56:49.128Z"
   },
   {
    "duration": 1281,
    "start_time": "2023-03-04T11:56:50.403Z"
   },
   {
    "duration": 428,
    "start_time": "2023-03-04T11:56:51.685Z"
   },
   {
    "duration": 1127,
    "start_time": "2023-03-04T11:56:52.115Z"
   },
   {
    "duration": 10,
    "start_time": "2023-03-04T11:56:53.244Z"
   },
   {
    "duration": 21,
    "start_time": "2023-03-04T11:56:53.255Z"
   },
   {
    "duration": 549,
    "start_time": "2023-03-04T11:56:53.278Z"
   },
   {
    "duration": 517,
    "start_time": "2023-03-04T11:56:53.829Z"
   },
   {
    "duration": 635,
    "start_time": "2023-03-04T11:56:54.348Z"
   },
   {
    "duration": 19,
    "start_time": "2023-03-04T11:56:54.984Z"
   },
   {
    "duration": 37,
    "start_time": "2023-03-04T11:56:55.005Z"
   },
   {
    "duration": 4,
    "start_time": "2023-03-04T11:56:55.044Z"
   },
   {
    "duration": 14,
    "start_time": "2023-03-04T11:56:55.050Z"
   },
   {
    "duration": 12,
    "start_time": "2023-03-04T11:56:55.065Z"
   },
   {
    "duration": 26,
    "start_time": "2023-03-04T11:56:55.079Z"
   },
   {
    "duration": 3,
    "start_time": "2023-03-04T11:56:55.107Z"
   },
   {
    "duration": 1947,
    "start_time": "2023-03-04T11:56:55.112Z"
   },
   {
    "duration": 13444,
    "start_time": "2023-03-04T11:56:57.061Z"
   },
   {
    "duration": 191,
    "start_time": "2023-03-04T11:57:10.507Z"
   },
   {
    "duration": 11434,
    "start_time": "2023-03-04T11:57:10.700Z"
   },
   {
    "duration": 0,
    "start_time": "2023-03-04T11:57:22.136Z"
   },
   {
    "duration": 30478,
    "start_time": "2023-03-04T11:57:57.533Z"
   },
   {
    "duration": 1371,
    "start_time": "2023-03-04T11:58:37.170Z"
   },
   {
    "duration": 4,
    "start_time": "2023-03-04T11:59:09.211Z"
   },
   {
    "duration": 1564,
    "start_time": "2023-03-04T11:59:15.679Z"
   },
   {
    "duration": 13118,
    "start_time": "2023-03-04T11:59:27.142Z"
   },
   {
    "duration": 1370,
    "start_time": "2023-03-04T12:00:05.053Z"
   },
   {
    "duration": 643,
    "start_time": "2023-03-04T12:00:06.425Z"
   },
   {
    "duration": 3,
    "start_time": "2023-03-04T12:00:07.070Z"
   },
   {
    "duration": 393,
    "start_time": "2023-03-04T12:00:07.075Z"
   },
   {
    "duration": 176,
    "start_time": "2023-03-04T12:00:07.470Z"
   },
   {
    "duration": 363,
    "start_time": "2023-03-04T12:00:07.648Z"
   },
   {
    "duration": 2,
    "start_time": "2023-03-04T12:00:08.013Z"
   },
   {
    "duration": 9,
    "start_time": "2023-03-04T12:00:08.017Z"
   },
   {
    "duration": 13,
    "start_time": "2023-03-04T12:00:08.028Z"
   },
   {
    "duration": 21,
    "start_time": "2023-03-04T12:00:08.042Z"
   },
   {
    "duration": 18,
    "start_time": "2023-03-04T12:00:08.065Z"
   },
   {
    "duration": 6,
    "start_time": "2023-03-04T12:00:08.084Z"
   },
   {
    "duration": 3,
    "start_time": "2023-03-04T12:00:08.092Z"
   },
   {
    "duration": 14,
    "start_time": "2023-03-04T12:00:08.098Z"
   },
   {
    "duration": 1200,
    "start_time": "2023-03-04T12:00:08.113Z"
   },
   {
    "duration": 1200,
    "start_time": "2023-03-04T12:00:09.314Z"
   },
   {
    "duration": 1215,
    "start_time": "2023-03-04T12:00:10.515Z"
   },
   {
    "duration": 437,
    "start_time": "2023-03-04T12:00:11.731Z"
   },
   {
    "duration": 1170,
    "start_time": "2023-03-04T12:00:12.170Z"
   },
   {
    "duration": 10,
    "start_time": "2023-03-04T12:00:13.342Z"
   },
   {
    "duration": 8,
    "start_time": "2023-03-04T12:00:13.353Z"
   },
   {
    "duration": 546,
    "start_time": "2023-03-04T12:00:13.363Z"
   },
   {
    "duration": 519,
    "start_time": "2023-03-04T12:00:13.911Z"
   },
   {
    "duration": 625,
    "start_time": "2023-03-04T12:00:14.432Z"
   },
   {
    "duration": 20,
    "start_time": "2023-03-04T12:00:15.058Z"
   },
   {
    "duration": 26,
    "start_time": "2023-03-04T12:00:15.079Z"
   },
   {
    "duration": 3,
    "start_time": "2023-03-04T12:00:15.106Z"
   },
   {
    "duration": 5,
    "start_time": "2023-03-04T12:00:15.111Z"
   },
   {
    "duration": 9,
    "start_time": "2023-03-04T12:00:15.140Z"
   },
   {
    "duration": 27,
    "start_time": "2023-03-04T12:00:15.151Z"
   },
   {
    "duration": 3,
    "start_time": "2023-03-04T12:00:15.179Z"
   },
   {
    "duration": 1462,
    "start_time": "2023-03-04T12:00:15.183Z"
   },
   {
    "duration": 13739,
    "start_time": "2023-03-04T12:00:16.651Z"
   },
   {
    "duration": 1396,
    "start_time": "2023-03-04T12:02:55.129Z"
   },
   {
    "duration": 674,
    "start_time": "2023-03-04T12:02:56.527Z"
   },
   {
    "duration": 3,
    "start_time": "2023-03-04T12:02:57.202Z"
   },
   {
    "duration": 382,
    "start_time": "2023-03-04T12:02:57.207Z"
   },
   {
    "duration": 172,
    "start_time": "2023-03-04T12:02:57.590Z"
   },
   {
    "duration": 352,
    "start_time": "2023-03-04T12:02:57.763Z"
   },
   {
    "duration": 3,
    "start_time": "2023-03-04T12:02:58.116Z"
   },
   {
    "duration": 8,
    "start_time": "2023-03-04T12:02:58.120Z"
   },
   {
    "duration": 12,
    "start_time": "2023-03-04T12:02:58.129Z"
   },
   {
    "duration": 8,
    "start_time": "2023-03-04T12:02:58.144Z"
   },
   {
    "duration": 15,
    "start_time": "2023-03-04T12:02:58.154Z"
   },
   {
    "duration": 5,
    "start_time": "2023-03-04T12:02:58.171Z"
   },
   {
    "duration": 4,
    "start_time": "2023-03-04T12:02:58.178Z"
   },
   {
    "duration": 15,
    "start_time": "2023-03-04T12:02:58.183Z"
   },
   {
    "duration": 1182,
    "start_time": "2023-03-04T12:02:58.200Z"
   },
   {
    "duration": 1227,
    "start_time": "2023-03-04T12:02:59.384Z"
   },
   {
    "duration": 1221,
    "start_time": "2023-03-04T12:03:00.612Z"
   },
   {
    "duration": 447,
    "start_time": "2023-03-04T12:03:01.835Z"
   },
   {
    "duration": 1108,
    "start_time": "2023-03-04T12:03:02.284Z"
   },
   {
    "duration": 8,
    "start_time": "2023-03-04T12:03:03.393Z"
   },
   {
    "duration": 7,
    "start_time": "2023-03-04T12:03:03.402Z"
   },
   {
    "duration": 549,
    "start_time": "2023-03-04T12:03:03.410Z"
   },
   {
    "duration": 538,
    "start_time": "2023-03-04T12:03:03.961Z"
   },
   {
    "duration": 618,
    "start_time": "2023-03-04T12:03:04.501Z"
   },
   {
    "duration": 26,
    "start_time": "2023-03-04T12:03:05.120Z"
   },
   {
    "duration": 25,
    "start_time": "2023-03-04T12:03:05.147Z"
   },
   {
    "duration": 3,
    "start_time": "2023-03-04T12:03:05.175Z"
   },
   {
    "duration": 4,
    "start_time": "2023-03-04T12:03:05.180Z"
   },
   {
    "duration": 11,
    "start_time": "2023-03-04T12:03:05.186Z"
   },
   {
    "duration": 31,
    "start_time": "2023-03-04T12:03:05.199Z"
   },
   {
    "duration": 3,
    "start_time": "2023-03-04T12:03:05.240Z"
   },
   {
    "duration": 1397,
    "start_time": "2023-03-04T12:03:05.245Z"
   },
   {
    "duration": 70104,
    "start_time": "2023-03-04T12:03:06.645Z"
   },
   {
    "duration": 1669,
    "start_time": "2023-03-04T16:00:42.185Z"
   },
   {
    "duration": 1967,
    "start_time": "2023-03-04T16:00:43.857Z"
   },
   {
    "duration": 4,
    "start_time": "2023-03-04T16:00:45.826Z"
   },
   {
    "duration": 432,
    "start_time": "2023-03-04T16:00:45.833Z"
   },
   {
    "duration": 185,
    "start_time": "2023-03-04T16:00:46.267Z"
   },
   {
    "duration": 390,
    "start_time": "2023-03-04T16:00:46.454Z"
   },
   {
    "duration": 3,
    "start_time": "2023-03-04T16:00:46.845Z"
   },
   {
    "duration": 18,
    "start_time": "2023-03-04T16:00:46.850Z"
   },
   {
    "duration": 5,
    "start_time": "2023-03-04T16:00:46.870Z"
   },
   {
    "duration": 8,
    "start_time": "2023-03-04T16:00:46.876Z"
   },
   {
    "duration": 34,
    "start_time": "2023-03-04T16:00:46.885Z"
   },
   {
    "duration": 7,
    "start_time": "2023-03-04T16:00:46.920Z"
   },
   {
    "duration": 4,
    "start_time": "2023-03-04T16:00:46.929Z"
   },
   {
    "duration": 22,
    "start_time": "2023-03-04T16:00:46.935Z"
   },
   {
    "duration": 1284,
    "start_time": "2023-03-04T16:00:46.959Z"
   },
   {
    "duration": 1333,
    "start_time": "2023-03-04T16:00:48.245Z"
   },
   {
    "duration": 1283,
    "start_time": "2023-03-04T16:00:49.580Z"
   },
   {
    "duration": 485,
    "start_time": "2023-03-04T16:00:50.865Z"
   },
   {
    "duration": 1167,
    "start_time": "2023-03-04T16:00:51.351Z"
   },
   {
    "duration": 9,
    "start_time": "2023-03-04T16:00:52.520Z"
   },
   {
    "duration": 9,
    "start_time": "2023-03-04T16:00:52.531Z"
   },
   {
    "duration": 590,
    "start_time": "2023-03-04T16:00:52.541Z"
   },
   {
    "duration": 565,
    "start_time": "2023-03-04T16:00:53.133Z"
   },
   {
    "duration": 802,
    "start_time": "2023-03-04T16:00:53.699Z"
   },
   {
    "duration": 29,
    "start_time": "2023-03-04T16:00:54.503Z"
   },
   {
    "duration": 27,
    "start_time": "2023-03-04T16:00:54.533Z"
   },
   {
    "duration": 4,
    "start_time": "2023-03-04T16:00:54.562Z"
   },
   {
    "duration": 5,
    "start_time": "2023-03-04T16:00:54.568Z"
   },
   {
    "duration": 11,
    "start_time": "2023-03-04T16:00:54.575Z"
   },
   {
    "duration": 24,
    "start_time": "2023-03-04T16:00:54.613Z"
   },
   {
    "duration": 3,
    "start_time": "2023-03-04T16:00:54.639Z"
   },
   {
    "duration": 1580,
    "start_time": "2023-03-04T16:00:54.643Z"
   },
   {
    "duration": 74843,
    "start_time": "2023-03-04T16:00:56.311Z"
   },
   {
    "duration": 35250,
    "start_time": "2023-03-04T16:02:11.156Z"
   },
   {
    "duration": 12360,
    "start_time": "2023-03-04T16:02:46.408Z"
   },
   {
    "duration": 0,
    "start_time": "2023-03-04T16:02:58.770Z"
   },
   {
    "duration": 0,
    "start_time": "2023-03-04T16:02:58.774Z"
   },
   {
    "duration": 1374,
    "start_time": "2023-03-04T16:08:41.335Z"
   },
   {
    "duration": 669,
    "start_time": "2023-03-04T16:08:42.711Z"
   },
   {
    "duration": 5,
    "start_time": "2023-03-04T16:08:44.295Z"
   },
   {
    "duration": 377,
    "start_time": "2023-03-04T16:08:45.615Z"
   },
   {
    "duration": 178,
    "start_time": "2023-03-04T16:08:51.571Z"
   },
   {
    "duration": 356,
    "start_time": "2023-03-04T16:08:56.094Z"
   },
   {
    "duration": 3,
    "start_time": "2023-03-04T16:09:14.712Z"
   },
   {
    "duration": 6,
    "start_time": "2023-03-04T16:09:16.279Z"
   },
   {
    "duration": 4,
    "start_time": "2023-03-04T16:09:17.786Z"
   },
   {
    "duration": 13,
    "start_time": "2023-03-04T16:09:24.128Z"
   },
   {
    "duration": 14,
    "start_time": "2023-03-04T16:09:44.920Z"
   },
   {
    "duration": 6,
    "start_time": "2023-03-04T16:09:49.905Z"
   },
   {
    "duration": 4,
    "start_time": "2023-03-04T16:09:50.274Z"
   },
   {
    "duration": 13,
    "start_time": "2023-03-04T16:09:51.114Z"
   },
   {
    "duration": 1217,
    "start_time": "2023-03-04T16:09:57.872Z"
   },
   {
    "duration": 1346,
    "start_time": "2023-03-04T16:10:05.467Z"
   },
   {
    "duration": 1311,
    "start_time": "2023-03-04T16:10:11.974Z"
   },
   {
    "duration": 1529,
    "start_time": "2023-03-04T16:10:47.095Z"
   },
   {
    "duration": 1453,
    "start_time": "2023-03-04T16:10:55.887Z"
   },
   {
    "duration": 1358,
    "start_time": "2023-03-04T16:11:06.767Z"
   },
   {
    "duration": 463,
    "start_time": "2023-03-04T16:11:24.371Z"
   },
   {
    "duration": 1006,
    "start_time": "2023-03-04T16:11:32.226Z"
   },
   {
    "duration": 9,
    "start_time": "2023-03-04T16:11:37.207Z"
   },
   {
    "duration": 7,
    "start_time": "2023-03-04T16:11:40.254Z"
   },
   {
    "duration": 720,
    "start_time": "2023-03-04T16:11:49.003Z"
   },
   {
    "duration": 552,
    "start_time": "2023-03-04T16:14:50.075Z"
   },
   {
    "duration": 534,
    "start_time": "2023-03-04T16:15:02.852Z"
   },
   {
    "duration": 696,
    "start_time": "2023-03-04T16:15:10.209Z"
   },
   {
    "duration": 22,
    "start_time": "2023-03-04T16:15:16.062Z"
   },
   {
    "duration": 24,
    "start_time": "2023-03-04T16:15:35.631Z"
   },
   {
    "duration": 26,
    "start_time": "2023-03-04T16:15:55.569Z"
   },
   {
    "duration": 5,
    "start_time": "2023-03-04T16:16:04.079Z"
   },
   {
    "duration": 8,
    "start_time": "2023-03-04T16:16:07.902Z"
   },
   {
    "duration": 24,
    "start_time": "2023-03-04T16:16:09.291Z"
   },
   {
    "duration": 2,
    "start_time": "2023-03-04T16:16:10.875Z"
   },
   {
    "duration": 2154,
    "start_time": "2023-03-04T16:16:16.658Z"
   },
   {
    "duration": 6,
    "start_time": "2023-03-04T16:17:50.593Z"
   },
   {
    "duration": 1336,
    "start_time": "2023-03-04T16:18:05.780Z"
   },
   {
    "duration": 35196,
    "start_time": "2023-03-04T16:18:35.683Z"
   },
   {
    "duration": 1442,
    "start_time": "2023-03-04T16:20:30.382Z"
   },
   {
    "duration": 632,
    "start_time": "2023-03-04T16:20:31.826Z"
   },
   {
    "duration": 4,
    "start_time": "2023-03-04T16:20:32.981Z"
   },
   {
    "duration": 384,
    "start_time": "2023-03-04T16:20:40.003Z"
   },
   {
    "duration": 166,
    "start_time": "2023-03-04T16:20:41.062Z"
   },
   {
    "duration": 366,
    "start_time": "2023-03-04T16:20:42.089Z"
   },
   {
    "duration": 3,
    "start_time": "2023-03-04T16:20:45.313Z"
   },
   {
    "duration": 6,
    "start_time": "2023-03-04T16:20:45.869Z"
   },
   {
    "duration": 5,
    "start_time": "2023-03-04T16:20:46.360Z"
   },
   {
    "duration": 8,
    "start_time": "2023-03-04T16:20:49.045Z"
   },
   {
    "duration": 14,
    "start_time": "2023-03-04T16:20:51.605Z"
   },
   {
    "duration": 8,
    "start_time": "2023-03-04T16:20:54.325Z"
   },
   {
    "duration": 4,
    "start_time": "2023-03-04T16:20:54.679Z"
   },
   {
    "duration": 13,
    "start_time": "2023-03-04T16:20:55.811Z"
   },
   {
    "duration": 1254,
    "start_time": "2023-03-04T16:21:02.058Z"
   },
   {
    "duration": 1281,
    "start_time": "2023-03-04T16:21:05.241Z"
   },
   {
    "duration": 1260,
    "start_time": "2023-03-04T16:21:08.254Z"
   },
   {
    "duration": 448,
    "start_time": "2023-03-04T16:21:14.442Z"
   },
   {
    "duration": 1174,
    "start_time": "2023-03-04T16:21:19.824Z"
   },
   {
    "duration": 9,
    "start_time": "2023-03-04T16:21:24.490Z"
   },
   {
    "duration": 8,
    "start_time": "2023-03-04T16:21:26.115Z"
   },
   {
    "duration": 534,
    "start_time": "2023-03-04T16:21:31.995Z"
   },
   {
    "duration": 567,
    "start_time": "2023-03-04T16:21:36.979Z"
   },
   {
    "duration": 644,
    "start_time": "2023-03-04T16:21:41.757Z"
   },
   {
    "duration": 27,
    "start_time": "2023-03-04T16:21:44.771Z"
   },
   {
    "duration": 25,
    "start_time": "2023-03-04T16:22:03.200Z"
   },
   {
    "duration": 5,
    "start_time": "2023-03-04T16:22:07.604Z"
   },
   {
    "duration": 8,
    "start_time": "2023-03-04T16:22:10.779Z"
   },
   {
    "duration": 23,
    "start_time": "2023-03-04T16:22:26.785Z"
   },
   {
    "duration": 3,
    "start_time": "2023-03-04T16:22:27.568Z"
   },
   {
    "duration": 1539,
    "start_time": "2023-03-04T16:22:28.775Z"
   },
   {
    "duration": 1408,
    "start_time": "2023-03-04T16:35:19.382Z"
   },
   {
    "duration": 639,
    "start_time": "2023-03-04T16:35:20.792Z"
   },
   {
    "duration": 3,
    "start_time": "2023-03-04T16:35:21.433Z"
   },
   {
    "duration": 388,
    "start_time": "2023-03-04T16:35:22.484Z"
   },
   {
    "duration": 177,
    "start_time": "2023-03-04T16:35:23.176Z"
   },
   {
    "duration": 439,
    "start_time": "2023-03-04T16:35:23.873Z"
   },
   {
    "duration": 4,
    "start_time": "2023-03-04T16:35:25.954Z"
   },
   {
    "duration": 5,
    "start_time": "2023-03-04T16:35:27.169Z"
   },
   {
    "duration": 4,
    "start_time": "2023-03-04T16:35:27.876Z"
   },
   {
    "duration": 7,
    "start_time": "2023-03-04T16:35:29.594Z"
   },
   {
    "duration": 14,
    "start_time": "2023-03-04T16:35:30.914Z"
   },
   {
    "duration": 7,
    "start_time": "2023-03-04T16:35:31.700Z"
   },
   {
    "duration": 4,
    "start_time": "2023-03-04T16:35:32.094Z"
   },
   {
    "duration": 16,
    "start_time": "2023-03-04T16:35:32.692Z"
   },
   {
    "duration": 1262,
    "start_time": "2023-03-04T16:35:34.491Z"
   },
   {
    "duration": 1335,
    "start_time": "2023-03-04T16:35:36.316Z"
   },
   {
    "duration": 1322,
    "start_time": "2023-03-04T16:35:37.652Z"
   },
   {
    "duration": 461,
    "start_time": "2023-03-04T16:35:40.036Z"
   },
   {
    "duration": 1157,
    "start_time": "2023-03-04T16:35:43.104Z"
   },
   {
    "duration": 8,
    "start_time": "2023-03-04T16:35:44.899Z"
   },
   {
    "duration": 7,
    "start_time": "2023-03-04T16:35:45.771Z"
   },
   {
    "duration": 552,
    "start_time": "2023-03-04T16:35:47.914Z"
   },
   {
    "duration": 560,
    "start_time": "2023-03-04T16:35:51.474Z"
   },
   {
    "duration": 758,
    "start_time": "2023-03-04T16:35:53.616Z"
   },
   {
    "duration": 25,
    "start_time": "2023-03-04T16:35:55.176Z"
   },
   {
    "duration": 26,
    "start_time": "2023-03-04T16:35:57.589Z"
   },
   {
    "duration": 5,
    "start_time": "2023-03-04T16:35:59.329Z"
   },
   {
    "duration": 9,
    "start_time": "2023-03-04T16:36:00.982Z"
   },
   {
    "duration": 22,
    "start_time": "2023-03-04T16:36:02.125Z"
   },
   {
    "duration": 118,
    "start_time": "2023-03-04T16:36:03.898Z"
   },
   {
    "duration": 3,
    "start_time": "2023-03-04T16:36:26.189Z"
   },
   {
    "duration": 238,
    "start_time": "2023-03-04T16:36:29.679Z"
   },
   {
    "duration": 1243,
    "start_time": "2023-03-04T16:36:49.870Z"
   },
   {
    "duration": 15187,
    "start_time": "2023-03-04T16:37:18.133Z"
   },
   {
    "duration": 13424,
    "start_time": "2023-03-04T16:37:56.585Z"
   },
   {
    "duration": 306231,
    "start_time": "2023-03-04T16:38:40.167Z"
   },
   {
    "duration": 39,
    "start_time": "2023-03-04T16:43:48.689Z"
   },
   {
    "duration": 39,
    "start_time": "2023-03-04T16:43:56.879Z"
   },
   {
    "duration": 46,
    "start_time": "2023-03-04T16:44:20.900Z"
   },
   {
    "duration": 13525,
    "start_time": "2023-03-04T16:44:54.342Z"
   },
   {
    "duration": 10206,
    "start_time": "2023-03-04T16:45:18.558Z"
   },
   {
    "duration": 333117,
    "start_time": "2023-03-04T16:45:37.131Z"
   },
   {
    "duration": 1391,
    "start_time": "2023-03-04T16:51:15.366Z"
   },
   {
    "duration": 665,
    "start_time": "2023-03-04T16:51:16.759Z"
   },
   {
    "duration": 3,
    "start_time": "2023-03-04T16:51:17.426Z"
   },
   {
    "duration": 440,
    "start_time": "2023-03-04T16:51:17.431Z"
   },
   {
    "duration": 188,
    "start_time": "2023-03-04T16:51:17.873Z"
   },
   {
    "duration": 387,
    "start_time": "2023-03-04T16:51:18.063Z"
   },
   {
    "duration": 3,
    "start_time": "2023-03-04T16:51:18.452Z"
   },
   {
    "duration": 6,
    "start_time": "2023-03-04T16:51:18.456Z"
   },
   {
    "duration": 4,
    "start_time": "2023-03-04T16:51:18.464Z"
   },
   {
    "duration": 20,
    "start_time": "2023-03-04T16:51:18.469Z"
   },
   {
    "duration": 27,
    "start_time": "2023-03-04T16:51:18.491Z"
   },
   {
    "duration": 7,
    "start_time": "2023-03-04T16:51:18.520Z"
   },
   {
    "duration": 4,
    "start_time": "2023-03-04T16:51:18.529Z"
   },
   {
    "duration": 17,
    "start_time": "2023-03-04T16:51:18.536Z"
   },
   {
    "duration": 1335,
    "start_time": "2023-03-04T16:51:18.555Z"
   },
   {
    "duration": 1322,
    "start_time": "2023-03-04T16:51:19.892Z"
   },
   {
    "duration": 1262,
    "start_time": "2023-03-04T16:51:21.216Z"
   },
   {
    "duration": 478,
    "start_time": "2023-03-04T16:51:22.480Z"
   },
   {
    "duration": 1159,
    "start_time": "2023-03-04T16:51:22.959Z"
   },
   {
    "duration": 12,
    "start_time": "2023-03-04T16:51:24.120Z"
   },
   {
    "duration": 11,
    "start_time": "2023-03-04T16:51:24.135Z"
   },
   {
    "duration": 625,
    "start_time": "2023-03-04T16:51:24.148Z"
   },
   {
    "duration": 547,
    "start_time": "2023-03-04T16:51:24.775Z"
   },
   {
    "duration": 662,
    "start_time": "2023-03-04T16:51:25.324Z"
   },
   {
    "duration": 31,
    "start_time": "2023-03-04T16:51:25.988Z"
   },
   {
    "duration": 25,
    "start_time": "2023-03-04T16:51:26.020Z"
   },
   {
    "duration": 4,
    "start_time": "2023-03-04T16:51:26.047Z"
   },
   {
    "duration": 12,
    "start_time": "2023-03-04T16:51:26.053Z"
   },
   {
    "duration": 22,
    "start_time": "2023-03-04T16:51:26.067Z"
   },
   {
    "duration": 3,
    "start_time": "2023-03-04T16:51:26.111Z"
   },
   {
    "duration": 1297,
    "start_time": "2023-03-04T16:51:26.115Z"
   },
   {
    "duration": 13564,
    "start_time": "2023-03-04T16:51:27.418Z"
   },
   {
    "duration": 441573,
    "start_time": "2023-03-04T16:51:40.984Z"
   },
   {
    "duration": 11916,
    "start_time": "2023-03-04T16:59:02.559Z"
   },
   {
    "duration": 0,
    "start_time": "2023-03-04T16:59:14.476Z"
   },
   {
    "duration": 12128,
    "start_time": "2023-03-04T17:00:28.428Z"
   },
   {
    "duration": 12889,
    "start_time": "2023-03-04T17:01:18.242Z"
   },
   {
    "duration": 1014,
    "start_time": "2023-03-04T17:06:00.308Z"
   },
   {
    "duration": 847,
    "start_time": "2023-03-04T17:07:00.185Z"
   },
   {
    "duration": 17,
    "start_time": "2023-03-04T17:07:42.439Z"
   },
   {
    "duration": 744,
    "start_time": "2023-03-04T17:12:22.969Z"
   },
   {
    "duration": 130966,
    "start_time": "2023-03-04T17:14:38.176Z"
   },
   {
    "duration": 16,
    "start_time": "2023-03-04T17:18:13.213Z"
   },
   {
    "duration": 5,
    "start_time": "2023-03-04T17:18:57.068Z"
   },
   {
    "duration": 3,
    "start_time": "2023-03-04T17:19:00.429Z"
   },
   {
    "duration": 32262,
    "start_time": "2023-03-04T17:19:08.804Z"
   },
   {
    "duration": 1420,
    "start_time": "2023-03-04T17:19:52.121Z"
   },
   {
    "duration": 3,
    "start_time": "2023-03-04T17:19:53.544Z"
   },
   {
    "duration": 774,
    "start_time": "2023-03-04T17:19:53.549Z"
   },
   {
    "duration": 5,
    "start_time": "2023-03-04T17:19:54.326Z"
   },
   {
    "duration": 538,
    "start_time": "2023-03-04T17:19:54.334Z"
   },
   {
    "duration": 246,
    "start_time": "2023-03-04T17:19:54.874Z"
   },
   {
    "duration": 502,
    "start_time": "2023-03-04T17:19:55.124Z"
   },
   {
    "duration": 3,
    "start_time": "2023-03-04T17:19:55.628Z"
   },
   {
    "duration": 8,
    "start_time": "2023-03-04T17:19:55.632Z"
   },
   {
    "duration": 4,
    "start_time": "2023-03-04T17:19:55.642Z"
   },
   {
    "duration": 7,
    "start_time": "2023-03-04T17:19:55.649Z"
   },
   {
    "duration": 15,
    "start_time": "2023-03-04T17:19:55.658Z"
   },
   {
    "duration": 38,
    "start_time": "2023-03-04T17:19:55.674Z"
   },
   {
    "duration": 12,
    "start_time": "2023-03-04T17:19:55.715Z"
   },
   {
    "duration": 16,
    "start_time": "2023-03-04T17:19:55.729Z"
   },
   {
    "duration": 1321,
    "start_time": "2023-03-04T17:19:55.746Z"
   },
   {
    "duration": 1402,
    "start_time": "2023-03-04T17:19:57.069Z"
   },
   {
    "duration": 1412,
    "start_time": "2023-03-04T17:19:58.473Z"
   },
   {
    "duration": 491,
    "start_time": "2023-03-04T17:19:59.887Z"
   },
   {
    "duration": 1174,
    "start_time": "2023-03-04T17:20:00.380Z"
   },
   {
    "duration": 8,
    "start_time": "2023-03-04T17:20:01.555Z"
   },
   {
    "duration": 28,
    "start_time": "2023-03-04T17:20:01.565Z"
   },
   {
    "duration": 583,
    "start_time": "2023-03-04T17:20:01.595Z"
   },
   {
    "duration": 586,
    "start_time": "2023-03-04T17:20:02.180Z"
   },
   {
    "duration": 710,
    "start_time": "2023-03-04T17:20:02.768Z"
   },
   {
    "duration": 45,
    "start_time": "2023-03-04T17:20:03.481Z"
   },
   {
    "duration": 27,
    "start_time": "2023-03-04T17:20:03.528Z"
   },
   {
    "duration": 4,
    "start_time": "2023-03-04T17:20:03.557Z"
   },
   {
    "duration": 18,
    "start_time": "2023-03-04T17:20:03.563Z"
   },
   {
    "duration": 37,
    "start_time": "2023-03-04T17:20:03.583Z"
   },
   {
    "duration": 3,
    "start_time": "2023-03-04T17:20:03.626Z"
   },
   {
    "duration": 2280,
    "start_time": "2023-03-04T17:20:03.631Z"
   },
   {
    "duration": 13872,
    "start_time": "2023-03-04T17:20:05.913Z"
   },
   {
    "duration": 3,
    "start_time": "2023-03-04T17:20:19.787Z"
   },
   {
    "duration": 1465,
    "start_time": "2023-03-04T17:24:09.896Z"
   },
   {
    "duration": 3,
    "start_time": "2023-03-04T17:24:11.363Z"
   },
   {
    "duration": 717,
    "start_time": "2023-03-04T17:24:11.368Z"
   },
   {
    "duration": 5,
    "start_time": "2023-03-04T17:24:12.086Z"
   },
   {
    "duration": 514,
    "start_time": "2023-03-04T17:24:12.093Z"
   },
   {
    "duration": 222,
    "start_time": "2023-03-04T17:24:12.623Z"
   },
   {
    "duration": 479,
    "start_time": "2023-03-04T17:24:12.846Z"
   },
   {
    "duration": 3,
    "start_time": "2023-03-04T17:24:13.327Z"
   },
   {
    "duration": 7,
    "start_time": "2023-03-04T17:24:13.331Z"
   },
   {
    "duration": 4,
    "start_time": "2023-03-04T17:24:13.339Z"
   },
   {
    "duration": 9,
    "start_time": "2023-03-04T17:24:13.345Z"
   },
   {
    "duration": 14,
    "start_time": "2023-03-04T17:24:13.356Z"
   },
   {
    "duration": 48,
    "start_time": "2023-03-04T17:24:13.372Z"
   },
   {
    "duration": 4,
    "start_time": "2023-03-04T17:24:13.427Z"
   },
   {
    "duration": 18,
    "start_time": "2023-03-04T17:24:13.433Z"
   },
   {
    "duration": 1416,
    "start_time": "2023-03-04T17:24:13.452Z"
   },
   {
    "duration": 1364,
    "start_time": "2023-03-04T17:24:14.870Z"
   },
   {
    "duration": 1359,
    "start_time": "2023-03-04T17:24:16.236Z"
   },
   {
    "duration": 528,
    "start_time": "2023-03-04T17:24:17.597Z"
   },
   {
    "duration": 1196,
    "start_time": "2023-03-04T17:24:18.127Z"
   },
   {
    "duration": 11,
    "start_time": "2023-03-04T17:24:19.325Z"
   },
   {
    "duration": 8,
    "start_time": "2023-03-04T17:24:19.338Z"
   },
   {
    "duration": 615,
    "start_time": "2023-03-04T17:24:19.347Z"
   },
   {
    "duration": 565,
    "start_time": "2023-03-04T17:24:19.964Z"
   },
   {
    "duration": 721,
    "start_time": "2023-03-04T17:24:20.530Z"
   },
   {
    "duration": 23,
    "start_time": "2023-03-04T17:24:21.253Z"
   },
   {
    "duration": 48,
    "start_time": "2023-03-04T17:24:21.277Z"
   },
   {
    "duration": 4,
    "start_time": "2023-03-04T17:24:21.327Z"
   },
   {
    "duration": 15,
    "start_time": "2023-03-04T17:24:21.333Z"
   },
   {
    "duration": 44,
    "start_time": "2023-03-04T17:24:21.350Z"
   },
   {
    "duration": 3,
    "start_time": "2023-03-04T17:24:21.395Z"
   },
   {
    "duration": 1921,
    "start_time": "2023-03-04T17:24:21.399Z"
   },
   {
    "duration": 14007,
    "start_time": "2023-03-04T17:24:23.322Z"
   },
   {
    "duration": 43211,
    "start_time": "2023-03-04T17:24:37.331Z"
   },
   {
    "duration": 113,
    "start_time": "2023-03-04T17:25:20.544Z"
   },
   {
    "duration": 0,
    "start_time": "2023-03-04T17:25:20.659Z"
   },
   {
    "duration": 0,
    "start_time": "2023-03-04T17:25:20.660Z"
   },
   {
    "duration": 0,
    "start_time": "2023-03-04T17:25:20.661Z"
   },
   {
    "duration": 0,
    "start_time": "2023-03-04T17:25:20.662Z"
   },
   {
    "duration": 28023,
    "start_time": "2023-03-04T17:25:45.960Z"
   },
   {
    "duration": 2866,
    "start_time": "2023-03-04T17:26:31.933Z"
   },
   {
    "duration": 34967,
    "start_time": "2023-03-04T17:27:09.567Z"
   },
   {
    "duration": 1895,
    "start_time": "2023-03-04T17:27:49.369Z"
   },
   {
    "duration": 277301,
    "start_time": "2023-03-04T17:27:57.937Z"
   },
   {
    "duration": 1092476,
    "start_time": "2023-03-04T17:32:40.259Z"
   },
   {
    "duration": 74070,
    "start_time": "2023-03-04T17:52:55.566Z"
   },
   {
    "duration": 179,
    "start_time": "2023-03-04T17:54:13.635Z"
   },
   {
    "duration": 8,
    "start_time": "2023-03-04T17:54:20.165Z"
   },
   {
    "duration": 15,
    "start_time": "2023-03-04T17:55:06.156Z"
   },
   {
    "duration": 7,
    "start_time": "2023-03-04T17:55:37.301Z"
   },
   {
    "duration": 6,
    "start_time": "2023-03-04T17:56:18.652Z"
   },
   {
    "duration": 1523,
    "start_time": "2023-03-04T17:56:59.141Z"
   },
   {
    "duration": 3,
    "start_time": "2023-03-04T17:57:00.666Z"
   },
   {
    "duration": 833,
    "start_time": "2023-03-04T17:57:00.670Z"
   },
   {
    "duration": 17,
    "start_time": "2023-03-04T17:57:01.505Z"
   },
   {
    "duration": 522,
    "start_time": "2023-03-04T17:57:01.535Z"
   },
   {
    "duration": 245,
    "start_time": "2023-03-04T17:57:02.059Z"
   },
   {
    "duration": 501,
    "start_time": "2023-03-04T17:57:02.305Z"
   },
   {
    "duration": 13,
    "start_time": "2023-03-04T17:57:02.812Z"
   },
   {
    "duration": 8,
    "start_time": "2023-03-04T17:57:02.831Z"
   },
   {
    "duration": 5,
    "start_time": "2023-03-04T17:57:02.841Z"
   },
   {
    "duration": 9,
    "start_time": "2023-03-04T17:57:02.847Z"
   },
   {
    "duration": 16,
    "start_time": "2023-03-04T17:57:02.857Z"
   },
   {
    "duration": 16,
    "start_time": "2023-03-04T17:57:02.875Z"
   },
   {
    "duration": 19,
    "start_time": "2023-03-04T17:57:02.894Z"
   },
   {
    "duration": 21,
    "start_time": "2023-03-04T17:57:02.919Z"
   },
   {
    "duration": 1426,
    "start_time": "2023-03-04T17:57:02.943Z"
   },
   {
    "duration": 1477,
    "start_time": "2023-03-04T17:57:04.371Z"
   },
   {
    "duration": 1322,
    "start_time": "2023-03-04T17:57:05.850Z"
   },
   {
    "duration": 493,
    "start_time": "2023-03-04T17:57:07.173Z"
   },
   {
    "duration": 1186,
    "start_time": "2023-03-04T17:57:07.667Z"
   },
   {
    "duration": 9,
    "start_time": "2023-03-04T17:57:08.855Z"
   },
   {
    "duration": 8,
    "start_time": "2023-03-04T17:57:08.866Z"
   },
   {
    "duration": 627,
    "start_time": "2023-03-04T17:57:08.876Z"
   },
   {
    "duration": 626,
    "start_time": "2023-03-04T17:57:09.505Z"
   },
   {
    "duration": 765,
    "start_time": "2023-03-04T17:57:10.136Z"
   },
   {
    "duration": 37,
    "start_time": "2023-03-04T17:57:10.912Z"
   },
   {
    "duration": 28,
    "start_time": "2023-03-04T17:57:10.951Z"
   },
   {
    "duration": 6,
    "start_time": "2023-03-04T17:57:10.980Z"
   },
   {
    "duration": 39,
    "start_time": "2023-03-04T17:57:10.989Z"
   },
   {
    "duration": 28,
    "start_time": "2023-03-04T17:57:11.032Z"
   },
   {
    "duration": 3,
    "start_time": "2023-03-04T17:57:11.062Z"
   },
   {
    "duration": 2951,
    "start_time": "2023-03-04T17:57:11.067Z"
   },
   {
    "duration": 33099,
    "start_time": "2023-03-04T17:57:14.020Z"
   },
   {
    "duration": 1928,
    "start_time": "2023-03-04T17:57:47.127Z"
   },
   {
    "duration": 141435,
    "start_time": "2023-03-04T17:57:49.057Z"
   },
   {
    "duration": 45835,
    "start_time": "2023-03-04T18:00:10.494Z"
   },
   {
    "duration": 222,
    "start_time": "2023-03-04T18:00:56.330Z"
   },
   {
    "duration": 11,
    "start_time": "2023-03-04T18:00:56.614Z"
   },
   {
    "duration": 34442,
    "start_time": "2023-03-04T18:00:56.638Z"
   },
   {
    "duration": 1470,
    "start_time": "2023-03-04T18:02:02.581Z"
   },
   {
    "duration": 3,
    "start_time": "2023-03-04T18:02:04.053Z"
   },
   {
    "duration": 816,
    "start_time": "2023-03-04T18:02:04.058Z"
   },
   {
    "duration": 3,
    "start_time": "2023-03-04T18:02:04.876Z"
   },
   {
    "duration": 561,
    "start_time": "2023-03-04T18:02:04.881Z"
   },
   {
    "duration": 231,
    "start_time": "2023-03-04T18:02:05.444Z"
   },
   {
    "duration": 495,
    "start_time": "2023-03-04T18:02:05.676Z"
   },
   {
    "duration": 3,
    "start_time": "2023-03-04T18:02:06.172Z"
   },
   {
    "duration": 9,
    "start_time": "2023-03-04T18:02:06.176Z"
   },
   {
    "duration": 4,
    "start_time": "2023-03-04T18:02:06.186Z"
   },
   {
    "duration": 30,
    "start_time": "2023-03-04T18:02:06.192Z"
   },
   {
    "duration": 19,
    "start_time": "2023-03-04T18:02:06.224Z"
   },
   {
    "duration": 10,
    "start_time": "2023-03-04T18:02:06.245Z"
   },
   {
    "duration": 4,
    "start_time": "2023-03-04T18:02:06.258Z"
   },
   {
    "duration": 17,
    "start_time": "2023-03-04T18:02:06.264Z"
   },
   {
    "duration": 1414,
    "start_time": "2023-03-04T18:02:06.284Z"
   },
   {
    "duration": 1384,
    "start_time": "2023-03-04T18:02:07.699Z"
   },
   {
    "duration": 1395,
    "start_time": "2023-03-04T18:02:09.085Z"
   },
   {
    "duration": 516,
    "start_time": "2023-03-04T18:02:10.482Z"
   },
   {
    "duration": 1184,
    "start_time": "2023-03-04T18:02:11.000Z"
   },
   {
    "duration": 8,
    "start_time": "2023-03-04T18:02:12.186Z"
   },
   {
    "duration": 26,
    "start_time": "2023-03-04T18:02:12.196Z"
   },
   {
    "duration": 620,
    "start_time": "2023-03-04T18:02:12.228Z"
   },
   {
    "duration": 616,
    "start_time": "2023-03-04T18:02:12.850Z"
   },
   {
    "duration": 789,
    "start_time": "2023-03-04T18:02:13.469Z"
   },
   {
    "duration": 29,
    "start_time": "2023-03-04T18:02:14.260Z"
   },
   {
    "duration": 51,
    "start_time": "2023-03-04T18:02:14.292Z"
   },
   {
    "duration": 11,
    "start_time": "2023-03-04T18:02:14.345Z"
   },
   {
    "duration": 10,
    "start_time": "2023-03-04T18:02:14.359Z"
   },
   {
    "duration": 41,
    "start_time": "2023-03-04T18:02:14.371Z"
   },
   {
    "duration": 6,
    "start_time": "2023-03-04T18:02:14.414Z"
   },
   {
    "duration": 4082,
    "start_time": "2023-03-04T18:02:14.430Z"
   },
   {
    "duration": 32485,
    "start_time": "2023-03-04T18:02:18.515Z"
   },
   {
    "duration": 1647,
    "start_time": "2023-03-04T18:02:51.002Z"
   },
   {
    "duration": 2376699,
    "start_time": "2023-03-04T18:02:52.651Z"
   },
   {
    "duration": 44191,
    "start_time": "2023-03-04T18:42:29.352Z"
   },
   {
    "duration": 472,
    "start_time": "2023-03-04T18:43:13.545Z"
   },
   {
    "duration": 99,
    "start_time": "2023-03-04T18:43:14.023Z"
   },
   {
    "duration": 187746,
    "start_time": "2023-03-04T19:00:47.424Z"
   },
   {
    "duration": 40105,
    "start_time": "2023-03-04T19:04:00.244Z"
   },
   {
    "duration": 319,
    "start_time": "2023-03-04T19:04:45.893Z"
   },
   {
    "duration": 200887,
    "start_time": "2023-03-04T19:05:05.896Z"
   },
   {
    "duration": 10,
    "start_time": "2023-03-04T19:11:45.040Z"
   },
   {
    "duration": 5,
    "start_time": "2023-03-04T19:12:14.008Z"
   },
   {
    "duration": 1797,
    "start_time": "2023-03-04T19:12:23.630Z"
   },
   {
    "duration": 414,
    "start_time": "2023-03-04T19:12:45.299Z"
   },
   {
    "duration": 174,
    "start_time": "2023-03-04T19:13:39.040Z"
   }
  ],
  "kernelspec": {
   "display_name": "Python 3 (ipykernel)",
   "language": "python",
   "name": "python3"
  },
  "language_info": {
   "codemirror_mode": {
    "name": "ipython",
    "version": 3
   },
   "file_extension": ".py",
   "mimetype": "text/x-python",
   "name": "python",
   "nbconvert_exporter": "python",
   "pygments_lexer": "ipython3",
   "version": "3.11.4"
  },
  "toc": {
   "base_numbering": 1,
   "nav_menu": {},
   "number_sections": true,
   "sideBar": true,
   "skip_h1_title": true,
   "title_cell": "Содержание",
   "title_sidebar": "Contents",
   "toc_cell": true,
   "toc_position": {},
   "toc_section_display": true,
   "toc_window_display": true
  }
 },
 "nbformat": 4,
 "nbformat_minor": 2
}
